{
 "cells": [
  {
   "cell_type": "code",
   "execution_count": 70,
   "metadata": {},
   "outputs": [],
   "source": [
    "import pandas as pd\n",
    "import statsmodels.api as sm\n",
    "from sklearn.linear_model import LinearRegression\n",
    "from sklearn.preprocessing import MinMaxScaler\n",
    "from sklearn.preprocessing import StandardScaler\n",
    "\n",
    "import numpy as np\n",
    "\n",
    "from linearmodels.panel import PanelOLS\n",
    "import datetime as dt"
   ]
  },
  {
   "attachments": {},
   "cell_type": "markdown",
   "metadata": {},
   "source": [
    "# Characteristcs OLS\n",
    "\n",
    "Professor said we should start with a regular OLS Regression.\n",
    "I quickly looked into this and think a random effects panel regression would probably fit our data better (still need to read more into this)\n",
    "So probably we can first do a regular OLS and than compare it to the random effects panel regression. Just some initial thoughts though!!!\n",
    "Here is some intial code to run them:\n"
   ]
  },
  {
   "cell_type": "code",
   "execution_count": 71,
   "metadata": {},
   "outputs": [
    {
     "data": {
      "text/plain": "     Instrument        Date  Earnings Per Share - Actual Surprise  \\\n0       POOL.OQ  2022-10-01                                 4.196   \n1       POOL.OQ  2022-07-01                                 1.503   \n2       POOL.OQ  2022-04-01                                34.342   \n3       POOL.OQ  2022-01-01                                40.267   \n4       POOL.OQ  2021-10-01                                17.194   \n...         ...         ...                                   ...   \n2485      AVY.N  2022-10-01                                -0.131   \n2486      AVY.N  2022-07-01                                11.635   \n2487      AVY.N  2022-04-01                                10.595   \n2488      AVY.N  2022-01-01                                 0.294   \n2489      AVY.N  2021-10-01                                 4.784   \n\n      Revenue - Actual  Enterprise Value  Market Capitalization  \\\n0         1.615339e+09      1.406160e+10           1.259813e+10   \n1         2.055818e+09      1.556187e+10           1.405795e+10   \n2         1.412650e+09      1.843682e+10           1.696712e+10   \n3         1.035557e+09      2.384882e+10           2.268979e+10   \n4         1.411448e+09      1.769954e+10           1.742020e+10   \n...                ...               ...                    ...   \n2485      2.317100e+09      1.622502e+10           1.322042e+10   \n2486      2.347000e+09      1.650430e+10           1.343710e+10   \n2487      2.349300e+09      1.753708e+10           1.441548e+10   \n2488      2.183200e+09      2.087304e+10           1.793104e+10   \n2489      2.071800e+09      2.036822e+10           1.737642e+10   \n\n      Enterprise Value To Sales (Daily Time Series Ratio)  loss firm status  \n0                                              2.383926                  -1  \n1                                              2.749481                  -1  \n2                                              3.422880                  -1  \n3                                              4.504382                  -1  \n4                                              3.684400                  -1  \n...                                                 ...                 ...  \n2485                                           1.819581                  -1  \n2486                                           1.877800                  -1  \n2487                                           2.053846                  -1  \n2488                                           2.546597                  -1  \n2489                                           2.398382                  -1  \n\n[2490 rows x 8 columns]",
      "text/html": "<div>\n<style scoped>\n    .dataframe tbody tr th:only-of-type {\n        vertical-align: middle;\n    }\n\n    .dataframe tbody tr th {\n        vertical-align: top;\n    }\n\n    .dataframe thead th {\n        text-align: right;\n    }\n</style>\n<table border=\"1\" class=\"dataframe\">\n  <thead>\n    <tr style=\"text-align: right;\">\n      <th></th>\n      <th>Instrument</th>\n      <th>Date</th>\n      <th>Earnings Per Share - Actual Surprise</th>\n      <th>Revenue - Actual</th>\n      <th>Enterprise Value</th>\n      <th>Market Capitalization</th>\n      <th>Enterprise Value To Sales (Daily Time Series Ratio)</th>\n      <th>loss firm status</th>\n    </tr>\n  </thead>\n  <tbody>\n    <tr>\n      <th>0</th>\n      <td>POOL.OQ</td>\n      <td>2022-10-01</td>\n      <td>4.196</td>\n      <td>1.615339e+09</td>\n      <td>1.406160e+10</td>\n      <td>1.259813e+10</td>\n      <td>2.383926</td>\n      <td>-1</td>\n    </tr>\n    <tr>\n      <th>1</th>\n      <td>POOL.OQ</td>\n      <td>2022-07-01</td>\n      <td>1.503</td>\n      <td>2.055818e+09</td>\n      <td>1.556187e+10</td>\n      <td>1.405795e+10</td>\n      <td>2.749481</td>\n      <td>-1</td>\n    </tr>\n    <tr>\n      <th>2</th>\n      <td>POOL.OQ</td>\n      <td>2022-04-01</td>\n      <td>34.342</td>\n      <td>1.412650e+09</td>\n      <td>1.843682e+10</td>\n      <td>1.696712e+10</td>\n      <td>3.422880</td>\n      <td>-1</td>\n    </tr>\n    <tr>\n      <th>3</th>\n      <td>POOL.OQ</td>\n      <td>2022-01-01</td>\n      <td>40.267</td>\n      <td>1.035557e+09</td>\n      <td>2.384882e+10</td>\n      <td>2.268979e+10</td>\n      <td>4.504382</td>\n      <td>-1</td>\n    </tr>\n    <tr>\n      <th>4</th>\n      <td>POOL.OQ</td>\n      <td>2021-10-01</td>\n      <td>17.194</td>\n      <td>1.411448e+09</td>\n      <td>1.769954e+10</td>\n      <td>1.742020e+10</td>\n      <td>3.684400</td>\n      <td>-1</td>\n    </tr>\n    <tr>\n      <th>...</th>\n      <td>...</td>\n      <td>...</td>\n      <td>...</td>\n      <td>...</td>\n      <td>...</td>\n      <td>...</td>\n      <td>...</td>\n      <td>...</td>\n    </tr>\n    <tr>\n      <th>2485</th>\n      <td>AVY.N</td>\n      <td>2022-10-01</td>\n      <td>-0.131</td>\n      <td>2.317100e+09</td>\n      <td>1.622502e+10</td>\n      <td>1.322042e+10</td>\n      <td>1.819581</td>\n      <td>-1</td>\n    </tr>\n    <tr>\n      <th>2486</th>\n      <td>AVY.N</td>\n      <td>2022-07-01</td>\n      <td>11.635</td>\n      <td>2.347000e+09</td>\n      <td>1.650430e+10</td>\n      <td>1.343710e+10</td>\n      <td>1.877800</td>\n      <td>-1</td>\n    </tr>\n    <tr>\n      <th>2487</th>\n      <td>AVY.N</td>\n      <td>2022-04-01</td>\n      <td>10.595</td>\n      <td>2.349300e+09</td>\n      <td>1.753708e+10</td>\n      <td>1.441548e+10</td>\n      <td>2.053846</td>\n      <td>-1</td>\n    </tr>\n    <tr>\n      <th>2488</th>\n      <td>AVY.N</td>\n      <td>2022-01-01</td>\n      <td>0.294</td>\n      <td>2.183200e+09</td>\n      <td>2.087304e+10</td>\n      <td>1.793104e+10</td>\n      <td>2.546597</td>\n      <td>-1</td>\n    </tr>\n    <tr>\n      <th>2489</th>\n      <td>AVY.N</td>\n      <td>2021-10-01</td>\n      <td>4.784</td>\n      <td>2.071800e+09</td>\n      <td>2.036822e+10</td>\n      <td>1.737642e+10</td>\n      <td>2.398382</td>\n      <td>-1</td>\n    </tr>\n  </tbody>\n</table>\n<p>2490 rows × 8 columns</p>\n</div>"
     },
     "execution_count": 71,
     "metadata": {},
     "output_type": "execute_result"
    }
   ],
   "source": [
    "#decide which df to use\n",
    "df = pd.read_csv(\"Dataframes/characteristics.csv\")\n",
    "#df = df.loc[:, [\"Instrument\", \"Date\", \"Earnings Per Share - Actual Surprise\", \"Revenue - Actual\", \"Net Income after Tax\"]]\n",
    "\n",
    "df"
   ]
  },
  {
   "attachments": {},
   "cell_type": "markdown",
   "metadata": {},
   "source": [
    "#### OLS Regression"
   ]
  },
  {
   "cell_type": "code",
   "execution_count": 72,
   "outputs": [
    {
     "data": {
      "text/plain": "loss firm status\n-1    2267\n 1     138\ndtype: int64"
     },
     "execution_count": 72,
     "metadata": {},
     "output_type": "execute_result"
    }
   ],
   "source": [
    "#identifying outliers and replacing them with NA\n",
    "summary_stats = df[\"Earnings Per Share - Actual Surprise\"].describe()\n",
    "Q1 = summary_stats.loc['25%']\n",
    "Q3 = summary_stats.loc['75%']\n",
    "IQR = Q3 - Q1\n",
    "threshold = 7 #1.5 is standard threshold but we still want to keep enough variation in the data so setting threshol higher here\n",
    "surprise_outliers_removed = df[\"Earnings Per Share - Actual Surprise\"].loc[~((df[\"Earnings Per Share - Actual Surprise\"] < (Q1 - threshold * IQR)) | (df[\"Earnings Per Share - Actual Surprise\"] > (Q3 + threshold * IQR)))]\n",
    "df_accuracy_new = df.copy()\n",
    "df_accuracy_new[\"Earnings Per Share - Actual Surprise\"] = surprise_outliers_removed\n",
    "df_accuracy_new = df_accuracy_new.dropna(subset=[\"Earnings Per Share - Actual Surprise\"])\n",
    "#df_accuracy_new[\"Recommendation - Mean (1-5)\"] = df_accuracy_new[\"Recommendation - Mean (1-5)\"].fillna(0)\n",
    "df_accuracy_new = df_accuracy_new.dropna()\n",
    "df_accuracy_new.value_counts(\"loss firm status\")\n"
   ],
   "metadata": {
    "collapsed": false
   }
  },
  {
   "cell_type": "code",
   "execution_count": 73,
   "outputs": [
    {
     "data": {
      "text/plain": "     Instrument        Date  Earnings Per Share - Actual Surprise  \\\n0       POOL.OQ  2022-10-01                                 4.196   \n1       POOL.OQ  2022-07-01                                 1.503   \n2       POOL.OQ  2022-04-01                                34.342   \n3       POOL.OQ  2022-01-01                                40.267   \n4       POOL.OQ  2021-10-01                                17.194   \n...         ...         ...                                   ...   \n2485      AVY.N  2022-10-01                                -0.131   \n2486      AVY.N  2022-07-01                                11.635   \n2487      AVY.N  2022-04-01                                10.595   \n2488      AVY.N  2022-01-01                                 0.294   \n2489      AVY.N  2021-10-01                                 4.784   \n\n      Revenue - Actual  Enterprise Value  Market Capitalization  \\\n0         1.615339e+09      1.406160e+10           1.259813e+10   \n1         2.055818e+09      1.556187e+10           1.405795e+10   \n2         1.412650e+09      1.843682e+10           1.696712e+10   \n3         1.035557e+09      2.384882e+10           2.268979e+10   \n4         1.411448e+09      1.769954e+10           1.742020e+10   \n...                ...               ...                    ...   \n2485      2.317100e+09      1.622502e+10           1.322042e+10   \n2486      2.347000e+09      1.650430e+10           1.343710e+10   \n2487      2.349300e+09      1.753708e+10           1.441548e+10   \n2488      2.183200e+09      2.087304e+10           1.793104e+10   \n2489      2.071800e+09      2.036822e+10           1.737642e+10   \n\n      Enterprise Value To Sales (Daily Time Series Ratio)  loss firm status  \n0                                              2.383926                  -1  \n1                                              2.749481                  -1  \n2                                              3.422880                  -1  \n3                                              4.504382                  -1  \n4                                              3.684400                  -1  \n...                                                 ...                 ...  \n2485                                           1.819581                  -1  \n2486                                           1.877800                  -1  \n2487                                           2.053846                  -1  \n2488                                           2.546597                  -1  \n2489                                           2.398382                  -1  \n\n[2405 rows x 8 columns]",
      "text/html": "<div>\n<style scoped>\n    .dataframe tbody tr th:only-of-type {\n        vertical-align: middle;\n    }\n\n    .dataframe tbody tr th {\n        vertical-align: top;\n    }\n\n    .dataframe thead th {\n        text-align: right;\n    }\n</style>\n<table border=\"1\" class=\"dataframe\">\n  <thead>\n    <tr style=\"text-align: right;\">\n      <th></th>\n      <th>Instrument</th>\n      <th>Date</th>\n      <th>Earnings Per Share - Actual Surprise</th>\n      <th>Revenue - Actual</th>\n      <th>Enterprise Value</th>\n      <th>Market Capitalization</th>\n      <th>Enterprise Value To Sales (Daily Time Series Ratio)</th>\n      <th>loss firm status</th>\n    </tr>\n  </thead>\n  <tbody>\n    <tr>\n      <th>0</th>\n      <td>POOL.OQ</td>\n      <td>2022-10-01</td>\n      <td>4.196</td>\n      <td>1.615339e+09</td>\n      <td>1.406160e+10</td>\n      <td>1.259813e+10</td>\n      <td>2.383926</td>\n      <td>-1</td>\n    </tr>\n    <tr>\n      <th>1</th>\n      <td>POOL.OQ</td>\n      <td>2022-07-01</td>\n      <td>1.503</td>\n      <td>2.055818e+09</td>\n      <td>1.556187e+10</td>\n      <td>1.405795e+10</td>\n      <td>2.749481</td>\n      <td>-1</td>\n    </tr>\n    <tr>\n      <th>2</th>\n      <td>POOL.OQ</td>\n      <td>2022-04-01</td>\n      <td>34.342</td>\n      <td>1.412650e+09</td>\n      <td>1.843682e+10</td>\n      <td>1.696712e+10</td>\n      <td>3.422880</td>\n      <td>-1</td>\n    </tr>\n    <tr>\n      <th>3</th>\n      <td>POOL.OQ</td>\n      <td>2022-01-01</td>\n      <td>40.267</td>\n      <td>1.035557e+09</td>\n      <td>2.384882e+10</td>\n      <td>2.268979e+10</td>\n      <td>4.504382</td>\n      <td>-1</td>\n    </tr>\n    <tr>\n      <th>4</th>\n      <td>POOL.OQ</td>\n      <td>2021-10-01</td>\n      <td>17.194</td>\n      <td>1.411448e+09</td>\n      <td>1.769954e+10</td>\n      <td>1.742020e+10</td>\n      <td>3.684400</td>\n      <td>-1</td>\n    </tr>\n    <tr>\n      <th>...</th>\n      <td>...</td>\n      <td>...</td>\n      <td>...</td>\n      <td>...</td>\n      <td>...</td>\n      <td>...</td>\n      <td>...</td>\n      <td>...</td>\n    </tr>\n    <tr>\n      <th>2485</th>\n      <td>AVY.N</td>\n      <td>2022-10-01</td>\n      <td>-0.131</td>\n      <td>2.317100e+09</td>\n      <td>1.622502e+10</td>\n      <td>1.322042e+10</td>\n      <td>1.819581</td>\n      <td>-1</td>\n    </tr>\n    <tr>\n      <th>2486</th>\n      <td>AVY.N</td>\n      <td>2022-07-01</td>\n      <td>11.635</td>\n      <td>2.347000e+09</td>\n      <td>1.650430e+10</td>\n      <td>1.343710e+10</td>\n      <td>1.877800</td>\n      <td>-1</td>\n    </tr>\n    <tr>\n      <th>2487</th>\n      <td>AVY.N</td>\n      <td>2022-04-01</td>\n      <td>10.595</td>\n      <td>2.349300e+09</td>\n      <td>1.753708e+10</td>\n      <td>1.441548e+10</td>\n      <td>2.053846</td>\n      <td>-1</td>\n    </tr>\n    <tr>\n      <th>2488</th>\n      <td>AVY.N</td>\n      <td>2022-01-01</td>\n      <td>0.294</td>\n      <td>2.183200e+09</td>\n      <td>2.087304e+10</td>\n      <td>1.793104e+10</td>\n      <td>2.546597</td>\n      <td>-1</td>\n    </tr>\n    <tr>\n      <th>2489</th>\n      <td>AVY.N</td>\n      <td>2021-10-01</td>\n      <td>4.784</td>\n      <td>2.071800e+09</td>\n      <td>2.036822e+10</td>\n      <td>1.737642e+10</td>\n      <td>2.398382</td>\n      <td>-1</td>\n    </tr>\n  </tbody>\n</table>\n<p>2405 rows × 8 columns</p>\n</div>"
     },
     "execution_count": 73,
     "metadata": {},
     "output_type": "execute_result"
    }
   ],
   "source": [
    "df_accuracy_new"
   ],
   "metadata": {
    "collapsed": false
   }
  },
  {
   "cell_type": "code",
   "execution_count": 75,
   "outputs": [
    {
     "data": {
      "text/plain": "     Instrument        Date  Earnings Per Share - Actual Surprise  \\\n0       POOL.OQ  2022-10-01                                 4.196   \n1       POOL.OQ  2022-07-01                                 1.503   \n2       POOL.OQ  2022-04-01                                34.342   \n3       POOL.OQ  2022-01-01                                40.267   \n4       POOL.OQ  2021-10-01                                17.194   \n...         ...         ...                                   ...   \n2485      AVY.N  2022-10-01                                -0.131   \n2486      AVY.N  2022-07-01                                11.635   \n2487      AVY.N  2022-04-01                                10.595   \n2488      AVY.N  2022-01-01                                 0.294   \n2489      AVY.N  2021-10-01                                 4.784   \n\n      Revenue - Actual  Enterprise Value  Market Capitalization  \\\n0             0.010538          0.026228               0.002749   \n1             0.013420          0.026725               0.003255   \n2             0.009212          0.027679               0.004262   \n3             0.006746          0.029473               0.006244   \n4             0.009205          0.027434               0.004419   \n...                ...               ...                    ...   \n2485          0.015129          0.026945               0.002964   \n2486          0.015325          0.027038               0.003040   \n2487          0.015340          0.027380               0.003378   \n2488          0.014253          0.028486               0.004596   \n2489          0.013524          0.028319               0.004404   \n\n      Enterprise Value To Sales (Daily Time Series Ratio)  loss firm status  \n0                                              0.029064                  -1  \n1                                              0.029495                  -1  \n2                                              0.030290                  -1  \n3                                              0.031566                  -1  \n4                                              0.030598                  -1  \n...                                                 ...                 ...  \n2485                                           0.028398                  -1  \n2486                                           0.028467                  -1  \n2487                                           0.028675                  -1  \n2488                                           0.029256                  -1  \n2489                                           0.029081                  -1  \n\n[2405 rows x 8 columns]",
      "text/html": "<div>\n<style scoped>\n    .dataframe tbody tr th:only-of-type {\n        vertical-align: middle;\n    }\n\n    .dataframe tbody tr th {\n        vertical-align: top;\n    }\n\n    .dataframe thead th {\n        text-align: right;\n    }\n</style>\n<table border=\"1\" class=\"dataframe\">\n  <thead>\n    <tr style=\"text-align: right;\">\n      <th></th>\n      <th>Instrument</th>\n      <th>Date</th>\n      <th>Earnings Per Share - Actual Surprise</th>\n      <th>Revenue - Actual</th>\n      <th>Enterprise Value</th>\n      <th>Market Capitalization</th>\n      <th>Enterprise Value To Sales (Daily Time Series Ratio)</th>\n      <th>loss firm status</th>\n    </tr>\n  </thead>\n  <tbody>\n    <tr>\n      <th>0</th>\n      <td>POOL.OQ</td>\n      <td>2022-10-01</td>\n      <td>4.196</td>\n      <td>0.010538</td>\n      <td>0.026228</td>\n      <td>0.002749</td>\n      <td>0.029064</td>\n      <td>-1</td>\n    </tr>\n    <tr>\n      <th>1</th>\n      <td>POOL.OQ</td>\n      <td>2022-07-01</td>\n      <td>1.503</td>\n      <td>0.013420</td>\n      <td>0.026725</td>\n      <td>0.003255</td>\n      <td>0.029495</td>\n      <td>-1</td>\n    </tr>\n    <tr>\n      <th>2</th>\n      <td>POOL.OQ</td>\n      <td>2022-04-01</td>\n      <td>34.342</td>\n      <td>0.009212</td>\n      <td>0.027679</td>\n      <td>0.004262</td>\n      <td>0.030290</td>\n      <td>-1</td>\n    </tr>\n    <tr>\n      <th>3</th>\n      <td>POOL.OQ</td>\n      <td>2022-01-01</td>\n      <td>40.267</td>\n      <td>0.006746</td>\n      <td>0.029473</td>\n      <td>0.006244</td>\n      <td>0.031566</td>\n      <td>-1</td>\n    </tr>\n    <tr>\n      <th>4</th>\n      <td>POOL.OQ</td>\n      <td>2021-10-01</td>\n      <td>17.194</td>\n      <td>0.009205</td>\n      <td>0.027434</td>\n      <td>0.004419</td>\n      <td>0.030598</td>\n      <td>-1</td>\n    </tr>\n    <tr>\n      <th>...</th>\n      <td>...</td>\n      <td>...</td>\n      <td>...</td>\n      <td>...</td>\n      <td>...</td>\n      <td>...</td>\n      <td>...</td>\n      <td>...</td>\n    </tr>\n    <tr>\n      <th>2485</th>\n      <td>AVY.N</td>\n      <td>2022-10-01</td>\n      <td>-0.131</td>\n      <td>0.015129</td>\n      <td>0.026945</td>\n      <td>0.002964</td>\n      <td>0.028398</td>\n      <td>-1</td>\n    </tr>\n    <tr>\n      <th>2486</th>\n      <td>AVY.N</td>\n      <td>2022-07-01</td>\n      <td>11.635</td>\n      <td>0.015325</td>\n      <td>0.027038</td>\n      <td>0.003040</td>\n      <td>0.028467</td>\n      <td>-1</td>\n    </tr>\n    <tr>\n      <th>2487</th>\n      <td>AVY.N</td>\n      <td>2022-04-01</td>\n      <td>10.595</td>\n      <td>0.015340</td>\n      <td>0.027380</td>\n      <td>0.003378</td>\n      <td>0.028675</td>\n      <td>-1</td>\n    </tr>\n    <tr>\n      <th>2488</th>\n      <td>AVY.N</td>\n      <td>2022-01-01</td>\n      <td>0.294</td>\n      <td>0.014253</td>\n      <td>0.028486</td>\n      <td>0.004596</td>\n      <td>0.029256</td>\n      <td>-1</td>\n    </tr>\n    <tr>\n      <th>2489</th>\n      <td>AVY.N</td>\n      <td>2021-10-01</td>\n      <td>4.784</td>\n      <td>0.013524</td>\n      <td>0.028319</td>\n      <td>0.004404</td>\n      <td>0.029081</td>\n      <td>-1</td>\n    </tr>\n  </tbody>\n</table>\n<p>2405 rows × 8 columns</p>\n</div>"
     },
     "execution_count": 75,
     "metadata": {},
     "output_type": "execute_result"
    }
   ],
   "source": [
    "rescale = df_accuracy_new\n",
    "#rescale[\"Earnings Per Share - Actual Surprise\"] = MinMaxScaler().fit_transform(np.array(rescale[\"Earnings Per Share - Actual Surprise\"]).reshape(-1,1))\n",
    "rescale[\"Revenue - Actual\"] = MinMaxScaler().fit_transform(np.array(rescale[\"Revenue - Actual\"]).reshape(-1,1))\n",
    "rescale[\"Enterprise Value\"] = MinMaxScaler().fit_transform(np.array(rescale[\"Enterprise Value\"]).reshape(-1,1))\n",
    "rescale[\"Market Capitalization\"] = MinMaxScaler().fit_transform(np.array(rescale[\"Market Capitalization\"]).reshape(-1,1))\n",
    "rescale[\"Enterprise Value To Sales (Daily Time Series Ratio)\"] = MinMaxScaler().fit_transform(np.array(rescale[\"Enterprise Value To Sales (Daily Time Series Ratio)\"]).reshape(-1,1))\n",
    "\n",
    "rescale"
   ],
   "metadata": {
    "collapsed": false
   }
  },
  {
   "cell_type": "code",
   "execution_count": 76,
   "metadata": {},
   "outputs": [
    {
     "data": {
      "text/plain": "<class 'statsmodels.iolib.summary.Summary'>\n\"\"\"\n                                     OLS Regression Results                                     \n================================================================================================\nDep. Variable:     Earnings Per Share - Actual Surprise   R-squared:                       0.007\nModel:                                              OLS   Adj. R-squared:                  0.005\nMethod:                                   Least Squares   F-statistic:                     3.358\nDate:                                  Fri, 24 Feb 2023   Prob (F-statistic):            0.00501\nTime:                                          18:41:34   Log-Likelihood:                -10155.\nNo. Observations:                                  2405   AIC:                         2.032e+04\nDf Residuals:                                      2399   BIC:                         2.036e+04\nDf Model:                                             5                                         \nCovariance Type:                              nonrobust                                         \n=======================================================================================================================\n                                                          coef    std err          t      P>|t|      [0.025      0.975]\n-----------------------------------------------------------------------------------------------------------------------\nconst                                                   3.7564      1.285      2.924      0.003       1.237       6.275\nRevenue - Actual                                        6.0740      4.358      1.394      0.164      -2.472      14.620\nEnterprise Value                                       61.9606     33.844      1.831      0.067      -4.406     128.327\nMarket Capitalization                                 -65.2560     31.830     -2.050      0.040    -127.674      -2.838\nEnterprise Value To Sales (Daily Time Series Ratio)   -14.8499     13.901     -1.068      0.286     -42.109      12.409\nloss firm status                                       -2.0790      0.733     -2.835      0.005      -3.517      -0.641\n==============================================================================\nOmnibus:                      441.668   Durbin-Watson:                   1.700\nProb(Omnibus):                  0.000   Jarque-Bera (JB):             3074.177\nSkew:                           0.682   Prob(JB):                         0.00\nKurtosis:                       8.368   Cond. No.                         189.\n==============================================================================\n\nNotes:\n[1] Standard Errors assume that the covariance matrix of the errors is correctly specified.\n\"\"\"",
      "text/html": "<table class=\"simpletable\">\n<caption>OLS Regression Results</caption>\n<tr>\n  <th>Dep. Variable:</th>    <td>Earnings Per Share - Actual Surprise</td> <th>  R-squared:         </th> <td>   0.007</td> \n</tr>\n<tr>\n  <th>Model:</th>                             <td>OLS</td>                 <th>  Adj. R-squared:    </th> <td>   0.005</td> \n</tr>\n<tr>\n  <th>Method:</th>                       <td>Least Squares</td>            <th>  F-statistic:       </th> <td>   3.358</td> \n</tr>\n<tr>\n  <th>Date:</th>                       <td>Fri, 24 Feb 2023</td>           <th>  Prob (F-statistic):</th>  <td>0.00501</td> \n</tr>\n<tr>\n  <th>Time:</th>                           <td>18:41:34</td>               <th>  Log-Likelihood:    </th> <td> -10155.</td> \n</tr>\n<tr>\n  <th>No. Observations:</th>                <td>  2405</td>                <th>  AIC:               </th> <td>2.032e+04</td>\n</tr>\n<tr>\n  <th>Df Residuals:</th>                    <td>  2399</td>                <th>  BIC:               </th> <td>2.036e+04</td>\n</tr>\n<tr>\n  <th>Df Model:</th>                        <td>     5</td>                <th>                     </th>     <td> </td>    \n</tr>\n<tr>\n  <th>Covariance Type:</th>                <td>nonrobust</td>              <th>                     </th>     <td> </td>    \n</tr>\n</table>\n<table class=\"simpletable\">\n<tr>\n                           <td></td>                              <th>coef</th>     <th>std err</th>      <th>t</th>      <th>P>|t|</th>  <th>[0.025</th>    <th>0.975]</th>  \n</tr>\n<tr>\n  <th>const</th>                                               <td>    3.7564</td> <td>    1.285</td> <td>    2.924</td> <td> 0.003</td> <td>    1.237</td> <td>    6.275</td>\n</tr>\n<tr>\n  <th>Revenue - Actual</th>                                    <td>    6.0740</td> <td>    4.358</td> <td>    1.394</td> <td> 0.164</td> <td>   -2.472</td> <td>   14.620</td>\n</tr>\n<tr>\n  <th>Enterprise Value</th>                                    <td>   61.9606</td> <td>   33.844</td> <td>    1.831</td> <td> 0.067</td> <td>   -4.406</td> <td>  128.327</td>\n</tr>\n<tr>\n  <th>Market Capitalization</th>                               <td>  -65.2560</td> <td>   31.830</td> <td>   -2.050</td> <td> 0.040</td> <td> -127.674</td> <td>   -2.838</td>\n</tr>\n<tr>\n  <th>Enterprise Value To Sales (Daily Time Series Ratio)</th> <td>  -14.8499</td> <td>   13.901</td> <td>   -1.068</td> <td> 0.286</td> <td>  -42.109</td> <td>   12.409</td>\n</tr>\n<tr>\n  <th>loss firm status</th>                                    <td>   -2.0790</td> <td>    0.733</td> <td>   -2.835</td> <td> 0.005</td> <td>   -3.517</td> <td>   -0.641</td>\n</tr>\n</table>\n<table class=\"simpletable\">\n<tr>\n  <th>Omnibus:</th>       <td>441.668</td> <th>  Durbin-Watson:     </th> <td>   1.700</td>\n</tr>\n<tr>\n  <th>Prob(Omnibus):</th> <td> 0.000</td>  <th>  Jarque-Bera (JB):  </th> <td>3074.177</td>\n</tr>\n<tr>\n  <th>Skew:</th>          <td> 0.682</td>  <th>  Prob(JB):          </th> <td>    0.00</td>\n</tr>\n<tr>\n  <th>Kurtosis:</th>      <td> 8.368</td>  <th>  Cond. No.          </th> <td>    189.</td>\n</tr>\n</table><br/><br/>Notes:<br/>[1] Standard Errors assume that the covariance matrix of the errors is correctly specified."
     },
     "execution_count": 76,
     "metadata": {},
     "output_type": "execute_result"
    }
   ],
   "source": [
    "y = rescale[\"Earnings Per Share - Actual Surprise\"]\n",
    "#X = df_accuracy_new[['Revenue - Actual', 'Net Income after Tax']]\n",
    "X = rescale.iloc[:, 3:]\n",
    "X = sm.add_constant(X)\n",
    "\n",
    "model = sm.OLS(y, X).fit()\n",
    "\n",
    "model.summary()"
   ]
  },
  {
   "attachments": {},
   "cell_type": "markdown",
   "metadata": {},
   "source": [
    "#### Random Effects Panel Regression"
   ]
  },
  {
   "cell_type": "code",
   "execution_count": 77,
   "outputs": [
    {
     "data": {
      "text/plain": "Instrument                                                     object\nDate                                                   datetime64[ns]\nEarnings Per Share - Actual Surprise                          float64\nRevenue - Actual                                              float64\nEnterprise Value                                              float64\nMarket Capitalization                                         float64\nEnterprise Value To Sales (Daily Time Series Ratio)           float64\nloss firm status                                                int64\ndtype: object"
     },
     "execution_count": 77,
     "metadata": {},
     "output_type": "execute_result"
    }
   ],
   "source": [
    "df_accuracy_new['Date'] = pd.to_datetime(df_accuracy_new['Date'], infer_datetime_format=True)\n",
    "df_accuracy_new.dtypes"
   ],
   "metadata": {
    "collapsed": false
   }
  },
  {
   "cell_type": "code",
   "execution_count": 78,
   "outputs": [
    {
     "data": {
      "text/plain": "                       Earnings Per Share - Actual Surprise  Revenue - Actual  \\\nInstrument Date                                                                 \nPOOL.OQ    2022-10-01                                 4.196          0.010538   \n           2022-07-01                                 1.503          0.013420   \n           2022-04-01                                34.342          0.009212   \n           2022-01-01                                40.267          0.006746   \n           2021-10-01                                17.194          0.009205   \n...                                                     ...               ...   \nAVY.N      2022-10-01                                -0.131          0.015129   \n           2022-07-01                                11.635          0.015325   \n           2022-04-01                                10.595          0.015340   \n           2022-01-01                                 0.294          0.014253   \n           2021-10-01                                 4.784          0.013524   \n\n                       Enterprise Value  Market Capitalization  \\\nInstrument Date                                                  \nPOOL.OQ    2022-10-01          0.026228               0.002749   \n           2022-07-01          0.026725               0.003255   \n           2022-04-01          0.027679               0.004262   \n           2022-01-01          0.029473               0.006244   \n           2021-10-01          0.027434               0.004419   \n...                                 ...                    ...   \nAVY.N      2022-10-01          0.026945               0.002964   \n           2022-07-01          0.027038               0.003040   \n           2022-04-01          0.027380               0.003378   \n           2022-01-01          0.028486               0.004596   \n           2021-10-01          0.028319               0.004404   \n\n                       Enterprise Value To Sales (Daily Time Series Ratio)  \\\nInstrument Date                                                              \nPOOL.OQ    2022-10-01                                           0.029064     \n           2022-07-01                                           0.029495     \n           2022-04-01                                           0.030290     \n           2022-01-01                                           0.031566     \n           2021-10-01                                           0.030598     \n...                                                                  ...     \nAVY.N      2022-10-01                                           0.028398     \n           2022-07-01                                           0.028467     \n           2022-04-01                                           0.028675     \n           2022-01-01                                           0.029256     \n           2021-10-01                                           0.029081     \n\n                       loss firm status  \nInstrument Date                          \nPOOL.OQ    2022-10-01                -1  \n           2022-07-01                -1  \n           2022-04-01                -1  \n           2022-01-01                -1  \n           2021-10-01                -1  \n...                                 ...  \nAVY.N      2022-10-01                -1  \n           2022-07-01                -1  \n           2022-04-01                -1  \n           2022-01-01                -1  \n           2021-10-01                -1  \n\n[2405 rows x 6 columns]",
      "text/html": "<div>\n<style scoped>\n    .dataframe tbody tr th:only-of-type {\n        vertical-align: middle;\n    }\n\n    .dataframe tbody tr th {\n        vertical-align: top;\n    }\n\n    .dataframe thead th {\n        text-align: right;\n    }\n</style>\n<table border=\"1\" class=\"dataframe\">\n  <thead>\n    <tr style=\"text-align: right;\">\n      <th></th>\n      <th></th>\n      <th>Earnings Per Share - Actual Surprise</th>\n      <th>Revenue - Actual</th>\n      <th>Enterprise Value</th>\n      <th>Market Capitalization</th>\n      <th>Enterprise Value To Sales (Daily Time Series Ratio)</th>\n      <th>loss firm status</th>\n    </tr>\n    <tr>\n      <th>Instrument</th>\n      <th>Date</th>\n      <th></th>\n      <th></th>\n      <th></th>\n      <th></th>\n      <th></th>\n      <th></th>\n    </tr>\n  </thead>\n  <tbody>\n    <tr>\n      <th rowspan=\"5\" valign=\"top\">POOL.OQ</th>\n      <th>2022-10-01</th>\n      <td>4.196</td>\n      <td>0.010538</td>\n      <td>0.026228</td>\n      <td>0.002749</td>\n      <td>0.029064</td>\n      <td>-1</td>\n    </tr>\n    <tr>\n      <th>2022-07-01</th>\n      <td>1.503</td>\n      <td>0.013420</td>\n      <td>0.026725</td>\n      <td>0.003255</td>\n      <td>0.029495</td>\n      <td>-1</td>\n    </tr>\n    <tr>\n      <th>2022-04-01</th>\n      <td>34.342</td>\n      <td>0.009212</td>\n      <td>0.027679</td>\n      <td>0.004262</td>\n      <td>0.030290</td>\n      <td>-1</td>\n    </tr>\n    <tr>\n      <th>2022-01-01</th>\n      <td>40.267</td>\n      <td>0.006746</td>\n      <td>0.029473</td>\n      <td>0.006244</td>\n      <td>0.031566</td>\n      <td>-1</td>\n    </tr>\n    <tr>\n      <th>2021-10-01</th>\n      <td>17.194</td>\n      <td>0.009205</td>\n      <td>0.027434</td>\n      <td>0.004419</td>\n      <td>0.030598</td>\n      <td>-1</td>\n    </tr>\n    <tr>\n      <th>...</th>\n      <th>...</th>\n      <td>...</td>\n      <td>...</td>\n      <td>...</td>\n      <td>...</td>\n      <td>...</td>\n      <td>...</td>\n    </tr>\n    <tr>\n      <th rowspan=\"5\" valign=\"top\">AVY.N</th>\n      <th>2022-10-01</th>\n      <td>-0.131</td>\n      <td>0.015129</td>\n      <td>0.026945</td>\n      <td>0.002964</td>\n      <td>0.028398</td>\n      <td>-1</td>\n    </tr>\n    <tr>\n      <th>2022-07-01</th>\n      <td>11.635</td>\n      <td>0.015325</td>\n      <td>0.027038</td>\n      <td>0.003040</td>\n      <td>0.028467</td>\n      <td>-1</td>\n    </tr>\n    <tr>\n      <th>2022-04-01</th>\n      <td>10.595</td>\n      <td>0.015340</td>\n      <td>0.027380</td>\n      <td>0.003378</td>\n      <td>0.028675</td>\n      <td>-1</td>\n    </tr>\n    <tr>\n      <th>2022-01-01</th>\n      <td>0.294</td>\n      <td>0.014253</td>\n      <td>0.028486</td>\n      <td>0.004596</td>\n      <td>0.029256</td>\n      <td>-1</td>\n    </tr>\n    <tr>\n      <th>2021-10-01</th>\n      <td>4.784</td>\n      <td>0.013524</td>\n      <td>0.028319</td>\n      <td>0.004404</td>\n      <td>0.029081</td>\n      <td>-1</td>\n    </tr>\n  </tbody>\n</table>\n<p>2405 rows × 6 columns</p>\n</div>"
     },
     "execution_count": 78,
     "metadata": {},
     "output_type": "execute_result"
    }
   ],
   "source": [
    "df_accuracy_new.set_index([\"Instrument\", \"Date\"], inplace=True)\n",
    "df_accuracy_new"
   ],
   "metadata": {
    "collapsed": false
   }
  },
  {
   "cell_type": "code",
   "execution_count": 79,
   "metadata": {},
   "outputs": [],
   "source": [
    "import pandas as pd\n",
    "import scipy.stats as st\n",
    "import statsmodels.api as sm\n",
    "import statsmodels.graphics.tsaplots as tsap\n",
    "from statsmodels.compat import lzip\n",
    "from statsmodels.stats.diagnostic import het_white\n",
    "from matplotlib import pyplot as plt"
   ]
  },
  {
   "cell_type": "code",
   "execution_count": 80,
   "outputs": [],
   "source": [
    "y_var_name = 'Earnings Per Share - Actual Surprise'\n",
    "X_var_names = [\"Revenue - Actual\",\"Enterprise Value\",\"Market Capitalization\",\"loss firm status\", \"Enterprise Value To Sales (Daily Time Series Ratio)\"]\n",
    "pooled_y=df_accuracy_new[y_var_name]\n",
    "pooled_X=df_accuracy_new[X_var_names]"
   ],
   "metadata": {
    "collapsed": false
   }
  },
  {
   "cell_type": "code",
   "execution_count": 81,
   "outputs": [
    {
     "data": {
      "text/plain": "                       const  Revenue - Actual  Enterprise Value  \\\nInstrument Date                                                    \nPOOL.OQ    2022-10-01    1.0          0.010538          0.026228   \n           2022-07-01    1.0          0.013420          0.026725   \n           2022-04-01    1.0          0.009212          0.027679   \n           2022-01-01    1.0          0.006746          0.029473   \n           2021-10-01    1.0          0.009205          0.027434   \n...                      ...               ...               ...   \nAVY.N      2022-10-01    1.0          0.015129          0.026945   \n           2022-07-01    1.0          0.015325          0.027038   \n           2022-04-01    1.0          0.015340          0.027380   \n           2022-01-01    1.0          0.014253          0.028486   \n           2021-10-01    1.0          0.013524          0.028319   \n\n                       Market Capitalization  loss firm status  \\\nInstrument Date                                                  \nPOOL.OQ    2022-10-01               0.002749                -1   \n           2022-07-01               0.003255                -1   \n           2022-04-01               0.004262                -1   \n           2022-01-01               0.006244                -1   \n           2021-10-01               0.004419                -1   \n...                                      ...               ...   \nAVY.N      2022-10-01               0.002964                -1   \n           2022-07-01               0.003040                -1   \n           2022-04-01               0.003378                -1   \n           2022-01-01               0.004596                -1   \n           2021-10-01               0.004404                -1   \n\n                       Enterprise Value To Sales (Daily Time Series Ratio)  \nInstrument Date                                                             \nPOOL.OQ    2022-10-01                                           0.029064    \n           2022-07-01                                           0.029495    \n           2022-04-01                                           0.030290    \n           2022-01-01                                           0.031566    \n           2021-10-01                                           0.030598    \n...                                                                  ...    \nAVY.N      2022-10-01                                           0.028398    \n           2022-07-01                                           0.028467    \n           2022-04-01                                           0.028675    \n           2022-01-01                                           0.029256    \n           2021-10-01                                           0.029081    \n\n[2405 rows x 6 columns]",
      "text/html": "<div>\n<style scoped>\n    .dataframe tbody tr th:only-of-type {\n        vertical-align: middle;\n    }\n\n    .dataframe tbody tr th {\n        vertical-align: top;\n    }\n\n    .dataframe thead th {\n        text-align: right;\n    }\n</style>\n<table border=\"1\" class=\"dataframe\">\n  <thead>\n    <tr style=\"text-align: right;\">\n      <th></th>\n      <th></th>\n      <th>const</th>\n      <th>Revenue - Actual</th>\n      <th>Enterprise Value</th>\n      <th>Market Capitalization</th>\n      <th>loss firm status</th>\n      <th>Enterprise Value To Sales (Daily Time Series Ratio)</th>\n    </tr>\n    <tr>\n      <th>Instrument</th>\n      <th>Date</th>\n      <th></th>\n      <th></th>\n      <th></th>\n      <th></th>\n      <th></th>\n      <th></th>\n    </tr>\n  </thead>\n  <tbody>\n    <tr>\n      <th rowspan=\"5\" valign=\"top\">POOL.OQ</th>\n      <th>2022-10-01</th>\n      <td>1.0</td>\n      <td>0.010538</td>\n      <td>0.026228</td>\n      <td>0.002749</td>\n      <td>-1</td>\n      <td>0.029064</td>\n    </tr>\n    <tr>\n      <th>2022-07-01</th>\n      <td>1.0</td>\n      <td>0.013420</td>\n      <td>0.026725</td>\n      <td>0.003255</td>\n      <td>-1</td>\n      <td>0.029495</td>\n    </tr>\n    <tr>\n      <th>2022-04-01</th>\n      <td>1.0</td>\n      <td>0.009212</td>\n      <td>0.027679</td>\n      <td>0.004262</td>\n      <td>-1</td>\n      <td>0.030290</td>\n    </tr>\n    <tr>\n      <th>2022-01-01</th>\n      <td>1.0</td>\n      <td>0.006746</td>\n      <td>0.029473</td>\n      <td>0.006244</td>\n      <td>-1</td>\n      <td>0.031566</td>\n    </tr>\n    <tr>\n      <th>2021-10-01</th>\n      <td>1.0</td>\n      <td>0.009205</td>\n      <td>0.027434</td>\n      <td>0.004419</td>\n      <td>-1</td>\n      <td>0.030598</td>\n    </tr>\n    <tr>\n      <th>...</th>\n      <th>...</th>\n      <td>...</td>\n      <td>...</td>\n      <td>...</td>\n      <td>...</td>\n      <td>...</td>\n      <td>...</td>\n    </tr>\n    <tr>\n      <th rowspan=\"5\" valign=\"top\">AVY.N</th>\n      <th>2022-10-01</th>\n      <td>1.0</td>\n      <td>0.015129</td>\n      <td>0.026945</td>\n      <td>0.002964</td>\n      <td>-1</td>\n      <td>0.028398</td>\n    </tr>\n    <tr>\n      <th>2022-07-01</th>\n      <td>1.0</td>\n      <td>0.015325</td>\n      <td>0.027038</td>\n      <td>0.003040</td>\n      <td>-1</td>\n      <td>0.028467</td>\n    </tr>\n    <tr>\n      <th>2022-04-01</th>\n      <td>1.0</td>\n      <td>0.015340</td>\n      <td>0.027380</td>\n      <td>0.003378</td>\n      <td>-1</td>\n      <td>0.028675</td>\n    </tr>\n    <tr>\n      <th>2022-01-01</th>\n      <td>1.0</td>\n      <td>0.014253</td>\n      <td>0.028486</td>\n      <td>0.004596</td>\n      <td>-1</td>\n      <td>0.029256</td>\n    </tr>\n    <tr>\n      <th>2021-10-01</th>\n      <td>1.0</td>\n      <td>0.013524</td>\n      <td>0.028319</td>\n      <td>0.004404</td>\n      <td>-1</td>\n      <td>0.029081</td>\n    </tr>\n  </tbody>\n</table>\n<p>2405 rows × 6 columns</p>\n</div>"
     },
     "execution_count": 81,
     "metadata": {},
     "output_type": "execute_result"
    }
   ],
   "source": [
    "pooled_X = sm.add_constant(pooled_X)\n",
    "pooled_X"
   ],
   "metadata": {
    "collapsed": false
   }
  },
  {
   "cell_type": "code",
   "execution_count": 82,
   "outputs": [],
   "source": [
    "pooled_olsr_model = sm.OLS(endog=pooled_y, exog=pooled_X)"
   ],
   "metadata": {
    "collapsed": false
   }
  },
  {
   "cell_type": "code",
   "execution_count": 83,
   "outputs": [],
   "source": [
    "pooled_olsr_model_results = pooled_olsr_model.fit()"
   ],
   "metadata": {
    "collapsed": false
   }
  },
  {
   "cell_type": "code",
   "execution_count": 84,
   "outputs": [
    {
     "name": "stdout",
     "output_type": "stream",
     "text": [
      "                                     OLS Regression Results                                     \n",
      "================================================================================================\n",
      "Dep. Variable:     Earnings Per Share - Actual Surprise   R-squared:                       0.007\n",
      "Model:                                              OLS   Adj. R-squared:                  0.005\n",
      "Method:                                   Least Squares   F-statistic:                     3.358\n",
      "Date:                                  Fri, 24 Feb 2023   Prob (F-statistic):            0.00501\n",
      "Time:                                          18:41:59   Log-Likelihood:                -10155.\n",
      "No. Observations:                                  2405   AIC:                         2.032e+04\n",
      "Df Residuals:                                      2399   BIC:                         2.036e+04\n",
      "Df Model:                                             5                                         \n",
      "Covariance Type:                              nonrobust                                         \n",
      "=======================================================================================================================\n",
      "                                                          coef    std err          t      P>|t|      [0.025      0.975]\n",
      "-----------------------------------------------------------------------------------------------------------------------\n",
      "const                                                   3.7564      1.285      2.924      0.003       1.237       6.275\n",
      "Revenue - Actual                                        6.0740      4.358      1.394      0.164      -2.472      14.620\n",
      "Enterprise Value                                       61.9606     33.844      1.831      0.067      -4.406     128.327\n",
      "Market Capitalization                                 -65.2560     31.830     -2.050      0.040    -127.674      -2.838\n",
      "loss firm status                                       -2.0790      0.733     -2.835      0.005      -3.517      -0.641\n",
      "Enterprise Value To Sales (Daily Time Series Ratio)   -14.8499     13.901     -1.068      0.286     -42.109      12.409\n",
      "==============================================================================\n",
      "Omnibus:                      441.668   Durbin-Watson:                   1.700\n",
      "Prob(Omnibus):                  0.000   Jarque-Bera (JB):             3074.177\n",
      "Skew:                           0.682   Prob(JB):                         0.00\n",
      "Kurtosis:                       8.368   Cond. No.                         189.\n",
      "==============================================================================\n",
      "\n",
      "Notes:\n",
      "[1] Standard Errors assume that the covariance matrix of the errors is correctly specified.\n"
     ]
    }
   ],
   "source": [
    "print(pooled_olsr_model_results.summary())"
   ],
   "metadata": {
    "collapsed": false
   }
  },
  {
   "cell_type": "code",
   "execution_count": 32,
   "outputs": [],
   "source": [],
   "metadata": {
    "collapsed": false
   }
  }
 ],
 "metadata": {
  "kernelspec": {
   "display_name": "AnalystForecast",
   "language": "python",
   "name": "python3"
  },
  "language_info": {
   "name": "python",
   "version": "3.11.0"
  },
  "orig_nbformat": 4,
  "vscode": {
   "interpreter": {
    "hash": "264d128b47a19451ae7876f5ee246d3f7de9751940a5ebe47f15ec6626e5a91f"
   }
  }
 },
 "nbformat": 4,
 "nbformat_minor": 2
}
