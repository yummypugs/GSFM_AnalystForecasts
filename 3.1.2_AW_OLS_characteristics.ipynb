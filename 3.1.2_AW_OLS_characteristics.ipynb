{
 "cells": [
  {
   "cell_type": "code",
   "execution_count": 17,
   "metadata": {},
   "outputs": [],
   "source": [
    "import pandas as pd\n",
    "import statsmodels.api as sm\n",
    "from sklearn.linear_model import LinearRegression\n",
    "from sklearn.preprocessing import MinMaxScaler\n",
    "from sklearn.preprocessing import StandardScaler\n",
    "\n",
    "import numpy as np\n",
    "\n",
    "from linearmodels.panel import PanelOLS\n",
    "import datetime as dt"
   ]
  },
  {
   "attachments": {},
   "cell_type": "markdown",
   "metadata": {},
   "source": [
    "# Characteristcs OLS\n",
    "\n",
    "Professor said we should start with a regular OLS Regression.\n",
    "I quickly looked into this and think a random effects panel regression would probably fit our data better (still need to read more into this)\n",
    "So probably we can first do a regular OLS and than compare it to the random effects panel regression. Just some initial thoughts though!!!\n",
    "Here is some intial code to run them:\n"
   ]
  },
  {
   "cell_type": "code",
   "execution_count": 54,
   "metadata": {},
   "outputs": [
    {
     "data": {
      "text/plain": "     Instrument        Date  Earnings Per Share - Actual Surprise  \\\n0       POOL.OQ  2022-10-01                                 4.196   \n1       POOL.OQ  2022-07-01                                 1.503   \n2       POOL.OQ  2022-04-01                                34.342   \n3       POOL.OQ  2022-01-01                                40.267   \n4       POOL.OQ  2021-10-01                                17.194   \n...         ...         ...                                   ...   \n2485      AVY.N  2022-10-01                                -0.131   \n2486      AVY.N  2022-07-01                                11.635   \n2487      AVY.N  2022-04-01                                10.595   \n2488      AVY.N  2022-01-01                                 0.294   \n2489      AVY.N  2021-10-01                                 4.784   \n\n      Revenue - Actual  Enterprise Value  Market Capitalization  \\\n0         1.615339e+09      1.406160e+10           1.259813e+10   \n1         2.055818e+09      1.556187e+10           1.405795e+10   \n2         1.412650e+09      1.843682e+10           1.696712e+10   \n3         1.035557e+09      2.384882e+10           2.268979e+10   \n4         1.411448e+09      1.769954e+10           1.742020e+10   \n...                ...               ...                    ...   \n2485      2.317100e+09      1.622502e+10           1.322042e+10   \n2486      2.347000e+09      1.650430e+10           1.343710e+10   \n2487      2.349300e+09      1.753708e+10           1.441548e+10   \n2488      2.183200e+09      2.087304e+10           1.793104e+10   \n2489      2.071800e+09      2.036822e+10           1.737642e+10   \n\n      loss firm status  \n0                   -1  \n1                   -1  \n2                   -1  \n3                   -1  \n4                   -1  \n...                ...  \n2485                -1  \n2486                -1  \n2487                -1  \n2488                -1  \n2489                -1  \n\n[2490 rows x 7 columns]",
      "text/html": "<div>\n<style scoped>\n    .dataframe tbody tr th:only-of-type {\n        vertical-align: middle;\n    }\n\n    .dataframe tbody tr th {\n        vertical-align: top;\n    }\n\n    .dataframe thead th {\n        text-align: right;\n    }\n</style>\n<table border=\"1\" class=\"dataframe\">\n  <thead>\n    <tr style=\"text-align: right;\">\n      <th></th>\n      <th>Instrument</th>\n      <th>Date</th>\n      <th>Earnings Per Share - Actual Surprise</th>\n      <th>Revenue - Actual</th>\n      <th>Enterprise Value</th>\n      <th>Market Capitalization</th>\n      <th>loss firm status</th>\n    </tr>\n  </thead>\n  <tbody>\n    <tr>\n      <th>0</th>\n      <td>POOL.OQ</td>\n      <td>2022-10-01</td>\n      <td>4.196</td>\n      <td>1.615339e+09</td>\n      <td>1.406160e+10</td>\n      <td>1.259813e+10</td>\n      <td>-1</td>\n    </tr>\n    <tr>\n      <th>1</th>\n      <td>POOL.OQ</td>\n      <td>2022-07-01</td>\n      <td>1.503</td>\n      <td>2.055818e+09</td>\n      <td>1.556187e+10</td>\n      <td>1.405795e+10</td>\n      <td>-1</td>\n    </tr>\n    <tr>\n      <th>2</th>\n      <td>POOL.OQ</td>\n      <td>2022-04-01</td>\n      <td>34.342</td>\n      <td>1.412650e+09</td>\n      <td>1.843682e+10</td>\n      <td>1.696712e+10</td>\n      <td>-1</td>\n    </tr>\n    <tr>\n      <th>3</th>\n      <td>POOL.OQ</td>\n      <td>2022-01-01</td>\n      <td>40.267</td>\n      <td>1.035557e+09</td>\n      <td>2.384882e+10</td>\n      <td>2.268979e+10</td>\n      <td>-1</td>\n    </tr>\n    <tr>\n      <th>4</th>\n      <td>POOL.OQ</td>\n      <td>2021-10-01</td>\n      <td>17.194</td>\n      <td>1.411448e+09</td>\n      <td>1.769954e+10</td>\n      <td>1.742020e+10</td>\n      <td>-1</td>\n    </tr>\n    <tr>\n      <th>...</th>\n      <td>...</td>\n      <td>...</td>\n      <td>...</td>\n      <td>...</td>\n      <td>...</td>\n      <td>...</td>\n      <td>...</td>\n    </tr>\n    <tr>\n      <th>2485</th>\n      <td>AVY.N</td>\n      <td>2022-10-01</td>\n      <td>-0.131</td>\n      <td>2.317100e+09</td>\n      <td>1.622502e+10</td>\n      <td>1.322042e+10</td>\n      <td>-1</td>\n    </tr>\n    <tr>\n      <th>2486</th>\n      <td>AVY.N</td>\n      <td>2022-07-01</td>\n      <td>11.635</td>\n      <td>2.347000e+09</td>\n      <td>1.650430e+10</td>\n      <td>1.343710e+10</td>\n      <td>-1</td>\n    </tr>\n    <tr>\n      <th>2487</th>\n      <td>AVY.N</td>\n      <td>2022-04-01</td>\n      <td>10.595</td>\n      <td>2.349300e+09</td>\n      <td>1.753708e+10</td>\n      <td>1.441548e+10</td>\n      <td>-1</td>\n    </tr>\n    <tr>\n      <th>2488</th>\n      <td>AVY.N</td>\n      <td>2022-01-01</td>\n      <td>0.294</td>\n      <td>2.183200e+09</td>\n      <td>2.087304e+10</td>\n      <td>1.793104e+10</td>\n      <td>-1</td>\n    </tr>\n    <tr>\n      <th>2489</th>\n      <td>AVY.N</td>\n      <td>2021-10-01</td>\n      <td>4.784</td>\n      <td>2.071800e+09</td>\n      <td>2.036822e+10</td>\n      <td>1.737642e+10</td>\n      <td>-1</td>\n    </tr>\n  </tbody>\n</table>\n<p>2490 rows × 7 columns</p>\n</div>"
     },
     "execution_count": 54,
     "metadata": {},
     "output_type": "execute_result"
    }
   ],
   "source": [
    "#decide which df to use\n",
    "df = pd.read_csv(\"Dataframes/characteristics.csv\")\n",
    "#df = df.loc[:, [\"Instrument\", \"Date\", \"Earnings Per Share - Actual Surprise\", \"Revenue - Actual\", \"Net Income after Tax\"]]\n",
    "\n",
    "df"
   ]
  },
  {
   "attachments": {},
   "cell_type": "markdown",
   "metadata": {},
   "source": [
    "#### OLS Regression"
   ]
  },
  {
   "cell_type": "code",
   "execution_count": 55,
   "outputs": [
    {
     "data": {
      "text/plain": "loss firm status\n-1    2267\n 1     138\ndtype: int64"
     },
     "execution_count": 55,
     "metadata": {},
     "output_type": "execute_result"
    }
   ],
   "source": [
    "#identifying outliers and replacing them with NA\n",
    "summary_stats = df[\"Earnings Per Share - Actual Surprise\"].describe()\n",
    "Q1 = summary_stats.loc['25%']\n",
    "Q3 = summary_stats.loc['75%']\n",
    "IQR = Q3 - Q1\n",
    "threshold = 7 #1.5 is standard threshold but we still want to keep enough variation in the data so setting threshol higher here\n",
    "surprise_outliers_removed = df[\"Earnings Per Share - Actual Surprise\"].loc[~((df[\"Earnings Per Share - Actual Surprise\"] < (Q1 - threshold * IQR)) | (df[\"Earnings Per Share - Actual Surprise\"] > (Q3 + threshold * IQR)))]\n",
    "df_accuracy_new = df.copy()\n",
    "df_accuracy_new[\"Earnings Per Share - Actual Surprise\"] = surprise_outliers_removed\n",
    "df_accuracy_new = df_accuracy_new.dropna(subset=[\"Earnings Per Share - Actual Surprise\"])\n",
    "#df_accuracy_new[\"Recommendation - Mean (1-5)\"] = df_accuracy_new[\"Recommendation - Mean (1-5)\"].fillna(0)\n",
    "df_accuracy_new = df_accuracy_new.dropna()\n",
    "df_accuracy_new.value_counts(\"loss firm status\")\n"
   ],
   "metadata": {
    "collapsed": false
   }
  },
  {
   "cell_type": "code",
   "execution_count": 56,
   "outputs": [
    {
     "data": {
      "text/plain": "     Instrument        Date  Earnings Per Share - Actual Surprise  \\\n0       POOL.OQ  2022-10-01                                 4.196   \n1       POOL.OQ  2022-07-01                                 1.503   \n2       POOL.OQ  2022-04-01                                34.342   \n3       POOL.OQ  2022-01-01                                40.267   \n4       POOL.OQ  2021-10-01                                17.194   \n...         ...         ...                                   ...   \n2485      AVY.N  2022-10-01                                -0.131   \n2486      AVY.N  2022-07-01                                11.635   \n2487      AVY.N  2022-04-01                                10.595   \n2488      AVY.N  2022-01-01                                 0.294   \n2489      AVY.N  2021-10-01                                 4.784   \n\n      Revenue - Actual  Enterprise Value  Market Capitalization  \\\n0         1.615339e+09      1.406160e+10           1.259813e+10   \n1         2.055818e+09      1.556187e+10           1.405795e+10   \n2         1.412650e+09      1.843682e+10           1.696712e+10   \n3         1.035557e+09      2.384882e+10           2.268979e+10   \n4         1.411448e+09      1.769954e+10           1.742020e+10   \n...                ...               ...                    ...   \n2485      2.317100e+09      1.622502e+10           1.322042e+10   \n2486      2.347000e+09      1.650430e+10           1.343710e+10   \n2487      2.349300e+09      1.753708e+10           1.441548e+10   \n2488      2.183200e+09      2.087304e+10           1.793104e+10   \n2489      2.071800e+09      2.036822e+10           1.737642e+10   \n\n      loss firm status  \n0                   -1  \n1                   -1  \n2                   -1  \n3                   -1  \n4                   -1  \n...                ...  \n2485                -1  \n2486                -1  \n2487                -1  \n2488                -1  \n2489                -1  \n\n[2405 rows x 7 columns]",
      "text/html": "<div>\n<style scoped>\n    .dataframe tbody tr th:only-of-type {\n        vertical-align: middle;\n    }\n\n    .dataframe tbody tr th {\n        vertical-align: top;\n    }\n\n    .dataframe thead th {\n        text-align: right;\n    }\n</style>\n<table border=\"1\" class=\"dataframe\">\n  <thead>\n    <tr style=\"text-align: right;\">\n      <th></th>\n      <th>Instrument</th>\n      <th>Date</th>\n      <th>Earnings Per Share - Actual Surprise</th>\n      <th>Revenue - Actual</th>\n      <th>Enterprise Value</th>\n      <th>Market Capitalization</th>\n      <th>loss firm status</th>\n    </tr>\n  </thead>\n  <tbody>\n    <tr>\n      <th>0</th>\n      <td>POOL.OQ</td>\n      <td>2022-10-01</td>\n      <td>4.196</td>\n      <td>1.615339e+09</td>\n      <td>1.406160e+10</td>\n      <td>1.259813e+10</td>\n      <td>-1</td>\n    </tr>\n    <tr>\n      <th>1</th>\n      <td>POOL.OQ</td>\n      <td>2022-07-01</td>\n      <td>1.503</td>\n      <td>2.055818e+09</td>\n      <td>1.556187e+10</td>\n      <td>1.405795e+10</td>\n      <td>-1</td>\n    </tr>\n    <tr>\n      <th>2</th>\n      <td>POOL.OQ</td>\n      <td>2022-04-01</td>\n      <td>34.342</td>\n      <td>1.412650e+09</td>\n      <td>1.843682e+10</td>\n      <td>1.696712e+10</td>\n      <td>-1</td>\n    </tr>\n    <tr>\n      <th>3</th>\n      <td>POOL.OQ</td>\n      <td>2022-01-01</td>\n      <td>40.267</td>\n      <td>1.035557e+09</td>\n      <td>2.384882e+10</td>\n      <td>2.268979e+10</td>\n      <td>-1</td>\n    </tr>\n    <tr>\n      <th>4</th>\n      <td>POOL.OQ</td>\n      <td>2021-10-01</td>\n      <td>17.194</td>\n      <td>1.411448e+09</td>\n      <td>1.769954e+10</td>\n      <td>1.742020e+10</td>\n      <td>-1</td>\n    </tr>\n    <tr>\n      <th>...</th>\n      <td>...</td>\n      <td>...</td>\n      <td>...</td>\n      <td>...</td>\n      <td>...</td>\n      <td>...</td>\n      <td>...</td>\n    </tr>\n    <tr>\n      <th>2485</th>\n      <td>AVY.N</td>\n      <td>2022-10-01</td>\n      <td>-0.131</td>\n      <td>2.317100e+09</td>\n      <td>1.622502e+10</td>\n      <td>1.322042e+10</td>\n      <td>-1</td>\n    </tr>\n    <tr>\n      <th>2486</th>\n      <td>AVY.N</td>\n      <td>2022-07-01</td>\n      <td>11.635</td>\n      <td>2.347000e+09</td>\n      <td>1.650430e+10</td>\n      <td>1.343710e+10</td>\n      <td>-1</td>\n    </tr>\n    <tr>\n      <th>2487</th>\n      <td>AVY.N</td>\n      <td>2022-04-01</td>\n      <td>10.595</td>\n      <td>2.349300e+09</td>\n      <td>1.753708e+10</td>\n      <td>1.441548e+10</td>\n      <td>-1</td>\n    </tr>\n    <tr>\n      <th>2488</th>\n      <td>AVY.N</td>\n      <td>2022-01-01</td>\n      <td>0.294</td>\n      <td>2.183200e+09</td>\n      <td>2.087304e+10</td>\n      <td>1.793104e+10</td>\n      <td>-1</td>\n    </tr>\n    <tr>\n      <th>2489</th>\n      <td>AVY.N</td>\n      <td>2021-10-01</td>\n      <td>4.784</td>\n      <td>2.071800e+09</td>\n      <td>2.036822e+10</td>\n      <td>1.737642e+10</td>\n      <td>-1</td>\n    </tr>\n  </tbody>\n</table>\n<p>2405 rows × 7 columns</p>\n</div>"
     },
     "execution_count": 56,
     "metadata": {},
     "output_type": "execute_result"
    }
   ],
   "source": [
    "df_accuracy_new"
   ],
   "metadata": {
    "collapsed": false
   }
  },
  {
   "cell_type": "code",
   "execution_count": 57,
   "outputs": [
    {
     "data": {
      "text/plain": "     Instrument        Date  Earnings Per Share - Actual Surprise  \\\n0       POOL.OQ  2022-10-01                                 4.196   \n1       POOL.OQ  2022-07-01                                 1.503   \n2       POOL.OQ  2022-04-01                                34.342   \n3       POOL.OQ  2022-01-01                                40.267   \n4       POOL.OQ  2021-10-01                                17.194   \n...         ...         ...                                   ...   \n2485      AVY.N  2022-10-01                                -0.131   \n2486      AVY.N  2022-07-01                                11.635   \n2487      AVY.N  2022-04-01                                10.595   \n2488      AVY.N  2022-01-01                                 0.294   \n2489      AVY.N  2021-10-01                                 4.784   \n\n      Revenue - Actual  Enterprise Value  Market Capitalization  \\\n0             0.010538          0.026228               0.002749   \n1             0.013420          0.026725               0.003255   \n2             0.009212          0.027679               0.004262   \n3             0.006746          0.029473               0.006244   \n4             0.009205          0.027434               0.004419   \n...                ...               ...                    ...   \n2485          0.015129          0.026945               0.002964   \n2486          0.015325          0.027038               0.003040   \n2487          0.015340          0.027380               0.003378   \n2488          0.014253          0.028486               0.004596   \n2489          0.013524          0.028319               0.004404   \n\n      loss firm status  \n0                   -1  \n1                   -1  \n2                   -1  \n3                   -1  \n4                   -1  \n...                ...  \n2485                -1  \n2486                -1  \n2487                -1  \n2488                -1  \n2489                -1  \n\n[2405 rows x 7 columns]",
      "text/html": "<div>\n<style scoped>\n    .dataframe tbody tr th:only-of-type {\n        vertical-align: middle;\n    }\n\n    .dataframe tbody tr th {\n        vertical-align: top;\n    }\n\n    .dataframe thead th {\n        text-align: right;\n    }\n</style>\n<table border=\"1\" class=\"dataframe\">\n  <thead>\n    <tr style=\"text-align: right;\">\n      <th></th>\n      <th>Instrument</th>\n      <th>Date</th>\n      <th>Earnings Per Share - Actual Surprise</th>\n      <th>Revenue - Actual</th>\n      <th>Enterprise Value</th>\n      <th>Market Capitalization</th>\n      <th>loss firm status</th>\n    </tr>\n  </thead>\n  <tbody>\n    <tr>\n      <th>0</th>\n      <td>POOL.OQ</td>\n      <td>2022-10-01</td>\n      <td>4.196</td>\n      <td>0.010538</td>\n      <td>0.026228</td>\n      <td>0.002749</td>\n      <td>-1</td>\n    </tr>\n    <tr>\n      <th>1</th>\n      <td>POOL.OQ</td>\n      <td>2022-07-01</td>\n      <td>1.503</td>\n      <td>0.013420</td>\n      <td>0.026725</td>\n      <td>0.003255</td>\n      <td>-1</td>\n    </tr>\n    <tr>\n      <th>2</th>\n      <td>POOL.OQ</td>\n      <td>2022-04-01</td>\n      <td>34.342</td>\n      <td>0.009212</td>\n      <td>0.027679</td>\n      <td>0.004262</td>\n      <td>-1</td>\n    </tr>\n    <tr>\n      <th>3</th>\n      <td>POOL.OQ</td>\n      <td>2022-01-01</td>\n      <td>40.267</td>\n      <td>0.006746</td>\n      <td>0.029473</td>\n      <td>0.006244</td>\n      <td>-1</td>\n    </tr>\n    <tr>\n      <th>4</th>\n      <td>POOL.OQ</td>\n      <td>2021-10-01</td>\n      <td>17.194</td>\n      <td>0.009205</td>\n      <td>0.027434</td>\n      <td>0.004419</td>\n      <td>-1</td>\n    </tr>\n    <tr>\n      <th>...</th>\n      <td>...</td>\n      <td>...</td>\n      <td>...</td>\n      <td>...</td>\n      <td>...</td>\n      <td>...</td>\n      <td>...</td>\n    </tr>\n    <tr>\n      <th>2485</th>\n      <td>AVY.N</td>\n      <td>2022-10-01</td>\n      <td>-0.131</td>\n      <td>0.015129</td>\n      <td>0.026945</td>\n      <td>0.002964</td>\n      <td>-1</td>\n    </tr>\n    <tr>\n      <th>2486</th>\n      <td>AVY.N</td>\n      <td>2022-07-01</td>\n      <td>11.635</td>\n      <td>0.015325</td>\n      <td>0.027038</td>\n      <td>0.003040</td>\n      <td>-1</td>\n    </tr>\n    <tr>\n      <th>2487</th>\n      <td>AVY.N</td>\n      <td>2022-04-01</td>\n      <td>10.595</td>\n      <td>0.015340</td>\n      <td>0.027380</td>\n      <td>0.003378</td>\n      <td>-1</td>\n    </tr>\n    <tr>\n      <th>2488</th>\n      <td>AVY.N</td>\n      <td>2022-01-01</td>\n      <td>0.294</td>\n      <td>0.014253</td>\n      <td>0.028486</td>\n      <td>0.004596</td>\n      <td>-1</td>\n    </tr>\n    <tr>\n      <th>2489</th>\n      <td>AVY.N</td>\n      <td>2021-10-01</td>\n      <td>4.784</td>\n      <td>0.013524</td>\n      <td>0.028319</td>\n      <td>0.004404</td>\n      <td>-1</td>\n    </tr>\n  </tbody>\n</table>\n<p>2405 rows × 7 columns</p>\n</div>"
     },
     "execution_count": 57,
     "metadata": {},
     "output_type": "execute_result"
    }
   ],
   "source": [
    "rescale = df_accuracy_new\n",
    "#rescale[\"Earnings Per Share - Actual Surprise\"] = MinMaxScaler().fit_transform(np.array(rescale[\"Earnings Per Share - Actual Surprise\"]).reshape(-1,1))\n",
    "rescale[\"Revenue - Actual\"] = MinMaxScaler().fit_transform(np.array(rescale[\"Revenue - Actual\"]).reshape(-1,1))\n",
    "rescale[\"Enterprise Value\"] = MinMaxScaler().fit_transform(np.array(rescale[\"Enterprise Value\"]).reshape(-1,1))\n",
    "rescale[\"Market Capitalization\"] = MinMaxScaler().fit_transform(np.array(rescale[\"Market Capitalization\"]).reshape(-1,1))\n",
    "\n",
    "rescale"
   ],
   "metadata": {
    "collapsed": false
   }
  },
  {
   "cell_type": "code",
   "execution_count": 58,
   "metadata": {},
   "outputs": [
    {
     "data": {
      "text/plain": "<class 'statsmodels.iolib.summary.Summary'>\n\"\"\"\n                                     OLS Regression Results                                     \n================================================================================================\nDep. Variable:     Earnings Per Share - Actual Surprise   R-squared:                       0.006\nModel:                                              OLS   Adj. R-squared:                  0.005\nMethod:                                   Least Squares   F-statistic:                     3.912\nDate:                                  Fri, 24 Feb 2023   Prob (F-statistic):            0.00360\nTime:                                          18:19:15   Log-Likelihood:                -10155.\nNo. Observations:                                  2405   AIC:                         2.032e+04\nDf Residuals:                                      2400   BIC:                         2.035e+04\nDf Model:                                             4                                         \nCovariance Type:                              nonrobust                                         \n=========================================================================================\n                            coef    std err          t      P>|t|      [0.025      0.975]\n-----------------------------------------------------------------------------------------\nconst                     3.1765      1.164      2.729      0.006       0.894       5.459\nRevenue - Actual          6.5779      4.333      1.518      0.129      -1.918      15.074\nEnterprise Value         60.8055     33.828      1.797      0.072      -5.531     127.142\nMarket Capitalization   -64.6737     31.827     -2.032      0.042    -127.085      -2.262\nloss firm status         -2.1940      0.725     -3.025      0.003      -3.616      -0.772\n==============================================================================\nOmnibus:                      441.024   Durbin-Watson:                   1.697\nProb(Omnibus):                  0.000   Jarque-Bera (JB):             3053.986\nSkew:                           0.682   Prob(JB):                         0.00\nKurtosis:                       8.349   Cond. No.                         189.\n==============================================================================\n\nNotes:\n[1] Standard Errors assume that the covariance matrix of the errors is correctly specified.\n\"\"\"",
      "text/html": "<table class=\"simpletable\">\n<caption>OLS Regression Results</caption>\n<tr>\n  <th>Dep. Variable:</th>    <td>Earnings Per Share - Actual Surprise</td> <th>  R-squared:         </th> <td>   0.006</td> \n</tr>\n<tr>\n  <th>Model:</th>                             <td>OLS</td>                 <th>  Adj. R-squared:    </th> <td>   0.005</td> \n</tr>\n<tr>\n  <th>Method:</th>                       <td>Least Squares</td>            <th>  F-statistic:       </th> <td>   3.912</td> \n</tr>\n<tr>\n  <th>Date:</th>                       <td>Fri, 24 Feb 2023</td>           <th>  Prob (F-statistic):</th>  <td>0.00360</td> \n</tr>\n<tr>\n  <th>Time:</th>                           <td>18:19:15</td>               <th>  Log-Likelihood:    </th> <td> -10155.</td> \n</tr>\n<tr>\n  <th>No. Observations:</th>                <td>  2405</td>                <th>  AIC:               </th> <td>2.032e+04</td>\n</tr>\n<tr>\n  <th>Df Residuals:</th>                    <td>  2400</td>                <th>  BIC:               </th> <td>2.035e+04</td>\n</tr>\n<tr>\n  <th>Df Model:</th>                        <td>     4</td>                <th>                     </th>     <td> </td>    \n</tr>\n<tr>\n  <th>Covariance Type:</th>                <td>nonrobust</td>              <th>                     </th>     <td> </td>    \n</tr>\n</table>\n<table class=\"simpletable\">\n<tr>\n            <td></td>               <th>coef</th>     <th>std err</th>      <th>t</th>      <th>P>|t|</th>  <th>[0.025</th>    <th>0.975]</th>  \n</tr>\n<tr>\n  <th>const</th>                 <td>    3.1765</td> <td>    1.164</td> <td>    2.729</td> <td> 0.006</td> <td>    0.894</td> <td>    5.459</td>\n</tr>\n<tr>\n  <th>Revenue - Actual</th>      <td>    6.5779</td> <td>    4.333</td> <td>    1.518</td> <td> 0.129</td> <td>   -1.918</td> <td>   15.074</td>\n</tr>\n<tr>\n  <th>Enterprise Value</th>      <td>   60.8055</td> <td>   33.828</td> <td>    1.797</td> <td> 0.072</td> <td>   -5.531</td> <td>  127.142</td>\n</tr>\n<tr>\n  <th>Market Capitalization</th> <td>  -64.6737</td> <td>   31.827</td> <td>   -2.032</td> <td> 0.042</td> <td> -127.085</td> <td>   -2.262</td>\n</tr>\n<tr>\n  <th>loss firm status</th>      <td>   -2.1940</td> <td>    0.725</td> <td>   -3.025</td> <td> 0.003</td> <td>   -3.616</td> <td>   -0.772</td>\n</tr>\n</table>\n<table class=\"simpletable\">\n<tr>\n  <th>Omnibus:</th>       <td>441.024</td> <th>  Durbin-Watson:     </th> <td>   1.697</td>\n</tr>\n<tr>\n  <th>Prob(Omnibus):</th> <td> 0.000</td>  <th>  Jarque-Bera (JB):  </th> <td>3053.986</td>\n</tr>\n<tr>\n  <th>Skew:</th>          <td> 0.682</td>  <th>  Prob(JB):          </th> <td>    0.00</td>\n</tr>\n<tr>\n  <th>Kurtosis:</th>      <td> 8.349</td>  <th>  Cond. No.          </th> <td>    189.</td>\n</tr>\n</table><br/><br/>Notes:<br/>[1] Standard Errors assume that the covariance matrix of the errors is correctly specified."
     },
     "execution_count": 58,
     "metadata": {},
     "output_type": "execute_result"
    }
   ],
   "source": [
    "y = rescale[\"Earnings Per Share - Actual Surprise\"]\n",
    "#X = df_accuracy_new[['Revenue - Actual', 'Net Income after Tax']]\n",
    "X = rescale.iloc[:, 3:]\n",
    "X = sm.add_constant(X)\n",
    "\n",
    "model = sm.OLS(y, X).fit()\n",
    "\n",
    "model.summary()"
   ]
  },
  {
   "attachments": {},
   "cell_type": "markdown",
   "metadata": {},
   "source": [
    "#### Random Effects Panel Regression"
   ]
  },
  {
   "cell_type": "code",
   "execution_count": 59,
   "outputs": [
    {
     "data": {
      "text/plain": "Instrument                                      object\nDate                                    datetime64[ns]\nEarnings Per Share - Actual Surprise           float64\nRevenue - Actual                               float64\nEnterprise Value                               float64\nMarket Capitalization                          float64\nloss firm status                                 int64\ndtype: object"
     },
     "execution_count": 59,
     "metadata": {},
     "output_type": "execute_result"
    }
   ],
   "source": [
    "df_accuracy_new['Date'] = pd.to_datetime(df_accuracy_new['Date'], infer_datetime_format=True)\n",
    "df_accuracy_new.dtypes"
   ],
   "metadata": {
    "collapsed": false
   }
  },
  {
   "cell_type": "code",
   "execution_count": 60,
   "outputs": [
    {
     "data": {
      "text/plain": "                       Earnings Per Share - Actual Surprise  Revenue - Actual  \\\nInstrument Date                                                                 \nPOOL.OQ    2022-10-01                                 4.196          0.010538   \n           2022-07-01                                 1.503          0.013420   \n           2022-04-01                                34.342          0.009212   \n           2022-01-01                                40.267          0.006746   \n           2021-10-01                                17.194          0.009205   \n...                                                     ...               ...   \nAVY.N      2022-10-01                                -0.131          0.015129   \n           2022-07-01                                11.635          0.015325   \n           2022-04-01                                10.595          0.015340   \n           2022-01-01                                 0.294          0.014253   \n           2021-10-01                                 4.784          0.013524   \n\n                       Enterprise Value  Market Capitalization  \\\nInstrument Date                                                  \nPOOL.OQ    2022-10-01          0.026228               0.002749   \n           2022-07-01          0.026725               0.003255   \n           2022-04-01          0.027679               0.004262   \n           2022-01-01          0.029473               0.006244   \n           2021-10-01          0.027434               0.004419   \n...                                 ...                    ...   \nAVY.N      2022-10-01          0.026945               0.002964   \n           2022-07-01          0.027038               0.003040   \n           2022-04-01          0.027380               0.003378   \n           2022-01-01          0.028486               0.004596   \n           2021-10-01          0.028319               0.004404   \n\n                       loss firm status  \nInstrument Date                          \nPOOL.OQ    2022-10-01                -1  \n           2022-07-01                -1  \n           2022-04-01                -1  \n           2022-01-01                -1  \n           2021-10-01                -1  \n...                                 ...  \nAVY.N      2022-10-01                -1  \n           2022-07-01                -1  \n           2022-04-01                -1  \n           2022-01-01                -1  \n           2021-10-01                -1  \n\n[2405 rows x 5 columns]",
      "text/html": "<div>\n<style scoped>\n    .dataframe tbody tr th:only-of-type {\n        vertical-align: middle;\n    }\n\n    .dataframe tbody tr th {\n        vertical-align: top;\n    }\n\n    .dataframe thead th {\n        text-align: right;\n    }\n</style>\n<table border=\"1\" class=\"dataframe\">\n  <thead>\n    <tr style=\"text-align: right;\">\n      <th></th>\n      <th></th>\n      <th>Earnings Per Share - Actual Surprise</th>\n      <th>Revenue - Actual</th>\n      <th>Enterprise Value</th>\n      <th>Market Capitalization</th>\n      <th>loss firm status</th>\n    </tr>\n    <tr>\n      <th>Instrument</th>\n      <th>Date</th>\n      <th></th>\n      <th></th>\n      <th></th>\n      <th></th>\n      <th></th>\n    </tr>\n  </thead>\n  <tbody>\n    <tr>\n      <th rowspan=\"5\" valign=\"top\">POOL.OQ</th>\n      <th>2022-10-01</th>\n      <td>4.196</td>\n      <td>0.010538</td>\n      <td>0.026228</td>\n      <td>0.002749</td>\n      <td>-1</td>\n    </tr>\n    <tr>\n      <th>2022-07-01</th>\n      <td>1.503</td>\n      <td>0.013420</td>\n      <td>0.026725</td>\n      <td>0.003255</td>\n      <td>-1</td>\n    </tr>\n    <tr>\n      <th>2022-04-01</th>\n      <td>34.342</td>\n      <td>0.009212</td>\n      <td>0.027679</td>\n      <td>0.004262</td>\n      <td>-1</td>\n    </tr>\n    <tr>\n      <th>2022-01-01</th>\n      <td>40.267</td>\n      <td>0.006746</td>\n      <td>0.029473</td>\n      <td>0.006244</td>\n      <td>-1</td>\n    </tr>\n    <tr>\n      <th>2021-10-01</th>\n      <td>17.194</td>\n      <td>0.009205</td>\n      <td>0.027434</td>\n      <td>0.004419</td>\n      <td>-1</td>\n    </tr>\n    <tr>\n      <th>...</th>\n      <th>...</th>\n      <td>...</td>\n      <td>...</td>\n      <td>...</td>\n      <td>...</td>\n      <td>...</td>\n    </tr>\n    <tr>\n      <th rowspan=\"5\" valign=\"top\">AVY.N</th>\n      <th>2022-10-01</th>\n      <td>-0.131</td>\n      <td>0.015129</td>\n      <td>0.026945</td>\n      <td>0.002964</td>\n      <td>-1</td>\n    </tr>\n    <tr>\n      <th>2022-07-01</th>\n      <td>11.635</td>\n      <td>0.015325</td>\n      <td>0.027038</td>\n      <td>0.003040</td>\n      <td>-1</td>\n    </tr>\n    <tr>\n      <th>2022-04-01</th>\n      <td>10.595</td>\n      <td>0.015340</td>\n      <td>0.027380</td>\n      <td>0.003378</td>\n      <td>-1</td>\n    </tr>\n    <tr>\n      <th>2022-01-01</th>\n      <td>0.294</td>\n      <td>0.014253</td>\n      <td>0.028486</td>\n      <td>0.004596</td>\n      <td>-1</td>\n    </tr>\n    <tr>\n      <th>2021-10-01</th>\n      <td>4.784</td>\n      <td>0.013524</td>\n      <td>0.028319</td>\n      <td>0.004404</td>\n      <td>-1</td>\n    </tr>\n  </tbody>\n</table>\n<p>2405 rows × 5 columns</p>\n</div>"
     },
     "execution_count": 60,
     "metadata": {},
     "output_type": "execute_result"
    }
   ],
   "source": [
    "df_accuracy_new.set_index([\"Instrument\", \"Date\"], inplace=True)\n",
    "df_accuracy_new"
   ],
   "metadata": {
    "collapsed": false
   }
  },
  {
   "cell_type": "code",
   "execution_count": 61,
   "metadata": {},
   "outputs": [],
   "source": [
    "import pandas as pd\n",
    "import scipy.stats as st\n",
    "import statsmodels.api as sm\n",
    "import statsmodels.graphics.tsaplots as tsap\n",
    "from statsmodels.compat import lzip\n",
    "from statsmodels.stats.diagnostic import het_white\n",
    "from matplotlib import pyplot as plt"
   ]
  },
  {
   "cell_type": "code",
   "execution_count": 62,
   "outputs": [],
   "source": [
    "y_var_name = 'Earnings Per Share - Actual Surprise'\n",
    "X_var_names = [\"Revenue - Actual\",\"Enterprise Value\",\"Market Capitalization\",\"loss firm status\"]\n",
    "pooled_y=df_accuracy_new[y_var_name]\n",
    "pooled_X=df_accuracy_new[X_var_names]"
   ],
   "metadata": {
    "collapsed": false
   }
  },
  {
   "cell_type": "code",
   "execution_count": 63,
   "outputs": [
    {
     "data": {
      "text/plain": "                       const  Revenue - Actual  Enterprise Value  \\\nInstrument Date                                                    \nPOOL.OQ    2022-10-01    1.0          0.010538          0.026228   \n           2022-07-01    1.0          0.013420          0.026725   \n           2022-04-01    1.0          0.009212          0.027679   \n           2022-01-01    1.0          0.006746          0.029473   \n           2021-10-01    1.0          0.009205          0.027434   \n...                      ...               ...               ...   \nAVY.N      2022-10-01    1.0          0.015129          0.026945   \n           2022-07-01    1.0          0.015325          0.027038   \n           2022-04-01    1.0          0.015340          0.027380   \n           2022-01-01    1.0          0.014253          0.028486   \n           2021-10-01    1.0          0.013524          0.028319   \n\n                       Market Capitalization  loss firm status  \nInstrument Date                                                 \nPOOL.OQ    2022-10-01               0.002749                -1  \n           2022-07-01               0.003255                -1  \n           2022-04-01               0.004262                -1  \n           2022-01-01               0.006244                -1  \n           2021-10-01               0.004419                -1  \n...                                      ...               ...  \nAVY.N      2022-10-01               0.002964                -1  \n           2022-07-01               0.003040                -1  \n           2022-04-01               0.003378                -1  \n           2022-01-01               0.004596                -1  \n           2021-10-01               0.004404                -1  \n\n[2405 rows x 5 columns]",
      "text/html": "<div>\n<style scoped>\n    .dataframe tbody tr th:only-of-type {\n        vertical-align: middle;\n    }\n\n    .dataframe tbody tr th {\n        vertical-align: top;\n    }\n\n    .dataframe thead th {\n        text-align: right;\n    }\n</style>\n<table border=\"1\" class=\"dataframe\">\n  <thead>\n    <tr style=\"text-align: right;\">\n      <th></th>\n      <th></th>\n      <th>const</th>\n      <th>Revenue - Actual</th>\n      <th>Enterprise Value</th>\n      <th>Market Capitalization</th>\n      <th>loss firm status</th>\n    </tr>\n    <tr>\n      <th>Instrument</th>\n      <th>Date</th>\n      <th></th>\n      <th></th>\n      <th></th>\n      <th></th>\n      <th></th>\n    </tr>\n  </thead>\n  <tbody>\n    <tr>\n      <th rowspan=\"5\" valign=\"top\">POOL.OQ</th>\n      <th>2022-10-01</th>\n      <td>1.0</td>\n      <td>0.010538</td>\n      <td>0.026228</td>\n      <td>0.002749</td>\n      <td>-1</td>\n    </tr>\n    <tr>\n      <th>2022-07-01</th>\n      <td>1.0</td>\n      <td>0.013420</td>\n      <td>0.026725</td>\n      <td>0.003255</td>\n      <td>-1</td>\n    </tr>\n    <tr>\n      <th>2022-04-01</th>\n      <td>1.0</td>\n      <td>0.009212</td>\n      <td>0.027679</td>\n      <td>0.004262</td>\n      <td>-1</td>\n    </tr>\n    <tr>\n      <th>2022-01-01</th>\n      <td>1.0</td>\n      <td>0.006746</td>\n      <td>0.029473</td>\n      <td>0.006244</td>\n      <td>-1</td>\n    </tr>\n    <tr>\n      <th>2021-10-01</th>\n      <td>1.0</td>\n      <td>0.009205</td>\n      <td>0.027434</td>\n      <td>0.004419</td>\n      <td>-1</td>\n    </tr>\n    <tr>\n      <th>...</th>\n      <th>...</th>\n      <td>...</td>\n      <td>...</td>\n      <td>...</td>\n      <td>...</td>\n      <td>...</td>\n    </tr>\n    <tr>\n      <th rowspan=\"5\" valign=\"top\">AVY.N</th>\n      <th>2022-10-01</th>\n      <td>1.0</td>\n      <td>0.015129</td>\n      <td>0.026945</td>\n      <td>0.002964</td>\n      <td>-1</td>\n    </tr>\n    <tr>\n      <th>2022-07-01</th>\n      <td>1.0</td>\n      <td>0.015325</td>\n      <td>0.027038</td>\n      <td>0.003040</td>\n      <td>-1</td>\n    </tr>\n    <tr>\n      <th>2022-04-01</th>\n      <td>1.0</td>\n      <td>0.015340</td>\n      <td>0.027380</td>\n      <td>0.003378</td>\n      <td>-1</td>\n    </tr>\n    <tr>\n      <th>2022-01-01</th>\n      <td>1.0</td>\n      <td>0.014253</td>\n      <td>0.028486</td>\n      <td>0.004596</td>\n      <td>-1</td>\n    </tr>\n    <tr>\n      <th>2021-10-01</th>\n      <td>1.0</td>\n      <td>0.013524</td>\n      <td>0.028319</td>\n      <td>0.004404</td>\n      <td>-1</td>\n    </tr>\n  </tbody>\n</table>\n<p>2405 rows × 5 columns</p>\n</div>"
     },
     "execution_count": 63,
     "metadata": {},
     "output_type": "execute_result"
    }
   ],
   "source": [
    "pooled_X = sm.add_constant(pooled_X)\n",
    "pooled_X"
   ],
   "metadata": {
    "collapsed": false
   }
  },
  {
   "cell_type": "code",
   "execution_count": 64,
   "outputs": [],
   "source": [
    "pooled_olsr_model = sm.OLS(endog=pooled_y, exog=pooled_X)"
   ],
   "metadata": {
    "collapsed": false
   }
  },
  {
   "cell_type": "code",
   "execution_count": 65,
   "outputs": [],
   "source": [
    "pooled_olsr_model_results = pooled_olsr_model.fit()"
   ],
   "metadata": {
    "collapsed": false
   }
  },
  {
   "cell_type": "code",
   "execution_count": 66,
   "outputs": [
    {
     "name": "stdout",
     "output_type": "stream",
     "text": [
      "                                     OLS Regression Results                                     \n",
      "================================================================================================\n",
      "Dep. Variable:     Earnings Per Share - Actual Surprise   R-squared:                       0.006\n",
      "Model:                                              OLS   Adj. R-squared:                  0.005\n",
      "Method:                                   Least Squares   F-statistic:                     3.912\n",
      "Date:                                  Fri, 24 Feb 2023   Prob (F-statistic):            0.00360\n",
      "Time:                                          18:19:29   Log-Likelihood:                -10155.\n",
      "No. Observations:                                  2405   AIC:                         2.032e+04\n",
      "Df Residuals:                                      2400   BIC:                         2.035e+04\n",
      "Df Model:                                             4                                         \n",
      "Covariance Type:                              nonrobust                                         \n",
      "=========================================================================================\n",
      "                            coef    std err          t      P>|t|      [0.025      0.975]\n",
      "-----------------------------------------------------------------------------------------\n",
      "const                     3.1765      1.164      2.729      0.006       0.894       5.459\n",
      "Revenue - Actual          6.5779      4.333      1.518      0.129      -1.918      15.074\n",
      "Enterprise Value         60.8055     33.828      1.797      0.072      -5.531     127.142\n",
      "Market Capitalization   -64.6737     31.827     -2.032      0.042    -127.085      -2.262\n",
      "loss firm status         -2.1940      0.725     -3.025      0.003      -3.616      -0.772\n",
      "==============================================================================\n",
      "Omnibus:                      441.024   Durbin-Watson:                   1.697\n",
      "Prob(Omnibus):                  0.000   Jarque-Bera (JB):             3053.986\n",
      "Skew:                           0.682   Prob(JB):                         0.00\n",
      "Kurtosis:                       8.349   Cond. No.                         189.\n",
      "==============================================================================\n",
      "\n",
      "Notes:\n",
      "[1] Standard Errors assume that the covariance matrix of the errors is correctly specified.\n"
     ]
    }
   ],
   "source": [
    "print(pooled_olsr_model_results.summary())"
   ],
   "metadata": {
    "collapsed": false
   }
  },
  {
   "cell_type": "code",
   "execution_count": 68,
   "outputs": [
    {
     "data": {
      "text/plain": "                       Revenue - Actual  Enterprise Value  \\\nInstrument Date                                             \nPOOL.OQ    2022-10-01          0.010538          0.026228   \n           2022-07-01          0.013420          0.026725   \n           2022-04-01          0.009212          0.027679   \n           2022-01-01          0.006746          0.029473   \n           2021-10-01          0.009205          0.027434   \n...                                 ...               ...   \nAVY.N      2022-10-01          0.015129          0.026945   \n           2022-07-01          0.015325          0.027038   \n           2022-04-01          0.015340          0.027380   \n           2022-01-01          0.014253          0.028486   \n           2021-10-01          0.013524          0.028319   \n\n                       Market Capitalization  loss firm status  \nInstrument Date                                                 \nPOOL.OQ    2022-10-01               0.002749               0.0  \n           2022-07-01               0.003255               0.0  \n           2022-04-01               0.004262               0.0  \n           2022-01-01               0.006244               0.0  \n           2021-10-01               0.004419               0.0  \n...                                      ...               ...  \nAVY.N      2022-10-01               0.002964               0.0  \n           2022-07-01               0.003040               0.0  \n           2022-04-01               0.003378               0.0  \n           2022-01-01               0.004596               0.0  \n           2021-10-01               0.004404               0.0  \n\n[2405 rows x 4 columns]",
      "text/html": "<div>\n<style scoped>\n    .dataframe tbody tr th:only-of-type {\n        vertical-align: middle;\n    }\n\n    .dataframe tbody tr th {\n        vertical-align: top;\n    }\n\n    .dataframe thead th {\n        text-align: right;\n    }\n</style>\n<table border=\"1\" class=\"dataframe\">\n  <thead>\n    <tr style=\"text-align: right;\">\n      <th></th>\n      <th></th>\n      <th>Revenue - Actual</th>\n      <th>Enterprise Value</th>\n      <th>Market Capitalization</th>\n      <th>loss firm status</th>\n    </tr>\n    <tr>\n      <th>Instrument</th>\n      <th>Date</th>\n      <th></th>\n      <th></th>\n      <th></th>\n      <th></th>\n    </tr>\n  </thead>\n  <tbody>\n    <tr>\n      <th rowspan=\"5\" valign=\"top\">POOL.OQ</th>\n      <th>2022-10-01</th>\n      <td>0.010538</td>\n      <td>0.026228</td>\n      <td>0.002749</td>\n      <td>0.0</td>\n    </tr>\n    <tr>\n      <th>2022-07-01</th>\n      <td>0.013420</td>\n      <td>0.026725</td>\n      <td>0.003255</td>\n      <td>0.0</td>\n    </tr>\n    <tr>\n      <th>2022-04-01</th>\n      <td>0.009212</td>\n      <td>0.027679</td>\n      <td>0.004262</td>\n      <td>0.0</td>\n    </tr>\n    <tr>\n      <th>2022-01-01</th>\n      <td>0.006746</td>\n      <td>0.029473</td>\n      <td>0.006244</td>\n      <td>0.0</td>\n    </tr>\n    <tr>\n      <th>2021-10-01</th>\n      <td>0.009205</td>\n      <td>0.027434</td>\n      <td>0.004419</td>\n      <td>0.0</td>\n    </tr>\n    <tr>\n      <th>...</th>\n      <th>...</th>\n      <td>...</td>\n      <td>...</td>\n      <td>...</td>\n      <td>...</td>\n    </tr>\n    <tr>\n      <th rowspan=\"5\" valign=\"top\">AVY.N</th>\n      <th>2022-10-01</th>\n      <td>0.015129</td>\n      <td>0.026945</td>\n      <td>0.002964</td>\n      <td>0.0</td>\n    </tr>\n    <tr>\n      <th>2022-07-01</th>\n      <td>0.015325</td>\n      <td>0.027038</td>\n      <td>0.003040</td>\n      <td>0.0</td>\n    </tr>\n    <tr>\n      <th>2022-04-01</th>\n      <td>0.015340</td>\n      <td>0.027380</td>\n      <td>0.003378</td>\n      <td>0.0</td>\n    </tr>\n    <tr>\n      <th>2022-01-01</th>\n      <td>0.014253</td>\n      <td>0.028486</td>\n      <td>0.004596</td>\n      <td>0.0</td>\n    </tr>\n    <tr>\n      <th>2021-10-01</th>\n      <td>0.013524</td>\n      <td>0.028319</td>\n      <td>0.004404</td>\n      <td>0.0</td>\n    </tr>\n  </tbody>\n</table>\n<p>2405 rows × 4 columns</p>\n</div>"
     },
     "execution_count": 68,
     "metadata": {},
     "output_type": "execute_result"
    }
   ],
   "source": [
    "rescale = df_accuracy_new.iloc[:,1:]\n",
    "\n",
    "for column in rescale:\n",
    "    rescale[column] = MinMaxScaler().fit_transform(np.array(rescale[column]).reshape(-1,1))\n",
    "\n",
    "\n",
    "rescale"
   ],
   "metadata": {
    "collapsed": false
   }
  },
  {
   "cell_type": "code",
   "execution_count": 69,
   "outputs": [
    {
     "data": {
      "text/plain": "<class 'statsmodels.iolib.summary.Summary'>\n\"\"\"\n                                     OLS Regression Results                                     \n================================================================================================\nDep. Variable:     Earnings Per Share - Actual Surprise   R-squared:                       0.006\nModel:                                              OLS   Adj. R-squared:                  0.005\nMethod:                                   Least Squares   F-statistic:                     3.912\nDate:                                  Fri, 24 Feb 2023   Prob (F-statistic):            0.00360\nTime:                                          18:19:42   Log-Likelihood:                -10155.\nNo. Observations:                                  2405   AIC:                         2.032e+04\nDf Residuals:                                      2400   BIC:                         2.035e+04\nDf Model:                                             4                                         \nCovariance Type:                              nonrobust                                         \n=========================================================================================\n                            coef    std err          t      P>|t|      [0.025      0.975]\n-----------------------------------------------------------------------------------------\nconst                     5.3705      0.963      5.577      0.000       3.482       7.259\nRevenue - Actual          6.5779      4.333      1.518      0.129      -1.918      15.074\nEnterprise Value         60.8055     33.828      1.797      0.072      -5.531     127.142\nMarket Capitalization   -64.6737     31.827     -2.032      0.042    -127.085      -2.262\nloss firm status         -4.3880      1.451     -3.025      0.003      -7.233      -1.543\n==============================================================================\nOmnibus:                      441.024   Durbin-Watson:                   1.697\nProb(Omnibus):                  0.000   Jarque-Bera (JB):             3053.986\nSkew:                           0.682   Prob(JB):                         0.00\nKurtosis:                       8.349   Cond. No.                         138.\n==============================================================================\n\nNotes:\n[1] Standard Errors assume that the covariance matrix of the errors is correctly specified.\n\"\"\"",
      "text/html": "<table class=\"simpletable\">\n<caption>OLS Regression Results</caption>\n<tr>\n  <th>Dep. Variable:</th>    <td>Earnings Per Share - Actual Surprise</td> <th>  R-squared:         </th> <td>   0.006</td> \n</tr>\n<tr>\n  <th>Model:</th>                             <td>OLS</td>                 <th>  Adj. R-squared:    </th> <td>   0.005</td> \n</tr>\n<tr>\n  <th>Method:</th>                       <td>Least Squares</td>            <th>  F-statistic:       </th> <td>   3.912</td> \n</tr>\n<tr>\n  <th>Date:</th>                       <td>Fri, 24 Feb 2023</td>           <th>  Prob (F-statistic):</th>  <td>0.00360</td> \n</tr>\n<tr>\n  <th>Time:</th>                           <td>18:19:42</td>               <th>  Log-Likelihood:    </th> <td> -10155.</td> \n</tr>\n<tr>\n  <th>No. Observations:</th>                <td>  2405</td>                <th>  AIC:               </th> <td>2.032e+04</td>\n</tr>\n<tr>\n  <th>Df Residuals:</th>                    <td>  2400</td>                <th>  BIC:               </th> <td>2.035e+04</td>\n</tr>\n<tr>\n  <th>Df Model:</th>                        <td>     4</td>                <th>                     </th>     <td> </td>    \n</tr>\n<tr>\n  <th>Covariance Type:</th>                <td>nonrobust</td>              <th>                     </th>     <td> </td>    \n</tr>\n</table>\n<table class=\"simpletable\">\n<tr>\n            <td></td>               <th>coef</th>     <th>std err</th>      <th>t</th>      <th>P>|t|</th>  <th>[0.025</th>    <th>0.975]</th>  \n</tr>\n<tr>\n  <th>const</th>                 <td>    5.3705</td> <td>    0.963</td> <td>    5.577</td> <td> 0.000</td> <td>    3.482</td> <td>    7.259</td>\n</tr>\n<tr>\n  <th>Revenue - Actual</th>      <td>    6.5779</td> <td>    4.333</td> <td>    1.518</td> <td> 0.129</td> <td>   -1.918</td> <td>   15.074</td>\n</tr>\n<tr>\n  <th>Enterprise Value</th>      <td>   60.8055</td> <td>   33.828</td> <td>    1.797</td> <td> 0.072</td> <td>   -5.531</td> <td>  127.142</td>\n</tr>\n<tr>\n  <th>Market Capitalization</th> <td>  -64.6737</td> <td>   31.827</td> <td>   -2.032</td> <td> 0.042</td> <td> -127.085</td> <td>   -2.262</td>\n</tr>\n<tr>\n  <th>loss firm status</th>      <td>   -4.3880</td> <td>    1.451</td> <td>   -3.025</td> <td> 0.003</td> <td>   -7.233</td> <td>   -1.543</td>\n</tr>\n</table>\n<table class=\"simpletable\">\n<tr>\n  <th>Omnibus:</th>       <td>441.024</td> <th>  Durbin-Watson:     </th> <td>   1.697</td>\n</tr>\n<tr>\n  <th>Prob(Omnibus):</th> <td> 0.000</td>  <th>  Jarque-Bera (JB):  </th> <td>3053.986</td>\n</tr>\n<tr>\n  <th>Skew:</th>          <td> 0.682</td>  <th>  Prob(JB):          </th> <td>    0.00</td>\n</tr>\n<tr>\n  <th>Kurtosis:</th>      <td> 8.349</td>  <th>  Cond. No.          </th> <td>    138.</td>\n</tr>\n</table><br/><br/>Notes:<br/>[1] Standard Errors assume that the covariance matrix of the errors is correctly specified."
     },
     "execution_count": 69,
     "metadata": {},
     "output_type": "execute_result"
    }
   ],
   "source": [
    "y = df_accuracy_new[\"Earnings Per Share - Actual Surprise\"]\n",
    "#X = df_accuracy_new[['Revenue - Actual', 'Net Income after Tax']]\n",
    "X = rescale\n",
    "X = sm.add_constant(X)\n",
    "\n",
    "model = sm.OLS(y, X).fit()\n",
    "\n",
    "model.summary()"
   ],
   "metadata": {
    "collapsed": false
   }
  },
  {
   "cell_type": "code",
   "execution_count": 32,
   "outputs": [],
   "source": [],
   "metadata": {
    "collapsed": false
   }
  }
 ],
 "metadata": {
  "kernelspec": {
   "display_name": "AnalystForecast",
   "language": "python",
   "name": "python3"
  },
  "language_info": {
   "name": "python",
   "version": "3.11.0"
  },
  "orig_nbformat": 4,
  "vscode": {
   "interpreter": {
    "hash": "264d128b47a19451ae7876f5ee246d3f7de9751940a5ebe47f15ec6626e5a91f"
   }
  }
 },
 "nbformat": 4,
 "nbformat_minor": 2
}
