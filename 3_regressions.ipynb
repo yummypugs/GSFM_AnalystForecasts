{
 "cells": [
  {
   "cell_type": "code",
   "execution_count": null,
   "metadata": {},
   "outputs": [],
   "source": [
    "import pandas as pd\n",
    "import statsmodels.api as sm\n",
    "from linearmodels.panel import PanelOLS"
   ]
  },
  {
   "attachments": {},
   "cell_type": "markdown",
   "metadata": {},
   "source": [
    "Professor said we should start with a regular OLS Regression.\n",
    "I quickly looked into this and think a random effects panel regression would probably fit our data better (still need to read more into this)\n",
    "So probably we can first do a regular OLS and than compare it to the random effects panel regression. Just some initial thoughts though!!!\n",
    "Here is some intial code to run them:\n"
   ]
  },
  {
   "cell_type": "code",
   "execution_count": null,
   "metadata": {},
   "outputs": [
    {
     "ename": "",
     "evalue": "",
     "output_type": "error",
     "traceback": [
      "\u001b[1;31mFailed to start the Kernel. \n",
      "\u001b[1;31mKernel Python 3.11.1 is not usable. Check the Jupyter output tab for more information. \n",
      "\u001b[1;31mView Jupyter <a href='command:jupyter.viewOutput'>log</a> for further details."
     ]
    }
   ],
   "source": [
    "#decide which df to use"
   ]
  },
  {
   "attachments": {},
   "cell_type": "markdown",
   "metadata": {},
   "source": [
    "#### OLS Regression"
   ]
  },
  {
   "cell_type": "code",
   "execution_count": null,
   "metadata": {},
   "outputs": [],
   "source": [
    "y = df[\"Earnings Per Share - Actual Surprise\"]\n",
    "X = df[['factor_1', 'factor_2', 'factor_3']]\n",
    "X = sm.add_constant(X)\n",
    "\n",
    "model = sm.OLS(y, X).fit()\n",
    "\n",
    "model.summary()"
   ]
  },
  {
   "attachments": {},
   "cell_type": "markdown",
   "metadata": {},
   "source": [
    "#### Random Effects Panel Regression"
   ]
  },
  {
   "cell_type": "code",
   "execution_count": null,
   "metadata": {},
   "outputs": [],
   "source": [
    "# load the data as a pandas dataframe\n",
    "df = pd.read_csv('data.csv')\n",
    "\n",
    "# set the index to be the time variable and the cross-sectional variable\n",
    "df.set_index([\"Date\", \"Instrument\"], inplace=True)\n",
    "\n",
    "# define the dependent variable\n",
    "y = df[\"Earnings Per Share - Actual Surprise\"]\n",
    "\n",
    "# define the independent variables\n",
    "X = df[['factor_1', 'factor_2']]\n",
    "\n",
    "# perform the panel regression\n",
    "panel_model = PanelOLS(y, X, entity_effects=True, time_effects=True)\n",
    "\n",
    "# summary statistics\n",
    "panel_model.summary\n"
   ]
  }
 ],
 "metadata": {
  "kernelspec": {
   "display_name": "Python 3",
   "language": "python",
   "name": "python3"
  },
  "language_info": {
   "name": "python",
   "version": "3.11.1"
  },
  "orig_nbformat": 4,
  "vscode": {
   "interpreter": {
    "hash": "aee8b7b246df8f9039afb4144a1f6fd8d2ca17a180786b69acc140d282b71a49"
   }
  }
 },
 "nbformat": 4,
 "nbformat_minor": 2
}
