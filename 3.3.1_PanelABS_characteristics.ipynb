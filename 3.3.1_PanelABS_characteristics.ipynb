{
 "cells": [
  {
   "attachments": {},
   "cell_type": "markdown",
   "metadata": {},
   "source": [
    "# Panle Regression - Firm Characteristics"
   ]
  },
  {
   "attachments": {},
   "cell_type": "markdown",
   "metadata": {},
   "source": [
    "A panel regression is a suitable regression method for analyzing our data, especially since you have quarterly data for multiple companies over a long period of time. A panel regression model accounts for both within-entity and between-entity variations, making it a useful tool to analyze data with a time series and cross-sectional dimension.  \n",
    "With panel data, we can control for individual-level characteristics that may affect forecast accuracy by including fixed effects for each company or industry. We can also account for time-specific factors that may affect forecast accuracy by including time fixed effects or time-varying covariates."
   ]
  },
  {
   "attachments": {},
   "cell_type": "markdown",
   "metadata": {},
   "source": [
    "### Random Effects Panel Regression"
   ]
  },
  {
   "cell_type": "code",
   "execution_count": 9,
   "metadata": {},
   "outputs": [],
   "source": [
    "import pandas as pd\n",
    "import numpy as np\n",
    "import datetime as dt\n",
    "import sklearn\n",
    "import statsmodels.api as sm\n",
    "from sklearn.linear_model import LinearRegression\n",
    "from sklearn.preprocessing import MinMaxScaler\n",
    "from sklearn.preprocessing import StandardScaler\n",
    "from linearmodels.panel import PanelOLS\n",
    "from linearmodels.panel import RandomEffects\n"
   ]
  },
  {
   "attachments": {},
   "cell_type": "markdown",
   "metadata": {},
   "source": [
    "Data"
   ]
  },
  {
   "cell_type": "code",
   "execution_count": 10,
   "metadata": {},
   "outputs": [
    {
     "data": {
      "text/plain": "      Instrument        Date GICS Industry Group Name  \\\n0          AVY.N  2013-01-01                Materials   \n1          AVY.N  2013-04-01                Materials   \n2          AVY.N  2013-07-01                Materials   \n3          AVY.N  2013-10-01                Materials   \n4          AVY.N  2014-01-01                Materials   \n...          ...         ...                      ...   \n19335    POOL.OQ  2021-10-01                Retailing   \n19336    POOL.OQ  2022-01-01                Retailing   \n19337    POOL.OQ  2022-04-01                Retailing   \n19338    POOL.OQ  2022-07-01                Retailing   \n19339    POOL.OQ  2022-10-01                Retailing   \n\n       Earnings Per Share - Actual Surprise  Revenue - Actual  \\\n0                                    11.178      1.532200e+09   \n1                                     2.482      1.498900e+09   \n2                                     1.068      1.552300e+09   \n3                                     8.095      1.504900e+09   \n4                                     1.471      1.583900e+09   \n...                                     ...               ...   \n19335                                17.194      1.411448e+09   \n19336                                40.267      1.035557e+09   \n19337                                34.342      1.412650e+09   \n19338                                 1.503      2.055818e+09   \n19339                                 4.196      1.615339e+09   \n\n       Enterprise Value  Market Capitalization  \\\n0          4.413001e+09           3.426001e+09   \n1          5.459128e+09           4.309428e+09   \n2          5.436229e+09           4.258229e+09   \n3          5.029514e+09           4.273414e+09   \n4          5.553068e+09           4.877168e+09   \n...                 ...                    ...   \n19335      1.769954e+10           1.742020e+10   \n19336      2.384882e+10           2.268979e+10   \n19337      1.843682e+10           1.696712e+10   \n19338      1.556187e+10           1.405795e+10   \n19339      1.406160e+10           1.259813e+10   \n\n       Enterprise Value To Sales (Daily Time Series Ratio)  \\\n0                                               0.799347     \n1                                               0.895787     \n2                                               0.906078     \n3                                               0.903176     \n4                                               0.920659     \n...                                                  ...     \n19335                                           3.684400     \n19336                                           4.504382     \n19337                                           3.422880     \n19338                                           2.749481     \n19339                                           2.383926     \n\n       3 Month Total Return    Volume  loss firm status  \n0                 10.637479  207295.0                -1  \n1                 24.148726       0.0                -1  \n2                 -0.054218       0.0                -1  \n3                  2.467620  236291.0                -1  \n4                 16.003852  157761.0                -1  \n...                     ...       ...               ...  \n19335             -5.130322  157740.0                -1  \n19336             30.489705   82349.0                -1  \n19337            -25.160664  290897.0                -1  \n19338            -21.661570  185584.0                -1  \n19339             -9.164375  238539.0                -1  \n\n[19340 rows x 11 columns]",
      "text/html": "<div>\n<style scoped>\n    .dataframe tbody tr th:only-of-type {\n        vertical-align: middle;\n    }\n\n    .dataframe tbody tr th {\n        vertical-align: top;\n    }\n\n    .dataframe thead th {\n        text-align: right;\n    }\n</style>\n<table border=\"1\" class=\"dataframe\">\n  <thead>\n    <tr style=\"text-align: right;\">\n      <th></th>\n      <th>Instrument</th>\n      <th>Date</th>\n      <th>GICS Industry Group Name</th>\n      <th>Earnings Per Share - Actual Surprise</th>\n      <th>Revenue - Actual</th>\n      <th>Enterprise Value</th>\n      <th>Market Capitalization</th>\n      <th>Enterprise Value To Sales (Daily Time Series Ratio)</th>\n      <th>3 Month Total Return</th>\n      <th>Volume</th>\n      <th>loss firm status</th>\n    </tr>\n  </thead>\n  <tbody>\n    <tr>\n      <th>0</th>\n      <td>AVY.N</td>\n      <td>2013-01-01</td>\n      <td>Materials</td>\n      <td>11.178</td>\n      <td>1.532200e+09</td>\n      <td>4.413001e+09</td>\n      <td>3.426001e+09</td>\n      <td>0.799347</td>\n      <td>10.637479</td>\n      <td>207295.0</td>\n      <td>-1</td>\n    </tr>\n    <tr>\n      <th>1</th>\n      <td>AVY.N</td>\n      <td>2013-04-01</td>\n      <td>Materials</td>\n      <td>2.482</td>\n      <td>1.498900e+09</td>\n      <td>5.459128e+09</td>\n      <td>4.309428e+09</td>\n      <td>0.895787</td>\n      <td>24.148726</td>\n      <td>0.0</td>\n      <td>-1</td>\n    </tr>\n    <tr>\n      <th>2</th>\n      <td>AVY.N</td>\n      <td>2013-07-01</td>\n      <td>Materials</td>\n      <td>1.068</td>\n      <td>1.552300e+09</td>\n      <td>5.436229e+09</td>\n      <td>4.258229e+09</td>\n      <td>0.906078</td>\n      <td>-0.054218</td>\n      <td>0.0</td>\n      <td>-1</td>\n    </tr>\n    <tr>\n      <th>3</th>\n      <td>AVY.N</td>\n      <td>2013-10-01</td>\n      <td>Materials</td>\n      <td>8.095</td>\n      <td>1.504900e+09</td>\n      <td>5.029514e+09</td>\n      <td>4.273414e+09</td>\n      <td>0.903176</td>\n      <td>2.467620</td>\n      <td>236291.0</td>\n      <td>-1</td>\n    </tr>\n    <tr>\n      <th>4</th>\n      <td>AVY.N</td>\n      <td>2014-01-01</td>\n      <td>Materials</td>\n      <td>1.471</td>\n      <td>1.583900e+09</td>\n      <td>5.553068e+09</td>\n      <td>4.877168e+09</td>\n      <td>0.920659</td>\n      <td>16.003852</td>\n      <td>157761.0</td>\n      <td>-1</td>\n    </tr>\n    <tr>\n      <th>...</th>\n      <td>...</td>\n      <td>...</td>\n      <td>...</td>\n      <td>...</td>\n      <td>...</td>\n      <td>...</td>\n      <td>...</td>\n      <td>...</td>\n      <td>...</td>\n      <td>...</td>\n      <td>...</td>\n    </tr>\n    <tr>\n      <th>19335</th>\n      <td>POOL.OQ</td>\n      <td>2021-10-01</td>\n      <td>Retailing</td>\n      <td>17.194</td>\n      <td>1.411448e+09</td>\n      <td>1.769954e+10</td>\n      <td>1.742020e+10</td>\n      <td>3.684400</td>\n      <td>-5.130322</td>\n      <td>157740.0</td>\n      <td>-1</td>\n    </tr>\n    <tr>\n      <th>19336</th>\n      <td>POOL.OQ</td>\n      <td>2022-01-01</td>\n      <td>Retailing</td>\n      <td>40.267</td>\n      <td>1.035557e+09</td>\n      <td>2.384882e+10</td>\n      <td>2.268979e+10</td>\n      <td>4.504382</td>\n      <td>30.489705</td>\n      <td>82349.0</td>\n      <td>-1</td>\n    </tr>\n    <tr>\n      <th>19337</th>\n      <td>POOL.OQ</td>\n      <td>2022-04-01</td>\n      <td>Retailing</td>\n      <td>34.342</td>\n      <td>1.412650e+09</td>\n      <td>1.843682e+10</td>\n      <td>1.696712e+10</td>\n      <td>3.422880</td>\n      <td>-25.160664</td>\n      <td>290897.0</td>\n      <td>-1</td>\n    </tr>\n    <tr>\n      <th>19338</th>\n      <td>POOL.OQ</td>\n      <td>2022-07-01</td>\n      <td>Retailing</td>\n      <td>1.503</td>\n      <td>2.055818e+09</td>\n      <td>1.556187e+10</td>\n      <td>1.405795e+10</td>\n      <td>2.749481</td>\n      <td>-21.661570</td>\n      <td>185584.0</td>\n      <td>-1</td>\n    </tr>\n    <tr>\n      <th>19339</th>\n      <td>POOL.OQ</td>\n      <td>2022-10-01</td>\n      <td>Retailing</td>\n      <td>4.196</td>\n      <td>1.615339e+09</td>\n      <td>1.406160e+10</td>\n      <td>1.259813e+10</td>\n      <td>2.383926</td>\n      <td>-9.164375</td>\n      <td>238539.0</td>\n      <td>-1</td>\n    </tr>\n  </tbody>\n</table>\n<p>19340 rows × 11 columns</p>\n</div>"
     },
     "execution_count": 10,
     "metadata": {},
     "output_type": "execute_result"
    }
   ],
   "source": [
    "df = pd.read_csv(\"Dataframes/characteristics.csv\")\n",
    "X_var_names = [\"Revenue - Actual\",\"Enterprise Value\",\"Market Capitalization\",\"loss firm status\", \"Enterprise Value To Sales (Daily Time Series Ratio)\", \"3 Month Total Return\", \"Volume\"]\n",
    "df"
   ]
  },
  {
   "cell_type": "code",
   "execution_count": 11,
   "metadata": {},
   "outputs": [],
   "source": [
    "df[\"Date\"] = pd.to_datetime(df[\"Date\"])"
   ]
  },
  {
   "cell_type": "markdown",
   "metadata": {},
   "source": [
    "Remove outliers"
   ]
  },
  {
   "cell_type": "code",
   "execution_count": 12,
   "metadata": {},
   "outputs": [
    {
     "data": {
      "text/plain": "      Instrument       Date GICS Industry Group Name  \\\n0          AVY.N 2013-01-01                Materials   \n1          AVY.N 2013-04-01                Materials   \n2          AVY.N 2013-07-01                Materials   \n3          AVY.N 2013-10-01                Materials   \n4          AVY.N 2014-01-01                Materials   \n...          ...        ...                      ...   \n19335    POOL.OQ 2021-10-01                Retailing   \n19336    POOL.OQ 2022-01-01                Retailing   \n19337    POOL.OQ 2022-04-01                Retailing   \n19338    POOL.OQ 2022-07-01                Retailing   \n19339    POOL.OQ 2022-10-01                Retailing   \n\n       Earnings Per Share - Actual Surprise  Revenue - Actual  \\\n0                                    11.178      1.532200e+09   \n1                                     2.482      1.498900e+09   \n2                                     1.068      1.552300e+09   \n3                                     8.095      1.504900e+09   \n4                                     1.471      1.583900e+09   \n...                                     ...               ...   \n19335                                17.194      1.411448e+09   \n19336                                40.267      1.035557e+09   \n19337                                34.342      1.412650e+09   \n19338                                 1.503      2.055818e+09   \n19339                                 4.196      1.615339e+09   \n\n       Enterprise Value  Market Capitalization  \\\n0          4.413001e+09           3.426001e+09   \n1          5.459128e+09           4.309428e+09   \n2          5.436229e+09           4.258229e+09   \n3          5.029514e+09           4.273414e+09   \n4          5.553068e+09           4.877168e+09   \n...                 ...                    ...   \n19335      1.769954e+10           1.742020e+10   \n19336      2.384882e+10           2.268979e+10   \n19337      1.843682e+10           1.696712e+10   \n19338      1.556187e+10           1.405795e+10   \n19339      1.406160e+10           1.259813e+10   \n\n       Enterprise Value To Sales (Daily Time Series Ratio)  \\\n0                                               0.799347     \n1                                               0.895787     \n2                                               0.906078     \n3                                               0.903176     \n4                                               0.920659     \n...                                                  ...     \n19335                                           3.684400     \n19336                                           4.504382     \n19337                                           3.422880     \n19338                                           2.749481     \n19339                                           2.383926     \n\n       3 Month Total Return    Volume  loss firm status  \n0                 10.637479  207295.0                -1  \n1                 24.148726       0.0                -1  \n2                 -0.054218       0.0                -1  \n3                  2.467620  236291.0                -1  \n4                 16.003852  157761.0                -1  \n...                     ...       ...               ...  \n19335             -5.130322  157740.0                -1  \n19336             30.489705   82349.0                -1  \n19337            -25.160664  290897.0                -1  \n19338            -21.661570  185584.0                -1  \n19339             -9.164375  238539.0                -1  \n\n[18569 rows x 11 columns]",
      "text/html": "<div>\n<style scoped>\n    .dataframe tbody tr th:only-of-type {\n        vertical-align: middle;\n    }\n\n    .dataframe tbody tr th {\n        vertical-align: top;\n    }\n\n    .dataframe thead th {\n        text-align: right;\n    }\n</style>\n<table border=\"1\" class=\"dataframe\">\n  <thead>\n    <tr style=\"text-align: right;\">\n      <th></th>\n      <th>Instrument</th>\n      <th>Date</th>\n      <th>GICS Industry Group Name</th>\n      <th>Earnings Per Share - Actual Surprise</th>\n      <th>Revenue - Actual</th>\n      <th>Enterprise Value</th>\n      <th>Market Capitalization</th>\n      <th>Enterprise Value To Sales (Daily Time Series Ratio)</th>\n      <th>3 Month Total Return</th>\n      <th>Volume</th>\n      <th>loss firm status</th>\n    </tr>\n  </thead>\n  <tbody>\n    <tr>\n      <th>0</th>\n      <td>AVY.N</td>\n      <td>2013-01-01</td>\n      <td>Materials</td>\n      <td>11.178</td>\n      <td>1.532200e+09</td>\n      <td>4.413001e+09</td>\n      <td>3.426001e+09</td>\n      <td>0.799347</td>\n      <td>10.637479</td>\n      <td>207295.0</td>\n      <td>-1</td>\n    </tr>\n    <tr>\n      <th>1</th>\n      <td>AVY.N</td>\n      <td>2013-04-01</td>\n      <td>Materials</td>\n      <td>2.482</td>\n      <td>1.498900e+09</td>\n      <td>5.459128e+09</td>\n      <td>4.309428e+09</td>\n      <td>0.895787</td>\n      <td>24.148726</td>\n      <td>0.0</td>\n      <td>-1</td>\n    </tr>\n    <tr>\n      <th>2</th>\n      <td>AVY.N</td>\n      <td>2013-07-01</td>\n      <td>Materials</td>\n      <td>1.068</td>\n      <td>1.552300e+09</td>\n      <td>5.436229e+09</td>\n      <td>4.258229e+09</td>\n      <td>0.906078</td>\n      <td>-0.054218</td>\n      <td>0.0</td>\n      <td>-1</td>\n    </tr>\n    <tr>\n      <th>3</th>\n      <td>AVY.N</td>\n      <td>2013-10-01</td>\n      <td>Materials</td>\n      <td>8.095</td>\n      <td>1.504900e+09</td>\n      <td>5.029514e+09</td>\n      <td>4.273414e+09</td>\n      <td>0.903176</td>\n      <td>2.467620</td>\n      <td>236291.0</td>\n      <td>-1</td>\n    </tr>\n    <tr>\n      <th>4</th>\n      <td>AVY.N</td>\n      <td>2014-01-01</td>\n      <td>Materials</td>\n      <td>1.471</td>\n      <td>1.583900e+09</td>\n      <td>5.553068e+09</td>\n      <td>4.877168e+09</td>\n      <td>0.920659</td>\n      <td>16.003852</td>\n      <td>157761.0</td>\n      <td>-1</td>\n    </tr>\n    <tr>\n      <th>...</th>\n      <td>...</td>\n      <td>...</td>\n      <td>...</td>\n      <td>...</td>\n      <td>...</td>\n      <td>...</td>\n      <td>...</td>\n      <td>...</td>\n      <td>...</td>\n      <td>...</td>\n      <td>...</td>\n    </tr>\n    <tr>\n      <th>19335</th>\n      <td>POOL.OQ</td>\n      <td>2021-10-01</td>\n      <td>Retailing</td>\n      <td>17.194</td>\n      <td>1.411448e+09</td>\n      <td>1.769954e+10</td>\n      <td>1.742020e+10</td>\n      <td>3.684400</td>\n      <td>-5.130322</td>\n      <td>157740.0</td>\n      <td>-1</td>\n    </tr>\n    <tr>\n      <th>19336</th>\n      <td>POOL.OQ</td>\n      <td>2022-01-01</td>\n      <td>Retailing</td>\n      <td>40.267</td>\n      <td>1.035557e+09</td>\n      <td>2.384882e+10</td>\n      <td>2.268979e+10</td>\n      <td>4.504382</td>\n      <td>30.489705</td>\n      <td>82349.0</td>\n      <td>-1</td>\n    </tr>\n    <tr>\n      <th>19337</th>\n      <td>POOL.OQ</td>\n      <td>2022-04-01</td>\n      <td>Retailing</td>\n      <td>34.342</td>\n      <td>1.412650e+09</td>\n      <td>1.843682e+10</td>\n      <td>1.696712e+10</td>\n      <td>3.422880</td>\n      <td>-25.160664</td>\n      <td>290897.0</td>\n      <td>-1</td>\n    </tr>\n    <tr>\n      <th>19338</th>\n      <td>POOL.OQ</td>\n      <td>2022-07-01</td>\n      <td>Retailing</td>\n      <td>1.503</td>\n      <td>2.055818e+09</td>\n      <td>1.556187e+10</td>\n      <td>1.405795e+10</td>\n      <td>2.749481</td>\n      <td>-21.661570</td>\n      <td>185584.0</td>\n      <td>-1</td>\n    </tr>\n    <tr>\n      <th>19339</th>\n      <td>POOL.OQ</td>\n      <td>2022-10-01</td>\n      <td>Retailing</td>\n      <td>4.196</td>\n      <td>1.615339e+09</td>\n      <td>1.406160e+10</td>\n      <td>1.259813e+10</td>\n      <td>2.383926</td>\n      <td>-9.164375</td>\n      <td>238539.0</td>\n      <td>-1</td>\n    </tr>\n  </tbody>\n</table>\n<p>18569 rows × 11 columns</p>\n</div>"
     },
     "execution_count": 12,
     "metadata": {},
     "output_type": "execute_result"
    }
   ],
   "source": [
    "#removing outliers\n",
    "summary_stats = df[\"Earnings Per Share - Actual Surprise\"].describe()\n",
    "Q1 = summary_stats.loc['25%']\n",
    "Q3 = summary_stats.loc['75%']\n",
    "IQR = Q3 - Q1\n",
    "threshold = 7\n",
    "surprise_outliers_removed = df[\"Earnings Per Share - Actual Surprise\"].loc[~((df[\"Earnings Per Share - Actual Surprise\"] < (Q1 - threshold * IQR)) | (df[\"Earnings Per Share - Actual Surprise\"] > (Q3 + threshold * IQR)))]\n",
    "df_clean = df.copy()\n",
    "df_clean[\"Earnings Per Share - Actual Surprise\"] = surprise_outliers_removed\n",
    "df_clean = df_clean.dropna(subset=[\"Earnings Per Share - Actual Surprise\"])\n",
    "#df_clean = df_clean.dropna()\n",
    "df_clean"
   ]
  },
  {
   "attachments": {},
   "cell_type": "markdown",
   "metadata": {},
   "source": [
    "Standardising"
   ]
  },
  {
   "cell_type": "code",
   "execution_count": 13,
   "metadata": {},
   "outputs": [
    {
     "data": {
      "text/plain": "      Instrument       Date GICS Industry Group Name  \\\n0          AVY.N 2013-01-01                Materials   \n1          AVY.N 2013-04-01                Materials   \n2          AVY.N 2013-07-01                Materials   \n3          AVY.N 2013-10-01                Materials   \n4          AVY.N 2014-01-01                Materials   \n...          ...        ...                      ...   \n19335    POOL.OQ 2021-10-01                Retailing   \n19336    POOL.OQ 2022-01-01                Retailing   \n19337    POOL.OQ 2022-04-01                Retailing   \n19338    POOL.OQ 2022-07-01                Retailing   \n19339    POOL.OQ 2022-10-01                Retailing   \n\n       Earnings Per Share - Actual Surprise  Revenue - Actual  \\\n0                                    11.178          0.065123   \n1                                     2.482          0.064917   \n2                                     1.068          0.065247   \n3                                     8.095          0.064955   \n4                                     1.471          0.065443   \n...                                     ...               ...   \n19335                                17.194          0.064377   \n19336                                40.267          0.062055   \n19337                                34.342          0.064385   \n19338                                 1.503          0.068358   \n19339                                 4.196          0.065637   \n\n       Enterprise Value  Market Capitalization  \\\n0              0.027862               0.001166   \n1              0.028207               0.001471   \n2              0.028199               0.001453   \n3              0.028065               0.001459   \n4              0.028238               0.001667   \n...                 ...                    ...   \n19335          0.032245               0.006004   \n19336          0.034274               0.007826   \n19337          0.032488               0.005848   \n19338          0.031540               0.004842   \n19339          0.031045               0.004337   \n\n       Enterprise Value To Sales (Daily Time Series Ratio)  \\\n0                                               0.027195     \n1                                               0.027308     \n2                                               0.027321     \n3                                               0.027317     \n4                                               0.027338     \n...                                                  ...     \n19335                                           0.030598     \n19336                                           0.031566     \n19337                                           0.030290     \n19338                                           0.029495     \n19339                                           0.029064     \n\n       3 Month Total Return    Volume  loss firm status  \n0                  0.298034  0.001183                -1  \n1                  0.340793  0.000000                -1  \n2                  0.264198  0.000000                -1  \n3                  0.272179  0.001348                -1  \n4                  0.315017  0.000900                -1  \n...                     ...       ...               ...  \n19335              0.248134  0.000900                -1  \n19336              0.360861  0.000470                -1  \n19337              0.184744  0.001660                -1  \n19338              0.195817  0.001059                -1  \n19339              0.235367  0.001361                -1  \n\n[18569 rows x 11 columns]",
      "text/html": "<div>\n<style scoped>\n    .dataframe tbody tr th:only-of-type {\n        vertical-align: middle;\n    }\n\n    .dataframe tbody tr th {\n        vertical-align: top;\n    }\n\n    .dataframe thead th {\n        text-align: right;\n    }\n</style>\n<table border=\"1\" class=\"dataframe\">\n  <thead>\n    <tr style=\"text-align: right;\">\n      <th></th>\n      <th>Instrument</th>\n      <th>Date</th>\n      <th>GICS Industry Group Name</th>\n      <th>Earnings Per Share - Actual Surprise</th>\n      <th>Revenue - Actual</th>\n      <th>Enterprise Value</th>\n      <th>Market Capitalization</th>\n      <th>Enterprise Value To Sales (Daily Time Series Ratio)</th>\n      <th>3 Month Total Return</th>\n      <th>Volume</th>\n      <th>loss firm status</th>\n    </tr>\n  </thead>\n  <tbody>\n    <tr>\n      <th>0</th>\n      <td>AVY.N</td>\n      <td>2013-01-01</td>\n      <td>Materials</td>\n      <td>11.178</td>\n      <td>0.065123</td>\n      <td>0.027862</td>\n      <td>0.001166</td>\n      <td>0.027195</td>\n      <td>0.298034</td>\n      <td>0.001183</td>\n      <td>-1</td>\n    </tr>\n    <tr>\n      <th>1</th>\n      <td>AVY.N</td>\n      <td>2013-04-01</td>\n      <td>Materials</td>\n      <td>2.482</td>\n      <td>0.064917</td>\n      <td>0.028207</td>\n      <td>0.001471</td>\n      <td>0.027308</td>\n      <td>0.340793</td>\n      <td>0.000000</td>\n      <td>-1</td>\n    </tr>\n    <tr>\n      <th>2</th>\n      <td>AVY.N</td>\n      <td>2013-07-01</td>\n      <td>Materials</td>\n      <td>1.068</td>\n      <td>0.065247</td>\n      <td>0.028199</td>\n      <td>0.001453</td>\n      <td>0.027321</td>\n      <td>0.264198</td>\n      <td>0.000000</td>\n      <td>-1</td>\n    </tr>\n    <tr>\n      <th>3</th>\n      <td>AVY.N</td>\n      <td>2013-10-01</td>\n      <td>Materials</td>\n      <td>8.095</td>\n      <td>0.064955</td>\n      <td>0.028065</td>\n      <td>0.001459</td>\n      <td>0.027317</td>\n      <td>0.272179</td>\n      <td>0.001348</td>\n      <td>-1</td>\n    </tr>\n    <tr>\n      <th>4</th>\n      <td>AVY.N</td>\n      <td>2014-01-01</td>\n      <td>Materials</td>\n      <td>1.471</td>\n      <td>0.065443</td>\n      <td>0.028238</td>\n      <td>0.001667</td>\n      <td>0.027338</td>\n      <td>0.315017</td>\n      <td>0.000900</td>\n      <td>-1</td>\n    </tr>\n    <tr>\n      <th>...</th>\n      <td>...</td>\n      <td>...</td>\n      <td>...</td>\n      <td>...</td>\n      <td>...</td>\n      <td>...</td>\n      <td>...</td>\n      <td>...</td>\n      <td>...</td>\n      <td>...</td>\n      <td>...</td>\n    </tr>\n    <tr>\n      <th>19335</th>\n      <td>POOL.OQ</td>\n      <td>2021-10-01</td>\n      <td>Retailing</td>\n      <td>17.194</td>\n      <td>0.064377</td>\n      <td>0.032245</td>\n      <td>0.006004</td>\n      <td>0.030598</td>\n      <td>0.248134</td>\n      <td>0.000900</td>\n      <td>-1</td>\n    </tr>\n    <tr>\n      <th>19336</th>\n      <td>POOL.OQ</td>\n      <td>2022-01-01</td>\n      <td>Retailing</td>\n      <td>40.267</td>\n      <td>0.062055</td>\n      <td>0.034274</td>\n      <td>0.007826</td>\n      <td>0.031566</td>\n      <td>0.360861</td>\n      <td>0.000470</td>\n      <td>-1</td>\n    </tr>\n    <tr>\n      <th>19337</th>\n      <td>POOL.OQ</td>\n      <td>2022-04-01</td>\n      <td>Retailing</td>\n      <td>34.342</td>\n      <td>0.064385</td>\n      <td>0.032488</td>\n      <td>0.005848</td>\n      <td>0.030290</td>\n      <td>0.184744</td>\n      <td>0.001660</td>\n      <td>-1</td>\n    </tr>\n    <tr>\n      <th>19338</th>\n      <td>POOL.OQ</td>\n      <td>2022-07-01</td>\n      <td>Retailing</td>\n      <td>1.503</td>\n      <td>0.068358</td>\n      <td>0.031540</td>\n      <td>0.004842</td>\n      <td>0.029495</td>\n      <td>0.195817</td>\n      <td>0.001059</td>\n      <td>-1</td>\n    </tr>\n    <tr>\n      <th>19339</th>\n      <td>POOL.OQ</td>\n      <td>2022-10-01</td>\n      <td>Retailing</td>\n      <td>4.196</td>\n      <td>0.065637</td>\n      <td>0.031045</td>\n      <td>0.004337</td>\n      <td>0.029064</td>\n      <td>0.235367</td>\n      <td>0.001361</td>\n      <td>-1</td>\n    </tr>\n  </tbody>\n</table>\n<p>18569 rows × 11 columns</p>\n</div>"
     },
     "execution_count": 13,
     "metadata": {},
     "output_type": "execute_result"
    }
   ],
   "source": [
    "rescale = df_clean\n",
    "#rescale[\"Earnings Per Share - Actual Surprise\"] = MinMaxScaler().fit_transform(np.array(rescale[\"Earnings Per Share - Actual Surprise\"]).reshape(-1,1))\n",
    "rescale[\"Revenue - Actual\"] = MinMaxScaler().fit_transform(np.array(rescale[\"Revenue - Actual\"]).reshape(-1,1))\n",
    "rescale[\"Enterprise Value\"] = MinMaxScaler().fit_transform(np.array(rescale[\"Enterprise Value\"]).reshape(-1,1))\n",
    "rescale[\"Market Capitalization\"] = MinMaxScaler().fit_transform(np.array(rescale[\"Market Capitalization\"]).reshape(-1,1))\n",
    "rescale[\"Enterprise Value To Sales (Daily Time Series Ratio)\"] = MinMaxScaler().fit_transform(np.array(rescale[\"Enterprise Value To Sales (Daily Time Series Ratio)\"]).reshape(-1,1))\n",
    "rescale[\"3 Month Total Return\"] = MinMaxScaler().fit_transform(np.array(rescale[\"3 Month Total Return\"]).reshape(-1,1))\n",
    "rescale[\"Volume\"] = MinMaxScaler().fit_transform(np.array(rescale[\"Volume\"]).reshape(-1,1))\n",
    "df_clean = rescale\n",
    "df_clean"
   ]
  },
  {
   "cell_type": "code",
   "execution_count": 14,
   "metadata": {},
   "outputs": [
    {
     "data": {
      "text/plain": "      Instrument       Date GICS Industry Group Name  \\\n0          AVY.N 2013-01-01                Materials   \n1          AVY.N 2013-04-01                Materials   \n2          AVY.N 2013-07-01                Materials   \n3          AVY.N 2013-10-01                Materials   \n4          AVY.N 2014-01-01                Materials   \n...          ...        ...                      ...   \n19335    POOL.OQ 2021-10-01                Retailing   \n19336    POOL.OQ 2022-01-01                Retailing   \n19337    POOL.OQ 2022-04-01                Retailing   \n19338    POOL.OQ 2022-07-01                Retailing   \n19339    POOL.OQ 2022-10-01                Retailing   \n\n       Earnings Per Share - Actual Surprise  Revenue - Actual  \\\n0                                    11.178          0.065123   \n1                                     2.482          0.064917   \n2                                     1.068          0.065247   \n3                                     8.095          0.064955   \n4                                     1.471          0.065443   \n...                                     ...               ...   \n19335                                17.194          0.064377   \n19336                                40.267          0.062055   \n19337                                34.342          0.064385   \n19338                                 1.503          0.068358   \n19339                                 4.196          0.065637   \n\n       Enterprise Value  Market Capitalization  \\\n0              0.027862               0.001166   \n1              0.028207               0.001471   \n2              0.028199               0.001453   \n3              0.028065               0.001459   \n4              0.028238               0.001667   \n...                 ...                    ...   \n19335          0.032245               0.006004   \n19336          0.034274               0.007826   \n19337          0.032488               0.005848   \n19338          0.031540               0.004842   \n19339          0.031045               0.004337   \n\n       Enterprise Value To Sales (Daily Time Series Ratio)  \\\n0                                               0.027195     \n1                                               0.027308     \n2                                               0.027321     \n3                                               0.027317     \n4                                               0.027338     \n...                                                  ...     \n19335                                           0.030598     \n19336                                           0.031566     \n19337                                           0.030290     \n19338                                           0.029495     \n19339                                           0.029064     \n\n       3 Month Total Return    Volume  loss firm status  \n0                  0.298034  0.001183                -1  \n1                  0.340793  0.000000                -1  \n2                  0.264198  0.000000                -1  \n3                  0.272179  0.001348                -1  \n4                  0.315017  0.000900                -1  \n...                     ...       ...               ...  \n19335              0.248134  0.000900                -1  \n19336              0.360861  0.000470                -1  \n19337              0.184744  0.001660                -1  \n19338              0.195817  0.001059                -1  \n19339              0.235367  0.001361                -1  \n\n[18569 rows x 11 columns]",
      "text/html": "<div>\n<style scoped>\n    .dataframe tbody tr th:only-of-type {\n        vertical-align: middle;\n    }\n\n    .dataframe tbody tr th {\n        vertical-align: top;\n    }\n\n    .dataframe thead th {\n        text-align: right;\n    }\n</style>\n<table border=\"1\" class=\"dataframe\">\n  <thead>\n    <tr style=\"text-align: right;\">\n      <th></th>\n      <th>Instrument</th>\n      <th>Date</th>\n      <th>GICS Industry Group Name</th>\n      <th>Earnings Per Share - Actual Surprise</th>\n      <th>Revenue - Actual</th>\n      <th>Enterprise Value</th>\n      <th>Market Capitalization</th>\n      <th>Enterprise Value To Sales (Daily Time Series Ratio)</th>\n      <th>3 Month Total Return</th>\n      <th>Volume</th>\n      <th>loss firm status</th>\n    </tr>\n  </thead>\n  <tbody>\n    <tr>\n      <th>0</th>\n      <td>AVY.N</td>\n      <td>2013-01-01</td>\n      <td>Materials</td>\n      <td>11.178</td>\n      <td>0.065123</td>\n      <td>0.027862</td>\n      <td>0.001166</td>\n      <td>0.027195</td>\n      <td>0.298034</td>\n      <td>0.001183</td>\n      <td>-1</td>\n    </tr>\n    <tr>\n      <th>1</th>\n      <td>AVY.N</td>\n      <td>2013-04-01</td>\n      <td>Materials</td>\n      <td>2.482</td>\n      <td>0.064917</td>\n      <td>0.028207</td>\n      <td>0.001471</td>\n      <td>0.027308</td>\n      <td>0.340793</td>\n      <td>0.000000</td>\n      <td>-1</td>\n    </tr>\n    <tr>\n      <th>2</th>\n      <td>AVY.N</td>\n      <td>2013-07-01</td>\n      <td>Materials</td>\n      <td>1.068</td>\n      <td>0.065247</td>\n      <td>0.028199</td>\n      <td>0.001453</td>\n      <td>0.027321</td>\n      <td>0.264198</td>\n      <td>0.000000</td>\n      <td>-1</td>\n    </tr>\n    <tr>\n      <th>3</th>\n      <td>AVY.N</td>\n      <td>2013-10-01</td>\n      <td>Materials</td>\n      <td>8.095</td>\n      <td>0.064955</td>\n      <td>0.028065</td>\n      <td>0.001459</td>\n      <td>0.027317</td>\n      <td>0.272179</td>\n      <td>0.001348</td>\n      <td>-1</td>\n    </tr>\n    <tr>\n      <th>4</th>\n      <td>AVY.N</td>\n      <td>2014-01-01</td>\n      <td>Materials</td>\n      <td>1.471</td>\n      <td>0.065443</td>\n      <td>0.028238</td>\n      <td>0.001667</td>\n      <td>0.027338</td>\n      <td>0.315017</td>\n      <td>0.000900</td>\n      <td>-1</td>\n    </tr>\n    <tr>\n      <th>...</th>\n      <td>...</td>\n      <td>...</td>\n      <td>...</td>\n      <td>...</td>\n      <td>...</td>\n      <td>...</td>\n      <td>...</td>\n      <td>...</td>\n      <td>...</td>\n      <td>...</td>\n      <td>...</td>\n    </tr>\n    <tr>\n      <th>19335</th>\n      <td>POOL.OQ</td>\n      <td>2021-10-01</td>\n      <td>Retailing</td>\n      <td>17.194</td>\n      <td>0.064377</td>\n      <td>0.032245</td>\n      <td>0.006004</td>\n      <td>0.030598</td>\n      <td>0.248134</td>\n      <td>0.000900</td>\n      <td>-1</td>\n    </tr>\n    <tr>\n      <th>19336</th>\n      <td>POOL.OQ</td>\n      <td>2022-01-01</td>\n      <td>Retailing</td>\n      <td>40.267</td>\n      <td>0.062055</td>\n      <td>0.034274</td>\n      <td>0.007826</td>\n      <td>0.031566</td>\n      <td>0.360861</td>\n      <td>0.000470</td>\n      <td>-1</td>\n    </tr>\n    <tr>\n      <th>19337</th>\n      <td>POOL.OQ</td>\n      <td>2022-04-01</td>\n      <td>Retailing</td>\n      <td>34.342</td>\n      <td>0.064385</td>\n      <td>0.032488</td>\n      <td>0.005848</td>\n      <td>0.030290</td>\n      <td>0.184744</td>\n      <td>0.001660</td>\n      <td>-1</td>\n    </tr>\n    <tr>\n      <th>19338</th>\n      <td>POOL.OQ</td>\n      <td>2022-07-01</td>\n      <td>Retailing</td>\n      <td>1.503</td>\n      <td>0.068358</td>\n      <td>0.031540</td>\n      <td>0.004842</td>\n      <td>0.029495</td>\n      <td>0.195817</td>\n      <td>0.001059</td>\n      <td>-1</td>\n    </tr>\n    <tr>\n      <th>19339</th>\n      <td>POOL.OQ</td>\n      <td>2022-10-01</td>\n      <td>Retailing</td>\n      <td>4.196</td>\n      <td>0.065637</td>\n      <td>0.031045</td>\n      <td>0.004337</td>\n      <td>0.029064</td>\n      <td>0.235367</td>\n      <td>0.001361</td>\n      <td>-1</td>\n    </tr>\n  </tbody>\n</table>\n<p>18569 rows × 11 columns</p>\n</div>"
     },
     "execution_count": 14,
     "metadata": {},
     "output_type": "execute_result"
    }
   ],
   "source": [
    "df_panel = df_clean.copy()\n",
    "df_panel"
   ]
  },
  {
   "attachments": {},
   "cell_type": "markdown",
   "metadata": {},
   "source": [
    "#### Fixed Effects"
   ]
  },
  {
   "attachments": {},
   "cell_type": "markdown",
   "metadata": {},
   "source": [
    "In a fixed effects panel regression, the individual-specific effects are modeled as fixed variables that do not vary across time. This means that the coefficients of the independent variables are estimated based on the within-entity variation in the data, which eliminates the effect of time-invariant unobserved heterogeneity.\n",
    "\n",
    "Fixed effects models are useful when there are time-invariant unobserved variables that may affect the dependent variable, but are not included in the model. By modeling the individual-specific effects as fixed variables, fixed effects models can control for this unobserved heterogeneity and estimate the coefficients of the independent variables based on the within-entity variation, which provides more efficient estimates of the coefficients.\n",
    "\n",
    "One limitation of fixed effects models is that they do not allow for testing the effect of time-invariant variables on the dependent variable. In addition, fixed effects models may suffer from the incidental parameter problem, which may lead to biased estimates of the coefficients of the independent variables in the presence of a large number of fixed effects."
   ]
  },
  {
   "cell_type": "code",
   "execution_count": 15,
   "outputs": [
    {
     "data": {
      "text/plain": "      Instrument       Date GICS Industry Group Name  \\\n0          AVY.N 2013-01-01                Materials   \n1          AVY.N 2013-04-01                Materials   \n2          AVY.N 2013-07-01                Materials   \n3          AVY.N 2013-10-01                Materials   \n4          AVY.N 2014-01-01                Materials   \n...          ...        ...                      ...   \n19335    POOL.OQ 2021-10-01                Retailing   \n19336    POOL.OQ 2022-01-01                Retailing   \n19337    POOL.OQ 2022-04-01                Retailing   \n19338    POOL.OQ 2022-07-01                Retailing   \n19339    POOL.OQ 2022-10-01                Retailing   \n\n       Earnings Per Share - Actual Surprise  Revenue - Actual  \\\n0                                    11.178          0.065123   \n1                                     2.482          0.064917   \n2                                     1.068          0.065247   \n3                                     8.095          0.064955   \n4                                     1.471          0.065443   \n...                                     ...               ...   \n19335                                17.194          0.064377   \n19336                                40.267          0.062055   \n19337                                34.342          0.064385   \n19338                                 1.503          0.068358   \n19339                                 4.196          0.065637   \n\n       Enterprise Value  Market Capitalization  \\\n0              0.027862               0.001166   \n1              0.028207               0.001471   \n2              0.028199               0.001453   \n3              0.028065               0.001459   \n4              0.028238               0.001667   \n...                 ...                    ...   \n19335          0.032245               0.006004   \n19336          0.034274               0.007826   \n19337          0.032488               0.005848   \n19338          0.031540               0.004842   \n19339          0.031045               0.004337   \n\n       Enterprise Value To Sales (Daily Time Series Ratio)  \\\n0                                               0.027195     \n1                                               0.027308     \n2                                               0.027321     \n3                                               0.027317     \n4                                               0.027338     \n...                                                  ...     \n19335                                           0.030598     \n19336                                           0.031566     \n19337                                           0.030290     \n19338                                           0.029495     \n19339                                           0.029064     \n\n       3 Month Total Return    Volume  loss firm status  \n0                  0.298034  0.001183                -1  \n1                  0.340793  0.000000                -1  \n2                  0.264198  0.000000                -1  \n3                  0.272179  0.001348                -1  \n4                  0.315017  0.000900                -1  \n...                     ...       ...               ...  \n19335              0.248134  0.000900                -1  \n19336              0.360861  0.000470                -1  \n19337              0.184744  0.001660                -1  \n19338              0.195817  0.001059                -1  \n19339              0.235367  0.001361                -1  \n\n[18569 rows x 11 columns]",
      "text/html": "<div>\n<style scoped>\n    .dataframe tbody tr th:only-of-type {\n        vertical-align: middle;\n    }\n\n    .dataframe tbody tr th {\n        vertical-align: top;\n    }\n\n    .dataframe thead th {\n        text-align: right;\n    }\n</style>\n<table border=\"1\" class=\"dataframe\">\n  <thead>\n    <tr style=\"text-align: right;\">\n      <th></th>\n      <th>Instrument</th>\n      <th>Date</th>\n      <th>GICS Industry Group Name</th>\n      <th>Earnings Per Share - Actual Surprise</th>\n      <th>Revenue - Actual</th>\n      <th>Enterprise Value</th>\n      <th>Market Capitalization</th>\n      <th>Enterprise Value To Sales (Daily Time Series Ratio)</th>\n      <th>3 Month Total Return</th>\n      <th>Volume</th>\n      <th>loss firm status</th>\n    </tr>\n  </thead>\n  <tbody>\n    <tr>\n      <th>0</th>\n      <td>AVY.N</td>\n      <td>2013-01-01</td>\n      <td>Materials</td>\n      <td>11.178</td>\n      <td>0.065123</td>\n      <td>0.027862</td>\n      <td>0.001166</td>\n      <td>0.027195</td>\n      <td>0.298034</td>\n      <td>0.001183</td>\n      <td>-1</td>\n    </tr>\n    <tr>\n      <th>1</th>\n      <td>AVY.N</td>\n      <td>2013-04-01</td>\n      <td>Materials</td>\n      <td>2.482</td>\n      <td>0.064917</td>\n      <td>0.028207</td>\n      <td>0.001471</td>\n      <td>0.027308</td>\n      <td>0.340793</td>\n      <td>0.000000</td>\n      <td>-1</td>\n    </tr>\n    <tr>\n      <th>2</th>\n      <td>AVY.N</td>\n      <td>2013-07-01</td>\n      <td>Materials</td>\n      <td>1.068</td>\n      <td>0.065247</td>\n      <td>0.028199</td>\n      <td>0.001453</td>\n      <td>0.027321</td>\n      <td>0.264198</td>\n      <td>0.000000</td>\n      <td>-1</td>\n    </tr>\n    <tr>\n      <th>3</th>\n      <td>AVY.N</td>\n      <td>2013-10-01</td>\n      <td>Materials</td>\n      <td>8.095</td>\n      <td>0.064955</td>\n      <td>0.028065</td>\n      <td>0.001459</td>\n      <td>0.027317</td>\n      <td>0.272179</td>\n      <td>0.001348</td>\n      <td>-1</td>\n    </tr>\n    <tr>\n      <th>4</th>\n      <td>AVY.N</td>\n      <td>2014-01-01</td>\n      <td>Materials</td>\n      <td>1.471</td>\n      <td>0.065443</td>\n      <td>0.028238</td>\n      <td>0.001667</td>\n      <td>0.027338</td>\n      <td>0.315017</td>\n      <td>0.000900</td>\n      <td>-1</td>\n    </tr>\n    <tr>\n      <th>...</th>\n      <td>...</td>\n      <td>...</td>\n      <td>...</td>\n      <td>...</td>\n      <td>...</td>\n      <td>...</td>\n      <td>...</td>\n      <td>...</td>\n      <td>...</td>\n      <td>...</td>\n      <td>...</td>\n    </tr>\n    <tr>\n      <th>19335</th>\n      <td>POOL.OQ</td>\n      <td>2021-10-01</td>\n      <td>Retailing</td>\n      <td>17.194</td>\n      <td>0.064377</td>\n      <td>0.032245</td>\n      <td>0.006004</td>\n      <td>0.030598</td>\n      <td>0.248134</td>\n      <td>0.000900</td>\n      <td>-1</td>\n    </tr>\n    <tr>\n      <th>19336</th>\n      <td>POOL.OQ</td>\n      <td>2022-01-01</td>\n      <td>Retailing</td>\n      <td>40.267</td>\n      <td>0.062055</td>\n      <td>0.034274</td>\n      <td>0.007826</td>\n      <td>0.031566</td>\n      <td>0.360861</td>\n      <td>0.000470</td>\n      <td>-1</td>\n    </tr>\n    <tr>\n      <th>19337</th>\n      <td>POOL.OQ</td>\n      <td>2022-04-01</td>\n      <td>Retailing</td>\n      <td>34.342</td>\n      <td>0.064385</td>\n      <td>0.032488</td>\n      <td>0.005848</td>\n      <td>0.030290</td>\n      <td>0.184744</td>\n      <td>0.001660</td>\n      <td>-1</td>\n    </tr>\n    <tr>\n      <th>19338</th>\n      <td>POOL.OQ</td>\n      <td>2022-07-01</td>\n      <td>Retailing</td>\n      <td>1.503</td>\n      <td>0.068358</td>\n      <td>0.031540</td>\n      <td>0.004842</td>\n      <td>0.029495</td>\n      <td>0.195817</td>\n      <td>0.001059</td>\n      <td>-1</td>\n    </tr>\n    <tr>\n      <th>19339</th>\n      <td>POOL.OQ</td>\n      <td>2022-10-01</td>\n      <td>Retailing</td>\n      <td>4.196</td>\n      <td>0.065637</td>\n      <td>0.031045</td>\n      <td>0.004337</td>\n      <td>0.029064</td>\n      <td>0.235367</td>\n      <td>0.001361</td>\n      <td>-1</td>\n    </tr>\n  </tbody>\n</table>\n<p>18569 rows × 11 columns</p>\n</div>"
     },
     "execution_count": 15,
     "metadata": {},
     "output_type": "execute_result"
    }
   ],
   "source": [
    "df_clean[\"Earnings Per Share - Actual Surprise\"] = df_clean[\"Earnings Per Share - Actual Surprise\"].abs()\n",
    "df_clean"
   ],
   "metadata": {
    "collapsed": false
   }
  },
  {
   "cell_type": "code",
   "execution_count": 16,
   "metadata": {},
   "outputs": [
    {
     "data": {
      "text/plain": "<class 'linearmodels.compat.statsmodels.Summary'>\n\"\"\"\n                                   PanelOLS Estimation Summary                                    \n==================================================================================================\nDep. Variable:     Earnings Per Share - Actual Surprise   R-squared:                        0.0072\nEstimator:                                     PanelOLS   R-squared (Between):             -0.4056\nNo. Observations:                                 18569   R-squared (Within):               0.0098\nDate:                                  Tue, Feb 28 2023   R-squared (Overall):             -0.2319\nTime:                                          20:48:27   Log-likelihood                -7.264e+04\nCov. Estimator:                              Unadjusted                                           \n                                                          F-statistic:                      18.767\nEntities:                                           501   P-value                           0.0000\nAvg Obs:                                         37.064   Distribution:                 F(7,18021)\nMin Obs:                                         6.0000                                           \nMax Obs:                                         40.000   F-statistic (robust):             18.767\n                                                          P-value                           0.0000\nTime periods:                                        41   Distribution:                 F(7,18021)\nAvg Obs:                                         452.90                                           \nMin Obs:                                         47.000                                           \nMax Obs:                                         490.00                                           \n                                                                                                  \n                                                  Parameter Estimates                                                  \n=======================================================================================================================\n                                                     Parameter  Std. Err.     T-stat    P-value    Lower CI    Upper CI\n-----------------------------------------------------------------------------------------------------------------------\nRevenue - Actual                                       -7.0810     5.1740    -1.3686     0.1712     -17.223      3.0606\nEnterprise Value                                       -63.419     24.637    -2.5741     0.0101     -111.71     -15.128\nMarket Capitalization                                   64.158     23.897     2.6848     0.0073      17.318      111.00\nloss firm status                                        2.0031     0.1994     10.043     0.0000      1.6121      2.3940\nEnterprise Value To Sales (Daily Time Series Ratio)    -34.030     8.2594    -4.1202     0.0000     -50.219     -17.841\n3 Month Total Return                                    7.7762     2.2426     3.4675     0.0005      3.3805      12.172\nVolume                                                  1.4028     7.3441     0.1910     0.8485     -12.992      15.798\n=======================================================================================================================\n\nF-test for Poolability: 12.813\nP-value: 0.0000\nDistribution: F(540,18021)\n\nIncluded effects: Entity, Time\n\"\"\"",
      "text/html": "<table class=\"simpletable\">\n<caption>PanelOLS Estimation Summary</caption>\n<tr>\n  <th>Dep. Variable:</th>    <td>Earnings Per Share - Actual Surprise</td> <th>  R-squared:         </th>     <td>0.0072</td>  \n</tr>\n<tr>\n  <th>Estimator:</th>                      <td>PanelOLS</td>               <th>  R-squared (Between):</th>    <td>-0.4056</td> \n</tr>\n<tr>\n  <th>No. Observations:</th>                 <td>18569</td>                <th>  R-squared (Within):</th>     <td>0.0098</td>  \n</tr>\n<tr>\n  <th>Date:</th>                       <td>Tue, Feb 28 2023</td>           <th>  R-squared (Overall):</th>    <td>-0.2319</td> \n</tr>\n<tr>\n  <th>Time:</th>                           <td>20:48:27</td>               <th>  Log-likelihood     </th>   <td>-7.264e+04</td>\n</tr>\n<tr>\n  <th>Cov. Estimator:</th>                <td>Unadjusted</td>              <th>                     </th>        <td></td>     \n</tr>\n<tr>\n  <th></th>                                    <td></td>                   <th>  F-statistic:       </th>     <td>18.767</td>  \n</tr>\n<tr>\n  <th>Entities:</th>                          <td>501</td>                 <th>  P-value            </th>     <td>0.0000</td>  \n</tr>\n<tr>\n  <th>Avg Obs:</th>                         <td>37.064</td>                <th>  Distribution:      </th>   <td>F(7,18021)</td>\n</tr>\n<tr>\n  <th>Min Obs:</th>                         <td>6.0000</td>                <th>                     </th>        <td></td>     \n</tr>\n<tr>\n  <th>Max Obs:</th>                         <td>40.000</td>                <th>  F-statistic (robust):</th>   <td>18.767</td>  \n</tr>\n<tr>\n  <th></th>                                    <td></td>                   <th>  P-value            </th>     <td>0.0000</td>  \n</tr>\n<tr>\n  <th>Time periods:</th>                      <td>41</td>                  <th>  Distribution:      </th>   <td>F(7,18021)</td>\n</tr>\n<tr>\n  <th>Avg Obs:</th>                         <td>452.90</td>                <th>                     </th>        <td></td>     \n</tr>\n<tr>\n  <th>Min Obs:</th>                         <td>47.000</td>                <th>                     </th>        <td></td>     \n</tr>\n<tr>\n  <th>Max Obs:</th>                         <td>490.00</td>                <th>                     </th>        <td></td>     \n</tr>\n<tr>\n  <th></th>                                    <td></td>                   <th>                     </th>        <td></td>     \n</tr>\n</table>\n<table class=\"simpletable\">\n<caption>Parameter Estimates</caption>\n<tr>\n                           <td></td>                           <th>Parameter</th> <th>Std. Err.</th> <th>T-stat</th>  <th>P-value</th> <th>Lower CI</th> <th>Upper CI</th>\n</tr>\n<tr>\n  <th>Revenue - Actual</th>                                     <td>-7.0810</td>   <td>5.1740</td>   <td>-1.3686</td> <td>0.1712</td>   <td>-17.223</td>  <td>3.0606</td> \n</tr>\n<tr>\n  <th>Enterprise Value</th>                                     <td>-63.419</td>   <td>24.637</td>   <td>-2.5741</td> <td>0.0101</td>   <td>-111.71</td>  <td>-15.128</td>\n</tr>\n<tr>\n  <th>Market Capitalization</th>                                <td>64.158</td>    <td>23.897</td>   <td>2.6848</td>  <td>0.0073</td>   <td>17.318</td>   <td>111.00</td> \n</tr>\n<tr>\n  <th>loss firm status</th>                                     <td>2.0031</td>    <td>0.1994</td>   <td>10.043</td>  <td>0.0000</td>   <td>1.6121</td>   <td>2.3940</td> \n</tr>\n<tr>\n  <th>Enterprise Value To Sales (Daily Time Series Ratio)</th>  <td>-34.030</td>   <td>8.2594</td>   <td>-4.1202</td> <td>0.0000</td>   <td>-50.219</td>  <td>-17.841</td>\n</tr>\n<tr>\n  <th>3 Month Total Return</th>                                 <td>7.7762</td>    <td>2.2426</td>   <td>3.4675</td>  <td>0.0005</td>   <td>3.3805</td>   <td>12.172</td> \n</tr>\n<tr>\n  <th>Volume</th>                                               <td>1.4028</td>    <td>7.3441</td>   <td>0.1910</td>  <td>0.8485</td>   <td>-12.992</td>  <td>15.798</td> \n</tr>\n</table><br/><br/>F-test for Poolability: 12.813<br/>P-value: 0.0000<br/>Distribution: F(540,18021)<br/><br/>Included effects: Entity, Time"
     },
     "execution_count": 16,
     "metadata": {},
     "output_type": "execute_result"
    }
   ],
   "source": [
    "df_clean['Instrument'] = df_clean['Instrument'].astype('category')\n",
    "df_clean['Date'] = pd.to_datetime(df_clean['Date'])\n",
    "\n",
    "# set the index to be the time variable and the cross-sectional variable\n",
    "df_clean.set_index(['Instrument', 'Date'], inplace=True)\n",
    "\n",
    "y = df_clean.loc[:, \"Earnings Per Share - Actual Surprise\"]\n",
    "X = df_clean[X_var_names]\n",
    "\n",
    "# perform the fixed effects panel regression\n",
    "fixed_effects_model = PanelOLS(y, X, entity_effects=True, time_effects=True)\n",
    "\n",
    "# fit the model and print the summary statistics\n",
    "fixed_effects_results = fixed_effects_model.fit()\n",
    "fixed_effects_results.summary\n"
   ]
  }
 ],
 "metadata": {
  "kernelspec": {
   "display_name": "AnalystForecast",
   "language": "python",
   "name": "python3"
  },
  "language_info": {
   "codemirror_mode": {
    "name": "ipython",
    "version": 3
   },
   "file_extension": ".py",
   "mimetype": "text/x-python",
   "name": "python",
   "nbconvert_exporter": "python",
   "pygments_lexer": "ipython3",
   "version": "3.11.0"
  },
  "orig_nbformat": 4,
  "vscode": {
   "interpreter": {
    "hash": "264d128b47a19451ae7876f5ee246d3f7de9751940a5ebe47f15ec6626e5a91f"
   }
  }
 },
 "nbformat": 4,
 "nbformat_minor": 2
}
