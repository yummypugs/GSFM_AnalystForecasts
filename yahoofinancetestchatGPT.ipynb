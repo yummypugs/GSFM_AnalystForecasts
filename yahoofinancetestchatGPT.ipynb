{
 "cells": [
  {
   "cell_type": "code",
   "execution_count": 4,
   "metadata": {
    "collapsed": true
   },
   "outputs": [
    {
     "name": "stdout",
     "output_type": "stream",
     "text": [
      "WARNING: No decryption keys could be extracted from JS file. Falling back to backup decrypt methods.\n"
     ]
    },
    {
     "ename": "Exception",
     "evalue": "yfinance failed to decrypt Yahoo data response",
     "output_type": "error",
     "traceback": [
      "\u001B[1;31m---------------------------------------------------------------------------\u001B[0m",
      "\u001B[1;31mException\u001B[0m                                 Traceback (most recent call last)",
      "Cell \u001B[1;32mIn[4], line 7\u001B[0m\n\u001B[0;32m      4\u001B[0m apple \u001B[38;5;241m=\u001B[39m yf\u001B[38;5;241m.\u001B[39mTicker(\u001B[38;5;124m\"\u001B[39m\u001B[38;5;124mMSFT\u001B[39m\u001B[38;5;124m\"\u001B[39m)\n\u001B[0;32m      6\u001B[0m \u001B[38;5;66;03m# Get the historical earnings per share (EPS) estimates data\u001B[39;00m\n\u001B[1;32m----> 7\u001B[0m eps_estimates \u001B[38;5;241m=\u001B[39m \u001B[43mapple\u001B[49m\u001B[38;5;241;43m.\u001B[39;49m\u001B[43mearnings\u001B[49m\n\u001B[0;32m      9\u001B[0m \u001B[38;5;28mprint\u001B[39m(eps_estimates)\n",
      "File \u001B[1;32m~\\mambaforge\\envs\\AnalystForecast\\lib\\site-packages\\yfinance\\ticker.py:150\u001B[0m, in \u001B[0;36mTicker.earnings\u001B[1;34m(self)\u001B[0m\n\u001B[0;32m    148\u001B[0m \u001B[38;5;129m@property\u001B[39m\n\u001B[0;32m    149\u001B[0m \u001B[38;5;28;01mdef\u001B[39;00m \u001B[38;5;21mearnings\u001B[39m(\u001B[38;5;28mself\u001B[39m) \u001B[38;5;241m-\u001B[39m\u001B[38;5;241m>\u001B[39m _pd\u001B[38;5;241m.\u001B[39mDataFrame:\n\u001B[1;32m--> 150\u001B[0m     \u001B[38;5;28;01mreturn\u001B[39;00m \u001B[38;5;28;43mself\u001B[39;49m\u001B[38;5;241;43m.\u001B[39;49m\u001B[43mget_earnings\u001B[49m\u001B[43m(\u001B[49m\u001B[43m)\u001B[49m\n",
      "File \u001B[1;32m~\\mambaforge\\envs\\AnalystForecast\\lib\\site-packages\\yfinance\\base.py:1537\u001B[0m, in \u001B[0;36mTickerBase.get_earnings\u001B[1;34m(self, proxy, as_dict, freq)\u001B[0m\n\u001B[0;32m   1524\u001B[0m \u001B[38;5;250m\u001B[39m\u001B[38;5;124;03m\"\"\"\u001B[39;00m\n\u001B[0;32m   1525\u001B[0m \u001B[38;5;124;03m:Parameters:\u001B[39;00m\n\u001B[0;32m   1526\u001B[0m \u001B[38;5;124;03m    as_dict: bool\u001B[39;00m\n\u001B[1;32m   (...)\u001B[0m\n\u001B[0;32m   1534\u001B[0m \u001B[38;5;124;03m        Default is None\u001B[39;00m\n\u001B[0;32m   1535\u001B[0m \u001B[38;5;124;03m\"\"\"\u001B[39;00m\n\u001B[0;32m   1536\u001B[0m \u001B[38;5;28mself\u001B[39m\u001B[38;5;241m.\u001B[39m_fundamentals\u001B[38;5;241m.\u001B[39mproxy \u001B[38;5;241m=\u001B[39m proxy\n\u001B[1;32m-> 1537\u001B[0m data \u001B[38;5;241m=\u001B[39m \u001B[38;5;28;43mself\u001B[39;49m\u001B[38;5;241;43m.\u001B[39;49m\u001B[43m_fundamentals\u001B[49m\u001B[38;5;241;43m.\u001B[39;49m\u001B[43mearnings\u001B[49m[freq]\n\u001B[0;32m   1538\u001B[0m \u001B[38;5;28;01mif\u001B[39;00m as_dict:\n\u001B[0;32m   1539\u001B[0m     dict_data \u001B[38;5;241m=\u001B[39m data\u001B[38;5;241m.\u001B[39mto_dict()\n",
      "File \u001B[1;32m~\\mambaforge\\envs\\AnalystForecast\\lib\\site-packages\\yfinance\\scrapers\\fundamentals.py:34\u001B[0m, in \u001B[0;36mFundamentals.earnings\u001B[1;34m(self)\u001B[0m\n\u001B[0;32m     31\u001B[0m \u001B[38;5;129m@property\u001B[39m\n\u001B[0;32m     32\u001B[0m \u001B[38;5;28;01mdef\u001B[39;00m \u001B[38;5;21mearnings\u001B[39m(\u001B[38;5;28mself\u001B[39m) \u001B[38;5;241m-\u001B[39m\u001B[38;5;241m>\u001B[39m \u001B[38;5;28mdict\u001B[39m:\n\u001B[0;32m     33\u001B[0m     \u001B[38;5;28;01mif\u001B[39;00m \u001B[38;5;28mself\u001B[39m\u001B[38;5;241m.\u001B[39m_earnings \u001B[38;5;129;01mis\u001B[39;00m \u001B[38;5;28;01mNone\u001B[39;00m:\n\u001B[1;32m---> 34\u001B[0m         \u001B[38;5;28;43mself\u001B[39;49m\u001B[38;5;241;43m.\u001B[39;49m\u001B[43m_scrape_earnings\u001B[49m\u001B[43m(\u001B[49m\u001B[38;5;28;43mself\u001B[39;49m\u001B[38;5;241;43m.\u001B[39;49m\u001B[43mproxy\u001B[49m\u001B[43m)\u001B[49m\n\u001B[0;32m     35\u001B[0m     \u001B[38;5;28;01mreturn\u001B[39;00m \u001B[38;5;28mself\u001B[39m\u001B[38;5;241m.\u001B[39m_earnings\n",
      "File \u001B[1;32m~\\mambaforge\\envs\\AnalystForecast\\lib\\site-packages\\yfinance\\scrapers\\fundamentals.py:57\u001B[0m, in \u001B[0;36mFundamentals._scrape_earnings\u001B[1;34m(self, proxy)\u001B[0m\n\u001B[0;32m     56\u001B[0m \u001B[38;5;28;01mdef\u001B[39;00m \u001B[38;5;21m_scrape_earnings\u001B[39m(\u001B[38;5;28mself\u001B[39m, proxy):\n\u001B[1;32m---> 57\u001B[0m     \u001B[38;5;28;43mself\u001B[39;49m\u001B[38;5;241;43m.\u001B[39;49m\u001B[43m_scrape_basics\u001B[49m\u001B[43m(\u001B[49m\u001B[43mproxy\u001B[49m\u001B[43m)\u001B[49m\n\u001B[0;32m     58\u001B[0m     \u001B[38;5;66;03m# earnings\u001B[39;00m\n\u001B[0;32m     59\u001B[0m     \u001B[38;5;28mself\u001B[39m\u001B[38;5;241m.\u001B[39m_earnings \u001B[38;5;241m=\u001B[39m {\u001B[38;5;124m\"\u001B[39m\u001B[38;5;124myearly\u001B[39m\u001B[38;5;124m\"\u001B[39m: pd\u001B[38;5;241m.\u001B[39mDataFrame(), \u001B[38;5;124m\"\u001B[39m\u001B[38;5;124mquarterly\u001B[39m\u001B[38;5;124m\"\u001B[39m: pd\u001B[38;5;241m.\u001B[39mDataFrame()}\n",
      "File \u001B[1;32m~\\mambaforge\\envs\\AnalystForecast\\lib\\site-packages\\yfinance\\scrapers\\fundamentals.py:48\u001B[0m, in \u001B[0;36mFundamentals._scrape_basics\u001B[1;34m(self, proxy)\u001B[0m\n\u001B[0;32m     45\u001B[0m     \u001B[38;5;28;01mreturn\u001B[39;00m\n\u001B[0;32m     46\u001B[0m \u001B[38;5;28mself\u001B[39m\u001B[38;5;241m.\u001B[39m_basics_already_scraped \u001B[38;5;241m=\u001B[39m \u001B[38;5;28;01mTrue\u001B[39;00m\n\u001B[1;32m---> 48\u001B[0m \u001B[38;5;28mself\u001B[39m\u001B[38;5;241m.\u001B[39m_financials_data \u001B[38;5;241m=\u001B[39m \u001B[38;5;28;43mself\u001B[39;49m\u001B[38;5;241;43m.\u001B[39;49m\u001B[43m_data\u001B[49m\u001B[38;5;241;43m.\u001B[39;49m\u001B[43mget_json_data_stores\u001B[49m\u001B[43m(\u001B[49m\u001B[38;5;124;43m'\u001B[39;49m\u001B[38;5;124;43mfinancials\u001B[39;49m\u001B[38;5;124;43m'\u001B[39;49m\u001B[43m,\u001B[49m\u001B[43m \u001B[49m\u001B[43mproxy\u001B[49m\u001B[43m)\u001B[49m\n\u001B[0;32m     49\u001B[0m \u001B[38;5;28;01mtry\u001B[39;00m:\n\u001B[0;32m     50\u001B[0m     \u001B[38;5;28mself\u001B[39m\u001B[38;5;241m.\u001B[39m_fin_data_quote \u001B[38;5;241m=\u001B[39m \u001B[38;5;28mself\u001B[39m\u001B[38;5;241m.\u001B[39m_financials_data[\u001B[38;5;124m'\u001B[39m\u001B[38;5;124mQuoteSummaryStore\u001B[39m\u001B[38;5;124m'\u001B[39m]\n",
      "File \u001B[1;32m~\\mambaforge\\envs\\AnalystForecast\\lib\\site-packages\\yfinance\\data.py:41\u001B[0m, in \u001B[0;36mlru_cache_freezeargs.<locals>.wrapped\u001B[1;34m(*args, **kwargs)\u001B[0m\n\u001B[0;32m     39\u001B[0m args \u001B[38;5;241m=\u001B[39m \u001B[38;5;28mtuple\u001B[39m([\u001B[38;5;28mtuple\u001B[39m(arg) \u001B[38;5;28;01mif\u001B[39;00m \u001B[38;5;28misinstance\u001B[39m(arg, \u001B[38;5;28mlist\u001B[39m) \u001B[38;5;28;01melse\u001B[39;00m arg \u001B[38;5;28;01mfor\u001B[39;00m arg \u001B[38;5;129;01min\u001B[39;00m args])\n\u001B[0;32m     40\u001B[0m kwargs \u001B[38;5;241m=\u001B[39m {k: \u001B[38;5;28mtuple\u001B[39m(v) \u001B[38;5;28;01mif\u001B[39;00m \u001B[38;5;28misinstance\u001B[39m(v, \u001B[38;5;28mlist\u001B[39m) \u001B[38;5;28;01melse\u001B[39;00m v \u001B[38;5;28;01mfor\u001B[39;00m k, v \u001B[38;5;129;01min\u001B[39;00m kwargs\u001B[38;5;241m.\u001B[39mitems()}\n\u001B[1;32m---> 41\u001B[0m \u001B[38;5;28;01mreturn\u001B[39;00m func(\u001B[38;5;241m*\u001B[39margs, \u001B[38;5;241m*\u001B[39m\u001B[38;5;241m*\u001B[39mkwargs)\n",
      "File \u001B[1;32m~\\mambaforge\\envs\\AnalystForecast\\lib\\site-packages\\yfinance\\data.py:311\u001B[0m, in \u001B[0;36mTickerData.get_json_data_stores\u001B[1;34m(self, sub_page, proxy)\u001B[0m\n\u001B[0;32m    308\u001B[0m     keys \u001B[38;5;241m+\u001B[39m\u001B[38;5;241m=\u001B[39m response_gh\u001B[38;5;241m.\u001B[39mtext\u001B[38;5;241m.\u001B[39msplitlines()\n\u001B[0;32m    310\u001B[0m \u001B[38;5;66;03m# Decrypt!\u001B[39;00m\n\u001B[1;32m--> 311\u001B[0m stores \u001B[38;5;241m=\u001B[39m \u001B[43mdecrypt_cryptojs_aes_stores\u001B[49m\u001B[43m(\u001B[49m\u001B[43mdata\u001B[49m\u001B[43m,\u001B[49m\u001B[43m \u001B[49m\u001B[43mkeys\u001B[49m\u001B[43m)\u001B[49m\n\u001B[0;32m    312\u001B[0m \u001B[38;5;28;01mif\u001B[39;00m stores \u001B[38;5;129;01mis\u001B[39;00m \u001B[38;5;28;01mNone\u001B[39;00m:\n\u001B[0;32m    313\u001B[0m     \u001B[38;5;66;03m# Maybe Yahoo returned old format, not encrypted\u001B[39;00m\n\u001B[0;32m    314\u001B[0m     \u001B[38;5;28;01mif\u001B[39;00m \u001B[38;5;124m\"\u001B[39m\u001B[38;5;124mcontext\u001B[39m\u001B[38;5;124m\"\u001B[39m \u001B[38;5;129;01min\u001B[39;00m data \u001B[38;5;129;01mand\u001B[39;00m \u001B[38;5;124m\"\u001B[39m\u001B[38;5;124mdispatcher\u001B[39m\u001B[38;5;124m\"\u001B[39m \u001B[38;5;129;01min\u001B[39;00m data[\u001B[38;5;124m\"\u001B[39m\u001B[38;5;124mcontext\u001B[39m\u001B[38;5;124m\"\u001B[39m]:\n",
      "File \u001B[1;32m~\\mambaforge\\envs\\AnalystForecast\\lib\\site-packages\\yfinance\\data.py:162\u001B[0m, in \u001B[0;36mdecrypt_cryptojs_aes_stores\u001B[1;34m(data, keys)\u001B[0m\n\u001B[0;32m    160\u001B[0m             \u001B[38;5;28;01mpass\u001B[39;00m\n\u001B[0;32m    161\u001B[0m     \u001B[38;5;28;01mif\u001B[39;00m \u001B[38;5;129;01mnot\u001B[39;00m success:\n\u001B[1;32m--> 162\u001B[0m         \u001B[38;5;28;01mraise\u001B[39;00m \u001B[38;5;167;01mException\u001B[39;00m(\u001B[38;5;124m\"\u001B[39m\u001B[38;5;124myfinance failed to decrypt Yahoo data response\u001B[39m\u001B[38;5;124m\"\u001B[39m)\n\u001B[0;32m    164\u001B[0m decoded_stores \u001B[38;5;241m=\u001B[39m json\u001B[38;5;241m.\u001B[39mloads(plaintext)\n\u001B[0;32m    165\u001B[0m \u001B[38;5;28;01mreturn\u001B[39;00m decoded_stores\n",
      "\u001B[1;31mException\u001B[0m: yfinance failed to decrypt Yahoo data response"
     ]
    }
   ],
   "source": [
    "import yfinance as yf\n",
    "\n",
    "# Get the stock information for Apple\n",
    "apple = yf.Ticker(\"MSFT\")\n",
    "\n",
    "# Get the historical earnings per share (EPS) estimates data\n",
    "eps_estimates = apple.earnings\n",
    "\n",
    "print(eps_estimates)\n"
   ]
  },
  {
   "cell_type": "code",
   "execution_count": 5,
   "outputs": [
    {
     "name": "stdout",
     "output_type": "stream",
     "text": [
      "WARNING: No decryption keys could be extracted from JS file. Falling back to backup decrypt methods.\n"
     ]
    },
    {
     "ename": "Exception",
     "evalue": "yfinance failed to decrypt Yahoo data response",
     "output_type": "error",
     "traceback": [
      "\u001B[1;31m---------------------------------------------------------------------------\u001B[0m",
      "\u001B[1;31mException\u001B[0m                                 Traceback (most recent call last)",
      "Cell \u001B[1;32mIn[5], line 2\u001B[0m\n\u001B[0;32m      1\u001B[0m \u001B[38;5;66;03m# Get the historical revenue estimates data\u001B[39;00m\n\u001B[1;32m----> 2\u001B[0m revenue_estimates \u001B[38;5;241m=\u001B[39m \u001B[43mapple\u001B[49m\u001B[38;5;241;43m.\u001B[39;49m\u001B[43mrecommendations\u001B[49m\n\u001B[0;32m      4\u001B[0m \u001B[38;5;28mprint\u001B[39m(revenue_estimates)\n",
      "File \u001B[1;32m~\\mambaforge\\envs\\AnalystForecast\\lib\\site-packages\\yfinance\\ticker.py:146\u001B[0m, in \u001B[0;36mTicker.recommendations\u001B[1;34m(self)\u001B[0m\n\u001B[0;32m    144\u001B[0m \u001B[38;5;129m@property\u001B[39m\n\u001B[0;32m    145\u001B[0m \u001B[38;5;28;01mdef\u001B[39;00m \u001B[38;5;21mrecommendations\u001B[39m(\u001B[38;5;28mself\u001B[39m):\n\u001B[1;32m--> 146\u001B[0m     \u001B[38;5;28;01mreturn\u001B[39;00m \u001B[38;5;28;43mself\u001B[39;49m\u001B[38;5;241;43m.\u001B[39;49m\u001B[43mget_recommendations\u001B[49m\u001B[43m(\u001B[49m\u001B[43m)\u001B[49m\n",
      "File \u001B[1;32m~\\mambaforge\\envs\\AnalystForecast\\lib\\site-packages\\yfinance\\base.py:1425\u001B[0m, in \u001B[0;36mTickerBase.get_recommendations\u001B[1;34m(self, proxy, as_dict)\u001B[0m\n\u001B[0;32m   1423\u001B[0m \u001B[38;5;28;01mdef\u001B[39;00m \u001B[38;5;21mget_recommendations\u001B[39m(\u001B[38;5;28mself\u001B[39m, proxy\u001B[38;5;241m=\u001B[39m\u001B[38;5;28;01mNone\u001B[39;00m, as_dict\u001B[38;5;241m=\u001B[39m\u001B[38;5;28;01mFalse\u001B[39;00m):\n\u001B[0;32m   1424\u001B[0m     \u001B[38;5;28mself\u001B[39m\u001B[38;5;241m.\u001B[39m_quote\u001B[38;5;241m.\u001B[39mproxy \u001B[38;5;241m=\u001B[39m proxy\n\u001B[1;32m-> 1425\u001B[0m     data \u001B[38;5;241m=\u001B[39m \u001B[38;5;28;43mself\u001B[39;49m\u001B[38;5;241;43m.\u001B[39;49m\u001B[43m_quote\u001B[49m\u001B[38;5;241;43m.\u001B[39;49m\u001B[43mrecommendations\u001B[49m\n\u001B[0;32m   1426\u001B[0m     \u001B[38;5;28;01mif\u001B[39;00m as_dict:\n\u001B[0;32m   1427\u001B[0m         \u001B[38;5;28;01mreturn\u001B[39;00m data\u001B[38;5;241m.\u001B[39mto_dict()\n",
      "File \u001B[1;32m~\\mambaforge\\envs\\AnalystForecast\\lib\\site-packages\\yfinance\\scrapers\\quote.py:109\u001B[0m, in \u001B[0;36mQuote.recommendations\u001B[1;34m(self)\u001B[0m\n\u001B[0;32m    106\u001B[0m \u001B[38;5;129m@property\u001B[39m\n\u001B[0;32m    107\u001B[0m \u001B[38;5;28;01mdef\u001B[39;00m \u001B[38;5;21mrecommendations\u001B[39m(\u001B[38;5;28mself\u001B[39m) \u001B[38;5;241m-\u001B[39m\u001B[38;5;241m>\u001B[39m pd\u001B[38;5;241m.\u001B[39mDataFrame:\n\u001B[0;32m    108\u001B[0m     \u001B[38;5;28;01mif\u001B[39;00m \u001B[38;5;28mself\u001B[39m\u001B[38;5;241m.\u001B[39m_recommendations \u001B[38;5;129;01mis\u001B[39;00m \u001B[38;5;28;01mNone\u001B[39;00m:\n\u001B[1;32m--> 109\u001B[0m         \u001B[38;5;28;43mself\u001B[39;49m\u001B[38;5;241;43m.\u001B[39;49m\u001B[43m_scrape\u001B[49m\u001B[43m(\u001B[49m\u001B[38;5;28;43mself\u001B[39;49m\u001B[38;5;241;43m.\u001B[39;49m\u001B[43mproxy\u001B[49m\u001B[43m)\u001B[49m\n\u001B[0;32m    110\u001B[0m     \u001B[38;5;28;01mreturn\u001B[39;00m \u001B[38;5;28mself\u001B[39m\u001B[38;5;241m.\u001B[39m_recommendations\n",
      "File \u001B[1;32m~\\mambaforge\\envs\\AnalystForecast\\lib\\site-packages\\yfinance\\scrapers\\quote.py:124\u001B[0m, in \u001B[0;36mQuote._scrape\u001B[1;34m(self, proxy)\u001B[0m\n\u001B[0;32m    121\u001B[0m \u001B[38;5;28mself\u001B[39m\u001B[38;5;241m.\u001B[39m_already_scraped \u001B[38;5;241m=\u001B[39m \u001B[38;5;28;01mTrue\u001B[39;00m\n\u001B[0;32m    123\u001B[0m \u001B[38;5;66;03m# get info and sustainability\u001B[39;00m\n\u001B[1;32m--> 124\u001B[0m json_data \u001B[38;5;241m=\u001B[39m \u001B[38;5;28;43mself\u001B[39;49m\u001B[38;5;241;43m.\u001B[39;49m\u001B[43m_data\u001B[49m\u001B[38;5;241;43m.\u001B[39;49m\u001B[43mget_json_data_stores\u001B[49m\u001B[43m(\u001B[49m\u001B[43mproxy\u001B[49m\u001B[38;5;241;43m=\u001B[39;49m\u001B[43mproxy\u001B[49m\u001B[43m)\u001B[49m\n\u001B[0;32m    125\u001B[0m \u001B[38;5;28;01mtry\u001B[39;00m:\n\u001B[0;32m    126\u001B[0m     quote_summary_store \u001B[38;5;241m=\u001B[39m json_data[\u001B[38;5;124m'\u001B[39m\u001B[38;5;124mQuoteSummaryStore\u001B[39m\u001B[38;5;124m'\u001B[39m]\n",
      "File \u001B[1;32m~\\mambaforge\\envs\\AnalystForecast\\lib\\site-packages\\yfinance\\data.py:41\u001B[0m, in \u001B[0;36mlru_cache_freezeargs.<locals>.wrapped\u001B[1;34m(*args, **kwargs)\u001B[0m\n\u001B[0;32m     39\u001B[0m args \u001B[38;5;241m=\u001B[39m \u001B[38;5;28mtuple\u001B[39m([\u001B[38;5;28mtuple\u001B[39m(arg) \u001B[38;5;28;01mif\u001B[39;00m \u001B[38;5;28misinstance\u001B[39m(arg, \u001B[38;5;28mlist\u001B[39m) \u001B[38;5;28;01melse\u001B[39;00m arg \u001B[38;5;28;01mfor\u001B[39;00m arg \u001B[38;5;129;01min\u001B[39;00m args])\n\u001B[0;32m     40\u001B[0m kwargs \u001B[38;5;241m=\u001B[39m {k: \u001B[38;5;28mtuple\u001B[39m(v) \u001B[38;5;28;01mif\u001B[39;00m \u001B[38;5;28misinstance\u001B[39m(v, \u001B[38;5;28mlist\u001B[39m) \u001B[38;5;28;01melse\u001B[39;00m v \u001B[38;5;28;01mfor\u001B[39;00m k, v \u001B[38;5;129;01min\u001B[39;00m kwargs\u001B[38;5;241m.\u001B[39mitems()}\n\u001B[1;32m---> 41\u001B[0m \u001B[38;5;28;01mreturn\u001B[39;00m func(\u001B[38;5;241m*\u001B[39margs, \u001B[38;5;241m*\u001B[39m\u001B[38;5;241m*\u001B[39mkwargs)\n",
      "File \u001B[1;32m~\\mambaforge\\envs\\AnalystForecast\\lib\\site-packages\\yfinance\\data.py:311\u001B[0m, in \u001B[0;36mTickerData.get_json_data_stores\u001B[1;34m(self, sub_page, proxy)\u001B[0m\n\u001B[0;32m    308\u001B[0m     keys \u001B[38;5;241m+\u001B[39m\u001B[38;5;241m=\u001B[39m response_gh\u001B[38;5;241m.\u001B[39mtext\u001B[38;5;241m.\u001B[39msplitlines()\n\u001B[0;32m    310\u001B[0m \u001B[38;5;66;03m# Decrypt!\u001B[39;00m\n\u001B[1;32m--> 311\u001B[0m stores \u001B[38;5;241m=\u001B[39m \u001B[43mdecrypt_cryptojs_aes_stores\u001B[49m\u001B[43m(\u001B[49m\u001B[43mdata\u001B[49m\u001B[43m,\u001B[49m\u001B[43m \u001B[49m\u001B[43mkeys\u001B[49m\u001B[43m)\u001B[49m\n\u001B[0;32m    312\u001B[0m \u001B[38;5;28;01mif\u001B[39;00m stores \u001B[38;5;129;01mis\u001B[39;00m \u001B[38;5;28;01mNone\u001B[39;00m:\n\u001B[0;32m    313\u001B[0m     \u001B[38;5;66;03m# Maybe Yahoo returned old format, not encrypted\u001B[39;00m\n\u001B[0;32m    314\u001B[0m     \u001B[38;5;28;01mif\u001B[39;00m \u001B[38;5;124m\"\u001B[39m\u001B[38;5;124mcontext\u001B[39m\u001B[38;5;124m\"\u001B[39m \u001B[38;5;129;01min\u001B[39;00m data \u001B[38;5;129;01mand\u001B[39;00m \u001B[38;5;124m\"\u001B[39m\u001B[38;5;124mdispatcher\u001B[39m\u001B[38;5;124m\"\u001B[39m \u001B[38;5;129;01min\u001B[39;00m data[\u001B[38;5;124m\"\u001B[39m\u001B[38;5;124mcontext\u001B[39m\u001B[38;5;124m\"\u001B[39m]:\n",
      "File \u001B[1;32m~\\mambaforge\\envs\\AnalystForecast\\lib\\site-packages\\yfinance\\data.py:162\u001B[0m, in \u001B[0;36mdecrypt_cryptojs_aes_stores\u001B[1;34m(data, keys)\u001B[0m\n\u001B[0;32m    160\u001B[0m             \u001B[38;5;28;01mpass\u001B[39;00m\n\u001B[0;32m    161\u001B[0m     \u001B[38;5;28;01mif\u001B[39;00m \u001B[38;5;129;01mnot\u001B[39;00m success:\n\u001B[1;32m--> 162\u001B[0m         \u001B[38;5;28;01mraise\u001B[39;00m \u001B[38;5;167;01mException\u001B[39;00m(\u001B[38;5;124m\"\u001B[39m\u001B[38;5;124myfinance failed to decrypt Yahoo data response\u001B[39m\u001B[38;5;124m\"\u001B[39m)\n\u001B[0;32m    164\u001B[0m decoded_stores \u001B[38;5;241m=\u001B[39m json\u001B[38;5;241m.\u001B[39mloads(plaintext)\n\u001B[0;32m    165\u001B[0m \u001B[38;5;28;01mreturn\u001B[39;00m decoded_stores\n",
      "\u001B[1;31mException\u001B[0m: yfinance failed to decrypt Yahoo data response"
     ]
    }
   ],
   "source": [
    "# Get the historical revenue estimates data\n",
    "revenue_estimates = apple.recommendations\n",
    "\n",
    "print(revenue_estimates)\n"
   ],
   "metadata": {
    "collapsed": false
   }
  },
  {
   "cell_type": "code",
   "execution_count": null,
   "outputs": [],
   "source": [],
   "metadata": {
    "collapsed": false
   }
  }
 ],
 "metadata": {
  "kernelspec": {
   "display_name": "Python 3",
   "language": "python",
   "name": "python3"
  },
  "language_info": {
   "codemirror_mode": {
    "name": "ipython",
    "version": 2
   },
   "file_extension": ".py",
   "mimetype": "text/x-python",
   "name": "python",
   "nbconvert_exporter": "python",
   "pygments_lexer": "ipython2",
   "version": "2.7.6"
  }
 },
 "nbformat": 4,
 "nbformat_minor": 0
}
