{
 "cells": [
  {
   "cell_type": "code",
   "execution_count": 52,
   "metadata": {
    "collapsed": false
   },
   "outputs": [],
   "source": [
    "import pandas as pd\n",
    "import numpy as np\n",
    "import datetime\n",
    "import plotly.express as px"
   ]
  },
  {
   "cell_type": "markdown",
   "metadata": {
    "collapsed": false
   },
   "source": [
    "## Whole Dataframe"
   ]
  },
  {
   "cell_type": "code",
   "execution_count": 53,
   "metadata": {
    "collapsed": false
   },
   "outputs": [
    {
     "data": {
      "text/plain": "      Instrument        Date  Earnings Per Share - Actual Surprise AbsVals  \\\n0          AVY.N  2013-01-01                                      2.499631   \n1          AVY.N  2013-04-01                                      1.247607   \n2          AVY.N  2013-07-01                                      0.726582   \n3          AVY.N  2013-10-01                                      2.207725   \n4          AVY.N  2014-01-01                                      0.904623   \n...          ...         ...                                           ...   \n18604    POOL.OQ  2021-10-01                                      2.901092   \n18605    POOL.OQ  2022-01-01                                      3.720063   \n18606    POOL.OQ  2022-04-01                                      3.565072   \n18607    POOL.OQ  2022-07-01                                      0.917490   \n18608    POOL.OQ  2022-10-01                                      1.647889   \n\n      GICS Industry Group Name  Earnings Per Share – Coefficient of Variation  \\\n0                    Materials                                      -0.170865   \n1                    Materials                                      -0.235084   \n2                    Materials                                      -0.255193   \n3                    Materials                                      -0.205410   \n4                    Materials                                      -0.187991   \n...                        ...                                            ...   \n18604                Retailing                                      -0.202958   \n18605                Retailing                                      -0.185330   \n18606                Retailing                                      -0.048679   \n18607                Retailing                                      -0.170880   \n18608                Retailing                                      -0.161998   \n\n       Market Capitalization  Revenue - Actual  Number of Analysts  \\\n0                  -0.392700         -0.378055           -1.454924   \n1                  -0.385490         -0.380857           -1.454924   \n2                  -0.385908         -0.376364           -1.317440   \n3                  -0.385784         -0.380352           -1.454924   \n4                  -0.380857         -0.373706           -1.317440   \n...                      ...               ...                 ...   \n18604              -0.278490         -0.388214           -1.317440   \n18605              -0.235483         -0.419838           -1.317440   \n18606              -0.282188         -0.388113           -1.179957   \n18607              -0.305930         -0.334002           -1.179957   \n18608              -0.317844         -0.371061           -1.042473   \n\n       Recommendation - Mean (1-5).1  Price Target - Standard Deviation  \\\n0                              3.000                          -0.372481   \n1                              3.000                          -0.314283   \n2                              2.875                          -0.299006   \n3                              2.875                          -0.332867   \n4                              2.625                          -0.333923   \n...                              ...                                ...   \n18604                          2.300                           1.525227   \n18605                          2.300                           1.163772   \n18606                          2.300                           1.011830   \n18607                          2.000                           1.805131   \n18608                          2.200                           0.516405   \n\n       3 Month Total Return  loss firm status  \\\n0                  0.469207                -1   \n1                  1.410685                -1   \n2                 -0.275801                -1   \n3                 -0.100077                -1   \n4                  0.843142                -1   \n...                     ...               ...   \n18604             -0.629509                -1   \n18605              1.852531                -1   \n18606             -2.025245                -1   \n18607             -1.781424                -1   \n18608             -0.910607                -1   \n\n       CBOE Crude Oil ETF Volatility Index  \\\n0                                -1.004420   \n1                                -0.944876   \n2                                -0.904454   \n3                                -1.183607   \n4                                -1.194955   \n...                                    ...   \n18604                             0.308492   \n18605                             0.927196   \n18606                             0.783834   \n18607                             0.745658   \n18608                             0.562433   \n\n       90-Day AA Financial Commercial Paper Interest Rate  \\\n0                                              -0.795818    \n1                                              -0.817719    \n2                                              -0.835560    \n3                                              -0.835381    \n4                                              -0.834965    \n...                                                  ...    \n18604                                          -0.820667    \n18605                                          -0.499303    \n18606                                           0.413058    \n18607                                           1.881451    \n18608                                           3.204509    \n\n       Inflation Risk Premium  \\\n0                   -0.380688   \n1                   -0.367655   \n2                    0.931854   \n3                    0.655696   \n4                    0.952897   \n...                       ...   \n18604               -0.089760   \n18605               -0.111148   \n18606                1.332205   \n18607                0.418886   \n18608                1.830636   \n\n       University of Michigan: Consumer Sentiment, Index 1966:Q1=100  \\\n0                                              -0.747049               \n1                                              -0.338211               \n2                                              -0.346387               \n3                                              -0.725244               \n4                                              -0.398173               \n...                                                  ...               \n18604                                          -1.300343               \n18605                                          -1.853637               \n18606                                          -2.284280               \n18607                                          -2.428736               \n18608                                          -2.207963               \n\n       Unemployment Rate  \n0               1.389797  \n1               1.278991  \n2               1.112782  \n3               0.946572  \n4               0.798831  \n...                  ...  \n18604          -0.567779  \n18605          -0.789391  \n18606          -0.900197  \n18607          -0.918665  \n18608          -0.900197  \n\n[18609 rows x 17 columns]",
      "text/html": "<div>\n<style scoped>\n    .dataframe tbody tr th:only-of-type {\n        vertical-align: middle;\n    }\n\n    .dataframe tbody tr th {\n        vertical-align: top;\n    }\n\n    .dataframe thead th {\n        text-align: right;\n    }\n</style>\n<table border=\"1\" class=\"dataframe\">\n  <thead>\n    <tr style=\"text-align: right;\">\n      <th></th>\n      <th>Instrument</th>\n      <th>Date</th>\n      <th>Earnings Per Share - Actual Surprise AbsVals</th>\n      <th>GICS Industry Group Name</th>\n      <th>Earnings Per Share – Coefficient of Variation</th>\n      <th>Market Capitalization</th>\n      <th>Revenue - Actual</th>\n      <th>Number of Analysts</th>\n      <th>Recommendation - Mean (1-5).1</th>\n      <th>Price Target - Standard Deviation</th>\n      <th>3 Month Total Return</th>\n      <th>loss firm status</th>\n      <th>CBOE Crude Oil ETF Volatility Index</th>\n      <th>90-Day AA Financial Commercial Paper Interest Rate</th>\n      <th>Inflation Risk Premium</th>\n      <th>University of Michigan: Consumer Sentiment, Index 1966:Q1=100</th>\n      <th>Unemployment Rate</th>\n    </tr>\n  </thead>\n  <tbody>\n    <tr>\n      <th>0</th>\n      <td>AVY.N</td>\n      <td>2013-01-01</td>\n      <td>2.499631</td>\n      <td>Materials</td>\n      <td>-0.170865</td>\n      <td>-0.392700</td>\n      <td>-0.378055</td>\n      <td>-1.454924</td>\n      <td>3.000</td>\n      <td>-0.372481</td>\n      <td>0.469207</td>\n      <td>-1</td>\n      <td>-1.004420</td>\n      <td>-0.795818</td>\n      <td>-0.380688</td>\n      <td>-0.747049</td>\n      <td>1.389797</td>\n    </tr>\n    <tr>\n      <th>1</th>\n      <td>AVY.N</td>\n      <td>2013-04-01</td>\n      <td>1.247607</td>\n      <td>Materials</td>\n      <td>-0.235084</td>\n      <td>-0.385490</td>\n      <td>-0.380857</td>\n      <td>-1.454924</td>\n      <td>3.000</td>\n      <td>-0.314283</td>\n      <td>1.410685</td>\n      <td>-1</td>\n      <td>-0.944876</td>\n      <td>-0.817719</td>\n      <td>-0.367655</td>\n      <td>-0.338211</td>\n      <td>1.278991</td>\n    </tr>\n    <tr>\n      <th>2</th>\n      <td>AVY.N</td>\n      <td>2013-07-01</td>\n      <td>0.726582</td>\n      <td>Materials</td>\n      <td>-0.255193</td>\n      <td>-0.385908</td>\n      <td>-0.376364</td>\n      <td>-1.317440</td>\n      <td>2.875</td>\n      <td>-0.299006</td>\n      <td>-0.275801</td>\n      <td>-1</td>\n      <td>-0.904454</td>\n      <td>-0.835560</td>\n      <td>0.931854</td>\n      <td>-0.346387</td>\n      <td>1.112782</td>\n    </tr>\n    <tr>\n      <th>3</th>\n      <td>AVY.N</td>\n      <td>2013-10-01</td>\n      <td>2.207725</td>\n      <td>Materials</td>\n      <td>-0.205410</td>\n      <td>-0.385784</td>\n      <td>-0.380352</td>\n      <td>-1.454924</td>\n      <td>2.875</td>\n      <td>-0.332867</td>\n      <td>-0.100077</td>\n      <td>-1</td>\n      <td>-1.183607</td>\n      <td>-0.835381</td>\n      <td>0.655696</td>\n      <td>-0.725244</td>\n      <td>0.946572</td>\n    </tr>\n    <tr>\n      <th>4</th>\n      <td>AVY.N</td>\n      <td>2014-01-01</td>\n      <td>0.904623</td>\n      <td>Materials</td>\n      <td>-0.187991</td>\n      <td>-0.380857</td>\n      <td>-0.373706</td>\n      <td>-1.317440</td>\n      <td>2.625</td>\n      <td>-0.333923</td>\n      <td>0.843142</td>\n      <td>-1</td>\n      <td>-1.194955</td>\n      <td>-0.834965</td>\n      <td>0.952897</td>\n      <td>-0.398173</td>\n      <td>0.798831</td>\n    </tr>\n    <tr>\n      <th>...</th>\n      <td>...</td>\n      <td>...</td>\n      <td>...</td>\n      <td>...</td>\n      <td>...</td>\n      <td>...</td>\n      <td>...</td>\n      <td>...</td>\n      <td>...</td>\n      <td>...</td>\n      <td>...</td>\n      <td>...</td>\n      <td>...</td>\n      <td>...</td>\n      <td>...</td>\n      <td>...</td>\n      <td>...</td>\n    </tr>\n    <tr>\n      <th>18604</th>\n      <td>POOL.OQ</td>\n      <td>2021-10-01</td>\n      <td>2.901092</td>\n      <td>Retailing</td>\n      <td>-0.202958</td>\n      <td>-0.278490</td>\n      <td>-0.388214</td>\n      <td>-1.317440</td>\n      <td>2.300</td>\n      <td>1.525227</td>\n      <td>-0.629509</td>\n      <td>-1</td>\n      <td>0.308492</td>\n      <td>-0.820667</td>\n      <td>-0.089760</td>\n      <td>-1.300343</td>\n      <td>-0.567779</td>\n    </tr>\n    <tr>\n      <th>18605</th>\n      <td>POOL.OQ</td>\n      <td>2022-01-01</td>\n      <td>3.720063</td>\n      <td>Retailing</td>\n      <td>-0.185330</td>\n      <td>-0.235483</td>\n      <td>-0.419838</td>\n      <td>-1.317440</td>\n      <td>2.300</td>\n      <td>1.163772</td>\n      <td>1.852531</td>\n      <td>-1</td>\n      <td>0.927196</td>\n      <td>-0.499303</td>\n      <td>-0.111148</td>\n      <td>-1.853637</td>\n      <td>-0.789391</td>\n    </tr>\n    <tr>\n      <th>18606</th>\n      <td>POOL.OQ</td>\n      <td>2022-04-01</td>\n      <td>3.565072</td>\n      <td>Retailing</td>\n      <td>-0.048679</td>\n      <td>-0.282188</td>\n      <td>-0.388113</td>\n      <td>-1.179957</td>\n      <td>2.300</td>\n      <td>1.011830</td>\n      <td>-2.025245</td>\n      <td>-1</td>\n      <td>0.783834</td>\n      <td>0.413058</td>\n      <td>1.332205</td>\n      <td>-2.284280</td>\n      <td>-0.900197</td>\n    </tr>\n    <tr>\n      <th>18607</th>\n      <td>POOL.OQ</td>\n      <td>2022-07-01</td>\n      <td>0.917490</td>\n      <td>Retailing</td>\n      <td>-0.170880</td>\n      <td>-0.305930</td>\n      <td>-0.334002</td>\n      <td>-1.179957</td>\n      <td>2.000</td>\n      <td>1.805131</td>\n      <td>-1.781424</td>\n      <td>-1</td>\n      <td>0.745658</td>\n      <td>1.881451</td>\n      <td>0.418886</td>\n      <td>-2.428736</td>\n      <td>-0.918665</td>\n    </tr>\n    <tr>\n      <th>18608</th>\n      <td>POOL.OQ</td>\n      <td>2022-10-01</td>\n      <td>1.647889</td>\n      <td>Retailing</td>\n      <td>-0.161998</td>\n      <td>-0.317844</td>\n      <td>-0.371061</td>\n      <td>-1.042473</td>\n      <td>2.200</td>\n      <td>0.516405</td>\n      <td>-0.910607</td>\n      <td>-1</td>\n      <td>0.562433</td>\n      <td>3.204509</td>\n      <td>1.830636</td>\n      <td>-2.207963</td>\n      <td>-0.900197</td>\n    </tr>\n  </tbody>\n</table>\n<p>18609 rows × 17 columns</p>\n</div>"
     },
     "execution_count": 53,
     "metadata": {},
     "output_type": "execute_result"
    }
   ],
   "source": [
    "df = pd.read_csv(\"Dataframes/economic_story_regression.csv\")\n",
    "df[\"Date\"] = pd.to_datetime(df[\"Date\"]).dt.date\n",
    "df\n",
    "#df.isna().sum()"
   ]
  },
  {
   "cell_type": "markdown",
   "metadata": {
    "collapsed": false
   },
   "source": [
    "## Characteristics dataframe for Regression"
   ]
  },
  {
   "cell_type": "code",
   "execution_count": 54,
   "metadata": {
    "collapsed": false
   },
   "outputs": [
    {
     "data": {
      "text/plain": "      Instrument        Date GICS Industry Group Name  \\\n0          AVY.N  2013-01-01                Materials   \n1          AVY.N  2013-04-01                Materials   \n2          AVY.N  2013-07-01                Materials   \n3          AVY.N  2013-10-01                Materials   \n4          AVY.N  2014-01-01                Materials   \n...          ...         ...                      ...   \n18604    POOL.OQ  2021-10-01                Retailing   \n18605    POOL.OQ  2022-01-01                Retailing   \n18606    POOL.OQ  2022-04-01                Retailing   \n18607    POOL.OQ  2022-07-01                Retailing   \n18608    POOL.OQ  2022-10-01                Retailing   \n\n       Earnings Per Share - Actual Surprise AbsVals  Revenue - Actual  \\\n0                                          2.499631         -0.378055   \n1                                          1.247607         -0.380857   \n2                                          0.726582         -0.376364   \n3                                          2.207725         -0.380352   \n4                                          0.904623         -0.373706   \n...                                             ...               ...   \n18604                                      2.901092         -0.388214   \n18605                                      3.720063         -0.419838   \n18606                                      3.565072         -0.388113   \n18607                                      0.917490         -0.334002   \n18608                                      1.647889         -0.371061   \n\n       Market Capitalization  Earnings Per Share – Coefficient of Variation  \\\n0                  -0.392700                                      -0.170865   \n1                  -0.385490                                      -0.235084   \n2                  -0.385908                                      -0.255193   \n3                  -0.385784                                      -0.205410   \n4                  -0.380857                                      -0.187991   \n...                      ...                                            ...   \n18604              -0.278490                                      -0.202958   \n18605              -0.235483                                      -0.185330   \n18606              -0.282188                                      -0.048679   \n18607              -0.305930                                      -0.170880   \n18608              -0.317844                                      -0.161998   \n\n       loss firm status  \n0                    -1  \n1                    -1  \n2                    -1  \n3                    -1  \n4                    -1  \n...                 ...  \n18604                -1  \n18605                -1  \n18606                -1  \n18607                -1  \n18608                -1  \n\n[18609 rows x 8 columns]",
      "text/html": "<div>\n<style scoped>\n    .dataframe tbody tr th:only-of-type {\n        vertical-align: middle;\n    }\n\n    .dataframe tbody tr th {\n        vertical-align: top;\n    }\n\n    .dataframe thead th {\n        text-align: right;\n    }\n</style>\n<table border=\"1\" class=\"dataframe\">\n  <thead>\n    <tr style=\"text-align: right;\">\n      <th></th>\n      <th>Instrument</th>\n      <th>Date</th>\n      <th>GICS Industry Group Name</th>\n      <th>Earnings Per Share - Actual Surprise AbsVals</th>\n      <th>Revenue - Actual</th>\n      <th>Market Capitalization</th>\n      <th>Earnings Per Share – Coefficient of Variation</th>\n      <th>loss firm status</th>\n    </tr>\n  </thead>\n  <tbody>\n    <tr>\n      <th>0</th>\n      <td>AVY.N</td>\n      <td>2013-01-01</td>\n      <td>Materials</td>\n      <td>2.499631</td>\n      <td>-0.378055</td>\n      <td>-0.392700</td>\n      <td>-0.170865</td>\n      <td>-1</td>\n    </tr>\n    <tr>\n      <th>1</th>\n      <td>AVY.N</td>\n      <td>2013-04-01</td>\n      <td>Materials</td>\n      <td>1.247607</td>\n      <td>-0.380857</td>\n      <td>-0.385490</td>\n      <td>-0.235084</td>\n      <td>-1</td>\n    </tr>\n    <tr>\n      <th>2</th>\n      <td>AVY.N</td>\n      <td>2013-07-01</td>\n      <td>Materials</td>\n      <td>0.726582</td>\n      <td>-0.376364</td>\n      <td>-0.385908</td>\n      <td>-0.255193</td>\n      <td>-1</td>\n    </tr>\n    <tr>\n      <th>3</th>\n      <td>AVY.N</td>\n      <td>2013-10-01</td>\n      <td>Materials</td>\n      <td>2.207725</td>\n      <td>-0.380352</td>\n      <td>-0.385784</td>\n      <td>-0.205410</td>\n      <td>-1</td>\n    </tr>\n    <tr>\n      <th>4</th>\n      <td>AVY.N</td>\n      <td>2014-01-01</td>\n      <td>Materials</td>\n      <td>0.904623</td>\n      <td>-0.373706</td>\n      <td>-0.380857</td>\n      <td>-0.187991</td>\n      <td>-1</td>\n    </tr>\n    <tr>\n      <th>...</th>\n      <td>...</td>\n      <td>...</td>\n      <td>...</td>\n      <td>...</td>\n      <td>...</td>\n      <td>...</td>\n      <td>...</td>\n      <td>...</td>\n    </tr>\n    <tr>\n      <th>18604</th>\n      <td>POOL.OQ</td>\n      <td>2021-10-01</td>\n      <td>Retailing</td>\n      <td>2.901092</td>\n      <td>-0.388214</td>\n      <td>-0.278490</td>\n      <td>-0.202958</td>\n      <td>-1</td>\n    </tr>\n    <tr>\n      <th>18605</th>\n      <td>POOL.OQ</td>\n      <td>2022-01-01</td>\n      <td>Retailing</td>\n      <td>3.720063</td>\n      <td>-0.419838</td>\n      <td>-0.235483</td>\n      <td>-0.185330</td>\n      <td>-1</td>\n    </tr>\n    <tr>\n      <th>18606</th>\n      <td>POOL.OQ</td>\n      <td>2022-04-01</td>\n      <td>Retailing</td>\n      <td>3.565072</td>\n      <td>-0.388113</td>\n      <td>-0.282188</td>\n      <td>-0.048679</td>\n      <td>-1</td>\n    </tr>\n    <tr>\n      <th>18607</th>\n      <td>POOL.OQ</td>\n      <td>2022-07-01</td>\n      <td>Retailing</td>\n      <td>0.917490</td>\n      <td>-0.334002</td>\n      <td>-0.305930</td>\n      <td>-0.170880</td>\n      <td>-1</td>\n    </tr>\n    <tr>\n      <th>18608</th>\n      <td>POOL.OQ</td>\n      <td>2022-10-01</td>\n      <td>Retailing</td>\n      <td>1.647889</td>\n      <td>-0.371061</td>\n      <td>-0.317844</td>\n      <td>-0.161998</td>\n      <td>-1</td>\n    </tr>\n  </tbody>\n</table>\n<p>18609 rows × 8 columns</p>\n</div>"
     },
     "execution_count": 54,
     "metadata": {},
     "output_type": "execute_result"
    }
   ],
   "source": [
    "characteristics = df.loc[:, [\"Instrument\", \"Date\",\"GICS Industry Group Name\", \"Earnings Per Share - Actual Surprise AbsVals\", \"Revenue - Actual\", \"Market Capitalization\", \"Earnings Per Share – Coefficient of Variation\", \"loss firm status\"]]\n",
    "characteristics"
   ]
  },
  {
   "cell_type": "code",
   "execution_count": 55,
   "metadata": {
    "collapsed": false
   },
   "outputs": [],
   "source": [
    "characteristics.to_csv(\"Dataframes/characteristics_regression.csv\", index=False)"
   ]
  },
  {
   "attachments": {},
   "cell_type": "markdown",
   "metadata": {
    "collapsed": false
   },
   "source": [
    "## Analyst characteristics dataframe for regression"
   ]
  },
  {
   "cell_type": "code",
   "execution_count": 56,
   "metadata": {
    "collapsed": false
   },
   "outputs": [],
   "source": [
    "analysts = df.loc[:, [\"Instrument\", \"Date\",\"GICS Industry Group Name\", \"Earnings Per Share - Actual Surprise AbsVals\", \"Number of Analysts\", \"Recommendation - Mean (1-5).1\", \"Price Target - Standard Deviation\"]]\n",
    "#analysts"
   ]
  },
  {
   "cell_type": "code",
   "execution_count": 57,
   "metadata": {
    "collapsed": false
   },
   "outputs": [
    {
     "data": {
      "text/plain": "      Instrument        Date GICS Industry Group Name  \\\n0          AVY.N  2013-01-01                Materials   \n1          AVY.N  2013-04-01                Materials   \n2          AVY.N  2013-07-01                Materials   \n3          AVY.N  2013-10-01                Materials   \n4          AVY.N  2014-01-01                Materials   \n...          ...         ...                      ...   \n18604    POOL.OQ  2021-10-01                Retailing   \n18605    POOL.OQ  2022-01-01                Retailing   \n18606    POOL.OQ  2022-04-01                Retailing   \n18607    POOL.OQ  2022-07-01                Retailing   \n18608    POOL.OQ  2022-10-01                Retailing   \n\n       Earnings Per Share - Actual Surprise AbsVals  Number of Analysts  \\\n0                                          2.499631           -1.454924   \n1                                          1.247607           -1.454924   \n2                                          0.726582           -1.317440   \n3                                          2.207725           -1.454924   \n4                                          0.904623           -1.317440   \n...                                             ...                 ...   \n18604                                      2.901092           -1.317440   \n18605                                      3.720063           -1.317440   \n18606                                      3.565072           -1.179957   \n18607                                      0.917490           -1.179957   \n18608                                      1.647889           -1.042473   \n\n       Recommendation - Mean (1-5).1  Price Target - Standard Deviation  \n0                              3.000                          -0.372481  \n1                              3.000                          -0.314283  \n2                              2.875                          -0.299006  \n3                              2.875                          -0.332867  \n4                              2.625                          -0.333923  \n...                              ...                                ...  \n18604                          2.300                           1.525227  \n18605                          2.300                           1.163772  \n18606                          2.300                           1.011830  \n18607                          2.000                           1.805131  \n18608                          2.200                           0.516405  \n\n[18609 rows x 7 columns]",
      "text/html": "<div>\n<style scoped>\n    .dataframe tbody tr th:only-of-type {\n        vertical-align: middle;\n    }\n\n    .dataframe tbody tr th {\n        vertical-align: top;\n    }\n\n    .dataframe thead th {\n        text-align: right;\n    }\n</style>\n<table border=\"1\" class=\"dataframe\">\n  <thead>\n    <tr style=\"text-align: right;\">\n      <th></th>\n      <th>Instrument</th>\n      <th>Date</th>\n      <th>GICS Industry Group Name</th>\n      <th>Earnings Per Share - Actual Surprise AbsVals</th>\n      <th>Number of Analysts</th>\n      <th>Recommendation - Mean (1-5).1</th>\n      <th>Price Target - Standard Deviation</th>\n    </tr>\n  </thead>\n  <tbody>\n    <tr>\n      <th>0</th>\n      <td>AVY.N</td>\n      <td>2013-01-01</td>\n      <td>Materials</td>\n      <td>2.499631</td>\n      <td>-1.454924</td>\n      <td>3.000</td>\n      <td>-0.372481</td>\n    </tr>\n    <tr>\n      <th>1</th>\n      <td>AVY.N</td>\n      <td>2013-04-01</td>\n      <td>Materials</td>\n      <td>1.247607</td>\n      <td>-1.454924</td>\n      <td>3.000</td>\n      <td>-0.314283</td>\n    </tr>\n    <tr>\n      <th>2</th>\n      <td>AVY.N</td>\n      <td>2013-07-01</td>\n      <td>Materials</td>\n      <td>0.726582</td>\n      <td>-1.317440</td>\n      <td>2.875</td>\n      <td>-0.299006</td>\n    </tr>\n    <tr>\n      <th>3</th>\n      <td>AVY.N</td>\n      <td>2013-10-01</td>\n      <td>Materials</td>\n      <td>2.207725</td>\n      <td>-1.454924</td>\n      <td>2.875</td>\n      <td>-0.332867</td>\n    </tr>\n    <tr>\n      <th>4</th>\n      <td>AVY.N</td>\n      <td>2014-01-01</td>\n      <td>Materials</td>\n      <td>0.904623</td>\n      <td>-1.317440</td>\n      <td>2.625</td>\n      <td>-0.333923</td>\n    </tr>\n    <tr>\n      <th>...</th>\n      <td>...</td>\n      <td>...</td>\n      <td>...</td>\n      <td>...</td>\n      <td>...</td>\n      <td>...</td>\n      <td>...</td>\n    </tr>\n    <tr>\n      <th>18604</th>\n      <td>POOL.OQ</td>\n      <td>2021-10-01</td>\n      <td>Retailing</td>\n      <td>2.901092</td>\n      <td>-1.317440</td>\n      <td>2.300</td>\n      <td>1.525227</td>\n    </tr>\n    <tr>\n      <th>18605</th>\n      <td>POOL.OQ</td>\n      <td>2022-01-01</td>\n      <td>Retailing</td>\n      <td>3.720063</td>\n      <td>-1.317440</td>\n      <td>2.300</td>\n      <td>1.163772</td>\n    </tr>\n    <tr>\n      <th>18606</th>\n      <td>POOL.OQ</td>\n      <td>2022-04-01</td>\n      <td>Retailing</td>\n      <td>3.565072</td>\n      <td>-1.179957</td>\n      <td>2.300</td>\n      <td>1.011830</td>\n    </tr>\n    <tr>\n      <th>18607</th>\n      <td>POOL.OQ</td>\n      <td>2022-07-01</td>\n      <td>Retailing</td>\n      <td>0.917490</td>\n      <td>-1.179957</td>\n      <td>2.000</td>\n      <td>1.805131</td>\n    </tr>\n    <tr>\n      <th>18608</th>\n      <td>POOL.OQ</td>\n      <td>2022-10-01</td>\n      <td>Retailing</td>\n      <td>1.647889</td>\n      <td>-1.042473</td>\n      <td>2.200</td>\n      <td>0.516405</td>\n    </tr>\n  </tbody>\n</table>\n<p>18609 rows × 7 columns</p>\n</div>"
     },
     "execution_count": 57,
     "metadata": {},
     "output_type": "execute_result"
    }
   ],
   "source": [
    "analysts"
   ]
  },
  {
   "cell_type": "code",
   "execution_count": 58,
   "metadata": {
    "collapsed": false
   },
   "outputs": [],
   "source": [
    "analysts.to_csv(\"Dataframes/analysts_regression.csv\", index=False)"
   ]
  },
  {
   "cell_type": "markdown",
   "source": [
    "# Macro"
   ],
   "metadata": {
    "collapsed": false
   }
  },
  {
   "cell_type": "code",
   "execution_count": 59,
   "outputs": [
    {
     "data": {
      "text/plain": "      Instrument        Date GICS Industry Group Name  \\\n0          AVY.N  2013-01-01                Materials   \n1          AVY.N  2013-04-01                Materials   \n2          AVY.N  2013-07-01                Materials   \n3          AVY.N  2013-10-01                Materials   \n4          AVY.N  2014-01-01                Materials   \n...          ...         ...                      ...   \n18604    POOL.OQ  2021-10-01                Retailing   \n18605    POOL.OQ  2022-01-01                Retailing   \n18606    POOL.OQ  2022-04-01                Retailing   \n18607    POOL.OQ  2022-07-01                Retailing   \n18608    POOL.OQ  2022-10-01                Retailing   \n\n       Earnings Per Share - Actual Surprise AbsVals  Unemployment Rate  \\\n0                                          2.499631           1.389797   \n1                                          1.247607           1.278991   \n2                                          0.726582           1.112782   \n3                                          2.207725           0.946572   \n4                                          0.904623           0.798831   \n...                                             ...                ...   \n18604                                      2.901092          -0.567779   \n18605                                      3.720063          -0.789391   \n18606                                      3.565072          -0.900197   \n18607                                      0.917490          -0.918665   \n18608                                      1.647889          -0.900197   \n\n       University of Michigan: Consumer Sentiment, Index 1966:Q1=100  \\\n0                                              -0.747049               \n1                                              -0.338211               \n2                                              -0.346387               \n3                                              -0.725244               \n4                                              -0.398173               \n...                                                  ...               \n18604                                          -1.300343               \n18605                                          -1.853637               \n18606                                          -2.284280               \n18607                                          -2.428736               \n18608                                          -2.207963               \n\n       Inflation Risk Premium  \\\n0                   -0.380688   \n1                   -0.367655   \n2                    0.931854   \n3                    0.655696   \n4                    0.952897   \n...                       ...   \n18604               -0.089760   \n18605               -0.111148   \n18606                1.332205   \n18607                0.418886   \n18608                1.830636   \n\n       90-Day AA Financial Commercial Paper Interest Rate  \\\n0                                              -0.795818    \n1                                              -0.817719    \n2                                              -0.835560    \n3                                              -0.835381    \n4                                              -0.834965    \n...                                                  ...    \n18604                                          -0.820667    \n18605                                          -0.499303    \n18606                                           0.413058    \n18607                                           1.881451    \n18608                                           3.204509    \n\n       CBOE Crude Oil ETF Volatility Index  \n0                                -1.004420  \n1                                -0.944876  \n2                                -0.904454  \n3                                -1.183607  \n4                                -1.194955  \n...                                    ...  \n18604                             0.308492  \n18605                             0.927196  \n18606                             0.783834  \n18607                             0.745658  \n18608                             0.562433  \n\n[18609 rows x 9 columns]",
      "text/html": "<div>\n<style scoped>\n    .dataframe tbody tr th:only-of-type {\n        vertical-align: middle;\n    }\n\n    .dataframe tbody tr th {\n        vertical-align: top;\n    }\n\n    .dataframe thead th {\n        text-align: right;\n    }\n</style>\n<table border=\"1\" class=\"dataframe\">\n  <thead>\n    <tr style=\"text-align: right;\">\n      <th></th>\n      <th>Instrument</th>\n      <th>Date</th>\n      <th>GICS Industry Group Name</th>\n      <th>Earnings Per Share - Actual Surprise AbsVals</th>\n      <th>Unemployment Rate</th>\n      <th>University of Michigan: Consumer Sentiment, Index 1966:Q1=100</th>\n      <th>Inflation Risk Premium</th>\n      <th>90-Day AA Financial Commercial Paper Interest Rate</th>\n      <th>CBOE Crude Oil ETF Volatility Index</th>\n    </tr>\n  </thead>\n  <tbody>\n    <tr>\n      <th>0</th>\n      <td>AVY.N</td>\n      <td>2013-01-01</td>\n      <td>Materials</td>\n      <td>2.499631</td>\n      <td>1.389797</td>\n      <td>-0.747049</td>\n      <td>-0.380688</td>\n      <td>-0.795818</td>\n      <td>-1.004420</td>\n    </tr>\n    <tr>\n      <th>1</th>\n      <td>AVY.N</td>\n      <td>2013-04-01</td>\n      <td>Materials</td>\n      <td>1.247607</td>\n      <td>1.278991</td>\n      <td>-0.338211</td>\n      <td>-0.367655</td>\n      <td>-0.817719</td>\n      <td>-0.944876</td>\n    </tr>\n    <tr>\n      <th>2</th>\n      <td>AVY.N</td>\n      <td>2013-07-01</td>\n      <td>Materials</td>\n      <td>0.726582</td>\n      <td>1.112782</td>\n      <td>-0.346387</td>\n      <td>0.931854</td>\n      <td>-0.835560</td>\n      <td>-0.904454</td>\n    </tr>\n    <tr>\n      <th>3</th>\n      <td>AVY.N</td>\n      <td>2013-10-01</td>\n      <td>Materials</td>\n      <td>2.207725</td>\n      <td>0.946572</td>\n      <td>-0.725244</td>\n      <td>0.655696</td>\n      <td>-0.835381</td>\n      <td>-1.183607</td>\n    </tr>\n    <tr>\n      <th>4</th>\n      <td>AVY.N</td>\n      <td>2014-01-01</td>\n      <td>Materials</td>\n      <td>0.904623</td>\n      <td>0.798831</td>\n      <td>-0.398173</td>\n      <td>0.952897</td>\n      <td>-0.834965</td>\n      <td>-1.194955</td>\n    </tr>\n    <tr>\n      <th>...</th>\n      <td>...</td>\n      <td>...</td>\n      <td>...</td>\n      <td>...</td>\n      <td>...</td>\n      <td>...</td>\n      <td>...</td>\n      <td>...</td>\n      <td>...</td>\n    </tr>\n    <tr>\n      <th>18604</th>\n      <td>POOL.OQ</td>\n      <td>2021-10-01</td>\n      <td>Retailing</td>\n      <td>2.901092</td>\n      <td>-0.567779</td>\n      <td>-1.300343</td>\n      <td>-0.089760</td>\n      <td>-0.820667</td>\n      <td>0.308492</td>\n    </tr>\n    <tr>\n      <th>18605</th>\n      <td>POOL.OQ</td>\n      <td>2022-01-01</td>\n      <td>Retailing</td>\n      <td>3.720063</td>\n      <td>-0.789391</td>\n      <td>-1.853637</td>\n      <td>-0.111148</td>\n      <td>-0.499303</td>\n      <td>0.927196</td>\n    </tr>\n    <tr>\n      <th>18606</th>\n      <td>POOL.OQ</td>\n      <td>2022-04-01</td>\n      <td>Retailing</td>\n      <td>3.565072</td>\n      <td>-0.900197</td>\n      <td>-2.284280</td>\n      <td>1.332205</td>\n      <td>0.413058</td>\n      <td>0.783834</td>\n    </tr>\n    <tr>\n      <th>18607</th>\n      <td>POOL.OQ</td>\n      <td>2022-07-01</td>\n      <td>Retailing</td>\n      <td>0.917490</td>\n      <td>-0.918665</td>\n      <td>-2.428736</td>\n      <td>0.418886</td>\n      <td>1.881451</td>\n      <td>0.745658</td>\n    </tr>\n    <tr>\n      <th>18608</th>\n      <td>POOL.OQ</td>\n      <td>2022-10-01</td>\n      <td>Retailing</td>\n      <td>1.647889</td>\n      <td>-0.900197</td>\n      <td>-2.207963</td>\n      <td>1.830636</td>\n      <td>3.204509</td>\n      <td>0.562433</td>\n    </tr>\n  </tbody>\n</table>\n<p>18609 rows × 9 columns</p>\n</div>"
     },
     "execution_count": 59,
     "metadata": {},
     "output_type": "execute_result"
    }
   ],
   "source": [
    "macro = df.loc[:, [\"Instrument\", \"Date\",\"GICS Industry Group Name\", \"Earnings Per Share - Actual Surprise AbsVals\", \"Unemployment Rate\", \"University of Michigan: Consumer Sentiment, Index 1966:Q1=100\", \"Inflation Risk Premium\", \"90-Day AA Financial Commercial Paper Interest Rate\", \"CBOE Crude Oil ETF Volatility Index\"]]\n",
    "macro"
   ],
   "metadata": {
    "collapsed": false
   }
  },
  {
   "cell_type": "code",
   "execution_count": 60,
   "outputs": [],
   "source": [
    "macro.to_csv(\"Dataframes/macro_regression.csv\", index=False)"
   ],
   "metadata": {
    "collapsed": false
   }
  }
 ],
 "metadata": {
  "kernelspec": {
   "display_name": "AnalystForecast",
   "language": "python",
   "name": "python3"
  },
  "language_info": {
   "codemirror_mode": {
    "name": "ipython",
    "version": 3
   },
   "file_extension": ".py",
   "mimetype": "text/x-python",
   "name": "python",
   "nbconvert_exporter": "python",
   "pygments_lexer": "ipython3",
   "version": "3.11.0"
  },
  "vscode": {
   "interpreter": {
    "hash": "264d128b47a19451ae7876f5ee246d3f7de9751940a5ebe47f15ec6626e5a91f"
   }
  }
 },
 "nbformat": 4,
 "nbformat_minor": 0
}
