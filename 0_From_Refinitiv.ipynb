{
 "cells": [
  {
   "cell_type": "code",
   "execution_count": 6,
   "metadata": {
    "collapsed": false
   },
   "outputs": [],
   "source": [
    "import eikon as ek\n",
    "import pandas as pd\n",
    "import numpy as np\n",
    "import datetime\n",
    "import plotly.express as px\n",
    "from fredapi import Fred\n",
    "\n",
    "#ek.set_app_key(\"320e7257c23945729695a106cedb2b9cb72d3207\") # Elena\n",
    "#ek.set_app_key(\"320e7257c23945729695a106cedb2b9cb72d3207\") # Elena\n",
    "ek.set_app_key(\"69de0ce7c5e2468e90a6058ce79f6558ebe3ee30\") # Alexander\n",
    "#ek.set_app_key(\"8879958aee0d4e68894df7ee96fe7c192adc17fc\") # Mohandas\n",
    "#ek.set_app_key(\"f47c330480d74c598b7e8ebc2539424e91764dd8\") # Ginevra"
   ]
  },
  {
   "cell_type": "markdown",
   "metadata": {
    "collapsed": false
   },
   "source": [
    "https://community.developers.refinitiv.com/questions/73493/get-eps-historical-data-for-stocks.html"
   ]
  },
  {
   "cell_type": "markdown",
   "metadata": {
    "collapsed": false
   },
   "source": [
    "# Economic Story\n",
    "\n",
    "**TR.RevenueActValue.date** - prints the datetime\n",
    "\n",
    "## Part 1: Accuracy\n",
    "\n",
    "1. **TR.EPSActValue** - The company's actual value normalized to reflect the I/B/E/S default currency and corporate actions (e.g. stock splits). Earnings Per Share is defined as the EPS that the contributing analyst considers to be that with which to value a security. This figure may include or exclude certain items depending on the contributing analyst's specific model.\n",
    "\n",
    "2. **TR.EPSMean** - The statistical average of all broker estimates determined to be on the majority accounting basis. Earnings Per Share is defined as the EPS that the contributing analyst considers to be that with which to value a security. This figure may include or exclude certain items depending on the contributing analyst's specific model.\n",
    "\n",
    "--> this is a analyst forecast variable\n",
    "\n",
    "3. **TR.EPSActSurprise** - The difference between the actual and the last mean of the period, expressed as a percentage. Earnings Per Share is defined as the EPS that the contributing analyst considers to be that with which to value a security. This figure may include or exclude certain items depending on the contributing analyst's specific model.\n",
    "\n",
    "--> forecast error between actual EPS and TR.EPSMean\n",
    "\n",
    "<img src=\"./Pictures/Screenshot 2023-02-15 185222.png\" width=500 height=300 />\n",
    "\n",
    "## Part 2: Factors\n",
    "\n",
    "### Firm charateristics\n",
    "\n",
    "1. **TR.RevenueActValue** - The company's actual value normalized to reflect the I/B/E/S default currency and corporate actions (e.g. stock splits). Revenue (or Sales) is a corporation's net revenue, generally derived from core business activities. For non-financial companies, the calculation of net revenue (or net turnover) in most markets generally involves subtracting transportation and related operational costs from gross revenue/sales. Revenue recognition practices vary significantly from market to market, though generally the recording of revenue is based upon sales invoices issued (or anticipated for forecast purposes) during the accounting period.\n",
    "2. **TR.F.EV** - Enterprise Value is the Company's total economic value OR the theoretical takeover price, often used as an alternative to market capitalization. Enterprise Value represents Market Capitalization TR.F.MktCap + Debt including Preferred Equity & Minority Interest - Total [TR.F.DebtlnclPrefEqMinlntrTot] (-) Cash & Short Term Investments - Total [TR.F.CashSTlnvstTot]. Market Capitalization [TR.F.MktCap] is required. The data item is calculated for all periodicities. It is applicable to all industries.\n",
    "3. **TR.TotalReturn3Mo** - The 3 months total return incorporates the price Change and any relevant dividends for the last 3 months.\n",
    "4. **TR.EVTosales** - EV represents the sum of Market Capitalization, Total Debt, Preferred Stock and Minority Interest minus Cash and Short Term Investments for the most recent fiscal period. Market Cap is calculated by multiplying Current Total Shares Outstanding by Latest Close Price. Sales is LTM Total Revenue. EV to Sales ratio is not calculated when LTM Sales is less than or equal to Zero.\n",
    "5. **TR.F.MktCap** Market Cap\n",
    "6. **TR.F.NetIncAfterTax** Net Income after Tax [SIAT] represents the income/expense after all operating and non-operating income and expense, reserves, income taxes, but before equity in earnings, minority interest, extraordinary items, after-tax adjustments, discontinued operations and preferred dividends. Applicable to all Industries. Net Income after Tax [SIAT] includes: • Net Income after Tax [XIAT]\n",
    "    **loss firm status** - -1 for profit firm, +1 for loss firm based on net income after tax\n",
    "7. **TR.Volume** - Volume for the latest trading day. For stock exchanges that trade share by share, Volume is number of shares that traded on the trade date. For stock exchanges that trade in lots, Volume is divided by Lotsize, if the Lotsize is greater than one.\n",
    "\n",
    "### Analysts\n",
    "1. **TR.NumberOfAnalysts** - Number of sell-side analysts covering the security.\n",
    "2. **TR.RecMean** - Recommendation Numeric Mean based on the Standard Scale Of Strong Buy (1 ), Buy (2), Hold (3), Sell (4), and Strong Sell (5).\n",
    "3. change in recommendation\n",
    "4. **TR.EPSCoefficientOfVariation**\n",
    "5. **TR.priceTargetStdDev** The statistical standard deviation of all estimates included in the summary calculation- Price Target is the projected price level forecasted by the analyst Within a specific time nonzon-\n",
    "\n",
    "### Macro characteristics\n",
    "\n",
    "1. **TR.WACCInflationAdjRiskFreeRate** -  Inflation adjusted risk free rate used is Of the primary index for the domicile country Of the company. Inflation adjusted risk free rate (Rf) is calculated from the US 10-year treasury yield plus the difference between in the 10-year forecasted inflation rate between the given country and the US.\n",
    "\n",
    "\n",
    "\n",
    "### Return Potential\n",
    "\n",
    "1. **TR.PriceTargetMean** The statistical average of all broker estimates determined to be on the majority accounting basis. Price target is the projected price level forecasted by the analyst within a specific time horizon.\n",
    "\n",
    "1. **TR.PriceClose** The latest available closing price. If there are no trades for the most recent completed tradable day, the most recent prior tradable day with trading activity is used, provided the last tradable day for the instrument is within 378 completed calendar days.\n",
    "\n",
    "### More difficult Factors (yearly):\n",
    "\n",
    "#### ESG\n",
    "\n",
    "1. **TR.TRESGScore** Refinitiv ESG Score is an overall company score based on the self-reported information in the environmental, social and corporate governance pillars.\n",
    "\n",
    "#### Proportion of independent Directors\n",
    "\n",
    "1. **TR.AnalyticIndepBoard** - Independent Board Members - Percentage of independent board members as reported by the company.\n",
    "\n",
    "2. **TR.GovernancePillarScore** - Governance Pillar Score - The corporate governance pillar measures a company's systems and processes, which ensure that its board members and executives act in the best interests of its long term shareholders. It reflects a company's capacity, through its use of best management practices, to direct and control its rights and responsibilities through the creation of incentives, as well as checks and balances in order to generate long term shareholder value.\n",
    "\n",
    "## Part 3: Regression\n",
    "\n",
    "### continue.."
   ]
  },
  {
   "cell_type": "code",
   "execution_count": 7,
   "metadata": {
    "collapsed": false
   },
   "outputs": [],
   "source": [
    "economic_story = ['TR.EPSactValue.date', 'TR.EPSActValue', \"TR.EPSMean\", \"TR.EPSActSurprise\", \"TR.GICSIndustryGroup\", \"TR.EPSCoefficientOfVariation\", \"TR.F.MktCap\", 'TR.RevenueActValue', \"TR.F.EV\",  \"TR.NumberOfAnalysts\", \"TR.RecMean\", \"TR.RecMean(SDate=-2,EDate=-41)\", \"TR.F.NetIncAfterTax\", \"TR.PriceTargetMean\", \"TR.priceTargetStdDev\", \"TR.PriceClose\", \"TR.EVTosales\", \"TR.TotalReturn3Mo\", \"TR.Volume\"]"
   ]
  },
  {
   "cell_type": "markdown",
   "metadata": {
    "collapsed": false
   },
   "source": [
    "# Whole Dataframe"
   ]
  },
  {
   "cell_type": "markdown",
   "source": [
    "Remove outliers in this step for EPS actual surprise\n"
   ],
   "metadata": {
    "collapsed": false
   }
  },
  {
   "cell_type": "code",
   "execution_count": 8,
   "metadata": {
    "collapsed": false
   },
   "outputs": [
    {
     "name": "stderr",
     "output_type": "stream",
     "text": [
      "C:\\Users\\alexa\\mambaforge\\envs\\AnalystForecast\\Lib\\site-packages\\pandas\\core\\dtypes\\cast.py:1134: RuntimeWarning: invalid value encountered in cast\n",
      "  if (arr.astype(int) == arr).all():\n",
      "C:\\Users\\alexa\\mambaforge\\envs\\AnalystForecast\\Lib\\site-packages\\pandas\\core\\dtypes\\cast.py:1153: RuntimeWarning: invalid value encountered in cast\n",
      "  if (arr.astype(int) == arr).all():\n"
     ]
    }
   ],
   "source": [
    "df, e = ek.get_data('0#.SPX', economic_story, parameters = {'SDate':'-1','EDate':'-40','Period':'FQ0','Frq':'FQ'})"
   ]
  },
  {
   "cell_type": "code",
   "execution_count": 9,
   "outputs": [
    {
     "data": {
      "text/plain": "      Instrument                  Date  Earnings Per Share - Actual  \\\n0        POOL.OQ  2022-10-20T07:00:00Z                         4.78   \n1        POOL.OQ  2022-07-21T07:00:00Z                         7.63   \n2        POOL.OQ  2022-04-21T07:00:00Z                         4.23   \n3        POOL.OQ  2022-02-17T07:00:00Z                         2.63   \n4        POOL.OQ  2021-10-21T07:00:00Z                         4.51   \n...          ...                   ...                          ...   \n20115      AVY.N  2014-01-31T08:30:00Z                         0.69   \n20116      AVY.N  2013-10-25T08:30:00Z                         0.69   \n20117      AVY.N  2013-07-23T08:30:00Z                         0.71   \n20118      AVY.N  2013-04-24T08:30:00Z                         0.59   \n20119      AVY.N  2013-01-30T07:35:00Z                         0.54   \n\n       Earnings Per Share - Mean  Earnings Per Share - Actual Surprise  \\\n0                         4.5875                                 4.196   \n1                          7.517                                 1.503   \n2                        3.14867                                34.342   \n3                          1.875                                40.267   \n4                        3.84833                                17.194   \n...                          ...                                   ...   \n20115                       0.68                                 1.471   \n20116                    0.63833                                 8.095   \n20117                     0.7025                                 1.068   \n20118                    0.57571                                 2.482   \n20119                    0.48571                                11.178   \n\n      GICS Industry Group Name Earnings Per Share – Coefficient of Variation  \\\n0                    Retailing                              3.84370572207084   \n1                                                           3.62524943461487   \n2                                                           6.63073615208961   \n3                                                           3.26986666666667   \n4                                                           2.83629522416217   \n...                        ...                                           ...   \n20115                                                       3.20441176470588   \n20116                                                       2.77599360832171   \n20117                                                       1.55160142348754   \n20118                                                       2.04616907818172   \n20119                                                       3.62562022606082   \n\n       Market Capitalization  Revenue - Actual    Enterprise Value  \\\n0         12598134372.299999      1615339000.0  14061600372.299999   \n1         14057953705.290001      2055818000.0  15561870705.290001   \n2         16967115034.200001      1412650000.0  18436823034.200001   \n3              22689791586.0      1035557000.0       23848820586.0   \n4             17420199822.66      1411448000.0      17699543822.66   \n...                      ...               ...                 ...   \n20115          4877167502.24      1583900000.0       5553067502.24   \n20116          4273414353.46      1504900000.0       5029514353.46   \n20117          4258229328.84      1552300000.0       5436229328.84   \n20118          4309428200.46      1498900000.0       5459128200.46   \n20119           3426001367.2      1532200000.0        4413001367.2   \n\n       Number of Analysts  Recommendation - Mean (1-5)  \\\n0                      10                      2.27273   \n1                       9                          2.2   \n2                       9                          2.0   \n3                       8                          2.3   \n4                       8                          2.3   \n...                   ...                          ...   \n20115                   8                      2.33333   \n20116                   7                        2.625   \n20117                   8                        2.875   \n20118                   7                        2.875   \n20119                   7                          3.0   \n\n       Recommendation - Mean (1-5)  Net Income after Tax  Price Target - Mean  \\\n0                              2.2           189965000.0            360.11111   \n1                              2.0           307205000.0              435.375   \n2                              2.3           179203000.0            519.88889   \n3                              2.3           107542000.0                571.0   \n4                              2.3           184573000.0            545.28571   \n...                            ...                   ...                  ...   \n20115                        2.625            42100000.0               54.625   \n20116                        2.875            62000000.0             47.71429   \n20117                        2.875            70800000.0                 45.0   \n20118                          3.0            66800000.0             42.57143   \n20119                          3.0            33400000.0                 36.0   \n\n       Price Target - Standard Deviation  Price Close  \\\n0                               24.95082       318.21   \n1                               57.57373       351.23   \n2                               37.49206       422.85   \n3                               41.33833        566.0   \n4                               50.48823       434.41   \n...                                  ...          ...   \n20115                            3.42555        50.19   \n20116                             3.4523        43.52   \n20117                            4.30946        42.76   \n20118                            3.92272        43.07   \n20119                            2.44949        34.92   \n\n       Enterprise Value To Sales (Daily Time Series Ratio)  \\\n0                                               2.383926     \n1                                               2.749481     \n2                                                3.42288     \n3                                               4.504382     \n4                                                 3.6844     \n...                                                  ...     \n20115                                           0.920659     \n20116                                           0.903176     \n20117                                           0.906078     \n20118                                           0.895787     \n20119                                           0.799347     \n\n      3 Month Total Return  Volume  \n0        -9.16437517579112  238539  \n1        -21.6615695848725  185584  \n2        -25.1606642775324  290897  \n3         30.4897054542077   82349  \n4        -5.13032169564558  157740  \n...                    ...     ...  \n20115     16.0038520663565  157761  \n20116     2.46762008841375  236291  \n20117   -0.054218308940701       0  \n20118     24.1487263146973       0  \n20119     10.6374793238822  207295  \n\n[20120 rows x 20 columns]",
      "text/html": "<div>\n<style scoped>\n    .dataframe tbody tr th:only-of-type {\n        vertical-align: middle;\n    }\n\n    .dataframe tbody tr th {\n        vertical-align: top;\n    }\n\n    .dataframe thead th {\n        text-align: right;\n    }\n</style>\n<table border=\"1\" class=\"dataframe\">\n  <thead>\n    <tr style=\"text-align: right;\">\n      <th></th>\n      <th>Instrument</th>\n      <th>Date</th>\n      <th>Earnings Per Share - Actual</th>\n      <th>Earnings Per Share - Mean</th>\n      <th>Earnings Per Share - Actual Surprise</th>\n      <th>GICS Industry Group Name</th>\n      <th>Earnings Per Share – Coefficient of Variation</th>\n      <th>Market Capitalization</th>\n      <th>Revenue - Actual</th>\n      <th>Enterprise Value</th>\n      <th>Number of Analysts</th>\n      <th>Recommendation - Mean (1-5)</th>\n      <th>Recommendation - Mean (1-5)</th>\n      <th>Net Income after Tax</th>\n      <th>Price Target - Mean</th>\n      <th>Price Target - Standard Deviation</th>\n      <th>Price Close</th>\n      <th>Enterprise Value To Sales (Daily Time Series Ratio)</th>\n      <th>3 Month Total Return</th>\n      <th>Volume</th>\n    </tr>\n  </thead>\n  <tbody>\n    <tr>\n      <th>0</th>\n      <td>POOL.OQ</td>\n      <td>2022-10-20T07:00:00Z</td>\n      <td>4.78</td>\n      <td>4.5875</td>\n      <td>4.196</td>\n      <td>Retailing</td>\n      <td>3.84370572207084</td>\n      <td>12598134372.299999</td>\n      <td>1615339000.0</td>\n      <td>14061600372.299999</td>\n      <td>10</td>\n      <td>2.27273</td>\n      <td>2.2</td>\n      <td>189965000.0</td>\n      <td>360.11111</td>\n      <td>24.95082</td>\n      <td>318.21</td>\n      <td>2.383926</td>\n      <td>-9.16437517579112</td>\n      <td>238539</td>\n    </tr>\n    <tr>\n      <th>1</th>\n      <td>POOL.OQ</td>\n      <td>2022-07-21T07:00:00Z</td>\n      <td>7.63</td>\n      <td>7.517</td>\n      <td>1.503</td>\n      <td></td>\n      <td>3.62524943461487</td>\n      <td>14057953705.290001</td>\n      <td>2055818000.0</td>\n      <td>15561870705.290001</td>\n      <td>9</td>\n      <td>2.2</td>\n      <td>2.0</td>\n      <td>307205000.0</td>\n      <td>435.375</td>\n      <td>57.57373</td>\n      <td>351.23</td>\n      <td>2.749481</td>\n      <td>-21.6615695848725</td>\n      <td>185584</td>\n    </tr>\n    <tr>\n      <th>2</th>\n      <td>POOL.OQ</td>\n      <td>2022-04-21T07:00:00Z</td>\n      <td>4.23</td>\n      <td>3.14867</td>\n      <td>34.342</td>\n      <td></td>\n      <td>6.63073615208961</td>\n      <td>16967115034.200001</td>\n      <td>1412650000.0</td>\n      <td>18436823034.200001</td>\n      <td>9</td>\n      <td>2.0</td>\n      <td>2.3</td>\n      <td>179203000.0</td>\n      <td>519.88889</td>\n      <td>37.49206</td>\n      <td>422.85</td>\n      <td>3.42288</td>\n      <td>-25.1606642775324</td>\n      <td>290897</td>\n    </tr>\n    <tr>\n      <th>3</th>\n      <td>POOL.OQ</td>\n      <td>2022-02-17T07:00:00Z</td>\n      <td>2.63</td>\n      <td>1.875</td>\n      <td>40.267</td>\n      <td></td>\n      <td>3.26986666666667</td>\n      <td>22689791586.0</td>\n      <td>1035557000.0</td>\n      <td>23848820586.0</td>\n      <td>8</td>\n      <td>2.3</td>\n      <td>2.3</td>\n      <td>107542000.0</td>\n      <td>571.0</td>\n      <td>41.33833</td>\n      <td>566.0</td>\n      <td>4.504382</td>\n      <td>30.4897054542077</td>\n      <td>82349</td>\n    </tr>\n    <tr>\n      <th>4</th>\n      <td>POOL.OQ</td>\n      <td>2021-10-21T07:00:00Z</td>\n      <td>4.51</td>\n      <td>3.84833</td>\n      <td>17.194</td>\n      <td></td>\n      <td>2.83629522416217</td>\n      <td>17420199822.66</td>\n      <td>1411448000.0</td>\n      <td>17699543822.66</td>\n      <td>8</td>\n      <td>2.3</td>\n      <td>2.3</td>\n      <td>184573000.0</td>\n      <td>545.28571</td>\n      <td>50.48823</td>\n      <td>434.41</td>\n      <td>3.6844</td>\n      <td>-5.13032169564558</td>\n      <td>157740</td>\n    </tr>\n    <tr>\n      <th>...</th>\n      <td>...</td>\n      <td>...</td>\n      <td>...</td>\n      <td>...</td>\n      <td>...</td>\n      <td>...</td>\n      <td>...</td>\n      <td>...</td>\n      <td>...</td>\n      <td>...</td>\n      <td>...</td>\n      <td>...</td>\n      <td>...</td>\n      <td>...</td>\n      <td>...</td>\n      <td>...</td>\n      <td>...</td>\n      <td>...</td>\n      <td>...</td>\n      <td>...</td>\n    </tr>\n    <tr>\n      <th>20115</th>\n      <td>AVY.N</td>\n      <td>2014-01-31T08:30:00Z</td>\n      <td>0.69</td>\n      <td>0.68</td>\n      <td>1.471</td>\n      <td></td>\n      <td>3.20441176470588</td>\n      <td>4877167502.24</td>\n      <td>1583900000.0</td>\n      <td>5553067502.24</td>\n      <td>8</td>\n      <td>2.33333</td>\n      <td>2.625</td>\n      <td>42100000.0</td>\n      <td>54.625</td>\n      <td>3.42555</td>\n      <td>50.19</td>\n      <td>0.920659</td>\n      <td>16.0038520663565</td>\n      <td>157761</td>\n    </tr>\n    <tr>\n      <th>20116</th>\n      <td>AVY.N</td>\n      <td>2013-10-25T08:30:00Z</td>\n      <td>0.69</td>\n      <td>0.63833</td>\n      <td>8.095</td>\n      <td></td>\n      <td>2.77599360832171</td>\n      <td>4273414353.46</td>\n      <td>1504900000.0</td>\n      <td>5029514353.46</td>\n      <td>7</td>\n      <td>2.625</td>\n      <td>2.875</td>\n      <td>62000000.0</td>\n      <td>47.71429</td>\n      <td>3.4523</td>\n      <td>43.52</td>\n      <td>0.903176</td>\n      <td>2.46762008841375</td>\n      <td>236291</td>\n    </tr>\n    <tr>\n      <th>20117</th>\n      <td>AVY.N</td>\n      <td>2013-07-23T08:30:00Z</td>\n      <td>0.71</td>\n      <td>0.7025</td>\n      <td>1.068</td>\n      <td></td>\n      <td>1.55160142348754</td>\n      <td>4258229328.84</td>\n      <td>1552300000.0</td>\n      <td>5436229328.84</td>\n      <td>8</td>\n      <td>2.875</td>\n      <td>2.875</td>\n      <td>70800000.0</td>\n      <td>45.0</td>\n      <td>4.30946</td>\n      <td>42.76</td>\n      <td>0.906078</td>\n      <td>-0.054218308940701</td>\n      <td>0</td>\n    </tr>\n    <tr>\n      <th>20118</th>\n      <td>AVY.N</td>\n      <td>2013-04-24T08:30:00Z</td>\n      <td>0.59</td>\n      <td>0.57571</td>\n      <td>2.482</td>\n      <td></td>\n      <td>2.04616907818172</td>\n      <td>4309428200.46</td>\n      <td>1498900000.0</td>\n      <td>5459128200.46</td>\n      <td>7</td>\n      <td>2.875</td>\n      <td>3.0</td>\n      <td>66800000.0</td>\n      <td>42.57143</td>\n      <td>3.92272</td>\n      <td>43.07</td>\n      <td>0.895787</td>\n      <td>24.1487263146973</td>\n      <td>0</td>\n    </tr>\n    <tr>\n      <th>20119</th>\n      <td>AVY.N</td>\n      <td>2013-01-30T07:35:00Z</td>\n      <td>0.54</td>\n      <td>0.48571</td>\n      <td>11.178</td>\n      <td></td>\n      <td>3.62562022606082</td>\n      <td>3426001367.2</td>\n      <td>1532200000.0</td>\n      <td>4413001367.2</td>\n      <td>7</td>\n      <td>3.0</td>\n      <td>3.0</td>\n      <td>33400000.0</td>\n      <td>36.0</td>\n      <td>2.44949</td>\n      <td>34.92</td>\n      <td>0.799347</td>\n      <td>10.6374793238822</td>\n      <td>207295</td>\n    </tr>\n  </tbody>\n</table>\n<p>20120 rows × 20 columns</p>\n</div>"
     },
     "execution_count": 9,
     "metadata": {},
     "output_type": "execute_result"
    }
   ],
   "source": [
    "df"
   ],
   "metadata": {
    "collapsed": false
   }
  },
  {
   "cell_type": "code",
   "execution_count": 10,
   "metadata": {
    "collapsed": false
   },
   "outputs": [],
   "source": [
    "df.to_csv(\"Dataframes/refinitiv_output.csv\", index=False)"
   ]
  },
  {
   "cell_type": "code",
   "execution_count": 10,
   "outputs": [],
   "source": [],
   "metadata": {
    "collapsed": false
   }
  }
 ],
 "metadata": {
  "kernelspec": {
   "display_name": "base",
   "language": "python",
   "name": "python3"
  },
  "language_info": {
   "codemirror_mode": {
    "name": "ipython",
    "version": 3
   },
   "file_extension": ".py",
   "mimetype": "text/x-python",
   "name": "python",
   "nbconvert_exporter": "python",
   "pygments_lexer": "ipython3",
   "version": "3.11.0"
  },
  "vscode": {
   "interpreter": {
    "hash": "59f3145cc67fcda0343c2852f1f97113a2e6e98841e887156424448e7071ad54"
   }
  }
 },
 "nbformat": 4,
 "nbformat_minor": 0
}
