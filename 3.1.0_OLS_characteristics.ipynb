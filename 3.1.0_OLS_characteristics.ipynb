{
 "cells": [
  {
   "cell_type": "code",
   "execution_count": 90,
   "metadata": {},
   "outputs": [],
   "source": [
    "import pandas as pd\n",
    "import statsmodels.api as sm\n",
    "from sklearn.linear_model import LinearRegression\n",
    "from sklearn.preprocessing import MinMaxScaler\n",
    "from sklearn.preprocessing import StandardScaler\n",
    "\n",
    "import numpy as np\n",
    "\n",
    "from linearmodels.panel import PanelOLS\n",
    "import datetime as dt"
   ]
  },
  {
   "attachments": {},
   "cell_type": "markdown",
   "metadata": {},
   "source": [
    "# Characteristcs OLS\n",
    "\n",
    "Professor said we should start with a regular OLS Regression.\n",
    "I quickly looked into this and think a random effects panel regression would probably fit our data better (still need to read more into this)\n",
    "So probably we can first do a regular OLS and than compare it to the random effects panel regression. Just some initial thoughts though!!!\n",
    "Here is some intial code to run them:\n"
   ]
  },
  {
   "cell_type": "code",
   "execution_count": 91,
   "metadata": {},
   "outputs": [
    {
     "data": {
      "text/plain": "     Instrument        Date  Earnings Per Share - Actual Surprise  \\\n0       POOL.OQ  2022-10-01                                 4.196   \n1       POOL.OQ  2022-07-01                                 1.503   \n2       POOL.OQ  2022-04-01                                34.342   \n3       POOL.OQ  2022-01-01                                40.267   \n4       POOL.OQ  2021-10-01                                17.194   \n...         ...         ...                                   ...   \n2510      AVY.N  2022-10-01                                -0.131   \n2511      AVY.N  2022-07-01                                11.635   \n2512      AVY.N  2022-04-01                                10.595   \n2513      AVY.N  2022-01-01                                 0.294   \n2514      AVY.N  2021-10-01                                 4.784   \n\n      Revenue - Actual  Net Income after Tax  \n0         1.615339e+09           189965000.0  \n1         2.055818e+09           307205000.0  \n2         1.412650e+09           179203000.0  \n3         1.035557e+09           107542000.0  \n4         1.411448e+09           184573000.0  \n...                ...                   ...  \n2510      2.317100e+09           221500000.0  \n2511      2.347000e+09           214500000.0  \n2512      2.349300e+09           198200000.0  \n2513      2.183200e+09           183100000.0  \n2514      2.071800e+09           165200000.0  \n\n[2515 rows x 5 columns]",
      "text/html": "<div>\n<style scoped>\n    .dataframe tbody tr th:only-of-type {\n        vertical-align: middle;\n    }\n\n    .dataframe tbody tr th {\n        vertical-align: top;\n    }\n\n    .dataframe thead th {\n        text-align: right;\n    }\n</style>\n<table border=\"1\" class=\"dataframe\">\n  <thead>\n    <tr style=\"text-align: right;\">\n      <th></th>\n      <th>Instrument</th>\n      <th>Date</th>\n      <th>Earnings Per Share - Actual Surprise</th>\n      <th>Revenue - Actual</th>\n      <th>Net Income after Tax</th>\n    </tr>\n  </thead>\n  <tbody>\n    <tr>\n      <th>0</th>\n      <td>POOL.OQ</td>\n      <td>2022-10-01</td>\n      <td>4.196</td>\n      <td>1.615339e+09</td>\n      <td>189965000.0</td>\n    </tr>\n    <tr>\n      <th>1</th>\n      <td>POOL.OQ</td>\n      <td>2022-07-01</td>\n      <td>1.503</td>\n      <td>2.055818e+09</td>\n      <td>307205000.0</td>\n    </tr>\n    <tr>\n      <th>2</th>\n      <td>POOL.OQ</td>\n      <td>2022-04-01</td>\n      <td>34.342</td>\n      <td>1.412650e+09</td>\n      <td>179203000.0</td>\n    </tr>\n    <tr>\n      <th>3</th>\n      <td>POOL.OQ</td>\n      <td>2022-01-01</td>\n      <td>40.267</td>\n      <td>1.035557e+09</td>\n      <td>107542000.0</td>\n    </tr>\n    <tr>\n      <th>4</th>\n      <td>POOL.OQ</td>\n      <td>2021-10-01</td>\n      <td>17.194</td>\n      <td>1.411448e+09</td>\n      <td>184573000.0</td>\n    </tr>\n    <tr>\n      <th>...</th>\n      <td>...</td>\n      <td>...</td>\n      <td>...</td>\n      <td>...</td>\n      <td>...</td>\n    </tr>\n    <tr>\n      <th>2510</th>\n      <td>AVY.N</td>\n      <td>2022-10-01</td>\n      <td>-0.131</td>\n      <td>2.317100e+09</td>\n      <td>221500000.0</td>\n    </tr>\n    <tr>\n      <th>2511</th>\n      <td>AVY.N</td>\n      <td>2022-07-01</td>\n      <td>11.635</td>\n      <td>2.347000e+09</td>\n      <td>214500000.0</td>\n    </tr>\n    <tr>\n      <th>2512</th>\n      <td>AVY.N</td>\n      <td>2022-04-01</td>\n      <td>10.595</td>\n      <td>2.349300e+09</td>\n      <td>198200000.0</td>\n    </tr>\n    <tr>\n      <th>2513</th>\n      <td>AVY.N</td>\n      <td>2022-01-01</td>\n      <td>0.294</td>\n      <td>2.183200e+09</td>\n      <td>183100000.0</td>\n    </tr>\n    <tr>\n      <th>2514</th>\n      <td>AVY.N</td>\n      <td>2021-10-01</td>\n      <td>4.784</td>\n      <td>2.071800e+09</td>\n      <td>165200000.0</td>\n    </tr>\n  </tbody>\n</table>\n<p>2515 rows × 5 columns</p>\n</div>"
     },
     "execution_count": 91,
     "metadata": {},
     "output_type": "execute_result"
    }
   ],
   "source": [
    "#decide which df to use\n",
    "df = pd.read_csv(\"Dataframes/characteristics.csv\")\n",
    "#df = df.loc[:, [\"Instrument\", \"Date\", \"Earnings Per Share - Actual Surprise\", \"Revenue - Actual\", \"Net Income after Tax\"]]\n",
    "\n",
    "df"
   ]
  },
  {
   "attachments": {},
   "cell_type": "markdown",
   "metadata": {},
   "source": [
    "#### OLS Regression"
   ]
  },
  {
   "cell_type": "code",
   "execution_count": 92,
   "outputs": [
    {
     "data": {
      "text/plain": "Instrument                              0\nDate                                    0\nEarnings Per Share - Actual Surprise    0\nRevenue - Actual                        0\nNet Income after Tax                    0\ndtype: int64"
     },
     "execution_count": 92,
     "metadata": {},
     "output_type": "execute_result"
    }
   ],
   "source": [
    "#identifying outliers and replacing them with NA\n",
    "summary_stats = df[\"Earnings Per Share - Actual Surprise\"].describe()\n",
    "Q1 = summary_stats.loc['25%']\n",
    "Q3 = summary_stats.loc['75%']\n",
    "IQR = Q3 - Q1\n",
    "threshold = 7 #1.5 is standard threshold but we still want to keep enough variation in the data so setting threshol higher here\n",
    "surprise_outliers_removed = df[\"Earnings Per Share - Actual Surprise\"].loc[~((df[\"Earnings Per Share - Actual Surprise\"] < (Q1 - threshold * IQR)) | (df[\"Earnings Per Share - Actual Surprise\"] > (Q3 + threshold * IQR)))]\n",
    "df_accuracy_new = df.copy()\n",
    "df_accuracy_new[\"Earnings Per Share - Actual Surprise\"] = surprise_outliers_removed\n",
    "df_accuracy_new = df_accuracy_new.dropna(subset=[\"Earnings Per Share - Actual Surprise\"])\n",
    "#df_accuracy_new[\"Recommendation - Mean (1-5)\"] = df_accuracy_new[\"Recommendation - Mean (1-5)\"].fillna(0)\n",
    "df_accuracy_new = df_accuracy_new.dropna()\n",
    "df_accuracy_new.isna().sum()\n"
   ],
   "metadata": {
    "collapsed": false
   }
  },
  {
   "cell_type": "code",
   "execution_count": 93,
   "outputs": [
    {
     "data": {
      "text/plain": "     Instrument        Date  Earnings Per Share - Actual Surprise  \\\n0       POOL.OQ  2022-10-01                                 4.196   \n1       POOL.OQ  2022-07-01                                 1.503   \n2       POOL.OQ  2022-04-01                                34.342   \n3       POOL.OQ  2022-01-01                                40.267   \n4       POOL.OQ  2021-10-01                                17.194   \n...         ...         ...                                   ...   \n2510      AVY.N  2022-10-01                                -0.131   \n2511      AVY.N  2022-07-01                                11.635   \n2512      AVY.N  2022-04-01                                10.595   \n2513      AVY.N  2022-01-01                                 0.294   \n2514      AVY.N  2021-10-01                                 4.784   \n\n      Revenue - Actual  Net Income after Tax  \n0         1.615339e+09           189965000.0  \n1         2.055818e+09           307205000.0  \n2         1.412650e+09           179203000.0  \n3         1.035557e+09           107542000.0  \n4         1.411448e+09           184573000.0  \n...                ...                   ...  \n2510      2.317100e+09           221500000.0  \n2511      2.347000e+09           214500000.0  \n2512      2.349300e+09           198200000.0  \n2513      2.183200e+09           183100000.0  \n2514      2.071800e+09           165200000.0  \n\n[2415 rows x 5 columns]",
      "text/html": "<div>\n<style scoped>\n    .dataframe tbody tr th:only-of-type {\n        vertical-align: middle;\n    }\n\n    .dataframe tbody tr th {\n        vertical-align: top;\n    }\n\n    .dataframe thead th {\n        text-align: right;\n    }\n</style>\n<table border=\"1\" class=\"dataframe\">\n  <thead>\n    <tr style=\"text-align: right;\">\n      <th></th>\n      <th>Instrument</th>\n      <th>Date</th>\n      <th>Earnings Per Share - Actual Surprise</th>\n      <th>Revenue - Actual</th>\n      <th>Net Income after Tax</th>\n    </tr>\n  </thead>\n  <tbody>\n    <tr>\n      <th>0</th>\n      <td>POOL.OQ</td>\n      <td>2022-10-01</td>\n      <td>4.196</td>\n      <td>1.615339e+09</td>\n      <td>189965000.0</td>\n    </tr>\n    <tr>\n      <th>1</th>\n      <td>POOL.OQ</td>\n      <td>2022-07-01</td>\n      <td>1.503</td>\n      <td>2.055818e+09</td>\n      <td>307205000.0</td>\n    </tr>\n    <tr>\n      <th>2</th>\n      <td>POOL.OQ</td>\n      <td>2022-04-01</td>\n      <td>34.342</td>\n      <td>1.412650e+09</td>\n      <td>179203000.0</td>\n    </tr>\n    <tr>\n      <th>3</th>\n      <td>POOL.OQ</td>\n      <td>2022-01-01</td>\n      <td>40.267</td>\n      <td>1.035557e+09</td>\n      <td>107542000.0</td>\n    </tr>\n    <tr>\n      <th>4</th>\n      <td>POOL.OQ</td>\n      <td>2021-10-01</td>\n      <td>17.194</td>\n      <td>1.411448e+09</td>\n      <td>184573000.0</td>\n    </tr>\n    <tr>\n      <th>...</th>\n      <td>...</td>\n      <td>...</td>\n      <td>...</td>\n      <td>...</td>\n      <td>...</td>\n    </tr>\n    <tr>\n      <th>2510</th>\n      <td>AVY.N</td>\n      <td>2022-10-01</td>\n      <td>-0.131</td>\n      <td>2.317100e+09</td>\n      <td>221500000.0</td>\n    </tr>\n    <tr>\n      <th>2511</th>\n      <td>AVY.N</td>\n      <td>2022-07-01</td>\n      <td>11.635</td>\n      <td>2.347000e+09</td>\n      <td>214500000.0</td>\n    </tr>\n    <tr>\n      <th>2512</th>\n      <td>AVY.N</td>\n      <td>2022-04-01</td>\n      <td>10.595</td>\n      <td>2.349300e+09</td>\n      <td>198200000.0</td>\n    </tr>\n    <tr>\n      <th>2513</th>\n      <td>AVY.N</td>\n      <td>2022-01-01</td>\n      <td>0.294</td>\n      <td>2.183200e+09</td>\n      <td>183100000.0</td>\n    </tr>\n    <tr>\n      <th>2514</th>\n      <td>AVY.N</td>\n      <td>2021-10-01</td>\n      <td>4.784</td>\n      <td>2.071800e+09</td>\n      <td>165200000.0</td>\n    </tr>\n  </tbody>\n</table>\n<p>2415 rows × 5 columns</p>\n</div>"
     },
     "execution_count": 93,
     "metadata": {},
     "output_type": "execute_result"
    }
   ],
   "source": [
    "df_accuracy_new"
   ],
   "metadata": {
    "collapsed": false
   }
  },
  {
   "cell_type": "code",
   "execution_count": 94,
   "outputs": [
    {
     "data": {
      "text/plain": "     Instrument        Date  Earnings Per Share - Actual Surprise  \\\n0       POOL.OQ  2022-10-01                                 4.196   \n1       POOL.OQ  2022-07-01                                 1.503   \n2       POOL.OQ  2022-04-01                                34.342   \n3       POOL.OQ  2022-01-01                                40.267   \n4       POOL.OQ  2021-10-01                                17.194   \n...         ...         ...                                   ...   \n2510      AVY.N  2022-10-01                                -0.131   \n2511      AVY.N  2022-07-01                                11.635   \n2512      AVY.N  2022-04-01                                10.595   \n2513      AVY.N  2022-01-01                                 0.294   \n2514      AVY.N  2021-10-01                                 4.784   \n\n      Revenue - Actual  Net Income after Tax  \n0             0.010538              0.523164  \n1             0.013420              0.524572  \n2             0.009212              0.523035  \n3             0.006746              0.522174  \n4             0.009205              0.523099  \n...                ...                   ...  \n2510          0.015129              0.523543  \n2511          0.015325              0.523459  \n2512          0.015340              0.523263  \n2513          0.014253              0.523082  \n2514          0.013524              0.522867  \n\n[2415 rows x 5 columns]",
      "text/html": "<div>\n<style scoped>\n    .dataframe tbody tr th:only-of-type {\n        vertical-align: middle;\n    }\n\n    .dataframe tbody tr th {\n        vertical-align: top;\n    }\n\n    .dataframe thead th {\n        text-align: right;\n    }\n</style>\n<table border=\"1\" class=\"dataframe\">\n  <thead>\n    <tr style=\"text-align: right;\">\n      <th></th>\n      <th>Instrument</th>\n      <th>Date</th>\n      <th>Earnings Per Share - Actual Surprise</th>\n      <th>Revenue - Actual</th>\n      <th>Net Income after Tax</th>\n    </tr>\n  </thead>\n  <tbody>\n    <tr>\n      <th>0</th>\n      <td>POOL.OQ</td>\n      <td>2022-10-01</td>\n      <td>4.196</td>\n      <td>0.010538</td>\n      <td>0.523164</td>\n    </tr>\n    <tr>\n      <th>1</th>\n      <td>POOL.OQ</td>\n      <td>2022-07-01</td>\n      <td>1.503</td>\n      <td>0.013420</td>\n      <td>0.524572</td>\n    </tr>\n    <tr>\n      <th>2</th>\n      <td>POOL.OQ</td>\n      <td>2022-04-01</td>\n      <td>34.342</td>\n      <td>0.009212</td>\n      <td>0.523035</td>\n    </tr>\n    <tr>\n      <th>3</th>\n      <td>POOL.OQ</td>\n      <td>2022-01-01</td>\n      <td>40.267</td>\n      <td>0.006746</td>\n      <td>0.522174</td>\n    </tr>\n    <tr>\n      <th>4</th>\n      <td>POOL.OQ</td>\n      <td>2021-10-01</td>\n      <td>17.194</td>\n      <td>0.009205</td>\n      <td>0.523099</td>\n    </tr>\n    <tr>\n      <th>...</th>\n      <td>...</td>\n      <td>...</td>\n      <td>...</td>\n      <td>...</td>\n      <td>...</td>\n    </tr>\n    <tr>\n      <th>2510</th>\n      <td>AVY.N</td>\n      <td>2022-10-01</td>\n      <td>-0.131</td>\n      <td>0.015129</td>\n      <td>0.523543</td>\n    </tr>\n    <tr>\n      <th>2511</th>\n      <td>AVY.N</td>\n      <td>2022-07-01</td>\n      <td>11.635</td>\n      <td>0.015325</td>\n      <td>0.523459</td>\n    </tr>\n    <tr>\n      <th>2512</th>\n      <td>AVY.N</td>\n      <td>2022-04-01</td>\n      <td>10.595</td>\n      <td>0.015340</td>\n      <td>0.523263</td>\n    </tr>\n    <tr>\n      <th>2513</th>\n      <td>AVY.N</td>\n      <td>2022-01-01</td>\n      <td>0.294</td>\n      <td>0.014253</td>\n      <td>0.523082</td>\n    </tr>\n    <tr>\n      <th>2514</th>\n      <td>AVY.N</td>\n      <td>2021-10-01</td>\n      <td>4.784</td>\n      <td>0.013524</td>\n      <td>0.522867</td>\n    </tr>\n  </tbody>\n</table>\n<p>2415 rows × 5 columns</p>\n</div>"
     },
     "execution_count": 94,
     "metadata": {},
     "output_type": "execute_result"
    }
   ],
   "source": [
    "\n",
    "\n",
    "rescale = df_accuracy_new\n",
    "#rescale[\"Earnings Per Share - Actual Surprise\"] = MinMaxScaler().fit_transform(np.array(rescale[\"Earnings Per Share - Actual Surprise\"]).reshape(-1,1))\n",
    "rescale[\"Revenue - Actual\"] = MinMaxScaler().fit_transform(np.array(rescale[\"Revenue - Actual\"]).reshape(-1,1))\n",
    "rescale[\"Net Income after Tax\"] = MinMaxScaler().fit_transform(np.array(rescale[\"Net Income after Tax\"]).reshape(-1,1))\n",
    "\n",
    "rescale\n"
   ],
   "metadata": {
    "collapsed": false
   }
  },
  {
   "cell_type": "code",
   "execution_count": 95,
   "metadata": {},
   "outputs": [
    {
     "data": {
      "text/plain": "<class 'statsmodels.iolib.summary.Summary'>\n\"\"\"\n                                     OLS Regression Results                                     \n================================================================================================\nDep. Variable:     Earnings Per Share - Actual Surprise   R-squared:                       0.001\nModel:                                              OLS   Adj. R-squared:                  0.000\nMethod:                                   Least Squares   F-statistic:                     1.244\nDate:                                  Fri, 24 Feb 2023   Prob (F-statistic):              0.288\nTime:                                          17:31:48   Log-Likelihood:                -10207.\nNo. Observations:                                  2415   AIC:                         2.042e+04\nDf Residuals:                                      2412   BIC:                         2.044e+04\nDf Model:                                             2                                         \nCovariance Type:                              nonrobust                                         \n========================================================================================\n                           coef    std err          t      P>|t|      [0.025      0.975]\n----------------------------------------------------------------------------------------\nconst                    0.3492      6.645      0.053      0.958     -12.681      13.380\nRevenue - Actual         2.1852      3.954      0.553      0.581      -5.569       9.940\nNet Income after Tax    12.1051     12.672      0.955      0.340     -12.744      36.954\n==============================================================================\nOmnibus:                      416.595   Durbin-Watson:                   1.699\nProb(Omnibus):                  0.000   Jarque-Bera (JB):             3031.805\nSkew:                           0.612   Prob(JB):                         0.00\nKurtosis:                       8.351   Cond. No.                         48.6\n==============================================================================\n\nNotes:\n[1] Standard Errors assume that the covariance matrix of the errors is correctly specified.\n\"\"\"",
      "text/html": "<table class=\"simpletable\">\n<caption>OLS Regression Results</caption>\n<tr>\n  <th>Dep. Variable:</th>    <td>Earnings Per Share - Actual Surprise</td> <th>  R-squared:         </th> <td>   0.001</td> \n</tr>\n<tr>\n  <th>Model:</th>                             <td>OLS</td>                 <th>  Adj. R-squared:    </th> <td>   0.000</td> \n</tr>\n<tr>\n  <th>Method:</th>                       <td>Least Squares</td>            <th>  F-statistic:       </th> <td>   1.244</td> \n</tr>\n<tr>\n  <th>Date:</th>                       <td>Fri, 24 Feb 2023</td>           <th>  Prob (F-statistic):</th>  <td> 0.288</td>  \n</tr>\n<tr>\n  <th>Time:</th>                           <td>17:31:48</td>               <th>  Log-Likelihood:    </th> <td> -10207.</td> \n</tr>\n<tr>\n  <th>No. Observations:</th>                <td>  2415</td>                <th>  AIC:               </th> <td>2.042e+04</td>\n</tr>\n<tr>\n  <th>Df Residuals:</th>                    <td>  2412</td>                <th>  BIC:               </th> <td>2.044e+04</td>\n</tr>\n<tr>\n  <th>Df Model:</th>                        <td>     2</td>                <th>                     </th>     <td> </td>    \n</tr>\n<tr>\n  <th>Covariance Type:</th>                <td>nonrobust</td>              <th>                     </th>     <td> </td>    \n</tr>\n</table>\n<table class=\"simpletable\">\n<tr>\n            <td></td>              <th>coef</th>     <th>std err</th>      <th>t</th>      <th>P>|t|</th>  <th>[0.025</th>    <th>0.975]</th>  \n</tr>\n<tr>\n  <th>const</th>                <td>    0.3492</td> <td>    6.645</td> <td>    0.053</td> <td> 0.958</td> <td>  -12.681</td> <td>   13.380</td>\n</tr>\n<tr>\n  <th>Revenue - Actual</th>     <td>    2.1852</td> <td>    3.954</td> <td>    0.553</td> <td> 0.581</td> <td>   -5.569</td> <td>    9.940</td>\n</tr>\n<tr>\n  <th>Net Income after Tax</th> <td>   12.1051</td> <td>   12.672</td> <td>    0.955</td> <td> 0.340</td> <td>  -12.744</td> <td>   36.954</td>\n</tr>\n</table>\n<table class=\"simpletable\">\n<tr>\n  <th>Omnibus:</th>       <td>416.595</td> <th>  Durbin-Watson:     </th> <td>   1.699</td>\n</tr>\n<tr>\n  <th>Prob(Omnibus):</th> <td> 0.000</td>  <th>  Jarque-Bera (JB):  </th> <td>3031.805</td>\n</tr>\n<tr>\n  <th>Skew:</th>          <td> 0.612</td>  <th>  Prob(JB):          </th> <td>    0.00</td>\n</tr>\n<tr>\n  <th>Kurtosis:</th>      <td> 8.351</td>  <th>  Cond. No.          </th> <td>    48.6</td>\n</tr>\n</table><br/><br/>Notes:<br/>[1] Standard Errors assume that the covariance matrix of the errors is correctly specified."
     },
     "execution_count": 95,
     "metadata": {},
     "output_type": "execute_result"
    }
   ],
   "source": [
    "y = rescale[\"Earnings Per Share - Actual Surprise\"]\n",
    "#X = df_accuracy_new[['Revenue - Actual', 'Net Income after Tax']]\n",
    "X = rescale.iloc[:, 3:]\n",
    "X = sm.add_constant(X)\n",
    "\n",
    "model = sm.OLS(y, X).fit()\n",
    "\n",
    "model.summary()"
   ]
  },
  {
   "attachments": {},
   "cell_type": "markdown",
   "metadata": {},
   "source": [
    "#### Random Effects Panel Regression"
   ]
  },
  {
   "cell_type": "code",
   "execution_count": 96,
   "outputs": [
    {
     "data": {
      "text/plain": "Instrument                                      object\nDate                                    datetime64[ns]\nEarnings Per Share - Actual Surprise           float64\nRevenue - Actual                               float64\nNet Income after Tax                           float64\ndtype: object"
     },
     "execution_count": 96,
     "metadata": {},
     "output_type": "execute_result"
    }
   ],
   "source": [
    "df_accuracy_new['Date'] = pd.to_datetime(df_accuracy_new['Date'], infer_datetime_format=True)\n",
    "df_accuracy_new.dtypes"
   ],
   "metadata": {
    "collapsed": false
   }
  },
  {
   "cell_type": "code",
   "execution_count": 97,
   "outputs": [
    {
     "data": {
      "text/plain": "                       Earnings Per Share - Actual Surprise  Revenue - Actual  \\\nInstrument Date                                                                 \nPOOL.OQ    2022-10-01                                 4.196          0.010538   \n           2022-07-01                                 1.503          0.013420   \n           2022-04-01                                34.342          0.009212   \n           2022-01-01                                40.267          0.006746   \n           2021-10-01                                17.194          0.009205   \n...                                                     ...               ...   \nAVY.N      2022-10-01                                -0.131          0.015129   \n           2022-07-01                                11.635          0.015325   \n           2022-04-01                                10.595          0.015340   \n           2022-01-01                                 0.294          0.014253   \n           2021-10-01                                 4.784          0.013524   \n\n                       Net Income after Tax  \nInstrument Date                              \nPOOL.OQ    2022-10-01              0.523164  \n           2022-07-01              0.524572  \n           2022-04-01              0.523035  \n           2022-01-01              0.522174  \n           2021-10-01              0.523099  \n...                                     ...  \nAVY.N      2022-10-01              0.523543  \n           2022-07-01              0.523459  \n           2022-04-01              0.523263  \n           2022-01-01              0.523082  \n           2021-10-01              0.522867  \n\n[2415 rows x 3 columns]",
      "text/html": "<div>\n<style scoped>\n    .dataframe tbody tr th:only-of-type {\n        vertical-align: middle;\n    }\n\n    .dataframe tbody tr th {\n        vertical-align: top;\n    }\n\n    .dataframe thead th {\n        text-align: right;\n    }\n</style>\n<table border=\"1\" class=\"dataframe\">\n  <thead>\n    <tr style=\"text-align: right;\">\n      <th></th>\n      <th></th>\n      <th>Earnings Per Share - Actual Surprise</th>\n      <th>Revenue - Actual</th>\n      <th>Net Income after Tax</th>\n    </tr>\n    <tr>\n      <th>Instrument</th>\n      <th>Date</th>\n      <th></th>\n      <th></th>\n      <th></th>\n    </tr>\n  </thead>\n  <tbody>\n    <tr>\n      <th rowspan=\"5\" valign=\"top\">POOL.OQ</th>\n      <th>2022-10-01</th>\n      <td>4.196</td>\n      <td>0.010538</td>\n      <td>0.523164</td>\n    </tr>\n    <tr>\n      <th>2022-07-01</th>\n      <td>1.503</td>\n      <td>0.013420</td>\n      <td>0.524572</td>\n    </tr>\n    <tr>\n      <th>2022-04-01</th>\n      <td>34.342</td>\n      <td>0.009212</td>\n      <td>0.523035</td>\n    </tr>\n    <tr>\n      <th>2022-01-01</th>\n      <td>40.267</td>\n      <td>0.006746</td>\n      <td>0.522174</td>\n    </tr>\n    <tr>\n      <th>2021-10-01</th>\n      <td>17.194</td>\n      <td>0.009205</td>\n      <td>0.523099</td>\n    </tr>\n    <tr>\n      <th>...</th>\n      <th>...</th>\n      <td>...</td>\n      <td>...</td>\n      <td>...</td>\n    </tr>\n    <tr>\n      <th rowspan=\"5\" valign=\"top\">AVY.N</th>\n      <th>2022-10-01</th>\n      <td>-0.131</td>\n      <td>0.015129</td>\n      <td>0.523543</td>\n    </tr>\n    <tr>\n      <th>2022-07-01</th>\n      <td>11.635</td>\n      <td>0.015325</td>\n      <td>0.523459</td>\n    </tr>\n    <tr>\n      <th>2022-04-01</th>\n      <td>10.595</td>\n      <td>0.015340</td>\n      <td>0.523263</td>\n    </tr>\n    <tr>\n      <th>2022-01-01</th>\n      <td>0.294</td>\n      <td>0.014253</td>\n      <td>0.523082</td>\n    </tr>\n    <tr>\n      <th>2021-10-01</th>\n      <td>4.784</td>\n      <td>0.013524</td>\n      <td>0.522867</td>\n    </tr>\n  </tbody>\n</table>\n<p>2415 rows × 3 columns</p>\n</div>"
     },
     "execution_count": 97,
     "metadata": {},
     "output_type": "execute_result"
    }
   ],
   "source": [
    "df_accuracy_new.set_index([\"Instrument\", \"Date\"], inplace=True)\n",
    "df_accuracy_new"
   ],
   "metadata": {
    "collapsed": false
   }
  },
  {
   "cell_type": "code",
   "execution_count": 98,
   "metadata": {},
   "outputs": [],
   "source": [
    "import pandas as pd\n",
    "import scipy.stats as st\n",
    "import statsmodels.api as sm\n",
    "import statsmodels.graphics.tsaplots as tsap\n",
    "from statsmodels.compat import lzip\n",
    "from statsmodels.stats.diagnostic import het_white\n",
    "from matplotlib import pyplot as plt"
   ]
  },
  {
   "cell_type": "code",
   "execution_count": 99,
   "outputs": [
    {
     "data": {
      "text/plain": "     Instrument        Date  Earnings Per Share - Actual  \\\n0       POOL.OQ  2022-10-01                         4.78   \n1       POOL.OQ  2022-07-01                         7.63   \n2       POOL.OQ  2022-04-01                         4.23   \n3       POOL.OQ  2022-01-01                         2.63   \n4       POOL.OQ  2021-10-01                         4.51   \n...         ...         ...                          ...   \n2510      AVY.N  2022-10-01                         2.46   \n2511      AVY.N  2022-07-01                         2.64   \n2512      AVY.N  2022-04-01                         2.40   \n2513      AVY.N  2022-01-01                         2.13   \n2514      AVY.N  2021-10-01                         2.14   \n\n      Earnings Per Share - Mean  Earnings Per Share - Actual Surprise  \\\n0                       4.58750                                 4.196   \n1                       7.51700                                 1.503   \n2                       3.14867                                34.342   \n3                       1.87500                                40.267   \n4                       3.84833                                17.194   \n...                         ...                                   ...   \n2510                    2.46323                                -0.131   \n2511                    2.36485                                11.635   \n2512                    2.17008                                10.595   \n2513                    2.12375                                 0.294   \n2514                    2.04230                                 4.784   \n\n      Earnings Per Share – Coefficient of Variation  Revenue - Actual  \\\n0                                          3.843706      1.615339e+09   \n1                                          3.625249      2.055818e+09   \n2                                          6.630736      1.412650e+09   \n3                                          3.269867      1.035557e+09   \n4                                          2.836295      1.411448e+09   \n...                                             ...               ...   \n2510                                       2.002655      2.317100e+09   \n2511                                       2.604816      2.347000e+09   \n2512                                       3.888797      2.349300e+09   \n2513                                       1.875927      2.183200e+09   \n2514                                       3.935759      2.071800e+09   \n\n      Enterprise Value  Number of Analysts  Recommendation - Mean (1-5)  \\\n0         1.406160e+10                10.0                      2.27273   \n1         1.556187e+10                 9.0                      2.20000   \n2         1.843682e+10                 9.0                      2.00000   \n3         2.384882e+10                 8.0                      2.30000   \n4         1.769954e+10                 8.0                      2.30000   \n...                ...                 ...                          ...   \n2510      1.622502e+10                13.0                      2.14286   \n2511      1.650430e+10                13.0                      2.00000   \n2512      1.753708e+10                12.0                      2.06667   \n2513      2.087304e+10                12.0                      2.14286   \n2514      2.036822e+10                11.0                      2.15385   \n\n      Recommendation - Mean (1-5).1  \\\n0                           2.20000   \n1                           2.00000   \n2                           2.30000   \n3                           2.30000   \n4                           2.30000   \n...                             ...   \n2510                        2.00000   \n2511                        2.06667   \n2512                        2.14286   \n2513                        2.15385   \n2514                        2.15385   \n\n      WACC Inflation Adjusted Risk Free Rate, (%)  Net Income after Tax  \\\n0                                        3.747421           189965000.0   \n1                                        3.092855           307205000.0   \n2                                        2.325202           179203000.0   \n3                                        1.515266           107542000.0   \n4                                        1.527139           184573000.0   \n...                                           ...                   ...   \n2510                                     3.747421           221500000.0   \n2511                                     3.092855           214500000.0   \n2512                                     2.325202           198200000.0   \n2513                                     1.515266           183100000.0   \n2514                                     1.527139           165200000.0   \n\n      Price Target - Mean  Price Close  \n0               360.11111       318.21  \n1               435.37500       351.23  \n2               519.88889       422.85  \n3               571.00000       566.00  \n4               545.28571       434.41  \n...                   ...          ...  \n2510            201.63636       162.70  \n2511            210.72727       161.87  \n2512            219.00000       173.97  \n2513            240.45455       216.57  \n2514            235.70000       207.21  \n\n[2515 rows x 15 columns]",
      "text/html": "<div>\n<style scoped>\n    .dataframe tbody tr th:only-of-type {\n        vertical-align: middle;\n    }\n\n    .dataframe tbody tr th {\n        vertical-align: top;\n    }\n\n    .dataframe thead th {\n        text-align: right;\n    }\n</style>\n<table border=\"1\" class=\"dataframe\">\n  <thead>\n    <tr style=\"text-align: right;\">\n      <th></th>\n      <th>Instrument</th>\n      <th>Date</th>\n      <th>Earnings Per Share - Actual</th>\n      <th>Earnings Per Share - Mean</th>\n      <th>Earnings Per Share - Actual Surprise</th>\n      <th>Earnings Per Share – Coefficient of Variation</th>\n      <th>Revenue - Actual</th>\n      <th>Enterprise Value</th>\n      <th>Number of Analysts</th>\n      <th>Recommendation - Mean (1-5)</th>\n      <th>Recommendation - Mean (1-5).1</th>\n      <th>WACC Inflation Adjusted Risk Free Rate, (%)</th>\n      <th>Net Income after Tax</th>\n      <th>Price Target - Mean</th>\n      <th>Price Close</th>\n    </tr>\n  </thead>\n  <tbody>\n    <tr>\n      <th>0</th>\n      <td>POOL.OQ</td>\n      <td>2022-10-01</td>\n      <td>4.78</td>\n      <td>4.58750</td>\n      <td>4.196</td>\n      <td>3.843706</td>\n      <td>1.615339e+09</td>\n      <td>1.406160e+10</td>\n      <td>10.0</td>\n      <td>2.27273</td>\n      <td>2.20000</td>\n      <td>3.747421</td>\n      <td>189965000.0</td>\n      <td>360.11111</td>\n      <td>318.21</td>\n    </tr>\n    <tr>\n      <th>1</th>\n      <td>POOL.OQ</td>\n      <td>2022-07-01</td>\n      <td>7.63</td>\n      <td>7.51700</td>\n      <td>1.503</td>\n      <td>3.625249</td>\n      <td>2.055818e+09</td>\n      <td>1.556187e+10</td>\n      <td>9.0</td>\n      <td>2.20000</td>\n      <td>2.00000</td>\n      <td>3.092855</td>\n      <td>307205000.0</td>\n      <td>435.37500</td>\n      <td>351.23</td>\n    </tr>\n    <tr>\n      <th>2</th>\n      <td>POOL.OQ</td>\n      <td>2022-04-01</td>\n      <td>4.23</td>\n      <td>3.14867</td>\n      <td>34.342</td>\n      <td>6.630736</td>\n      <td>1.412650e+09</td>\n      <td>1.843682e+10</td>\n      <td>9.0</td>\n      <td>2.00000</td>\n      <td>2.30000</td>\n      <td>2.325202</td>\n      <td>179203000.0</td>\n      <td>519.88889</td>\n      <td>422.85</td>\n    </tr>\n    <tr>\n      <th>3</th>\n      <td>POOL.OQ</td>\n      <td>2022-01-01</td>\n      <td>2.63</td>\n      <td>1.87500</td>\n      <td>40.267</td>\n      <td>3.269867</td>\n      <td>1.035557e+09</td>\n      <td>2.384882e+10</td>\n      <td>8.0</td>\n      <td>2.30000</td>\n      <td>2.30000</td>\n      <td>1.515266</td>\n      <td>107542000.0</td>\n      <td>571.00000</td>\n      <td>566.00</td>\n    </tr>\n    <tr>\n      <th>4</th>\n      <td>POOL.OQ</td>\n      <td>2021-10-01</td>\n      <td>4.51</td>\n      <td>3.84833</td>\n      <td>17.194</td>\n      <td>2.836295</td>\n      <td>1.411448e+09</td>\n      <td>1.769954e+10</td>\n      <td>8.0</td>\n      <td>2.30000</td>\n      <td>2.30000</td>\n      <td>1.527139</td>\n      <td>184573000.0</td>\n      <td>545.28571</td>\n      <td>434.41</td>\n    </tr>\n    <tr>\n      <th>...</th>\n      <td>...</td>\n      <td>...</td>\n      <td>...</td>\n      <td>...</td>\n      <td>...</td>\n      <td>...</td>\n      <td>...</td>\n      <td>...</td>\n      <td>...</td>\n      <td>...</td>\n      <td>...</td>\n      <td>...</td>\n      <td>...</td>\n      <td>...</td>\n      <td>...</td>\n    </tr>\n    <tr>\n      <th>2510</th>\n      <td>AVY.N</td>\n      <td>2022-10-01</td>\n      <td>2.46</td>\n      <td>2.46323</td>\n      <td>-0.131</td>\n      <td>2.002655</td>\n      <td>2.317100e+09</td>\n      <td>1.622502e+10</td>\n      <td>13.0</td>\n      <td>2.14286</td>\n      <td>2.00000</td>\n      <td>3.747421</td>\n      <td>221500000.0</td>\n      <td>201.63636</td>\n      <td>162.70</td>\n    </tr>\n    <tr>\n      <th>2511</th>\n      <td>AVY.N</td>\n      <td>2022-07-01</td>\n      <td>2.64</td>\n      <td>2.36485</td>\n      <td>11.635</td>\n      <td>2.604816</td>\n      <td>2.347000e+09</td>\n      <td>1.650430e+10</td>\n      <td>13.0</td>\n      <td>2.00000</td>\n      <td>2.06667</td>\n      <td>3.092855</td>\n      <td>214500000.0</td>\n      <td>210.72727</td>\n      <td>161.87</td>\n    </tr>\n    <tr>\n      <th>2512</th>\n      <td>AVY.N</td>\n      <td>2022-04-01</td>\n      <td>2.40</td>\n      <td>2.17008</td>\n      <td>10.595</td>\n      <td>3.888797</td>\n      <td>2.349300e+09</td>\n      <td>1.753708e+10</td>\n      <td>12.0</td>\n      <td>2.06667</td>\n      <td>2.14286</td>\n      <td>2.325202</td>\n      <td>198200000.0</td>\n      <td>219.00000</td>\n      <td>173.97</td>\n    </tr>\n    <tr>\n      <th>2513</th>\n      <td>AVY.N</td>\n      <td>2022-01-01</td>\n      <td>2.13</td>\n      <td>2.12375</td>\n      <td>0.294</td>\n      <td>1.875927</td>\n      <td>2.183200e+09</td>\n      <td>2.087304e+10</td>\n      <td>12.0</td>\n      <td>2.14286</td>\n      <td>2.15385</td>\n      <td>1.515266</td>\n      <td>183100000.0</td>\n      <td>240.45455</td>\n      <td>216.57</td>\n    </tr>\n    <tr>\n      <th>2514</th>\n      <td>AVY.N</td>\n      <td>2021-10-01</td>\n      <td>2.14</td>\n      <td>2.04230</td>\n      <td>4.784</td>\n      <td>3.935759</td>\n      <td>2.071800e+09</td>\n      <td>2.036822e+10</td>\n      <td>11.0</td>\n      <td>2.15385</td>\n      <td>2.15385</td>\n      <td>1.527139</td>\n      <td>165200000.0</td>\n      <td>235.70000</td>\n      <td>207.21</td>\n    </tr>\n  </tbody>\n</table>\n<p>2515 rows × 15 columns</p>\n</div>"
     },
     "execution_count": 99,
     "metadata": {},
     "output_type": "execute_result"
    }
   ],
   "source": [
    "#decide which df to use\n",
    "df = pd.read_csv(\"Dataframes/economic_story_dataframe.csv\")\n",
    "#df = df.loc[:, [\"Instrument\", \"Date\", \"Earnings Per Share - Actual Surprise\", \"Revenue - Actual\", \"Net Income after Tax\"]]\n",
    "\n",
    "df"
   ],
   "metadata": {
    "collapsed": false
   }
  },
  {
   "cell_type": "code",
   "execution_count": 100,
   "outputs": [
    {
     "data": {
      "text/plain": "     Instrument        Date  Earnings Per Share - Actual  \\\n0       POOL.OQ  2022-10-01                         4.78   \n1       POOL.OQ  2022-07-01                         7.63   \n2       POOL.OQ  2022-04-01                         4.23   \n3       POOL.OQ  2022-01-01                         2.63   \n4       POOL.OQ  2021-10-01                         4.51   \n...         ...         ...                          ...   \n2510      AVY.N  2022-10-01                         2.46   \n2511      AVY.N  2022-07-01                         2.64   \n2512      AVY.N  2022-04-01                         2.40   \n2513      AVY.N  2022-01-01                         2.13   \n2514      AVY.N  2021-10-01                         2.14   \n\n      Earnings Per Share - Mean  Earnings Per Share - Actual Surprise  \\\n0                       4.58750                                 4.196   \n1                       7.51700                                 1.503   \n2                       3.14867                                34.342   \n3                       1.87500                                40.267   \n4                       3.84833                                17.194   \n...                         ...                                   ...   \n2510                    2.46323                                -0.131   \n2511                    2.36485                                11.635   \n2512                    2.17008                                10.595   \n2513                    2.12375                                 0.294   \n2514                    2.04230                                 4.784   \n\n      Earnings Per Share – Coefficient of Variation  Revenue - Actual  \\\n0                                          3.843706      1.615339e+09   \n1                                          3.625249      2.055818e+09   \n2                                          6.630736      1.412650e+09   \n3                                          3.269867      1.035557e+09   \n4                                          2.836295      1.411448e+09   \n...                                             ...               ...   \n2510                                       2.002655      2.317100e+09   \n2511                                       2.604816      2.347000e+09   \n2512                                       3.888797      2.349300e+09   \n2513                                       1.875927      2.183200e+09   \n2514                                       3.935759      2.071800e+09   \n\n      Enterprise Value  Number of Analysts  Recommendation - Mean (1-5)  \\\n0         1.406160e+10                10.0                      2.27273   \n1         1.556187e+10                 9.0                      2.20000   \n2         1.843682e+10                 9.0                      2.00000   \n3         2.384882e+10                 8.0                      2.30000   \n4         1.769954e+10                 8.0                      2.30000   \n...                ...                 ...                          ...   \n2510      1.622502e+10                13.0                      2.14286   \n2511      1.650430e+10                13.0                      2.00000   \n2512      1.753708e+10                12.0                      2.06667   \n2513      2.087304e+10                12.0                      2.14286   \n2514      2.036822e+10                11.0                      2.15385   \n\n      Recommendation - Mean (1-5).1  \\\n0                           2.20000   \n1                           2.00000   \n2                           2.30000   \n3                           2.30000   \n4                           2.30000   \n...                             ...   \n2510                        2.00000   \n2511                        2.06667   \n2512                        2.14286   \n2513                        2.15385   \n2514                        2.15385   \n\n      WACC Inflation Adjusted Risk Free Rate, (%)  Net Income after Tax  \\\n0                                        3.747421           189965000.0   \n1                                        3.092855           307205000.0   \n2                                        2.325202           179203000.0   \n3                                        1.515266           107542000.0   \n4                                        1.527139           184573000.0   \n...                                           ...                   ...   \n2510                                     3.747421           221500000.0   \n2511                                     3.092855           214500000.0   \n2512                                     2.325202           198200000.0   \n2513                                     1.515266           183100000.0   \n2514                                     1.527139           165200000.0   \n\n      Price Target - Mean  Price Close  \n0               360.11111       318.21  \n1               435.37500       351.23  \n2               519.88889       422.85  \n3               571.00000       566.00  \n4               545.28571       434.41  \n...                   ...          ...  \n2510            201.63636       162.70  \n2511            210.72727       161.87  \n2512            219.00000       173.97  \n2513            240.45455       216.57  \n2514            235.70000       207.21  \n\n[2394 rows x 15 columns]",
      "text/html": "<div>\n<style scoped>\n    .dataframe tbody tr th:only-of-type {\n        vertical-align: middle;\n    }\n\n    .dataframe tbody tr th {\n        vertical-align: top;\n    }\n\n    .dataframe thead th {\n        text-align: right;\n    }\n</style>\n<table border=\"1\" class=\"dataframe\">\n  <thead>\n    <tr style=\"text-align: right;\">\n      <th></th>\n      <th>Instrument</th>\n      <th>Date</th>\n      <th>Earnings Per Share - Actual</th>\n      <th>Earnings Per Share - Mean</th>\n      <th>Earnings Per Share - Actual Surprise</th>\n      <th>Earnings Per Share – Coefficient of Variation</th>\n      <th>Revenue - Actual</th>\n      <th>Enterprise Value</th>\n      <th>Number of Analysts</th>\n      <th>Recommendation - Mean (1-5)</th>\n      <th>Recommendation - Mean (1-5).1</th>\n      <th>WACC Inflation Adjusted Risk Free Rate, (%)</th>\n      <th>Net Income after Tax</th>\n      <th>Price Target - Mean</th>\n      <th>Price Close</th>\n    </tr>\n  </thead>\n  <tbody>\n    <tr>\n      <th>0</th>\n      <td>POOL.OQ</td>\n      <td>2022-10-01</td>\n      <td>4.78</td>\n      <td>4.58750</td>\n      <td>4.196</td>\n      <td>3.843706</td>\n      <td>1.615339e+09</td>\n      <td>1.406160e+10</td>\n      <td>10.0</td>\n      <td>2.27273</td>\n      <td>2.20000</td>\n      <td>3.747421</td>\n      <td>189965000.0</td>\n      <td>360.11111</td>\n      <td>318.21</td>\n    </tr>\n    <tr>\n      <th>1</th>\n      <td>POOL.OQ</td>\n      <td>2022-07-01</td>\n      <td>7.63</td>\n      <td>7.51700</td>\n      <td>1.503</td>\n      <td>3.625249</td>\n      <td>2.055818e+09</td>\n      <td>1.556187e+10</td>\n      <td>9.0</td>\n      <td>2.20000</td>\n      <td>2.00000</td>\n      <td>3.092855</td>\n      <td>307205000.0</td>\n      <td>435.37500</td>\n      <td>351.23</td>\n    </tr>\n    <tr>\n      <th>2</th>\n      <td>POOL.OQ</td>\n      <td>2022-04-01</td>\n      <td>4.23</td>\n      <td>3.14867</td>\n      <td>34.342</td>\n      <td>6.630736</td>\n      <td>1.412650e+09</td>\n      <td>1.843682e+10</td>\n      <td>9.0</td>\n      <td>2.00000</td>\n      <td>2.30000</td>\n      <td>2.325202</td>\n      <td>179203000.0</td>\n      <td>519.88889</td>\n      <td>422.85</td>\n    </tr>\n    <tr>\n      <th>3</th>\n      <td>POOL.OQ</td>\n      <td>2022-01-01</td>\n      <td>2.63</td>\n      <td>1.87500</td>\n      <td>40.267</td>\n      <td>3.269867</td>\n      <td>1.035557e+09</td>\n      <td>2.384882e+10</td>\n      <td>8.0</td>\n      <td>2.30000</td>\n      <td>2.30000</td>\n      <td>1.515266</td>\n      <td>107542000.0</td>\n      <td>571.00000</td>\n      <td>566.00</td>\n    </tr>\n    <tr>\n      <th>4</th>\n      <td>POOL.OQ</td>\n      <td>2021-10-01</td>\n      <td>4.51</td>\n      <td>3.84833</td>\n      <td>17.194</td>\n      <td>2.836295</td>\n      <td>1.411448e+09</td>\n      <td>1.769954e+10</td>\n      <td>8.0</td>\n      <td>2.30000</td>\n      <td>2.30000</td>\n      <td>1.527139</td>\n      <td>184573000.0</td>\n      <td>545.28571</td>\n      <td>434.41</td>\n    </tr>\n    <tr>\n      <th>...</th>\n      <td>...</td>\n      <td>...</td>\n      <td>...</td>\n      <td>...</td>\n      <td>...</td>\n      <td>...</td>\n      <td>...</td>\n      <td>...</td>\n      <td>...</td>\n      <td>...</td>\n      <td>...</td>\n      <td>...</td>\n      <td>...</td>\n      <td>...</td>\n      <td>...</td>\n    </tr>\n    <tr>\n      <th>2510</th>\n      <td>AVY.N</td>\n      <td>2022-10-01</td>\n      <td>2.46</td>\n      <td>2.46323</td>\n      <td>-0.131</td>\n      <td>2.002655</td>\n      <td>2.317100e+09</td>\n      <td>1.622502e+10</td>\n      <td>13.0</td>\n      <td>2.14286</td>\n      <td>2.00000</td>\n      <td>3.747421</td>\n      <td>221500000.0</td>\n      <td>201.63636</td>\n      <td>162.70</td>\n    </tr>\n    <tr>\n      <th>2511</th>\n      <td>AVY.N</td>\n      <td>2022-07-01</td>\n      <td>2.64</td>\n      <td>2.36485</td>\n      <td>11.635</td>\n      <td>2.604816</td>\n      <td>2.347000e+09</td>\n      <td>1.650430e+10</td>\n      <td>13.0</td>\n      <td>2.00000</td>\n      <td>2.06667</td>\n      <td>3.092855</td>\n      <td>214500000.0</td>\n      <td>210.72727</td>\n      <td>161.87</td>\n    </tr>\n    <tr>\n      <th>2512</th>\n      <td>AVY.N</td>\n      <td>2022-04-01</td>\n      <td>2.40</td>\n      <td>2.17008</td>\n      <td>10.595</td>\n      <td>3.888797</td>\n      <td>2.349300e+09</td>\n      <td>1.753708e+10</td>\n      <td>12.0</td>\n      <td>2.06667</td>\n      <td>2.14286</td>\n      <td>2.325202</td>\n      <td>198200000.0</td>\n      <td>219.00000</td>\n      <td>173.97</td>\n    </tr>\n    <tr>\n      <th>2513</th>\n      <td>AVY.N</td>\n      <td>2022-01-01</td>\n      <td>2.13</td>\n      <td>2.12375</td>\n      <td>0.294</td>\n      <td>1.875927</td>\n      <td>2.183200e+09</td>\n      <td>2.087304e+10</td>\n      <td>12.0</td>\n      <td>2.14286</td>\n      <td>2.15385</td>\n      <td>1.515266</td>\n      <td>183100000.0</td>\n      <td>240.45455</td>\n      <td>216.57</td>\n    </tr>\n    <tr>\n      <th>2514</th>\n      <td>AVY.N</td>\n      <td>2021-10-01</td>\n      <td>2.14</td>\n      <td>2.04230</td>\n      <td>4.784</td>\n      <td>3.935759</td>\n      <td>2.071800e+09</td>\n      <td>2.036822e+10</td>\n      <td>11.0</td>\n      <td>2.15385</td>\n      <td>2.15385</td>\n      <td>1.527139</td>\n      <td>165200000.0</td>\n      <td>235.70000</td>\n      <td>207.21</td>\n    </tr>\n  </tbody>\n</table>\n<p>2394 rows × 15 columns</p>\n</div>"
     },
     "execution_count": 100,
     "metadata": {},
     "output_type": "execute_result"
    }
   ],
   "source": [
    "#identifying outliers and replacing them with NA\n",
    "summary_stats = df[\"Earnings Per Share - Actual Surprise\"].describe()\n",
    "Q1 = summary_stats.loc['25%']\n",
    "Q3 = summary_stats.loc['75%']\n",
    "IQR = Q3 - Q1\n",
    "threshold = 7 #1.5 is standard threshold but we still want to keep enough variation in the data so setting threshol higher here\n",
    "surprise_outliers_removed = df[\"Earnings Per Share - Actual Surprise\"].loc[~((df[\"Earnings Per Share - Actual Surprise\"] < (Q1 - threshold * IQR)) | (df[\"Earnings Per Share - Actual Surprise\"] > (Q3 + threshold * IQR)))]\n",
    "df_accuracy_new = df.copy()\n",
    "df_accuracy_new[\"Earnings Per Share - Actual Surprise\"] = surprise_outliers_removed\n",
    "df_accuracy_new = df_accuracy_new.dropna(subset=[\"Earnings Per Share - Actual Surprise\"])\n",
    "#df_accuracy_new[\"Recommendation - Mean (1-5)\"] = df_accuracy_new[\"Recommendation - Mean (1-5)\"].fillna(0)\n",
    "df_accuracy_new = df_accuracy_new.dropna()\n",
    "df_accuracy_new\n"
   ],
   "metadata": {
    "collapsed": false
   }
  },
  {
   "cell_type": "code",
   "execution_count": 101,
   "outputs": [],
   "source": [
    "y_var_name = 'Earnings Per Share - Actual Surprise'\n",
    "X_var_names = ['Revenue - Actual', \"Net Income after Tax\", \"Number of Analysts\", \"Earnings Per Share – Coefficient of Variation\", \"Recommendation - Mean (1-5)\", \"WACC Inflation Adjusted Risk Free Rate, (%)\", \"Net Income after Tax\", \"Price Target - Mean\", \"Price Close\"]\n",
    "pooled_y=df_accuracy_new[y_var_name]\n",
    "pooled_X=df_accuracy_new[X_var_names]"
   ],
   "metadata": {
    "collapsed": false
   }
  },
  {
   "cell_type": "code",
   "execution_count": 102,
   "outputs": [
    {
     "data": {
      "text/plain": "      const  Revenue - Actual  Net Income after Tax  Number of Analysts  \\\n0       1.0      1.615339e+09           189965000.0                10.0   \n1       1.0      2.055818e+09           307205000.0                 9.0   \n2       1.0      1.412650e+09           179203000.0                 9.0   \n3       1.0      1.035557e+09           107542000.0                 8.0   \n4       1.0      1.411448e+09           184573000.0                 8.0   \n...     ...               ...                   ...                 ...   \n2510    1.0      2.317100e+09           221500000.0                13.0   \n2511    1.0      2.347000e+09           214500000.0                13.0   \n2512    1.0      2.349300e+09           198200000.0                12.0   \n2513    1.0      2.183200e+09           183100000.0                12.0   \n2514    1.0      2.071800e+09           165200000.0                11.0   \n\n      Earnings Per Share – Coefficient of Variation  \\\n0                                          3.843706   \n1                                          3.625249   \n2                                          6.630736   \n3                                          3.269867   \n4                                          2.836295   \n...                                             ...   \n2510                                       2.002655   \n2511                                       2.604816   \n2512                                       3.888797   \n2513                                       1.875927   \n2514                                       3.935759   \n\n      Recommendation - Mean (1-5)  \\\n0                         2.27273   \n1                         2.20000   \n2                         2.00000   \n3                         2.30000   \n4                         2.30000   \n...                           ...   \n2510                      2.14286   \n2511                      2.00000   \n2512                      2.06667   \n2513                      2.14286   \n2514                      2.15385   \n\n      WACC Inflation Adjusted Risk Free Rate, (%)  Net Income after Tax  \\\n0                                        3.747421           189965000.0   \n1                                        3.092855           307205000.0   \n2                                        2.325202           179203000.0   \n3                                        1.515266           107542000.0   \n4                                        1.527139           184573000.0   \n...                                           ...                   ...   \n2510                                     3.747421           221500000.0   \n2511                                     3.092855           214500000.0   \n2512                                     2.325202           198200000.0   \n2513                                     1.515266           183100000.0   \n2514                                     1.527139           165200000.0   \n\n      Price Target - Mean  Price Close  \n0               360.11111       318.21  \n1               435.37500       351.23  \n2               519.88889       422.85  \n3               571.00000       566.00  \n4               545.28571       434.41  \n...                   ...          ...  \n2510            201.63636       162.70  \n2511            210.72727       161.87  \n2512            219.00000       173.97  \n2513            240.45455       216.57  \n2514            235.70000       207.21  \n\n[2394 rows x 10 columns]",
      "text/html": "<div>\n<style scoped>\n    .dataframe tbody tr th:only-of-type {\n        vertical-align: middle;\n    }\n\n    .dataframe tbody tr th {\n        vertical-align: top;\n    }\n\n    .dataframe thead th {\n        text-align: right;\n    }\n</style>\n<table border=\"1\" class=\"dataframe\">\n  <thead>\n    <tr style=\"text-align: right;\">\n      <th></th>\n      <th>const</th>\n      <th>Revenue - Actual</th>\n      <th>Net Income after Tax</th>\n      <th>Number of Analysts</th>\n      <th>Earnings Per Share – Coefficient of Variation</th>\n      <th>Recommendation - Mean (1-5)</th>\n      <th>WACC Inflation Adjusted Risk Free Rate, (%)</th>\n      <th>Net Income after Tax</th>\n      <th>Price Target - Mean</th>\n      <th>Price Close</th>\n    </tr>\n  </thead>\n  <tbody>\n    <tr>\n      <th>0</th>\n      <td>1.0</td>\n      <td>1.615339e+09</td>\n      <td>189965000.0</td>\n      <td>10.0</td>\n      <td>3.843706</td>\n      <td>2.27273</td>\n      <td>3.747421</td>\n      <td>189965000.0</td>\n      <td>360.11111</td>\n      <td>318.21</td>\n    </tr>\n    <tr>\n      <th>1</th>\n      <td>1.0</td>\n      <td>2.055818e+09</td>\n      <td>307205000.0</td>\n      <td>9.0</td>\n      <td>3.625249</td>\n      <td>2.20000</td>\n      <td>3.092855</td>\n      <td>307205000.0</td>\n      <td>435.37500</td>\n      <td>351.23</td>\n    </tr>\n    <tr>\n      <th>2</th>\n      <td>1.0</td>\n      <td>1.412650e+09</td>\n      <td>179203000.0</td>\n      <td>9.0</td>\n      <td>6.630736</td>\n      <td>2.00000</td>\n      <td>2.325202</td>\n      <td>179203000.0</td>\n      <td>519.88889</td>\n      <td>422.85</td>\n    </tr>\n    <tr>\n      <th>3</th>\n      <td>1.0</td>\n      <td>1.035557e+09</td>\n      <td>107542000.0</td>\n      <td>8.0</td>\n      <td>3.269867</td>\n      <td>2.30000</td>\n      <td>1.515266</td>\n      <td>107542000.0</td>\n      <td>571.00000</td>\n      <td>566.00</td>\n    </tr>\n    <tr>\n      <th>4</th>\n      <td>1.0</td>\n      <td>1.411448e+09</td>\n      <td>184573000.0</td>\n      <td>8.0</td>\n      <td>2.836295</td>\n      <td>2.30000</td>\n      <td>1.527139</td>\n      <td>184573000.0</td>\n      <td>545.28571</td>\n      <td>434.41</td>\n    </tr>\n    <tr>\n      <th>...</th>\n      <td>...</td>\n      <td>...</td>\n      <td>...</td>\n      <td>...</td>\n      <td>...</td>\n      <td>...</td>\n      <td>...</td>\n      <td>...</td>\n      <td>...</td>\n      <td>...</td>\n    </tr>\n    <tr>\n      <th>2510</th>\n      <td>1.0</td>\n      <td>2.317100e+09</td>\n      <td>221500000.0</td>\n      <td>13.0</td>\n      <td>2.002655</td>\n      <td>2.14286</td>\n      <td>3.747421</td>\n      <td>221500000.0</td>\n      <td>201.63636</td>\n      <td>162.70</td>\n    </tr>\n    <tr>\n      <th>2511</th>\n      <td>1.0</td>\n      <td>2.347000e+09</td>\n      <td>214500000.0</td>\n      <td>13.0</td>\n      <td>2.604816</td>\n      <td>2.00000</td>\n      <td>3.092855</td>\n      <td>214500000.0</td>\n      <td>210.72727</td>\n      <td>161.87</td>\n    </tr>\n    <tr>\n      <th>2512</th>\n      <td>1.0</td>\n      <td>2.349300e+09</td>\n      <td>198200000.0</td>\n      <td>12.0</td>\n      <td>3.888797</td>\n      <td>2.06667</td>\n      <td>2.325202</td>\n      <td>198200000.0</td>\n      <td>219.00000</td>\n      <td>173.97</td>\n    </tr>\n    <tr>\n      <th>2513</th>\n      <td>1.0</td>\n      <td>2.183200e+09</td>\n      <td>183100000.0</td>\n      <td>12.0</td>\n      <td>1.875927</td>\n      <td>2.14286</td>\n      <td>1.515266</td>\n      <td>183100000.0</td>\n      <td>240.45455</td>\n      <td>216.57</td>\n    </tr>\n    <tr>\n      <th>2514</th>\n      <td>1.0</td>\n      <td>2.071800e+09</td>\n      <td>165200000.0</td>\n      <td>11.0</td>\n      <td>3.935759</td>\n      <td>2.15385</td>\n      <td>1.527139</td>\n      <td>165200000.0</td>\n      <td>235.70000</td>\n      <td>207.21</td>\n    </tr>\n  </tbody>\n</table>\n<p>2394 rows × 10 columns</p>\n</div>"
     },
     "execution_count": 102,
     "metadata": {},
     "output_type": "execute_result"
    }
   ],
   "source": [
    "pooled_X = sm.add_constant(pooled_X)\n",
    "pooled_X"
   ],
   "metadata": {
    "collapsed": false
   }
  },
  {
   "cell_type": "code",
   "execution_count": 103,
   "outputs": [],
   "source": [
    "pooled_olsr_model = sm.OLS(endog=pooled_y, exog=pooled_X)"
   ],
   "metadata": {
    "collapsed": false
   }
  },
  {
   "cell_type": "code",
   "execution_count": 104,
   "outputs": [],
   "source": [
    "pooled_olsr_model_results = pooled_olsr_model.fit()"
   ],
   "metadata": {
    "collapsed": false
   }
  },
  {
   "cell_type": "code",
   "execution_count": 105,
   "outputs": [
    {
     "name": "stdout",
     "output_type": "stream",
     "text": [
      "                                     OLS Regression Results                                     \n",
      "================================================================================================\n",
      "Dep. Variable:     Earnings Per Share - Actual Surprise   R-squared:                       0.048\n",
      "Model:                                              OLS   Adj. R-squared:                  0.045\n",
      "Method:                                   Least Squares   F-statistic:                     15.11\n",
      "Date:                                  Fri, 24 Feb 2023   Prob (F-statistic):           8.22e-22\n",
      "Time:                                          17:31:48   Log-Likelihood:                -10043.\n",
      "No. Observations:                                  2394   AIC:                         2.010e+04\n",
      "Df Residuals:                                      2385   BIC:                         2.016e+04\n",
      "Df Model:                                             8                                         \n",
      "Covariance Type:                              nonrobust                                         \n",
      "=================================================================================================================\n",
      "                                                    coef    std err          t      P>|t|      [0.025      0.975]\n",
      "-----------------------------------------------------------------------------------------------------------------\n",
      "const                                            14.0974      2.609      5.404      0.000       8.982      19.213\n",
      "Revenue - Actual                               1.322e-11   2.59e-11      0.511      0.609   -3.75e-11    6.39e-11\n",
      "Net Income after Tax                          -2.946e-06   5.62e-07     -5.244      0.000   -4.05e-06   -1.84e-06\n",
      "Number of Analysts                               -0.0767      0.055     -1.394      0.164      -0.185       0.031\n",
      "Earnings Per Share – Coefficient of Variation     0.2668      0.029      9.068      0.000       0.209       0.324\n",
      "Recommendation - Mean (1-5)                      -1.1666      0.938     -1.244      0.214      -3.005       0.672\n",
      "WACC Inflation Adjusted Risk Free Rate, (%)      -2.1071      0.387     -5.447      0.000      -2.866      -1.348\n",
      "Net Income after Tax                           2.946e-06   5.62e-07      5.244      0.000    1.84e-06    4.05e-06\n",
      "Price Target - Mean                               0.0043      0.008      0.523      0.601      -0.012       0.021\n",
      "Price Close                                      -0.0040      0.010     -0.423      0.673      -0.023       0.015\n",
      "==============================================================================\n",
      "Omnibus:                      297.104   Durbin-Watson:                   1.734\n",
      "Prob(Omnibus):                  0.000   Jarque-Bera (JB):             2757.866\n",
      "Skew:                           0.209   Prob(JB):                         0.00\n",
      "Kurtosis:                       8.241   Cond. No.                     1.90e+16\n",
      "==============================================================================\n",
      "\n",
      "Notes:\n",
      "[1] Standard Errors assume that the covariance matrix of the errors is correctly specified.\n",
      "[2] The condition number is large, 1.9e+16. This might indicate that there are\n",
      "strong multicollinearity or other numerical problems.\n"
     ]
    }
   ],
   "source": [
    "print(pooled_olsr_model_results.summary())"
   ],
   "metadata": {
    "collapsed": false
   }
  },
  {
   "cell_type": "code",
   "execution_count": 106,
   "outputs": [
    {
     "data": {
      "text/plain": "      Earnings Per Share – Coefficient of Variation  Revenue - Actual  \\\n0                                          0.535296          0.010538   \n1                                          0.534579          0.013420   \n2                                          0.544436          0.009212   \n3                                          0.533414          0.006746   \n4                                          0.531992          0.009205   \n...                                             ...               ...   \n2510                                       0.529258          0.015129   \n2511                                       0.531233          0.015325   \n2512                                       0.535444          0.015340   \n2513                                       0.528842          0.014253   \n2514                                       0.535598          0.013524   \n\n      Enterprise Value  Number of Analysts  Recommendation - Mean (1-5)  \\\n0             0.026228            0.214286                     0.376963   \n1             0.026725            0.190476                     0.343454   \n2             0.027679            0.190476                     0.251307   \n3             0.029473            0.166667                     0.389528   \n4             0.027434            0.166667                     0.389528   \n...                ...                 ...                          ...   \n2510          0.026945            0.285714                     0.317128   \n2511          0.027038            0.285714                     0.251307   \n2512          0.027380            0.261905                     0.282024   \n2513          0.028486            0.261905                     0.317128   \n2514          0.028319            0.238095                     0.322191   \n\n      Recommendation - Mean (1-5).1  \\\n0                          0.343454   \n1                          0.251307   \n2                          0.389528   \n3                          0.389528   \n4                          0.389528   \n...                             ...   \n2510                       0.251307   \n2511                       0.282024   \n2512                       0.317128   \n2513                       0.322191   \n2514                       0.322191   \n\n      WACC Inflation Adjusted Risk Free Rate, (%)  Net Income after Tax  \\\n0                                        0.997960              0.523164   \n1                                        0.807848              0.524572   \n2                                        0.584891              0.523035   \n3                                        0.349653              0.522174   \n4                                        0.353101              0.523099   \n...                                           ...                   ...   \n2510                                     0.997960              0.523543   \n2511                                     0.807848              0.523459   \n2512                                     0.584891              0.523263   \n2513                                     0.349653              0.523082   \n2514                                     0.353101              0.522867   \n\n      Price Target - Mean  Price Close  \n0                0.059242     0.052686  \n1                0.071909     0.058281  \n2                0.086132     0.070417  \n3                0.094734     0.094673  \n4                0.090406     0.072375  \n...                   ...          ...  \n2510             0.032571     0.026335  \n2511             0.034101     0.026195  \n2512             0.035494     0.028245  \n2513             0.039104     0.035463  \n2514             0.038304     0.033877  \n\n[2394 rows x 10 columns]",
      "text/html": "<div>\n<style scoped>\n    .dataframe tbody tr th:only-of-type {\n        vertical-align: middle;\n    }\n\n    .dataframe tbody tr th {\n        vertical-align: top;\n    }\n\n    .dataframe thead th {\n        text-align: right;\n    }\n</style>\n<table border=\"1\" class=\"dataframe\">\n  <thead>\n    <tr style=\"text-align: right;\">\n      <th></th>\n      <th>Earnings Per Share – Coefficient of Variation</th>\n      <th>Revenue - Actual</th>\n      <th>Enterprise Value</th>\n      <th>Number of Analysts</th>\n      <th>Recommendation - Mean (1-5)</th>\n      <th>Recommendation - Mean (1-5).1</th>\n      <th>WACC Inflation Adjusted Risk Free Rate, (%)</th>\n      <th>Net Income after Tax</th>\n      <th>Price Target - Mean</th>\n      <th>Price Close</th>\n    </tr>\n  </thead>\n  <tbody>\n    <tr>\n      <th>0</th>\n      <td>0.535296</td>\n      <td>0.010538</td>\n      <td>0.026228</td>\n      <td>0.214286</td>\n      <td>0.376963</td>\n      <td>0.343454</td>\n      <td>0.997960</td>\n      <td>0.523164</td>\n      <td>0.059242</td>\n      <td>0.052686</td>\n    </tr>\n    <tr>\n      <th>1</th>\n      <td>0.534579</td>\n      <td>0.013420</td>\n      <td>0.026725</td>\n      <td>0.190476</td>\n      <td>0.343454</td>\n      <td>0.251307</td>\n      <td>0.807848</td>\n      <td>0.524572</td>\n      <td>0.071909</td>\n      <td>0.058281</td>\n    </tr>\n    <tr>\n      <th>2</th>\n      <td>0.544436</td>\n      <td>0.009212</td>\n      <td>0.027679</td>\n      <td>0.190476</td>\n      <td>0.251307</td>\n      <td>0.389528</td>\n      <td>0.584891</td>\n      <td>0.523035</td>\n      <td>0.086132</td>\n      <td>0.070417</td>\n    </tr>\n    <tr>\n      <th>3</th>\n      <td>0.533414</td>\n      <td>0.006746</td>\n      <td>0.029473</td>\n      <td>0.166667</td>\n      <td>0.389528</td>\n      <td>0.389528</td>\n      <td>0.349653</td>\n      <td>0.522174</td>\n      <td>0.094734</td>\n      <td>0.094673</td>\n    </tr>\n    <tr>\n      <th>4</th>\n      <td>0.531992</td>\n      <td>0.009205</td>\n      <td>0.027434</td>\n      <td>0.166667</td>\n      <td>0.389528</td>\n      <td>0.389528</td>\n      <td>0.353101</td>\n      <td>0.523099</td>\n      <td>0.090406</td>\n      <td>0.072375</td>\n    </tr>\n    <tr>\n      <th>...</th>\n      <td>...</td>\n      <td>...</td>\n      <td>...</td>\n      <td>...</td>\n      <td>...</td>\n      <td>...</td>\n      <td>...</td>\n      <td>...</td>\n      <td>...</td>\n      <td>...</td>\n    </tr>\n    <tr>\n      <th>2510</th>\n      <td>0.529258</td>\n      <td>0.015129</td>\n      <td>0.026945</td>\n      <td>0.285714</td>\n      <td>0.317128</td>\n      <td>0.251307</td>\n      <td>0.997960</td>\n      <td>0.523543</td>\n      <td>0.032571</td>\n      <td>0.026335</td>\n    </tr>\n    <tr>\n      <th>2511</th>\n      <td>0.531233</td>\n      <td>0.015325</td>\n      <td>0.027038</td>\n      <td>0.285714</td>\n      <td>0.251307</td>\n      <td>0.282024</td>\n      <td>0.807848</td>\n      <td>0.523459</td>\n      <td>0.034101</td>\n      <td>0.026195</td>\n    </tr>\n    <tr>\n      <th>2512</th>\n      <td>0.535444</td>\n      <td>0.015340</td>\n      <td>0.027380</td>\n      <td>0.261905</td>\n      <td>0.282024</td>\n      <td>0.317128</td>\n      <td>0.584891</td>\n      <td>0.523263</td>\n      <td>0.035494</td>\n      <td>0.028245</td>\n    </tr>\n    <tr>\n      <th>2513</th>\n      <td>0.528842</td>\n      <td>0.014253</td>\n      <td>0.028486</td>\n      <td>0.261905</td>\n      <td>0.317128</td>\n      <td>0.322191</td>\n      <td>0.349653</td>\n      <td>0.523082</td>\n      <td>0.039104</td>\n      <td>0.035463</td>\n    </tr>\n    <tr>\n      <th>2514</th>\n      <td>0.535598</td>\n      <td>0.013524</td>\n      <td>0.028319</td>\n      <td>0.238095</td>\n      <td>0.322191</td>\n      <td>0.322191</td>\n      <td>0.353101</td>\n      <td>0.522867</td>\n      <td>0.038304</td>\n      <td>0.033877</td>\n    </tr>\n  </tbody>\n</table>\n<p>2394 rows × 10 columns</p>\n</div>"
     },
     "execution_count": 106,
     "metadata": {},
     "output_type": "execute_result"
    }
   ],
   "source": [
    "rescale = df_accuracy_new.iloc[:,5:]\n",
    "rescale.drop(\"Number of Analysts\", axis= 1)\n",
    "\n",
    "for column in rescale:\n",
    "    rescale[column] = MinMaxScaler().fit_transform(np.array(rescale[column]).reshape(-1,1))\n",
    "\n",
    "\n",
    "rescale"
   ],
   "metadata": {
    "collapsed": false
   }
  },
  {
   "cell_type": "code",
   "execution_count": 107,
   "outputs": [
    {
     "data": {
      "text/plain": "<class 'statsmodels.iolib.summary.Summary'>\n\"\"\"\n                                     OLS Regression Results                                     \n================================================================================================\nDep. Variable:     Earnings Per Share - Actual Surprise   R-squared:                       0.051\nModel:                                              OLS   Adj. R-squared:                  0.047\nMethod:                                   Least Squares   F-statistic:                     12.82\nDate:                                  Fri, 24 Feb 2023   Prob (F-statistic):           4.60e-22\nTime:                                          17:31:48   Log-Likelihood:                -10039.\nNo. Observations:                                  2394   AIC:                         2.010e+04\nDf Residuals:                                      2383   BIC:                         2.016e+04\nDf Model:                                            10                                         \nCovariance Type:                              nonrobust                                         \n=================================================================================================================\n                                                    coef    std err          t      P>|t|      [0.025      0.975]\n-----------------------------------------------------------------------------------------------------------------\nconst                                           -47.3372      9.529     -4.968      0.000     -66.024     -28.651\nEarnings Per Share – Coefficient of Variation    81.5192      8.961      9.097      0.000      63.948      99.091\nRevenue - Actual                                  5.3992      4.264      1.266      0.206      -2.962      13.761\nEnterprise Value                                -16.5602      7.653     -2.164      0.031     -31.568      -1.552\nNumber of Analysts                               -1.9995      2.369     -0.844      0.399      -6.644       2.645\nRecommendation - Mean (1-5)                     -13.5237      6.819     -1.983      0.047     -26.896      -0.151\nRecommendation - Mean (1-5).1                    11.0513      6.821      1.620      0.105      -2.325      24.428\nWACC Inflation Adjusted Risk Free Rate, (%)      -7.2230      1.332     -5.424      0.000      -9.834      -4.612\nNet Income after Tax                             31.5105     15.318      2.057      0.040       1.472      61.549\nPrice Target - Mean                              23.0174     49.324      0.467      0.641     -73.705     119.739\nPrice Close                                     -20.5408     56.364     -0.364      0.716    -131.068      89.986\n==============================================================================\nOmnibus:                      299.391   Durbin-Watson:                   1.733\nProb(Omnibus):                  0.000   Jarque-Bera (JB):             2801.829\nSkew:                           0.213   Prob(JB):                         0.00\nKurtosis:                       8.283   Cond. No.                         355.\n==============================================================================\n\nNotes:\n[1] Standard Errors assume that the covariance matrix of the errors is correctly specified.\n\"\"\"",
      "text/html": "<table class=\"simpletable\">\n<caption>OLS Regression Results</caption>\n<tr>\n  <th>Dep. Variable:</th>    <td>Earnings Per Share - Actual Surprise</td> <th>  R-squared:         </th> <td>   0.051</td> \n</tr>\n<tr>\n  <th>Model:</th>                             <td>OLS</td>                 <th>  Adj. R-squared:    </th> <td>   0.047</td> \n</tr>\n<tr>\n  <th>Method:</th>                       <td>Least Squares</td>            <th>  F-statistic:       </th> <td>   12.82</td> \n</tr>\n<tr>\n  <th>Date:</th>                       <td>Fri, 24 Feb 2023</td>           <th>  Prob (F-statistic):</th> <td>4.60e-22</td> \n</tr>\n<tr>\n  <th>Time:</th>                           <td>17:31:48</td>               <th>  Log-Likelihood:    </th> <td> -10039.</td> \n</tr>\n<tr>\n  <th>No. Observations:</th>                <td>  2394</td>                <th>  AIC:               </th> <td>2.010e+04</td>\n</tr>\n<tr>\n  <th>Df Residuals:</th>                    <td>  2383</td>                <th>  BIC:               </th> <td>2.016e+04</td>\n</tr>\n<tr>\n  <th>Df Model:</th>                        <td>    10</td>                <th>                     </th>     <td> </td>    \n</tr>\n<tr>\n  <th>Covariance Type:</th>                <td>nonrobust</td>              <th>                     </th>     <td> </td>    \n</tr>\n</table>\n<table class=\"simpletable\">\n<tr>\n                        <td></td>                           <th>coef</th>     <th>std err</th>      <th>t</th>      <th>P>|t|</th>  <th>[0.025</th>    <th>0.975]</th>  \n</tr>\n<tr>\n  <th>const</th>                                         <td>  -47.3372</td> <td>    9.529</td> <td>   -4.968</td> <td> 0.000</td> <td>  -66.024</td> <td>  -28.651</td>\n</tr>\n<tr>\n  <th>Earnings Per Share – Coefficient of Variation</th> <td>   81.5192</td> <td>    8.961</td> <td>    9.097</td> <td> 0.000</td> <td>   63.948</td> <td>   99.091</td>\n</tr>\n<tr>\n  <th>Revenue - Actual</th>                              <td>    5.3992</td> <td>    4.264</td> <td>    1.266</td> <td> 0.206</td> <td>   -2.962</td> <td>   13.761</td>\n</tr>\n<tr>\n  <th>Enterprise Value</th>                              <td>  -16.5602</td> <td>    7.653</td> <td>   -2.164</td> <td> 0.031</td> <td>  -31.568</td> <td>   -1.552</td>\n</tr>\n<tr>\n  <th>Number of Analysts</th>                            <td>   -1.9995</td> <td>    2.369</td> <td>   -0.844</td> <td> 0.399</td> <td>   -6.644</td> <td>    2.645</td>\n</tr>\n<tr>\n  <th>Recommendation - Mean (1-5)</th>                   <td>  -13.5237</td> <td>    6.819</td> <td>   -1.983</td> <td> 0.047</td> <td>  -26.896</td> <td>   -0.151</td>\n</tr>\n<tr>\n  <th>Recommendation - Mean (1-5).1</th>                 <td>   11.0513</td> <td>    6.821</td> <td>    1.620</td> <td> 0.105</td> <td>   -2.325</td> <td>   24.428</td>\n</tr>\n<tr>\n  <th>WACC Inflation Adjusted Risk Free Rate, (%)</th>   <td>   -7.2230</td> <td>    1.332</td> <td>   -5.424</td> <td> 0.000</td> <td>   -9.834</td> <td>   -4.612</td>\n</tr>\n<tr>\n  <th>Net Income after Tax</th>                          <td>   31.5105</td> <td>   15.318</td> <td>    2.057</td> <td> 0.040</td> <td>    1.472</td> <td>   61.549</td>\n</tr>\n<tr>\n  <th>Price Target - Mean</th>                           <td>   23.0174</td> <td>   49.324</td> <td>    0.467</td> <td> 0.641</td> <td>  -73.705</td> <td>  119.739</td>\n</tr>\n<tr>\n  <th>Price Close</th>                                   <td>  -20.5408</td> <td>   56.364</td> <td>   -0.364</td> <td> 0.716</td> <td> -131.068</td> <td>   89.986</td>\n</tr>\n</table>\n<table class=\"simpletable\">\n<tr>\n  <th>Omnibus:</th>       <td>299.391</td> <th>  Durbin-Watson:     </th> <td>   1.733</td>\n</tr>\n<tr>\n  <th>Prob(Omnibus):</th> <td> 0.000</td>  <th>  Jarque-Bera (JB):  </th> <td>2801.829</td>\n</tr>\n<tr>\n  <th>Skew:</th>          <td> 0.213</td>  <th>  Prob(JB):          </th> <td>    0.00</td>\n</tr>\n<tr>\n  <th>Kurtosis:</th>      <td> 8.283</td>  <th>  Cond. No.          </th> <td>    355.</td>\n</tr>\n</table><br/><br/>Notes:<br/>[1] Standard Errors assume that the covariance matrix of the errors is correctly specified."
     },
     "execution_count": 107,
     "metadata": {},
     "output_type": "execute_result"
    }
   ],
   "source": [
    "y = df_accuracy_new[\"Earnings Per Share - Actual Surprise\"]\n",
    "#X = df_accuracy_new[['Revenue - Actual', 'Net Income after Tax']]\n",
    "X = rescale\n",
    "X = sm.add_constant(X)\n",
    "\n",
    "model = sm.OLS(y, X).fit()\n",
    "\n",
    "model.summary()"
   ],
   "metadata": {
    "collapsed": false
   }
  },
  {
   "cell_type": "code",
   "execution_count": 107,
   "outputs": [],
   "source": [],
   "metadata": {
    "collapsed": false
   }
  }
 ],
 "metadata": {
  "kernelspec": {
   "display_name": "AnalystForecast",
   "language": "python",
   "name": "python3"
  },
  "language_info": {
   "name": "python",
   "version": "3.11.0"
  },
  "orig_nbformat": 4,
  "vscode": {
   "interpreter": {
    "hash": "264d128b47a19451ae7876f5ee246d3f7de9751940a5ebe47f15ec6626e5a91f"
   }
  }
 },
 "nbformat": 4,
 "nbformat_minor": 2
}
