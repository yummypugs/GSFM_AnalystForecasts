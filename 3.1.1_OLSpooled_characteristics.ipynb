{
 "cells": [
  {
   "cell_type": "code",
   "execution_count": 2,
   "metadata": {},
   "outputs": [],
   "source": [
    "import pandas as pd\n",
    "import statsmodels.api as sm\n",
    "from sklearn.linear_model import LinearRegression\n",
    "from sklearn.preprocessing import MinMaxScaler\n",
    "from sklearn.preprocessing import StandardScaler\n",
    "\n",
    "import numpy as np\n",
    "\n",
    "from linearmodels.panel import PanelOLS\n",
    "import datetime as dt"
   ]
  },
  {
   "attachments": {},
   "cell_type": "markdown",
   "metadata": {},
   "source": [
    "# Characteristcs OLS\n",
    "\n",
    "Professor said we should start with a regular OLS Regression.\n",
    "I quickly looked into this and think a random effects panel regression would probably fit our data better (still need to read more into this)\n",
    "So probably we can first do a regular OLS and than compare it to the random effects panel regression. Just some initial thoughts though!!!\n",
    "Here is some intial code to run them:\n"
   ]
  },
  {
   "cell_type": "code",
   "execution_count": 3,
   "metadata": {},
   "outputs": [
    {
     "data": {
      "text/plain": "      Instrument        Date  Earnings Per Share - Actual Surprise  \\\n0        POOL.OQ  2022-10-01                                 4.196   \n1        POOL.OQ  2022-07-01                                 1.503   \n2        POOL.OQ  2022-04-01                                34.342   \n3        POOL.OQ  2022-01-01                                40.267   \n4        POOL.OQ  2021-10-01                                17.194   \n...          ...         ...                                   ...   \n20115      AVY.N  2014-01-01                                 1.471   \n20116      AVY.N  2013-10-01                                 8.095   \n20117      AVY.N  2013-07-01                                 1.068   \n20118      AVY.N  2013-04-01                                 2.482   \n20119      AVY.N  2013-01-01                                11.178   \n\n       Revenue - Actual  Net Income after Tax  \n0          1.615339e+09           189965000.0  \n1          2.055818e+09           307205000.0  \n2          1.412650e+09           179203000.0  \n3          1.035557e+09           107542000.0  \n4          1.411448e+09           184573000.0  \n...                 ...                   ...  \n20115      1.583900e+09            42100000.0  \n20116      1.504900e+09            62000000.0  \n20117      1.552300e+09            70800000.0  \n20118      1.498900e+09            66800000.0  \n20119      1.532200e+09            33400000.0  \n\n[20120 rows x 5 columns]",
      "text/html": "<div>\n<style scoped>\n    .dataframe tbody tr th:only-of-type {\n        vertical-align: middle;\n    }\n\n    .dataframe tbody tr th {\n        vertical-align: top;\n    }\n\n    .dataframe thead th {\n        text-align: right;\n    }\n</style>\n<table border=\"1\" class=\"dataframe\">\n  <thead>\n    <tr style=\"text-align: right;\">\n      <th></th>\n      <th>Instrument</th>\n      <th>Date</th>\n      <th>Earnings Per Share - Actual Surprise</th>\n      <th>Revenue - Actual</th>\n      <th>Net Income after Tax</th>\n    </tr>\n  </thead>\n  <tbody>\n    <tr>\n      <th>0</th>\n      <td>POOL.OQ</td>\n      <td>2022-10-01</td>\n      <td>4.196</td>\n      <td>1.615339e+09</td>\n      <td>189965000.0</td>\n    </tr>\n    <tr>\n      <th>1</th>\n      <td>POOL.OQ</td>\n      <td>2022-07-01</td>\n      <td>1.503</td>\n      <td>2.055818e+09</td>\n      <td>307205000.0</td>\n    </tr>\n    <tr>\n      <th>2</th>\n      <td>POOL.OQ</td>\n      <td>2022-04-01</td>\n      <td>34.342</td>\n      <td>1.412650e+09</td>\n      <td>179203000.0</td>\n    </tr>\n    <tr>\n      <th>3</th>\n      <td>POOL.OQ</td>\n      <td>2022-01-01</td>\n      <td>40.267</td>\n      <td>1.035557e+09</td>\n      <td>107542000.0</td>\n    </tr>\n    <tr>\n      <th>4</th>\n      <td>POOL.OQ</td>\n      <td>2021-10-01</td>\n      <td>17.194</td>\n      <td>1.411448e+09</td>\n      <td>184573000.0</td>\n    </tr>\n    <tr>\n      <th>...</th>\n      <td>...</td>\n      <td>...</td>\n      <td>...</td>\n      <td>...</td>\n      <td>...</td>\n    </tr>\n    <tr>\n      <th>20115</th>\n      <td>AVY.N</td>\n      <td>2014-01-01</td>\n      <td>1.471</td>\n      <td>1.583900e+09</td>\n      <td>42100000.0</td>\n    </tr>\n    <tr>\n      <th>20116</th>\n      <td>AVY.N</td>\n      <td>2013-10-01</td>\n      <td>8.095</td>\n      <td>1.504900e+09</td>\n      <td>62000000.0</td>\n    </tr>\n    <tr>\n      <th>20117</th>\n      <td>AVY.N</td>\n      <td>2013-07-01</td>\n      <td>1.068</td>\n      <td>1.552300e+09</td>\n      <td>70800000.0</td>\n    </tr>\n    <tr>\n      <th>20118</th>\n      <td>AVY.N</td>\n      <td>2013-04-01</td>\n      <td>2.482</td>\n      <td>1.498900e+09</td>\n      <td>66800000.0</td>\n    </tr>\n    <tr>\n      <th>20119</th>\n      <td>AVY.N</td>\n      <td>2013-01-01</td>\n      <td>11.178</td>\n      <td>1.532200e+09</td>\n      <td>33400000.0</td>\n    </tr>\n  </tbody>\n</table>\n<p>20120 rows × 5 columns</p>\n</div>"
     },
     "execution_count": 3,
     "metadata": {},
     "output_type": "execute_result"
    }
   ],
   "source": [
    "#decide which df to use\n",
    "df = pd.read_csv(\"Dataframes/characteristics.csv\")\n",
    "#df = df.loc[:, [\"Instrument\", \"Date\", \"Earnings Per Share - Actual Surprise\", \"Revenue - Actual\", \"Net Income after Tax\"]]\n",
    "\n",
    "df"
   ]
  },
  {
   "attachments": {},
   "cell_type": "markdown",
   "metadata": {},
   "source": [
    "#### OLS Regression"
   ]
  },
  {
   "cell_type": "code",
   "execution_count": 4,
   "outputs": [
    {
     "data": {
      "text/plain": "Instrument                              0\nDate                                    0\nEarnings Per Share - Actual Surprise    0\nRevenue - Actual                        0\nNet Income after Tax                    0\ndtype: int64"
     },
     "execution_count": 4,
     "metadata": {},
     "output_type": "execute_result"
    }
   ],
   "source": [
    "#identifying outliers and replacing them with NA\n",
    "summary_stats = df[\"Earnings Per Share - Actual Surprise\"].describe()\n",
    "Q1 = summary_stats.loc['25%']\n",
    "Q3 = summary_stats.loc['75%']\n",
    "IQR = Q3 - Q1\n",
    "threshold = 7 #1.5 is standard threshold but we still want to keep enough variation in the data so setting threshol higher here\n",
    "surprise_outliers_removed = df[\"Earnings Per Share - Actual Surprise\"].loc[~((df[\"Earnings Per Share - Actual Surprise\"] < (Q1 - threshold * IQR)) | (df[\"Earnings Per Share - Actual Surprise\"] > (Q3 + threshold * IQR)))]\n",
    "df_accuracy_new = df.copy()\n",
    "df_accuracy_new[\"Earnings Per Share - Actual Surprise\"] = surprise_outliers_removed\n",
    "df_accuracy_new = df_accuracy_new.dropna(subset=[\"Earnings Per Share - Actual Surprise\"])\n",
    "#df_accuracy_new[\"Recommendation - Mean (1-5)\"] = df_accuracy_new[\"Recommendation - Mean (1-5)\"].fillna(0)\n",
    "df_accuracy_new = df_accuracy_new.dropna()\n",
    "df_accuracy_new.isna().sum()\n"
   ],
   "metadata": {
    "collapsed": false
   }
  },
  {
   "cell_type": "code",
   "execution_count": 5,
   "outputs": [
    {
     "data": {
      "text/plain": "      Instrument        Date  Earnings Per Share - Actual Surprise  \\\n0        POOL.OQ  2022-10-01                                 4.196   \n1        POOL.OQ  2022-07-01                                 1.503   \n2        POOL.OQ  2022-04-01                                34.342   \n3        POOL.OQ  2022-01-01                                40.267   \n4        POOL.OQ  2021-10-01                                17.194   \n...          ...         ...                                   ...   \n20115      AVY.N  2014-01-01                                 1.471   \n20116      AVY.N  2013-10-01                                 8.095   \n20117      AVY.N  2013-07-01                                 1.068   \n20118      AVY.N  2013-04-01                                 2.482   \n20119      AVY.N  2013-01-01                                11.178   \n\n       Revenue - Actual  Net Income after Tax  \n0          1.615339e+09           189965000.0  \n1          2.055818e+09           307205000.0  \n2          1.412650e+09           179203000.0  \n3          1.035557e+09           107542000.0  \n4          1.411448e+09           184573000.0  \n...                 ...                   ...  \n20115      1.583900e+09            42100000.0  \n20116      1.504900e+09            62000000.0  \n20117      1.552300e+09            70800000.0  \n20118      1.498900e+09            66800000.0  \n20119      1.532200e+09            33400000.0  \n\n[18603 rows x 5 columns]",
      "text/html": "<div>\n<style scoped>\n    .dataframe tbody tr th:only-of-type {\n        vertical-align: middle;\n    }\n\n    .dataframe tbody tr th {\n        vertical-align: top;\n    }\n\n    .dataframe thead th {\n        text-align: right;\n    }\n</style>\n<table border=\"1\" class=\"dataframe\">\n  <thead>\n    <tr style=\"text-align: right;\">\n      <th></th>\n      <th>Instrument</th>\n      <th>Date</th>\n      <th>Earnings Per Share - Actual Surprise</th>\n      <th>Revenue - Actual</th>\n      <th>Net Income after Tax</th>\n    </tr>\n  </thead>\n  <tbody>\n    <tr>\n      <th>0</th>\n      <td>POOL.OQ</td>\n      <td>2022-10-01</td>\n      <td>4.196</td>\n      <td>1.615339e+09</td>\n      <td>189965000.0</td>\n    </tr>\n    <tr>\n      <th>1</th>\n      <td>POOL.OQ</td>\n      <td>2022-07-01</td>\n      <td>1.503</td>\n      <td>2.055818e+09</td>\n      <td>307205000.0</td>\n    </tr>\n    <tr>\n      <th>2</th>\n      <td>POOL.OQ</td>\n      <td>2022-04-01</td>\n      <td>34.342</td>\n      <td>1.412650e+09</td>\n      <td>179203000.0</td>\n    </tr>\n    <tr>\n      <th>3</th>\n      <td>POOL.OQ</td>\n      <td>2022-01-01</td>\n      <td>40.267</td>\n      <td>1.035557e+09</td>\n      <td>107542000.0</td>\n    </tr>\n    <tr>\n      <th>4</th>\n      <td>POOL.OQ</td>\n      <td>2021-10-01</td>\n      <td>17.194</td>\n      <td>1.411448e+09</td>\n      <td>184573000.0</td>\n    </tr>\n    <tr>\n      <th>...</th>\n      <td>...</td>\n      <td>...</td>\n      <td>...</td>\n      <td>...</td>\n      <td>...</td>\n    </tr>\n    <tr>\n      <th>20115</th>\n      <td>AVY.N</td>\n      <td>2014-01-01</td>\n      <td>1.471</td>\n      <td>1.583900e+09</td>\n      <td>42100000.0</td>\n    </tr>\n    <tr>\n      <th>20116</th>\n      <td>AVY.N</td>\n      <td>2013-10-01</td>\n      <td>8.095</td>\n      <td>1.504900e+09</td>\n      <td>62000000.0</td>\n    </tr>\n    <tr>\n      <th>20117</th>\n      <td>AVY.N</td>\n      <td>2013-07-01</td>\n      <td>1.068</td>\n      <td>1.552300e+09</td>\n      <td>70800000.0</td>\n    </tr>\n    <tr>\n      <th>20118</th>\n      <td>AVY.N</td>\n      <td>2013-04-01</td>\n      <td>2.482</td>\n      <td>1.498900e+09</td>\n      <td>66800000.0</td>\n    </tr>\n    <tr>\n      <th>20119</th>\n      <td>AVY.N</td>\n      <td>2013-01-01</td>\n      <td>11.178</td>\n      <td>1.532200e+09</td>\n      <td>33400000.0</td>\n    </tr>\n  </tbody>\n</table>\n<p>18603 rows × 5 columns</p>\n</div>"
     },
     "execution_count": 5,
     "metadata": {},
     "output_type": "execute_result"
    }
   ],
   "source": [
    "df_accuracy_new"
   ],
   "metadata": {
    "collapsed": false
   }
  },
  {
   "cell_type": "code",
   "execution_count": 6,
   "outputs": [
    {
     "data": {
      "text/plain": "      Instrument        Date  Earnings Per Share - Actual Surprise  \\\n0        POOL.OQ  2022-10-01                                 4.196   \n1        POOL.OQ  2022-07-01                                 1.503   \n2        POOL.OQ  2022-04-01                                34.342   \n3        POOL.OQ  2022-01-01                                40.267   \n4        POOL.OQ  2021-10-01                                17.194   \n...          ...         ...                                   ...   \n20115      AVY.N  2014-01-01                                 1.471   \n20116      AVY.N  2013-10-01                                 8.095   \n20117      AVY.N  2013-07-01                                 1.068   \n20118      AVY.N  2013-04-01                                 2.482   \n20119      AVY.N  2013-01-01                                11.178   \n\n       Revenue - Actual  Net Income after Tax  \n0              0.065637              0.556805  \n1              0.068358              0.558114  \n2              0.064385              0.556685  \n3              0.062055              0.555885  \n4              0.064377              0.556745  \n...                 ...                   ...  \n20115          0.065443              0.555155  \n20116          0.064955              0.555377  \n20117          0.065247              0.555475  \n20118          0.064917              0.555431  \n20119          0.065123              0.555058  \n\n[18603 rows x 5 columns]",
      "text/html": "<div>\n<style scoped>\n    .dataframe tbody tr th:only-of-type {\n        vertical-align: middle;\n    }\n\n    .dataframe tbody tr th {\n        vertical-align: top;\n    }\n\n    .dataframe thead th {\n        text-align: right;\n    }\n</style>\n<table border=\"1\" class=\"dataframe\">\n  <thead>\n    <tr style=\"text-align: right;\">\n      <th></th>\n      <th>Instrument</th>\n      <th>Date</th>\n      <th>Earnings Per Share - Actual Surprise</th>\n      <th>Revenue - Actual</th>\n      <th>Net Income after Tax</th>\n    </tr>\n  </thead>\n  <tbody>\n    <tr>\n      <th>0</th>\n      <td>POOL.OQ</td>\n      <td>2022-10-01</td>\n      <td>4.196</td>\n      <td>0.065637</td>\n      <td>0.556805</td>\n    </tr>\n    <tr>\n      <th>1</th>\n      <td>POOL.OQ</td>\n      <td>2022-07-01</td>\n      <td>1.503</td>\n      <td>0.068358</td>\n      <td>0.558114</td>\n    </tr>\n    <tr>\n      <th>2</th>\n      <td>POOL.OQ</td>\n      <td>2022-04-01</td>\n      <td>34.342</td>\n      <td>0.064385</td>\n      <td>0.556685</td>\n    </tr>\n    <tr>\n      <th>3</th>\n      <td>POOL.OQ</td>\n      <td>2022-01-01</td>\n      <td>40.267</td>\n      <td>0.062055</td>\n      <td>0.555885</td>\n    </tr>\n    <tr>\n      <th>4</th>\n      <td>POOL.OQ</td>\n      <td>2021-10-01</td>\n      <td>17.194</td>\n      <td>0.064377</td>\n      <td>0.556745</td>\n    </tr>\n    <tr>\n      <th>...</th>\n      <td>...</td>\n      <td>...</td>\n      <td>...</td>\n      <td>...</td>\n      <td>...</td>\n    </tr>\n    <tr>\n      <th>20115</th>\n      <td>AVY.N</td>\n      <td>2014-01-01</td>\n      <td>1.471</td>\n      <td>0.065443</td>\n      <td>0.555155</td>\n    </tr>\n    <tr>\n      <th>20116</th>\n      <td>AVY.N</td>\n      <td>2013-10-01</td>\n      <td>8.095</td>\n      <td>0.064955</td>\n      <td>0.555377</td>\n    </tr>\n    <tr>\n      <th>20117</th>\n      <td>AVY.N</td>\n      <td>2013-07-01</td>\n      <td>1.068</td>\n      <td>0.065247</td>\n      <td>0.555475</td>\n    </tr>\n    <tr>\n      <th>20118</th>\n      <td>AVY.N</td>\n      <td>2013-04-01</td>\n      <td>2.482</td>\n      <td>0.064917</td>\n      <td>0.555431</td>\n    </tr>\n    <tr>\n      <th>20119</th>\n      <td>AVY.N</td>\n      <td>2013-01-01</td>\n      <td>11.178</td>\n      <td>0.065123</td>\n      <td>0.555058</td>\n    </tr>\n  </tbody>\n</table>\n<p>18603 rows × 5 columns</p>\n</div>"
     },
     "execution_count": 6,
     "metadata": {},
     "output_type": "execute_result"
    }
   ],
   "source": [
    "\n",
    "\n",
    "rescale = df_accuracy_new\n",
    "#rescale[\"Earnings Per Share - Actual Surprise\"] = MinMaxScaler().fit_transform(np.array(rescale[\"Earnings Per Share - Actual Surprise\"]).reshape(-1,1))\n",
    "rescale[\"Revenue - Actual\"] = MinMaxScaler().fit_transform(np.array(rescale[\"Revenue - Actual\"]).reshape(-1,1))\n",
    "rescale[\"Net Income after Tax\"] = MinMaxScaler().fit_transform(np.array(rescale[\"Net Income after Tax\"]).reshape(-1,1))\n",
    "\n",
    "rescale\n"
   ],
   "metadata": {
    "collapsed": false
   }
  },
  {
   "cell_type": "code",
   "execution_count": 7,
   "metadata": {},
   "outputs": [
    {
     "data": {
      "text/plain": "<class 'statsmodels.iolib.summary.Summary'>\n\"\"\"\n                                     OLS Regression Results                                     \n================================================================================================\nDep. Variable:     Earnings Per Share - Actual Surprise   R-squared:                       0.001\nModel:                                              OLS   Adj. R-squared:                  0.001\nMethod:                                   Least Squares   F-statistic:                     11.73\nDate:                                  Fri, 24 Feb 2023   Prob (F-statistic):           8.10e-06\nTime:                                          16:55:07   Log-Likelihood:                -79225.\nNo. Observations:                                 18603   AIC:                         1.585e+05\nDf Residuals:                                     18600   BIC:                         1.585e+05\nDf Model:                                             2                                         \nCovariance Type:                              nonrobust                                         \n========================================================================================\n                           coef    std err          t      P>|t|      [0.025      0.975]\n----------------------------------------------------------------------------------------\nconst                  -12.2582      4.224     -2.902      0.004     -20.537      -3.979\nRevenue - Actual        -1.9242      2.041     -0.943      0.346      -5.925       2.076\nNet Income after Tax    34.6555      7.698      4.502      0.000      19.568      49.743\n==============================================================================\nOmnibus:                     3775.143   Durbin-Watson:                   1.627\nProb(Omnibus):                  0.000   Jarque-Bera (JB):            33769.713\nSkew:                           0.722   Prob(JB):                         0.00\nKurtosis:                       9.440   Cond. No.                         81.2\n==============================================================================\n\nNotes:\n[1] Standard Errors assume that the covariance matrix of the errors is correctly specified.\n\"\"\"",
      "text/html": "<table class=\"simpletable\">\n<caption>OLS Regression Results</caption>\n<tr>\n  <th>Dep. Variable:</th>    <td>Earnings Per Share - Actual Surprise</td> <th>  R-squared:         </th> <td>   0.001</td> \n</tr>\n<tr>\n  <th>Model:</th>                             <td>OLS</td>                 <th>  Adj. R-squared:    </th> <td>   0.001</td> \n</tr>\n<tr>\n  <th>Method:</th>                       <td>Least Squares</td>            <th>  F-statistic:       </th> <td>   11.73</td> \n</tr>\n<tr>\n  <th>Date:</th>                       <td>Fri, 24 Feb 2023</td>           <th>  Prob (F-statistic):</th> <td>8.10e-06</td> \n</tr>\n<tr>\n  <th>Time:</th>                           <td>16:55:07</td>               <th>  Log-Likelihood:    </th> <td> -79225.</td> \n</tr>\n<tr>\n  <th>No. Observations:</th>                <td> 18603</td>                <th>  AIC:               </th> <td>1.585e+05</td>\n</tr>\n<tr>\n  <th>Df Residuals:</th>                    <td> 18600</td>                <th>  BIC:               </th> <td>1.585e+05</td>\n</tr>\n<tr>\n  <th>Df Model:</th>                        <td>     2</td>                <th>                     </th>     <td> </td>    \n</tr>\n<tr>\n  <th>Covariance Type:</th>                <td>nonrobust</td>              <th>                     </th>     <td> </td>    \n</tr>\n</table>\n<table class=\"simpletable\">\n<tr>\n            <td></td>              <th>coef</th>     <th>std err</th>      <th>t</th>      <th>P>|t|</th>  <th>[0.025</th>    <th>0.975]</th>  \n</tr>\n<tr>\n  <th>const</th>                <td>  -12.2582</td> <td>    4.224</td> <td>   -2.902</td> <td> 0.004</td> <td>  -20.537</td> <td>   -3.979</td>\n</tr>\n<tr>\n  <th>Revenue - Actual</th>     <td>   -1.9242</td> <td>    2.041</td> <td>   -0.943</td> <td> 0.346</td> <td>   -5.925</td> <td>    2.076</td>\n</tr>\n<tr>\n  <th>Net Income after Tax</th> <td>   34.6555</td> <td>    7.698</td> <td>    4.502</td> <td> 0.000</td> <td>   19.568</td> <td>   49.743</td>\n</tr>\n</table>\n<table class=\"simpletable\">\n<tr>\n  <th>Omnibus:</th>       <td>3775.143</td> <th>  Durbin-Watson:     </th> <td>   1.627</td> \n</tr>\n<tr>\n  <th>Prob(Omnibus):</th>  <td> 0.000</td>  <th>  Jarque-Bera (JB):  </th> <td>33769.713</td>\n</tr>\n<tr>\n  <th>Skew:</th>           <td> 0.722</td>  <th>  Prob(JB):          </th> <td>    0.00</td> \n</tr>\n<tr>\n  <th>Kurtosis:</th>       <td> 9.440</td>  <th>  Cond. No.          </th> <td>    81.2</td> \n</tr>\n</table><br/><br/>Notes:<br/>[1] Standard Errors assume that the covariance matrix of the errors is correctly specified."
     },
     "execution_count": 7,
     "metadata": {},
     "output_type": "execute_result"
    }
   ],
   "source": [
    "y = rescale[\"Earnings Per Share - Actual Surprise\"]\n",
    "#X = df_accuracy_new[['Revenue - Actual', 'Net Income after Tax']]\n",
    "X = rescale.iloc[:, 3:]\n",
    "X = sm.add_constant(X)\n",
    "\n",
    "model = sm.OLS(y, X).fit()\n",
    "\n",
    "model.summary()"
   ]
  },
  {
   "cell_type": "code",
   "execution_count": 8,
   "outputs": [],
   "source": [
    "y = df_accuracy_new[\"Earnings Per Share - Actual Surprise\"]\n",
    "#X = df_accuracy_new[['Revenue - Actual', 'Net Income after Tax']]\n",
    "X = df_accuracy_new.iloc[:, 3:]\n",
    "\n",
    "scaler = StandardScaler()\n",
    "X = scaler.fit_transform(X)\n",
    "\n",
    "reg= LinearRegression().fit(X,y)"
   ],
   "metadata": {
    "collapsed": false
   }
  },
  {
   "cell_type": "code",
   "execution_count": 9,
   "outputs": [
    {
     "data": {
      "text/plain": "LinearRegression()",
      "text/html": "<style>#sk-container-id-1 {color: black;background-color: white;}#sk-container-id-1 pre{padding: 0;}#sk-container-id-1 div.sk-toggleable {background-color: white;}#sk-container-id-1 label.sk-toggleable__label {cursor: pointer;display: block;width: 100%;margin-bottom: 0;padding: 0.3em;box-sizing: border-box;text-align: center;}#sk-container-id-1 label.sk-toggleable__label-arrow:before {content: \"▸\";float: left;margin-right: 0.25em;color: #696969;}#sk-container-id-1 label.sk-toggleable__label-arrow:hover:before {color: black;}#sk-container-id-1 div.sk-estimator:hover label.sk-toggleable__label-arrow:before {color: black;}#sk-container-id-1 div.sk-toggleable__content {max-height: 0;max-width: 0;overflow: hidden;text-align: left;background-color: #f0f8ff;}#sk-container-id-1 div.sk-toggleable__content pre {margin: 0.2em;color: black;border-radius: 0.25em;background-color: #f0f8ff;}#sk-container-id-1 input.sk-toggleable__control:checked~div.sk-toggleable__content {max-height: 200px;max-width: 100%;overflow: auto;}#sk-container-id-1 input.sk-toggleable__control:checked~label.sk-toggleable__label-arrow:before {content: \"▾\";}#sk-container-id-1 div.sk-estimator input.sk-toggleable__control:checked~label.sk-toggleable__label {background-color: #d4ebff;}#sk-container-id-1 div.sk-label input.sk-toggleable__control:checked~label.sk-toggleable__label {background-color: #d4ebff;}#sk-container-id-1 input.sk-hidden--visually {border: 0;clip: rect(1px 1px 1px 1px);clip: rect(1px, 1px, 1px, 1px);height: 1px;margin: -1px;overflow: hidden;padding: 0;position: absolute;width: 1px;}#sk-container-id-1 div.sk-estimator {font-family: monospace;background-color: #f0f8ff;border: 1px dotted black;border-radius: 0.25em;box-sizing: border-box;margin-bottom: 0.5em;}#sk-container-id-1 div.sk-estimator:hover {background-color: #d4ebff;}#sk-container-id-1 div.sk-parallel-item::after {content: \"\";width: 100%;border-bottom: 1px solid gray;flex-grow: 1;}#sk-container-id-1 div.sk-label:hover label.sk-toggleable__label {background-color: #d4ebff;}#sk-container-id-1 div.sk-serial::before {content: \"\";position: absolute;border-left: 1px solid gray;box-sizing: border-box;top: 0;bottom: 0;left: 50%;z-index: 0;}#sk-container-id-1 div.sk-serial {display: flex;flex-direction: column;align-items: center;background-color: white;padding-right: 0.2em;padding-left: 0.2em;position: relative;}#sk-container-id-1 div.sk-item {position: relative;z-index: 1;}#sk-container-id-1 div.sk-parallel {display: flex;align-items: stretch;justify-content: center;background-color: white;position: relative;}#sk-container-id-1 div.sk-item::before, #sk-container-id-1 div.sk-parallel-item::before {content: \"\";position: absolute;border-left: 1px solid gray;box-sizing: border-box;top: 0;bottom: 0;left: 50%;z-index: -1;}#sk-container-id-1 div.sk-parallel-item {display: flex;flex-direction: column;z-index: 1;position: relative;background-color: white;}#sk-container-id-1 div.sk-parallel-item:first-child::after {align-self: flex-end;width: 50%;}#sk-container-id-1 div.sk-parallel-item:last-child::after {align-self: flex-start;width: 50%;}#sk-container-id-1 div.sk-parallel-item:only-child::after {width: 0;}#sk-container-id-1 div.sk-dashed-wrapped {border: 1px dashed gray;margin: 0 0.4em 0.5em 0.4em;box-sizing: border-box;padding-bottom: 0.4em;background-color: white;}#sk-container-id-1 div.sk-label label {font-family: monospace;font-weight: bold;display: inline-block;line-height: 1.2em;}#sk-container-id-1 div.sk-label-container {text-align: center;}#sk-container-id-1 div.sk-container {/* jupyter's `normalize.less` sets `[hidden] { display: none; }` but bootstrap.min.css set `[hidden] { display: none !important; }` so we also need the `!important` here to be able to override the default hidden behavior on the sphinx rendered scikit-learn.org. See: https://github.com/scikit-learn/scikit-learn/issues/21755 */display: inline-block !important;position: relative;}#sk-container-id-1 div.sk-text-repr-fallback {display: none;}</style><div id=\"sk-container-id-1\" class=\"sk-top-container\"><div class=\"sk-text-repr-fallback\"><pre>LinearRegression()</pre><b>In a Jupyter environment, please rerun this cell to show the HTML representation or trust the notebook. <br />On GitHub, the HTML representation is unable to render, please try loading this page with nbviewer.org.</b></div><div class=\"sk-container\" hidden><div class=\"sk-item\"><div class=\"sk-estimator sk-toggleable\"><input class=\"sk-toggleable__control sk-hidden--visually\" id=\"sk-estimator-id-1\" type=\"checkbox\" checked><label for=\"sk-estimator-id-1\" class=\"sk-toggleable__label sk-toggleable__label-arrow\">LinearRegression</label><div class=\"sk-toggleable__content\"><pre>LinearRegression()</pre></div></div></div></div></div>"
     },
     "execution_count": 9,
     "metadata": {},
     "output_type": "execute_result"
    }
   ],
   "source": [
    "reg"
   ],
   "metadata": {
    "collapsed": false
   }
  },
  {
   "attachments": {},
   "cell_type": "markdown",
   "metadata": {},
   "source": [
    "#### Random Effects Panel Regression"
   ]
  },
  {
   "cell_type": "code",
   "execution_count": 10,
   "outputs": [
    {
     "data": {
      "text/plain": "Instrument                                      object\nDate                                    datetime64[ns]\nEarnings Per Share - Actual Surprise           float64\nRevenue - Actual                               float64\nNet Income after Tax                           float64\ndtype: object"
     },
     "execution_count": 10,
     "metadata": {},
     "output_type": "execute_result"
    }
   ],
   "source": [
    "df_accuracy_new['Date'] = pd.to_datetime(df_accuracy_new['Date'], infer_datetime_format=True).dt.tz_localize(None)\n",
    "df_accuracy_new.dtypes"
   ],
   "metadata": {
    "collapsed": false
   }
  },
  {
   "cell_type": "code",
   "execution_count": 11,
   "outputs": [
    {
     "data": {
      "text/plain": "                       Earnings Per Share - Actual Surprise  Revenue - Actual  \\\nInstrument Date                                                                 \nPOOL.OQ    2022-10-01                                 4.196          0.065637   \n           2022-07-01                                 1.503          0.068358   \n           2022-04-01                                34.342          0.064385   \n           2022-01-01                                40.267          0.062055   \n           2021-10-01                                17.194          0.064377   \n...                                                     ...               ...   \nAVY.N      2014-01-01                                 1.471          0.065443   \n           2013-10-01                                 8.095          0.064955   \n           2013-07-01                                 1.068          0.065247   \n           2013-04-01                                 2.482          0.064917   \n           2013-01-01                                11.178          0.065123   \n\n                       Net Income after Tax  \nInstrument Date                              \nPOOL.OQ    2022-10-01              0.556805  \n           2022-07-01              0.558114  \n           2022-04-01              0.556685  \n           2022-01-01              0.555885  \n           2021-10-01              0.556745  \n...                                     ...  \nAVY.N      2014-01-01              0.555155  \n           2013-10-01              0.555377  \n           2013-07-01              0.555475  \n           2013-04-01              0.555431  \n           2013-01-01              0.555058  \n\n[18603 rows x 3 columns]",
      "text/html": "<div>\n<style scoped>\n    .dataframe tbody tr th:only-of-type {\n        vertical-align: middle;\n    }\n\n    .dataframe tbody tr th {\n        vertical-align: top;\n    }\n\n    .dataframe thead th {\n        text-align: right;\n    }\n</style>\n<table border=\"1\" class=\"dataframe\">\n  <thead>\n    <tr style=\"text-align: right;\">\n      <th></th>\n      <th></th>\n      <th>Earnings Per Share - Actual Surprise</th>\n      <th>Revenue - Actual</th>\n      <th>Net Income after Tax</th>\n    </tr>\n    <tr>\n      <th>Instrument</th>\n      <th>Date</th>\n      <th></th>\n      <th></th>\n      <th></th>\n    </tr>\n  </thead>\n  <tbody>\n    <tr>\n      <th rowspan=\"5\" valign=\"top\">POOL.OQ</th>\n      <th>2022-10-01</th>\n      <td>4.196</td>\n      <td>0.065637</td>\n      <td>0.556805</td>\n    </tr>\n    <tr>\n      <th>2022-07-01</th>\n      <td>1.503</td>\n      <td>0.068358</td>\n      <td>0.558114</td>\n    </tr>\n    <tr>\n      <th>2022-04-01</th>\n      <td>34.342</td>\n      <td>0.064385</td>\n      <td>0.556685</td>\n    </tr>\n    <tr>\n      <th>2022-01-01</th>\n      <td>40.267</td>\n      <td>0.062055</td>\n      <td>0.555885</td>\n    </tr>\n    <tr>\n      <th>2021-10-01</th>\n      <td>17.194</td>\n      <td>0.064377</td>\n      <td>0.556745</td>\n    </tr>\n    <tr>\n      <th>...</th>\n      <th>...</th>\n      <td>...</td>\n      <td>...</td>\n      <td>...</td>\n    </tr>\n    <tr>\n      <th rowspan=\"5\" valign=\"top\">AVY.N</th>\n      <th>2014-01-01</th>\n      <td>1.471</td>\n      <td>0.065443</td>\n      <td>0.555155</td>\n    </tr>\n    <tr>\n      <th>2013-10-01</th>\n      <td>8.095</td>\n      <td>0.064955</td>\n      <td>0.555377</td>\n    </tr>\n    <tr>\n      <th>2013-07-01</th>\n      <td>1.068</td>\n      <td>0.065247</td>\n      <td>0.555475</td>\n    </tr>\n    <tr>\n      <th>2013-04-01</th>\n      <td>2.482</td>\n      <td>0.064917</td>\n      <td>0.555431</td>\n    </tr>\n    <tr>\n      <th>2013-01-01</th>\n      <td>11.178</td>\n      <td>0.065123</td>\n      <td>0.555058</td>\n    </tr>\n  </tbody>\n</table>\n<p>18603 rows × 3 columns</p>\n</div>"
     },
     "execution_count": 11,
     "metadata": {},
     "output_type": "execute_result"
    }
   ],
   "source": [
    "df_accuracy_new.set_index([\"Instrument\", \"Date\"], inplace=True)\n",
    "df_accuracy_new"
   ],
   "metadata": {
    "collapsed": false
   }
  },
  {
   "cell_type": "code",
   "execution_count": 12,
   "metadata": {},
   "outputs": [],
   "source": [
    "import pandas as pd\n",
    "import scipy.stats as st\n",
    "import statsmodels.api as sm\n",
    "import statsmodels.graphics.tsaplots as tsap\n",
    "from statsmodels.compat import lzip\n",
    "from statsmodels.stats.diagnostic import het_white\n",
    "from matplotlib import pyplot as plt"
   ]
  },
  {
   "cell_type": "code",
   "execution_count": 13,
   "outputs": [
    {
     "data": {
      "text/plain": "      Instrument        Date  Earnings Per Share - Actual  \\\n0        POOL.OQ  2022-10-01                         4.78   \n1        POOL.OQ  2022-07-01                         7.63   \n2        POOL.OQ  2022-04-01                         4.23   \n3        POOL.OQ  2022-01-01                         2.63   \n4        POOL.OQ  2021-10-01                         4.51   \n...          ...         ...                          ...   \n20115      AVY.N  2014-01-01                         0.69   \n20116      AVY.N  2013-10-01                         0.69   \n20117      AVY.N  2013-07-01                         0.71   \n20118      AVY.N  2013-04-01                         0.59   \n20119      AVY.N  2013-01-01                         0.54   \n\n       Earnings Per Share - Mean  Earnings Per Share - Actual Surprise  \\\n0                        4.58750                                 4.196   \n1                        7.51700                                 1.503   \n2                        3.14867                                34.342   \n3                        1.87500                                40.267   \n4                        3.84833                                17.194   \n...                          ...                                   ...   \n20115                    0.68000                                 1.471   \n20116                    0.63833                                 8.095   \n20117                    0.70250                                 1.068   \n20118                    0.57571                                 2.482   \n20119                    0.48571                                11.178   \n\n       Revenue - Actual  Enterprise Value  Number of Analysts  \\\n0          1.615339e+09      1.406160e+10                10.0   \n1          2.055818e+09      1.556187e+10                 9.0   \n2          1.412650e+09      1.843682e+10                 9.0   \n3          1.035557e+09      2.384882e+10                 8.0   \n4          1.411448e+09      1.769954e+10                 8.0   \n...                 ...               ...                 ...   \n20115      1.583900e+09      5.553068e+09                 8.0   \n20116      1.504900e+09      5.029514e+09                 7.0   \n20117      1.552300e+09      5.436229e+09                 8.0   \n20118      1.498900e+09      5.459128e+09                 7.0   \n20119      1.532200e+09      4.413001e+09                 7.0   \n\n       Recommendation - Mean (1-5)  Recommendation - Mean (1-5).1  \\\n0                          2.27273                          2.200   \n1                          2.20000                          2.000   \n2                          2.00000                          2.300   \n3                          2.30000                          2.300   \n4                          2.30000                          2.300   \n...                            ...                            ...   \n20115                      2.33333                          2.625   \n20116                      2.62500                          2.875   \n20117                      2.87500                          2.875   \n20118                      2.87500                          3.000   \n20119                      3.00000                          3.000   \n\n       WACC Inflation Adjusted Risk Free Rate, (%)  Net Income after Tax  \\\n0                                         3.747421           189965000.0   \n1                                         3.092855           307205000.0   \n2                                         2.325202           179203000.0   \n3                                         1.515266           107542000.0   \n4                                         1.527139           184573000.0   \n...                                            ...                   ...   \n20115                                          NaN            42100000.0   \n20116                                          NaN            62000000.0   \n20117                                          NaN            70800000.0   \n20118                                          NaN            66800000.0   \n20119                                          NaN            33400000.0   \n\n       Price Target - Mean  Price Close  \n0                360.11111       318.21  \n1                435.37500       351.23  \n2                519.88889       422.85  \n3                571.00000       566.00  \n4                545.28571       434.41  \n...                    ...          ...  \n20115             54.62500        50.19  \n20116             47.71429        43.52  \n20117             45.00000        42.76  \n20118             42.57143        43.07  \n20119             36.00000        34.92  \n\n[20120 rows x 14 columns]",
      "text/html": "<div>\n<style scoped>\n    .dataframe tbody tr th:only-of-type {\n        vertical-align: middle;\n    }\n\n    .dataframe tbody tr th {\n        vertical-align: top;\n    }\n\n    .dataframe thead th {\n        text-align: right;\n    }\n</style>\n<table border=\"1\" class=\"dataframe\">\n  <thead>\n    <tr style=\"text-align: right;\">\n      <th></th>\n      <th>Instrument</th>\n      <th>Date</th>\n      <th>Earnings Per Share - Actual</th>\n      <th>Earnings Per Share - Mean</th>\n      <th>Earnings Per Share - Actual Surprise</th>\n      <th>Revenue - Actual</th>\n      <th>Enterprise Value</th>\n      <th>Number of Analysts</th>\n      <th>Recommendation - Mean (1-5)</th>\n      <th>Recommendation - Mean (1-5).1</th>\n      <th>WACC Inflation Adjusted Risk Free Rate, (%)</th>\n      <th>Net Income after Tax</th>\n      <th>Price Target - Mean</th>\n      <th>Price Close</th>\n    </tr>\n  </thead>\n  <tbody>\n    <tr>\n      <th>0</th>\n      <td>POOL.OQ</td>\n      <td>2022-10-01</td>\n      <td>4.78</td>\n      <td>4.58750</td>\n      <td>4.196</td>\n      <td>1.615339e+09</td>\n      <td>1.406160e+10</td>\n      <td>10.0</td>\n      <td>2.27273</td>\n      <td>2.200</td>\n      <td>3.747421</td>\n      <td>189965000.0</td>\n      <td>360.11111</td>\n      <td>318.21</td>\n    </tr>\n    <tr>\n      <th>1</th>\n      <td>POOL.OQ</td>\n      <td>2022-07-01</td>\n      <td>7.63</td>\n      <td>7.51700</td>\n      <td>1.503</td>\n      <td>2.055818e+09</td>\n      <td>1.556187e+10</td>\n      <td>9.0</td>\n      <td>2.20000</td>\n      <td>2.000</td>\n      <td>3.092855</td>\n      <td>307205000.0</td>\n      <td>435.37500</td>\n      <td>351.23</td>\n    </tr>\n    <tr>\n      <th>2</th>\n      <td>POOL.OQ</td>\n      <td>2022-04-01</td>\n      <td>4.23</td>\n      <td>3.14867</td>\n      <td>34.342</td>\n      <td>1.412650e+09</td>\n      <td>1.843682e+10</td>\n      <td>9.0</td>\n      <td>2.00000</td>\n      <td>2.300</td>\n      <td>2.325202</td>\n      <td>179203000.0</td>\n      <td>519.88889</td>\n      <td>422.85</td>\n    </tr>\n    <tr>\n      <th>3</th>\n      <td>POOL.OQ</td>\n      <td>2022-01-01</td>\n      <td>2.63</td>\n      <td>1.87500</td>\n      <td>40.267</td>\n      <td>1.035557e+09</td>\n      <td>2.384882e+10</td>\n      <td>8.0</td>\n      <td>2.30000</td>\n      <td>2.300</td>\n      <td>1.515266</td>\n      <td>107542000.0</td>\n      <td>571.00000</td>\n      <td>566.00</td>\n    </tr>\n    <tr>\n      <th>4</th>\n      <td>POOL.OQ</td>\n      <td>2021-10-01</td>\n      <td>4.51</td>\n      <td>3.84833</td>\n      <td>17.194</td>\n      <td>1.411448e+09</td>\n      <td>1.769954e+10</td>\n      <td>8.0</td>\n      <td>2.30000</td>\n      <td>2.300</td>\n      <td>1.527139</td>\n      <td>184573000.0</td>\n      <td>545.28571</td>\n      <td>434.41</td>\n    </tr>\n    <tr>\n      <th>...</th>\n      <td>...</td>\n      <td>...</td>\n      <td>...</td>\n      <td>...</td>\n      <td>...</td>\n      <td>...</td>\n      <td>...</td>\n      <td>...</td>\n      <td>...</td>\n      <td>...</td>\n      <td>...</td>\n      <td>...</td>\n      <td>...</td>\n      <td>...</td>\n    </tr>\n    <tr>\n      <th>20115</th>\n      <td>AVY.N</td>\n      <td>2014-01-01</td>\n      <td>0.69</td>\n      <td>0.68000</td>\n      <td>1.471</td>\n      <td>1.583900e+09</td>\n      <td>5.553068e+09</td>\n      <td>8.0</td>\n      <td>2.33333</td>\n      <td>2.625</td>\n      <td>NaN</td>\n      <td>42100000.0</td>\n      <td>54.62500</td>\n      <td>50.19</td>\n    </tr>\n    <tr>\n      <th>20116</th>\n      <td>AVY.N</td>\n      <td>2013-10-01</td>\n      <td>0.69</td>\n      <td>0.63833</td>\n      <td>8.095</td>\n      <td>1.504900e+09</td>\n      <td>5.029514e+09</td>\n      <td>7.0</td>\n      <td>2.62500</td>\n      <td>2.875</td>\n      <td>NaN</td>\n      <td>62000000.0</td>\n      <td>47.71429</td>\n      <td>43.52</td>\n    </tr>\n    <tr>\n      <th>20117</th>\n      <td>AVY.N</td>\n      <td>2013-07-01</td>\n      <td>0.71</td>\n      <td>0.70250</td>\n      <td>1.068</td>\n      <td>1.552300e+09</td>\n      <td>5.436229e+09</td>\n      <td>8.0</td>\n      <td>2.87500</td>\n      <td>2.875</td>\n      <td>NaN</td>\n      <td>70800000.0</td>\n      <td>45.00000</td>\n      <td>42.76</td>\n    </tr>\n    <tr>\n      <th>20118</th>\n      <td>AVY.N</td>\n      <td>2013-04-01</td>\n      <td>0.59</td>\n      <td>0.57571</td>\n      <td>2.482</td>\n      <td>1.498900e+09</td>\n      <td>5.459128e+09</td>\n      <td>7.0</td>\n      <td>2.87500</td>\n      <td>3.000</td>\n      <td>NaN</td>\n      <td>66800000.0</td>\n      <td>42.57143</td>\n      <td>43.07</td>\n    </tr>\n    <tr>\n      <th>20119</th>\n      <td>AVY.N</td>\n      <td>2013-01-01</td>\n      <td>0.54</td>\n      <td>0.48571</td>\n      <td>11.178</td>\n      <td>1.532200e+09</td>\n      <td>4.413001e+09</td>\n      <td>7.0</td>\n      <td>3.00000</td>\n      <td>3.000</td>\n      <td>NaN</td>\n      <td>33400000.0</td>\n      <td>36.00000</td>\n      <td>34.92</td>\n    </tr>\n  </tbody>\n</table>\n<p>20120 rows × 14 columns</p>\n</div>"
     },
     "execution_count": 13,
     "metadata": {},
     "output_type": "execute_result"
    }
   ],
   "source": [
    "#decide which df to use\n",
    "df = pd.read_csv(\"Dataframes/economic_story_dataframe.csv\")\n",
    "#df = df.loc[:, [\"Instrument\", \"Date\", \"Earnings Per Share - Actual Surprise\", \"Revenue - Actual\", \"Net Income after Tax\"]]\n",
    "\n",
    "df"
   ],
   "metadata": {
    "collapsed": false
   }
  },
  {
   "cell_type": "code",
   "execution_count": 14,
   "outputs": [
    {
     "data": {
      "text/plain": "Instrument                                     0\nDate                                           0\nEarnings Per Share - Actual                    0\nEarnings Per Share - Mean                      0\nEarnings Per Share - Actual Surprise           0\nRevenue - Actual                               0\nEnterprise Value                               0\nNumber of Analysts                             0\nRecommendation - Mean (1-5)                    0\nRecommendation - Mean (1-5).1                  0\nWACC Inflation Adjusted Risk Free Rate, (%)    0\nNet Income after Tax                           0\nPrice Target - Mean                            0\nPrice Close                                    0\ndtype: int64"
     },
     "execution_count": 14,
     "metadata": {},
     "output_type": "execute_result"
    }
   ],
   "source": [
    "#identifying outliers and replacing them with NA\n",
    "summary_stats = df[\"Earnings Per Share - Actual Surprise\"].describe()\n",
    "Q1 = summary_stats.loc['25%']\n",
    "Q3 = summary_stats.loc['75%']\n",
    "IQR = Q3 - Q1\n",
    "threshold = 7 #1.5 is standard threshold but we still want to keep enough variation in the data so setting threshol higher here\n",
    "surprise_outliers_removed = df[\"Earnings Per Share - Actual Surprise\"].loc[~((df[\"Earnings Per Share - Actual Surprise\"] < (Q1 - threshold * IQR)) | (df[\"Earnings Per Share - Actual Surprise\"] > (Q3 + threshold * IQR)))]\n",
    "df_accuracy_new = df.copy()\n",
    "df_accuracy_new[\"Earnings Per Share - Actual Surprise\"] = surprise_outliers_removed\n",
    "df_accuracy_new = df_accuracy_new.dropna(subset=[\"Earnings Per Share - Actual Surprise\"])\n",
    "#df_accuracy_new[\"Recommendation - Mean (1-5)\"] = df_accuracy_new[\"Recommendation - Mean (1-5)\"].fillna(0)\n",
    "df_accuracy_new = df_accuracy_new.dropna()\n",
    "df_accuracy_new.isna().sum()\n"
   ],
   "metadata": {
    "collapsed": false
   }
  },
  {
   "cell_type": "code",
   "execution_count": 15,
   "outputs": [],
   "source": [
    "y_var_name = 'Earnings Per Share - Actual Surprise'\n",
    "X_var_names = ['Revenue - Actual', \"Net Income after Tax\", \"Number of Analysts\", \"Recommendation - Mean (1-5)\", \"WACC Inflation Adjusted Risk Free Rate, (%)\", \"Net Income after Tax\", \"Price Target - Mean\", \"Price Close\"]\n",
    "pooled_y=df_accuracy_new[y_var_name]\n",
    "pooled_X=df_accuracy_new[X_var_names]"
   ],
   "metadata": {
    "collapsed": false
   }
  },
  {
   "cell_type": "code",
   "execution_count": 16,
   "outputs": [],
   "source": [
    "pooled_X = sm.add_constant(pooled_X)"
   ],
   "metadata": {
    "collapsed": false
   }
  },
  {
   "cell_type": "code",
   "execution_count": 17,
   "outputs": [],
   "source": [
    "pooled_olsr_model = sm.OLS(endog=pooled_y, exog=pooled_X)"
   ],
   "metadata": {
    "collapsed": false
   }
  },
  {
   "cell_type": "code",
   "execution_count": 18,
   "outputs": [],
   "source": [
    "pooled_olsr_model_results = pooled_olsr_model.fit()"
   ],
   "metadata": {
    "collapsed": false
   }
  },
  {
   "cell_type": "code",
   "execution_count": 19,
   "outputs": [
    {
     "name": "stdout",
     "output_type": "stream",
     "text": [
      "                                     OLS Regression Results                                     \n",
      "================================================================================================\n",
      "Dep. Variable:     Earnings Per Share - Actual Surprise   R-squared:                       0.017\n",
      "Model:                                              OLS   Adj. R-squared:                  0.017\n",
      "Method:                                   Least Squares   F-statistic:                     30.54\n",
      "Date:                                  Fri, 24 Feb 2023   Prob (F-statistic):           3.36e-42\n",
      "Time:                                          16:55:07   Log-Likelihood:                -51361.\n",
      "No. Observations:                                 12040   AIC:                         1.027e+05\n",
      "Df Residuals:                                     12032   BIC:                         1.028e+05\n",
      "Df Model:                                             7                                         \n",
      "Covariance Type:                              nonrobust                                         \n",
      "===============================================================================================================\n",
      "                                                  coef    std err          t      P>|t|      [0.025      0.975]\n",
      "---------------------------------------------------------------------------------------------------------------\n",
      "const                                          16.3023      1.219     13.368      0.000      13.912      18.693\n",
      "Revenue - Actual                            -4.607e-12   1.46e-11     -0.315      0.753   -3.33e-11    2.41e-11\n",
      "Net Income after Tax                        -6.298e-07   4.82e-08    -13.059      0.000   -7.24e-07   -5.35e-07\n",
      "Number of Analysts                              0.0100      0.024      0.417      0.677      -0.037       0.057\n",
      "Recommendation - Mean (1-5)                    -1.5365      0.425     -3.616      0.000      -2.369      -0.704\n",
      "WACC Inflation Adjusted Risk Free Rate, (%)    -2.7493      0.206    -13.330      0.000      -3.154      -2.345\n",
      "Net Income after Tax                         6.301e-07   4.82e-08     13.066      0.000    5.36e-07    7.25e-07\n",
      "Price Target - Mean                            -0.0024      0.005     -0.446      0.656      -0.013       0.008\n",
      "Price Close                                     0.0035      0.006      0.570      0.569      -0.008       0.015\n",
      "==============================================================================\n",
      "Omnibus:                     2128.027   Durbin-Watson:                   1.627\n",
      "Prob(Omnibus):                  0.000   Jarque-Bera (JB):            18812.095\n",
      "Skew:                           0.593   Prob(JB):                         0.00\n",
      "Kurtosis:                       9.008   Cond. No.                     5.77e+16\n",
      "==============================================================================\n",
      "\n",
      "Notes:\n",
      "[1] Standard Errors assume that the covariance matrix of the errors is correctly specified.\n",
      "[2] The condition number is large, 5.77e+16. This might indicate that there are\n",
      "strong multicollinearity or other numerical problems.\n"
     ]
    }
   ],
   "source": [
    "print(pooled_olsr_model_results.summary())"
   ],
   "metadata": {
    "collapsed": false
   }
  },
  {
   "cell_type": "code",
   "execution_count": 20,
   "outputs": [
    {
     "data": {
      "text/plain": "<class 'statsmodels.iolib.summary.Summary'>\n\"\"\"\n                                     OLS Regression Results                                     \n================================================================================================\nDep. Variable:     Earnings Per Share - Actual Surprise   R-squared:                       0.019\nModel:                                              OLS   Adj. R-squared:                  0.018\nMethod:                                   Least Squares   F-statistic:                     26.07\nDate:                                  Fri, 24 Feb 2023   Prob (F-statistic):           5.06e-45\nTime:                                          16:55:07   Log-Likelihood:                -51351.\nNo. Observations:                                 12040   AIC:                         1.027e+05\nDf Residuals:                                     12030   BIC:                         1.028e+05\nDf Model:                                             9                                         \nCovariance Type:                              nonrobust                                         \n===============================================================================================================\n                                                  coef    std err          t      P>|t|      [0.025      0.975]\n---------------------------------------------------------------------------------------------------------------\nconst                                          15.4473      1.236     12.495      0.000      13.024      17.871\nRevenue - Actual                             2.281e-12   1.58e-11      0.144      0.886   -2.88e-11    3.33e-11\nEnterprise Value                            -1.892e-12   1.73e-12     -1.095      0.274   -5.28e-12     1.5e-12\nNumber of Analysts                              0.0201      0.025      0.817      0.414      -0.028       0.068\nRecommendation - Mean (1-5)                    -6.8331      1.271     -5.375      0.000      -9.325      -4.341\nRecommendation - Mean (1-5).1                   5.5800      1.271      4.391      0.000       3.089       8.071\nWACC Inflation Adjusted Risk Free Rate, (%)    -2.7187      0.206    -13.169      0.000      -3.123      -2.314\nNet Income after Tax                         4.115e-10   1.14e-10      3.603      0.000    1.88e-10    6.35e-10\nPrice Target - Mean                            -0.0025      0.005     -0.472      0.637      -0.013       0.008\nPrice Close                                     0.0037      0.006      0.600      0.548      -0.008       0.016\n==============================================================================\nOmnibus:                     2126.783   Durbin-Watson:                   1.633\nProb(Omnibus):                  0.000   Jarque-Bera (JB):            18860.390\nSkew:                           0.592   Prob(JB):                         0.00\nKurtosis:                       9.016   Cond. No.                     1.81e+12\n==============================================================================\n\nNotes:\n[1] Standard Errors assume that the covariance matrix of the errors is correctly specified.\n[2] The condition number is large, 1.81e+12. This might indicate that there are\nstrong multicollinearity or other numerical problems.\n\"\"\"",
      "text/html": "<table class=\"simpletable\">\n<caption>OLS Regression Results</caption>\n<tr>\n  <th>Dep. Variable:</th>    <td>Earnings Per Share - Actual Surprise</td> <th>  R-squared:         </th> <td>   0.019</td> \n</tr>\n<tr>\n  <th>Model:</th>                             <td>OLS</td>                 <th>  Adj. R-squared:    </th> <td>   0.018</td> \n</tr>\n<tr>\n  <th>Method:</th>                       <td>Least Squares</td>            <th>  F-statistic:       </th> <td>   26.07</td> \n</tr>\n<tr>\n  <th>Date:</th>                       <td>Fri, 24 Feb 2023</td>           <th>  Prob (F-statistic):</th> <td>5.06e-45</td> \n</tr>\n<tr>\n  <th>Time:</th>                           <td>16:55:07</td>               <th>  Log-Likelihood:    </th> <td> -51351.</td> \n</tr>\n<tr>\n  <th>No. Observations:</th>                <td> 12040</td>                <th>  AIC:               </th> <td>1.027e+05</td>\n</tr>\n<tr>\n  <th>Df Residuals:</th>                    <td> 12030</td>                <th>  BIC:               </th> <td>1.028e+05</td>\n</tr>\n<tr>\n  <th>Df Model:</th>                        <td>     9</td>                <th>                     </th>     <td> </td>    \n</tr>\n<tr>\n  <th>Covariance Type:</th>                <td>nonrobust</td>              <th>                     </th>     <td> </td>    \n</tr>\n</table>\n<table class=\"simpletable\">\n<tr>\n                       <td></td>                          <th>coef</th>     <th>std err</th>      <th>t</th>      <th>P>|t|</th>  <th>[0.025</th>    <th>0.975]</th>  \n</tr>\n<tr>\n  <th>const</th>                                       <td>   15.4473</td> <td>    1.236</td> <td>   12.495</td> <td> 0.000</td> <td>   13.024</td> <td>   17.871</td>\n</tr>\n<tr>\n  <th>Revenue - Actual</th>                            <td> 2.281e-12</td> <td> 1.58e-11</td> <td>    0.144</td> <td> 0.886</td> <td>-2.88e-11</td> <td> 3.33e-11</td>\n</tr>\n<tr>\n  <th>Enterprise Value</th>                            <td>-1.892e-12</td> <td> 1.73e-12</td> <td>   -1.095</td> <td> 0.274</td> <td>-5.28e-12</td> <td>  1.5e-12</td>\n</tr>\n<tr>\n  <th>Number of Analysts</th>                          <td>    0.0201</td> <td>    0.025</td> <td>    0.817</td> <td> 0.414</td> <td>   -0.028</td> <td>    0.068</td>\n</tr>\n<tr>\n  <th>Recommendation - Mean (1-5)</th>                 <td>   -6.8331</td> <td>    1.271</td> <td>   -5.375</td> <td> 0.000</td> <td>   -9.325</td> <td>   -4.341</td>\n</tr>\n<tr>\n  <th>Recommendation - Mean (1-5).1</th>               <td>    5.5800</td> <td>    1.271</td> <td>    4.391</td> <td> 0.000</td> <td>    3.089</td> <td>    8.071</td>\n</tr>\n<tr>\n  <th>WACC Inflation Adjusted Risk Free Rate, (%)</th> <td>   -2.7187</td> <td>    0.206</td> <td>  -13.169</td> <td> 0.000</td> <td>   -3.123</td> <td>   -2.314</td>\n</tr>\n<tr>\n  <th>Net Income after Tax</th>                        <td> 4.115e-10</td> <td> 1.14e-10</td> <td>    3.603</td> <td> 0.000</td> <td> 1.88e-10</td> <td> 6.35e-10</td>\n</tr>\n<tr>\n  <th>Price Target - Mean</th>                         <td>   -0.0025</td> <td>    0.005</td> <td>   -0.472</td> <td> 0.637</td> <td>   -0.013</td> <td>    0.008</td>\n</tr>\n<tr>\n  <th>Price Close</th>                                 <td>    0.0037</td> <td>    0.006</td> <td>    0.600</td> <td> 0.548</td> <td>   -0.008</td> <td>    0.016</td>\n</tr>\n</table>\n<table class=\"simpletable\">\n<tr>\n  <th>Omnibus:</th>       <td>2126.783</td> <th>  Durbin-Watson:     </th> <td>   1.633</td> \n</tr>\n<tr>\n  <th>Prob(Omnibus):</th>  <td> 0.000</td>  <th>  Jarque-Bera (JB):  </th> <td>18860.390</td>\n</tr>\n<tr>\n  <th>Skew:</th>           <td> 0.592</td>  <th>  Prob(JB):          </th> <td>    0.00</td> \n</tr>\n<tr>\n  <th>Kurtosis:</th>       <td> 9.016</td>  <th>  Cond. No.          </th> <td>1.81e+12</td> \n</tr>\n</table><br/><br/>Notes:<br/>[1] Standard Errors assume that the covariance matrix of the errors is correctly specified.<br/>[2] The condition number is large, 1.81e+12. This might indicate that there are<br/>strong multicollinearity or other numerical problems."
     },
     "execution_count": 20,
     "metadata": {},
     "output_type": "execute_result"
    }
   ],
   "source": [
    "y = df_accuracy_new[\"Earnings Per Share - Actual Surprise\"]\n",
    "#X = df_accuracy_new[['Revenue - Actual', 'Net Income after Tax']]\n",
    "X = df_accuracy_new.iloc[:, 5:]\n",
    "X = sm.add_constant(X)\n",
    "\n",
    "model = sm.OLS(y, X).fit()\n",
    "\n",
    "model.summary()"
   ],
   "metadata": {
    "collapsed": false
   }
  },
  {
   "cell_type": "code",
   "execution_count": 20,
   "outputs": [],
   "source": [],
   "metadata": {
    "collapsed": false
   }
  }
 ],
 "metadata": {
  "kernelspec": {
   "display_name": "AnalystForecast",
   "language": "python",
   "name": "python3"
  },
  "language_info": {
   "name": "python",
   "version": "3.11.0"
  },
  "orig_nbformat": 4,
  "vscode": {
   "interpreter": {
    "hash": "264d128b47a19451ae7876f5ee246d3f7de9751940a5ebe47f15ec6626e5a91f"
   }
  }
 },
 "nbformat": 4,
 "nbformat_minor": 2
}
