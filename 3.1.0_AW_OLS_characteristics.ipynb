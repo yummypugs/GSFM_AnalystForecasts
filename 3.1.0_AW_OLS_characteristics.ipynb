{
 "cells": [
  {
   "cell_type": "code",
   "execution_count": 128,
   "metadata": {},
   "outputs": [],
   "source": [
    "import pandas as pd\n",
    "import statsmodels.api as sm\n",
    "from sklearn.linear_model import LinearRegression\n",
    "from sklearn.preprocessing import MinMaxScaler\n",
    "from sklearn.preprocessing import StandardScaler\n",
    "\n",
    "import numpy as np\n",
    "\n",
    "from linearmodels.panel import PanelOLS\n",
    "import datetime as dt"
   ]
  },
  {
   "attachments": {},
   "cell_type": "markdown",
   "metadata": {},
   "source": [
    "# Characteristics OLS\n",
    "\n",
    "Professor said we should start with a regular OLS Regression.\n",
    "I quickly looked into this and think a random effects panel regression would probably fit our data better (still need to read more into this)\n",
    "So probably we can first do a regular OLS and than compare it to the random effects panel regression. Just some initial thoughts though!!!\n",
    "Here is some intial code to run them:\n"
   ]
  },
  {
   "cell_type": "code",
   "execution_count": 129,
   "metadata": {},
   "outputs": [
    {
     "data": {
      "text/plain": "      Instrument        Date  Earnings Per Share - Actual Surprise  \\\n0        POOL.OQ  2022-10-01                                 4.196   \n1        POOL.OQ  2022-07-01                                 1.503   \n2        POOL.OQ  2022-04-01                                34.342   \n3        POOL.OQ  2022-01-01                                40.267   \n4        POOL.OQ  2021-10-01                                17.194   \n...          ...         ...                                   ...   \n19332      AVY.N  2014-01-01                                 1.471   \n19333      AVY.N  2013-10-01                                 8.095   \n19334      AVY.N  2013-07-01                                 1.068   \n19335      AVY.N  2013-04-01                                 2.482   \n19336      AVY.N  2013-01-01                                11.178   \n\n       Revenue - Actual  Enterprise Value  Market Capitalization  \\\n0          1.615339e+09      1.406160e+10           1.259813e+10   \n1          2.055818e+09      1.556187e+10           1.405795e+10   \n2          1.412650e+09      1.843682e+10           1.696712e+10   \n3          1.035557e+09      2.384882e+10           2.268979e+10   \n4          1.411448e+09      1.769954e+10           1.742020e+10   \n...                 ...               ...                    ...   \n19332      1.583900e+09      5.553068e+09           4.877168e+09   \n19333      1.504900e+09      5.029514e+09           4.273414e+09   \n19334      1.552300e+09      5.436229e+09           4.258229e+09   \n19335      1.498900e+09      5.459128e+09           4.309428e+09   \n19336      1.532200e+09      4.413001e+09           3.426001e+09   \n\n       Enterprise Value To Sales (Daily Time Series Ratio)  \\\n0                                               2.383926     \n1                                               2.749481     \n2                                               3.422880     \n3                                               4.504382     \n4                                               3.684400     \n...                                                  ...     \n19332                                           0.920659     \n19333                                           0.903176     \n19334                                           0.906078     \n19335                                           0.895787     \n19336                                           0.799347     \n\n       3 Month Total Return  loss firm status  \n0                 -9.164375                -1  \n1                -21.661570                -1  \n2                -25.160664                -1  \n3                 30.489705                -1  \n4                 -5.130322                -1  \n...                     ...               ...  \n19332             16.003852                -1  \n19333              2.467620                -1  \n19334             -0.054218                -1  \n19335             24.148726                -1  \n19336             10.637479                -1  \n\n[19337 rows x 9 columns]",
      "text/html": "<div>\n<style scoped>\n    .dataframe tbody tr th:only-of-type {\n        vertical-align: middle;\n    }\n\n    .dataframe tbody tr th {\n        vertical-align: top;\n    }\n\n    .dataframe thead th {\n        text-align: right;\n    }\n</style>\n<table border=\"1\" class=\"dataframe\">\n  <thead>\n    <tr style=\"text-align: right;\">\n      <th></th>\n      <th>Instrument</th>\n      <th>Date</th>\n      <th>Earnings Per Share - Actual Surprise</th>\n      <th>Revenue - Actual</th>\n      <th>Enterprise Value</th>\n      <th>Market Capitalization</th>\n      <th>Enterprise Value To Sales (Daily Time Series Ratio)</th>\n      <th>3 Month Total Return</th>\n      <th>loss firm status</th>\n    </tr>\n  </thead>\n  <tbody>\n    <tr>\n      <th>0</th>\n      <td>POOL.OQ</td>\n      <td>2022-10-01</td>\n      <td>4.196</td>\n      <td>1.615339e+09</td>\n      <td>1.406160e+10</td>\n      <td>1.259813e+10</td>\n      <td>2.383926</td>\n      <td>-9.164375</td>\n      <td>-1</td>\n    </tr>\n    <tr>\n      <th>1</th>\n      <td>POOL.OQ</td>\n      <td>2022-07-01</td>\n      <td>1.503</td>\n      <td>2.055818e+09</td>\n      <td>1.556187e+10</td>\n      <td>1.405795e+10</td>\n      <td>2.749481</td>\n      <td>-21.661570</td>\n      <td>-1</td>\n    </tr>\n    <tr>\n      <th>2</th>\n      <td>POOL.OQ</td>\n      <td>2022-04-01</td>\n      <td>34.342</td>\n      <td>1.412650e+09</td>\n      <td>1.843682e+10</td>\n      <td>1.696712e+10</td>\n      <td>3.422880</td>\n      <td>-25.160664</td>\n      <td>-1</td>\n    </tr>\n    <tr>\n      <th>3</th>\n      <td>POOL.OQ</td>\n      <td>2022-01-01</td>\n      <td>40.267</td>\n      <td>1.035557e+09</td>\n      <td>2.384882e+10</td>\n      <td>2.268979e+10</td>\n      <td>4.504382</td>\n      <td>30.489705</td>\n      <td>-1</td>\n    </tr>\n    <tr>\n      <th>4</th>\n      <td>POOL.OQ</td>\n      <td>2021-10-01</td>\n      <td>17.194</td>\n      <td>1.411448e+09</td>\n      <td>1.769954e+10</td>\n      <td>1.742020e+10</td>\n      <td>3.684400</td>\n      <td>-5.130322</td>\n      <td>-1</td>\n    </tr>\n    <tr>\n      <th>...</th>\n      <td>...</td>\n      <td>...</td>\n      <td>...</td>\n      <td>...</td>\n      <td>...</td>\n      <td>...</td>\n      <td>...</td>\n      <td>...</td>\n      <td>...</td>\n    </tr>\n    <tr>\n      <th>19332</th>\n      <td>AVY.N</td>\n      <td>2014-01-01</td>\n      <td>1.471</td>\n      <td>1.583900e+09</td>\n      <td>5.553068e+09</td>\n      <td>4.877168e+09</td>\n      <td>0.920659</td>\n      <td>16.003852</td>\n      <td>-1</td>\n    </tr>\n    <tr>\n      <th>19333</th>\n      <td>AVY.N</td>\n      <td>2013-10-01</td>\n      <td>8.095</td>\n      <td>1.504900e+09</td>\n      <td>5.029514e+09</td>\n      <td>4.273414e+09</td>\n      <td>0.903176</td>\n      <td>2.467620</td>\n      <td>-1</td>\n    </tr>\n    <tr>\n      <th>19334</th>\n      <td>AVY.N</td>\n      <td>2013-07-01</td>\n      <td>1.068</td>\n      <td>1.552300e+09</td>\n      <td>5.436229e+09</td>\n      <td>4.258229e+09</td>\n      <td>0.906078</td>\n      <td>-0.054218</td>\n      <td>-1</td>\n    </tr>\n    <tr>\n      <th>19335</th>\n      <td>AVY.N</td>\n      <td>2013-04-01</td>\n      <td>2.482</td>\n      <td>1.498900e+09</td>\n      <td>5.459128e+09</td>\n      <td>4.309428e+09</td>\n      <td>0.895787</td>\n      <td>24.148726</td>\n      <td>-1</td>\n    </tr>\n    <tr>\n      <th>19336</th>\n      <td>AVY.N</td>\n      <td>2013-01-01</td>\n      <td>11.178</td>\n      <td>1.532200e+09</td>\n      <td>4.413001e+09</td>\n      <td>3.426001e+09</td>\n      <td>0.799347</td>\n      <td>10.637479</td>\n      <td>-1</td>\n    </tr>\n  </tbody>\n</table>\n<p>19337 rows × 9 columns</p>\n</div>"
     },
     "execution_count": 129,
     "metadata": {},
     "output_type": "execute_result"
    }
   ],
   "source": [
    "#decide which df to use\n",
    "df = pd.read_csv(\"Dataframes/characteristics.csv\")\n",
    "#df = df.loc[:, [\"Instrument\", \"Date\", \"Earnings Per Share - Actual Surprise\", \"Revenue - Actual\", \"Net Income after Tax\"]]\n",
    "\n",
    "df"
   ]
  },
  {
   "attachments": {},
   "cell_type": "markdown",
   "metadata": {},
   "source": [
    "#### OLS Regression"
   ]
  },
  {
   "cell_type": "code",
   "execution_count": 130,
   "outputs": [
    {
     "data": {
      "text/plain": "loss firm status\n-1    17285\n 1     1271\n 0       10\ndtype: int64"
     },
     "execution_count": 130,
     "metadata": {},
     "output_type": "execute_result"
    }
   ],
   "source": [
    "#identifying outliers and replacing them with NA\n",
    "summary_stats = df[\"Earnings Per Share - Actual Surprise\"].describe()\n",
    "Q1 = summary_stats.loc['25%']\n",
    "Q3 = summary_stats.loc['75%']\n",
    "IQR = Q3 - Q1\n",
    "threshold = 7 #1.5 is standard threshold but we still want to keep enough variation in the data so setting threshol higher here\n",
    "surprise_outliers_removed = df[\"Earnings Per Share - Actual Surprise\"].loc[~((df[\"Earnings Per Share - Actual Surprise\"] < (Q1 - threshold * IQR)) | (df[\"Earnings Per Share - Actual Surprise\"] > (Q3 + threshold * IQR)))]\n",
    "df_accuracy_new = df.copy()\n",
    "df_accuracy_new[\"Earnings Per Share - Actual Surprise\"] = surprise_outliers_removed\n",
    "df_accuracy_new = df_accuracy_new.dropna(subset=[\"Earnings Per Share - Actual Surprise\"])\n",
    "#df_accuracy_new[\"Recommendation - Mean (1-5)\"] = df_accuracy_new[\"Recommendation - Mean (1-5)\"].fillna(0)\n",
    "df_accuracy_new = df_accuracy_new.dropna()\n",
    "df_accuracy_new.value_counts(\"loss firm status\")\n"
   ],
   "metadata": {
    "collapsed": false
   }
  },
  {
   "cell_type": "code",
   "execution_count": 131,
   "outputs": [
    {
     "data": {
      "text/plain": "      Instrument        Date  Earnings Per Share - Actual Surprise  \\\n0        POOL.OQ  2022-10-01                                 4.196   \n1        POOL.OQ  2022-07-01                                 1.503   \n2        POOL.OQ  2022-04-01                                34.342   \n3        POOL.OQ  2022-01-01                                40.267   \n4        POOL.OQ  2021-10-01                                17.194   \n...          ...         ...                                   ...   \n19332      AVY.N  2014-01-01                                 1.471   \n19333      AVY.N  2013-10-01                                 8.095   \n19334      AVY.N  2013-07-01                                 1.068   \n19335      AVY.N  2013-04-01                                 2.482   \n19336      AVY.N  2013-01-01                                11.178   \n\n       Revenue - Actual  Enterprise Value  Market Capitalization  \\\n0          1.615339e+09      1.406160e+10           1.259813e+10   \n1          2.055818e+09      1.556187e+10           1.405795e+10   \n2          1.412650e+09      1.843682e+10           1.696712e+10   \n3          1.035557e+09      2.384882e+10           2.268979e+10   \n4          1.411448e+09      1.769954e+10           1.742020e+10   \n...                 ...               ...                    ...   \n19332      1.583900e+09      5.553068e+09           4.877168e+09   \n19333      1.504900e+09      5.029514e+09           4.273414e+09   \n19334      1.552300e+09      5.436229e+09           4.258229e+09   \n19335      1.498900e+09      5.459128e+09           4.309428e+09   \n19336      1.532200e+09      4.413001e+09           3.426001e+09   \n\n       Enterprise Value To Sales (Daily Time Series Ratio)  \\\n0                                               2.383926     \n1                                               2.749481     \n2                                               3.422880     \n3                                               4.504382     \n4                                               3.684400     \n...                                                  ...     \n19332                                           0.920659     \n19333                                           0.903176     \n19334                                           0.906078     \n19335                                           0.895787     \n19336                                           0.799347     \n\n       3 Month Total Return  loss firm status  \n0                 -9.164375                -1  \n1                -21.661570                -1  \n2                -25.160664                -1  \n3                 30.489705                -1  \n4                 -5.130322                -1  \n...                     ...               ...  \n19332             16.003852                -1  \n19333              2.467620                -1  \n19334             -0.054218                -1  \n19335             24.148726                -1  \n19336             10.637479                -1  \n\n[18566 rows x 9 columns]",
      "text/html": "<div>\n<style scoped>\n    .dataframe tbody tr th:only-of-type {\n        vertical-align: middle;\n    }\n\n    .dataframe tbody tr th {\n        vertical-align: top;\n    }\n\n    .dataframe thead th {\n        text-align: right;\n    }\n</style>\n<table border=\"1\" class=\"dataframe\">\n  <thead>\n    <tr style=\"text-align: right;\">\n      <th></th>\n      <th>Instrument</th>\n      <th>Date</th>\n      <th>Earnings Per Share - Actual Surprise</th>\n      <th>Revenue - Actual</th>\n      <th>Enterprise Value</th>\n      <th>Market Capitalization</th>\n      <th>Enterprise Value To Sales (Daily Time Series Ratio)</th>\n      <th>3 Month Total Return</th>\n      <th>loss firm status</th>\n    </tr>\n  </thead>\n  <tbody>\n    <tr>\n      <th>0</th>\n      <td>POOL.OQ</td>\n      <td>2022-10-01</td>\n      <td>4.196</td>\n      <td>1.615339e+09</td>\n      <td>1.406160e+10</td>\n      <td>1.259813e+10</td>\n      <td>2.383926</td>\n      <td>-9.164375</td>\n      <td>-1</td>\n    </tr>\n    <tr>\n      <th>1</th>\n      <td>POOL.OQ</td>\n      <td>2022-07-01</td>\n      <td>1.503</td>\n      <td>2.055818e+09</td>\n      <td>1.556187e+10</td>\n      <td>1.405795e+10</td>\n      <td>2.749481</td>\n      <td>-21.661570</td>\n      <td>-1</td>\n    </tr>\n    <tr>\n      <th>2</th>\n      <td>POOL.OQ</td>\n      <td>2022-04-01</td>\n      <td>34.342</td>\n      <td>1.412650e+09</td>\n      <td>1.843682e+10</td>\n      <td>1.696712e+10</td>\n      <td>3.422880</td>\n      <td>-25.160664</td>\n      <td>-1</td>\n    </tr>\n    <tr>\n      <th>3</th>\n      <td>POOL.OQ</td>\n      <td>2022-01-01</td>\n      <td>40.267</td>\n      <td>1.035557e+09</td>\n      <td>2.384882e+10</td>\n      <td>2.268979e+10</td>\n      <td>4.504382</td>\n      <td>30.489705</td>\n      <td>-1</td>\n    </tr>\n    <tr>\n      <th>4</th>\n      <td>POOL.OQ</td>\n      <td>2021-10-01</td>\n      <td>17.194</td>\n      <td>1.411448e+09</td>\n      <td>1.769954e+10</td>\n      <td>1.742020e+10</td>\n      <td>3.684400</td>\n      <td>-5.130322</td>\n      <td>-1</td>\n    </tr>\n    <tr>\n      <th>...</th>\n      <td>...</td>\n      <td>...</td>\n      <td>...</td>\n      <td>...</td>\n      <td>...</td>\n      <td>...</td>\n      <td>...</td>\n      <td>...</td>\n      <td>...</td>\n    </tr>\n    <tr>\n      <th>19332</th>\n      <td>AVY.N</td>\n      <td>2014-01-01</td>\n      <td>1.471</td>\n      <td>1.583900e+09</td>\n      <td>5.553068e+09</td>\n      <td>4.877168e+09</td>\n      <td>0.920659</td>\n      <td>16.003852</td>\n      <td>-1</td>\n    </tr>\n    <tr>\n      <th>19333</th>\n      <td>AVY.N</td>\n      <td>2013-10-01</td>\n      <td>8.095</td>\n      <td>1.504900e+09</td>\n      <td>5.029514e+09</td>\n      <td>4.273414e+09</td>\n      <td>0.903176</td>\n      <td>2.467620</td>\n      <td>-1</td>\n    </tr>\n    <tr>\n      <th>19334</th>\n      <td>AVY.N</td>\n      <td>2013-07-01</td>\n      <td>1.068</td>\n      <td>1.552300e+09</td>\n      <td>5.436229e+09</td>\n      <td>4.258229e+09</td>\n      <td>0.906078</td>\n      <td>-0.054218</td>\n      <td>-1</td>\n    </tr>\n    <tr>\n      <th>19335</th>\n      <td>AVY.N</td>\n      <td>2013-04-01</td>\n      <td>2.482</td>\n      <td>1.498900e+09</td>\n      <td>5.459128e+09</td>\n      <td>4.309428e+09</td>\n      <td>0.895787</td>\n      <td>24.148726</td>\n      <td>-1</td>\n    </tr>\n    <tr>\n      <th>19336</th>\n      <td>AVY.N</td>\n      <td>2013-01-01</td>\n      <td>11.178</td>\n      <td>1.532200e+09</td>\n      <td>4.413001e+09</td>\n      <td>3.426001e+09</td>\n      <td>0.799347</td>\n      <td>10.637479</td>\n      <td>-1</td>\n    </tr>\n  </tbody>\n</table>\n<p>18566 rows × 9 columns</p>\n</div>"
     },
     "execution_count": 131,
     "metadata": {},
     "output_type": "execute_result"
    }
   ],
   "source": [
    "df_accuracy_new"
   ],
   "metadata": {
    "collapsed": false
   }
  },
  {
   "cell_type": "code",
   "execution_count": 132,
   "outputs": [
    {
     "data": {
      "text/plain": "      Instrument        Date  Earnings Per Share - Actual Surprise  \\\n0        POOL.OQ  2022-10-01                                 4.196   \n1        POOL.OQ  2022-07-01                                 1.503   \n2        POOL.OQ  2022-04-01                                34.342   \n3        POOL.OQ  2022-01-01                                40.267   \n4        POOL.OQ  2021-10-01                                17.194   \n...          ...         ...                                   ...   \n19332      AVY.N  2014-01-01                                 1.471   \n19333      AVY.N  2013-10-01                                 8.095   \n19334      AVY.N  2013-07-01                                 1.068   \n19335      AVY.N  2013-04-01                                 2.482   \n19336      AVY.N  2013-01-01                                11.178   \n\n       Revenue - Actual  Enterprise Value  Market Capitalization  \\\n0              0.065637          0.031045               0.004337   \n1              0.068358          0.031540               0.004842   \n2              0.064385          0.032488               0.005848   \n3              0.062055          0.034274               0.007826   \n4              0.064377          0.032245               0.006004   \n...                 ...               ...                    ...   \n19332          0.065443          0.028238               0.001667   \n19333          0.064955          0.028065               0.001459   \n19334          0.065247          0.028199               0.001453   \n19335          0.064917          0.028207               0.001471   \n19336          0.065123          0.027862               0.001166   \n\n       Enterprise Value To Sales (Daily Time Series Ratio)  \\\n0                                               0.029064     \n1                                               0.029495     \n2                                               0.030290     \n3                                               0.031566     \n4                                               0.030598     \n...                                                  ...     \n19332                                           0.027338     \n19333                                           0.027317     \n19334                                           0.027321     \n19335                                           0.027308     \n19336                                           0.027195     \n\n       3 Month Total Return  loss firm status  \n0                  0.235367                -1  \n1                  0.195817                -1  \n2                  0.184744                -1  \n3                  0.360861                -1  \n4                  0.248134                -1  \n...                     ...               ...  \n19332              0.315017                -1  \n19333              0.272179                -1  \n19334              0.264198                -1  \n19335              0.340793                -1  \n19336              0.298034                -1  \n\n[18566 rows x 9 columns]",
      "text/html": "<div>\n<style scoped>\n    .dataframe tbody tr th:only-of-type {\n        vertical-align: middle;\n    }\n\n    .dataframe tbody tr th {\n        vertical-align: top;\n    }\n\n    .dataframe thead th {\n        text-align: right;\n    }\n</style>\n<table border=\"1\" class=\"dataframe\">\n  <thead>\n    <tr style=\"text-align: right;\">\n      <th></th>\n      <th>Instrument</th>\n      <th>Date</th>\n      <th>Earnings Per Share - Actual Surprise</th>\n      <th>Revenue - Actual</th>\n      <th>Enterprise Value</th>\n      <th>Market Capitalization</th>\n      <th>Enterprise Value To Sales (Daily Time Series Ratio)</th>\n      <th>3 Month Total Return</th>\n      <th>loss firm status</th>\n    </tr>\n  </thead>\n  <tbody>\n    <tr>\n      <th>0</th>\n      <td>POOL.OQ</td>\n      <td>2022-10-01</td>\n      <td>4.196</td>\n      <td>0.065637</td>\n      <td>0.031045</td>\n      <td>0.004337</td>\n      <td>0.029064</td>\n      <td>0.235367</td>\n      <td>-1</td>\n    </tr>\n    <tr>\n      <th>1</th>\n      <td>POOL.OQ</td>\n      <td>2022-07-01</td>\n      <td>1.503</td>\n      <td>0.068358</td>\n      <td>0.031540</td>\n      <td>0.004842</td>\n      <td>0.029495</td>\n      <td>0.195817</td>\n      <td>-1</td>\n    </tr>\n    <tr>\n      <th>2</th>\n      <td>POOL.OQ</td>\n      <td>2022-04-01</td>\n      <td>34.342</td>\n      <td>0.064385</td>\n      <td>0.032488</td>\n      <td>0.005848</td>\n      <td>0.030290</td>\n      <td>0.184744</td>\n      <td>-1</td>\n    </tr>\n    <tr>\n      <th>3</th>\n      <td>POOL.OQ</td>\n      <td>2022-01-01</td>\n      <td>40.267</td>\n      <td>0.062055</td>\n      <td>0.034274</td>\n      <td>0.007826</td>\n      <td>0.031566</td>\n      <td>0.360861</td>\n      <td>-1</td>\n    </tr>\n    <tr>\n      <th>4</th>\n      <td>POOL.OQ</td>\n      <td>2021-10-01</td>\n      <td>17.194</td>\n      <td>0.064377</td>\n      <td>0.032245</td>\n      <td>0.006004</td>\n      <td>0.030598</td>\n      <td>0.248134</td>\n      <td>-1</td>\n    </tr>\n    <tr>\n      <th>...</th>\n      <td>...</td>\n      <td>...</td>\n      <td>...</td>\n      <td>...</td>\n      <td>...</td>\n      <td>...</td>\n      <td>...</td>\n      <td>...</td>\n      <td>...</td>\n    </tr>\n    <tr>\n      <th>19332</th>\n      <td>AVY.N</td>\n      <td>2014-01-01</td>\n      <td>1.471</td>\n      <td>0.065443</td>\n      <td>0.028238</td>\n      <td>0.001667</td>\n      <td>0.027338</td>\n      <td>0.315017</td>\n      <td>-1</td>\n    </tr>\n    <tr>\n      <th>19333</th>\n      <td>AVY.N</td>\n      <td>2013-10-01</td>\n      <td>8.095</td>\n      <td>0.064955</td>\n      <td>0.028065</td>\n      <td>0.001459</td>\n      <td>0.027317</td>\n      <td>0.272179</td>\n      <td>-1</td>\n    </tr>\n    <tr>\n      <th>19334</th>\n      <td>AVY.N</td>\n      <td>2013-07-01</td>\n      <td>1.068</td>\n      <td>0.065247</td>\n      <td>0.028199</td>\n      <td>0.001453</td>\n      <td>0.027321</td>\n      <td>0.264198</td>\n      <td>-1</td>\n    </tr>\n    <tr>\n      <th>19335</th>\n      <td>AVY.N</td>\n      <td>2013-04-01</td>\n      <td>2.482</td>\n      <td>0.064917</td>\n      <td>0.028207</td>\n      <td>0.001471</td>\n      <td>0.027308</td>\n      <td>0.340793</td>\n      <td>-1</td>\n    </tr>\n    <tr>\n      <th>19336</th>\n      <td>AVY.N</td>\n      <td>2013-01-01</td>\n      <td>11.178</td>\n      <td>0.065123</td>\n      <td>0.027862</td>\n      <td>0.001166</td>\n      <td>0.027195</td>\n      <td>0.298034</td>\n      <td>-1</td>\n    </tr>\n  </tbody>\n</table>\n<p>18566 rows × 9 columns</p>\n</div>"
     },
     "execution_count": 132,
     "metadata": {},
     "output_type": "execute_result"
    }
   ],
   "source": [
    "rescale = df_accuracy_new\n",
    "#rescale[\"Earnings Per Share - Actual Surprise\"] = MinMaxScaler().fit_transform(np.array(rescale[\"Earnings Per Share - Actual Surprise\"]).reshape(-1,1))\n",
    "rescale[\"Revenue - Actual\"] = MinMaxScaler().fit_transform(np.array(rescale[\"Revenue - Actual\"]).reshape(-1,1))\n",
    "rescale[\"Enterprise Value\"] = MinMaxScaler().fit_transform(np.array(rescale[\"Enterprise Value\"]).reshape(-1,1))\n",
    "rescale[\"Market Capitalization\"] = MinMaxScaler().fit_transform(np.array(rescale[\"Market Capitalization\"]).reshape(-1,1))\n",
    "rescale[\"Enterprise Value To Sales (Daily Time Series Ratio)\"] = MinMaxScaler().fit_transform(np.array(rescale[\"Enterprise Value To Sales (Daily Time Series Ratio)\"]).reshape(-1,1))\n",
    "rescale[\"3 Month Total Return\"] = MinMaxScaler().fit_transform(np.array(rescale[\"3 Month Total Return\"]).reshape(-1,1))\n",
    "\n",
    "rescale"
   ],
   "metadata": {
    "collapsed": false
   }
  },
  {
   "cell_type": "code",
   "execution_count": 133,
   "metadata": {},
   "outputs": [
    {
     "data": {
      "text/plain": "<class 'statsmodels.iolib.summary.Summary'>\n\"\"\"\n                                     OLS Regression Results                                     \n================================================================================================\nDep. Variable:     Earnings Per Share - Actual Surprise   R-squared:                       0.013\nModel:                                              OLS   Adj. R-squared:                  0.013\nMethod:                                   Least Squares   F-statistic:                     42.30\nDate:                                  Fri, 24 Feb 2023   Prob (F-statistic):           1.47e-51\nTime:                                          19:14:02   Log-Likelihood:                -78898.\nNo. Observations:                                 18566   AIC:                         1.578e+05\nDf Residuals:                                     18559   BIC:                         1.579e+05\nDf Model:                                             6                                         \nCovariance Type:                              nonrobust                                         \n=======================================================================================================================\n                                                          coef    std err          t      P>|t|      [0.025      0.975]\n-----------------------------------------------------------------------------------------------------------------------\nconst                                                  -4.5012      0.907     -4.965      0.000      -6.278      -2.724\nRevenue - Actual                                       -0.5988      2.184     -0.274      0.784      -4.880       3.683\nEnterprise Value                                       15.9719     11.303      1.413      0.158      -6.183      38.127\nMarket Capitalization                                  -4.8615     11.051     -0.440      0.660     -26.522      16.800\nloss firm status                                       -0.0120      0.247     -0.049      0.961      -0.496       0.472\nEnterprise Value To Sales (Daily Time Series Ratio)   -15.0306     10.119     -1.485      0.137     -34.864       4.803\n3 Month Total Return                                   41.1009      2.654     15.487      0.000      35.899      46.303\n==============================================================================\nOmnibus:                     3751.446   Durbin-Watson:                   1.659\nProb(Omnibus):                  0.000   Jarque-Bera (JB):            33468.836\nSkew:                           0.719   Prob(JB):                         0.00\nKurtosis:                       9.418   Cond. No.                         175.\n==============================================================================\n\nNotes:\n[1] Standard Errors assume that the covariance matrix of the errors is correctly specified.\n\"\"\"",
      "text/html": "<table class=\"simpletable\">\n<caption>OLS Regression Results</caption>\n<tr>\n  <th>Dep. Variable:</th>    <td>Earnings Per Share - Actual Surprise</td> <th>  R-squared:         </th> <td>   0.013</td> \n</tr>\n<tr>\n  <th>Model:</th>                             <td>OLS</td>                 <th>  Adj. R-squared:    </th> <td>   0.013</td> \n</tr>\n<tr>\n  <th>Method:</th>                       <td>Least Squares</td>            <th>  F-statistic:       </th> <td>   42.30</td> \n</tr>\n<tr>\n  <th>Date:</th>                       <td>Fri, 24 Feb 2023</td>           <th>  Prob (F-statistic):</th> <td>1.47e-51</td> \n</tr>\n<tr>\n  <th>Time:</th>                           <td>19:14:02</td>               <th>  Log-Likelihood:    </th> <td> -78898.</td> \n</tr>\n<tr>\n  <th>No. Observations:</th>                <td> 18566</td>                <th>  AIC:               </th> <td>1.578e+05</td>\n</tr>\n<tr>\n  <th>Df Residuals:</th>                    <td> 18559</td>                <th>  BIC:               </th> <td>1.579e+05</td>\n</tr>\n<tr>\n  <th>Df Model:</th>                        <td>     6</td>                <th>                     </th>     <td> </td>    \n</tr>\n<tr>\n  <th>Covariance Type:</th>                <td>nonrobust</td>              <th>                     </th>     <td> </td>    \n</tr>\n</table>\n<table class=\"simpletable\">\n<tr>\n                           <td></td>                              <th>coef</th>     <th>std err</th>      <th>t</th>      <th>P>|t|</th>  <th>[0.025</th>    <th>0.975]</th>  \n</tr>\n<tr>\n  <th>const</th>                                               <td>   -4.5012</td> <td>    0.907</td> <td>   -4.965</td> <td> 0.000</td> <td>   -6.278</td> <td>   -2.724</td>\n</tr>\n<tr>\n  <th>Revenue - Actual</th>                                    <td>   -0.5988</td> <td>    2.184</td> <td>   -0.274</td> <td> 0.784</td> <td>   -4.880</td> <td>    3.683</td>\n</tr>\n<tr>\n  <th>Enterprise Value</th>                                    <td>   15.9719</td> <td>   11.303</td> <td>    1.413</td> <td> 0.158</td> <td>   -6.183</td> <td>   38.127</td>\n</tr>\n<tr>\n  <th>Market Capitalization</th>                               <td>   -4.8615</td> <td>   11.051</td> <td>   -0.440</td> <td> 0.660</td> <td>  -26.522</td> <td>   16.800</td>\n</tr>\n<tr>\n  <th>loss firm status</th>                                    <td>   -0.0120</td> <td>    0.247</td> <td>   -0.049</td> <td> 0.961</td> <td>   -0.496</td> <td>    0.472</td>\n</tr>\n<tr>\n  <th>Enterprise Value To Sales (Daily Time Series Ratio)</th> <td>  -15.0306</td> <td>   10.119</td> <td>   -1.485</td> <td> 0.137</td> <td>  -34.864</td> <td>    4.803</td>\n</tr>\n<tr>\n  <th>3 Month Total Return</th>                                <td>   41.1009</td> <td>    2.654</td> <td>   15.487</td> <td> 0.000</td> <td>   35.899</td> <td>   46.303</td>\n</tr>\n</table>\n<table class=\"simpletable\">\n<tr>\n  <th>Omnibus:</th>       <td>3751.446</td> <th>  Durbin-Watson:     </th> <td>   1.659</td> \n</tr>\n<tr>\n  <th>Prob(Omnibus):</th>  <td> 0.000</td>  <th>  Jarque-Bera (JB):  </th> <td>33468.836</td>\n</tr>\n<tr>\n  <th>Skew:</th>           <td> 0.719</td>  <th>  Prob(JB):          </th> <td>    0.00</td> \n</tr>\n<tr>\n  <th>Kurtosis:</th>       <td> 9.418</td>  <th>  Cond. No.          </th> <td>    175.</td> \n</tr>\n</table><br/><br/>Notes:<br/>[1] Standard Errors assume that the covariance matrix of the errors is correctly specified."
     },
     "execution_count": 133,
     "metadata": {},
     "output_type": "execute_result"
    }
   ],
   "source": [
    "X_var_names = [\"Revenue - Actual\",\"Enterprise Value\",\"Market Capitalization\",\"loss firm status\", \"Enterprise Value To Sales (Daily Time Series Ratio)\", \"3 Month Total Return\"]\n",
    "y = rescale[\"Earnings Per Share - Actual Surprise\"]\n",
    "#X = df_accuracy_new[['Revenue - Actual', 'Net Income after Tax']]\n",
    "X = rescale[X_var_names]\n",
    "X = sm.add_constant(X)\n",
    "\n",
    "model = sm.OLS(y, X).fit()\n",
    "\n",
    "model.summary()"
   ]
  },
  {
   "attachments": {},
   "cell_type": "markdown",
   "metadata": {},
   "source": [
    "#### OLS Pooled Regression"
   ]
  },
  {
   "cell_type": "code",
   "execution_count": 134,
   "outputs": [
    {
     "data": {
      "text/plain": "Instrument                                                     object\nDate                                                   datetime64[ns]\nEarnings Per Share - Actual Surprise                          float64\nRevenue - Actual                                              float64\nEnterprise Value                                              float64\nMarket Capitalization                                         float64\nEnterprise Value To Sales (Daily Time Series Ratio)           float64\n3 Month Total Return                                          float64\nloss firm status                                                int64\ndtype: object"
     },
     "execution_count": 134,
     "metadata": {},
     "output_type": "execute_result"
    }
   ],
   "source": [
    "df_accuracy_new['Date'] = pd.to_datetime(df_accuracy_new['Date'], infer_datetime_format=True)\n",
    "df_accuracy_new.dtypes"
   ],
   "metadata": {
    "collapsed": false
   }
  },
  {
   "cell_type": "code",
   "execution_count": 135,
   "outputs": [
    {
     "data": {
      "text/plain": "                       Earnings Per Share - Actual Surprise  Revenue - Actual  \\\nInstrument Date                                                                 \nPOOL.OQ    2022-10-01                                 4.196          0.065637   \n           2022-07-01                                 1.503          0.068358   \n           2022-04-01                                34.342          0.064385   \n           2022-01-01                                40.267          0.062055   \n           2021-10-01                                17.194          0.064377   \n...                                                     ...               ...   \nAVY.N      2014-01-01                                 1.471          0.065443   \n           2013-10-01                                 8.095          0.064955   \n           2013-07-01                                 1.068          0.065247   \n           2013-04-01                                 2.482          0.064917   \n           2013-01-01                                11.178          0.065123   \n\n                       Enterprise Value  Market Capitalization  \\\nInstrument Date                                                  \nPOOL.OQ    2022-10-01          0.031045               0.004337   \n           2022-07-01          0.031540               0.004842   \n           2022-04-01          0.032488               0.005848   \n           2022-01-01          0.034274               0.007826   \n           2021-10-01          0.032245               0.006004   \n...                                 ...                    ...   \nAVY.N      2014-01-01          0.028238               0.001667   \n           2013-10-01          0.028065               0.001459   \n           2013-07-01          0.028199               0.001453   \n           2013-04-01          0.028207               0.001471   \n           2013-01-01          0.027862               0.001166   \n\n                       Enterprise Value To Sales (Daily Time Series Ratio)  \\\nInstrument Date                                                              \nPOOL.OQ    2022-10-01                                           0.029064     \n           2022-07-01                                           0.029495     \n           2022-04-01                                           0.030290     \n           2022-01-01                                           0.031566     \n           2021-10-01                                           0.030598     \n...                                                                  ...     \nAVY.N      2014-01-01                                           0.027338     \n           2013-10-01                                           0.027317     \n           2013-07-01                                           0.027321     \n           2013-04-01                                           0.027308     \n           2013-01-01                                           0.027195     \n\n                       3 Month Total Return  loss firm status  \nInstrument Date                                                \nPOOL.OQ    2022-10-01              0.235367                -1  \n           2022-07-01              0.195817                -1  \n           2022-04-01              0.184744                -1  \n           2022-01-01              0.360861                -1  \n           2021-10-01              0.248134                -1  \n...                                     ...               ...  \nAVY.N      2014-01-01              0.315017                -1  \n           2013-10-01              0.272179                -1  \n           2013-07-01              0.264198                -1  \n           2013-04-01              0.340793                -1  \n           2013-01-01              0.298034                -1  \n\n[18566 rows x 7 columns]",
      "text/html": "<div>\n<style scoped>\n    .dataframe tbody tr th:only-of-type {\n        vertical-align: middle;\n    }\n\n    .dataframe tbody tr th {\n        vertical-align: top;\n    }\n\n    .dataframe thead th {\n        text-align: right;\n    }\n</style>\n<table border=\"1\" class=\"dataframe\">\n  <thead>\n    <tr style=\"text-align: right;\">\n      <th></th>\n      <th></th>\n      <th>Earnings Per Share - Actual Surprise</th>\n      <th>Revenue - Actual</th>\n      <th>Enterprise Value</th>\n      <th>Market Capitalization</th>\n      <th>Enterprise Value To Sales (Daily Time Series Ratio)</th>\n      <th>3 Month Total Return</th>\n      <th>loss firm status</th>\n    </tr>\n    <tr>\n      <th>Instrument</th>\n      <th>Date</th>\n      <th></th>\n      <th></th>\n      <th></th>\n      <th></th>\n      <th></th>\n      <th></th>\n      <th></th>\n    </tr>\n  </thead>\n  <tbody>\n    <tr>\n      <th rowspan=\"5\" valign=\"top\">POOL.OQ</th>\n      <th>2022-10-01</th>\n      <td>4.196</td>\n      <td>0.065637</td>\n      <td>0.031045</td>\n      <td>0.004337</td>\n      <td>0.029064</td>\n      <td>0.235367</td>\n      <td>-1</td>\n    </tr>\n    <tr>\n      <th>2022-07-01</th>\n      <td>1.503</td>\n      <td>0.068358</td>\n      <td>0.031540</td>\n      <td>0.004842</td>\n      <td>0.029495</td>\n      <td>0.195817</td>\n      <td>-1</td>\n    </tr>\n    <tr>\n      <th>2022-04-01</th>\n      <td>34.342</td>\n      <td>0.064385</td>\n      <td>0.032488</td>\n      <td>0.005848</td>\n      <td>0.030290</td>\n      <td>0.184744</td>\n      <td>-1</td>\n    </tr>\n    <tr>\n      <th>2022-01-01</th>\n      <td>40.267</td>\n      <td>0.062055</td>\n      <td>0.034274</td>\n      <td>0.007826</td>\n      <td>0.031566</td>\n      <td>0.360861</td>\n      <td>-1</td>\n    </tr>\n    <tr>\n      <th>2021-10-01</th>\n      <td>17.194</td>\n      <td>0.064377</td>\n      <td>0.032245</td>\n      <td>0.006004</td>\n      <td>0.030598</td>\n      <td>0.248134</td>\n      <td>-1</td>\n    </tr>\n    <tr>\n      <th>...</th>\n      <th>...</th>\n      <td>...</td>\n      <td>...</td>\n      <td>...</td>\n      <td>...</td>\n      <td>...</td>\n      <td>...</td>\n      <td>...</td>\n    </tr>\n    <tr>\n      <th rowspan=\"5\" valign=\"top\">AVY.N</th>\n      <th>2014-01-01</th>\n      <td>1.471</td>\n      <td>0.065443</td>\n      <td>0.028238</td>\n      <td>0.001667</td>\n      <td>0.027338</td>\n      <td>0.315017</td>\n      <td>-1</td>\n    </tr>\n    <tr>\n      <th>2013-10-01</th>\n      <td>8.095</td>\n      <td>0.064955</td>\n      <td>0.028065</td>\n      <td>0.001459</td>\n      <td>0.027317</td>\n      <td>0.272179</td>\n      <td>-1</td>\n    </tr>\n    <tr>\n      <th>2013-07-01</th>\n      <td>1.068</td>\n      <td>0.065247</td>\n      <td>0.028199</td>\n      <td>0.001453</td>\n      <td>0.027321</td>\n      <td>0.264198</td>\n      <td>-1</td>\n    </tr>\n    <tr>\n      <th>2013-04-01</th>\n      <td>2.482</td>\n      <td>0.064917</td>\n      <td>0.028207</td>\n      <td>0.001471</td>\n      <td>0.027308</td>\n      <td>0.340793</td>\n      <td>-1</td>\n    </tr>\n    <tr>\n      <th>2013-01-01</th>\n      <td>11.178</td>\n      <td>0.065123</td>\n      <td>0.027862</td>\n      <td>0.001166</td>\n      <td>0.027195</td>\n      <td>0.298034</td>\n      <td>-1</td>\n    </tr>\n  </tbody>\n</table>\n<p>18566 rows × 7 columns</p>\n</div>"
     },
     "execution_count": 135,
     "metadata": {},
     "output_type": "execute_result"
    }
   ],
   "source": [
    "df_accuracy_new.set_index([\"Instrument\", \"Date\"], inplace=True)\n",
    "df_accuracy_new"
   ],
   "metadata": {
    "collapsed": false
   }
  },
  {
   "cell_type": "code",
   "execution_count": 136,
   "metadata": {},
   "outputs": [],
   "source": [
    "import pandas as pd\n",
    "import scipy.stats as st\n",
    "import statsmodels.api as sm\n",
    "import statsmodels.graphics.tsaplots as tsap\n",
    "from statsmodels.compat import lzip\n",
    "from statsmodels.stats.diagnostic import het_white\n",
    "from matplotlib import pyplot as plt"
   ]
  },
  {
   "cell_type": "code",
   "execution_count": 137,
   "outputs": [],
   "source": [
    "y_var_name = 'Earnings Per Share - Actual Surprise'\n",
    "X_var_names = [\"Revenue - Actual\",\"Enterprise Value\",\"Market Capitalization\",\"loss firm status\", \"Enterprise Value To Sales (Daily Time Series Ratio)\", \"3 Month Total Return\"]\n",
    "pooled_y=df_accuracy_new[y_var_name]\n",
    "pooled_X=df_accuracy_new[X_var_names]"
   ],
   "metadata": {
    "collapsed": false
   }
  },
  {
   "cell_type": "code",
   "execution_count": 138,
   "outputs": [
    {
     "data": {
      "text/plain": "                       const  Revenue - Actual  Enterprise Value  \\\nInstrument Date                                                    \nPOOL.OQ    2022-10-01    1.0          0.065637          0.031045   \n           2022-07-01    1.0          0.068358          0.031540   \n           2022-04-01    1.0          0.064385          0.032488   \n           2022-01-01    1.0          0.062055          0.034274   \n           2021-10-01    1.0          0.064377          0.032245   \n...                      ...               ...               ...   \nAVY.N      2014-01-01    1.0          0.065443          0.028238   \n           2013-10-01    1.0          0.064955          0.028065   \n           2013-07-01    1.0          0.065247          0.028199   \n           2013-04-01    1.0          0.064917          0.028207   \n           2013-01-01    1.0          0.065123          0.027862   \n\n                       Market Capitalization  loss firm status  \\\nInstrument Date                                                  \nPOOL.OQ    2022-10-01               0.004337                -1   \n           2022-07-01               0.004842                -1   \n           2022-04-01               0.005848                -1   \n           2022-01-01               0.007826                -1   \n           2021-10-01               0.006004                -1   \n...                                      ...               ...   \nAVY.N      2014-01-01               0.001667                -1   \n           2013-10-01               0.001459                -1   \n           2013-07-01               0.001453                -1   \n           2013-04-01               0.001471                -1   \n           2013-01-01               0.001166                -1   \n\n                       Enterprise Value To Sales (Daily Time Series Ratio)  \\\nInstrument Date                                                              \nPOOL.OQ    2022-10-01                                           0.029064     \n           2022-07-01                                           0.029495     \n           2022-04-01                                           0.030290     \n           2022-01-01                                           0.031566     \n           2021-10-01                                           0.030598     \n...                                                                  ...     \nAVY.N      2014-01-01                                           0.027338     \n           2013-10-01                                           0.027317     \n           2013-07-01                                           0.027321     \n           2013-04-01                                           0.027308     \n           2013-01-01                                           0.027195     \n\n                       3 Month Total Return  \nInstrument Date                              \nPOOL.OQ    2022-10-01              0.235367  \n           2022-07-01              0.195817  \n           2022-04-01              0.184744  \n           2022-01-01              0.360861  \n           2021-10-01              0.248134  \n...                                     ...  \nAVY.N      2014-01-01              0.315017  \n           2013-10-01              0.272179  \n           2013-07-01              0.264198  \n           2013-04-01              0.340793  \n           2013-01-01              0.298034  \n\n[18566 rows x 7 columns]",
      "text/html": "<div>\n<style scoped>\n    .dataframe tbody tr th:only-of-type {\n        vertical-align: middle;\n    }\n\n    .dataframe tbody tr th {\n        vertical-align: top;\n    }\n\n    .dataframe thead th {\n        text-align: right;\n    }\n</style>\n<table border=\"1\" class=\"dataframe\">\n  <thead>\n    <tr style=\"text-align: right;\">\n      <th></th>\n      <th></th>\n      <th>const</th>\n      <th>Revenue - Actual</th>\n      <th>Enterprise Value</th>\n      <th>Market Capitalization</th>\n      <th>loss firm status</th>\n      <th>Enterprise Value To Sales (Daily Time Series Ratio)</th>\n      <th>3 Month Total Return</th>\n    </tr>\n    <tr>\n      <th>Instrument</th>\n      <th>Date</th>\n      <th></th>\n      <th></th>\n      <th></th>\n      <th></th>\n      <th></th>\n      <th></th>\n      <th></th>\n    </tr>\n  </thead>\n  <tbody>\n    <tr>\n      <th rowspan=\"5\" valign=\"top\">POOL.OQ</th>\n      <th>2022-10-01</th>\n      <td>1.0</td>\n      <td>0.065637</td>\n      <td>0.031045</td>\n      <td>0.004337</td>\n      <td>-1</td>\n      <td>0.029064</td>\n      <td>0.235367</td>\n    </tr>\n    <tr>\n      <th>2022-07-01</th>\n      <td>1.0</td>\n      <td>0.068358</td>\n      <td>0.031540</td>\n      <td>0.004842</td>\n      <td>-1</td>\n      <td>0.029495</td>\n      <td>0.195817</td>\n    </tr>\n    <tr>\n      <th>2022-04-01</th>\n      <td>1.0</td>\n      <td>0.064385</td>\n      <td>0.032488</td>\n      <td>0.005848</td>\n      <td>-1</td>\n      <td>0.030290</td>\n      <td>0.184744</td>\n    </tr>\n    <tr>\n      <th>2022-01-01</th>\n      <td>1.0</td>\n      <td>0.062055</td>\n      <td>0.034274</td>\n      <td>0.007826</td>\n      <td>-1</td>\n      <td>0.031566</td>\n      <td>0.360861</td>\n    </tr>\n    <tr>\n      <th>2021-10-01</th>\n      <td>1.0</td>\n      <td>0.064377</td>\n      <td>0.032245</td>\n      <td>0.006004</td>\n      <td>-1</td>\n      <td>0.030598</td>\n      <td>0.248134</td>\n    </tr>\n    <tr>\n      <th>...</th>\n      <th>...</th>\n      <td>...</td>\n      <td>...</td>\n      <td>...</td>\n      <td>...</td>\n      <td>...</td>\n      <td>...</td>\n      <td>...</td>\n    </tr>\n    <tr>\n      <th rowspan=\"5\" valign=\"top\">AVY.N</th>\n      <th>2014-01-01</th>\n      <td>1.0</td>\n      <td>0.065443</td>\n      <td>0.028238</td>\n      <td>0.001667</td>\n      <td>-1</td>\n      <td>0.027338</td>\n      <td>0.315017</td>\n    </tr>\n    <tr>\n      <th>2013-10-01</th>\n      <td>1.0</td>\n      <td>0.064955</td>\n      <td>0.028065</td>\n      <td>0.001459</td>\n      <td>-1</td>\n      <td>0.027317</td>\n      <td>0.272179</td>\n    </tr>\n    <tr>\n      <th>2013-07-01</th>\n      <td>1.0</td>\n      <td>0.065247</td>\n      <td>0.028199</td>\n      <td>0.001453</td>\n      <td>-1</td>\n      <td>0.027321</td>\n      <td>0.264198</td>\n    </tr>\n    <tr>\n      <th>2013-04-01</th>\n      <td>1.0</td>\n      <td>0.064917</td>\n      <td>0.028207</td>\n      <td>0.001471</td>\n      <td>-1</td>\n      <td>0.027308</td>\n      <td>0.340793</td>\n    </tr>\n    <tr>\n      <th>2013-01-01</th>\n      <td>1.0</td>\n      <td>0.065123</td>\n      <td>0.027862</td>\n      <td>0.001166</td>\n      <td>-1</td>\n      <td>0.027195</td>\n      <td>0.298034</td>\n    </tr>\n  </tbody>\n</table>\n<p>18566 rows × 7 columns</p>\n</div>"
     },
     "execution_count": 138,
     "metadata": {},
     "output_type": "execute_result"
    }
   ],
   "source": [
    "pooled_X = sm.add_constant(pooled_X)\n",
    "pooled_X"
   ],
   "metadata": {
    "collapsed": false
   }
  },
  {
   "cell_type": "code",
   "execution_count": 139,
   "outputs": [],
   "source": [
    "pooled_olsr_model = sm.OLS(endog=pooled_y, exog=pooled_X)"
   ],
   "metadata": {
    "collapsed": false
   }
  },
  {
   "cell_type": "code",
   "execution_count": 140,
   "outputs": [],
   "source": [
    "pooled_olsr_model_results = pooled_olsr_model.fit()"
   ],
   "metadata": {
    "collapsed": false
   }
  },
  {
   "cell_type": "code",
   "execution_count": 141,
   "outputs": [
    {
     "data": {
      "text/plain": "<class 'statsmodels.iolib.summary.Summary'>\n\"\"\"\n                                     OLS Regression Results                                     \n================================================================================================\nDep. Variable:     Earnings Per Share - Actual Surprise   R-squared:                       0.013\nModel:                                              OLS   Adj. R-squared:                  0.013\nMethod:                                   Least Squares   F-statistic:                     42.30\nDate:                                  Fri, 24 Feb 2023   Prob (F-statistic):           1.47e-51\nTime:                                          19:14:02   Log-Likelihood:                -78898.\nNo. Observations:                                 18566   AIC:                         1.578e+05\nDf Residuals:                                     18559   BIC:                         1.579e+05\nDf Model:                                             6                                         \nCovariance Type:                              nonrobust                                         \n=======================================================================================================================\n                                                          coef    std err          t      P>|t|      [0.025      0.975]\n-----------------------------------------------------------------------------------------------------------------------\nconst                                                  -4.5012      0.907     -4.965      0.000      -6.278      -2.724\nRevenue - Actual                                       -0.5988      2.184     -0.274      0.784      -4.880       3.683\nEnterprise Value                                       15.9719     11.303      1.413      0.158      -6.183      38.127\nMarket Capitalization                                  -4.8615     11.051     -0.440      0.660     -26.522      16.800\nloss firm status                                       -0.0120      0.247     -0.049      0.961      -0.496       0.472\nEnterprise Value To Sales (Daily Time Series Ratio)   -15.0306     10.119     -1.485      0.137     -34.864       4.803\n3 Month Total Return                                   41.1009      2.654     15.487      0.000      35.899      46.303\n==============================================================================\nOmnibus:                     3751.446   Durbin-Watson:                   1.659\nProb(Omnibus):                  0.000   Jarque-Bera (JB):            33468.836\nSkew:                           0.719   Prob(JB):                         0.00\nKurtosis:                       9.418   Cond. No.                         175.\n==============================================================================\n\nNotes:\n[1] Standard Errors assume that the covariance matrix of the errors is correctly specified.\n\"\"\"",
      "text/html": "<table class=\"simpletable\">\n<caption>OLS Regression Results</caption>\n<tr>\n  <th>Dep. Variable:</th>    <td>Earnings Per Share - Actual Surprise</td> <th>  R-squared:         </th> <td>   0.013</td> \n</tr>\n<tr>\n  <th>Model:</th>                             <td>OLS</td>                 <th>  Adj. R-squared:    </th> <td>   0.013</td> \n</tr>\n<tr>\n  <th>Method:</th>                       <td>Least Squares</td>            <th>  F-statistic:       </th> <td>   42.30</td> \n</tr>\n<tr>\n  <th>Date:</th>                       <td>Fri, 24 Feb 2023</td>           <th>  Prob (F-statistic):</th> <td>1.47e-51</td> \n</tr>\n<tr>\n  <th>Time:</th>                           <td>19:14:02</td>               <th>  Log-Likelihood:    </th> <td> -78898.</td> \n</tr>\n<tr>\n  <th>No. Observations:</th>                <td> 18566</td>                <th>  AIC:               </th> <td>1.578e+05</td>\n</tr>\n<tr>\n  <th>Df Residuals:</th>                    <td> 18559</td>                <th>  BIC:               </th> <td>1.579e+05</td>\n</tr>\n<tr>\n  <th>Df Model:</th>                        <td>     6</td>                <th>                     </th>     <td> </td>    \n</tr>\n<tr>\n  <th>Covariance Type:</th>                <td>nonrobust</td>              <th>                     </th>     <td> </td>    \n</tr>\n</table>\n<table class=\"simpletable\">\n<tr>\n                           <td></td>                              <th>coef</th>     <th>std err</th>      <th>t</th>      <th>P>|t|</th>  <th>[0.025</th>    <th>0.975]</th>  \n</tr>\n<tr>\n  <th>const</th>                                               <td>   -4.5012</td> <td>    0.907</td> <td>   -4.965</td> <td> 0.000</td> <td>   -6.278</td> <td>   -2.724</td>\n</tr>\n<tr>\n  <th>Revenue - Actual</th>                                    <td>   -0.5988</td> <td>    2.184</td> <td>   -0.274</td> <td> 0.784</td> <td>   -4.880</td> <td>    3.683</td>\n</tr>\n<tr>\n  <th>Enterprise Value</th>                                    <td>   15.9719</td> <td>   11.303</td> <td>    1.413</td> <td> 0.158</td> <td>   -6.183</td> <td>   38.127</td>\n</tr>\n<tr>\n  <th>Market Capitalization</th>                               <td>   -4.8615</td> <td>   11.051</td> <td>   -0.440</td> <td> 0.660</td> <td>  -26.522</td> <td>   16.800</td>\n</tr>\n<tr>\n  <th>loss firm status</th>                                    <td>   -0.0120</td> <td>    0.247</td> <td>   -0.049</td> <td> 0.961</td> <td>   -0.496</td> <td>    0.472</td>\n</tr>\n<tr>\n  <th>Enterprise Value To Sales (Daily Time Series Ratio)</th> <td>  -15.0306</td> <td>   10.119</td> <td>   -1.485</td> <td> 0.137</td> <td>  -34.864</td> <td>    4.803</td>\n</tr>\n<tr>\n  <th>3 Month Total Return</th>                                <td>   41.1009</td> <td>    2.654</td> <td>   15.487</td> <td> 0.000</td> <td>   35.899</td> <td>   46.303</td>\n</tr>\n</table>\n<table class=\"simpletable\">\n<tr>\n  <th>Omnibus:</th>       <td>3751.446</td> <th>  Durbin-Watson:     </th> <td>   1.659</td> \n</tr>\n<tr>\n  <th>Prob(Omnibus):</th>  <td> 0.000</td>  <th>  Jarque-Bera (JB):  </th> <td>33468.836</td>\n</tr>\n<tr>\n  <th>Skew:</th>           <td> 0.719</td>  <th>  Prob(JB):          </th> <td>    0.00</td> \n</tr>\n<tr>\n  <th>Kurtosis:</th>       <td> 9.418</td>  <th>  Cond. No.          </th> <td>    175.</td> \n</tr>\n</table><br/><br/>Notes:<br/>[1] Standard Errors assume that the covariance matrix of the errors is correctly specified."
     },
     "execution_count": 141,
     "metadata": {},
     "output_type": "execute_result"
    }
   ],
   "source": [
    "pooled_olsr_model_results.summary()"
   ],
   "metadata": {
    "collapsed": false
   }
  },
  {
   "cell_type": "code",
   "execution_count": 141,
   "outputs": [],
   "source": [],
   "metadata": {
    "collapsed": false
   }
  }
 ],
 "metadata": {
  "kernelspec": {
   "display_name": "AnalystForecast",
   "language": "python",
   "name": "python3"
  },
  "language_info": {
   "name": "python",
   "version": "3.11.0"
  },
  "orig_nbformat": 4,
  "vscode": {
   "interpreter": {
    "hash": "264d128b47a19451ae7876f5ee246d3f7de9751940a5ebe47f15ec6626e5a91f"
   }
  }
 },
 "nbformat": 4,
 "nbformat_minor": 2
}
