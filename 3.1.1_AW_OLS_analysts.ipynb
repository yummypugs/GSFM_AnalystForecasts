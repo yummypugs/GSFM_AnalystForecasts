{
 "cells": [
  {
   "cell_type": "code",
   "execution_count": 21,
   "metadata": {},
   "outputs": [],
   "source": [
    "import pandas as pd\n",
    "import statsmodels.api as sm\n",
    "from sklearn.linear_model import LinearRegression\n",
    "from sklearn.preprocessing import MinMaxScaler\n",
    "from sklearn.preprocessing import StandardScaler\n",
    "\n",
    "import numpy as np\n",
    "\n",
    "from linearmodels.panel import PanelOLS\n",
    "import datetime as dt"
   ]
  },
  {
   "attachments": {},
   "cell_type": "markdown",
   "metadata": {},
   "source": [
    "# Characteristics OLS\n",
    "\n",
    "Professor said we should start with a regular OLS Regression.\n",
    "I quickly looked into this and think a random effects panel regression would probably fit our data better (still need to read more into this)\n",
    "So probably we can first do a regular OLS and than compare it to the random effects panel regression. Just some initial thoughts though!!!\n",
    "Here is some intial code to run them:\n"
   ]
  },
  {
   "cell_type": "code",
   "execution_count": 22,
   "metadata": {},
   "outputs": [
    {
     "data": {
      "text/plain": "      Instrument        Date GICS Industry Group Name  \\\n0          AVY.N  2013-01-01                Materials   \n1          AVY.N  2013-04-01                Materials   \n2          AVY.N  2013-07-01                Materials   \n3          AVY.N  2013-10-01                Materials   \n4          AVY.N  2014-01-01                Materials   \n...          ...         ...                      ...   \n20115    POOL.OQ  2021-10-01                Retailing   \n20116    POOL.OQ  2022-01-01                Retailing   \n20117    POOL.OQ  2022-04-01                Retailing   \n20118    POOL.OQ  2022-07-01                Retailing   \n20119    POOL.OQ  2022-10-01                Retailing   \n\n       Earnings Per Share - Actual Surprise  \\\n0                                    11.178   \n1                                     2.482   \n2                                     1.068   \n3                                     8.095   \n4                                     1.471   \n...                                     ...   \n20115                                17.194   \n20116                                40.267   \n20117                                34.342   \n20118                                 1.503   \n20119                                 4.196   \n\n       Earnings Per Share – Coefficient of Variation  Recommendation change  \\\n0                                           3.625620                0.00000   \n1                                           2.046169               -0.12500   \n2                                           1.551601                0.00000   \n3                                           2.775994               -0.25000   \n4                                           3.204412               -0.29167   \n...                                              ...                    ...   \n20115                                       2.836295                0.00000   \n20116                                       3.269867                0.00000   \n20117                                       6.630736               -0.30000   \n20118                                       3.625249                0.20000   \n20119                                       3.843706                0.07273   \n\n       Number of Analysts  Recommendation - Mean (1-5)  Price Target - Mean  \\\n0                     7.0                      3.00000             36.00000   \n1                     7.0                      2.87500             42.57143   \n2                     8.0                      2.87500             45.00000   \n3                     7.0                      2.62500             47.71429   \n4                     8.0                      2.33333             54.62500   \n...                   ...                          ...                  ...   \n20115                 8.0                      2.30000            545.28571   \n20116                 8.0                      2.30000            571.00000   \n20117                 9.0                      2.00000            519.88889   \n20118                 9.0                      2.20000            435.37500   \n20119                10.0                      2.27273            360.11111   \n\n       Price Target - Standard Deviation  \n0                                2.44949  \n1                                3.92272  \n2                                4.30946  \n3                                3.45230  \n4                                3.42555  \n...                                  ...  \n20115                           50.48823  \n20116                           41.33833  \n20117                           37.49206  \n20118                           57.57373  \n20119                           24.95082  \n\n[20120 rows x 10 columns]",
      "text/html": "<div>\n<style scoped>\n    .dataframe tbody tr th:only-of-type {\n        vertical-align: middle;\n    }\n\n    .dataframe tbody tr th {\n        vertical-align: top;\n    }\n\n    .dataframe thead th {\n        text-align: right;\n    }\n</style>\n<table border=\"1\" class=\"dataframe\">\n  <thead>\n    <tr style=\"text-align: right;\">\n      <th></th>\n      <th>Instrument</th>\n      <th>Date</th>\n      <th>GICS Industry Group Name</th>\n      <th>Earnings Per Share - Actual Surprise</th>\n      <th>Earnings Per Share – Coefficient of Variation</th>\n      <th>Recommendation change</th>\n      <th>Number of Analysts</th>\n      <th>Recommendation - Mean (1-5)</th>\n      <th>Price Target - Mean</th>\n      <th>Price Target - Standard Deviation</th>\n    </tr>\n  </thead>\n  <tbody>\n    <tr>\n      <th>0</th>\n      <td>AVY.N</td>\n      <td>2013-01-01</td>\n      <td>Materials</td>\n      <td>11.178</td>\n      <td>3.625620</td>\n      <td>0.00000</td>\n      <td>7.0</td>\n      <td>3.00000</td>\n      <td>36.00000</td>\n      <td>2.44949</td>\n    </tr>\n    <tr>\n      <th>1</th>\n      <td>AVY.N</td>\n      <td>2013-04-01</td>\n      <td>Materials</td>\n      <td>2.482</td>\n      <td>2.046169</td>\n      <td>-0.12500</td>\n      <td>7.0</td>\n      <td>2.87500</td>\n      <td>42.57143</td>\n      <td>3.92272</td>\n    </tr>\n    <tr>\n      <th>2</th>\n      <td>AVY.N</td>\n      <td>2013-07-01</td>\n      <td>Materials</td>\n      <td>1.068</td>\n      <td>1.551601</td>\n      <td>0.00000</td>\n      <td>8.0</td>\n      <td>2.87500</td>\n      <td>45.00000</td>\n      <td>4.30946</td>\n    </tr>\n    <tr>\n      <th>3</th>\n      <td>AVY.N</td>\n      <td>2013-10-01</td>\n      <td>Materials</td>\n      <td>8.095</td>\n      <td>2.775994</td>\n      <td>-0.25000</td>\n      <td>7.0</td>\n      <td>2.62500</td>\n      <td>47.71429</td>\n      <td>3.45230</td>\n    </tr>\n    <tr>\n      <th>4</th>\n      <td>AVY.N</td>\n      <td>2014-01-01</td>\n      <td>Materials</td>\n      <td>1.471</td>\n      <td>3.204412</td>\n      <td>-0.29167</td>\n      <td>8.0</td>\n      <td>2.33333</td>\n      <td>54.62500</td>\n      <td>3.42555</td>\n    </tr>\n    <tr>\n      <th>...</th>\n      <td>...</td>\n      <td>...</td>\n      <td>...</td>\n      <td>...</td>\n      <td>...</td>\n      <td>...</td>\n      <td>...</td>\n      <td>...</td>\n      <td>...</td>\n      <td>...</td>\n    </tr>\n    <tr>\n      <th>20115</th>\n      <td>POOL.OQ</td>\n      <td>2021-10-01</td>\n      <td>Retailing</td>\n      <td>17.194</td>\n      <td>2.836295</td>\n      <td>0.00000</td>\n      <td>8.0</td>\n      <td>2.30000</td>\n      <td>545.28571</td>\n      <td>50.48823</td>\n    </tr>\n    <tr>\n      <th>20116</th>\n      <td>POOL.OQ</td>\n      <td>2022-01-01</td>\n      <td>Retailing</td>\n      <td>40.267</td>\n      <td>3.269867</td>\n      <td>0.00000</td>\n      <td>8.0</td>\n      <td>2.30000</td>\n      <td>571.00000</td>\n      <td>41.33833</td>\n    </tr>\n    <tr>\n      <th>20117</th>\n      <td>POOL.OQ</td>\n      <td>2022-04-01</td>\n      <td>Retailing</td>\n      <td>34.342</td>\n      <td>6.630736</td>\n      <td>-0.30000</td>\n      <td>9.0</td>\n      <td>2.00000</td>\n      <td>519.88889</td>\n      <td>37.49206</td>\n    </tr>\n    <tr>\n      <th>20118</th>\n      <td>POOL.OQ</td>\n      <td>2022-07-01</td>\n      <td>Retailing</td>\n      <td>1.503</td>\n      <td>3.625249</td>\n      <td>0.20000</td>\n      <td>9.0</td>\n      <td>2.20000</td>\n      <td>435.37500</td>\n      <td>57.57373</td>\n    </tr>\n    <tr>\n      <th>20119</th>\n      <td>POOL.OQ</td>\n      <td>2022-10-01</td>\n      <td>Retailing</td>\n      <td>4.196</td>\n      <td>3.843706</td>\n      <td>0.07273</td>\n      <td>10.0</td>\n      <td>2.27273</td>\n      <td>360.11111</td>\n      <td>24.95082</td>\n    </tr>\n  </tbody>\n</table>\n<p>20120 rows × 10 columns</p>\n</div>"
     },
     "execution_count": 22,
     "metadata": {},
     "output_type": "execute_result"
    }
   ],
   "source": [
    "#decide which df to use\n",
    "df = pd.read_csv(\"Dataframes/analysts.csv\")\n",
    "#df = df.loc[:, [\"Instrument\", \"Date\", \"Earnings Per Share - Actual Surprise\", \"Revenue - Actual\", \"Net Income after Tax\"]]\n",
    "X_var_names = [\"Earnings Per Share – Coefficient of Variation\", \"Number of Analysts\", \"Recommendation - Mean (1-5)\", \"Recommendation change\", \"Price Target - Mean\", \"Price Target - Standard Deviation\"]\n",
    "df"
   ]
  },
  {
   "attachments": {},
   "cell_type": "markdown",
   "metadata": {},
   "source": [
    "#### OLS Regression"
   ]
  },
  {
   "cell_type": "code",
   "execution_count": 23,
   "outputs": [],
   "source": [
    "#identifying outliers and replacing them with NA\n",
    "summary_stats = df[\"Earnings Per Share - Actual Surprise\"].describe()\n",
    "Q1 = summary_stats.loc['25%']\n",
    "Q3 = summary_stats.loc['75%']\n",
    "IQR = Q3 - Q1\n",
    "threshold = 7 #1.5 is standard threshold but we still want to keep enough variation in the data so setting threshol higher here\n",
    "surprise_outliers_removed = df[\"Earnings Per Share - Actual Surprise\"].loc[~((df[\"Earnings Per Share - Actual Surprise\"] < (Q1 - threshold * IQR)) | (df[\"Earnings Per Share - Actual Surprise\"] > (Q3 + threshold * IQR)))]\n",
    "df_accuracy_new = df.copy()\n",
    "df_accuracy_new[\"Earnings Per Share - Actual Surprise\"] = surprise_outliers_removed\n",
    "df_accuracy_new = df_accuracy_new.dropna(subset=[\"Earnings Per Share - Actual Surprise\"])\n",
    "#df_accuracy_new[\"Recommendation - Mean (1-5)\"] = df_accuracy_new[\"Recommendation - Mean (1-5)\"].fillna(0)\n",
    "df_accuracy_new = df_accuracy_new.dropna()\n"
   ],
   "metadata": {
    "collapsed": false
   }
  },
  {
   "cell_type": "code",
   "execution_count": 24,
   "outputs": [
    {
     "data": {
      "text/plain": "      Instrument        Date GICS Industry Group Name  \\\n0          AVY.N  2013-01-01                Materials   \n1          AVY.N  2013-04-01                Materials   \n2          AVY.N  2013-07-01                Materials   \n3          AVY.N  2013-10-01                Materials   \n4          AVY.N  2014-01-01                Materials   \n...          ...         ...                      ...   \n20115    POOL.OQ  2021-10-01                Retailing   \n20116    POOL.OQ  2022-01-01                Retailing   \n20117    POOL.OQ  2022-04-01                Retailing   \n20118    POOL.OQ  2022-07-01                Retailing   \n20119    POOL.OQ  2022-10-01                Retailing   \n\n       Earnings Per Share - Actual Surprise  \\\n0                                    11.178   \n1                                     2.482   \n2                                     1.068   \n3                                     8.095   \n4                                     1.471   \n...                                     ...   \n20115                                17.194   \n20116                                40.267   \n20117                                34.342   \n20118                                 1.503   \n20119                                 4.196   \n\n       Earnings Per Share – Coefficient of Variation  Recommendation change  \\\n0                                           3.625620                0.00000   \n1                                           2.046169               -0.12500   \n2                                           1.551601                0.00000   \n3                                           2.775994               -0.25000   \n4                                           3.204412               -0.29167   \n...                                              ...                    ...   \n20115                                       2.836295                0.00000   \n20116                                       3.269867                0.00000   \n20117                                       6.630736               -0.30000   \n20118                                       3.625249                0.20000   \n20119                                       3.843706                0.07273   \n\n       Number of Analysts  Recommendation - Mean (1-5)  Price Target - Mean  \\\n0                     7.0                      3.00000             36.00000   \n1                     7.0                      2.87500             42.57143   \n2                     8.0                      2.87500             45.00000   \n3                     7.0                      2.62500             47.71429   \n4                     8.0                      2.33333             54.62500   \n...                   ...                          ...                  ...   \n20115                 8.0                      2.30000            545.28571   \n20116                 8.0                      2.30000            571.00000   \n20117                 9.0                      2.00000            519.88889   \n20118                 9.0                      2.20000            435.37500   \n20119                10.0                      2.27273            360.11111   \n\n       Price Target - Standard Deviation  \n0                                2.44949  \n1                                3.92272  \n2                                4.30946  \n3                                3.45230  \n4                                3.42555  \n...                                  ...  \n20115                           50.48823  \n20116                           41.33833  \n20117                           37.49206  \n20118                           57.57373  \n20119                           24.95082  \n\n[17707 rows x 10 columns]",
      "text/html": "<div>\n<style scoped>\n    .dataframe tbody tr th:only-of-type {\n        vertical-align: middle;\n    }\n\n    .dataframe tbody tr th {\n        vertical-align: top;\n    }\n\n    .dataframe thead th {\n        text-align: right;\n    }\n</style>\n<table border=\"1\" class=\"dataframe\">\n  <thead>\n    <tr style=\"text-align: right;\">\n      <th></th>\n      <th>Instrument</th>\n      <th>Date</th>\n      <th>GICS Industry Group Name</th>\n      <th>Earnings Per Share - Actual Surprise</th>\n      <th>Earnings Per Share – Coefficient of Variation</th>\n      <th>Recommendation change</th>\n      <th>Number of Analysts</th>\n      <th>Recommendation - Mean (1-5)</th>\n      <th>Price Target - Mean</th>\n      <th>Price Target - Standard Deviation</th>\n    </tr>\n  </thead>\n  <tbody>\n    <tr>\n      <th>0</th>\n      <td>AVY.N</td>\n      <td>2013-01-01</td>\n      <td>Materials</td>\n      <td>11.178</td>\n      <td>3.625620</td>\n      <td>0.00000</td>\n      <td>7.0</td>\n      <td>3.00000</td>\n      <td>36.00000</td>\n      <td>2.44949</td>\n    </tr>\n    <tr>\n      <th>1</th>\n      <td>AVY.N</td>\n      <td>2013-04-01</td>\n      <td>Materials</td>\n      <td>2.482</td>\n      <td>2.046169</td>\n      <td>-0.12500</td>\n      <td>7.0</td>\n      <td>2.87500</td>\n      <td>42.57143</td>\n      <td>3.92272</td>\n    </tr>\n    <tr>\n      <th>2</th>\n      <td>AVY.N</td>\n      <td>2013-07-01</td>\n      <td>Materials</td>\n      <td>1.068</td>\n      <td>1.551601</td>\n      <td>0.00000</td>\n      <td>8.0</td>\n      <td>2.87500</td>\n      <td>45.00000</td>\n      <td>4.30946</td>\n    </tr>\n    <tr>\n      <th>3</th>\n      <td>AVY.N</td>\n      <td>2013-10-01</td>\n      <td>Materials</td>\n      <td>8.095</td>\n      <td>2.775994</td>\n      <td>-0.25000</td>\n      <td>7.0</td>\n      <td>2.62500</td>\n      <td>47.71429</td>\n      <td>3.45230</td>\n    </tr>\n    <tr>\n      <th>4</th>\n      <td>AVY.N</td>\n      <td>2014-01-01</td>\n      <td>Materials</td>\n      <td>1.471</td>\n      <td>3.204412</td>\n      <td>-0.29167</td>\n      <td>8.0</td>\n      <td>2.33333</td>\n      <td>54.62500</td>\n      <td>3.42555</td>\n    </tr>\n    <tr>\n      <th>...</th>\n      <td>...</td>\n      <td>...</td>\n      <td>...</td>\n      <td>...</td>\n      <td>...</td>\n      <td>...</td>\n      <td>...</td>\n      <td>...</td>\n      <td>...</td>\n      <td>...</td>\n    </tr>\n    <tr>\n      <th>20115</th>\n      <td>POOL.OQ</td>\n      <td>2021-10-01</td>\n      <td>Retailing</td>\n      <td>17.194</td>\n      <td>2.836295</td>\n      <td>0.00000</td>\n      <td>8.0</td>\n      <td>2.30000</td>\n      <td>545.28571</td>\n      <td>50.48823</td>\n    </tr>\n    <tr>\n      <th>20116</th>\n      <td>POOL.OQ</td>\n      <td>2022-01-01</td>\n      <td>Retailing</td>\n      <td>40.267</td>\n      <td>3.269867</td>\n      <td>0.00000</td>\n      <td>8.0</td>\n      <td>2.30000</td>\n      <td>571.00000</td>\n      <td>41.33833</td>\n    </tr>\n    <tr>\n      <th>20117</th>\n      <td>POOL.OQ</td>\n      <td>2022-04-01</td>\n      <td>Retailing</td>\n      <td>34.342</td>\n      <td>6.630736</td>\n      <td>-0.30000</td>\n      <td>9.0</td>\n      <td>2.00000</td>\n      <td>519.88889</td>\n      <td>37.49206</td>\n    </tr>\n    <tr>\n      <th>20118</th>\n      <td>POOL.OQ</td>\n      <td>2022-07-01</td>\n      <td>Retailing</td>\n      <td>1.503</td>\n      <td>3.625249</td>\n      <td>0.20000</td>\n      <td>9.0</td>\n      <td>2.20000</td>\n      <td>435.37500</td>\n      <td>57.57373</td>\n    </tr>\n    <tr>\n      <th>20119</th>\n      <td>POOL.OQ</td>\n      <td>2022-10-01</td>\n      <td>Retailing</td>\n      <td>4.196</td>\n      <td>3.843706</td>\n      <td>0.07273</td>\n      <td>10.0</td>\n      <td>2.27273</td>\n      <td>360.11111</td>\n      <td>24.95082</td>\n    </tr>\n  </tbody>\n</table>\n<p>17707 rows × 10 columns</p>\n</div>"
     },
     "execution_count": 24,
     "metadata": {},
     "output_type": "execute_result"
    }
   ],
   "source": [
    "df_accuracy_new"
   ],
   "metadata": {
    "collapsed": false
   }
  },
  {
   "cell_type": "code",
   "execution_count": 25,
   "metadata": {},
   "outputs": [
    {
     "data": {
      "text/plain": "<class 'statsmodels.iolib.summary.Summary'>\n\"\"\"\n                                     OLS Regression Results                                     \n================================================================================================\nDep. Variable:     Earnings Per Share - Actual Surprise   R-squared:                       0.006\nModel:                                              OLS   Adj. R-squared:                  0.006\nMethod:                                   Least Squares   F-statistic:                     18.38\nDate:                                  Sun, 26 Feb 2023   Prob (F-statistic):           2.11e-21\nTime:                                          18:50:17   Log-Likelihood:                -75239.\nNo. Observations:                                 17707   AIC:                         1.505e+05\nDf Residuals:                                     17700   BIC:                         1.505e+05\nDf Model:                                             6                                         \nCovariance Type:                              nonrobust                                         \n=================================================================================================================\n                                                    coef    std err          t      P>|t|      [0.025      0.975]\n-----------------------------------------------------------------------------------------------------------------\nconst                                             8.1019      0.939      8.625      0.000       6.261       9.943\nEarnings Per Share – Coefficient of Variation     0.0644      0.008      8.124      0.000       0.049       0.080\nNumber of Analysts                                0.0306      0.018      1.700      0.089      -0.005       0.066\nRecommendation - Mean (1-5)                      -0.9476      0.350     -2.705      0.007      -1.634      -0.261\nRecommendation change                            -4.3816      1.029     -4.259      0.000      -6.398      -2.365\nPrice Target - Mean                              -0.0012      0.001     -0.902      0.367      -0.004       0.001\nPrice Target - Standard Deviation                 0.0237      0.011      2.084      0.037       0.001       0.046\n==============================================================================\nOmnibus:                     3507.141   Durbin-Watson:                   1.641\nProb(Omnibus):                  0.000   Jarque-Bera (JB):            34939.729\nSkew:                           0.665   Prob(JB):                         0.00\nKurtosis:                       9.752   Cond. No.                     2.18e+03\n==============================================================================\n\nNotes:\n[1] Standard Errors assume that the covariance matrix of the errors is correctly specified.\n[2] The condition number is large, 2.18e+03. This might indicate that there are\nstrong multicollinearity or other numerical problems.\n\"\"\"",
      "text/html": "<table class=\"simpletable\">\n<caption>OLS Regression Results</caption>\n<tr>\n  <th>Dep. Variable:</th>    <td>Earnings Per Share - Actual Surprise</td> <th>  R-squared:         </th> <td>   0.006</td> \n</tr>\n<tr>\n  <th>Model:</th>                             <td>OLS</td>                 <th>  Adj. R-squared:    </th> <td>   0.006</td> \n</tr>\n<tr>\n  <th>Method:</th>                       <td>Least Squares</td>            <th>  F-statistic:       </th> <td>   18.38</td> \n</tr>\n<tr>\n  <th>Date:</th>                       <td>Sun, 26 Feb 2023</td>           <th>  Prob (F-statistic):</th> <td>2.11e-21</td> \n</tr>\n<tr>\n  <th>Time:</th>                           <td>18:50:17</td>               <th>  Log-Likelihood:    </th> <td> -75239.</td> \n</tr>\n<tr>\n  <th>No. Observations:</th>                <td> 17707</td>                <th>  AIC:               </th> <td>1.505e+05</td>\n</tr>\n<tr>\n  <th>Df Residuals:</th>                    <td> 17700</td>                <th>  BIC:               </th> <td>1.505e+05</td>\n</tr>\n<tr>\n  <th>Df Model:</th>                        <td>     6</td>                <th>                     </th>     <td> </td>    \n</tr>\n<tr>\n  <th>Covariance Type:</th>                <td>nonrobust</td>              <th>                     </th>     <td> </td>    \n</tr>\n</table>\n<table class=\"simpletable\">\n<tr>\n                        <td></td>                           <th>coef</th>     <th>std err</th>      <th>t</th>      <th>P>|t|</th>  <th>[0.025</th>    <th>0.975]</th>  \n</tr>\n<tr>\n  <th>const</th>                                         <td>    8.1019</td> <td>    0.939</td> <td>    8.625</td> <td> 0.000</td> <td>    6.261</td> <td>    9.943</td>\n</tr>\n<tr>\n  <th>Earnings Per Share – Coefficient of Variation</th> <td>    0.0644</td> <td>    0.008</td> <td>    8.124</td> <td> 0.000</td> <td>    0.049</td> <td>    0.080</td>\n</tr>\n<tr>\n  <th>Number of Analysts</th>                            <td>    0.0306</td> <td>    0.018</td> <td>    1.700</td> <td> 0.089</td> <td>   -0.005</td> <td>    0.066</td>\n</tr>\n<tr>\n  <th>Recommendation - Mean (1-5)</th>                   <td>   -0.9476</td> <td>    0.350</td> <td>   -2.705</td> <td> 0.007</td> <td>   -1.634</td> <td>   -0.261</td>\n</tr>\n<tr>\n  <th>Recommendation change</th>                         <td>   -4.3816</td> <td>    1.029</td> <td>   -4.259</td> <td> 0.000</td> <td>   -6.398</td> <td>   -2.365</td>\n</tr>\n<tr>\n  <th>Price Target - Mean</th>                           <td>   -0.0012</td> <td>    0.001</td> <td>   -0.902</td> <td> 0.367</td> <td>   -0.004</td> <td>    0.001</td>\n</tr>\n<tr>\n  <th>Price Target - Standard Deviation</th>             <td>    0.0237</td> <td>    0.011</td> <td>    2.084</td> <td> 0.037</td> <td>    0.001</td> <td>    0.046</td>\n</tr>\n</table>\n<table class=\"simpletable\">\n<tr>\n  <th>Omnibus:</th>       <td>3507.141</td> <th>  Durbin-Watson:     </th> <td>   1.641</td> \n</tr>\n<tr>\n  <th>Prob(Omnibus):</th>  <td> 0.000</td>  <th>  Jarque-Bera (JB):  </th> <td>34939.729</td>\n</tr>\n<tr>\n  <th>Skew:</th>           <td> 0.665</td>  <th>  Prob(JB):          </th> <td>    0.00</td> \n</tr>\n<tr>\n  <th>Kurtosis:</th>       <td> 9.752</td>  <th>  Cond. No.          </th> <td>2.18e+03</td> \n</tr>\n</table><br/><br/>Notes:<br/>[1] Standard Errors assume that the covariance matrix of the errors is correctly specified.<br/>[2] The condition number is large, 2.18e+03. This might indicate that there are<br/>strong multicollinearity or other numerical problems."
     },
     "execution_count": 25,
     "metadata": {},
     "output_type": "execute_result"
    }
   ],
   "source": [
    "y = df_accuracy_new[\"Earnings Per Share - Actual Surprise\"]\n",
    "#X = df_accuracy_new[['Revenue - Actual', 'Net Income after Tax']]\n",
    "X = df_accuracy_new[X_var_names]\n",
    "X = sm.add_constant(X)\n",
    "\n",
    "model = sm.OLS(y, X).fit()\n",
    "\n",
    "model.summary()"
   ]
  },
  {
   "attachments": {},
   "cell_type": "markdown",
   "metadata": {},
   "source": [
    "#### OLS Pooled Regression"
   ]
  },
  {
   "cell_type": "code",
   "execution_count": 26,
   "outputs": [
    {
     "data": {
      "text/plain": "Instrument                                               object\nDate                                             datetime64[ns]\nGICS Industry Group Name                                 object\nEarnings Per Share - Actual Surprise                    float64\nEarnings Per Share – Coefficient of Variation           float64\nRecommendation change                                   float64\nNumber of Analysts                                      float64\nRecommendation - Mean (1-5)                             float64\nPrice Target - Mean                                     float64\nPrice Target - Standard Deviation                       float64\ndtype: object"
     },
     "execution_count": 26,
     "metadata": {},
     "output_type": "execute_result"
    }
   ],
   "source": [
    "df_accuracy_new['Date'] = pd.to_datetime(df_accuracy_new['Date'], infer_datetime_format=True)\n",
    "df_accuracy_new.dtypes"
   ],
   "metadata": {
    "collapsed": false
   }
  },
  {
   "cell_type": "code",
   "execution_count": 27,
   "outputs": [
    {
     "data": {
      "text/plain": "      Instrument       Date GICS Industry Group Name  \\\n0          AVY.N 2013-01-01                Materials   \n1          AVY.N 2013-04-01                Materials   \n2          AVY.N 2013-07-01                Materials   \n3          AVY.N 2013-10-01                Materials   \n4          AVY.N 2014-01-01                Materials   \n...          ...        ...                      ...   \n20115    POOL.OQ 2021-10-01                Retailing   \n20116    POOL.OQ 2022-01-01                Retailing   \n20117    POOL.OQ 2022-04-01                Retailing   \n20118    POOL.OQ 2022-07-01                Retailing   \n20119    POOL.OQ 2022-10-01                Retailing   \n\n       Earnings Per Share - Actual Surprise  \\\n0                                    11.178   \n1                                     2.482   \n2                                     1.068   \n3                                     8.095   \n4                                     1.471   \n...                                     ...   \n20115                                17.194   \n20116                                40.267   \n20117                                34.342   \n20118                                 1.503   \n20119                                 4.196   \n\n       Earnings Per Share – Coefficient of Variation  Recommendation change  \\\n0                                           3.625620                0.00000   \n1                                           2.046169               -0.12500   \n2                                           1.551601                0.00000   \n3                                           2.775994               -0.25000   \n4                                           3.204412               -0.29167   \n...                                              ...                    ...   \n20115                                       2.836295                0.00000   \n20116                                       3.269867                0.00000   \n20117                                       6.630736               -0.30000   \n20118                                       3.625249                0.20000   \n20119                                       3.843706                0.07273   \n\n       Number of Analysts  Recommendation - Mean (1-5)  Price Target - Mean  \\\n0                     7.0                      3.00000             36.00000   \n1                     7.0                      2.87500             42.57143   \n2                     8.0                      2.87500             45.00000   \n3                     7.0                      2.62500             47.71429   \n4                     8.0                      2.33333             54.62500   \n...                   ...                          ...                  ...   \n20115                 8.0                      2.30000            545.28571   \n20116                 8.0                      2.30000            571.00000   \n20117                 9.0                      2.00000            519.88889   \n20118                 9.0                      2.20000            435.37500   \n20119                10.0                      2.27273            360.11111   \n\n       Price Target - Standard Deviation  \n0                                2.44949  \n1                                3.92272  \n2                                4.30946  \n3                                3.45230  \n4                                3.42555  \n...                                  ...  \n20115                           50.48823  \n20116                           41.33833  \n20117                           37.49206  \n20118                           57.57373  \n20119                           24.95082  \n\n[17707 rows x 10 columns]",
      "text/html": "<div>\n<style scoped>\n    .dataframe tbody tr th:only-of-type {\n        vertical-align: middle;\n    }\n\n    .dataframe tbody tr th {\n        vertical-align: top;\n    }\n\n    .dataframe thead th {\n        text-align: right;\n    }\n</style>\n<table border=\"1\" class=\"dataframe\">\n  <thead>\n    <tr style=\"text-align: right;\">\n      <th></th>\n      <th>Instrument</th>\n      <th>Date</th>\n      <th>GICS Industry Group Name</th>\n      <th>Earnings Per Share - Actual Surprise</th>\n      <th>Earnings Per Share – Coefficient of Variation</th>\n      <th>Recommendation change</th>\n      <th>Number of Analysts</th>\n      <th>Recommendation - Mean (1-5)</th>\n      <th>Price Target - Mean</th>\n      <th>Price Target - Standard Deviation</th>\n    </tr>\n  </thead>\n  <tbody>\n    <tr>\n      <th>0</th>\n      <td>AVY.N</td>\n      <td>2013-01-01</td>\n      <td>Materials</td>\n      <td>11.178</td>\n      <td>3.625620</td>\n      <td>0.00000</td>\n      <td>7.0</td>\n      <td>3.00000</td>\n      <td>36.00000</td>\n      <td>2.44949</td>\n    </tr>\n    <tr>\n      <th>1</th>\n      <td>AVY.N</td>\n      <td>2013-04-01</td>\n      <td>Materials</td>\n      <td>2.482</td>\n      <td>2.046169</td>\n      <td>-0.12500</td>\n      <td>7.0</td>\n      <td>2.87500</td>\n      <td>42.57143</td>\n      <td>3.92272</td>\n    </tr>\n    <tr>\n      <th>2</th>\n      <td>AVY.N</td>\n      <td>2013-07-01</td>\n      <td>Materials</td>\n      <td>1.068</td>\n      <td>1.551601</td>\n      <td>0.00000</td>\n      <td>8.0</td>\n      <td>2.87500</td>\n      <td>45.00000</td>\n      <td>4.30946</td>\n    </tr>\n    <tr>\n      <th>3</th>\n      <td>AVY.N</td>\n      <td>2013-10-01</td>\n      <td>Materials</td>\n      <td>8.095</td>\n      <td>2.775994</td>\n      <td>-0.25000</td>\n      <td>7.0</td>\n      <td>2.62500</td>\n      <td>47.71429</td>\n      <td>3.45230</td>\n    </tr>\n    <tr>\n      <th>4</th>\n      <td>AVY.N</td>\n      <td>2014-01-01</td>\n      <td>Materials</td>\n      <td>1.471</td>\n      <td>3.204412</td>\n      <td>-0.29167</td>\n      <td>8.0</td>\n      <td>2.33333</td>\n      <td>54.62500</td>\n      <td>3.42555</td>\n    </tr>\n    <tr>\n      <th>...</th>\n      <td>...</td>\n      <td>...</td>\n      <td>...</td>\n      <td>...</td>\n      <td>...</td>\n      <td>...</td>\n      <td>...</td>\n      <td>...</td>\n      <td>...</td>\n      <td>...</td>\n    </tr>\n    <tr>\n      <th>20115</th>\n      <td>POOL.OQ</td>\n      <td>2021-10-01</td>\n      <td>Retailing</td>\n      <td>17.194</td>\n      <td>2.836295</td>\n      <td>0.00000</td>\n      <td>8.0</td>\n      <td>2.30000</td>\n      <td>545.28571</td>\n      <td>50.48823</td>\n    </tr>\n    <tr>\n      <th>20116</th>\n      <td>POOL.OQ</td>\n      <td>2022-01-01</td>\n      <td>Retailing</td>\n      <td>40.267</td>\n      <td>3.269867</td>\n      <td>0.00000</td>\n      <td>8.0</td>\n      <td>2.30000</td>\n      <td>571.00000</td>\n      <td>41.33833</td>\n    </tr>\n    <tr>\n      <th>20117</th>\n      <td>POOL.OQ</td>\n      <td>2022-04-01</td>\n      <td>Retailing</td>\n      <td>34.342</td>\n      <td>6.630736</td>\n      <td>-0.30000</td>\n      <td>9.0</td>\n      <td>2.00000</td>\n      <td>519.88889</td>\n      <td>37.49206</td>\n    </tr>\n    <tr>\n      <th>20118</th>\n      <td>POOL.OQ</td>\n      <td>2022-07-01</td>\n      <td>Retailing</td>\n      <td>1.503</td>\n      <td>3.625249</td>\n      <td>0.20000</td>\n      <td>9.0</td>\n      <td>2.20000</td>\n      <td>435.37500</td>\n      <td>57.57373</td>\n    </tr>\n    <tr>\n      <th>20119</th>\n      <td>POOL.OQ</td>\n      <td>2022-10-01</td>\n      <td>Retailing</td>\n      <td>4.196</td>\n      <td>3.843706</td>\n      <td>0.07273</td>\n      <td>10.0</td>\n      <td>2.27273</td>\n      <td>360.11111</td>\n      <td>24.95082</td>\n    </tr>\n  </tbody>\n</table>\n<p>17707 rows × 10 columns</p>\n</div>"
     },
     "execution_count": 27,
     "metadata": {},
     "output_type": "execute_result"
    }
   ],
   "source": [
    "#df_accuracy_new.set_index([\"Instrument\", \"Date\"], inplace=True)\n",
    "df_accuracy_new"
   ],
   "metadata": {
    "collapsed": false
   }
  },
  {
   "cell_type": "markdown",
   "source": [
    "# with grouping\n"
   ],
   "metadata": {
    "collapsed": false
   }
  },
  {
   "cell_type": "code",
   "execution_count": 28,
   "outputs": [
    {
     "data": {
      "text/plain": "<class 'statsmodels.iolib.summary2.Summary'>\n\"\"\"\n\n=====================================================================================================================================================================\n                                              AAPL.OQ  APH.N  CSCO.OQ FFIV.OQ  GLW.N   HPQ.N   JNPR.N  MSI.N  NTAP.OQ  STX.OQ  TDY.N   TEL.N  TRMB.OQ  WDC.OQ ZBRA.OQ\n---------------------------------------------------------------------------------------------------------------------------------------------------------------------\nconst                                         -27.78  -4.87   -0.49   18.75   53.60*  -15.51  -48.58  28.03   134.92  -32.17  39.48   -12.14  -10.34  -42.20  12.39  \n                                              (35.21) (16.33) (10.38) (20.48) (31.39) (19.61) (78.10) (32.81) (85.66) (55.76) (31.25) (11.70) (35.28) (74.23) (22.28)\nEarnings Per Share – Coefficient of Variation 0.57    0.52    1.01*** 0.89**  0.71*   -0.45   0.00    1.07    1.28    -0.97   1.03*   2.58*** 2.79*** -0.82*  -0.53  \n                                              (0.78)  (0.78)  (0.19)  (0.34)  (0.36)  (0.74)  (0.50)  (1.26)  (1.02)  (1.01)  (0.55)  (0.43)  (0.65)  (0.47)  (0.58) \nNumber of Analysts                            0.16    1.51*   -0.07   -0.23   -0.45   -0.66** 0.64    -2.40*  -2.60** -0.23   -1.54   -0.25   0.84    2.09    0.28   \n                                              (0.35)  (0.84)  (0.14)  (0.23)  (0.62)  (0.27)  (0.62)  (1.40)  (1.05)  (1.29)  (1.18)  (0.59)  (1.40)  (1.30)  (1.27) \nRecommendation - Mean (1-5)                   11.01   -5.14   3.28    -2.98   -15.34  13.34*  13.43   7.62    -7.35   18.78   -8.23   8.07    -2.48   4.15    -4.24  \n                                              (14.08) (7.96)  (3.63)  (4.30)  (9.21)  (7.50)  (17.47) (9.78)  (17.61) (16.34) (9.57)  (5.36)  (12.57) (20.37) (6.34) \nRecommendation change                         -25.76  0.43    1.83    11.40*  -8.09   -15.57  5.76    0.77    -27.16  -7.29   0.76    -8.03   2.55    -0.95   -7.76  \n                                              (16.32) (11.01) (4.59)  (6.44)  (9.41)  (10.07) (16.02) (18.57) (18.32) (22.46) (14.24) (7.26)  (14.61) (26.79) (8.97) \nPrice Target - Mean                           -0.00   -0.09   -0.04   -0.00   -0.73** -0.05   -0.53   -0.02   -0.26   0.29    0.03    -0.09   0.16    0.14    0.02   \n                                              (0.07)  (0.11)  (0.07)  (0.04)  (0.32)  (0.25)  (0.72)  (0.06)  (0.37)  (0.24)  (0.03)  (0.06)  (0.16)  (0.19)  (0.02) \nPrice Target - Standard Deviation             0.67    1.67    -0.25   -0.07   4.08**  0.50    4.26*   -0.25   -2.46   -2.53*  -0.48   1.44*** -1.36   -1.49** -0.14  \n                                              (0.67)  (1.18)  (0.44)  (0.15)  (1.88)  (1.73)  (2.45)  (0.50)  (1.72)  (1.27)  (0.29)  (0.47)  (1.28)  (0.71)  (0.19) \nR-squared                                     0.32    0.32    0.50    0.31    0.34    0.27    0.18    0.20    0.34    0.18    0.22    0.77    0.39    0.26    0.12   \nR-squared Adj.                                0.19    0.19    0.41    0.19    0.22    0.14    0.03    0.05    0.22    0.03    0.08    0.73    0.28    0.12    -0.04  \n=====================================================================================================================================================================\nStandard errors in parentheses.\n* p<.1, ** p<.05, ***p<.01\n\"\"\"",
      "text/html": "<table class=\"simpletable\">\n<tr>\n                        <td></td>                        <th>AAPL.OQ</th>  <th>APH.N</th>  <th>CSCO.OQ</th> <th>FFIV.OQ</th>  <th>GLW.N</th>   <th>HPQ.N</th>  <th>JNPR.N</th>   <th>MSI.N</th>  <th>NTAP.OQ</th> <th>STX.OQ</th>   <th>TDY.N</th>   <th>TEL.N</th>  <th>TRMB.OQ</th> <th>WDC.OQ</th>  <th>ZBRA.OQ</th>\n</tr>\n<tr>\n  <th>const</th>                                         <td>-27.78</td>   <td>-4.87</td>   <td>-0.49</td>   <td>18.75</td>  <td>53.60*</td>  <td>-15.51</td>  <td>-48.58</td>   <td>28.03</td>  <td>134.92</td>  <td>-32.17</td>   <td>39.48</td>  <td>-12.14</td>  <td>-10.34</td>  <td>-42.20</td>   <td>12.39</td> \n</tr>\n<tr>\n  <th></th>                                              <td>(35.21)</td> <td>(16.33)</td> <td>(10.38)</td> <td>(20.48)</td> <td>(31.39)</td> <td>(19.61)</td> <td>(78.10)</td> <td>(32.81)</td> <td>(85.66)</td> <td>(55.76)</td> <td>(31.25)</td> <td>(11.70)</td> <td>(35.28)</td> <td>(74.23)</td> <td>(22.28)</td>\n</tr>\n<tr>\n  <th>Earnings Per Share – Coefficient of Variation</th>  <td>0.57</td>    <td>0.52</td>   <td>1.01***</td> <td>0.89**</td>   <td>0.71*</td>   <td>-0.45</td>   <td>0.00</td>    <td>1.07</td>    <td>1.28</td>    <td>-0.97</td>   <td>1.03*</td>  <td>2.58***</td> <td>2.79***</td> <td>-0.82*</td>   <td>-0.53</td> \n</tr>\n<tr>\n  <th></th>                                              <td>(0.78)</td>  <td>(0.78)</td>  <td>(0.19)</td>  <td>(0.34)</td>  <td>(0.36)</td>  <td>(0.74)</td>  <td>(0.50)</td>  <td>(1.26)</td>  <td>(1.02)</td>  <td>(1.01)</td>  <td>(0.55)</td>  <td>(0.43)</td>  <td>(0.65)</td>  <td>(0.47)</td>  <td>(0.58)</td> \n</tr>\n<tr>\n  <th>Number of Analysts</th>                             <td>0.16</td>    <td>1.51*</td>   <td>-0.07</td>   <td>-0.23</td>   <td>-0.45</td>  <td>-0.66**</td>  <td>0.64</td>   <td>-2.40*</td>  <td>-2.60**</td>  <td>-0.23</td>   <td>-1.54</td>   <td>-0.25</td>   <td>0.84</td>    <td>2.09</td>    <td>0.28</td>  \n</tr>\n<tr>\n  <th></th>                                              <td>(0.35)</td>  <td>(0.84)</td>  <td>(0.14)</td>  <td>(0.23)</td>  <td>(0.62)</td>  <td>(0.27)</td>  <td>(0.62)</td>  <td>(1.40)</td>  <td>(1.05)</td>  <td>(1.29)</td>  <td>(1.18)</td>  <td>(0.59)</td>  <td>(1.40)</td>  <td>(1.30)</td>  <td>(1.27)</td> \n</tr>\n<tr>\n  <th>Recommendation - Mean (1-5)</th>                    <td>11.01</td>   <td>-5.14</td>   <td>3.28</td>    <td>-2.98</td>  <td>-15.34</td>  <td>13.34*</td>   <td>13.43</td>   <td>7.62</td>    <td>-7.35</td>   <td>18.78</td>   <td>-8.23</td>   <td>8.07</td>    <td>-2.48</td>   <td>4.15</td>    <td>-4.24</td> \n</tr>\n<tr>\n  <th></th>                                              <td>(14.08)</td> <td>(7.96)</td>  <td>(3.63)</td>  <td>(4.30)</td>  <td>(9.21)</td>  <td>(7.50)</td>  <td>(17.47)</td> <td>(9.78)</td>  <td>(17.61)</td> <td>(16.34)</td> <td>(9.57)</td>  <td>(5.36)</td>  <td>(12.57)</td> <td>(20.37)</td> <td>(6.34)</td> \n</tr>\n<tr>\n  <th>Recommendation change</th>                         <td>-25.76</td>   <td>0.43</td>    <td>1.83</td>   <td>11.40*</td>   <td>-8.09</td>  <td>-15.57</td>   <td>5.76</td>    <td>0.77</td>   <td>-27.16</td>   <td>-7.29</td>   <td>0.76</td>    <td>-8.03</td>   <td>2.55</td>    <td>-0.95</td>   <td>-7.76</td> \n</tr>\n<tr>\n  <th></th>                                              <td>(16.32)</td> <td>(11.01)</td> <td>(4.59)</td>  <td>(6.44)</td>  <td>(9.41)</td>  <td>(10.07)</td> <td>(16.02)</td> <td>(18.57)</td> <td>(18.32)</td> <td>(22.46)</td> <td>(14.24)</td> <td>(7.26)</td>  <td>(14.61)</td> <td>(26.79)</td> <td>(8.97)</td> \n</tr>\n<tr>\n  <th>Price Target - Mean</th>                            <td>-0.00</td>   <td>-0.09</td>   <td>-0.04</td>   <td>-0.00</td>  <td>-0.73**</td>  <td>-0.05</td>   <td>-0.53</td>   <td>-0.02</td>   <td>-0.26</td>   <td>0.29</td>    <td>0.03</td>    <td>-0.09</td>   <td>0.16</td>    <td>0.14</td>    <td>0.02</td>  \n</tr>\n<tr>\n  <th></th>                                              <td>(0.07)</td>  <td>(0.11)</td>  <td>(0.07)</td>  <td>(0.04)</td>  <td>(0.32)</td>  <td>(0.25)</td>  <td>(0.72)</td>  <td>(0.06)</td>  <td>(0.37)</td>  <td>(0.24)</td>  <td>(0.03)</td>  <td>(0.06)</td>  <td>(0.16)</td>  <td>(0.19)</td>  <td>(0.02)</td> \n</tr>\n<tr>\n  <th>Price Target - Standard Deviation</th>              <td>0.67</td>    <td>1.67</td>    <td>-0.25</td>   <td>-0.07</td>  <td>4.08**</td>   <td>0.50</td>    <td>4.26*</td>   <td>-0.25</td>   <td>-2.46</td>  <td>-2.53*</td>   <td>-0.48</td>  <td>1.44***</td>  <td>-1.36</td>  <td>-1.49**</td>  <td>-0.14</td> \n</tr>\n<tr>\n  <th></th>                                              <td>(0.67)</td>  <td>(1.18)</td>  <td>(0.44)</td>  <td>(0.15)</td>  <td>(1.88)</td>  <td>(1.73)</td>  <td>(2.45)</td>  <td>(0.50)</td>  <td>(1.72)</td>  <td>(1.27)</td>  <td>(0.29)</td>  <td>(0.47)</td>  <td>(1.28)</td>  <td>(0.71)</td>  <td>(0.19)</td> \n</tr>\n<tr>\n  <th>R-squared</th>                                      <td>0.32</td>    <td>0.32</td>    <td>0.50</td>    <td>0.31</td>    <td>0.34</td>    <td>0.27</td>    <td>0.18</td>    <td>0.20</td>    <td>0.34</td>    <td>0.18</td>    <td>0.22</td>    <td>0.77</td>    <td>0.39</td>    <td>0.26</td>    <td>0.12</td>  \n</tr>\n<tr>\n  <th>R-squared Adj.</th>                                 <td>0.19</td>    <td>0.19</td>    <td>0.41</td>    <td>0.19</td>    <td>0.22</td>    <td>0.14</td>    <td>0.03</td>    <td>0.05</td>    <td>0.22</td>    <td>0.03</td>    <td>0.08</td>    <td>0.73</td>    <td>0.28</td>    <td>0.12</td>    <td>-0.04</td> \n</tr>\n</table>"
     },
     "execution_count": 28,
     "metadata": {},
     "output_type": "execute_result"
    }
   ],
   "source": [
    "from statsmodels.iolib.summary2 import summary_col\n",
    "# Split the DataFrame into groups based on the stocks\n",
    "df = df_accuracy_new[df_accuracy_new['GICS Industry Group Name'] == 'Technology Hardware & Equipment']\n",
    "groups = df.groupby('Instrument')\n",
    "\n",
    "# Define a function to perform OLS regression on each group\n",
    "def ols_regression(group):\n",
    "    # Define the dependent and independent variables\n",
    "    if len(group) < 2:\n",
    "        return None\n",
    "    y = group['Earnings Per Share - Actual Surprise']\n",
    "    X = group[X_var_names]\n",
    "\n",
    "    # Add a constant to the independent variables\n",
    "    X = sm.add_constant(X)\n",
    "\n",
    "    # Fit the OLS model and return the results\n",
    "    model = sm.OLS(y, X).fit()\n",
    "    return model\n",
    "\n",
    "# Apply the function to each group of data\n",
    "results = groups.apply(ols_regression)\n",
    "results = results.dropna()\n",
    "# Collect the results into a new DataFrame\n",
    "\n",
    "# Print the coefficients, t-values, and p-values\n",
    "# print('Coefficients:')\n",
    "# print(coefficients)\n",
    "# print('\\nT-values:')\n",
    "# print(t_values)\n",
    "# print('\\nP-values:')\n",
    "models = results.tolist()\n",
    "summary = summary_col(models, stars=True, float_format='%0.2f', model_names=results.index.tolist())\n",
    "\n",
    "# Print the combined summary table\n",
    "summary"
   ],
   "metadata": {
    "collapsed": false
   }
  },
  {
   "cell_type": "code",
   "execution_count": 28,
   "outputs": [],
   "source": [],
   "metadata": {
    "collapsed": false
   }
  }
 ],
 "metadata": {
  "kernelspec": {
   "display_name": "AnalystForecast",
   "language": "python",
   "name": "python3"
  },
  "language_info": {
   "name": "python",
   "version": "3.11.0"
  },
  "orig_nbformat": 4,
  "vscode": {
   "interpreter": {
    "hash": "264d128b47a19451ae7876f5ee246d3f7de9751940a5ebe47f15ec6626e5a91f"
   }
  }
 },
 "nbformat": 4,
 "nbformat_minor": 2
}
