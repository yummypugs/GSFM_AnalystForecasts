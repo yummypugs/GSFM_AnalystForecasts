{
 "cells": [
  {
   "cell_type": "code",
   "execution_count": 1,
   "metadata": {
    "collapsed": false
   },
   "outputs": [],
   "source": [
    "import eikon as ek\n",
    "import pandas as pd\n",
    "import numpy as np\n",
    "import datetime\n",
    "#ek.set_app_key(\"320e7257c23945729695a106cedb2b9cb72d3207\")\n",
    "ek.set_app_key(\"69de0ce7c5e2468e90a6058ce79f6558ebe3ee30\")"
   ]
  },
  {
   "cell_type": "markdown",
   "metadata": {
    "collapsed": false
   },
   "source": [
    "https://community.developers.refinitiv.com/questions/73493/get-eps-historical-data-for-stocks.html"
   ]
  },
  {
   "cell_type": "markdown",
   "metadata": {
    "collapsed": false
   },
   "source": [
    "# Economic Story\n",
    "\n",
    "**TR.RevenueActValue.date** - prints the datetime\n",
    "\n",
    "## Part 1: Accuracy\n",
    "\n",
    "1. **TR.EPSActValue** - The company's actual value normalized to reflect the I/B/E/S default currency and corporate actions (e.g. stock splits). Earnings Per Share is defined as the EPS that the contributing analyst considers to be that with which to value a security. This figure may include or exclude certain items depending on the contributing analyst's specific model.\n",
    "\n",
    "2. **TR.EPSMean** - The statistical average of all broker estimates determined to be on the majority accounting basis. Earnings Per Share is defined as the EPS that the contributing analyst considers to be that with which to value a security. This figure may include or exclude certain items depending on the contributing analyst's specific model.\n",
    "\n",
    "--> this is a analyst forecast variable\n",
    "\n",
    "3. **TR.EPSActSurprise** - The difference between the actual and the last mean of the period, expressed as a percentage. Earnings Per Share is defined as the EPS that the contributing analyst considers to be that with which to value a security. This figure may include or exclude certain items depending on the contributing analyst's specific model.\n",
    "\n",
    "--> forecast error between actual EPS and TR.EPSMean\n",
    "\n",
    "<img src=\"../Pictures/Screenshot 2023-02-15 185222.png\" width=500 height=300 />\n",
    "\n",
    "## Part 2: Factors\n",
    "\n",
    "### Firm charateristics\n",
    "\n",
    "1. **TR.RevenueActValue** - The company's actual value normalized to reflect the I/B/E/S default currency and corporate actions (e.g. stock splits). Revenue (or Sales) is a corporation's net revenue, generally derived from core business activities. For non-financial companies, the calculation of net revenue (or net turnover) in most markets generally involves subtracting transportation and related operational costs from gross revenue/sales. Revenue recognition practices vary significantly from market to market, though generally the recording of revenue is based upon sales invoices issued (or anticipated for forecast purposes) during the accounting period.\n",
    "\n",
    "2. **TR.F.EV** - Enterprise Value is the Company's total economic value OR the theoretical takeover price, often used as an alternative to market capitalization. Enterprise Value represents Market Capitalization TR.F.MktCap + Debt including Preferred Equity & Minority Interest - Total [TR.F.DebtlnclPrefEqMinlntrTot] (-) Cash & Short Term Investments - Total [TR.F.CashSTlnvstTot]. Market Capitalization [TR.F.MktCap] is required. The data item is calculated for all periodicities. It is applicable to all industries.\n",
    "\n",
    "3. **TR.LTGMean** - Long Term Growth - Mean:  The statistical average of all broker estimates determined to be on the majority accounting basis. Long-term growth is an estimate of the compound average rate of EPS growth an analyst expects over a period of three to five ears.\n",
    "\n",
    "##### Loss Firm Status (0 or 1)\n",
    "\n",
    "4. **TR.F.NetIncAfterTax** Net Income after Tax [SIAT] represents the income/expense after all operating and non-operating income and expense, reserves, income taxes, but before equity in earnings, minority interest, extraordinary items, after-tax adjustments, discontinued operations and preferred dividends. Applicable to all Industries. Net Income after Tax [SIAT] includes: • Net Income after Tax [XIAT]\n",
    "\n",
    "### Analysts\n",
    "1. **TR.NumberOfAnalysts** - Number of sell-side analysts covering the security.\n",
    "\n",
    "2. **TR.RecMean** - Recommendation Numeric Mean based on the Standard Scale Of Strong Buy (1 ), Buy (2), Hold (3), Sell (4), and Strong Sell (5).\n",
    "\n",
    "3. change in recommendation\n",
    "\n",
    "### Macro characteristics\n",
    "\n",
    "1. **TR.WACCInflationAdjRiskFreeRate** -  Inflation adjusted risk free rate used is Of the primary index for the domicile country Of the company. Inflation adjusted risk free rate (Rf) is calculated from the US 10-year treasury yield plus the difference between in the 10-year forecasted inflation rate between the given country and the US.\n",
    "\n",
    "\n",
    "\n",
    "### Return Potential\n",
    "\n",
    "1. **TR.PriceTargetMean** The statistical average of all broker estimates determined to be on the majority accounting basis. Price target is the projected price level forecasted by the analyst within a specific time horizon.\n",
    "\n",
    "1. **TR.PriceClose** The latest available closing price. If there are no trades for the most recent completed tradable day, the most recent prior tradable day with trading activity is used, provided the last tradable day for the instrument is within 378 completed calendar days.\n",
    "\n",
    "### More difficult Factors (yearly):\n",
    "\n",
    "#### ESG\n",
    "\n",
    "1. **TR.TRESGScore** Refinitiv ESG Score is an overall company score based on the self-reported information in the environmental, social and corporate governance pillars.\n",
    "\n",
    "#### Proportion of independent Directors\n",
    "\n",
    "1. **TR.AnalyticIndepBoard** - Independent Board Members - Percentage of independent board members as reported by the company.\n",
    "\n",
    "2. **TR.GovernancePillarScore** - Governance Pillar Score - The corporate governance pillar measures a company's systems and processes, which ensure that its board members and executives act in the best interests of its long term shareholders. It reflects a company's capacity, through its use of best management practices, to direct and control its rights and responsibilities through the creation of incentives, as well as checks and balances in order to generate long term shareholder value.\n",
    "\n",
    "## Part 3: Regression\n",
    "\n",
    "### continue.."
   ]
  },
  {
   "cell_type": "code",
   "execution_count": 5,
   "metadata": {
    "collapsed": false
   },
   "outputs": [],
   "source": [
    "economic_story = ['TR.EPSactValue.date', 'TR.EPSActValue', \"TR.EPSMean\", \"TR.EPSActSurprise\", 'TR.RevenueActValue', \"TR.F.EV\", \"TR.LTGMean\",  \"TR.NumberOfAnalysts\", \"TR.RecMean\", \"TR.RecMean(SDate=-2,EDate=-41)\", \"TR.WACCInflationAdjRiskFreeRate\", \"TR.F.NetIncAfterTax\", \"TR.PriceTargetMean\", \"TR.PriceClose\"]"
   ]
  },
  {
   "cell_type": "code",
   "execution_count": 6,
   "metadata": {
    "collapsed": false
   },
   "outputs": [
    {
     "name": "stderr",
     "output_type": "stream",
     "text": [
      "C:\\Users\\alexa\\mambaforge\\envs\\AnalystForecast\\Lib\\site-packages\\pandas\\core\\dtypes\\cast.py:1134: RuntimeWarning: invalid value encountered in cast\n",
      "  if (arr.astype(int) == arr).all():\n",
      "C:\\Users\\alexa\\mambaforge\\envs\\AnalystForecast\\Lib\\site-packages\\pandas\\core\\dtypes\\cast.py:1153: RuntimeWarning: invalid value encountered in cast\n",
      "  if (arr.astype(int) == arr).all():\n"
     ]
    },
    {
     "data": {
      "text/plain": "     Instrument                      Date  Earnings Per Share - Actual  \\\n0       POOL.OQ 2022-10-20 07:00:00+00:00                         4.78   \n1       POOL.OQ 2022-07-21 07:00:00+00:00                         7.63   \n2       POOL.OQ 2022-04-21 07:00:00+00:00                         4.23   \n3       POOL.OQ 2022-02-17 07:00:00+00:00                         2.63   \n4       POOL.OQ 2021-10-21 07:00:00+00:00                         4.51   \n...         ...                       ...                          ...   \n5025      AVY.N 2021-07-28 06:45:00+00:00                         2.25   \n5026      AVY.N 2021-04-28 06:45:00+00:00                          2.4   \n5027      AVY.N 2021-02-03 06:45:00+00:00                         2.27   \n5028      AVY.N 2020-10-21 06:45:00+00:00                         1.91   \n5029      AVY.N 2020-07-27 06:46:00+00:00                         1.27   \n\n      Earnings Per Share - Mean  Earnings Per Share - Actual Surprise  \\\n0                        4.5875                                 4.196   \n1                         7.517                                 1.503   \n2                       3.14867                                34.342   \n3                         1.875                                40.267   \n4                       3.84833                                17.194   \n...                         ...                                   ...   \n5025                    2.05744                                 9.359   \n5026                     2.0288                                18.297   \n5027                    2.08642                                 8.799   \n5028                    1.52673                                25.104   \n5029                    1.13433                                 11.96   \n\n      Revenue - Actual    Enterprise Value  Long Term Growth - Mean  \\\n0         1615339000.0  14061600372.299999                     <NA>   \n1         2055818000.0  15561870705.290001                     <NA>   \n2         1412650000.0  18436823034.200001                     <NA>   \n3         1035557000.0       23848820586.0                     <NA>   \n4         1411448000.0      17699543822.66                     <NA>   \n...                ...                 ...                      ...   \n5025      2102000000.0  19132322317.099998                      9.4   \n5026      2051300000.0  17428269089.919998                    7.844   \n5027      1990900000.0      14803422859.42                    8.933   \n5028      1729100000.0       11816435091.5                    7.958   \n5029      1528500000.0  11156836044.049999                  7.88775   \n\n      Number of Analysts  Recommendation - Mean (1-5)  \\\n0                     10                      2.27273   \n1                      9                          2.2   \n2                      9                          2.0   \n3                      8                          2.3   \n4                      8                          2.3   \n...                  ...                          ...   \n5025                  11                      2.15385   \n5026                  11                      2.14286   \n5027                  12                      2.21429   \n5028                  12                      2.35714   \n5029                  12                      2.42857   \n\n      Recommendation - Mean (1-5)  \\\n0                             2.2   \n1                             2.0   \n2                             2.3   \n3                             2.3   \n4                             2.3   \n...                           ...   \n5025                      2.14286   \n5026                      2.21429   \n5027                      2.35714   \n5028                      2.42857   \n5029                      2.46154   \n\n      WACC Inflation Adjusted Risk Free Rate, (%)  Net Income after Tax  \\\n0                                        3.747421           189965000.0   \n1                                        3.092855           307205000.0   \n2                                        2.325202           179203000.0   \n3                                        1.515266           107542000.0   \n4                                        1.527139           184573000.0   \n...                                           ...                   ...   \n5025                                     1.444323           184900000.0   \n5026                                     1.745787           210800000.0   \n5027                                     0.926432           192400000.0   \n5028                                     0.677434           151500000.0   \n5029                                     0.638068            81100000.0   \n\n      Price Target - Mean  Price Close  \n0               360.11111       318.21  \n1                 435.375       351.23  \n2               519.88889       422.85  \n3                   571.0        566.0  \n4               545.28571       434.41  \n...                   ...          ...  \n5025                227.8       210.24  \n5026                206.1       183.65  \n5027            168.90909       155.11  \n5028            137.63636       127.84  \n5029                128.3       114.09  \n\n[5030 rows x 15 columns]",
      "text/html": "<div>\n<style scoped>\n    .dataframe tbody tr th:only-of-type {\n        vertical-align: middle;\n    }\n\n    .dataframe tbody tr th {\n        vertical-align: top;\n    }\n\n    .dataframe thead th {\n        text-align: right;\n    }\n</style>\n<table border=\"1\" class=\"dataframe\">\n  <thead>\n    <tr style=\"text-align: right;\">\n      <th></th>\n      <th>Instrument</th>\n      <th>Date</th>\n      <th>Earnings Per Share - Actual</th>\n      <th>Earnings Per Share - Mean</th>\n      <th>Earnings Per Share - Actual Surprise</th>\n      <th>Revenue - Actual</th>\n      <th>Enterprise Value</th>\n      <th>Long Term Growth - Mean</th>\n      <th>Number of Analysts</th>\n      <th>Recommendation - Mean (1-5)</th>\n      <th>Recommendation - Mean (1-5)</th>\n      <th>WACC Inflation Adjusted Risk Free Rate, (%)</th>\n      <th>Net Income after Tax</th>\n      <th>Price Target - Mean</th>\n      <th>Price Close</th>\n    </tr>\n  </thead>\n  <tbody>\n    <tr>\n      <th>0</th>\n      <td>POOL.OQ</td>\n      <td>2022-10-20 07:00:00+00:00</td>\n      <td>4.78</td>\n      <td>4.5875</td>\n      <td>4.196</td>\n      <td>1615339000.0</td>\n      <td>14061600372.299999</td>\n      <td>&lt;NA&gt;</td>\n      <td>10</td>\n      <td>2.27273</td>\n      <td>2.2</td>\n      <td>3.747421</td>\n      <td>189965000.0</td>\n      <td>360.11111</td>\n      <td>318.21</td>\n    </tr>\n    <tr>\n      <th>1</th>\n      <td>POOL.OQ</td>\n      <td>2022-07-21 07:00:00+00:00</td>\n      <td>7.63</td>\n      <td>7.517</td>\n      <td>1.503</td>\n      <td>2055818000.0</td>\n      <td>15561870705.290001</td>\n      <td>&lt;NA&gt;</td>\n      <td>9</td>\n      <td>2.2</td>\n      <td>2.0</td>\n      <td>3.092855</td>\n      <td>307205000.0</td>\n      <td>435.375</td>\n      <td>351.23</td>\n    </tr>\n    <tr>\n      <th>2</th>\n      <td>POOL.OQ</td>\n      <td>2022-04-21 07:00:00+00:00</td>\n      <td>4.23</td>\n      <td>3.14867</td>\n      <td>34.342</td>\n      <td>1412650000.0</td>\n      <td>18436823034.200001</td>\n      <td>&lt;NA&gt;</td>\n      <td>9</td>\n      <td>2.0</td>\n      <td>2.3</td>\n      <td>2.325202</td>\n      <td>179203000.0</td>\n      <td>519.88889</td>\n      <td>422.85</td>\n    </tr>\n    <tr>\n      <th>3</th>\n      <td>POOL.OQ</td>\n      <td>2022-02-17 07:00:00+00:00</td>\n      <td>2.63</td>\n      <td>1.875</td>\n      <td>40.267</td>\n      <td>1035557000.0</td>\n      <td>23848820586.0</td>\n      <td>&lt;NA&gt;</td>\n      <td>8</td>\n      <td>2.3</td>\n      <td>2.3</td>\n      <td>1.515266</td>\n      <td>107542000.0</td>\n      <td>571.0</td>\n      <td>566.0</td>\n    </tr>\n    <tr>\n      <th>4</th>\n      <td>POOL.OQ</td>\n      <td>2021-10-21 07:00:00+00:00</td>\n      <td>4.51</td>\n      <td>3.84833</td>\n      <td>17.194</td>\n      <td>1411448000.0</td>\n      <td>17699543822.66</td>\n      <td>&lt;NA&gt;</td>\n      <td>8</td>\n      <td>2.3</td>\n      <td>2.3</td>\n      <td>1.527139</td>\n      <td>184573000.0</td>\n      <td>545.28571</td>\n      <td>434.41</td>\n    </tr>\n    <tr>\n      <th>...</th>\n      <td>...</td>\n      <td>...</td>\n      <td>...</td>\n      <td>...</td>\n      <td>...</td>\n      <td>...</td>\n      <td>...</td>\n      <td>...</td>\n      <td>...</td>\n      <td>...</td>\n      <td>...</td>\n      <td>...</td>\n      <td>...</td>\n      <td>...</td>\n      <td>...</td>\n    </tr>\n    <tr>\n      <th>5025</th>\n      <td>AVY.N</td>\n      <td>2021-07-28 06:45:00+00:00</td>\n      <td>2.25</td>\n      <td>2.05744</td>\n      <td>9.359</td>\n      <td>2102000000.0</td>\n      <td>19132322317.099998</td>\n      <td>9.4</td>\n      <td>11</td>\n      <td>2.15385</td>\n      <td>2.14286</td>\n      <td>1.444323</td>\n      <td>184900000.0</td>\n      <td>227.8</td>\n      <td>210.24</td>\n    </tr>\n    <tr>\n      <th>5026</th>\n      <td>AVY.N</td>\n      <td>2021-04-28 06:45:00+00:00</td>\n      <td>2.4</td>\n      <td>2.0288</td>\n      <td>18.297</td>\n      <td>2051300000.0</td>\n      <td>17428269089.919998</td>\n      <td>7.844</td>\n      <td>11</td>\n      <td>2.14286</td>\n      <td>2.21429</td>\n      <td>1.745787</td>\n      <td>210800000.0</td>\n      <td>206.1</td>\n      <td>183.65</td>\n    </tr>\n    <tr>\n      <th>5027</th>\n      <td>AVY.N</td>\n      <td>2021-02-03 06:45:00+00:00</td>\n      <td>2.27</td>\n      <td>2.08642</td>\n      <td>8.799</td>\n      <td>1990900000.0</td>\n      <td>14803422859.42</td>\n      <td>8.933</td>\n      <td>12</td>\n      <td>2.21429</td>\n      <td>2.35714</td>\n      <td>0.926432</td>\n      <td>192400000.0</td>\n      <td>168.90909</td>\n      <td>155.11</td>\n    </tr>\n    <tr>\n      <th>5028</th>\n      <td>AVY.N</td>\n      <td>2020-10-21 06:45:00+00:00</td>\n      <td>1.91</td>\n      <td>1.52673</td>\n      <td>25.104</td>\n      <td>1729100000.0</td>\n      <td>11816435091.5</td>\n      <td>7.958</td>\n      <td>12</td>\n      <td>2.35714</td>\n      <td>2.42857</td>\n      <td>0.677434</td>\n      <td>151500000.0</td>\n      <td>137.63636</td>\n      <td>127.84</td>\n    </tr>\n    <tr>\n      <th>5029</th>\n      <td>AVY.N</td>\n      <td>2020-07-27 06:46:00+00:00</td>\n      <td>1.27</td>\n      <td>1.13433</td>\n      <td>11.96</td>\n      <td>1528500000.0</td>\n      <td>11156836044.049999</td>\n      <td>7.88775</td>\n      <td>12</td>\n      <td>2.42857</td>\n      <td>2.46154</td>\n      <td>0.638068</td>\n      <td>81100000.0</td>\n      <td>128.3</td>\n      <td>114.09</td>\n    </tr>\n  </tbody>\n</table>\n<p>5030 rows × 15 columns</p>\n</div>"
     },
     "execution_count": 6,
     "metadata": {},
     "output_type": "execute_result"
    }
   ],
   "source": [
    "df, e = ek.get_data('0#.SPX', economic_story, parameters = {'SDate':'-1','EDate':'-40','Period':'FQ0','Frq':'FQ'})\n",
    "df[\"Date\"] = pd.to_datetime(df[\"Date\"])\n",
    "df"
   ]
  },
  {
   "cell_type": "code",
   "execution_count": 8,
   "metadata": {
    "collapsed": false
   },
   "outputs": [
    {
     "data": {
      "text/plain": "     Instrument                      Date  Earnings Per Share - Actual  \\\n0       POOL.OQ 2022-10-20 07:00:00+00:00                         4.78   \n1       POOL.OQ 2022-07-21 07:00:00+00:00                         7.63   \n2       POOL.OQ 2022-04-21 07:00:00+00:00                         4.23   \n3       POOL.OQ 2022-02-17 07:00:00+00:00                         2.63   \n4       POOL.OQ 2021-10-21 07:00:00+00:00                         4.51   \n...         ...                       ...                          ...   \n5025      AVY.N 2021-07-28 06:45:00+00:00                         2.25   \n5026      AVY.N 2021-04-28 06:45:00+00:00                          2.4   \n5027      AVY.N 2021-02-03 06:45:00+00:00                         2.27   \n5028      AVY.N 2020-10-21 06:45:00+00:00                         1.91   \n5029      AVY.N 2020-07-27 06:46:00+00:00                         1.27   \n\n      Earnings Per Share - Mean  Earnings Per Share - Actual Surprise  \\\n0                        4.5875                                 4.196   \n1                         7.517                                 1.503   \n2                       3.14867                                34.342   \n3                         1.875                                40.267   \n4                       3.84833                                17.194   \n...                         ...                                   ...   \n5025                    2.05744                                 9.359   \n5026                     2.0288                                18.297   \n5027                    2.08642                                 8.799   \n5028                    1.52673                                25.104   \n5029                    1.13433                                 11.96   \n\n      Revenue - Actual    Enterprise Value  Long Term Growth - Mean  \\\n0         1615339000.0  14061600372.299999                     <NA>   \n1         2055818000.0  15561870705.290001                     <NA>   \n2         1412650000.0  18436823034.200001                     <NA>   \n3         1035557000.0       23848820586.0                     <NA>   \n4         1411448000.0      17699543822.66                     <NA>   \n...                ...                 ...                      ...   \n5025      2102000000.0  19132322317.099998                      9.4   \n5026      2051300000.0  17428269089.919998                    7.844   \n5027      1990900000.0      14803422859.42                    8.933   \n5028      1729100000.0       11816435091.5                    7.958   \n5029      1528500000.0  11156836044.049999                  7.88775   \n\n      Number of Analysts  Recommendation - Mean (1-5)_1  \\\n0                     10                        2.27273   \n1                      9                            2.2   \n2                      9                            2.0   \n3                      8                            2.3   \n4                      8                            2.3   \n...                  ...                            ...   \n5025                  11                        2.15385   \n5026                  11                        2.14286   \n5027                  12                        2.21429   \n5028                  12                        2.35714   \n5029                  12                        2.42857   \n\n      Recommendation - Mean (1-5)_2  \\\n0                               2.2   \n1                               2.0   \n2                               2.3   \n3                               2.3   \n4                               2.3   \n...                             ...   \n5025                        2.14286   \n5026                        2.21429   \n5027                        2.35714   \n5028                        2.42857   \n5029                        2.46154   \n\n      WACC Inflation Adjusted Risk Free Rate, (%)  Net Income after Tax  \\\n0                                        3.747421           189965000.0   \n1                                        3.092855           307205000.0   \n2                                        2.325202           179203000.0   \n3                                        1.515266           107542000.0   \n4                                        1.527139           184573000.0   \n...                                           ...                   ...   \n5025                                     1.444323           184900000.0   \n5026                                     1.745787           210800000.0   \n5027                                     0.926432           192400000.0   \n5028                                     0.677434           151500000.0   \n5029                                     0.638068            81100000.0   \n\n      Price Target - Mean  Price Close  \n0               360.11111       318.21  \n1                 435.375       351.23  \n2               519.88889       422.85  \n3                   571.0        566.0  \n4               545.28571       434.41  \n...                   ...          ...  \n5025                227.8       210.24  \n5026                206.1       183.65  \n5027            168.90909       155.11  \n5028            137.63636       127.84  \n5029                128.3       114.09  \n\n[5030 rows x 15 columns]",
      "text/html": "<div>\n<style scoped>\n    .dataframe tbody tr th:only-of-type {\n        vertical-align: middle;\n    }\n\n    .dataframe tbody tr th {\n        vertical-align: top;\n    }\n\n    .dataframe thead th {\n        text-align: right;\n    }\n</style>\n<table border=\"1\" class=\"dataframe\">\n  <thead>\n    <tr style=\"text-align: right;\">\n      <th></th>\n      <th>Instrument</th>\n      <th>Date</th>\n      <th>Earnings Per Share - Actual</th>\n      <th>Earnings Per Share - Mean</th>\n      <th>Earnings Per Share - Actual Surprise</th>\n      <th>Revenue - Actual</th>\n      <th>Enterprise Value</th>\n      <th>Long Term Growth - Mean</th>\n      <th>Number of Analysts</th>\n      <th>Recommendation - Mean (1-5)_1</th>\n      <th>Recommendation - Mean (1-5)_2</th>\n      <th>WACC Inflation Adjusted Risk Free Rate, (%)</th>\n      <th>Net Income after Tax</th>\n      <th>Price Target - Mean</th>\n      <th>Price Close</th>\n    </tr>\n  </thead>\n  <tbody>\n    <tr>\n      <th>0</th>\n      <td>POOL.OQ</td>\n      <td>2022-10-20 07:00:00+00:00</td>\n      <td>4.78</td>\n      <td>4.5875</td>\n      <td>4.196</td>\n      <td>1615339000.0</td>\n      <td>14061600372.299999</td>\n      <td>&lt;NA&gt;</td>\n      <td>10</td>\n      <td>2.27273</td>\n      <td>2.2</td>\n      <td>3.747421</td>\n      <td>189965000.0</td>\n      <td>360.11111</td>\n      <td>318.21</td>\n    </tr>\n    <tr>\n      <th>1</th>\n      <td>POOL.OQ</td>\n      <td>2022-07-21 07:00:00+00:00</td>\n      <td>7.63</td>\n      <td>7.517</td>\n      <td>1.503</td>\n      <td>2055818000.0</td>\n      <td>15561870705.290001</td>\n      <td>&lt;NA&gt;</td>\n      <td>9</td>\n      <td>2.2</td>\n      <td>2.0</td>\n      <td>3.092855</td>\n      <td>307205000.0</td>\n      <td>435.375</td>\n      <td>351.23</td>\n    </tr>\n    <tr>\n      <th>2</th>\n      <td>POOL.OQ</td>\n      <td>2022-04-21 07:00:00+00:00</td>\n      <td>4.23</td>\n      <td>3.14867</td>\n      <td>34.342</td>\n      <td>1412650000.0</td>\n      <td>18436823034.200001</td>\n      <td>&lt;NA&gt;</td>\n      <td>9</td>\n      <td>2.0</td>\n      <td>2.3</td>\n      <td>2.325202</td>\n      <td>179203000.0</td>\n      <td>519.88889</td>\n      <td>422.85</td>\n    </tr>\n    <tr>\n      <th>3</th>\n      <td>POOL.OQ</td>\n      <td>2022-02-17 07:00:00+00:00</td>\n      <td>2.63</td>\n      <td>1.875</td>\n      <td>40.267</td>\n      <td>1035557000.0</td>\n      <td>23848820586.0</td>\n      <td>&lt;NA&gt;</td>\n      <td>8</td>\n      <td>2.3</td>\n      <td>2.3</td>\n      <td>1.515266</td>\n      <td>107542000.0</td>\n      <td>571.0</td>\n      <td>566.0</td>\n    </tr>\n    <tr>\n      <th>4</th>\n      <td>POOL.OQ</td>\n      <td>2021-10-21 07:00:00+00:00</td>\n      <td>4.51</td>\n      <td>3.84833</td>\n      <td>17.194</td>\n      <td>1411448000.0</td>\n      <td>17699543822.66</td>\n      <td>&lt;NA&gt;</td>\n      <td>8</td>\n      <td>2.3</td>\n      <td>2.3</td>\n      <td>1.527139</td>\n      <td>184573000.0</td>\n      <td>545.28571</td>\n      <td>434.41</td>\n    </tr>\n    <tr>\n      <th>...</th>\n      <td>...</td>\n      <td>...</td>\n      <td>...</td>\n      <td>...</td>\n      <td>...</td>\n      <td>...</td>\n      <td>...</td>\n      <td>...</td>\n      <td>...</td>\n      <td>...</td>\n      <td>...</td>\n      <td>...</td>\n      <td>...</td>\n      <td>...</td>\n      <td>...</td>\n    </tr>\n    <tr>\n      <th>5025</th>\n      <td>AVY.N</td>\n      <td>2021-07-28 06:45:00+00:00</td>\n      <td>2.25</td>\n      <td>2.05744</td>\n      <td>9.359</td>\n      <td>2102000000.0</td>\n      <td>19132322317.099998</td>\n      <td>9.4</td>\n      <td>11</td>\n      <td>2.15385</td>\n      <td>2.14286</td>\n      <td>1.444323</td>\n      <td>184900000.0</td>\n      <td>227.8</td>\n      <td>210.24</td>\n    </tr>\n    <tr>\n      <th>5026</th>\n      <td>AVY.N</td>\n      <td>2021-04-28 06:45:00+00:00</td>\n      <td>2.4</td>\n      <td>2.0288</td>\n      <td>18.297</td>\n      <td>2051300000.0</td>\n      <td>17428269089.919998</td>\n      <td>7.844</td>\n      <td>11</td>\n      <td>2.14286</td>\n      <td>2.21429</td>\n      <td>1.745787</td>\n      <td>210800000.0</td>\n      <td>206.1</td>\n      <td>183.65</td>\n    </tr>\n    <tr>\n      <th>5027</th>\n      <td>AVY.N</td>\n      <td>2021-02-03 06:45:00+00:00</td>\n      <td>2.27</td>\n      <td>2.08642</td>\n      <td>8.799</td>\n      <td>1990900000.0</td>\n      <td>14803422859.42</td>\n      <td>8.933</td>\n      <td>12</td>\n      <td>2.21429</td>\n      <td>2.35714</td>\n      <td>0.926432</td>\n      <td>192400000.0</td>\n      <td>168.90909</td>\n      <td>155.11</td>\n    </tr>\n    <tr>\n      <th>5028</th>\n      <td>AVY.N</td>\n      <td>2020-10-21 06:45:00+00:00</td>\n      <td>1.91</td>\n      <td>1.52673</td>\n      <td>25.104</td>\n      <td>1729100000.0</td>\n      <td>11816435091.5</td>\n      <td>7.958</td>\n      <td>12</td>\n      <td>2.35714</td>\n      <td>2.42857</td>\n      <td>0.677434</td>\n      <td>151500000.0</td>\n      <td>137.63636</td>\n      <td>127.84</td>\n    </tr>\n    <tr>\n      <th>5029</th>\n      <td>AVY.N</td>\n      <td>2020-07-27 06:46:00+00:00</td>\n      <td>1.27</td>\n      <td>1.13433</td>\n      <td>11.96</td>\n      <td>1528500000.0</td>\n      <td>11156836044.049999</td>\n      <td>7.88775</td>\n      <td>12</td>\n      <td>2.42857</td>\n      <td>2.46154</td>\n      <td>0.638068</td>\n      <td>81100000.0</td>\n      <td>128.3</td>\n      <td>114.09</td>\n    </tr>\n  </tbody>\n</table>\n<p>5030 rows × 15 columns</p>\n</div>"
     },
     "execution_count": 8,
     "metadata": {},
     "output_type": "execute_result"
    }
   ],
   "source": [
    "cols = []\n",
    "count = 1\n",
    "for column in df.columns:\n",
    "    if column == 'Recommendation - Mean (1-5)':\n",
    "        cols.append(f'Recommendation - Mean (1-5)_{count}')\n",
    "        count+=1\n",
    "        continue\n",
    "    cols.append(column)\n",
    "df.columns = cols\n",
    "df"
   ]
  },
  {
   "cell_type": "code",
   "execution_count": 9,
   "metadata": {
    "collapsed": false
   },
   "outputs": [
    {
     "data": {
      "text/plain": "     Instrument                      Date  Earnings Per Share - Actual  \\\n0       POOL.OQ 2022-10-20 07:00:00+00:00                         4.78   \n1       POOL.OQ 2022-07-21 07:00:00+00:00                         7.63   \n2       POOL.OQ 2022-04-21 07:00:00+00:00                         4.23   \n3       POOL.OQ 2022-02-17 07:00:00+00:00                         2.63   \n4       POOL.OQ 2021-10-21 07:00:00+00:00                         4.51   \n...         ...                       ...                          ...   \n5025      AVY.N 2021-07-28 06:45:00+00:00                         2.25   \n5026      AVY.N 2021-04-28 06:45:00+00:00                          2.4   \n5027      AVY.N 2021-02-03 06:45:00+00:00                         2.27   \n5028      AVY.N 2020-10-21 06:45:00+00:00                         1.91   \n5029      AVY.N 2020-07-27 06:46:00+00:00                         1.27   \n\n      Earnings Per Share - Mean  Earnings Per Share - Actual Surprise  \\\n0                        4.5875                                 4.196   \n1                         7.517                                 1.503   \n2                       3.14867                                34.342   \n3                         1.875                                40.267   \n4                       3.84833                                17.194   \n...                         ...                                   ...   \n5025                    2.05744                                 9.359   \n5026                     2.0288                                18.297   \n5027                    2.08642                                 8.799   \n5028                    1.52673                                25.104   \n5029                    1.13433                                 11.96   \n\n      Revenue - Actual    Enterprise Value  Long Term Growth - Mean  \\\n0         1615339000.0  14061600372.299999                     <NA>   \n1         2055818000.0  15561870705.290001                     <NA>   \n2         1412650000.0  18436823034.200001                     <NA>   \n3         1035557000.0       23848820586.0                     <NA>   \n4         1411448000.0      17699543822.66                     <NA>   \n...                ...                 ...                      ...   \n5025      2102000000.0  19132322317.099998                      9.4   \n5026      2051300000.0  17428269089.919998                    7.844   \n5027      1990900000.0      14803422859.42                    8.933   \n5028      1729100000.0       11816435091.5                    7.958   \n5029      1528500000.0  11156836044.049999                  7.88775   \n\n      Number of Analysts  Recommendation - Mean (1-5)  Recommendation change  \\\n0                     10                      2.27273                0.07273   \n1                      9                          2.2                    0.2   \n2                      9                          2.0                   -0.3   \n3                      8                          2.3                    0.0   \n4                      8                          2.3                    0.0   \n...                  ...                          ...                    ...   \n5025                  11                      2.15385                0.01099   \n5026                  11                      2.14286               -0.07143   \n5027                  12                      2.21429               -0.14285   \n5028                  12                      2.35714               -0.07143   \n5029                  12                      2.42857               -0.03297   \n\n      WACC Inflation Adjusted Risk Free Rate, (%)  Net Income after Tax  \\\n0                                        3.747421           189965000.0   \n1                                        3.092855           307205000.0   \n2                                        2.325202           179203000.0   \n3                                        1.515266           107542000.0   \n4                                        1.527139           184573000.0   \n...                                           ...                   ...   \n5025                                     1.444323           184900000.0   \n5026                                     1.745787           210800000.0   \n5027                                     0.926432           192400000.0   \n5028                                     0.677434           151500000.0   \n5029                                     0.638068            81100000.0   \n\n      Price Target - Mean  Price Close  \n0               360.11111       318.21  \n1                 435.375       351.23  \n2               519.88889       422.85  \n3                   571.0        566.0  \n4               545.28571       434.41  \n...                   ...          ...  \n5025                227.8       210.24  \n5026                206.1       183.65  \n5027            168.90909       155.11  \n5028            137.63636       127.84  \n5029                128.3       114.09  \n\n[5030 rows x 15 columns]",
      "text/html": "<div>\n<style scoped>\n    .dataframe tbody tr th:only-of-type {\n        vertical-align: middle;\n    }\n\n    .dataframe tbody tr th {\n        vertical-align: top;\n    }\n\n    .dataframe thead th {\n        text-align: right;\n    }\n</style>\n<table border=\"1\" class=\"dataframe\">\n  <thead>\n    <tr style=\"text-align: right;\">\n      <th></th>\n      <th>Instrument</th>\n      <th>Date</th>\n      <th>Earnings Per Share - Actual</th>\n      <th>Earnings Per Share - Mean</th>\n      <th>Earnings Per Share - Actual Surprise</th>\n      <th>Revenue - Actual</th>\n      <th>Enterprise Value</th>\n      <th>Long Term Growth - Mean</th>\n      <th>Number of Analysts</th>\n      <th>Recommendation - Mean (1-5)</th>\n      <th>Recommendation change</th>\n      <th>WACC Inflation Adjusted Risk Free Rate, (%)</th>\n      <th>Net Income after Tax</th>\n      <th>Price Target - Mean</th>\n      <th>Price Close</th>\n    </tr>\n  </thead>\n  <tbody>\n    <tr>\n      <th>0</th>\n      <td>POOL.OQ</td>\n      <td>2022-10-20 07:00:00+00:00</td>\n      <td>4.78</td>\n      <td>4.5875</td>\n      <td>4.196</td>\n      <td>1615339000.0</td>\n      <td>14061600372.299999</td>\n      <td>&lt;NA&gt;</td>\n      <td>10</td>\n      <td>2.27273</td>\n      <td>0.07273</td>\n      <td>3.747421</td>\n      <td>189965000.0</td>\n      <td>360.11111</td>\n      <td>318.21</td>\n    </tr>\n    <tr>\n      <th>1</th>\n      <td>POOL.OQ</td>\n      <td>2022-07-21 07:00:00+00:00</td>\n      <td>7.63</td>\n      <td>7.517</td>\n      <td>1.503</td>\n      <td>2055818000.0</td>\n      <td>15561870705.290001</td>\n      <td>&lt;NA&gt;</td>\n      <td>9</td>\n      <td>2.2</td>\n      <td>0.2</td>\n      <td>3.092855</td>\n      <td>307205000.0</td>\n      <td>435.375</td>\n      <td>351.23</td>\n    </tr>\n    <tr>\n      <th>2</th>\n      <td>POOL.OQ</td>\n      <td>2022-04-21 07:00:00+00:00</td>\n      <td>4.23</td>\n      <td>3.14867</td>\n      <td>34.342</td>\n      <td>1412650000.0</td>\n      <td>18436823034.200001</td>\n      <td>&lt;NA&gt;</td>\n      <td>9</td>\n      <td>2.0</td>\n      <td>-0.3</td>\n      <td>2.325202</td>\n      <td>179203000.0</td>\n      <td>519.88889</td>\n      <td>422.85</td>\n    </tr>\n    <tr>\n      <th>3</th>\n      <td>POOL.OQ</td>\n      <td>2022-02-17 07:00:00+00:00</td>\n      <td>2.63</td>\n      <td>1.875</td>\n      <td>40.267</td>\n      <td>1035557000.0</td>\n      <td>23848820586.0</td>\n      <td>&lt;NA&gt;</td>\n      <td>8</td>\n      <td>2.3</td>\n      <td>0.0</td>\n      <td>1.515266</td>\n      <td>107542000.0</td>\n      <td>571.0</td>\n      <td>566.0</td>\n    </tr>\n    <tr>\n      <th>4</th>\n      <td>POOL.OQ</td>\n      <td>2021-10-21 07:00:00+00:00</td>\n      <td>4.51</td>\n      <td>3.84833</td>\n      <td>17.194</td>\n      <td>1411448000.0</td>\n      <td>17699543822.66</td>\n      <td>&lt;NA&gt;</td>\n      <td>8</td>\n      <td>2.3</td>\n      <td>0.0</td>\n      <td>1.527139</td>\n      <td>184573000.0</td>\n      <td>545.28571</td>\n      <td>434.41</td>\n    </tr>\n    <tr>\n      <th>...</th>\n      <td>...</td>\n      <td>...</td>\n      <td>...</td>\n      <td>...</td>\n      <td>...</td>\n      <td>...</td>\n      <td>...</td>\n      <td>...</td>\n      <td>...</td>\n      <td>...</td>\n      <td>...</td>\n      <td>...</td>\n      <td>...</td>\n      <td>...</td>\n      <td>...</td>\n    </tr>\n    <tr>\n      <th>5025</th>\n      <td>AVY.N</td>\n      <td>2021-07-28 06:45:00+00:00</td>\n      <td>2.25</td>\n      <td>2.05744</td>\n      <td>9.359</td>\n      <td>2102000000.0</td>\n      <td>19132322317.099998</td>\n      <td>9.4</td>\n      <td>11</td>\n      <td>2.15385</td>\n      <td>0.01099</td>\n      <td>1.444323</td>\n      <td>184900000.0</td>\n      <td>227.8</td>\n      <td>210.24</td>\n    </tr>\n    <tr>\n      <th>5026</th>\n      <td>AVY.N</td>\n      <td>2021-04-28 06:45:00+00:00</td>\n      <td>2.4</td>\n      <td>2.0288</td>\n      <td>18.297</td>\n      <td>2051300000.0</td>\n      <td>17428269089.919998</td>\n      <td>7.844</td>\n      <td>11</td>\n      <td>2.14286</td>\n      <td>-0.07143</td>\n      <td>1.745787</td>\n      <td>210800000.0</td>\n      <td>206.1</td>\n      <td>183.65</td>\n    </tr>\n    <tr>\n      <th>5027</th>\n      <td>AVY.N</td>\n      <td>2021-02-03 06:45:00+00:00</td>\n      <td>2.27</td>\n      <td>2.08642</td>\n      <td>8.799</td>\n      <td>1990900000.0</td>\n      <td>14803422859.42</td>\n      <td>8.933</td>\n      <td>12</td>\n      <td>2.21429</td>\n      <td>-0.14285</td>\n      <td>0.926432</td>\n      <td>192400000.0</td>\n      <td>168.90909</td>\n      <td>155.11</td>\n    </tr>\n    <tr>\n      <th>5028</th>\n      <td>AVY.N</td>\n      <td>2020-10-21 06:45:00+00:00</td>\n      <td>1.91</td>\n      <td>1.52673</td>\n      <td>25.104</td>\n      <td>1729100000.0</td>\n      <td>11816435091.5</td>\n      <td>7.958</td>\n      <td>12</td>\n      <td>2.35714</td>\n      <td>-0.07143</td>\n      <td>0.677434</td>\n      <td>151500000.0</td>\n      <td>137.63636</td>\n      <td>127.84</td>\n    </tr>\n    <tr>\n      <th>5029</th>\n      <td>AVY.N</td>\n      <td>2020-07-27 06:46:00+00:00</td>\n      <td>1.27</td>\n      <td>1.13433</td>\n      <td>11.96</td>\n      <td>1528500000.0</td>\n      <td>11156836044.049999</td>\n      <td>7.88775</td>\n      <td>12</td>\n      <td>2.42857</td>\n      <td>-0.03297</td>\n      <td>0.638068</td>\n      <td>81100000.0</td>\n      <td>128.3</td>\n      <td>114.09</td>\n    </tr>\n  </tbody>\n</table>\n<p>5030 rows × 15 columns</p>\n</div>"
     },
     "execution_count": 9,
     "metadata": {},
     "output_type": "execute_result"
    }
   ],
   "source": [
    "df[\"Recommendation change\"] = df[\"Recommendation - Mean (1-5)_1\"] - df[\"Recommendation - Mean (1-5)_2\"]\n",
    "df.insert(10, \"Recommendation change\", df.pop(\"Recommendation change\"))\n",
    "df = df.rename(columns={\"Recommendation - Mean (1-5)_1\": \"Recommendation - Mean (1-5)\"})\n",
    "df = df.drop(\"Recommendation - Mean (1-5)_2\", axis=1)\n",
    "df"
   ]
  },
  {
   "cell_type": "code",
   "execution_count": 10,
   "metadata": {
    "collapsed": false
   },
   "outputs": [
    {
     "name": "stderr",
     "output_type": "stream",
     "text": [
      "C:\\Users\\alexa\\AppData\\Local\\Temp\\ipykernel_22020\\2145643216.py:1: FutureWarning: The default dtype for empty Series will be 'object' instead of 'float64' in a future version. Specify a dtype explicitly to silence this warning.\n",
      "  df['New Date'] = pd.Series()\n"
     ]
    },
    {
     "data": {
      "text/plain": "     Instrument                      Date    New Date  \\\n0       POOL.OQ 2022-10-20 07:00:00+00:00  2022-10-01   \n1       POOL.OQ 2022-07-21 07:00:00+00:00  2022-07-01   \n2       POOL.OQ 2022-04-21 07:00:00+00:00  2022-04-01   \n3       POOL.OQ 2022-02-17 07:00:00+00:00  2022-01-01   \n4       POOL.OQ 2021-10-21 07:00:00+00:00  2021-10-01   \n...         ...                       ...         ...   \n5025      AVY.N 2021-07-28 06:45:00+00:00  2021-07-01   \n5026      AVY.N 2021-04-28 06:45:00+00:00  2021-04-01   \n5027      AVY.N 2021-02-03 06:45:00+00:00  2021-01-01   \n5028      AVY.N 2020-10-21 06:45:00+00:00  2020-10-01   \n5029      AVY.N 2020-07-27 06:46:00+00:00  2020-07-01   \n\n      Earnings Per Share - Actual  Earnings Per Share - Mean  \\\n0                            4.78                     4.5875   \n1                            7.63                      7.517   \n2                            4.23                    3.14867   \n3                            2.63                      1.875   \n4                            4.51                    3.84833   \n...                           ...                        ...   \n5025                         2.25                    2.05744   \n5026                          2.4                     2.0288   \n5027                         2.27                    2.08642   \n5028                         1.91                    1.52673   \n5029                         1.27                    1.13433   \n\n      Earnings Per Share - Actual Surprise  Revenue - Actual  \\\n0                                    4.196      1615339000.0   \n1                                    1.503      2055818000.0   \n2                                   34.342      1412650000.0   \n3                                   40.267      1035557000.0   \n4                                   17.194      1411448000.0   \n...                                    ...               ...   \n5025                                 9.359      2102000000.0   \n5026                                18.297      2051300000.0   \n5027                                 8.799      1990900000.0   \n5028                                25.104      1729100000.0   \n5029                                 11.96      1528500000.0   \n\n        Enterprise Value  Long Term Growth - Mean  Number of Analysts  \\\n0     14061600372.299999                     <NA>                  10   \n1     15561870705.290001                     <NA>                   9   \n2     18436823034.200001                     <NA>                   9   \n3          23848820586.0                     <NA>                   8   \n4         17699543822.66                     <NA>                   8   \n...                  ...                      ...                 ...   \n5025  19132322317.099998                      9.4                  11   \n5026  17428269089.919998                    7.844                  11   \n5027      14803422859.42                    8.933                  12   \n5028       11816435091.5                    7.958                  12   \n5029  11156836044.049999                  7.88775                  12   \n\n      Recommendation - Mean (1-5)  Recommendation change  \\\n0                         2.27273                0.07273   \n1                             2.2                    0.2   \n2                             2.0                   -0.3   \n3                             2.3                    0.0   \n4                             2.3                    0.0   \n...                           ...                    ...   \n5025                      2.15385                0.01099   \n5026                      2.14286               -0.07143   \n5027                      2.21429               -0.14285   \n5028                      2.35714               -0.07143   \n5029                      2.42857               -0.03297   \n\n      WACC Inflation Adjusted Risk Free Rate, (%)  Net Income after Tax  \\\n0                                        3.747421           189965000.0   \n1                                        3.092855           307205000.0   \n2                                        2.325202           179203000.0   \n3                                        1.515266           107542000.0   \n4                                        1.527139           184573000.0   \n...                                           ...                   ...   \n5025                                     1.444323           184900000.0   \n5026                                     1.745787           210800000.0   \n5027                                     0.926432           192400000.0   \n5028                                     0.677434           151500000.0   \n5029                                     0.638068            81100000.0   \n\n      Price Target - Mean  Price Close  \n0               360.11111       318.21  \n1                 435.375       351.23  \n2               519.88889       422.85  \n3                   571.0        566.0  \n4               545.28571       434.41  \n...                   ...          ...  \n5025                227.8       210.24  \n5026                206.1       183.65  \n5027            168.90909       155.11  \n5028            137.63636       127.84  \n5029                128.3       114.09  \n\n[5030 rows x 16 columns]",
      "text/html": "<div>\n<style scoped>\n    .dataframe tbody tr th:only-of-type {\n        vertical-align: middle;\n    }\n\n    .dataframe tbody tr th {\n        vertical-align: top;\n    }\n\n    .dataframe thead th {\n        text-align: right;\n    }\n</style>\n<table border=\"1\" class=\"dataframe\">\n  <thead>\n    <tr style=\"text-align: right;\">\n      <th></th>\n      <th>Instrument</th>\n      <th>Date</th>\n      <th>New Date</th>\n      <th>Earnings Per Share - Actual</th>\n      <th>Earnings Per Share - Mean</th>\n      <th>Earnings Per Share - Actual Surprise</th>\n      <th>Revenue - Actual</th>\n      <th>Enterprise Value</th>\n      <th>Long Term Growth - Mean</th>\n      <th>Number of Analysts</th>\n      <th>Recommendation - Mean (1-5)</th>\n      <th>Recommendation change</th>\n      <th>WACC Inflation Adjusted Risk Free Rate, (%)</th>\n      <th>Net Income after Tax</th>\n      <th>Price Target - Mean</th>\n      <th>Price Close</th>\n    </tr>\n  </thead>\n  <tbody>\n    <tr>\n      <th>0</th>\n      <td>POOL.OQ</td>\n      <td>2022-10-20 07:00:00+00:00</td>\n      <td>2022-10-01</td>\n      <td>4.78</td>\n      <td>4.5875</td>\n      <td>4.196</td>\n      <td>1615339000.0</td>\n      <td>14061600372.299999</td>\n      <td>&lt;NA&gt;</td>\n      <td>10</td>\n      <td>2.27273</td>\n      <td>0.07273</td>\n      <td>3.747421</td>\n      <td>189965000.0</td>\n      <td>360.11111</td>\n      <td>318.21</td>\n    </tr>\n    <tr>\n      <th>1</th>\n      <td>POOL.OQ</td>\n      <td>2022-07-21 07:00:00+00:00</td>\n      <td>2022-07-01</td>\n      <td>7.63</td>\n      <td>7.517</td>\n      <td>1.503</td>\n      <td>2055818000.0</td>\n      <td>15561870705.290001</td>\n      <td>&lt;NA&gt;</td>\n      <td>9</td>\n      <td>2.2</td>\n      <td>0.2</td>\n      <td>3.092855</td>\n      <td>307205000.0</td>\n      <td>435.375</td>\n      <td>351.23</td>\n    </tr>\n    <tr>\n      <th>2</th>\n      <td>POOL.OQ</td>\n      <td>2022-04-21 07:00:00+00:00</td>\n      <td>2022-04-01</td>\n      <td>4.23</td>\n      <td>3.14867</td>\n      <td>34.342</td>\n      <td>1412650000.0</td>\n      <td>18436823034.200001</td>\n      <td>&lt;NA&gt;</td>\n      <td>9</td>\n      <td>2.0</td>\n      <td>-0.3</td>\n      <td>2.325202</td>\n      <td>179203000.0</td>\n      <td>519.88889</td>\n      <td>422.85</td>\n    </tr>\n    <tr>\n      <th>3</th>\n      <td>POOL.OQ</td>\n      <td>2022-02-17 07:00:00+00:00</td>\n      <td>2022-01-01</td>\n      <td>2.63</td>\n      <td>1.875</td>\n      <td>40.267</td>\n      <td>1035557000.0</td>\n      <td>23848820586.0</td>\n      <td>&lt;NA&gt;</td>\n      <td>8</td>\n      <td>2.3</td>\n      <td>0.0</td>\n      <td>1.515266</td>\n      <td>107542000.0</td>\n      <td>571.0</td>\n      <td>566.0</td>\n    </tr>\n    <tr>\n      <th>4</th>\n      <td>POOL.OQ</td>\n      <td>2021-10-21 07:00:00+00:00</td>\n      <td>2021-10-01</td>\n      <td>4.51</td>\n      <td>3.84833</td>\n      <td>17.194</td>\n      <td>1411448000.0</td>\n      <td>17699543822.66</td>\n      <td>&lt;NA&gt;</td>\n      <td>8</td>\n      <td>2.3</td>\n      <td>0.0</td>\n      <td>1.527139</td>\n      <td>184573000.0</td>\n      <td>545.28571</td>\n      <td>434.41</td>\n    </tr>\n    <tr>\n      <th>...</th>\n      <td>...</td>\n      <td>...</td>\n      <td>...</td>\n      <td>...</td>\n      <td>...</td>\n      <td>...</td>\n      <td>...</td>\n      <td>...</td>\n      <td>...</td>\n      <td>...</td>\n      <td>...</td>\n      <td>...</td>\n      <td>...</td>\n      <td>...</td>\n      <td>...</td>\n      <td>...</td>\n    </tr>\n    <tr>\n      <th>5025</th>\n      <td>AVY.N</td>\n      <td>2021-07-28 06:45:00+00:00</td>\n      <td>2021-07-01</td>\n      <td>2.25</td>\n      <td>2.05744</td>\n      <td>9.359</td>\n      <td>2102000000.0</td>\n      <td>19132322317.099998</td>\n      <td>9.4</td>\n      <td>11</td>\n      <td>2.15385</td>\n      <td>0.01099</td>\n      <td>1.444323</td>\n      <td>184900000.0</td>\n      <td>227.8</td>\n      <td>210.24</td>\n    </tr>\n    <tr>\n      <th>5026</th>\n      <td>AVY.N</td>\n      <td>2021-04-28 06:45:00+00:00</td>\n      <td>2021-04-01</td>\n      <td>2.4</td>\n      <td>2.0288</td>\n      <td>18.297</td>\n      <td>2051300000.0</td>\n      <td>17428269089.919998</td>\n      <td>7.844</td>\n      <td>11</td>\n      <td>2.14286</td>\n      <td>-0.07143</td>\n      <td>1.745787</td>\n      <td>210800000.0</td>\n      <td>206.1</td>\n      <td>183.65</td>\n    </tr>\n    <tr>\n      <th>5027</th>\n      <td>AVY.N</td>\n      <td>2021-02-03 06:45:00+00:00</td>\n      <td>2021-01-01</td>\n      <td>2.27</td>\n      <td>2.08642</td>\n      <td>8.799</td>\n      <td>1990900000.0</td>\n      <td>14803422859.42</td>\n      <td>8.933</td>\n      <td>12</td>\n      <td>2.21429</td>\n      <td>-0.14285</td>\n      <td>0.926432</td>\n      <td>192400000.0</td>\n      <td>168.90909</td>\n      <td>155.11</td>\n    </tr>\n    <tr>\n      <th>5028</th>\n      <td>AVY.N</td>\n      <td>2020-10-21 06:45:00+00:00</td>\n      <td>2020-10-01</td>\n      <td>1.91</td>\n      <td>1.52673</td>\n      <td>25.104</td>\n      <td>1729100000.0</td>\n      <td>11816435091.5</td>\n      <td>7.958</td>\n      <td>12</td>\n      <td>2.35714</td>\n      <td>-0.07143</td>\n      <td>0.677434</td>\n      <td>151500000.0</td>\n      <td>137.63636</td>\n      <td>127.84</td>\n    </tr>\n    <tr>\n      <th>5029</th>\n      <td>AVY.N</td>\n      <td>2020-07-27 06:46:00+00:00</td>\n      <td>2020-07-01</td>\n      <td>1.27</td>\n      <td>1.13433</td>\n      <td>11.96</td>\n      <td>1528500000.0</td>\n      <td>11156836044.049999</td>\n      <td>7.88775</td>\n      <td>12</td>\n      <td>2.42857</td>\n      <td>-0.03297</td>\n      <td>0.638068</td>\n      <td>81100000.0</td>\n      <td>128.3</td>\n      <td>114.09</td>\n    </tr>\n  </tbody>\n</table>\n<p>5030 rows × 16 columns</p>\n</div>"
     },
     "execution_count": 10,
     "metadata": {},
     "output_type": "execute_result"
    }
   ],
   "source": [
    "df['New Date'] = pd.Series()\n",
    "\n",
    "for i in range(len(df)):\n",
    "    if df.loc[i, \"Date\"].month == 1:\n",
    "        df.loc[i, \"New Date\"] = df.loc[i, \"Date\"].replace(month=1, day=1)\n",
    "    elif df.loc[i, \"Date\"].month == 2:\n",
    "        df.loc[i, \"New Date\"] = df.loc[i, \"Date\"].replace(month=1, day=1)\n",
    "    elif df.loc[i, \"Date\"].month == 3:\n",
    "        df.loc[i, \"New Date\"] = df.loc[i, \"Date\"].replace(month=1, day=1)\n",
    "    elif df.loc[i, \"Date\"].month == 4:\n",
    "        df.loc[i, \"New Date\"] = df.loc[i, \"Date\"].replace(month=4, day=1)\n",
    "    elif df.loc[i, \"Date\"].month == 5:\n",
    "        df.loc[i, \"New Date\"] = df.loc[i, \"Date\"].replace(month=4, day=1)\n",
    "    elif df.loc[i, \"Date\"].month == 6:\n",
    "        df.loc[i, \"New Date\"] = df.loc[i, \"Date\"].replace(month=4, day=1)\n",
    "    elif df.loc[i, \"Date\"].month == 7:\n",
    "        df.loc[i, \"New Date\"] = df.loc[i, \"Date\"].replace(month=7, day=1)\n",
    "    elif df.loc[i, \"Date\"].month == 8:\n",
    "        df.loc[i, \"New Date\"] = df.loc[i, \"Date\"].replace(month=7, day=1)\n",
    "    elif df.loc[i, \"Date\"].month == 9:\n",
    "        df.loc[i, \"New Date\"] = df.loc[i, \"Date\"].replace(month=7, day=1)\n",
    "    elif df.loc[i, \"Date\"].month == 10:\n",
    "        df.loc[i, \"New Date\"] = df.loc[i, \"Date\"].replace(month=10, day=1)\n",
    "    elif df.loc[i, \"Date\"].month == 11:\n",
    "        df.loc[i, \"New Date\"] = df.loc[i, \"Date\"].replace(month=10, day=1)\n",
    "    elif df.loc[i, \"Date\"].month == 12:\n",
    "        df.loc[i, \"New Date\"] = df.loc[i, \"Date\"].replace(month=10, day=1)\n",
    "\n",
    "df.insert(2, \"New Date\", df.pop(\"New Date\"))\n",
    "df[\"New Date\"] = pd.to_datetime(df[\"New Date\"]).dt.date\n",
    "\n",
    "df"
   ]
  },
  {
   "cell_type": "code",
   "execution_count": 13,
   "outputs": [
    {
     "data": {
      "text/plain": "     Instrument    New Date  Earnings Per Share - Actual Surprise  \\\n0       POOL.OQ  2022-10-01                                 4.196   \n1       POOL.OQ  2022-07-01                                 1.503   \n2       POOL.OQ  2022-04-01                                34.342   \n3       POOL.OQ  2022-01-01                                40.267   \n4       POOL.OQ  2021-10-01                                17.194   \n...         ...         ...                                   ...   \n5025      AVY.N  2021-07-01                                 9.359   \n5026      AVY.N  2021-04-01                                18.297   \n5027      AVY.N  2021-01-01                                 8.799   \n5028      AVY.N  2020-10-01                                25.104   \n5029      AVY.N  2020-07-01                                 11.96   \n\n      Revenue - Actual    Enterprise Value  Net Income after Tax  \n0         1615339000.0  14061600372.299999           189965000.0  \n1         2055818000.0  15561870705.290001           307205000.0  \n2         1412650000.0  18436823034.200001           179203000.0  \n3         1035557000.0       23848820586.0           107542000.0  \n4         1411448000.0      17699543822.66           184573000.0  \n...                ...                 ...                   ...  \n5025      2102000000.0  19132322317.099998           184900000.0  \n5026      2051300000.0  17428269089.919998           210800000.0  \n5027      1990900000.0      14803422859.42           192400000.0  \n5028      1729100000.0       11816435091.5           151500000.0  \n5029      1528500000.0  11156836044.049999            81100000.0  \n\n[5030 rows x 6 columns]",
      "text/html": "<div>\n<style scoped>\n    .dataframe tbody tr th:only-of-type {\n        vertical-align: middle;\n    }\n\n    .dataframe tbody tr th {\n        vertical-align: top;\n    }\n\n    .dataframe thead th {\n        text-align: right;\n    }\n</style>\n<table border=\"1\" class=\"dataframe\">\n  <thead>\n    <tr style=\"text-align: right;\">\n      <th></th>\n      <th>Instrument</th>\n      <th>New Date</th>\n      <th>Earnings Per Share - Actual Surprise</th>\n      <th>Revenue - Actual</th>\n      <th>Enterprise Value</th>\n      <th>Net Income after Tax</th>\n    </tr>\n  </thead>\n  <tbody>\n    <tr>\n      <th>0</th>\n      <td>POOL.OQ</td>\n      <td>2022-10-01</td>\n      <td>4.196</td>\n      <td>1615339000.0</td>\n      <td>14061600372.299999</td>\n      <td>189965000.0</td>\n    </tr>\n    <tr>\n      <th>1</th>\n      <td>POOL.OQ</td>\n      <td>2022-07-01</td>\n      <td>1.503</td>\n      <td>2055818000.0</td>\n      <td>15561870705.290001</td>\n      <td>307205000.0</td>\n    </tr>\n    <tr>\n      <th>2</th>\n      <td>POOL.OQ</td>\n      <td>2022-04-01</td>\n      <td>34.342</td>\n      <td>1412650000.0</td>\n      <td>18436823034.200001</td>\n      <td>179203000.0</td>\n    </tr>\n    <tr>\n      <th>3</th>\n      <td>POOL.OQ</td>\n      <td>2022-01-01</td>\n      <td>40.267</td>\n      <td>1035557000.0</td>\n      <td>23848820586.0</td>\n      <td>107542000.0</td>\n    </tr>\n    <tr>\n      <th>4</th>\n      <td>POOL.OQ</td>\n      <td>2021-10-01</td>\n      <td>17.194</td>\n      <td>1411448000.0</td>\n      <td>17699543822.66</td>\n      <td>184573000.0</td>\n    </tr>\n    <tr>\n      <th>...</th>\n      <td>...</td>\n      <td>...</td>\n      <td>...</td>\n      <td>...</td>\n      <td>...</td>\n      <td>...</td>\n    </tr>\n    <tr>\n      <th>5025</th>\n      <td>AVY.N</td>\n      <td>2021-07-01</td>\n      <td>9.359</td>\n      <td>2102000000.0</td>\n      <td>19132322317.099998</td>\n      <td>184900000.0</td>\n    </tr>\n    <tr>\n      <th>5026</th>\n      <td>AVY.N</td>\n      <td>2021-04-01</td>\n      <td>18.297</td>\n      <td>2051300000.0</td>\n      <td>17428269089.919998</td>\n      <td>210800000.0</td>\n    </tr>\n    <tr>\n      <th>5027</th>\n      <td>AVY.N</td>\n      <td>2021-01-01</td>\n      <td>8.799</td>\n      <td>1990900000.0</td>\n      <td>14803422859.42</td>\n      <td>192400000.0</td>\n    </tr>\n    <tr>\n      <th>5028</th>\n      <td>AVY.N</td>\n      <td>2020-10-01</td>\n      <td>25.104</td>\n      <td>1729100000.0</td>\n      <td>11816435091.5</td>\n      <td>151500000.0</td>\n    </tr>\n    <tr>\n      <th>5029</th>\n      <td>AVY.N</td>\n      <td>2020-07-01</td>\n      <td>11.96</td>\n      <td>1528500000.0</td>\n      <td>11156836044.049999</td>\n      <td>81100000.0</td>\n    </tr>\n  </tbody>\n</table>\n<p>5030 rows × 6 columns</p>\n</div>"
     },
     "execution_count": 13,
     "metadata": {},
     "output_type": "execute_result"
    }
   ],
   "source": [
    "characteristics = df.loc[:, [\"Instrument\", \"New Date\", \"Earnings Per Share - Actual Surprise\", \"Revenue - Actual\", \"Enterprise Value\", \"Net Income after Tax\"]]\n",
    "analysts = df.loc[:, [\"Instrument\", \"New Date\", \"Earnings Per Share - Actual Surprise\"]]\n",
    "characteristics"
   ],
   "metadata": {
    "collapsed": false
   }
  },
  {
   "cell_type": "code",
   "execution_count": 14,
   "outputs": [
    {
     "data": {
      "text/plain": "     Instrument    New Date  Earnings Per Share - Actual Surprise\n0       POOL.OQ  2022-10-01                                 4.196\n1       POOL.OQ  2022-07-01                                 1.503\n2       POOL.OQ  2022-04-01                                34.342\n3       POOL.OQ  2022-01-01                                40.267\n4       POOL.OQ  2021-10-01                                17.194\n...         ...         ...                                   ...\n5025      AVY.N  2021-07-01                                 9.359\n5026      AVY.N  2021-04-01                                18.297\n5027      AVY.N  2021-01-01                                 8.799\n5028      AVY.N  2020-10-01                                25.104\n5029      AVY.N  2020-07-01                                 11.96\n\n[5030 rows x 3 columns]",
      "text/html": "<div>\n<style scoped>\n    .dataframe tbody tr th:only-of-type {\n        vertical-align: middle;\n    }\n\n    .dataframe tbody tr th {\n        vertical-align: top;\n    }\n\n    .dataframe thead th {\n        text-align: right;\n    }\n</style>\n<table border=\"1\" class=\"dataframe\">\n  <thead>\n    <tr style=\"text-align: right;\">\n      <th></th>\n      <th>Instrument</th>\n      <th>New Date</th>\n      <th>Earnings Per Share - Actual Surprise</th>\n    </tr>\n  </thead>\n  <tbody>\n    <tr>\n      <th>0</th>\n      <td>POOL.OQ</td>\n      <td>2022-10-01</td>\n      <td>4.196</td>\n    </tr>\n    <tr>\n      <th>1</th>\n      <td>POOL.OQ</td>\n      <td>2022-07-01</td>\n      <td>1.503</td>\n    </tr>\n    <tr>\n      <th>2</th>\n      <td>POOL.OQ</td>\n      <td>2022-04-01</td>\n      <td>34.342</td>\n    </tr>\n    <tr>\n      <th>3</th>\n      <td>POOL.OQ</td>\n      <td>2022-01-01</td>\n      <td>40.267</td>\n    </tr>\n    <tr>\n      <th>4</th>\n      <td>POOL.OQ</td>\n      <td>2021-10-01</td>\n      <td>17.194</td>\n    </tr>\n    <tr>\n      <th>...</th>\n      <td>...</td>\n      <td>...</td>\n      <td>...</td>\n    </tr>\n    <tr>\n      <th>5025</th>\n      <td>AVY.N</td>\n      <td>2021-07-01</td>\n      <td>9.359</td>\n    </tr>\n    <tr>\n      <th>5026</th>\n      <td>AVY.N</td>\n      <td>2021-04-01</td>\n      <td>18.297</td>\n    </tr>\n    <tr>\n      <th>5027</th>\n      <td>AVY.N</td>\n      <td>2021-01-01</td>\n      <td>8.799</td>\n    </tr>\n    <tr>\n      <th>5028</th>\n      <td>AVY.N</td>\n      <td>2020-10-01</td>\n      <td>25.104</td>\n    </tr>\n    <tr>\n      <th>5029</th>\n      <td>AVY.N</td>\n      <td>2020-07-01</td>\n      <td>11.96</td>\n    </tr>\n  </tbody>\n</table>\n<p>5030 rows × 3 columns</p>\n</div>"
     },
     "execution_count": 14,
     "metadata": {},
     "output_type": "execute_result"
    }
   ],
   "source": [
    "analysts"
   ],
   "metadata": {
    "collapsed": false
   }
  },
  {
   "cell_type": "code",
   "execution_count": 14,
   "outputs": [],
   "source": [],
   "metadata": {
    "collapsed": false
   }
  },
  {
   "cell_type": "code",
   "execution_count": null,
   "outputs": [],
   "source": [],
   "metadata": {
    "collapsed": false
   }
  },
  {
   "cell_type": "code",
   "execution_count": null,
   "outputs": [],
   "source": [],
   "metadata": {
    "collapsed": false
   }
  },
  {
   "cell_type": "code",
   "execution_count": 7,
   "metadata": {
    "collapsed": false
   },
   "outputs": [],
   "source": [
    "economic_story_yearly = [\"TR.TRESGScore.date\", \"TR.TRESGScore\", \"TR.GovernancePillarScore\", \"TR.AnalyticIndepBoard\"]"
   ]
  },
  {
   "cell_type": "code",
   "execution_count": 8,
   "metadata": {
    "collapsed": false
   },
   "outputs": [
    {
     "data": {
      "text/plain": "     Instrument                      Date  ESG Score  Governance Pillar Score  \\\n0       POOL.OQ 2021-12-31 00:00:00+00:00  48.718747                79.856229   \n1       POOL.OQ 2020-12-31 00:00:00+00:00  40.485976                 69.05684   \n2       POOL.OQ 2019-12-31 00:00:00+00:00  44.618552                80.983486   \n3       POOL.OQ 2018-12-31 00:00:00+00:00   42.83681                66.013223   \n4       POOL.OQ 2017-12-31 00:00:00+00:00  39.816484                 54.70234   \n...         ...                       ...        ...                      ...   \n3000      AVY.N 2021-01-02 00:00:00+00:00  59.629421                30.056165   \n3001      AVY.N 2019-12-28 00:00:00+00:00  54.240166                21.795439   \n3002      AVY.N 2018-12-29 00:00:00+00:00  52.999907                40.477426   \n3003      AVY.N 2017-12-30 00:00:00+00:00  55.439872                50.729392   \n3004      AVY.N 2016-12-31 00:00:00+00:00  68.473207                67.980593   \n\n      Independent Board Members  \n0                          80.0  \n1                     88.888889  \n2                     88.888889  \n3                          87.5  \n4                          75.0  \n...                         ...  \n3000                  90.909091  \n3001                  83.333333  \n3002                  83.333333  \n3003                  81.818182  \n3004                  88.888889  \n\n[3005 rows x 5 columns]",
      "text/html": "<div>\n<style scoped>\n    .dataframe tbody tr th:only-of-type {\n        vertical-align: middle;\n    }\n\n    .dataframe tbody tr th {\n        vertical-align: top;\n    }\n\n    .dataframe thead th {\n        text-align: right;\n    }\n</style>\n<table border=\"1\" class=\"dataframe\">\n  <thead>\n    <tr style=\"text-align: right;\">\n      <th></th>\n      <th>Instrument</th>\n      <th>Date</th>\n      <th>ESG Score</th>\n      <th>Governance Pillar Score</th>\n      <th>Independent Board Members</th>\n    </tr>\n  </thead>\n  <tbody>\n    <tr>\n      <th>0</th>\n      <td>POOL.OQ</td>\n      <td>2021-12-31 00:00:00+00:00</td>\n      <td>48.718747</td>\n      <td>79.856229</td>\n      <td>80.0</td>\n    </tr>\n    <tr>\n      <th>1</th>\n      <td>POOL.OQ</td>\n      <td>2020-12-31 00:00:00+00:00</td>\n      <td>40.485976</td>\n      <td>69.05684</td>\n      <td>88.888889</td>\n    </tr>\n    <tr>\n      <th>2</th>\n      <td>POOL.OQ</td>\n      <td>2019-12-31 00:00:00+00:00</td>\n      <td>44.618552</td>\n      <td>80.983486</td>\n      <td>88.888889</td>\n    </tr>\n    <tr>\n      <th>3</th>\n      <td>POOL.OQ</td>\n      <td>2018-12-31 00:00:00+00:00</td>\n      <td>42.83681</td>\n      <td>66.013223</td>\n      <td>87.5</td>\n    </tr>\n    <tr>\n      <th>4</th>\n      <td>POOL.OQ</td>\n      <td>2017-12-31 00:00:00+00:00</td>\n      <td>39.816484</td>\n      <td>54.70234</td>\n      <td>75.0</td>\n    </tr>\n    <tr>\n      <th>...</th>\n      <td>...</td>\n      <td>...</td>\n      <td>...</td>\n      <td>...</td>\n      <td>...</td>\n    </tr>\n    <tr>\n      <th>3000</th>\n      <td>AVY.N</td>\n      <td>2021-01-02 00:00:00+00:00</td>\n      <td>59.629421</td>\n      <td>30.056165</td>\n      <td>90.909091</td>\n    </tr>\n    <tr>\n      <th>3001</th>\n      <td>AVY.N</td>\n      <td>2019-12-28 00:00:00+00:00</td>\n      <td>54.240166</td>\n      <td>21.795439</td>\n      <td>83.333333</td>\n    </tr>\n    <tr>\n      <th>3002</th>\n      <td>AVY.N</td>\n      <td>2018-12-29 00:00:00+00:00</td>\n      <td>52.999907</td>\n      <td>40.477426</td>\n      <td>83.333333</td>\n    </tr>\n    <tr>\n      <th>3003</th>\n      <td>AVY.N</td>\n      <td>2017-12-30 00:00:00+00:00</td>\n      <td>55.439872</td>\n      <td>50.729392</td>\n      <td>81.818182</td>\n    </tr>\n    <tr>\n      <th>3004</th>\n      <td>AVY.N</td>\n      <td>2016-12-31 00:00:00+00:00</td>\n      <td>68.473207</td>\n      <td>67.980593</td>\n      <td>88.888889</td>\n    </tr>\n  </tbody>\n</table>\n<p>3005 rows × 5 columns</p>\n</div>"
     },
     "execution_count": 8,
     "metadata": {},
     "output_type": "execute_result"
    }
   ],
   "source": [
    "df2, e = ek.get_data('0#.SPX', economic_story_yearly, parameters = {'SDate':'0','EDate':'-5','Period':'FY0','Frq':'FY'})\n",
    "df2[\"Date\"] = pd.to_datetime(df2[\"Date\"])\n",
    "df2"
   ]
  },
  {
   "cell_type": "code",
   "execution_count": 10,
   "outputs": [
    {
     "name": "stderr",
     "output_type": "stream",
     "text": [
      "/var/folders/g8/1tyvls5x41bd_dx0zhcy5ggc0000gn/T/ipykernel_14562/408457973.py:1: FutureWarning: The default dtype for empty Series will be 'object' instead of 'float64' in a future version. Specify a dtype explicitly to silence this warning.\n",
      "  df['ESG Score'] = pd.Series()\n",
      "/var/folders/g8/1tyvls5x41bd_dx0zhcy5ggc0000gn/T/ipykernel_14562/408457973.py:2: FutureWarning: The default dtype for empty Series will be 'object' instead of 'float64' in a future version. Specify a dtype explicitly to silence this warning.\n",
      "  df['Governance Pillar Score'] = pd.Series()\n",
      "/var/folders/g8/1tyvls5x41bd_dx0zhcy5ggc0000gn/T/ipykernel_14562/408457973.py:3: FutureWarning: The default dtype for empty Series will be 'object' instead of 'float64' in a future version. Specify a dtype explicitly to silence this warning.\n",
      "  df['Independent Board Members'] = pd.Series()\n"
     ]
    },
    {
     "data": {
      "text/html": [
       "<div>\n",
       "<style scoped>\n",
       "    .dataframe tbody tr th:only-of-type {\n",
       "        vertical-align: middle;\n",
       "    }\n",
       "\n",
       "    .dataframe tbody tr th {\n",
       "        vertical-align: top;\n",
       "    }\n",
       "\n",
       "    .dataframe thead th {\n",
       "        text-align: right;\n",
       "    }\n",
       "</style>\n",
       "<table border=\"1\" class=\"dataframe\">\n",
       "  <thead>\n",
       "    <tr style=\"text-align: right;\">\n",
       "      <th></th>\n",
       "      <th>Instrument</th>\n",
       "      <th>Date</th>\n",
       "      <th>New Date</th>\n",
       "      <th>Earnings Per Share - Actual</th>\n",
       "      <th>Earnings Per Share - Mean</th>\n",
       "      <th>Earnings Per Share - Actual Surprise</th>\n",
       "      <th>Revenue - Actual</th>\n",
       "      <th>Enterprise Value</th>\n",
       "      <th>Long Term Growth - Mean</th>\n",
       "      <th>Number of Analysts</th>\n",
       "      <th>Recommendation - Mean (1-5)</th>\n",
       "      <th>Recommendation change</th>\n",
       "      <th>WACC Inflation Adjusted Risk Free Rate, (%)</th>\n",
       "      <th>Net Income after Tax</th>\n",
       "      <th>ESG Score</th>\n",
       "      <th>Governance Pillar Score</th>\n",
       "      <th>Independent Board Members</th>\n",
       "    </tr>\n",
       "  </thead>\n",
       "  <tbody>\n",
       "    <tr>\n",
       "      <th>0</th>\n",
       "      <td>POOL.OQ</td>\n",
       "      <td>2022-10-20 07:00:00+00:00</td>\n",
       "      <td>2022-10-01</td>\n",
       "      <td>4.78</td>\n",
       "      <td>4.5875</td>\n",
       "      <td>4.196</td>\n",
       "      <td>1615339000</td>\n",
       "      <td>14061600372.299999</td>\n",
       "      <td>&lt;NA&gt;</td>\n",
       "      <td>10</td>\n",
       "      <td>2.27273</td>\n",
       "      <td>0.07273</td>\n",
       "      <td>3.747421</td>\n",
       "      <td>189965000</td>\n",
       "      <td>NaN</td>\n",
       "      <td>NaN</td>\n",
       "      <td>NaN</td>\n",
       "    </tr>\n",
       "    <tr>\n",
       "      <th>1</th>\n",
       "      <td>POOL.OQ</td>\n",
       "      <td>2022-07-21 07:00:00+00:00</td>\n",
       "      <td>2022-07-01</td>\n",
       "      <td>7.63</td>\n",
       "      <td>7.517</td>\n",
       "      <td>1.503</td>\n",
       "      <td>2055818000</td>\n",
       "      <td>15561870705.290001</td>\n",
       "      <td>&lt;NA&gt;</td>\n",
       "      <td>9</td>\n",
       "      <td>2.2</td>\n",
       "      <td>0.2</td>\n",
       "      <td>3.092855</td>\n",
       "      <td>307205000</td>\n",
       "      <td>NaN</td>\n",
       "      <td>NaN</td>\n",
       "      <td>NaN</td>\n",
       "    </tr>\n",
       "    <tr>\n",
       "      <th>2</th>\n",
       "      <td>POOL.OQ</td>\n",
       "      <td>2022-04-21 07:00:00+00:00</td>\n",
       "      <td>2022-04-01</td>\n",
       "      <td>4.23</td>\n",
       "      <td>3.14867</td>\n",
       "      <td>34.342</td>\n",
       "      <td>1412650000</td>\n",
       "      <td>18436823034.200001</td>\n",
       "      <td>&lt;NA&gt;</td>\n",
       "      <td>9</td>\n",
       "      <td>2.0</td>\n",
       "      <td>-0.3</td>\n",
       "      <td>2.325202</td>\n",
       "      <td>179203000</td>\n",
       "      <td>NaN</td>\n",
       "      <td>NaN</td>\n",
       "      <td>NaN</td>\n",
       "    </tr>\n",
       "    <tr>\n",
       "      <th>3</th>\n",
       "      <td>POOL.OQ</td>\n",
       "      <td>2022-02-17 07:00:00+00:00</td>\n",
       "      <td>2022-01-01</td>\n",
       "      <td>2.63</td>\n",
       "      <td>1.875</td>\n",
       "      <td>40.267</td>\n",
       "      <td>1035557000</td>\n",
       "      <td>23848820586.0</td>\n",
       "      <td>&lt;NA&gt;</td>\n",
       "      <td>8</td>\n",
       "      <td>2.3</td>\n",
       "      <td>0.0</td>\n",
       "      <td>1.515266</td>\n",
       "      <td>107542000</td>\n",
       "      <td>NaN</td>\n",
       "      <td>NaN</td>\n",
       "      <td>NaN</td>\n",
       "    </tr>\n",
       "    <tr>\n",
       "      <th>4</th>\n",
       "      <td>POOL.OQ</td>\n",
       "      <td>2021-10-21 07:00:00+00:00</td>\n",
       "      <td>2021-10-01</td>\n",
       "      <td>4.51</td>\n",
       "      <td>3.84833</td>\n",
       "      <td>17.194</td>\n",
       "      <td>1411448000</td>\n",
       "      <td>17699543822.66</td>\n",
       "      <td>&lt;NA&gt;</td>\n",
       "      <td>8</td>\n",
       "      <td>2.3</td>\n",
       "      <td>0.0</td>\n",
       "      <td>1.527139</td>\n",
       "      <td>184573000</td>\n",
       "      <td>48.718747</td>\n",
       "      <td>79.856229</td>\n",
       "      <td>80.000000</td>\n",
       "    </tr>\n",
       "    <tr>\n",
       "      <th>...</th>\n",
       "      <td>...</td>\n",
       "      <td>...</td>\n",
       "      <td>...</td>\n",
       "      <td>...</td>\n",
       "      <td>...</td>\n",
       "      <td>...</td>\n",
       "      <td>...</td>\n",
       "      <td>...</td>\n",
       "      <td>...</td>\n",
       "      <td>...</td>\n",
       "      <td>...</td>\n",
       "      <td>...</td>\n",
       "      <td>...</td>\n",
       "      <td>...</td>\n",
       "      <td>...</td>\n",
       "      <td>...</td>\n",
       "      <td>...</td>\n",
       "    </tr>\n",
       "    <tr>\n",
       "      <th>5025</th>\n",
       "      <td>AVY.N</td>\n",
       "      <td>2021-07-28 06:45:00+00:00</td>\n",
       "      <td>2021-07-01</td>\n",
       "      <td>2.25</td>\n",
       "      <td>2.05744</td>\n",
       "      <td>9.359</td>\n",
       "      <td>2102000000</td>\n",
       "      <td>19132322317.099998</td>\n",
       "      <td>9.4</td>\n",
       "      <td>11</td>\n",
       "      <td>2.15385</td>\n",
       "      <td>0.01099</td>\n",
       "      <td>1.444323</td>\n",
       "      <td>184900000</td>\n",
       "      <td>59.629421</td>\n",
       "      <td>30.056165</td>\n",
       "      <td>90.909091</td>\n",
       "    </tr>\n",
       "    <tr>\n",
       "      <th>5026</th>\n",
       "      <td>AVY.N</td>\n",
       "      <td>2021-04-28 06:45:00+00:00</td>\n",
       "      <td>2021-04-01</td>\n",
       "      <td>2.4</td>\n",
       "      <td>2.0288</td>\n",
       "      <td>18.297</td>\n",
       "      <td>2051300000</td>\n",
       "      <td>17428269089.919998</td>\n",
       "      <td>7.844</td>\n",
       "      <td>11</td>\n",
       "      <td>2.14286</td>\n",
       "      <td>-0.07143</td>\n",
       "      <td>1.745787</td>\n",
       "      <td>210800000</td>\n",
       "      <td>59.629421</td>\n",
       "      <td>30.056165</td>\n",
       "      <td>90.909091</td>\n",
       "    </tr>\n",
       "    <tr>\n",
       "      <th>5027</th>\n",
       "      <td>AVY.N</td>\n",
       "      <td>2021-02-03 06:45:00+00:00</td>\n",
       "      <td>2021-01-01</td>\n",
       "      <td>2.27</td>\n",
       "      <td>2.08642</td>\n",
       "      <td>8.799</td>\n",
       "      <td>1990900000</td>\n",
       "      <td>14803422859.42</td>\n",
       "      <td>8.933</td>\n",
       "      <td>12</td>\n",
       "      <td>2.21429</td>\n",
       "      <td>-0.14285</td>\n",
       "      <td>0.926432</td>\n",
       "      <td>192400000</td>\n",
       "      <td>59.629421</td>\n",
       "      <td>30.056165</td>\n",
       "      <td>90.909091</td>\n",
       "    </tr>\n",
       "    <tr>\n",
       "      <th>5028</th>\n",
       "      <td>AVY.N</td>\n",
       "      <td>2020-10-21 06:45:00+00:00</td>\n",
       "      <td>2020-10-01</td>\n",
       "      <td>1.91</td>\n",
       "      <td>1.52673</td>\n",
       "      <td>25.104</td>\n",
       "      <td>1729100000</td>\n",
       "      <td>11816435091.5</td>\n",
       "      <td>7.958</td>\n",
       "      <td>12</td>\n",
       "      <td>2.35714</td>\n",
       "      <td>-0.07143</td>\n",
       "      <td>0.677434</td>\n",
       "      <td>151500000</td>\n",
       "      <td>NaN</td>\n",
       "      <td>NaN</td>\n",
       "      <td>NaN</td>\n",
       "    </tr>\n",
       "    <tr>\n",
       "      <th>5029</th>\n",
       "      <td>AVY.N</td>\n",
       "      <td>2020-07-27 06:46:00+00:00</td>\n",
       "      <td>2020-07-01</td>\n",
       "      <td>1.27</td>\n",
       "      <td>1.13433</td>\n",
       "      <td>11.96</td>\n",
       "      <td>1528500000</td>\n",
       "      <td>11156836044.049999</td>\n",
       "      <td>7.88775</td>\n",
       "      <td>12</td>\n",
       "      <td>2.42857</td>\n",
       "      <td>-0.03297</td>\n",
       "      <td>0.638068</td>\n",
       "      <td>81100000</td>\n",
       "      <td>NaN</td>\n",
       "      <td>NaN</td>\n",
       "      <td>NaN</td>\n",
       "    </tr>\n",
       "  </tbody>\n",
       "</table>\n",
       "<p>5030 rows × 17 columns</p>\n",
       "</div>"
      ],
      "text/plain": [
       "     Instrument                      Date    New Date  \\\n",
       "0       POOL.OQ 2022-10-20 07:00:00+00:00  2022-10-01   \n",
       "1       POOL.OQ 2022-07-21 07:00:00+00:00  2022-07-01   \n",
       "2       POOL.OQ 2022-04-21 07:00:00+00:00  2022-04-01   \n",
       "3       POOL.OQ 2022-02-17 07:00:00+00:00  2022-01-01   \n",
       "4       POOL.OQ 2021-10-21 07:00:00+00:00  2021-10-01   \n",
       "...         ...                       ...         ...   \n",
       "5025      AVY.N 2021-07-28 06:45:00+00:00  2021-07-01   \n",
       "5026      AVY.N 2021-04-28 06:45:00+00:00  2021-04-01   \n",
       "5027      AVY.N 2021-02-03 06:45:00+00:00  2021-01-01   \n",
       "5028      AVY.N 2020-10-21 06:45:00+00:00  2020-10-01   \n",
       "5029      AVY.N 2020-07-27 06:46:00+00:00  2020-07-01   \n",
       "\n",
       "      Earnings Per Share - Actual  Earnings Per Share - Mean  \\\n",
       "0                            4.78                     4.5875   \n",
       "1                            7.63                      7.517   \n",
       "2                            4.23                    3.14867   \n",
       "3                            2.63                      1.875   \n",
       "4                            4.51                    3.84833   \n",
       "...                           ...                        ...   \n",
       "5025                         2.25                    2.05744   \n",
       "5026                          2.4                     2.0288   \n",
       "5027                         2.27                    2.08642   \n",
       "5028                         1.91                    1.52673   \n",
       "5029                         1.27                    1.13433   \n",
       "\n",
       "      Earnings Per Share - Actual Surprise  Revenue - Actual  \\\n",
       "0                                    4.196        1615339000   \n",
       "1                                    1.503        2055818000   \n",
       "2                                   34.342        1412650000   \n",
       "3                                   40.267        1035557000   \n",
       "4                                   17.194        1411448000   \n",
       "...                                    ...               ...   \n",
       "5025                                 9.359        2102000000   \n",
       "5026                                18.297        2051300000   \n",
       "5027                                 8.799        1990900000   \n",
       "5028                                25.104        1729100000   \n",
       "5029                                 11.96        1528500000   \n",
       "\n",
       "        Enterprise Value  Long Term Growth - Mean  Number of Analysts  \\\n",
       "0     14061600372.299999                     <NA>                  10   \n",
       "1     15561870705.290001                     <NA>                   9   \n",
       "2     18436823034.200001                     <NA>                   9   \n",
       "3          23848820586.0                     <NA>                   8   \n",
       "4         17699543822.66                     <NA>                   8   \n",
       "...                  ...                      ...                 ...   \n",
       "5025  19132322317.099998                      9.4                  11   \n",
       "5026  17428269089.919998                    7.844                  11   \n",
       "5027      14803422859.42                    8.933                  12   \n",
       "5028       11816435091.5                    7.958                  12   \n",
       "5029  11156836044.049999                  7.88775                  12   \n",
       "\n",
       "      Recommendation - Mean (1-5)  Recommendation change  \\\n",
       "0                         2.27273                0.07273   \n",
       "1                             2.2                    0.2   \n",
       "2                             2.0                   -0.3   \n",
       "3                             2.3                    0.0   \n",
       "4                             2.3                    0.0   \n",
       "...                           ...                    ...   \n",
       "5025                      2.15385                0.01099   \n",
       "5026                      2.14286               -0.07143   \n",
       "5027                      2.21429               -0.14285   \n",
       "5028                      2.35714               -0.07143   \n",
       "5029                      2.42857               -0.03297   \n",
       "\n",
       "      WACC Inflation Adjusted Risk Free Rate, (%)  Net Income after Tax  \\\n",
       "0                                        3.747421             189965000   \n",
       "1                                        3.092855             307205000   \n",
       "2                                        2.325202             179203000   \n",
       "3                                        1.515266             107542000   \n",
       "4                                        1.527139             184573000   \n",
       "...                                           ...                   ...   \n",
       "5025                                     1.444323             184900000   \n",
       "5026                                     1.745787             210800000   \n",
       "5027                                     0.926432             192400000   \n",
       "5028                                     0.677434             151500000   \n",
       "5029                                     0.638068              81100000   \n",
       "\n",
       "      ESG Score  Governance Pillar Score  Independent Board Members  \n",
       "0           NaN                      NaN                        NaN  \n",
       "1           NaN                      NaN                        NaN  \n",
       "2           NaN                      NaN                        NaN  \n",
       "3           NaN                      NaN                        NaN  \n",
       "4     48.718747                79.856229                  80.000000  \n",
       "...         ...                      ...                        ...  \n",
       "5025  59.629421                30.056165                  90.909091  \n",
       "5026  59.629421                30.056165                  90.909091  \n",
       "5027  59.629421                30.056165                  90.909091  \n",
       "5028        NaN                      NaN                        NaN  \n",
       "5029        NaN                      NaN                        NaN  \n",
       "\n",
       "[5030 rows x 17 columns]"
      ]
     },
     "execution_count": 10,
     "metadata": {},
     "output_type": "execute_result"
    }
   ],
   "source": [
    "# df['ESG Score'] = pd.Series()\n",
    "# df['Governance Pillar Score'] = pd.Series()\n",
    "# df['Independent Board Members'] = pd.Series()\n",
    "#\n",
    "# for i in range(len(df2)):\n",
    "#     for j in range(len(df)):\n",
    "#         if df.loc[j, \"Instrument\"] == df2.loc[i, \"Instrument\"] and df.loc[j, \"New Date\"].year == df2.loc[i, \"Date\"].year:\n",
    "#             df.loc[j, \"ESG Score\"] = df2.loc[i, \"ESG Score\"]\n",
    "#             df.loc[j, \"Governance Pillar Score\"] = df2.loc[i, \"Governance Pillar Score\"]\n",
    "#             df.loc[j, \"Independent Board Members\"] = df2.loc[i, \"Independent Board Members\"]\n",
    "#\n",
    "# df"
   ],
   "metadata": {
    "collapsed": false
   }
  },
  {
   "cell_type": "code",
   "execution_count": 11,
   "metadata": {
    "collapsed": false
   },
   "outputs": [
    {
     "data": {
      "text/plain": [
       "Instrument                                                  string\n",
       "Date                                           datetime64[ns, UTC]\n",
       "New Date                                                    object\n",
       "Earnings Per Share - Actual                                Float64\n",
       "Earnings Per Share - Mean                                  Float64\n",
       "Earnings Per Share - Actual Surprise                       Float64\n",
       "Revenue - Actual                                             Int64\n",
       "Enterprise Value                                           Float64\n",
       "Long Term Growth - Mean                                    Float64\n",
       "Number of Analysts                                           Int64\n",
       "Recommendation - Mean (1-5)                                Float64\n",
       "Recommendation change                                      Float64\n",
       "WACC Inflation Adjusted Risk Free Rate, (%)                Float64\n",
       "Net Income after Tax                                         Int64\n",
       "ESG Score                                                  float64\n",
       "Governance Pillar Score                                    float64\n",
       "Independent Board Members                                  float64\n",
       "dtype: object"
      ]
     },
     "execution_count": 11,
     "metadata": {},
     "output_type": "execute_result"
    }
   ],
   "source": [
    "df.dtypes"
   ]
  },
  {
   "cell_type": "code",
   "execution_count": null,
   "metadata": {
    "collapsed": false
   },
   "outputs": [],
   "source": []
  }
 ],
 "metadata": {
  "kernelspec": {
   "display_name": "Python 3",
   "language": "python",
   "name": "python3"
  },
  "language_info": {
   "codemirror_mode": {
    "name": "ipython",
    "version": 2
   },
   "file_extension": ".py",
   "mimetype": "text/x-python",
   "name": "python",
   "nbconvert_exporter": "python",
   "pygments_lexer": "ipython2",
   "version": "3.11.1"
  },
  "vscode": {
   "interpreter": {
    "hash": "aee8b7b246df8f9039afb4144a1f6fd8d2ca17a180786b69acc140d282b71a49"
   }
  }
 },
 "nbformat": 4,
 "nbformat_minor": 0
}
