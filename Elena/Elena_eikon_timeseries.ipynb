{
 "cells": [
  {
   "cell_type": "code",
   "execution_count": 1,
   "outputs": [],
   "source": [
    "import eikon as ek\n",
    "import pandas as pd\n",
    "import numpy as np\n",
    "import datetime\n",
    "ek.set_app_key(\"320e7257c23945729695a106cedb2b9cb72d3207\")"
   ],
   "metadata": {
    "collapsed": false
   }
  },
  {
   "cell_type": "markdown",
   "source": [
    "'https://community.developers.refinitiv.com/questions/73493/get-eps-historical-data-for-stocks.html"
   ],
   "metadata": {
    "collapsed": false
   }
  },
  {
   "cell_type": "markdown",
   "source": [
    "# Economic Story\n",
    "\n",
    "**TR.RevenueActValue.date** - prints the datetime\n",
    "\n",
    "## Part 1: Accuracy\n",
    "\n",
    "**TR.EPSActValue** - The company's actual value normalized to reflect the I/B/E/S default currency and corporate actions (e.g. stock splits). Earnings Per Share is defined as the EPS that the contributing analyst considers to be that with which to value a security. This figure may include or exclude certain items depending on the contributing analyst's specific model.\n",
    "\n",
    "**TR.EPSMean** - The statistical average of all broker estimates determined to be on the majority accounting basis. Earnings Per Share is defined as the EPS that the contributing analyst considers to be that with which to value a security. This figure may include or exclude certain items depending on the contributing analyst's specific model.\n",
    "\n",
    "--> this is a analyst forecast variable\n",
    "\n",
    "**TR.EPSActSurprise** - The difference between the actual and the last mean of the period, expressed as a percentage. Earnings Per Share is defined as the EPS that the contributing analyst considers to be that with which to value a security. This figure may include or exclude certain items depending on the contributing analyst's specific model.\n",
    "\n",
    "--> forecast error between actual EPS and TR.EPSMean\n",
    "\n",
    "<img src=\"../Pictures/Screenshot 2023-02-15 185222.png\" width=500 height=300 />\n",
    "\n",
    "## Part 2: Factors\n",
    "\n",
    "### Firm charateristics\n",
    "\n",
    "1. **TR.RevenueActValue** - The company's actual value normalized to reflect the I/B/E/S default currency and corporate actions (e.g. stock splits). Revenue (or Sales) is a corporation's net revenue, generally derived from core business activities. For non-financial companies, the calculation of net revenue (or net turnover) in most markets generally involves subtracting transportation and related operational costs from gross revenue/sales. Revenue recognition practices vary significantly from market to market, though generally the recording of revenue is based upon sales invoices issued (or anticipated for forecast purposes) during the accounting period.\n",
    "\n",
    "2. **TR.F.EV** - Enterprise Value is the Company's total economic value OR the theoretical takeover price, often used as an alternative to market capitalization. Enterprise Value represents Market Capitalization TR.F.MktCap + Debt including Preferred Equity & Minority Interest - Total [TR.F.DebtlnclPrefEqMinlntrTot] (-) Cash & Short Term Investments - Total [TR.F.CashSTlnvstTot]. Market Capitalization [TR.F.MktCap] is required. The data item is calculated for all periodicities. It is applicable to all industries.\n",
    "\n",
    "3. **TR.LTGMean** - Long Term Growth - Mean:  The statistical average of all broker estimates determined to be on the majority accounting basis. Long-term growth is an estimate of the compound average rate of EPS growth an analyst expects over a period of three to five ears.\n",
    "\n",
    "### Analysts\n",
    "1. **TR.NumberOfAnalysts** - Number of sell-side analysts covering the security.\n",
    "\n",
    "2. **TR.RecMean** - Recommendation Numeric Mean based on the Standard Scale Of Strong Buy (1 ), Buy (2), Hold (3), Sell (4), and Strong Sell (5).\n",
    "\n",
    "### Macro characteristics\n",
    "\n",
    "1. **TR.WACCInflationAdjRiskFreeRate** -  Inflation adjusted risk free rate used is Of the primary index for the domicile country Of the company. Inflation adjusted risk free rate (Rf) is calculated from the US 10-year treasury yield plus the difference between in the 10-year forecasted inflation rate between the given country and the US.\n",
    "\n",
    "### Loss Firm Status (0 or 1)\n",
    "\n",
    "1. **TR.F.NetIncAfterTax** Net Income after Tax [SIAT] represents the income/expense after all operating and non-operating income and expense, reserves, income taxes, but before equity in earnings, minority interest, extraordinary items, after-tax adjustments, discontinued operations and preferred dividends. Applicable to all Industries. Net Income after Tax [SIAT] includes: • Net Income after Tax [XIAT]\n",
    "\n",
    "### More difficult Factors (yearly):\n",
    "\n",
    "#### ESG\n",
    "\n",
    "1. **TR.TRESGScore** Refinitiv ESG Score is an overall company score based on the self-reported information in the environmental, social and corporate governance pillars.\n",
    "\n",
    "#### Proportion of independent Directors\n",
    "\n",
    "1. **TR.AnalyticIndepBoard** - Independent Board Members - Percentage of independent board members as reported by the company.\n",
    "\n",
    "2. **TR.GovernancePillarScore** - Governance Pillar Score - The corporate governance pillar measures a company's systems and processes, which ensure that its board members and executives act in the best interests of its long term shareholders. It reflects a company's capacity, through its use of best management practices, to direct and control its rights and responsibilities through the creation of incentives, as well as checks and balances in order to generate long term shareholder value.\n",
    "\n",
    "## Part 3: Regression\n",
    "\n",
    "### continue.."
   ],
   "metadata": {
    "collapsed": false
   }
  },
  {
   "cell_type": "code",
   "execution_count": 2,
   "outputs": [],
   "source": [
    "economic_story = ['TR.EPSactValue.date', 'TR.EPSActValue', \"TR.EPSMean\", \"TR.EPSActSurprise\", 'TR.RevenueActValue', \"TR.F.EV\", \"TR.LTGMean\",  \"TR.NumberOfAnalysts\", \"TR.RecMean\", \"TR.WACCInflationAdjRiskFreeRate\", \"TR.F.NetIncAfterTax\"]\n",
    "# , \"TR.AdjSharesHeld\""
   ],
   "metadata": {
    "collapsed": false
   }
  },
  {
   "cell_type": "code",
   "execution_count": 3,
   "outputs": [
    {
     "data": {
      "text/plain": "     Instrument                      Date  Earnings Per Share - Actual  \\\n0       POOL.OQ 2022-10-20 07:00:00+00:00                         4.78   \n1       POOL.OQ 2022-07-21 07:00:00+00:00                         7.63   \n2       POOL.OQ 2022-04-21 07:00:00+00:00                         4.23   \n3       POOL.OQ 2022-02-17 07:00:00+00:00                         2.63   \n4       POOL.OQ 2021-10-21 07:00:00+00:00                         4.51   \n...         ...                       ...                          ...   \n2510      AVY.N 2022-10-26 06:45:00+00:00                         2.46   \n2511      AVY.N 2022-07-27 06:45:00+00:00                         2.64   \n2512      AVY.N 2022-04-26 06:45:00+00:00                          2.4   \n2513      AVY.N 2022-02-02 06:45:00+00:00                         2.13   \n2514      AVY.N 2021-10-27 06:45:00+00:00                         2.14   \n\n      Earnings Per Share - Mean  Earnings Per Share - Actual Surprise  \\\n0                        4.5875                                 4.196   \n1                         7.517                                 1.503   \n2                       3.14867                                34.342   \n3                         1.875                                40.267   \n4                       3.84833                                17.194   \n...                         ...                                   ...   \n2510                    2.46323                                -0.131   \n2511                    2.36485                                11.635   \n2512                    2.17008                                10.595   \n2513                    2.12375                                 0.294   \n2514                     2.0423                                 4.784   \n\n      Revenue - Actual    Enterprise Value  Long Term Growth - Mean  \\\n0           1615339000  14061600372.299999                     <NA>   \n1           2055818000  15561870705.290001                     <NA>   \n2           1412650000  18436823034.200001                     <NA>   \n3           1035557000       23848820586.0                     <NA>   \n4           1411448000      17699543822.66                     <NA>   \n...                ...                 ...                      ...   \n2510        2317100000       16225017418.9                    7.526   \n2511        2347000000      16504297189.84                  6.94967   \n2512        2349300000      17537077488.32                  7.76667   \n2513        2183200000  20873039410.310001                     9.16   \n2514        2071800000  20368219272.799999                 10.06667   \n\n      Number of Analysts  Recommendation - Mean (1-5)  \\\n0                     10                      2.27273   \n1                      9                          2.2   \n2                      9                          2.0   \n3                      8                          2.3   \n4                      8                          2.3   \n...                  ...                          ...   \n2510                  13                      2.14286   \n2511                  13                          2.0   \n2512                  12                      2.06667   \n2513                  12                      2.14286   \n2514                  11                      2.15385   \n\n      WACC Inflation Adjusted Risk Free Rate, (%)  Net Income after Tax  \n0                                        3.747421             189965000  \n1                                        3.092855             307205000  \n2                                        2.325202             179203000  \n3                                        1.515266             107542000  \n4                                        1.527139             184573000  \n...                                           ...                   ...  \n2510                                     3.747421             221500000  \n2511                                     3.092855             214500000  \n2512                                     2.325202             198200000  \n2513                                     1.515266             183100000  \n2514                                     1.527139             165200000  \n\n[2515 rows x 12 columns]",
      "text/html": "<div>\n<style scoped>\n    .dataframe tbody tr th:only-of-type {\n        vertical-align: middle;\n    }\n\n    .dataframe tbody tr th {\n        vertical-align: top;\n    }\n\n    .dataframe thead th {\n        text-align: right;\n    }\n</style>\n<table border=\"1\" class=\"dataframe\">\n  <thead>\n    <tr style=\"text-align: right;\">\n      <th></th>\n      <th>Instrument</th>\n      <th>Date</th>\n      <th>Earnings Per Share - Actual</th>\n      <th>Earnings Per Share - Mean</th>\n      <th>Earnings Per Share - Actual Surprise</th>\n      <th>Revenue - Actual</th>\n      <th>Enterprise Value</th>\n      <th>Long Term Growth - Mean</th>\n      <th>Number of Analysts</th>\n      <th>Recommendation - Mean (1-5)</th>\n      <th>WACC Inflation Adjusted Risk Free Rate, (%)</th>\n      <th>Net Income after Tax</th>\n    </tr>\n  </thead>\n  <tbody>\n    <tr>\n      <th>0</th>\n      <td>POOL.OQ</td>\n      <td>2022-10-20 07:00:00+00:00</td>\n      <td>4.78</td>\n      <td>4.5875</td>\n      <td>4.196</td>\n      <td>1615339000</td>\n      <td>14061600372.299999</td>\n      <td>&lt;NA&gt;</td>\n      <td>10</td>\n      <td>2.27273</td>\n      <td>3.747421</td>\n      <td>189965000</td>\n    </tr>\n    <tr>\n      <th>1</th>\n      <td>POOL.OQ</td>\n      <td>2022-07-21 07:00:00+00:00</td>\n      <td>7.63</td>\n      <td>7.517</td>\n      <td>1.503</td>\n      <td>2055818000</td>\n      <td>15561870705.290001</td>\n      <td>&lt;NA&gt;</td>\n      <td>9</td>\n      <td>2.2</td>\n      <td>3.092855</td>\n      <td>307205000</td>\n    </tr>\n    <tr>\n      <th>2</th>\n      <td>POOL.OQ</td>\n      <td>2022-04-21 07:00:00+00:00</td>\n      <td>4.23</td>\n      <td>3.14867</td>\n      <td>34.342</td>\n      <td>1412650000</td>\n      <td>18436823034.200001</td>\n      <td>&lt;NA&gt;</td>\n      <td>9</td>\n      <td>2.0</td>\n      <td>2.325202</td>\n      <td>179203000</td>\n    </tr>\n    <tr>\n      <th>3</th>\n      <td>POOL.OQ</td>\n      <td>2022-02-17 07:00:00+00:00</td>\n      <td>2.63</td>\n      <td>1.875</td>\n      <td>40.267</td>\n      <td>1035557000</td>\n      <td>23848820586.0</td>\n      <td>&lt;NA&gt;</td>\n      <td>8</td>\n      <td>2.3</td>\n      <td>1.515266</td>\n      <td>107542000</td>\n    </tr>\n    <tr>\n      <th>4</th>\n      <td>POOL.OQ</td>\n      <td>2021-10-21 07:00:00+00:00</td>\n      <td>4.51</td>\n      <td>3.84833</td>\n      <td>17.194</td>\n      <td>1411448000</td>\n      <td>17699543822.66</td>\n      <td>&lt;NA&gt;</td>\n      <td>8</td>\n      <td>2.3</td>\n      <td>1.527139</td>\n      <td>184573000</td>\n    </tr>\n    <tr>\n      <th>...</th>\n      <td>...</td>\n      <td>...</td>\n      <td>...</td>\n      <td>...</td>\n      <td>...</td>\n      <td>...</td>\n      <td>...</td>\n      <td>...</td>\n      <td>...</td>\n      <td>...</td>\n      <td>...</td>\n      <td>...</td>\n    </tr>\n    <tr>\n      <th>2510</th>\n      <td>AVY.N</td>\n      <td>2022-10-26 06:45:00+00:00</td>\n      <td>2.46</td>\n      <td>2.46323</td>\n      <td>-0.131</td>\n      <td>2317100000</td>\n      <td>16225017418.9</td>\n      <td>7.526</td>\n      <td>13</td>\n      <td>2.14286</td>\n      <td>3.747421</td>\n      <td>221500000</td>\n    </tr>\n    <tr>\n      <th>2511</th>\n      <td>AVY.N</td>\n      <td>2022-07-27 06:45:00+00:00</td>\n      <td>2.64</td>\n      <td>2.36485</td>\n      <td>11.635</td>\n      <td>2347000000</td>\n      <td>16504297189.84</td>\n      <td>6.94967</td>\n      <td>13</td>\n      <td>2.0</td>\n      <td>3.092855</td>\n      <td>214500000</td>\n    </tr>\n    <tr>\n      <th>2512</th>\n      <td>AVY.N</td>\n      <td>2022-04-26 06:45:00+00:00</td>\n      <td>2.4</td>\n      <td>2.17008</td>\n      <td>10.595</td>\n      <td>2349300000</td>\n      <td>17537077488.32</td>\n      <td>7.76667</td>\n      <td>12</td>\n      <td>2.06667</td>\n      <td>2.325202</td>\n      <td>198200000</td>\n    </tr>\n    <tr>\n      <th>2513</th>\n      <td>AVY.N</td>\n      <td>2022-02-02 06:45:00+00:00</td>\n      <td>2.13</td>\n      <td>2.12375</td>\n      <td>0.294</td>\n      <td>2183200000</td>\n      <td>20873039410.310001</td>\n      <td>9.16</td>\n      <td>12</td>\n      <td>2.14286</td>\n      <td>1.515266</td>\n      <td>183100000</td>\n    </tr>\n    <tr>\n      <th>2514</th>\n      <td>AVY.N</td>\n      <td>2021-10-27 06:45:00+00:00</td>\n      <td>2.14</td>\n      <td>2.0423</td>\n      <td>4.784</td>\n      <td>2071800000</td>\n      <td>20368219272.799999</td>\n      <td>10.06667</td>\n      <td>11</td>\n      <td>2.15385</td>\n      <td>1.527139</td>\n      <td>165200000</td>\n    </tr>\n  </tbody>\n</table>\n<p>2515 rows × 12 columns</p>\n</div>"
     },
     "execution_count": 3,
     "metadata": {},
     "output_type": "execute_result"
    }
   ],
   "source": [
    "df, e = ek.get_data('0#.SPX', economic_story, parameters = {'SDate':'-1','EDate':'-5','Period':'FQ0','Frq':'FQ'})\n",
    "df[\"Date\"] = pd.to_datetime(df[\"Date\"])\n",
    "df"
   ],
   "metadata": {
    "collapsed": false
   }
  },
  {
   "cell_type": "code",
   "execution_count": 31,
   "outputs": [
    {
     "data": {
      "text/plain": "1.0419618528610355"
     },
     "execution_count": 31,
     "metadata": {},
     "output_type": "execute_result"
    }
   ],
   "source": [
    "4.78/4.5875"
   ],
   "metadata": {
    "collapsed": false
   }
  },
  {
   "cell_type": "code",
   "execution_count": 32,
   "outputs": [],
   "source": [
    "economic_story_yearly = [\"TR.TRESGScore.date\", \"TR.TRESGScore\", \"TR.GovernancePillarScore\", \"TR.AnalyticIndepBoard\"]"
   ],
   "metadata": {
    "collapsed": false
   }
  },
  {
   "cell_type": "code",
   "execution_count": 33,
   "outputs": [
    {
     "data": {
      "text/plain": "     Instrument                  Date  ESG Score  Governance Pillar Score  \\\n0       POOL.OQ  2021-12-31T00:00:00Z  48.718747                79.856229   \n1       POOL.OQ  2020-12-31T00:00:00Z  40.485976                 69.05684   \n2       POOL.OQ  2019-12-31T00:00:00Z  44.618552                80.983486   \n3       POOL.OQ  2018-12-31T00:00:00Z   42.83681                66.013223   \n4       POOL.OQ  2017-12-31T00:00:00Z  39.816484                 54.70234   \n...         ...                   ...        ...                      ...   \n5505      AVY.N  2016-01-02T00:00:00Z  65.011968                56.668962   \n5506      AVY.N  2015-01-03T00:00:00Z  70.474405                79.199798   \n5507      AVY.N  2013-12-28T00:00:00Z  67.491583                69.926652   \n5508      AVY.N  2012-12-29T00:00:00Z  73.981251                74.645174   \n5509      AVY.N  2011-12-31T00:00:00Z  78.470249                84.277655   \n\n      Independent Board Members  \n0                          80.0  \n1                     88.888889  \n2                     88.888889  \n3                          87.5  \n4                          75.0  \n...                         ...  \n5505                       90.0  \n5506                  91.666667  \n5507                  84.615385  \n5508                  83.333333  \n5509                  83.333333  \n\n[5510 rows x 5 columns]",
      "text/html": "<div>\n<style scoped>\n    .dataframe tbody tr th:only-of-type {\n        vertical-align: middle;\n    }\n\n    .dataframe tbody tr th {\n        vertical-align: top;\n    }\n\n    .dataframe thead th {\n        text-align: right;\n    }\n</style>\n<table border=\"1\" class=\"dataframe\">\n  <thead>\n    <tr style=\"text-align: right;\">\n      <th></th>\n      <th>Instrument</th>\n      <th>Date</th>\n      <th>ESG Score</th>\n      <th>Governance Pillar Score</th>\n      <th>Independent Board Members</th>\n    </tr>\n  </thead>\n  <tbody>\n    <tr>\n      <th>0</th>\n      <td>POOL.OQ</td>\n      <td>2021-12-31T00:00:00Z</td>\n      <td>48.718747</td>\n      <td>79.856229</td>\n      <td>80.0</td>\n    </tr>\n    <tr>\n      <th>1</th>\n      <td>POOL.OQ</td>\n      <td>2020-12-31T00:00:00Z</td>\n      <td>40.485976</td>\n      <td>69.05684</td>\n      <td>88.888889</td>\n    </tr>\n    <tr>\n      <th>2</th>\n      <td>POOL.OQ</td>\n      <td>2019-12-31T00:00:00Z</td>\n      <td>44.618552</td>\n      <td>80.983486</td>\n      <td>88.888889</td>\n    </tr>\n    <tr>\n      <th>3</th>\n      <td>POOL.OQ</td>\n      <td>2018-12-31T00:00:00Z</td>\n      <td>42.83681</td>\n      <td>66.013223</td>\n      <td>87.5</td>\n    </tr>\n    <tr>\n      <th>4</th>\n      <td>POOL.OQ</td>\n      <td>2017-12-31T00:00:00Z</td>\n      <td>39.816484</td>\n      <td>54.70234</td>\n      <td>75.0</td>\n    </tr>\n    <tr>\n      <th>...</th>\n      <td>...</td>\n      <td>...</td>\n      <td>...</td>\n      <td>...</td>\n      <td>...</td>\n    </tr>\n    <tr>\n      <th>5505</th>\n      <td>AVY.N</td>\n      <td>2016-01-02T00:00:00Z</td>\n      <td>65.011968</td>\n      <td>56.668962</td>\n      <td>90.0</td>\n    </tr>\n    <tr>\n      <th>5506</th>\n      <td>AVY.N</td>\n      <td>2015-01-03T00:00:00Z</td>\n      <td>70.474405</td>\n      <td>79.199798</td>\n      <td>91.666667</td>\n    </tr>\n    <tr>\n      <th>5507</th>\n      <td>AVY.N</td>\n      <td>2013-12-28T00:00:00Z</td>\n      <td>67.491583</td>\n      <td>69.926652</td>\n      <td>84.615385</td>\n    </tr>\n    <tr>\n      <th>5508</th>\n      <td>AVY.N</td>\n      <td>2012-12-29T00:00:00Z</td>\n      <td>73.981251</td>\n      <td>74.645174</td>\n      <td>83.333333</td>\n    </tr>\n    <tr>\n      <th>5509</th>\n      <td>AVY.N</td>\n      <td>2011-12-31T00:00:00Z</td>\n      <td>78.470249</td>\n      <td>84.277655</td>\n      <td>83.333333</td>\n    </tr>\n  </tbody>\n</table>\n<p>5510 rows × 5 columns</p>\n</div>"
     },
     "execution_count": 33,
     "metadata": {},
     "output_type": "execute_result"
    }
   ],
   "source": [
    "df2, e = ek.get_data('0#.SPX', economic_story_yearly, parameters = {'SDate':'0','EDate':'-10','Period':'FY0','Frq':'FY'})\n",
    "df2"
   ],
   "metadata": {
    "collapsed": false
   }
  },
  {
   "cell_type": "code",
   "execution_count": 39,
   "outputs": [
    {
     "data": {
      "text/plain": "Instrument                                                  string\nDate                                           datetime64[ns, UTC]\nEarnings Per Share - Actual                                Float64\nEarnings Per Share - Mean                                  Float64\nEarnings Per Share - Actual Surprise                       Float64\nRevenue - Actual                                           Float64\nEnterprise Value                                           Float64\nLong Term Growth - Mean                                    Float64\nNumber of Analysts                                           Int64\nRecommendation - Mean (1-5)                                Float64\nWACC Inflation Adjusted Risk Free Rate, (%)                Float64\nNet Income after Tax                                       Float64\ndtype: object"
     },
     "execution_count": 39,
     "metadata": {},
     "output_type": "execute_result"
    }
   ],
   "source": [
    "df.dtypes"
   ],
   "metadata": {
    "collapsed": false
   }
  },
  {
   "cell_type": "code",
   "execution_count": 37,
   "outputs": [
    {
     "data": {
      "text/plain": "Number of Analysts\n16    177\n17    170\n15    159\n12    151\n18    148\n14    138\n11    131\n13    130\n19    125\n21    123\n22    115\n20    107\n10     90\n23     84\n8      78\n9      73\n24     73\n25     71\n26     54\n7      52\n27     46\n28     37\n6      27\n30     22\n29     22\n5      16\n4      11\n3       9\n31      9\n32      9\n34      8\n38      5\n40      5\n42      4\n33      4\n36      4\n39      3\n0       3\n37      3\n1       3\n43      3\n41      2\n2       2\n35      1\ndtype: int64"
     },
     "execution_count": 37,
     "metadata": {},
     "output_type": "execute_result"
    }
   ],
   "source": [
    "df.value_counts(\"\")"
   ],
   "metadata": {
    "collapsed": false
   }
  },
  {
   "cell_type": "code",
   "execution_count": 38,
   "outputs": [
    {
     "data": {
      "text/plain": "Date\n2021-10-28 07:00:00+00:00    10\n2022-07-28 07:00:00+00:00     9\n2022-04-28 16:05:00+00:00     8\n2022-07-27 07:00:00+00:00     8\n2021-10-27 07:00:00+00:00     8\n                             ..\n2022-02-08 07:01:00+00:00     1\n2022-02-08 07:00:00+00:00     1\n2022-02-08 06:50:00+00:00     1\n2022-02-08 06:40:00+00:00     1\n2022-11-30 16:05:00+00:00     1\nLength: 1748, dtype: int64"
     },
     "execution_count": 38,
     "metadata": {},
     "output_type": "execute_result"
    }
   ],
   "source": [
    "df.value_counts(\"Date\")"
   ],
   "metadata": {
    "collapsed": false
   }
  }
 ],
 "metadata": {
  "kernelspec": {
   "display_name": "Python 3",
   "language": "python",
   "name": "python3"
  },
  "language_info": {
   "codemirror_mode": {
    "name": "ipython",
    "version": 2
   },
   "file_extension": ".py",
   "mimetype": "text/x-python",
   "name": "python",
   "nbconvert_exporter": "python",
   "pygments_lexer": "ipython2",
   "version": "2.7.6"
  }
 },
 "nbformat": 4,
 "nbformat_minor": 0
}
