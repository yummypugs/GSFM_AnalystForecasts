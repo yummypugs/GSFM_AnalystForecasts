{
 "cells": [
  {
   "cell_type": "code",
   "execution_count": 68,
   "metadata": {},
   "outputs": [],
   "source": [
    "import pandas as pd\n",
    "import statsmodels.api as sm\n",
    "from sklearn.linear_model import LinearRegression\n",
    "from sklearn.preprocessing import MinMaxScaler\n",
    "from sklearn.preprocessing import StandardScaler\n",
    "from sklearn.preprocessing import LabelEncoder\n",
    "\n",
    "import numpy as np\n",
    "\n",
    "from linearmodels.panel import PanelOLS\n",
    "import datetime as dt\n",
    "import matplotlib.pyplot as plt\n",
    "import plotly.graph_objs as go\n",
    "import seaborn as sns"
   ]
  },
  {
   "cell_type": "code",
   "execution_count": 69,
   "metadata": {},
   "outputs": [
    {
     "data": {
      "text/html": [
       "<div>\n",
       "<style scoped>\n",
       "    .dataframe tbody tr th:only-of-type {\n",
       "        vertical-align: middle;\n",
       "    }\n",
       "\n",
       "    .dataframe tbody tr th {\n",
       "        vertical-align: top;\n",
       "    }\n",
       "\n",
       "    .dataframe thead th {\n",
       "        text-align: right;\n",
       "    }\n",
       "</style>\n",
       "<table border=\"1\" class=\"dataframe\">\n",
       "  <thead>\n",
       "    <tr style=\"text-align: right;\">\n",
       "      <th></th>\n",
       "      <th>Instrument</th>\n",
       "      <th>Date</th>\n",
       "      <th>Earnings Per Share - Actual Surprise AbsVals</th>\n",
       "      <th>GICS Industry Group Name</th>\n",
       "      <th>Earnings Per Share – Coefficient of Variation</th>\n",
       "      <th>Market Capitalization</th>\n",
       "      <th>Revenue - Actual</th>\n",
       "      <th>Number of Analysts</th>\n",
       "      <th>Recommendation - Mean (1-5)</th>\n",
       "      <th>Recommendation change</th>\n",
       "      <th>...</th>\n",
       "      <th>Price Target - Standard Deviation</th>\n",
       "      <th>Enterprise Value To Sales (Daily Time Series Ratio)</th>\n",
       "      <th>3 Month Total Return</th>\n",
       "      <th>Volume</th>\n",
       "      <th>loss firm status</th>\n",
       "      <th>CBOE Crude Oil ETF Volatility Index</th>\n",
       "      <th>90-Day AA Financial Commercial Paper Interest Rate</th>\n",
       "      <th>Inflation Risk Premium</th>\n",
       "      <th>University of Michigan: Consumer Sentiment, Index 1966:Q1=100</th>\n",
       "      <th>Unemployment Rate</th>\n",
       "    </tr>\n",
       "  </thead>\n",
       "  <tbody>\n",
       "    <tr>\n",
       "      <th>0</th>\n",
       "      <td>AVY.N</td>\n",
       "      <td>2013-01-01</td>\n",
       "      <td>11.178</td>\n",
       "      <td>Materials</td>\n",
       "      <td>3.625620</td>\n",
       "      <td>3.426001e+09</td>\n",
       "      <td>1.532200e+09</td>\n",
       "      <td>7.0</td>\n",
       "      <td>3.00000</td>\n",
       "      <td>0.00000</td>\n",
       "      <td>...</td>\n",
       "      <td>2.44949</td>\n",
       "      <td>0.799347</td>\n",
       "      <td>10.637479</td>\n",
       "      <td>207295.0</td>\n",
       "      <td>-1</td>\n",
       "      <td>22.538500</td>\n",
       "      <td>0.166000</td>\n",
       "      <td>0.359537</td>\n",
       "      <td>76.666667</td>\n",
       "      <td>7.733333</td>\n",
       "    </tr>\n",
       "    <tr>\n",
       "      <th>1</th>\n",
       "      <td>AVY.N</td>\n",
       "      <td>2013-04-01</td>\n",
       "      <td>2.482</td>\n",
       "      <td>Materials</td>\n",
       "      <td>2.046169</td>\n",
       "      <td>4.309428e+09</td>\n",
       "      <td>1.498900e+09</td>\n",
       "      <td>7.0</td>\n",
       "      <td>2.87500</td>\n",
       "      <td>-0.12500</td>\n",
       "      <td>...</td>\n",
       "      <td>3.92272</td>\n",
       "      <td>0.895787</td>\n",
       "      <td>24.148726</td>\n",
       "      <td>0.0</td>\n",
       "      <td>-1</td>\n",
       "      <td>23.468125</td>\n",
       "      <td>0.143750</td>\n",
       "      <td>0.360572</td>\n",
       "      <td>81.666667</td>\n",
       "      <td>7.533333</td>\n",
       "    </tr>\n",
       "    <tr>\n",
       "      <th>2</th>\n",
       "      <td>AVY.N</td>\n",
       "      <td>2013-07-01</td>\n",
       "      <td>1.068</td>\n",
       "      <td>Materials</td>\n",
       "      <td>1.551601</td>\n",
       "      <td>4.258229e+09</td>\n",
       "      <td>1.552300e+09</td>\n",
       "      <td>8.0</td>\n",
       "      <td>2.87500</td>\n",
       "      <td>0.00000</td>\n",
       "      <td>...</td>\n",
       "      <td>4.30946</td>\n",
       "      <td>0.906078</td>\n",
       "      <td>-0.054218</td>\n",
       "      <td>0.0</td>\n",
       "      <td>-1</td>\n",
       "      <td>24.099219</td>\n",
       "      <td>0.125625</td>\n",
       "      <td>0.463789</td>\n",
       "      <td>81.566667</td>\n",
       "      <td>7.233333</td>\n",
       "    </tr>\n",
       "    <tr>\n",
       "      <th>3</th>\n",
       "      <td>AVY.N</td>\n",
       "      <td>2013-10-01</td>\n",
       "      <td>8.095</td>\n",
       "      <td>Materials</td>\n",
       "      <td>2.775994</td>\n",
       "      <td>4.273414e+09</td>\n",
       "      <td>1.504900e+09</td>\n",
       "      <td>7.0</td>\n",
       "      <td>2.62500</td>\n",
       "      <td>-0.25000</td>\n",
       "      <td>...</td>\n",
       "      <td>3.45230</td>\n",
       "      <td>0.903176</td>\n",
       "      <td>2.467620</td>\n",
       "      <td>236291.0</td>\n",
       "      <td>-1</td>\n",
       "      <td>19.740938</td>\n",
       "      <td>0.125806</td>\n",
       "      <td>0.441854</td>\n",
       "      <td>76.933333</td>\n",
       "      <td>6.933333</td>\n",
       "    </tr>\n",
       "    <tr>\n",
       "      <th>4</th>\n",
       "      <td>AVY.N</td>\n",
       "      <td>2014-01-01</td>\n",
       "      <td>1.471</td>\n",
       "      <td>Materials</td>\n",
       "      <td>3.204412</td>\n",
       "      <td>4.877168e+09</td>\n",
       "      <td>1.583900e+09</td>\n",
       "      <td>8.0</td>\n",
       "      <td>2.33333</td>\n",
       "      <td>-0.29167</td>\n",
       "      <td>...</td>\n",
       "      <td>3.42555</td>\n",
       "      <td>0.920659</td>\n",
       "      <td>16.003852</td>\n",
       "      <td>157761.0</td>\n",
       "      <td>-1</td>\n",
       "      <td>19.563770</td>\n",
       "      <td>0.126230</td>\n",
       "      <td>0.465460</td>\n",
       "      <td>80.933333</td>\n",
       "      <td>6.666667</td>\n",
       "    </tr>\n",
       "    <tr>\n",
       "      <th>...</th>\n",
       "      <td>...</td>\n",
       "      <td>...</td>\n",
       "      <td>...</td>\n",
       "      <td>...</td>\n",
       "      <td>...</td>\n",
       "      <td>...</td>\n",
       "      <td>...</td>\n",
       "      <td>...</td>\n",
       "      <td>...</td>\n",
       "      <td>...</td>\n",
       "      <td>...</td>\n",
       "      <td>...</td>\n",
       "      <td>...</td>\n",
       "      <td>...</td>\n",
       "      <td>...</td>\n",
       "      <td>...</td>\n",
       "      <td>...</td>\n",
       "      <td>...</td>\n",
       "      <td>...</td>\n",
       "      <td>...</td>\n",
       "      <td>...</td>\n",
       "    </tr>\n",
       "    <tr>\n",
       "      <th>19196</th>\n",
       "      <td>POOL.OQ</td>\n",
       "      <td>2021-10-01</td>\n",
       "      <td>17.194</td>\n",
       "      <td>Retailing</td>\n",
       "      <td>2.836295</td>\n",
       "      <td>1.742020e+10</td>\n",
       "      <td>1.411448e+09</td>\n",
       "      <td>8.0</td>\n",
       "      <td>2.30000</td>\n",
       "      <td>0.00000</td>\n",
       "      <td>...</td>\n",
       "      <td>50.48823</td>\n",
       "      <td>3.684400</td>\n",
       "      <td>-5.130322</td>\n",
       "      <td>157740.0</td>\n",
       "      <td>-1</td>\n",
       "      <td>43.036308</td>\n",
       "      <td>0.140755</td>\n",
       "      <td>0.382645</td>\n",
       "      <td>69.900000</td>\n",
       "      <td>4.200000</td>\n",
       "    </tr>\n",
       "    <tr>\n",
       "      <th>19197</th>\n",
       "      <td>POOL.OQ</td>\n",
       "      <td>2022-01-01</td>\n",
       "      <td>40.267</td>\n",
       "      <td>Retailing</td>\n",
       "      <td>3.269867</td>\n",
       "      <td>2.268979e+10</td>\n",
       "      <td>1.035557e+09</td>\n",
       "      <td>8.0</td>\n",
       "      <td>2.30000</td>\n",
       "      <td>0.00000</td>\n",
       "      <td>...</td>\n",
       "      <td>41.33833</td>\n",
       "      <td>4.504382</td>\n",
       "      <td>30.489705</td>\n",
       "      <td>82349.0</td>\n",
       "      <td>-1</td>\n",
       "      <td>52.695806</td>\n",
       "      <td>0.467234</td>\n",
       "      <td>0.380946</td>\n",
       "      <td>63.133333</td>\n",
       "      <td>3.800000</td>\n",
       "    </tr>\n",
       "    <tr>\n",
       "      <th>19198</th>\n",
       "      <td>POOL.OQ</td>\n",
       "      <td>2022-04-01</td>\n",
       "      <td>34.342</td>\n",
       "      <td>Retailing</td>\n",
       "      <td>6.630736</td>\n",
       "      <td>1.696712e+10</td>\n",
       "      <td>1.412650e+09</td>\n",
       "      <td>9.0</td>\n",
       "      <td>2.00000</td>\n",
       "      <td>-0.30000</td>\n",
       "      <td>...</td>\n",
       "      <td>37.49206</td>\n",
       "      <td>3.422880</td>\n",
       "      <td>-25.160664</td>\n",
       "      <td>290897.0</td>\n",
       "      <td>-1</td>\n",
       "      <td>50.457581</td>\n",
       "      <td>1.394118</td>\n",
       "      <td>0.495588</td>\n",
       "      <td>57.866667</td>\n",
       "      <td>3.600000</td>\n",
       "    </tr>\n",
       "    <tr>\n",
       "      <th>19199</th>\n",
       "      <td>POOL.OQ</td>\n",
       "      <td>2022-07-01</td>\n",
       "      <td>1.503</td>\n",
       "      <td>Retailing</td>\n",
       "      <td>3.625249</td>\n",
       "      <td>1.405795e+10</td>\n",
       "      <td>2.055818e+09</td>\n",
       "      <td>9.0</td>\n",
       "      <td>2.20000</td>\n",
       "      <td>0.20000</td>\n",
       "      <td>...</td>\n",
       "      <td>57.57373</td>\n",
       "      <td>2.749481</td>\n",
       "      <td>-21.661570</td>\n",
       "      <td>185584.0</td>\n",
       "      <td>-1</td>\n",
       "      <td>49.861562</td>\n",
       "      <td>2.885882</td>\n",
       "      <td>0.423045</td>\n",
       "      <td>56.100000</td>\n",
       "      <td>3.566667</td>\n",
       "    </tr>\n",
       "    <tr>\n",
       "      <th>19200</th>\n",
       "      <td>POOL.OQ</td>\n",
       "      <td>2022-10-01</td>\n",
       "      <td>4.196</td>\n",
       "      <td>Retailing</td>\n",
       "      <td>3.843706</td>\n",
       "      <td>1.259813e+10</td>\n",
       "      <td>1.615339e+09</td>\n",
       "      <td>10.0</td>\n",
       "      <td>2.27273</td>\n",
       "      <td>0.07273</td>\n",
       "      <td>...</td>\n",
       "      <td>24.95082</td>\n",
       "      <td>2.383926</td>\n",
       "      <td>-9.164375</td>\n",
       "      <td>238539.0</td>\n",
       "      <td>-1</td>\n",
       "      <td>47.000952</td>\n",
       "      <td>4.230000</td>\n",
       "      <td>0.535177</td>\n",
       "      <td>58.800000</td>\n",
       "      <td>3.600000</td>\n",
       "    </tr>\n",
       "  </tbody>\n",
       "</table>\n",
       "<p>19201 rows × 21 columns</p>\n",
       "</div>"
      ],
      "text/plain": [
       "      Instrument       Date  Earnings Per Share - Actual Surprise AbsVals  \\\n",
       "0          AVY.N 2013-01-01                                        11.178   \n",
       "1          AVY.N 2013-04-01                                         2.482   \n",
       "2          AVY.N 2013-07-01                                         1.068   \n",
       "3          AVY.N 2013-10-01                                         8.095   \n",
       "4          AVY.N 2014-01-01                                         1.471   \n",
       "...          ...        ...                                           ...   \n",
       "19196    POOL.OQ 2021-10-01                                        17.194   \n",
       "19197    POOL.OQ 2022-01-01                                        40.267   \n",
       "19198    POOL.OQ 2022-04-01                                        34.342   \n",
       "19199    POOL.OQ 2022-07-01                                         1.503   \n",
       "19200    POOL.OQ 2022-10-01                                         4.196   \n",
       "\n",
       "      GICS Industry Group Name  Earnings Per Share – Coefficient of Variation  \\\n",
       "0                    Materials                                       3.625620   \n",
       "1                    Materials                                       2.046169   \n",
       "2                    Materials                                       1.551601   \n",
       "3                    Materials                                       2.775994   \n",
       "4                    Materials                                       3.204412   \n",
       "...                        ...                                            ...   \n",
       "19196                Retailing                                       2.836295   \n",
       "19197                Retailing                                       3.269867   \n",
       "19198                Retailing                                       6.630736   \n",
       "19199                Retailing                                       3.625249   \n",
       "19200                Retailing                                       3.843706   \n",
       "\n",
       "       Market Capitalization  Revenue - Actual  Number of Analysts  \\\n",
       "0               3.426001e+09      1.532200e+09                 7.0   \n",
       "1               4.309428e+09      1.498900e+09                 7.0   \n",
       "2               4.258229e+09      1.552300e+09                 8.0   \n",
       "3               4.273414e+09      1.504900e+09                 7.0   \n",
       "4               4.877168e+09      1.583900e+09                 8.0   \n",
       "...                      ...               ...                 ...   \n",
       "19196           1.742020e+10      1.411448e+09                 8.0   \n",
       "19197           2.268979e+10      1.035557e+09                 8.0   \n",
       "19198           1.696712e+10      1.412650e+09                 9.0   \n",
       "19199           1.405795e+10      2.055818e+09                 9.0   \n",
       "19200           1.259813e+10      1.615339e+09                10.0   \n",
       "\n",
       "       Recommendation - Mean (1-5)  Recommendation change  ...  \\\n",
       "0                          3.00000                0.00000  ...   \n",
       "1                          2.87500               -0.12500  ...   \n",
       "2                          2.87500                0.00000  ...   \n",
       "3                          2.62500               -0.25000  ...   \n",
       "4                          2.33333               -0.29167  ...   \n",
       "...                            ...                    ...  ...   \n",
       "19196                      2.30000                0.00000  ...   \n",
       "19197                      2.30000                0.00000  ...   \n",
       "19198                      2.00000               -0.30000  ...   \n",
       "19199                      2.20000                0.20000  ...   \n",
       "19200                      2.27273                0.07273  ...   \n",
       "\n",
       "       Price Target - Standard Deviation  \\\n",
       "0                                2.44949   \n",
       "1                                3.92272   \n",
       "2                                4.30946   \n",
       "3                                3.45230   \n",
       "4                                3.42555   \n",
       "...                                  ...   \n",
       "19196                           50.48823   \n",
       "19197                           41.33833   \n",
       "19198                           37.49206   \n",
       "19199                           57.57373   \n",
       "19200                           24.95082   \n",
       "\n",
       "       Enterprise Value To Sales (Daily Time Series Ratio)  \\\n",
       "0                                               0.799347     \n",
       "1                                               0.895787     \n",
       "2                                               0.906078     \n",
       "3                                               0.903176     \n",
       "4                                               0.920659     \n",
       "...                                                  ...     \n",
       "19196                                           3.684400     \n",
       "19197                                           4.504382     \n",
       "19198                                           3.422880     \n",
       "19199                                           2.749481     \n",
       "19200                                           2.383926     \n",
       "\n",
       "       3 Month Total Return    Volume  loss firm status  \\\n",
       "0                 10.637479  207295.0                -1   \n",
       "1                 24.148726       0.0                -1   \n",
       "2                 -0.054218       0.0                -1   \n",
       "3                  2.467620  236291.0                -1   \n",
       "4                 16.003852  157761.0                -1   \n",
       "...                     ...       ...               ...   \n",
       "19196             -5.130322  157740.0                -1   \n",
       "19197             30.489705   82349.0                -1   \n",
       "19198            -25.160664  290897.0                -1   \n",
       "19199            -21.661570  185584.0                -1   \n",
       "19200             -9.164375  238539.0                -1   \n",
       "\n",
       "       CBOE Crude Oil ETF Volatility Index  \\\n",
       "0                                22.538500   \n",
       "1                                23.468125   \n",
       "2                                24.099219   \n",
       "3                                19.740938   \n",
       "4                                19.563770   \n",
       "...                                    ...   \n",
       "19196                            43.036308   \n",
       "19197                            52.695806   \n",
       "19198                            50.457581   \n",
       "19199                            49.861562   \n",
       "19200                            47.000952   \n",
       "\n",
       "       90-Day AA Financial Commercial Paper Interest Rate  \\\n",
       "0                                               0.166000    \n",
       "1                                               0.143750    \n",
       "2                                               0.125625    \n",
       "3                                               0.125806    \n",
       "4                                               0.126230    \n",
       "...                                                  ...    \n",
       "19196                                           0.140755    \n",
       "19197                                           0.467234    \n",
       "19198                                           1.394118    \n",
       "19199                                           2.885882    \n",
       "19200                                           4.230000    \n",
       "\n",
       "       Inflation Risk Premium  \\\n",
       "0                    0.359537   \n",
       "1                    0.360572   \n",
       "2                    0.463789   \n",
       "3                    0.441854   \n",
       "4                    0.465460   \n",
       "...                       ...   \n",
       "19196                0.382645   \n",
       "19197                0.380946   \n",
       "19198                0.495588   \n",
       "19199                0.423045   \n",
       "19200                0.535177   \n",
       "\n",
       "       University of Michigan: Consumer Sentiment, Index 1966:Q1=100  \\\n",
       "0                                              76.666667               \n",
       "1                                              81.666667               \n",
       "2                                              81.566667               \n",
       "3                                              76.933333               \n",
       "4                                              80.933333               \n",
       "...                                                  ...               \n",
       "19196                                          69.900000               \n",
       "19197                                          63.133333               \n",
       "19198                                          57.866667               \n",
       "19199                                          56.100000               \n",
       "19200                                          58.800000               \n",
       "\n",
       "       Unemployment Rate  \n",
       "0               7.733333  \n",
       "1               7.533333  \n",
       "2               7.233333  \n",
       "3               6.933333  \n",
       "4               6.666667  \n",
       "...                  ...  \n",
       "19196           4.200000  \n",
       "19197           3.800000  \n",
       "19198           3.600000  \n",
       "19199           3.566667  \n",
       "19200           3.600000  \n",
       "\n",
       "[19201 rows x 21 columns]"
      ]
     },
     "execution_count": 69,
     "metadata": {},
     "output_type": "execute_result"
    }
   ],
   "source": [
    "#decide which df to use\n",
    "df = pd.read_csv(\"Dataframes/economic_story_regression.csv\")\n",
    "#df = df.loc[:, [\"Instrument\", \"Date\", \"Earnings Per Share - Actual Surprise\", \"Revenue - Actual\", \"Net Income after Tax\"]]\n",
    "X_var_names = [\"Revenue - Actual\", \"Earnings Per Share - Actual Surprise\", \"Enterprise Value\", \"Earnings Per Share - Actual Surprise AbsVals\", \"Recommendation change\", \"Recommendation - Mean (1-5).1\", \"Recommendation - Mean (1-5)\"]\n",
    "df = df.drop([\"Earnings Per Share - Actual Surprise\"], axis=1)\n",
    "df['Date'] = pd.to_datetime(df['Date'], infer_datetime_format=True)\n",
    "df"
   ]
  },
  {
   "cell_type": "code",
   "execution_count": 70,
   "metadata": {},
   "outputs": [
    {
     "name": "stdout",
     "output_type": "stream",
     "text": [
      "<class 'pandas.core.frame.DataFrame'>\n",
      "RangeIndex: 19201 entries, 0 to 19200\n",
      "Data columns (total 21 columns):\n",
      " #   Column                                                         Non-Null Count  Dtype         \n",
      "---  ------                                                         --------------  -----         \n",
      " 0   Instrument                                                     19201 non-null  object        \n",
      " 1   Date                                                           19201 non-null  datetime64[ns]\n",
      " 2   Earnings Per Share - Actual Surprise AbsVals                   19201 non-null  float64       \n",
      " 3   GICS Industry Group Name                                       19201 non-null  object        \n",
      " 4   Earnings Per Share – Coefficient of Variation                  19201 non-null  float64       \n",
      " 5   Market Capitalization                                          19167 non-null  float64       \n",
      " 6   Revenue - Actual                                               19166 non-null  float64       \n",
      " 7   Number of Analysts                                             19201 non-null  float64       \n",
      " 8   Recommendation - Mean (1-5)                                    18425 non-null  float64       \n",
      " 9   Recommendation change                                          18208 non-null  float64       \n",
      " 10  Recommendation - Mean (1-5).1                                  18209 non-null  float64       \n",
      " 11  Price Target - Standard Deviation                              18425 non-null  float64       \n",
      " 12  Enterprise Value To Sales (Daily Time Series Ratio)            19130 non-null  float64       \n",
      " 13  3 Month Total Return                                           19176 non-null  float64       \n",
      " 14  Volume                                                         19201 non-null  float64       \n",
      " 15  loss firm status                                               19201 non-null  int64         \n",
      " 16  CBOE Crude Oil ETF Volatility Index                            19201 non-null  float64       \n",
      " 17  90-Day AA Financial Commercial Paper Interest Rate             19201 non-null  float64       \n",
      " 18  Inflation Risk Premium                                         19201 non-null  float64       \n",
      " 19  University of Michigan: Consumer Sentiment, Index 1966:Q1=100  19201 non-null  float64       \n",
      " 20  Unemployment Rate                                              19201 non-null  float64       \n",
      "dtypes: datetime64[ns](1), float64(17), int64(1), object(2)\n",
      "memory usage: 3.1+ MB\n"
     ]
    }
   ],
   "source": [
    "df.info()"
   ]
  },
  {
   "cell_type": "code",
   "execution_count": 71,
   "metadata": {},
   "outputs": [
    {
     "data": {
      "text/plain": [
       "Instrument                                                         0\n",
       "Date                                                               0\n",
       "Earnings Per Share - Actual Surprise AbsVals                       0\n",
       "GICS Industry Group Name                                           0\n",
       "Earnings Per Share – Coefficient of Variation                      0\n",
       "Market Capitalization                                             34\n",
       "Revenue - Actual                                                  35\n",
       "Number of Analysts                                                 0\n",
       "Recommendation - Mean (1-5)                                      776\n",
       "Recommendation change                                            993\n",
       "Recommendation - Mean (1-5).1                                    992\n",
       "Price Target - Standard Deviation                                776\n",
       "Enterprise Value To Sales (Daily Time Series Ratio)               71\n",
       "3 Month Total Return                                              25\n",
       "Volume                                                             0\n",
       "loss firm status                                                   0\n",
       "CBOE Crude Oil ETF Volatility Index                                0\n",
       "90-Day AA Financial Commercial Paper Interest Rate                 0\n",
       "Inflation Risk Premium                                             0\n",
       "University of Michigan: Consumer Sentiment, Index 1966:Q1=100      0\n",
       "Unemployment Rate                                                  0\n",
       "dtype: int64"
      ]
     },
     "execution_count": 71,
     "metadata": {},
     "output_type": "execute_result"
    }
   ],
   "source": [
    "df.isna().sum()"
   ]
  },
  {
   "cell_type": "code",
   "execution_count": 72,
   "metadata": {},
   "outputs": [
    {
     "data": {
      "text/html": [
       "<div>\n",
       "<style scoped>\n",
       "    .dataframe tbody tr th:only-of-type {\n",
       "        vertical-align: middle;\n",
       "    }\n",
       "\n",
       "    .dataframe tbody tr th {\n",
       "        vertical-align: top;\n",
       "    }\n",
       "\n",
       "    .dataframe thead th {\n",
       "        text-align: right;\n",
       "    }\n",
       "</style>\n",
       "<table border=\"1\" class=\"dataframe\">\n",
       "  <thead>\n",
       "    <tr style=\"text-align: right;\">\n",
       "      <th></th>\n",
       "      <th>Earnings Per Share - Actual Surprise AbsVals</th>\n",
       "      <th>Earnings Per Share – Coefficient of Variation</th>\n",
       "      <th>Market Capitalization</th>\n",
       "      <th>Revenue - Actual</th>\n",
       "      <th>Number of Analysts</th>\n",
       "      <th>Recommendation - Mean (1-5)</th>\n",
       "      <th>Recommendation change</th>\n",
       "      <th>Recommendation - Mean (1-5).1</th>\n",
       "      <th>Price Target - Standard Deviation</th>\n",
       "      <th>Enterprise Value To Sales (Daily Time Series Ratio)</th>\n",
       "      <th>3 Month Total Return</th>\n",
       "      <th>Volume</th>\n",
       "      <th>loss firm status</th>\n",
       "      <th>CBOE Crude Oil ETF Volatility Index</th>\n",
       "      <th>90-Day AA Financial Commercial Paper Interest Rate</th>\n",
       "      <th>Inflation Risk Premium</th>\n",
       "      <th>University of Michigan: Consumer Sentiment, Index 1966:Q1=100</th>\n",
       "      <th>Unemployment Rate</th>\n",
       "    </tr>\n",
       "  </thead>\n",
       "  <tbody>\n",
       "    <tr>\n",
       "      <th>count</th>\n",
       "      <td>19201.000000</td>\n",
       "      <td>19201.000000</td>\n",
       "      <td>1.916700e+04</td>\n",
       "      <td>1.916600e+04</td>\n",
       "      <td>19201.000000</td>\n",
       "      <td>18425.000000</td>\n",
       "      <td>18208.000000</td>\n",
       "      <td>18209.000000</td>\n",
       "      <td>18425.000000</td>\n",
       "      <td>19130.000000</td>\n",
       "      <td>19176.000000</td>\n",
       "      <td>1.920100e+04</td>\n",
       "      <td>19201.000000</td>\n",
       "      <td>19201.000000</td>\n",
       "      <td>19201.000000</td>\n",
       "      <td>19201.000000</td>\n",
       "      <td>19201.000000</td>\n",
       "      <td>19201.000000</td>\n",
       "    </tr>\n",
       "    <tr>\n",
       "      <th>mean</th>\n",
       "      <td>16.701591</td>\n",
       "      <td>5.705246</td>\n",
       "      <td>5.068830e+10</td>\n",
       "      <td>5.940188e+09</td>\n",
       "      <td>17.606010</td>\n",
       "      <td>2.325147</td>\n",
       "      <td>-0.000259</td>\n",
       "      <td>2.327693</td>\n",
       "      <td>11.836322</td>\n",
       "      <td>4.866827</td>\n",
       "      <td>4.037807</td>\n",
       "      <td>1.121231e+06</td>\n",
       "      <td>-0.847560</td>\n",
       "      <td>38.285166</td>\n",
       "      <td>0.962644</td>\n",
       "      <td>0.389302</td>\n",
       "      <td>85.740991</td>\n",
       "      <td>5.249713</td>\n",
       "    </tr>\n",
       "    <tr>\n",
       "      <th>std</th>\n",
       "      <td>36.689541</td>\n",
       "      <td>32.707179</td>\n",
       "      <td>1.208771e+11</td>\n",
       "      <td>1.175087e+10</td>\n",
       "      <td>7.282837</td>\n",
       "      <td>0.376284</td>\n",
       "      <td>0.125966</td>\n",
       "      <td>0.375648</td>\n",
       "      <td>25.279186</td>\n",
       "      <td>10.555401</td>\n",
       "      <td>15.214403</td>\n",
       "      <td>3.146264e+06</td>\n",
       "      <td>0.529879</td>\n",
       "      <td>15.664146</td>\n",
       "      <td>1.010914</td>\n",
       "      <td>0.079476</td>\n",
       "      <td>12.186794</td>\n",
       "      <td>1.822286</td>\n",
       "    </tr>\n",
       "    <tr>\n",
       "      <th>min</th>\n",
       "      <td>0.000000</td>\n",
       "      <td>-1025.000000</td>\n",
       "      <td>5.515891e+07</td>\n",
       "      <td>-9.010000e+09</td>\n",
       "      <td>1.000000</td>\n",
       "      <td>1.000000</td>\n",
       "      <td>-1.166670</td>\n",
       "      <td>1.000000</td>\n",
       "      <td>0.000000</td>\n",
       "      <td>-22.252345</td>\n",
       "      <td>-83.536836</td>\n",
       "      <td>0.000000e+00</td>\n",
       "      <td>-1.000000</td>\n",
       "      <td>17.441587</td>\n",
       "      <td>0.100000</td>\n",
       "      <td>0.142248</td>\n",
       "      <td>56.100000</td>\n",
       "      <td>3.566667</td>\n",
       "    </tr>\n",
       "    <tr>\n",
       "      <th>25%</th>\n",
       "      <td>2.670000</td>\n",
       "      <td>1.874267</td>\n",
       "      <td>1.118462e+10</td>\n",
       "      <td>1.009650e+09</td>\n",
       "      <td>13.000000</td>\n",
       "      <td>2.047620</td>\n",
       "      <td>-0.063160</td>\n",
       "      <td>2.050000</td>\n",
       "      <td>4.080080</td>\n",
       "      <td>1.817059</td>\n",
       "      <td>-4.011721</td>\n",
       "      <td>0.000000e+00</td>\n",
       "      <td>-1.000000</td>\n",
       "      <td>27.293281</td>\n",
       "      <td>0.143750</td>\n",
       "      <td>0.360572</td>\n",
       "      <td>76.933333</td>\n",
       "      <td>3.833333</td>\n",
       "    </tr>\n",
       "    <tr>\n",
       "      <th>50%</th>\n",
       "      <td>6.701000</td>\n",
       "      <td>3.275962</td>\n",
       "      <td>2.061773e+10</td>\n",
       "      <td>2.368000e+09</td>\n",
       "      <td>17.000000</td>\n",
       "      <td>2.294120</td>\n",
       "      <td>0.000000</td>\n",
       "      <td>2.296300</td>\n",
       "      <td>7.034510</td>\n",
       "      <td>3.271486</td>\n",
       "      <td>3.914849</td>\n",
       "      <td>4.404300e+05</td>\n",
       "      <td>-1.000000</td>\n",
       "      <td>36.665781</td>\n",
       "      <td>0.552903</td>\n",
       "      <td>0.405435</td>\n",
       "      <td>90.733333</td>\n",
       "      <td>4.900000</td>\n",
       "    </tr>\n",
       "    <tr>\n",
       "      <th>75%</th>\n",
       "      <td>15.199000</td>\n",
       "      <td>6.572211</td>\n",
       "      <td>4.357074e+10</td>\n",
       "      <td>5.146300e+09</td>\n",
       "      <td>22.000000</td>\n",
       "      <td>2.571430</td>\n",
       "      <td>0.062500</td>\n",
       "      <td>2.576920</td>\n",
       "      <td>12.532090</td>\n",
       "      <td>5.713368</td>\n",
       "      <td>11.932236</td>\n",
       "      <td>1.097422e+06</td>\n",
       "      <td>-1.000000</td>\n",
       "      <td>45.337500</td>\n",
       "      <td>1.808621</td>\n",
       "      <td>0.441854</td>\n",
       "      <td>96.366667</td>\n",
       "      <td>6.066667</td>\n",
       "    </tr>\n",
       "    <tr>\n",
       "      <th>max</th>\n",
       "      <td>503.622000</td>\n",
       "      <td>1642.812172</td>\n",
       "      <td>2.892120e+12</td>\n",
       "      <td>1.528710e+11</td>\n",
       "      <td>49.000000</td>\n",
       "      <td>3.692310</td>\n",
       "      <td>1.000000</td>\n",
       "      <td>4.000000</td>\n",
       "      <td>1178.120860</td>\n",
       "      <td>825.404875</td>\n",
       "      <td>232.448133</td>\n",
       "      <td>1.752907e+08</td>\n",
       "      <td>1.000000</td>\n",
       "      <td>104.666825</td>\n",
       "      <td>4.230000</td>\n",
       "      <td>0.535177</td>\n",
       "      <td>98.933333</td>\n",
       "      <td>12.966667</td>\n",
       "    </tr>\n",
       "  </tbody>\n",
       "</table>\n",
       "</div>"
      ],
      "text/plain": [
       "       Earnings Per Share - Actual Surprise AbsVals  \\\n",
       "count                                  19201.000000   \n",
       "mean                                      16.701591   \n",
       "std                                       36.689541   \n",
       "min                                        0.000000   \n",
       "25%                                        2.670000   \n",
       "50%                                        6.701000   \n",
       "75%                                       15.199000   \n",
       "max                                      503.622000   \n",
       "\n",
       "       Earnings Per Share – Coefficient of Variation  Market Capitalization  \\\n",
       "count                                   19201.000000           1.916700e+04   \n",
       "mean                                        5.705246           5.068830e+10   \n",
       "std                                        32.707179           1.208771e+11   \n",
       "min                                     -1025.000000           5.515891e+07   \n",
       "25%                                         1.874267           1.118462e+10   \n",
       "50%                                         3.275962           2.061773e+10   \n",
       "75%                                         6.572211           4.357074e+10   \n",
       "max                                      1642.812172           2.892120e+12   \n",
       "\n",
       "       Revenue - Actual  Number of Analysts  Recommendation - Mean (1-5)  \\\n",
       "count      1.916600e+04        19201.000000                 18425.000000   \n",
       "mean       5.940188e+09           17.606010                     2.325147   \n",
       "std        1.175087e+10            7.282837                     0.376284   \n",
       "min       -9.010000e+09            1.000000                     1.000000   \n",
       "25%        1.009650e+09           13.000000                     2.047620   \n",
       "50%        2.368000e+09           17.000000                     2.294120   \n",
       "75%        5.146300e+09           22.000000                     2.571430   \n",
       "max        1.528710e+11           49.000000                     3.692310   \n",
       "\n",
       "       Recommendation change  Recommendation - Mean (1-5).1  \\\n",
       "count           18208.000000                   18209.000000   \n",
       "mean               -0.000259                       2.327693   \n",
       "std                 0.125966                       0.375648   \n",
       "min                -1.166670                       1.000000   \n",
       "25%                -0.063160                       2.050000   \n",
       "50%                 0.000000                       2.296300   \n",
       "75%                 0.062500                       2.576920   \n",
       "max                 1.000000                       4.000000   \n",
       "\n",
       "       Price Target - Standard Deviation  \\\n",
       "count                       18425.000000   \n",
       "mean                           11.836322   \n",
       "std                            25.279186   \n",
       "min                             0.000000   \n",
       "25%                             4.080080   \n",
       "50%                             7.034510   \n",
       "75%                            12.532090   \n",
       "max                          1178.120860   \n",
       "\n",
       "       Enterprise Value To Sales (Daily Time Series Ratio)  \\\n",
       "count                                       19130.000000     \n",
       "mean                                            4.866827     \n",
       "std                                            10.555401     \n",
       "min                                           -22.252345     \n",
       "25%                                             1.817059     \n",
       "50%                                             3.271486     \n",
       "75%                                             5.713368     \n",
       "max                                           825.404875     \n",
       "\n",
       "       3 Month Total Return        Volume  loss firm status  \\\n",
       "count          19176.000000  1.920100e+04      19201.000000   \n",
       "mean               4.037807  1.121231e+06         -0.847560   \n",
       "std               15.214403  3.146264e+06          0.529879   \n",
       "min              -83.536836  0.000000e+00         -1.000000   \n",
       "25%               -4.011721  0.000000e+00         -1.000000   \n",
       "50%                3.914849  4.404300e+05         -1.000000   \n",
       "75%               11.932236  1.097422e+06         -1.000000   \n",
       "max              232.448133  1.752907e+08          1.000000   \n",
       "\n",
       "       CBOE Crude Oil ETF Volatility Index  \\\n",
       "count                         19201.000000   \n",
       "mean                             38.285166   \n",
       "std                              15.664146   \n",
       "min                              17.441587   \n",
       "25%                              27.293281   \n",
       "50%                              36.665781   \n",
       "75%                              45.337500   \n",
       "max                             104.666825   \n",
       "\n",
       "       90-Day AA Financial Commercial Paper Interest Rate  \\\n",
       "count                                       19201.000000    \n",
       "mean                                            0.962644    \n",
       "std                                             1.010914    \n",
       "min                                             0.100000    \n",
       "25%                                             0.143750    \n",
       "50%                                             0.552903    \n",
       "75%                                             1.808621    \n",
       "max                                             4.230000    \n",
       "\n",
       "       Inflation Risk Premium  \\\n",
       "count            19201.000000   \n",
       "mean                 0.389302   \n",
       "std                  0.079476   \n",
       "min                  0.142248   \n",
       "25%                  0.360572   \n",
       "50%                  0.405435   \n",
       "75%                  0.441854   \n",
       "max                  0.535177   \n",
       "\n",
       "       University of Michigan: Consumer Sentiment, Index 1966:Q1=100  \\\n",
       "count                                       19201.000000               \n",
       "mean                                           85.740991               \n",
       "std                                            12.186794               \n",
       "min                                            56.100000               \n",
       "25%                                            76.933333               \n",
       "50%                                            90.733333               \n",
       "75%                                            96.366667               \n",
       "max                                            98.933333               \n",
       "\n",
       "       Unemployment Rate  \n",
       "count       19201.000000  \n",
       "mean            5.249713  \n",
       "std             1.822286  \n",
       "min             3.566667  \n",
       "25%             3.833333  \n",
       "50%             4.900000  \n",
       "75%             6.066667  \n",
       "max            12.966667  "
      ]
     },
     "execution_count": 72,
     "metadata": {},
     "output_type": "execute_result"
    }
   ],
   "source": [
    "df.describe()"
   ]
  },
  {
   "cell_type": "code",
   "execution_count": 73,
   "metadata": {},
   "outputs": [
    {
     "data": {
      "text/html": [
       "<div>\n",
       "<style scoped>\n",
       "    .dataframe tbody tr th:only-of-type {\n",
       "        vertical-align: middle;\n",
       "    }\n",
       "\n",
       "    .dataframe tbody tr th {\n",
       "        vertical-align: top;\n",
       "    }\n",
       "\n",
       "    .dataframe thead th {\n",
       "        text-align: right;\n",
       "    }\n",
       "</style>\n",
       "<table border=\"1\" class=\"dataframe\">\n",
       "  <thead>\n",
       "    <tr style=\"text-align: right;\">\n",
       "      <th></th>\n",
       "      <th>Instrument</th>\n",
       "      <th>Date</th>\n",
       "      <th>GICS Industry Group Name</th>\n",
       "      <th>Earnings Per Share - Actual Surprise AbsVals</th>\n",
       "    </tr>\n",
       "  </thead>\n",
       "  <tbody>\n",
       "    <tr>\n",
       "      <th>0</th>\n",
       "      <td>AVY.N</td>\n",
       "      <td>2013-01-01</td>\n",
       "      <td>Materials</td>\n",
       "      <td>11.178</td>\n",
       "    </tr>\n",
       "    <tr>\n",
       "      <th>1</th>\n",
       "      <td>AVY.N</td>\n",
       "      <td>2013-04-01</td>\n",
       "      <td>Materials</td>\n",
       "      <td>2.482</td>\n",
       "    </tr>\n",
       "    <tr>\n",
       "      <th>2</th>\n",
       "      <td>AVY.N</td>\n",
       "      <td>2013-07-01</td>\n",
       "      <td>Materials</td>\n",
       "      <td>1.068</td>\n",
       "    </tr>\n",
       "    <tr>\n",
       "      <th>3</th>\n",
       "      <td>AVY.N</td>\n",
       "      <td>2013-10-01</td>\n",
       "      <td>Materials</td>\n",
       "      <td>8.095</td>\n",
       "    </tr>\n",
       "    <tr>\n",
       "      <th>4</th>\n",
       "      <td>AVY.N</td>\n",
       "      <td>2014-01-01</td>\n",
       "      <td>Materials</td>\n",
       "      <td>1.471</td>\n",
       "    </tr>\n",
       "    <tr>\n",
       "      <th>...</th>\n",
       "      <td>...</td>\n",
       "      <td>...</td>\n",
       "      <td>...</td>\n",
       "      <td>...</td>\n",
       "    </tr>\n",
       "    <tr>\n",
       "      <th>19196</th>\n",
       "      <td>POOL.OQ</td>\n",
       "      <td>2021-10-01</td>\n",
       "      <td>Retailing</td>\n",
       "      <td>17.194</td>\n",
       "    </tr>\n",
       "    <tr>\n",
       "      <th>19197</th>\n",
       "      <td>POOL.OQ</td>\n",
       "      <td>2022-01-01</td>\n",
       "      <td>Retailing</td>\n",
       "      <td>40.267</td>\n",
       "    </tr>\n",
       "    <tr>\n",
       "      <th>19198</th>\n",
       "      <td>POOL.OQ</td>\n",
       "      <td>2022-04-01</td>\n",
       "      <td>Retailing</td>\n",
       "      <td>34.342</td>\n",
       "    </tr>\n",
       "    <tr>\n",
       "      <th>19199</th>\n",
       "      <td>POOL.OQ</td>\n",
       "      <td>2022-07-01</td>\n",
       "      <td>Retailing</td>\n",
       "      <td>1.503</td>\n",
       "    </tr>\n",
       "    <tr>\n",
       "      <th>19200</th>\n",
       "      <td>POOL.OQ</td>\n",
       "      <td>2022-10-01</td>\n",
       "      <td>Retailing</td>\n",
       "      <td>4.196</td>\n",
       "    </tr>\n",
       "  </tbody>\n",
       "</table>\n",
       "<p>19201 rows × 4 columns</p>\n",
       "</div>"
      ],
      "text/plain": [
       "      Instrument       Date GICS Industry Group Name  \\\n",
       "0          AVY.N 2013-01-01                Materials   \n",
       "1          AVY.N 2013-04-01                Materials   \n",
       "2          AVY.N 2013-07-01                Materials   \n",
       "3          AVY.N 2013-10-01                Materials   \n",
       "4          AVY.N 2014-01-01                Materials   \n",
       "...          ...        ...                      ...   \n",
       "19196    POOL.OQ 2021-10-01                Retailing   \n",
       "19197    POOL.OQ 2022-01-01                Retailing   \n",
       "19198    POOL.OQ 2022-04-01                Retailing   \n",
       "19199    POOL.OQ 2022-07-01                Retailing   \n",
       "19200    POOL.OQ 2022-10-01                Retailing   \n",
       "\n",
       "       Earnings Per Share - Actual Surprise AbsVals  \n",
       "0                                            11.178  \n",
       "1                                             2.482  \n",
       "2                                             1.068  \n",
       "3                                             8.095  \n",
       "4                                             1.471  \n",
       "...                                             ...  \n",
       "19196                                        17.194  \n",
       "19197                                        40.267  \n",
       "19198                                        34.342  \n",
       "19199                                         1.503  \n",
       "19200                                         4.196  \n",
       "\n",
       "[19201 rows x 4 columns]"
      ]
     },
     "execution_count": 73,
     "metadata": {},
     "output_type": "execute_result"
    }
   ],
   "source": [
    "industry = df.loc[:, [\"Instrument\", \"Date\",\"GICS Industry Group Name\", \"Earnings Per Share - Actual Surprise AbsVals\"]]\n",
    "industry"
   ]
  },
  {
   "cell_type": "code",
   "execution_count": 74,
   "metadata": {},
   "outputs": [
    {
     "data": {
      "image/png": "[encoded data removed]",
      "text/plain": [
       "<Figure size 1000x600 with 1 Axes>"
      ]
     },
     "metadata": {},
     "output_type": "display_data"
    }
   ],
   "source": [
    "industry_counts = industry['GICS Industry Group Name'].value_counts()\n",
    "\n",
    "# Create a bar plot of the count of each 'GICS Industry Group Name'\n",
    "fig, ax = plt.subplots(figsize=(10, 6))\n",
    "plt.bar(industry_counts.index, industry_counts.values)\n",
    "plt.xlabel('GICS Industry Group Name', fontsize=14)\n",
    "plt.ylabel('Count', fontsize=14)\n",
    "\n",
    "# Set the font size and rotation of the x-axis tick labels\n",
    "plt.xticks(fontsize=12, rotation=90)\n",
    "plt.show()"
   ]
  },
  {
   "cell_type": "code",
   "execution_count": 75,
   "metadata": {},
   "outputs": [
    {
     "data": {
      "image/png": "[encoded data removed]",
      "text/plain": [
       "<Figure size 1000x600 with 1 Axes>"
      ]
     },
     "metadata": {},
     "output_type": "display_data"
    }
   ],
   "source": [
    "df_industry = df.groupby('GICS Industry Group Name')['Earnings Per Share - Actual Surprise AbsVals'].mean()\n",
    "\n",
    "# Sort the grouped DataFrame by the values of 'Earnings Per Share - Actual Surprise AbsVals' in descending order\n",
    "df_industry = df_industry.sort_values(ascending=False)\n",
    "\n",
    "# Create a bar plot of the average forecast error by GICS Industry Group Name\n",
    "fig, ax = plt.subplots(figsize=(10, 6))\n",
    "plt.bar(df_industry.index, df_industry.values)\n",
    "plt.xlabel('GICS Industry Group Name', fontsize=14)\n",
    "plt.ylabel('Average forecast error', fontsize=14)\n",
    "\n",
    "# Set the font size and rotation of the x-axis tick labels\n",
    "plt.xticks(fontsize=12, rotation=90)\n",
    "\n",
    "plt.show()"
   ]
  },
  {
   "cell_type": "code",
   "execution_count": 82,
   "metadata": {},
   "outputs": [
    {
     "data": {
      "text/html": [
       "<div>\n",
       "<style scoped>\n",
       "    .dataframe tbody tr th:only-of-type {\n",
       "        vertical-align: middle;\n",
       "    }\n",
       "\n",
       "    .dataframe tbody tr th {\n",
       "        vertical-align: top;\n",
       "    }\n",
       "\n",
       "    .dataframe thead th {\n",
       "        text-align: right;\n",
       "    }\n",
       "</style>\n",
       "<table border=\"1\" class=\"dataframe\">\n",
       "  <thead>\n",
       "    <tr style=\"text-align: right;\">\n",
       "      <th></th>\n",
       "      <th>Earnings Per Share - Actual Surprise AbsVals_mean</th>\n",
       "      <th>Earnings Per Share - Actual Surprise AbsVals_median</th>\n",
       "      <th>Earnings Per Share - Actual Surprise AbsVals_std</th>\n",
       "      <th>Earnings Per Share - Actual Surprise AbsVals_count</th>\n",
       "    </tr>\n",
       "    <tr>\n",
       "      <th>GICS Industry Group Name</th>\n",
       "      <th></th>\n",
       "      <th></th>\n",
       "      <th></th>\n",
       "      <th></th>\n",
       "    </tr>\n",
       "  </thead>\n",
       "  <tbody>\n",
       "    <tr>\n",
       "      <th>Capital Goods</th>\n",
       "      <td>11.070170</td>\n",
       "      <td>5.8100</td>\n",
       "      <td>19.264072</td>\n",
       "      <td>1675</td>\n",
       "    </tr>\n",
       "    <tr>\n",
       "      <th>Software &amp; Services</th>\n",
       "      <td>12.515218</td>\n",
       "      <td>5.5550</td>\n",
       "      <td>26.800492</td>\n",
       "      <td>1380</td>\n",
       "    </tr>\n",
       "    <tr>\n",
       "      <th>Health Care Equipment &amp; Services</th>\n",
       "      <td>12.775365</td>\n",
       "      <td>5.1860</td>\n",
       "      <td>31.546876</td>\n",
       "      <td>1350</td>\n",
       "    </tr>\n",
       "    <tr>\n",
       "      <th>Utilities</th>\n",
       "      <td>12.411400</td>\n",
       "      <td>6.1495</td>\n",
       "      <td>26.311485</td>\n",
       "      <td>1150</td>\n",
       "    </tr>\n",
       "    <tr>\n",
       "      <th>Real Estate</th>\n",
       "      <td>48.773824</td>\n",
       "      <td>19.5170</td>\n",
       "      <td>73.031737</td>\n",
       "      <td>1117</td>\n",
       "    </tr>\n",
       "    <tr>\n",
       "      <th>Pharmaceuticals, Biotechnology &amp; Life Sciences</th>\n",
       "      <td>11.709687</td>\n",
       "      <td>6.5420</td>\n",
       "      <td>17.449752</td>\n",
       "      <td>1085</td>\n",
       "    </tr>\n",
       "    <tr>\n",
       "      <th>Materials</th>\n",
       "      <td>13.861011</td>\n",
       "      <td>5.8040</td>\n",
       "      <td>29.237323</td>\n",
       "      <td>1054</td>\n",
       "    </tr>\n",
       "    <tr>\n",
       "      <th>Diversified Financials</th>\n",
       "      <td>9.769040</td>\n",
       "      <td>5.0395</td>\n",
       "      <td>19.169438</td>\n",
       "      <td>1028</td>\n",
       "    </tr>\n",
       "  </tbody>\n",
       "</table>\n",
       "</div>"
      ],
      "text/plain": [
       "                                                Earnings Per Share - Actual Surprise AbsVals_mean  \\\n",
       "GICS Industry Group Name                                                                            \n",
       "Capital Goods                                                                           11.070170   \n",
       "Software & Services                                                                     12.515218   \n",
       "Health Care Equipment & Services                                                        12.775365   \n",
       "Utilities                                                                               12.411400   \n",
       "Real Estate                                                                             48.773824   \n",
       "Pharmaceuticals, Biotechnology & Life Sciences                                          11.709687   \n",
       "Materials                                                                               13.861011   \n",
       "Diversified Financials                                                                   9.769040   \n",
       "\n",
       "                                                Earnings Per Share - Actual Surprise AbsVals_median  \\\n",
       "GICS Industry Group Name                                                                              \n",
       "Capital Goods                                                                              5.8100     \n",
       "Software & Services                                                                        5.5550     \n",
       "Health Care Equipment & Services                                                           5.1860     \n",
       "Utilities                                                                                  6.1495     \n",
       "Real Estate                                                                               19.5170     \n",
       "Pharmaceuticals, Biotechnology & Life Sciences                                             6.5420     \n",
       "Materials                                                                                  5.8040     \n",
       "Diversified Financials                                                                     5.0395     \n",
       "\n",
       "                                                Earnings Per Share - Actual Surprise AbsVals_std  \\\n",
       "GICS Industry Group Name                                                                           \n",
       "Capital Goods                                                                          19.264072   \n",
       "Software & Services                                                                    26.800492   \n",
       "Health Care Equipment & Services                                                       31.546876   \n",
       "Utilities                                                                              26.311485   \n",
       "Real Estate                                                                            73.031737   \n",
       "Pharmaceuticals, Biotechnology & Life Sciences                                         17.449752   \n",
       "Materials                                                                              29.237323   \n",
       "Diversified Financials                                                                 19.169438   \n",
       "\n",
       "                                                Earnings Per Share - Actual Surprise AbsVals_count  \n",
       "GICS Industry Group Name                                                                            \n",
       "Capital Goods                                                                                1675   \n",
       "Software & Services                                                                          1380   \n",
       "Health Care Equipment & Services                                                             1350   \n",
       "Utilities                                                                                    1150   \n",
       "Real Estate                                                                                  1117   \n",
       "Pharmaceuticals, Biotechnology & Life Sciences                                               1085   \n",
       "Materials                                                                                    1054   \n",
       "Diversified Financials                                                                       1028   "
      ]
     },
     "execution_count": 82,
     "metadata": {},
     "output_type": "execute_result"
    }
   ],
   "source": [
    "industry_df = df.groupby('GICS Industry Group Name').agg({\n",
    "    'Earnings Per Share - Actual Surprise AbsVals': ['mean', 'median', 'std', 'count']\n",
    "})\n",
    "\n",
    "# Flatten the column index of the grouped DataFrame\n",
    "industry_df.columns = ['_'.join(col).strip() for col in industry_df.columns.values]\n",
    "\n",
    "\n",
    "# Sort the dataframe by the 'mean' column in descending order\n",
    "industry_df = industry_df.sort_values(by=('Earnings Per Share - Actual Surprise AbsVals_count'), ascending=False)\n",
    "\n",
    "\n",
    "# Print the resulting grouped DataFrame with descriptive stats per industry\n",
    "industry_df.head(8)"
   ]
  },
  {
   "cell_type": "code",
   "execution_count": 83,
   "metadata": {},
   "outputs": [
    {
     "data": {
      "application/vnd.plotly.v1+json": {
       "config": {
        "plotlyServerURL": "https://plot.ly"
       },
       "data": [
        {
         "mode": "lines",
         "name": "Capital Goods",
         "type": "scatter",
         "x": [
          "2013-03-31T00:00:00",
          "2013-06-30T00:00:00",
          "2013-09-30T00:00:00",
          "2013-12-31T00:00:00",
          "2014-03-31T00:00:00",
          "2014-06-30T00:00:00",
          "2014-09-30T00:00:00",
          "2014-12-31T00:00:00",
          "2015-03-31T00:00:00",
          "2015-06-30T00:00:00",
          "2015-09-30T00:00:00",
          "2015-12-31T00:00:00",
          "2016-03-31T00:00:00",
          "2016-06-30T00:00:00",
          "2016-09-30T00:00:00",
          "2016-12-31T00:00:00",
          "2017-03-31T00:00:00",
          "2017-06-30T00:00:00",
          "2017-09-30T00:00:00",
          "2017-12-31T00:00:00",
          "2018-03-31T00:00:00",
          "2018-06-30T00:00:00",
          "2018-09-30T00:00:00",
          "2018-12-31T00:00:00",
          "2019-03-31T00:00:00",
          "2019-06-30T00:00:00",
          "2019-09-30T00:00:00",
          "2019-12-31T00:00:00",
          "2020-03-31T00:00:00",
          "2020-06-30T00:00:00",
          "2020-09-30T00:00:00",
          "2020-12-31T00:00:00",
          "2021-03-31T00:00:00",
          "2021-06-30T00:00:00",
          "2021-09-30T00:00:00",
          "2021-12-31T00:00:00",
          "2022-03-31T00:00:00",
          "2022-06-30T00:00:00",
          "2022-09-30T00:00:00",
          "2022-12-31T00:00:00"
         ],
         "y": [
          9.387631578947369,
          8.042641025641027,
          8.284358974358973,
          11.044410256410258,
          7.026675,
          8.1931,
          5.82665,
          7.389575000000001,
          7.0516000000000005,
          10.076075,
          7.6651,
          8.36855,
          10.2715,
          12.842225,
          11.80770731707317,
          8.500829268292684,
          8.88039024390244,
          12.92190243902439,
          5.9065,
          6.954547619047619,
          8.143214285714285,
          11.766380952380953,
          8.21152380952381,
          6.966880952380952,
          7.576214285714286,
          9.247761904761905,
          5.416046511627908,
          6.42806976744186,
          5.668309523809524,
          16.253666666666668,
          45.55593333333333,
          26.973533333333332,
          18.058777777777777,
          20.570444444444444,
          11.877822222222221,
          12.831244444444444,
          7.082772727272727,
          9.01140909090909,
          13.883177777777776,
          8.117022727272728
         ]
        },
        {
         "mode": "lines",
         "name": "Software & Services",
         "type": "scatter",
         "x": [
          "2013-03-31T00:00:00",
          "2013-06-30T00:00:00",
          "2013-09-30T00:00:00",
          "2013-12-31T00:00:00",
          "2014-03-31T00:00:00",
          "2014-06-30T00:00:00",
          "2014-09-30T00:00:00",
          "2014-12-31T00:00:00",
          "2015-03-31T00:00:00",
          "2015-06-30T00:00:00",
          "2015-09-30T00:00:00",
          "2015-12-31T00:00:00",
          "2016-03-31T00:00:00",
          "2016-06-30T00:00:00",
          "2016-09-30T00:00:00",
          "2016-12-31T00:00:00",
          "2017-03-31T00:00:00",
          "2017-06-30T00:00:00",
          "2017-09-30T00:00:00",
          "2017-12-31T00:00:00",
          "2018-03-31T00:00:00",
          "2018-06-30T00:00:00",
          "2018-09-30T00:00:00",
          "2018-12-31T00:00:00",
          "2019-03-31T00:00:00",
          "2019-06-30T00:00:00",
          "2019-09-30T00:00:00",
          "2019-12-31T00:00:00",
          "2020-03-31T00:00:00",
          "2020-06-30T00:00:00",
          "2020-09-30T00:00:00",
          "2020-12-31T00:00:00",
          "2021-03-31T00:00:00",
          "2021-06-30T00:00:00",
          "2021-09-30T00:00:00",
          "2021-12-31T00:00:00",
          "2022-03-31T00:00:00",
          "2022-06-30T00:00:00",
          "2022-09-30T00:00:00",
          "2022-12-31T00:00:00"
         ],
         "y": [
          10.699781250000001,
          8.44546875,
          10.58375,
          13.04271875,
          8.46409375,
          8.938375,
          8.883176470588236,
          16.111393939393942,
          9.177,
          18.935187499999998,
          16.00877142857143,
          20.974235294117648,
          14.28569696969697,
          10.079735294117647,
          12.627939393939393,
          13.138794117647059,
          7.571558823529411,
          8.0742,
          8.547235294117646,
          13.63113888888889,
          7.307028571428572,
          13.89575,
          8.398428571428571,
          21.46583783783784,
          11.071166666666667,
          8.742055555555556,
          10.041857142857141,
          9.098054054054053,
          14.797055555555554,
          16.939342857142854,
          24.045944444444444,
          26.257864864864867,
          15.1548,
          12.464486486486486,
          11.962666666666667,
          10.52963888888889,
          7.723249999999999,
          10.238027777777779,
          10.801361111111111,
          9.20958064516129
         ]
        },
        {
         "mode": "lines",
         "name": "Health Care Equipment & Services",
         "type": "scatter",
         "x": [
          "2013-03-31T00:00:00",
          "2013-06-30T00:00:00",
          "2013-09-30T00:00:00",
          "2013-12-31T00:00:00",
          "2014-03-31T00:00:00",
          "2014-06-30T00:00:00",
          "2014-09-30T00:00:00",
          "2014-12-31T00:00:00",
          "2015-03-31T00:00:00",
          "2015-06-30T00:00:00",
          "2015-09-30T00:00:00",
          "2015-12-31T00:00:00",
          "2016-03-31T00:00:00",
          "2016-06-30T00:00:00",
          "2016-09-30T00:00:00",
          "2016-12-31T00:00:00",
          "2017-03-31T00:00:00",
          "2017-06-30T00:00:00",
          "2017-09-30T00:00:00",
          "2017-12-31T00:00:00",
          "2018-03-31T00:00:00",
          "2018-06-30T00:00:00",
          "2018-09-30T00:00:00",
          "2018-12-31T00:00:00",
          "2019-03-31T00:00:00",
          "2019-06-30T00:00:00",
          "2019-09-30T00:00:00",
          "2019-12-31T00:00:00",
          "2020-03-31T00:00:00",
          "2020-06-30T00:00:00",
          "2020-09-30T00:00:00",
          "2020-12-31T00:00:00",
          "2021-03-31T00:00:00",
          "2021-06-30T00:00:00",
          "2021-09-30T00:00:00",
          "2021-12-31T00:00:00",
          "2022-03-31T00:00:00",
          "2022-06-30T00:00:00",
          "2022-09-30T00:00:00",
          "2022-12-31T00:00:00"
         ],
         "y": [
          11.42494117647059,
          12.684911764705884,
          9.521088235294117,
          9.454970588235295,
          6.621666666666666,
          10.939878787878788,
          8.854852941176471,
          6.220676470588236,
          10.718911764705881,
          8.847205882352942,
          6.995558823529412,
          6.275272727272728,
          13.695647058823527,
          8.188264705882354,
          10.342617647058823,
          6.631235294117647,
          4.680363636363636,
          7.459205882352941,
          8.952029411764705,
          9.273454545454545,
          15.469636363636363,
          9.090058823529413,
          11.787088235294119,
          15.360705882352942,
          13.838794117647058,
          9.526235294117647,
          6.816878787878788,
          12.32785294117647,
          6.471588235294117,
          19.970176470588235,
          87.1433125,
          36.3185294117647,
          18.360882352941175,
          13.519617647058825,
          14.987588235294117,
          12.377470588235294,
          8.045382352941177,
          8.652323529411763,
          7.348909090909091,
          9.170558823529412
         ]
        },
        {
         "mode": "lines",
         "name": "Utilities",
         "type": "scatter",
         "x": [
          "2013-03-31T00:00:00",
          "2013-06-30T00:00:00",
          "2013-09-30T00:00:00",
          "2013-12-31T00:00:00",
          "2014-03-31T00:00:00",
          "2014-06-30T00:00:00",
          "2014-09-30T00:00:00",
          "2014-12-31T00:00:00",
          "2015-03-31T00:00:00",
          "2015-06-30T00:00:00",
          "2015-09-30T00:00:00",
          "2015-12-31T00:00:00",
          "2016-03-31T00:00:00",
          "2016-06-30T00:00:00",
          "2016-09-30T00:00:00",
          "2016-12-31T00:00:00",
          "2017-03-31T00:00:00",
          "2017-06-30T00:00:00",
          "2017-09-30T00:00:00",
          "2017-12-31T00:00:00",
          "2018-03-31T00:00:00",
          "2018-06-30T00:00:00",
          "2018-09-30T00:00:00",
          "2018-12-31T00:00:00",
          "2019-03-31T00:00:00",
          "2019-06-30T00:00:00",
          "2019-09-30T00:00:00",
          "2019-12-31T00:00:00",
          "2020-03-31T00:00:00",
          "2020-06-30T00:00:00",
          "2020-09-30T00:00:00",
          "2020-12-31T00:00:00",
          "2021-03-31T00:00:00",
          "2021-06-30T00:00:00",
          "2021-09-30T00:00:00",
          "2021-12-31T00:00:00",
          "2022-03-31T00:00:00",
          "2022-06-30T00:00:00",
          "2022-09-30T00:00:00",
          "2022-12-31T00:00:00"
         ],
         "y": [
          14.033241379310345,
          19.084724137931033,
          15.073137931034482,
          7.250034482758621,
          9.495678571428572,
          16.830758620689654,
          7.432321428571428,
          7.667862068965517,
          12.120310344827587,
          10.36875,
          9.753535714285714,
          9.855206896551724,
          10.782607142857144,
          17.754413793103446,
          23.148413793103447,
          10.006896551724138,
          11.401965517241381,
          11.004275862068967,
          14.6395,
          6.42603448275862,
          11.426896551724138,
          9.102107142857143,
          13.32748275862069,
          10.002896551724138,
          9.839928571428572,
          6.808931034482759,
          6.975862068965518,
          9.433482758620691,
          7.11351724137931,
          12.408034482758621,
          12.088689655172415,
          16.249793103448276,
          8.962592592592593,
          15.08717857142857,
          17.726896551724135,
          12.25658620689655,
          22.377758620689658,
          13.939655172413794,
          20.133033333333334,
          16.036724137931035
         ]
        },
        {
         "mode": "lines",
         "name": "Real Estate",
         "type": "scatter",
         "x": [
          "2013-03-31T00:00:00",
          "2013-06-30T00:00:00",
          "2013-09-30T00:00:00",
          "2013-12-31T00:00:00",
          "2014-03-31T00:00:00",
          "2014-06-30T00:00:00",
          "2014-09-30T00:00:00",
          "2014-12-31T00:00:00",
          "2015-03-31T00:00:00",
          "2015-06-30T00:00:00",
          "2015-09-30T00:00:00",
          "2015-12-31T00:00:00",
          "2016-03-31T00:00:00",
          "2016-06-30T00:00:00",
          "2016-09-30T00:00:00",
          "2016-12-31T00:00:00",
          "2017-03-31T00:00:00",
          "2017-06-30T00:00:00",
          "2017-09-30T00:00:00",
          "2017-12-31T00:00:00",
          "2018-03-31T00:00:00",
          "2018-06-30T00:00:00",
          "2018-09-30T00:00:00",
          "2018-12-31T00:00:00",
          "2019-03-31T00:00:00",
          "2019-06-30T00:00:00",
          "2019-09-30T00:00:00",
          "2019-12-31T00:00:00",
          "2020-03-31T00:00:00",
          "2020-06-30T00:00:00",
          "2020-09-30T00:00:00",
          "2020-12-31T00:00:00",
          "2021-03-31T00:00:00",
          "2021-06-30T00:00:00",
          "2021-09-30T00:00:00",
          "2021-12-31T00:00:00",
          "2022-03-31T00:00:00",
          "2022-06-30T00:00:00",
          "2022-09-30T00:00:00",
          "2022-12-31T00:00:00"
         ],
         "y": [
          60.24414814814815,
          39.62540740740741,
          61.09817857142857,
          35.992555555555555,
          64.45476,
          19.340653846153845,
          44.207111111111104,
          60.80162962962963,
          34.33492,
          76.25914285714285,
          45.54711111111111,
          30.82685185185185,
          50.41276,
          45.11884615384615,
          32.020148148148145,
          49.93714814814815,
          53.6195,
          32.07562962962963,
          20.76265517241379,
          32.09320689655172,
          44.760533333333335,
          46.64865517241379,
          22.971464285714287,
          44.967,
          41.88235714285714,
          26.521400000000003,
          34.85106666666666,
          33.69465517241379,
          46.56655172413793,
          81.68726666666666,
          59.85957142857143,
          44.370407407407406,
          100.1876551724138,
          74.00568965517242,
          70.1463448275862,
          48.53641379310345,
          74.82671428571429,
          41.419535714285715,
          46.735392857142855,
          71.29366666666667
         ]
        },
        {
         "mode": "lines",
         "name": "Pharmaceuticals, Biotechnology & Life Sciences",
         "type": "scatter",
         "x": [
          "2013-03-31T00:00:00",
          "2013-06-30T00:00:00",
          "2013-09-30T00:00:00",
          "2013-12-31T00:00:00",
          "2014-03-31T00:00:00",
          "2014-06-30T00:00:00",
          "2014-09-30T00:00:00",
          "2014-12-31T00:00:00",
          "2015-03-31T00:00:00",
          "2015-06-30T00:00:00",
          "2015-09-30T00:00:00",
          "2015-12-31T00:00:00",
          "2016-03-31T00:00:00",
          "2016-06-30T00:00:00",
          "2016-09-30T00:00:00",
          "2016-12-31T00:00:00",
          "2017-03-31T00:00:00",
          "2017-06-30T00:00:00",
          "2017-09-30T00:00:00",
          "2017-12-31T00:00:00",
          "2018-03-31T00:00:00",
          "2018-06-30T00:00:00",
          "2018-09-30T00:00:00",
          "2018-12-31T00:00:00",
          "2019-03-31T00:00:00",
          "2019-06-30T00:00:00",
          "2019-09-30T00:00:00",
          "2019-12-31T00:00:00",
          "2020-03-31T00:00:00",
          "2020-06-30T00:00:00",
          "2020-09-30T00:00:00",
          "2020-12-31T00:00:00",
          "2021-03-31T00:00:00",
          "2021-06-30T00:00:00",
          "2021-09-30T00:00:00",
          "2021-12-31T00:00:00",
          "2022-03-31T00:00:00",
          "2022-06-30T00:00:00",
          "2022-09-30T00:00:00",
          "2022-12-31T00:00:00"
         ],
         "y": [
          7.963304347826087,
          10.531839999999999,
          7.847346153846153,
          8.946307692307693,
          11.010730769230769,
          11.26276923076923,
          7.793880000000001,
          7.595769230769231,
          15.51951851851852,
          12.902037037037038,
          8.625962962962964,
          11.968666666666666,
          15.118074074074073,
          11.797296296296295,
          5.427769230769231,
          7.092153846153847,
          12.428333333333333,
          7.902555555555556,
          10.513555555555556,
          13.992407407407407,
          11.37514814814815,
          12.028222222222222,
          10.885888888888887,
          7.238888888888888,
          7.084777777777777,
          10.197785714285715,
          9.232107142857144,
          8.317178571428572,
          8.369785714285715,
          13.847074074074074,
          24.182214285714284,
          21.062785714285717,
          15.166785714285714,
          18.368379310344828,
          14.344758620689655,
          17.68703448275862,
          13.831724137931035,
          13.296241379310345,
          10.247344827586208,
          11.767821428571429
         ]
        },
        {
         "mode": "lines",
         "name": "Materials",
         "type": "scatter",
         "x": [
          "2013-03-31T00:00:00",
          "2013-06-30T00:00:00",
          "2013-09-30T00:00:00",
          "2013-12-31T00:00:00",
          "2014-03-31T00:00:00",
          "2014-06-30T00:00:00",
          "2014-09-30T00:00:00",
          "2014-12-31T00:00:00",
          "2015-03-31T00:00:00",
          "2015-06-30T00:00:00",
          "2015-09-30T00:00:00",
          "2015-12-31T00:00:00",
          "2016-03-31T00:00:00",
          "2016-06-30T00:00:00",
          "2016-09-30T00:00:00",
          "2016-12-31T00:00:00",
          "2017-03-31T00:00:00",
          "2017-06-30T00:00:00",
          "2017-09-30T00:00:00",
          "2017-12-31T00:00:00",
          "2018-03-31T00:00:00",
          "2018-06-30T00:00:00",
          "2018-09-30T00:00:00",
          "2018-12-31T00:00:00",
          "2019-03-31T00:00:00",
          "2019-06-30T00:00:00",
          "2019-09-30T00:00:00",
          "2019-12-31T00:00:00",
          "2020-03-31T00:00:00",
          "2020-06-30T00:00:00",
          "2020-09-30T00:00:00",
          "2020-12-31T00:00:00",
          "2021-03-31T00:00:00",
          "2021-06-30T00:00:00",
          "2021-09-30T00:00:00",
          "2021-12-31T00:00:00",
          "2022-03-31T00:00:00",
          "2022-06-30T00:00:00",
          "2022-09-30T00:00:00",
          "2022-12-31T00:00:00"
         ],
         "y": [
          17.592000000000002,
          10.809666666666667,
          12.182125000000001,
          8.68084,
          13.294333333333332,
          8.986799999999999,
          5.407239999999999,
          15.017359999999998,
          11.20712,
          17.8634,
          12.65404,
          12.14656,
          20.848519999999997,
          25.954439999999998,
          10.986200000000002,
          15.291333333333334,
          10.443,
          20.761439999999997,
          22.5992,
          10.851615384615384,
          12.52623076923077,
          12.433153846153846,
          7.027576923076923,
          6.847307692307693,
          12.056038461538462,
          10.810666666666666,
          11.236107142857142,
          6.177310344827586,
          13.852925925925925,
          11.688206896551723,
          34.571214285714284,
          22.990068965517242,
          31.871655172413792,
          17.82396551724138,
          7.177793103448276,
          14.867931034482758,
          5.376551724137931,
          14.14248275862069,
          8.11503448275862,
          8.636793103448277
         ]
        },
        {
         "mode": "lines",
         "name": "Diversified Financials",
         "type": "scatter",
         "x": [
          "2013-03-31T00:00:00",
          "2013-06-30T00:00:00",
          "2013-09-30T00:00:00",
          "2013-12-31T00:00:00",
          "2014-03-31T00:00:00",
          "2014-06-30T00:00:00",
          "2014-09-30T00:00:00",
          "2014-12-31T00:00:00",
          "2015-03-31T00:00:00",
          "2015-06-30T00:00:00",
          "2015-09-30T00:00:00",
          "2015-12-31T00:00:00",
          "2016-03-31T00:00:00",
          "2016-06-30T00:00:00",
          "2016-09-30T00:00:00",
          "2016-12-31T00:00:00",
          "2017-03-31T00:00:00",
          "2017-06-30T00:00:00",
          "2017-09-30T00:00:00",
          "2017-12-31T00:00:00",
          "2018-03-31T00:00:00",
          "2018-06-30T00:00:00",
          "2018-09-30T00:00:00",
          "2018-12-31T00:00:00",
          "2019-03-31T00:00:00",
          "2019-06-30T00:00:00",
          "2019-09-30T00:00:00",
          "2019-12-31T00:00:00",
          "2020-03-31T00:00:00",
          "2020-06-30T00:00:00",
          "2020-09-30T00:00:00",
          "2020-12-31T00:00:00",
          "2021-03-31T00:00:00",
          "2021-06-30T00:00:00",
          "2021-09-30T00:00:00",
          "2021-12-31T00:00:00",
          "2022-03-31T00:00:00",
          "2022-06-30T00:00:00",
          "2022-09-30T00:00:00",
          "2022-12-31T00:00:00"
         ],
         "y": [
          8.900791666666667,
          6.85108,
          6.69388,
          7.44832,
          5.573440000000001,
          5.2996799999999995,
          7.00748,
          7.576846153846153,
          5.710346153846154,
          7.311000000000001,
          5.9432307692307695,
          6.170384615384616,
          7.692346153846154,
          6.3715769230769235,
          9.418884615384615,
          8.580884615384615,
          5.222730769230769,
          8.897153846153847,
          5.747538461538462,
          7.455153846153847,
          18.77546153846154,
          6.459269230769231,
          5.656000000000001,
          8.139384615384616,
          8.328153846153846,
          7.2844999999999995,
          4.660230769230769,
          7.319615384615385,
          5.885461538461538,
          22.153041666666667,
          32.3554,
          26.76269230769231,
          15.905,
          21.25576923076923,
          17.12369230769231,
          12.312846153846154,
          6.566923076923077,
          8.517576923076923,
          7.930999999999999,
          8.441040000000001
         ]
        }
       ],
       "layout": {
        "template": {
         "data": {
          "bar": [
           {
            "error_x": {
             "color": "#2a3f5f"
            },
            "error_y": {
             "color": "#2a3f5f"
            },
            "marker": {
             "line": {
              "color": "#E5ECF6",
              "width": 0.5
             },
             "pattern": {
              "fillmode": "overlay",
              "size": 10,
              "solidity": 0.2
             }
            },
            "type": "bar"
           }
          ],
          "barpolar": [
           {
            "marker": {
             "line": {
              "color": "#E5ECF6",
              "width": 0.5
             },
             "pattern": {
              "fillmode": "overlay",
              "size": 10,
              "solidity": 0.2
             }
            },
            "type": "barpolar"
           }
          ],
          "carpet": [
           {
            "aaxis": {
             "endlinecolor": "#2a3f5f",
             "gridcolor": "white",
             "linecolor": "white",
             "minorgridcolor": "white",
             "startlinecolor": "#2a3f5f"
            },
            "baxis": {
             "endlinecolor": "#2a3f5f",
             "gridcolor": "white",
             "linecolor": "white",
             "minorgridcolor": "white",
             "startlinecolor": "#2a3f5f"
            },
            "type": "carpet"
           }
          ],
          "choropleth": [
           {
            "colorbar": {
             "outlinewidth": 0,
             "ticks": ""
            },
            "type": "choropleth"
           }
          ],
          "contour": [
           {
            "colorbar": {
             "outlinewidth": 0,
             "ticks": ""
            },
            "colorscale": [
             [
              0,
              "#0d0887"
             ],
             [
              0.1111111111111111,
              "#46039f"
             ],
             [
              0.2222222222222222,
              "#7201a8"
             ],
             [
              0.3333333333333333,
              "#9c179e"
             ],
             [
              0.4444444444444444,
              "#bd3786"
             ],
             [
              0.5555555555555556,
              "#d8576b"
             ],
             [
              0.6666666666666666,
              "#ed7953"
             ],
             [
              0.7777777777777778,
              "#fb9f3a"
             ],
             [
              0.8888888888888888,
              "#fdca26"
             ],
             [
              1,
              "#f0f921"
             ]
            ],
            "type": "contour"
           }
          ],
          "contourcarpet": [
           {
            "colorbar": {
             "outlinewidth": 0,
             "ticks": ""
            },
            "type": "contourcarpet"
           }
          ],
          "heatmap": [
           {
            "colorbar": {
             "outlinewidth": 0,
             "ticks": ""
            },
            "colorscale": [
             [
              0,
              "#0d0887"
             ],
             [
              0.1111111111111111,
              "#46039f"
             ],
             [
              0.2222222222222222,
              "#7201a8"
             ],
             [
              0.3333333333333333,
              "#9c179e"
             ],
             [
              0.4444444444444444,
              "#bd3786"
             ],
             [
              0.5555555555555556,
              "#d8576b"
             ],
             [
              0.6666666666666666,
              "#ed7953"
             ],
             [
              0.7777777777777778,
              "#fb9f3a"
             ],
             [
              0.8888888888888888,
              "#fdca26"
             ],
             [
              1,
              "#f0f921"
             ]
            ],
            "type": "heatmap"
           }
          ],
          "heatmapgl": [
           {
            "colorbar": {
             "outlinewidth": 0,
             "ticks": ""
            },
            "colorscale": [
             [
              0,
              "#0d0887"
             ],
             [
              0.1111111111111111,
              "#46039f"
             ],
             [
              0.2222222222222222,
              "#7201a8"
             ],
             [
              0.3333333333333333,
              "#9c179e"
             ],
             [
              0.4444444444444444,
              "#bd3786"
             ],
             [
              0.5555555555555556,
              "#d8576b"
             ],
             [
              0.6666666666666666,
              "#ed7953"
             ],
             [
              0.7777777777777778,
              "#fb9f3a"
             ],
             [
              0.8888888888888888,
              "#fdca26"
             ],
             [
              1,
              "#f0f921"
             ]
            ],
            "type": "heatmapgl"
           }
          ],
          "histogram": [
           {
            "marker": {
             "pattern": {
              "fillmode": "overlay",
              "size": 10,
              "solidity": 0.2
             }
            },
            "type": "histogram"
           }
          ],
          "histogram2d": [
           {
            "colorbar": {
             "outlinewidth": 0,
             "ticks": ""
            },
            "colorscale": [
             [
              0,
              "#0d0887"
             ],
             [
              0.1111111111111111,
              "#46039f"
             ],
             [
              0.2222222222222222,
              "#7201a8"
             ],
             [
              0.3333333333333333,
              "#9c179e"
             ],
             [
              0.4444444444444444,
              "#bd3786"
             ],
             [
              0.5555555555555556,
              "#d8576b"
             ],
             [
              0.6666666666666666,
              "#ed7953"
             ],
             [
              0.7777777777777778,
              "#fb9f3a"
             ],
             [
              0.8888888888888888,
              "#fdca26"
             ],
             [
              1,
              "#f0f921"
             ]
            ],
            "type": "histogram2d"
           }
          ],
          "histogram2dcontour": [
           {
            "colorbar": {
             "outlinewidth": 0,
             "ticks": ""
            },
            "colorscale": [
             [
              0,
              "#0d0887"
             ],
             [
              0.1111111111111111,
              "#46039f"
             ],
             [
              0.2222222222222222,
              "#7201a8"
             ],
             [
              0.3333333333333333,
              "#9c179e"
             ],
             [
              0.4444444444444444,
              "#bd3786"
             ],
             [
              0.5555555555555556,
              "#d8576b"
             ],
             [
              0.6666666666666666,
              "#ed7953"
             ],
             [
              0.7777777777777778,
              "#fb9f3a"
             ],
             [
              0.8888888888888888,
              "#fdca26"
             ],
             [
              1,
              "#f0f921"
             ]
            ],
            "type": "histogram2dcontour"
           }
          ],
          "mesh3d": [
           {
            "colorbar": {
             "outlinewidth": 0,
             "ticks": ""
            },
            "type": "mesh3d"
           }
          ],
          "parcoords": [
           {
            "line": {
             "colorbar": {
              "outlinewidth": 0,
              "ticks": ""
             }
            },
            "type": "parcoords"
           }
          ],
          "pie": [
           {
            "automargin": true,
            "type": "pie"
           }
          ],
          "scatter": [
           {
            "fillpattern": {
             "fillmode": "overlay",
             "size": 10,
             "solidity": 0.2
            },
            "type": "scatter"
           }
          ],
          "scatter3d": [
           {
            "line": {
             "colorbar": {
              "outlinewidth": 0,
              "ticks": ""
             }
            },
            "marker": {
             "colorbar": {
              "outlinewidth": 0,
              "ticks": ""
             }
            },
            "type": "scatter3d"
           }
          ],
          "scattercarpet": [
           {
            "marker": {
             "colorbar": {
              "outlinewidth": 0,
              "ticks": ""
             }
            },
            "type": "scattercarpet"
           }
          ],
          "scattergeo": [
           {
            "marker": {
             "colorbar": {
              "outlinewidth": 0,
              "ticks": ""
             }
            },
            "type": "scattergeo"
           }
          ],
          "scattergl": [
           {
            "marker": {
             "colorbar": {
              "outlinewidth": 0,
              "ticks": ""
             }
            },
            "type": "scattergl"
           }
          ],
          "scattermapbox": [
           {
            "marker": {
             "colorbar": {
              "outlinewidth": 0,
              "ticks": ""
             }
            },
            "type": "scattermapbox"
           }
          ],
          "scatterpolar": [
           {
            "marker": {
             "colorbar": {
              "outlinewidth": 0,
              "ticks": ""
             }
            },
            "type": "scatterpolar"
           }
          ],
          "scatterpolargl": [
           {
            "marker": {
             "colorbar": {
              "outlinewidth": 0,
              "ticks": ""
             }
            },
            "type": "scatterpolargl"
           }
          ],
          "scatterternary": [
           {
            "marker": {
             "colorbar": {
              "outlinewidth": 0,
              "ticks": ""
             }
            },
            "type": "scatterternary"
           }
          ],
          "surface": [
           {
            "colorbar": {
             "outlinewidth": 0,
             "ticks": ""
            },
            "colorscale": [
             [
              0,
              "#0d0887"
             ],
             [
              0.1111111111111111,
              "#46039f"
             ],
             [
              0.2222222222222222,
              "#7201a8"
             ],
             [
              0.3333333333333333,
              "#9c179e"
             ],
             [
              0.4444444444444444,
              "#bd3786"
             ],
             [
              0.5555555555555556,
              "#d8576b"
             ],
             [
              0.6666666666666666,
              "#ed7953"
             ],
             [
              0.7777777777777778,
              "#fb9f3a"
             ],
             [
              0.8888888888888888,
              "#fdca26"
             ],
             [
              1,
              "#f0f921"
             ]
            ],
            "type": "surface"
           }
          ],
          "table": [
           {
            "cells": {
             "fill": {
              "color": "#EBF0F8"
             },
             "line": {
              "color": "white"
             }
            },
            "header": {
             "fill": {
              "color": "#C8D4E3"
             },
             "line": {
              "color": "white"
             }
            },
            "type": "table"
           }
          ]
         },
         "layout": {
          "annotationdefaults": {
           "arrowcolor": "#2a3f5f",
           "arrowhead": 0,
           "arrowwidth": 1
          },
          "autotypenumbers": "strict",
          "coloraxis": {
           "colorbar": {
            "outlinewidth": 0,
            "ticks": ""
           }
          },
          "colorscale": {
           "diverging": [
            [
             0,
             "#8e0152"
            ],
            [
             0.1,
             "#c51b7d"
            ],
            [
             0.2,
             "#de77ae"
            ],
            [
             0.3,
             "#f1b6da"
            ],
            [
             0.4,
             "#fde0ef"
            ],
            [
             0.5,
             "#f7f7f7"
            ],
            [
             0.6,
             "#e6f5d0"
            ],
            [
             0.7,
             "#b8e186"
            ],
            [
             0.8,
             "#7fbc41"
            ],
            [
             0.9,
             "#4d9221"
            ],
            [
             1,
             "#276419"
            ]
           ],
           "sequential": [
            [
             0,
             "#0d0887"
            ],
            [
             0.1111111111111111,
             "#46039f"
            ],
            [
             0.2222222222222222,
             "#7201a8"
            ],
            [
             0.3333333333333333,
             "#9c179e"
            ],
            [
             0.4444444444444444,
             "#bd3786"
            ],
            [
             0.5555555555555556,
             "#d8576b"
            ],
            [
             0.6666666666666666,
             "#ed7953"
            ],
            [
             0.7777777777777778,
             "#fb9f3a"
            ],
            [
             0.8888888888888888,
             "#fdca26"
            ],
            [
             1,
             "#f0f921"
            ]
           ],
           "sequentialminus": [
            [
             0,
             "#0d0887"
            ],
            [
             0.1111111111111111,
             "#46039f"
            ],
            [
             0.2222222222222222,
             "#7201a8"
            ],
            [
             0.3333333333333333,
             "#9c179e"
            ],
            [
             0.4444444444444444,
             "#bd3786"
            ],
            [
             0.5555555555555556,
             "#d8576b"
            ],
            [
             0.6666666666666666,
             "#ed7953"
            ],
            [
             0.7777777777777778,
             "#fb9f3a"
            ],
            [
             0.8888888888888888,
             "#fdca26"
            ],
            [
             1,
             "#f0f921"
            ]
           ]
          },
          "colorway": [
           "#636efa",
           "#EF553B",
           "#00cc96",
           "#ab63fa",
           "#FFA15A",
           "#19d3f3",
           "#FF6692",
           "#B6E880",
           "#FF97FF",
           "#FECB52"
          ],
          "font": {
           "color": "#2a3f5f"
          },
          "geo": {
           "bgcolor": "white",
           "lakecolor": "white",
           "landcolor": "#E5ECF6",
           "showlakes": true,
           "showland": true,
           "subunitcolor": "white"
          },
          "hoverlabel": {
           "align": "left"
          },
          "hovermode": "closest",
          "mapbox": {
           "style": "light"
          },
          "paper_bgcolor": "white",
          "plot_bgcolor": "#E5ECF6",
          "polar": {
           "angularaxis": {
            "gridcolor": "white",
            "linecolor": "white",
            "ticks": ""
           },
           "bgcolor": "#E5ECF6",
           "radialaxis": {
            "gridcolor": "white",
            "linecolor": "white",
            "ticks": ""
           }
          },
          "scene": {
           "xaxis": {
            "backgroundcolor": "#E5ECF6",
            "gridcolor": "white",
            "gridwidth": 2,
            "linecolor": "white",
            "showbackground": true,
            "ticks": "",
            "zerolinecolor": "white"
           },
           "yaxis": {
            "backgroundcolor": "#E5ECF6",
            "gridcolor": "white",
            "gridwidth": 2,
            "linecolor": "white",
            "showbackground": true,
            "ticks": "",
            "zerolinecolor": "white"
           },
           "zaxis": {
            "backgroundcolor": "#E5ECF6",
            "gridcolor": "white",
            "gridwidth": 2,
            "linecolor": "white",
            "showbackground": true,
            "ticks": "",
            "zerolinecolor": "white"
           }
          },
          "shapedefaults": {
           "line": {
            "color": "#2a3f5f"
           }
          },
          "ternary": {
           "aaxis": {
            "gridcolor": "white",
            "linecolor": "white",
            "ticks": ""
           },
           "baxis": {
            "gridcolor": "white",
            "linecolor": "white",
            "ticks": ""
           },
           "bgcolor": "#E5ECF6",
           "caxis": {
            "gridcolor": "white",
            "linecolor": "white",
            "ticks": ""
           }
          },
          "title": {
           "x": 0.05
          },
          "xaxis": {
           "automargin": true,
           "gridcolor": "white",
           "linecolor": "white",
           "ticks": "",
           "title": {
            "standoff": 15
           },
           "zerolinecolor": "white",
           "zerolinewidth": 2
          },
          "yaxis": {
           "automargin": true,
           "gridcolor": "white",
           "linecolor": "white",
           "ticks": "",
           "title": {
            "standoff": 15
           },
           "zerolinecolor": "white",
           "zerolinewidth": 2
          }
         }
        },
        "title": {
         "text": "Quarterly Forecast Error by Industry"
        },
        "xaxis": {
         "title": {
          "text": "Date"
         }
        },
        "yaxis": {
         "title": {
          "text": "Earnings Per Share - Actual Surprise AbsVals"
         }
        }
       }
      }
     },
     "metadata": {},
     "output_type": "display_data"
    }
   ],
   "source": [
    "df_quarterly = df.groupby(['GICS Industry Group Name', pd.Grouper(key='Date', freq='Q')])['Earnings Per Share - Actual Surprise AbsVals'].mean().reset_index()\n",
    "\n",
    "# create a line chart for each company\n",
    "fig = go.Figure()\n",
    "\n",
    "top_5_industry = ['Capital Goods', 'Software & Services', 'Health Care Equipment & Services', 'Utilities', 'Real Estate', \n",
    "                  'Pharmaceuticals, Biotechnology & Life Sciences', 'Materials', 'Diversified Financials']\n",
    "\n",
    "for industry in top_5_industry:\n",
    "    # filter the data for each company\n",
    "    df_industry_quarterly = df_quarterly[df_quarterly['GICS Industry Group Name'] == industry]\n",
    "    \n",
    "    # add the line chart for the company\n",
    "    fig.add_trace(go.Scatter(x=df_industry_quarterly['Date'], y=df_industry_quarterly['Earnings Per Share - Actual Surprise AbsVals'],\n",
    "                             mode='lines', name=industry))\n",
    "\n",
    "# set the chart title and axis labels\n",
    "fig.update_layout(title='Quarterly Forecast Error by Industry',\n",
    "                   xaxis_title='Date', yaxis_title='Earnings Per Share - Actual Surprise AbsVals')\n",
    "\n",
    "# show the chart\n",
    "fig.show()\n"
   ]
  },
  {
   "cell_type": "code",
   "execution_count": null,
   "metadata": {},
   "outputs": [],
   "source": []
  }
 ],
 "metadata": {
  "kernelspec": {
   "display_name": "AnalystForecast",
   "language": "python",
   "name": "python3"
  },
  "language_info": {
   "codemirror_mode": {
    "name": "ipython",
    "version": 3
   },
   "file_extension": ".py",
   "mimetype": "text/x-python",
   "name": "python",
   "nbconvert_exporter": "python",
   "pygments_lexer": "ipython3",
   "version": "3.11.0"
  },
  "orig_nbformat": 4
 },
 "nbformat": 4,
 "nbformat_minor": 2
}
