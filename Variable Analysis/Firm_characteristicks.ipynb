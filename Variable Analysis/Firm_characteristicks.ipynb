{
 "cells": [
  {
   "cell_type": "code",
   "execution_count": 2,
   "metadata": {},
   "outputs": [],
   "source": [
    "import pandas as pd\n",
    "import statsmodels.api as sm\n",
    "from sklearn.linear_model import LinearRegression\n",
    "from sklearn.preprocessing import MinMaxScaler\n",
    "from sklearn.preprocessing import StandardScaler\n",
    "from sklearn.preprocessing import LabelEncoder\n",
    "\n",
    "import numpy as np\n",
    "\n",
    "from linearmodels.panel import PanelOLS\n",
    "import datetime as dt\n",
    "import matplotlib.pyplot as plt\n",
    "import plotly.graph_objs as go\n",
    "import plotly.express as px\n",
    "import seaborn as sns"
   ]
  },
  {
   "cell_type": "code",
   "execution_count": 3,
   "metadata": {},
   "outputs": [
    {
     "data": {
      "text/html": [
       "<div>\n",
       "<style scoped>\n",
       "    .dataframe tbody tr th:only-of-type {\n",
       "        vertical-align: middle;\n",
       "    }\n",
       "\n",
       "    .dataframe tbody tr th {\n",
       "        vertical-align: top;\n",
       "    }\n",
       "\n",
       "    .dataframe thead th {\n",
       "        text-align: right;\n",
       "    }\n",
       "</style>\n",
       "<table border=\"1\" class=\"dataframe\">\n",
       "  <thead>\n",
       "    <tr style=\"text-align: right;\">\n",
       "      <th></th>\n",
       "      <th>Instrument</th>\n",
       "      <th>Date</th>\n",
       "      <th>Earnings Per Share - Actual Surprise AbsVals</th>\n",
       "      <th>GICS Industry Group Name</th>\n",
       "      <th>Earnings Per Share – Coefficient of Variation</th>\n",
       "      <th>Market Capitalization</th>\n",
       "      <th>Revenue - Actual</th>\n",
       "      <th>Number of Analysts</th>\n",
       "      <th>Recommendation - Mean (1-5)</th>\n",
       "      <th>Recommendation change</th>\n",
       "      <th>...</th>\n",
       "      <th>Price Target - Standard Deviation</th>\n",
       "      <th>Enterprise Value To Sales (Daily Time Series Ratio)</th>\n",
       "      <th>3 Month Total Return</th>\n",
       "      <th>Volume</th>\n",
       "      <th>loss firm status</th>\n",
       "      <th>CBOE Crude Oil ETF Volatility Index</th>\n",
       "      <th>90-Day AA Financial Commercial Paper Interest Rate</th>\n",
       "      <th>Inflation Risk Premium</th>\n",
       "      <th>University of Michigan: Consumer Sentiment, Index 1966:Q1=100</th>\n",
       "      <th>Unemployment Rate</th>\n",
       "    </tr>\n",
       "  </thead>\n",
       "  <tbody>\n",
       "    <tr>\n",
       "      <th>0</th>\n",
       "      <td>AVY.N</td>\n",
       "      <td>2013-01-01</td>\n",
       "      <td>11.178</td>\n",
       "      <td>Materials</td>\n",
       "      <td>3.625620</td>\n",
       "      <td>3.426001e+09</td>\n",
       "      <td>1.532200e+09</td>\n",
       "      <td>7.0</td>\n",
       "      <td>3.00000</td>\n",
       "      <td>0.00000</td>\n",
       "      <td>...</td>\n",
       "      <td>2.44949</td>\n",
       "      <td>0.799347</td>\n",
       "      <td>10.637479</td>\n",
       "      <td>207295.0</td>\n",
       "      <td>-1</td>\n",
       "      <td>22.538500</td>\n",
       "      <td>0.166000</td>\n",
       "      <td>0.359537</td>\n",
       "      <td>76.666667</td>\n",
       "      <td>7.733333</td>\n",
       "    </tr>\n",
       "    <tr>\n",
       "      <th>1</th>\n",
       "      <td>AVY.N</td>\n",
       "      <td>2013-04-01</td>\n",
       "      <td>2.482</td>\n",
       "      <td>Materials</td>\n",
       "      <td>2.046169</td>\n",
       "      <td>4.309428e+09</td>\n",
       "      <td>1.498900e+09</td>\n",
       "      <td>7.0</td>\n",
       "      <td>2.87500</td>\n",
       "      <td>-0.12500</td>\n",
       "      <td>...</td>\n",
       "      <td>3.92272</td>\n",
       "      <td>0.895787</td>\n",
       "      <td>24.148726</td>\n",
       "      <td>0.0</td>\n",
       "      <td>-1</td>\n",
       "      <td>23.468125</td>\n",
       "      <td>0.143750</td>\n",
       "      <td>0.360572</td>\n",
       "      <td>81.666667</td>\n",
       "      <td>7.533333</td>\n",
       "    </tr>\n",
       "    <tr>\n",
       "      <th>2</th>\n",
       "      <td>AVY.N</td>\n",
       "      <td>2013-07-01</td>\n",
       "      <td>1.068</td>\n",
       "      <td>Materials</td>\n",
       "      <td>1.551601</td>\n",
       "      <td>4.258229e+09</td>\n",
       "      <td>1.552300e+09</td>\n",
       "      <td>8.0</td>\n",
       "      <td>2.87500</td>\n",
       "      <td>0.00000</td>\n",
       "      <td>...</td>\n",
       "      <td>4.30946</td>\n",
       "      <td>0.906078</td>\n",
       "      <td>-0.054218</td>\n",
       "      <td>0.0</td>\n",
       "      <td>-1</td>\n",
       "      <td>24.099219</td>\n",
       "      <td>0.125625</td>\n",
       "      <td>0.463789</td>\n",
       "      <td>81.566667</td>\n",
       "      <td>7.233333</td>\n",
       "    </tr>\n",
       "    <tr>\n",
       "      <th>3</th>\n",
       "      <td>AVY.N</td>\n",
       "      <td>2013-10-01</td>\n",
       "      <td>8.095</td>\n",
       "      <td>Materials</td>\n",
       "      <td>2.775994</td>\n",
       "      <td>4.273414e+09</td>\n",
       "      <td>1.504900e+09</td>\n",
       "      <td>7.0</td>\n",
       "      <td>2.62500</td>\n",
       "      <td>-0.25000</td>\n",
       "      <td>...</td>\n",
       "      <td>3.45230</td>\n",
       "      <td>0.903176</td>\n",
       "      <td>2.467620</td>\n",
       "      <td>236291.0</td>\n",
       "      <td>-1</td>\n",
       "      <td>19.740938</td>\n",
       "      <td>0.125806</td>\n",
       "      <td>0.441854</td>\n",
       "      <td>76.933333</td>\n",
       "      <td>6.933333</td>\n",
       "    </tr>\n",
       "    <tr>\n",
       "      <th>4</th>\n",
       "      <td>AVY.N</td>\n",
       "      <td>2014-01-01</td>\n",
       "      <td>1.471</td>\n",
       "      <td>Materials</td>\n",
       "      <td>3.204412</td>\n",
       "      <td>4.877168e+09</td>\n",
       "      <td>1.583900e+09</td>\n",
       "      <td>8.0</td>\n",
       "      <td>2.33333</td>\n",
       "      <td>-0.29167</td>\n",
       "      <td>...</td>\n",
       "      <td>3.42555</td>\n",
       "      <td>0.920659</td>\n",
       "      <td>16.003852</td>\n",
       "      <td>157761.0</td>\n",
       "      <td>-1</td>\n",
       "      <td>19.563770</td>\n",
       "      <td>0.126230</td>\n",
       "      <td>0.465460</td>\n",
       "      <td>80.933333</td>\n",
       "      <td>6.666667</td>\n",
       "    </tr>\n",
       "    <tr>\n",
       "      <th>...</th>\n",
       "      <td>...</td>\n",
       "      <td>...</td>\n",
       "      <td>...</td>\n",
       "      <td>...</td>\n",
       "      <td>...</td>\n",
       "      <td>...</td>\n",
       "      <td>...</td>\n",
       "      <td>...</td>\n",
       "      <td>...</td>\n",
       "      <td>...</td>\n",
       "      <td>...</td>\n",
       "      <td>...</td>\n",
       "      <td>...</td>\n",
       "      <td>...</td>\n",
       "      <td>...</td>\n",
       "      <td>...</td>\n",
       "      <td>...</td>\n",
       "      <td>...</td>\n",
       "      <td>...</td>\n",
       "      <td>...</td>\n",
       "      <td>...</td>\n",
       "    </tr>\n",
       "    <tr>\n",
       "      <th>19196</th>\n",
       "      <td>POOL.OQ</td>\n",
       "      <td>2021-10-01</td>\n",
       "      <td>17.194</td>\n",
       "      <td>Retailing</td>\n",
       "      <td>2.836295</td>\n",
       "      <td>1.742020e+10</td>\n",
       "      <td>1.411448e+09</td>\n",
       "      <td>8.0</td>\n",
       "      <td>2.30000</td>\n",
       "      <td>0.00000</td>\n",
       "      <td>...</td>\n",
       "      <td>50.48823</td>\n",
       "      <td>3.684400</td>\n",
       "      <td>-5.130322</td>\n",
       "      <td>157740.0</td>\n",
       "      <td>-1</td>\n",
       "      <td>43.036308</td>\n",
       "      <td>0.140755</td>\n",
       "      <td>0.382645</td>\n",
       "      <td>69.900000</td>\n",
       "      <td>4.200000</td>\n",
       "    </tr>\n",
       "    <tr>\n",
       "      <th>19197</th>\n",
       "      <td>POOL.OQ</td>\n",
       "      <td>2022-01-01</td>\n",
       "      <td>40.267</td>\n",
       "      <td>Retailing</td>\n",
       "      <td>3.269867</td>\n",
       "      <td>2.268979e+10</td>\n",
       "      <td>1.035557e+09</td>\n",
       "      <td>8.0</td>\n",
       "      <td>2.30000</td>\n",
       "      <td>0.00000</td>\n",
       "      <td>...</td>\n",
       "      <td>41.33833</td>\n",
       "      <td>4.504382</td>\n",
       "      <td>30.489705</td>\n",
       "      <td>82349.0</td>\n",
       "      <td>-1</td>\n",
       "      <td>52.695806</td>\n",
       "      <td>0.467234</td>\n",
       "      <td>0.380946</td>\n",
       "      <td>63.133333</td>\n",
       "      <td>3.800000</td>\n",
       "    </tr>\n",
       "    <tr>\n",
       "      <th>19198</th>\n",
       "      <td>POOL.OQ</td>\n",
       "      <td>2022-04-01</td>\n",
       "      <td>34.342</td>\n",
       "      <td>Retailing</td>\n",
       "      <td>6.630736</td>\n",
       "      <td>1.696712e+10</td>\n",
       "      <td>1.412650e+09</td>\n",
       "      <td>9.0</td>\n",
       "      <td>2.00000</td>\n",
       "      <td>-0.30000</td>\n",
       "      <td>...</td>\n",
       "      <td>37.49206</td>\n",
       "      <td>3.422880</td>\n",
       "      <td>-25.160664</td>\n",
       "      <td>290897.0</td>\n",
       "      <td>-1</td>\n",
       "      <td>50.457581</td>\n",
       "      <td>1.394118</td>\n",
       "      <td>0.495588</td>\n",
       "      <td>57.866667</td>\n",
       "      <td>3.600000</td>\n",
       "    </tr>\n",
       "    <tr>\n",
       "      <th>19199</th>\n",
       "      <td>POOL.OQ</td>\n",
       "      <td>2022-07-01</td>\n",
       "      <td>1.503</td>\n",
       "      <td>Retailing</td>\n",
       "      <td>3.625249</td>\n",
       "      <td>1.405795e+10</td>\n",
       "      <td>2.055818e+09</td>\n",
       "      <td>9.0</td>\n",
       "      <td>2.20000</td>\n",
       "      <td>0.20000</td>\n",
       "      <td>...</td>\n",
       "      <td>57.57373</td>\n",
       "      <td>2.749481</td>\n",
       "      <td>-21.661570</td>\n",
       "      <td>185584.0</td>\n",
       "      <td>-1</td>\n",
       "      <td>49.861562</td>\n",
       "      <td>2.885882</td>\n",
       "      <td>0.423045</td>\n",
       "      <td>56.100000</td>\n",
       "      <td>3.566667</td>\n",
       "    </tr>\n",
       "    <tr>\n",
       "      <th>19200</th>\n",
       "      <td>POOL.OQ</td>\n",
       "      <td>2022-10-01</td>\n",
       "      <td>4.196</td>\n",
       "      <td>Retailing</td>\n",
       "      <td>3.843706</td>\n",
       "      <td>1.259813e+10</td>\n",
       "      <td>1.615339e+09</td>\n",
       "      <td>10.0</td>\n",
       "      <td>2.27273</td>\n",
       "      <td>0.07273</td>\n",
       "      <td>...</td>\n",
       "      <td>24.95082</td>\n",
       "      <td>2.383926</td>\n",
       "      <td>-9.164375</td>\n",
       "      <td>238539.0</td>\n",
       "      <td>-1</td>\n",
       "      <td>47.000952</td>\n",
       "      <td>4.230000</td>\n",
       "      <td>0.535177</td>\n",
       "      <td>58.800000</td>\n",
       "      <td>3.600000</td>\n",
       "    </tr>\n",
       "  </tbody>\n",
       "</table>\n",
       "<p>19201 rows × 21 columns</p>\n",
       "</div>"
      ],
      "text/plain": [
       "      Instrument       Date  Earnings Per Share - Actual Surprise AbsVals  \\\n",
       "0          AVY.N 2013-01-01                                        11.178   \n",
       "1          AVY.N 2013-04-01                                         2.482   \n",
       "2          AVY.N 2013-07-01                                         1.068   \n",
       "3          AVY.N 2013-10-01                                         8.095   \n",
       "4          AVY.N 2014-01-01                                         1.471   \n",
       "...          ...        ...                                           ...   \n",
       "19196    POOL.OQ 2021-10-01                                        17.194   \n",
       "19197    POOL.OQ 2022-01-01                                        40.267   \n",
       "19198    POOL.OQ 2022-04-01                                        34.342   \n",
       "19199    POOL.OQ 2022-07-01                                         1.503   \n",
       "19200    POOL.OQ 2022-10-01                                         4.196   \n",
       "\n",
       "      GICS Industry Group Name  Earnings Per Share – Coefficient of Variation  \\\n",
       "0                    Materials                                       3.625620   \n",
       "1                    Materials                                       2.046169   \n",
       "2                    Materials                                       1.551601   \n",
       "3                    Materials                                       2.775994   \n",
       "4                    Materials                                       3.204412   \n",
       "...                        ...                                            ...   \n",
       "19196                Retailing                                       2.836295   \n",
       "19197                Retailing                                       3.269867   \n",
       "19198                Retailing                                       6.630736   \n",
       "19199                Retailing                                       3.625249   \n",
       "19200                Retailing                                       3.843706   \n",
       "\n",
       "       Market Capitalization  Revenue - Actual  Number of Analysts  \\\n",
       "0               3.426001e+09      1.532200e+09                 7.0   \n",
       "1               4.309428e+09      1.498900e+09                 7.0   \n",
       "2               4.258229e+09      1.552300e+09                 8.0   \n",
       "3               4.273414e+09      1.504900e+09                 7.0   \n",
       "4               4.877168e+09      1.583900e+09                 8.0   \n",
       "...                      ...               ...                 ...   \n",
       "19196           1.742020e+10      1.411448e+09                 8.0   \n",
       "19197           2.268979e+10      1.035557e+09                 8.0   \n",
       "19198           1.696712e+10      1.412650e+09                 9.0   \n",
       "19199           1.405795e+10      2.055818e+09                 9.0   \n",
       "19200           1.259813e+10      1.615339e+09                10.0   \n",
       "\n",
       "       Recommendation - Mean (1-5)  Recommendation change  ...  \\\n",
       "0                          3.00000                0.00000  ...   \n",
       "1                          2.87500               -0.12500  ...   \n",
       "2                          2.87500                0.00000  ...   \n",
       "3                          2.62500               -0.25000  ...   \n",
       "4                          2.33333               -0.29167  ...   \n",
       "...                            ...                    ...  ...   \n",
       "19196                      2.30000                0.00000  ...   \n",
       "19197                      2.30000                0.00000  ...   \n",
       "19198                      2.00000               -0.30000  ...   \n",
       "19199                      2.20000                0.20000  ...   \n",
       "19200                      2.27273                0.07273  ...   \n",
       "\n",
       "       Price Target - Standard Deviation  \\\n",
       "0                                2.44949   \n",
       "1                                3.92272   \n",
       "2                                4.30946   \n",
       "3                                3.45230   \n",
       "4                                3.42555   \n",
       "...                                  ...   \n",
       "19196                           50.48823   \n",
       "19197                           41.33833   \n",
       "19198                           37.49206   \n",
       "19199                           57.57373   \n",
       "19200                           24.95082   \n",
       "\n",
       "       Enterprise Value To Sales (Daily Time Series Ratio)  \\\n",
       "0                                               0.799347     \n",
       "1                                               0.895787     \n",
       "2                                               0.906078     \n",
       "3                                               0.903176     \n",
       "4                                               0.920659     \n",
       "...                                                  ...     \n",
       "19196                                           3.684400     \n",
       "19197                                           4.504382     \n",
       "19198                                           3.422880     \n",
       "19199                                           2.749481     \n",
       "19200                                           2.383926     \n",
       "\n",
       "       3 Month Total Return    Volume  loss firm status  \\\n",
       "0                 10.637479  207295.0                -1   \n",
       "1                 24.148726       0.0                -1   \n",
       "2                 -0.054218       0.0                -1   \n",
       "3                  2.467620  236291.0                -1   \n",
       "4                 16.003852  157761.0                -1   \n",
       "...                     ...       ...               ...   \n",
       "19196             -5.130322  157740.0                -1   \n",
       "19197             30.489705   82349.0                -1   \n",
       "19198            -25.160664  290897.0                -1   \n",
       "19199            -21.661570  185584.0                -1   \n",
       "19200             -9.164375  238539.0                -1   \n",
       "\n",
       "       CBOE Crude Oil ETF Volatility Index  \\\n",
       "0                                22.538500   \n",
       "1                                23.468125   \n",
       "2                                24.099219   \n",
       "3                                19.740938   \n",
       "4                                19.563770   \n",
       "...                                    ...   \n",
       "19196                            43.036308   \n",
       "19197                            52.695806   \n",
       "19198                            50.457581   \n",
       "19199                            49.861562   \n",
       "19200                            47.000952   \n",
       "\n",
       "       90-Day AA Financial Commercial Paper Interest Rate  \\\n",
       "0                                               0.166000    \n",
       "1                                               0.143750    \n",
       "2                                               0.125625    \n",
       "3                                               0.125806    \n",
       "4                                               0.126230    \n",
       "...                                                  ...    \n",
       "19196                                           0.140755    \n",
       "19197                                           0.467234    \n",
       "19198                                           1.394118    \n",
       "19199                                           2.885882    \n",
       "19200                                           4.230000    \n",
       "\n",
       "       Inflation Risk Premium  \\\n",
       "0                    0.359537   \n",
       "1                    0.360572   \n",
       "2                    0.463789   \n",
       "3                    0.441854   \n",
       "4                    0.465460   \n",
       "...                       ...   \n",
       "19196                0.382645   \n",
       "19197                0.380946   \n",
       "19198                0.495588   \n",
       "19199                0.423045   \n",
       "19200                0.535177   \n",
       "\n",
       "       University of Michigan: Consumer Sentiment, Index 1966:Q1=100  \\\n",
       "0                                              76.666667               \n",
       "1                                              81.666667               \n",
       "2                                              81.566667               \n",
       "3                                              76.933333               \n",
       "4                                              80.933333               \n",
       "...                                                  ...               \n",
       "19196                                          69.900000               \n",
       "19197                                          63.133333               \n",
       "19198                                          57.866667               \n",
       "19199                                          56.100000               \n",
       "19200                                          58.800000               \n",
       "\n",
       "       Unemployment Rate  \n",
       "0               7.733333  \n",
       "1               7.533333  \n",
       "2               7.233333  \n",
       "3               6.933333  \n",
       "4               6.666667  \n",
       "...                  ...  \n",
       "19196           4.200000  \n",
       "19197           3.800000  \n",
       "19198           3.600000  \n",
       "19199           3.566667  \n",
       "19200           3.600000  \n",
       "\n",
       "[19201 rows x 21 columns]"
      ]
     },
     "execution_count": 3,
     "metadata": {},
     "output_type": "execute_result"
    }
   ],
   "source": [
    "#decide which df to use\n",
    "df = pd.read_csv(\"economic_story_regression.csv\")\n",
    "#df = df.loc[:, [\"Instrument\", \"Date\", \"Earnings Per Share - Actual Surprise\", \"Revenue - Actual\", \"Net Income after Tax\"]]\n",
    "X_var_names = [\"Revenue - Actual\", \"Earnings Per Share - Actual Surprise\", \"Enterprise Value\", \"Earnings Per Share - Actual Surprise AbsVals\", \"Recommendation change\", \"Recommendation - Mean (1-5).1\", \"Recommendation - Mean (1-5)\"]\n",
    "df = df.drop([\"Earnings Per Share - Actual Surprise\"], axis=1)\n",
    "df['Date'] = pd.to_datetime(df['Date'], infer_datetime_format=True)\n",
    "df"
   ]
  },
  {
   "cell_type": "code",
   "execution_count": 4,
   "metadata": {},
   "outputs": [
    {
     "data": {
      "text/html": [
       "<div>\n",
       "<style scoped>\n",
       "    .dataframe tbody tr th:only-of-type {\n",
       "        vertical-align: middle;\n",
       "    }\n",
       "\n",
       "    .dataframe tbody tr th {\n",
       "        vertical-align: top;\n",
       "    }\n",
       "\n",
       "    .dataframe thead th {\n",
       "        text-align: right;\n",
       "    }\n",
       "</style>\n",
       "<table border=\"1\" class=\"dataframe\">\n",
       "  <thead>\n",
       "    <tr style=\"text-align: right;\">\n",
       "      <th></th>\n",
       "      <th>Instrument</th>\n",
       "      <th>Market Capitalization</th>\n",
       "      <th>Earnings Per Share - Actual Surprise AbsVals</th>\n",
       "    </tr>\n",
       "  </thead>\n",
       "  <tbody>\n",
       "    <tr>\n",
       "      <th>0</th>\n",
       "      <td>AVY.N</td>\n",
       "      <td>3.426001e+09</td>\n",
       "      <td>11.178</td>\n",
       "    </tr>\n",
       "    <tr>\n",
       "      <th>1</th>\n",
       "      <td>AVY.N</td>\n",
       "      <td>4.309428e+09</td>\n",
       "      <td>2.482</td>\n",
       "    </tr>\n",
       "    <tr>\n",
       "      <th>2</th>\n",
       "      <td>AVY.N</td>\n",
       "      <td>4.258229e+09</td>\n",
       "      <td>1.068</td>\n",
       "    </tr>\n",
       "    <tr>\n",
       "      <th>3</th>\n",
       "      <td>AVY.N</td>\n",
       "      <td>4.273414e+09</td>\n",
       "      <td>8.095</td>\n",
       "    </tr>\n",
       "    <tr>\n",
       "      <th>4</th>\n",
       "      <td>AVY.N</td>\n",
       "      <td>4.877168e+09</td>\n",
       "      <td>1.471</td>\n",
       "    </tr>\n",
       "    <tr>\n",
       "      <th>...</th>\n",
       "      <td>...</td>\n",
       "      <td>...</td>\n",
       "      <td>...</td>\n",
       "    </tr>\n",
       "    <tr>\n",
       "      <th>19196</th>\n",
       "      <td>POOL.OQ</td>\n",
       "      <td>1.742020e+10</td>\n",
       "      <td>17.194</td>\n",
       "    </tr>\n",
       "    <tr>\n",
       "      <th>19197</th>\n",
       "      <td>POOL.OQ</td>\n",
       "      <td>2.268979e+10</td>\n",
       "      <td>40.267</td>\n",
       "    </tr>\n",
       "    <tr>\n",
       "      <th>19198</th>\n",
       "      <td>POOL.OQ</td>\n",
       "      <td>1.696712e+10</td>\n",
       "      <td>34.342</td>\n",
       "    </tr>\n",
       "    <tr>\n",
       "      <th>19199</th>\n",
       "      <td>POOL.OQ</td>\n",
       "      <td>1.405795e+10</td>\n",
       "      <td>1.503</td>\n",
       "    </tr>\n",
       "    <tr>\n",
       "      <th>19200</th>\n",
       "      <td>POOL.OQ</td>\n",
       "      <td>1.259813e+10</td>\n",
       "      <td>4.196</td>\n",
       "    </tr>\n",
       "  </tbody>\n",
       "</table>\n",
       "<p>19201 rows × 3 columns</p>\n",
       "</div>"
      ],
      "text/plain": [
       "      Instrument  Market Capitalization  \\\n",
       "0          AVY.N           3.426001e+09   \n",
       "1          AVY.N           4.309428e+09   \n",
       "2          AVY.N           4.258229e+09   \n",
       "3          AVY.N           4.273414e+09   \n",
       "4          AVY.N           4.877168e+09   \n",
       "...          ...                    ...   \n",
       "19196    POOL.OQ           1.742020e+10   \n",
       "19197    POOL.OQ           2.268979e+10   \n",
       "19198    POOL.OQ           1.696712e+10   \n",
       "19199    POOL.OQ           1.405795e+10   \n",
       "19200    POOL.OQ           1.259813e+10   \n",
       "\n",
       "       Earnings Per Share - Actual Surprise AbsVals  \n",
       "0                                            11.178  \n",
       "1                                             2.482  \n",
       "2                                             1.068  \n",
       "3                                             8.095  \n",
       "4                                             1.471  \n",
       "...                                             ...  \n",
       "19196                                        17.194  \n",
       "19197                                        40.267  \n",
       "19198                                        34.342  \n",
       "19199                                         1.503  \n",
       "19200                                         4.196  \n",
       "\n",
       "[19201 rows x 3 columns]"
      ]
     },
     "execution_count": 4,
     "metadata": {},
     "output_type": "execute_result"
    }
   ],
   "source": [
    "market_cap = df.loc[:, [\"Instrument\", \"Market Capitalization\", \"Earnings Per Share - Actual Surprise AbsVals\"]]\n",
    "market_cap"
   ]
  },
  {
   "cell_type": "code",
   "execution_count": 5,
   "metadata": {},
   "outputs": [
    {
     "data": {
      "text/html": [
       "<div>\n",
       "<style scoped>\n",
       "    .dataframe tbody tr th:only-of-type {\n",
       "        vertical-align: middle;\n",
       "    }\n",
       "\n",
       "    .dataframe tbody tr th {\n",
       "        vertical-align: top;\n",
       "    }\n",
       "\n",
       "    .dataframe thead th {\n",
       "        text-align: right;\n",
       "    }\n",
       "</style>\n",
       "<table border=\"1\" class=\"dataframe\">\n",
       "  <thead>\n",
       "    <tr style=\"text-align: right;\">\n",
       "      <th></th>\n",
       "      <th>Market Capitalization</th>\n",
       "      <th>Earnings Per Share - Actual Surprise AbsVals</th>\n",
       "    </tr>\n",
       "  </thead>\n",
       "  <tbody>\n",
       "    <tr>\n",
       "      <th>count</th>\n",
       "      <td>1.916700e+04</td>\n",
       "      <td>19201.000000</td>\n",
       "    </tr>\n",
       "    <tr>\n",
       "      <th>mean</th>\n",
       "      <td>5.068830e+10</td>\n",
       "      <td>16.701591</td>\n",
       "    </tr>\n",
       "    <tr>\n",
       "      <th>std</th>\n",
       "      <td>1.208771e+11</td>\n",
       "      <td>36.689541</td>\n",
       "    </tr>\n",
       "    <tr>\n",
       "      <th>min</th>\n",
       "      <td>5.515891e+07</td>\n",
       "      <td>0.000000</td>\n",
       "    </tr>\n",
       "    <tr>\n",
       "      <th>25%</th>\n",
       "      <td>1.118462e+10</td>\n",
       "      <td>2.670000</td>\n",
       "    </tr>\n",
       "    <tr>\n",
       "      <th>50%</th>\n",
       "      <td>2.061773e+10</td>\n",
       "      <td>6.701000</td>\n",
       "    </tr>\n",
       "    <tr>\n",
       "      <th>75%</th>\n",
       "      <td>4.357074e+10</td>\n",
       "      <td>15.199000</td>\n",
       "    </tr>\n",
       "    <tr>\n",
       "      <th>max</th>\n",
       "      <td>2.892120e+12</td>\n",
       "      <td>503.622000</td>\n",
       "    </tr>\n",
       "  </tbody>\n",
       "</table>\n",
       "</div>"
      ],
      "text/plain": [
       "       Market Capitalization  Earnings Per Share - Actual Surprise AbsVals\n",
       "count           1.916700e+04                                  19201.000000\n",
       "mean            5.068830e+10                                     16.701591\n",
       "std             1.208771e+11                                     36.689541\n",
       "min             5.515891e+07                                      0.000000\n",
       "25%             1.118462e+10                                      2.670000\n",
       "50%             2.061773e+10                                      6.701000\n",
       "75%             4.357074e+10                                     15.199000\n",
       "max             2.892120e+12                                    503.622000"
      ]
     },
     "execution_count": 5,
     "metadata": {},
     "output_type": "execute_result"
    }
   ],
   "source": [
    "market_cap.describe()\n"
   ]
  },
  {
   "cell_type": "code",
   "execution_count": 6,
   "metadata": {},
   "outputs": [
    {
     "name": "stdout",
     "output_type": "stream",
     "text": [
      "                                    Market Capitalization  \\\n",
      "Quantile                                                    \n",
      "(55158913.559, 9732329856.736]               6.610057e+09   \n",
      "(9732329856.736, 16114044597.604]            1.277114e+10   \n",
      "(16114044597.604, 26682703036.1]             2.087249e+10   \n",
      "(26682703036.1, 55069141311.072]             3.775314e+10   \n",
      "(55069141311.072, 2892119663160.0]           1.754136e+11   \n",
      "\n",
      "                                    Earnings Per Share - Actual Surprise AbsVals  \n",
      "Quantile                                                                          \n",
      "(55158913.559, 9732329856.736]                                         21.355055  \n",
      "(9732329856.736, 16114044597.604]                                      18.001306  \n",
      "(16114044597.604, 26682703036.1]                                       17.397387  \n",
      "(26682703036.1, 55069141311.072]                                       14.748064  \n",
      "(55069141311.072, 2892119663160.0]                                     11.791263  \n"
     ]
    }
   ],
   "source": [
    "# bin the market capitalization into quantiles\n",
    "market_cap['Quantile'] = pd.qcut(market_cap['Market Capitalization'], q=5)\n",
    "\n",
    "# group by quantile and calculate the average market capitalization and EPS surprise\n",
    "grouped_data1 = market_cap.groupby('Quantile').agg({'Market Capitalization': 'mean', \n",
    "                                                    'Earnings Per Share - Actual Surprise AbsVals': 'mean'})\n",
    "\n",
    "print(grouped_data1)"
   ]
  },
  {
   "cell_type": "code",
   "execution_count": 7,
   "metadata": {},
   "outputs": [
    {
     "data": {
      "application/vnd.plotly.v1+json": {
       "config": {
        "plotlyServerURL": "https://plot.ly"
       },
       "data": [
        {
         "alignmentgroup": "True",
         "hovertemplate": "Quantile=%{x}<br>Earnings Per Share - Actual Surprise AbsVals=%{y}<extra></extra>",
         "legendgroup": "",
         "marker": {
          "color": "#636efa",
          "pattern": {
           "shape": ""
          }
         },
         "name": "",
         "offsetgroup": "",
         "orientation": "v",
         "showlegend": false,
         "textposition": "auto",
         "type": "bar",
         "x": [
          "(55158913.559, 9732329856.736]",
          "(9732329856.736, 16114044597.604]",
          "(16114044597.604, 26682703036.1]",
          "(26682703036.1, 55069141311.072]",
          "(55069141311.072, 2892119663160.0]"
         ],
         "xaxis": "x",
         "y": [
          21.355054512258736,
          18.00130628750326,
          17.39738690320897,
          14.74806417949387,
          11.791262649973918
         ],
         "yaxis": "y"
        }
       ],
       "layout": {
        "barmode": "relative",
        "legend": {
         "tracegroupgap": 0
        },
        "template": {
         "data": {
          "bar": [
           {
            "error_x": {
             "color": "#2a3f5f"
            },
            "error_y": {
             "color": "#2a3f5f"
            },
            "marker": {
             "line": {
              "color": "#E5ECF6",
              "width": 0.5
             },
             "pattern": {
              "fillmode": "overlay",
              "size": 10,
              "solidity": 0.2
             }
            },
            "type": "bar"
           }
          ],
          "barpolar": [
           {
            "marker": {
             "line": {
              "color": "#E5ECF6",
              "width": 0.5
             },
             "pattern": {
              "fillmode": "overlay",
              "size": 10,
              "solidity": 0.2
             }
            },
            "type": "barpolar"
           }
          ],
          "carpet": [
           {
            "aaxis": {
             "endlinecolor": "#2a3f5f",
             "gridcolor": "white",
             "linecolor": "white",
             "minorgridcolor": "white",
             "startlinecolor": "#2a3f5f"
            },
            "baxis": {
             "endlinecolor": "#2a3f5f",
             "gridcolor": "white",
             "linecolor": "white",
             "minorgridcolor": "white",
             "startlinecolor": "#2a3f5f"
            },
            "type": "carpet"
           }
          ],
          "choropleth": [
           {
            "colorbar": {
             "outlinewidth": 0,
             "ticks": ""
            },
            "type": "choropleth"
           }
          ],
          "contour": [
           {
            "colorbar": {
             "outlinewidth": 0,
             "ticks": ""
            },
            "colorscale": [
             [
              0,
              "#0d0887"
             ],
             [
              0.1111111111111111,
              "#46039f"
             ],
             [
              0.2222222222222222,
              "#7201a8"
             ],
             [
              0.3333333333333333,
              "#9c179e"
             ],
             [
              0.4444444444444444,
              "#bd3786"
             ],
             [
              0.5555555555555556,
              "#d8576b"
             ],
             [
              0.6666666666666666,
              "#ed7953"
             ],
             [
              0.7777777777777778,
              "#fb9f3a"
             ],
             [
              0.8888888888888888,
              "#fdca26"
             ],
             [
              1,
              "#f0f921"
             ]
            ],
            "type": "contour"
           }
          ],
          "contourcarpet": [
           {
            "colorbar": {
             "outlinewidth": 0,
             "ticks": ""
            },
            "type": "contourcarpet"
           }
          ],
          "heatmap": [
           {
            "colorbar": {
             "outlinewidth": 0,
             "ticks": ""
            },
            "colorscale": [
             [
              0,
              "#0d0887"
             ],
             [
              0.1111111111111111,
              "#46039f"
             ],
             [
              0.2222222222222222,
              "#7201a8"
             ],
             [
              0.3333333333333333,
              "#9c179e"
             ],
             [
              0.4444444444444444,
              "#bd3786"
             ],
             [
              0.5555555555555556,
              "#d8576b"
             ],
             [
              0.6666666666666666,
              "#ed7953"
             ],
             [
              0.7777777777777778,
              "#fb9f3a"
             ],
             [
              0.8888888888888888,
              "#fdca26"
             ],
             [
              1,
              "#f0f921"
             ]
            ],
            "type": "heatmap"
           }
          ],
          "heatmapgl": [
           {
            "colorbar": {
             "outlinewidth": 0,
             "ticks": ""
            },
            "colorscale": [
             [
              0,
              "#0d0887"
             ],
             [
              0.1111111111111111,
              "#46039f"
             ],
             [
              0.2222222222222222,
              "#7201a8"
             ],
             [
              0.3333333333333333,
              "#9c179e"
             ],
             [
              0.4444444444444444,
              "#bd3786"
             ],
             [
              0.5555555555555556,
              "#d8576b"
             ],
             [
              0.6666666666666666,
              "#ed7953"
             ],
             [
              0.7777777777777778,
              "#fb9f3a"
             ],
             [
              0.8888888888888888,
              "#fdca26"
             ],
             [
              1,
              "#f0f921"
             ]
            ],
            "type": "heatmapgl"
           }
          ],
          "histogram": [
           {
            "marker": {
             "pattern": {
              "fillmode": "overlay",
              "size": 10,
              "solidity": 0.2
             }
            },
            "type": "histogram"
           }
          ],
          "histogram2d": [
           {
            "colorbar": {
             "outlinewidth": 0,
             "ticks": ""
            },
            "colorscale": [
             [
              0,
              "#0d0887"
             ],
             [
              0.1111111111111111,
              "#46039f"
             ],
             [
              0.2222222222222222,
              "#7201a8"
             ],
             [
              0.3333333333333333,
              "#9c179e"
             ],
             [
              0.4444444444444444,
              "#bd3786"
             ],
             [
              0.5555555555555556,
              "#d8576b"
             ],
             [
              0.6666666666666666,
              "#ed7953"
             ],
             [
              0.7777777777777778,
              "#fb9f3a"
             ],
             [
              0.8888888888888888,
              "#fdca26"
             ],
             [
              1,
              "#f0f921"
             ]
            ],
            "type": "histogram2d"
           }
          ],
          "histogram2dcontour": [
           {
            "colorbar": {
             "outlinewidth": 0,
             "ticks": ""
            },
            "colorscale": [
             [
              0,
              "#0d0887"
             ],
             [
              0.1111111111111111,
              "#46039f"
             ],
             [
              0.2222222222222222,
              "#7201a8"
             ],
             [
              0.3333333333333333,
              "#9c179e"
             ],
             [
              0.4444444444444444,
              "#bd3786"
             ],
             [
              0.5555555555555556,
              "#d8576b"
             ],
             [
              0.6666666666666666,
              "#ed7953"
             ],
             [
              0.7777777777777778,
              "#fb9f3a"
             ],
             [
              0.8888888888888888,
              "#fdca26"
             ],
             [
              1,
              "#f0f921"
             ]
            ],
            "type": "histogram2dcontour"
           }
          ],
          "mesh3d": [
           {
            "colorbar": {
             "outlinewidth": 0,
             "ticks": ""
            },
            "type": "mesh3d"
           }
          ],
          "parcoords": [
           {
            "line": {
             "colorbar": {
              "outlinewidth": 0,
              "ticks": ""
             }
            },
            "type": "parcoords"
           }
          ],
          "pie": [
           {
            "automargin": true,
            "type": "pie"
           }
          ],
          "scatter": [
           {
            "fillpattern": {
             "fillmode": "overlay",
             "size": 10,
             "solidity": 0.2
            },
            "type": "scatter"
           }
          ],
          "scatter3d": [
           {
            "line": {
             "colorbar": {
              "outlinewidth": 0,
              "ticks": ""
             }
            },
            "marker": {
             "colorbar": {
              "outlinewidth": 0,
              "ticks": ""
             }
            },
            "type": "scatter3d"
           }
          ],
          "scattercarpet": [
           {
            "marker": {
             "colorbar": {
              "outlinewidth": 0,
              "ticks": ""
             }
            },
            "type": "scattercarpet"
           }
          ],
          "scattergeo": [
           {
            "marker": {
             "colorbar": {
              "outlinewidth": 0,
              "ticks": ""
             }
            },
            "type": "scattergeo"
           }
          ],
          "scattergl": [
           {
            "marker": {
             "colorbar": {
              "outlinewidth": 0,
              "ticks": ""
             }
            },
            "type": "scattergl"
           }
          ],
          "scattermapbox": [
           {
            "marker": {
             "colorbar": {
              "outlinewidth": 0,
              "ticks": ""
             }
            },
            "type": "scattermapbox"
           }
          ],
          "scatterpolar": [
           {
            "marker": {
             "colorbar": {
              "outlinewidth": 0,
              "ticks": ""
             }
            },
            "type": "scatterpolar"
           }
          ],
          "scatterpolargl": [
           {
            "marker": {
             "colorbar": {
              "outlinewidth": 0,
              "ticks": ""
             }
            },
            "type": "scatterpolargl"
           }
          ],
          "scatterternary": [
           {
            "marker": {
             "colorbar": {
              "outlinewidth": 0,
              "ticks": ""
             }
            },
            "type": "scatterternary"
           }
          ],
          "surface": [
           {
            "colorbar": {
             "outlinewidth": 0,
             "ticks": ""
            },
            "colorscale": [
             [
              0,
              "#0d0887"
             ],
             [
              0.1111111111111111,
              "#46039f"
             ],
             [
              0.2222222222222222,
              "#7201a8"
             ],
             [
              0.3333333333333333,
              "#9c179e"
             ],
             [
              0.4444444444444444,
              "#bd3786"
             ],
             [
              0.5555555555555556,
              "#d8576b"
             ],
             [
              0.6666666666666666,
              "#ed7953"
             ],
             [
              0.7777777777777778,
              "#fb9f3a"
             ],
             [
              0.8888888888888888,
              "#fdca26"
             ],
             [
              1,
              "#f0f921"
             ]
            ],
            "type": "surface"
           }
          ],
          "table": [
           {
            "cells": {
             "fill": {
              "color": "#EBF0F8"
             },
             "line": {
              "color": "white"
             }
            },
            "header": {
             "fill": {
              "color": "#C8D4E3"
             },
             "line": {
              "color": "white"
             }
            },
            "type": "table"
           }
          ]
         },
         "layout": {
          "annotationdefaults": {
           "arrowcolor": "#2a3f5f",
           "arrowhead": 0,
           "arrowwidth": 1
          },
          "autotypenumbers": "strict",
          "coloraxis": {
           "colorbar": {
            "outlinewidth": 0,
            "ticks": ""
           }
          },
          "colorscale": {
           "diverging": [
            [
             0,
             "#8e0152"
            ],
            [
             0.1,
             "#c51b7d"
            ],
            [
             0.2,
             "#de77ae"
            ],
            [
             0.3,
             "#f1b6da"
            ],
            [
             0.4,
             "#fde0ef"
            ],
            [
             0.5,
             "#f7f7f7"
            ],
            [
             0.6,
             "#e6f5d0"
            ],
            [
             0.7,
             "#b8e186"
            ],
            [
             0.8,
             "#7fbc41"
            ],
            [
             0.9,
             "#4d9221"
            ],
            [
             1,
             "#276419"
            ]
           ],
           "sequential": [
            [
             0,
             "#0d0887"
            ],
            [
             0.1111111111111111,
             "#46039f"
            ],
            [
             0.2222222222222222,
             "#7201a8"
            ],
            [
             0.3333333333333333,
             "#9c179e"
            ],
            [
             0.4444444444444444,
             "#bd3786"
            ],
            [
             0.5555555555555556,
             "#d8576b"
            ],
            [
             0.6666666666666666,
             "#ed7953"
            ],
            [
             0.7777777777777778,
             "#fb9f3a"
            ],
            [
             0.8888888888888888,
             "#fdca26"
            ],
            [
             1,
             "#f0f921"
            ]
           ],
           "sequentialminus": [
            [
             0,
             "#0d0887"
            ],
            [
             0.1111111111111111,
             "#46039f"
            ],
            [
             0.2222222222222222,
             "#7201a8"
            ],
            [
             0.3333333333333333,
             "#9c179e"
            ],
            [
             0.4444444444444444,
             "#bd3786"
            ],
            [
             0.5555555555555556,
             "#d8576b"
            ],
            [
             0.6666666666666666,
             "#ed7953"
            ],
            [
             0.7777777777777778,
             "#fb9f3a"
            ],
            [
             0.8888888888888888,
             "#fdca26"
            ],
            [
             1,
             "#f0f921"
            ]
           ]
          },
          "colorway": [
           "#636efa",
           "#EF553B",
           "#00cc96",
           "#ab63fa",
           "#FFA15A",
           "#19d3f3",
           "#FF6692",
           "#B6E880",
           "#FF97FF",
           "#FECB52"
          ],
          "font": {
           "color": "#2a3f5f"
          },
          "geo": {
           "bgcolor": "white",
           "lakecolor": "white",
           "landcolor": "#E5ECF6",
           "showlakes": true,
           "showland": true,
           "subunitcolor": "white"
          },
          "hoverlabel": {
           "align": "left"
          },
          "hovermode": "closest",
          "mapbox": {
           "style": "light"
          },
          "paper_bgcolor": "white",
          "plot_bgcolor": "#E5ECF6",
          "polar": {
           "angularaxis": {
            "gridcolor": "white",
            "linecolor": "white",
            "ticks": ""
           },
           "bgcolor": "#E5ECF6",
           "radialaxis": {
            "gridcolor": "white",
            "linecolor": "white",
            "ticks": ""
           }
          },
          "scene": {
           "xaxis": {
            "backgroundcolor": "#E5ECF6",
            "gridcolor": "white",
            "gridwidth": 2,
            "linecolor": "white",
            "showbackground": true,
            "ticks": "",
            "zerolinecolor": "white"
           },
           "yaxis": {
            "backgroundcolor": "#E5ECF6",
            "gridcolor": "white",
            "gridwidth": 2,
            "linecolor": "white",
            "showbackground": true,
            "ticks": "",
            "zerolinecolor": "white"
           },
           "zaxis": {
            "backgroundcolor": "#E5ECF6",
            "gridcolor": "white",
            "gridwidth": 2,
            "linecolor": "white",
            "showbackground": true,
            "ticks": "",
            "zerolinecolor": "white"
           }
          },
          "shapedefaults": {
           "line": {
            "color": "#2a3f5f"
           }
          },
          "ternary": {
           "aaxis": {
            "gridcolor": "white",
            "linecolor": "white",
            "ticks": ""
           },
           "baxis": {
            "gridcolor": "white",
            "linecolor": "white",
            "ticks": ""
           },
           "bgcolor": "#E5ECF6",
           "caxis": {
            "gridcolor": "white",
            "linecolor": "white",
            "ticks": ""
           }
          },
          "title": {
           "x": 0.05
          },
          "xaxis": {
           "automargin": true,
           "gridcolor": "white",
           "linecolor": "white",
           "ticks": "",
           "title": {
            "standoff": 15
           },
           "zerolinecolor": "white",
           "zerolinewidth": 2
          },
          "yaxis": {
           "automargin": true,
           "gridcolor": "white",
           "linecolor": "white",
           "ticks": "",
           "title": {
            "standoff": 15
           },
           "zerolinecolor": "white",
           "zerolinewidth": 2
          }
         }
        },
        "title": {
         "text": "Mean EPS surprise by Market Capitalization Quantile"
        },
        "xaxis": {
         "anchor": "y",
         "domain": [
          0,
          1
         ],
         "tickmode": "array",
         "ticktext": [
          "Quantile 1",
          "Quantile 2",
          "Quantile 3",
          "Quantile 4",
          "Quantile 5"
         ],
         "tickvals": [
          0,
          1,
          2,
          3,
          4
         ],
         "title": {
          "text": "Quantile"
         }
        },
        "yaxis": {
         "anchor": "x",
         "domain": [
          0,
          1
         ],
         "title": {
          "text": "Earnings Per Share - Actual Surprise AbsVals"
         }
        }
       }
      }
     },
     "metadata": {},
     "output_type": "display_data"
    }
   ],
   "source": [
    "grouped_data1['Quantile'] = grouped_data1.index.astype(str)\n",
    "\n",
    "# create a bar plot of the mean EPS surprise by quantile\n",
    "fig1 = px.bar(grouped_data1, x='Quantile', y='Earnings Per Share - Actual Surprise AbsVals',\n",
    "             title='Mean EPS surprise by Market Capitalization Quantile')\n",
    "fig1.update_layout(\n",
    "    xaxis = dict(\n",
    "        tickmode = 'array',\n",
    "        tickvals = [0,1,2,3,4],\n",
    "        ticktext = ['Quantile 1', 'Quantile 2', 'Quantile 3', 'Quantile 4', 'Quantile 5']\n",
    "    )\n",
    ")\n",
    "fig1.show()"
   ]
  },
  {
   "cell_type": "code",
   "execution_count": 8,
   "metadata": {},
   "outputs": [
    {
     "data": {
      "text/html": [
       "<div>\n",
       "<style scoped>\n",
       "    .dataframe tbody tr th:only-of-type {\n",
       "        vertical-align: middle;\n",
       "    }\n",
       "\n",
       "    .dataframe tbody tr th {\n",
       "        vertical-align: top;\n",
       "    }\n",
       "\n",
       "    .dataframe thead th {\n",
       "        text-align: right;\n",
       "    }\n",
       "</style>\n",
       "<table border=\"1\" class=\"dataframe\">\n",
       "  <thead>\n",
       "    <tr style=\"text-align: right;\">\n",
       "      <th></th>\n",
       "      <th>Instrument</th>\n",
       "      <th>Revenue - Actual</th>\n",
       "      <th>Earnings Per Share - Actual Surprise AbsVals</th>\n",
       "    </tr>\n",
       "  </thead>\n",
       "  <tbody>\n",
       "    <tr>\n",
       "      <th>0</th>\n",
       "      <td>AVY.N</td>\n",
       "      <td>1.532200e+09</td>\n",
       "      <td>11.178</td>\n",
       "    </tr>\n",
       "    <tr>\n",
       "      <th>1</th>\n",
       "      <td>AVY.N</td>\n",
       "      <td>1.498900e+09</td>\n",
       "      <td>2.482</td>\n",
       "    </tr>\n",
       "    <tr>\n",
       "      <th>2</th>\n",
       "      <td>AVY.N</td>\n",
       "      <td>1.552300e+09</td>\n",
       "      <td>1.068</td>\n",
       "    </tr>\n",
       "    <tr>\n",
       "      <th>3</th>\n",
       "      <td>AVY.N</td>\n",
       "      <td>1.504900e+09</td>\n",
       "      <td>8.095</td>\n",
       "    </tr>\n",
       "    <tr>\n",
       "      <th>4</th>\n",
       "      <td>AVY.N</td>\n",
       "      <td>1.583900e+09</td>\n",
       "      <td>1.471</td>\n",
       "    </tr>\n",
       "    <tr>\n",
       "      <th>...</th>\n",
       "      <td>...</td>\n",
       "      <td>...</td>\n",
       "      <td>...</td>\n",
       "    </tr>\n",
       "    <tr>\n",
       "      <th>19196</th>\n",
       "      <td>POOL.OQ</td>\n",
       "      <td>1.411448e+09</td>\n",
       "      <td>17.194</td>\n",
       "    </tr>\n",
       "    <tr>\n",
       "      <th>19197</th>\n",
       "      <td>POOL.OQ</td>\n",
       "      <td>1.035557e+09</td>\n",
       "      <td>40.267</td>\n",
       "    </tr>\n",
       "    <tr>\n",
       "      <th>19198</th>\n",
       "      <td>POOL.OQ</td>\n",
       "      <td>1.412650e+09</td>\n",
       "      <td>34.342</td>\n",
       "    </tr>\n",
       "    <tr>\n",
       "      <th>19199</th>\n",
       "      <td>POOL.OQ</td>\n",
       "      <td>2.055818e+09</td>\n",
       "      <td>1.503</td>\n",
       "    </tr>\n",
       "    <tr>\n",
       "      <th>19200</th>\n",
       "      <td>POOL.OQ</td>\n",
       "      <td>1.615339e+09</td>\n",
       "      <td>4.196</td>\n",
       "    </tr>\n",
       "  </tbody>\n",
       "</table>\n",
       "<p>19201 rows × 3 columns</p>\n",
       "</div>"
      ],
      "text/plain": [
       "      Instrument  Revenue - Actual  \\\n",
       "0          AVY.N      1.532200e+09   \n",
       "1          AVY.N      1.498900e+09   \n",
       "2          AVY.N      1.552300e+09   \n",
       "3          AVY.N      1.504900e+09   \n",
       "4          AVY.N      1.583900e+09   \n",
       "...          ...               ...   \n",
       "19196    POOL.OQ      1.411448e+09   \n",
       "19197    POOL.OQ      1.035557e+09   \n",
       "19198    POOL.OQ      1.412650e+09   \n",
       "19199    POOL.OQ      2.055818e+09   \n",
       "19200    POOL.OQ      1.615339e+09   \n",
       "\n",
       "       Earnings Per Share - Actual Surprise AbsVals  \n",
       "0                                            11.178  \n",
       "1                                             2.482  \n",
       "2                                             1.068  \n",
       "3                                             8.095  \n",
       "4                                             1.471  \n",
       "...                                             ...  \n",
       "19196                                        17.194  \n",
       "19197                                        40.267  \n",
       "19198                                        34.342  \n",
       "19199                                         1.503  \n",
       "19200                                         4.196  \n",
       "\n",
       "[19201 rows x 3 columns]"
      ]
     },
     "execution_count": 8,
     "metadata": {},
     "output_type": "execute_result"
    }
   ],
   "source": [
    "revenue = df.loc[:, [\"Instrument\", \"Revenue - Actual\", \"Earnings Per Share - Actual Surprise AbsVals\"]]\n",
    "revenue"
   ]
  },
  {
   "cell_type": "code",
   "execution_count": 10,
   "metadata": {},
   "outputs": [
    {
     "ename": "ValueError",
     "evalue": "Quantiles must be in the range [0, 1]",
     "output_type": "error",
     "traceback": [
      "\u001b[0;31m---------------------------------------------------------------------------\u001b[0m",
      "\u001b[0;31mValueError\u001b[0m                                Traceback (most recent call last)",
      "Cell \u001b[0;32mIn[10], line 2\u001b[0m\n\u001b[1;32m      1\u001b[0m quantiles \u001b[39m=\u001b[39m [\u001b[39mfloat\u001b[39m(\u001b[39m'\u001b[39m\u001b[39m-inf\u001b[39m\u001b[39m'\u001b[39m), \u001b[39m0\u001b[39m] \u001b[39m+\u001b[39m [x\u001b[39m/\u001b[39m\u001b[39m5\u001b[39m \u001b[39mfor\u001b[39;00m x \u001b[39min\u001b[39;00m \u001b[39mrange\u001b[39m(\u001b[39m1\u001b[39m, \u001b[39m6\u001b[39m)]\n\u001b[0;32m----> 2\u001b[0m revenue[\u001b[39m'\u001b[39m\u001b[39mQuantile\u001b[39m\u001b[39m'\u001b[39m] \u001b[39m=\u001b[39m pd\u001b[39m.\u001b[39;49mqcut(revenue[\u001b[39m'\u001b[39;49m\u001b[39mRevenue - Actual\u001b[39;49m\u001b[39m'\u001b[39;49m], q\u001b[39m=\u001b[39;49mquantiles)\n\u001b[1;32m      4\u001b[0m \u001b[39m# group by quantile and calculate the average market capitalization and EPS surprise\u001b[39;00m\n\u001b[1;32m      5\u001b[0m grouped_data2 \u001b[39m=\u001b[39m revenue\u001b[39m.\u001b[39mgroupby(\u001b[39m'\u001b[39m\u001b[39mQuantile\u001b[39m\u001b[39m'\u001b[39m)\u001b[39m.\u001b[39magg({\u001b[39m'\u001b[39m\u001b[39mRevenue - Actual\u001b[39m\u001b[39m'\u001b[39m: \u001b[39m'\u001b[39m\u001b[39mmean\u001b[39m\u001b[39m'\u001b[39m, \n\u001b[1;32m      6\u001b[0m                                                  \u001b[39m'\u001b[39m\u001b[39mEarnings Per Share - Actual Surprise AbsVals\u001b[39m\u001b[39m'\u001b[39m: \u001b[39m'\u001b[39m\u001b[39mmean\u001b[39m\u001b[39m'\u001b[39m})\n",
      "File \u001b[0;32m/opt/homebrew/Caskroom/mambaforge/base/envs/AnalystForecast/lib/python3.11/site-packages/pandas/core/reshape/tile.py:377\u001b[0m, in \u001b[0;36mqcut\u001b[0;34m(x, q, labels, retbins, precision, duplicates)\u001b[0m\n\u001b[1;32m    375\u001b[0m x_np \u001b[39m=\u001b[39m np\u001b[39m.\u001b[39masarray(x)\n\u001b[1;32m    376\u001b[0m x_np \u001b[39m=\u001b[39m x_np[\u001b[39m~\u001b[39mnp\u001b[39m.\u001b[39misnan(x_np)]\n\u001b[0;32m--> 377\u001b[0m bins \u001b[39m=\u001b[39m np\u001b[39m.\u001b[39;49mquantile(x_np, quantiles)\n\u001b[1;32m    379\u001b[0m fac, bins \u001b[39m=\u001b[39m _bins_to_cuts(\n\u001b[1;32m    380\u001b[0m     x,\n\u001b[1;32m    381\u001b[0m     bins,\n\u001b[0;32m   (...)\u001b[0m\n\u001b[1;32m    386\u001b[0m     duplicates\u001b[39m=\u001b[39mduplicates,\n\u001b[1;32m    387\u001b[0m )\n\u001b[1;32m    389\u001b[0m \u001b[39mreturn\u001b[39;00m _postprocess_for_cut(fac, bins, retbins, dtype, original)\n",
      "File \u001b[0;32m<__array_function__ internals>:200\u001b[0m, in \u001b[0;36mquantile\u001b[0;34m(*args, **kwargs)\u001b[0m\n",
      "File \u001b[0;32m/opt/homebrew/Caskroom/mambaforge/base/envs/AnalystForecast/lib/python3.11/site-packages/numpy/lib/function_base.py:4460\u001b[0m, in \u001b[0;36mquantile\u001b[0;34m(a, q, axis, out, overwrite_input, method, keepdims, interpolation)\u001b[0m\n\u001b[1;32m   4458\u001b[0m q \u001b[39m=\u001b[39m np\u001b[39m.\u001b[39masanyarray(q)\n\u001b[1;32m   4459\u001b[0m \u001b[39mif\u001b[39;00m \u001b[39mnot\u001b[39;00m _quantile_is_valid(q):\n\u001b[0;32m-> 4460\u001b[0m     \u001b[39mraise\u001b[39;00m \u001b[39mValueError\u001b[39;00m(\u001b[39m\"\u001b[39m\u001b[39mQuantiles must be in the range [0, 1]\u001b[39m\u001b[39m\"\u001b[39m)\n\u001b[1;32m   4461\u001b[0m \u001b[39mreturn\u001b[39;00m _quantile_unchecked(\n\u001b[1;32m   4462\u001b[0m     a, q, axis, out, overwrite_input, method, keepdims)\n",
      "\u001b[0;31mValueError\u001b[0m: Quantiles must be in the range [0, 1]"
     ]
    }
   ],
   "source": [
    "quantiles = [float('-inf'), 0] + [x/5 for x in range(1, 6)]\n",
    "revenue['Quantile'] = pd.qcut(revenue['Revenue - Actual'], q=quantiles)\n",
    "\n",
    "# group by quantile and calculate the average market capitalization and EPS surprise\n",
    "grouped_data2 = revenue.groupby('Quantile').agg({'Revenue - Actual': 'mean', \n",
    "                                                 'Earnings Per Share - Actual Surprise AbsVals': 'mean'})\n",
    "\n",
    "print(grouped_data2)\n"
   ]
  },
  {
   "cell_type": "code",
   "execution_count": 12,
   "metadata": {},
   "outputs": [
    {
     "name": "stdout",
     "output_type": "stream",
     "text": [
      "            Revenue - Actual  Earnings Per Share - Actual Surprise AbsVals\n",
      "Quantile                                                                  \n",
      "Negative       -3.047563e+09                                     11.087000\n",
      "Quantile_1      4.773233e+08                                     24.777043\n",
      "Quantile_2      1.238090e+09                                     16.441647\n",
      "Quantile_3      2.377549e+09                                     15.951241\n",
      "Quantile_4      4.411557e+09                                     11.766686\n",
      "Quantile_5      2.120203e+10                                     14.627472\n"
     ]
    },
    {
     "name": "stderr",
     "output_type": "stream",
     "text": [
      "/var/folders/48/zl9xdnts1pgch2fdmc_lcyl40000gn/T/ipykernel_2625/2037627093.py:6: SettingWithCopyWarning:\n",
      "\n",
      "\n",
      "A value is trying to be set on a copy of a slice from a DataFrame.\n",
      "Try using .loc[row_indexer,col_indexer] = value instead\n",
      "\n",
      "See the caveats in the documentation: https://pandas.pydata.org/pandas-docs/stable/user_guide/indexing.html#returning-a-view-versus-a-copy\n",
      "\n",
      "/var/folders/48/zl9xdnts1pgch2fdmc_lcyl40000gn/T/ipykernel_2625/2037627093.py:7: SettingWithCopyWarning:\n",
      "\n",
      "\n",
      "A value is trying to be set on a copy of a slice from a DataFrame.\n",
      "Try using .loc[row_indexer,col_indexer] = value instead\n",
      "\n",
      "See the caveats in the documentation: https://pandas.pydata.org/pandas-docs/stable/user_guide/indexing.html#returning-a-view-versus-a-copy\n",
      "\n"
     ]
    }
   ],
   "source": [
    "revenue_neg = revenue[revenue['Revenue - Actual'] < 0]\n",
    "revenue_pos = revenue[revenue['Revenue - Actual'] >= 0]\n",
    "quantiles = [0] + [i/5 for i in range(1,6)]\n",
    "labels = ['Negative'] + [f'Quantile_{i}' for i in range(1,6)]\n",
    "\n",
    "revenue_neg['Quantile'] = labels[0]\n",
    "revenue_pos['Quantile'] = pd.qcut(revenue_pos['Revenue - Actual'], q=quantiles, labels=labels[1:])\n",
    "\n",
    "revenue = pd.concat([revenue_neg, revenue_pos], axis=0)\n",
    "\n",
    "# group by quantile and calculate the average market capitalization and EPS surprise\n",
    "grouped_data2 = revenue.groupby('Quantile').agg({'Revenue - Actual': 'mean', \n",
    "                                                 'Earnings Per Share - Actual Surprise AbsVals': 'mean'})\n",
    "\n",
    "print(grouped_data2)\n"
   ]
  },
  {
   "cell_type": "code",
   "execution_count": 29,
   "metadata": {},
   "outputs": [
    {
     "data": {
      "text/html": [
       "<div>\n",
       "<style scoped>\n",
       "    .dataframe tbody tr th:only-of-type {\n",
       "        vertical-align: middle;\n",
       "    }\n",
       "\n",
       "    .dataframe tbody tr th {\n",
       "        vertical-align: top;\n",
       "    }\n",
       "\n",
       "    .dataframe thead th {\n",
       "        text-align: right;\n",
       "    }\n",
       "</style>\n",
       "<table border=\"1\" class=\"dataframe\">\n",
       "  <thead>\n",
       "    <tr style=\"text-align: right;\">\n",
       "      <th></th>\n",
       "      <th>Instrument</th>\n",
       "      <th>Earnings Per Share – Coefficient of Variation</th>\n",
       "      <th>Earnings Per Share - Actual Surprise AbsVals</th>\n",
       "    </tr>\n",
       "  </thead>\n",
       "  <tbody>\n",
       "    <tr>\n",
       "      <th>0</th>\n",
       "      <td>AVY.N</td>\n",
       "      <td>3.625620</td>\n",
       "      <td>11.178</td>\n",
       "    </tr>\n",
       "    <tr>\n",
       "      <th>1</th>\n",
       "      <td>AVY.N</td>\n",
       "      <td>2.046169</td>\n",
       "      <td>2.482</td>\n",
       "    </tr>\n",
       "    <tr>\n",
       "      <th>2</th>\n",
       "      <td>AVY.N</td>\n",
       "      <td>1.551601</td>\n",
       "      <td>1.068</td>\n",
       "    </tr>\n",
       "    <tr>\n",
       "      <th>3</th>\n",
       "      <td>AVY.N</td>\n",
       "      <td>2.775994</td>\n",
       "      <td>8.095</td>\n",
       "    </tr>\n",
       "    <tr>\n",
       "      <th>4</th>\n",
       "      <td>AVY.N</td>\n",
       "      <td>3.204412</td>\n",
       "      <td>1.471</td>\n",
       "    </tr>\n",
       "    <tr>\n",
       "      <th>...</th>\n",
       "      <td>...</td>\n",
       "      <td>...</td>\n",
       "      <td>...</td>\n",
       "    </tr>\n",
       "    <tr>\n",
       "      <th>19196</th>\n",
       "      <td>POOL.OQ</td>\n",
       "      <td>2.836295</td>\n",
       "      <td>17.194</td>\n",
       "    </tr>\n",
       "    <tr>\n",
       "      <th>19197</th>\n",
       "      <td>POOL.OQ</td>\n",
       "      <td>3.269867</td>\n",
       "      <td>40.267</td>\n",
       "    </tr>\n",
       "    <tr>\n",
       "      <th>19198</th>\n",
       "      <td>POOL.OQ</td>\n",
       "      <td>6.630736</td>\n",
       "      <td>34.342</td>\n",
       "    </tr>\n",
       "    <tr>\n",
       "      <th>19199</th>\n",
       "      <td>POOL.OQ</td>\n",
       "      <td>3.625249</td>\n",
       "      <td>1.503</td>\n",
       "    </tr>\n",
       "    <tr>\n",
       "      <th>19200</th>\n",
       "      <td>POOL.OQ</td>\n",
       "      <td>3.843706</td>\n",
       "      <td>4.196</td>\n",
       "    </tr>\n",
       "  </tbody>\n",
       "</table>\n",
       "<p>19201 rows × 3 columns</p>\n",
       "</div>"
      ],
      "text/plain": [
       "      Instrument  Earnings Per Share – Coefficient of Variation  \\\n",
       "0          AVY.N                                       3.625620   \n",
       "1          AVY.N                                       2.046169   \n",
       "2          AVY.N                                       1.551601   \n",
       "3          AVY.N                                       2.775994   \n",
       "4          AVY.N                                       3.204412   \n",
       "...          ...                                            ...   \n",
       "19196    POOL.OQ                                       2.836295   \n",
       "19197    POOL.OQ                                       3.269867   \n",
       "19198    POOL.OQ                                       6.630736   \n",
       "19199    POOL.OQ                                       3.625249   \n",
       "19200    POOL.OQ                                       3.843706   \n",
       "\n",
       "       Earnings Per Share - Actual Surprise AbsVals  \n",
       "0                                            11.178  \n",
       "1                                             2.482  \n",
       "2                                             1.068  \n",
       "3                                             8.095  \n",
       "4                                             1.471  \n",
       "...                                             ...  \n",
       "19196                                        17.194  \n",
       "19197                                        40.267  \n",
       "19198                                        34.342  \n",
       "19199                                         1.503  \n",
       "19200                                         4.196  \n",
       "\n",
       "[19201 rows x 3 columns]"
      ]
     },
     "execution_count": 29,
     "metadata": {},
     "output_type": "execute_result"
    }
   ],
   "source": [
    "eps_variation = df.loc[:, [\"Instrument\", \"Earnings Per Share – Coefficient of Variation\", \"Earnings Per Share - Actual Surprise AbsVals\"]]\n",
    "eps_variation"
   ]
  },
  {
   "cell_type": "code",
   "execution_count": 30,
   "metadata": {},
   "outputs": [
    {
     "data": {
      "text/html": [
       "<div>\n",
       "<style scoped>\n",
       "    .dataframe tbody tr th:only-of-type {\n",
       "        vertical-align: middle;\n",
       "    }\n",
       "\n",
       "    .dataframe tbody tr th {\n",
       "        vertical-align: top;\n",
       "    }\n",
       "\n",
       "    .dataframe thead th {\n",
       "        text-align: right;\n",
       "    }\n",
       "</style>\n",
       "<table border=\"1\" class=\"dataframe\">\n",
       "  <thead>\n",
       "    <tr style=\"text-align: right;\">\n",
       "      <th></th>\n",
       "      <th>Earnings Per Share – Coefficient of Variation</th>\n",
       "      <th>Earnings Per Share - Actual Surprise AbsVals</th>\n",
       "    </tr>\n",
       "  </thead>\n",
       "  <tbody>\n",
       "    <tr>\n",
       "      <th>count</th>\n",
       "      <td>19201.000000</td>\n",
       "      <td>19201.000000</td>\n",
       "    </tr>\n",
       "    <tr>\n",
       "      <th>mean</th>\n",
       "      <td>5.705246</td>\n",
       "      <td>16.701591</td>\n",
       "    </tr>\n",
       "    <tr>\n",
       "      <th>std</th>\n",
       "      <td>32.707179</td>\n",
       "      <td>36.689541</td>\n",
       "    </tr>\n",
       "    <tr>\n",
       "      <th>min</th>\n",
       "      <td>-1025.000000</td>\n",
       "      <td>0.000000</td>\n",
       "    </tr>\n",
       "    <tr>\n",
       "      <th>25%</th>\n",
       "      <td>1.874267</td>\n",
       "      <td>2.670000</td>\n",
       "    </tr>\n",
       "    <tr>\n",
       "      <th>50%</th>\n",
       "      <td>3.275962</td>\n",
       "      <td>6.701000</td>\n",
       "    </tr>\n",
       "    <tr>\n",
       "      <th>75%</th>\n",
       "      <td>6.572211</td>\n",
       "      <td>15.199000</td>\n",
       "    </tr>\n",
       "    <tr>\n",
       "      <th>max</th>\n",
       "      <td>1642.812172</td>\n",
       "      <td>503.622000</td>\n",
       "    </tr>\n",
       "  </tbody>\n",
       "</table>\n",
       "</div>"
      ],
      "text/plain": [
       "       Earnings Per Share – Coefficient of Variation  \\\n",
       "count                                   19201.000000   \n",
       "mean                                        5.705246   \n",
       "std                                        32.707179   \n",
       "min                                     -1025.000000   \n",
       "25%                                         1.874267   \n",
       "50%                                         3.275962   \n",
       "75%                                         6.572211   \n",
       "max                                      1642.812172   \n",
       "\n",
       "       Earnings Per Share - Actual Surprise AbsVals  \n",
       "count                                  19201.000000  \n",
       "mean                                      16.701591  \n",
       "std                                       36.689541  \n",
       "min                                        0.000000  \n",
       "25%                                        2.670000  \n",
       "50%                                        6.701000  \n",
       "75%                                       15.199000  \n",
       "max                                      503.622000  "
      ]
     },
     "execution_count": 30,
     "metadata": {},
     "output_type": "execute_result"
    }
   ],
   "source": [
    "eps_variation.describe()"
   ]
  },
  {
   "cell_type": "code",
   "execution_count": 65,
   "metadata": {},
   "outputs": [
    {
     "name": "stdout",
     "output_type": "stream",
     "text": [
      "Percentage of companies in negative range: 3.08%\n",
      "                             Earnings Per Share – Coefficient of Variation  \\\n",
      "Quantile                                                                     \n",
      "(-inf, 0.0]                                                     -57.249475   \n",
      "(0.0, 1.973222]                                                   1.358495   \n",
      "(1.973222, 3.38495]                                               2.627875   \n",
      "(3.38495, 6.74026]                                                4.744025   \n",
      "(6.74026, 1642.812172]                                           22.241449   \n",
      "(1642.812172, 1642.8121721]                                    1642.812172   \n",
      "\n",
      "                             Earnings Per Share - Actual Surprise AbsVals  \\\n",
      "Quantile                                                                    \n",
      "(-inf, 0.0]                                                     62.499997   \n",
      "(0.0, 1.973222]                                                  4.641556   \n",
      "(1.973222, 3.38495]                                              7.404575   \n",
      "(3.38495, 6.74026]                                              11.241576   \n",
      "(6.74026, 1642.812172]                                          37.117735   \n",
      "(1642.812172, 1642.8121721]                                    424.659000   \n",
      "\n",
      "                             Composition Percentage  \n",
      "Quantile                                             \n",
      "(-inf, 0.0]                                3.286287  \n",
      "(0.0, 1.973222]                           24.024790  \n",
      "(1.973222, 3.38495]                       24.227905  \n",
      "(3.38495, 6.74026]                        24.227905  \n",
      "(6.74026, 1642.812172]                    24.227905  \n",
      "(1642.812172, 1642.8121721]                0.005208  \n"
     ]
    }
   ],
   "source": [
    "# filter dataframe to only include negative values\n",
    "negative_eps_variation = eps_variation[eps_variation['Earnings Per Share – Coefficient of Variation'] < 0]\n",
    "\n",
    "# bin the remaining positive values into quantiles\n",
    "positive_eps_variation = eps_variation[eps_variation['Earnings Per Share – Coefficient of Variation'] >= 0]\n",
    "positive_quantiles = pd.qcut(positive_eps_variation['Earnings Per Share – Coefficient of Variation'], q=4, retbins=True)[1]\n",
    "\n",
    "# combine the labels for the negative and positive quantiles\n",
    "quantile_labels = ['Negative Range'] + [f'Quantile {i+1}' for i in range(4)] + ['Max Value']\n",
    "\n",
    "# combine the quantile bins and labels\n",
    "bins = [-np.inf] + list(np.round(positive_quantiles, 6)) + [positive_eps_variation['Earnings Per Share – Coefficient of Variation'].max()]\n",
    "eps_variation_new = eps_variation.copy()\n",
    "#eps_variation_new['Quantile'] = pd.cut(eps_variation_new['Earnings Per Share – Coefficient of Variation'], bins=bins, labels=quantile_labels)\n",
    "eps_variation_new['Quantile'] = pd.cut(eps_variation_new['Earnings Per Share – Coefficient of Variation'], bins=bins)\n",
    "\n",
    "# group by quantile and calculate the average market capitalization and EPS surprise\n",
    "grouped_data3 = eps_variation_new.groupby('Quantile').agg({'Earnings Per Share – Coefficient of Variation': 'mean', \n",
    "                                                    'Earnings Per Share - Actual Surprise AbsVals': 'mean',\n",
    "                                                    'Instrument': 'count'})\n",
    "\n",
    "# calculate the percentage of companies in the negative range\n",
    "percentage_negative_range = len(negative_eps_variation)/len(eps_variation_new)*100\n",
    "\n",
    "# calculate the composition percentage for each quantile\n",
    "total_count = grouped_data3['Instrument'].sum()\n",
    "grouped_data3['Composition Percentage'] = grouped_data3['Instrument']/total_count*100\n",
    "\n",
    "# print results\n",
    "print(f\"Percentage of companies in negative range: {percentage_negative_range:.2f}%\")\n",
    "print(grouped_data3[['Earnings Per Share – Coefficient of Variation', 'Earnings Per Share - Actual Surprise AbsVals', 'Composition Percentage']])\n"
   ]
  },
  {
   "cell_type": "code",
   "execution_count": null,
   "metadata": {},
   "outputs": [],
   "source": [
    "#eps_variation_new['Quantile'] = pd.cut(eps_variation_new['Earnings Per Share – Coefficient of Variation'], bins=bins, labels=quantile_labels)"
   ]
  },
  {
   "cell_type": "code",
   "execution_count": 67,
   "metadata": {},
   "outputs": [
    {
     "data": {
      "application/vnd.plotly.v1+json": {
       "config": {
        "plotlyServerURL": "https://plot.ly"
       },
       "data": [
        {
         "alignmentgroup": "True",
         "hovertemplate": "Quantile=%{x}<br>Earnings Per Share - Actual Surprise AbsVals=%{y}<extra></extra>",
         "legendgroup": "",
         "marker": {
          "color": "#636efa",
          "pattern": {
           "shape": ""
          }
         },
         "name": "",
         "offsetgroup": "",
         "orientation": "v",
         "showlegend": false,
         "textposition": "auto",
         "type": "bar",
         "x": [
          "(-inf, 0.0]",
          "(0.0, 1.973222]",
          "(1.973222, 3.38495]",
          "(3.38495, 6.74026]",
          "(6.74026, 1642.812172]"
         ],
         "xaxis": "x",
         "y": [
          62.49999683042789,
          4.6415562540646,
          7.4045754514187445,
          11.241575881341358,
          37.1177345227859
         ],
         "yaxis": "y"
        }
       ],
       "layout": {
        "barmode": "relative",
        "legend": {
         "tracegroupgap": 0
        },
        "template": {
         "data": {
          "bar": [
           {
            "error_x": {
             "color": "#2a3f5f"
            },
            "error_y": {
             "color": "#2a3f5f"
            },
            "marker": {
             "line": {
              "color": "#E5ECF6",
              "width": 0.5
             },
             "pattern": {
              "fillmode": "overlay",
              "size": 10,
              "solidity": 0.2
             }
            },
            "type": "bar"
           }
          ],
          "barpolar": [
           {
            "marker": {
             "line": {
              "color": "#E5ECF6",
              "width": 0.5
             },
             "pattern": {
              "fillmode": "overlay",
              "size": 10,
              "solidity": 0.2
             }
            },
            "type": "barpolar"
           }
          ],
          "carpet": [
           {
            "aaxis": {
             "endlinecolor": "#2a3f5f",
             "gridcolor": "white",
             "linecolor": "white",
             "minorgridcolor": "white",
             "startlinecolor": "#2a3f5f"
            },
            "baxis": {
             "endlinecolor": "#2a3f5f",
             "gridcolor": "white",
             "linecolor": "white",
             "minorgridcolor": "white",
             "startlinecolor": "#2a3f5f"
            },
            "type": "carpet"
           }
          ],
          "choropleth": [
           {
            "colorbar": {
             "outlinewidth": 0,
             "ticks": ""
            },
            "type": "choropleth"
           }
          ],
          "contour": [
           {
            "colorbar": {
             "outlinewidth": 0,
             "ticks": ""
            },
            "colorscale": [
             [
              0,
              "#0d0887"
             ],
             [
              0.1111111111111111,
              "#46039f"
             ],
             [
              0.2222222222222222,
              "#7201a8"
             ],
             [
              0.3333333333333333,
              "#9c179e"
             ],
             [
              0.4444444444444444,
              "#bd3786"
             ],
             [
              0.5555555555555556,
              "#d8576b"
             ],
             [
              0.6666666666666666,
              "#ed7953"
             ],
             [
              0.7777777777777778,
              "#fb9f3a"
             ],
             [
              0.8888888888888888,
              "#fdca26"
             ],
             [
              1,
              "#f0f921"
             ]
            ],
            "type": "contour"
           }
          ],
          "contourcarpet": [
           {
            "colorbar": {
             "outlinewidth": 0,
             "ticks": ""
            },
            "type": "contourcarpet"
           }
          ],
          "heatmap": [
           {
            "colorbar": {
             "outlinewidth": 0,
             "ticks": ""
            },
            "colorscale": [
             [
              0,
              "#0d0887"
             ],
             [
              0.1111111111111111,
              "#46039f"
             ],
             [
              0.2222222222222222,
              "#7201a8"
             ],
             [
              0.3333333333333333,
              "#9c179e"
             ],
             [
              0.4444444444444444,
              "#bd3786"
             ],
             [
              0.5555555555555556,
              "#d8576b"
             ],
             [
              0.6666666666666666,
              "#ed7953"
             ],
             [
              0.7777777777777778,
              "#fb9f3a"
             ],
             [
              0.8888888888888888,
              "#fdca26"
             ],
             [
              1,
              "#f0f921"
             ]
            ],
            "type": "heatmap"
           }
          ],
          "heatmapgl": [
           {
            "colorbar": {
             "outlinewidth": 0,
             "ticks": ""
            },
            "colorscale": [
             [
              0,
              "#0d0887"
             ],
             [
              0.1111111111111111,
              "#46039f"
             ],
             [
              0.2222222222222222,
              "#7201a8"
             ],
             [
              0.3333333333333333,
              "#9c179e"
             ],
             [
              0.4444444444444444,
              "#bd3786"
             ],
             [
              0.5555555555555556,
              "#d8576b"
             ],
             [
              0.6666666666666666,
              "#ed7953"
             ],
             [
              0.7777777777777778,
              "#fb9f3a"
             ],
             [
              0.8888888888888888,
              "#fdca26"
             ],
             [
              1,
              "#f0f921"
             ]
            ],
            "type": "heatmapgl"
           }
          ],
          "histogram": [
           {
            "marker": {
             "pattern": {
              "fillmode": "overlay",
              "size": 10,
              "solidity": 0.2
             }
            },
            "type": "histogram"
           }
          ],
          "histogram2d": [
           {
            "colorbar": {
             "outlinewidth": 0,
             "ticks": ""
            },
            "colorscale": [
             [
              0,
              "#0d0887"
             ],
             [
              0.1111111111111111,
              "#46039f"
             ],
             [
              0.2222222222222222,
              "#7201a8"
             ],
             [
              0.3333333333333333,
              "#9c179e"
             ],
             [
              0.4444444444444444,
              "#bd3786"
             ],
             [
              0.5555555555555556,
              "#d8576b"
             ],
             [
              0.6666666666666666,
              "#ed7953"
             ],
             [
              0.7777777777777778,
              "#fb9f3a"
             ],
             [
              0.8888888888888888,
              "#fdca26"
             ],
             [
              1,
              "#f0f921"
             ]
            ],
            "type": "histogram2d"
           }
          ],
          "histogram2dcontour": [
           {
            "colorbar": {
             "outlinewidth": 0,
             "ticks": ""
            },
            "colorscale": [
             [
              0,
              "#0d0887"
             ],
             [
              0.1111111111111111,
              "#46039f"
             ],
             [
              0.2222222222222222,
              "#7201a8"
             ],
             [
              0.3333333333333333,
              "#9c179e"
             ],
             [
              0.4444444444444444,
              "#bd3786"
             ],
             [
              0.5555555555555556,
              "#d8576b"
             ],
             [
              0.6666666666666666,
              "#ed7953"
             ],
             [
              0.7777777777777778,
              "#fb9f3a"
             ],
             [
              0.8888888888888888,
              "#fdca26"
             ],
             [
              1,
              "#f0f921"
             ]
            ],
            "type": "histogram2dcontour"
           }
          ],
          "mesh3d": [
           {
            "colorbar": {
             "outlinewidth": 0,
             "ticks": ""
            },
            "type": "mesh3d"
           }
          ],
          "parcoords": [
           {
            "line": {
             "colorbar": {
              "outlinewidth": 0,
              "ticks": ""
             }
            },
            "type": "parcoords"
           }
          ],
          "pie": [
           {
            "automargin": true,
            "type": "pie"
           }
          ],
          "scatter": [
           {
            "fillpattern": {
             "fillmode": "overlay",
             "size": 10,
             "solidity": 0.2
            },
            "type": "scatter"
           }
          ],
          "scatter3d": [
           {
            "line": {
             "colorbar": {
              "outlinewidth": 0,
              "ticks": ""
             }
            },
            "marker": {
             "colorbar": {
              "outlinewidth": 0,
              "ticks": ""
             }
            },
            "type": "scatter3d"
           }
          ],
          "scattercarpet": [
           {
            "marker": {
             "colorbar": {
              "outlinewidth": 0,
              "ticks": ""
             }
            },
            "type": "scattercarpet"
           }
          ],
          "scattergeo": [
           {
            "marker": {
             "colorbar": {
              "outlinewidth": 0,
              "ticks": ""
             }
            },
            "type": "scattergeo"
           }
          ],
          "scattergl": [
           {
            "marker": {
             "colorbar": {
              "outlinewidth": 0,
              "ticks": ""
             }
            },
            "type": "scattergl"
           }
          ],
          "scattermapbox": [
           {
            "marker": {
             "colorbar": {
              "outlinewidth": 0,
              "ticks": ""
             }
            },
            "type": "scattermapbox"
           }
          ],
          "scatterpolar": [
           {
            "marker": {
             "colorbar": {
              "outlinewidth": 0,
              "ticks": ""
             }
            },
            "type": "scatterpolar"
           }
          ],
          "scatterpolargl": [
           {
            "marker": {
             "colorbar": {
              "outlinewidth": 0,
              "ticks": ""
             }
            },
            "type": "scatterpolargl"
           }
          ],
          "scatterternary": [
           {
            "marker": {
             "colorbar": {
              "outlinewidth": 0,
              "ticks": ""
             }
            },
            "type": "scatterternary"
           }
          ],
          "surface": [
           {
            "colorbar": {
             "outlinewidth": 0,
             "ticks": ""
            },
            "colorscale": [
             [
              0,
              "#0d0887"
             ],
             [
              0.1111111111111111,
              "#46039f"
             ],
             [
              0.2222222222222222,
              "#7201a8"
             ],
             [
              0.3333333333333333,
              "#9c179e"
             ],
             [
              0.4444444444444444,
              "#bd3786"
             ],
             [
              0.5555555555555556,
              "#d8576b"
             ],
             [
              0.6666666666666666,
              "#ed7953"
             ],
             [
              0.7777777777777778,
              "#fb9f3a"
             ],
             [
              0.8888888888888888,
              "#fdca26"
             ],
             [
              1,
              "#f0f921"
             ]
            ],
            "type": "surface"
           }
          ],
          "table": [
           {
            "cells": {
             "fill": {
              "color": "#EBF0F8"
             },
             "line": {
              "color": "white"
             }
            },
            "header": {
             "fill": {
              "color": "#C8D4E3"
             },
             "line": {
              "color": "white"
             }
            },
            "type": "table"
           }
          ]
         },
         "layout": {
          "annotationdefaults": {
           "arrowcolor": "#2a3f5f",
           "arrowhead": 0,
           "arrowwidth": 1
          },
          "autotypenumbers": "strict",
          "coloraxis": {
           "colorbar": {
            "outlinewidth": 0,
            "ticks": ""
           }
          },
          "colorscale": {
           "diverging": [
            [
             0,
             "#8e0152"
            ],
            [
             0.1,
             "#c51b7d"
            ],
            [
             0.2,
             "#de77ae"
            ],
            [
             0.3,
             "#f1b6da"
            ],
            [
             0.4,
             "#fde0ef"
            ],
            [
             0.5,
             "#f7f7f7"
            ],
            [
             0.6,
             "#e6f5d0"
            ],
            [
             0.7,
             "#b8e186"
            ],
            [
             0.8,
             "#7fbc41"
            ],
            [
             0.9,
             "#4d9221"
            ],
            [
             1,
             "#276419"
            ]
           ],
           "sequential": [
            [
             0,
             "#0d0887"
            ],
            [
             0.1111111111111111,
             "#46039f"
            ],
            [
             0.2222222222222222,
             "#7201a8"
            ],
            [
             0.3333333333333333,
             "#9c179e"
            ],
            [
             0.4444444444444444,
             "#bd3786"
            ],
            [
             0.5555555555555556,
             "#d8576b"
            ],
            [
             0.6666666666666666,
             "#ed7953"
            ],
            [
             0.7777777777777778,
             "#fb9f3a"
            ],
            [
             0.8888888888888888,
             "#fdca26"
            ],
            [
             1,
             "#f0f921"
            ]
           ],
           "sequentialminus": [
            [
             0,
             "#0d0887"
            ],
            [
             0.1111111111111111,
             "#46039f"
            ],
            [
             0.2222222222222222,
             "#7201a8"
            ],
            [
             0.3333333333333333,
             "#9c179e"
            ],
            [
             0.4444444444444444,
             "#bd3786"
            ],
            [
             0.5555555555555556,
             "#d8576b"
            ],
            [
             0.6666666666666666,
             "#ed7953"
            ],
            [
             0.7777777777777778,
             "#fb9f3a"
            ],
            [
             0.8888888888888888,
             "#fdca26"
            ],
            [
             1,
             "#f0f921"
            ]
           ]
          },
          "colorway": [
           "#636efa",
           "#EF553B",
           "#00cc96",
           "#ab63fa",
           "#FFA15A",
           "#19d3f3",
           "#FF6692",
           "#B6E880",
           "#FF97FF",
           "#FECB52"
          ],
          "font": {
           "color": "#2a3f5f"
          },
          "geo": {
           "bgcolor": "white",
           "lakecolor": "white",
           "landcolor": "#E5ECF6",
           "showlakes": true,
           "showland": true,
           "subunitcolor": "white"
          },
          "hoverlabel": {
           "align": "left"
          },
          "hovermode": "closest",
          "mapbox": {
           "style": "light"
          },
          "paper_bgcolor": "white",
          "plot_bgcolor": "#E5ECF6",
          "polar": {
           "angularaxis": {
            "gridcolor": "white",
            "linecolor": "white",
            "ticks": ""
           },
           "bgcolor": "#E5ECF6",
           "radialaxis": {
            "gridcolor": "white",
            "linecolor": "white",
            "ticks": ""
           }
          },
          "scene": {
           "xaxis": {
            "backgroundcolor": "#E5ECF6",
            "gridcolor": "white",
            "gridwidth": 2,
            "linecolor": "white",
            "showbackground": true,
            "ticks": "",
            "zerolinecolor": "white"
           },
           "yaxis": {
            "backgroundcolor": "#E5ECF6",
            "gridcolor": "white",
            "gridwidth": 2,
            "linecolor": "white",
            "showbackground": true,
            "ticks": "",
            "zerolinecolor": "white"
           },
           "zaxis": {
            "backgroundcolor": "#E5ECF6",
            "gridcolor": "white",
            "gridwidth": 2,
            "linecolor": "white",
            "showbackground": true,
            "ticks": "",
            "zerolinecolor": "white"
           }
          },
          "shapedefaults": {
           "line": {
            "color": "#2a3f5f"
           }
          },
          "ternary": {
           "aaxis": {
            "gridcolor": "white",
            "linecolor": "white",
            "ticks": ""
           },
           "baxis": {
            "gridcolor": "white",
            "linecolor": "white",
            "ticks": ""
           },
           "bgcolor": "#E5ECF6",
           "caxis": {
            "gridcolor": "white",
            "linecolor": "white",
            "ticks": ""
           }
          },
          "title": {
           "x": 0.05
          },
          "xaxis": {
           "automargin": true,
           "gridcolor": "white",
           "linecolor": "white",
           "ticks": "",
           "title": {
            "standoff": 15
           },
           "zerolinecolor": "white",
           "zerolinewidth": 2
          },
          "yaxis": {
           "automargin": true,
           "gridcolor": "white",
           "linecolor": "white",
           "ticks": "",
           "title": {
            "standoff": 15
           },
           "zerolinecolor": "white",
           "zerolinewidth": 2
          }
         }
        },
        "title": {
         "text": "Mean EPS - Coefficient of Variation"
        },
        "xaxis": {
         "anchor": "y",
         "domain": [
          0,
          1
         ],
         "tickmode": "array",
         "ticktext": [
          "Quantile 1",
          "Quantile 2",
          "Quantile 3",
          "Quantile 4",
          "Quantile 5",
          "Quantile 6",
          "Quantile 7",
          "Quantile 8"
         ],
         "tickvals": [
          0,
          1,
          2,
          3,
          4,
          5,
          6,
          7
         ],
         "title": {
          "text": "Quantile"
         }
        },
        "yaxis": {
         "anchor": "x",
         "domain": [
          0,
          1
         ],
         "title": {
          "text": "Earnings Per Share - Actual Surprise AbsVals"
         }
        }
       }
      }
     },
     "metadata": {},
     "output_type": "display_data"
    }
   ],
   "source": [
    "grouped_data3['Quantile'] = grouped_data3.index.astype(str)\n",
    "\n",
    "grouped_data3 = grouped_data3.iloc[:-1]\n",
    "\n",
    "# create a bar plot of the mean EPS surprise by quantile\n",
    "fig3 = px.bar(grouped_data3, x='Quantile', y='Earnings Per Share - Actual Surprise AbsVals',\n",
    "             title='Mean EPS - Coefficient of Variation')\n",
    "fig3.update_layout(\n",
    "    xaxis = dict(\n",
    "        tickmode = 'array',\n",
    "        tickvals = [0,1,2,3,4,5,6,7],\n",
    "        ticktext = ['Quantile 1', 'Quantile 2', 'Quantile 3', 'Quantile 4', 'Quantile 5','Quantile 6',\n",
    "                    'Quantile 7', 'Quantile 8']\n",
    "    )\n",
    ")\n",
    "fig3.show()"
   ]
  },
  {
   "cell_type": "code",
   "execution_count": null,
   "metadata": {},
   "outputs": [],
   "source": []
  }
 ],
 "metadata": {
  "kernelspec": {
   "display_name": "AnalystForecast",
   "language": "python",
   "name": "python3"
  },
  "language_info": {
   "codemirror_mode": {
    "name": "ipython",
    "version": 3
   },
   "file_extension": ".py",
   "mimetype": "text/x-python",
   "name": "python",
   "nbconvert_exporter": "python",
   "pygments_lexer": "ipython3",
   "version": "3.11.0"
  },
  "orig_nbformat": 4
 },
 "nbformat": 4,
 "nbformat_minor": 2
}
