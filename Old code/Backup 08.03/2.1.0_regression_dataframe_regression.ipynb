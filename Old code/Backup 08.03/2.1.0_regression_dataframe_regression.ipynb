{
 "cells": [
  {
   "cell_type": "code",
   "execution_count": 6,
   "metadata": {
    "collapsed": false
   },
   "outputs": [],
   "source": [
    "import pandas as pd\n",
    "import numpy as np\n",
    "import datetime\n",
    "import plotly.express as px"
   ]
  },
  {
   "cell_type": "markdown",
   "metadata": {
    "collapsed": false
   },
   "source": [
    "## Whole Dataframe"
   ]
  },
  {
   "cell_type": "code",
   "execution_count": 8,
   "metadata": {
    "collapsed": false
   },
   "outputs": [
    {
     "data": {
      "text/plain": "      Instrument        Date  Earnings Per Share - Actual Surprise AbsVals  \\\n0          AVY.N  2013-01-01                                      2.499631   \n1          AVY.N  2013-04-01                                      1.247607   \n2          AVY.N  2013-07-01                                      0.726582   \n3          AVY.N  2013-10-01                                      2.207725   \n4          AVY.N  2014-01-01                                      0.904623   \n...          ...         ...                                           ...   \n19196    POOL.OQ  2021-10-01                                      2.901092   \n19197    POOL.OQ  2022-01-01                                      3.720063   \n19198    POOL.OQ  2022-04-01                                      3.565072   \n19199    POOL.OQ  2022-07-01                                      0.917490   \n19200    POOL.OQ  2022-10-01                                      1.647889   \n\n      GICS Industry Group Name  \\\n0                    Materials   \n1                    Materials   \n2                    Materials   \n3                    Materials   \n4                    Materials   \n...                        ...   \n19196                Retailing   \n19197                Retailing   \n19198                Retailing   \n19199                Retailing   \n19200                Retailing   \n\n       Earnings Per Share – Coefficient of Variation AbsVals  \\\n0                                              -0.183599       \n1                                              -0.233233       \n2                                              -0.248775       \n3                                              -0.210298       \n4                                              -0.196835       \n...                                                  ...       \n19196                                          -0.208403       \n19197                                          -0.194778       \n19198                                          -0.089162       \n19199                                          -0.183610       \n19200                                          -0.176745       \n\n       Market Capitalization  Revenue - Actual  Number of Analysts  \\\n0                  -0.391005         -0.375130           -1.456340   \n1                  -0.383696         -0.377964           -1.456340   \n2                  -0.384120         -0.373419           -1.319027   \n3                  -0.383994         -0.377453           -1.456340   \n4                  -0.378999         -0.370730           -1.319027   \n...                      ...               ...                 ...   \n19196              -0.275230         -0.385406           -1.319027   \n19197              -0.231634         -0.417395           -1.319027   \n19198              -0.278978         -0.385304           -1.181715   \n19199              -0.303046         -0.330569           -1.181715   \n19200              -0.315123         -0.368055           -1.044402   \n\n       Recommendation - Mean (1-5).1  Price Target - Standard Deviation  \\\n0                           1.789773                          -0.371337   \n1                           1.789773                          -0.313057   \n2                           1.457006                          -0.297757   \n3                           1.457006                          -0.331666   \n4                           0.791472                          -0.332724   \n...                              ...                                ...   \n19196                      -0.073723                           1.529043   \n19197                      -0.073723                           1.167079   \n19198                      -0.073723                           1.014923   \n19199                      -0.872364                           1.809340   \n19200                      -0.339936                           0.518800   \n\n       3 Month Total Return  loss firm status  \\\n0                  0.433789                -1   \n1                  1.321869                -1   \n2                 -0.268964                -1   \n3                 -0.103207                -1   \n4                  0.786515                -1   \n...                     ...               ...   \n19196             -0.602611                -1   \n19197              1.738654                -1   \n19198             -1.919184                -1   \n19199             -1.689192                -1   \n19200             -0.867765                -1   \n\n       CBOE Crude Oil ETF Volatility Index  \\\n0                                -1.005294   \n1                                -0.945945   \n2                                -0.905655   \n3                                -1.183895   \n4                                -1.195206   \n...                                    ...   \n19196                             0.303321   \n19197                             0.920000   \n19198                             0.777108   \n19199                             0.739057   \n19200                             0.556431   \n\n       90-Day AA Financial Commercial Paper Interest Rate  \\\n0                                              -0.788065    \n1                                              -0.810075    \n2                                              -0.828005    \n3                                              -0.827825    \n4                                              -0.827407    \n...                                                  ...    \n19196                                          -0.813038    \n19197                                          -0.490075    \n19198                                           0.426826    \n19199                                           1.902525    \n19200                                           3.232166    \n\n       Inflation Risk Premium  \\\n0                   -0.374525   \n1                   -0.361500   \n2                    0.937254   \n3                    0.661257   \n4                    0.958285   \n...                       ...   \n19196               -0.083766   \n19197               -0.105142   \n19198                1.337373   \n19199                0.424584   \n19200                1.835514   \n\n       University of Michigan: Consumer Sentiment, Index 1966:Q1=100  \\\n0                                              -0.744622               \n1                                              -0.334332               \n2                                              -0.342537               \n3                                              -0.722740               \n4                                              -0.394508               \n...                                                  ...               \n19196                                          -1.299883               \n19197                                          -1.855143               \n19198                                          -2.287316               \n19199                                          -2.432286               \n19200                                          -2.210729               \n\n       Unemployment Rate  \n0               1.362950  \n1               1.253195  \n2               1.088562  \n3               0.923930  \n4               0.777590  \n...                  ...  \n19196          -0.576057  \n19197          -0.795567  \n19198          -0.905322  \n19199          -0.923614  \n19200          -0.905322  \n\n[19201 rows x 17 columns]",
      "text/html": "<div>\n<style scoped>\n    .dataframe tbody tr th:only-of-type {\n        vertical-align: middle;\n    }\n\n    .dataframe tbody tr th {\n        vertical-align: top;\n    }\n\n    .dataframe thead th {\n        text-align: right;\n    }\n</style>\n<table border=\"1\" class=\"dataframe\">\n  <thead>\n    <tr style=\"text-align: right;\">\n      <th></th>\n      <th>Instrument</th>\n      <th>Date</th>\n      <th>Earnings Per Share - Actual Surprise AbsVals</th>\n      <th>GICS Industry Group Name</th>\n      <th>Earnings Per Share – Coefficient of Variation AbsVals</th>\n      <th>Market Capitalization</th>\n      <th>Revenue - Actual</th>\n      <th>Number of Analysts</th>\n      <th>Recommendation - Mean (1-5).1</th>\n      <th>Price Target - Standard Deviation</th>\n      <th>3 Month Total Return</th>\n      <th>loss firm status</th>\n      <th>CBOE Crude Oil ETF Volatility Index</th>\n      <th>90-Day AA Financial Commercial Paper Interest Rate</th>\n      <th>Inflation Risk Premium</th>\n      <th>University of Michigan: Consumer Sentiment, Index 1966:Q1=100</th>\n      <th>Unemployment Rate</th>\n    </tr>\n  </thead>\n  <tbody>\n    <tr>\n      <th>0</th>\n      <td>AVY.N</td>\n      <td>2013-01-01</td>\n      <td>2.499631</td>\n      <td>Materials</td>\n      <td>-0.183599</td>\n      <td>-0.391005</td>\n      <td>-0.375130</td>\n      <td>-1.456340</td>\n      <td>1.789773</td>\n      <td>-0.371337</td>\n      <td>0.433789</td>\n      <td>-1</td>\n      <td>-1.005294</td>\n      <td>-0.788065</td>\n      <td>-0.374525</td>\n      <td>-0.744622</td>\n      <td>1.362950</td>\n    </tr>\n    <tr>\n      <th>1</th>\n      <td>AVY.N</td>\n      <td>2013-04-01</td>\n      <td>1.247607</td>\n      <td>Materials</td>\n      <td>-0.233233</td>\n      <td>-0.383696</td>\n      <td>-0.377964</td>\n      <td>-1.456340</td>\n      <td>1.789773</td>\n      <td>-0.313057</td>\n      <td>1.321869</td>\n      <td>-1</td>\n      <td>-0.945945</td>\n      <td>-0.810075</td>\n      <td>-0.361500</td>\n      <td>-0.334332</td>\n      <td>1.253195</td>\n    </tr>\n    <tr>\n      <th>2</th>\n      <td>AVY.N</td>\n      <td>2013-07-01</td>\n      <td>0.726582</td>\n      <td>Materials</td>\n      <td>-0.248775</td>\n      <td>-0.384120</td>\n      <td>-0.373419</td>\n      <td>-1.319027</td>\n      <td>1.457006</td>\n      <td>-0.297757</td>\n      <td>-0.268964</td>\n      <td>-1</td>\n      <td>-0.905655</td>\n      <td>-0.828005</td>\n      <td>0.937254</td>\n      <td>-0.342537</td>\n      <td>1.088562</td>\n    </tr>\n    <tr>\n      <th>3</th>\n      <td>AVY.N</td>\n      <td>2013-10-01</td>\n      <td>2.207725</td>\n      <td>Materials</td>\n      <td>-0.210298</td>\n      <td>-0.383994</td>\n      <td>-0.377453</td>\n      <td>-1.456340</td>\n      <td>1.457006</td>\n      <td>-0.331666</td>\n      <td>-0.103207</td>\n      <td>-1</td>\n      <td>-1.183895</td>\n      <td>-0.827825</td>\n      <td>0.661257</td>\n      <td>-0.722740</td>\n      <td>0.923930</td>\n    </tr>\n    <tr>\n      <th>4</th>\n      <td>AVY.N</td>\n      <td>2014-01-01</td>\n      <td>0.904623</td>\n      <td>Materials</td>\n      <td>-0.196835</td>\n      <td>-0.378999</td>\n      <td>-0.370730</td>\n      <td>-1.319027</td>\n      <td>0.791472</td>\n      <td>-0.332724</td>\n      <td>0.786515</td>\n      <td>-1</td>\n      <td>-1.195206</td>\n      <td>-0.827407</td>\n      <td>0.958285</td>\n      <td>-0.394508</td>\n      <td>0.777590</td>\n    </tr>\n    <tr>\n      <th>...</th>\n      <td>...</td>\n      <td>...</td>\n      <td>...</td>\n      <td>...</td>\n      <td>...</td>\n      <td>...</td>\n      <td>...</td>\n      <td>...</td>\n      <td>...</td>\n      <td>...</td>\n      <td>...</td>\n      <td>...</td>\n      <td>...</td>\n      <td>...</td>\n      <td>...</td>\n      <td>...</td>\n      <td>...</td>\n    </tr>\n    <tr>\n      <th>19196</th>\n      <td>POOL.OQ</td>\n      <td>2021-10-01</td>\n      <td>2.901092</td>\n      <td>Retailing</td>\n      <td>-0.208403</td>\n      <td>-0.275230</td>\n      <td>-0.385406</td>\n      <td>-1.319027</td>\n      <td>-0.073723</td>\n      <td>1.529043</td>\n      <td>-0.602611</td>\n      <td>-1</td>\n      <td>0.303321</td>\n      <td>-0.813038</td>\n      <td>-0.083766</td>\n      <td>-1.299883</td>\n      <td>-0.576057</td>\n    </tr>\n    <tr>\n      <th>19197</th>\n      <td>POOL.OQ</td>\n      <td>2022-01-01</td>\n      <td>3.720063</td>\n      <td>Retailing</td>\n      <td>-0.194778</td>\n      <td>-0.231634</td>\n      <td>-0.417395</td>\n      <td>-1.319027</td>\n      <td>-0.073723</td>\n      <td>1.167079</td>\n      <td>1.738654</td>\n      <td>-1</td>\n      <td>0.920000</td>\n      <td>-0.490075</td>\n      <td>-0.105142</td>\n      <td>-1.855143</td>\n      <td>-0.795567</td>\n    </tr>\n    <tr>\n      <th>19198</th>\n      <td>POOL.OQ</td>\n      <td>2022-04-01</td>\n      <td>3.565072</td>\n      <td>Retailing</td>\n      <td>-0.089162</td>\n      <td>-0.278978</td>\n      <td>-0.385304</td>\n      <td>-1.181715</td>\n      <td>-0.073723</td>\n      <td>1.014923</td>\n      <td>-1.919184</td>\n      <td>-1</td>\n      <td>0.777108</td>\n      <td>0.426826</td>\n      <td>1.337373</td>\n      <td>-2.287316</td>\n      <td>-0.905322</td>\n    </tr>\n    <tr>\n      <th>19199</th>\n      <td>POOL.OQ</td>\n      <td>2022-07-01</td>\n      <td>0.917490</td>\n      <td>Retailing</td>\n      <td>-0.183610</td>\n      <td>-0.303046</td>\n      <td>-0.330569</td>\n      <td>-1.181715</td>\n      <td>-0.872364</td>\n      <td>1.809340</td>\n      <td>-1.689192</td>\n      <td>-1</td>\n      <td>0.739057</td>\n      <td>1.902525</td>\n      <td>0.424584</td>\n      <td>-2.432286</td>\n      <td>-0.923614</td>\n    </tr>\n    <tr>\n      <th>19200</th>\n      <td>POOL.OQ</td>\n      <td>2022-10-01</td>\n      <td>1.647889</td>\n      <td>Retailing</td>\n      <td>-0.176745</td>\n      <td>-0.315123</td>\n      <td>-0.368055</td>\n      <td>-1.044402</td>\n      <td>-0.339936</td>\n      <td>0.518800</td>\n      <td>-0.867765</td>\n      <td>-1</td>\n      <td>0.556431</td>\n      <td>3.232166</td>\n      <td>1.835514</td>\n      <td>-2.210729</td>\n      <td>-0.905322</td>\n    </tr>\n  </tbody>\n</table>\n<p>19201 rows × 17 columns</p>\n</div>"
     },
     "execution_count": 8,
     "metadata": {},
     "output_type": "execute_result"
    }
   ],
   "source": [
    "df = pd.read_csv(\"Dataframes/economic_story_regression.csv\")\n",
    "df[\"Date\"] = pd.to_datetime(df[\"Date\"]).dt.date\n",
    "df\n",
    "#df.isna().sum()"
   ]
  },
  {
   "cell_type": "markdown",
   "metadata": {
    "collapsed": false
   },
   "source": [
    "## Characteristics dataframe for Regression"
   ]
  },
  {
   "cell_type": "code",
   "execution_count": 3,
   "metadata": {
    "collapsed": false
   },
   "outputs": [
    {
     "data": {
      "text/plain": "      Instrument        Date GICS Industry Group Name  \\\n0          AVY.N  2013-01-01                Materials   \n1          AVY.N  2013-04-01                Materials   \n2          AVY.N  2013-07-01                Materials   \n3          AVY.N  2013-10-01                Materials   \n4          AVY.N  2014-01-01                Materials   \n...          ...         ...                      ...   \n19196    POOL.OQ  2021-10-01                Retailing   \n19197    POOL.OQ  2022-01-01                Retailing   \n19198    POOL.OQ  2022-04-01                Retailing   \n19199    POOL.OQ  2022-07-01                Retailing   \n19200    POOL.OQ  2022-10-01                Retailing   \n\n       Earnings Per Share - Actual Surprise  \\\n0                                    11.178   \n1                                     2.482   \n2                                     1.068   \n3                                     8.095   \n4                                     1.471   \n...                                     ...   \n19196                                17.194   \n19197                                40.267   \n19198                                34.342   \n19199                                 1.503   \n19200                                 4.196   \n\n       Earnings Per Share - Actual Surprise AbsVals  Revenue - Actual  \\\n0                                            11.178      1.532200e+09   \n1                                             2.482      1.498900e+09   \n2                                             1.068      1.552300e+09   \n3                                             8.095      1.504900e+09   \n4                                             1.471      1.583900e+09   \n...                                             ...               ...   \n19196                                        17.194      1.411448e+09   \n19197                                        40.267      1.035557e+09   \n19198                                        34.342      1.412650e+09   \n19199                                         1.503      2.055818e+09   \n19200                                         4.196      1.615339e+09   \n\n       Market Capitalization  \\\n0               3.426001e+09   \n1               4.309428e+09   \n2               4.258229e+09   \n3               4.273414e+09   \n4               4.877168e+09   \n...                      ...   \n19196           1.742020e+10   \n19197           2.268979e+10   \n19198           1.696712e+10   \n19199           1.405795e+10   \n19200           1.259813e+10   \n\n       Enterprise Value To Sales (Daily Time Series Ratio)  \\\n0                                               0.799347     \n1                                               0.895787     \n2                                               0.906078     \n3                                               0.903176     \n4                                               0.920659     \n...                                                  ...     \n19196                                           3.684400     \n19197                                           4.504382     \n19198                                           3.422880     \n19199                                           2.749481     \n19200                                           2.383926     \n\n       3 Month Total Return    Volume  loss firm status  \n0                 10.637479  207295.0                -1  \n1                 24.148726       0.0                -1  \n2                 -0.054218       0.0                -1  \n3                  2.467620  236291.0                -1  \n4                 16.003852  157761.0                -1  \n...                     ...       ...               ...  \n19196             -5.130322  157740.0                -1  \n19197             30.489705   82349.0                -1  \n19198            -25.160664  290897.0                -1  \n19199            -21.661570  185584.0                -1  \n19200             -9.164375  238539.0                -1  \n\n[19201 rows x 11 columns]",
      "text/html": "<div>\n<style scoped>\n    .dataframe tbody tr th:only-of-type {\n        vertical-align: middle;\n    }\n\n    .dataframe tbody tr th {\n        vertical-align: top;\n    }\n\n    .dataframe thead th {\n        text-align: right;\n    }\n</style>\n<table border=\"1\" class=\"dataframe\">\n  <thead>\n    <tr style=\"text-align: right;\">\n      <th></th>\n      <th>Instrument</th>\n      <th>Date</th>\n      <th>GICS Industry Group Name</th>\n      <th>Earnings Per Share - Actual Surprise</th>\n      <th>Earnings Per Share - Actual Surprise AbsVals</th>\n      <th>Revenue - Actual</th>\n      <th>Market Capitalization</th>\n      <th>Enterprise Value To Sales (Daily Time Series Ratio)</th>\n      <th>3 Month Total Return</th>\n      <th>Volume</th>\n      <th>loss firm status</th>\n    </tr>\n  </thead>\n  <tbody>\n    <tr>\n      <th>0</th>\n      <td>AVY.N</td>\n      <td>2013-01-01</td>\n      <td>Materials</td>\n      <td>11.178</td>\n      <td>11.178</td>\n      <td>1.532200e+09</td>\n      <td>3.426001e+09</td>\n      <td>0.799347</td>\n      <td>10.637479</td>\n      <td>207295.0</td>\n      <td>-1</td>\n    </tr>\n    <tr>\n      <th>1</th>\n      <td>AVY.N</td>\n      <td>2013-04-01</td>\n      <td>Materials</td>\n      <td>2.482</td>\n      <td>2.482</td>\n      <td>1.498900e+09</td>\n      <td>4.309428e+09</td>\n      <td>0.895787</td>\n      <td>24.148726</td>\n      <td>0.0</td>\n      <td>-1</td>\n    </tr>\n    <tr>\n      <th>2</th>\n      <td>AVY.N</td>\n      <td>2013-07-01</td>\n      <td>Materials</td>\n      <td>1.068</td>\n      <td>1.068</td>\n      <td>1.552300e+09</td>\n      <td>4.258229e+09</td>\n      <td>0.906078</td>\n      <td>-0.054218</td>\n      <td>0.0</td>\n      <td>-1</td>\n    </tr>\n    <tr>\n      <th>3</th>\n      <td>AVY.N</td>\n      <td>2013-10-01</td>\n      <td>Materials</td>\n      <td>8.095</td>\n      <td>8.095</td>\n      <td>1.504900e+09</td>\n      <td>4.273414e+09</td>\n      <td>0.903176</td>\n      <td>2.467620</td>\n      <td>236291.0</td>\n      <td>-1</td>\n    </tr>\n    <tr>\n      <th>4</th>\n      <td>AVY.N</td>\n      <td>2014-01-01</td>\n      <td>Materials</td>\n      <td>1.471</td>\n      <td>1.471</td>\n      <td>1.583900e+09</td>\n      <td>4.877168e+09</td>\n      <td>0.920659</td>\n      <td>16.003852</td>\n      <td>157761.0</td>\n      <td>-1</td>\n    </tr>\n    <tr>\n      <th>...</th>\n      <td>...</td>\n      <td>...</td>\n      <td>...</td>\n      <td>...</td>\n      <td>...</td>\n      <td>...</td>\n      <td>...</td>\n      <td>...</td>\n      <td>...</td>\n      <td>...</td>\n      <td>...</td>\n    </tr>\n    <tr>\n      <th>19196</th>\n      <td>POOL.OQ</td>\n      <td>2021-10-01</td>\n      <td>Retailing</td>\n      <td>17.194</td>\n      <td>17.194</td>\n      <td>1.411448e+09</td>\n      <td>1.742020e+10</td>\n      <td>3.684400</td>\n      <td>-5.130322</td>\n      <td>157740.0</td>\n      <td>-1</td>\n    </tr>\n    <tr>\n      <th>19197</th>\n      <td>POOL.OQ</td>\n      <td>2022-01-01</td>\n      <td>Retailing</td>\n      <td>40.267</td>\n      <td>40.267</td>\n      <td>1.035557e+09</td>\n      <td>2.268979e+10</td>\n      <td>4.504382</td>\n      <td>30.489705</td>\n      <td>82349.0</td>\n      <td>-1</td>\n    </tr>\n    <tr>\n      <th>19198</th>\n      <td>POOL.OQ</td>\n      <td>2022-04-01</td>\n      <td>Retailing</td>\n      <td>34.342</td>\n      <td>34.342</td>\n      <td>1.412650e+09</td>\n      <td>1.696712e+10</td>\n      <td>3.422880</td>\n      <td>-25.160664</td>\n      <td>290897.0</td>\n      <td>-1</td>\n    </tr>\n    <tr>\n      <th>19199</th>\n      <td>POOL.OQ</td>\n      <td>2022-07-01</td>\n      <td>Retailing</td>\n      <td>1.503</td>\n      <td>1.503</td>\n      <td>2.055818e+09</td>\n      <td>1.405795e+10</td>\n      <td>2.749481</td>\n      <td>-21.661570</td>\n      <td>185584.0</td>\n      <td>-1</td>\n    </tr>\n    <tr>\n      <th>19200</th>\n      <td>POOL.OQ</td>\n      <td>2022-10-01</td>\n      <td>Retailing</td>\n      <td>4.196</td>\n      <td>4.196</td>\n      <td>1.615339e+09</td>\n      <td>1.259813e+10</td>\n      <td>2.383926</td>\n      <td>-9.164375</td>\n      <td>238539.0</td>\n      <td>-1</td>\n    </tr>\n  </tbody>\n</table>\n<p>19201 rows × 11 columns</p>\n</div>"
     },
     "execution_count": 3,
     "metadata": {},
     "output_type": "execute_result"
    }
   ],
   "source": [
    "characteristics = df.loc[:, [\"Instrument\", \"Date\",\"GICS Industry Group Name\", \"Earnings Per Share - Actual Surprise\", \"Earnings Per Share - Actual Surprise AbsVals\", \"Revenue - Actual\", \"Market Capitalization\", \"Enterprise Value To Sales (Daily Time Series Ratio)\", \"3 Month Total Return\", \"Volume\", \"loss firm status\"]]\n",
    "characteristics"
   ]
  },
  {
   "cell_type": "code",
   "execution_count": 4,
   "metadata": {
    "collapsed": false
   },
   "outputs": [],
   "source": [
    "characteristics.to_csv(\"Dataframes/characteristics_regression.csv\", index=False)"
   ]
  },
  {
   "attachments": {},
   "cell_type": "markdown",
   "metadata": {
    "collapsed": false
   },
   "source": [
    "## Analyst characteristics dataframe for regression"
   ]
  },
  {
   "cell_type": "code",
   "execution_count": 5,
   "metadata": {
    "collapsed": false
   },
   "outputs": [],
   "source": [
    "analysts = df.loc[:, [\"Instrument\", \"Date\",\"GICS Industry Group Name\", \"Earnings Per Share - Actual Surprise\", \"Earnings Per Share - Actual Surprise AbsVals\", \"Earnings Per Share – Coefficient of Variation\", \"Number of Analysts\", \"Recommendation - Mean (1-5)\", \"Recommendation change\", \"Recommendation - Mean (1-5).1\", \"Price Target - Standard Deviation\"]]\n",
    "#analysts"
   ]
  },
  {
   "cell_type": "code",
   "execution_count": 6,
   "metadata": {
    "collapsed": false
   },
   "outputs": [
    {
     "data": {
      "text/plain": "      Instrument        Date GICS Industry Group Name  \\\n0          AVY.N  2013-01-01                Materials   \n1          AVY.N  2013-04-01                Materials   \n2          AVY.N  2013-07-01                Materials   \n3          AVY.N  2013-10-01                Materials   \n4          AVY.N  2014-01-01                Materials   \n...          ...         ...                      ...   \n19196    POOL.OQ  2021-10-01                Retailing   \n19197    POOL.OQ  2022-01-01                Retailing   \n19198    POOL.OQ  2022-04-01                Retailing   \n19199    POOL.OQ  2022-07-01                Retailing   \n19200    POOL.OQ  2022-10-01                Retailing   \n\n       Earnings Per Share - Actual Surprise  \\\n0                                    11.178   \n1                                     2.482   \n2                                     1.068   \n3                                     8.095   \n4                                     1.471   \n...                                     ...   \n19196                                17.194   \n19197                                40.267   \n19198                                34.342   \n19199                                 1.503   \n19200                                 4.196   \n\n       Earnings Per Share - Actual Surprise AbsVals  \\\n0                                            11.178   \n1                                             2.482   \n2                                             1.068   \n3                                             8.095   \n4                                             1.471   \n...                                             ...   \n19196                                        17.194   \n19197                                        40.267   \n19198                                        34.342   \n19199                                         1.503   \n19200                                         4.196   \n\n       Earnings Per Share – Coefficient of Variation  Number of Analysts  \\\n0                                           3.625620                 7.0   \n1                                           2.046169                 7.0   \n2                                           1.551601                 8.0   \n3                                           2.775994                 7.0   \n4                                           3.204412                 8.0   \n...                                              ...                 ...   \n19196                                       2.836295                 8.0   \n19197                                       3.269867                 8.0   \n19198                                       6.630736                 9.0   \n19199                                       3.625249                 9.0   \n19200                                       3.843706                10.0   \n\n       Recommendation - Mean (1-5)  Recommendation change  \\\n0                          3.00000                0.00000   \n1                          2.87500               -0.12500   \n2                          2.87500                0.00000   \n3                          2.62500               -0.25000   \n4                          2.33333               -0.29167   \n...                            ...                    ...   \n19196                      2.30000                0.00000   \n19197                      2.30000                0.00000   \n19198                      2.00000               -0.30000   \n19199                      2.20000                0.20000   \n19200                      2.27273                0.07273   \n\n       Recommendation - Mean (1-5).1  Price Target - Standard Deviation  \n0                              3.000                            2.44949  \n1                              3.000                            3.92272  \n2                              2.875                            4.30946  \n3                              2.875                            3.45230  \n4                              2.625                            3.42555  \n...                              ...                                ...  \n19196                          2.300                           50.48823  \n19197                          2.300                           41.33833  \n19198                          2.300                           37.49206  \n19199                          2.000                           57.57373  \n19200                          2.200                           24.95082  \n\n[19201 rows x 11 columns]",
      "text/html": "<div>\n<style scoped>\n    .dataframe tbody tr th:only-of-type {\n        vertical-align: middle;\n    }\n\n    .dataframe tbody tr th {\n        vertical-align: top;\n    }\n\n    .dataframe thead th {\n        text-align: right;\n    }\n</style>\n<table border=\"1\" class=\"dataframe\">\n  <thead>\n    <tr style=\"text-align: right;\">\n      <th></th>\n      <th>Instrument</th>\n      <th>Date</th>\n      <th>GICS Industry Group Name</th>\n      <th>Earnings Per Share - Actual Surprise</th>\n      <th>Earnings Per Share - Actual Surprise AbsVals</th>\n      <th>Earnings Per Share – Coefficient of Variation</th>\n      <th>Number of Analysts</th>\n      <th>Recommendation - Mean (1-5)</th>\n      <th>Recommendation change</th>\n      <th>Recommendation - Mean (1-5).1</th>\n      <th>Price Target - Standard Deviation</th>\n    </tr>\n  </thead>\n  <tbody>\n    <tr>\n      <th>0</th>\n      <td>AVY.N</td>\n      <td>2013-01-01</td>\n      <td>Materials</td>\n      <td>11.178</td>\n      <td>11.178</td>\n      <td>3.625620</td>\n      <td>7.0</td>\n      <td>3.00000</td>\n      <td>0.00000</td>\n      <td>3.000</td>\n      <td>2.44949</td>\n    </tr>\n    <tr>\n      <th>1</th>\n      <td>AVY.N</td>\n      <td>2013-04-01</td>\n      <td>Materials</td>\n      <td>2.482</td>\n      <td>2.482</td>\n      <td>2.046169</td>\n      <td>7.0</td>\n      <td>2.87500</td>\n      <td>-0.12500</td>\n      <td>3.000</td>\n      <td>3.92272</td>\n    </tr>\n    <tr>\n      <th>2</th>\n      <td>AVY.N</td>\n      <td>2013-07-01</td>\n      <td>Materials</td>\n      <td>1.068</td>\n      <td>1.068</td>\n      <td>1.551601</td>\n      <td>8.0</td>\n      <td>2.87500</td>\n      <td>0.00000</td>\n      <td>2.875</td>\n      <td>4.30946</td>\n    </tr>\n    <tr>\n      <th>3</th>\n      <td>AVY.N</td>\n      <td>2013-10-01</td>\n      <td>Materials</td>\n      <td>8.095</td>\n      <td>8.095</td>\n      <td>2.775994</td>\n      <td>7.0</td>\n      <td>2.62500</td>\n      <td>-0.25000</td>\n      <td>2.875</td>\n      <td>3.45230</td>\n    </tr>\n    <tr>\n      <th>4</th>\n      <td>AVY.N</td>\n      <td>2014-01-01</td>\n      <td>Materials</td>\n      <td>1.471</td>\n      <td>1.471</td>\n      <td>3.204412</td>\n      <td>8.0</td>\n      <td>2.33333</td>\n      <td>-0.29167</td>\n      <td>2.625</td>\n      <td>3.42555</td>\n    </tr>\n    <tr>\n      <th>...</th>\n      <td>...</td>\n      <td>...</td>\n      <td>...</td>\n      <td>...</td>\n      <td>...</td>\n      <td>...</td>\n      <td>...</td>\n      <td>...</td>\n      <td>...</td>\n      <td>...</td>\n      <td>...</td>\n    </tr>\n    <tr>\n      <th>19196</th>\n      <td>POOL.OQ</td>\n      <td>2021-10-01</td>\n      <td>Retailing</td>\n      <td>17.194</td>\n      <td>17.194</td>\n      <td>2.836295</td>\n      <td>8.0</td>\n      <td>2.30000</td>\n      <td>0.00000</td>\n      <td>2.300</td>\n      <td>50.48823</td>\n    </tr>\n    <tr>\n      <th>19197</th>\n      <td>POOL.OQ</td>\n      <td>2022-01-01</td>\n      <td>Retailing</td>\n      <td>40.267</td>\n      <td>40.267</td>\n      <td>3.269867</td>\n      <td>8.0</td>\n      <td>2.30000</td>\n      <td>0.00000</td>\n      <td>2.300</td>\n      <td>41.33833</td>\n    </tr>\n    <tr>\n      <th>19198</th>\n      <td>POOL.OQ</td>\n      <td>2022-04-01</td>\n      <td>Retailing</td>\n      <td>34.342</td>\n      <td>34.342</td>\n      <td>6.630736</td>\n      <td>9.0</td>\n      <td>2.00000</td>\n      <td>-0.30000</td>\n      <td>2.300</td>\n      <td>37.49206</td>\n    </tr>\n    <tr>\n      <th>19199</th>\n      <td>POOL.OQ</td>\n      <td>2022-07-01</td>\n      <td>Retailing</td>\n      <td>1.503</td>\n      <td>1.503</td>\n      <td>3.625249</td>\n      <td>9.0</td>\n      <td>2.20000</td>\n      <td>0.20000</td>\n      <td>2.000</td>\n      <td>57.57373</td>\n    </tr>\n    <tr>\n      <th>19200</th>\n      <td>POOL.OQ</td>\n      <td>2022-10-01</td>\n      <td>Retailing</td>\n      <td>4.196</td>\n      <td>4.196</td>\n      <td>3.843706</td>\n      <td>10.0</td>\n      <td>2.27273</td>\n      <td>0.07273</td>\n      <td>2.200</td>\n      <td>24.95082</td>\n    </tr>\n  </tbody>\n</table>\n<p>19201 rows × 11 columns</p>\n</div>"
     },
     "execution_count": 6,
     "metadata": {},
     "output_type": "execute_result"
    }
   ],
   "source": [
    "analysts"
   ]
  },
  {
   "cell_type": "code",
   "execution_count": 7,
   "metadata": {
    "collapsed": false
   },
   "outputs": [],
   "source": [
    "analysts.to_csv(\"Dataframes/analysts_regression.csv\", index=False)"
   ]
  },
  {
   "cell_type": "code",
   "execution_count": 7,
   "outputs": [],
   "source": [],
   "metadata": {
    "collapsed": false
   }
  }
 ],
 "metadata": {
  "kernelspec": {
   "display_name": "AnalystForecast",
   "language": "python",
   "name": "python3"
  },
  "language_info": {
   "codemirror_mode": {
    "name": "ipython",
    "version": 3
   },
   "file_extension": ".py",
   "mimetype": "text/x-python",
   "name": "python",
   "nbconvert_exporter": "python",
   "pygments_lexer": "ipython3",
   "version": "3.11.0"
  },
  "vscode": {
   "interpreter": {
    "hash": "264d128b47a19451ae7876f5ee246d3f7de9751940a5ebe47f15ec6626e5a91f"
   }
  }
 },
 "nbformat": 4,
 "nbformat_minor": 0
}
