{
 "cells": [
  {
   "cell_type": "code",
   "execution_count": 1,
   "metadata": {
    "collapsed": false
   },
   "outputs": [],
   "source": [
    "import eikon as ek\n",
    "import pandas as pd\n",
    "import numpy as np\n",
    "import datetime\n",
    "import plotly.express as px\n",
    "from fredapi import Fred\n",
    "\n",
    "\n",
    "fred = Fred(api_key = \"4a017ca39a1f96774f9587e5956bfd6b\") # we can all use the same key\n",
    "ek.set_app_key(\"320e7257c23945729695a106cedb2b9cb72d3207\") # Elena\n",
    "#ek.set_app_key(\"69de0ce7c5e2468e90a6058ce79f6558ebe3ee30\") # Alexander\n",
    "#ek.set_app_key(\"8879958aee0d4e68894df7ee96fe7c192adc17fc\") # Mohandas\n",
    "#ek.set_app_key(\"f47c330480d74c598b7e8ebc2539424e91764dd8\") # Ginevra"
   ]
  },
  {
   "cell_type": "markdown",
   "metadata": {
    "collapsed": false
   },
   "source": [
    "https://community.developers.refinitiv.com/questions/73493/get-eps-historical-data-for-stocks.html"
   ]
  },
  {
   "cell_type": "markdown",
   "metadata": {
    "collapsed": false
   },
   "source": [
    "# Economic Story\n",
    "\n",
    "**TR.RevenueActValue.date** - prints the datetime\n",
    "\n",
    "## Part 1: Accuracy\n",
    "\n",
    "1. **TR.EPSActValue** - The company's actual value normalized to reflect the I/B/E/S default currency and corporate actions (e.g. stock splits). Earnings Per Share is defined as the EPS that the contributing analyst considers to be that with which to value a security. This figure may include or exclude certain items depending on the contributing analyst's specific model.\n",
    "\n",
    "2. **TR.EPSMean** - The statistical average of all broker estimates determined to be on the majority accounting basis. Earnings Per Share is defined as the EPS that the contributing analyst considers to be that with which to value a security. This figure may include or exclude certain items depending on the contributing analyst's specific model.\n",
    "\n",
    "--> this is a analyst forecast variable\n",
    "\n",
    "3. **TR.EPSActSurprise** - The difference between the actual and the last mean of the period, expressed as a percentage. Earnings Per Share is defined as the EPS that the contributing analyst considers to be that with which to value a security. This figure may include or exclude certain items depending on the contributing analyst's specific model.\n",
    "\n",
    "--> forecast error between actual EPS and TR.EPSMean\n",
    "\n",
    "<img src=\"./Pictures/Screenshot 2023-02-15 185222.png\" width=500 height=300 />\n",
    "\n",
    "## Part 2: Factors\n",
    "\n",
    "### Firm charateristics\n",
    "\n",
    "1. **TR.RevenueActValue** - The company's actual value normalized to reflect the I/B/E/S default currency and corporate actions (e.g. stock splits). Revenue (or Sales) is a corporation's net revenue, generally derived from core business activities. For non-financial companies, the calculation of net revenue (or net turnover) in most markets generally involves subtracting transportation and related operational costs from gross revenue/sales. Revenue recognition practices vary significantly from market to market, though generally the recording of revenue is based upon sales invoices issued (or anticipated for forecast purposes) during the accounting period.\n",
    "\n",
    "2. **TR.F.EV** - Enterprise Value is the Company's total economic value OR the theoretical takeover price, often used as an alternative to market capitalization. Enterprise Value represents Market Capitalization TR.F.MktCap + Debt including Preferred Equity & Minority Interest - Total [TR.F.DebtlnclPrefEqMinlntrTot] (-) Cash & Short Term Investments - Total [TR.F.CashSTlnvstTot]. Market Capitalization [TR.F.MktCap] is required. The data item is calculated for all periodicities. It is applicable to all industries.\n",
    "\n",
    "3. **TR.LTGMean** - Long Term Growth - Mean:  The statistical average of all broker estimates determined to be on the majority accounting basis. Long-term growth is an estimate of the compound average rate of EPS growth an analyst expects over a period of three to five ears.\n",
    "\n",
    "##### Loss Firm Status (0 or 1)\n",
    "\n",
    "4. **TR.F.NetIncAfterTax** Net Income after Tax [SIAT] represents the income/expense after all operating and non-operating income and expense, reserves, income taxes, but before equity in earnings, minority interest, extraordinary items, after-tax adjustments, discontinued operations and preferred dividends. Applicable to all Industries. Net Income after Tax [SIAT] includes: • Net Income after Tax [XIAT]\n",
    "\n",
    "### Analysts\n",
    "1. **TR.NumberOfAnalysts** - Number of sell-side analysts covering the security.\n",
    "\n",
    "2. **TR.RecMean** - Recommendation Numeric Mean based on the Standard Scale Of Strong Buy (1 ), Buy (2), Hold (3), Sell (4), and Strong Sell (5).\n",
    "\n",
    "3. change in recommendation\n",
    "\n",
    "### Macro characteristics\n",
    "\n",
    "1. **TR.WACCInflationAdjRiskFreeRate** -  Inflation adjusted risk free rate used is Of the primary index for the domicile country Of the company. Inflation adjusted risk free rate (Rf) is calculated from the US 10-year treasury yield plus the difference between in the 10-year forecasted inflation rate between the given country and the US.\n",
    "\n",
    "\n",
    "\n",
    "### Return Potential\n",
    "\n",
    "1. **TR.PriceTargetMean** The statistical average of all broker estimates determined to be on the majority accounting basis. Price target is the projected price level forecasted by the analyst within a specific time horizon.\n",
    "\n",
    "1. **TR.PriceClose** The latest available closing price. If there are no trades for the most recent completed tradable day, the most recent prior tradable day with trading activity is used, provided the last tradable day for the instrument is within 378 completed calendar days.\n",
    "\n",
    "### More difficult Factors (yearly):\n",
    "\n",
    "#### ESG\n",
    "\n",
    "1. **TR.TRESGScore** Refinitiv ESG Score is an overall company score based on the self-reported information in the environmental, social and corporate governance pillars.\n",
    "\n",
    "#### Proportion of independent Directors\n",
    "\n",
    "1. **TR.AnalyticIndepBoard** - Independent Board Members - Percentage of independent board members as reported by the company.\n",
    "\n",
    "2. **TR.GovernancePillarScore** - Governance Pillar Score - The corporate governance pillar measures a company's systems and processes, which ensure that its board members and executives act in the best interests of its long term shareholders. It reflects a company's capacity, through its use of best management practices, to direct and control its rights and responsibilities through the creation of incentives, as well as checks and balances in order to generate long term shareholder value.\n",
    "\n",
    "## Part 3: Regression\n",
    "\n",
    "### continue.."
   ]
  },
  {
   "cell_type": "code",
   "execution_count": 2,
   "metadata": {
    "collapsed": false
   },
   "outputs": [],
   "source": [
    "economic_story = ['TR.EPSactValue.date', 'TR.EPSActValue', \"TR.EPSMean\", \"TR.EPSActSurprise\", 'TR.RevenueActValue', \"TR.F.EV\", \"TR.LTGMean\",  \"TR.NumberOfAnalysts\", \"TR.RecMean\", \"TR.RecMean(SDate=-2,EDate=-41)\", \"TR.WACCInflationAdjRiskFreeRate\", \"TR.F.NetIncAfterTax\", \"TR.PriceTargetMean\", \"TR.PriceClose\"]"
   ]
  },
  {
   "cell_type": "markdown",
   "metadata": {
    "collapsed": false
   },
   "source": [
    "# Whole Dataframe"
   ]
  },
  {
   "cell_type": "code",
   "execution_count": 3,
   "metadata": {
    "collapsed": false
   },
   "outputs": [],
   "source": [
    "df, e = ek.get_data('0#.SPX', economic_story, parameters = {'SDate':'-1','EDate':'-40','Period':'FQ0','Frq':'FQ'})\n",
    "df[\"Date\"] = pd.to_datetime(df[\"Date\"])"
   ]
  },
  {
   "cell_type": "code",
   "execution_count": 4,
   "metadata": {
    "collapsed": false
   },
   "outputs": [
    {
     "data": {
      "text/plain": "      Instrument                      Date  Earnings Per Share - Actual  \\\n0        POOL.OQ 2022-10-20 07:00:00+00:00                         4.78   \n1        POOL.OQ 2022-07-21 07:00:00+00:00                         7.63   \n2        POOL.OQ 2022-04-21 07:00:00+00:00                         4.23   \n3        POOL.OQ 2022-02-17 07:00:00+00:00                         2.63   \n4        POOL.OQ 2021-10-21 07:00:00+00:00                         4.51   \n...          ...                       ...                          ...   \n20115      AVY.N 2014-01-31 08:30:00+00:00                         0.69   \n20116      AVY.N 2013-10-25 08:30:00+00:00                         0.69   \n20117      AVY.N 2013-07-23 08:30:00+00:00                         0.71   \n20118      AVY.N 2013-04-24 08:30:00+00:00                         0.59   \n20119      AVY.N 2013-01-30 07:35:00+00:00                         0.54   \n\n       Earnings Per Share - Mean  Earnings Per Share - Actual Surprise  \\\n0                         4.5875                                 4.196   \n1                          7.517                                 1.503   \n2                        3.14867                                34.342   \n3                          1.875                                40.267   \n4                        3.84833                                17.194   \n...                          ...                                   ...   \n20115                       0.68                                 1.471   \n20116                    0.63833                                 8.095   \n20117                     0.7025                                 1.068   \n20118                    0.57571                                 2.482   \n20119                    0.48571                                11.178   \n\n       Revenue - Actual    Enterprise Value  Long Term Growth - Mean  \\\n0            1615339000  14061600372.299999                     <NA>   \n1            2055818000  15561870705.290001                     <NA>   \n2            1412650000  18436823034.200001                     <NA>   \n3            1035557000       23848820586.0                     <NA>   \n4            1411448000      17699543822.66                     <NA>   \n...                 ...                 ...                      ...   \n20115        1583900000       5553067502.24                      7.0   \n20116        1504900000       5029514353.46                      7.0   \n20117        1552300000       5436229328.84                    14.35   \n20118        1498900000       5459128200.46                    14.35   \n20119        1532200000        4413001367.2                     10.4   \n\n       Number of Analysts  Recommendation - Mean (1-5)  \\\n0                      10                      2.27273   \n1                       9                          2.2   \n2                       9                          2.0   \n3                       8                          2.3   \n4                       8                          2.3   \n...                   ...                          ...   \n20115                   8                      2.33333   \n20116                   7                        2.625   \n20117                   8                        2.875   \n20118                   7                        2.875   \n20119                   7                          3.0   \n\n       Recommendation - Mean (1-5)  \\\n0                              2.2   \n1                              2.0   \n2                              2.3   \n3                              2.3   \n4                              2.3   \n...                            ...   \n20115                        2.625   \n20116                        2.875   \n20117                        2.875   \n20118                          3.0   \n20119                          3.0   \n\n       WACC Inflation Adjusted Risk Free Rate, (%)  Net Income after Tax  \\\n0                                         3.747421             189965000   \n1                                         3.092855             307205000   \n2                                         2.325202             179203000   \n3                                         1.515266             107542000   \n4                                         1.527139             184573000   \n...                                            ...                   ...   \n20115                                         <NA>              42100000   \n20116                                         <NA>              62000000   \n20117                                         <NA>              70800000   \n20118                                         <NA>              66800000   \n20119                                         <NA>              33400000   \n\n       Price Target - Mean  Price Close  \n0                360.11111       318.21  \n1                  435.375       351.23  \n2                519.88889       422.85  \n3                    571.0        566.0  \n4                545.28571       434.41  \n...                    ...          ...  \n20115               54.625        50.19  \n20116             47.71429        43.52  \n20117                 45.0        42.76  \n20118             42.57143        43.07  \n20119                 36.0        34.92  \n\n[20120 rows x 15 columns]",
      "text/html": "<div>\n<style scoped>\n    .dataframe tbody tr th:only-of-type {\n        vertical-align: middle;\n    }\n\n    .dataframe tbody tr th {\n        vertical-align: top;\n    }\n\n    .dataframe thead th {\n        text-align: right;\n    }\n</style>\n<table border=\"1\" class=\"dataframe\">\n  <thead>\n    <tr style=\"text-align: right;\">\n      <th></th>\n      <th>Instrument</th>\n      <th>Date</th>\n      <th>Earnings Per Share - Actual</th>\n      <th>Earnings Per Share - Mean</th>\n      <th>Earnings Per Share - Actual Surprise</th>\n      <th>Revenue - Actual</th>\n      <th>Enterprise Value</th>\n      <th>Long Term Growth - Mean</th>\n      <th>Number of Analysts</th>\n      <th>Recommendation - Mean (1-5)</th>\n      <th>Recommendation - Mean (1-5)</th>\n      <th>WACC Inflation Adjusted Risk Free Rate, (%)</th>\n      <th>Net Income after Tax</th>\n      <th>Price Target - Mean</th>\n      <th>Price Close</th>\n    </tr>\n  </thead>\n  <tbody>\n    <tr>\n      <th>0</th>\n      <td>POOL.OQ</td>\n      <td>2022-10-20 07:00:00+00:00</td>\n      <td>4.78</td>\n      <td>4.5875</td>\n      <td>4.196</td>\n      <td>1615339000</td>\n      <td>14061600372.299999</td>\n      <td>&lt;NA&gt;</td>\n      <td>10</td>\n      <td>2.27273</td>\n      <td>2.2</td>\n      <td>3.747421</td>\n      <td>189965000</td>\n      <td>360.11111</td>\n      <td>318.21</td>\n    </tr>\n    <tr>\n      <th>1</th>\n      <td>POOL.OQ</td>\n      <td>2022-07-21 07:00:00+00:00</td>\n      <td>7.63</td>\n      <td>7.517</td>\n      <td>1.503</td>\n      <td>2055818000</td>\n      <td>15561870705.290001</td>\n      <td>&lt;NA&gt;</td>\n      <td>9</td>\n      <td>2.2</td>\n      <td>2.0</td>\n      <td>3.092855</td>\n      <td>307205000</td>\n      <td>435.375</td>\n      <td>351.23</td>\n    </tr>\n    <tr>\n      <th>2</th>\n      <td>POOL.OQ</td>\n      <td>2022-04-21 07:00:00+00:00</td>\n      <td>4.23</td>\n      <td>3.14867</td>\n      <td>34.342</td>\n      <td>1412650000</td>\n      <td>18436823034.200001</td>\n      <td>&lt;NA&gt;</td>\n      <td>9</td>\n      <td>2.0</td>\n      <td>2.3</td>\n      <td>2.325202</td>\n      <td>179203000</td>\n      <td>519.88889</td>\n      <td>422.85</td>\n    </tr>\n    <tr>\n      <th>3</th>\n      <td>POOL.OQ</td>\n      <td>2022-02-17 07:00:00+00:00</td>\n      <td>2.63</td>\n      <td>1.875</td>\n      <td>40.267</td>\n      <td>1035557000</td>\n      <td>23848820586.0</td>\n      <td>&lt;NA&gt;</td>\n      <td>8</td>\n      <td>2.3</td>\n      <td>2.3</td>\n      <td>1.515266</td>\n      <td>107542000</td>\n      <td>571.0</td>\n      <td>566.0</td>\n    </tr>\n    <tr>\n      <th>4</th>\n      <td>POOL.OQ</td>\n      <td>2021-10-21 07:00:00+00:00</td>\n      <td>4.51</td>\n      <td>3.84833</td>\n      <td>17.194</td>\n      <td>1411448000</td>\n      <td>17699543822.66</td>\n      <td>&lt;NA&gt;</td>\n      <td>8</td>\n      <td>2.3</td>\n      <td>2.3</td>\n      <td>1.527139</td>\n      <td>184573000</td>\n      <td>545.28571</td>\n      <td>434.41</td>\n    </tr>\n    <tr>\n      <th>...</th>\n      <td>...</td>\n      <td>...</td>\n      <td>...</td>\n      <td>...</td>\n      <td>...</td>\n      <td>...</td>\n      <td>...</td>\n      <td>...</td>\n      <td>...</td>\n      <td>...</td>\n      <td>...</td>\n      <td>...</td>\n      <td>...</td>\n      <td>...</td>\n      <td>...</td>\n    </tr>\n    <tr>\n      <th>20115</th>\n      <td>AVY.N</td>\n      <td>2014-01-31 08:30:00+00:00</td>\n      <td>0.69</td>\n      <td>0.68</td>\n      <td>1.471</td>\n      <td>1583900000</td>\n      <td>5553067502.24</td>\n      <td>7.0</td>\n      <td>8</td>\n      <td>2.33333</td>\n      <td>2.625</td>\n      <td>&lt;NA&gt;</td>\n      <td>42100000</td>\n      <td>54.625</td>\n      <td>50.19</td>\n    </tr>\n    <tr>\n      <th>20116</th>\n      <td>AVY.N</td>\n      <td>2013-10-25 08:30:00+00:00</td>\n      <td>0.69</td>\n      <td>0.63833</td>\n      <td>8.095</td>\n      <td>1504900000</td>\n      <td>5029514353.46</td>\n      <td>7.0</td>\n      <td>7</td>\n      <td>2.625</td>\n      <td>2.875</td>\n      <td>&lt;NA&gt;</td>\n      <td>62000000</td>\n      <td>47.71429</td>\n      <td>43.52</td>\n    </tr>\n    <tr>\n      <th>20117</th>\n      <td>AVY.N</td>\n      <td>2013-07-23 08:30:00+00:00</td>\n      <td>0.71</td>\n      <td>0.7025</td>\n      <td>1.068</td>\n      <td>1552300000</td>\n      <td>5436229328.84</td>\n      <td>14.35</td>\n      <td>8</td>\n      <td>2.875</td>\n      <td>2.875</td>\n      <td>&lt;NA&gt;</td>\n      <td>70800000</td>\n      <td>45.0</td>\n      <td>42.76</td>\n    </tr>\n    <tr>\n      <th>20118</th>\n      <td>AVY.N</td>\n      <td>2013-04-24 08:30:00+00:00</td>\n      <td>0.59</td>\n      <td>0.57571</td>\n      <td>2.482</td>\n      <td>1498900000</td>\n      <td>5459128200.46</td>\n      <td>14.35</td>\n      <td>7</td>\n      <td>2.875</td>\n      <td>3.0</td>\n      <td>&lt;NA&gt;</td>\n      <td>66800000</td>\n      <td>42.57143</td>\n      <td>43.07</td>\n    </tr>\n    <tr>\n      <th>20119</th>\n      <td>AVY.N</td>\n      <td>2013-01-30 07:35:00+00:00</td>\n      <td>0.54</td>\n      <td>0.48571</td>\n      <td>11.178</td>\n      <td>1532200000</td>\n      <td>4413001367.2</td>\n      <td>10.4</td>\n      <td>7</td>\n      <td>3.0</td>\n      <td>3.0</td>\n      <td>&lt;NA&gt;</td>\n      <td>33400000</td>\n      <td>36.0</td>\n      <td>34.92</td>\n    </tr>\n  </tbody>\n</table>\n<p>20120 rows × 15 columns</p>\n</div>"
     },
     "execution_count": 4,
     "metadata": {},
     "output_type": "execute_result"
    }
   ],
   "source": [
    "df"
   ]
  },
  {
   "cell_type": "code",
   "execution_count": 5,
   "outputs": [],
   "source": [
    "unemployment_rate = fred.get_series('UNRATE', observation_start='2012-12-01', observation_end='2022-11-01')"
   ],
   "metadata": {
    "collapsed": false
   }
  },
  {
   "cell_type": "code",
   "execution_count": 6,
   "outputs": [
    {
     "data": {
      "text/plain": "     Unemployment rate       Date\n0                  7.9 2012-12-01\n1                  8.0 2013-01-01\n2                  7.7 2013-02-01\n3                  7.5 2013-03-01\n4                  7.6 2013-04-01\n..                 ...        ...\n115                3.5 2022-07-01\n116                3.7 2022-08-01\n117                3.5 2022-09-01\n118                3.7 2022-10-01\n119                3.6 2022-11-01\n\n[120 rows x 2 columns]",
      "text/html": "<div>\n<style scoped>\n    .dataframe tbody tr th:only-of-type {\n        vertical-align: middle;\n    }\n\n    .dataframe tbody tr th {\n        vertical-align: top;\n    }\n\n    .dataframe thead th {\n        text-align: right;\n    }\n</style>\n<table border=\"1\" class=\"dataframe\">\n  <thead>\n    <tr style=\"text-align: right;\">\n      <th></th>\n      <th>Unemployment rate</th>\n      <th>Date</th>\n    </tr>\n  </thead>\n  <tbody>\n    <tr>\n      <th>0</th>\n      <td>7.9</td>\n      <td>2012-12-01</td>\n    </tr>\n    <tr>\n      <th>1</th>\n      <td>8.0</td>\n      <td>2013-01-01</td>\n    </tr>\n    <tr>\n      <th>2</th>\n      <td>7.7</td>\n      <td>2013-02-01</td>\n    </tr>\n    <tr>\n      <th>3</th>\n      <td>7.5</td>\n      <td>2013-03-01</td>\n    </tr>\n    <tr>\n      <th>4</th>\n      <td>7.6</td>\n      <td>2013-04-01</td>\n    </tr>\n    <tr>\n      <th>...</th>\n      <td>...</td>\n      <td>...</td>\n    </tr>\n    <tr>\n      <th>115</th>\n      <td>3.5</td>\n      <td>2022-07-01</td>\n    </tr>\n    <tr>\n      <th>116</th>\n      <td>3.7</td>\n      <td>2022-08-01</td>\n    </tr>\n    <tr>\n      <th>117</th>\n      <td>3.5</td>\n      <td>2022-09-01</td>\n    </tr>\n    <tr>\n      <th>118</th>\n      <td>3.7</td>\n      <td>2022-10-01</td>\n    </tr>\n    <tr>\n      <th>119</th>\n      <td>3.6</td>\n      <td>2022-11-01</td>\n    </tr>\n  </tbody>\n</table>\n<p>120 rows × 2 columns</p>\n</div>"
     },
     "execution_count": 6,
     "metadata": {},
     "output_type": "execute_result"
    }
   ],
   "source": [
    "unemployment_rate = pd.DataFrame(unemployment_rate)\n",
    "unemployment_rate['index'] = unemployment_rate.index\n",
    "unemployment_rate = unemployment_rate.reset_index(drop=True)\n",
    "unemployment_rate.columns = [\"Unemployment rate\", \"Date\"]\n",
    "unemployment_rate[\"Date\"] = pd.to_datetime(unemployment_rate[\"Date\"])\n",
    "unemployment_rate"
   ],
   "metadata": {
    "collapsed": false
   }
  },
  {
   "cell_type": "code",
   "execution_count": 7,
   "metadata": {},
   "outputs": [],
   "source": [
    "#DO NOT DELETE!\n",
    "df_for_accuracy_analysis = df.copy()\n",
    "df_for_accuracy_analysis.to_csv(\"Dataframes/accuracy_analysis_dataframe.csv\", index=False)"
   ]
  },
  {
   "cell_type": "code",
   "execution_count": 8,
   "metadata": {
    "collapsed": false
   },
   "outputs": [
    {
     "name": "stderr",
     "output_type": "stream",
     "text": [
      "/var/folders/g8/1tyvls5x41bd_dx0zhcy5ggc0000gn/T/ipykernel_10404/2409114918.py:1: FutureWarning: The default dtype for empty Series will be 'object' instead of 'float64' in a future version. Specify a dtype explicitly to silence this warning.\n",
      "  df['New Date'] = pd.Series()\n"
     ]
    },
    {
     "data": {
      "text/plain": "      Instrument                      Date    New Date  \\\n0        POOL.OQ 2022-10-20 07:00:00+00:00  2022-10-01   \n1        POOL.OQ 2022-07-21 07:00:00+00:00  2022-07-01   \n2        POOL.OQ 2022-04-21 07:00:00+00:00  2022-04-01   \n3        POOL.OQ 2022-02-17 07:00:00+00:00  2022-01-01   \n4        POOL.OQ 2021-10-21 07:00:00+00:00  2021-10-01   \n...          ...                       ...         ...   \n20115      AVY.N 2014-01-31 08:30:00+00:00  2014-01-01   \n20116      AVY.N 2013-10-25 08:30:00+00:00  2013-10-01   \n20117      AVY.N 2013-07-23 08:30:00+00:00  2013-07-01   \n20118      AVY.N 2013-04-24 08:30:00+00:00  2013-04-01   \n20119      AVY.N 2013-01-30 07:35:00+00:00  2013-01-01   \n\n       Earnings Per Share - Actual  Earnings Per Share - Mean  \\\n0                             4.78                     4.5875   \n1                             7.63                      7.517   \n2                             4.23                    3.14867   \n3                             2.63                      1.875   \n4                             4.51                    3.84833   \n...                            ...                        ...   \n20115                         0.69                       0.68   \n20116                         0.69                    0.63833   \n20117                         0.71                     0.7025   \n20118                         0.59                    0.57571   \n20119                         0.54                    0.48571   \n\n       Earnings Per Share - Actual Surprise  Revenue - Actual  \\\n0                                     4.196        1615339000   \n1                                     1.503        2055818000   \n2                                    34.342        1412650000   \n3                                    40.267        1035557000   \n4                                    17.194        1411448000   \n...                                     ...               ...   \n20115                                 1.471        1583900000   \n20116                                 8.095        1504900000   \n20117                                 1.068        1552300000   \n20118                                 2.482        1498900000   \n20119                                11.178        1532200000   \n\n         Enterprise Value  Long Term Growth - Mean  Number of Analysts  \\\n0      14061600372.299999                     <NA>                  10   \n1      15561870705.290001                     <NA>                   9   \n2      18436823034.200001                     <NA>                   9   \n3           23848820586.0                     <NA>                   8   \n4          17699543822.66                     <NA>                   8   \n...                   ...                      ...                 ...   \n20115       5553067502.24                      7.0                   8   \n20116       5029514353.46                      7.0                   7   \n20117       5436229328.84                    14.35                   8   \n20118       5459128200.46                    14.35                   7   \n20119        4413001367.2                     10.4                   7   \n\n       Recommendation - Mean (1-5)  Recommendation - Mean (1-5)  \\\n0                          2.27273                          2.2   \n1                              2.2                          2.0   \n2                              2.0                          2.3   \n3                              2.3                          2.3   \n4                              2.3                          2.3   \n...                            ...                          ...   \n20115                      2.33333                        2.625   \n20116                        2.625                        2.875   \n20117                        2.875                        2.875   \n20118                        2.875                          3.0   \n20119                          3.0                          3.0   \n\n       WACC Inflation Adjusted Risk Free Rate, (%)  Net Income after Tax  \\\n0                                         3.747421             189965000   \n1                                         3.092855             307205000   \n2                                         2.325202             179203000   \n3                                         1.515266             107542000   \n4                                         1.527139             184573000   \n...                                            ...                   ...   \n20115                                         <NA>              42100000   \n20116                                         <NA>              62000000   \n20117                                         <NA>              70800000   \n20118                                         <NA>              66800000   \n20119                                         <NA>              33400000   \n\n       Price Target - Mean  Price Close  \n0                360.11111       318.21  \n1                  435.375       351.23  \n2                519.88889       422.85  \n3                    571.0        566.0  \n4                545.28571       434.41  \n...                    ...          ...  \n20115               54.625        50.19  \n20116             47.71429        43.52  \n20117                 45.0        42.76  \n20118             42.57143        43.07  \n20119                 36.0        34.92  \n\n[20120 rows x 16 columns]",
      "text/html": "<div>\n<style scoped>\n    .dataframe tbody tr th:only-of-type {\n        vertical-align: middle;\n    }\n\n    .dataframe tbody tr th {\n        vertical-align: top;\n    }\n\n    .dataframe thead th {\n        text-align: right;\n    }\n</style>\n<table border=\"1\" class=\"dataframe\">\n  <thead>\n    <tr style=\"text-align: right;\">\n      <th></th>\n      <th>Instrument</th>\n      <th>Date</th>\n      <th>New Date</th>\n      <th>Earnings Per Share - Actual</th>\n      <th>Earnings Per Share - Mean</th>\n      <th>Earnings Per Share - Actual Surprise</th>\n      <th>Revenue - Actual</th>\n      <th>Enterprise Value</th>\n      <th>Long Term Growth - Mean</th>\n      <th>Number of Analysts</th>\n      <th>Recommendation - Mean (1-5)</th>\n      <th>Recommendation - Mean (1-5)</th>\n      <th>WACC Inflation Adjusted Risk Free Rate, (%)</th>\n      <th>Net Income after Tax</th>\n      <th>Price Target - Mean</th>\n      <th>Price Close</th>\n    </tr>\n  </thead>\n  <tbody>\n    <tr>\n      <th>0</th>\n      <td>POOL.OQ</td>\n      <td>2022-10-20 07:00:00+00:00</td>\n      <td>2022-10-01</td>\n      <td>4.78</td>\n      <td>4.5875</td>\n      <td>4.196</td>\n      <td>1615339000</td>\n      <td>14061600372.299999</td>\n      <td>&lt;NA&gt;</td>\n      <td>10</td>\n      <td>2.27273</td>\n      <td>2.2</td>\n      <td>3.747421</td>\n      <td>189965000</td>\n      <td>360.11111</td>\n      <td>318.21</td>\n    </tr>\n    <tr>\n      <th>1</th>\n      <td>POOL.OQ</td>\n      <td>2022-07-21 07:00:00+00:00</td>\n      <td>2022-07-01</td>\n      <td>7.63</td>\n      <td>7.517</td>\n      <td>1.503</td>\n      <td>2055818000</td>\n      <td>15561870705.290001</td>\n      <td>&lt;NA&gt;</td>\n      <td>9</td>\n      <td>2.2</td>\n      <td>2.0</td>\n      <td>3.092855</td>\n      <td>307205000</td>\n      <td>435.375</td>\n      <td>351.23</td>\n    </tr>\n    <tr>\n      <th>2</th>\n      <td>POOL.OQ</td>\n      <td>2022-04-21 07:00:00+00:00</td>\n      <td>2022-04-01</td>\n      <td>4.23</td>\n      <td>3.14867</td>\n      <td>34.342</td>\n      <td>1412650000</td>\n      <td>18436823034.200001</td>\n      <td>&lt;NA&gt;</td>\n      <td>9</td>\n      <td>2.0</td>\n      <td>2.3</td>\n      <td>2.325202</td>\n      <td>179203000</td>\n      <td>519.88889</td>\n      <td>422.85</td>\n    </tr>\n    <tr>\n      <th>3</th>\n      <td>POOL.OQ</td>\n      <td>2022-02-17 07:00:00+00:00</td>\n      <td>2022-01-01</td>\n      <td>2.63</td>\n      <td>1.875</td>\n      <td>40.267</td>\n      <td>1035557000</td>\n      <td>23848820586.0</td>\n      <td>&lt;NA&gt;</td>\n      <td>8</td>\n      <td>2.3</td>\n      <td>2.3</td>\n      <td>1.515266</td>\n      <td>107542000</td>\n      <td>571.0</td>\n      <td>566.0</td>\n    </tr>\n    <tr>\n      <th>4</th>\n      <td>POOL.OQ</td>\n      <td>2021-10-21 07:00:00+00:00</td>\n      <td>2021-10-01</td>\n      <td>4.51</td>\n      <td>3.84833</td>\n      <td>17.194</td>\n      <td>1411448000</td>\n      <td>17699543822.66</td>\n      <td>&lt;NA&gt;</td>\n      <td>8</td>\n      <td>2.3</td>\n      <td>2.3</td>\n      <td>1.527139</td>\n      <td>184573000</td>\n      <td>545.28571</td>\n      <td>434.41</td>\n    </tr>\n    <tr>\n      <th>...</th>\n      <td>...</td>\n      <td>...</td>\n      <td>...</td>\n      <td>...</td>\n      <td>...</td>\n      <td>...</td>\n      <td>...</td>\n      <td>...</td>\n      <td>...</td>\n      <td>...</td>\n      <td>...</td>\n      <td>...</td>\n      <td>...</td>\n      <td>...</td>\n      <td>...</td>\n      <td>...</td>\n    </tr>\n    <tr>\n      <th>20115</th>\n      <td>AVY.N</td>\n      <td>2014-01-31 08:30:00+00:00</td>\n      <td>2014-01-01</td>\n      <td>0.69</td>\n      <td>0.68</td>\n      <td>1.471</td>\n      <td>1583900000</td>\n      <td>5553067502.24</td>\n      <td>7.0</td>\n      <td>8</td>\n      <td>2.33333</td>\n      <td>2.625</td>\n      <td>&lt;NA&gt;</td>\n      <td>42100000</td>\n      <td>54.625</td>\n      <td>50.19</td>\n    </tr>\n    <tr>\n      <th>20116</th>\n      <td>AVY.N</td>\n      <td>2013-10-25 08:30:00+00:00</td>\n      <td>2013-10-01</td>\n      <td>0.69</td>\n      <td>0.63833</td>\n      <td>8.095</td>\n      <td>1504900000</td>\n      <td>5029514353.46</td>\n      <td>7.0</td>\n      <td>7</td>\n      <td>2.625</td>\n      <td>2.875</td>\n      <td>&lt;NA&gt;</td>\n      <td>62000000</td>\n      <td>47.71429</td>\n      <td>43.52</td>\n    </tr>\n    <tr>\n      <th>20117</th>\n      <td>AVY.N</td>\n      <td>2013-07-23 08:30:00+00:00</td>\n      <td>2013-07-01</td>\n      <td>0.71</td>\n      <td>0.7025</td>\n      <td>1.068</td>\n      <td>1552300000</td>\n      <td>5436229328.84</td>\n      <td>14.35</td>\n      <td>8</td>\n      <td>2.875</td>\n      <td>2.875</td>\n      <td>&lt;NA&gt;</td>\n      <td>70800000</td>\n      <td>45.0</td>\n      <td>42.76</td>\n    </tr>\n    <tr>\n      <th>20118</th>\n      <td>AVY.N</td>\n      <td>2013-04-24 08:30:00+00:00</td>\n      <td>2013-04-01</td>\n      <td>0.59</td>\n      <td>0.57571</td>\n      <td>2.482</td>\n      <td>1498900000</td>\n      <td>5459128200.46</td>\n      <td>14.35</td>\n      <td>7</td>\n      <td>2.875</td>\n      <td>3.0</td>\n      <td>&lt;NA&gt;</td>\n      <td>66800000</td>\n      <td>42.57143</td>\n      <td>43.07</td>\n    </tr>\n    <tr>\n      <th>20119</th>\n      <td>AVY.N</td>\n      <td>2013-01-30 07:35:00+00:00</td>\n      <td>2013-01-01</td>\n      <td>0.54</td>\n      <td>0.48571</td>\n      <td>11.178</td>\n      <td>1532200000</td>\n      <td>4413001367.2</td>\n      <td>10.4</td>\n      <td>7</td>\n      <td>3.0</td>\n      <td>3.0</td>\n      <td>&lt;NA&gt;</td>\n      <td>33400000</td>\n      <td>36.0</td>\n      <td>34.92</td>\n    </tr>\n  </tbody>\n</table>\n<p>20120 rows × 16 columns</p>\n</div>"
     },
     "execution_count": 8,
     "metadata": {},
     "output_type": "execute_result"
    }
   ],
   "source": [
    "df['New Date'] = pd.Series()\n",
    "\n",
    "for i in range(len(df)):\n",
    "    if df.loc[i, \"Date\"].month == 1:\n",
    "        df.loc[i, \"New Date\"] = df.loc[i, \"Date\"].replace(month=1, day=1)\n",
    "    elif df.loc[i, \"Date\"].month == 2:\n",
    "        df.loc[i, \"New Date\"] = df.loc[i, \"Date\"].replace(month=1, day=1)\n",
    "    elif df.loc[i, \"Date\"].month == 3:\n",
    "        df.loc[i, \"New Date\"] = df.loc[i, \"Date\"].replace(month=1, day=1)\n",
    "    elif df.loc[i, \"Date\"].month == 4:\n",
    "        df.loc[i, \"New Date\"] = df.loc[i, \"Date\"].replace(month=4, day=1)\n",
    "    elif df.loc[i, \"Date\"].month == 5:\n",
    "        df.loc[i, \"New Date\"] = df.loc[i, \"Date\"].replace(month=4, day=1)\n",
    "    elif df.loc[i, \"Date\"].month == 6:\n",
    "        df.loc[i, \"New Date\"] = df.loc[i, \"Date\"].replace(month=4, day=1)\n",
    "    elif df.loc[i, \"Date\"].month == 7:\n",
    "        df.loc[i, \"New Date\"] = df.loc[i, \"Date\"].replace(month=7, day=1)\n",
    "    elif df.loc[i, \"Date\"].month == 8:\n",
    "        df.loc[i, \"New Date\"] = df.loc[i, \"Date\"].replace(month=7, day=1)\n",
    "    elif df.loc[i, \"Date\"].month == 9:\n",
    "        df.loc[i, \"New Date\"] = df.loc[i, \"Date\"].replace(month=7, day=1)\n",
    "    elif df.loc[i, \"Date\"].month == 10:\n",
    "        df.loc[i, \"New Date\"] = df.loc[i, \"Date\"].replace(month=10, day=1)\n",
    "    elif df.loc[i, \"Date\"].month == 11:\n",
    "        df.loc[i, \"New Date\"] = df.loc[i, \"Date\"].replace(month=10, day=1)\n",
    "    elif df.loc[i, \"Date\"].month == 12:\n",
    "        df.loc[i, \"New Date\"] = df.loc[i, \"Date\"].replace(month=10, day=1)\n",
    "\n",
    "df.insert(2, \"New Date\", df.pop(\"New Date\"))\n",
    "df[\"New Date\"] = pd.to_datetime(df[\"New Date\"]).dt.date\n",
    "df"
   ]
  },
  {
   "cell_type": "code",
   "execution_count": 9,
   "metadata": {
    "collapsed": false
   },
   "outputs": [
    {
     "data": {
      "text/plain": "      Instrument        Date  Earnings Per Share - Actual  \\\n0        POOL.OQ  2022-10-01                         4.78   \n1        POOL.OQ  2022-07-01                         7.63   \n2        POOL.OQ  2022-04-01                         4.23   \n3        POOL.OQ  2022-01-01                         2.63   \n4        POOL.OQ  2021-10-01                         4.51   \n...          ...         ...                          ...   \n20115      AVY.N  2014-01-01                         0.69   \n20116      AVY.N  2013-10-01                         0.69   \n20117      AVY.N  2013-07-01                         0.71   \n20118      AVY.N  2013-04-01                         0.59   \n20119      AVY.N  2013-01-01                         0.54   \n\n       Earnings Per Share - Mean  Earnings Per Share - Actual Surprise  \\\n0                         4.5875                                 4.196   \n1                          7.517                                 1.503   \n2                        3.14867                                34.342   \n3                          1.875                                40.267   \n4                        3.84833                                17.194   \n...                          ...                                   ...   \n20115                       0.68                                 1.471   \n20116                    0.63833                                 8.095   \n20117                     0.7025                                 1.068   \n20118                    0.57571                                 2.482   \n20119                    0.48571                                11.178   \n\n       Revenue - Actual    Enterprise Value  Long Term Growth - Mean  \\\n0            1615339000  14061600372.299999                     <NA>   \n1            2055818000  15561870705.290001                     <NA>   \n2            1412650000  18436823034.200001                     <NA>   \n3            1035557000       23848820586.0                     <NA>   \n4            1411448000      17699543822.66                     <NA>   \n...                 ...                 ...                      ...   \n20115        1583900000       5553067502.24                      7.0   \n20116        1504900000       5029514353.46                      7.0   \n20117        1552300000       5436229328.84                    14.35   \n20118        1498900000       5459128200.46                    14.35   \n20119        1532200000        4413001367.2                     10.4   \n\n       Number of Analysts  Recommendation - Mean (1-5)  \\\n0                      10                      2.27273   \n1                       9                          2.2   \n2                       9                          2.0   \n3                       8                          2.3   \n4                       8                          2.3   \n...                   ...                          ...   \n20115                   8                      2.33333   \n20116                   7                        2.625   \n20117                   8                        2.875   \n20118                   7                        2.875   \n20119                   7                          3.0   \n\n       Recommendation - Mean (1-5)  \\\n0                              2.2   \n1                              2.0   \n2                              2.3   \n3                              2.3   \n4                              2.3   \n...                            ...   \n20115                        2.625   \n20116                        2.875   \n20117                        2.875   \n20118                          3.0   \n20119                          3.0   \n\n       WACC Inflation Adjusted Risk Free Rate, (%)  Net Income after Tax  \\\n0                                         3.747421             189965000   \n1                                         3.092855             307205000   \n2                                         2.325202             179203000   \n3                                         1.515266             107542000   \n4                                         1.527139             184573000   \n...                                            ...                   ...   \n20115                                         <NA>              42100000   \n20116                                         <NA>              62000000   \n20117                                         <NA>              70800000   \n20118                                         <NA>              66800000   \n20119                                         <NA>              33400000   \n\n       Price Target - Mean  Price Close  \n0                360.11111       318.21  \n1                  435.375       351.23  \n2                519.88889       422.85  \n3                    571.0        566.0  \n4                545.28571       434.41  \n...                    ...          ...  \n20115               54.625        50.19  \n20116             47.71429        43.52  \n20117                 45.0        42.76  \n20118             42.57143        43.07  \n20119                 36.0        34.92  \n\n[20120 rows x 15 columns]",
      "text/html": "<div>\n<style scoped>\n    .dataframe tbody tr th:only-of-type {\n        vertical-align: middle;\n    }\n\n    .dataframe tbody tr th {\n        vertical-align: top;\n    }\n\n    .dataframe thead th {\n        text-align: right;\n    }\n</style>\n<table border=\"1\" class=\"dataframe\">\n  <thead>\n    <tr style=\"text-align: right;\">\n      <th></th>\n      <th>Instrument</th>\n      <th>Date</th>\n      <th>Earnings Per Share - Actual</th>\n      <th>Earnings Per Share - Mean</th>\n      <th>Earnings Per Share - Actual Surprise</th>\n      <th>Revenue - Actual</th>\n      <th>Enterprise Value</th>\n      <th>Long Term Growth - Mean</th>\n      <th>Number of Analysts</th>\n      <th>Recommendation - Mean (1-5)</th>\n      <th>Recommendation - Mean (1-5)</th>\n      <th>WACC Inflation Adjusted Risk Free Rate, (%)</th>\n      <th>Net Income after Tax</th>\n      <th>Price Target - Mean</th>\n      <th>Price Close</th>\n    </tr>\n  </thead>\n  <tbody>\n    <tr>\n      <th>0</th>\n      <td>POOL.OQ</td>\n      <td>2022-10-01</td>\n      <td>4.78</td>\n      <td>4.5875</td>\n      <td>4.196</td>\n      <td>1615339000</td>\n      <td>14061600372.299999</td>\n      <td>&lt;NA&gt;</td>\n      <td>10</td>\n      <td>2.27273</td>\n      <td>2.2</td>\n      <td>3.747421</td>\n      <td>189965000</td>\n      <td>360.11111</td>\n      <td>318.21</td>\n    </tr>\n    <tr>\n      <th>1</th>\n      <td>POOL.OQ</td>\n      <td>2022-07-01</td>\n      <td>7.63</td>\n      <td>7.517</td>\n      <td>1.503</td>\n      <td>2055818000</td>\n      <td>15561870705.290001</td>\n      <td>&lt;NA&gt;</td>\n      <td>9</td>\n      <td>2.2</td>\n      <td>2.0</td>\n      <td>3.092855</td>\n      <td>307205000</td>\n      <td>435.375</td>\n      <td>351.23</td>\n    </tr>\n    <tr>\n      <th>2</th>\n      <td>POOL.OQ</td>\n      <td>2022-04-01</td>\n      <td>4.23</td>\n      <td>3.14867</td>\n      <td>34.342</td>\n      <td>1412650000</td>\n      <td>18436823034.200001</td>\n      <td>&lt;NA&gt;</td>\n      <td>9</td>\n      <td>2.0</td>\n      <td>2.3</td>\n      <td>2.325202</td>\n      <td>179203000</td>\n      <td>519.88889</td>\n      <td>422.85</td>\n    </tr>\n    <tr>\n      <th>3</th>\n      <td>POOL.OQ</td>\n      <td>2022-01-01</td>\n      <td>2.63</td>\n      <td>1.875</td>\n      <td>40.267</td>\n      <td>1035557000</td>\n      <td>23848820586.0</td>\n      <td>&lt;NA&gt;</td>\n      <td>8</td>\n      <td>2.3</td>\n      <td>2.3</td>\n      <td>1.515266</td>\n      <td>107542000</td>\n      <td>571.0</td>\n      <td>566.0</td>\n    </tr>\n    <tr>\n      <th>4</th>\n      <td>POOL.OQ</td>\n      <td>2021-10-01</td>\n      <td>4.51</td>\n      <td>3.84833</td>\n      <td>17.194</td>\n      <td>1411448000</td>\n      <td>17699543822.66</td>\n      <td>&lt;NA&gt;</td>\n      <td>8</td>\n      <td>2.3</td>\n      <td>2.3</td>\n      <td>1.527139</td>\n      <td>184573000</td>\n      <td>545.28571</td>\n      <td>434.41</td>\n    </tr>\n    <tr>\n      <th>...</th>\n      <td>...</td>\n      <td>...</td>\n      <td>...</td>\n      <td>...</td>\n      <td>...</td>\n      <td>...</td>\n      <td>...</td>\n      <td>...</td>\n      <td>...</td>\n      <td>...</td>\n      <td>...</td>\n      <td>...</td>\n      <td>...</td>\n      <td>...</td>\n      <td>...</td>\n    </tr>\n    <tr>\n      <th>20115</th>\n      <td>AVY.N</td>\n      <td>2014-01-01</td>\n      <td>0.69</td>\n      <td>0.68</td>\n      <td>1.471</td>\n      <td>1583900000</td>\n      <td>5553067502.24</td>\n      <td>7.0</td>\n      <td>8</td>\n      <td>2.33333</td>\n      <td>2.625</td>\n      <td>&lt;NA&gt;</td>\n      <td>42100000</td>\n      <td>54.625</td>\n      <td>50.19</td>\n    </tr>\n    <tr>\n      <th>20116</th>\n      <td>AVY.N</td>\n      <td>2013-10-01</td>\n      <td>0.69</td>\n      <td>0.63833</td>\n      <td>8.095</td>\n      <td>1504900000</td>\n      <td>5029514353.46</td>\n      <td>7.0</td>\n      <td>7</td>\n      <td>2.625</td>\n      <td>2.875</td>\n      <td>&lt;NA&gt;</td>\n      <td>62000000</td>\n      <td>47.71429</td>\n      <td>43.52</td>\n    </tr>\n    <tr>\n      <th>20117</th>\n      <td>AVY.N</td>\n      <td>2013-07-01</td>\n      <td>0.71</td>\n      <td>0.7025</td>\n      <td>1.068</td>\n      <td>1552300000</td>\n      <td>5436229328.84</td>\n      <td>14.35</td>\n      <td>8</td>\n      <td>2.875</td>\n      <td>2.875</td>\n      <td>&lt;NA&gt;</td>\n      <td>70800000</td>\n      <td>45.0</td>\n      <td>42.76</td>\n    </tr>\n    <tr>\n      <th>20118</th>\n      <td>AVY.N</td>\n      <td>2013-04-01</td>\n      <td>0.59</td>\n      <td>0.57571</td>\n      <td>2.482</td>\n      <td>1498900000</td>\n      <td>5459128200.46</td>\n      <td>14.35</td>\n      <td>7</td>\n      <td>2.875</td>\n      <td>3.0</td>\n      <td>&lt;NA&gt;</td>\n      <td>66800000</td>\n      <td>42.57143</td>\n      <td>43.07</td>\n    </tr>\n    <tr>\n      <th>20119</th>\n      <td>AVY.N</td>\n      <td>2013-01-01</td>\n      <td>0.54</td>\n      <td>0.48571</td>\n      <td>11.178</td>\n      <td>1532200000</td>\n      <td>4413001367.2</td>\n      <td>10.4</td>\n      <td>7</td>\n      <td>3.0</td>\n      <td>3.0</td>\n      <td>&lt;NA&gt;</td>\n      <td>33400000</td>\n      <td>36.0</td>\n      <td>34.92</td>\n    </tr>\n  </tbody>\n</table>\n<p>20120 rows × 15 columns</p>\n</div>"
     },
     "execution_count": 9,
     "metadata": {},
     "output_type": "execute_result"
    }
   ],
   "source": [
    "df = df.drop(\"Date\", axis = 1)\n",
    "df.rename(columns={\"New Date\": \"Date\"}, inplace=True)\n",
    "df"
   ]
  },
  {
   "cell_type": "code",
   "execution_count": 10,
   "outputs": [
    {
     "ename": "ValueError",
     "evalue": "You are trying to merge on object and datetime64[ns] columns. If you wish to proceed you should use pd.concat",
     "output_type": "error",
     "traceback": [
      "\u001B[0;31m---------------------------------------------------------------------------\u001B[0m",
      "\u001B[0;31mValueError\u001B[0m                                Traceback (most recent call last)",
      "Cell \u001B[0;32mIn[10], line 1\u001B[0m\n\u001B[0;32m----> 1\u001B[0m df \u001B[38;5;241m=\u001B[39m \u001B[43mpd\u001B[49m\u001B[38;5;241;43m.\u001B[39;49m\u001B[43mmerge\u001B[49m\u001B[43m(\u001B[49m\u001B[43mdf\u001B[49m\u001B[43m,\u001B[49m\u001B[43m \u001B[49m\u001B[43munemployment_rate\u001B[49m\u001B[43m,\u001B[49m\u001B[43m \u001B[49m\u001B[43mon\u001B[49m\u001B[38;5;241;43m=\u001B[39;49m\u001B[38;5;124;43m'\u001B[39;49m\u001B[38;5;124;43mDate\u001B[39;49m\u001B[38;5;124;43m'\u001B[39;49m\u001B[43m,\u001B[49m\u001B[43m \u001B[49m\u001B[43mhow\u001B[49m\u001B[38;5;241;43m=\u001B[39;49m\u001B[38;5;124;43m'\u001B[39;49m\u001B[38;5;124;43mleft\u001B[39;49m\u001B[38;5;124;43m'\u001B[39;49m\u001B[43m)\u001B[49m\n\u001B[1;32m      2\u001B[0m df\n",
      "File \u001B[0;32m/opt/anaconda3/envs/AnalystForecast/lib/python3.11/site-packages/pandas/core/reshape/merge.py:110\u001B[0m, in \u001B[0;36mmerge\u001B[0;34m(left, right, how, on, left_on, right_on, left_index, right_index, sort, suffixes, copy, indicator, validate)\u001B[0m\n\u001B[1;32m     93\u001B[0m \u001B[38;5;129m@Substitution\u001B[39m(\u001B[38;5;124m\"\u001B[39m\u001B[38;5;130;01m\\n\u001B[39;00m\u001B[38;5;124mleft : DataFrame or named Series\u001B[39m\u001B[38;5;124m\"\u001B[39m)\n\u001B[1;32m     94\u001B[0m \u001B[38;5;129m@Appender\u001B[39m(_merge_doc, indents\u001B[38;5;241m=\u001B[39m\u001B[38;5;241m0\u001B[39m)\n\u001B[1;32m     95\u001B[0m \u001B[38;5;28;01mdef\u001B[39;00m \u001B[38;5;21mmerge\u001B[39m(\n\u001B[0;32m   (...)\u001B[0m\n\u001B[1;32m    108\u001B[0m     validate: \u001B[38;5;28mstr\u001B[39m \u001B[38;5;241m|\u001B[39m \u001B[38;5;28;01mNone\u001B[39;00m \u001B[38;5;241m=\u001B[39m \u001B[38;5;28;01mNone\u001B[39;00m,\n\u001B[1;32m    109\u001B[0m ) \u001B[38;5;241m-\u001B[39m\u001B[38;5;241m>\u001B[39m DataFrame:\n\u001B[0;32m--> 110\u001B[0m     op \u001B[38;5;241m=\u001B[39m \u001B[43m_MergeOperation\u001B[49m\u001B[43m(\u001B[49m\n\u001B[1;32m    111\u001B[0m \u001B[43m        \u001B[49m\u001B[43mleft\u001B[49m\u001B[43m,\u001B[49m\n\u001B[1;32m    112\u001B[0m \u001B[43m        \u001B[49m\u001B[43mright\u001B[49m\u001B[43m,\u001B[49m\n\u001B[1;32m    113\u001B[0m \u001B[43m        \u001B[49m\u001B[43mhow\u001B[49m\u001B[38;5;241;43m=\u001B[39;49m\u001B[43mhow\u001B[49m\u001B[43m,\u001B[49m\n\u001B[1;32m    114\u001B[0m \u001B[43m        \u001B[49m\u001B[43mon\u001B[49m\u001B[38;5;241;43m=\u001B[39;49m\u001B[43mon\u001B[49m\u001B[43m,\u001B[49m\n\u001B[1;32m    115\u001B[0m \u001B[43m        \u001B[49m\u001B[43mleft_on\u001B[49m\u001B[38;5;241;43m=\u001B[39;49m\u001B[43mleft_on\u001B[49m\u001B[43m,\u001B[49m\n\u001B[1;32m    116\u001B[0m \u001B[43m        \u001B[49m\u001B[43mright_on\u001B[49m\u001B[38;5;241;43m=\u001B[39;49m\u001B[43mright_on\u001B[49m\u001B[43m,\u001B[49m\n\u001B[1;32m    117\u001B[0m \u001B[43m        \u001B[49m\u001B[43mleft_index\u001B[49m\u001B[38;5;241;43m=\u001B[39;49m\u001B[43mleft_index\u001B[49m\u001B[43m,\u001B[49m\n\u001B[1;32m    118\u001B[0m \u001B[43m        \u001B[49m\u001B[43mright_index\u001B[49m\u001B[38;5;241;43m=\u001B[39;49m\u001B[43mright_index\u001B[49m\u001B[43m,\u001B[49m\n\u001B[1;32m    119\u001B[0m \u001B[43m        \u001B[49m\u001B[43msort\u001B[49m\u001B[38;5;241;43m=\u001B[39;49m\u001B[43msort\u001B[49m\u001B[43m,\u001B[49m\n\u001B[1;32m    120\u001B[0m \u001B[43m        \u001B[49m\u001B[43msuffixes\u001B[49m\u001B[38;5;241;43m=\u001B[39;49m\u001B[43msuffixes\u001B[49m\u001B[43m,\u001B[49m\n\u001B[1;32m    121\u001B[0m \u001B[43m        \u001B[49m\u001B[43mindicator\u001B[49m\u001B[38;5;241;43m=\u001B[39;49m\u001B[43mindicator\u001B[49m\u001B[43m,\u001B[49m\n\u001B[1;32m    122\u001B[0m \u001B[43m        \u001B[49m\u001B[43mvalidate\u001B[49m\u001B[38;5;241;43m=\u001B[39;49m\u001B[43mvalidate\u001B[49m\u001B[43m,\u001B[49m\n\u001B[1;32m    123\u001B[0m \u001B[43m    \u001B[49m\u001B[43m)\u001B[49m\n\u001B[1;32m    124\u001B[0m     \u001B[38;5;28;01mreturn\u001B[39;00m op\u001B[38;5;241m.\u001B[39mget_result(copy\u001B[38;5;241m=\u001B[39mcopy)\n",
      "File \u001B[0;32m/opt/anaconda3/envs/AnalystForecast/lib/python3.11/site-packages/pandas/core/reshape/merge.py:707\u001B[0m, in \u001B[0;36m_MergeOperation.__init__\u001B[0;34m(self, left, right, how, on, left_on, right_on, axis, left_index, right_index, sort, suffixes, indicator, validate)\u001B[0m\n\u001B[1;32m    699\u001B[0m (\n\u001B[1;32m    700\u001B[0m     \u001B[38;5;28mself\u001B[39m\u001B[38;5;241m.\u001B[39mleft_join_keys,\n\u001B[1;32m    701\u001B[0m     \u001B[38;5;28mself\u001B[39m\u001B[38;5;241m.\u001B[39mright_join_keys,\n\u001B[1;32m    702\u001B[0m     \u001B[38;5;28mself\u001B[39m\u001B[38;5;241m.\u001B[39mjoin_names,\n\u001B[1;32m    703\u001B[0m ) \u001B[38;5;241m=\u001B[39m \u001B[38;5;28mself\u001B[39m\u001B[38;5;241m.\u001B[39m_get_merge_keys()\n\u001B[1;32m    705\u001B[0m \u001B[38;5;66;03m# validate the merge keys dtypes. We may need to coerce\u001B[39;00m\n\u001B[1;32m    706\u001B[0m \u001B[38;5;66;03m# to avoid incompatible dtypes\u001B[39;00m\n\u001B[0;32m--> 707\u001B[0m \u001B[38;5;28;43mself\u001B[39;49m\u001B[38;5;241;43m.\u001B[39;49m\u001B[43m_maybe_coerce_merge_keys\u001B[49m\u001B[43m(\u001B[49m\u001B[43m)\u001B[49m\n\u001B[1;32m    709\u001B[0m \u001B[38;5;66;03m# If argument passed to validate,\u001B[39;00m\n\u001B[1;32m    710\u001B[0m \u001B[38;5;66;03m# check if columns specified as unique\u001B[39;00m\n\u001B[1;32m    711\u001B[0m \u001B[38;5;66;03m# are in fact unique.\u001B[39;00m\n\u001B[1;32m    712\u001B[0m \u001B[38;5;28;01mif\u001B[39;00m validate \u001B[38;5;129;01mis\u001B[39;00m \u001B[38;5;129;01mnot\u001B[39;00m \u001B[38;5;28;01mNone\u001B[39;00m:\n",
      "File \u001B[0;32m/opt/anaconda3/envs/AnalystForecast/lib/python3.11/site-packages/pandas/core/reshape/merge.py:1346\u001B[0m, in \u001B[0;36m_MergeOperation._maybe_coerce_merge_keys\u001B[0;34m(self)\u001B[0m\n\u001B[1;32m   1344\u001B[0m     \u001B[38;5;28;01mraise\u001B[39;00m \u001B[38;5;167;01mValueError\u001B[39;00m(msg)\n\u001B[1;32m   1345\u001B[0m \u001B[38;5;28;01melif\u001B[39;00m \u001B[38;5;129;01mnot\u001B[39;00m needs_i8_conversion(lk\u001B[38;5;241m.\u001B[39mdtype) \u001B[38;5;129;01mand\u001B[39;00m needs_i8_conversion(rk\u001B[38;5;241m.\u001B[39mdtype):\n\u001B[0;32m-> 1346\u001B[0m     \u001B[38;5;28;01mraise\u001B[39;00m \u001B[38;5;167;01mValueError\u001B[39;00m(msg)\n\u001B[1;32m   1347\u001B[0m \u001B[38;5;28;01melif\u001B[39;00m \u001B[38;5;28misinstance\u001B[39m(lk\u001B[38;5;241m.\u001B[39mdtype, DatetimeTZDtype) \u001B[38;5;129;01mand\u001B[39;00m \u001B[38;5;129;01mnot\u001B[39;00m \u001B[38;5;28misinstance\u001B[39m(\n\u001B[1;32m   1348\u001B[0m     rk\u001B[38;5;241m.\u001B[39mdtype, DatetimeTZDtype\n\u001B[1;32m   1349\u001B[0m ):\n\u001B[1;32m   1350\u001B[0m     \u001B[38;5;28;01mraise\u001B[39;00m \u001B[38;5;167;01mValueError\u001B[39;00m(msg)\n",
      "\u001B[0;31mValueError\u001B[0m: You are trying to merge on object and datetime64[ns] columns. If you wish to proceed you should use pd.concat"
     ]
    }
   ],
   "source": [
    "df = pd.merge(df, unemployment_rate, on='Date', how='left')\n",
    "df"
   ],
   "metadata": {
    "collapsed": false
   }
  },
  {
   "cell_type": "code",
   "execution_count": 22,
   "metadata": {
    "collapsed": false
   },
   "outputs": [],
   "source": [
    "df.to_csv(\"Dataframes/economic_story_dataframe.csv\", index=False)"
   ]
  },
  {
   "cell_type": "code",
   "execution_count": 21,
   "metadata": {
    "collapsed": false
   },
   "outputs": [],
   "source": [
    "yearly = [\"TR.TRESGScore.date\", \"TR.TRESGScore\", \"TR.GovernancePillarScore\", \"TR.AnalyticIndepBoard\"]"
   ]
  },
  {
   "cell_type": "code",
   "execution_count": null,
   "metadata": {
    "collapsed": false
   },
   "outputs": [],
   "source": [
    "#economic_story_yearly, e = ek.get_data('0#.SPX', yearly, parameters = {'SDate':'0','EDate':'-20','Period':'FY0','Frq':'FY'})"
   ]
  },
  {
   "cell_type": "code",
   "execution_count": null,
   "metadata": {
    "collapsed": false
   },
   "outputs": [],
   "source": [
    "#economic_story_yearly[\"Date\"] = pd.to_datetime(economic_story_yearly[\"Date\"]).dt.date\n",
    "#economic_story_yearly = economic_story_yearly.dropna()\n",
    "#economic_story_yearly"
   ]
  },
  {
   "cell_type": "code",
   "execution_count": null,
   "metadata": {
    "collapsed": false
   },
   "outputs": [],
   "source": [
    "#economic_story_yearly.to_csv(\"yearly_dataframe.csv\", index=False)"
   ]
  }
 ],
 "metadata": {
  "kernelspec": {
   "display_name": "base",
   "language": "python",
   "name": "python3"
  },
  "language_info": {
   "codemirror_mode": {
    "name": "ipython",
    "version": 3
   },
   "file_extension": ".py",
   "mimetype": "text/x-python",
   "name": "python",
   "nbconvert_exporter": "python",
   "pygments_lexer": "ipython3",
   "version": "3.11.0"
  },
  "vscode": {
   "interpreter": {
    "hash": "59f3145cc67fcda0343c2852f1f97113a2e6e98841e887156424448e7071ad54"
   }
  }
 },
 "nbformat": 4,
 "nbformat_minor": 0
}
