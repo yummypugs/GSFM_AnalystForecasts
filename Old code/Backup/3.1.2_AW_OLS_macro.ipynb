{
 "cells": [
  {
   "cell_type": "code",
   "execution_count": 1,
   "metadata": {},
   "outputs": [],
   "source": [
    "import pandas as pd\n",
    "import statsmodels.api as sm\n",
    "from sklearn.linear_model import LinearRegression\n",
    "from sklearn.preprocessing import MinMaxScaler\n",
    "from sklearn.preprocessing import StandardScaler\n",
    "\n",
    "import numpy as np\n",
    "\n",
    "from linearmodels.panel import PanelOLS\n",
    "import datetime as dt"
   ]
  },
  {
   "attachments": {},
   "cell_type": "markdown",
   "metadata": {},
   "source": [
    "# Characteristics OLS\n",
    "\n",
    "Professor said we should start with a regular OLS Regression.\n",
    "I quickly looked into this and think a random effects panel regression would probably fit our data better (still need to read more into this)\n",
    "So probably we can first do a regular OLS and than compare it to the random effects panel regression. Just some initial thoughts though!!!\n",
    "Here is some intial code to run them:\n"
   ]
  },
  {
   "cell_type": "code",
   "execution_count": 18,
   "metadata": {},
   "outputs": [
    {
     "data": {
      "text/plain": "      Instrument        Date GICS Industry Group Name  \\\n0          AVY.N  2013-01-01                Materials   \n1          AVY.N  2013-04-01                Materials   \n2          AVY.N  2013-07-01                Materials   \n3          AVY.N  2013-10-01                Materials   \n4          AVY.N  2014-01-01                Materials   \n...          ...         ...                      ...   \n20115    POOL.OQ  2021-10-01                Retailing   \n20116    POOL.OQ  2022-01-01                Retailing   \n20117    POOL.OQ  2022-04-01                Retailing   \n20118    POOL.OQ  2022-07-01                Retailing   \n20119    POOL.OQ  2022-10-01                Retailing   \n\n       Earnings Per Share - Actual Surprise  \\\n0                                    11.178   \n1                                     2.482   \n2                                     1.068   \n3                                     8.095   \n4                                     1.471   \n...                                     ...   \n20115                                17.194   \n20116                                40.267   \n20117                                34.342   \n20118                                 1.503   \n20119                                 4.196   \n\n       WACC Inflation Adjusted Risk Free Rate, (%)  Unemployment rate  \n0                                              NaN                8.0  \n1                                              NaN                7.6  \n2                                              NaN                7.3  \n3                                              NaN                7.2  \n4                                              NaN                6.6  \n...                                            ...                ...  \n20115                                     1.527139                4.5  \n20116                                     1.515266                4.0  \n20117                                     2.325202                3.6  \n20118                                     3.092855                3.5  \n20119                                     3.747421                3.7  \n\n[20120 rows x 6 columns]",
      "text/html": "<div>\n<style scoped>\n    .dataframe tbody tr th:only-of-type {\n        vertical-align: middle;\n    }\n\n    .dataframe tbody tr th {\n        vertical-align: top;\n    }\n\n    .dataframe thead th {\n        text-align: right;\n    }\n</style>\n<table border=\"1\" class=\"dataframe\">\n  <thead>\n    <tr style=\"text-align: right;\">\n      <th></th>\n      <th>Instrument</th>\n      <th>Date</th>\n      <th>GICS Industry Group Name</th>\n      <th>Earnings Per Share - Actual Surprise</th>\n      <th>WACC Inflation Adjusted Risk Free Rate, (%)</th>\n      <th>Unemployment rate</th>\n    </tr>\n  </thead>\n  <tbody>\n    <tr>\n      <th>0</th>\n      <td>AVY.N</td>\n      <td>2013-01-01</td>\n      <td>Materials</td>\n      <td>11.178</td>\n      <td>NaN</td>\n      <td>8.0</td>\n    </tr>\n    <tr>\n      <th>1</th>\n      <td>AVY.N</td>\n      <td>2013-04-01</td>\n      <td>Materials</td>\n      <td>2.482</td>\n      <td>NaN</td>\n      <td>7.6</td>\n    </tr>\n    <tr>\n      <th>2</th>\n      <td>AVY.N</td>\n      <td>2013-07-01</td>\n      <td>Materials</td>\n      <td>1.068</td>\n      <td>NaN</td>\n      <td>7.3</td>\n    </tr>\n    <tr>\n      <th>3</th>\n      <td>AVY.N</td>\n      <td>2013-10-01</td>\n      <td>Materials</td>\n      <td>8.095</td>\n      <td>NaN</td>\n      <td>7.2</td>\n    </tr>\n    <tr>\n      <th>4</th>\n      <td>AVY.N</td>\n      <td>2014-01-01</td>\n      <td>Materials</td>\n      <td>1.471</td>\n      <td>NaN</td>\n      <td>6.6</td>\n    </tr>\n    <tr>\n      <th>...</th>\n      <td>...</td>\n      <td>...</td>\n      <td>...</td>\n      <td>...</td>\n      <td>...</td>\n      <td>...</td>\n    </tr>\n    <tr>\n      <th>20115</th>\n      <td>POOL.OQ</td>\n      <td>2021-10-01</td>\n      <td>Retailing</td>\n      <td>17.194</td>\n      <td>1.527139</td>\n      <td>4.5</td>\n    </tr>\n    <tr>\n      <th>20116</th>\n      <td>POOL.OQ</td>\n      <td>2022-01-01</td>\n      <td>Retailing</td>\n      <td>40.267</td>\n      <td>1.515266</td>\n      <td>4.0</td>\n    </tr>\n    <tr>\n      <th>20117</th>\n      <td>POOL.OQ</td>\n      <td>2022-04-01</td>\n      <td>Retailing</td>\n      <td>34.342</td>\n      <td>2.325202</td>\n      <td>3.6</td>\n    </tr>\n    <tr>\n      <th>20118</th>\n      <td>POOL.OQ</td>\n      <td>2022-07-01</td>\n      <td>Retailing</td>\n      <td>1.503</td>\n      <td>3.092855</td>\n      <td>3.5</td>\n    </tr>\n    <tr>\n      <th>20119</th>\n      <td>POOL.OQ</td>\n      <td>2022-10-01</td>\n      <td>Retailing</td>\n      <td>4.196</td>\n      <td>3.747421</td>\n      <td>3.7</td>\n    </tr>\n  </tbody>\n</table>\n<p>20120 rows × 6 columns</p>\n</div>"
     },
     "execution_count": 18,
     "metadata": {},
     "output_type": "execute_result"
    }
   ],
   "source": [
    "#decide which df to use\n",
    "df = pd.read_csv(\"Dataframes/macro.csv\")\n",
    "#df = df.loc[:, [\"Instrument\", \"Date\", \"Earnings Per Share - Actual Surprise\", \"Revenue - Actual\", \"Net Income after Tax\"]]\n",
    "X_var_names = [\"WACC Inflation Adjusted Risk Free Rate, (%)\", \"Unemployment rate\"]\n",
    "df"
   ]
  },
  {
   "attachments": {},
   "cell_type": "markdown",
   "metadata": {},
   "source": [
    "#### OLS Regression"
   ]
  },
  {
   "cell_type": "code",
   "execution_count": 19,
   "outputs": [],
   "source": [
    "#identifying outliers and replacing them with NA\n",
    "summary_stats = df[\"Earnings Per Share - Actual Surprise\"].describe()\n",
    "Q1 = summary_stats.loc['25%']\n",
    "Q3 = summary_stats.loc['75%']\n",
    "IQR = Q3 - Q1\n",
    "threshold = 7 #1.5 is standard threshold but we still want to keep enough variation in the data so setting threshol higher here\n",
    "surprise_outliers_removed = df[\"Earnings Per Share - Actual Surprise\"].loc[~((df[\"Earnings Per Share - Actual Surprise\"] < (Q1 - threshold * IQR)) | (df[\"Earnings Per Share - Actual Surprise\"] > (Q3 + threshold * IQR)))]\n",
    "df_accuracy_new = df.copy()\n",
    "df_accuracy_new[\"Earnings Per Share - Actual Surprise\"] = surprise_outliers_removed\n",
    "df_accuracy_new = df_accuracy_new.dropna(subset=[\"Earnings Per Share - Actual Surprise\"])\n",
    "#df_accuracy_new[\"Recommendation - Mean (1-5)\"] = df_accuracy_new[\"Recommendation - Mean (1-5)\"].fillna(0)\n",
    "df_accuracy_new = df_accuracy_new.dropna()\n"
   ],
   "metadata": {
    "collapsed": false
   }
  },
  {
   "cell_type": "code",
   "execution_count": 20,
   "outputs": [
    {
     "data": {
      "text/plain": "      Instrument        Date GICS Industry Group Name  \\\n12         AVY.N  2016-01-01                Materials   \n13         AVY.N  2016-04-01                Materials   \n14         AVY.N  2016-07-01                Materials   \n15         AVY.N  2016-10-01                Materials   \n16         AVY.N  2017-01-01                Materials   \n...          ...         ...                      ...   \n20115    POOL.OQ  2021-10-01                Retailing   \n20116    POOL.OQ  2022-01-01                Retailing   \n20117    POOL.OQ  2022-04-01                Retailing   \n20118    POOL.OQ  2022-07-01                Retailing   \n20119    POOL.OQ  2022-10-01                Retailing   \n\n       Earnings Per Share - Actual Surprise  \\\n12                                    8.817   \n13                                    9.159   \n14                                    7.522   \n15                                    1.290   \n16                                    6.180   \n...                                     ...   \n20115                                17.194   \n20116                                40.267   \n20117                                34.342   \n20118                                 1.503   \n20119                                 4.196   \n\n       WACC Inflation Adjusted Risk Free Rate, (%)  Unemployment rate  \n12                                        2.304994                4.8  \n13                                        1.829833                5.1  \n14                                        1.491713                4.8  \n15                                        1.606498                4.9  \n16                                        2.431507                4.7  \n...                                            ...                ...  \n20115                                     1.527139                4.5  \n20116                                     1.515266                4.0  \n20117                                     2.325202                3.6  \n20118                                     3.092855                3.5  \n20119                                     3.747421                3.7  \n\n[12860 rows x 6 columns]",
      "text/html": "<div>\n<style scoped>\n    .dataframe tbody tr th:only-of-type {\n        vertical-align: middle;\n    }\n\n    .dataframe tbody tr th {\n        vertical-align: top;\n    }\n\n    .dataframe thead th {\n        text-align: right;\n    }\n</style>\n<table border=\"1\" class=\"dataframe\">\n  <thead>\n    <tr style=\"text-align: right;\">\n      <th></th>\n      <th>Instrument</th>\n      <th>Date</th>\n      <th>GICS Industry Group Name</th>\n      <th>Earnings Per Share - Actual Surprise</th>\n      <th>WACC Inflation Adjusted Risk Free Rate, (%)</th>\n      <th>Unemployment rate</th>\n    </tr>\n  </thead>\n  <tbody>\n    <tr>\n      <th>12</th>\n      <td>AVY.N</td>\n      <td>2016-01-01</td>\n      <td>Materials</td>\n      <td>8.817</td>\n      <td>2.304994</td>\n      <td>4.8</td>\n    </tr>\n    <tr>\n      <th>13</th>\n      <td>AVY.N</td>\n      <td>2016-04-01</td>\n      <td>Materials</td>\n      <td>9.159</td>\n      <td>1.829833</td>\n      <td>5.1</td>\n    </tr>\n    <tr>\n      <th>14</th>\n      <td>AVY.N</td>\n      <td>2016-07-01</td>\n      <td>Materials</td>\n      <td>7.522</td>\n      <td>1.491713</td>\n      <td>4.8</td>\n    </tr>\n    <tr>\n      <th>15</th>\n      <td>AVY.N</td>\n      <td>2016-10-01</td>\n      <td>Materials</td>\n      <td>1.290</td>\n      <td>1.606498</td>\n      <td>4.9</td>\n    </tr>\n    <tr>\n      <th>16</th>\n      <td>AVY.N</td>\n      <td>2017-01-01</td>\n      <td>Materials</td>\n      <td>6.180</td>\n      <td>2.431507</td>\n      <td>4.7</td>\n    </tr>\n    <tr>\n      <th>...</th>\n      <td>...</td>\n      <td>...</td>\n      <td>...</td>\n      <td>...</td>\n      <td>...</td>\n      <td>...</td>\n    </tr>\n    <tr>\n      <th>20115</th>\n      <td>POOL.OQ</td>\n      <td>2021-10-01</td>\n      <td>Retailing</td>\n      <td>17.194</td>\n      <td>1.527139</td>\n      <td>4.5</td>\n    </tr>\n    <tr>\n      <th>20116</th>\n      <td>POOL.OQ</td>\n      <td>2022-01-01</td>\n      <td>Retailing</td>\n      <td>40.267</td>\n      <td>1.515266</td>\n      <td>4.0</td>\n    </tr>\n    <tr>\n      <th>20117</th>\n      <td>POOL.OQ</td>\n      <td>2022-04-01</td>\n      <td>Retailing</td>\n      <td>34.342</td>\n      <td>2.325202</td>\n      <td>3.6</td>\n    </tr>\n    <tr>\n      <th>20118</th>\n      <td>POOL.OQ</td>\n      <td>2022-07-01</td>\n      <td>Retailing</td>\n      <td>1.503</td>\n      <td>3.092855</td>\n      <td>3.5</td>\n    </tr>\n    <tr>\n      <th>20119</th>\n      <td>POOL.OQ</td>\n      <td>2022-10-01</td>\n      <td>Retailing</td>\n      <td>4.196</td>\n      <td>3.747421</td>\n      <td>3.7</td>\n    </tr>\n  </tbody>\n</table>\n<p>12860 rows × 6 columns</p>\n</div>"
     },
     "execution_count": 20,
     "metadata": {},
     "output_type": "execute_result"
    }
   ],
   "source": [
    "df_accuracy_new"
   ],
   "metadata": {
    "collapsed": false
   }
  },
  {
   "cell_type": "code",
   "execution_count": 21,
   "metadata": {},
   "outputs": [
    {
     "data": {
      "text/plain": "<class 'statsmodels.iolib.summary.Summary'>\n\"\"\"\n                                     OLS Regression Results                                     \n================================================================================================\nDep. Variable:     Earnings Per Share - Actual Surprise   R-squared:                       0.015\nModel:                                              OLS   Adj. R-squared:                  0.015\nMethod:                                   Least Squares   F-statistic:                     95.66\nDate:                                  Sun, 26 Feb 2023   Prob (F-statistic):           5.76e-42\nTime:                                          18:53:59   Log-Likelihood:                -54926.\nNo. Observations:                                 12860   AIC:                         1.099e+05\nDf Residuals:                                     12857   BIC:                         1.099e+05\nDf Model:                                             2                                         \nCovariance Type:                              nonrobust                                         \n===============================================================================================================\n                                                  coef    std err          t      P>|t|      [0.025      0.975]\n---------------------------------------------------------------------------------------------------------------\nconst                                          13.4859      0.901     14.965      0.000      11.720      15.252\nWACC Inflation Adjusted Risk Free Rate, (%)    -2.8010      0.264    -10.590      0.000      -3.319      -2.283\nUnemployment rate                              -0.0142      0.089     -0.160      0.873      -0.188       0.160\n==============================================================================\nOmnibus:                     2185.142   Durbin-Watson:                   1.628\nProb(Omnibus):                  0.000   Jarque-Bera (JB):            19558.989\nSkew:                           0.554   Prob(JB):                         0.00\nKurtosis:                       8.939   Cond. No.                         35.5\n==============================================================================\n\nNotes:\n[1] Standard Errors assume that the covariance matrix of the errors is correctly specified.\n\"\"\"",
      "text/html": "<table class=\"simpletable\">\n<caption>OLS Regression Results</caption>\n<tr>\n  <th>Dep. Variable:</th>    <td>Earnings Per Share - Actual Surprise</td> <th>  R-squared:         </th> <td>   0.015</td> \n</tr>\n<tr>\n  <th>Model:</th>                             <td>OLS</td>                 <th>  Adj. R-squared:    </th> <td>   0.015</td> \n</tr>\n<tr>\n  <th>Method:</th>                       <td>Least Squares</td>            <th>  F-statistic:       </th> <td>   95.66</td> \n</tr>\n<tr>\n  <th>Date:</th>                       <td>Sun, 26 Feb 2023</td>           <th>  Prob (F-statistic):</th> <td>5.76e-42</td> \n</tr>\n<tr>\n  <th>Time:</th>                           <td>18:53:59</td>               <th>  Log-Likelihood:    </th> <td> -54926.</td> \n</tr>\n<tr>\n  <th>No. Observations:</th>                <td> 12860</td>                <th>  AIC:               </th> <td>1.099e+05</td>\n</tr>\n<tr>\n  <th>Df Residuals:</th>                    <td> 12857</td>                <th>  BIC:               </th> <td>1.099e+05</td>\n</tr>\n<tr>\n  <th>Df Model:</th>                        <td>     2</td>                <th>                     </th>     <td> </td>    \n</tr>\n<tr>\n  <th>Covariance Type:</th>                <td>nonrobust</td>              <th>                     </th>     <td> </td>    \n</tr>\n</table>\n<table class=\"simpletable\">\n<tr>\n                       <td></td>                          <th>coef</th>     <th>std err</th>      <th>t</th>      <th>P>|t|</th>  <th>[0.025</th>    <th>0.975]</th>  \n</tr>\n<tr>\n  <th>const</th>                                       <td>   13.4859</td> <td>    0.901</td> <td>   14.965</td> <td> 0.000</td> <td>   11.720</td> <td>   15.252</td>\n</tr>\n<tr>\n  <th>WACC Inflation Adjusted Risk Free Rate, (%)</th> <td>   -2.8010</td> <td>    0.264</td> <td>  -10.590</td> <td> 0.000</td> <td>   -3.319</td> <td>   -2.283</td>\n</tr>\n<tr>\n  <th>Unemployment rate</th>                           <td>   -0.0142</td> <td>    0.089</td> <td>   -0.160</td> <td> 0.873</td> <td>   -0.188</td> <td>    0.160</td>\n</tr>\n</table>\n<table class=\"simpletable\">\n<tr>\n  <th>Omnibus:</th>       <td>2185.142</td> <th>  Durbin-Watson:     </th> <td>   1.628</td> \n</tr>\n<tr>\n  <th>Prob(Omnibus):</th>  <td> 0.000</td>  <th>  Jarque-Bera (JB):  </th> <td>19558.989</td>\n</tr>\n<tr>\n  <th>Skew:</th>           <td> 0.554</td>  <th>  Prob(JB):          </th> <td>    0.00</td> \n</tr>\n<tr>\n  <th>Kurtosis:</th>       <td> 8.939</td>  <th>  Cond. No.          </th> <td>    35.5</td> \n</tr>\n</table><br/><br/>Notes:<br/>[1] Standard Errors assume that the covariance matrix of the errors is correctly specified."
     },
     "execution_count": 21,
     "metadata": {},
     "output_type": "execute_result"
    }
   ],
   "source": [
    "y = df_accuracy_new[\"Earnings Per Share - Actual Surprise\"]\n",
    "#X = df_accuracy_new[['Revenue - Actual', 'Net Income after Tax']]\n",
    "X = df_accuracy_new[X_var_names]\n",
    "X = sm.add_constant(X)\n",
    "\n",
    "model = sm.OLS(y, X).fit()\n",
    "\n",
    "model.summary()"
   ]
  },
  {
   "attachments": {},
   "cell_type": "markdown",
   "metadata": {},
   "source": [
    "#### OLS Pooled Regression"
   ]
  },
  {
   "cell_type": "code",
   "execution_count": 22,
   "outputs": [
    {
     "data": {
      "text/plain": "Instrument                                             object\nDate                                           datetime64[ns]\nGICS Industry Group Name                               object\nEarnings Per Share - Actual Surprise                  float64\nWACC Inflation Adjusted Risk Free Rate, (%)           float64\nUnemployment rate                                     float64\ndtype: object"
     },
     "execution_count": 22,
     "metadata": {},
     "output_type": "execute_result"
    }
   ],
   "source": [
    "df_accuracy_new['Date'] = pd.to_datetime(df_accuracy_new['Date'], infer_datetime_format=True)\n",
    "df_accuracy_new.dtypes"
   ],
   "metadata": {
    "collapsed": false
   }
  },
  {
   "cell_type": "code",
   "execution_count": 23,
   "outputs": [
    {
     "data": {
      "text/plain": "      Instrument       Date GICS Industry Group Name  \\\n12         AVY.N 2016-01-01                Materials   \n13         AVY.N 2016-04-01                Materials   \n14         AVY.N 2016-07-01                Materials   \n15         AVY.N 2016-10-01                Materials   \n16         AVY.N 2017-01-01                Materials   \n...          ...        ...                      ...   \n20115    POOL.OQ 2021-10-01                Retailing   \n20116    POOL.OQ 2022-01-01                Retailing   \n20117    POOL.OQ 2022-04-01                Retailing   \n20118    POOL.OQ 2022-07-01                Retailing   \n20119    POOL.OQ 2022-10-01                Retailing   \n\n       Earnings Per Share - Actual Surprise  \\\n12                                    8.817   \n13                                    9.159   \n14                                    7.522   \n15                                    1.290   \n16                                    6.180   \n...                                     ...   \n20115                                17.194   \n20116                                40.267   \n20117                                34.342   \n20118                                 1.503   \n20119                                 4.196   \n\n       WACC Inflation Adjusted Risk Free Rate, (%)  Unemployment rate  \n12                                        2.304994                4.8  \n13                                        1.829833                5.1  \n14                                        1.491713                4.8  \n15                                        1.606498                4.9  \n16                                        2.431507                4.7  \n...                                            ...                ...  \n20115                                     1.527139                4.5  \n20116                                     1.515266                4.0  \n20117                                     2.325202                3.6  \n20118                                     3.092855                3.5  \n20119                                     3.747421                3.7  \n\n[12860 rows x 6 columns]",
      "text/html": "<div>\n<style scoped>\n    .dataframe tbody tr th:only-of-type {\n        vertical-align: middle;\n    }\n\n    .dataframe tbody tr th {\n        vertical-align: top;\n    }\n\n    .dataframe thead th {\n        text-align: right;\n    }\n</style>\n<table border=\"1\" class=\"dataframe\">\n  <thead>\n    <tr style=\"text-align: right;\">\n      <th></th>\n      <th>Instrument</th>\n      <th>Date</th>\n      <th>GICS Industry Group Name</th>\n      <th>Earnings Per Share - Actual Surprise</th>\n      <th>WACC Inflation Adjusted Risk Free Rate, (%)</th>\n      <th>Unemployment rate</th>\n    </tr>\n  </thead>\n  <tbody>\n    <tr>\n      <th>12</th>\n      <td>AVY.N</td>\n      <td>2016-01-01</td>\n      <td>Materials</td>\n      <td>8.817</td>\n      <td>2.304994</td>\n      <td>4.8</td>\n    </tr>\n    <tr>\n      <th>13</th>\n      <td>AVY.N</td>\n      <td>2016-04-01</td>\n      <td>Materials</td>\n      <td>9.159</td>\n      <td>1.829833</td>\n      <td>5.1</td>\n    </tr>\n    <tr>\n      <th>14</th>\n      <td>AVY.N</td>\n      <td>2016-07-01</td>\n      <td>Materials</td>\n      <td>7.522</td>\n      <td>1.491713</td>\n      <td>4.8</td>\n    </tr>\n    <tr>\n      <th>15</th>\n      <td>AVY.N</td>\n      <td>2016-10-01</td>\n      <td>Materials</td>\n      <td>1.290</td>\n      <td>1.606498</td>\n      <td>4.9</td>\n    </tr>\n    <tr>\n      <th>16</th>\n      <td>AVY.N</td>\n      <td>2017-01-01</td>\n      <td>Materials</td>\n      <td>6.180</td>\n      <td>2.431507</td>\n      <td>4.7</td>\n    </tr>\n    <tr>\n      <th>...</th>\n      <td>...</td>\n      <td>...</td>\n      <td>...</td>\n      <td>...</td>\n      <td>...</td>\n      <td>...</td>\n    </tr>\n    <tr>\n      <th>20115</th>\n      <td>POOL.OQ</td>\n      <td>2021-10-01</td>\n      <td>Retailing</td>\n      <td>17.194</td>\n      <td>1.527139</td>\n      <td>4.5</td>\n    </tr>\n    <tr>\n      <th>20116</th>\n      <td>POOL.OQ</td>\n      <td>2022-01-01</td>\n      <td>Retailing</td>\n      <td>40.267</td>\n      <td>1.515266</td>\n      <td>4.0</td>\n    </tr>\n    <tr>\n      <th>20117</th>\n      <td>POOL.OQ</td>\n      <td>2022-04-01</td>\n      <td>Retailing</td>\n      <td>34.342</td>\n      <td>2.325202</td>\n      <td>3.6</td>\n    </tr>\n    <tr>\n      <th>20118</th>\n      <td>POOL.OQ</td>\n      <td>2022-07-01</td>\n      <td>Retailing</td>\n      <td>1.503</td>\n      <td>3.092855</td>\n      <td>3.5</td>\n    </tr>\n    <tr>\n      <th>20119</th>\n      <td>POOL.OQ</td>\n      <td>2022-10-01</td>\n      <td>Retailing</td>\n      <td>4.196</td>\n      <td>3.747421</td>\n      <td>3.7</td>\n    </tr>\n  </tbody>\n</table>\n<p>12860 rows × 6 columns</p>\n</div>"
     },
     "execution_count": 23,
     "metadata": {},
     "output_type": "execute_result"
    }
   ],
   "source": [
    "#df_accuracy_new.set_index([\"Instrument\", \"Date\"], inplace=True)\n",
    "df_accuracy_new"
   ],
   "metadata": {
    "collapsed": false
   }
  },
  {
   "cell_type": "markdown",
   "source": [
    "# with grouping\n"
   ],
   "metadata": {
    "collapsed": false
   }
  },
  {
   "cell_type": "code",
   "execution_count": 24,
   "outputs": [
    {
     "data": {
      "text/plain": "<class 'statsmodels.iolib.summary2.Summary'>\n\"\"\"\n\n===================================================================================================================================================================================================\n                                            AAPL.OQ  ANET.N  APH.N   CDW.OQ  CSCO.OQ FFIV.OQ GLW.N   HPE.N   HPQ.N  JNPR.N  KEYS.N MSI.N  NTAP.OQ  STX.OQ   TDY.N   TEL.N  TRMB.OQ  WDC.OQ  ZBRA.OQ\n---------------------------------------------------------------------------------------------------------------------------------------------------------------------------------------------------\nconst                                       11.13   0.21    16.99** 20.02*** 4.58    -2.74   4.63   18.35   16.32   2.65   32.83** 3.94   17.03   41.33    25.06   -0.59   16.80*  55.93**  17.81* \n                                            (10.69) (10.23) (7.43)  (5.86)   (3.81)  (4.93)  (5.16) (15.33) (11.33) (8.33) (13.49) (7.97) (16.86) (28.96)  (14.84) (5.45)  (9.32)  (21.97)  (10.34)\nWACC Inflation Adjusted Risk Free Rate, (%) -3.72   5.61*   -3.43   -4.66**  -0.29   1.65    -1.75  -0.78   -6.01*  2.67   -3.82   1.12   -6.14   -18.07** -2.46   -3.06   -6.38** -17.53** -3.41  \n                                            (3.15)  (3.01)  (2.19)  (1.72)   (0.68)  (1.45)  (1.52) (4.56)  (3.36)  (2.45) (3.97)  (2.35) (4.96)  (4.32)   (4.37)  (2.13)  (2.72)  (6.47)   (3.04) \nUnemployment rate                           0.86    0.55    -0.34   -0.63    -0.43   0.97*   1.03*  -1.30   0.28    -0.51  -2.94** 0.97   1.81    -2.60    -0.98   2.74*** 1.40    -3.07    -0.80  \n                                            (1.03)  (0.98)  (0.71)  (0.56)   (0.61)  (0.47)  (0.52) (1.50)  (1.11)  (0.80) (1.30)  (0.77) (1.62)  (5.33)   (1.43)  (0.72)  (0.87)  (2.11)   (0.99) \nR-squared                                   0.20    0.15    0.11    0.25     0.11    0.15    0.35   0.04    0.20    0.15   0.19    0.07   0.25    0.91     0.02    0.62    0.54    0.23     0.05   \nR-squared Adj.                              0.14    0.08    0.04    0.19     -0.33   0.08    0.30   -0.04   0.13    0.09   0.12    -0.01  0.19    0.85     -0.06   0.59    0.50    0.17     -0.03  \n===================================================================================================================================================================================================\nStandard errors in parentheses.\n* p<.1, ** p<.05, ***p<.01\n\"\"\"",
      "text/html": "<table class=\"simpletable\">\n<tr>\n                       <td></td>                       <th>AAPL.OQ</th> <th>ANET.N</th>   <th>APH.N</th>   <th>CDW.OQ</th>  <th>CSCO.OQ</th> <th>FFIV.OQ</th>  <th>GLW.N</th>  <th>HPE.N</th>   <th>HPQ.N</th>  <th>JNPR.N</th> <th>KEYS.N</th>   <th>MSI.N</th> <th>NTAP.OQ</th>  <th>STX.OQ</th>   <th>TDY.N</th>   <th>TEL.N</th>  <th>TRMB.OQ</th>  <th>WDC.OQ</th>  <th>ZBRA.OQ</th>\n</tr>\n<tr>\n  <th>const</th>                                        <td>11.13</td>   <td>0.21</td>   <td>16.99**</td> <td>20.02***</td>  <td>4.58</td>    <td>-2.74</td>   <td>4.63</td>   <td>18.35</td>   <td>16.32</td>   <td>2.65</td>  <td>32.83**</td>  <td>3.94</td>   <td>17.03</td>    <td>41.33</td>   <td>25.06</td>   <td>-0.59</td>  <td>16.80*</td>   <td>55.93**</td> <td>17.81*</td> \n</tr>\n<tr>\n  <th></th>                                            <td>(10.69)</td> <td>(10.23)</td> <td>(7.43)</td>   <td>(5.86)</td>  <td>(3.81)</td>  <td>(4.93)</td>  <td>(5.16)</td> <td>(15.33)</td> <td>(11.33)</td> <td>(8.33)</td> <td>(13.49)</td> <td>(7.97)</td> <td>(16.86)</td>  <td>(28.96)</td> <td>(14.84)</td> <td>(5.45)</td>  <td>(9.32)</td>   <td>(21.97)</td> <td>(10.34)</td>\n</tr>\n<tr>\n  <th>WACC Inflation Adjusted Risk Free Rate, (%)</th>  <td>-3.72</td>   <td>5.61*</td>   <td>-3.43</td>   <td>-4.66**</td>  <td>-0.29</td>   <td>1.65</td>    <td>-1.75</td>  <td>-0.78</td>  <td>-6.01*</td>   <td>2.67</td>   <td>-3.82</td>   <td>1.12</td>   <td>-6.14</td>  <td>-18.07**</td>  <td>-2.46</td>   <td>-3.06</td>  <td>-6.38**</td> <td>-17.53**</td>  <td>-3.41</td> \n</tr>\n<tr>\n  <th></th>                                            <td>(3.15)</td>  <td>(3.01)</td>  <td>(2.19)</td>   <td>(1.72)</td>  <td>(0.68)</td>  <td>(1.45)</td>  <td>(1.52)</td> <td>(4.56)</td>  <td>(3.36)</td>  <td>(2.45)</td> <td>(3.97)</td>  <td>(2.35)</td> <td>(4.96)</td>   <td>(4.32)</td>  <td>(4.37)</td>  <td>(2.13)</td>  <td>(2.72)</td>   <td>(6.47)</td>  <td>(3.04)</td> \n</tr>\n<tr>\n  <th>Unemployment rate</th>                            <td>0.86</td>    <td>0.55</td>    <td>-0.34</td>    <td>-0.63</td>   <td>-0.43</td>   <td>0.97*</td>   <td>1.03*</td>  <td>-1.30</td>   <td>0.28</td>    <td>-0.51</td> <td>-2.94**</td>  <td>0.97</td>   <td>1.81</td>     <td>-2.60</td>   <td>-0.98</td>  <td>2.74***</td>  <td>1.40</td>     <td>-3.07</td>   <td>-0.80</td> \n</tr>\n<tr>\n  <th></th>                                            <td>(1.03)</td>  <td>(0.98)</td>  <td>(0.71)</td>   <td>(0.56)</td>  <td>(0.61)</td>  <td>(0.47)</td>  <td>(0.52)</td> <td>(1.50)</td>  <td>(1.11)</td>  <td>(0.80)</td> <td>(1.30)</td>  <td>(0.77)</td> <td>(1.62)</td>   <td>(5.33)</td>  <td>(1.43)</td>  <td>(0.72)</td>  <td>(0.87)</td>   <td>(2.11)</td>  <td>(0.99)</td> \n</tr>\n<tr>\n  <th>R-squared</th>                                    <td>0.20</td>    <td>0.15</td>    <td>0.11</td>     <td>0.25</td>    <td>0.11</td>    <td>0.15</td>    <td>0.35</td>   <td>0.04</td>    <td>0.20</td>    <td>0.15</td>   <td>0.19</td>    <td>0.07</td>   <td>0.25</td>     <td>0.91</td>    <td>0.02</td>    <td>0.62</td>    <td>0.54</td>     <td>0.23</td>    <td>0.05</td>  \n</tr>\n<tr>\n  <th>R-squared Adj.</th>                               <td>0.14</td>    <td>0.08</td>    <td>0.04</td>     <td>0.19</td>    <td>-0.33</td>   <td>0.08</td>    <td>0.30</td>   <td>-0.04</td>   <td>0.13</td>    <td>0.09</td>   <td>0.12</td>    <td>-0.01</td>  <td>0.19</td>     <td>0.85</td>    <td>-0.06</td>   <td>0.59</td>    <td>0.50</td>     <td>0.17</td>    <td>-0.03</td> \n</tr>\n</table>"
     },
     "execution_count": 24,
     "metadata": {},
     "output_type": "execute_result"
    }
   ],
   "source": [
    "from statsmodels.iolib.summary2 import summary_col\n",
    "# Split the DataFrame into groups based on the stocks\n",
    "df = df_accuracy_new[df_accuracy_new['GICS Industry Group Name'] == 'Technology Hardware & Equipment']\n",
    "groups = df.groupby('Instrument')\n",
    "\n",
    "# Define a function to perform OLS regression on each group\n",
    "def ols_regression(group):\n",
    "    # Define the dependent and independent variables\n",
    "    if len(group) < 2:\n",
    "        return None\n",
    "    y = group['Earnings Per Share - Actual Surprise']\n",
    "    X = group[X_var_names]\n",
    "\n",
    "    # Add a constant to the independent variables\n",
    "    X = sm.add_constant(X)\n",
    "\n",
    "    # Fit the OLS model and return the results\n",
    "    model = sm.OLS(y, X).fit()\n",
    "    return model\n",
    "\n",
    "# Apply the function to each group of data\n",
    "results = groups.apply(ols_regression)\n",
    "results = results.dropna()\n",
    "# Collect the results into a new DataFrame\n",
    "\n",
    "# Print the coefficients, t-values, and p-values\n",
    "# print('Coefficients:')\n",
    "# print(coefficients)\n",
    "# print('\\nT-values:')\n",
    "# print(t_values)\n",
    "# print('\\nP-values:')\n",
    "models = results.tolist()\n",
    "summary = summary_col(models, stars=True, float_format='%0.2f', model_names=results.index.tolist())\n",
    "\n",
    "# Print the combined summary table\n",
    "summary"
   ],
   "metadata": {
    "collapsed": false
   }
  },
  {
   "cell_type": "code",
   "execution_count": 11,
   "outputs": [],
   "source": [
    "\n"
   ],
   "metadata": {
    "collapsed": false
   }
  }
 ],
 "metadata": {
  "kernelspec": {
   "display_name": "AnalystForecast",
   "language": "python",
   "name": "python3"
  },
  "language_info": {
   "name": "python",
   "version": "3.11.0"
  },
  "orig_nbformat": 4,
  "vscode": {
   "interpreter": {
    "hash": "264d128b47a19451ae7876f5ee246d3f7de9751940a5ebe47f15ec6626e5a91f"
   }
  }
 },
 "nbformat": 4,
 "nbformat_minor": 2
}
