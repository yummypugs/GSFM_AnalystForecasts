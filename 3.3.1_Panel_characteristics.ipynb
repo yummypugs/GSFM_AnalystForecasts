{
 "cells": [
  {
   "attachments": {},
   "cell_type": "markdown",
   "metadata": {},
   "source": [
    "# Panel Regression - Firm Characteristics"
   ]
  },
  {
   "attachments": {},
   "cell_type": "markdown",
   "metadata": {},
   "source": [
    "A panel regression is a suitable regression method for analyzing our data, especially since you have quarterly data for multiple companies over a long period of time. A panel regression model accounts for both within-entity and between-entity variations, making it a useful tool to analyze data with a time series and cross-sectional dimension.  \n",
    "With panel data, we can control for individual-level characteristics that may affect forecast accuracy by including fixed effects for each company or industry. We can also account for time-specific factors that may affect forecast accuracy by including time fixed effects or time-varying covariates."
   ]
  },
  {
   "attachments": {},
   "cell_type": "markdown",
   "metadata": {},
   "source": [
    "### Random Effects Panel Regression"
   ]
  },
  {
   "cell_type": "code",
   "execution_count": 2,
   "metadata": {},
   "outputs": [],
   "source": [
    "import pandas as pd\n",
    "import numpy as np\n",
    "import datetime as dt\n",
    "import sklearn\n",
    "import statsmodels.api as sm\n",
    "from sklearn.linear_model import LinearRegression\n",
    "from sklearn.preprocessing import MinMaxScaler\n",
    "from sklearn.preprocessing import StandardScaler\n",
    "from linearmodels.panel import PanelOLS\n",
    "from linearmodels.panel import RandomEffects\n"
   ]
  },
  {
   "attachments": {},
   "cell_type": "markdown",
   "metadata": {},
   "source": [
    "Data"
   ]
  },
  {
   "cell_type": "code",
   "execution_count": 3,
   "metadata": {},
   "outputs": [
    {
     "data": {
      "text/plain": "      Instrument       Date GICS Industry Group Name  \\\n0          AVY.N 2013-01-01                Materials   \n1          AVY.N 2013-04-01                Materials   \n2          AVY.N 2013-07-01                Materials   \n3          AVY.N 2013-10-01                Materials   \n4          AVY.N 2014-01-01                Materials   \n...          ...        ...                      ...   \n19196    POOL.OQ 2021-10-01                Retailing   \n19197    POOL.OQ 2022-01-01                Retailing   \n19198    POOL.OQ 2022-04-01                Retailing   \n19199    POOL.OQ 2022-07-01                Retailing   \n19200    POOL.OQ 2022-10-01                Retailing   \n\n       Earnings Per Share - Actual Surprise  \\\n0                                    11.178   \n1                                     2.482   \n2                                     1.068   \n3                                     8.095   \n4                                     1.471   \n...                                     ...   \n19196                                17.194   \n19197                                40.267   \n19198                                34.342   \n19199                                 1.503   \n19200                                 4.196   \n\n       Earnings Per Share - Actual Surprise AbsVals  Revenue - Actual  \\\n0                                            11.178      1.532200e+09   \n1                                             2.482      1.498900e+09   \n2                                             1.068      1.552300e+09   \n3                                             8.095      1.504900e+09   \n4                                             1.471      1.583900e+09   \n...                                             ...               ...   \n19196                                        17.194      1.411448e+09   \n19197                                        40.267      1.035557e+09   \n19198                                        34.342      1.412650e+09   \n19199                                         1.503      2.055818e+09   \n19200                                         4.196      1.615339e+09   \n\n       Market Capitalization  \\\n0               3.426001e+09   \n1               4.309428e+09   \n2               4.258229e+09   \n3               4.273414e+09   \n4               4.877168e+09   \n...                      ...   \n19196           1.742020e+10   \n19197           2.268979e+10   \n19198           1.696712e+10   \n19199           1.405795e+10   \n19200           1.259813e+10   \n\n       Enterprise Value To Sales (Daily Time Series Ratio)  \\\n0                                               0.799347     \n1                                               0.895787     \n2                                               0.906078     \n3                                               0.903176     \n4                                               0.920659     \n...                                                  ...     \n19196                                           3.684400     \n19197                                           4.504382     \n19198                                           3.422880     \n19199                                           2.749481     \n19200                                           2.383926     \n\n       3 Month Total Return    Volume  loss firm status  \n0                 10.637479  207295.0                -1  \n1                 24.148726       0.0                -1  \n2                 -0.054218       0.0                -1  \n3                  2.467620  236291.0                -1  \n4                 16.003852  157761.0                -1  \n...                     ...       ...               ...  \n19196             -5.130322  157740.0                -1  \n19197             30.489705   82349.0                -1  \n19198            -25.160664  290897.0                -1  \n19199            -21.661570  185584.0                -1  \n19200             -9.164375  238539.0                -1  \n\n[19201 rows x 11 columns]",
      "text/html": "<div>\n<style scoped>\n    .dataframe tbody tr th:only-of-type {\n        vertical-align: middle;\n    }\n\n    .dataframe tbody tr th {\n        vertical-align: top;\n    }\n\n    .dataframe thead th {\n        text-align: right;\n    }\n</style>\n<table border=\"1\" class=\"dataframe\">\n  <thead>\n    <tr style=\"text-align: right;\">\n      <th></th>\n      <th>Instrument</th>\n      <th>Date</th>\n      <th>GICS Industry Group Name</th>\n      <th>Earnings Per Share - Actual Surprise</th>\n      <th>Earnings Per Share - Actual Surprise AbsVals</th>\n      <th>Revenue - Actual</th>\n      <th>Market Capitalization</th>\n      <th>Enterprise Value To Sales (Daily Time Series Ratio)</th>\n      <th>3 Month Total Return</th>\n      <th>Volume</th>\n      <th>loss firm status</th>\n    </tr>\n  </thead>\n  <tbody>\n    <tr>\n      <th>0</th>\n      <td>AVY.N</td>\n      <td>2013-01-01</td>\n      <td>Materials</td>\n      <td>11.178</td>\n      <td>11.178</td>\n      <td>1.532200e+09</td>\n      <td>3.426001e+09</td>\n      <td>0.799347</td>\n      <td>10.637479</td>\n      <td>207295.0</td>\n      <td>-1</td>\n    </tr>\n    <tr>\n      <th>1</th>\n      <td>AVY.N</td>\n      <td>2013-04-01</td>\n      <td>Materials</td>\n      <td>2.482</td>\n      <td>2.482</td>\n      <td>1.498900e+09</td>\n      <td>4.309428e+09</td>\n      <td>0.895787</td>\n      <td>24.148726</td>\n      <td>0.0</td>\n      <td>-1</td>\n    </tr>\n    <tr>\n      <th>2</th>\n      <td>AVY.N</td>\n      <td>2013-07-01</td>\n      <td>Materials</td>\n      <td>1.068</td>\n      <td>1.068</td>\n      <td>1.552300e+09</td>\n      <td>4.258229e+09</td>\n      <td>0.906078</td>\n      <td>-0.054218</td>\n      <td>0.0</td>\n      <td>-1</td>\n    </tr>\n    <tr>\n      <th>3</th>\n      <td>AVY.N</td>\n      <td>2013-10-01</td>\n      <td>Materials</td>\n      <td>8.095</td>\n      <td>8.095</td>\n      <td>1.504900e+09</td>\n      <td>4.273414e+09</td>\n      <td>0.903176</td>\n      <td>2.467620</td>\n      <td>236291.0</td>\n      <td>-1</td>\n    </tr>\n    <tr>\n      <th>4</th>\n      <td>AVY.N</td>\n      <td>2014-01-01</td>\n      <td>Materials</td>\n      <td>1.471</td>\n      <td>1.471</td>\n      <td>1.583900e+09</td>\n      <td>4.877168e+09</td>\n      <td>0.920659</td>\n      <td>16.003852</td>\n      <td>157761.0</td>\n      <td>-1</td>\n    </tr>\n    <tr>\n      <th>...</th>\n      <td>...</td>\n      <td>...</td>\n      <td>...</td>\n      <td>...</td>\n      <td>...</td>\n      <td>...</td>\n      <td>...</td>\n      <td>...</td>\n      <td>...</td>\n      <td>...</td>\n      <td>...</td>\n    </tr>\n    <tr>\n      <th>19196</th>\n      <td>POOL.OQ</td>\n      <td>2021-10-01</td>\n      <td>Retailing</td>\n      <td>17.194</td>\n      <td>17.194</td>\n      <td>1.411448e+09</td>\n      <td>1.742020e+10</td>\n      <td>3.684400</td>\n      <td>-5.130322</td>\n      <td>157740.0</td>\n      <td>-1</td>\n    </tr>\n    <tr>\n      <th>19197</th>\n      <td>POOL.OQ</td>\n      <td>2022-01-01</td>\n      <td>Retailing</td>\n      <td>40.267</td>\n      <td>40.267</td>\n      <td>1.035557e+09</td>\n      <td>2.268979e+10</td>\n      <td>4.504382</td>\n      <td>30.489705</td>\n      <td>82349.0</td>\n      <td>-1</td>\n    </tr>\n    <tr>\n      <th>19198</th>\n      <td>POOL.OQ</td>\n      <td>2022-04-01</td>\n      <td>Retailing</td>\n      <td>34.342</td>\n      <td>34.342</td>\n      <td>1.412650e+09</td>\n      <td>1.696712e+10</td>\n      <td>3.422880</td>\n      <td>-25.160664</td>\n      <td>290897.0</td>\n      <td>-1</td>\n    </tr>\n    <tr>\n      <th>19199</th>\n      <td>POOL.OQ</td>\n      <td>2022-07-01</td>\n      <td>Retailing</td>\n      <td>1.503</td>\n      <td>1.503</td>\n      <td>2.055818e+09</td>\n      <td>1.405795e+10</td>\n      <td>2.749481</td>\n      <td>-21.661570</td>\n      <td>185584.0</td>\n      <td>-1</td>\n    </tr>\n    <tr>\n      <th>19200</th>\n      <td>POOL.OQ</td>\n      <td>2022-10-01</td>\n      <td>Retailing</td>\n      <td>4.196</td>\n      <td>4.196</td>\n      <td>1.615339e+09</td>\n      <td>1.259813e+10</td>\n      <td>2.383926</td>\n      <td>-9.164375</td>\n      <td>238539.0</td>\n      <td>-1</td>\n    </tr>\n  </tbody>\n</table>\n<p>19201 rows × 11 columns</p>\n</div>"
     },
     "execution_count": 3,
     "metadata": {},
     "output_type": "execute_result"
    }
   ],
   "source": [
    "df = pd.read_csv(\"Dataframes/characteristics_regression.csv\")\n",
    "df[\"Date\"] = pd.to_datetime(df[\"Date\"])\n",
    "df"
   ]
  },
  {
   "cell_type": "code",
   "execution_count": 3,
   "metadata": {},
   "outputs": [],
   "source": []
  },
  {
   "cell_type": "markdown",
   "metadata": {},
   "source": [
    "Remove outliers"
   ]
  },
  {
   "attachments": {},
   "cell_type": "markdown",
   "metadata": {},
   "source": [
    "Standardising some of the independent variables"
   ]
  },
  {
   "cell_type": "code",
   "execution_count": 4,
   "metadata": {},
   "outputs": [
    {
     "data": {
      "text/plain": "      Instrument       Date GICS Industry Group Name  \\\n0          AVY.N 2013-01-01                Materials   \n1          AVY.N 2013-04-01                Materials   \n2          AVY.N 2013-07-01                Materials   \n3          AVY.N 2013-10-01                Materials   \n4          AVY.N 2014-01-01                Materials   \n...          ...        ...                      ...   \n19196    POOL.OQ 2021-10-01                Retailing   \n19197    POOL.OQ 2022-01-01                Retailing   \n19198    POOL.OQ 2022-04-01                Retailing   \n19199    POOL.OQ 2022-07-01                Retailing   \n19200    POOL.OQ 2022-10-01                Retailing   \n\n       Earnings Per Share - Actual Surprise  \\\n0                                    11.178   \n1                                     2.482   \n2                                     1.068   \n3                                     8.095   \n4                                     1.471   \n...                                     ...   \n19196                                17.194   \n19197                                40.267   \n19198                                34.342   \n19199                                 1.503   \n19200                                 4.196   \n\n       Earnings Per Share - Actual Surprise AbsVals  Revenue - Actual  \\\n0                                            11.178          0.065123   \n1                                             2.482          0.064917   \n2                                             1.068          0.065247   \n3                                             8.095          0.064955   \n4                                             1.471          0.065443   \n...                                             ...               ...   \n19196                                        17.194          0.064377   \n19197                                        40.267          0.062055   \n19198                                        34.342          0.064385   \n19199                                         1.503          0.068358   \n19200                                         4.196          0.065637   \n\n       Market Capitalization  \\\n0                   0.001166   \n1                   0.001471   \n2                   0.001453   \n3                   0.001459   \n4                   0.001667   \n...                      ...   \n19196               0.006004   \n19197               0.007826   \n19198               0.005848   \n19199               0.004842   \n19200               0.004337   \n\n       Enterprise Value To Sales (Daily Time Series Ratio)  \\\n0                                               0.027195     \n1                                               0.027308     \n2                                               0.027321     \n3                                               0.027317     \n4                                               0.027338     \n...                                                  ...     \n19196                                           0.030598     \n19197                                           0.031566     \n19198                                           0.030290     \n19199                                           0.029495     \n19200                                           0.029064     \n\n       3 Month Total Return    Volume  loss firm status  \n0                  0.298034  0.001183                -1  \n1                  0.340793  0.000000                -1  \n2                  0.264198  0.000000                -1  \n3                  0.272179  0.001348                -1  \n4                  0.315017  0.000900                -1  \n...                     ...       ...               ...  \n19196              0.248134  0.000900                -1  \n19197              0.360861  0.000470                -1  \n19198              0.184744  0.001660                -1  \n19199              0.195817  0.001059                -1  \n19200              0.235367  0.001361                -1  \n\n[19201 rows x 11 columns]",
      "text/html": "<div>\n<style scoped>\n    .dataframe tbody tr th:only-of-type {\n        vertical-align: middle;\n    }\n\n    .dataframe tbody tr th {\n        vertical-align: top;\n    }\n\n    .dataframe thead th {\n        text-align: right;\n    }\n</style>\n<table border=\"1\" class=\"dataframe\">\n  <thead>\n    <tr style=\"text-align: right;\">\n      <th></th>\n      <th>Instrument</th>\n      <th>Date</th>\n      <th>GICS Industry Group Name</th>\n      <th>Earnings Per Share - Actual Surprise</th>\n      <th>Earnings Per Share - Actual Surprise AbsVals</th>\n      <th>Revenue - Actual</th>\n      <th>Market Capitalization</th>\n      <th>Enterprise Value To Sales (Daily Time Series Ratio)</th>\n      <th>3 Month Total Return</th>\n      <th>Volume</th>\n      <th>loss firm status</th>\n    </tr>\n  </thead>\n  <tbody>\n    <tr>\n      <th>0</th>\n      <td>AVY.N</td>\n      <td>2013-01-01</td>\n      <td>Materials</td>\n      <td>11.178</td>\n      <td>11.178</td>\n      <td>0.065123</td>\n      <td>0.001166</td>\n      <td>0.027195</td>\n      <td>0.298034</td>\n      <td>0.001183</td>\n      <td>-1</td>\n    </tr>\n    <tr>\n      <th>1</th>\n      <td>AVY.N</td>\n      <td>2013-04-01</td>\n      <td>Materials</td>\n      <td>2.482</td>\n      <td>2.482</td>\n      <td>0.064917</td>\n      <td>0.001471</td>\n      <td>0.027308</td>\n      <td>0.340793</td>\n      <td>0.000000</td>\n      <td>-1</td>\n    </tr>\n    <tr>\n      <th>2</th>\n      <td>AVY.N</td>\n      <td>2013-07-01</td>\n      <td>Materials</td>\n      <td>1.068</td>\n      <td>1.068</td>\n      <td>0.065247</td>\n      <td>0.001453</td>\n      <td>0.027321</td>\n      <td>0.264198</td>\n      <td>0.000000</td>\n      <td>-1</td>\n    </tr>\n    <tr>\n      <th>3</th>\n      <td>AVY.N</td>\n      <td>2013-10-01</td>\n      <td>Materials</td>\n      <td>8.095</td>\n      <td>8.095</td>\n      <td>0.064955</td>\n      <td>0.001459</td>\n      <td>0.027317</td>\n      <td>0.272179</td>\n      <td>0.001348</td>\n      <td>-1</td>\n    </tr>\n    <tr>\n      <th>4</th>\n      <td>AVY.N</td>\n      <td>2014-01-01</td>\n      <td>Materials</td>\n      <td>1.471</td>\n      <td>1.471</td>\n      <td>0.065443</td>\n      <td>0.001667</td>\n      <td>0.027338</td>\n      <td>0.315017</td>\n      <td>0.000900</td>\n      <td>-1</td>\n    </tr>\n    <tr>\n      <th>...</th>\n      <td>...</td>\n      <td>...</td>\n      <td>...</td>\n      <td>...</td>\n      <td>...</td>\n      <td>...</td>\n      <td>...</td>\n      <td>...</td>\n      <td>...</td>\n      <td>...</td>\n      <td>...</td>\n    </tr>\n    <tr>\n      <th>19196</th>\n      <td>POOL.OQ</td>\n      <td>2021-10-01</td>\n      <td>Retailing</td>\n      <td>17.194</td>\n      <td>17.194</td>\n      <td>0.064377</td>\n      <td>0.006004</td>\n      <td>0.030598</td>\n      <td>0.248134</td>\n      <td>0.000900</td>\n      <td>-1</td>\n    </tr>\n    <tr>\n      <th>19197</th>\n      <td>POOL.OQ</td>\n      <td>2022-01-01</td>\n      <td>Retailing</td>\n      <td>40.267</td>\n      <td>40.267</td>\n      <td>0.062055</td>\n      <td>0.007826</td>\n      <td>0.031566</td>\n      <td>0.360861</td>\n      <td>0.000470</td>\n      <td>-1</td>\n    </tr>\n    <tr>\n      <th>19198</th>\n      <td>POOL.OQ</td>\n      <td>2022-04-01</td>\n      <td>Retailing</td>\n      <td>34.342</td>\n      <td>34.342</td>\n      <td>0.064385</td>\n      <td>0.005848</td>\n      <td>0.030290</td>\n      <td>0.184744</td>\n      <td>0.001660</td>\n      <td>-1</td>\n    </tr>\n    <tr>\n      <th>19199</th>\n      <td>POOL.OQ</td>\n      <td>2022-07-01</td>\n      <td>Retailing</td>\n      <td>1.503</td>\n      <td>1.503</td>\n      <td>0.068358</td>\n      <td>0.004842</td>\n      <td>0.029495</td>\n      <td>0.195817</td>\n      <td>0.001059</td>\n      <td>-1</td>\n    </tr>\n    <tr>\n      <th>19200</th>\n      <td>POOL.OQ</td>\n      <td>2022-10-01</td>\n      <td>Retailing</td>\n      <td>4.196</td>\n      <td>4.196</td>\n      <td>0.065637</td>\n      <td>0.004337</td>\n      <td>0.029064</td>\n      <td>0.235367</td>\n      <td>0.001361</td>\n      <td>-1</td>\n    </tr>\n  </tbody>\n</table>\n<p>19201 rows × 11 columns</p>\n</div>"
     },
     "execution_count": 4,
     "metadata": {},
     "output_type": "execute_result"
    }
   ],
   "source": [
    "rescale = df.copy()\n",
    "#rescale[\"Earnings Per Share - Actual Surprise\"] = MinMaxScaler().fit_transform(np.array(rescale[\"Earnings Per Share - Actual Surprise\"]).reshape(-1,1))\n",
    "rescale[\"Revenue - Actual\"] = MinMaxScaler().fit_transform(np.array(rescale[\"Revenue - Actual\"]).reshape(-1,1))\n",
    "rescale[\"Market Capitalization\"] = MinMaxScaler().fit_transform(np.array(rescale[\"Market Capitalization\"]).reshape(-1,1))\n",
    "rescale[\"Enterprise Value To Sales (Daily Time Series Ratio)\"] = MinMaxScaler().fit_transform(np.array(rescale[\"Enterprise Value To Sales (Daily Time Series Ratio)\"]).reshape(-1,1))\n",
    "rescale[\"3 Month Total Return\"] = MinMaxScaler().fit_transform(np.array(rescale[\"3 Month Total Return\"]).reshape(-1,1))\n",
    "rescale[\"Volume\"] = MinMaxScaler().fit_transform(np.array(rescale[\"Volume\"]).reshape(-1,1))\n",
    "df_clean = rescale\n",
    "df_clean"
   ]
  },
  {
   "cell_type": "code",
   "execution_count": 5,
   "metadata": {},
   "outputs": [],
   "source": [
    "df_panel = df_clean.copy()"
   ]
  },
  {
   "attachments": {},
   "cell_type": "markdown",
   "metadata": {},
   "source": [
    "#### Fixed Effects Panel Regression"
   ]
  },
  {
   "attachments": {},
   "cell_type": "markdown",
   "metadata": {},
   "source": [
    "In a fixed effects panel regression, the individual-specific effects are modeled as fixed variables that do not vary across time. This means that the coefficients of the independent variables are estimated based on the within-entity variation in the data, which eliminates the effect of time-invariant unobserved heterogeneity.\n",
    "\n",
    "Fixed effects models are useful when there are time-invariant unobserved variables that may affect the dependent variable, but are not included in the model. By modeling the individual-specific effects as fixed variables, fixed effects models can control for this unobserved heterogeneity and estimate the coefficients of the independent variables based on the within-entity variation, which provides more efficient estimates of the coefficients.\n",
    "\n",
    "One limitation of fixed effects models is that they do not allow for testing the effect of time-invariant variables on the dependent variable. In addition, fixed effects models may suffer from the incidental parameter problem, which may lead to biased estimates of the coefficients of the independent variables in the presence of a large number of fixed effects."
   ]
  },
  {
   "cell_type": "code",
   "execution_count": 6,
   "metadata": {
    "collapsed": false
   },
   "outputs": [],
   "source": [
    "#reformatting indices of dataframe for panel regression\n",
    "df_clean['Instrument'] = df_clean['Instrument'].astype('category')\n",
    "df_clean['Date'] = pd.to_datetime(df_clean['Date'])\n",
    "\n",
    "# set the index to be the time variable and the cross-sectional variable\n",
    "df_clean.set_index(['Instrument', 'Date'], inplace=True)\n",
    "#df_clean"
   ]
  },
  {
   "attachments": {},
   "cell_type": "markdown",
   "metadata": {},
   "source": [
    "Regression with **Absolute** Surprise Values"
   ]
  },
  {
   "cell_type": "code",
   "execution_count": 7,
   "metadata": {
    "collapsed": false
   },
   "outputs": [
    {
     "name": "stderr",
     "output_type": "stream",
     "text": [
      "C:\\Users\\alexa\\mambaforge\\envs\\AnalystForecast\\Lib\\site-packages\\linearmodels\\panel\\model.py:1183: MissingValueWarning: \n",
      "Inputs contain missing values. Dropping rows with missing observations.\n",
      "  super().__init__(dependent, exog, weights=weights, check_rank=check_rank)\n"
     ]
    },
    {
     "data": {
      "text/plain": "<class 'linearmodels.compat.statsmodels.Summary'>\n\"\"\"\n                                       PanelOLS Estimation Summary                                        \n==========================================================================================================\nDep. Variable:     Earnings Per Share - Actual Surprise AbsVals   R-squared:                        0.0098\nEstimator:                                             PanelOLS   R-squared (Between):             -0.5552\nNo. Observations:                                         19081   R-squared (Within):               0.0113\nDate:                                          Sun, Mar 05 2023   R-squared (Overall):             -0.2220\nTime:                                                  20:44:31   Log-likelihood                -9.287e+04\nCov. Estimator:                                      Unadjusted                                           \n                                                                  F-statistic:                      30.639\nEntities:                                                   502   P-value                           0.0000\nAvg Obs:                                                 38.010   Distribution:                 F(6,18534)\nMin Obs:                                                 2.0000                                           \nMax Obs:                                                 40.000   F-statistic (robust):             30.639\n                                                                  P-value                           0.0000\nTime periods:                                                40   Distribution:                 F(6,18534)\nAvg Obs:                                                 477.02                                           \nMin Obs:                                                 444.00                                           \nMax Obs:                                                 499.00                                           \n                                                                                                          \n                                                  Parameter Estimates                                                  \n=======================================================================================================================\n                                                     Parameter  Std. Err.     T-stat    P-value    Lower CI    Upper CI\n-----------------------------------------------------------------------------------------------------------------------\nRevenue - Actual                                       -44.242     13.231    -3.3438     0.0008     -70.176     -18.307\nMarket Capitalization                                  -16.626     12.979    -1.2810     0.2002     -42.066      8.8139\nEnterprise Value To Sales (Daily Time Series Ratio)    -69.513     21.347    -3.2563     0.0011     -111.36     -27.670\n3 Month Total Return                                    9.1654     5.6859     1.6120     0.1070     -1.9794      20.310\nVolume                                                 -9.5105     18.324    -0.5190     0.6037     -45.426      26.406\nloss firm status                                        5.8119     0.4890     11.886     0.0000      4.8535      6.7703\n=======================================================================================================================\n\nF-test for Poolability: 10.588\nP-value: 0.0000\nDistribution: F(540,18534)\n\nIncluded effects: Entity, Time\n\"\"\"",
      "text/html": "<table class=\"simpletable\">\n<caption>PanelOLS Estimation Summary</caption>\n<tr>\n  <th>Dep. Variable:</th>    <td>Earnings Per Share - Actual Surprise AbsVals</td> <th>  R-squared:         </th>     <td>0.0098</td>  \n</tr>\n<tr>\n  <th>Estimator:</th>                          <td>PanelOLS</td>                   <th>  R-squared (Between):</th>    <td>-0.5552</td> \n</tr>\n<tr>\n  <th>No. Observations:</th>                     <td>19081</td>                    <th>  R-squared (Within):</th>     <td>0.0113</td>  \n</tr>\n<tr>\n  <th>Date:</th>                           <td>Sun, Mar 05 2023</td>               <th>  R-squared (Overall):</th>    <td>-0.2220</td> \n</tr>\n<tr>\n  <th>Time:</th>                               <td>20:44:31</td>                   <th>  Log-likelihood     </th>   <td>-9.287e+04</td>\n</tr>\n<tr>\n  <th>Cov. Estimator:</th>                    <td>Unadjusted</td>                  <th>                     </th>        <td></td>     \n</tr>\n<tr>\n  <th></th>                                        <td></td>                       <th>  F-statistic:       </th>     <td>30.639</td>  \n</tr>\n<tr>\n  <th>Entities:</th>                              <td>502</td>                     <th>  P-value            </th>     <td>0.0000</td>  \n</tr>\n<tr>\n  <th>Avg Obs:</th>                             <td>38.010</td>                    <th>  Distribution:      </th>   <td>F(6,18534)</td>\n</tr>\n<tr>\n  <th>Min Obs:</th>                             <td>2.0000</td>                    <th>                     </th>        <td></td>     \n</tr>\n<tr>\n  <th>Max Obs:</th>                             <td>40.000</td>                    <th>  F-statistic (robust):</th>   <td>30.639</td>  \n</tr>\n<tr>\n  <th></th>                                        <td></td>                       <th>  P-value            </th>     <td>0.0000</td>  \n</tr>\n<tr>\n  <th>Time periods:</th>                          <td>40</td>                      <th>  Distribution:      </th>   <td>F(6,18534)</td>\n</tr>\n<tr>\n  <th>Avg Obs:</th>                             <td>477.02</td>                    <th>                     </th>        <td></td>     \n</tr>\n<tr>\n  <th>Min Obs:</th>                             <td>444.00</td>                    <th>                     </th>        <td></td>     \n</tr>\n<tr>\n  <th>Max Obs:</th>                             <td>499.00</td>                    <th>                     </th>        <td></td>     \n</tr>\n<tr>\n  <th></th>                                        <td></td>                       <th>                     </th>        <td></td>     \n</tr>\n</table>\n<table class=\"simpletable\">\n<caption>Parameter Estimates</caption>\n<tr>\n                           <td></td>                           <th>Parameter</th> <th>Std. Err.</th> <th>T-stat</th>  <th>P-value</th> <th>Lower CI</th> <th>Upper CI</th>\n</tr>\n<tr>\n  <th>Revenue - Actual</th>                                     <td>-44.242</td>   <td>13.231</td>   <td>-3.3438</td> <td>0.0008</td>   <td>-70.176</td>  <td>-18.307</td>\n</tr>\n<tr>\n  <th>Market Capitalization</th>                                <td>-16.626</td>   <td>12.979</td>   <td>-1.2810</td> <td>0.2002</td>   <td>-42.066</td>  <td>8.8139</td> \n</tr>\n<tr>\n  <th>Enterprise Value To Sales (Daily Time Series Ratio)</th>  <td>-69.513</td>   <td>21.347</td>   <td>-3.2563</td> <td>0.0011</td>   <td>-111.36</td>  <td>-27.670</td>\n</tr>\n<tr>\n  <th>3 Month Total Return</th>                                 <td>9.1654</td>    <td>5.6859</td>   <td>1.6120</td>  <td>0.1070</td>   <td>-1.9794</td>  <td>20.310</td> \n</tr>\n<tr>\n  <th>Volume</th>                                               <td>-9.5105</td>   <td>18.324</td>   <td>-0.5190</td> <td>0.6037</td>   <td>-45.426</td>  <td>26.406</td> \n</tr>\n<tr>\n  <th>loss firm status</th>                                     <td>5.8119</td>    <td>0.4890</td>   <td>11.886</td>  <td>0.0000</td>   <td>4.8535</td>   <td>6.7703</td> \n</tr>\n</table><br/><br/>F-test for Poolability: 10.588<br/>P-value: 0.0000<br/>Distribution: F(540,18534)<br/><br/>Included effects: Entity, Time"
     },
     "execution_count": 7,
     "metadata": {},
     "output_type": "execute_result"
    }
   ],
   "source": [
    "y = df_clean.loc[:, \"Earnings Per Share - Actual Surprise AbsVals\"]\n",
    "X = df_clean.loc[:, \"Revenue - Actual\":]\n",
    "\n",
    "# perform the fixed effects panel regression\n",
    "fixed_effects_model = PanelOLS(y, X, entity_effects=True, time_effects=True)\n",
    "\n",
    "# fit the model and print the summary statistics\n",
    "fixed_effects_results = fixed_effects_model.fit()\n",
    "fixed_effects_results.summary\n"
   ]
  },
  {
   "attachments": {},
   "cell_type": "markdown",
   "metadata": {},
   "source": [
    "#### By Industry: Example Tech Industry"
   ]
  },
  {
   "attachments": {},
   "cell_type": "markdown",
   "metadata": {},
   "source": [
    "With Absolute Surprise Values"
   ]
  },
  {
   "cell_type": "code",
   "execution_count": 8,
   "metadata": {},
   "outputs": [
    {
     "name": "stderr",
     "output_type": "stream",
     "text": [
      "C:\\Users\\alexa\\AppData\\Local\\Temp\\ipykernel_18032\\3204827800.py:3: SettingWithCopyWarning: \n",
      "A value is trying to be set on a copy of a slice from a DataFrame.\n",
      "Try using .loc[row_indexer,col_indexer] = value instead\n",
      "\n",
      "See the caveats in the documentation: https://pandas.pydata.org/pandas-docs/stable/user_guide/indexing.html#returning-a-view-versus-a-copy\n",
      "  group['Instrument'] = group['Instrument'].astype('category')\n",
      "C:\\Users\\alexa\\AppData\\Local\\Temp\\ipykernel_18032\\3204827800.py:4: SettingWithCopyWarning: \n",
      "A value is trying to be set on a copy of a slice from a DataFrame.\n",
      "Try using .loc[row_indexer,col_indexer] = value instead\n",
      "\n",
      "See the caveats in the documentation: https://pandas.pydata.org/pandas-docs/stable/user_guide/indexing.html#returning-a-view-versus-a-copy\n",
      "  group['Date'] = pd.to_datetime(group['Date'])\n",
      "C:\\Users\\alexa\\mambaforge\\envs\\AnalystForecast\\Lib\\site-packages\\linearmodels\\panel\\model.py:1183: MissingValueWarning: \n",
      "Inputs contain missing values. Dropping rows with missing observations.\n",
      "  super().__init__(dependent, exog, weights=weights, check_rank=check_rank)\n"
     ]
    },
    {
     "data": {
      "text/plain": "                                       PanelOLS Estimation Summary                                        \n==========================================================================================================\nDep. Variable:     Earnings Per Share - Actual Surprise AbsVals   R-squared:                        0.0306\nEstimator:                                             PanelOLS   R-squared (Between):              0.8152\nNo. Observations:                                           728   R-squared (Within):               0.0373\nDate:                                          Sun, Mar 05 2023   R-squared (Overall):              0.3919\nTime:                                                  20:44:32   Log-likelihood                   -2759.7\nCov. Estimator:                                      Unadjusted                                           \n                                                                  F-statistic:                      3.4916\nEntities:                                                    19   P-value                           0.0021\nAvg Obs:                                                 38.316   Distribution:                   F(6,664)\nMin Obs:                                                 27.000                                           \nMax Obs:                                                 40.000   F-statistic (robust):             3.4916\n                                                                  P-value                           0.0021\nTime periods:                                                40   Distribution:                   F(6,664)\nAvg Obs:                                                 18.200                                           \nMin Obs:                                                 15.000                                           \nMax Obs:                                                 19.000                                           \n                                                                                                          \n                                                  Parameter Estimates                                                  \n=======================================================================================================================\n                                                     Parameter  Std. Err.     T-stat    P-value    Lower CI    Upper CI\n-----------------------------------------------------------------------------------------------------------------------\nRevenue - Actual                                       -3.5828     20.760    -0.1726     0.8630     -44.347      37.181\nMarket Capitalization                                   8.5961     11.346     0.7576     0.4489     -13.682      30.874\nEnterprise Value To Sales (Daily Time Series Ratio)     205.14     491.62     0.4173     0.6766     -760.17      1170.5\n3 Month Total Return                                    16.620     11.422     1.4551     0.1461     -5.8074      39.047\nVolume                                                 -0.3770     13.113    -0.0287     0.9771     -26.126      25.372\nloss firm status                                        3.9597     0.9781     4.0486     0.0001      2.0393      5.8802\n=======================================================================================================================\n\nF-test for Poolability: 2.3774\nP-value: 0.0000\nDistribution: F(57,664)\n\nIncluded effects: Entity, Time\nPanelEffectsResults, id: 0x1c3f86f42d0",
      "text/html": "<table class=\"simpletable\">\n<caption>PanelOLS Estimation Summary</caption>\n<tr>\n  <th>Dep. Variable:</th>    <td>Earnings Per Share - Actual Surprise AbsVals</td> <th>  R-squared:         </th>    <td>0.0306</td> \n</tr>\n<tr>\n  <th>Estimator:</th>                          <td>PanelOLS</td>                   <th>  R-squared (Between):</th>   <td>0.8152</td> \n</tr>\n<tr>\n  <th>No. Observations:</th>                      <td>728</td>                     <th>  R-squared (Within):</th>    <td>0.0373</td> \n</tr>\n<tr>\n  <th>Date:</th>                           <td>Sun, Mar 05 2023</td>               <th>  R-squared (Overall):</th>   <td>0.3919</td> \n</tr>\n<tr>\n  <th>Time:</th>                               <td>20:44:32</td>                   <th>  Log-likelihood     </th>    <td>-2759.7</td>\n</tr>\n<tr>\n  <th>Cov. Estimator:</th>                    <td>Unadjusted</td>                  <th>                     </th>       <td></td>    \n</tr>\n<tr>\n  <th></th>                                        <td></td>                       <th>  F-statistic:       </th>    <td>3.4916</td> \n</tr>\n<tr>\n  <th>Entities:</th>                              <td>19</td>                      <th>  P-value            </th>    <td>0.0021</td> \n</tr>\n<tr>\n  <th>Avg Obs:</th>                             <td>38.316</td>                    <th>  Distribution:      </th>   <td>F(6,664)</td>\n</tr>\n<tr>\n  <th>Min Obs:</th>                             <td>27.000</td>                    <th>                     </th>       <td></td>    \n</tr>\n<tr>\n  <th>Max Obs:</th>                             <td>40.000</td>                    <th>  F-statistic (robust):</th>  <td>3.4916</td> \n</tr>\n<tr>\n  <th></th>                                        <td></td>                       <th>  P-value            </th>    <td>0.0021</td> \n</tr>\n<tr>\n  <th>Time periods:</th>                          <td>40</td>                      <th>  Distribution:      </th>   <td>F(6,664)</td>\n</tr>\n<tr>\n  <th>Avg Obs:</th>                             <td>18.200</td>                    <th>                     </th>       <td></td>    \n</tr>\n<tr>\n  <th>Min Obs:</th>                             <td>15.000</td>                    <th>                     </th>       <td></td>    \n</tr>\n<tr>\n  <th>Max Obs:</th>                             <td>19.000</td>                    <th>                     </th>       <td></td>    \n</tr>\n<tr>\n  <th></th>                                        <td></td>                       <th>                     </th>       <td></td>    \n</tr>\n</table>\n<table class=\"simpletable\">\n<caption>Parameter Estimates</caption>\n<tr>\n                           <td></td>                           <th>Parameter</th> <th>Std. Err.</th> <th>T-stat</th>  <th>P-value</th> <th>Lower CI</th> <th>Upper CI</th>\n</tr>\n<tr>\n  <th>Revenue - Actual</th>                                     <td>-3.5828</td>   <td>20.760</td>   <td>-0.1726</td> <td>0.8630</td>   <td>-44.347</td>  <td>37.181</td> \n</tr>\n<tr>\n  <th>Market Capitalization</th>                                <td>8.5961</td>    <td>11.346</td>   <td>0.7576</td>  <td>0.4489</td>   <td>-13.682</td>  <td>30.874</td> \n</tr>\n<tr>\n  <th>Enterprise Value To Sales (Daily Time Series Ratio)</th>  <td>205.14</td>    <td>491.62</td>   <td>0.4173</td>  <td>0.6766</td>   <td>-760.17</td>  <td>1170.5</td> \n</tr>\n<tr>\n  <th>3 Month Total Return</th>                                 <td>16.620</td>    <td>11.422</td>   <td>1.4551</td>  <td>0.1461</td>   <td>-5.8074</td>  <td>39.047</td> \n</tr>\n<tr>\n  <th>Volume</th>                                               <td>-0.3770</td>   <td>13.113</td>   <td>-0.0287</td> <td>0.9771</td>   <td>-26.126</td>  <td>25.372</td> \n</tr>\n<tr>\n  <th>loss firm status</th>                                     <td>3.9597</td>    <td>0.9781</td>   <td>4.0486</td>  <td>0.0001</td>   <td>2.0393</td>   <td>5.8802</td> \n</tr>\n</table><br/><br/>F-test for Poolability: 2.3774<br/>P-value: 0.0000<br/>Distribution: F(57,664)<br/><br/>Included effects: Entity, Time<br/>id: 0x1c3f86f42d0"
     },
     "execution_count": 8,
     "metadata": {},
     "output_type": "execute_result"
    }
   ],
   "source": [
    "group = df_panel[df_panel['GICS Industry Group Name'] == 'Technology Hardware & Equipment']\n",
    "\n",
    "group['Instrument'] = group['Instrument'].astype('category')\n",
    "group['Date'] = pd.to_datetime(group['Date'])\n",
    "group.set_index(['Instrument', 'Date'], inplace=True)\n",
    "\n",
    "y = group.loc[:, \"Earnings Per Share - Actual Surprise AbsVals\"]\n",
    "X = group.loc[:, \"Revenue - Actual\":]\n",
    "\n",
    "model = PanelOLS(y, X, entity_effects=True, time_effects=True).fit()\n",
    "model"
   ]
  },
  {
   "cell_type": "code",
   "execution_count": null,
   "outputs": [],
   "source": [],
   "metadata": {
    "collapsed": false
   }
  }
 ],
 "metadata": {
  "kernelspec": {
   "display_name": "AnalystForecast",
   "language": "python",
   "name": "python3"
  },
  "language_info": {
   "codemirror_mode": {
    "name": "ipython",
    "version": 3
   },
   "file_extension": ".py",
   "mimetype": "text/x-python",
   "name": "python",
   "nbconvert_exporter": "python",
   "pygments_lexer": "ipython3",
   "version": "3.11.0"
  },
  "orig_nbformat": 4,
  "vscode": {
   "interpreter": {
    "hash": "264d128b47a19451ae7876f5ee246d3f7de9751940a5ebe47f15ec6626e5a91f"
   }
  }
 },
 "nbformat": 4,
 "nbformat_minor": 2
}
