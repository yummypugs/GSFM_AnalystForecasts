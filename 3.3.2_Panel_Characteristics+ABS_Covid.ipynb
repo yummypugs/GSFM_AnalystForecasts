{
 "cells": [
  {
   "attachments": {},
   "cell_type": "markdown",
   "metadata": {},
   "source": [
    "# Panel Regression - Firm Characteristics"
   ]
  },
  {
   "attachments": {},
   "cell_type": "markdown",
   "metadata": {},
   "source": [
    "A panel regression is a suitable regression method for analyzing our data, especially since you have quarterly data for multiple companies over a long period of time. A panel regression model accounts for both within-entity and between-entity variations, making it a useful tool to analyze data with a time series and cross-sectional dimension.  \n",
    "With panel data, we can control for individual-level characteristics that may affect forecast accuracy by including fixed effects for each company or industry. We can also account for time-specific factors that may affect forecast accuracy by including time fixed effects or time-varying covariates."
   ]
  },
  {
   "attachments": {},
   "cell_type": "markdown",
   "metadata": {},
   "source": [
    "### Random Effects Panel Regression"
   ]
  },
  {
   "cell_type": "code",
   "execution_count": 1,
   "metadata": {},
   "outputs": [],
   "source": [
    "import pandas as pd\n",
    "import numpy as np\n",
    "import datetime as dt\n",
    "import sklearn\n",
    "import statsmodels.api as sm\n",
    "from sklearn.linear_model import LinearRegression\n",
    "from sklearn.preprocessing import MinMaxScaler\n",
    "from sklearn.preprocessing import StandardScaler\n",
    "from linearmodels.panel import PanelOLS\n",
    "from linearmodels.panel import RandomEffects"
   ]
  },
  {
   "attachments": {},
   "cell_type": "markdown",
   "metadata": {},
   "source": [
    "Data"
   ]
  },
  {
   "cell_type": "code",
   "execution_count": 2,
   "metadata": {},
   "outputs": [
    {
     "data": {
      "text/plain": "      Instrument        Date GICS Industry Group Name  \\\n0          AVY.N  2013-01-01                Materials   \n1          AVY.N  2013-04-01                Materials   \n2          AVY.N  2013-07-01                Materials   \n3          AVY.N  2013-10-01                Materials   \n4          AVY.N  2014-01-01                Materials   \n...          ...         ...                      ...   \n19299    POOL.OQ  2021-10-01                Retailing   \n19300    POOL.OQ  2022-01-01                Retailing   \n19301    POOL.OQ  2022-04-01                Retailing   \n19302    POOL.OQ  2022-07-01                Retailing   \n19303    POOL.OQ  2022-10-01                Retailing   \n\n       Earnings Per Share - Actual Surprise  \\\n0                                    11.178   \n1                                     2.482   \n2                                     1.068   \n3                                     8.095   \n4                                     1.471   \n...                                     ...   \n19299                                17.194   \n19300                                40.267   \n19301                                34.342   \n19302                                 1.503   \n19303                                 4.196   \n\n       Earnings Per Share - Actual Surprise AbsVals  Revenue - Actual  \\\n0                                            11.178      1.532200e+09   \n1                                             2.482      1.498900e+09   \n2                                             1.068      1.552300e+09   \n3                                             8.095      1.504900e+09   \n4                                             1.471      1.583900e+09   \n...                                             ...               ...   \n19299                                        17.194      1.411448e+09   \n19300                                        40.267      1.035557e+09   \n19301                                        34.342      1.412650e+09   \n19302                                         1.503      2.055818e+09   \n19303                                         4.196      1.615339e+09   \n\n       Enterprise Value  Market Capitalization  \\\n0          4.413001e+09           3.426001e+09   \n1          5.459128e+09           4.309428e+09   \n2          5.436229e+09           4.258229e+09   \n3          5.029514e+09           4.273414e+09   \n4          5.553068e+09           4.877168e+09   \n...                 ...                    ...   \n19299      1.769954e+10           1.742020e+10   \n19300      2.384882e+10           2.268979e+10   \n19301      1.843682e+10           1.696712e+10   \n19302      1.556187e+10           1.405795e+10   \n19303      1.406160e+10           1.259813e+10   \n\n       Enterprise Value To Sales (Daily Time Series Ratio)  \\\n0                                               0.799347     \n1                                               0.895787     \n2                                               0.906078     \n3                                               0.903176     \n4                                               0.920659     \n...                                                  ...     \n19299                                           3.684400     \n19300                                           4.504382     \n19301                                           3.422880     \n19302                                           2.749481     \n19303                                           2.383926     \n\n       3 Month Total Return    Volume  loss firm status  \n0                 10.637479  207295.0                -1  \n1                 24.148726       0.0                -1  \n2                 -0.054218       0.0                -1  \n3                  2.467620  236291.0                -1  \n4                 16.003852  157761.0                -1  \n...                     ...       ...               ...  \n19299             -5.130322  157740.0                -1  \n19300             30.489705   82349.0                -1  \n19301            -25.160664  290897.0                -1  \n19302            -21.661570  185584.0                -1  \n19303             -9.164375  238539.0                -1  \n\n[19304 rows x 12 columns]",
      "text/html": "<div>\n<style scoped>\n    .dataframe tbody tr th:only-of-type {\n        vertical-align: middle;\n    }\n\n    .dataframe tbody tr th {\n        vertical-align: top;\n    }\n\n    .dataframe thead th {\n        text-align: right;\n    }\n</style>\n<table border=\"1\" class=\"dataframe\">\n  <thead>\n    <tr style=\"text-align: right;\">\n      <th></th>\n      <th>Instrument</th>\n      <th>Date</th>\n      <th>GICS Industry Group Name</th>\n      <th>Earnings Per Share - Actual Surprise</th>\n      <th>Earnings Per Share - Actual Surprise AbsVals</th>\n      <th>Revenue - Actual</th>\n      <th>Enterprise Value</th>\n      <th>Market Capitalization</th>\n      <th>Enterprise Value To Sales (Daily Time Series Ratio)</th>\n      <th>3 Month Total Return</th>\n      <th>Volume</th>\n      <th>loss firm status</th>\n    </tr>\n  </thead>\n  <tbody>\n    <tr>\n      <th>0</th>\n      <td>AVY.N</td>\n      <td>2013-01-01</td>\n      <td>Materials</td>\n      <td>11.178</td>\n      <td>11.178</td>\n      <td>1.532200e+09</td>\n      <td>4.413001e+09</td>\n      <td>3.426001e+09</td>\n      <td>0.799347</td>\n      <td>10.637479</td>\n      <td>207295.0</td>\n      <td>-1</td>\n    </tr>\n    <tr>\n      <th>1</th>\n      <td>AVY.N</td>\n      <td>2013-04-01</td>\n      <td>Materials</td>\n      <td>2.482</td>\n      <td>2.482</td>\n      <td>1.498900e+09</td>\n      <td>5.459128e+09</td>\n      <td>4.309428e+09</td>\n      <td>0.895787</td>\n      <td>24.148726</td>\n      <td>0.0</td>\n      <td>-1</td>\n    </tr>\n    <tr>\n      <th>2</th>\n      <td>AVY.N</td>\n      <td>2013-07-01</td>\n      <td>Materials</td>\n      <td>1.068</td>\n      <td>1.068</td>\n      <td>1.552300e+09</td>\n      <td>5.436229e+09</td>\n      <td>4.258229e+09</td>\n      <td>0.906078</td>\n      <td>-0.054218</td>\n      <td>0.0</td>\n      <td>-1</td>\n    </tr>\n    <tr>\n      <th>3</th>\n      <td>AVY.N</td>\n      <td>2013-10-01</td>\n      <td>Materials</td>\n      <td>8.095</td>\n      <td>8.095</td>\n      <td>1.504900e+09</td>\n      <td>5.029514e+09</td>\n      <td>4.273414e+09</td>\n      <td>0.903176</td>\n      <td>2.467620</td>\n      <td>236291.0</td>\n      <td>-1</td>\n    </tr>\n    <tr>\n      <th>4</th>\n      <td>AVY.N</td>\n      <td>2014-01-01</td>\n      <td>Materials</td>\n      <td>1.471</td>\n      <td>1.471</td>\n      <td>1.583900e+09</td>\n      <td>5.553068e+09</td>\n      <td>4.877168e+09</td>\n      <td>0.920659</td>\n      <td>16.003852</td>\n      <td>157761.0</td>\n      <td>-1</td>\n    </tr>\n    <tr>\n      <th>...</th>\n      <td>...</td>\n      <td>...</td>\n      <td>...</td>\n      <td>...</td>\n      <td>...</td>\n      <td>...</td>\n      <td>...</td>\n      <td>...</td>\n      <td>...</td>\n      <td>...</td>\n      <td>...</td>\n      <td>...</td>\n    </tr>\n    <tr>\n      <th>19299</th>\n      <td>POOL.OQ</td>\n      <td>2021-10-01</td>\n      <td>Retailing</td>\n      <td>17.194</td>\n      <td>17.194</td>\n      <td>1.411448e+09</td>\n      <td>1.769954e+10</td>\n      <td>1.742020e+10</td>\n      <td>3.684400</td>\n      <td>-5.130322</td>\n      <td>157740.0</td>\n      <td>-1</td>\n    </tr>\n    <tr>\n      <th>19300</th>\n      <td>POOL.OQ</td>\n      <td>2022-01-01</td>\n      <td>Retailing</td>\n      <td>40.267</td>\n      <td>40.267</td>\n      <td>1.035557e+09</td>\n      <td>2.384882e+10</td>\n      <td>2.268979e+10</td>\n      <td>4.504382</td>\n      <td>30.489705</td>\n      <td>82349.0</td>\n      <td>-1</td>\n    </tr>\n    <tr>\n      <th>19301</th>\n      <td>POOL.OQ</td>\n      <td>2022-04-01</td>\n      <td>Retailing</td>\n      <td>34.342</td>\n      <td>34.342</td>\n      <td>1.412650e+09</td>\n      <td>1.843682e+10</td>\n      <td>1.696712e+10</td>\n      <td>3.422880</td>\n      <td>-25.160664</td>\n      <td>290897.0</td>\n      <td>-1</td>\n    </tr>\n    <tr>\n      <th>19302</th>\n      <td>POOL.OQ</td>\n      <td>2022-07-01</td>\n      <td>Retailing</td>\n      <td>1.503</td>\n      <td>1.503</td>\n      <td>2.055818e+09</td>\n      <td>1.556187e+10</td>\n      <td>1.405795e+10</td>\n      <td>2.749481</td>\n      <td>-21.661570</td>\n      <td>185584.0</td>\n      <td>-1</td>\n    </tr>\n    <tr>\n      <th>19303</th>\n      <td>POOL.OQ</td>\n      <td>2022-10-01</td>\n      <td>Retailing</td>\n      <td>4.196</td>\n      <td>4.196</td>\n      <td>1.615339e+09</td>\n      <td>1.406160e+10</td>\n      <td>1.259813e+10</td>\n      <td>2.383926</td>\n      <td>-9.164375</td>\n      <td>238539.0</td>\n      <td>-1</td>\n    </tr>\n  </tbody>\n</table>\n<p>19304 rows × 12 columns</p>\n</div>"
     },
     "execution_count": 2,
     "metadata": {},
     "output_type": "execute_result"
    }
   ],
   "source": [
    "df = pd.read_csv(\"Dataframes/characteristics.csv\")\n",
    "#X_var_names = [\"Revenue - Actual\",\"Enterprise Value\",\"Market Capitalization\",\"loss firm status\", \"Enterprise Value To Sales (Daily Time Series Ratio)\", \"3 Month Total Return\", \"Volume\"]\n",
    "df"
   ]
  },
  {
   "cell_type": "code",
   "execution_count": 3,
   "metadata": {},
   "outputs": [],
   "source": [
    "df[\"Date\"] = pd.to_datetime(df[\"Date\"])"
   ]
  },
  {
   "cell_type": "markdown",
   "metadata": {},
   "source": [
    "Remove outliers"
   ]
  },
  {
   "cell_type": "code",
   "execution_count": 4,
   "metadata": {},
   "outputs": [
    {
     "data": {
      "text/plain": "      Instrument       Date GICS Industry Group Name  \\\n0          AVY.N 2013-01-01                Materials   \n1          AVY.N 2013-04-01                Materials   \n2          AVY.N 2013-07-01                Materials   \n3          AVY.N 2013-10-01                Materials   \n4          AVY.N 2014-01-01                Materials   \n...          ...        ...                      ...   \n19299    POOL.OQ 2021-10-01                Retailing   \n19300    POOL.OQ 2022-01-01                Retailing   \n19301    POOL.OQ 2022-04-01                Retailing   \n19302    POOL.OQ 2022-07-01                Retailing   \n19303    POOL.OQ 2022-10-01                Retailing   \n\n       Earnings Per Share - Actual Surprise  \\\n0                                    11.178   \n1                                     2.482   \n2                                     1.068   \n3                                     8.095   \n4                                     1.471   \n...                                     ...   \n19299                                17.194   \n19300                                40.267   \n19301                                34.342   \n19302                                 1.503   \n19303                                 4.196   \n\n       Earnings Per Share - Actual Surprise AbsVals  Revenue - Actual  \\\n0                                            11.178      1.532200e+09   \n1                                             2.482      1.498900e+09   \n2                                             1.068      1.552300e+09   \n3                                             8.095      1.504900e+09   \n4                                             1.471      1.583900e+09   \n...                                             ...               ...   \n19299                                        17.194      1.411448e+09   \n19300                                        40.267      1.035557e+09   \n19301                                        34.342      1.412650e+09   \n19302                                         1.503      2.055818e+09   \n19303                                         4.196      1.615339e+09   \n\n       Enterprise Value  Market Capitalization  \\\n0          4.413001e+09           3.426001e+09   \n1          5.459128e+09           4.309428e+09   \n2          5.436229e+09           4.258229e+09   \n3          5.029514e+09           4.273414e+09   \n4          5.553068e+09           4.877168e+09   \n...                 ...                    ...   \n19299      1.769954e+10           1.742020e+10   \n19300      2.384882e+10           2.268979e+10   \n19301      1.843682e+10           1.696712e+10   \n19302      1.556187e+10           1.405795e+10   \n19303      1.406160e+10           1.259813e+10   \n\n       Enterprise Value To Sales (Daily Time Series Ratio)  \\\n0                                               0.799347     \n1                                               0.895787     \n2                                               0.906078     \n3                                               0.903176     \n4                                               0.920659     \n...                                                  ...     \n19299                                           3.684400     \n19300                                           4.504382     \n19301                                           3.422880     \n19302                                           2.749481     \n19303                                           2.383926     \n\n       3 Month Total Return    Volume  loss firm status  \n0                 10.637479  207295.0                -1  \n1                 24.148726       0.0                -1  \n2                 -0.054218       0.0                -1  \n3                  2.467620  236291.0                -1  \n4                 16.003852  157761.0                -1  \n...                     ...       ...               ...  \n19299             -5.130322  157740.0                -1  \n19300             30.489705   82349.0                -1  \n19301            -25.160664  290897.0                -1  \n19302            -21.661570  185584.0                -1  \n19303             -9.164375  238539.0                -1  \n\n[18533 rows x 12 columns]",
      "text/html": "<div>\n<style scoped>\n    .dataframe tbody tr th:only-of-type {\n        vertical-align: middle;\n    }\n\n    .dataframe tbody tr th {\n        vertical-align: top;\n    }\n\n    .dataframe thead th {\n        text-align: right;\n    }\n</style>\n<table border=\"1\" class=\"dataframe\">\n  <thead>\n    <tr style=\"text-align: right;\">\n      <th></th>\n      <th>Instrument</th>\n      <th>Date</th>\n      <th>GICS Industry Group Name</th>\n      <th>Earnings Per Share - Actual Surprise</th>\n      <th>Earnings Per Share - Actual Surprise AbsVals</th>\n      <th>Revenue - Actual</th>\n      <th>Enterprise Value</th>\n      <th>Market Capitalization</th>\n      <th>Enterprise Value To Sales (Daily Time Series Ratio)</th>\n      <th>3 Month Total Return</th>\n      <th>Volume</th>\n      <th>loss firm status</th>\n    </tr>\n  </thead>\n  <tbody>\n    <tr>\n      <th>0</th>\n      <td>AVY.N</td>\n      <td>2013-01-01</td>\n      <td>Materials</td>\n      <td>11.178</td>\n      <td>11.178</td>\n      <td>1.532200e+09</td>\n      <td>4.413001e+09</td>\n      <td>3.426001e+09</td>\n      <td>0.799347</td>\n      <td>10.637479</td>\n      <td>207295.0</td>\n      <td>-1</td>\n    </tr>\n    <tr>\n      <th>1</th>\n      <td>AVY.N</td>\n      <td>2013-04-01</td>\n      <td>Materials</td>\n      <td>2.482</td>\n      <td>2.482</td>\n      <td>1.498900e+09</td>\n      <td>5.459128e+09</td>\n      <td>4.309428e+09</td>\n      <td>0.895787</td>\n      <td>24.148726</td>\n      <td>0.0</td>\n      <td>-1</td>\n    </tr>\n    <tr>\n      <th>2</th>\n      <td>AVY.N</td>\n      <td>2013-07-01</td>\n      <td>Materials</td>\n      <td>1.068</td>\n      <td>1.068</td>\n      <td>1.552300e+09</td>\n      <td>5.436229e+09</td>\n      <td>4.258229e+09</td>\n      <td>0.906078</td>\n      <td>-0.054218</td>\n      <td>0.0</td>\n      <td>-1</td>\n    </tr>\n    <tr>\n      <th>3</th>\n      <td>AVY.N</td>\n      <td>2013-10-01</td>\n      <td>Materials</td>\n      <td>8.095</td>\n      <td>8.095</td>\n      <td>1.504900e+09</td>\n      <td>5.029514e+09</td>\n      <td>4.273414e+09</td>\n      <td>0.903176</td>\n      <td>2.467620</td>\n      <td>236291.0</td>\n      <td>-1</td>\n    </tr>\n    <tr>\n      <th>4</th>\n      <td>AVY.N</td>\n      <td>2014-01-01</td>\n      <td>Materials</td>\n      <td>1.471</td>\n      <td>1.471</td>\n      <td>1.583900e+09</td>\n      <td>5.553068e+09</td>\n      <td>4.877168e+09</td>\n      <td>0.920659</td>\n      <td>16.003852</td>\n      <td>157761.0</td>\n      <td>-1</td>\n    </tr>\n    <tr>\n      <th>...</th>\n      <td>...</td>\n      <td>...</td>\n      <td>...</td>\n      <td>...</td>\n      <td>...</td>\n      <td>...</td>\n      <td>...</td>\n      <td>...</td>\n      <td>...</td>\n      <td>...</td>\n      <td>...</td>\n      <td>...</td>\n    </tr>\n    <tr>\n      <th>19299</th>\n      <td>POOL.OQ</td>\n      <td>2021-10-01</td>\n      <td>Retailing</td>\n      <td>17.194</td>\n      <td>17.194</td>\n      <td>1.411448e+09</td>\n      <td>1.769954e+10</td>\n      <td>1.742020e+10</td>\n      <td>3.684400</td>\n      <td>-5.130322</td>\n      <td>157740.0</td>\n      <td>-1</td>\n    </tr>\n    <tr>\n      <th>19300</th>\n      <td>POOL.OQ</td>\n      <td>2022-01-01</td>\n      <td>Retailing</td>\n      <td>40.267</td>\n      <td>40.267</td>\n      <td>1.035557e+09</td>\n      <td>2.384882e+10</td>\n      <td>2.268979e+10</td>\n      <td>4.504382</td>\n      <td>30.489705</td>\n      <td>82349.0</td>\n      <td>-1</td>\n    </tr>\n    <tr>\n      <th>19301</th>\n      <td>POOL.OQ</td>\n      <td>2022-04-01</td>\n      <td>Retailing</td>\n      <td>34.342</td>\n      <td>34.342</td>\n      <td>1.412650e+09</td>\n      <td>1.843682e+10</td>\n      <td>1.696712e+10</td>\n      <td>3.422880</td>\n      <td>-25.160664</td>\n      <td>290897.0</td>\n      <td>-1</td>\n    </tr>\n    <tr>\n      <th>19302</th>\n      <td>POOL.OQ</td>\n      <td>2022-07-01</td>\n      <td>Retailing</td>\n      <td>1.503</td>\n      <td>1.503</td>\n      <td>2.055818e+09</td>\n      <td>1.556187e+10</td>\n      <td>1.405795e+10</td>\n      <td>2.749481</td>\n      <td>-21.661570</td>\n      <td>185584.0</td>\n      <td>-1</td>\n    </tr>\n    <tr>\n      <th>19303</th>\n      <td>POOL.OQ</td>\n      <td>2022-10-01</td>\n      <td>Retailing</td>\n      <td>4.196</td>\n      <td>4.196</td>\n      <td>1.615339e+09</td>\n      <td>1.406160e+10</td>\n      <td>1.259813e+10</td>\n      <td>2.383926</td>\n      <td>-9.164375</td>\n      <td>238539.0</td>\n      <td>-1</td>\n    </tr>\n  </tbody>\n</table>\n<p>18533 rows × 12 columns</p>\n</div>"
     },
     "execution_count": 4,
     "metadata": {},
     "output_type": "execute_result"
    }
   ],
   "source": [
    "#removing outliers\n",
    "summary_stats = df[\"Earnings Per Share - Actual Surprise\"].describe()\n",
    "Q1 = summary_stats.loc['25%']\n",
    "Q3 = summary_stats.loc['75%']\n",
    "IQR = Q3 - Q1\n",
    "threshold = 7\n",
    "surprise_outliers_removed = df[\"Earnings Per Share - Actual Surprise\"].loc[~((df[\"Earnings Per Share - Actual Surprise\"] < (Q1 - threshold * IQR)) | (df[\"Earnings Per Share - Actual Surprise\"] > (Q3 + threshold * IQR)))]\n",
    "df_clean = df.copy()\n",
    "df_clean[\"Earnings Per Share - Actual Surprise\"] = surprise_outliers_removed\n",
    "df_clean = df_clean.dropna(subset=[\"Earnings Per Share - Actual Surprise\"])\n",
    "#df_clean = df_clean.dropna()\n",
    "df_clean"
   ]
  },
  {
   "attachments": {},
   "cell_type": "markdown",
   "metadata": {},
   "source": [
    "Standardising"
   ]
  },
  {
   "cell_type": "code",
   "execution_count": 5,
   "metadata": {},
   "outputs": [
    {
     "data": {
      "text/plain": "      Instrument       Date GICS Industry Group Name  \\\n0          AVY.N 2013-01-01                Materials   \n1          AVY.N 2013-04-01                Materials   \n2          AVY.N 2013-07-01                Materials   \n3          AVY.N 2013-10-01                Materials   \n4          AVY.N 2014-01-01                Materials   \n...          ...        ...                      ...   \n19299    POOL.OQ 2021-10-01                Retailing   \n19300    POOL.OQ 2022-01-01                Retailing   \n19301    POOL.OQ 2022-04-01                Retailing   \n19302    POOL.OQ 2022-07-01                Retailing   \n19303    POOL.OQ 2022-10-01                Retailing   \n\n       Earnings Per Share - Actual Surprise  \\\n0                                    11.178   \n1                                     2.482   \n2                                     1.068   \n3                                     8.095   \n4                                     1.471   \n...                                     ...   \n19299                                17.194   \n19300                                40.267   \n19301                                34.342   \n19302                                 1.503   \n19303                                 4.196   \n\n       Earnings Per Share - Actual Surprise AbsVals  Revenue - Actual  \\\n0                                            11.178          0.065123   \n1                                             2.482          0.064917   \n2                                             1.068          0.065247   \n3                                             8.095          0.064955   \n4                                             1.471          0.065443   \n...                                             ...               ...   \n19299                                        17.194          0.064377   \n19300                                        40.267          0.062055   \n19301                                        34.342          0.064385   \n19302                                         1.503          0.068358   \n19303                                         4.196          0.065637   \n\n       Enterprise Value  Market Capitalization  \\\n0              0.027862               0.001166   \n1              0.028207               0.001471   \n2              0.028199               0.001453   \n3              0.028065               0.001459   \n4              0.028238               0.001667   \n...                 ...                    ...   \n19299          0.032245               0.006004   \n19300          0.034274               0.007826   \n19301          0.032488               0.005848   \n19302          0.031540               0.004842   \n19303          0.031045               0.004337   \n\n       Enterprise Value To Sales (Daily Time Series Ratio)  \\\n0                                               0.027195     \n1                                               0.027308     \n2                                               0.027321     \n3                                               0.027317     \n4                                               0.027338     \n...                                                  ...     \n19299                                           0.030598     \n19300                                           0.031566     \n19301                                           0.030290     \n19302                                           0.029495     \n19303                                           0.029064     \n\n       3 Month Total Return    Volume  loss firm status  \n0                  0.298034  0.001183                -1  \n1                  0.340793  0.000000                -1  \n2                  0.264198  0.000000                -1  \n3                  0.272179  0.001348                -1  \n4                  0.315017  0.000900                -1  \n...                     ...       ...               ...  \n19299              0.248134  0.000900                -1  \n19300              0.360861  0.000470                -1  \n19301              0.184744  0.001660                -1  \n19302              0.195817  0.001059                -1  \n19303              0.235367  0.001361                -1  \n\n[18533 rows x 12 columns]",
      "text/html": "<div>\n<style scoped>\n    .dataframe tbody tr th:only-of-type {\n        vertical-align: middle;\n    }\n\n    .dataframe tbody tr th {\n        vertical-align: top;\n    }\n\n    .dataframe thead th {\n        text-align: right;\n    }\n</style>\n<table border=\"1\" class=\"dataframe\">\n  <thead>\n    <tr style=\"text-align: right;\">\n      <th></th>\n      <th>Instrument</th>\n      <th>Date</th>\n      <th>GICS Industry Group Name</th>\n      <th>Earnings Per Share - Actual Surprise</th>\n      <th>Earnings Per Share - Actual Surprise AbsVals</th>\n      <th>Revenue - Actual</th>\n      <th>Enterprise Value</th>\n      <th>Market Capitalization</th>\n      <th>Enterprise Value To Sales (Daily Time Series Ratio)</th>\n      <th>3 Month Total Return</th>\n      <th>Volume</th>\n      <th>loss firm status</th>\n    </tr>\n  </thead>\n  <tbody>\n    <tr>\n      <th>0</th>\n      <td>AVY.N</td>\n      <td>2013-01-01</td>\n      <td>Materials</td>\n      <td>11.178</td>\n      <td>11.178</td>\n      <td>0.065123</td>\n      <td>0.027862</td>\n      <td>0.001166</td>\n      <td>0.027195</td>\n      <td>0.298034</td>\n      <td>0.001183</td>\n      <td>-1</td>\n    </tr>\n    <tr>\n      <th>1</th>\n      <td>AVY.N</td>\n      <td>2013-04-01</td>\n      <td>Materials</td>\n      <td>2.482</td>\n      <td>2.482</td>\n      <td>0.064917</td>\n      <td>0.028207</td>\n      <td>0.001471</td>\n      <td>0.027308</td>\n      <td>0.340793</td>\n      <td>0.000000</td>\n      <td>-1</td>\n    </tr>\n    <tr>\n      <th>2</th>\n      <td>AVY.N</td>\n      <td>2013-07-01</td>\n      <td>Materials</td>\n      <td>1.068</td>\n      <td>1.068</td>\n      <td>0.065247</td>\n      <td>0.028199</td>\n      <td>0.001453</td>\n      <td>0.027321</td>\n      <td>0.264198</td>\n      <td>0.000000</td>\n      <td>-1</td>\n    </tr>\n    <tr>\n      <th>3</th>\n      <td>AVY.N</td>\n      <td>2013-10-01</td>\n      <td>Materials</td>\n      <td>8.095</td>\n      <td>8.095</td>\n      <td>0.064955</td>\n      <td>0.028065</td>\n      <td>0.001459</td>\n      <td>0.027317</td>\n      <td>0.272179</td>\n      <td>0.001348</td>\n      <td>-1</td>\n    </tr>\n    <tr>\n      <th>4</th>\n      <td>AVY.N</td>\n      <td>2014-01-01</td>\n      <td>Materials</td>\n      <td>1.471</td>\n      <td>1.471</td>\n      <td>0.065443</td>\n      <td>0.028238</td>\n      <td>0.001667</td>\n      <td>0.027338</td>\n      <td>0.315017</td>\n      <td>0.000900</td>\n      <td>-1</td>\n    </tr>\n    <tr>\n      <th>...</th>\n      <td>...</td>\n      <td>...</td>\n      <td>...</td>\n      <td>...</td>\n      <td>...</td>\n      <td>...</td>\n      <td>...</td>\n      <td>...</td>\n      <td>...</td>\n      <td>...</td>\n      <td>...</td>\n      <td>...</td>\n    </tr>\n    <tr>\n      <th>19299</th>\n      <td>POOL.OQ</td>\n      <td>2021-10-01</td>\n      <td>Retailing</td>\n      <td>17.194</td>\n      <td>17.194</td>\n      <td>0.064377</td>\n      <td>0.032245</td>\n      <td>0.006004</td>\n      <td>0.030598</td>\n      <td>0.248134</td>\n      <td>0.000900</td>\n      <td>-1</td>\n    </tr>\n    <tr>\n      <th>19300</th>\n      <td>POOL.OQ</td>\n      <td>2022-01-01</td>\n      <td>Retailing</td>\n      <td>40.267</td>\n      <td>40.267</td>\n      <td>0.062055</td>\n      <td>0.034274</td>\n      <td>0.007826</td>\n      <td>0.031566</td>\n      <td>0.360861</td>\n      <td>0.000470</td>\n      <td>-1</td>\n    </tr>\n    <tr>\n      <th>19301</th>\n      <td>POOL.OQ</td>\n      <td>2022-04-01</td>\n      <td>Retailing</td>\n      <td>34.342</td>\n      <td>34.342</td>\n      <td>0.064385</td>\n      <td>0.032488</td>\n      <td>0.005848</td>\n      <td>0.030290</td>\n      <td>0.184744</td>\n      <td>0.001660</td>\n      <td>-1</td>\n    </tr>\n    <tr>\n      <th>19302</th>\n      <td>POOL.OQ</td>\n      <td>2022-07-01</td>\n      <td>Retailing</td>\n      <td>1.503</td>\n      <td>1.503</td>\n      <td>0.068358</td>\n      <td>0.031540</td>\n      <td>0.004842</td>\n      <td>0.029495</td>\n      <td>0.195817</td>\n      <td>0.001059</td>\n      <td>-1</td>\n    </tr>\n    <tr>\n      <th>19303</th>\n      <td>POOL.OQ</td>\n      <td>2022-10-01</td>\n      <td>Retailing</td>\n      <td>4.196</td>\n      <td>4.196</td>\n      <td>0.065637</td>\n      <td>0.031045</td>\n      <td>0.004337</td>\n      <td>0.029064</td>\n      <td>0.235367</td>\n      <td>0.001361</td>\n      <td>-1</td>\n    </tr>\n  </tbody>\n</table>\n<p>18533 rows × 12 columns</p>\n</div>"
     },
     "execution_count": 5,
     "metadata": {},
     "output_type": "execute_result"
    }
   ],
   "source": [
    "rescale = df_clean\n",
    "#rescale[\"Earnings Per Share - Actual Surprise\"] = MinMaxScaler().fit_transform(np.array(rescale[\"Earnings Per Share - Actual Surprise\"]).reshape(-1,1))\n",
    "rescale[\"Revenue - Actual\"] = MinMaxScaler().fit_transform(np.array(rescale[\"Revenue - Actual\"]).reshape(-1,1))\n",
    "rescale[\"Enterprise Value\"] = MinMaxScaler().fit_transform(np.array(rescale[\"Enterprise Value\"]).reshape(-1,1))\n",
    "rescale[\"Market Capitalization\"] = MinMaxScaler().fit_transform(np.array(rescale[\"Market Capitalization\"]).reshape(-1,1))\n",
    "rescale[\"Enterprise Value To Sales (Daily Time Series Ratio)\"] = MinMaxScaler().fit_transform(np.array(rescale[\"Enterprise Value To Sales (Daily Time Series Ratio)\"]).reshape(-1,1))\n",
    "rescale[\"3 Month Total Return\"] = MinMaxScaler().fit_transform(np.array(rescale[\"3 Month Total Return\"]).reshape(-1,1))\n",
    "rescale[\"Volume\"] = MinMaxScaler().fit_transform(np.array(rescale[\"Volume\"]).reshape(-1,1))\n",
    "df_clean = rescale\n",
    "df_clean"
   ]
  },
  {
   "cell_type": "markdown",
   "source": [
    "### Add binary variable for Covid(1) and no Covid(0)"
   ],
   "metadata": {
    "collapsed": false
   }
  },
  {
   "cell_type": "code",
   "execution_count": 6,
   "outputs": [
    {
     "data": {
      "text/plain": "      Instrument       Date GICS Industry Group Name  \\\n0          AVY.N 2013-01-01                Materials   \n1          AVY.N 2013-04-01                Materials   \n2          AVY.N 2013-07-01                Materials   \n3          AVY.N 2013-10-01                Materials   \n4          AVY.N 2014-01-01                Materials   \n...          ...        ...                      ...   \n19299    POOL.OQ 2021-10-01                Retailing   \n19300    POOL.OQ 2022-01-01                Retailing   \n19301    POOL.OQ 2022-04-01                Retailing   \n19302    POOL.OQ 2022-07-01                Retailing   \n19303    POOL.OQ 2022-10-01                Retailing   \n\n       Earnings Per Share - Actual Surprise  \\\n0                                    11.178   \n1                                     2.482   \n2                                     1.068   \n3                                     8.095   \n4                                     1.471   \n...                                     ...   \n19299                                17.194   \n19300                                40.267   \n19301                                34.342   \n19302                                 1.503   \n19303                                 4.196   \n\n       Earnings Per Share - Actual Surprise AbsVals  Revenue - Actual  \\\n0                                            11.178          0.065123   \n1                                             2.482          0.064917   \n2                                             1.068          0.065247   \n3                                             8.095          0.064955   \n4                                             1.471          0.065443   \n...                                             ...               ...   \n19299                                        17.194          0.064377   \n19300                                        40.267          0.062055   \n19301                                        34.342          0.064385   \n19302                                         1.503          0.068358   \n19303                                         4.196          0.065637   \n\n       Enterprise Value  Market Capitalization  \\\n0              0.027862               0.001166   \n1              0.028207               0.001471   \n2              0.028199               0.001453   \n3              0.028065               0.001459   \n4              0.028238               0.001667   \n...                 ...                    ...   \n19299          0.032245               0.006004   \n19300          0.034274               0.007826   \n19301          0.032488               0.005848   \n19302          0.031540               0.004842   \n19303          0.031045               0.004337   \n\n       Enterprise Value To Sales (Daily Time Series Ratio)  \\\n0                                               0.027195     \n1                                               0.027308     \n2                                               0.027321     \n3                                               0.027317     \n4                                               0.027338     \n...                                                  ...     \n19299                                           0.030598     \n19300                                           0.031566     \n19301                                           0.030290     \n19302                                           0.029495     \n19303                                           0.029064     \n\n       3 Month Total Return    Volume  loss firm status  Covid  \n0                  0.298034  0.001183                -1      0  \n1                  0.340793  0.000000                -1      0  \n2                  0.264198  0.000000                -1      0  \n3                  0.272179  0.001348                -1      0  \n4                  0.315017  0.000900                -1      0  \n...                     ...       ...               ...    ...  \n19299              0.248134  0.000900                -1      1  \n19300              0.360861  0.000470                -1      1  \n19301              0.184744  0.001660                -1      1  \n19302              0.195817  0.001059                -1      1  \n19303              0.235367  0.001361                -1      1  \n\n[18533 rows x 13 columns]",
      "text/html": "<div>\n<style scoped>\n    .dataframe tbody tr th:only-of-type {\n        vertical-align: middle;\n    }\n\n    .dataframe tbody tr th {\n        vertical-align: top;\n    }\n\n    .dataframe thead th {\n        text-align: right;\n    }\n</style>\n<table border=\"1\" class=\"dataframe\">\n  <thead>\n    <tr style=\"text-align: right;\">\n      <th></th>\n      <th>Instrument</th>\n      <th>Date</th>\n      <th>GICS Industry Group Name</th>\n      <th>Earnings Per Share - Actual Surprise</th>\n      <th>Earnings Per Share - Actual Surprise AbsVals</th>\n      <th>Revenue - Actual</th>\n      <th>Enterprise Value</th>\n      <th>Market Capitalization</th>\n      <th>Enterprise Value To Sales (Daily Time Series Ratio)</th>\n      <th>3 Month Total Return</th>\n      <th>Volume</th>\n      <th>loss firm status</th>\n      <th>Covid</th>\n    </tr>\n  </thead>\n  <tbody>\n    <tr>\n      <th>0</th>\n      <td>AVY.N</td>\n      <td>2013-01-01</td>\n      <td>Materials</td>\n      <td>11.178</td>\n      <td>11.178</td>\n      <td>0.065123</td>\n      <td>0.027862</td>\n      <td>0.001166</td>\n      <td>0.027195</td>\n      <td>0.298034</td>\n      <td>0.001183</td>\n      <td>-1</td>\n      <td>0</td>\n    </tr>\n    <tr>\n      <th>1</th>\n      <td>AVY.N</td>\n      <td>2013-04-01</td>\n      <td>Materials</td>\n      <td>2.482</td>\n      <td>2.482</td>\n      <td>0.064917</td>\n      <td>0.028207</td>\n      <td>0.001471</td>\n      <td>0.027308</td>\n      <td>0.340793</td>\n      <td>0.000000</td>\n      <td>-1</td>\n      <td>0</td>\n    </tr>\n    <tr>\n      <th>2</th>\n      <td>AVY.N</td>\n      <td>2013-07-01</td>\n      <td>Materials</td>\n      <td>1.068</td>\n      <td>1.068</td>\n      <td>0.065247</td>\n      <td>0.028199</td>\n      <td>0.001453</td>\n      <td>0.027321</td>\n      <td>0.264198</td>\n      <td>0.000000</td>\n      <td>-1</td>\n      <td>0</td>\n    </tr>\n    <tr>\n      <th>3</th>\n      <td>AVY.N</td>\n      <td>2013-10-01</td>\n      <td>Materials</td>\n      <td>8.095</td>\n      <td>8.095</td>\n      <td>0.064955</td>\n      <td>0.028065</td>\n      <td>0.001459</td>\n      <td>0.027317</td>\n      <td>0.272179</td>\n      <td>0.001348</td>\n      <td>-1</td>\n      <td>0</td>\n    </tr>\n    <tr>\n      <th>4</th>\n      <td>AVY.N</td>\n      <td>2014-01-01</td>\n      <td>Materials</td>\n      <td>1.471</td>\n      <td>1.471</td>\n      <td>0.065443</td>\n      <td>0.028238</td>\n      <td>0.001667</td>\n      <td>0.027338</td>\n      <td>0.315017</td>\n      <td>0.000900</td>\n      <td>-1</td>\n      <td>0</td>\n    </tr>\n    <tr>\n      <th>...</th>\n      <td>...</td>\n      <td>...</td>\n      <td>...</td>\n      <td>...</td>\n      <td>...</td>\n      <td>...</td>\n      <td>...</td>\n      <td>...</td>\n      <td>...</td>\n      <td>...</td>\n      <td>...</td>\n      <td>...</td>\n      <td>...</td>\n    </tr>\n    <tr>\n      <th>19299</th>\n      <td>POOL.OQ</td>\n      <td>2021-10-01</td>\n      <td>Retailing</td>\n      <td>17.194</td>\n      <td>17.194</td>\n      <td>0.064377</td>\n      <td>0.032245</td>\n      <td>0.006004</td>\n      <td>0.030598</td>\n      <td>0.248134</td>\n      <td>0.000900</td>\n      <td>-1</td>\n      <td>1</td>\n    </tr>\n    <tr>\n      <th>19300</th>\n      <td>POOL.OQ</td>\n      <td>2022-01-01</td>\n      <td>Retailing</td>\n      <td>40.267</td>\n      <td>40.267</td>\n      <td>0.062055</td>\n      <td>0.034274</td>\n      <td>0.007826</td>\n      <td>0.031566</td>\n      <td>0.360861</td>\n      <td>0.000470</td>\n      <td>-1</td>\n      <td>1</td>\n    </tr>\n    <tr>\n      <th>19301</th>\n      <td>POOL.OQ</td>\n      <td>2022-04-01</td>\n      <td>Retailing</td>\n      <td>34.342</td>\n      <td>34.342</td>\n      <td>0.064385</td>\n      <td>0.032488</td>\n      <td>0.005848</td>\n      <td>0.030290</td>\n      <td>0.184744</td>\n      <td>0.001660</td>\n      <td>-1</td>\n      <td>1</td>\n    </tr>\n    <tr>\n      <th>19302</th>\n      <td>POOL.OQ</td>\n      <td>2022-07-01</td>\n      <td>Retailing</td>\n      <td>1.503</td>\n      <td>1.503</td>\n      <td>0.068358</td>\n      <td>0.031540</td>\n      <td>0.004842</td>\n      <td>0.029495</td>\n      <td>0.195817</td>\n      <td>0.001059</td>\n      <td>-1</td>\n      <td>1</td>\n    </tr>\n    <tr>\n      <th>19303</th>\n      <td>POOL.OQ</td>\n      <td>2022-10-01</td>\n      <td>Retailing</td>\n      <td>4.196</td>\n      <td>4.196</td>\n      <td>0.065637</td>\n      <td>0.031045</td>\n      <td>0.004337</td>\n      <td>0.029064</td>\n      <td>0.235367</td>\n      <td>0.001361</td>\n      <td>-1</td>\n      <td>1</td>\n    </tr>\n  </tbody>\n</table>\n<p>18533 rows × 13 columns</p>\n</div>"
     },
     "execution_count": 6,
     "metadata": {},
     "output_type": "execute_result"
    }
   ],
   "source": [
    "covid_start = pd.to_datetime(\"2020-01-01\")\n",
    "df_clean[\"Covid\"] = (df_clean[\"Date\"] >= covid_start).astype(int)\n",
    "#df_clean[\"Covid\"] = pd.Categorical(df_clean[\"Covid\"])\n",
    "df_clean"
   ],
   "metadata": {
    "collapsed": false
   }
  },
  {
   "cell_type": "markdown",
   "source": [
    "#### Fixed Effects"
   ],
   "metadata": {
    "collapsed": false
   }
  },
  {
   "attachments": {},
   "cell_type": "markdown",
   "metadata": {},
   "source": [
    "In a fixed effects panel regression, the individual-specific effects are modeled as fixed variables that do not vary across time. This means that the coefficients of the independent variables are estimated based on the within-entity variation in the data, which eliminates the effect of time-invariant unobserved heterogeneity.\n",
    "\n",
    "Fixed effects models are useful when there are time-invariant unobserved variables that may affect the dependent variable, but are not included in the model. By modeling the individual-specific effects as fixed variables, fixed effects models can control for this unobserved heterogeneity and estimate the coefficients of the independent variables based on the within-entity variation, which provides more efficient estimates of the coefficients.\n",
    "\n",
    "One limitation of fixed effects models is that they do not allow for testing the effect of time-invariant variables on the dependent variable. In addition, fixed effects models may suffer from the incidental parameter problem, which may lead to biased estimates of the coefficients of the independent variables in the presence of a large number of fixed effects."
   ]
  },
  {
   "cell_type": "code",
   "execution_count": 7,
   "outputs": [
    {
     "data": {
      "text/plain": "                      GICS Industry Group Name  \\\nInstrument Date                                  \nAVY.N      2013-01-01                Materials   \n           2013-04-01                Materials   \n           2013-07-01                Materials   \n           2013-10-01                Materials   \n           2014-01-01                Materials   \n...                                        ...   \nPOOL.OQ    2021-10-01                Retailing   \n           2022-01-01                Retailing   \n           2022-04-01                Retailing   \n           2022-07-01                Retailing   \n           2022-10-01                Retailing   \n\n                       Earnings Per Share - Actual Surprise  \\\nInstrument Date                                               \nAVY.N      2013-01-01                                11.178   \n           2013-04-01                                 2.482   \n           2013-07-01                                 1.068   \n           2013-10-01                                 8.095   \n           2014-01-01                                 1.471   \n...                                                     ...   \nPOOL.OQ    2021-10-01                                17.194   \n           2022-01-01                                40.267   \n           2022-04-01                                34.342   \n           2022-07-01                                 1.503   \n           2022-10-01                                 4.196   \n\n                       Earnings Per Share - Actual Surprise AbsVals  \\\nInstrument Date                                                       \nAVY.N      2013-01-01                                        11.178   \n           2013-04-01                                         2.482   \n           2013-07-01                                         1.068   \n           2013-10-01                                         8.095   \n           2014-01-01                                         1.471   \n...                                                             ...   \nPOOL.OQ    2021-10-01                                        17.194   \n           2022-01-01                                        40.267   \n           2022-04-01                                        34.342   \n           2022-07-01                                         1.503   \n           2022-10-01                                         4.196   \n\n                       Revenue - Actual  Enterprise Value  \\\nInstrument Date                                             \nAVY.N      2013-01-01          0.065123          0.027862   \n           2013-04-01          0.064917          0.028207   \n           2013-07-01          0.065247          0.028199   \n           2013-10-01          0.064955          0.028065   \n           2014-01-01          0.065443          0.028238   \n...                                 ...               ...   \nPOOL.OQ    2021-10-01          0.064377          0.032245   \n           2022-01-01          0.062055          0.034274   \n           2022-04-01          0.064385          0.032488   \n           2022-07-01          0.068358          0.031540   \n           2022-10-01          0.065637          0.031045   \n\n                       Market Capitalization  \\\nInstrument Date                                \nAVY.N      2013-01-01               0.001166   \n           2013-04-01               0.001471   \n           2013-07-01               0.001453   \n           2013-10-01               0.001459   \n           2014-01-01               0.001667   \n...                                      ...   \nPOOL.OQ    2021-10-01               0.006004   \n           2022-01-01               0.007826   \n           2022-04-01               0.005848   \n           2022-07-01               0.004842   \n           2022-10-01               0.004337   \n\n                       Enterprise Value To Sales (Daily Time Series Ratio)  \\\nInstrument Date                                                              \nAVY.N      2013-01-01                                           0.027195     \n           2013-04-01                                           0.027308     \n           2013-07-01                                           0.027321     \n           2013-10-01                                           0.027317     \n           2014-01-01                                           0.027338     \n...                                                                  ...     \nPOOL.OQ    2021-10-01                                           0.030598     \n           2022-01-01                                           0.031566     \n           2022-04-01                                           0.030290     \n           2022-07-01                                           0.029495     \n           2022-10-01                                           0.029064     \n\n                       3 Month Total Return    Volume  loss firm status  Covid  \nInstrument Date                                                                 \nAVY.N      2013-01-01              0.298034  0.001183                -1      0  \n           2013-04-01              0.340793  0.000000                -1      0  \n           2013-07-01              0.264198  0.000000                -1      0  \n           2013-10-01              0.272179  0.001348                -1      0  \n           2014-01-01              0.315017  0.000900                -1      0  \n...                                     ...       ...               ...    ...  \nPOOL.OQ    2021-10-01              0.248134  0.000900                -1      1  \n           2022-01-01              0.360861  0.000470                -1      1  \n           2022-04-01              0.184744  0.001660                -1      1  \n           2022-07-01              0.195817  0.001059                -1      1  \n           2022-10-01              0.235367  0.001361                -1      1  \n\n[18533 rows x 11 columns]",
      "text/html": "<div>\n<style scoped>\n    .dataframe tbody tr th:only-of-type {\n        vertical-align: middle;\n    }\n\n    .dataframe tbody tr th {\n        vertical-align: top;\n    }\n\n    .dataframe thead th {\n        text-align: right;\n    }\n</style>\n<table border=\"1\" class=\"dataframe\">\n  <thead>\n    <tr style=\"text-align: right;\">\n      <th></th>\n      <th></th>\n      <th>GICS Industry Group Name</th>\n      <th>Earnings Per Share - Actual Surprise</th>\n      <th>Earnings Per Share - Actual Surprise AbsVals</th>\n      <th>Revenue - Actual</th>\n      <th>Enterprise Value</th>\n      <th>Market Capitalization</th>\n      <th>Enterprise Value To Sales (Daily Time Series Ratio)</th>\n      <th>3 Month Total Return</th>\n      <th>Volume</th>\n      <th>loss firm status</th>\n      <th>Covid</th>\n    </tr>\n    <tr>\n      <th>Instrument</th>\n      <th>Date</th>\n      <th></th>\n      <th></th>\n      <th></th>\n      <th></th>\n      <th></th>\n      <th></th>\n      <th></th>\n      <th></th>\n      <th></th>\n      <th></th>\n      <th></th>\n    </tr>\n  </thead>\n  <tbody>\n    <tr>\n      <th rowspan=\"5\" valign=\"top\">AVY.N</th>\n      <th>2013-01-01</th>\n      <td>Materials</td>\n      <td>11.178</td>\n      <td>11.178</td>\n      <td>0.065123</td>\n      <td>0.027862</td>\n      <td>0.001166</td>\n      <td>0.027195</td>\n      <td>0.298034</td>\n      <td>0.001183</td>\n      <td>-1</td>\n      <td>0</td>\n    </tr>\n    <tr>\n      <th>2013-04-01</th>\n      <td>Materials</td>\n      <td>2.482</td>\n      <td>2.482</td>\n      <td>0.064917</td>\n      <td>0.028207</td>\n      <td>0.001471</td>\n      <td>0.027308</td>\n      <td>0.340793</td>\n      <td>0.000000</td>\n      <td>-1</td>\n      <td>0</td>\n    </tr>\n    <tr>\n      <th>2013-07-01</th>\n      <td>Materials</td>\n      <td>1.068</td>\n      <td>1.068</td>\n      <td>0.065247</td>\n      <td>0.028199</td>\n      <td>0.001453</td>\n      <td>0.027321</td>\n      <td>0.264198</td>\n      <td>0.000000</td>\n      <td>-1</td>\n      <td>0</td>\n    </tr>\n    <tr>\n      <th>2013-10-01</th>\n      <td>Materials</td>\n      <td>8.095</td>\n      <td>8.095</td>\n      <td>0.064955</td>\n      <td>0.028065</td>\n      <td>0.001459</td>\n      <td>0.027317</td>\n      <td>0.272179</td>\n      <td>0.001348</td>\n      <td>-1</td>\n      <td>0</td>\n    </tr>\n    <tr>\n      <th>2014-01-01</th>\n      <td>Materials</td>\n      <td>1.471</td>\n      <td>1.471</td>\n      <td>0.065443</td>\n      <td>0.028238</td>\n      <td>0.001667</td>\n      <td>0.027338</td>\n      <td>0.315017</td>\n      <td>0.000900</td>\n      <td>-1</td>\n      <td>0</td>\n    </tr>\n    <tr>\n      <th>...</th>\n      <th>...</th>\n      <td>...</td>\n      <td>...</td>\n      <td>...</td>\n      <td>...</td>\n      <td>...</td>\n      <td>...</td>\n      <td>...</td>\n      <td>...</td>\n      <td>...</td>\n      <td>...</td>\n      <td>...</td>\n    </tr>\n    <tr>\n      <th rowspan=\"5\" valign=\"top\">POOL.OQ</th>\n      <th>2021-10-01</th>\n      <td>Retailing</td>\n      <td>17.194</td>\n      <td>17.194</td>\n      <td>0.064377</td>\n      <td>0.032245</td>\n      <td>0.006004</td>\n      <td>0.030598</td>\n      <td>0.248134</td>\n      <td>0.000900</td>\n      <td>-1</td>\n      <td>1</td>\n    </tr>\n    <tr>\n      <th>2022-01-01</th>\n      <td>Retailing</td>\n      <td>40.267</td>\n      <td>40.267</td>\n      <td>0.062055</td>\n      <td>0.034274</td>\n      <td>0.007826</td>\n      <td>0.031566</td>\n      <td>0.360861</td>\n      <td>0.000470</td>\n      <td>-1</td>\n      <td>1</td>\n    </tr>\n    <tr>\n      <th>2022-04-01</th>\n      <td>Retailing</td>\n      <td>34.342</td>\n      <td>34.342</td>\n      <td>0.064385</td>\n      <td>0.032488</td>\n      <td>0.005848</td>\n      <td>0.030290</td>\n      <td>0.184744</td>\n      <td>0.001660</td>\n      <td>-1</td>\n      <td>1</td>\n    </tr>\n    <tr>\n      <th>2022-07-01</th>\n      <td>Retailing</td>\n      <td>1.503</td>\n      <td>1.503</td>\n      <td>0.068358</td>\n      <td>0.031540</td>\n      <td>0.004842</td>\n      <td>0.029495</td>\n      <td>0.195817</td>\n      <td>0.001059</td>\n      <td>-1</td>\n      <td>1</td>\n    </tr>\n    <tr>\n      <th>2022-10-01</th>\n      <td>Retailing</td>\n      <td>4.196</td>\n      <td>4.196</td>\n      <td>0.065637</td>\n      <td>0.031045</td>\n      <td>0.004337</td>\n      <td>0.029064</td>\n      <td>0.235367</td>\n      <td>0.001361</td>\n      <td>-1</td>\n      <td>1</td>\n    </tr>\n  </tbody>\n</table>\n<p>18533 rows × 11 columns</p>\n</div>"
     },
     "execution_count": 7,
     "metadata": {},
     "output_type": "execute_result"
    }
   ],
   "source": [
    "df_clean['Instrument'] = df_clean['Instrument'].astype('category')\n",
    "df_clean['Date'] = pd.to_datetime(df_clean['Date'])\n",
    "\n",
    "# set the index to be the time variable and the cross-sectional variable\n",
    "df_clean.set_index(['Instrument', 'Date'], inplace=True)\n",
    "df_clean"
   ],
   "metadata": {
    "collapsed": false
   }
  },
  {
   "cell_type": "code",
   "execution_count": 8,
   "metadata": {},
   "outputs": [
    {
     "ename": "AbsorbingEffectError",
     "evalue": "\nThe model cannot be estimated. The included effects have fully absorbed\none or more of the variables. This occurs when one or more of the dependent\nvariable is perfectly explained using the effects included in the model.\n\nThe following variables or variable combinations have been fully absorbed\nor have become perfectly collinear after effects are removed:\n\n          Covid\n\nSet drop_absorbed=True to automatically drop absorbed variables.\n",
     "output_type": "error",
     "traceback": [
      "\u001B[0;31m---------------------------------------------------------------------------\u001B[0m",
      "\u001B[0;31mAbsorbingEffectError\u001B[0m                      Traceback (most recent call last)",
      "Cell \u001B[0;32mIn[8], line 8\u001B[0m\n\u001B[1;32m      5\u001B[0m fixed_effects_model \u001B[38;5;241m=\u001B[39m PanelOLS(y, X, entity_effects\u001B[38;5;241m=\u001B[39m\u001B[38;5;28;01mTrue\u001B[39;00m, time_effects\u001B[38;5;241m=\u001B[39m\u001B[38;5;28;01mTrue\u001B[39;00m, drop_absorbed\u001B[38;5;241m=\u001B[39m\u001B[38;5;28;01mFalse\u001B[39;00m)\n\u001B[1;32m      7\u001B[0m \u001B[38;5;66;03m# fit the model and print the summary statistics\u001B[39;00m\n\u001B[0;32m----> 8\u001B[0m fixed_effects_results \u001B[38;5;241m=\u001B[39m \u001B[43mfixed_effects_model\u001B[49m\u001B[38;5;241;43m.\u001B[39;49m\u001B[43mfit\u001B[49m\u001B[43m(\u001B[49m\u001B[43m)\u001B[49m\n\u001B[1;32m      9\u001B[0m fixed_effects_results\u001B[38;5;241m.\u001B[39msummary\n",
      "File \u001B[0;32m/opt/anaconda3/envs/AnalystForecast/lib/python3.11/site-packages/linearmodels/panel/model.py:1823\u001B[0m, in \u001B[0;36mPanelOLS.fit\u001B[0;34m(self, use_lsdv, use_lsmr, low_memory, cov_type, debiased, auto_df, count_effects, **cov_config)\u001B[0m\n\u001B[1;32m   1821\u001B[0m \u001B[38;5;28;01mif\u001B[39;00m \u001B[38;5;28mself\u001B[39m\u001B[38;5;241m.\u001B[39mentity_effects \u001B[38;5;129;01mor\u001B[39;00m \u001B[38;5;28mself\u001B[39m\u001B[38;5;241m.\u001B[39mtime_effects \u001B[38;5;129;01mor\u001B[39;00m \u001B[38;5;28mself\u001B[39m\u001B[38;5;241m.\u001B[39mother_effects:\n\u001B[1;32m   1822\u001B[0m     \u001B[38;5;28;01mif\u001B[39;00m \u001B[38;5;129;01mnot\u001B[39;00m \u001B[38;5;28mself\u001B[39m\u001B[38;5;241m.\u001B[39m_drop_absorbed:\n\u001B[0;32m-> 1823\u001B[0m         \u001B[43mcheck_absorbed\u001B[49m\u001B[43m(\u001B[49m\u001B[43mx\u001B[49m\u001B[43m,\u001B[49m\u001B[43m \u001B[49m\u001B[43m[\u001B[49m\u001B[38;5;28;43mstr\u001B[39;49m\u001B[43m(\u001B[49m\u001B[43mvar\u001B[49m\u001B[43m)\u001B[49m\u001B[43m \u001B[49m\u001B[38;5;28;43;01mfor\u001B[39;49;00m\u001B[43m \u001B[49m\u001B[43mvar\u001B[49m\u001B[43m \u001B[49m\u001B[38;5;129;43;01min\u001B[39;49;00m\u001B[43m \u001B[49m\u001B[38;5;28;43mself\u001B[39;49m\u001B[38;5;241;43m.\u001B[39;49m\u001B[43mexog\u001B[49m\u001B[38;5;241;43m.\u001B[39;49m\u001B[43mvars\u001B[49m\u001B[43m]\u001B[49m\u001B[43m)\u001B[49m\n\u001B[1;32m   1824\u001B[0m     \u001B[38;5;28;01melse\u001B[39;00m:\n\u001B[1;32m   1825\u001B[0m         \u001B[38;5;66;03m# TODO: Need to special case the constant here when determining which to retain\u001B[39;00m\n\u001B[1;32m   1826\u001B[0m         \u001B[38;5;66;03m# since we always want to retain the constant if present\u001B[39;00m\n\u001B[1;32m   1827\u001B[0m         retain \u001B[38;5;241m=\u001B[39m not_absorbed(x, \u001B[38;5;28mself\u001B[39m\u001B[38;5;241m.\u001B[39m_constant, \u001B[38;5;28mself\u001B[39m\u001B[38;5;241m.\u001B[39m_constant_index)\n",
      "File \u001B[0;32m/opt/anaconda3/envs/AnalystForecast/lib/python3.11/site-packages/linearmodels/panel/utility.py:446\u001B[0m, in \u001B[0;36mcheck_absorbed\u001B[0;34m(x, variables, x_orig)\u001B[0m\n\u001B[1;32m    444\u001B[0m     absorbed_variables \u001B[38;5;241m=\u001B[39m \u001B[38;5;124m\"\u001B[39m\u001B[38;5;130;01m\\n\u001B[39;00m\u001B[38;5;124m\"\u001B[39m\u001B[38;5;241m.\u001B[39mjoin(rows)\n\u001B[1;32m    445\u001B[0m     msg \u001B[38;5;241m=\u001B[39m absorbing_error_msg\u001B[38;5;241m.\u001B[39mformat(absorbed_variables\u001B[38;5;241m=\u001B[39mabsorbed_variables)\n\u001B[0;32m--> 446\u001B[0m     \u001B[38;5;28;01mraise\u001B[39;00m AbsorbingEffectError(msg)\n\u001B[1;32m    447\u001B[0m \u001B[38;5;28;01mif\u001B[39;00m x_orig \u001B[38;5;129;01mis\u001B[39;00m \u001B[38;5;28;01mNone\u001B[39;00m:\n\u001B[1;32m    448\u001B[0m     \u001B[38;5;28;01mreturn\u001B[39;00m\n",
      "\u001B[0;31mAbsorbingEffectError\u001B[0m: \nThe model cannot be estimated. The included effects have fully absorbed\none or more of the variables. This occurs when one or more of the dependent\nvariable is perfectly explained using the effects included in the model.\n\nThe following variables or variable combinations have been fully absorbed\nor have become perfectly collinear after effects are removed:\n\n          Covid\n\nSet drop_absorbed=True to automatically drop absorbed variables.\n"
     ]
    }
   ],
   "source": [
    "y = df_clean.loc[:, \"Earnings Per Share - Actual Surprise\"]\n",
    "X = df_clean.loc[:, \"Revenue - Actual\":]\n",
    "\n",
    "# perform the fixed effects panel regression\n",
    "fixed_effects_model = PanelOLS(y, X, entity_effects=True, time_effects=True, drop_absorbed=False)\n",
    "\n",
    "# fit the model and print the summary statistics\n",
    "fixed_effects_results = fixed_effects_model.fit()\n",
    "fixed_effects_results.summary\n"
   ]
  },
  {
   "cell_type": "code",
   "execution_count": 9,
   "outputs": [
    {
     "ename": "AbsorbingEffectError",
     "evalue": "\nThe model cannot be estimated. The included effects have fully absorbed\none or more of the variables. This occurs when one or more of the dependent\nvariable is perfectly explained using the effects included in the model.\n\nThe following variables or variable combinations have been fully absorbed\nor have become perfectly collinear after effects are removed:\n\n          Covid\n\nSet drop_absorbed=True to automatically drop absorbed variables.\n",
     "output_type": "error",
     "traceback": [
      "\u001B[0;31m---------------------------------------------------------------------------\u001B[0m",
      "\u001B[0;31mAbsorbingEffectError\u001B[0m                      Traceback (most recent call last)",
      "Cell \u001B[0;32mIn[9], line 8\u001B[0m\n\u001B[1;32m      5\u001B[0m fixed_effects_model \u001B[38;5;241m=\u001B[39m PanelOLS(y, X, entity_effects\u001B[38;5;241m=\u001B[39m\u001B[38;5;28;01mTrue\u001B[39;00m, time_effects\u001B[38;5;241m=\u001B[39m\u001B[38;5;28;01mTrue\u001B[39;00m)\n\u001B[1;32m      7\u001B[0m \u001B[38;5;66;03m# fit the model and print the summary statistics\u001B[39;00m\n\u001B[0;32m----> 8\u001B[0m fixed_effects_results \u001B[38;5;241m=\u001B[39m \u001B[43mfixed_effects_model\u001B[49m\u001B[38;5;241;43m.\u001B[39;49m\u001B[43mfit\u001B[49m\u001B[43m(\u001B[49m\u001B[43m)\u001B[49m\n\u001B[1;32m      9\u001B[0m fixed_effects_results\u001B[38;5;241m.\u001B[39msummary\n",
      "File \u001B[0;32m/opt/anaconda3/envs/AnalystForecast/lib/python3.11/site-packages/linearmodels/panel/model.py:1823\u001B[0m, in \u001B[0;36mPanelOLS.fit\u001B[0;34m(self, use_lsdv, use_lsmr, low_memory, cov_type, debiased, auto_df, count_effects, **cov_config)\u001B[0m\n\u001B[1;32m   1821\u001B[0m \u001B[38;5;28;01mif\u001B[39;00m \u001B[38;5;28mself\u001B[39m\u001B[38;5;241m.\u001B[39mentity_effects \u001B[38;5;129;01mor\u001B[39;00m \u001B[38;5;28mself\u001B[39m\u001B[38;5;241m.\u001B[39mtime_effects \u001B[38;5;129;01mor\u001B[39;00m \u001B[38;5;28mself\u001B[39m\u001B[38;5;241m.\u001B[39mother_effects:\n\u001B[1;32m   1822\u001B[0m     \u001B[38;5;28;01mif\u001B[39;00m \u001B[38;5;129;01mnot\u001B[39;00m \u001B[38;5;28mself\u001B[39m\u001B[38;5;241m.\u001B[39m_drop_absorbed:\n\u001B[0;32m-> 1823\u001B[0m         \u001B[43mcheck_absorbed\u001B[49m\u001B[43m(\u001B[49m\u001B[43mx\u001B[49m\u001B[43m,\u001B[49m\u001B[43m \u001B[49m\u001B[43m[\u001B[49m\u001B[38;5;28;43mstr\u001B[39;49m\u001B[43m(\u001B[49m\u001B[43mvar\u001B[49m\u001B[43m)\u001B[49m\u001B[43m \u001B[49m\u001B[38;5;28;43;01mfor\u001B[39;49;00m\u001B[43m \u001B[49m\u001B[43mvar\u001B[49m\u001B[43m \u001B[49m\u001B[38;5;129;43;01min\u001B[39;49;00m\u001B[43m \u001B[49m\u001B[38;5;28;43mself\u001B[39;49m\u001B[38;5;241;43m.\u001B[39;49m\u001B[43mexog\u001B[49m\u001B[38;5;241;43m.\u001B[39;49m\u001B[43mvars\u001B[49m\u001B[43m]\u001B[49m\u001B[43m)\u001B[49m\n\u001B[1;32m   1824\u001B[0m     \u001B[38;5;28;01melse\u001B[39;00m:\n\u001B[1;32m   1825\u001B[0m         \u001B[38;5;66;03m# TODO: Need to special case the constant here when determining which to retain\u001B[39;00m\n\u001B[1;32m   1826\u001B[0m         \u001B[38;5;66;03m# since we always want to retain the constant if present\u001B[39;00m\n\u001B[1;32m   1827\u001B[0m         retain \u001B[38;5;241m=\u001B[39m not_absorbed(x, \u001B[38;5;28mself\u001B[39m\u001B[38;5;241m.\u001B[39m_constant, \u001B[38;5;28mself\u001B[39m\u001B[38;5;241m.\u001B[39m_constant_index)\n",
      "File \u001B[0;32m/opt/anaconda3/envs/AnalystForecast/lib/python3.11/site-packages/linearmodels/panel/utility.py:446\u001B[0m, in \u001B[0;36mcheck_absorbed\u001B[0;34m(x, variables, x_orig)\u001B[0m\n\u001B[1;32m    444\u001B[0m     absorbed_variables \u001B[38;5;241m=\u001B[39m \u001B[38;5;124m\"\u001B[39m\u001B[38;5;130;01m\\n\u001B[39;00m\u001B[38;5;124m\"\u001B[39m\u001B[38;5;241m.\u001B[39mjoin(rows)\n\u001B[1;32m    445\u001B[0m     msg \u001B[38;5;241m=\u001B[39m absorbing_error_msg\u001B[38;5;241m.\u001B[39mformat(absorbed_variables\u001B[38;5;241m=\u001B[39mabsorbed_variables)\n\u001B[0;32m--> 446\u001B[0m     \u001B[38;5;28;01mraise\u001B[39;00m AbsorbingEffectError(msg)\n\u001B[1;32m    447\u001B[0m \u001B[38;5;28;01mif\u001B[39;00m x_orig \u001B[38;5;129;01mis\u001B[39;00m \u001B[38;5;28;01mNone\u001B[39;00m:\n\u001B[1;32m    448\u001B[0m     \u001B[38;5;28;01mreturn\u001B[39;00m\n",
      "\u001B[0;31mAbsorbingEffectError\u001B[0m: \nThe model cannot be estimated. The included effects have fully absorbed\none or more of the variables. This occurs when one or more of the dependent\nvariable is perfectly explained using the effects included in the model.\n\nThe following variables or variable combinations have been fully absorbed\nor have become perfectly collinear after effects are removed:\n\n          Covid\n\nSet drop_absorbed=True to automatically drop absorbed variables.\n"
     ]
    }
   ],
   "source": [
    "y = df_clean.loc[:, \"Earnings Per Share - Actual Surprise AbsVals\"]\n",
    "X = df_clean.loc[:, \"Revenue - Actual\":]\n",
    "\n",
    "# perform the fixed effects panel regression\n",
    "fixed_effects_model = PanelOLS(y, X, entity_effects=True, time_effects=True)\n",
    "\n",
    "# fit the model and print the summary statistics\n",
    "fixed_effects_results = fixed_effects_model.fit()\n",
    "fixed_effects_results.summary\n"
   ],
   "metadata": {
    "collapsed": false
   }
  },
  {
   "cell_type": "code",
   "execution_count": null,
   "outputs": [],
   "source": [],
   "metadata": {
    "collapsed": false
   }
  }
 ],
 "metadata": {
  "kernelspec": {
   "display_name": "AnalystForecast",
   "language": "python",
   "name": "python3"
  },
  "language_info": {
   "codemirror_mode": {
    "name": "ipython",
    "version": 3
   },
   "file_extension": ".py",
   "mimetype": "text/x-python",
   "name": "python",
   "nbconvert_exporter": "python",
   "pygments_lexer": "ipython3",
   "version": "3.11.0"
  },
  "orig_nbformat": 4,
  "vscode": {
   "interpreter": {
    "hash": "264d128b47a19451ae7876f5ee246d3f7de9751940a5ebe47f15ec6626e5a91f"
   }
  }
 },
 "nbformat": 4,
 "nbformat_minor": 2
}
