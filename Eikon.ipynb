{
 "cells": [
  {
   "cell_type": "code",
   "execution_count": 10,
   "outputs": [],
   "source": [
    "import eikon as ek\n",
    "import pandas as pd\n",
    "import numpy as np\n",
    "ek.set_app_key(\"69de0ce7c5e2468e90a6058ce79f6558ebe3ee30\")"
   ],
   "metadata": {
    "collapsed": false
   }
  },
  {
   "cell_type": "code",
   "execution_count": null,
   "outputs": [],
   "source": [
    "df = ek.get_timeseries([\"MSFT.O\"],\n",
    "                       start_date=\"2016-01-01\",\n",
    "                       end_date=\"2019-01-10\")\n",
    "df"
   ],
   "metadata": {
    "collapsed": false
   }
  },
  {
   "cell_type": "markdown",
   "source": [
    "https://developers.refinitiv.com/en/api-catalog/eikon/eikon-data-api/tutorials#fundamentals-api-rating-transition-matrix\n",
    "TR.CommonName\n",
    "TR.TRBCEconomicSector\n",
    "TR.F.EV enterprise value\n",
    "EARNINGS - EPS\n",
    "TR.NumberOfAnalysts\n",
    "TR.EpsPreSurprisePct(Period=FY1) - EPS predicted surprise\n",
    "TR.EPSActSurprise(Period=FY0) - EPS actual surprise\n",
    "----- R.RevenueLIAccuracyScore(Period=FY1) - Revenue SmartEstimate Accuracy score\n",
    "TR.EPSLIAccuracyScore(Period=FY1) - EPS SmartEstimate Accuracy score\n"
   ],
   "metadata": {
    "collapsed": false
   }
  },
  {
   "cell_type": "code",
   "execution_count": null,
   "outputs": [],
   "source": [
    "economic_story = [\"TR.F.EV\", \"\"]"
   ],
   "metadata": {
    "collapsed": false
   }
  },
  {
   "cell_type": "code",
   "execution_count": 16,
   "outputs": [
    {
     "ename": "KeyboardInterrupt",
     "evalue": "",
     "output_type": "error",
     "traceback": [
      "\u001B[1;31m---------------------------------------------------------------------------\u001B[0m",
      "\u001B[1;31mKeyboardInterrupt\u001B[0m                         Traceback (most recent call last)",
      "Cell \u001B[1;32mIn[16], line 1\u001B[0m\n\u001B[1;32m----> 1\u001B[0m ratings_data, err \u001B[38;5;241m=\u001B[39m \u001B[43mek\u001B[49m\u001B[38;5;241;43m.\u001B[39;49m\u001B[43mget_data\u001B[49m\u001B[43m(\u001B[49m\u001B[43minstruments\u001B[49m\u001B[38;5;241;43m=\u001B[39;49m\u001B[43m[\u001B[49m\u001B[38;5;124;43m'\u001B[39;49m\u001B[38;5;124;43m0#.SPX\u001B[39;49m\u001B[38;5;124;43m'\u001B[39;49m\u001B[43m]\u001B[49m\u001B[43m,\u001B[49m\n\u001B[0;32m      2\u001B[0m \u001B[43m                                \u001B[49m\u001B[43mfields\u001B[49m\u001B[38;5;241;43m=\u001B[39;49m\u001B[43m[\u001B[49m\u001B[38;5;124;43m'\u001B[39;49m\u001B[38;5;124;43mTR.CommonName\u001B[39;49m\u001B[38;5;124;43m'\u001B[39;49m\u001B[43m,\u001B[49m\n\u001B[0;32m      3\u001B[0m \u001B[43m                                        \u001B[49m\u001B[38;5;124;43m\"\u001B[39;49m\u001B[38;5;124;43mTR.TRBCEconomicSector\u001B[39;49m\u001B[38;5;124;43m\"\u001B[39;49m\u001B[43m,\u001B[49m\n\u001B[0;32m      4\u001B[0m \u001B[43m                                        \u001B[49m\u001B[38;5;124;43m'\u001B[39;49m\u001B[38;5;124;43mTR.NumberOfAnalysts\u001B[39;49m\u001B[38;5;124;43m'\u001B[39;49m\u001B[43m,\u001B[49m\n\u001B[0;32m      5\u001B[0m \u001B[43m                                        \u001B[49m\u001B[38;5;124;43m\"\u001B[39;49m\u001B[38;5;124;43mEARNINGS\u001B[39;49m\u001B[38;5;124;43m\"\u001B[39;49m\u001B[43m,\u001B[49m\n\u001B[0;32m      6\u001B[0m \u001B[43m                                        \u001B[49m\u001B[38;5;124;43m\"\u001B[39;49m\u001B[38;5;124;43mTR.EPSLIAccuracyScore\u001B[39;49m\u001B[38;5;124;43m\"\u001B[39;49m\u001B[43m]\u001B[49m\u001B[43m)\u001B[49m\n\u001B[0;32m      7\u001B[0m ratings_data\u001B[38;5;241m.\u001B[39mhead(\u001B[38;5;241m100\u001B[39m)\n",
      "File \u001B[1;32m~\\mambaforge\\envs\\AnalystForecast\\Lib\\site-packages\\eikon\\data_grid.py:190\u001B[0m, in \u001B[0;36mget_data\u001B[1;34m(instruments, fields, parameters, field_name, raw_output, debug)\u001B[0m\n\u001B[0;32m    187\u001B[0m \u001B[38;5;28;01mif\u001B[39;00m _endpoint \u001B[38;5;241m==\u001B[39m DataGridAsync_UDF_endpoint:\n\u001B[0;32m    188\u001B[0m     payload \u001B[38;5;241m=\u001B[39m {\u001B[38;5;124m'\u001B[39m\u001B[38;5;124mrequests\u001B[39m\u001B[38;5;124m'\u001B[39m: [payload]}\n\u001B[1;32m--> 190\u001B[0m result \u001B[38;5;241m=\u001B[39m \u001B[43meikon\u001B[49m\u001B[38;5;241;43m.\u001B[39;49m\u001B[43mjson_requests\u001B[49m\u001B[38;5;241;43m.\u001B[39;49m\u001B[43msend_json_request\u001B[49m\u001B[43m(\u001B[49m\u001B[43m_endpoint\u001B[49m\u001B[43m,\u001B[49m\u001B[43m \u001B[49m\u001B[43mpayload\u001B[49m\u001B[43m,\u001B[49m\u001B[43m \u001B[49m\u001B[43mdebug\u001B[49m\u001B[38;5;241;43m=\u001B[39;49m\u001B[43mdebug\u001B[49m\u001B[43m)\u001B[49m\n\u001B[0;32m    192\u001B[0m \u001B[38;5;28;01mif\u001B[39;00m result\u001B[38;5;241m.\u001B[39mget(\u001B[38;5;124m'\u001B[39m\u001B[38;5;124mresponses\u001B[39m\u001B[38;5;124m'\u001B[39m):\n\u001B[0;32m    193\u001B[0m     result \u001B[38;5;241m=\u001B[39m result[\u001B[38;5;124m'\u001B[39m\u001B[38;5;124mresponses\u001B[39m\u001B[38;5;124m'\u001B[39m][\u001B[38;5;241m0\u001B[39m]\n",
      "File \u001B[1;32m~\\mambaforge\\envs\\AnalystForecast\\Lib\\site-packages\\eikon\\json_requests.py:107\u001B[0m, in \u001B[0;36msend_json_request\u001B[1;34m(entity, payload, debug)\u001B[0m\n\u001B[0;32m    105\u001B[0m \u001B[38;5;66;03m# Manage specifically DataGrid async mode\u001B[39;00m\n\u001B[0;32m    106\u001B[0m \u001B[38;5;28;01mif\u001B[39;00m entity\u001B[38;5;241m.\u001B[39mstartswith(\u001B[38;5;124m'\u001B[39m\u001B[38;5;124mDataGrid\u001B[39m\u001B[38;5;124m'\u001B[39m) \u001B[38;5;129;01mand\u001B[39;00m entity\u001B[38;5;241m.\u001B[39mendswith(\u001B[38;5;124m'\u001B[39m\u001B[38;5;124mAsync\u001B[39m\u001B[38;5;124m'\u001B[39m):\n\u001B[1;32m--> 107\u001B[0m     ticket \u001B[38;5;241m=\u001B[39m \u001B[43m_check_ticket_async\u001B[49m\u001B[43m(\u001B[49m\u001B[43mresult\u001B[49m\u001B[43m)\u001B[49m\n\u001B[0;32m    108\u001B[0m     \u001B[38;5;28;01mwhile\u001B[39;00m ticket:\n\u001B[0;32m    109\u001B[0m         ticket_request \u001B[38;5;241m=\u001B[39m {\u001B[38;5;124m'\u001B[39m\u001B[38;5;124mEntity\u001B[39m\u001B[38;5;124m'\u001B[39m: {\n\u001B[0;32m    110\u001B[0m                              \u001B[38;5;124m'\u001B[39m\u001B[38;5;124mE\u001B[39m\u001B[38;5;124m'\u001B[39m: entity,\n\u001B[0;32m    111\u001B[0m                              \u001B[38;5;124m'\u001B[39m\u001B[38;5;124mW\u001B[39m\u001B[38;5;124m'\u001B[39m: {\u001B[38;5;124m'\u001B[39m\u001B[38;5;124mrequests\u001B[39m\u001B[38;5;124m'\u001B[39m: [{\u001B[38;5;124m'\u001B[39m\u001B[38;5;124mticket\u001B[39m\u001B[38;5;124m'\u001B[39m: ticket}]}\n\u001B[0;32m    112\u001B[0m                          }}\n",
      "File \u001B[1;32m~\\mambaforge\\envs\\AnalystForecast\\Lib\\site-packages\\eikon\\json_requests.py:175\u001B[0m, in \u001B[0;36m_check_ticket_async\u001B[1;34m(server_response)\u001B[0m\n\u001B[0;32m    173\u001B[0m                 message \u001B[38;5;241m=\u001B[39m message \u001B[38;5;241m+\u001B[39m \u001B[38;5;124m'\u001B[39m\u001B[38;5;124ms\u001B[39m\u001B[38;5;124m'\u001B[39m\n\u001B[0;32m    174\u001B[0m             logger\u001B[38;5;241m.\u001B[39minfo(message)\n\u001B[1;32m--> 175\u001B[0m             time\u001B[38;5;241m.\u001B[39msleep(ticket_duration \u001B[38;5;241m/\u001B[39m \u001B[38;5;241m1000.0\u001B[39m)\n\u001B[0;32m    176\u001B[0m             \u001B[38;5;28;01mreturn\u001B[39;00m ticket_value\n\u001B[0;32m    177\u001B[0m \u001B[38;5;28;01mreturn\u001B[39;00m \u001B[38;5;28;01mNone\u001B[39;00m\n",
      "\u001B[1;31mKeyboardInterrupt\u001B[0m: "
     ]
    }
   ],
   "source": [
    "ratings_data, err = ek.get_data(instruments=['0#.SPX'],\n",
    "                                fields=['TR.CommonName',\n",
    "                                        \"TR.TRBCEconomicSector\",\n",
    "                                        'TR.NumberOfAnalysts',\n",
    "                                        \"EARNINGS\",\n",
    "                                        \"TR.EPSLIAccuracyScore\"])"
   ],
   "metadata": {
    "collapsed": false
   }
  },
  {
   "cell_type": "code",
   "execution_count": 18,
   "outputs": [
    {
     "data": {
      "text/plain": "   Instrument        Company Common Name TRBC Economic Sector Name  \\\n0     POOL.OQ                  Pool Corp        Consumer Cyclicals   \n1     POOL.OQ                                                        \n2     POOL.OQ                                                        \n3     POOL.OQ                                                        \n4     POOL.OQ                                                        \n5     POOL.OQ                                                        \n6     POOL.OQ                                                        \n7     POOL.OQ                                                        \n8     CHRW.OQ  CH Robinson Worldwide Inc               Industrials   \n9     CHRW.OQ                                                        \n10    CHRW.OQ                                                        \n11    CHRW.OQ                                                        \n12    CHRW.OQ                                                        \n13    CHRW.OQ                                                        \n14    CHRW.OQ                                                        \n15    CHRW.OQ                                                        \n16    CHRW.OQ                                                        \n17    CHRW.OQ                                                        \n18    CHRW.OQ                                                        \n19    CHRW.OQ                                                        \n20    CHRW.OQ                                                        \n21    CHRW.OQ                                                        \n22    CHRW.OQ                                                        \n23    CHRW.OQ                                                        \n24    CHRW.OQ                                                        \n25    CHRW.OQ                                                        \n26    CHRW.OQ                                                        \n27    CHRW.OQ                                                        \n28    CHRW.OQ                                                        \n29    CHRW.OQ                                                        \n30    CHRW.OQ                                                        \n31    CHRW.OQ                                                        \n32    CHRW.OQ                                                        \n33    CHRW.OQ                                                        \n34    CHRW.OQ                                                        \n35      AJG.N  Arthur J. Gallagher & Co.                Financials   \n36      AJG.N                                                        \n37      AJG.N                                                        \n38      AJG.N                                                        \n39      AJG.N                                                        \n40      AJG.N                                                        \n41      AJG.N                                                        \n42      AJG.N                                                        \n43      AJG.N                                                        \n44      AJG.N                                                        \n45      AJG.N                                                        \n46      AJG.N                                                        \n47      AJG.N                                                        \n48      AJG.N                                                        \n49      AJG.N                                                        \n\n    Number of Analysts  EARNINGS  \\\n0                   11   19.5579   \n1                 <NA>      <NA>   \n2                 <NA>      <NA>   \n3                 <NA>      <NA>   \n4                 <NA>      <NA>   \n5                 <NA>      <NA>   \n6                 <NA>      <NA>   \n7                 <NA>      <NA>   \n8                   29    7.2908   \n9                 <NA>      <NA>   \n10                <NA>      <NA>   \n11                <NA>      <NA>   \n12                <NA>      <NA>   \n13                <NA>      <NA>   \n14                <NA>      <NA>   \n15                <NA>      <NA>   \n16                <NA>      <NA>   \n17                <NA>      <NA>   \n18                <NA>      <NA>   \n19                <NA>      <NA>   \n20                <NA>      <NA>   \n21                <NA>      <NA>   \n22                <NA>      <NA>   \n23                <NA>      <NA>   \n24                <NA>      <NA>   \n25                <NA>      <NA>   \n26                <NA>      <NA>   \n27                <NA>      <NA>   \n28                <NA>      <NA>   \n29                <NA>      <NA>   \n30                <NA>      <NA>   \n31                <NA>      <NA>   \n32                <NA>      <NA>   \n33                <NA>      <NA>   \n34                <NA>      <NA>   \n35                  17    5.1985   \n36                <NA>      <NA>   \n37                <NA>      <NA>   \n38                <NA>      <NA>   \n39                <NA>      <NA>   \n40                <NA>      <NA>   \n41                <NA>      <NA>   \n42                <NA>      <NA>   \n43                <NA>      <NA>   \n44                <NA>      <NA>   \n45                <NA>      <NA>   \n46                <NA>      <NA>   \n47                <NA>      <NA>   \n48                <NA>      <NA>   \n49                <NA>      <NA>   \n\n    Earnings Per Share - SmartEstimate® Accuracy Score  \n0                                                46.0   \n1                                                34.0   \n2                                                56.0   \n3                                                50.0   \n4                                                51.0   \n5                                                67.0   \n6                                                71.0   \n7                                                55.0   \n8                                                63.0   \n9                                                35.0   \n10                                               46.0   \n11                                               76.0   \n12                                               71.0   \n13                                               46.0   \n14                                               24.0   \n15                                               47.0   \n16                                               40.0   \n17                                               44.0   \n18                                                2.0   \n19                                               46.5   \n20                                               15.0   \n21                                               39.0   \n22                                               36.0   \n23                                               31.0   \n24                                               85.0   \n25                                               87.0   \n26                                               13.0   \n27                                               31.5   \n28                                               39.0   \n29                                               28.0   \n30                                               48.0   \n31                                               57.0   \n32                                               97.0   \n33                                              100.0   \n34                                              100.0   \n35                                               55.0   \n36                                               44.5   \n37                                               58.5   \n38                                               68.0   \n39                                               41.0   \n40                                               50.0   \n41                                               51.5   \n42                                               71.0   \n43                                               49.0   \n44                                               68.0   \n45                                               55.0   \n46                                               62.0   \n47                                               61.5   \n48                                               40.0   \n49                                               73.0   ",
      "text/html": "<div>\n<style scoped>\n    .dataframe tbody tr th:only-of-type {\n        vertical-align: middle;\n    }\n\n    .dataframe tbody tr th {\n        vertical-align: top;\n    }\n\n    .dataframe thead th {\n        text-align: right;\n    }\n</style>\n<table border=\"1\" class=\"dataframe\">\n  <thead>\n    <tr style=\"text-align: right;\">\n      <th></th>\n      <th>Instrument</th>\n      <th>Company Common Name</th>\n      <th>TRBC Economic Sector Name</th>\n      <th>Number of Analysts</th>\n      <th>EARNINGS</th>\n      <th>Earnings Per Share - SmartEstimate® Accuracy Score</th>\n    </tr>\n  </thead>\n  <tbody>\n    <tr>\n      <th>0</th>\n      <td>POOL.OQ</td>\n      <td>Pool Corp</td>\n      <td>Consumer Cyclicals</td>\n      <td>11</td>\n      <td>19.5579</td>\n      <td>46.0</td>\n    </tr>\n    <tr>\n      <th>1</th>\n      <td>POOL.OQ</td>\n      <td></td>\n      <td></td>\n      <td>&lt;NA&gt;</td>\n      <td>&lt;NA&gt;</td>\n      <td>34.0</td>\n    </tr>\n    <tr>\n      <th>2</th>\n      <td>POOL.OQ</td>\n      <td></td>\n      <td></td>\n      <td>&lt;NA&gt;</td>\n      <td>&lt;NA&gt;</td>\n      <td>56.0</td>\n    </tr>\n    <tr>\n      <th>3</th>\n      <td>POOL.OQ</td>\n      <td></td>\n      <td></td>\n      <td>&lt;NA&gt;</td>\n      <td>&lt;NA&gt;</td>\n      <td>50.0</td>\n    </tr>\n    <tr>\n      <th>4</th>\n      <td>POOL.OQ</td>\n      <td></td>\n      <td></td>\n      <td>&lt;NA&gt;</td>\n      <td>&lt;NA&gt;</td>\n      <td>51.0</td>\n    </tr>\n    <tr>\n      <th>5</th>\n      <td>POOL.OQ</td>\n      <td></td>\n      <td></td>\n      <td>&lt;NA&gt;</td>\n      <td>&lt;NA&gt;</td>\n      <td>67.0</td>\n    </tr>\n    <tr>\n      <th>6</th>\n      <td>POOL.OQ</td>\n      <td></td>\n      <td></td>\n      <td>&lt;NA&gt;</td>\n      <td>&lt;NA&gt;</td>\n      <td>71.0</td>\n    </tr>\n    <tr>\n      <th>7</th>\n      <td>POOL.OQ</td>\n      <td></td>\n      <td></td>\n      <td>&lt;NA&gt;</td>\n      <td>&lt;NA&gt;</td>\n      <td>55.0</td>\n    </tr>\n    <tr>\n      <th>8</th>\n      <td>CHRW.OQ</td>\n      <td>CH Robinson Worldwide Inc</td>\n      <td>Industrials</td>\n      <td>29</td>\n      <td>7.2908</td>\n      <td>63.0</td>\n    </tr>\n    <tr>\n      <th>9</th>\n      <td>CHRW.OQ</td>\n      <td></td>\n      <td></td>\n      <td>&lt;NA&gt;</td>\n      <td>&lt;NA&gt;</td>\n      <td>35.0</td>\n    </tr>\n    <tr>\n      <th>10</th>\n      <td>CHRW.OQ</td>\n      <td></td>\n      <td></td>\n      <td>&lt;NA&gt;</td>\n      <td>&lt;NA&gt;</td>\n      <td>46.0</td>\n    </tr>\n    <tr>\n      <th>11</th>\n      <td>CHRW.OQ</td>\n      <td></td>\n      <td></td>\n      <td>&lt;NA&gt;</td>\n      <td>&lt;NA&gt;</td>\n      <td>76.0</td>\n    </tr>\n    <tr>\n      <th>12</th>\n      <td>CHRW.OQ</td>\n      <td></td>\n      <td></td>\n      <td>&lt;NA&gt;</td>\n      <td>&lt;NA&gt;</td>\n      <td>71.0</td>\n    </tr>\n    <tr>\n      <th>13</th>\n      <td>CHRW.OQ</td>\n      <td></td>\n      <td></td>\n      <td>&lt;NA&gt;</td>\n      <td>&lt;NA&gt;</td>\n      <td>46.0</td>\n    </tr>\n    <tr>\n      <th>14</th>\n      <td>CHRW.OQ</td>\n      <td></td>\n      <td></td>\n      <td>&lt;NA&gt;</td>\n      <td>&lt;NA&gt;</td>\n      <td>24.0</td>\n    </tr>\n    <tr>\n      <th>15</th>\n      <td>CHRW.OQ</td>\n      <td></td>\n      <td></td>\n      <td>&lt;NA&gt;</td>\n      <td>&lt;NA&gt;</td>\n      <td>47.0</td>\n    </tr>\n    <tr>\n      <th>16</th>\n      <td>CHRW.OQ</td>\n      <td></td>\n      <td></td>\n      <td>&lt;NA&gt;</td>\n      <td>&lt;NA&gt;</td>\n      <td>40.0</td>\n    </tr>\n    <tr>\n      <th>17</th>\n      <td>CHRW.OQ</td>\n      <td></td>\n      <td></td>\n      <td>&lt;NA&gt;</td>\n      <td>&lt;NA&gt;</td>\n      <td>44.0</td>\n    </tr>\n    <tr>\n      <th>18</th>\n      <td>CHRW.OQ</td>\n      <td></td>\n      <td></td>\n      <td>&lt;NA&gt;</td>\n      <td>&lt;NA&gt;</td>\n      <td>2.0</td>\n    </tr>\n    <tr>\n      <th>19</th>\n      <td>CHRW.OQ</td>\n      <td></td>\n      <td></td>\n      <td>&lt;NA&gt;</td>\n      <td>&lt;NA&gt;</td>\n      <td>46.5</td>\n    </tr>\n    <tr>\n      <th>20</th>\n      <td>CHRW.OQ</td>\n      <td></td>\n      <td></td>\n      <td>&lt;NA&gt;</td>\n      <td>&lt;NA&gt;</td>\n      <td>15.0</td>\n    </tr>\n    <tr>\n      <th>21</th>\n      <td>CHRW.OQ</td>\n      <td></td>\n      <td></td>\n      <td>&lt;NA&gt;</td>\n      <td>&lt;NA&gt;</td>\n      <td>39.0</td>\n    </tr>\n    <tr>\n      <th>22</th>\n      <td>CHRW.OQ</td>\n      <td></td>\n      <td></td>\n      <td>&lt;NA&gt;</td>\n      <td>&lt;NA&gt;</td>\n      <td>36.0</td>\n    </tr>\n    <tr>\n      <th>23</th>\n      <td>CHRW.OQ</td>\n      <td></td>\n      <td></td>\n      <td>&lt;NA&gt;</td>\n      <td>&lt;NA&gt;</td>\n      <td>31.0</td>\n    </tr>\n    <tr>\n      <th>24</th>\n      <td>CHRW.OQ</td>\n      <td></td>\n      <td></td>\n      <td>&lt;NA&gt;</td>\n      <td>&lt;NA&gt;</td>\n      <td>85.0</td>\n    </tr>\n    <tr>\n      <th>25</th>\n      <td>CHRW.OQ</td>\n      <td></td>\n      <td></td>\n      <td>&lt;NA&gt;</td>\n      <td>&lt;NA&gt;</td>\n      <td>87.0</td>\n    </tr>\n    <tr>\n      <th>26</th>\n      <td>CHRW.OQ</td>\n      <td></td>\n      <td></td>\n      <td>&lt;NA&gt;</td>\n      <td>&lt;NA&gt;</td>\n      <td>13.0</td>\n    </tr>\n    <tr>\n      <th>27</th>\n      <td>CHRW.OQ</td>\n      <td></td>\n      <td></td>\n      <td>&lt;NA&gt;</td>\n      <td>&lt;NA&gt;</td>\n      <td>31.5</td>\n    </tr>\n    <tr>\n      <th>28</th>\n      <td>CHRW.OQ</td>\n      <td></td>\n      <td></td>\n      <td>&lt;NA&gt;</td>\n      <td>&lt;NA&gt;</td>\n      <td>39.0</td>\n    </tr>\n    <tr>\n      <th>29</th>\n      <td>CHRW.OQ</td>\n      <td></td>\n      <td></td>\n      <td>&lt;NA&gt;</td>\n      <td>&lt;NA&gt;</td>\n      <td>28.0</td>\n    </tr>\n    <tr>\n      <th>30</th>\n      <td>CHRW.OQ</td>\n      <td></td>\n      <td></td>\n      <td>&lt;NA&gt;</td>\n      <td>&lt;NA&gt;</td>\n      <td>48.0</td>\n    </tr>\n    <tr>\n      <th>31</th>\n      <td>CHRW.OQ</td>\n      <td></td>\n      <td></td>\n      <td>&lt;NA&gt;</td>\n      <td>&lt;NA&gt;</td>\n      <td>57.0</td>\n    </tr>\n    <tr>\n      <th>32</th>\n      <td>CHRW.OQ</td>\n      <td></td>\n      <td></td>\n      <td>&lt;NA&gt;</td>\n      <td>&lt;NA&gt;</td>\n      <td>97.0</td>\n    </tr>\n    <tr>\n      <th>33</th>\n      <td>CHRW.OQ</td>\n      <td></td>\n      <td></td>\n      <td>&lt;NA&gt;</td>\n      <td>&lt;NA&gt;</td>\n      <td>100.0</td>\n    </tr>\n    <tr>\n      <th>34</th>\n      <td>CHRW.OQ</td>\n      <td></td>\n      <td></td>\n      <td>&lt;NA&gt;</td>\n      <td>&lt;NA&gt;</td>\n      <td>100.0</td>\n    </tr>\n    <tr>\n      <th>35</th>\n      <td>AJG.N</td>\n      <td>Arthur J. Gallagher &amp; Co.</td>\n      <td>Financials</td>\n      <td>17</td>\n      <td>5.1985</td>\n      <td>55.0</td>\n    </tr>\n    <tr>\n      <th>36</th>\n      <td>AJG.N</td>\n      <td></td>\n      <td></td>\n      <td>&lt;NA&gt;</td>\n      <td>&lt;NA&gt;</td>\n      <td>44.5</td>\n    </tr>\n    <tr>\n      <th>37</th>\n      <td>AJG.N</td>\n      <td></td>\n      <td></td>\n      <td>&lt;NA&gt;</td>\n      <td>&lt;NA&gt;</td>\n      <td>58.5</td>\n    </tr>\n    <tr>\n      <th>38</th>\n      <td>AJG.N</td>\n      <td></td>\n      <td></td>\n      <td>&lt;NA&gt;</td>\n      <td>&lt;NA&gt;</td>\n      <td>68.0</td>\n    </tr>\n    <tr>\n      <th>39</th>\n      <td>AJG.N</td>\n      <td></td>\n      <td></td>\n      <td>&lt;NA&gt;</td>\n      <td>&lt;NA&gt;</td>\n      <td>41.0</td>\n    </tr>\n    <tr>\n      <th>40</th>\n      <td>AJG.N</td>\n      <td></td>\n      <td></td>\n      <td>&lt;NA&gt;</td>\n      <td>&lt;NA&gt;</td>\n      <td>50.0</td>\n    </tr>\n    <tr>\n      <th>41</th>\n      <td>AJG.N</td>\n      <td></td>\n      <td></td>\n      <td>&lt;NA&gt;</td>\n      <td>&lt;NA&gt;</td>\n      <td>51.5</td>\n    </tr>\n    <tr>\n      <th>42</th>\n      <td>AJG.N</td>\n      <td></td>\n      <td></td>\n      <td>&lt;NA&gt;</td>\n      <td>&lt;NA&gt;</td>\n      <td>71.0</td>\n    </tr>\n    <tr>\n      <th>43</th>\n      <td>AJG.N</td>\n      <td></td>\n      <td></td>\n      <td>&lt;NA&gt;</td>\n      <td>&lt;NA&gt;</td>\n      <td>49.0</td>\n    </tr>\n    <tr>\n      <th>44</th>\n      <td>AJG.N</td>\n      <td></td>\n      <td></td>\n      <td>&lt;NA&gt;</td>\n      <td>&lt;NA&gt;</td>\n      <td>68.0</td>\n    </tr>\n    <tr>\n      <th>45</th>\n      <td>AJG.N</td>\n      <td></td>\n      <td></td>\n      <td>&lt;NA&gt;</td>\n      <td>&lt;NA&gt;</td>\n      <td>55.0</td>\n    </tr>\n    <tr>\n      <th>46</th>\n      <td>AJG.N</td>\n      <td></td>\n      <td></td>\n      <td>&lt;NA&gt;</td>\n      <td>&lt;NA&gt;</td>\n      <td>62.0</td>\n    </tr>\n    <tr>\n      <th>47</th>\n      <td>AJG.N</td>\n      <td></td>\n      <td></td>\n      <td>&lt;NA&gt;</td>\n      <td>&lt;NA&gt;</td>\n      <td>61.5</td>\n    </tr>\n    <tr>\n      <th>48</th>\n      <td>AJG.N</td>\n      <td></td>\n      <td></td>\n      <td>&lt;NA&gt;</td>\n      <td>&lt;NA&gt;</td>\n      <td>40.0</td>\n    </tr>\n    <tr>\n      <th>49</th>\n      <td>AJG.N</td>\n      <td></td>\n      <td></td>\n      <td>&lt;NA&gt;</td>\n      <td>&lt;NA&gt;</td>\n      <td>73.0</td>\n    </tr>\n  </tbody>\n</table>\n</div>"
     },
     "execution_count": 18,
     "metadata": {},
     "output_type": "execute_result"
    }
   ],
   "source": [
    "ratings_data.head(50)"
   ],
   "metadata": {
    "collapsed": false
   }
  },
  {
   "cell_type": "code",
   "execution_count": 12,
   "outputs": [
    {
     "data": {
      "text/plain": "TRBC Economic Sector Name\nTechnology                86\nConsumer Cyclicals        70\nIndustrials               70\nHealthcare                63\nFinancials                62\nConsumer Non-Cyclicals    39\nReal Estate               30\nUtilities                 30\nBasic Materials           27\nEnergy                    26\ndtype: int64"
     },
     "execution_count": 12,
     "metadata": {},
     "output_type": "execute_result"
    }
   ],
   "source": [
    "ratings_data.value_counts(\"TRBC Economic Sector Name\")"
   ],
   "metadata": {
    "collapsed": false
   }
  },
  {
   "cell_type": "markdown",
   "source": [
    "# Timeseries"
   ],
   "metadata": {
    "collapsed": false
   }
  },
  {
   "cell_type": "code",
   "execution_count": 5,
   "outputs": [
    {
     "data": {
      "text/plain": "MSFT.O                CLOSE\nDate                       \n2022-03-25 20:00:00  303.69\n2022-03-25 21:00:00  303.45\n2022-03-25 22:00:00  303.48\n2022-03-25 23:00:00  303.51\n2022-03-26 00:00:00  303.75",
      "text/html": "<div>\n<style scoped>\n    .dataframe tbody tr th:only-of-type {\n        vertical-align: middle;\n    }\n\n    .dataframe tbody tr th {\n        vertical-align: top;\n    }\n\n    .dataframe thead th {\n        text-align: right;\n    }\n</style>\n<table border=\"1\" class=\"dataframe\">\n  <thead>\n    <tr style=\"text-align: right;\">\n      <th>MSFT.O</th>\n      <th>CLOSE</th>\n    </tr>\n    <tr>\n      <th>Date</th>\n      <th></th>\n    </tr>\n  </thead>\n  <tbody>\n    <tr>\n      <th>2022-03-25 20:00:00</th>\n      <td>303.69</td>\n    </tr>\n    <tr>\n      <th>2022-03-25 21:00:00</th>\n      <td>303.45</td>\n    </tr>\n    <tr>\n      <th>2022-03-25 22:00:00</th>\n      <td>303.48</td>\n    </tr>\n    <tr>\n      <th>2022-03-25 23:00:00</th>\n      <td>303.51</td>\n    </tr>\n    <tr>\n      <th>2022-03-26 00:00:00</th>\n      <td>303.75</td>\n    </tr>\n  </tbody>\n</table>\n</div>"
     },
     "execution_count": 5,
     "metadata": {},
     "output_type": "execute_result"
    }
   ],
   "source": [
    "Hourly = ek.get_timeseries([\"MSFT.O\"], fields=[\"Close\"], start_date = \"2022-03-01\", end_date = \"2022-03-27\", interval=\"hour\")\n",
    "Daily = ek.get_timeseries([\"MSFT.O\"], fields=[\"Close\"], start_date = \"2022-03-01\", end_date = \"2022-03-27\", interval=\"daily\")\n",
    "Weekly = ek.get_timeseries([\"MSFT.O\"], fields=[\"Close\"], start_date = \"2022-03-01\", end_date = \"2022-03-27\", interval=\"weekly\")\n",
    "Monthly = ek.get_timeseries([\"MSFT.O\"], fields=[\"Close\"], start_date = \"2022-03-01\", end_date = \"2022-05-27\", interval=\"monthly\")\n",
    "Hourly.tail()"
   ],
   "metadata": {
    "collapsed": false
   }
  },
  {
   "cell_type": "code",
   "execution_count": 6,
   "outputs": [
    {
     "data": {
      "text/plain": "IBM.N            CLOSE\nDate                  \n2018-01-02  147.334047\n2018-01-03  151.383942\n2018-01-04  154.450019\n2018-01-05  155.204598\n2018-01-08  156.140659\n...                ...\n2023-02-06      136.18\n2023-02-07      135.84\n2023-02-08      135.98\n2023-02-09      133.75\n2023-02-10       135.6\n\n[1287 rows x 1 columns]",
      "text/html": "<div>\n<style scoped>\n    .dataframe tbody tr th:only-of-type {\n        vertical-align: middle;\n    }\n\n    .dataframe tbody tr th {\n        vertical-align: top;\n    }\n\n    .dataframe thead th {\n        text-align: right;\n    }\n</style>\n<table border=\"1\" class=\"dataframe\">\n  <thead>\n    <tr style=\"text-align: right;\">\n      <th>IBM.N</th>\n      <th>CLOSE</th>\n    </tr>\n    <tr>\n      <th>Date</th>\n      <th></th>\n    </tr>\n  </thead>\n  <tbody>\n    <tr>\n      <th>2018-01-02</th>\n      <td>147.334047</td>\n    </tr>\n    <tr>\n      <th>2018-01-03</th>\n      <td>151.383942</td>\n    </tr>\n    <tr>\n      <th>2018-01-04</th>\n      <td>154.450019</td>\n    </tr>\n    <tr>\n      <th>2018-01-05</th>\n      <td>155.204598</td>\n    </tr>\n    <tr>\n      <th>2018-01-08</th>\n      <td>156.140659</td>\n    </tr>\n    <tr>\n      <th>...</th>\n      <td>...</td>\n    </tr>\n    <tr>\n      <th>2023-02-06</th>\n      <td>136.18</td>\n    </tr>\n    <tr>\n      <th>2023-02-07</th>\n      <td>135.84</td>\n    </tr>\n    <tr>\n      <th>2023-02-08</th>\n      <td>135.98</td>\n    </tr>\n    <tr>\n      <th>2023-02-09</th>\n      <td>133.75</td>\n    </tr>\n    <tr>\n      <th>2023-02-10</th>\n      <td>135.6</td>\n    </tr>\n  </tbody>\n</table>\n<p>1287 rows × 1 columns</p>\n</div>"
     },
     "execution_count": 6,
     "metadata": {},
     "output_type": "execute_result"
    }
   ],
   "source": [
    "#a RIC that you want to get time series\n",
    "RIC = 'IBM.N'\n",
    "#start date that you want to get time series; it is in format yyyy-mm-dd\n",
    "start_date = '2018-01-02'\n",
    "#get time series till the last market close date using eikon.get_timeseries(..) function\n",
    "df = ek.get_timeseries(RIC, 'CLOSE', interval='daily', start_date=start_date)\n",
    "#display time series data frame\n",
    "df"
   ],
   "metadata": {
    "collapsed": false
   }
  },
  {
   "cell_type": "code",
   "execution_count": 7,
   "outputs": [
    {
     "ename": "ValueError",
     "evalue": "Pandas data cast to numpy dtype of object. Check input data with np.asarray(data). The types seen wereNone and None. The data was\nDate\n2018-01-03    4.049895\n2018-01-04    3.066076\n2018-01-05     0.75458\n2018-01-06     0.75458\n2018-01-07     0.75458\n                ...   \n2023-02-06       -0.76\n2023-02-07       -0.34\n2023-02-08        0.14\n2023-02-09       -2.23\n2023-02-10        1.85\nFreq: D, Name: df_1diff, Length: 1865, dtype: Float64\nand\n [[1.]\n [1.]\n [1.]\n ...\n [1.]\n [1.]\n [1.]]\nbefore. After,\n[4.049895360000022 3.0660764399999607 0.7545795600000247 ...\n 0.13999999999998636 -2.2299999999999898 1.8499999999999943]\n[[1.]\n [1.]\n [1.]\n ...\n [1.]\n [1.]\n [1.]].",
     "output_type": "error",
     "traceback": [
      "\u001B[1;31m---------------------------------------------------------------------------\u001B[0m",
      "\u001B[1;31mValueError\u001B[0m                                Traceback (most recent call last)",
      "Cell \u001B[1;32mIn[7], line 55\u001B[0m\n\u001B[0;32m     53\u001B[0m forecast_end_date \u001B[38;5;241m=\u001B[39m \u001B[38;5;124m'\u001B[39m\u001B[38;5;124m2020-03-31\u001B[39m\u001B[38;5;124m'\u001B[39m\n\u001B[0;32m     54\u001B[0m \u001B[38;5;66;03m#call the function to forecast time series with ARIMA model\u001B[39;00m\n\u001B[1;32m---> 55\u001B[0m forecast \u001B[38;5;241m=\u001B[39m \u001B[43mARIMA_model_forecast\u001B[49m\u001B[43m(\u001B[49m\u001B[43mdf\u001B[49m\u001B[43m,\u001B[49m\u001B[43mforecast_end_date\u001B[49m\u001B[43m)\u001B[49m\n\u001B[0;32m     56\u001B[0m \u001B[38;5;66;03m#display forecast time series\u001B[39;00m\n\u001B[0;32m     57\u001B[0m forecast\n",
      "Cell \u001B[1;32mIn[7], line 28\u001B[0m, in \u001B[0;36mARIMA_model_forecast\u001B[1;34m(df, forecast_end_date)\u001B[0m\n\u001B[0;32m     26\u001B[0m new_spot \u001B[38;5;241m=\u001B[39m df[\u001B[38;5;124m'\u001B[39m\u001B[38;5;124mdf_1diff\u001B[39m\u001B[38;5;124m'\u001B[39m]\u001B[38;5;241m.\u001B[39mresample(\u001B[38;5;124m'\u001B[39m\u001B[38;5;124mD\u001B[39m\u001B[38;5;124m'\u001B[39m)\u001B[38;5;241m.\u001B[39mffill()\n\u001B[0;32m     27\u001B[0m \u001B[38;5;66;03m#call ARIMA model which p=1,d=0 and q=1 with differences of time series\u001B[39;00m\n\u001B[1;32m---> 28\u001B[0m arma_model \u001B[38;5;241m=\u001B[39m \u001B[43mARIMA\u001B[49m\u001B[43m(\u001B[49m\u001B[43mnew_spot\u001B[49m\u001B[43m,\u001B[49m\u001B[43m \u001B[49m\u001B[43morder\u001B[49m\u001B[38;5;241;43m=\u001B[39;49m\u001B[43m(\u001B[49m\u001B[38;5;241;43m1\u001B[39;49m\u001B[43m,\u001B[49m\u001B[38;5;241;43m0\u001B[39;49m\u001B[43m,\u001B[49m\u001B[38;5;241;43m1\u001B[39;49m\u001B[43m)\u001B[49m\u001B[43m)\u001B[49m\n\u001B[0;32m     29\u001B[0m results \u001B[38;5;241m=\u001B[39m arma_model\u001B[38;5;241m.\u001B[39mfit(disp\u001B[38;5;241m=\u001B[39m\u001B[38;5;241m0\u001B[39m)\n\u001B[0;32m     30\u001B[0m residuals \u001B[38;5;241m=\u001B[39m pd\u001B[38;5;241m.\u001B[39mDataFrame(results\u001B[38;5;241m.\u001B[39mresid)\n",
      "File \u001B[1;32m~\\mambaforge\\envs\\AnalystForecast\\Lib\\site-packages\\statsmodels\\tsa\\arima\\model.py:153\u001B[0m, in \u001B[0;36mARIMA.__init__\u001B[1;34m(self, endog, exog, order, seasonal_order, trend, enforce_stationarity, enforce_invertibility, concentrate_scale, trend_offset, dates, freq, missing, validate_specification)\u001B[0m\n\u001B[0;32m    146\u001B[0m     trend \u001B[38;5;241m=\u001B[39m \u001B[38;5;124m'\u001B[39m\u001B[38;5;124mn\u001B[39m\u001B[38;5;124m'\u001B[39m\n\u001B[0;32m    148\u001B[0m \u001B[38;5;66;03m# Construct the specification\u001B[39;00m\n\u001B[0;32m    149\u001B[0m \u001B[38;5;66;03m# (don't pass specific values of enforce stationarity/invertibility,\u001B[39;00m\n\u001B[0;32m    150\u001B[0m \u001B[38;5;66;03m# because we don't actually want to restrict the estimators based on\u001B[39;00m\n\u001B[0;32m    151\u001B[0m \u001B[38;5;66;03m# this criteria. Instead, we'll just make sure that the parameter\u001B[39;00m\n\u001B[0;32m    152\u001B[0m \u001B[38;5;66;03m# estimates from those methods satisfy the criteria.)\u001B[39;00m\n\u001B[1;32m--> 153\u001B[0m \u001B[38;5;28mself\u001B[39m\u001B[38;5;241m.\u001B[39m_spec_arima \u001B[38;5;241m=\u001B[39m \u001B[43mSARIMAXSpecification\u001B[49m\u001B[43m(\u001B[49m\n\u001B[0;32m    154\u001B[0m \u001B[43m    \u001B[49m\u001B[43mendog\u001B[49m\u001B[43m,\u001B[49m\u001B[43m \u001B[49m\u001B[43mexog\u001B[49m\u001B[38;5;241;43m=\u001B[39;49m\u001B[43mexog\u001B[49m\u001B[43m,\u001B[49m\u001B[43m \u001B[49m\u001B[43morder\u001B[49m\u001B[38;5;241;43m=\u001B[39;49m\u001B[43morder\u001B[49m\u001B[43m,\u001B[49m\u001B[43m \u001B[49m\u001B[43mseasonal_order\u001B[49m\u001B[38;5;241;43m=\u001B[39;49m\u001B[43mseasonal_order\u001B[49m\u001B[43m,\u001B[49m\n\u001B[0;32m    155\u001B[0m \u001B[43m    \u001B[49m\u001B[43mtrend\u001B[49m\u001B[38;5;241;43m=\u001B[39;49m\u001B[43mtrend\u001B[49m\u001B[43m,\u001B[49m\u001B[43m \u001B[49m\u001B[43menforce_stationarity\u001B[49m\u001B[38;5;241;43m=\u001B[39;49m\u001B[38;5;28;43;01mNone\u001B[39;49;00m\u001B[43m,\u001B[49m\u001B[43m \u001B[49m\u001B[43menforce_invertibility\u001B[49m\u001B[38;5;241;43m=\u001B[39;49m\u001B[38;5;28;43;01mNone\u001B[39;49;00m\u001B[43m,\u001B[49m\n\u001B[0;32m    156\u001B[0m \u001B[43m    \u001B[49m\u001B[43mconcentrate_scale\u001B[49m\u001B[38;5;241;43m=\u001B[39;49m\u001B[43mconcentrate_scale\u001B[49m\u001B[43m,\u001B[49m\u001B[43m \u001B[49m\u001B[43mtrend_offset\u001B[49m\u001B[38;5;241;43m=\u001B[39;49m\u001B[43mtrend_offset\u001B[49m\u001B[43m,\u001B[49m\n\u001B[0;32m    157\u001B[0m \u001B[43m    \u001B[49m\u001B[43mdates\u001B[49m\u001B[38;5;241;43m=\u001B[39;49m\u001B[43mdates\u001B[49m\u001B[43m,\u001B[49m\u001B[43m \u001B[49m\u001B[43mfreq\u001B[49m\u001B[38;5;241;43m=\u001B[39;49m\u001B[43mfreq\u001B[49m\u001B[43m,\u001B[49m\u001B[43m \u001B[49m\u001B[43mmissing\u001B[49m\u001B[38;5;241;43m=\u001B[39;49m\u001B[43mmissing\u001B[49m\u001B[43m,\u001B[49m\n\u001B[0;32m    158\u001B[0m \u001B[43m    \u001B[49m\u001B[43mvalidate_specification\u001B[49m\u001B[38;5;241;43m=\u001B[39;49m\u001B[43mvalidate_specification\u001B[49m\u001B[43m)\u001B[49m\n\u001B[0;32m    159\u001B[0m exog \u001B[38;5;241m=\u001B[39m \u001B[38;5;28mself\u001B[39m\u001B[38;5;241m.\u001B[39m_spec_arima\u001B[38;5;241m.\u001B[39m_model\u001B[38;5;241m.\u001B[39mdata\u001B[38;5;241m.\u001B[39morig_exog\n\u001B[0;32m    161\u001B[0m \u001B[38;5;66;03m# Raise an error if we have a constant in an integrated model\u001B[39;00m\n",
      "File \u001B[1;32m~\\mambaforge\\envs\\AnalystForecast\\Lib\\site-packages\\statsmodels\\tsa\\arima\\specification.py:446\u001B[0m, in \u001B[0;36mSARIMAXSpecification.__init__\u001B[1;34m(self, endog, exog, order, seasonal_order, ar_order, diff, ma_order, seasonal_ar_order, seasonal_diff, seasonal_ma_order, seasonal_periods, trend, enforce_stationarity, enforce_invertibility, concentrate_scale, trend_offset, dates, freq, missing, validate_specification)\u001B[0m\n\u001B[0;32m    441\u001B[0m         exog \u001B[38;5;241m=\u001B[39m np\u001B[38;5;241m.\u001B[39mc_[trend_data, exog]\n\u001B[0;32m    443\u001B[0m \u001B[38;5;66;03m# Create an underlying time series model, to handle endog / exog,\u001B[39;00m\n\u001B[0;32m    444\u001B[0m \u001B[38;5;66;03m# especially validating shapes, retrieving names, and potentially\u001B[39;00m\n\u001B[0;32m    445\u001B[0m \u001B[38;5;66;03m# providing us with a time series index\u001B[39;00m\n\u001B[1;32m--> 446\u001B[0m \u001B[38;5;28mself\u001B[39m\u001B[38;5;241m.\u001B[39m_model \u001B[38;5;241m=\u001B[39m \u001B[43mTimeSeriesModel\u001B[49m\u001B[43m(\u001B[49m\u001B[43mendog\u001B[49m\u001B[43m,\u001B[49m\u001B[43m \u001B[49m\u001B[43mexog\u001B[49m\u001B[38;5;241;43m=\u001B[39;49m\u001B[43mexog\u001B[49m\u001B[43m,\u001B[49m\u001B[43m \u001B[49m\u001B[43mdates\u001B[49m\u001B[38;5;241;43m=\u001B[39;49m\u001B[43mdates\u001B[49m\u001B[43m,\u001B[49m\u001B[43m \u001B[49m\u001B[43mfreq\u001B[49m\u001B[38;5;241;43m=\u001B[39;49m\u001B[43mfreq\u001B[49m\u001B[43m,\u001B[49m\n\u001B[0;32m    447\u001B[0m \u001B[43m                              \u001B[49m\u001B[43mmissing\u001B[49m\u001B[38;5;241;43m=\u001B[39;49m\u001B[43mmissing\u001B[49m\u001B[43m)\u001B[49m\n\u001B[0;32m    448\u001B[0m \u001B[38;5;28mself\u001B[39m\u001B[38;5;241m.\u001B[39mendog \u001B[38;5;241m=\u001B[39m \u001B[38;5;28;01mNone\u001B[39;00m \u001B[38;5;28;01mif\u001B[39;00m faux_endog \u001B[38;5;28;01melse\u001B[39;00m \u001B[38;5;28mself\u001B[39m\u001B[38;5;241m.\u001B[39m_model\u001B[38;5;241m.\u001B[39mendog\n\u001B[0;32m    449\u001B[0m \u001B[38;5;28mself\u001B[39m\u001B[38;5;241m.\u001B[39mexog \u001B[38;5;241m=\u001B[39m \u001B[38;5;28mself\u001B[39m\u001B[38;5;241m.\u001B[39m_model\u001B[38;5;241m.\u001B[39mexog\n",
      "File \u001B[1;32m~\\mambaforge\\envs\\AnalystForecast\\Lib\\site-packages\\statsmodels\\tsa\\base\\tsa_model.py:468\u001B[0m, in \u001B[0;36mTimeSeriesModel.__init__\u001B[1;34m(self, endog, exog, dates, freq, missing, **kwargs)\u001B[0m\n\u001B[0;32m    465\u001B[0m \u001B[38;5;28;01mdef\u001B[39;00m \u001B[38;5;21m__init__\u001B[39m(\n\u001B[0;32m    466\u001B[0m     \u001B[38;5;28mself\u001B[39m, endog, exog\u001B[38;5;241m=\u001B[39m\u001B[38;5;28;01mNone\u001B[39;00m, dates\u001B[38;5;241m=\u001B[39m\u001B[38;5;28;01mNone\u001B[39;00m, freq\u001B[38;5;241m=\u001B[39m\u001B[38;5;28;01mNone\u001B[39;00m, missing\u001B[38;5;241m=\u001B[39m\u001B[38;5;124m\"\u001B[39m\u001B[38;5;124mnone\u001B[39m\u001B[38;5;124m\"\u001B[39m, \u001B[38;5;241m*\u001B[39m\u001B[38;5;241m*\u001B[39mkwargs\n\u001B[0;32m    467\u001B[0m ):\n\u001B[1;32m--> 468\u001B[0m     \u001B[38;5;28;43msuper\u001B[39;49m\u001B[43m(\u001B[49m\u001B[43m)\u001B[49m\u001B[38;5;241;43m.\u001B[39;49m\u001B[38;5;21;43m__init__\u001B[39;49m\u001B[43m(\u001B[49m\u001B[43mendog\u001B[49m\u001B[43m,\u001B[49m\u001B[43m \u001B[49m\u001B[43mexog\u001B[49m\u001B[43m,\u001B[49m\u001B[43m \u001B[49m\u001B[43mmissing\u001B[49m\u001B[38;5;241;43m=\u001B[39;49m\u001B[43mmissing\u001B[49m\u001B[43m,\u001B[49m\u001B[43m \u001B[49m\u001B[38;5;241;43m*\u001B[39;49m\u001B[38;5;241;43m*\u001B[39;49m\u001B[43mkwargs\u001B[49m\u001B[43m)\u001B[49m\n\u001B[0;32m    470\u001B[0m     \u001B[38;5;66;03m# Date handling in indexes\u001B[39;00m\n\u001B[0;32m    471\u001B[0m     \u001B[38;5;28mself\u001B[39m\u001B[38;5;241m.\u001B[39m_init_dates(dates, freq)\n",
      "File \u001B[1;32m~\\mambaforge\\envs\\AnalystForecast\\Lib\\site-packages\\statsmodels\\base\\model.py:267\u001B[0m, in \u001B[0;36mLikelihoodModel.__init__\u001B[1;34m(self, endog, exog, **kwargs)\u001B[0m\n\u001B[0;32m    266\u001B[0m \u001B[38;5;28;01mdef\u001B[39;00m \u001B[38;5;21m__init__\u001B[39m(\u001B[38;5;28mself\u001B[39m, endog, exog\u001B[38;5;241m=\u001B[39m\u001B[38;5;28;01mNone\u001B[39;00m, \u001B[38;5;241m*\u001B[39m\u001B[38;5;241m*\u001B[39mkwargs):\n\u001B[1;32m--> 267\u001B[0m     \u001B[38;5;28;43msuper\u001B[39;49m\u001B[43m(\u001B[49m\u001B[43m)\u001B[49m\u001B[38;5;241;43m.\u001B[39;49m\u001B[38;5;21;43m__init__\u001B[39;49m\u001B[43m(\u001B[49m\u001B[43mendog\u001B[49m\u001B[43m,\u001B[49m\u001B[43m \u001B[49m\u001B[43mexog\u001B[49m\u001B[43m,\u001B[49m\u001B[43m \u001B[49m\u001B[38;5;241;43m*\u001B[39;49m\u001B[38;5;241;43m*\u001B[39;49m\u001B[43mkwargs\u001B[49m\u001B[43m)\u001B[49m\n\u001B[0;32m    268\u001B[0m     \u001B[38;5;28mself\u001B[39m\u001B[38;5;241m.\u001B[39minitialize()\n",
      "File \u001B[1;32m~\\mambaforge\\envs\\AnalystForecast\\Lib\\site-packages\\statsmodels\\base\\model.py:92\u001B[0m, in \u001B[0;36mModel.__init__\u001B[1;34m(self, endog, exog, **kwargs)\u001B[0m\n\u001B[0;32m     90\u001B[0m missing \u001B[38;5;241m=\u001B[39m kwargs\u001B[38;5;241m.\u001B[39mpop(\u001B[38;5;124m'\u001B[39m\u001B[38;5;124mmissing\u001B[39m\u001B[38;5;124m'\u001B[39m, \u001B[38;5;124m'\u001B[39m\u001B[38;5;124mnone\u001B[39m\u001B[38;5;124m'\u001B[39m)\n\u001B[0;32m     91\u001B[0m hasconst \u001B[38;5;241m=\u001B[39m kwargs\u001B[38;5;241m.\u001B[39mpop(\u001B[38;5;124m'\u001B[39m\u001B[38;5;124mhasconst\u001B[39m\u001B[38;5;124m'\u001B[39m, \u001B[38;5;28;01mNone\u001B[39;00m)\n\u001B[1;32m---> 92\u001B[0m \u001B[38;5;28mself\u001B[39m\u001B[38;5;241m.\u001B[39mdata \u001B[38;5;241m=\u001B[39m \u001B[38;5;28;43mself\u001B[39;49m\u001B[38;5;241;43m.\u001B[39;49m\u001B[43m_handle_data\u001B[49m\u001B[43m(\u001B[49m\u001B[43mendog\u001B[49m\u001B[43m,\u001B[49m\u001B[43m \u001B[49m\u001B[43mexog\u001B[49m\u001B[43m,\u001B[49m\u001B[43m \u001B[49m\u001B[43mmissing\u001B[49m\u001B[43m,\u001B[49m\u001B[43m \u001B[49m\u001B[43mhasconst\u001B[49m\u001B[43m,\u001B[49m\n\u001B[0;32m     93\u001B[0m \u001B[43m                              \u001B[49m\u001B[38;5;241;43m*\u001B[39;49m\u001B[38;5;241;43m*\u001B[39;49m\u001B[43mkwargs\u001B[49m\u001B[43m)\u001B[49m\n\u001B[0;32m     94\u001B[0m \u001B[38;5;28mself\u001B[39m\u001B[38;5;241m.\u001B[39mk_constant \u001B[38;5;241m=\u001B[39m \u001B[38;5;28mself\u001B[39m\u001B[38;5;241m.\u001B[39mdata\u001B[38;5;241m.\u001B[39mk_constant\n\u001B[0;32m     95\u001B[0m \u001B[38;5;28mself\u001B[39m\u001B[38;5;241m.\u001B[39mexog \u001B[38;5;241m=\u001B[39m \u001B[38;5;28mself\u001B[39m\u001B[38;5;241m.\u001B[39mdata\u001B[38;5;241m.\u001B[39mexog\n",
      "File \u001B[1;32m~\\mambaforge\\envs\\AnalystForecast\\Lib\\site-packages\\statsmodels\\base\\model.py:132\u001B[0m, in \u001B[0;36mModel._handle_data\u001B[1;34m(self, endog, exog, missing, hasconst, **kwargs)\u001B[0m\n\u001B[0;32m    131\u001B[0m \u001B[38;5;28;01mdef\u001B[39;00m \u001B[38;5;21m_handle_data\u001B[39m(\u001B[38;5;28mself\u001B[39m, endog, exog, missing, hasconst, \u001B[38;5;241m*\u001B[39m\u001B[38;5;241m*\u001B[39mkwargs):\n\u001B[1;32m--> 132\u001B[0m     data \u001B[38;5;241m=\u001B[39m \u001B[43mhandle_data\u001B[49m\u001B[43m(\u001B[49m\u001B[43mendog\u001B[49m\u001B[43m,\u001B[49m\u001B[43m \u001B[49m\u001B[43mexog\u001B[49m\u001B[43m,\u001B[49m\u001B[43m \u001B[49m\u001B[43mmissing\u001B[49m\u001B[43m,\u001B[49m\u001B[43m \u001B[49m\u001B[43mhasconst\u001B[49m\u001B[43m,\u001B[49m\u001B[43m \u001B[49m\u001B[38;5;241;43m*\u001B[39;49m\u001B[38;5;241;43m*\u001B[39;49m\u001B[43mkwargs\u001B[49m\u001B[43m)\u001B[49m\n\u001B[0;32m    133\u001B[0m     \u001B[38;5;66;03m# kwargs arrays could have changed, easier to just attach here\u001B[39;00m\n\u001B[0;32m    134\u001B[0m     \u001B[38;5;28;01mfor\u001B[39;00m key \u001B[38;5;129;01min\u001B[39;00m kwargs:\n",
      "File \u001B[1;32m~\\mambaforge\\envs\\AnalystForecast\\Lib\\site-packages\\statsmodels\\base\\data.py:700\u001B[0m, in \u001B[0;36mhandle_data\u001B[1;34m(endog, exog, missing, hasconst, **kwargs)\u001B[0m\n\u001B[0;32m    697\u001B[0m     exog \u001B[38;5;241m=\u001B[39m np\u001B[38;5;241m.\u001B[39masarray(exog)\n\u001B[0;32m    699\u001B[0m klass \u001B[38;5;241m=\u001B[39m handle_data_class_factory(endog, exog)\n\u001B[1;32m--> 700\u001B[0m \u001B[38;5;28;01mreturn\u001B[39;00m \u001B[43mklass\u001B[49m\u001B[43m(\u001B[49m\u001B[43mendog\u001B[49m\u001B[43m,\u001B[49m\u001B[43m \u001B[49m\u001B[43mexog\u001B[49m\u001B[38;5;241;43m=\u001B[39;49m\u001B[43mexog\u001B[49m\u001B[43m,\u001B[49m\u001B[43m \u001B[49m\u001B[43mmissing\u001B[49m\u001B[38;5;241;43m=\u001B[39;49m\u001B[43mmissing\u001B[49m\u001B[43m,\u001B[49m\u001B[43m \u001B[49m\u001B[43mhasconst\u001B[49m\u001B[38;5;241;43m=\u001B[39;49m\u001B[43mhasconst\u001B[49m\u001B[43m,\u001B[49m\n\u001B[0;32m    701\u001B[0m \u001B[43m             \u001B[49m\u001B[38;5;241;43m*\u001B[39;49m\u001B[38;5;241;43m*\u001B[39;49m\u001B[43mkwargs\u001B[49m\u001B[43m)\u001B[49m\n",
      "File \u001B[1;32m~\\mambaforge\\envs\\AnalystForecast\\Lib\\site-packages\\statsmodels\\base\\data.py:84\u001B[0m, in \u001B[0;36mModelData.__init__\u001B[1;34m(self, endog, exog, missing, hasconst, **kwargs)\u001B[0m\n\u001B[0;32m     82\u001B[0m     \u001B[38;5;28mself\u001B[39m\u001B[38;5;241m.\u001B[39morig_endog \u001B[38;5;241m=\u001B[39m endog\n\u001B[0;32m     83\u001B[0m     \u001B[38;5;28mself\u001B[39m\u001B[38;5;241m.\u001B[39morig_exog \u001B[38;5;241m=\u001B[39m exog\n\u001B[1;32m---> 84\u001B[0m     \u001B[38;5;28mself\u001B[39m\u001B[38;5;241m.\u001B[39mendog, \u001B[38;5;28mself\u001B[39m\u001B[38;5;241m.\u001B[39mexog \u001B[38;5;241m=\u001B[39m \u001B[38;5;28;43mself\u001B[39;49m\u001B[38;5;241;43m.\u001B[39;49m\u001B[43m_convert_endog_exog\u001B[49m\u001B[43m(\u001B[49m\u001B[43mendog\u001B[49m\u001B[43m,\u001B[49m\u001B[43m \u001B[49m\u001B[43mexog\u001B[49m\u001B[43m)\u001B[49m\n\u001B[0;32m     86\u001B[0m \u001B[38;5;28mself\u001B[39m\u001B[38;5;241m.\u001B[39mconst_idx \u001B[38;5;241m=\u001B[39m \u001B[38;5;28;01mNone\u001B[39;00m\n\u001B[0;32m     87\u001B[0m \u001B[38;5;28mself\u001B[39m\u001B[38;5;241m.\u001B[39mk_constant \u001B[38;5;241m=\u001B[39m \u001B[38;5;241m0\u001B[39m\n",
      "File \u001B[1;32m~\\mambaforge\\envs\\AnalystForecast\\Lib\\site-packages\\statsmodels\\base\\data.py:530\u001B[0m, in \u001B[0;36mPandasData._convert_endog_exog\u001B[1;34m(self, endog, exog)\u001B[0m\n\u001B[0;32m    528\u001B[0m     \u001B[38;5;28;01melse\u001B[39;00m:\n\u001B[0;32m    529\u001B[0m         exog_dtype \u001B[38;5;241m=\u001B[39m \u001B[38;5;28;01mNone\u001B[39;00m\n\u001B[1;32m--> 530\u001B[0m     \u001B[38;5;28;01mraise\u001B[39;00m \u001B[38;5;167;01mValueError\u001B[39;00m(\n\u001B[0;32m    531\u001B[0m         \u001B[38;5;124m\"\u001B[39m\u001B[38;5;124mPandas data cast to numpy dtype of object. Check input data \u001B[39m\u001B[38;5;124m\"\u001B[39m\n\u001B[0;32m    532\u001B[0m         \u001B[38;5;124m\"\u001B[39m\u001B[38;5;124mwith np.asarray(data). The types seen were\u001B[39m\u001B[38;5;124m\"\u001B[39m\n\u001B[0;32m    533\u001B[0m         \u001B[38;5;124mf\u001B[39m\u001B[38;5;124m\"\u001B[39m\u001B[38;5;132;01m{\u001B[39;00mendog_dtype\u001B[38;5;132;01m}\u001B[39;00m\u001B[38;5;124m and \u001B[39m\u001B[38;5;132;01m{\u001B[39;00mexog_dtype\u001B[38;5;132;01m}\u001B[39;00m\u001B[38;5;124m. The data was\u001B[39m\u001B[38;5;130;01m\\n\u001B[39;00m\u001B[38;5;124m\"\u001B[39m\n\u001B[0;32m    534\u001B[0m         \u001B[38;5;124mf\u001B[39m\u001B[38;5;124m\"\u001B[39m\u001B[38;5;132;01m{\u001B[39;00morig_endog\u001B[38;5;132;01m}\u001B[39;00m\u001B[38;5;130;01m\\n\u001B[39;00m\u001B[38;5;124mand\u001B[39m\u001B[38;5;130;01m\\n\u001B[39;00m\u001B[38;5;124m \u001B[39m\u001B[38;5;132;01m{\u001B[39;00morig_exog\u001B[38;5;132;01m}\u001B[39;00m\u001B[38;5;130;01m\\n\u001B[39;00m\u001B[38;5;124mbefore. After,\u001B[39m\u001B[38;5;130;01m\\n\u001B[39;00m\u001B[38;5;132;01m{\u001B[39;00mendog\u001B[38;5;132;01m}\u001B[39;00m\u001B[38;5;130;01m\\n\u001B[39;00m\u001B[38;5;132;01m{\u001B[39;00mexog\u001B[38;5;132;01m}\u001B[39;00m\u001B[38;5;124m.\u001B[39m\u001B[38;5;124m\"\u001B[39m\n\u001B[0;32m    535\u001B[0m     )\n\u001B[0;32m    536\u001B[0m \u001B[38;5;28;01mreturn\u001B[39;00m \u001B[38;5;28msuper\u001B[39m(PandasData, \u001B[38;5;28mself\u001B[39m)\u001B[38;5;241m.\u001B[39m_convert_endog_exog(endog, exog)\n",
      "\u001B[1;31mValueError\u001B[0m: Pandas data cast to numpy dtype of object. Check input data with np.asarray(data). The types seen wereNone and None. The data was\nDate\n2018-01-03    4.049895\n2018-01-04    3.066076\n2018-01-05     0.75458\n2018-01-06     0.75458\n2018-01-07     0.75458\n                ...   \n2023-02-06       -0.76\n2023-02-07       -0.34\n2023-02-08        0.14\n2023-02-09       -2.23\n2023-02-10        1.85\nFreq: D, Name: df_1diff, Length: 1865, dtype: Float64\nand\n [[1.]\n [1.]\n [1.]\n ...\n [1.]\n [1.]\n [1.]]\nbefore. After,\n[4.049895360000022 3.0660764399999607 0.7545795600000247 ...\n 0.13999999999998636 -2.2299999999999898 1.8499999999999943]\n[[1.]\n [1.]\n [1.]\n ...\n [1.]\n [1.]\n [1.]]."
     ]
    }
   ],
   "source": [
    "import matplotlib.pyplot as plt\n",
    "import pandas as pd\n",
    "import numpy as np\n",
    "\n",
    "from datetime import timedelta, datetime\n",
    "from statsmodels.tsa.arima.model import ARIMA\n",
    "from statsmodels.tsa.holtwinters import ExponentialSmoothing\n",
    "from statsmodels.tsa.stattools import acf, pacf\n",
    "from statsmodels.tsa.stattools import adfuller\n",
    "\n",
    "#function to forecast using ARIMA Model\n",
    "#input is time series data frame(df) got from eikon.get_timeseries(..)\n",
    "#and forecast end date which is in format yyyy-mm-dd\n",
    "def ARIMA_model_forecast(df, forecast_end_date):\n",
    "    #Set the start and end forecast date time\n",
    "    #first date is 1 day after time series. The last date is the forecast_end_date parameter\n",
    "    _e_date = datetime.fromtimestamp(datetime.timestamp(df.index[-1]))\n",
    "    e_date = _e_date + timedelta(days = 1)\n",
    "    e_date = e_date.strftime('%Y-%m-%d')\n",
    "\n",
    "    #find differences of time series which is input of ARIMA model\n",
    "    df['df_1diff'] = df['CLOSE'].diff()\n",
    "    df = df[df['df_1diff'].notnull()]\n",
    "    lag_acf = acf(df['df_1diff'], nlags=50)\n",
    "    lag_pacf = pacf(df['df_1diff'], nlags=50, method='ols')\n",
    "    new_spot = df['df_1diff'].resample('D').ffill()\n",
    "    #call ARIMA model which p=1,d=0 and q=1 with differences of time series\n",
    "    arma_model = ARIMA(new_spot, order=(1,0,1))\n",
    "    results = arma_model.fit(disp=0)\n",
    "    residuals = pd.DataFrame(results.resid)\n",
    "    #focast time series\n",
    "    predictions_ARIMA = pd.Series(results.fittedvalues, copy=True)\n",
    "    predictions_ARIMA_cumsum = predictions_ARIMA.cumsum()\n",
    "    predictions_ARIMA_final = pd.Series(df['CLOSE'].iloc[0], index=new_spot.index)\n",
    "    predictions_ARIMA_final = predictions_ARIMA_final.add(predictions_ARIMA_cumsum, fill_value=0)\n",
    "    new_spot = df.CLOSE.resample('D',label='right').ffill()\n",
    "    es_model = ExponentialSmoothing(new_spot, trend='add', damped=False, seasonal='mul', seasonal_periods=30)\n",
    "    es_results = es_model.fit()\n",
    "    predicted_values = es_model.predict(params=es_results.params, start=e_date, end=forecast_end_date)\n",
    "\n",
    "    #create data frame from forecast timeseries\n",
    "    preds = pd.DataFrame(index= pd.date_range(start=e_date, end=forecast_end_date), data=predicted_values, columns=['CLOSE'])\n",
    "\n",
    "    #Plot graph of past and forecast timeseries\n",
    "    plt.figure(figsize=(16,7))\n",
    "    plt.plot(new_spot, label='Actual')\n",
    "    plt.plot(preds, label='Forecast', color='red')\n",
    "    plt.legend(loc='best')\n",
    "    plt.show()\n",
    "    return preds\n",
    "\n",
    "#end date that you want to forecast\n",
    "forecast_end_date = '2020-03-31'\n",
    "#call the function to forecast time series with ARIMA model\n",
    "forecast = ARIMA_model_forecast(df,forecast_end_date)\n",
    "#display forecast time series\n",
    "forecast"
   ],
   "metadata": {
    "collapsed": false
   }
  },
  {
   "cell_type": "code",
   "execution_count": null,
   "outputs": [],
   "source": [],
   "metadata": {
    "collapsed": false
   }
  }
 ],
 "metadata": {
  "kernelspec": {
   "display_name": "Python 3",
   "language": "python",
   "name": "python3"
  },
  "language_info": {
   "codemirror_mode": {
    "name": "ipython",
    "version": 2
   },
   "file_extension": ".py",
   "mimetype": "text/x-python",
   "name": "python",
   "nbconvert_exporter": "python",
   "pygments_lexer": "ipython2",
   "version": "2.7.6"
  }
 },
 "nbformat": 4,
 "nbformat_minor": 0
}
