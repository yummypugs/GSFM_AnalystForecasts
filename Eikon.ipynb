{
 "cells": [
  {
   "cell_type": "code",
   "execution_count": 1,
   "metadata": {
    "collapsed": true
   },
   "outputs": [
    {
     "name": "stderr",
     "output_type": "stream",
     "text": [
      "2023-02-11 11:50:54,189 P[10516] [MainThread 25276] Error: no proxy address identified.\n",
      "Check if Eikon Desktop or Eikon API Proxy is running.\n",
      "2023-02-11 11:50:54,192 P[10516] [MainThread 25276] Port number was not identified, cannot send any request\n",
      "2023-02-11 11:50:54,194 P[10516] [MainThread 25276] Port number was not identified.\n",
      "Check if Eikon Desktop or Eikon API Proxy is running.\n"
     ]
    },
    {
     "ename": "EikonError",
     "evalue": "Error code -1 | Port number was not identified. Check if Eikon Desktop or Eikon API Proxy is running.",
     "output_type": "error",
     "traceback": [
      "\u001B[1;31m---------------------------------------------------------------------------\u001B[0m",
      "\u001B[1;31mEikonError\u001B[0m                                Traceback (most recent call last)",
      "Cell \u001B[1;32mIn[1], line 3\u001B[0m\n\u001B[0;32m      1\u001B[0m \u001B[38;5;28;01mimport\u001B[39;00m \u001B[38;5;21;01meikon\u001B[39;00m \u001B[38;5;28;01mas\u001B[39;00m \u001B[38;5;21;01mek\u001B[39;00m\n\u001B[1;32m----> 3\u001B[0m \u001B[43mek\u001B[49m\u001B[38;5;241;43m.\u001B[39;49m\u001B[43mset_app_key\u001B[49m\u001B[43m(\u001B[49m\u001B[38;5;124;43m'\u001B[39;49m\u001B[38;5;124;43ma92470e4f395419eb55fd36d59adb1bdc773aae1\u001B[39;49m\u001B[38;5;124;43m'\u001B[39;49m\u001B[43m)\u001B[49m\n",
      "File \u001B[1;32m~\\mambaforge\\envs\\AnalystForecast\\lib\\site-packages\\eikon\\Profile.py:33\u001B[0m, in \u001B[0;36mset_app_key\u001B[1;34m(app_key)\u001B[0m\n\u001B[0;32m     20\u001B[0m \u001B[38;5;28;01mdef\u001B[39;00m \u001B[38;5;21mset_app_key\u001B[39m(app_key):\n\u001B[0;32m     21\u001B[0m \u001B[38;5;250m    \u001B[39m\u001B[38;5;124;03m\"\"\"\u001B[39;00m\n\u001B[0;32m     22\u001B[0m \u001B[38;5;124;03m    Set the app key.\u001B[39;00m\n\u001B[0;32m     23\u001B[0m \n\u001B[1;32m   (...)\u001B[0m\n\u001B[0;32m     31\u001B[0m \u001B[38;5;124;03m    You can get an app key using the App Key Generator (this App is available in Eikon Desktop).\u001B[39;00m\n\u001B[0;32m     32\u001B[0m \u001B[38;5;124;03m    \"\"\"\u001B[39;00m\n\u001B[1;32m---> 33\u001B[0m     \u001B[43mget_profile\u001B[49m\u001B[43m(\u001B[49m\u001B[43m)\u001B[49m\u001B[38;5;241;43m.\u001B[39;49m\u001B[43mset_app_key\u001B[49m\u001B[43m(\u001B[49m\u001B[43mapp_key\u001B[49m\u001B[43m)\u001B[49m\n",
      "File \u001B[1;32m~\\mambaforge\\envs\\AnalystForecast\\lib\\site-packages\\eikon\\Profile.py:231\u001B[0m, in \u001B[0;36mProfile.set_app_key\u001B[1;34m(self, app_key)\u001B[0m\n\u001B[0;32m    229\u001B[0m \u001B[38;5;28mself\u001B[39m\u001B[38;5;241m.\u001B[39mlogger \u001B[38;5;241m=\u001B[39m \u001B[38;5;28mself\u001B[39m\u001B[38;5;241m.\u001B[39m_desktop_session\u001B[38;5;241m.\u001B[39mlogger()\n\u001B[0;32m    230\u001B[0m \u001B[38;5;28mself\u001B[39m\u001B[38;5;241m.\u001B[39mlogger\u001B[38;5;241m.\u001B[39mdebug(\u001B[38;5;124m'\u001B[39m\u001B[38;5;124mInit a Desktop session with new app_key\u001B[39m\u001B[38;5;124m'\u001B[39m)\n\u001B[1;32m--> 231\u001B[0m \u001B[38;5;28;43mself\u001B[39;49m\u001B[38;5;241;43m.\u001B[39;49m\u001B[43mcheck_profile\u001B[49m\u001B[43m(\u001B[49m\u001B[43m)\u001B[49m\n",
      "File \u001B[1;32m~\\mambaforge\\envs\\AnalystForecast\\lib\\site-packages\\eikon\\Profile.py:354\u001B[0m, in \u001B[0;36mProfile.check_profile\u001B[1;34m(self)\u001B[0m\n\u001B[0;32m    351\u001B[0m \u001B[38;5;28;01melse\u001B[39;00m:\n\u001B[0;32m    352\u001B[0m     \u001B[38;5;66;03m# port number wasn't identified => raise EikonError exception\u001B[39;00m\n\u001B[0;32m    353\u001B[0m     \u001B[38;5;28mself\u001B[39m\u001B[38;5;241m.\u001B[39mlogger\u001B[38;5;241m.\u001B[39merror(\u001B[38;5;124m'\u001B[39m\u001B[38;5;124mPort number was not identified.\u001B[39m\u001B[38;5;130;01m\\n\u001B[39;00m\u001B[38;5;124mCheck if Eikon Desktop or Eikon API Proxy is running.\u001B[39m\u001B[38;5;124m'\u001B[39m)\n\u001B[1;32m--> 354\u001B[0m     \u001B[38;5;28;01mraise\u001B[39;00m EikonError(\u001B[38;5;241m-\u001B[39m\u001B[38;5;241m1\u001B[39m, \u001B[38;5;124m'\u001B[39m\u001B[38;5;124mPort number was not identified. Check if Eikon Desktop or Eikon API Proxy is running.\u001B[39m\u001B[38;5;124m'\u001B[39m)\n",
      "\u001B[1;31mEikonError\u001B[0m: Error code -1 | Port number was not identified. Check if Eikon Desktop or Eikon API Proxy is running."
     ]
    }
   ],
   "source": [
    "import eikon as ek\n",
    "\n",
    "ek.set_app_key('a92470e4f395419eb55fd36d59adb1bdc773aae1')\n"
   ]
  },
  {
   "cell_type": "code",
   "execution_count": null,
   "outputs": [],
   "source": [],
   "metadata": {
    "collapsed": false
   }
  }
 ],
 "metadata": {
  "kernelspec": {
   "display_name": "Python 3",
   "language": "python",
   "name": "python3"
  },
  "language_info": {
   "codemirror_mode": {
    "name": "ipython",
    "version": 2
   },
   "file_extension": ".py",
   "mimetype": "text/x-python",
   "name": "python",
   "nbconvert_exporter": "python",
   "pygments_lexer": "ipython2",
   "version": "2.7.6"
  }
 },
 "nbformat": 4,
 "nbformat_minor": 0
}
