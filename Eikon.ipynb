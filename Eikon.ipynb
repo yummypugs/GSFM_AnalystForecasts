{
 "cells": [
  {
   "cell_type": "code",
   "execution_count": 9,
   "outputs": [],
   "source": [
    "import eikon as ek\n",
    "\n",
    "ek.set_app_key(\"69de0ce7c5e2468e90a6058ce79f6558ebe3ee30\")"
   ],
   "metadata": {
    "collapsed": false
   }
  },
  {
   "cell_type": "code",
   "execution_count": 10,
   "outputs": [
    {
     "data": {
      "text/plain": "MSFT.O          HIGH   CLOSE       LOW    OPEN   COUNT    VOLUME\nDate                                                            \n2016-01-04      54.8    54.8     53.39   54.32  272781  53777963\n2016-01-05     55.39   55.05     54.54   54.93  180637  34079674\n2016-01-06   54.4001   54.05     53.64   54.32  225856  39518863\n2016-01-07    53.485   52.17     52.07    52.7  303271  56564852\n2016-01-08     53.28   52.33     52.15   52.37  261949  48753969\n...              ...     ...       ...     ...     ...       ...\n2019-01-04    102.51  101.93     98.93   99.72  300149  44060620\n2019-01-07  103.2681  102.06    100.98  101.64  238930  35656136\n2019-01-08    103.97   102.8  101.7134  103.04  223595  31514415\n2019-01-09    104.88  104.27  103.2445  103.86  232146  32280840\n2019-01-10    103.75   103.6    102.38  103.22  176725  30067556\n\n[761 rows x 6 columns]",
      "text/html": "<div>\n<style scoped>\n    .dataframe tbody tr th:only-of-type {\n        vertical-align: middle;\n    }\n\n    .dataframe tbody tr th {\n        vertical-align: top;\n    }\n\n    .dataframe thead th {\n        text-align: right;\n    }\n</style>\n<table border=\"1\" class=\"dataframe\">\n  <thead>\n    <tr style=\"text-align: right;\">\n      <th>MSFT.O</th>\n      <th>HIGH</th>\n      <th>CLOSE</th>\n      <th>LOW</th>\n      <th>OPEN</th>\n      <th>COUNT</th>\n      <th>VOLUME</th>\n    </tr>\n    <tr>\n      <th>Date</th>\n      <th></th>\n      <th></th>\n      <th></th>\n      <th></th>\n      <th></th>\n      <th></th>\n    </tr>\n  </thead>\n  <tbody>\n    <tr>\n      <th>2016-01-04</th>\n      <td>54.8</td>\n      <td>54.8</td>\n      <td>53.39</td>\n      <td>54.32</td>\n      <td>272781</td>\n      <td>53777963</td>\n    </tr>\n    <tr>\n      <th>2016-01-05</th>\n      <td>55.39</td>\n      <td>55.05</td>\n      <td>54.54</td>\n      <td>54.93</td>\n      <td>180637</td>\n      <td>34079674</td>\n    </tr>\n    <tr>\n      <th>2016-01-06</th>\n      <td>54.4001</td>\n      <td>54.05</td>\n      <td>53.64</td>\n      <td>54.32</td>\n      <td>225856</td>\n      <td>39518863</td>\n    </tr>\n    <tr>\n      <th>2016-01-07</th>\n      <td>53.485</td>\n      <td>52.17</td>\n      <td>52.07</td>\n      <td>52.7</td>\n      <td>303271</td>\n      <td>56564852</td>\n    </tr>\n    <tr>\n      <th>2016-01-08</th>\n      <td>53.28</td>\n      <td>52.33</td>\n      <td>52.15</td>\n      <td>52.37</td>\n      <td>261949</td>\n      <td>48753969</td>\n    </tr>\n    <tr>\n      <th>...</th>\n      <td>...</td>\n      <td>...</td>\n      <td>...</td>\n      <td>...</td>\n      <td>...</td>\n      <td>...</td>\n    </tr>\n    <tr>\n      <th>2019-01-04</th>\n      <td>102.51</td>\n      <td>101.93</td>\n      <td>98.93</td>\n      <td>99.72</td>\n      <td>300149</td>\n      <td>44060620</td>\n    </tr>\n    <tr>\n      <th>2019-01-07</th>\n      <td>103.2681</td>\n      <td>102.06</td>\n      <td>100.98</td>\n      <td>101.64</td>\n      <td>238930</td>\n      <td>35656136</td>\n    </tr>\n    <tr>\n      <th>2019-01-08</th>\n      <td>103.97</td>\n      <td>102.8</td>\n      <td>101.7134</td>\n      <td>103.04</td>\n      <td>223595</td>\n      <td>31514415</td>\n    </tr>\n    <tr>\n      <th>2019-01-09</th>\n      <td>104.88</td>\n      <td>104.27</td>\n      <td>103.2445</td>\n      <td>103.86</td>\n      <td>232146</td>\n      <td>32280840</td>\n    </tr>\n    <tr>\n      <th>2019-01-10</th>\n      <td>103.75</td>\n      <td>103.6</td>\n      <td>102.38</td>\n      <td>103.22</td>\n      <td>176725</td>\n      <td>30067556</td>\n    </tr>\n  </tbody>\n</table>\n<p>761 rows × 6 columns</p>\n</div>"
     },
     "execution_count": 10,
     "metadata": {},
     "output_type": "execute_result"
    }
   ],
   "source": [
    "df = ek.get_timeseries([\"MSFT.O\"],\n",
    "                       start_date=\"2016-01-01\",\n",
    "                       end_date=\"2019-01-10\")\n",
    "df"
   ],
   "metadata": {
    "collapsed": false
   }
  },
  {
   "cell_type": "code",
   "execution_count": 11,
   "outputs": [
    {
     "data": {
      "text/plain": "'1.1.12'"
     },
     "execution_count": 11,
     "metadata": {},
     "output_type": "execute_result"
    }
   ],
   "source": [
    "ek.__version__"
   ],
   "metadata": {
    "collapsed": false
   }
  },
  {
   "cell_type": "code",
   "execution_count": 12,
   "outputs": [
    {
     "ename": "SyntaxError",
     "evalue": "invalid syntax (2348919104.py, line 1)",
     "output_type": "error",
     "traceback": [
      "\u001B[1;36m  Cell \u001B[1;32mIn[12], line 1\u001B[1;36m\u001B[0m\n\u001B[1;33m    df = ek.\u001B[0m\n\u001B[1;37m            ^\u001B[0m\n\u001B[1;31mSyntaxError\u001B[0m\u001B[1;31m:\u001B[0m invalid syntax\n"
     ]
    }
   ],
   "source": [],
   "metadata": {
    "collapsed": false
   }
  },
  {
   "cell_type": "code",
   "execution_count": null,
   "outputs": [],
   "source": [],
   "metadata": {
    "collapsed": false
   }
  }
 ],
 "metadata": {
  "kernelspec": {
   "display_name": "Python 3",
   "language": "python",
   "name": "python3"
  },
  "language_info": {
   "codemirror_mode": {
    "name": "ipython",
    "version": 2
   },
   "file_extension": ".py",
   "mimetype": "text/x-python",
   "name": "python",
   "nbconvert_exporter": "python",
   "pygments_lexer": "ipython2",
   "version": "2.7.6"
  }
 },
 "nbformat": 4,
 "nbformat_minor": 0
}
