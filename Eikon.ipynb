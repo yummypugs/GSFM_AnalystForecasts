{
 "cells": [
  {
   "cell_type": "code",
   "execution_count": 1,
   "outputs": [],
   "source": [
    "import eikon as ek\n",
    "\n",
    "ek.set_app_key(\"69de0ce7c5e2468e90a6058ce79f6558ebe3ee30\")"
   ],
   "metadata": {
    "collapsed": false
   }
  },
  {
   "cell_type": "code",
   "execution_count": 20,
   "outputs": [
    {
     "data": {
      "text/plain": "MSFT.O          HIGH   CLOSE       LOW    OPEN   COUNT    VOLUME\nDate                                                            \n2016-01-04      54.8    54.8     53.39   54.32  272781  53777963\n2016-01-05     55.39   55.05     54.54   54.93  180637  34079674\n2016-01-06   54.4001   54.05     53.64   54.32  225856  39518863\n2016-01-07    53.485   52.17     52.07    52.7  303271  56564852\n2016-01-08     53.28   52.33     52.15   52.37  261949  48753969\n...              ...     ...       ...     ...     ...       ...\n2019-01-04    102.51  101.93     98.93   99.72  300149  44060620\n2019-01-07  103.2681  102.06    100.98  101.64  238930  35656136\n2019-01-08    103.97   102.8  101.7134  103.04  223595  31514415\n2019-01-09    104.88  104.27  103.2445  103.86  232146  32280840\n2019-01-10    103.75   103.6    102.38  103.22  176725  30067556\n\n[761 rows x 6 columns]",
      "text/html": "<div>\n<style scoped>\n    .dataframe tbody tr th:only-of-type {\n        vertical-align: middle;\n    }\n\n    .dataframe tbody tr th {\n        vertical-align: top;\n    }\n\n    .dataframe thead th {\n        text-align: right;\n    }\n</style>\n<table border=\"1\" class=\"dataframe\">\n  <thead>\n    <tr style=\"text-align: right;\">\n      <th>MSFT.O</th>\n      <th>HIGH</th>\n      <th>CLOSE</th>\n      <th>LOW</th>\n      <th>OPEN</th>\n      <th>COUNT</th>\n      <th>VOLUME</th>\n    </tr>\n    <tr>\n      <th>Date</th>\n      <th></th>\n      <th></th>\n      <th></th>\n      <th></th>\n      <th></th>\n      <th></th>\n    </tr>\n  </thead>\n  <tbody>\n    <tr>\n      <th>2016-01-04</th>\n      <td>54.8</td>\n      <td>54.8</td>\n      <td>53.39</td>\n      <td>54.32</td>\n      <td>272781</td>\n      <td>53777963</td>\n    </tr>\n    <tr>\n      <th>2016-01-05</th>\n      <td>55.39</td>\n      <td>55.05</td>\n      <td>54.54</td>\n      <td>54.93</td>\n      <td>180637</td>\n      <td>34079674</td>\n    </tr>\n    <tr>\n      <th>2016-01-06</th>\n      <td>54.4001</td>\n      <td>54.05</td>\n      <td>53.64</td>\n      <td>54.32</td>\n      <td>225856</td>\n      <td>39518863</td>\n    </tr>\n    <tr>\n      <th>2016-01-07</th>\n      <td>53.485</td>\n      <td>52.17</td>\n      <td>52.07</td>\n      <td>52.7</td>\n      <td>303271</td>\n      <td>56564852</td>\n    </tr>\n    <tr>\n      <th>2016-01-08</th>\n      <td>53.28</td>\n      <td>52.33</td>\n      <td>52.15</td>\n      <td>52.37</td>\n      <td>261949</td>\n      <td>48753969</td>\n    </tr>\n    <tr>\n      <th>...</th>\n      <td>...</td>\n      <td>...</td>\n      <td>...</td>\n      <td>...</td>\n      <td>...</td>\n      <td>...</td>\n    </tr>\n    <tr>\n      <th>2019-01-04</th>\n      <td>102.51</td>\n      <td>101.93</td>\n      <td>98.93</td>\n      <td>99.72</td>\n      <td>300149</td>\n      <td>44060620</td>\n    </tr>\n    <tr>\n      <th>2019-01-07</th>\n      <td>103.2681</td>\n      <td>102.06</td>\n      <td>100.98</td>\n      <td>101.64</td>\n      <td>238930</td>\n      <td>35656136</td>\n    </tr>\n    <tr>\n      <th>2019-01-08</th>\n      <td>103.97</td>\n      <td>102.8</td>\n      <td>101.7134</td>\n      <td>103.04</td>\n      <td>223595</td>\n      <td>31514415</td>\n    </tr>\n    <tr>\n      <th>2019-01-09</th>\n      <td>104.88</td>\n      <td>104.27</td>\n      <td>103.2445</td>\n      <td>103.86</td>\n      <td>232146</td>\n      <td>32280840</td>\n    </tr>\n    <tr>\n      <th>2019-01-10</th>\n      <td>103.75</td>\n      <td>103.6</td>\n      <td>102.38</td>\n      <td>103.22</td>\n      <td>176725</td>\n      <td>30067556</td>\n    </tr>\n  </tbody>\n</table>\n<p>761 rows × 6 columns</p>\n</div>"
     },
     "execution_count": 20,
     "metadata": {},
     "output_type": "execute_result"
    }
   ],
   "source": [
    "df = ek.get_timeseries([\"MSFT.O\"],\n",
    "                       start_date=\"2016-01-01\",\n",
    "                       end_date=\"2019-01-10\")\n",
    "df"
   ],
   "metadata": {
    "collapsed": false
   }
  },
  {
   "cell_type": "markdown",
   "source": [
    "https://developers.refinitiv.com/en/api-catalog/eikon/eikon-data-api/tutorials#fundamentals-api-rating-transition-matrix\n"
   ],
   "metadata": {
    "collapsed": false
   }
  },
  {
   "cell_type": "code",
   "execution_count": 31,
   "outputs": [
    {
     "data": {
      "text/plain": "    Instrument        Company Common Name  \\\n0      POOL.OQ                  Pool Corp   \n1      CHRW.OQ  CH Robinson Worldwide Inc   \n2        AJG.N  Arthur J. Gallagher & Co.   \n3        CNP.N     CenterPoint Energy Inc   \n4       AMCR.N                  Amcor PLC   \n..         ...                        ...   \n498      DXC.N          DXC Technology Co   \n499    SNPS.OQ               Synopsys Inc   \n500        J.N       Jacobs Solutions Inc   \n501    SIVB.OQ        SVB Financial Group   \n502      AVY.N        Avery Dennison Corp   \n\n                             NAICS Industry Group Name  Number of Analysts  \\\n0     Miscellaneous Durable Goods Merchant Wholesalers                  11   \n1                   Freight Transportation Arrangement                  29   \n2    Agencies, Brokerages, and Other Insurance Rela...                  17   \n3                             Natural Gas Distribution                  17   \n4                       Plastics Product Manufacturing                   7   \n..                                                 ...                 ...   \n498       Computer Systems Design and Related Services                  14   \n499       Computer Systems Design and Related Services                  16   \n500   Architectural, Engineering, and Related Services                  18   \n501                   Depository Credit Intermediation                  23   \n502              Converted Paper Product Manufacturing                  14   \n\n     Number of Analysts Revising Up  EARNINGS  \n0                                 0   19.5579  \n1                                 1    7.2908  \n2                                13    5.1985  \n3                                 2    1.4411  \n4                                 1    0.7116  \n..                              ...       ...  \n498                               4    2.9352  \n499                               2    6.2931  \n500                               2    5.0228  \n501                               7   25.3505  \n502                               0    9.2113  \n\n[503 rows x 6 columns]",
      "text/html": "<div>\n<style scoped>\n    .dataframe tbody tr th:only-of-type {\n        vertical-align: middle;\n    }\n\n    .dataframe tbody tr th {\n        vertical-align: top;\n    }\n\n    .dataframe thead th {\n        text-align: right;\n    }\n</style>\n<table border=\"1\" class=\"dataframe\">\n  <thead>\n    <tr style=\"text-align: right;\">\n      <th></th>\n      <th>Instrument</th>\n      <th>Company Common Name</th>\n      <th>NAICS Industry Group Name</th>\n      <th>Number of Analysts</th>\n      <th>Number of Analysts Revising Up</th>\n      <th>EARNINGS</th>\n    </tr>\n  </thead>\n  <tbody>\n    <tr>\n      <th>0</th>\n      <td>POOL.OQ</td>\n      <td>Pool Corp</td>\n      <td>Miscellaneous Durable Goods Merchant Wholesalers</td>\n      <td>11</td>\n      <td>0</td>\n      <td>19.5579</td>\n    </tr>\n    <tr>\n      <th>1</th>\n      <td>CHRW.OQ</td>\n      <td>CH Robinson Worldwide Inc</td>\n      <td>Freight Transportation Arrangement</td>\n      <td>29</td>\n      <td>1</td>\n      <td>7.2908</td>\n    </tr>\n    <tr>\n      <th>2</th>\n      <td>AJG.N</td>\n      <td>Arthur J. Gallagher &amp; Co.</td>\n      <td>Agencies, Brokerages, and Other Insurance Rela...</td>\n      <td>17</td>\n      <td>13</td>\n      <td>5.1985</td>\n    </tr>\n    <tr>\n      <th>3</th>\n      <td>CNP.N</td>\n      <td>CenterPoint Energy Inc</td>\n      <td>Natural Gas Distribution</td>\n      <td>17</td>\n      <td>2</td>\n      <td>1.4411</td>\n    </tr>\n    <tr>\n      <th>4</th>\n      <td>AMCR.N</td>\n      <td>Amcor PLC</td>\n      <td>Plastics Product Manufacturing</td>\n      <td>7</td>\n      <td>1</td>\n      <td>0.7116</td>\n    </tr>\n    <tr>\n      <th>...</th>\n      <td>...</td>\n      <td>...</td>\n      <td>...</td>\n      <td>...</td>\n      <td>...</td>\n      <td>...</td>\n    </tr>\n    <tr>\n      <th>498</th>\n      <td>DXC.N</td>\n      <td>DXC Technology Co</td>\n      <td>Computer Systems Design and Related Services</td>\n      <td>14</td>\n      <td>4</td>\n      <td>2.9352</td>\n    </tr>\n    <tr>\n      <th>499</th>\n      <td>SNPS.OQ</td>\n      <td>Synopsys Inc</td>\n      <td>Computer Systems Design and Related Services</td>\n      <td>16</td>\n      <td>2</td>\n      <td>6.2931</td>\n    </tr>\n    <tr>\n      <th>500</th>\n      <td>J.N</td>\n      <td>Jacobs Solutions Inc</td>\n      <td>Architectural, Engineering, and Related Services</td>\n      <td>18</td>\n      <td>2</td>\n      <td>5.0228</td>\n    </tr>\n    <tr>\n      <th>501</th>\n      <td>SIVB.OQ</td>\n      <td>SVB Financial Group</td>\n      <td>Depository Credit Intermediation</td>\n      <td>23</td>\n      <td>7</td>\n      <td>25.3505</td>\n    </tr>\n    <tr>\n      <th>502</th>\n      <td>AVY.N</td>\n      <td>Avery Dennison Corp</td>\n      <td>Converted Paper Product Manufacturing</td>\n      <td>14</td>\n      <td>0</td>\n      <td>9.2113</td>\n    </tr>\n  </tbody>\n</table>\n<p>503 rows × 6 columns</p>\n</div>"
     },
     "execution_count": 31,
     "metadata": {},
     "output_type": "execute_result"
    }
   ],
   "source": [
    "ratings_data, err = ek.get_data(instruments=['0#.SPX'],\n",
    "                                fields=['TR.CommonName',\n",
    "                                        \"TR.NAICSIndustryGroup\",\n",
    "                                        'TR.NumberOfAnalysts(SDate=0D,Period=FY1)',\n",
    "                                        \"TR.NumEstRevisingUp(Period=FY1)\",\n",
    "                                        \"EARNINGS\"])\n",
    "ratings_data"
   ],
   "metadata": {
    "collapsed": false
   }
  },
  {
   "cell_type": "code",
   "execution_count": 30,
   "outputs": [
    {
     "data": {
      "text/plain": "NAICS Industry Group Name\nLessors of Real Estate                               27\nElectric Power Generation, Transmission and Di...    26\nNavigational, Measuring, Electromedical, and C...    24\nInsurance Carriers                                   21\nSemiconductor and Other Electronic Component M...    18\n                                                     ..\nElectronics and Appliance Retailers                   1\nPulp, Paper, and Paperboard Mills                     1\nElectrical Equipment Manufacturing                    1\nDrycleaning and Laundry Services                      1\nPromoters of Performing Arts, Sports, and Simi...     1\nLength: 123, dtype: int64"
     },
     "execution_count": 30,
     "metadata": {},
     "output_type": "execute_result"
    }
   ],
   "source": [
    "ratings_data.value_counts(\"NAICS Industry Group Name\")"
   ],
   "metadata": {
    "collapsed": false
   }
  },
  {
   "cell_type": "markdown",
   "source": [
    "# Timeseries"
   ],
   "metadata": {
    "collapsed": false
   }
  },
  {
   "cell_type": "code",
   "execution_count": 56,
   "outputs": [
    {
     "data": {
      "text/plain": "MSFT.O                CLOSE\nDate                       \n2022-03-25 20:00:00  303.69\n2022-03-25 21:00:00  303.45\n2022-03-25 22:00:00  303.48\n2022-03-25 23:00:00  303.51\n2022-03-26 00:00:00  303.75",
      "text/html": "<div>\n<style scoped>\n    .dataframe tbody tr th:only-of-type {\n        vertical-align: middle;\n    }\n\n    .dataframe tbody tr th {\n        vertical-align: top;\n    }\n\n    .dataframe thead th {\n        text-align: right;\n    }\n</style>\n<table border=\"1\" class=\"dataframe\">\n  <thead>\n    <tr style=\"text-align: right;\">\n      <th>MSFT.O</th>\n      <th>CLOSE</th>\n    </tr>\n    <tr>\n      <th>Date</th>\n      <th></th>\n    </tr>\n  </thead>\n  <tbody>\n    <tr>\n      <th>2022-03-25 20:00:00</th>\n      <td>303.69</td>\n    </tr>\n    <tr>\n      <th>2022-03-25 21:00:00</th>\n      <td>303.45</td>\n    </tr>\n    <tr>\n      <th>2022-03-25 22:00:00</th>\n      <td>303.48</td>\n    </tr>\n    <tr>\n      <th>2022-03-25 23:00:00</th>\n      <td>303.51</td>\n    </tr>\n    <tr>\n      <th>2022-03-26 00:00:00</th>\n      <td>303.75</td>\n    </tr>\n  </tbody>\n</table>\n</div>"
     },
     "execution_count": 56,
     "metadata": {},
     "output_type": "execute_result"
    }
   ],
   "source": [
    "Hourly = ek.get_timeseries([\"MSFT.O\"], fields=[\"Close\"], start_date = \"2022-03-01\", end_date = \"2022-03-27\", interval=\"hour\")\n",
    "Daily = ek.get_timeseries([\"MSFT.O\"], fields=[\"Close\"], start_date = \"2022-03-01\", end_date = \"2022-03-27\", interval=\"daily\")\n",
    "Weekly = ek.get_timeseries([\"MSFT.O\"], fields=[\"Close\"], start_date = \"2022-03-01\", end_date = \"2022-03-27\", interval=\"weekly\")\n",
    "Monthly = ek.get_timeseries([\"MSFT.O\"], fields=[\"Close\"], start_date = \"2022-03-01\", end_date = \"2022-05-27\", interval=\"monthly\")\n",
    "Hourly.tail()"
   ],
   "metadata": {
    "collapsed": false
   }
  },
  {
   "cell_type": "code",
   "execution_count": 41,
   "outputs": [
    {
     "data": {
      "text/plain": "IBM.N            CLOSE\nDate                  \n2018-01-02  147.334047\n2018-01-03  151.383942\n2018-01-04  154.450019\n2018-01-05  155.204598\n2018-01-08  156.140659\n...                ...\n2023-02-06      136.18\n2023-02-07      135.84\n2023-02-08      135.98\n2023-02-09      133.75\n2023-02-10       135.6\n\n[1287 rows x 1 columns]",
      "text/html": "<div>\n<style scoped>\n    .dataframe tbody tr th:only-of-type {\n        vertical-align: middle;\n    }\n\n    .dataframe tbody tr th {\n        vertical-align: top;\n    }\n\n    .dataframe thead th {\n        text-align: right;\n    }\n</style>\n<table border=\"1\" class=\"dataframe\">\n  <thead>\n    <tr style=\"text-align: right;\">\n      <th>IBM.N</th>\n      <th>CLOSE</th>\n    </tr>\n    <tr>\n      <th>Date</th>\n      <th></th>\n    </tr>\n  </thead>\n  <tbody>\n    <tr>\n      <th>2018-01-02</th>\n      <td>147.334047</td>\n    </tr>\n    <tr>\n      <th>2018-01-03</th>\n      <td>151.383942</td>\n    </tr>\n    <tr>\n      <th>2018-01-04</th>\n      <td>154.450019</td>\n    </tr>\n    <tr>\n      <th>2018-01-05</th>\n      <td>155.204598</td>\n    </tr>\n    <tr>\n      <th>2018-01-08</th>\n      <td>156.140659</td>\n    </tr>\n    <tr>\n      <th>...</th>\n      <td>...</td>\n    </tr>\n    <tr>\n      <th>2023-02-06</th>\n      <td>136.18</td>\n    </tr>\n    <tr>\n      <th>2023-02-07</th>\n      <td>135.84</td>\n    </tr>\n    <tr>\n      <th>2023-02-08</th>\n      <td>135.98</td>\n    </tr>\n    <tr>\n      <th>2023-02-09</th>\n      <td>133.75</td>\n    </tr>\n    <tr>\n      <th>2023-02-10</th>\n      <td>135.6</td>\n    </tr>\n  </tbody>\n</table>\n<p>1287 rows × 1 columns</p>\n</div>"
     },
     "execution_count": 41,
     "metadata": {},
     "output_type": "execute_result"
    }
   ],
   "source": [
    "#a RIC that you want to get time series\n",
    "RIC = 'IBM.N'\n",
    "#start date that you want to get time series; it is in format yyyy-mm-dd\n",
    "start_date = '2018-01-02'\n",
    "#get time series till the last market close date using eikon.get_timeseries(..) function\n",
    "df = ek.get_timeseries(RIC, 'CLOSE', interval='daily', start_date=start_date)\n",
    "#display time series data frame\n",
    "df"
   ],
   "metadata": {
    "collapsed": false
   }
  },
  {
   "cell_type": "code",
   "execution_count": 51,
   "outputs": [
    {
     "ename": "ValueError",
     "evalue": "Pandas data cast to numpy dtype of object. Check input data with np.asarray(data). The types seen wereNone and None. The data was\nDate\n2018-01-03    4.049895\n2018-01-04    3.066076\n2018-01-05     0.75458\n2018-01-06     0.75458\n2018-01-07     0.75458\n                ...   \n2023-02-06       -0.76\n2023-02-07       -0.34\n2023-02-08        0.14\n2023-02-09       -2.23\n2023-02-10        1.85\nFreq: D, Name: df_1diff, Length: 1865, dtype: Float64\nand\n [[1.]\n [1.]\n [1.]\n ...\n [1.]\n [1.]\n [1.]]\nbefore. After,\n[4.049895360000022 3.0660764399999607 0.7545795600000247 ...\n 0.13999999999998636 -2.2299999999999898 1.8499999999999943]\n[[1.]\n [1.]\n [1.]\n ...\n [1.]\n [1.]\n [1.]].",
     "output_type": "error",
     "traceback": [
      "\u001B[1;31m---------------------------------------------------------------------------\u001B[0m",
      "\u001B[1;31mValueError\u001B[0m                                Traceback (most recent call last)",
      "Cell \u001B[1;32mIn[51], line 55\u001B[0m\n\u001B[0;32m     53\u001B[0m forecast_end_date \u001B[38;5;241m=\u001B[39m \u001B[38;5;124m'\u001B[39m\u001B[38;5;124m2020-03-31\u001B[39m\u001B[38;5;124m'\u001B[39m\n\u001B[0;32m     54\u001B[0m \u001B[38;5;66;03m#call the function to forecast time series with ARIMA model\u001B[39;00m\n\u001B[1;32m---> 55\u001B[0m forecast \u001B[38;5;241m=\u001B[39m \u001B[43mARIMA_model_forecast\u001B[49m\u001B[43m(\u001B[49m\u001B[43mdf\u001B[49m\u001B[43m,\u001B[49m\u001B[43mforecast_end_date\u001B[49m\u001B[43m)\u001B[49m\n\u001B[0;32m     56\u001B[0m \u001B[38;5;66;03m#display forecast time series\u001B[39;00m\n\u001B[0;32m     57\u001B[0m forecast\n",
      "Cell \u001B[1;32mIn[51], line 28\u001B[0m, in \u001B[0;36mARIMA_model_forecast\u001B[1;34m(df, forecast_end_date)\u001B[0m\n\u001B[0;32m     26\u001B[0m new_spot \u001B[38;5;241m=\u001B[39m df[\u001B[38;5;124m'\u001B[39m\u001B[38;5;124mdf_1diff\u001B[39m\u001B[38;5;124m'\u001B[39m]\u001B[38;5;241m.\u001B[39mresample(\u001B[38;5;124m'\u001B[39m\u001B[38;5;124mD\u001B[39m\u001B[38;5;124m'\u001B[39m)\u001B[38;5;241m.\u001B[39mffill()\n\u001B[0;32m     27\u001B[0m \u001B[38;5;66;03m#call ARIMA model which p=1,d=0 and q=1 with differences of time series\u001B[39;00m\n\u001B[1;32m---> 28\u001B[0m arma_model \u001B[38;5;241m=\u001B[39m \u001B[43mARIMA\u001B[49m\u001B[43m(\u001B[49m\u001B[43mnew_spot\u001B[49m\u001B[43m,\u001B[49m\u001B[43m \u001B[49m\u001B[43morder\u001B[49m\u001B[38;5;241;43m=\u001B[39;49m\u001B[43m(\u001B[49m\u001B[38;5;241;43m1\u001B[39;49m\u001B[43m,\u001B[49m\u001B[38;5;241;43m0\u001B[39;49m\u001B[43m,\u001B[49m\u001B[38;5;241;43m1\u001B[39;49m\u001B[43m)\u001B[49m\u001B[43m)\u001B[49m\n\u001B[0;32m     29\u001B[0m results \u001B[38;5;241m=\u001B[39m arma_model\u001B[38;5;241m.\u001B[39mfit(disp\u001B[38;5;241m=\u001B[39m\u001B[38;5;241m0\u001B[39m)\n\u001B[0;32m     30\u001B[0m residuals \u001B[38;5;241m=\u001B[39m pd\u001B[38;5;241m.\u001B[39mDataFrame(results\u001B[38;5;241m.\u001B[39mresid)\n",
      "File \u001B[1;32m~\\mambaforge\\envs\\AnalystForecast\\Lib\\site-packages\\statsmodels\\tsa\\arima\\model.py:153\u001B[0m, in \u001B[0;36mARIMA.__init__\u001B[1;34m(self, endog, exog, order, seasonal_order, trend, enforce_stationarity, enforce_invertibility, concentrate_scale, trend_offset, dates, freq, missing, validate_specification)\u001B[0m\n\u001B[0;32m    146\u001B[0m     trend \u001B[38;5;241m=\u001B[39m \u001B[38;5;124m'\u001B[39m\u001B[38;5;124mn\u001B[39m\u001B[38;5;124m'\u001B[39m\n\u001B[0;32m    148\u001B[0m \u001B[38;5;66;03m# Construct the specification\u001B[39;00m\n\u001B[0;32m    149\u001B[0m \u001B[38;5;66;03m# (don't pass specific values of enforce stationarity/invertibility,\u001B[39;00m\n\u001B[0;32m    150\u001B[0m \u001B[38;5;66;03m# because we don't actually want to restrict the estimators based on\u001B[39;00m\n\u001B[0;32m    151\u001B[0m \u001B[38;5;66;03m# this criteria. Instead, we'll just make sure that the parameter\u001B[39;00m\n\u001B[0;32m    152\u001B[0m \u001B[38;5;66;03m# estimates from those methods satisfy the criteria.)\u001B[39;00m\n\u001B[1;32m--> 153\u001B[0m \u001B[38;5;28mself\u001B[39m\u001B[38;5;241m.\u001B[39m_spec_arima \u001B[38;5;241m=\u001B[39m \u001B[43mSARIMAXSpecification\u001B[49m\u001B[43m(\u001B[49m\n\u001B[0;32m    154\u001B[0m \u001B[43m    \u001B[49m\u001B[43mendog\u001B[49m\u001B[43m,\u001B[49m\u001B[43m \u001B[49m\u001B[43mexog\u001B[49m\u001B[38;5;241;43m=\u001B[39;49m\u001B[43mexog\u001B[49m\u001B[43m,\u001B[49m\u001B[43m \u001B[49m\u001B[43morder\u001B[49m\u001B[38;5;241;43m=\u001B[39;49m\u001B[43morder\u001B[49m\u001B[43m,\u001B[49m\u001B[43m \u001B[49m\u001B[43mseasonal_order\u001B[49m\u001B[38;5;241;43m=\u001B[39;49m\u001B[43mseasonal_order\u001B[49m\u001B[43m,\u001B[49m\n\u001B[0;32m    155\u001B[0m \u001B[43m    \u001B[49m\u001B[43mtrend\u001B[49m\u001B[38;5;241;43m=\u001B[39;49m\u001B[43mtrend\u001B[49m\u001B[43m,\u001B[49m\u001B[43m \u001B[49m\u001B[43menforce_stationarity\u001B[49m\u001B[38;5;241;43m=\u001B[39;49m\u001B[38;5;28;43;01mNone\u001B[39;49;00m\u001B[43m,\u001B[49m\u001B[43m \u001B[49m\u001B[43menforce_invertibility\u001B[49m\u001B[38;5;241;43m=\u001B[39;49m\u001B[38;5;28;43;01mNone\u001B[39;49;00m\u001B[43m,\u001B[49m\n\u001B[0;32m    156\u001B[0m \u001B[43m    \u001B[49m\u001B[43mconcentrate_scale\u001B[49m\u001B[38;5;241;43m=\u001B[39;49m\u001B[43mconcentrate_scale\u001B[49m\u001B[43m,\u001B[49m\u001B[43m \u001B[49m\u001B[43mtrend_offset\u001B[49m\u001B[38;5;241;43m=\u001B[39;49m\u001B[43mtrend_offset\u001B[49m\u001B[43m,\u001B[49m\n\u001B[0;32m    157\u001B[0m \u001B[43m    \u001B[49m\u001B[43mdates\u001B[49m\u001B[38;5;241;43m=\u001B[39;49m\u001B[43mdates\u001B[49m\u001B[43m,\u001B[49m\u001B[43m \u001B[49m\u001B[43mfreq\u001B[49m\u001B[38;5;241;43m=\u001B[39;49m\u001B[43mfreq\u001B[49m\u001B[43m,\u001B[49m\u001B[43m \u001B[49m\u001B[43mmissing\u001B[49m\u001B[38;5;241;43m=\u001B[39;49m\u001B[43mmissing\u001B[49m\u001B[43m,\u001B[49m\n\u001B[0;32m    158\u001B[0m \u001B[43m    \u001B[49m\u001B[43mvalidate_specification\u001B[49m\u001B[38;5;241;43m=\u001B[39;49m\u001B[43mvalidate_specification\u001B[49m\u001B[43m)\u001B[49m\n\u001B[0;32m    159\u001B[0m exog \u001B[38;5;241m=\u001B[39m \u001B[38;5;28mself\u001B[39m\u001B[38;5;241m.\u001B[39m_spec_arima\u001B[38;5;241m.\u001B[39m_model\u001B[38;5;241m.\u001B[39mdata\u001B[38;5;241m.\u001B[39morig_exog\n\u001B[0;32m    161\u001B[0m \u001B[38;5;66;03m# Raise an error if we have a constant in an integrated model\u001B[39;00m\n",
      "File \u001B[1;32m~\\mambaforge\\envs\\AnalystForecast\\Lib\\site-packages\\statsmodels\\tsa\\arima\\specification.py:446\u001B[0m, in \u001B[0;36mSARIMAXSpecification.__init__\u001B[1;34m(self, endog, exog, order, seasonal_order, ar_order, diff, ma_order, seasonal_ar_order, seasonal_diff, seasonal_ma_order, seasonal_periods, trend, enforce_stationarity, enforce_invertibility, concentrate_scale, trend_offset, dates, freq, missing, validate_specification)\u001B[0m\n\u001B[0;32m    441\u001B[0m         exog \u001B[38;5;241m=\u001B[39m np\u001B[38;5;241m.\u001B[39mc_[trend_data, exog]\n\u001B[0;32m    443\u001B[0m \u001B[38;5;66;03m# Create an underlying time series model, to handle endog / exog,\u001B[39;00m\n\u001B[0;32m    444\u001B[0m \u001B[38;5;66;03m# especially validating shapes, retrieving names, and potentially\u001B[39;00m\n\u001B[0;32m    445\u001B[0m \u001B[38;5;66;03m# providing us with a time series index\u001B[39;00m\n\u001B[1;32m--> 446\u001B[0m \u001B[38;5;28mself\u001B[39m\u001B[38;5;241m.\u001B[39m_model \u001B[38;5;241m=\u001B[39m \u001B[43mTimeSeriesModel\u001B[49m\u001B[43m(\u001B[49m\u001B[43mendog\u001B[49m\u001B[43m,\u001B[49m\u001B[43m \u001B[49m\u001B[43mexog\u001B[49m\u001B[38;5;241;43m=\u001B[39;49m\u001B[43mexog\u001B[49m\u001B[43m,\u001B[49m\u001B[43m \u001B[49m\u001B[43mdates\u001B[49m\u001B[38;5;241;43m=\u001B[39;49m\u001B[43mdates\u001B[49m\u001B[43m,\u001B[49m\u001B[43m \u001B[49m\u001B[43mfreq\u001B[49m\u001B[38;5;241;43m=\u001B[39;49m\u001B[43mfreq\u001B[49m\u001B[43m,\u001B[49m\n\u001B[0;32m    447\u001B[0m \u001B[43m                              \u001B[49m\u001B[43mmissing\u001B[49m\u001B[38;5;241;43m=\u001B[39;49m\u001B[43mmissing\u001B[49m\u001B[43m)\u001B[49m\n\u001B[0;32m    448\u001B[0m \u001B[38;5;28mself\u001B[39m\u001B[38;5;241m.\u001B[39mendog \u001B[38;5;241m=\u001B[39m \u001B[38;5;28;01mNone\u001B[39;00m \u001B[38;5;28;01mif\u001B[39;00m faux_endog \u001B[38;5;28;01melse\u001B[39;00m \u001B[38;5;28mself\u001B[39m\u001B[38;5;241m.\u001B[39m_model\u001B[38;5;241m.\u001B[39mendog\n\u001B[0;32m    449\u001B[0m \u001B[38;5;28mself\u001B[39m\u001B[38;5;241m.\u001B[39mexog \u001B[38;5;241m=\u001B[39m \u001B[38;5;28mself\u001B[39m\u001B[38;5;241m.\u001B[39m_model\u001B[38;5;241m.\u001B[39mexog\n",
      "File \u001B[1;32m~\\mambaforge\\envs\\AnalystForecast\\Lib\\site-packages\\statsmodels\\tsa\\base\\tsa_model.py:468\u001B[0m, in \u001B[0;36mTimeSeriesModel.__init__\u001B[1;34m(self, endog, exog, dates, freq, missing, **kwargs)\u001B[0m\n\u001B[0;32m    465\u001B[0m \u001B[38;5;28;01mdef\u001B[39;00m \u001B[38;5;21m__init__\u001B[39m(\n\u001B[0;32m    466\u001B[0m     \u001B[38;5;28mself\u001B[39m, endog, exog\u001B[38;5;241m=\u001B[39m\u001B[38;5;28;01mNone\u001B[39;00m, dates\u001B[38;5;241m=\u001B[39m\u001B[38;5;28;01mNone\u001B[39;00m, freq\u001B[38;5;241m=\u001B[39m\u001B[38;5;28;01mNone\u001B[39;00m, missing\u001B[38;5;241m=\u001B[39m\u001B[38;5;124m\"\u001B[39m\u001B[38;5;124mnone\u001B[39m\u001B[38;5;124m\"\u001B[39m, \u001B[38;5;241m*\u001B[39m\u001B[38;5;241m*\u001B[39mkwargs\n\u001B[0;32m    467\u001B[0m ):\n\u001B[1;32m--> 468\u001B[0m     \u001B[38;5;28;43msuper\u001B[39;49m\u001B[43m(\u001B[49m\u001B[43m)\u001B[49m\u001B[38;5;241;43m.\u001B[39;49m\u001B[38;5;21;43m__init__\u001B[39;49m\u001B[43m(\u001B[49m\u001B[43mendog\u001B[49m\u001B[43m,\u001B[49m\u001B[43m \u001B[49m\u001B[43mexog\u001B[49m\u001B[43m,\u001B[49m\u001B[43m \u001B[49m\u001B[43mmissing\u001B[49m\u001B[38;5;241;43m=\u001B[39;49m\u001B[43mmissing\u001B[49m\u001B[43m,\u001B[49m\u001B[43m \u001B[49m\u001B[38;5;241;43m*\u001B[39;49m\u001B[38;5;241;43m*\u001B[39;49m\u001B[43mkwargs\u001B[49m\u001B[43m)\u001B[49m\n\u001B[0;32m    470\u001B[0m     \u001B[38;5;66;03m# Date handling in indexes\u001B[39;00m\n\u001B[0;32m    471\u001B[0m     \u001B[38;5;28mself\u001B[39m\u001B[38;5;241m.\u001B[39m_init_dates(dates, freq)\n",
      "File \u001B[1;32m~\\mambaforge\\envs\\AnalystForecast\\Lib\\site-packages\\statsmodels\\base\\model.py:267\u001B[0m, in \u001B[0;36mLikelihoodModel.__init__\u001B[1;34m(self, endog, exog, **kwargs)\u001B[0m\n\u001B[0;32m    266\u001B[0m \u001B[38;5;28;01mdef\u001B[39;00m \u001B[38;5;21m__init__\u001B[39m(\u001B[38;5;28mself\u001B[39m, endog, exog\u001B[38;5;241m=\u001B[39m\u001B[38;5;28;01mNone\u001B[39;00m, \u001B[38;5;241m*\u001B[39m\u001B[38;5;241m*\u001B[39mkwargs):\n\u001B[1;32m--> 267\u001B[0m     \u001B[38;5;28;43msuper\u001B[39;49m\u001B[43m(\u001B[49m\u001B[43m)\u001B[49m\u001B[38;5;241;43m.\u001B[39;49m\u001B[38;5;21;43m__init__\u001B[39;49m\u001B[43m(\u001B[49m\u001B[43mendog\u001B[49m\u001B[43m,\u001B[49m\u001B[43m \u001B[49m\u001B[43mexog\u001B[49m\u001B[43m,\u001B[49m\u001B[43m \u001B[49m\u001B[38;5;241;43m*\u001B[39;49m\u001B[38;5;241;43m*\u001B[39;49m\u001B[43mkwargs\u001B[49m\u001B[43m)\u001B[49m\n\u001B[0;32m    268\u001B[0m     \u001B[38;5;28mself\u001B[39m\u001B[38;5;241m.\u001B[39minitialize()\n",
      "File \u001B[1;32m~\\mambaforge\\envs\\AnalystForecast\\Lib\\site-packages\\statsmodels\\base\\model.py:92\u001B[0m, in \u001B[0;36mModel.__init__\u001B[1;34m(self, endog, exog, **kwargs)\u001B[0m\n\u001B[0;32m     90\u001B[0m missing \u001B[38;5;241m=\u001B[39m kwargs\u001B[38;5;241m.\u001B[39mpop(\u001B[38;5;124m'\u001B[39m\u001B[38;5;124mmissing\u001B[39m\u001B[38;5;124m'\u001B[39m, \u001B[38;5;124m'\u001B[39m\u001B[38;5;124mnone\u001B[39m\u001B[38;5;124m'\u001B[39m)\n\u001B[0;32m     91\u001B[0m hasconst \u001B[38;5;241m=\u001B[39m kwargs\u001B[38;5;241m.\u001B[39mpop(\u001B[38;5;124m'\u001B[39m\u001B[38;5;124mhasconst\u001B[39m\u001B[38;5;124m'\u001B[39m, \u001B[38;5;28;01mNone\u001B[39;00m)\n\u001B[1;32m---> 92\u001B[0m \u001B[38;5;28mself\u001B[39m\u001B[38;5;241m.\u001B[39mdata \u001B[38;5;241m=\u001B[39m \u001B[38;5;28;43mself\u001B[39;49m\u001B[38;5;241;43m.\u001B[39;49m\u001B[43m_handle_data\u001B[49m\u001B[43m(\u001B[49m\u001B[43mendog\u001B[49m\u001B[43m,\u001B[49m\u001B[43m \u001B[49m\u001B[43mexog\u001B[49m\u001B[43m,\u001B[49m\u001B[43m \u001B[49m\u001B[43mmissing\u001B[49m\u001B[43m,\u001B[49m\u001B[43m \u001B[49m\u001B[43mhasconst\u001B[49m\u001B[43m,\u001B[49m\n\u001B[0;32m     93\u001B[0m \u001B[43m                              \u001B[49m\u001B[38;5;241;43m*\u001B[39;49m\u001B[38;5;241;43m*\u001B[39;49m\u001B[43mkwargs\u001B[49m\u001B[43m)\u001B[49m\n\u001B[0;32m     94\u001B[0m \u001B[38;5;28mself\u001B[39m\u001B[38;5;241m.\u001B[39mk_constant \u001B[38;5;241m=\u001B[39m \u001B[38;5;28mself\u001B[39m\u001B[38;5;241m.\u001B[39mdata\u001B[38;5;241m.\u001B[39mk_constant\n\u001B[0;32m     95\u001B[0m \u001B[38;5;28mself\u001B[39m\u001B[38;5;241m.\u001B[39mexog \u001B[38;5;241m=\u001B[39m \u001B[38;5;28mself\u001B[39m\u001B[38;5;241m.\u001B[39mdata\u001B[38;5;241m.\u001B[39mexog\n",
      "File \u001B[1;32m~\\mambaforge\\envs\\AnalystForecast\\Lib\\site-packages\\statsmodels\\base\\model.py:132\u001B[0m, in \u001B[0;36mModel._handle_data\u001B[1;34m(self, endog, exog, missing, hasconst, **kwargs)\u001B[0m\n\u001B[0;32m    131\u001B[0m \u001B[38;5;28;01mdef\u001B[39;00m \u001B[38;5;21m_handle_data\u001B[39m(\u001B[38;5;28mself\u001B[39m, endog, exog, missing, hasconst, \u001B[38;5;241m*\u001B[39m\u001B[38;5;241m*\u001B[39mkwargs):\n\u001B[1;32m--> 132\u001B[0m     data \u001B[38;5;241m=\u001B[39m \u001B[43mhandle_data\u001B[49m\u001B[43m(\u001B[49m\u001B[43mendog\u001B[49m\u001B[43m,\u001B[49m\u001B[43m \u001B[49m\u001B[43mexog\u001B[49m\u001B[43m,\u001B[49m\u001B[43m \u001B[49m\u001B[43mmissing\u001B[49m\u001B[43m,\u001B[49m\u001B[43m \u001B[49m\u001B[43mhasconst\u001B[49m\u001B[43m,\u001B[49m\u001B[43m \u001B[49m\u001B[38;5;241;43m*\u001B[39;49m\u001B[38;5;241;43m*\u001B[39;49m\u001B[43mkwargs\u001B[49m\u001B[43m)\u001B[49m\n\u001B[0;32m    133\u001B[0m     \u001B[38;5;66;03m# kwargs arrays could have changed, easier to just attach here\u001B[39;00m\n\u001B[0;32m    134\u001B[0m     \u001B[38;5;28;01mfor\u001B[39;00m key \u001B[38;5;129;01min\u001B[39;00m kwargs:\n",
      "File \u001B[1;32m~\\mambaforge\\envs\\AnalystForecast\\Lib\\site-packages\\statsmodels\\base\\data.py:700\u001B[0m, in \u001B[0;36mhandle_data\u001B[1;34m(endog, exog, missing, hasconst, **kwargs)\u001B[0m\n\u001B[0;32m    697\u001B[0m     exog \u001B[38;5;241m=\u001B[39m np\u001B[38;5;241m.\u001B[39masarray(exog)\n\u001B[0;32m    699\u001B[0m klass \u001B[38;5;241m=\u001B[39m handle_data_class_factory(endog, exog)\n\u001B[1;32m--> 700\u001B[0m \u001B[38;5;28;01mreturn\u001B[39;00m \u001B[43mklass\u001B[49m\u001B[43m(\u001B[49m\u001B[43mendog\u001B[49m\u001B[43m,\u001B[49m\u001B[43m \u001B[49m\u001B[43mexog\u001B[49m\u001B[38;5;241;43m=\u001B[39;49m\u001B[43mexog\u001B[49m\u001B[43m,\u001B[49m\u001B[43m \u001B[49m\u001B[43mmissing\u001B[49m\u001B[38;5;241;43m=\u001B[39;49m\u001B[43mmissing\u001B[49m\u001B[43m,\u001B[49m\u001B[43m \u001B[49m\u001B[43mhasconst\u001B[49m\u001B[38;5;241;43m=\u001B[39;49m\u001B[43mhasconst\u001B[49m\u001B[43m,\u001B[49m\n\u001B[0;32m    701\u001B[0m \u001B[43m             \u001B[49m\u001B[38;5;241;43m*\u001B[39;49m\u001B[38;5;241;43m*\u001B[39;49m\u001B[43mkwargs\u001B[49m\u001B[43m)\u001B[49m\n",
      "File \u001B[1;32m~\\mambaforge\\envs\\AnalystForecast\\Lib\\site-packages\\statsmodels\\base\\data.py:84\u001B[0m, in \u001B[0;36mModelData.__init__\u001B[1;34m(self, endog, exog, missing, hasconst, **kwargs)\u001B[0m\n\u001B[0;32m     82\u001B[0m     \u001B[38;5;28mself\u001B[39m\u001B[38;5;241m.\u001B[39morig_endog \u001B[38;5;241m=\u001B[39m endog\n\u001B[0;32m     83\u001B[0m     \u001B[38;5;28mself\u001B[39m\u001B[38;5;241m.\u001B[39morig_exog \u001B[38;5;241m=\u001B[39m exog\n\u001B[1;32m---> 84\u001B[0m     \u001B[38;5;28mself\u001B[39m\u001B[38;5;241m.\u001B[39mendog, \u001B[38;5;28mself\u001B[39m\u001B[38;5;241m.\u001B[39mexog \u001B[38;5;241m=\u001B[39m \u001B[38;5;28;43mself\u001B[39;49m\u001B[38;5;241;43m.\u001B[39;49m\u001B[43m_convert_endog_exog\u001B[49m\u001B[43m(\u001B[49m\u001B[43mendog\u001B[49m\u001B[43m,\u001B[49m\u001B[43m \u001B[49m\u001B[43mexog\u001B[49m\u001B[43m)\u001B[49m\n\u001B[0;32m     86\u001B[0m \u001B[38;5;28mself\u001B[39m\u001B[38;5;241m.\u001B[39mconst_idx \u001B[38;5;241m=\u001B[39m \u001B[38;5;28;01mNone\u001B[39;00m\n\u001B[0;32m     87\u001B[0m \u001B[38;5;28mself\u001B[39m\u001B[38;5;241m.\u001B[39mk_constant \u001B[38;5;241m=\u001B[39m \u001B[38;5;241m0\u001B[39m\n",
      "File \u001B[1;32m~\\mambaforge\\envs\\AnalystForecast\\Lib\\site-packages\\statsmodels\\base\\data.py:530\u001B[0m, in \u001B[0;36mPandasData._convert_endog_exog\u001B[1;34m(self, endog, exog)\u001B[0m\n\u001B[0;32m    528\u001B[0m     \u001B[38;5;28;01melse\u001B[39;00m:\n\u001B[0;32m    529\u001B[0m         exog_dtype \u001B[38;5;241m=\u001B[39m \u001B[38;5;28;01mNone\u001B[39;00m\n\u001B[1;32m--> 530\u001B[0m     \u001B[38;5;28;01mraise\u001B[39;00m \u001B[38;5;167;01mValueError\u001B[39;00m(\n\u001B[0;32m    531\u001B[0m         \u001B[38;5;124m\"\u001B[39m\u001B[38;5;124mPandas data cast to numpy dtype of object. Check input data \u001B[39m\u001B[38;5;124m\"\u001B[39m\n\u001B[0;32m    532\u001B[0m         \u001B[38;5;124m\"\u001B[39m\u001B[38;5;124mwith np.asarray(data). The types seen were\u001B[39m\u001B[38;5;124m\"\u001B[39m\n\u001B[0;32m    533\u001B[0m         \u001B[38;5;124mf\u001B[39m\u001B[38;5;124m\"\u001B[39m\u001B[38;5;132;01m{\u001B[39;00mendog_dtype\u001B[38;5;132;01m}\u001B[39;00m\u001B[38;5;124m and \u001B[39m\u001B[38;5;132;01m{\u001B[39;00mexog_dtype\u001B[38;5;132;01m}\u001B[39;00m\u001B[38;5;124m. The data was\u001B[39m\u001B[38;5;130;01m\\n\u001B[39;00m\u001B[38;5;124m\"\u001B[39m\n\u001B[0;32m    534\u001B[0m         \u001B[38;5;124mf\u001B[39m\u001B[38;5;124m\"\u001B[39m\u001B[38;5;132;01m{\u001B[39;00morig_endog\u001B[38;5;132;01m}\u001B[39;00m\u001B[38;5;130;01m\\n\u001B[39;00m\u001B[38;5;124mand\u001B[39m\u001B[38;5;130;01m\\n\u001B[39;00m\u001B[38;5;124m \u001B[39m\u001B[38;5;132;01m{\u001B[39;00morig_exog\u001B[38;5;132;01m}\u001B[39;00m\u001B[38;5;130;01m\\n\u001B[39;00m\u001B[38;5;124mbefore. After,\u001B[39m\u001B[38;5;130;01m\\n\u001B[39;00m\u001B[38;5;132;01m{\u001B[39;00mendog\u001B[38;5;132;01m}\u001B[39;00m\u001B[38;5;130;01m\\n\u001B[39;00m\u001B[38;5;132;01m{\u001B[39;00mexog\u001B[38;5;132;01m}\u001B[39;00m\u001B[38;5;124m.\u001B[39m\u001B[38;5;124m\"\u001B[39m\n\u001B[0;32m    535\u001B[0m     )\n\u001B[0;32m    536\u001B[0m \u001B[38;5;28;01mreturn\u001B[39;00m \u001B[38;5;28msuper\u001B[39m(PandasData, \u001B[38;5;28mself\u001B[39m)\u001B[38;5;241m.\u001B[39m_convert_endog_exog(endog, exog)\n",
      "\u001B[1;31mValueError\u001B[0m: Pandas data cast to numpy dtype of object. Check input data with np.asarray(data). The types seen wereNone and None. The data was\nDate\n2018-01-03    4.049895\n2018-01-04    3.066076\n2018-01-05     0.75458\n2018-01-06     0.75458\n2018-01-07     0.75458\n                ...   \n2023-02-06       -0.76\n2023-02-07       -0.34\n2023-02-08        0.14\n2023-02-09       -2.23\n2023-02-10        1.85\nFreq: D, Name: df_1diff, Length: 1865, dtype: Float64\nand\n [[1.]\n [1.]\n [1.]\n ...\n [1.]\n [1.]\n [1.]]\nbefore. After,\n[4.049895360000022 3.0660764399999607 0.7545795600000247 ...\n 0.13999999999998636 -2.2299999999999898 1.8499999999999943]\n[[1.]\n [1.]\n [1.]\n ...\n [1.]\n [1.]\n [1.]]."
     ]
    }
   ],
   "source": [
    "import matplotlib.pyplot as plt\n",
    "import pandas as pd\n",
    "import numpy as np\n",
    "\n",
    "from datetime import timedelta, datetime\n",
    "from statsmodels.tsa.arima.model import ARIMA\n",
    "from statsmodels.tsa.holtwinters import ExponentialSmoothing\n",
    "from statsmodels.tsa.stattools import acf, pacf\n",
    "from statsmodels.tsa.stattools import adfuller\n",
    "\n",
    "#function to forecast using ARIMA Model\n",
    "#input is time series data frame(df) got from eikon.get_timeseries(..)\n",
    "#and forecast end date which is in format yyyy-mm-dd\n",
    "def ARIMA_model_forecast(df, forecast_end_date):\n",
    "    #Set the start and end forecast date time\n",
    "    #first date is 1 day after time series. The last date is the forecast_end_date parameter\n",
    "    _e_date = datetime.fromtimestamp(datetime.timestamp(df.index[-1]))\n",
    "    e_date = _e_date + timedelta(days = 1)\n",
    "    e_date = e_date.strftime('%Y-%m-%d')\n",
    "\n",
    "    #find differences of time series which is input of ARIMA model\n",
    "    df['df_1diff'] = df['CLOSE'].diff()\n",
    "    df = df[df['df_1diff'].notnull()]\n",
    "    lag_acf = acf(df['df_1diff'], nlags=50)\n",
    "    lag_pacf = pacf(df['df_1diff'], nlags=50, method='ols')\n",
    "    new_spot = df['df_1diff'].resample('D').ffill()\n",
    "    #call ARIMA model which p=1,d=0 and q=1 with differences of time series\n",
    "    arma_model = ARIMA(new_spot, order=(1,0,1))\n",
    "    results = arma_model.fit(disp=0)\n",
    "    residuals = pd.DataFrame(results.resid)\n",
    "    #focast time series\n",
    "    predictions_ARIMA = pd.Series(results.fittedvalues, copy=True)\n",
    "    predictions_ARIMA_cumsum = predictions_ARIMA.cumsum()\n",
    "    predictions_ARIMA_final = pd.Series(df['CLOSE'].iloc[0], index=new_spot.index)\n",
    "    predictions_ARIMA_final = predictions_ARIMA_final.add(predictions_ARIMA_cumsum, fill_value=0)\n",
    "    new_spot = df.CLOSE.resample('D',label='right').ffill()\n",
    "    es_model = ExponentialSmoothing(new_spot, trend='add', damped=False, seasonal='mul', seasonal_periods=30)\n",
    "    es_results = es_model.fit()\n",
    "    predicted_values = es_model.predict(params=es_results.params, start=e_date, end=forecast_end_date)\n",
    "\n",
    "    #create data frame from forecast timeseries\n",
    "    preds = pd.DataFrame(index= pd.date_range(start=e_date, end=forecast_end_date), data=predicted_values, columns=['CLOSE'])\n",
    "\n",
    "    #Plot graph of past and forecast timeseries\n",
    "    plt.figure(figsize=(16,7))\n",
    "    plt.plot(new_spot, label='Actual')\n",
    "    plt.plot(preds, label='Forecast', color='red')\n",
    "    plt.legend(loc='best')\n",
    "    plt.show()\n",
    "    return preds\n",
    "\n",
    "#end date that you want to forecast\n",
    "forecast_end_date = '2020-03-31'\n",
    "#call the function to forecast time series with ARIMA model\n",
    "forecast = ARIMA_model_forecast(df,forecast_end_date)\n",
    "#display forecast time series\n",
    "forecast"
   ],
   "metadata": {
    "collapsed": false
   }
  },
  {
   "cell_type": "code",
   "execution_count": null,
   "outputs": [],
   "source": [],
   "metadata": {
    "collapsed": false
   }
  }
 ],
 "metadata": {
  "kernelspec": {
   "display_name": "Python 3",
   "language": "python",
   "name": "python3"
  },
  "language_info": {
   "codemirror_mode": {
    "name": "ipython",
    "version": 2
   },
   "file_extension": ".py",
   "mimetype": "text/x-python",
   "name": "python",
   "nbconvert_exporter": "python",
   "pygments_lexer": "ipython2",
   "version": "2.7.6"
  }
 },
 "nbformat": 4,
 "nbformat_minor": 0
}
