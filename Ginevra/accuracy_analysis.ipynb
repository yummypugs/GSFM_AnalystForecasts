{
 "cells": [
  {
   "attachments": {},
   "cell_type": "markdown",
   "metadata": {},
   "source": [
    "# Accuracy Analysis"
   ]
  },
  {
   "cell_type": "code",
   "execution_count": 12,
   "metadata": {
    "collapsed": false
   },
   "outputs": [],
   "source": [
    "import eikon as ek\n",
    "import pandas as pd\n",
    "import numpy as np\n",
    "import datetime\n",
    "ek.set_app_key(\"f47c330480d74c598b7e8ebc2539424e91764dd8\")"
   ]
  },
  {
   "cell_type": "markdown",
   "metadata": {
    "collapsed": false
   },
   "source": [
    "https://community.developers.refinitiv.com/questions/73493/get-eps-historical-data-for-stocks.html"
   ]
  },
  {
   "attachments": {},
   "cell_type": "markdown",
   "metadata": {
    "collapsed": false
   },
   "source": [
    "### Part 1: Accuracy  \n",
    "\n",
    "**Variables**\n",
    "\n",
    "**TR.EPSActValue** - The company's actual value normalized to reflect the I/B/E/S default currency and corporate actions (e.g. stock splits). Earnings Per Share is defined as the EPS that the contributing analyst considers to be that with which to value a security. This figure may include or exclude certain items depending on the contributing analyst's specific model.  \n",
    "\n",
    "**TR.EPSMean** - The statistical average of all broker estimates determined to be on the majority accounting basis. Earnings Per Share is defined as the EPS that the contributing analyst considers to be that with which to value a security. This figure may include or exclude certain items depending on the contributing analyst's specific model.  \n",
    "\n",
    "--> this is a analyst forecast variable\n",
    "\n",
    "**TR.EPSActSurprise** - The difference between the actual and the last mean of the period, expressed as a percentage. Earnings Per Share is defined as the EPS that the contributing analyst considers to be that with which to value a security. This figure may include or exclude certain items depending on the contributing analyst's specific model.  \n",
    "\n",
    "--> forecast error between actual EPS and TR.EPSMean  \n"
   ]
  },
  {
   "cell_type": "code",
   "execution_count": 13,
   "metadata": {},
   "outputs": [],
   "source": [
    "#accuracy_variables = ['TR.RevenueActValue.date', 'TR.RevenueActValue', \"TR.F.EV\", 'TR.EPSActValue', \"TR.EPSMean\", \"TR.EpsSmartEst\", \"TR.EPSActSurprise\", \"TR.EpsPreSurprisePct\"]\n",
    "accuracy_variables = ['TR.EPSactValue.date', 'TR.EPSActValue', \"TR.EPSMean\", \"TR.EPSActSurprise\"]"
   ]
  },
  {
   "cell_type": "code",
   "execution_count": 23,
   "metadata": {},
   "outputs": [],
   "source": [
    "df_accuracy, e = ek.get_data('0#.SPX',accuracy_variables, parameters = {'SDate':'0','EDate':'-5','Period':'FQ0','Frq':'FQ'})\n",
    "df_accuracy[\"Date\"] = pd.to_datetime(df_accuracy[\"Date\"])\n",
    "df_accuracy.to_csv(\"df_accuracy.csv\")"
   ]
  },
  {
   "cell_type": "code",
   "execution_count": 22,
   "metadata": {},
   "outputs": [
    {
     "data": {
      "text/html": [
       "<div>\n",
       "<style scoped>\n",
       "    .dataframe tbody tr th:only-of-type {\n",
       "        vertical-align: middle;\n",
       "    }\n",
       "\n",
       "    .dataframe tbody tr th {\n",
       "        vertical-align: top;\n",
       "    }\n",
       "\n",
       "    .dataframe thead th {\n",
       "        text-align: right;\n",
       "    }\n",
       "</style>\n",
       "<table border=\"1\" class=\"dataframe\">\n",
       "  <thead>\n",
       "    <tr style=\"text-align: right;\">\n",
       "      <th></th>\n",
       "      <th>Instrument</th>\n",
       "      <th>Date</th>\n",
       "      <th>Earnings Per Share - Actual</th>\n",
       "      <th>Earnings Per Share - Mean</th>\n",
       "      <th>Earnings Per Share - Actual Surprise</th>\n",
       "    </tr>\n",
       "  </thead>\n",
       "  <tbody>\n",
       "    <tr>\n",
       "      <th>0</th>\n",
       "      <td>POOL.OQ</td>\n",
       "      <td>2023-02-16 07:00:00+00:00</td>\n",
       "      <td>1.82</td>\n",
       "      <td>1.987</td>\n",
       "      <td>-8.405</td>\n",
       "    </tr>\n",
       "    <tr>\n",
       "      <th>1</th>\n",
       "      <td>POOL.OQ</td>\n",
       "      <td>2022-10-20 07:00:00+00:00</td>\n",
       "      <td>4.78</td>\n",
       "      <td>4.5875</td>\n",
       "      <td>4.196</td>\n",
       "    </tr>\n",
       "    <tr>\n",
       "      <th>2</th>\n",
       "      <td>POOL.OQ</td>\n",
       "      <td>2022-07-21 07:00:00+00:00</td>\n",
       "      <td>7.63</td>\n",
       "      <td>7.517</td>\n",
       "      <td>1.503</td>\n",
       "    </tr>\n",
       "    <tr>\n",
       "      <th>3</th>\n",
       "      <td>POOL.OQ</td>\n",
       "      <td>2022-04-21 07:00:00+00:00</td>\n",
       "      <td>4.23</td>\n",
       "      <td>3.14867</td>\n",
       "      <td>34.342</td>\n",
       "    </tr>\n",
       "    <tr>\n",
       "      <th>4</th>\n",
       "      <td>POOL.OQ</td>\n",
       "      <td>2022-02-17 07:00:00+00:00</td>\n",
       "      <td>2.63</td>\n",
       "      <td>1.875</td>\n",
       "      <td>40.267</td>\n",
       "    </tr>\n",
       "    <tr>\n",
       "      <th>...</th>\n",
       "      <td>...</td>\n",
       "      <td>...</td>\n",
       "      <td>...</td>\n",
       "      <td>...</td>\n",
       "      <td>...</td>\n",
       "    </tr>\n",
       "    <tr>\n",
       "      <th>3003</th>\n",
       "      <td>AVY.N</td>\n",
       "      <td>2022-10-26 06:45:00+00:00</td>\n",
       "      <td>2.46</td>\n",
       "      <td>2.46323</td>\n",
       "      <td>-0.131</td>\n",
       "    </tr>\n",
       "    <tr>\n",
       "      <th>3004</th>\n",
       "      <td>AVY.N</td>\n",
       "      <td>2022-07-27 06:45:00+00:00</td>\n",
       "      <td>2.64</td>\n",
       "      <td>2.36485</td>\n",
       "      <td>11.635</td>\n",
       "    </tr>\n",
       "    <tr>\n",
       "      <th>3005</th>\n",
       "      <td>AVY.N</td>\n",
       "      <td>2022-04-26 06:45:00+00:00</td>\n",
       "      <td>2.4</td>\n",
       "      <td>2.17008</td>\n",
       "      <td>10.595</td>\n",
       "    </tr>\n",
       "    <tr>\n",
       "      <th>3006</th>\n",
       "      <td>AVY.N</td>\n",
       "      <td>2022-02-02 06:45:00+00:00</td>\n",
       "      <td>2.13</td>\n",
       "      <td>2.12375</td>\n",
       "      <td>0.294</td>\n",
       "    </tr>\n",
       "    <tr>\n",
       "      <th>3007</th>\n",
       "      <td>AVY.N</td>\n",
       "      <td>2021-10-27 06:45:00+00:00</td>\n",
       "      <td>2.14</td>\n",
       "      <td>2.0423</td>\n",
       "      <td>4.784</td>\n",
       "    </tr>\n",
       "  </tbody>\n",
       "</table>\n",
       "<p>3008 rows × 5 columns</p>\n",
       "</div>"
      ],
      "text/plain": [
       "     Instrument                      Date  Earnings Per Share - Actual  \\\n",
       "0       POOL.OQ 2023-02-16 07:00:00+00:00                         1.82   \n",
       "1       POOL.OQ 2022-10-20 07:00:00+00:00                         4.78   \n",
       "2       POOL.OQ 2022-07-21 07:00:00+00:00                         7.63   \n",
       "3       POOL.OQ 2022-04-21 07:00:00+00:00                         4.23   \n",
       "4       POOL.OQ 2022-02-17 07:00:00+00:00                         2.63   \n",
       "...         ...                       ...                          ...   \n",
       "3003      AVY.N 2022-10-26 06:45:00+00:00                         2.46   \n",
       "3004      AVY.N 2022-07-27 06:45:00+00:00                         2.64   \n",
       "3005      AVY.N 2022-04-26 06:45:00+00:00                          2.4   \n",
       "3006      AVY.N 2022-02-02 06:45:00+00:00                         2.13   \n",
       "3007      AVY.N 2021-10-27 06:45:00+00:00                         2.14   \n",
       "\n",
       "      Earnings Per Share - Mean  Earnings Per Share - Actual Surprise  \n",
       "0                         1.987                                -8.405  \n",
       "1                        4.5875                                 4.196  \n",
       "2                         7.517                                 1.503  \n",
       "3                       3.14867                                34.342  \n",
       "4                         1.875                                40.267  \n",
       "...                         ...                                   ...  \n",
       "3003                    2.46323                                -0.131  \n",
       "3004                    2.36485                                11.635  \n",
       "3005                    2.17008                                10.595  \n",
       "3006                    2.12375                                 0.294  \n",
       "3007                     2.0423                                 4.784  \n",
       "\n",
       "[3008 rows x 5 columns]"
      ]
     },
     "execution_count": 22,
     "metadata": {},
     "output_type": "execute_result"
    }
   ],
   "source": [
    "df_accuracy"
   ]
  },
  {
   "cell_type": "code",
   "execution_count": 16,
   "metadata": {},
   "outputs": [
    {
     "data": {
      "text/plain": [
       "Instrument                                           string\n",
       "Date                                    datetime64[ns, UTC]\n",
       "Earnings Per Share - Actual                         Float64\n",
       "Earnings Per Share - Mean                           Float64\n",
       "Earnings Per Share - Actual Surprise                Float64\n",
       "dtype: object"
      ]
     },
     "execution_count": 16,
     "metadata": {},
     "output_type": "execute_result"
    }
   ],
   "source": [
    "df_accuracy.dtypes"
   ]
  },
  {
   "attachments": {},
   "cell_type": "markdown",
   "metadata": {},
   "source": [
    "### Exploratory Data Analysis for Analyst Forcast Accuracy"
   ]
  },
  {
   "attachments": {},
   "cell_type": "markdown",
   "metadata": {},
   "source": [
    "Mean for the entire time frame for each instrument (just to get an overview)"
   ]
  },
  {
   "cell_type": "code",
   "execution_count": 20,
   "metadata": {},
   "outputs": [
    {
     "name": "stderr",
     "output_type": "stream",
     "text": [
      "/var/folders/tj/07dch2wn75v90cdvrd8w0xm80000gn/T/ipykernel_36652/1469255435.py:1: FutureWarning: The default value of numeric_only in DataFrameGroupBy.mean is deprecated. In a future version, numeric_only will default to False. Either specify numeric_only or select only columns which should be valid for the function.\n",
      "  df_averages = df_accuracy.groupby(\"Instrument\").mean()\n"
     ]
    },
    {
     "data": {
      "text/html": [
       "<div>\n",
       "<style scoped>\n",
       "    .dataframe tbody tr th:only-of-type {\n",
       "        vertical-align: middle;\n",
       "    }\n",
       "\n",
       "    .dataframe tbody tr th {\n",
       "        vertical-align: top;\n",
       "    }\n",
       "\n",
       "    .dataframe thead th {\n",
       "        text-align: right;\n",
       "    }\n",
       "</style>\n",
       "<table border=\"1\" class=\"dataframe\">\n",
       "  <thead>\n",
       "    <tr style=\"text-align: right;\">\n",
       "      <th></th>\n",
       "      <th>Earnings Per Share - Actual</th>\n",
       "      <th>Earnings Per Share - Mean</th>\n",
       "      <th>Earnings Per Share - Actual Surprise</th>\n",
       "    </tr>\n",
       "    <tr>\n",
       "      <th>Instrument</th>\n",
       "      <th></th>\n",
       "      <th></th>\n",
       "      <th></th>\n",
       "    </tr>\n",
       "  </thead>\n",
       "  <tbody>\n",
       "    <tr>\n",
       "      <th>A.N</th>\n",
       "      <td>1.253333</td>\n",
       "      <td>1.17476</td>\n",
       "      <td>6.625667</td>\n",
       "    </tr>\n",
       "    <tr>\n",
       "      <th>AAL.OQ</th>\n",
       "      <td>-0.351667</td>\n",
       "      <td>-0.408517</td>\n",
       "      <td>6.156333</td>\n",
       "    </tr>\n",
       "    <tr>\n",
       "      <th>AAP.N</th>\n",
       "      <td>3.138333</td>\n",
       "      <td>3.095295</td>\n",
       "      <td>2.1005</td>\n",
       "    </tr>\n",
       "    <tr>\n",
       "      <th>AAPL.OQ</th>\n",
       "      <td>1.538333</td>\n",
       "      <td>1.486917</td>\n",
       "      <td>3.306167</td>\n",
       "    </tr>\n",
       "    <tr>\n",
       "      <th>ABBV.N</th>\n",
       "      <td>3.418333</td>\n",
       "      <td>3.349458</td>\n",
       "      <td>2.076</td>\n",
       "    </tr>\n",
       "    <tr>\n",
       "      <th>...</th>\n",
       "      <td>...</td>\n",
       "      <td>...</td>\n",
       "      <td>...</td>\n",
       "    </tr>\n",
       "    <tr>\n",
       "      <th>YUM.N</th>\n",
       "      <td>1.123333</td>\n",
       "      <td>1.12382</td>\n",
       "      <td>-0.0935</td>\n",
       "    </tr>\n",
       "    <tr>\n",
       "      <th>ZBH.N</th>\n",
       "      <td>1.775</td>\n",
       "      <td>1.694997</td>\n",
       "      <td>5.18</td>\n",
       "    </tr>\n",
       "    <tr>\n",
       "      <th>ZBRA.OQ</th>\n",
       "      <td>4.43</td>\n",
       "      <td>4.276117</td>\n",
       "      <td>3.820833</td>\n",
       "    </tr>\n",
       "    <tr>\n",
       "      <th>ZION.OQ</th>\n",
       "      <td>1.431667</td>\n",
       "      <td>1.396037</td>\n",
       "      <td>2.782167</td>\n",
       "    </tr>\n",
       "    <tr>\n",
       "      <th>ZTS.N</th>\n",
       "      <td>1.188333</td>\n",
       "      <td>1.132927</td>\n",
       "      <td>5.123667</td>\n",
       "    </tr>\n",
       "  </tbody>\n",
       "</table>\n",
       "<p>503 rows × 3 columns</p>\n",
       "</div>"
      ],
      "text/plain": [
       "            Earnings Per Share - Actual  Earnings Per Share - Mean  \\\n",
       "Instrument                                                           \n",
       "A.N                            1.253333                    1.17476   \n",
       "AAL.OQ                        -0.351667                  -0.408517   \n",
       "AAP.N                          3.138333                   3.095295   \n",
       "AAPL.OQ                        1.538333                   1.486917   \n",
       "ABBV.N                         3.418333                   3.349458   \n",
       "...                                 ...                        ...   \n",
       "YUM.N                          1.123333                    1.12382   \n",
       "ZBH.N                             1.775                   1.694997   \n",
       "ZBRA.OQ                            4.43                   4.276117   \n",
       "ZION.OQ                        1.431667                   1.396037   \n",
       "ZTS.N                          1.188333                   1.132927   \n",
       "\n",
       "            Earnings Per Share - Actual Surprise  \n",
       "Instrument                                        \n",
       "A.N                                     6.625667  \n",
       "AAL.OQ                                  6.156333  \n",
       "AAP.N                                     2.1005  \n",
       "AAPL.OQ                                 3.306167  \n",
       "ABBV.N                                     2.076  \n",
       "...                                          ...  \n",
       "YUM.N                                    -0.0935  \n",
       "ZBH.N                                       5.18  \n",
       "ZBRA.OQ                                 3.820833  \n",
       "ZION.OQ                                 2.782167  \n",
       "ZTS.N                                   5.123667  \n",
       "\n",
       "[503 rows x 3 columns]"
      ]
     },
     "execution_count": 20,
     "metadata": {},
     "output_type": "execute_result"
    }
   ],
   "source": [
    "df_averages = df_accuracy.groupby(\"Instrument\").mean()\n",
    "df_averages"
   ]
  },
  {
   "attachments": {},
   "cell_type": "markdown",
   "metadata": {},
   "source": [
    "categorizing the forecast accuracy:"
   ]
  },
  {
   "cell_type": "code",
   "execution_count": 8,
   "metadata": {},
   "outputs": [
    {
     "ename": "ModuleNotFoundError",
     "evalue": "No module named 'matplotlib'",
     "output_type": "error",
     "traceback": [
      "\u001B[0;31m---------------------------------------------------------------------------\u001B[0m",
      "\u001B[0;31mModuleNotFoundError\u001B[0m                       Traceback (most recent call last)",
      "Cell \u001B[0;32mIn[8], line 2\u001B[0m\n\u001B[1;32m      1\u001B[0m \u001B[39mimport\u001B[39;00m \u001B[39mpandas\u001B[39;00m \u001B[39mas\u001B[39;00m \u001B[39mpd\u001B[39;00m\n\u001B[0;32m----> 2\u001B[0m \u001B[39mimport\u001B[39;00m \u001B[39mmatplotlib\u001B[39;00m\n\u001B[1;32m      3\u001B[0m \u001B[39mimport\u001B[39;00m \u001B[39mmatplotlib\u001B[39;00m\u001B[39m.\u001B[39;00m\u001B[39mpyplot\u001B[39;00m \u001B[39mas\u001B[39;00m \u001B[39mplt\u001B[39;00m\n",
      "\u001B[0;31mModuleNotFoundError\u001B[0m: No module named 'matplotlib'"
     ]
    }
   ],
   "source": [
    "import pandas as pd\n",
    "import matplotlib.pyplot as plt"
   ]
  },
  {
   "attachments": {},
   "cell_type": "markdown",
   "metadata": {},
   "source": [
    " The mean surprise in percentage per instrument divided into percentile groups"
   ]
  },
  {
   "cell_type": "code",
   "execution_count": null,
   "metadata": {},
   "outputs": [
    {
     "ename": "ModuleNotFoundError",
     "evalue": "No module named 'matplotlib'",
     "output_type": "error",
     "traceback": [
      "\u001B[0;31m---------------------------------------------------------------------------\u001B[0m",
      "\u001B[0;31mModuleNotFoundError\u001B[0m                       Traceback (most recent call last)",
      "Cell \u001B[0;32mIn[9], line 2\u001B[0m\n\u001B[1;32m      1\u001B[0m \u001B[39mimport\u001B[39;00m \u001B[39mpandas\u001B[39;00m \u001B[39mas\u001B[39;00m \u001B[39mpd\u001B[39;00m\n\u001B[0;32m----> 2\u001B[0m \u001B[39mimport\u001B[39;00m \u001B[39mmatplotlib\u001B[39;00m\u001B[39m.\u001B[39;00m\u001B[39mpyplot\u001B[39;00m \u001B[39mas\u001B[39;00m \u001B[39mplt\u001B[39;00m\n\u001B[1;32m      5\u001B[0m \u001B[39m# Calculate percentiles\u001B[39;00m\n\u001B[1;32m      6\u001B[0m percentiles \u001B[39m=\u001B[39m [\u001B[39m-\u001B[39m\u001B[39m100\u001B[39m, \u001B[39m-\u001B[39m\u001B[39m90\u001B[39m, \u001B[39m-\u001B[39m\u001B[39m80\u001B[39m, \u001B[39m-\u001B[39m\u001B[39m70\u001B[39m, \u001B[39m-\u001B[39m\u001B[39m60\u001B[39m, \u001B[39m-\u001B[39m\u001B[39m50\u001B[39m, \u001B[39m-\u001B[39m\u001B[39m40\u001B[39m, \u001B[39m-\u001B[39m\u001B[39m30\u001B[39m, \u001B[39m-\u001B[39m\u001B[39m20\u001B[39m, \u001B[39m-\u001B[39m\u001B[39m10\u001B[39m, \u001B[39m0\u001B[39m, \u001B[39m10\u001B[39m, \u001B[39m20\u001B[39m, \u001B[39m30\u001B[39m, \u001B[39m40\u001B[39m, \u001B[39m50\u001B[39m, \u001B[39m60\u001B[39m, \u001B[39m70\u001B[39m, \u001B[39m80\u001B[39m, \u001B[39m90\u001B[39m, \u001B[39m100\u001B[39m]\n",
      "\u001B[0;31mModuleNotFoundError\u001B[0m: No module named 'matplotlib'"
     ]
    }
   ],
   "source": [
    "plt.rcParams[\"figure.figsize\"] = [10, 4]\n",
    "plt.rcParams[\"figure.dpi\"] = 150\n",
    "\n",
    "# Calculate percentiles\n",
    "percentiles = [-100, -20, -10, 0, 10, 20, 30, 40, 50, 60, 70, 80, 90, 100]\n",
    "percentile_counts = pd.cut(df_averages[\"Earnings Per Share - Actual Surprise\"], percentiles).value_counts().sort_index()\n",
    "\n",
    "# Plot bar chart\n",
    "plt.bar(percentile_counts.index.astype(str), percentile_counts.values)\n",
    "plt.title('EPS Surprise Percentiles')\n",
    "plt.xlabel('Percentile Range')\n",
    "plt.ylabel('Number of Companies')\n",
    "plt.show()"
   ]
  },
  {
   "attachments": {},
   "cell_type": "markdown",
   "metadata": {},
   "source": [
    "Surprise development over time"
   ]
  },
  {
   "attachments": {},
   "cell_type": "markdown",
   "metadata": {},
   "source": [
    "**!! this plot is not so good because too many companies.... need to find better way to show surprise development over time... still working on it**"
   ]
  },
  {
   "cell_type": "code",
   "execution_count": null,
   "metadata": {},
   "outputs": [],
   "source": [
    "# Group the data by company and date and calculate the mean surprise percentag\n",
    "df_grouped = df_accuracy.groupby(['Instrument', 'Date'])['Earnings Per Share - Actual Surprise'].mean().reset_index()\n",
    "\n",
    "# Plot the data for each company as a separate line\n",
    "for company in df_grouped['Instrument'].unique():\n",
    "    company_data = df_grouped[df_grouped['Instrument'] == company]\n",
    "    plt.plot(company_data['Date'], company_data['Earnings Per Share - Actual Surprise'], label=company)\n",
    "\n",
    "# Add axis labels and legend\n",
    "plt.xlabel('Date')\n",
    "plt.ylabel('EPS Surprise (%)')\n",
    "#plt.legend(loc='upper left')\n",
    "\n",
    "# Show the plot\n",
    "plt.show()"
   ]
  }
 ],
 "metadata": {
  "kernelspec": {
   "display_name": "AnalystForecast",
   "language": "python",
   "name": "python3"
  },
  "language_info": {
   "codemirror_mode": {
    "name": "ipython",
    "version": 3
   },
   "file_extension": ".py",
   "mimetype": "text/x-python",
   "name": "python",
   "nbconvert_exporter": "python",
   "pygments_lexer": "ipython3",
   "version": "3.11.0"
  },
  "vscode": {
   "interpreter": {
    "hash": "264d128b47a19451ae7876f5ee246d3f7de9751940a5ebe47f15ec6626e5a91f"
   }
  }
 },
 "nbformat": 4,
 "nbformat_minor": 0
}
