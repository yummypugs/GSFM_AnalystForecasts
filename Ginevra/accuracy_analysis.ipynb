{
 "cells": [
  {
   "cell_type": "code",
   "execution_count": 3,
   "metadata": {
    "collapsed": false
   },
   "outputs": [],
   "source": [
    "import eikon as ek\n",
    "import pandas as pd\n",
    "import numpy as np\n",
    "import datetime\n",
    "ek.set_app_key(\"f47c330480d74c598b7e8ebc2539424e91764dd8\")"
   ]
  },
  {
   "cell_type": "markdown",
   "metadata": {
    "collapsed": false
   },
   "source": [
    "https://community.developers.refinitiv.com/questions/73493/get-eps-historical-data-for-stocks.html"
   ]
  },
  {
   "attachments": {},
   "cell_type": "markdown",
   "metadata": {
    "collapsed": false
   },
   "source": [
    "## Part 1: Accuracy  \n",
    "\n",
    "**Variables**\n",
    "\n",
    "**TR.EPSActValue** - The company's actual value normalized to reflect the I/B/E/S default currency and corporate actions (e.g. stock splits). Earnings Per Share is defined as the EPS that the contributing analyst considers to be that with which to value a security. This figure may include or exclude certain items depending on the contributing analyst's specific model.  \n",
    "\n",
    "**TR.EPSMean** - The statistical average of all broker estimates determined to be on the majority accounting basis. Earnings Per Share is defined as the EPS that the contributing analyst considers to be that with which to value a security. This figure may include or exclude certain items depending on the contributing analyst's specific model.  \n",
    "\n",
    "--> this is a analyst forecast variable\n",
    "\n",
    "**TR.EPSActSurprise** - The difference between the actual and the last mean of the period, expressed as a percentage. Earnings Per Share is defined as the EPS that the contributing analyst considers to be that with which to value a security. This figure may include or exclude certain items depending on the contributing analyst's specific model.  \n",
    "\n",
    "--> forecast error between actual EPS and TR.EPSMean  \n"
   ]
  },
  {
   "cell_type": "code",
   "execution_count": 4,
   "metadata": {},
   "outputs": [],
   "source": [
    "#accuracy_variables = ['TR.RevenueActValue.date', 'TR.RevenueActValue', \"TR.F.EV\", 'TR.EPSActValue', \"TR.EPSMean\", \"TR.EpsSmartEst\", \"TR.EPSActSurprise\", \"TR.EpsPreSurprisePct\"]\n",
    "accuracy_variables = ['TR.EPSactValue.date', 'TR.EPSActValue', \"TR.EPSMean\", \"TR.EPSActSurprise\"]"
   ]
  },
  {
   "cell_type": "code",
   "execution_count": 5,
   "metadata": {},
   "outputs": [],
   "source": [
    "df_accuracy, e = ek.get_data('0#.SPX',accuracy_variables, parameters = {'SDate':'0','EDate':'-5','Period':'FQ0','Frq':'FQ'})\n",
    "df_accuracy[\"Date\"] = pd.to_datetime(df_accuracy[\"Date\"])"
   ]
  },
  {
   "cell_type": "code",
   "execution_count": 6,
   "metadata": {},
   "outputs": [
    {
     "data": {
      "text/html": [
       "<div>\n",
       "<style scoped>\n",
       "    .dataframe tbody tr th:only-of-type {\n",
       "        vertical-align: middle;\n",
       "    }\n",
       "\n",
       "    .dataframe tbody tr th {\n",
       "        vertical-align: top;\n",
       "    }\n",
       "\n",
       "    .dataframe thead th {\n",
       "        text-align: right;\n",
       "    }\n",
       "</style>\n",
       "<table border=\"1\" class=\"dataframe\">\n",
       "  <thead>\n",
       "    <tr style=\"text-align: right;\">\n",
       "      <th></th>\n",
       "      <th>Instrument</th>\n",
       "      <th>Date</th>\n",
       "      <th>Earnings Per Share - Actual</th>\n",
       "      <th>Earnings Per Share - Mean</th>\n",
       "      <th>Earnings Per Share - Actual Surprise</th>\n",
       "    </tr>\n",
       "  </thead>\n",
       "  <tbody>\n",
       "    <tr>\n",
       "      <th>0</th>\n",
       "      <td>POOL.OQ</td>\n",
       "      <td>2023-02-16 07:00:00+00:00</td>\n",
       "      <td>1.82</td>\n",
       "      <td>1.987</td>\n",
       "      <td>-8.405</td>\n",
       "    </tr>\n",
       "    <tr>\n",
       "      <th>1</th>\n",
       "      <td>POOL.OQ</td>\n",
       "      <td>2022-10-20 07:00:00+00:00</td>\n",
       "      <td>4.78</td>\n",
       "      <td>4.5875</td>\n",
       "      <td>4.196</td>\n",
       "    </tr>\n",
       "    <tr>\n",
       "      <th>2</th>\n",
       "      <td>POOL.OQ</td>\n",
       "      <td>2022-07-21 07:00:00+00:00</td>\n",
       "      <td>7.63</td>\n",
       "      <td>7.517</td>\n",
       "      <td>1.503</td>\n",
       "    </tr>\n",
       "    <tr>\n",
       "      <th>3</th>\n",
       "      <td>POOL.OQ</td>\n",
       "      <td>2022-04-21 07:00:00+00:00</td>\n",
       "      <td>4.23</td>\n",
       "      <td>3.14867</td>\n",
       "      <td>34.342</td>\n",
       "    </tr>\n",
       "    <tr>\n",
       "      <th>4</th>\n",
       "      <td>POOL.OQ</td>\n",
       "      <td>2022-02-17 07:00:00+00:00</td>\n",
       "      <td>2.63</td>\n",
       "      <td>1.875</td>\n",
       "      <td>40.267</td>\n",
       "    </tr>\n",
       "    <tr>\n",
       "      <th>...</th>\n",
       "      <td>...</td>\n",
       "      <td>...</td>\n",
       "      <td>...</td>\n",
       "      <td>...</td>\n",
       "      <td>...</td>\n",
       "    </tr>\n",
       "    <tr>\n",
       "      <th>3003</th>\n",
       "      <td>AVY.N</td>\n",
       "      <td>2022-10-26 06:45:00+00:00</td>\n",
       "      <td>2.46</td>\n",
       "      <td>2.46323</td>\n",
       "      <td>-0.131</td>\n",
       "    </tr>\n",
       "    <tr>\n",
       "      <th>3004</th>\n",
       "      <td>AVY.N</td>\n",
       "      <td>2022-07-27 06:45:00+00:00</td>\n",
       "      <td>2.64</td>\n",
       "      <td>2.36485</td>\n",
       "      <td>11.635</td>\n",
       "    </tr>\n",
       "    <tr>\n",
       "      <th>3005</th>\n",
       "      <td>AVY.N</td>\n",
       "      <td>2022-04-26 06:45:00+00:00</td>\n",
       "      <td>2.4</td>\n",
       "      <td>2.17008</td>\n",
       "      <td>10.595</td>\n",
       "    </tr>\n",
       "    <tr>\n",
       "      <th>3006</th>\n",
       "      <td>AVY.N</td>\n",
       "      <td>2022-02-02 06:45:00+00:00</td>\n",
       "      <td>2.13</td>\n",
       "      <td>2.12375</td>\n",
       "      <td>0.294</td>\n",
       "    </tr>\n",
       "    <tr>\n",
       "      <th>3007</th>\n",
       "      <td>AVY.N</td>\n",
       "      <td>2021-10-27 06:45:00+00:00</td>\n",
       "      <td>2.14</td>\n",
       "      <td>2.0423</td>\n",
       "      <td>4.784</td>\n",
       "    </tr>\n",
       "  </tbody>\n",
       "</table>\n",
       "<p>3008 rows × 5 columns</p>\n",
       "</div>"
      ],
      "text/plain": [
       "     Instrument                      Date  Earnings Per Share - Actual  \\\n",
       "0       POOL.OQ 2023-02-16 07:00:00+00:00                         1.82   \n",
       "1       POOL.OQ 2022-10-20 07:00:00+00:00                         4.78   \n",
       "2       POOL.OQ 2022-07-21 07:00:00+00:00                         7.63   \n",
       "3       POOL.OQ 2022-04-21 07:00:00+00:00                         4.23   \n",
       "4       POOL.OQ 2022-02-17 07:00:00+00:00                         2.63   \n",
       "...         ...                       ...                          ...   \n",
       "3003      AVY.N 2022-10-26 06:45:00+00:00                         2.46   \n",
       "3004      AVY.N 2022-07-27 06:45:00+00:00                         2.64   \n",
       "3005      AVY.N 2022-04-26 06:45:00+00:00                          2.4   \n",
       "3006      AVY.N 2022-02-02 06:45:00+00:00                         2.13   \n",
       "3007      AVY.N 2021-10-27 06:45:00+00:00                         2.14   \n",
       "\n",
       "      Earnings Per Share - Mean  Earnings Per Share - Actual Surprise  \n",
       "0                         1.987                                -8.405  \n",
       "1                        4.5875                                 4.196  \n",
       "2                         7.517                                 1.503  \n",
       "3                       3.14867                                34.342  \n",
       "4                         1.875                                40.267  \n",
       "...                         ...                                   ...  \n",
       "3003                    2.46323                                -0.131  \n",
       "3004                    2.36485                                11.635  \n",
       "3005                    2.17008                                10.595  \n",
       "3006                    2.12375                                 0.294  \n",
       "3007                     2.0423                                 4.784  \n",
       "\n",
       "[3008 rows x 5 columns]"
      ]
     },
     "execution_count": 6,
     "metadata": {},
     "output_type": "execute_result"
    }
   ],
   "source": [
    "df_accuracy"
   ]
  },
  {
   "cell_type": "code",
   "execution_count": 7,
   "metadata": {},
   "outputs": [
    {
     "data": {
      "text/plain": [
       "Instrument                                           string\n",
       "Date                                    datetime64[ns, UTC]\n",
       "Earnings Per Share - Actual                         Float64\n",
       "Earnings Per Share - Mean                           Float64\n",
       "Earnings Per Share - Actual Surprise                Float64\n",
       "dtype: object"
      ]
     },
     "execution_count": 7,
     "metadata": {},
     "output_type": "execute_result"
    }
   ],
   "source": [
    "df_accuracy.dtypes"
   ]
  },
  {
   "attachments": {},
   "cell_type": "markdown",
   "metadata": {},
   "source": [
    "### Exploratory Data Analysis for Analyst Forcast Accuracy"
   ]
  },
  {
   "attachments": {},
   "cell_type": "markdown",
   "metadata": {},
   "source": [
    "Mean for the entire time frame for each instrument (just to get an overview)"
   ]
  },
  {
   "cell_type": "code",
   "execution_count": 8,
   "metadata": {},
   "outputs": [
    {
     "name": "stderr",
     "output_type": "stream",
     "text": [
      "/var/folders/tj/07dch2wn75v90cdvrd8w0xm80000gn/T/ipykernel_29861/3444857495.py:1: FutureWarning: The default value of numeric_only in DataFrameGroupBy.mean is deprecated. In a future version, numeric_only will default to False. Either specify numeric_only or select only columns which should be valid for the function.\n",
      "  df_averages = df_accuracy.groupby(\"Instrument\").mean()\n"
     ]
    },
    {
     "data": {
      "text/html": [
       "<div>\n",
       "<style scoped>\n",
       "    .dataframe tbody tr th:only-of-type {\n",
       "        vertical-align: middle;\n",
       "    }\n",
       "\n",
       "    .dataframe tbody tr th {\n",
       "        vertical-align: top;\n",
       "    }\n",
       "\n",
       "    .dataframe thead th {\n",
       "        text-align: right;\n",
       "    }\n",
       "</style>\n",
       "<table border=\"1\" class=\"dataframe\">\n",
       "  <thead>\n",
       "    <tr style=\"text-align: right;\">\n",
       "      <th></th>\n",
       "      <th>Earnings Per Share - Actual</th>\n",
       "      <th>Earnings Per Share - Mean</th>\n",
       "      <th>Earnings Per Share - Actual Surprise</th>\n",
       "    </tr>\n",
       "    <tr>\n",
       "      <th>Instrument</th>\n",
       "      <th></th>\n",
       "      <th></th>\n",
       "      <th></th>\n",
       "    </tr>\n",
       "  </thead>\n",
       "  <tbody>\n",
       "    <tr>\n",
       "      <th>A.N</th>\n",
       "      <td>1.253333</td>\n",
       "      <td>1.17476</td>\n",
       "      <td>6.625667</td>\n",
       "    </tr>\n",
       "    <tr>\n",
       "      <th>AAL.OQ</th>\n",
       "      <td>-0.351667</td>\n",
       "      <td>-0.408517</td>\n",
       "      <td>6.156333</td>\n",
       "    </tr>\n",
       "    <tr>\n",
       "      <th>AAP.N</th>\n",
       "      <td>3.138333</td>\n",
       "      <td>3.095295</td>\n",
       "      <td>2.1005</td>\n",
       "    </tr>\n",
       "    <tr>\n",
       "      <th>AAPL.OQ</th>\n",
       "      <td>1.538333</td>\n",
       "      <td>1.486917</td>\n",
       "      <td>3.306167</td>\n",
       "    </tr>\n",
       "    <tr>\n",
       "      <th>ABBV.N</th>\n",
       "      <td>3.418333</td>\n",
       "      <td>3.349458</td>\n",
       "      <td>2.076</td>\n",
       "    </tr>\n",
       "    <tr>\n",
       "      <th>...</th>\n",
       "      <td>...</td>\n",
       "      <td>...</td>\n",
       "      <td>...</td>\n",
       "    </tr>\n",
       "    <tr>\n",
       "      <th>YUM.N</th>\n",
       "      <td>1.123333</td>\n",
       "      <td>1.12382</td>\n",
       "      <td>-0.0935</td>\n",
       "    </tr>\n",
       "    <tr>\n",
       "      <th>ZBH.N</th>\n",
       "      <td>1.775</td>\n",
       "      <td>1.694997</td>\n",
       "      <td>5.18</td>\n",
       "    </tr>\n",
       "    <tr>\n",
       "      <th>ZBRA.OQ</th>\n",
       "      <td>4.43</td>\n",
       "      <td>4.276117</td>\n",
       "      <td>3.820833</td>\n",
       "    </tr>\n",
       "    <tr>\n",
       "      <th>ZION.OQ</th>\n",
       "      <td>1.431667</td>\n",
       "      <td>1.396037</td>\n",
       "      <td>2.782167</td>\n",
       "    </tr>\n",
       "    <tr>\n",
       "      <th>ZTS.N</th>\n",
       "      <td>1.188333</td>\n",
       "      <td>1.132927</td>\n",
       "      <td>5.123667</td>\n",
       "    </tr>\n",
       "  </tbody>\n",
       "</table>\n",
       "<p>503 rows × 3 columns</p>\n",
       "</div>"
      ],
      "text/plain": [
       "            Earnings Per Share - Actual  Earnings Per Share - Mean  \\\n",
       "Instrument                                                           \n",
       "A.N                            1.253333                    1.17476   \n",
       "AAL.OQ                        -0.351667                  -0.408517   \n",
       "AAP.N                          3.138333                   3.095295   \n",
       "AAPL.OQ                        1.538333                   1.486917   \n",
       "ABBV.N                         3.418333                   3.349458   \n",
       "...                                 ...                        ...   \n",
       "YUM.N                          1.123333                    1.12382   \n",
       "ZBH.N                             1.775                   1.694997   \n",
       "ZBRA.OQ                            4.43                   4.276117   \n",
       "ZION.OQ                        1.431667                   1.396037   \n",
       "ZTS.N                          1.188333                   1.132927   \n",
       "\n",
       "            Earnings Per Share - Actual Surprise  \n",
       "Instrument                                        \n",
       "A.N                                     6.625667  \n",
       "AAL.OQ                                  6.156333  \n",
       "AAP.N                                     2.1005  \n",
       "AAPL.OQ                                 3.306167  \n",
       "ABBV.N                                     2.076  \n",
       "...                                          ...  \n",
       "YUM.N                                    -0.0935  \n",
       "ZBH.N                                       5.18  \n",
       "ZBRA.OQ                                 3.820833  \n",
       "ZION.OQ                                 2.782167  \n",
       "ZTS.N                                   5.123667  \n",
       "\n",
       "[503 rows x 3 columns]"
      ]
     },
     "execution_count": 8,
     "metadata": {},
     "output_type": "execute_result"
    }
   ],
   "source": [
    "df_averages = df_accuracy.groupby(\"Instrument\").mean()\n",
    "df_averages"
   ]
  },
  {
   "attachments": {},
   "cell_type": "markdown",
   "metadata": {},
   "source": [
    "categorizing the forecast accuracy:"
   ]
  },
  {
   "cell_type": "code",
   "execution_count": null,
   "metadata": {},
   "outputs": [],
   "source": [
    "\n",
    "\n",
    "\n",
    "    "
   ]
  },
  {
   "attachments": {},
   "cell_type": "markdown",
   "metadata": {},
   "source": [
    "## Part 2: Factors\n",
    "\n",
    "### Analysts\n",
    "**TR.NumberOfAnalysts** - Number of sell-side analysts covering the security.\n",
    "\n",
    "**TR.RecMean** - Recommendation Numeric Mean based on the Standard Scale Of Strong Buy (1 ), Buy (2), Hold (3), Sell (4), and Strong Sell (5).\n",
    "\n",
    "### continue..\n",
    "\n",
    "**TR.WACCInflationAdjRiskFreeRate** -  Inflation adjusted risk free rate used is Of the primary index for the domicile country Of the company. Inflation adjusted risk free rate (Rf) is calculated from the US 10-year treasury yield plus the difference between in the 10-year forecasted inflation rate between the given country and the US.\n",
    "\n",
    "## Part 3: Regression\n",
    "\n",
    "### continue.."
   ]
  },
  {
   "cell_type": "code",
   "execution_count": 39,
   "metadata": {
    "collapsed": false
   },
   "outputs": [],
   "source": [
    "economic_story = ['TR.RevenueActValue.date', 'TR.RevenueActValue', \"TR.F.EV\", 'TR.EPSActValue', \"TR.EPSMean\", \"TR.EpsSmartEst\", \"TR.EPSActSurprise\", \"TR.NumberOfAnalysts\", \"TR.RecMean\", \"TR.WACCInflationAdjRiskFreeRate\"]\n",
    "#[\"TR.TRBCEconomicSector\", \"TR.F.EV\", \"TR.EPSActValue\", \"TR.NumberOfAnalysts\", \"TR.NumOfRecommendations\", \"TR.EpsPreSurprisePct\", \"TR.EPSActSurprise\", \"TR.RecMean\", \"TR.TRESGManagementScore\"]"
   ]
  },
  {
   "cell_type": "code",
   "execution_count": 40,
   "metadata": {
    "collapsed": false
   },
   "outputs": [
    {
     "name": "stderr",
     "output_type": "stream",
     "text": [
      "C:\\Users\\alexa\\mambaforge\\envs\\AnalystForecast\\Lib\\site-packages\\pandas\\core\\dtypes\\cast.py:1134: RuntimeWarning: invalid value encountered in cast\n",
      "  if (arr.astype(int) == arr).all():\n",
      "C:\\Users\\alexa\\mambaforge\\envs\\AnalystForecast\\Lib\\site-packages\\pandas\\core\\dtypes\\cast.py:1153: RuntimeWarning: invalid value encountered in cast\n",
      "  if (arr.astype(int) == arr).all():\n"
     ]
    }
   ],
   "source": [
    "df, e = ek.get_data('0#.SPX',economic_story, parameters = {'SDate':'0','EDate':'-5','Period':'FQ0','Frq':'FQ'})\n",
    "df[\"Date\"] = pd.to_datetime(df[\"Date\"])"
   ]
  },
  {
   "cell_type": "code",
   "execution_count": 41,
   "metadata": {
    "collapsed": false
   },
   "outputs": [
    {
     "data": {
      "text/html": [
       "<div>\n",
       "<style scoped>\n",
       "    .dataframe tbody tr th:only-of-type {\n",
       "        vertical-align: middle;\n",
       "    }\n",
       "\n",
       "    .dataframe tbody tr th {\n",
       "        vertical-align: top;\n",
       "    }\n",
       "\n",
       "    .dataframe thead th {\n",
       "        text-align: right;\n",
       "    }\n",
       "</style>\n",
       "<table border=\"1\" class=\"dataframe\">\n",
       "  <thead>\n",
       "    <tr style=\"text-align: right;\">\n",
       "      <th></th>\n",
       "      <th>Instrument</th>\n",
       "      <th>Date</th>\n",
       "      <th>Revenue - Actual</th>\n",
       "      <th>Enterprise Value</th>\n",
       "      <th>Earnings Per Share - Actual</th>\n",
       "      <th>Earnings Per Share - Mean</th>\n",
       "      <th>Earnings Per Share - SmartEstimate®</th>\n",
       "      <th>Earnings Per Share - Actual Surprise</th>\n",
       "      <th>Number of Analysts</th>\n",
       "      <th>Recommendation - Mean (1-5)</th>\n",
       "      <th>WACC Inflation Adjusted Risk Free Rate, (%)</th>\n",
       "    </tr>\n",
       "  </thead>\n",
       "  <tbody>\n",
       "    <tr>\n",
       "      <th>0</th>\n",
       "      <td>POOL.OQ</td>\n",
       "      <td>2022-10-20 07:00:00+00:00</td>\n",
       "      <td>1615339000.0</td>\n",
       "      <td>14061600372.299999</td>\n",
       "      <td>4.78</td>\n",
       "      <td>4.56</td>\n",
       "      <td>4.55802</td>\n",
       "      <td>4.825</td>\n",
       "      <td>10</td>\n",
       "      <td>2.27273</td>\n",
       "      <td>3.831224</td>\n",
       "    </tr>\n",
       "    <tr>\n",
       "      <th>1</th>\n",
       "      <td>POOL.OQ</td>\n",
       "      <td>2022-07-21 07:00:00+00:00</td>\n",
       "      <td>2055818000.0</td>\n",
       "      <td>15561870705.290001</td>\n",
       "      <td>7.63</td>\n",
       "      <td>7.517</td>\n",
       "      <td>7.54885</td>\n",
       "      <td>1.503</td>\n",
       "      <td>9</td>\n",
       "      <td>2.2</td>\n",
       "      <td>3.747421</td>\n",
       "    </tr>\n",
       "    <tr>\n",
       "      <th>2</th>\n",
       "      <td>POOL.OQ</td>\n",
       "      <td>2022-04-21 07:00:00+00:00</td>\n",
       "      <td>1412650000.0</td>\n",
       "      <td>18436823034.200001</td>\n",
       "      <td>4.23</td>\n",
       "      <td>3.14867</td>\n",
       "      <td>3.15428</td>\n",
       "      <td>34.342</td>\n",
       "      <td>9</td>\n",
       "      <td>2.0</td>\n",
       "      <td>3.092855</td>\n",
       "    </tr>\n",
       "    <tr>\n",
       "      <th>3</th>\n",
       "      <td>POOL.OQ</td>\n",
       "      <td>2022-02-17 07:00:00+00:00</td>\n",
       "      <td>1035557000.0</td>\n",
       "      <td>23848820586.0</td>\n",
       "      <td>2.63</td>\n",
       "      <td>1.875</td>\n",
       "      <td>1.88052</td>\n",
       "      <td>40.267</td>\n",
       "      <td>8</td>\n",
       "      <td>2.3</td>\n",
       "      <td>2.325202</td>\n",
       "    </tr>\n",
       "    <tr>\n",
       "      <th>4</th>\n",
       "      <td>POOL.OQ</td>\n",
       "      <td>2021-10-21 07:00:00+00:00</td>\n",
       "      <td>1411448000.0</td>\n",
       "      <td>17699543822.66</td>\n",
       "      <td>4.51</td>\n",
       "      <td>3.84833</td>\n",
       "      <td>3.86379</td>\n",
       "      <td>17.194</td>\n",
       "      <td>8</td>\n",
       "      <td>2.3</td>\n",
       "      <td>1.515266</td>\n",
       "    </tr>\n",
       "    <tr>\n",
       "      <th>...</th>\n",
       "      <td>...</td>\n",
       "      <td>...</td>\n",
       "      <td>...</td>\n",
       "      <td>...</td>\n",
       "      <td>...</td>\n",
       "      <td>...</td>\n",
       "      <td>...</td>\n",
       "      <td>...</td>\n",
       "      <td>...</td>\n",
       "      <td>...</td>\n",
       "      <td>...</td>\n",
       "    </tr>\n",
       "    <tr>\n",
       "      <th>3013</th>\n",
       "      <td>AVY.N</td>\n",
       "      <td>2022-10-26 06:45:00+00:00</td>\n",
       "      <td>2317100000.0</td>\n",
       "      <td>16225017418.9</td>\n",
       "      <td>2.46</td>\n",
       "      <td>2.46323</td>\n",
       "      <td>2.46223</td>\n",
       "      <td>-0.131</td>\n",
       "      <td>13</td>\n",
       "      <td>2.14286</td>\n",
       "      <td>3.747421</td>\n",
       "    </tr>\n",
       "    <tr>\n",
       "      <th>3014</th>\n",
       "      <td>AVY.N</td>\n",
       "      <td>2022-07-27 06:45:00+00:00</td>\n",
       "      <td>2347000000.0</td>\n",
       "      <td>16504297189.84</td>\n",
       "      <td>2.64</td>\n",
       "      <td>2.36485</td>\n",
       "      <td>2.38256</td>\n",
       "      <td>11.635</td>\n",
       "      <td>13</td>\n",
       "      <td>2.0</td>\n",
       "      <td>3.092855</td>\n",
       "    </tr>\n",
       "    <tr>\n",
       "      <th>3015</th>\n",
       "      <td>AVY.N</td>\n",
       "      <td>2022-04-26 06:45:00+00:00</td>\n",
       "      <td>2349300000.0</td>\n",
       "      <td>17537077488.32</td>\n",
       "      <td>2.4</td>\n",
       "      <td>2.17008</td>\n",
       "      <td>2.16901</td>\n",
       "      <td>10.595</td>\n",
       "      <td>12</td>\n",
       "      <td>2.06667</td>\n",
       "      <td>2.325202</td>\n",
       "    </tr>\n",
       "    <tr>\n",
       "      <th>3016</th>\n",
       "      <td>AVY.N</td>\n",
       "      <td>2022-02-02 06:45:00+00:00</td>\n",
       "      <td>2183200000.0</td>\n",
       "      <td>20873039410.310001</td>\n",
       "      <td>2.13</td>\n",
       "      <td>2.12375</td>\n",
       "      <td>2.12724</td>\n",
       "      <td>0.294</td>\n",
       "      <td>12</td>\n",
       "      <td>2.14286</td>\n",
       "      <td>1.515266</td>\n",
       "    </tr>\n",
       "    <tr>\n",
       "      <th>3017</th>\n",
       "      <td>AVY.N</td>\n",
       "      <td>2021-10-27 06:45:00+00:00</td>\n",
       "      <td>2071800000.0</td>\n",
       "      <td>20368219272.799999</td>\n",
       "      <td>2.14</td>\n",
       "      <td>2.0423</td>\n",
       "      <td>2.05616</td>\n",
       "      <td>4.784</td>\n",
       "      <td>11</td>\n",
       "      <td>2.15385</td>\n",
       "      <td>1.527139</td>\n",
       "    </tr>\n",
       "  </tbody>\n",
       "</table>\n",
       "<p>3018 rows × 11 columns</p>\n",
       "</div>"
      ],
      "text/plain": [
       "     Instrument                      Date  Revenue - Actual  \\\n",
       "0       POOL.OQ 2022-10-20 07:00:00+00:00      1615339000.0   \n",
       "1       POOL.OQ 2022-07-21 07:00:00+00:00      2055818000.0   \n",
       "2       POOL.OQ 2022-04-21 07:00:00+00:00      1412650000.0   \n",
       "3       POOL.OQ 2022-02-17 07:00:00+00:00      1035557000.0   \n",
       "4       POOL.OQ 2021-10-21 07:00:00+00:00      1411448000.0   \n",
       "...         ...                       ...               ...   \n",
       "3013      AVY.N 2022-10-26 06:45:00+00:00      2317100000.0   \n",
       "3014      AVY.N 2022-07-27 06:45:00+00:00      2347000000.0   \n",
       "3015      AVY.N 2022-04-26 06:45:00+00:00      2349300000.0   \n",
       "3016      AVY.N 2022-02-02 06:45:00+00:00      2183200000.0   \n",
       "3017      AVY.N 2021-10-27 06:45:00+00:00      2071800000.0   \n",
       "\n",
       "        Enterprise Value  Earnings Per Share - Actual  \\\n",
       "0     14061600372.299999                         4.78   \n",
       "1     15561870705.290001                         7.63   \n",
       "2     18436823034.200001                         4.23   \n",
       "3          23848820586.0                         2.63   \n",
       "4         17699543822.66                         4.51   \n",
       "...                  ...                          ...   \n",
       "3013       16225017418.9                         2.46   \n",
       "3014      16504297189.84                         2.64   \n",
       "3015      17537077488.32                          2.4   \n",
       "3016  20873039410.310001                         2.13   \n",
       "3017  20368219272.799999                         2.14   \n",
       "\n",
       "      Earnings Per Share - Mean  Earnings Per Share - SmartEstimate®  \\\n",
       "0                          4.56                              4.55802   \n",
       "1                         7.517                              7.54885   \n",
       "2                       3.14867                              3.15428   \n",
       "3                         1.875                              1.88052   \n",
       "4                       3.84833                              3.86379   \n",
       "...                         ...                                  ...   \n",
       "3013                    2.46323                              2.46223   \n",
       "3014                    2.36485                              2.38256   \n",
       "3015                    2.17008                              2.16901   \n",
       "3016                    2.12375                              2.12724   \n",
       "3017                     2.0423                              2.05616   \n",
       "\n",
       "      Earnings Per Share - Actual Surprise  Number of Analysts  \\\n",
       "0                                    4.825                  10   \n",
       "1                                    1.503                   9   \n",
       "2                                   34.342                   9   \n",
       "3                                   40.267                   8   \n",
       "4                                   17.194                   8   \n",
       "...                                    ...                 ...   \n",
       "3013                                -0.131                  13   \n",
       "3014                                11.635                  13   \n",
       "3015                                10.595                  12   \n",
       "3016                                 0.294                  12   \n",
       "3017                                 4.784                  11   \n",
       "\n",
       "      Recommendation - Mean (1-5)  WACC Inflation Adjusted Risk Free Rate, (%)  \n",
       "0                         2.27273                                     3.831224  \n",
       "1                             2.2                                     3.747421  \n",
       "2                             2.0                                     3.092855  \n",
       "3                             2.3                                     2.325202  \n",
       "4                             2.3                                     1.515266  \n",
       "...                           ...                                          ...  \n",
       "3013                      2.14286                                     3.747421  \n",
       "3014                          2.0                                     3.092855  \n",
       "3015                      2.06667                                     2.325202  \n",
       "3016                      2.14286                                     1.515266  \n",
       "3017                      2.15385                                     1.527139  \n",
       "\n",
       "[3018 rows x 11 columns]"
      ]
     },
     "execution_count": 41,
     "metadata": {},
     "output_type": "execute_result"
    }
   ],
   "source": [
    "df"
   ]
  },
  {
   "cell_type": "code",
   "execution_count": 42,
   "metadata": {
    "collapsed": false
   },
   "outputs": [
    {
     "data": {
      "text/plain": [
       "1.343424366478545"
      ]
     },
     "execution_count": 42,
     "metadata": {},
     "output_type": "execute_result"
    }
   ],
   "source": [
    "4.23/3.14867"
   ]
  },
  {
   "cell_type": "code",
   "execution_count": 43,
   "metadata": {
    "collapsed": false
   },
   "outputs": [
    {
     "data": {
      "text/plain": [
       "Instrument                                                  string\n",
       "Date                                           datetime64[ns, UTC]\n",
       "Revenue - Actual                                           Float64\n",
       "Enterprise Value                                           Float64\n",
       "Earnings Per Share - Actual                                Float64\n",
       "Earnings Per Share - Mean                                  Float64\n",
       "Earnings Per Share - SmartEstimate®                        Float64\n",
       "Earnings Per Share - Actual Surprise                       Float64\n",
       "Number of Analysts                                           Int64\n",
       "Recommendation - Mean (1-5)                                Float64\n",
       "WACC Inflation Adjusted Risk Free Rate, (%)                Float64\n",
       "dtype: object"
      ]
     },
     "execution_count": 43,
     "metadata": {},
     "output_type": "execute_result"
    }
   ],
   "source": [
    "df.dtypes"
   ]
  },
  {
   "cell_type": "code",
   "execution_count": 43,
   "metadata": {
    "collapsed": false
   },
   "outputs": [],
   "source": []
  },
  {
   "cell_type": "code",
   "execution_count": 43,
   "metadata": {
    "collapsed": false
   },
   "outputs": [],
   "source": []
  },
  {
   "cell_type": "code",
   "execution_count": 43,
   "metadata": {
    "collapsed": false
   },
   "outputs": [],
   "source": []
  }
 ],
 "metadata": {
  "kernelspec": {
   "display_name": "AnalystForecast",
   "language": "python",
   "name": "python3"
  },
  "language_info": {
   "codemirror_mode": {
    "name": "ipython",
    "version": 3
   },
   "file_extension": ".py",
   "mimetype": "text/x-python",
   "name": "python",
   "nbconvert_exporter": "python",
   "pygments_lexer": "ipython3",
   "version": "3.11.0"
  },
  "vscode": {
   "interpreter": {
    "hash": "264d128b47a19451ae7876f5ee246d3f7de9751940a5ebe47f15ec6626e5a91f"
   }
  }
 },
 "nbformat": 4,
 "nbformat_minor": 0
}
