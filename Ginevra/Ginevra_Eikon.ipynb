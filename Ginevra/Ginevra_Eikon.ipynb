{
 "cells": [
  {
   "cell_type": "code",
   "execution_count": 10,
   "outputs": [],
   "source": [
    "import eikon as ek\n",
    "import pandas as pd\n",
    "import numpy as np\n",
    "ek.set_app_key(\"69de0ce7c5e2468e90a6058ce79f6558ebe3ee30\")"
   ],
   "metadata": {
    "collapsed": false
   }
  },
  {
   "cell_type": "code",
   "execution_count": 11,
   "outputs": [],
   "source": [
    "# df = ek.get_timeseries([\"MSFT.O\"],\n",
    "#                        start_date=\"2016-01-01\",\n",
    "#                        end_date=\"2019-01-10\")\n",
    "# df"
   ],
   "metadata": {
    "collapsed": false
   }
  },
  {
   "cell_type": "markdown",
   "source": [
    "https://developers.refinitiv.com/en/api-catalog/eikon/eikon-data-api/tutorials#fundamentals-api-rating-transition-matrix\n",
    "# Data Item Browser\n",
    "TR.CommonName\n",
    "TR.TRBCEconomicSector\n",
    "TR.F.EV enterprise value\n",
    "\n",
    "### Earnings\n",
    "\n",
    "EARNINGS - Latest reported earnings per share.\n",
    "\n",
    "TR.EPSActValue(Period=FY0) - The company's actual value normalized to reflect the I/B/E/S default currency and corporate actions (e.g. stock splits). Earnings Per Share is defined as the EPS that the contributing analyst considers to be that with which to value a security. This figure may include or exclude certain items depending on the contributing analyst's specific model.\n",
    "\n",
    "### Number of analysts\n",
    "\n",
    "TR.NumberOfAnalysts - Number of sell-side analysts covering the security.\n",
    "\n",
    "### Revising up or down\n",
    "\n",
    "TR.NumEstRevisingDown(Period=FY1) -\n",
    "TR.NumEstRevisingUp(Period=FY1) - A count of the number of analysts whose current estimate is higher than their estimate at a distinct point in the past. In the case of the number revising up in 30 days, for example, we compare the analyst's current estimate to his or her estimate 30 days prior to the data-through date. We do not count an analyst as revising up if, for example, her estimate 30 days ago was \\$1.00 and her current estimate is \\$1.00, even if she raised her estimate to \\$1.10 during the 30 day period and subsequently lowered it back to \\$1.00.\n",
    "\n",
    "TR.EPSAvgRevisionPct(Period=FY1) - The percent amount Of the average revision among those analysts who revised their estimates\n",
    "during the last 30 days.\n",
    "\n",
    "### EPS Surprise\n",
    "\n",
    "TR.EpsPreSurprisePct(Period=FY1) - The difference between the mean estimate and the SmartEstimate, expressed as a percentage. Earnings Per Share is defined as the EPS that the contributing analyst considers to be that with which to value a security. This figure may include or exclude certain items depending on the contributing analyst's specific model.\n",
    "\n",
    "TR.EPSActSurprise(Period=FY0) - The difference between the actual and the last mean of the period, expressed as a percentage. Earnings Per Share is defined as the EPS that the contributing analyst considers to be that with which to value a security. This figure may include or exclude certain items depending on the contributing analyst's specific model.\n",
    "\n",
    "\n",
    "----- R.RevenueLIAccuracyScore(Period=FY1) - Revenue SmartEstimate Accuracy score - not good\n",
    "----- TR.EPSLIAccuracyScore(Period=FY1) - EPS SmartEstimate Accuracy score - not good\n"
   ],
   "metadata": {
    "collapsed": false
   }
  },
  {
   "cell_type": "code",
   "execution_count": 12,
   "outputs": [],
   "source": [
    "economic_story = [\"TR.CommonName\", \"TR.TRBCEconomicSector\", \"TR.F.EV\", \"EARNINGS\", \"TR.EPSActValue(Period=FY0)\", \"TR.NumberOfAnalysts\", \"TR.EpsPreSurprisePct\", \"TR.EPSActSurprise\", ]"
   ],
   "metadata": {
    "collapsed": false
   }
  },
  {
   "cell_type": "code",
   "execution_count": 8,
   "outputs": [
    {
     "name": "stderr",
     "output_type": "stream",
     "text": [
      "C:\\Users\\alexa\\mambaforge\\envs\\AnalystForecast\\Lib\\site-packages\\pandas\\core\\dtypes\\cast.py:1134: RuntimeWarning: invalid value encountered in cast\n",
      "  if (arr.astype(int) == arr).all():\n",
      "C:\\Users\\alexa\\mambaforge\\envs\\AnalystForecast\\Lib\\site-packages\\pandas\\core\\dtypes\\cast.py:1153: RuntimeWarning: invalid value encountered in cast\n",
      "  if (arr.astype(int) == arr).all():\n"
     ]
    }
   ],
   "source": [
    "ratings_data, err = ek.get_data(instruments=['0#.SPX'],\n",
    "                                fields=economic_story)"
   ],
   "metadata": {
    "collapsed": false
   }
  },
  {
   "cell_type": "code",
   "execution_count": 9,
   "outputs": [
    {
     "data": {
      "text/plain": "   Instrument               Company Common Name TRBC Economic Sector Name  \\\n0     POOL.OQ                         Pool Corp        Consumer Cyclicals   \n1     CHRW.OQ         CH Robinson Worldwide Inc               Industrials   \n2       AJG.N         Arthur J. Gallagher & Co.                Financials   \n3       CNP.N            CenterPoint Energy Inc                 Utilities   \n4      AMCR.N                         Amcor PLC           Basic Materials   \n5        WM.N              Waste Management Inc               Industrials   \n6        BA.N                         Boeing Co               Industrials   \n7      FOX.OQ                          Fox Corp        Consumer Cyclicals   \n8       LIN.N                         Linde PLC           Basic Materials   \n9        WY.N                   Weyerhaeuser Co               Real Estate   \n10      MCD.N                   McDonald's Corp        Consumer Cyclicals   \n11       HD.N                    Home Depot Inc        Consumer Cyclicals   \n12      SPG.N          Simon Property Group Inc               Real Estate   \n13    HBAN.OQ         Huntington Bancshares Inc                Financials   \n14    QRVO.OQ                         Qorvo Inc                Technology   \n15      LVS.N              Las Vegas Sands Corp        Consumer Cyclicals   \n16     CTRA.N                Coterra Energy Inc                    Energy   \n17      ON.OQ             ON Semiconductor Corp                Technology   \n18      AIG.N  American International Group Inc                Financials   \n19      AIZ.N                      Assurant Inc                Financials   \n20     CARR.N               Carrier Global Corp               Industrials   \n21    EVRG.OQ                        Evergy Inc                 Utilities   \n22    COST.OQ             Costco Wholesale Corp        Consumer Cyclicals   \n23      MCO.N                      Moody's Corp               Industrials   \n24      DIS.N                    Walt Disney Co        Consumer Cyclicals   \n25    PAYX.OQ                       Paychex Inc               Industrials   \n26     AMD.OQ        Advanced Micro Devices Inc                Technology   \n27     REG.OQ              Regency Centers Corp               Real Estate   \n28      DHI.N                    D R Horton Inc        Consumer Cyclicals   \n29      TRV.N           Travelers Companies Inc                Financials   \n30      BIO.N          Bio Rad Laboratories Inc                Healthcare   \n31      MOS.N                         Mosaic Co           Basic Materials   \n32      BWA.N                    Borgwarner Inc        Consumer Cyclicals   \n33     WDC.OQ              Western Digital Corp                Technology   \n34      VTR.N                        Ventas Inc               Real Estate   \n35      IVZ.N                       Invesco Ltd                Financials   \n36    ZBRA.OQ           Zebra Technologies Corp                Technology   \n37    AMAT.OQ             Applied Materials Inc                Technology   \n38     STX.OQ   Seagate Technology Holdings PLC                Technology   \n39      FDS.N      Factset Research Systems Inc               Industrials   \n40      SYK.N                      Stryker Corp                Healthcare   \n41    VRSN.OQ                      Verisign Inc                Technology   \n42    TECH.OQ                   Bio-Techne Corp                Healthcare   \n43      NVR.N                           NVR Inc        Consumer Cyclicals   \n44     BBWI.N             Bath & Body Works Inc        Consumer Cyclicals   \n45      LOW.N              Lowe's Companies Inc        Consumer Cyclicals   \n46      BSX.N            Boston Scientific Corp                Healthcare   \n47      SYY.N                        Sysco Corp    Consumer Non-Cyclicals   \n48      FCX.N              Freeport-McMoRan Inc           Basic Materials   \n49      MAS.N                        Masco Corp        Consumer Cyclicals   \n\n       Enterprise Value  EARNINGS  Earnings Per Share - Actual  \\\n0         23848820586.0   19.5579                        15.92   \n1        12533700890.08    7.2908                         7.62   \n2         45570773600.0    5.1985                         7.73   \n3    32775642635.939999    1.4411                         1.64   \n4    24453390118.290001    0.7116                        0.805   \n5    79043646820.479996    5.3929                         5.59   \n6   153344838244.079987    -8.298                       -11.06   \n7    19532199062.740002       0.0                         2.79   \n8   174500461847.019989    8.2391                        12.29   \n9         26285427000.0    2.5198                         3.02   \n10   226335368258.76001    8.3441                         10.1   \n11  420498427937.580017    16.594                        15.53   \n12   65350928464.120003    6.5202                         6.52   \n13        32464552995.5    1.4452                         1.45   \n14       14319619996.77    4.2594                        12.35   \n15   46175472118.199997   -1.3953                         -1.2   \n16        17617975141.0    4.9146                         2.25   \n17   27300458248.009998    4.2496                         5.33   \n18   78616721990.880005   16.8536                         5.12   \n19        8736998510.74    5.0427                        11.13   \n20       40135787493.75    4.0906                         2.34   \n21        26915358247.0    3.4649                         3.54   \n22  232805555537.179993   13.2302                        13.14   \n23        56743184000.0    7.4298                         8.57   \n24  222349040104.410004    1.8179                         3.53   \n25        44285130000.0    4.0423                         3.77   \n26  101044308612.740005    0.8402                          3.5   \n27                 <NA>    2.6505                         2.81   \n28   27080936099.049999   16.1277                        16.51   \n29       51229817462.25   11.7489                        12.42   \n30   21580421945.982201  -201.803                        15.66   \n31   18545152396.599998    10.229                         5.04   \n32        12598695682.5    3.9896                          4.6   \n33   18292746657.560001   -0.2862                         8.22   \n34       30250220224.25   -0.1196                        -0.12   \n35        16653752000.0    1.4885                         1.68   \n36        32451801440.0    8.7606                        18.45   \n37   80267957304.440002    7.4375                          7.7   \n38   19872569818.209999    2.8025                         8.18   \n39   17904030064.279999   10.9554                        13.43   \n40       103635016000.0    6.1703                         9.34   \n41   22587520720.639999    6.2432                         6.24   \n42   13608026253.040001    1.6076                       1.9725   \n43   13133333458.459999   492.175                       491.82   \n44        16960558124.5    3.8229                         4.51   \n45       181037300000.0   10.1983                        12.04   \n46                 <NA>    0.4467                         1.75   \n47   53790356437.120003    2.7745                         3.25   \n48        66104433258.0    2.3763                         2.44   \n49       13462444170.41    3.6225                         3.77   \n\n    Number of Analysts  Earnings Per Share - Predicted Surprise PCT  \\\n0                   11                                        0.052   \n1                   29                                       -3.539   \n2                   17                                       -0.502   \n3                   17                                        0.451   \n4                    8                                       -0.002   \n5                   21                                        -0.12   \n6                   26                                     -149.613   \n7                   24                                       -0.033   \n8                   26                                        0.941   \n9                   11                                         -3.6   \n10                  36                                       -0.394   \n11                  38                                        0.033   \n12                   9                                          0.0   \n13                  20                                        1.544   \n14                  28                                        0.127   \n15                  18                                       -7.323   \n16                  27                                        0.085   \n17                  30                                        0.168   \n18                  19                                        0.393   \n19                   7                                        0.293   \n20                  24                                       -0.043   \n21                   9                                        0.925   \n22                  37                                         0.42   \n23                  21                                       -0.717   \n24                  30                                        1.239   \n25                  20                                       -0.039   \n26                  40                                       -0.671   \n27                  10                                        1.049   \n28                  23                                        0.245   \n29                  22                                       -0.103   \n30                   5                                       -0.139   \n31                  23                                        0.088   \n32                  20                                       -0.553   \n33                  28                                        1.807   \n34                  11                                      -113.07   \n35                  15                                       -0.628   \n36                  14                                        0.008   \n37                  31                                         1.52   \n38                  25                                        1.238   \n39                  17                                       -0.025   \n40                  31                                       -0.064   \n41                   4                                        0.559   \n42                  14                                       -0.265   \n43                   7                                        1.153   \n44                  21                                        0.791   \n45                  37                                        0.082   \n46                  30                                         0.04   \n47                  19                                       -0.049   \n48                  21                                       -1.421   \n49                  23                                       -2.013   \n\n    Earnings Per Share - Actual Surprise  \n0                                  4.806  \n1                                 -3.217  \n2                                 -0.177  \n3                                  10.08  \n4                                  0.405  \n5                                 -2.099  \n6                                 -24.67  \n7                                  0.108  \n8                                  2.062  \n9                                  1.532  \n10                                 1.155  \n11                                  0.33  \n12                                 8.909  \n13                                 0.805  \n14                                 1.675  \n15                                -9.453  \n16                               -22.878  \n17                                 0.827  \n18                                 8.314  \n19                                 4.175  \n20                                 0.091  \n21                                -0.125  \n22                                 0.084  \n23                                 2.353  \n24                                -7.017  \n25                                 0.647  \n26                                -0.196  \n27                                 5.634  \n28                                -2.235  \n29                                 -0.89  \n30                                 0.425  \n31                                -2.757  \n32                                  4.49  \n33                                 0.485  \n34                               -2900.0  \n35                                 1.539  \n36                                 0.618  \n37                                 3.636  \n38                                -3.397  \n39                                -0.784  \n40                                 1.802  \n41                                 1.505  \n42                                -0.373  \n43                                  7.58  \n44                                 0.231  \n45                                 0.684  \n46                                 0.945  \n47                                 0.213  \n48                                 3.094  \n49                                 0.682  ",
      "text/html": "<div>\n<style scoped>\n    .dataframe tbody tr th:only-of-type {\n        vertical-align: middle;\n    }\n\n    .dataframe tbody tr th {\n        vertical-align: top;\n    }\n\n    .dataframe thead th {\n        text-align: right;\n    }\n</style>\n<table border=\"1\" class=\"dataframe\">\n  <thead>\n    <tr style=\"text-align: right;\">\n      <th></th>\n      <th>Instrument</th>\n      <th>Company Common Name</th>\n      <th>TRBC Economic Sector Name</th>\n      <th>Enterprise Value</th>\n      <th>EARNINGS</th>\n      <th>Earnings Per Share - Actual</th>\n      <th>Number of Analysts</th>\n      <th>Earnings Per Share - Predicted Surprise PCT</th>\n      <th>Earnings Per Share - Actual Surprise</th>\n    </tr>\n  </thead>\n  <tbody>\n    <tr>\n      <th>0</th>\n      <td>POOL.OQ</td>\n      <td>Pool Corp</td>\n      <td>Consumer Cyclicals</td>\n      <td>23848820586.0</td>\n      <td>19.5579</td>\n      <td>15.92</td>\n      <td>11</td>\n      <td>0.052</td>\n      <td>4.806</td>\n    </tr>\n    <tr>\n      <th>1</th>\n      <td>CHRW.OQ</td>\n      <td>CH Robinson Worldwide Inc</td>\n      <td>Industrials</td>\n      <td>12533700890.08</td>\n      <td>7.2908</td>\n      <td>7.62</td>\n      <td>29</td>\n      <td>-3.539</td>\n      <td>-3.217</td>\n    </tr>\n    <tr>\n      <th>2</th>\n      <td>AJG.N</td>\n      <td>Arthur J. Gallagher &amp; Co.</td>\n      <td>Financials</td>\n      <td>45570773600.0</td>\n      <td>5.1985</td>\n      <td>7.73</td>\n      <td>17</td>\n      <td>-0.502</td>\n      <td>-0.177</td>\n    </tr>\n    <tr>\n      <th>3</th>\n      <td>CNP.N</td>\n      <td>CenterPoint Energy Inc</td>\n      <td>Utilities</td>\n      <td>32775642635.939999</td>\n      <td>1.4411</td>\n      <td>1.64</td>\n      <td>17</td>\n      <td>0.451</td>\n      <td>10.08</td>\n    </tr>\n    <tr>\n      <th>4</th>\n      <td>AMCR.N</td>\n      <td>Amcor PLC</td>\n      <td>Basic Materials</td>\n      <td>24453390118.290001</td>\n      <td>0.7116</td>\n      <td>0.805</td>\n      <td>8</td>\n      <td>-0.002</td>\n      <td>0.405</td>\n    </tr>\n    <tr>\n      <th>5</th>\n      <td>WM.N</td>\n      <td>Waste Management Inc</td>\n      <td>Industrials</td>\n      <td>79043646820.479996</td>\n      <td>5.3929</td>\n      <td>5.59</td>\n      <td>21</td>\n      <td>-0.12</td>\n      <td>-2.099</td>\n    </tr>\n    <tr>\n      <th>6</th>\n      <td>BA.N</td>\n      <td>Boeing Co</td>\n      <td>Industrials</td>\n      <td>153344838244.079987</td>\n      <td>-8.298</td>\n      <td>-11.06</td>\n      <td>26</td>\n      <td>-149.613</td>\n      <td>-24.67</td>\n    </tr>\n    <tr>\n      <th>7</th>\n      <td>FOX.OQ</td>\n      <td>Fox Corp</td>\n      <td>Consumer Cyclicals</td>\n      <td>19532199062.740002</td>\n      <td>0.0</td>\n      <td>2.79</td>\n      <td>24</td>\n      <td>-0.033</td>\n      <td>0.108</td>\n    </tr>\n    <tr>\n      <th>8</th>\n      <td>LIN.N</td>\n      <td>Linde PLC</td>\n      <td>Basic Materials</td>\n      <td>174500461847.019989</td>\n      <td>8.2391</td>\n      <td>12.29</td>\n      <td>26</td>\n      <td>0.941</td>\n      <td>2.062</td>\n    </tr>\n    <tr>\n      <th>9</th>\n      <td>WY.N</td>\n      <td>Weyerhaeuser Co</td>\n      <td>Real Estate</td>\n      <td>26285427000.0</td>\n      <td>2.5198</td>\n      <td>3.02</td>\n      <td>11</td>\n      <td>-3.6</td>\n      <td>1.532</td>\n    </tr>\n    <tr>\n      <th>10</th>\n      <td>MCD.N</td>\n      <td>McDonald's Corp</td>\n      <td>Consumer Cyclicals</td>\n      <td>226335368258.76001</td>\n      <td>8.3441</td>\n      <td>10.1</td>\n      <td>36</td>\n      <td>-0.394</td>\n      <td>1.155</td>\n    </tr>\n    <tr>\n      <th>11</th>\n      <td>HD.N</td>\n      <td>Home Depot Inc</td>\n      <td>Consumer Cyclicals</td>\n      <td>420498427937.580017</td>\n      <td>16.594</td>\n      <td>15.53</td>\n      <td>38</td>\n      <td>0.033</td>\n      <td>0.33</td>\n    </tr>\n    <tr>\n      <th>12</th>\n      <td>SPG.N</td>\n      <td>Simon Property Group Inc</td>\n      <td>Real Estate</td>\n      <td>65350928464.120003</td>\n      <td>6.5202</td>\n      <td>6.52</td>\n      <td>9</td>\n      <td>0.0</td>\n      <td>8.909</td>\n    </tr>\n    <tr>\n      <th>13</th>\n      <td>HBAN.OQ</td>\n      <td>Huntington Bancshares Inc</td>\n      <td>Financials</td>\n      <td>32464552995.5</td>\n      <td>1.4452</td>\n      <td>1.45</td>\n      <td>20</td>\n      <td>1.544</td>\n      <td>0.805</td>\n    </tr>\n    <tr>\n      <th>14</th>\n      <td>QRVO.OQ</td>\n      <td>Qorvo Inc</td>\n      <td>Technology</td>\n      <td>14319619996.77</td>\n      <td>4.2594</td>\n      <td>12.35</td>\n      <td>28</td>\n      <td>0.127</td>\n      <td>1.675</td>\n    </tr>\n    <tr>\n      <th>15</th>\n      <td>LVS.N</td>\n      <td>Las Vegas Sands Corp</td>\n      <td>Consumer Cyclicals</td>\n      <td>46175472118.199997</td>\n      <td>-1.3953</td>\n      <td>-1.2</td>\n      <td>18</td>\n      <td>-7.323</td>\n      <td>-9.453</td>\n    </tr>\n    <tr>\n      <th>16</th>\n      <td>CTRA.N</td>\n      <td>Coterra Energy Inc</td>\n      <td>Energy</td>\n      <td>17617975141.0</td>\n      <td>4.9146</td>\n      <td>2.25</td>\n      <td>27</td>\n      <td>0.085</td>\n      <td>-22.878</td>\n    </tr>\n    <tr>\n      <th>17</th>\n      <td>ON.OQ</td>\n      <td>ON Semiconductor Corp</td>\n      <td>Technology</td>\n      <td>27300458248.009998</td>\n      <td>4.2496</td>\n      <td>5.33</td>\n      <td>30</td>\n      <td>0.168</td>\n      <td>0.827</td>\n    </tr>\n    <tr>\n      <th>18</th>\n      <td>AIG.N</td>\n      <td>American International Group Inc</td>\n      <td>Financials</td>\n      <td>78616721990.880005</td>\n      <td>16.8536</td>\n      <td>5.12</td>\n      <td>19</td>\n      <td>0.393</td>\n      <td>8.314</td>\n    </tr>\n    <tr>\n      <th>19</th>\n      <td>AIZ.N</td>\n      <td>Assurant Inc</td>\n      <td>Financials</td>\n      <td>8736998510.74</td>\n      <td>5.0427</td>\n      <td>11.13</td>\n      <td>7</td>\n      <td>0.293</td>\n      <td>4.175</td>\n    </tr>\n    <tr>\n      <th>20</th>\n      <td>CARR.N</td>\n      <td>Carrier Global Corp</td>\n      <td>Industrials</td>\n      <td>40135787493.75</td>\n      <td>4.0906</td>\n      <td>2.34</td>\n      <td>24</td>\n      <td>-0.043</td>\n      <td>0.091</td>\n    </tr>\n    <tr>\n      <th>21</th>\n      <td>EVRG.OQ</td>\n      <td>Evergy Inc</td>\n      <td>Utilities</td>\n      <td>26915358247.0</td>\n      <td>3.4649</td>\n      <td>3.54</td>\n      <td>9</td>\n      <td>0.925</td>\n      <td>-0.125</td>\n    </tr>\n    <tr>\n      <th>22</th>\n      <td>COST.OQ</td>\n      <td>Costco Wholesale Corp</td>\n      <td>Consumer Cyclicals</td>\n      <td>232805555537.179993</td>\n      <td>13.2302</td>\n      <td>13.14</td>\n      <td>37</td>\n      <td>0.42</td>\n      <td>0.084</td>\n    </tr>\n    <tr>\n      <th>23</th>\n      <td>MCO.N</td>\n      <td>Moody's Corp</td>\n      <td>Industrials</td>\n      <td>56743184000.0</td>\n      <td>7.4298</td>\n      <td>8.57</td>\n      <td>21</td>\n      <td>-0.717</td>\n      <td>2.353</td>\n    </tr>\n    <tr>\n      <th>24</th>\n      <td>DIS.N</td>\n      <td>Walt Disney Co</td>\n      <td>Consumer Cyclicals</td>\n      <td>222349040104.410004</td>\n      <td>1.8179</td>\n      <td>3.53</td>\n      <td>30</td>\n      <td>1.239</td>\n      <td>-7.017</td>\n    </tr>\n    <tr>\n      <th>25</th>\n      <td>PAYX.OQ</td>\n      <td>Paychex Inc</td>\n      <td>Industrials</td>\n      <td>44285130000.0</td>\n      <td>4.0423</td>\n      <td>3.77</td>\n      <td>20</td>\n      <td>-0.039</td>\n      <td>0.647</td>\n    </tr>\n    <tr>\n      <th>26</th>\n      <td>AMD.OQ</td>\n      <td>Advanced Micro Devices Inc</td>\n      <td>Technology</td>\n      <td>101044308612.740005</td>\n      <td>0.8402</td>\n      <td>3.5</td>\n      <td>40</td>\n      <td>-0.671</td>\n      <td>-0.196</td>\n    </tr>\n    <tr>\n      <th>27</th>\n      <td>REG.OQ</td>\n      <td>Regency Centers Corp</td>\n      <td>Real Estate</td>\n      <td>&lt;NA&gt;</td>\n      <td>2.6505</td>\n      <td>2.81</td>\n      <td>10</td>\n      <td>1.049</td>\n      <td>5.634</td>\n    </tr>\n    <tr>\n      <th>28</th>\n      <td>DHI.N</td>\n      <td>D R Horton Inc</td>\n      <td>Consumer Cyclicals</td>\n      <td>27080936099.049999</td>\n      <td>16.1277</td>\n      <td>16.51</td>\n      <td>23</td>\n      <td>0.245</td>\n      <td>-2.235</td>\n    </tr>\n    <tr>\n      <th>29</th>\n      <td>TRV.N</td>\n      <td>Travelers Companies Inc</td>\n      <td>Financials</td>\n      <td>51229817462.25</td>\n      <td>11.7489</td>\n      <td>12.42</td>\n      <td>22</td>\n      <td>-0.103</td>\n      <td>-0.89</td>\n    </tr>\n    <tr>\n      <th>30</th>\n      <td>BIO.N</td>\n      <td>Bio Rad Laboratories Inc</td>\n      <td>Healthcare</td>\n      <td>21580421945.982201</td>\n      <td>-201.803</td>\n      <td>15.66</td>\n      <td>5</td>\n      <td>-0.139</td>\n      <td>0.425</td>\n    </tr>\n    <tr>\n      <th>31</th>\n      <td>MOS.N</td>\n      <td>Mosaic Co</td>\n      <td>Basic Materials</td>\n      <td>18545152396.599998</td>\n      <td>10.229</td>\n      <td>5.04</td>\n      <td>23</td>\n      <td>0.088</td>\n      <td>-2.757</td>\n    </tr>\n    <tr>\n      <th>32</th>\n      <td>BWA.N</td>\n      <td>Borgwarner Inc</td>\n      <td>Consumer Cyclicals</td>\n      <td>12598695682.5</td>\n      <td>3.9896</td>\n      <td>4.6</td>\n      <td>20</td>\n      <td>-0.553</td>\n      <td>4.49</td>\n    </tr>\n    <tr>\n      <th>33</th>\n      <td>WDC.OQ</td>\n      <td>Western Digital Corp</td>\n      <td>Technology</td>\n      <td>18292746657.560001</td>\n      <td>-0.2862</td>\n      <td>8.22</td>\n      <td>28</td>\n      <td>1.807</td>\n      <td>0.485</td>\n    </tr>\n    <tr>\n      <th>34</th>\n      <td>VTR.N</td>\n      <td>Ventas Inc</td>\n      <td>Real Estate</td>\n      <td>30250220224.25</td>\n      <td>-0.1196</td>\n      <td>-0.12</td>\n      <td>11</td>\n      <td>-113.07</td>\n      <td>-2900.0</td>\n    </tr>\n    <tr>\n      <th>35</th>\n      <td>IVZ.N</td>\n      <td>Invesco Ltd</td>\n      <td>Financials</td>\n      <td>16653752000.0</td>\n      <td>1.4885</td>\n      <td>1.68</td>\n      <td>15</td>\n      <td>-0.628</td>\n      <td>1.539</td>\n    </tr>\n    <tr>\n      <th>36</th>\n      <td>ZBRA.OQ</td>\n      <td>Zebra Technologies Corp</td>\n      <td>Technology</td>\n      <td>32451801440.0</td>\n      <td>8.7606</td>\n      <td>18.45</td>\n      <td>14</td>\n      <td>0.008</td>\n      <td>0.618</td>\n    </tr>\n    <tr>\n      <th>37</th>\n      <td>AMAT.OQ</td>\n      <td>Applied Materials Inc</td>\n      <td>Technology</td>\n      <td>80267957304.440002</td>\n      <td>7.4375</td>\n      <td>7.7</td>\n      <td>31</td>\n      <td>1.52</td>\n      <td>3.636</td>\n    </tr>\n    <tr>\n      <th>38</th>\n      <td>STX.OQ</td>\n      <td>Seagate Technology Holdings PLC</td>\n      <td>Technology</td>\n      <td>19872569818.209999</td>\n      <td>2.8025</td>\n      <td>8.18</td>\n      <td>25</td>\n      <td>1.238</td>\n      <td>-3.397</td>\n    </tr>\n    <tr>\n      <th>39</th>\n      <td>FDS.N</td>\n      <td>Factset Research Systems Inc</td>\n      <td>Industrials</td>\n      <td>17904030064.279999</td>\n      <td>10.9554</td>\n      <td>13.43</td>\n      <td>17</td>\n      <td>-0.025</td>\n      <td>-0.784</td>\n    </tr>\n    <tr>\n      <th>40</th>\n      <td>SYK.N</td>\n      <td>Stryker Corp</td>\n      <td>Healthcare</td>\n      <td>103635016000.0</td>\n      <td>6.1703</td>\n      <td>9.34</td>\n      <td>31</td>\n      <td>-0.064</td>\n      <td>1.802</td>\n    </tr>\n    <tr>\n      <th>41</th>\n      <td>VRSN.OQ</td>\n      <td>Verisign Inc</td>\n      <td>Technology</td>\n      <td>22587520720.639999</td>\n      <td>6.2432</td>\n      <td>6.24</td>\n      <td>4</td>\n      <td>0.559</td>\n      <td>1.505</td>\n    </tr>\n    <tr>\n      <th>42</th>\n      <td>TECH.OQ</td>\n      <td>Bio-Techne Corp</td>\n      <td>Healthcare</td>\n      <td>13608026253.040001</td>\n      <td>1.6076</td>\n      <td>1.9725</td>\n      <td>14</td>\n      <td>-0.265</td>\n      <td>-0.373</td>\n    </tr>\n    <tr>\n      <th>43</th>\n      <td>NVR.N</td>\n      <td>NVR Inc</td>\n      <td>Consumer Cyclicals</td>\n      <td>13133333458.459999</td>\n      <td>492.175</td>\n      <td>491.82</td>\n      <td>7</td>\n      <td>1.153</td>\n      <td>7.58</td>\n    </tr>\n    <tr>\n      <th>44</th>\n      <td>BBWI.N</td>\n      <td>Bath &amp; Body Works Inc</td>\n      <td>Consumer Cyclicals</td>\n      <td>16960558124.5</td>\n      <td>3.8229</td>\n      <td>4.51</td>\n      <td>21</td>\n      <td>0.791</td>\n      <td>0.231</td>\n    </tr>\n    <tr>\n      <th>45</th>\n      <td>LOW.N</td>\n      <td>Lowe's Companies Inc</td>\n      <td>Consumer Cyclicals</td>\n      <td>181037300000.0</td>\n      <td>10.1983</td>\n      <td>12.04</td>\n      <td>37</td>\n      <td>0.082</td>\n      <td>0.684</td>\n    </tr>\n    <tr>\n      <th>46</th>\n      <td>BSX.N</td>\n      <td>Boston Scientific Corp</td>\n      <td>Healthcare</td>\n      <td>&lt;NA&gt;</td>\n      <td>0.4467</td>\n      <td>1.75</td>\n      <td>30</td>\n      <td>0.04</td>\n      <td>0.945</td>\n    </tr>\n    <tr>\n      <th>47</th>\n      <td>SYY.N</td>\n      <td>Sysco Corp</td>\n      <td>Consumer Non-Cyclicals</td>\n      <td>53790356437.120003</td>\n      <td>2.7745</td>\n      <td>3.25</td>\n      <td>19</td>\n      <td>-0.049</td>\n      <td>0.213</td>\n    </tr>\n    <tr>\n      <th>48</th>\n      <td>FCX.N</td>\n      <td>Freeport-McMoRan Inc</td>\n      <td>Basic Materials</td>\n      <td>66104433258.0</td>\n      <td>2.3763</td>\n      <td>2.44</td>\n      <td>21</td>\n      <td>-1.421</td>\n      <td>3.094</td>\n    </tr>\n    <tr>\n      <th>49</th>\n      <td>MAS.N</td>\n      <td>Masco Corp</td>\n      <td>Consumer Cyclicals</td>\n      <td>13462444170.41</td>\n      <td>3.6225</td>\n      <td>3.77</td>\n      <td>23</td>\n      <td>-2.013</td>\n      <td>0.682</td>\n    </tr>\n  </tbody>\n</table>\n</div>"
     },
     "execution_count": 9,
     "metadata": {},
     "output_type": "execute_result"
    }
   ],
   "source": [
    "ratings_data.head(50)"
   ],
   "metadata": {
    "collapsed": false
   }
  },
  {
   "cell_type": "code",
   "execution_count": 5,
   "outputs": [
    {
     "data": {
      "text/plain": "          Enterprise Value   EARNINGS  Number of Analysts  \\\ncount                487.0      503.0               503.0   \nmean    81719861795.290024   5.691146           21.081511   \nstd    178042924436.516571  43.218228            8.322156   \nmin    -56853452797.209999   -777.458                 0.0   \n25%     20310412679.110001     2.0584                15.0   \n50%     36262116720.919998     4.5958                20.0   \n75%     73292466863.414993     8.4122                26.0   \nmax        2490229223360.0    492.175                56.0   \n\n       Earnings Per Share - Predicted Surprise PCT  \\\ncount                                        502.0   \nmean                                       0.46358   \nstd                                       27.69738   \nmin                                       -149.613   \n25%                                         -0.299   \n50%                                          0.013   \n75%                                        0.25625   \nmax                                        585.504   \n\n       Earnings Per Share - Actual Surprise  \ncount                                 501.0  \nmean                              -4.559743  \nstd                              130.186776  \nmin                                 -2900.0  \n25%                                  -0.177  \n50%                                   0.682  \n75%                                   2.422  \nmax                                 135.428  ",
      "text/html": "<div>\n<style scoped>\n    .dataframe tbody tr th:only-of-type {\n        vertical-align: middle;\n    }\n\n    .dataframe tbody tr th {\n        vertical-align: top;\n    }\n\n    .dataframe thead th {\n        text-align: right;\n    }\n</style>\n<table border=\"1\" class=\"dataframe\">\n  <thead>\n    <tr style=\"text-align: right;\">\n      <th></th>\n      <th>Enterprise Value</th>\n      <th>EARNINGS</th>\n      <th>Number of Analysts</th>\n      <th>Earnings Per Share - Predicted Surprise PCT</th>\n      <th>Earnings Per Share - Actual Surprise</th>\n    </tr>\n  </thead>\n  <tbody>\n    <tr>\n      <th>count</th>\n      <td>487.0</td>\n      <td>503.0</td>\n      <td>503.0</td>\n      <td>502.0</td>\n      <td>501.0</td>\n    </tr>\n    <tr>\n      <th>mean</th>\n      <td>81719861795.290024</td>\n      <td>5.691146</td>\n      <td>21.081511</td>\n      <td>0.46358</td>\n      <td>-4.559743</td>\n    </tr>\n    <tr>\n      <th>std</th>\n      <td>178042924436.516571</td>\n      <td>43.218228</td>\n      <td>8.322156</td>\n      <td>27.69738</td>\n      <td>130.186776</td>\n    </tr>\n    <tr>\n      <th>min</th>\n      <td>-56853452797.209999</td>\n      <td>-777.458</td>\n      <td>0.0</td>\n      <td>-149.613</td>\n      <td>-2900.0</td>\n    </tr>\n    <tr>\n      <th>25%</th>\n      <td>20310412679.110001</td>\n      <td>2.0584</td>\n      <td>15.0</td>\n      <td>-0.299</td>\n      <td>-0.177</td>\n    </tr>\n    <tr>\n      <th>50%</th>\n      <td>36262116720.919998</td>\n      <td>4.5958</td>\n      <td>20.0</td>\n      <td>0.013</td>\n      <td>0.682</td>\n    </tr>\n    <tr>\n      <th>75%</th>\n      <td>73292466863.414993</td>\n      <td>8.4122</td>\n      <td>26.0</td>\n      <td>0.25625</td>\n      <td>2.422</td>\n    </tr>\n    <tr>\n      <th>max</th>\n      <td>2490229223360.0</td>\n      <td>492.175</td>\n      <td>56.0</td>\n      <td>585.504</td>\n      <td>135.428</td>\n    </tr>\n  </tbody>\n</table>\n</div>"
     },
     "execution_count": 5,
     "metadata": {},
     "output_type": "execute_result"
    }
   ],
   "source": [
    "ratings_data.describe()"
   ],
   "metadata": {
    "collapsed": false
   }
  },
  {
   "cell_type": "markdown",
   "source": [
    "# Timeseries"
   ],
   "metadata": {
    "collapsed": false
   }
  },
  {
   "cell_type": "code",
   "execution_count": 5,
   "outputs": [
    {
     "data": {
      "text/plain": "MSFT.O                CLOSE\nDate                       \n2022-03-25 20:00:00  303.69\n2022-03-25 21:00:00  303.45\n2022-03-25 22:00:00  303.48\n2022-03-25 23:00:00  303.51\n2022-03-26 00:00:00  303.75",
      "text/html": "<div>\n<style scoped>\n    .dataframe tbody tr th:only-of-type {\n        vertical-align: middle;\n    }\n\n    .dataframe tbody tr th {\n        vertical-align: top;\n    }\n\n    .dataframe thead th {\n        text-align: right;\n    }\n</style>\n<table border=\"1\" class=\"dataframe\">\n  <thead>\n    <tr style=\"text-align: right;\">\n      <th>MSFT.O</th>\n      <th>CLOSE</th>\n    </tr>\n    <tr>\n      <th>Date</th>\n      <th></th>\n    </tr>\n  </thead>\n  <tbody>\n    <tr>\n      <th>2022-03-25 20:00:00</th>\n      <td>303.69</td>\n    </tr>\n    <tr>\n      <th>2022-03-25 21:00:00</th>\n      <td>303.45</td>\n    </tr>\n    <tr>\n      <th>2022-03-25 22:00:00</th>\n      <td>303.48</td>\n    </tr>\n    <tr>\n      <th>2022-03-25 23:00:00</th>\n      <td>303.51</td>\n    </tr>\n    <tr>\n      <th>2022-03-26 00:00:00</th>\n      <td>303.75</td>\n    </tr>\n  </tbody>\n</table>\n</div>"
     },
     "execution_count": 5,
     "metadata": {},
     "output_type": "execute_result"
    }
   ],
   "source": [
    "Hourly = ek.get_timeseries([\"MSFT.O\"], fields=[\"Close\"], start_date = \"2022-03-01\", end_date = \"2022-03-27\", interval=\"hour\")\n",
    "Daily = ek.get_timeseries([\"MSFT.O\"], fields=[\"Close\"], start_date = \"2022-03-01\", end_date = \"2022-03-27\", interval=\"daily\")\n",
    "Weekly = ek.get_timeseries([\"MSFT.O\"], fields=[\"Close\"], start_date = \"2022-03-01\", end_date = \"2022-03-27\", interval=\"weekly\")\n",
    "Monthly = ek.get_timeseries([\"MSFT.O\"], fields=[\"Close\"], start_date = \"2022-03-01\", end_date = \"2022-05-27\", interval=\"monthly\")\n",
    "Hourly.tail()"
   ],
   "metadata": {
    "collapsed": false
   }
  },
  {
   "cell_type": "code",
   "execution_count": 6,
   "outputs": [
    {
     "data": {
      "text/plain": "IBM.N            CLOSE\nDate                  \n2018-01-02  147.334047\n2018-01-03  151.383942\n2018-01-04  154.450019\n2018-01-05  155.204598\n2018-01-08  156.140659\n...                ...\n2023-02-06      136.18\n2023-02-07      135.84\n2023-02-08      135.98\n2023-02-09      133.75\n2023-02-10       135.6\n\n[1287 rows x 1 columns]",
      "text/html": "<div>\n<style scoped>\n    .dataframe tbody tr th:only-of-type {\n        vertical-align: middle;\n    }\n\n    .dataframe tbody tr th {\n        vertical-align: top;\n    }\n\n    .dataframe thead th {\n        text-align: right;\n    }\n</style>\n<table border=\"1\" class=\"dataframe\">\n  <thead>\n    <tr style=\"text-align: right;\">\n      <th>IBM.N</th>\n      <th>CLOSE</th>\n    </tr>\n    <tr>\n      <th>Date</th>\n      <th></th>\n    </tr>\n  </thead>\n  <tbody>\n    <tr>\n      <th>2018-01-02</th>\n      <td>147.334047</td>\n    </tr>\n    <tr>\n      <th>2018-01-03</th>\n      <td>151.383942</td>\n    </tr>\n    <tr>\n      <th>2018-01-04</th>\n      <td>154.450019</td>\n    </tr>\n    <tr>\n      <th>2018-01-05</th>\n      <td>155.204598</td>\n    </tr>\n    <tr>\n      <th>2018-01-08</th>\n      <td>156.140659</td>\n    </tr>\n    <tr>\n      <th>...</th>\n      <td>...</td>\n    </tr>\n    <tr>\n      <th>2023-02-06</th>\n      <td>136.18</td>\n    </tr>\n    <tr>\n      <th>2023-02-07</th>\n      <td>135.84</td>\n    </tr>\n    <tr>\n      <th>2023-02-08</th>\n      <td>135.98</td>\n    </tr>\n    <tr>\n      <th>2023-02-09</th>\n      <td>133.75</td>\n    </tr>\n    <tr>\n      <th>2023-02-10</th>\n      <td>135.6</td>\n    </tr>\n  </tbody>\n</table>\n<p>1287 rows × 1 columns</p>\n</div>"
     },
     "execution_count": 6,
     "metadata": {},
     "output_type": "execute_result"
    }
   ],
   "source": [
    "#a RIC that you want to get time series\n",
    "RIC = 'IBM.N'\n",
    "#start date that you want to get time series; it is in format yyyy-mm-dd\n",
    "start_date = '2018-01-02'\n",
    "#get time series till the last market close date using eikon.get_timeseries(..) function\n",
    "df = ek.get_timeseries(RIC, 'CLOSE', interval='daily', start_date=start_date)\n",
    "#display time series data frame\n",
    "df"
   ],
   "metadata": {
    "collapsed": false
   }
  },
  {
   "cell_type": "code",
   "execution_count": 7,
   "outputs": [
    {
     "ename": "ValueError",
     "evalue": "Pandas data cast to numpy dtype of object. Check input data with np.asarray(data). The types seen wereNone and None. The data was\nDate\n2018-01-03    4.049895\n2018-01-04    3.066076\n2018-01-05     0.75458\n2018-01-06     0.75458\n2018-01-07     0.75458\n                ...   \n2023-02-06       -0.76\n2023-02-07       -0.34\n2023-02-08        0.14\n2023-02-09       -2.23\n2023-02-10        1.85\nFreq: D, Name: df_1diff, Length: 1865, dtype: Float64\nand\n [[1.]\n [1.]\n [1.]\n ...\n [1.]\n [1.]\n [1.]]\nbefore. After,\n[4.049895360000022 3.0660764399999607 0.7545795600000247 ...\n 0.13999999999998636 -2.2299999999999898 1.8499999999999943]\n[[1.]\n [1.]\n [1.]\n ...\n [1.]\n [1.]\n [1.]].",
     "output_type": "error",
     "traceback": [
      "\u001B[1;31m---------------------------------------------------------------------------\u001B[0m",
      "\u001B[1;31mValueError\u001B[0m                                Traceback (most recent call last)",
      "Cell \u001B[1;32mIn[7], line 55\u001B[0m\n\u001B[0;32m     53\u001B[0m forecast_end_date \u001B[38;5;241m=\u001B[39m \u001B[38;5;124m'\u001B[39m\u001B[38;5;124m2020-03-31\u001B[39m\u001B[38;5;124m'\u001B[39m\n\u001B[0;32m     54\u001B[0m \u001B[38;5;66;03m#call the function to forecast time series with ARIMA model\u001B[39;00m\n\u001B[1;32m---> 55\u001B[0m forecast \u001B[38;5;241m=\u001B[39m \u001B[43mARIMA_model_forecast\u001B[49m\u001B[43m(\u001B[49m\u001B[43mdf\u001B[49m\u001B[43m,\u001B[49m\u001B[43mforecast_end_date\u001B[49m\u001B[43m)\u001B[49m\n\u001B[0;32m     56\u001B[0m \u001B[38;5;66;03m#display forecast time series\u001B[39;00m\n\u001B[0;32m     57\u001B[0m forecast\n",
      "Cell \u001B[1;32mIn[7], line 28\u001B[0m, in \u001B[0;36mARIMA_model_forecast\u001B[1;34m(df, forecast_end_date)\u001B[0m\n\u001B[0;32m     26\u001B[0m new_spot \u001B[38;5;241m=\u001B[39m df[\u001B[38;5;124m'\u001B[39m\u001B[38;5;124mdf_1diff\u001B[39m\u001B[38;5;124m'\u001B[39m]\u001B[38;5;241m.\u001B[39mresample(\u001B[38;5;124m'\u001B[39m\u001B[38;5;124mD\u001B[39m\u001B[38;5;124m'\u001B[39m)\u001B[38;5;241m.\u001B[39mffill()\n\u001B[0;32m     27\u001B[0m \u001B[38;5;66;03m#call ARIMA model which p=1,d=0 and q=1 with differences of time series\u001B[39;00m\n\u001B[1;32m---> 28\u001B[0m arma_model \u001B[38;5;241m=\u001B[39m \u001B[43mARIMA\u001B[49m\u001B[43m(\u001B[49m\u001B[43mnew_spot\u001B[49m\u001B[43m,\u001B[49m\u001B[43m \u001B[49m\u001B[43morder\u001B[49m\u001B[38;5;241;43m=\u001B[39;49m\u001B[43m(\u001B[49m\u001B[38;5;241;43m1\u001B[39;49m\u001B[43m,\u001B[49m\u001B[38;5;241;43m0\u001B[39;49m\u001B[43m,\u001B[49m\u001B[38;5;241;43m1\u001B[39;49m\u001B[43m)\u001B[49m\u001B[43m)\u001B[49m\n\u001B[0;32m     29\u001B[0m results \u001B[38;5;241m=\u001B[39m arma_model\u001B[38;5;241m.\u001B[39mfit(disp\u001B[38;5;241m=\u001B[39m\u001B[38;5;241m0\u001B[39m)\n\u001B[0;32m     30\u001B[0m residuals \u001B[38;5;241m=\u001B[39m pd\u001B[38;5;241m.\u001B[39mDataFrame(results\u001B[38;5;241m.\u001B[39mresid)\n",
      "File \u001B[1;32m~\\mambaforge\\envs\\AnalystForecast\\Lib\\site-packages\\statsmodels\\tsa\\arima\\model.py:153\u001B[0m, in \u001B[0;36mARIMA.__init__\u001B[1;34m(self, endog, exog, order, seasonal_order, trend, enforce_stationarity, enforce_invertibility, concentrate_scale, trend_offset, dates, freq, missing, validate_specification)\u001B[0m\n\u001B[0;32m    146\u001B[0m     trend \u001B[38;5;241m=\u001B[39m \u001B[38;5;124m'\u001B[39m\u001B[38;5;124mn\u001B[39m\u001B[38;5;124m'\u001B[39m\n\u001B[0;32m    148\u001B[0m \u001B[38;5;66;03m# Construct the specification\u001B[39;00m\n\u001B[0;32m    149\u001B[0m \u001B[38;5;66;03m# (don't pass specific values of enforce stationarity/invertibility,\u001B[39;00m\n\u001B[0;32m    150\u001B[0m \u001B[38;5;66;03m# because we don't actually want to restrict the estimators based on\u001B[39;00m\n\u001B[0;32m    151\u001B[0m \u001B[38;5;66;03m# this criteria. Instead, we'll just make sure that the parameter\u001B[39;00m\n\u001B[0;32m    152\u001B[0m \u001B[38;5;66;03m# estimates from those methods satisfy the criteria.)\u001B[39;00m\n\u001B[1;32m--> 153\u001B[0m \u001B[38;5;28mself\u001B[39m\u001B[38;5;241m.\u001B[39m_spec_arima \u001B[38;5;241m=\u001B[39m \u001B[43mSARIMAXSpecification\u001B[49m\u001B[43m(\u001B[49m\n\u001B[0;32m    154\u001B[0m \u001B[43m    \u001B[49m\u001B[43mendog\u001B[49m\u001B[43m,\u001B[49m\u001B[43m \u001B[49m\u001B[43mexog\u001B[49m\u001B[38;5;241;43m=\u001B[39;49m\u001B[43mexog\u001B[49m\u001B[43m,\u001B[49m\u001B[43m \u001B[49m\u001B[43morder\u001B[49m\u001B[38;5;241;43m=\u001B[39;49m\u001B[43morder\u001B[49m\u001B[43m,\u001B[49m\u001B[43m \u001B[49m\u001B[43mseasonal_order\u001B[49m\u001B[38;5;241;43m=\u001B[39;49m\u001B[43mseasonal_order\u001B[49m\u001B[43m,\u001B[49m\n\u001B[0;32m    155\u001B[0m \u001B[43m    \u001B[49m\u001B[43mtrend\u001B[49m\u001B[38;5;241;43m=\u001B[39;49m\u001B[43mtrend\u001B[49m\u001B[43m,\u001B[49m\u001B[43m \u001B[49m\u001B[43menforce_stationarity\u001B[49m\u001B[38;5;241;43m=\u001B[39;49m\u001B[38;5;28;43;01mNone\u001B[39;49;00m\u001B[43m,\u001B[49m\u001B[43m \u001B[49m\u001B[43menforce_invertibility\u001B[49m\u001B[38;5;241;43m=\u001B[39;49m\u001B[38;5;28;43;01mNone\u001B[39;49;00m\u001B[43m,\u001B[49m\n\u001B[0;32m    156\u001B[0m \u001B[43m    \u001B[49m\u001B[43mconcentrate_scale\u001B[49m\u001B[38;5;241;43m=\u001B[39;49m\u001B[43mconcentrate_scale\u001B[49m\u001B[43m,\u001B[49m\u001B[43m \u001B[49m\u001B[43mtrend_offset\u001B[49m\u001B[38;5;241;43m=\u001B[39;49m\u001B[43mtrend_offset\u001B[49m\u001B[43m,\u001B[49m\n\u001B[0;32m    157\u001B[0m \u001B[43m    \u001B[49m\u001B[43mdates\u001B[49m\u001B[38;5;241;43m=\u001B[39;49m\u001B[43mdates\u001B[49m\u001B[43m,\u001B[49m\u001B[43m \u001B[49m\u001B[43mfreq\u001B[49m\u001B[38;5;241;43m=\u001B[39;49m\u001B[43mfreq\u001B[49m\u001B[43m,\u001B[49m\u001B[43m \u001B[49m\u001B[43mmissing\u001B[49m\u001B[38;5;241;43m=\u001B[39;49m\u001B[43mmissing\u001B[49m\u001B[43m,\u001B[49m\n\u001B[0;32m    158\u001B[0m \u001B[43m    \u001B[49m\u001B[43mvalidate_specification\u001B[49m\u001B[38;5;241;43m=\u001B[39;49m\u001B[43mvalidate_specification\u001B[49m\u001B[43m)\u001B[49m\n\u001B[0;32m    159\u001B[0m exog \u001B[38;5;241m=\u001B[39m \u001B[38;5;28mself\u001B[39m\u001B[38;5;241m.\u001B[39m_spec_arima\u001B[38;5;241m.\u001B[39m_model\u001B[38;5;241m.\u001B[39mdata\u001B[38;5;241m.\u001B[39morig_exog\n\u001B[0;32m    161\u001B[0m \u001B[38;5;66;03m# Raise an error if we have a constant in an integrated model\u001B[39;00m\n",
      "File \u001B[1;32m~\\mambaforge\\envs\\AnalystForecast\\Lib\\site-packages\\statsmodels\\tsa\\arima\\specification.py:446\u001B[0m, in \u001B[0;36mSARIMAXSpecification.__init__\u001B[1;34m(self, endog, exog, order, seasonal_order, ar_order, diff, ma_order, seasonal_ar_order, seasonal_diff, seasonal_ma_order, seasonal_periods, trend, enforce_stationarity, enforce_invertibility, concentrate_scale, trend_offset, dates, freq, missing, validate_specification)\u001B[0m\n\u001B[0;32m    441\u001B[0m         exog \u001B[38;5;241m=\u001B[39m np\u001B[38;5;241m.\u001B[39mc_[trend_data, exog]\n\u001B[0;32m    443\u001B[0m \u001B[38;5;66;03m# Create an underlying time series model, to handle endog / exog,\u001B[39;00m\n\u001B[0;32m    444\u001B[0m \u001B[38;5;66;03m# especially validating shapes, retrieving names, and potentially\u001B[39;00m\n\u001B[0;32m    445\u001B[0m \u001B[38;5;66;03m# providing us with a time series index\u001B[39;00m\n\u001B[1;32m--> 446\u001B[0m \u001B[38;5;28mself\u001B[39m\u001B[38;5;241m.\u001B[39m_model \u001B[38;5;241m=\u001B[39m \u001B[43mTimeSeriesModel\u001B[49m\u001B[43m(\u001B[49m\u001B[43mendog\u001B[49m\u001B[43m,\u001B[49m\u001B[43m \u001B[49m\u001B[43mexog\u001B[49m\u001B[38;5;241;43m=\u001B[39;49m\u001B[43mexog\u001B[49m\u001B[43m,\u001B[49m\u001B[43m \u001B[49m\u001B[43mdates\u001B[49m\u001B[38;5;241;43m=\u001B[39;49m\u001B[43mdates\u001B[49m\u001B[43m,\u001B[49m\u001B[43m \u001B[49m\u001B[43mfreq\u001B[49m\u001B[38;5;241;43m=\u001B[39;49m\u001B[43mfreq\u001B[49m\u001B[43m,\u001B[49m\n\u001B[0;32m    447\u001B[0m \u001B[43m                              \u001B[49m\u001B[43mmissing\u001B[49m\u001B[38;5;241;43m=\u001B[39;49m\u001B[43mmissing\u001B[49m\u001B[43m)\u001B[49m\n\u001B[0;32m    448\u001B[0m \u001B[38;5;28mself\u001B[39m\u001B[38;5;241m.\u001B[39mendog \u001B[38;5;241m=\u001B[39m \u001B[38;5;28;01mNone\u001B[39;00m \u001B[38;5;28;01mif\u001B[39;00m faux_endog \u001B[38;5;28;01melse\u001B[39;00m \u001B[38;5;28mself\u001B[39m\u001B[38;5;241m.\u001B[39m_model\u001B[38;5;241m.\u001B[39mendog\n\u001B[0;32m    449\u001B[0m \u001B[38;5;28mself\u001B[39m\u001B[38;5;241m.\u001B[39mexog \u001B[38;5;241m=\u001B[39m \u001B[38;5;28mself\u001B[39m\u001B[38;5;241m.\u001B[39m_model\u001B[38;5;241m.\u001B[39mexog\n",
      "File \u001B[1;32m~\\mambaforge\\envs\\AnalystForecast\\Lib\\site-packages\\statsmodels\\tsa\\base\\tsa_model.py:468\u001B[0m, in \u001B[0;36mTimeSeriesModel.__init__\u001B[1;34m(self, endog, exog, dates, freq, missing, **kwargs)\u001B[0m\n\u001B[0;32m    465\u001B[0m \u001B[38;5;28;01mdef\u001B[39;00m \u001B[38;5;21m__init__\u001B[39m(\n\u001B[0;32m    466\u001B[0m     \u001B[38;5;28mself\u001B[39m, endog, exog\u001B[38;5;241m=\u001B[39m\u001B[38;5;28;01mNone\u001B[39;00m, dates\u001B[38;5;241m=\u001B[39m\u001B[38;5;28;01mNone\u001B[39;00m, freq\u001B[38;5;241m=\u001B[39m\u001B[38;5;28;01mNone\u001B[39;00m, missing\u001B[38;5;241m=\u001B[39m\u001B[38;5;124m\"\u001B[39m\u001B[38;5;124mnone\u001B[39m\u001B[38;5;124m\"\u001B[39m, \u001B[38;5;241m*\u001B[39m\u001B[38;5;241m*\u001B[39mkwargs\n\u001B[0;32m    467\u001B[0m ):\n\u001B[1;32m--> 468\u001B[0m     \u001B[38;5;28;43msuper\u001B[39;49m\u001B[43m(\u001B[49m\u001B[43m)\u001B[49m\u001B[38;5;241;43m.\u001B[39;49m\u001B[38;5;21;43m__init__\u001B[39;49m\u001B[43m(\u001B[49m\u001B[43mendog\u001B[49m\u001B[43m,\u001B[49m\u001B[43m \u001B[49m\u001B[43mexog\u001B[49m\u001B[43m,\u001B[49m\u001B[43m \u001B[49m\u001B[43mmissing\u001B[49m\u001B[38;5;241;43m=\u001B[39;49m\u001B[43mmissing\u001B[49m\u001B[43m,\u001B[49m\u001B[43m \u001B[49m\u001B[38;5;241;43m*\u001B[39;49m\u001B[38;5;241;43m*\u001B[39;49m\u001B[43mkwargs\u001B[49m\u001B[43m)\u001B[49m\n\u001B[0;32m    470\u001B[0m     \u001B[38;5;66;03m# Date handling in indexes\u001B[39;00m\n\u001B[0;32m    471\u001B[0m     \u001B[38;5;28mself\u001B[39m\u001B[38;5;241m.\u001B[39m_init_dates(dates, freq)\n",
      "File \u001B[1;32m~\\mambaforge\\envs\\AnalystForecast\\Lib\\site-packages\\statsmodels\\base\\model.py:267\u001B[0m, in \u001B[0;36mLikelihoodModel.__init__\u001B[1;34m(self, endog, exog, **kwargs)\u001B[0m\n\u001B[0;32m    266\u001B[0m \u001B[38;5;28;01mdef\u001B[39;00m \u001B[38;5;21m__init__\u001B[39m(\u001B[38;5;28mself\u001B[39m, endog, exog\u001B[38;5;241m=\u001B[39m\u001B[38;5;28;01mNone\u001B[39;00m, \u001B[38;5;241m*\u001B[39m\u001B[38;5;241m*\u001B[39mkwargs):\n\u001B[1;32m--> 267\u001B[0m     \u001B[38;5;28;43msuper\u001B[39;49m\u001B[43m(\u001B[49m\u001B[43m)\u001B[49m\u001B[38;5;241;43m.\u001B[39;49m\u001B[38;5;21;43m__init__\u001B[39;49m\u001B[43m(\u001B[49m\u001B[43mendog\u001B[49m\u001B[43m,\u001B[49m\u001B[43m \u001B[49m\u001B[43mexog\u001B[49m\u001B[43m,\u001B[49m\u001B[43m \u001B[49m\u001B[38;5;241;43m*\u001B[39;49m\u001B[38;5;241;43m*\u001B[39;49m\u001B[43mkwargs\u001B[49m\u001B[43m)\u001B[49m\n\u001B[0;32m    268\u001B[0m     \u001B[38;5;28mself\u001B[39m\u001B[38;5;241m.\u001B[39minitialize()\n",
      "File \u001B[1;32m~\\mambaforge\\envs\\AnalystForecast\\Lib\\site-packages\\statsmodels\\base\\model.py:92\u001B[0m, in \u001B[0;36mModel.__init__\u001B[1;34m(self, endog, exog, **kwargs)\u001B[0m\n\u001B[0;32m     90\u001B[0m missing \u001B[38;5;241m=\u001B[39m kwargs\u001B[38;5;241m.\u001B[39mpop(\u001B[38;5;124m'\u001B[39m\u001B[38;5;124mmissing\u001B[39m\u001B[38;5;124m'\u001B[39m, \u001B[38;5;124m'\u001B[39m\u001B[38;5;124mnone\u001B[39m\u001B[38;5;124m'\u001B[39m)\n\u001B[0;32m     91\u001B[0m hasconst \u001B[38;5;241m=\u001B[39m kwargs\u001B[38;5;241m.\u001B[39mpop(\u001B[38;5;124m'\u001B[39m\u001B[38;5;124mhasconst\u001B[39m\u001B[38;5;124m'\u001B[39m, \u001B[38;5;28;01mNone\u001B[39;00m)\n\u001B[1;32m---> 92\u001B[0m \u001B[38;5;28mself\u001B[39m\u001B[38;5;241m.\u001B[39mdata \u001B[38;5;241m=\u001B[39m \u001B[38;5;28;43mself\u001B[39;49m\u001B[38;5;241;43m.\u001B[39;49m\u001B[43m_handle_data\u001B[49m\u001B[43m(\u001B[49m\u001B[43mendog\u001B[49m\u001B[43m,\u001B[49m\u001B[43m \u001B[49m\u001B[43mexog\u001B[49m\u001B[43m,\u001B[49m\u001B[43m \u001B[49m\u001B[43mmissing\u001B[49m\u001B[43m,\u001B[49m\u001B[43m \u001B[49m\u001B[43mhasconst\u001B[49m\u001B[43m,\u001B[49m\n\u001B[0;32m     93\u001B[0m \u001B[43m                              \u001B[49m\u001B[38;5;241;43m*\u001B[39;49m\u001B[38;5;241;43m*\u001B[39;49m\u001B[43mkwargs\u001B[49m\u001B[43m)\u001B[49m\n\u001B[0;32m     94\u001B[0m \u001B[38;5;28mself\u001B[39m\u001B[38;5;241m.\u001B[39mk_constant \u001B[38;5;241m=\u001B[39m \u001B[38;5;28mself\u001B[39m\u001B[38;5;241m.\u001B[39mdata\u001B[38;5;241m.\u001B[39mk_constant\n\u001B[0;32m     95\u001B[0m \u001B[38;5;28mself\u001B[39m\u001B[38;5;241m.\u001B[39mexog \u001B[38;5;241m=\u001B[39m \u001B[38;5;28mself\u001B[39m\u001B[38;5;241m.\u001B[39mdata\u001B[38;5;241m.\u001B[39mexog\n",
      "File \u001B[1;32m~\\mambaforge\\envs\\AnalystForecast\\Lib\\site-packages\\statsmodels\\base\\model.py:132\u001B[0m, in \u001B[0;36mModel._handle_data\u001B[1;34m(self, endog, exog, missing, hasconst, **kwargs)\u001B[0m\n\u001B[0;32m    131\u001B[0m \u001B[38;5;28;01mdef\u001B[39;00m \u001B[38;5;21m_handle_data\u001B[39m(\u001B[38;5;28mself\u001B[39m, endog, exog, missing, hasconst, \u001B[38;5;241m*\u001B[39m\u001B[38;5;241m*\u001B[39mkwargs):\n\u001B[1;32m--> 132\u001B[0m     data \u001B[38;5;241m=\u001B[39m \u001B[43mhandle_data\u001B[49m\u001B[43m(\u001B[49m\u001B[43mendog\u001B[49m\u001B[43m,\u001B[49m\u001B[43m \u001B[49m\u001B[43mexog\u001B[49m\u001B[43m,\u001B[49m\u001B[43m \u001B[49m\u001B[43mmissing\u001B[49m\u001B[43m,\u001B[49m\u001B[43m \u001B[49m\u001B[43mhasconst\u001B[49m\u001B[43m,\u001B[49m\u001B[43m \u001B[49m\u001B[38;5;241;43m*\u001B[39;49m\u001B[38;5;241;43m*\u001B[39;49m\u001B[43mkwargs\u001B[49m\u001B[43m)\u001B[49m\n\u001B[0;32m    133\u001B[0m     \u001B[38;5;66;03m# kwargs arrays could have changed, easier to just attach here\u001B[39;00m\n\u001B[0;32m    134\u001B[0m     \u001B[38;5;28;01mfor\u001B[39;00m key \u001B[38;5;129;01min\u001B[39;00m kwargs:\n",
      "File \u001B[1;32m~\\mambaforge\\envs\\AnalystForecast\\Lib\\site-packages\\statsmodels\\base\\data.py:700\u001B[0m, in \u001B[0;36mhandle_data\u001B[1;34m(endog, exog, missing, hasconst, **kwargs)\u001B[0m\n\u001B[0;32m    697\u001B[0m     exog \u001B[38;5;241m=\u001B[39m np\u001B[38;5;241m.\u001B[39masarray(exog)\n\u001B[0;32m    699\u001B[0m klass \u001B[38;5;241m=\u001B[39m handle_data_class_factory(endog, exog)\n\u001B[1;32m--> 700\u001B[0m \u001B[38;5;28;01mreturn\u001B[39;00m \u001B[43mklass\u001B[49m\u001B[43m(\u001B[49m\u001B[43mendog\u001B[49m\u001B[43m,\u001B[49m\u001B[43m \u001B[49m\u001B[43mexog\u001B[49m\u001B[38;5;241;43m=\u001B[39;49m\u001B[43mexog\u001B[49m\u001B[43m,\u001B[49m\u001B[43m \u001B[49m\u001B[43mmissing\u001B[49m\u001B[38;5;241;43m=\u001B[39;49m\u001B[43mmissing\u001B[49m\u001B[43m,\u001B[49m\u001B[43m \u001B[49m\u001B[43mhasconst\u001B[49m\u001B[38;5;241;43m=\u001B[39;49m\u001B[43mhasconst\u001B[49m\u001B[43m,\u001B[49m\n\u001B[0;32m    701\u001B[0m \u001B[43m             \u001B[49m\u001B[38;5;241;43m*\u001B[39;49m\u001B[38;5;241;43m*\u001B[39;49m\u001B[43mkwargs\u001B[49m\u001B[43m)\u001B[49m\n",
      "File \u001B[1;32m~\\mambaforge\\envs\\AnalystForecast\\Lib\\site-packages\\statsmodels\\base\\data.py:84\u001B[0m, in \u001B[0;36mModelData.__init__\u001B[1;34m(self, endog, exog, missing, hasconst, **kwargs)\u001B[0m\n\u001B[0;32m     82\u001B[0m     \u001B[38;5;28mself\u001B[39m\u001B[38;5;241m.\u001B[39morig_endog \u001B[38;5;241m=\u001B[39m endog\n\u001B[0;32m     83\u001B[0m     \u001B[38;5;28mself\u001B[39m\u001B[38;5;241m.\u001B[39morig_exog \u001B[38;5;241m=\u001B[39m exog\n\u001B[1;32m---> 84\u001B[0m     \u001B[38;5;28mself\u001B[39m\u001B[38;5;241m.\u001B[39mendog, \u001B[38;5;28mself\u001B[39m\u001B[38;5;241m.\u001B[39mexog \u001B[38;5;241m=\u001B[39m \u001B[38;5;28;43mself\u001B[39;49m\u001B[38;5;241;43m.\u001B[39;49m\u001B[43m_convert_endog_exog\u001B[49m\u001B[43m(\u001B[49m\u001B[43mendog\u001B[49m\u001B[43m,\u001B[49m\u001B[43m \u001B[49m\u001B[43mexog\u001B[49m\u001B[43m)\u001B[49m\n\u001B[0;32m     86\u001B[0m \u001B[38;5;28mself\u001B[39m\u001B[38;5;241m.\u001B[39mconst_idx \u001B[38;5;241m=\u001B[39m \u001B[38;5;28;01mNone\u001B[39;00m\n\u001B[0;32m     87\u001B[0m \u001B[38;5;28mself\u001B[39m\u001B[38;5;241m.\u001B[39mk_constant \u001B[38;5;241m=\u001B[39m \u001B[38;5;241m0\u001B[39m\n",
      "File \u001B[1;32m~\\mambaforge\\envs\\AnalystForecast\\Lib\\site-packages\\statsmodels\\base\\data.py:530\u001B[0m, in \u001B[0;36mPandasData._convert_endog_exog\u001B[1;34m(self, endog, exog)\u001B[0m\n\u001B[0;32m    528\u001B[0m     \u001B[38;5;28;01melse\u001B[39;00m:\n\u001B[0;32m    529\u001B[0m         exog_dtype \u001B[38;5;241m=\u001B[39m \u001B[38;5;28;01mNone\u001B[39;00m\n\u001B[1;32m--> 530\u001B[0m     \u001B[38;5;28;01mraise\u001B[39;00m \u001B[38;5;167;01mValueError\u001B[39;00m(\n\u001B[0;32m    531\u001B[0m         \u001B[38;5;124m\"\u001B[39m\u001B[38;5;124mPandas data cast to numpy dtype of object. Check input data \u001B[39m\u001B[38;5;124m\"\u001B[39m\n\u001B[0;32m    532\u001B[0m         \u001B[38;5;124m\"\u001B[39m\u001B[38;5;124mwith np.asarray(data). The types seen were\u001B[39m\u001B[38;5;124m\"\u001B[39m\n\u001B[0;32m    533\u001B[0m         \u001B[38;5;124mf\u001B[39m\u001B[38;5;124m\"\u001B[39m\u001B[38;5;132;01m{\u001B[39;00mendog_dtype\u001B[38;5;132;01m}\u001B[39;00m\u001B[38;5;124m and \u001B[39m\u001B[38;5;132;01m{\u001B[39;00mexog_dtype\u001B[38;5;132;01m}\u001B[39;00m\u001B[38;5;124m. The data was\u001B[39m\u001B[38;5;130;01m\\n\u001B[39;00m\u001B[38;5;124m\"\u001B[39m\n\u001B[0;32m    534\u001B[0m         \u001B[38;5;124mf\u001B[39m\u001B[38;5;124m\"\u001B[39m\u001B[38;5;132;01m{\u001B[39;00morig_endog\u001B[38;5;132;01m}\u001B[39;00m\u001B[38;5;130;01m\\n\u001B[39;00m\u001B[38;5;124mand\u001B[39m\u001B[38;5;130;01m\\n\u001B[39;00m\u001B[38;5;124m \u001B[39m\u001B[38;5;132;01m{\u001B[39;00morig_exog\u001B[38;5;132;01m}\u001B[39;00m\u001B[38;5;130;01m\\n\u001B[39;00m\u001B[38;5;124mbefore. After,\u001B[39m\u001B[38;5;130;01m\\n\u001B[39;00m\u001B[38;5;132;01m{\u001B[39;00mendog\u001B[38;5;132;01m}\u001B[39;00m\u001B[38;5;130;01m\\n\u001B[39;00m\u001B[38;5;132;01m{\u001B[39;00mexog\u001B[38;5;132;01m}\u001B[39;00m\u001B[38;5;124m.\u001B[39m\u001B[38;5;124m\"\u001B[39m\n\u001B[0;32m    535\u001B[0m     )\n\u001B[0;32m    536\u001B[0m \u001B[38;5;28;01mreturn\u001B[39;00m \u001B[38;5;28msuper\u001B[39m(PandasData, \u001B[38;5;28mself\u001B[39m)\u001B[38;5;241m.\u001B[39m_convert_endog_exog(endog, exog)\n",
      "\u001B[1;31mValueError\u001B[0m: Pandas data cast to numpy dtype of object. Check input data with np.asarray(data). The types seen wereNone and None. The data was\nDate\n2018-01-03    4.049895\n2018-01-04    3.066076\n2018-01-05     0.75458\n2018-01-06     0.75458\n2018-01-07     0.75458\n                ...   \n2023-02-06       -0.76\n2023-02-07       -0.34\n2023-02-08        0.14\n2023-02-09       -2.23\n2023-02-10        1.85\nFreq: D, Name: df_1diff, Length: 1865, dtype: Float64\nand\n [[1.]\n [1.]\n [1.]\n ...\n [1.]\n [1.]\n [1.]]\nbefore. After,\n[4.049895360000022 3.0660764399999607 0.7545795600000247 ...\n 0.13999999999998636 -2.2299999999999898 1.8499999999999943]\n[[1.]\n [1.]\n [1.]\n ...\n [1.]\n [1.]\n [1.]]."
     ]
    }
   ],
   "source": [
    "import matplotlib.pyplot as plt\n",
    "import pandas as pd\n",
    "import numpy as np\n",
    "\n",
    "from datetime import timedelta, datetime\n",
    "from statsmodels.tsa.arima.model import ARIMA\n",
    "from statsmodels.tsa.holtwinters import ExponentialSmoothing\n",
    "from statsmodels.tsa.stattools import acf, pacf\n",
    "from statsmodels.tsa.stattools import adfuller\n",
    "\n",
    "#function to forecast using ARIMA Model\n",
    "#input is time series data frame(df) got from eikon.get_timeseries(..)\n",
    "#and forecast end date which is in format yyyy-mm-dd\n",
    "def ARIMA_model_forecast(df, forecast_end_date):\n",
    "    #Set the start and end forecast date time\n",
    "    #first date is 1 day after time series. The last date is the forecast_end_date parameter\n",
    "    _e_date = datetime.fromtimestamp(datetime.timestamp(df.index[-1]))\n",
    "    e_date = _e_date + timedelta(days = 1)\n",
    "    e_date = e_date.strftime('%Y-%m-%d')\n",
    "\n",
    "    #find differences of time series which is input of ARIMA model\n",
    "    df['df_1diff'] = df['CLOSE'].diff()\n",
    "    df = df[df['df_1diff'].notnull()]\n",
    "    lag_acf = acf(df['df_1diff'], nlags=50)\n",
    "    lag_pacf = pacf(df['df_1diff'], nlags=50, method='ols')\n",
    "    new_spot = df['df_1diff'].resample('D').ffill()\n",
    "    #call ARIMA model which p=1,d=0 and q=1 with differences of time series\n",
    "    arma_model = ARIMA(new_spot, order=(1,0,1))\n",
    "    results = arma_model.fit(disp=0)\n",
    "    residuals = pd.DataFrame(results.resid)\n",
    "    #focast time series\n",
    "    predictions_ARIMA = pd.Series(results.fittedvalues, copy=True)\n",
    "    predictions_ARIMA_cumsum = predictions_ARIMA.cumsum()\n",
    "    predictions_ARIMA_final = pd.Series(df['CLOSE'].iloc[0], index=new_spot.index)\n",
    "    predictions_ARIMA_final = predictions_ARIMA_final.add(predictions_ARIMA_cumsum, fill_value=0)\n",
    "    new_spot = df.CLOSE.resample('D',label='right').ffill()\n",
    "    es_model = ExponentialSmoothing(new_spot, trend='add', damped=False, seasonal='mul', seasonal_periods=30)\n",
    "    es_results = es_model.fit()\n",
    "    predicted_values = es_model.predict(params=es_results.params, start=e_date, end=forecast_end_date)\n",
    "\n",
    "    #create data frame from forecast timeseries\n",
    "    preds = pd.DataFrame(index= pd.date_range(start=e_date, end=forecast_end_date), data=predicted_values, columns=['CLOSE'])\n",
    "\n",
    "    #Plot graph of past and forecast timeseries\n",
    "    plt.figure(figsize=(16,7))\n",
    "    plt.plot(new_spot, label='Actual')\n",
    "    plt.plot(preds, label='Forecast', color='red')\n",
    "    plt.legend(loc='best')\n",
    "    plt.show()\n",
    "    return preds\n",
    "\n",
    "#end date that you want to forecast\n",
    "forecast_end_date = '2020-03-31'\n",
    "#call the function to forecast time series with ARIMA model\n",
    "forecast = ARIMA_model_forecast(df,forecast_end_date)\n",
    "#display forecast time series\n",
    "forecast"
   ],
   "metadata": {
    "collapsed": false
   }
  },
  {
   "cell_type": "code",
   "execution_count": null,
   "outputs": [],
   "source": [],
   "metadata": {
    "collapsed": false
   }
  }
 ],
 "metadata": {
  "kernelspec": {
   "display_name": "Python 3",
   "language": "python",
   "name": "python3"
  },
  "language_info": {
   "codemirror_mode": {
    "name": "ipython",
    "version": 2
   },
   "file_extension": ".py",
   "mimetype": "text/x-python",
   "name": "python",
   "nbconvert_exporter": "python",
   "pygments_lexer": "ipython2",
   "version": "2.7.6"
  }
 },
 "nbformat": 4,
 "nbformat_minor": 0
}
