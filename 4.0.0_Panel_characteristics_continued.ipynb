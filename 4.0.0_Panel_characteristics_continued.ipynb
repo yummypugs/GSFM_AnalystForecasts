{
 "cells": [
  {
   "attachments": {},
   "cell_type": "markdown",
   "metadata": {},
   "source": [
    "# Based on the date from 3. we can see taht characteristics have the best indication for analyst forecast, now we will compare and condition on the other criteria to se if this holds true. We will be removing covid years, as this seems to give better results."
   ]
  },
  {
   "cell_type": "code",
   "execution_count": 15,
   "metadata": {},
   "outputs": [],
   "source": [
    "import pandas as pd\n",
    "import numpy as np\n",
    "import datetime as dt\n",
    "import sklearn\n",
    "import statsmodels.api as sm\n",
    "from sklearn.linear_model import LinearRegression\n",
    "from sklearn.preprocessing import MinMaxScaler\n",
    "from sklearn.preprocessing import StandardScaler\n",
    "from linearmodels.panel import PanelOLS\n",
    "from linearmodels.panel import RandomEffects"
   ]
  },
  {
   "attachments": {},
   "cell_type": "markdown",
   "metadata": {},
   "source": [
    "Data"
   ]
  },
  {
   "cell_type": "code",
   "execution_count": 16,
   "metadata": {},
   "outputs": [
    {
     "data": {
      "text/plain": "      Instrument       Date GICS Industry Group Name  \\\n0          AVY.N 2013-01-01                Materials   \n1          AVY.N 2013-04-01                Materials   \n2          AVY.N 2013-07-01                Materials   \n3          AVY.N 2013-10-01                Materials   \n4          AVY.N 2014-01-01                Materials   \n...          ...        ...                      ...   \n19196    POOL.OQ 2021-10-01                Retailing   \n19197    POOL.OQ 2022-01-01                Retailing   \n19198    POOL.OQ 2022-04-01                Retailing   \n19199    POOL.OQ 2022-07-01                Retailing   \n19200    POOL.OQ 2022-10-01                Retailing   \n\n       Earnings Per Share - Actual Surprise  \\\n0                                    11.178   \n1                                     2.482   \n2                                     1.068   \n3                                     8.095   \n4                                     1.471   \n...                                     ...   \n19196                                17.194   \n19197                                40.267   \n19198                                34.342   \n19199                                 1.503   \n19200                                 4.196   \n\n       Earnings Per Share - Actual Surprise AbsVals  Revenue - Actual  \\\n0                                            11.178      1.532200e+09   \n1                                             2.482      1.498900e+09   \n2                                             1.068      1.552300e+09   \n3                                             8.095      1.504900e+09   \n4                                             1.471      1.583900e+09   \n...                                             ...               ...   \n19196                                        17.194      1.411448e+09   \n19197                                        40.267      1.035557e+09   \n19198                                        34.342      1.412650e+09   \n19199                                         1.503      2.055818e+09   \n19200                                         4.196      1.615339e+09   \n\n       Market Capitalization  \\\n0               3.426001e+09   \n1               4.309428e+09   \n2               4.258229e+09   \n3               4.273414e+09   \n4               4.877168e+09   \n...                      ...   \n19196           1.742020e+10   \n19197           2.268979e+10   \n19198           1.696712e+10   \n19199           1.405795e+10   \n19200           1.259813e+10   \n\n       Enterprise Value To Sales (Daily Time Series Ratio)  \\\n0                                               0.799347     \n1                                               0.895787     \n2                                               0.906078     \n3                                               0.903176     \n4                                               0.920659     \n...                                                  ...     \n19196                                           3.684400     \n19197                                           4.504382     \n19198                                           3.422880     \n19199                                           2.749481     \n19200                                           2.383926     \n\n       3 Month Total Return    Volume  loss firm status  \n0                 10.637479  207295.0                -1  \n1                 24.148726       0.0                -1  \n2                 -0.054218       0.0                -1  \n3                  2.467620  236291.0                -1  \n4                 16.003852  157761.0                -1  \n...                     ...       ...               ...  \n19196             -5.130322  157740.0                -1  \n19197             30.489705   82349.0                -1  \n19198            -25.160664  290897.0                -1  \n19199            -21.661570  185584.0                -1  \n19200             -9.164375  238539.0                -1  \n\n[19201 rows x 11 columns]",
      "text/html": "<div>\n<style scoped>\n    .dataframe tbody tr th:only-of-type {\n        vertical-align: middle;\n    }\n\n    .dataframe tbody tr th {\n        vertical-align: top;\n    }\n\n    .dataframe thead th {\n        text-align: right;\n    }\n</style>\n<table border=\"1\" class=\"dataframe\">\n  <thead>\n    <tr style=\"text-align: right;\">\n      <th></th>\n      <th>Instrument</th>\n      <th>Date</th>\n      <th>GICS Industry Group Name</th>\n      <th>Earnings Per Share - Actual Surprise</th>\n      <th>Earnings Per Share - Actual Surprise AbsVals</th>\n      <th>Revenue - Actual</th>\n      <th>Market Capitalization</th>\n      <th>Enterprise Value To Sales (Daily Time Series Ratio)</th>\n      <th>3 Month Total Return</th>\n      <th>Volume</th>\n      <th>loss firm status</th>\n    </tr>\n  </thead>\n  <tbody>\n    <tr>\n      <th>0</th>\n      <td>AVY.N</td>\n      <td>2013-01-01</td>\n      <td>Materials</td>\n      <td>11.178</td>\n      <td>11.178</td>\n      <td>1.532200e+09</td>\n      <td>3.426001e+09</td>\n      <td>0.799347</td>\n      <td>10.637479</td>\n      <td>207295.0</td>\n      <td>-1</td>\n    </tr>\n    <tr>\n      <th>1</th>\n      <td>AVY.N</td>\n      <td>2013-04-01</td>\n      <td>Materials</td>\n      <td>2.482</td>\n      <td>2.482</td>\n      <td>1.498900e+09</td>\n      <td>4.309428e+09</td>\n      <td>0.895787</td>\n      <td>24.148726</td>\n      <td>0.0</td>\n      <td>-1</td>\n    </tr>\n    <tr>\n      <th>2</th>\n      <td>AVY.N</td>\n      <td>2013-07-01</td>\n      <td>Materials</td>\n      <td>1.068</td>\n      <td>1.068</td>\n      <td>1.552300e+09</td>\n      <td>4.258229e+09</td>\n      <td>0.906078</td>\n      <td>-0.054218</td>\n      <td>0.0</td>\n      <td>-1</td>\n    </tr>\n    <tr>\n      <th>3</th>\n      <td>AVY.N</td>\n      <td>2013-10-01</td>\n      <td>Materials</td>\n      <td>8.095</td>\n      <td>8.095</td>\n      <td>1.504900e+09</td>\n      <td>4.273414e+09</td>\n      <td>0.903176</td>\n      <td>2.467620</td>\n      <td>236291.0</td>\n      <td>-1</td>\n    </tr>\n    <tr>\n      <th>4</th>\n      <td>AVY.N</td>\n      <td>2014-01-01</td>\n      <td>Materials</td>\n      <td>1.471</td>\n      <td>1.471</td>\n      <td>1.583900e+09</td>\n      <td>4.877168e+09</td>\n      <td>0.920659</td>\n      <td>16.003852</td>\n      <td>157761.0</td>\n      <td>-1</td>\n    </tr>\n    <tr>\n      <th>...</th>\n      <td>...</td>\n      <td>...</td>\n      <td>...</td>\n      <td>...</td>\n      <td>...</td>\n      <td>...</td>\n      <td>...</td>\n      <td>...</td>\n      <td>...</td>\n      <td>...</td>\n      <td>...</td>\n    </tr>\n    <tr>\n      <th>19196</th>\n      <td>POOL.OQ</td>\n      <td>2021-10-01</td>\n      <td>Retailing</td>\n      <td>17.194</td>\n      <td>17.194</td>\n      <td>1.411448e+09</td>\n      <td>1.742020e+10</td>\n      <td>3.684400</td>\n      <td>-5.130322</td>\n      <td>157740.0</td>\n      <td>-1</td>\n    </tr>\n    <tr>\n      <th>19197</th>\n      <td>POOL.OQ</td>\n      <td>2022-01-01</td>\n      <td>Retailing</td>\n      <td>40.267</td>\n      <td>40.267</td>\n      <td>1.035557e+09</td>\n      <td>2.268979e+10</td>\n      <td>4.504382</td>\n      <td>30.489705</td>\n      <td>82349.0</td>\n      <td>-1</td>\n    </tr>\n    <tr>\n      <th>19198</th>\n      <td>POOL.OQ</td>\n      <td>2022-04-01</td>\n      <td>Retailing</td>\n      <td>34.342</td>\n      <td>34.342</td>\n      <td>1.412650e+09</td>\n      <td>1.696712e+10</td>\n      <td>3.422880</td>\n      <td>-25.160664</td>\n      <td>290897.0</td>\n      <td>-1</td>\n    </tr>\n    <tr>\n      <th>19199</th>\n      <td>POOL.OQ</td>\n      <td>2022-07-01</td>\n      <td>Retailing</td>\n      <td>1.503</td>\n      <td>1.503</td>\n      <td>2.055818e+09</td>\n      <td>1.405795e+10</td>\n      <td>2.749481</td>\n      <td>-21.661570</td>\n      <td>185584.0</td>\n      <td>-1</td>\n    </tr>\n    <tr>\n      <th>19200</th>\n      <td>POOL.OQ</td>\n      <td>2022-10-01</td>\n      <td>Retailing</td>\n      <td>4.196</td>\n      <td>4.196</td>\n      <td>1.615339e+09</td>\n      <td>1.259813e+10</td>\n      <td>2.383926</td>\n      <td>-9.164375</td>\n      <td>238539.0</td>\n      <td>-1</td>\n    </tr>\n  </tbody>\n</table>\n<p>19201 rows × 11 columns</p>\n</div>"
     },
     "execution_count": 16,
     "metadata": {},
     "output_type": "execute_result"
    }
   ],
   "source": [
    "df = pd.read_csv(\"Dataframes/characteristics_regression.csv\")\n",
    "#X_var_names = [\"Revenue - Actual\",\"Enterprise Value\",\"Market Capitalization\",\"loss firm status\", \"Enterprise Value To Sales (Daily Time Series Ratio)\", \"3 Month Total Return\", \"Volume\"]\n",
    "df[\"Date\"] = pd.to_datetime(df[\"Date\"])\n",
    "df"
   ]
  },
  {
   "attachments": {},
   "cell_type": "markdown",
   "metadata": {},
   "source": [
    "Standardising"
   ]
  },
  {
   "cell_type": "code",
   "execution_count": 17,
   "metadata": {},
   "outputs": [
    {
     "data": {
      "text/plain": "      Instrument       Date GICS Industry Group Name  \\\n0          AVY.N 2013-01-01                Materials   \n1          AVY.N 2013-04-01                Materials   \n2          AVY.N 2013-07-01                Materials   \n3          AVY.N 2013-10-01                Materials   \n4          AVY.N 2014-01-01                Materials   \n...          ...        ...                      ...   \n19196    POOL.OQ 2021-10-01                Retailing   \n19197    POOL.OQ 2022-01-01                Retailing   \n19198    POOL.OQ 2022-04-01                Retailing   \n19199    POOL.OQ 2022-07-01                Retailing   \n19200    POOL.OQ 2022-10-01                Retailing   \n\n       Earnings Per Share - Actual Surprise  \\\n0                                    11.178   \n1                                     2.482   \n2                                     1.068   \n3                                     8.095   \n4                                     1.471   \n...                                     ...   \n19196                                17.194   \n19197                                40.267   \n19198                                34.342   \n19199                                 1.503   \n19200                                 4.196   \n\n       Earnings Per Share - Actual Surprise AbsVals  Revenue - Actual  \\\n0                                            11.178          0.065123   \n1                                             2.482          0.064917   \n2                                             1.068          0.065247   \n3                                             8.095          0.064955   \n4                                             1.471          0.065443   \n...                                             ...               ...   \n19196                                        17.194          0.064377   \n19197                                        40.267          0.062055   \n19198                                        34.342          0.064385   \n19199                                         1.503          0.068358   \n19200                                         4.196          0.065637   \n\n       Market Capitalization  \\\n0                   0.001166   \n1                   0.001471   \n2                   0.001453   \n3                   0.001459   \n4                   0.001667   \n...                      ...   \n19196               0.006004   \n19197               0.007826   \n19198               0.005848   \n19199               0.004842   \n19200               0.004337   \n\n       Enterprise Value To Sales (Daily Time Series Ratio)  \\\n0                                               0.027195     \n1                                               0.027308     \n2                                               0.027321     \n3                                               0.027317     \n4                                               0.027338     \n...                                                  ...     \n19196                                           0.030598     \n19197                                           0.031566     \n19198                                           0.030290     \n19199                                           0.029495     \n19200                                           0.029064     \n\n       3 Month Total Return    Volume  loss firm status  \n0                  0.298034  0.001183                -1  \n1                  0.340793  0.000000                -1  \n2                  0.264198  0.000000                -1  \n3                  0.272179  0.001348                -1  \n4                  0.315017  0.000900                -1  \n...                     ...       ...               ...  \n19196              0.248134  0.000900                -1  \n19197              0.360861  0.000470                -1  \n19198              0.184744  0.001660                -1  \n19199              0.195817  0.001059                -1  \n19200              0.235367  0.001361                -1  \n\n[19201 rows x 11 columns]",
      "text/html": "<div>\n<style scoped>\n    .dataframe tbody tr th:only-of-type {\n        vertical-align: middle;\n    }\n\n    .dataframe tbody tr th {\n        vertical-align: top;\n    }\n\n    .dataframe thead th {\n        text-align: right;\n    }\n</style>\n<table border=\"1\" class=\"dataframe\">\n  <thead>\n    <tr style=\"text-align: right;\">\n      <th></th>\n      <th>Instrument</th>\n      <th>Date</th>\n      <th>GICS Industry Group Name</th>\n      <th>Earnings Per Share - Actual Surprise</th>\n      <th>Earnings Per Share - Actual Surprise AbsVals</th>\n      <th>Revenue - Actual</th>\n      <th>Market Capitalization</th>\n      <th>Enterprise Value To Sales (Daily Time Series Ratio)</th>\n      <th>3 Month Total Return</th>\n      <th>Volume</th>\n      <th>loss firm status</th>\n    </tr>\n  </thead>\n  <tbody>\n    <tr>\n      <th>0</th>\n      <td>AVY.N</td>\n      <td>2013-01-01</td>\n      <td>Materials</td>\n      <td>11.178</td>\n      <td>11.178</td>\n      <td>0.065123</td>\n      <td>0.001166</td>\n      <td>0.027195</td>\n      <td>0.298034</td>\n      <td>0.001183</td>\n      <td>-1</td>\n    </tr>\n    <tr>\n      <th>1</th>\n      <td>AVY.N</td>\n      <td>2013-04-01</td>\n      <td>Materials</td>\n      <td>2.482</td>\n      <td>2.482</td>\n      <td>0.064917</td>\n      <td>0.001471</td>\n      <td>0.027308</td>\n      <td>0.340793</td>\n      <td>0.000000</td>\n      <td>-1</td>\n    </tr>\n    <tr>\n      <th>2</th>\n      <td>AVY.N</td>\n      <td>2013-07-01</td>\n      <td>Materials</td>\n      <td>1.068</td>\n      <td>1.068</td>\n      <td>0.065247</td>\n      <td>0.001453</td>\n      <td>0.027321</td>\n      <td>0.264198</td>\n      <td>0.000000</td>\n      <td>-1</td>\n    </tr>\n    <tr>\n      <th>3</th>\n      <td>AVY.N</td>\n      <td>2013-10-01</td>\n      <td>Materials</td>\n      <td>8.095</td>\n      <td>8.095</td>\n      <td>0.064955</td>\n      <td>0.001459</td>\n      <td>0.027317</td>\n      <td>0.272179</td>\n      <td>0.001348</td>\n      <td>-1</td>\n    </tr>\n    <tr>\n      <th>4</th>\n      <td>AVY.N</td>\n      <td>2014-01-01</td>\n      <td>Materials</td>\n      <td>1.471</td>\n      <td>1.471</td>\n      <td>0.065443</td>\n      <td>0.001667</td>\n      <td>0.027338</td>\n      <td>0.315017</td>\n      <td>0.000900</td>\n      <td>-1</td>\n    </tr>\n    <tr>\n      <th>...</th>\n      <td>...</td>\n      <td>...</td>\n      <td>...</td>\n      <td>...</td>\n      <td>...</td>\n      <td>...</td>\n      <td>...</td>\n      <td>...</td>\n      <td>...</td>\n      <td>...</td>\n      <td>...</td>\n    </tr>\n    <tr>\n      <th>19196</th>\n      <td>POOL.OQ</td>\n      <td>2021-10-01</td>\n      <td>Retailing</td>\n      <td>17.194</td>\n      <td>17.194</td>\n      <td>0.064377</td>\n      <td>0.006004</td>\n      <td>0.030598</td>\n      <td>0.248134</td>\n      <td>0.000900</td>\n      <td>-1</td>\n    </tr>\n    <tr>\n      <th>19197</th>\n      <td>POOL.OQ</td>\n      <td>2022-01-01</td>\n      <td>Retailing</td>\n      <td>40.267</td>\n      <td>40.267</td>\n      <td>0.062055</td>\n      <td>0.007826</td>\n      <td>0.031566</td>\n      <td>0.360861</td>\n      <td>0.000470</td>\n      <td>-1</td>\n    </tr>\n    <tr>\n      <th>19198</th>\n      <td>POOL.OQ</td>\n      <td>2022-04-01</td>\n      <td>Retailing</td>\n      <td>34.342</td>\n      <td>34.342</td>\n      <td>0.064385</td>\n      <td>0.005848</td>\n      <td>0.030290</td>\n      <td>0.184744</td>\n      <td>0.001660</td>\n      <td>-1</td>\n    </tr>\n    <tr>\n      <th>19199</th>\n      <td>POOL.OQ</td>\n      <td>2022-07-01</td>\n      <td>Retailing</td>\n      <td>1.503</td>\n      <td>1.503</td>\n      <td>0.068358</td>\n      <td>0.004842</td>\n      <td>0.029495</td>\n      <td>0.195817</td>\n      <td>0.001059</td>\n      <td>-1</td>\n    </tr>\n    <tr>\n      <th>19200</th>\n      <td>POOL.OQ</td>\n      <td>2022-10-01</td>\n      <td>Retailing</td>\n      <td>4.196</td>\n      <td>4.196</td>\n      <td>0.065637</td>\n      <td>0.004337</td>\n      <td>0.029064</td>\n      <td>0.235367</td>\n      <td>0.001361</td>\n      <td>-1</td>\n    </tr>\n  </tbody>\n</table>\n<p>19201 rows × 11 columns</p>\n</div>"
     },
     "execution_count": 17,
     "metadata": {},
     "output_type": "execute_result"
    }
   ],
   "source": [
    "rescale = df.copy()\n",
    "#rescale[\"Earnings Per Share - Actual Surprise\"] = MinMaxScaler().fit_transform(np.array(rescale[\"Earnings Per Share - Actual Surprise\"]).reshape(-1,1))\n",
    "rescale[\"Revenue - Actual\"] = MinMaxScaler().fit_transform(np.array(rescale[\"Revenue - Actual\"]).reshape(-1,1))\n",
    "rescale[\"Market Capitalization\"] = MinMaxScaler().fit_transform(np.array(rescale[\"Market Capitalization\"]).reshape(-1,1))\n",
    "rescale[\"Enterprise Value To Sales (Daily Time Series Ratio)\"] = MinMaxScaler().fit_transform(np.array(rescale[\"Enterprise Value To Sales (Daily Time Series Ratio)\"]).reshape(-1,1))\n",
    "rescale[\"3 Month Total Return\"] = MinMaxScaler().fit_transform(np.array(rescale[\"3 Month Total Return\"]).reshape(-1,1))\n",
    "rescale[\"Volume\"] = MinMaxScaler().fit_transform(np.array(rescale[\"Volume\"]).reshape(-1,1))\n",
    "df_clean = rescale\n",
    "df_clean"
   ]
  },
  {
   "cell_type": "markdown",
   "metadata": {
    "collapsed": false
   },
   "source": [
    "### Create 2 new dataframes one with only covid years one with only non-covid years"
   ]
  },
  {
   "cell_type": "code",
   "execution_count": 18,
   "metadata": {
    "collapsed": false
   },
   "outputs": [],
   "source": [
    "covid_start = pd.to_datetime(\"2020-01-01\")\n",
    "\n",
    "df_covid = df_clean[df_clean[\"Date\"] >= covid_start]\n",
    "\n",
    "df_nocovid = df_clean[df_clean[\"Date\"] < covid_start]"
   ]
  },
  {
   "cell_type": "markdown",
   "metadata": {
    "collapsed": false
   },
   "source": [
    "#### Fixed Effects"
   ]
  },
  {
   "cell_type": "code",
   "execution_count": 19,
   "metadata": {
    "collapsed": false
   },
   "outputs": [
    {
     "name": "stderr",
     "output_type": "stream",
     "text": [
      "C:\\Users\\alexa\\AppData\\Local\\Temp\\ipykernel_16524\\876088522.py:1: SettingWithCopyWarning: \n",
      "A value is trying to be set on a copy of a slice from a DataFrame.\n",
      "Try using .loc[row_indexer,col_indexer] = value instead\n",
      "\n",
      "See the caveats in the documentation: https://pandas.pydata.org/pandas-docs/stable/user_guide/indexing.html#returning-a-view-versus-a-copy\n",
      "  df_nocovid['Instrument'] = df_nocovid['Instrument'].astype('category')\n",
      "C:\\Users\\alexa\\AppData\\Local\\Temp\\ipykernel_16524\\876088522.py:2: SettingWithCopyWarning: \n",
      "A value is trying to be set on a copy of a slice from a DataFrame.\n",
      "Try using .loc[row_indexer,col_indexer] = value instead\n",
      "\n",
      "See the caveats in the documentation: https://pandas.pydata.org/pandas-docs/stable/user_guide/indexing.html#returning-a-view-versus-a-copy\n",
      "  df_nocovid['Date'] = pd.to_datetime(df_nocovid['Date'])\n"
     ]
    }
   ],
   "source": [
    "df_nocovid['Instrument'] = df_nocovid['Instrument'].astype('category')\n",
    "df_nocovid['Date'] = pd.to_datetime(df_nocovid['Date'])\n",
    "\n",
    "# set the index to be the time variable and the cross-sectional variable\n",
    "df_nocovid.set_index(['Instrument', 'Date'], inplace=True)"
   ]
  },
  {
   "attachments": {},
   "cell_type": "markdown",
   "metadata": {},
   "source": [
    "#### FE Panel Regression with Absolute Suprise Values for Covid and non-Covid quarters"
   ]
  },
  {
   "attachments": {},
   "cell_type": "markdown",
   "metadata": {},
   "source": [
    "Non-Covid Quarters"
   ]
  },
  {
   "cell_type": "code",
   "execution_count": 20,
   "metadata": {
    "collapsed": false
   },
   "outputs": [
    {
     "name": "stderr",
     "output_type": "stream",
     "text": [
      "C:\\Users\\alexa\\mambaforge\\envs\\AnalystForecast\\Lib\\site-packages\\linearmodels\\panel\\model.py:1183: MissingValueWarning: \n",
      "Inputs contain missing values. Dropping rows with missing observations.\n",
      "  super().__init__(dependent, exog, weights=weights, check_rank=check_rank)\n"
     ]
    },
    {
     "data": {
      "text/plain": "<class 'linearmodels.compat.statsmodels.Summary'>\n\"\"\"\n                                       PanelOLS Estimation Summary                                        \n==========================================================================================================\nDep. Variable:     Earnings Per Share - Actual Surprise AbsVals   R-squared:                        0.0048\nEstimator:                                             PanelOLS   R-squared (Between):             -0.4960\nNo. Observations:                                         13222   R-squared (Within):               0.0057\nDate:                                          Sun, Mar 05 2023   R-squared (Overall):             -0.2097\nTime:                                                  20:49:54   Log-likelihood                -6.277e+04\nCov. Estimator:                                      Unadjusted                                           \n                                                                  F-statistic:                      10.287\nEntities:                                                   498   P-value                           0.0000\nAvg Obs:                                                 26.550   Distribution:                 F(6,12692)\nMin Obs:                                                 0.0000                                           \nMax Obs:                                                 28.000   F-statistic (robust):             10.287\n                                                                  P-value                           0.0000\nTime periods:                                                28   Distribution:                 F(6,12692)\nAvg Obs:                                                 472.21                                           \nMin Obs:                                                 444.00                                           \nMax Obs:                                                 496.00                                           \n                                                                                                          \n                                                  Parameter Estimates                                                  \n=======================================================================================================================\n                                                     Parameter  Std. Err.     T-stat    P-value    Lower CI    Upper CI\n-----------------------------------------------------------------------------------------------------------------------\nRevenue - Actual                                       -59.233     20.459    -2.8952     0.0038     -99.336     -19.130\nMarket Capitalization                                  -35.072     33.308    -1.0530     0.2924     -100.36      30.217\nEnterprise Value To Sales (Daily Time Series Ratio)    -79.142     151.54    -0.5223     0.6015     -376.18      217.90\n3 Month Total Return                                    13.390     7.0403     1.9019     0.0572     -0.4102      27.190\nVolume                                                 -45.634     24.422    -1.8685     0.0617     -93.505      2.2374\nloss firm status                                        3.5128     0.5662     6.2042     0.0000      2.4030      4.6227\n=======================================================================================================================\n\nF-test for Poolability: 8.2417\nP-value: 0.0000\nDistribution: F(523,12692)\n\nIncluded effects: Entity, Time\n\"\"\"",
      "text/html": "<table class=\"simpletable\">\n<caption>PanelOLS Estimation Summary</caption>\n<tr>\n  <th>Dep. Variable:</th>    <td>Earnings Per Share - Actual Surprise AbsVals</td> <th>  R-squared:         </th>     <td>0.0048</td>  \n</tr>\n<tr>\n  <th>Estimator:</th>                          <td>PanelOLS</td>                   <th>  R-squared (Between):</th>    <td>-0.4960</td> \n</tr>\n<tr>\n  <th>No. Observations:</th>                     <td>13222</td>                    <th>  R-squared (Within):</th>     <td>0.0057</td>  \n</tr>\n<tr>\n  <th>Date:</th>                           <td>Sun, Mar 05 2023</td>               <th>  R-squared (Overall):</th>    <td>-0.2097</td> \n</tr>\n<tr>\n  <th>Time:</th>                               <td>20:49:54</td>                   <th>  Log-likelihood     </th>   <td>-6.277e+04</td>\n</tr>\n<tr>\n  <th>Cov. Estimator:</th>                    <td>Unadjusted</td>                  <th>                     </th>        <td></td>     \n</tr>\n<tr>\n  <th></th>                                        <td></td>                       <th>  F-statistic:       </th>     <td>10.287</td>  \n</tr>\n<tr>\n  <th>Entities:</th>                              <td>498</td>                     <th>  P-value            </th>     <td>0.0000</td>  \n</tr>\n<tr>\n  <th>Avg Obs:</th>                             <td>26.550</td>                    <th>  Distribution:      </th>   <td>F(6,12692)</td>\n</tr>\n<tr>\n  <th>Min Obs:</th>                             <td>0.0000</td>                    <th>                     </th>        <td></td>     \n</tr>\n<tr>\n  <th>Max Obs:</th>                             <td>28.000</td>                    <th>  F-statistic (robust):</th>   <td>10.287</td>  \n</tr>\n<tr>\n  <th></th>                                        <td></td>                       <th>  P-value            </th>     <td>0.0000</td>  \n</tr>\n<tr>\n  <th>Time periods:</th>                          <td>28</td>                      <th>  Distribution:      </th>   <td>F(6,12692)</td>\n</tr>\n<tr>\n  <th>Avg Obs:</th>                             <td>472.21</td>                    <th>                     </th>        <td></td>     \n</tr>\n<tr>\n  <th>Min Obs:</th>                             <td>444.00</td>                    <th>                     </th>        <td></td>     \n</tr>\n<tr>\n  <th>Max Obs:</th>                             <td>496.00</td>                    <th>                     </th>        <td></td>     \n</tr>\n<tr>\n  <th></th>                                        <td></td>                       <th>                     </th>        <td></td>     \n</tr>\n</table>\n<table class=\"simpletable\">\n<caption>Parameter Estimates</caption>\n<tr>\n                           <td></td>                           <th>Parameter</th> <th>Std. Err.</th> <th>T-stat</th>  <th>P-value</th> <th>Lower CI</th> <th>Upper CI</th>\n</tr>\n<tr>\n  <th>Revenue - Actual</th>                                     <td>-59.233</td>   <td>20.459</td>   <td>-2.8952</td> <td>0.0038</td>   <td>-99.336</td>  <td>-19.130</td>\n</tr>\n<tr>\n  <th>Market Capitalization</th>                                <td>-35.072</td>   <td>33.308</td>   <td>-1.0530</td> <td>0.2924</td>   <td>-100.36</td>  <td>30.217</td> \n</tr>\n<tr>\n  <th>Enterprise Value To Sales (Daily Time Series Ratio)</th>  <td>-79.142</td>   <td>151.54</td>   <td>-0.5223</td> <td>0.6015</td>   <td>-376.18</td>  <td>217.90</td> \n</tr>\n<tr>\n  <th>3 Month Total Return</th>                                 <td>13.390</td>    <td>7.0403</td>   <td>1.9019</td>  <td>0.0572</td>   <td>-0.4102</td>  <td>27.190</td> \n</tr>\n<tr>\n  <th>Volume</th>                                               <td>-45.634</td>   <td>24.422</td>   <td>-1.8685</td> <td>0.0617</td>   <td>-93.505</td>  <td>2.2374</td> \n</tr>\n<tr>\n  <th>loss firm status</th>                                     <td>3.5128</td>    <td>0.5662</td>   <td>6.2042</td>  <td>0.0000</td>   <td>2.4030</td>   <td>4.6227</td> \n</tr>\n</table><br/><br/>F-test for Poolability: 8.2417<br/>P-value: 0.0000<br/>Distribution: F(523,12692)<br/><br/>Included effects: Entity, Time"
     },
     "execution_count": 20,
     "metadata": {},
     "output_type": "execute_result"
    }
   ],
   "source": [
    "y = df_nocovid.loc[:, \"Earnings Per Share - Actual Surprise AbsVals\"]\n",
    "X = df_nocovid.loc[:, \"Revenue - Actual\":]\n",
    "\n",
    "# perform the fixed effects panel regression\n",
    "fixed_effects_model = PanelOLS(y, X, entity_effects=True, time_effects=True)\n",
    "\n",
    "# fit the model and print the summary statistics\n",
    "fixed_effects_results = fixed_effects_model.fit()\n",
    "fixed_effects_results.summary"
   ]
  },
  {
   "cell_type": "markdown",
   "source": [
    "# Conditioning on Analyst dataframe"
   ],
   "metadata": {
    "collapsed": false
   }
  },
  {
   "cell_type": "code",
   "execution_count": 20,
   "outputs": [],
   "source": [
    "analysts = pd.read_csv(\"Dataframes/analysts_regression.csv\")"
   ],
   "metadata": {
    "collapsed": false
   }
  },
  {
   "cell_type": "code",
   "execution_count": null,
   "outputs": [],
   "source": [
    "#analysts[\"Earnings Per Share - Actual Surprise\"] = MinMaxScaler().fit_transform(np.array(analysts[\"Earnings Per Share - Actual Surprise\"]).reshape(-1,1))\n",
    "analysts[\"Earnings Per Share – Coefficient of Variation\"] = MinMaxScaler().fit_transform(np.array(analysts[\"Earnings Per Share – Coefficient of Variation\"]).reshape(-1,1))\n",
    "analysts[\"Number of Analysts\"] = MinMaxScaler().fit_transform(np.array(analysts[\"Number of Analysts\"]).reshape(-1,1))\n",
    "analysts[\"Recommendation - Mean (1-5)\"] = MinMaxScaler().fit_transform(np.array(analysts[\"Recommendation - Mean (1-5)\"]).reshape(-1,1))\n",
    "analysts[\"Recommendation change\"] = MinMaxScaler().fit_transform(np.array(analysts[\"Recommendation change\"]).reshape(-1,1))\n",
    "analysts[\"Recommendation - Mean (1-5).1\"] = MinMaxScaler().fit_transform(np.array(analysts[\"Recommendation - Mean (1-5).1\"]).reshape(-1,1))\n",
    "analysts[\"Price Target - Standard Deviation\"] = MinMaxScaler().fit_transform(np.array(analysts[\"Price Target - Standard Deviation\"]).reshape(-1,1))\n"
   ],
   "metadata": {
    "collapsed": false
   }
  },
  {
   "cell_type": "markdown",
   "source": [
    "# Conditioning on Macro Dataframe"
   ],
   "metadata": {
    "collapsed": false
   }
  },
  {
   "cell_type": "code",
   "execution_count": 21,
   "outputs": [],
   "source": [
    "macro = pd.read_csv(\"Dataframes/macro_regression.csv\")"
   ],
   "metadata": {
    "collapsed": false
   }
  },
  {
   "cell_type": "code",
   "execution_count": null,
   "outputs": [],
   "source": [
    "#macro[\"Earnings Per Share - Actual Surprise\"] = MinMaxScaler().fit_transform(np.array(macro[\"Earnings Per Share - Actual Surprise\"]).reshape(-1,1))\n",
    "macro[\"CBOE Crude Oil ETF Volatility Index\"] = MinMaxScaler().fit_transform(np.array(macro[\"CBOE Crude Oil ETF Volatility Index\"]).reshape(-1,1))\n",
    "macro[\"90-Day AA Financial Commercial Paper Interest Rate\"] = MinMaxScaler().fit_transform(np.array(macro[\"90-Day AA Financial Commercial Paper Interest Rate\"]).reshape(-1,1))\n",
    "macro[\"Inflation Risk Premium\"] = MinMaxScaler().fit_transform(np.array(macro[\"Inflation Risk Premium\"]).reshape(-1,1))\n",
    "macro[\"University of Michigan: Consumer Sentiment, Index 1966:Q1=100\"] = MinMaxScaler().fit_transform(np.array(macro[\"University of Michigan: Consumer Sentiment, Index 1966:Q1=100\"]).reshape(-1,1))\n",
    "macro[\"Unemployment Rate\"] = MinMaxScaler().fit_transform(np.array(macro[\"Unemployment Rate\"]).reshape(-1,1))\n"
   ],
   "metadata": {
    "collapsed": false
   }
  }
 ],
 "metadata": {
  "kernelspec": {
   "display_name": "AnalystForecast",
   "language": "python",
   "name": "python3"
  },
  "language_info": {
   "codemirror_mode": {
    "name": "ipython",
    "version": 3
   },
   "file_extension": ".py",
   "mimetype": "text/x-python",
   "name": "python",
   "nbconvert_exporter": "python",
   "pygments_lexer": "ipython3",
   "version": "3.11.0"
  },
  "orig_nbformat": 4,
  "vscode": {
   "interpreter": {
    "hash": "264d128b47a19451ae7876f5ee246d3f7de9751940a5ebe47f15ec6626e5a91f"
   }
  }
 },
 "nbformat": 4,
 "nbformat_minor": 2
}
