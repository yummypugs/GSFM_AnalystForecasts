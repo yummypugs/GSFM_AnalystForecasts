{
 "cells": [
  {
   "attachments": {},
   "cell_type": "markdown",
   "metadata": {},
   "source": [
    "# Panle Regression - Firm Characteristics"
   ]
  },
  {
   "attachments": {},
   "cell_type": "markdown",
   "metadata": {},
   "source": [
    "A panel regression is a suitable regression method for analyzing our data, especially since you have quarterly data for multiple companies over a long period of time. A panel regression model accounts for both within-entity and between-entity variations, making it a useful tool to analyze data with a time series and cross-sectional dimension.  \n",
    "With panel data, we can control for individual-level characteristics that may affect forecast accuracy by including fixed effects for each company or industry. We can also account for time-specific factors that may affect forecast accuracy by including time fixed effects or time-varying covariates."
   ]
  },
  {
   "attachments": {},
   "cell_type": "markdown",
   "metadata": {},
   "source": [
    "### Random Effects Panel Regression"
   ]
  },
  {
   "cell_type": "code",
   "execution_count": 1,
   "metadata": {},
   "outputs": [],
   "source": [
    "import pandas as pd\n",
    "import numpy as np\n",
    "import datetime as dt\n",
    "import sklearn\n",
    "import statsmodels.api as sm\n",
    "from sklearn.linear_model import LinearRegression\n",
    "from sklearn.preprocessing import MinMaxScaler\n",
    "from sklearn.preprocessing import StandardScaler\n",
    "from linearmodels.panel import PanelOLS\n",
    "from linearmodels.panel import RandomEffects\n"
   ]
  },
  {
   "attachments": {},
   "cell_type": "markdown",
   "metadata": {},
   "source": [
    "Data"
   ]
  },
  {
   "cell_type": "code",
   "execution_count": 2,
   "metadata": {},
   "outputs": [
    {
     "data": {
      "text/plain": "      Instrument        Date GICS Industry Group Name  \\\n0          AVY.N  2013-01-01                Materials   \n1          AVY.N  2013-04-01                Materials   \n2          AVY.N  2013-07-01                Materials   \n3          AVY.N  2013-10-01                Materials   \n4          AVY.N  2014-01-01                Materials   \n...          ...         ...                      ...   \n19335    POOL.OQ  2021-10-01                Retailing   \n19336    POOL.OQ  2022-01-01                Retailing   \n19337    POOL.OQ  2022-04-01                Retailing   \n19338    POOL.OQ  2022-07-01                Retailing   \n19339    POOL.OQ  2022-10-01                Retailing   \n\n       Earnings Per Share - Actual Surprise  Revenue - Actual  \\\n0                                    11.178      1.532200e+09   \n1                                     2.482      1.498900e+09   \n2                                     1.068      1.552300e+09   \n3                                     8.095      1.504900e+09   \n4                                     1.471      1.583900e+09   \n...                                     ...               ...   \n19335                                17.194      1.411448e+09   \n19336                                40.267      1.035557e+09   \n19337                                34.342      1.412650e+09   \n19338                                 1.503      2.055818e+09   \n19339                                 4.196      1.615339e+09   \n\n       Enterprise Value  Market Capitalization  \\\n0          4.413001e+09           3.426001e+09   \n1          5.459128e+09           4.309428e+09   \n2          5.436229e+09           4.258229e+09   \n3          5.029514e+09           4.273414e+09   \n4          5.553068e+09           4.877168e+09   \n...                 ...                    ...   \n19335      1.769954e+10           1.742020e+10   \n19336      2.384882e+10           2.268979e+10   \n19337      1.843682e+10           1.696712e+10   \n19338      1.556187e+10           1.405795e+10   \n19339      1.406160e+10           1.259813e+10   \n\n       Enterprise Value To Sales (Daily Time Series Ratio)  \\\n0                                               0.799347     \n1                                               0.895787     \n2                                               0.906078     \n3                                               0.903176     \n4                                               0.920659     \n...                                                  ...     \n19335                                           3.684400     \n19336                                           4.504382     \n19337                                           3.422880     \n19338                                           2.749481     \n19339                                           2.383926     \n\n       3 Month Total Return    Volume  loss firm status  \n0                 10.637479  207295.0                -1  \n1                 24.148726       0.0                -1  \n2                 -0.054218       0.0                -1  \n3                  2.467620  236291.0                -1  \n4                 16.003852  157761.0                -1  \n...                     ...       ...               ...  \n19335             -5.130322  157740.0                -1  \n19336             30.489705   82349.0                -1  \n19337            -25.160664  290897.0                -1  \n19338            -21.661570  185584.0                -1  \n19339             -9.164375  238539.0                -1  \n\n[19340 rows x 11 columns]",
      "text/html": "<div>\n<style scoped>\n    .dataframe tbody tr th:only-of-type {\n        vertical-align: middle;\n    }\n\n    .dataframe tbody tr th {\n        vertical-align: top;\n    }\n\n    .dataframe thead th {\n        text-align: right;\n    }\n</style>\n<table border=\"1\" class=\"dataframe\">\n  <thead>\n    <tr style=\"text-align: right;\">\n      <th></th>\n      <th>Instrument</th>\n      <th>Date</th>\n      <th>GICS Industry Group Name</th>\n      <th>Earnings Per Share - Actual Surprise</th>\n      <th>Revenue - Actual</th>\n      <th>Enterprise Value</th>\n      <th>Market Capitalization</th>\n      <th>Enterprise Value To Sales (Daily Time Series Ratio)</th>\n      <th>3 Month Total Return</th>\n      <th>Volume</th>\n      <th>loss firm status</th>\n    </tr>\n  </thead>\n  <tbody>\n    <tr>\n      <th>0</th>\n      <td>AVY.N</td>\n      <td>2013-01-01</td>\n      <td>Materials</td>\n      <td>11.178</td>\n      <td>1.532200e+09</td>\n      <td>4.413001e+09</td>\n      <td>3.426001e+09</td>\n      <td>0.799347</td>\n      <td>10.637479</td>\n      <td>207295.0</td>\n      <td>-1</td>\n    </tr>\n    <tr>\n      <th>1</th>\n      <td>AVY.N</td>\n      <td>2013-04-01</td>\n      <td>Materials</td>\n      <td>2.482</td>\n      <td>1.498900e+09</td>\n      <td>5.459128e+09</td>\n      <td>4.309428e+09</td>\n      <td>0.895787</td>\n      <td>24.148726</td>\n      <td>0.0</td>\n      <td>-1</td>\n    </tr>\n    <tr>\n      <th>2</th>\n      <td>AVY.N</td>\n      <td>2013-07-01</td>\n      <td>Materials</td>\n      <td>1.068</td>\n      <td>1.552300e+09</td>\n      <td>5.436229e+09</td>\n      <td>4.258229e+09</td>\n      <td>0.906078</td>\n      <td>-0.054218</td>\n      <td>0.0</td>\n      <td>-1</td>\n    </tr>\n    <tr>\n      <th>3</th>\n      <td>AVY.N</td>\n      <td>2013-10-01</td>\n      <td>Materials</td>\n      <td>8.095</td>\n      <td>1.504900e+09</td>\n      <td>5.029514e+09</td>\n      <td>4.273414e+09</td>\n      <td>0.903176</td>\n      <td>2.467620</td>\n      <td>236291.0</td>\n      <td>-1</td>\n    </tr>\n    <tr>\n      <th>4</th>\n      <td>AVY.N</td>\n      <td>2014-01-01</td>\n      <td>Materials</td>\n      <td>1.471</td>\n      <td>1.583900e+09</td>\n      <td>5.553068e+09</td>\n      <td>4.877168e+09</td>\n      <td>0.920659</td>\n      <td>16.003852</td>\n      <td>157761.0</td>\n      <td>-1</td>\n    </tr>\n    <tr>\n      <th>...</th>\n      <td>...</td>\n      <td>...</td>\n      <td>...</td>\n      <td>...</td>\n      <td>...</td>\n      <td>...</td>\n      <td>...</td>\n      <td>...</td>\n      <td>...</td>\n      <td>...</td>\n      <td>...</td>\n    </tr>\n    <tr>\n      <th>19335</th>\n      <td>POOL.OQ</td>\n      <td>2021-10-01</td>\n      <td>Retailing</td>\n      <td>17.194</td>\n      <td>1.411448e+09</td>\n      <td>1.769954e+10</td>\n      <td>1.742020e+10</td>\n      <td>3.684400</td>\n      <td>-5.130322</td>\n      <td>157740.0</td>\n      <td>-1</td>\n    </tr>\n    <tr>\n      <th>19336</th>\n      <td>POOL.OQ</td>\n      <td>2022-01-01</td>\n      <td>Retailing</td>\n      <td>40.267</td>\n      <td>1.035557e+09</td>\n      <td>2.384882e+10</td>\n      <td>2.268979e+10</td>\n      <td>4.504382</td>\n      <td>30.489705</td>\n      <td>82349.0</td>\n      <td>-1</td>\n    </tr>\n    <tr>\n      <th>19337</th>\n      <td>POOL.OQ</td>\n      <td>2022-04-01</td>\n      <td>Retailing</td>\n      <td>34.342</td>\n      <td>1.412650e+09</td>\n      <td>1.843682e+10</td>\n      <td>1.696712e+10</td>\n      <td>3.422880</td>\n      <td>-25.160664</td>\n      <td>290897.0</td>\n      <td>-1</td>\n    </tr>\n    <tr>\n      <th>19338</th>\n      <td>POOL.OQ</td>\n      <td>2022-07-01</td>\n      <td>Retailing</td>\n      <td>1.503</td>\n      <td>2.055818e+09</td>\n      <td>1.556187e+10</td>\n      <td>1.405795e+10</td>\n      <td>2.749481</td>\n      <td>-21.661570</td>\n      <td>185584.0</td>\n      <td>-1</td>\n    </tr>\n    <tr>\n      <th>19339</th>\n      <td>POOL.OQ</td>\n      <td>2022-10-01</td>\n      <td>Retailing</td>\n      <td>4.196</td>\n      <td>1.615339e+09</td>\n      <td>1.406160e+10</td>\n      <td>1.259813e+10</td>\n      <td>2.383926</td>\n      <td>-9.164375</td>\n      <td>238539.0</td>\n      <td>-1</td>\n    </tr>\n  </tbody>\n</table>\n<p>19340 rows × 11 columns</p>\n</div>"
     },
     "execution_count": 2,
     "metadata": {},
     "output_type": "execute_result"
    }
   ],
   "source": [
    "df = pd.read_csv(\"Dataframes/characteristics.csv\")\n",
    "X_var_names = [\"Revenue - Actual\",\"Enterprise Value\",\"Market Capitalization\",\"loss firm status\", \"Enterprise Value To Sales (Daily Time Series Ratio)\", \"3 Month Total Return\", \"Volume\"]\n",
    "df"
   ]
  },
  {
   "cell_type": "code",
   "execution_count": 3,
   "metadata": {},
   "outputs": [],
   "source": [
    "df[\"Date\"] = pd.to_datetime(df[\"Date\"])"
   ]
  },
  {
   "cell_type": "markdown",
   "metadata": {},
   "source": [
    "Remove outliers"
   ]
  },
  {
   "cell_type": "code",
   "execution_count": 4,
   "metadata": {},
   "outputs": [
    {
     "data": {
      "text/plain": "      Instrument       Date GICS Industry Group Name  \\\n0          AVY.N 2013-01-01                Materials   \n1          AVY.N 2013-04-01                Materials   \n2          AVY.N 2013-07-01                Materials   \n3          AVY.N 2013-10-01                Materials   \n4          AVY.N 2014-01-01                Materials   \n...          ...        ...                      ...   \n19335    POOL.OQ 2021-10-01                Retailing   \n19336    POOL.OQ 2022-01-01                Retailing   \n19337    POOL.OQ 2022-04-01                Retailing   \n19338    POOL.OQ 2022-07-01                Retailing   \n19339    POOL.OQ 2022-10-01                Retailing   \n\n       Earnings Per Share - Actual Surprise  Revenue - Actual  \\\n0                                    11.178      1.532200e+09   \n1                                     2.482      1.498900e+09   \n2                                     1.068      1.552300e+09   \n3                                     8.095      1.504900e+09   \n4                                     1.471      1.583900e+09   \n...                                     ...               ...   \n19335                                17.194      1.411448e+09   \n19336                                40.267      1.035557e+09   \n19337                                34.342      1.412650e+09   \n19338                                 1.503      2.055818e+09   \n19339                                 4.196      1.615339e+09   \n\n       Enterprise Value  Market Capitalization  \\\n0          4.413001e+09           3.426001e+09   \n1          5.459128e+09           4.309428e+09   \n2          5.436229e+09           4.258229e+09   \n3          5.029514e+09           4.273414e+09   \n4          5.553068e+09           4.877168e+09   \n...                 ...                    ...   \n19335      1.769954e+10           1.742020e+10   \n19336      2.384882e+10           2.268979e+10   \n19337      1.843682e+10           1.696712e+10   \n19338      1.556187e+10           1.405795e+10   \n19339      1.406160e+10           1.259813e+10   \n\n       Enterprise Value To Sales (Daily Time Series Ratio)  \\\n0                                               0.799347     \n1                                               0.895787     \n2                                               0.906078     \n3                                               0.903176     \n4                                               0.920659     \n...                                                  ...     \n19335                                           3.684400     \n19336                                           4.504382     \n19337                                           3.422880     \n19338                                           2.749481     \n19339                                           2.383926     \n\n       3 Month Total Return    Volume  loss firm status  \n0                 10.637479  207295.0                -1  \n1                 24.148726       0.0                -1  \n2                 -0.054218       0.0                -1  \n3                  2.467620  236291.0                -1  \n4                 16.003852  157761.0                -1  \n...                     ...       ...               ...  \n19335             -5.130322  157740.0                -1  \n19336             30.489705   82349.0                -1  \n19337            -25.160664  290897.0                -1  \n19338            -21.661570  185584.0                -1  \n19339             -9.164375  238539.0                -1  \n\n[18569 rows x 11 columns]",
      "text/html": "<div>\n<style scoped>\n    .dataframe tbody tr th:only-of-type {\n        vertical-align: middle;\n    }\n\n    .dataframe tbody tr th {\n        vertical-align: top;\n    }\n\n    .dataframe thead th {\n        text-align: right;\n    }\n</style>\n<table border=\"1\" class=\"dataframe\">\n  <thead>\n    <tr style=\"text-align: right;\">\n      <th></th>\n      <th>Instrument</th>\n      <th>Date</th>\n      <th>GICS Industry Group Name</th>\n      <th>Earnings Per Share - Actual Surprise</th>\n      <th>Revenue - Actual</th>\n      <th>Enterprise Value</th>\n      <th>Market Capitalization</th>\n      <th>Enterprise Value To Sales (Daily Time Series Ratio)</th>\n      <th>3 Month Total Return</th>\n      <th>Volume</th>\n      <th>loss firm status</th>\n    </tr>\n  </thead>\n  <tbody>\n    <tr>\n      <th>0</th>\n      <td>AVY.N</td>\n      <td>2013-01-01</td>\n      <td>Materials</td>\n      <td>11.178</td>\n      <td>1.532200e+09</td>\n      <td>4.413001e+09</td>\n      <td>3.426001e+09</td>\n      <td>0.799347</td>\n      <td>10.637479</td>\n      <td>207295.0</td>\n      <td>-1</td>\n    </tr>\n    <tr>\n      <th>1</th>\n      <td>AVY.N</td>\n      <td>2013-04-01</td>\n      <td>Materials</td>\n      <td>2.482</td>\n      <td>1.498900e+09</td>\n      <td>5.459128e+09</td>\n      <td>4.309428e+09</td>\n      <td>0.895787</td>\n      <td>24.148726</td>\n      <td>0.0</td>\n      <td>-1</td>\n    </tr>\n    <tr>\n      <th>2</th>\n      <td>AVY.N</td>\n      <td>2013-07-01</td>\n      <td>Materials</td>\n      <td>1.068</td>\n      <td>1.552300e+09</td>\n      <td>5.436229e+09</td>\n      <td>4.258229e+09</td>\n      <td>0.906078</td>\n      <td>-0.054218</td>\n      <td>0.0</td>\n      <td>-1</td>\n    </tr>\n    <tr>\n      <th>3</th>\n      <td>AVY.N</td>\n      <td>2013-10-01</td>\n      <td>Materials</td>\n      <td>8.095</td>\n      <td>1.504900e+09</td>\n      <td>5.029514e+09</td>\n      <td>4.273414e+09</td>\n      <td>0.903176</td>\n      <td>2.467620</td>\n      <td>236291.0</td>\n      <td>-1</td>\n    </tr>\n    <tr>\n      <th>4</th>\n      <td>AVY.N</td>\n      <td>2014-01-01</td>\n      <td>Materials</td>\n      <td>1.471</td>\n      <td>1.583900e+09</td>\n      <td>5.553068e+09</td>\n      <td>4.877168e+09</td>\n      <td>0.920659</td>\n      <td>16.003852</td>\n      <td>157761.0</td>\n      <td>-1</td>\n    </tr>\n    <tr>\n      <th>...</th>\n      <td>...</td>\n      <td>...</td>\n      <td>...</td>\n      <td>...</td>\n      <td>...</td>\n      <td>...</td>\n      <td>...</td>\n      <td>...</td>\n      <td>...</td>\n      <td>...</td>\n      <td>...</td>\n    </tr>\n    <tr>\n      <th>19335</th>\n      <td>POOL.OQ</td>\n      <td>2021-10-01</td>\n      <td>Retailing</td>\n      <td>17.194</td>\n      <td>1.411448e+09</td>\n      <td>1.769954e+10</td>\n      <td>1.742020e+10</td>\n      <td>3.684400</td>\n      <td>-5.130322</td>\n      <td>157740.0</td>\n      <td>-1</td>\n    </tr>\n    <tr>\n      <th>19336</th>\n      <td>POOL.OQ</td>\n      <td>2022-01-01</td>\n      <td>Retailing</td>\n      <td>40.267</td>\n      <td>1.035557e+09</td>\n      <td>2.384882e+10</td>\n      <td>2.268979e+10</td>\n      <td>4.504382</td>\n      <td>30.489705</td>\n      <td>82349.0</td>\n      <td>-1</td>\n    </tr>\n    <tr>\n      <th>19337</th>\n      <td>POOL.OQ</td>\n      <td>2022-04-01</td>\n      <td>Retailing</td>\n      <td>34.342</td>\n      <td>1.412650e+09</td>\n      <td>1.843682e+10</td>\n      <td>1.696712e+10</td>\n      <td>3.422880</td>\n      <td>-25.160664</td>\n      <td>290897.0</td>\n      <td>-1</td>\n    </tr>\n    <tr>\n      <th>19338</th>\n      <td>POOL.OQ</td>\n      <td>2022-07-01</td>\n      <td>Retailing</td>\n      <td>1.503</td>\n      <td>2.055818e+09</td>\n      <td>1.556187e+10</td>\n      <td>1.405795e+10</td>\n      <td>2.749481</td>\n      <td>-21.661570</td>\n      <td>185584.0</td>\n      <td>-1</td>\n    </tr>\n    <tr>\n      <th>19339</th>\n      <td>POOL.OQ</td>\n      <td>2022-10-01</td>\n      <td>Retailing</td>\n      <td>4.196</td>\n      <td>1.615339e+09</td>\n      <td>1.406160e+10</td>\n      <td>1.259813e+10</td>\n      <td>2.383926</td>\n      <td>-9.164375</td>\n      <td>238539.0</td>\n      <td>-1</td>\n    </tr>\n  </tbody>\n</table>\n<p>18569 rows × 11 columns</p>\n</div>"
     },
     "execution_count": 4,
     "metadata": {},
     "output_type": "execute_result"
    }
   ],
   "source": [
    "#removing outliers\n",
    "summary_stats = df[\"Earnings Per Share - Actual Surprise\"].describe()\n",
    "Q1 = summary_stats.loc['25%']\n",
    "Q3 = summary_stats.loc['75%']\n",
    "IQR = Q3 - Q1\n",
    "threshold = 7\n",
    "surprise_outliers_removed = df[\"Earnings Per Share - Actual Surprise\"].loc[~((df[\"Earnings Per Share - Actual Surprise\"] < (Q1 - threshold * IQR)) | (df[\"Earnings Per Share - Actual Surprise\"] > (Q3 + threshold * IQR)))]\n",
    "df_clean = df.copy()\n",
    "df_clean[\"Earnings Per Share - Actual Surprise\"] = surprise_outliers_removed\n",
    "df_clean = df_clean.dropna(subset=[\"Earnings Per Share - Actual Surprise\"])\n",
    "#df_clean = df_clean.dropna()\n",
    "df_clean"
   ]
  },
  {
   "attachments": {},
   "cell_type": "markdown",
   "metadata": {},
   "source": [
    "Standardising"
   ]
  },
  {
   "cell_type": "code",
   "execution_count": 5,
   "metadata": {},
   "outputs": [
    {
     "data": {
      "text/plain": "      Instrument       Date GICS Industry Group Name  \\\n0          AVY.N 2013-01-01                Materials   \n1          AVY.N 2013-04-01                Materials   \n2          AVY.N 2013-07-01                Materials   \n3          AVY.N 2013-10-01                Materials   \n4          AVY.N 2014-01-01                Materials   \n...          ...        ...                      ...   \n19335    POOL.OQ 2021-10-01                Retailing   \n19336    POOL.OQ 2022-01-01                Retailing   \n19337    POOL.OQ 2022-04-01                Retailing   \n19338    POOL.OQ 2022-07-01                Retailing   \n19339    POOL.OQ 2022-10-01                Retailing   \n\n       Earnings Per Share - Actual Surprise  Revenue - Actual  \\\n0                                    11.178          0.065123   \n1                                     2.482          0.064917   \n2                                     1.068          0.065247   \n3                                     8.095          0.064955   \n4                                     1.471          0.065443   \n...                                     ...               ...   \n19335                                17.194          0.064377   \n19336                                40.267          0.062055   \n19337                                34.342          0.064385   \n19338                                 1.503          0.068358   \n19339                                 4.196          0.065637   \n\n       Enterprise Value  Market Capitalization  \\\n0              0.027862               0.001166   \n1              0.028207               0.001471   \n2              0.028199               0.001453   \n3              0.028065               0.001459   \n4              0.028238               0.001667   \n...                 ...                    ...   \n19335          0.032245               0.006004   \n19336          0.034274               0.007826   \n19337          0.032488               0.005848   \n19338          0.031540               0.004842   \n19339          0.031045               0.004337   \n\n       Enterprise Value To Sales (Daily Time Series Ratio)  \\\n0                                               0.027195     \n1                                               0.027308     \n2                                               0.027321     \n3                                               0.027317     \n4                                               0.027338     \n...                                                  ...     \n19335                                           0.030598     \n19336                                           0.031566     \n19337                                           0.030290     \n19338                                           0.029495     \n19339                                           0.029064     \n\n       3 Month Total Return    Volume  loss firm status  \n0                  0.298034  0.001183                -1  \n1                  0.340793  0.000000                -1  \n2                  0.264198  0.000000                -1  \n3                  0.272179  0.001348                -1  \n4                  0.315017  0.000900                -1  \n...                     ...       ...               ...  \n19335              0.248134  0.000900                -1  \n19336              0.360861  0.000470                -1  \n19337              0.184744  0.001660                -1  \n19338              0.195817  0.001059                -1  \n19339              0.235367  0.001361                -1  \n\n[18569 rows x 11 columns]",
      "text/html": "<div>\n<style scoped>\n    .dataframe tbody tr th:only-of-type {\n        vertical-align: middle;\n    }\n\n    .dataframe tbody tr th {\n        vertical-align: top;\n    }\n\n    .dataframe thead th {\n        text-align: right;\n    }\n</style>\n<table border=\"1\" class=\"dataframe\">\n  <thead>\n    <tr style=\"text-align: right;\">\n      <th></th>\n      <th>Instrument</th>\n      <th>Date</th>\n      <th>GICS Industry Group Name</th>\n      <th>Earnings Per Share - Actual Surprise</th>\n      <th>Revenue - Actual</th>\n      <th>Enterprise Value</th>\n      <th>Market Capitalization</th>\n      <th>Enterprise Value To Sales (Daily Time Series Ratio)</th>\n      <th>3 Month Total Return</th>\n      <th>Volume</th>\n      <th>loss firm status</th>\n    </tr>\n  </thead>\n  <tbody>\n    <tr>\n      <th>0</th>\n      <td>AVY.N</td>\n      <td>2013-01-01</td>\n      <td>Materials</td>\n      <td>11.178</td>\n      <td>0.065123</td>\n      <td>0.027862</td>\n      <td>0.001166</td>\n      <td>0.027195</td>\n      <td>0.298034</td>\n      <td>0.001183</td>\n      <td>-1</td>\n    </tr>\n    <tr>\n      <th>1</th>\n      <td>AVY.N</td>\n      <td>2013-04-01</td>\n      <td>Materials</td>\n      <td>2.482</td>\n      <td>0.064917</td>\n      <td>0.028207</td>\n      <td>0.001471</td>\n      <td>0.027308</td>\n      <td>0.340793</td>\n      <td>0.000000</td>\n      <td>-1</td>\n    </tr>\n    <tr>\n      <th>2</th>\n      <td>AVY.N</td>\n      <td>2013-07-01</td>\n      <td>Materials</td>\n      <td>1.068</td>\n      <td>0.065247</td>\n      <td>0.028199</td>\n      <td>0.001453</td>\n      <td>0.027321</td>\n      <td>0.264198</td>\n      <td>0.000000</td>\n      <td>-1</td>\n    </tr>\n    <tr>\n      <th>3</th>\n      <td>AVY.N</td>\n      <td>2013-10-01</td>\n      <td>Materials</td>\n      <td>8.095</td>\n      <td>0.064955</td>\n      <td>0.028065</td>\n      <td>0.001459</td>\n      <td>0.027317</td>\n      <td>0.272179</td>\n      <td>0.001348</td>\n      <td>-1</td>\n    </tr>\n    <tr>\n      <th>4</th>\n      <td>AVY.N</td>\n      <td>2014-01-01</td>\n      <td>Materials</td>\n      <td>1.471</td>\n      <td>0.065443</td>\n      <td>0.028238</td>\n      <td>0.001667</td>\n      <td>0.027338</td>\n      <td>0.315017</td>\n      <td>0.000900</td>\n      <td>-1</td>\n    </tr>\n    <tr>\n      <th>...</th>\n      <td>...</td>\n      <td>...</td>\n      <td>...</td>\n      <td>...</td>\n      <td>...</td>\n      <td>...</td>\n      <td>...</td>\n      <td>...</td>\n      <td>...</td>\n      <td>...</td>\n      <td>...</td>\n    </tr>\n    <tr>\n      <th>19335</th>\n      <td>POOL.OQ</td>\n      <td>2021-10-01</td>\n      <td>Retailing</td>\n      <td>17.194</td>\n      <td>0.064377</td>\n      <td>0.032245</td>\n      <td>0.006004</td>\n      <td>0.030598</td>\n      <td>0.248134</td>\n      <td>0.000900</td>\n      <td>-1</td>\n    </tr>\n    <tr>\n      <th>19336</th>\n      <td>POOL.OQ</td>\n      <td>2022-01-01</td>\n      <td>Retailing</td>\n      <td>40.267</td>\n      <td>0.062055</td>\n      <td>0.034274</td>\n      <td>0.007826</td>\n      <td>0.031566</td>\n      <td>0.360861</td>\n      <td>0.000470</td>\n      <td>-1</td>\n    </tr>\n    <tr>\n      <th>19337</th>\n      <td>POOL.OQ</td>\n      <td>2022-04-01</td>\n      <td>Retailing</td>\n      <td>34.342</td>\n      <td>0.064385</td>\n      <td>0.032488</td>\n      <td>0.005848</td>\n      <td>0.030290</td>\n      <td>0.184744</td>\n      <td>0.001660</td>\n      <td>-1</td>\n    </tr>\n    <tr>\n      <th>19338</th>\n      <td>POOL.OQ</td>\n      <td>2022-07-01</td>\n      <td>Retailing</td>\n      <td>1.503</td>\n      <td>0.068358</td>\n      <td>0.031540</td>\n      <td>0.004842</td>\n      <td>0.029495</td>\n      <td>0.195817</td>\n      <td>0.001059</td>\n      <td>-1</td>\n    </tr>\n    <tr>\n      <th>19339</th>\n      <td>POOL.OQ</td>\n      <td>2022-10-01</td>\n      <td>Retailing</td>\n      <td>4.196</td>\n      <td>0.065637</td>\n      <td>0.031045</td>\n      <td>0.004337</td>\n      <td>0.029064</td>\n      <td>0.235367</td>\n      <td>0.001361</td>\n      <td>-1</td>\n    </tr>\n  </tbody>\n</table>\n<p>18569 rows × 11 columns</p>\n</div>"
     },
     "execution_count": 5,
     "metadata": {},
     "output_type": "execute_result"
    }
   ],
   "source": [
    "rescale = df_clean\n",
    "#rescale[\"Earnings Per Share - Actual Surprise\"] = MinMaxScaler().fit_transform(np.array(rescale[\"Earnings Per Share - Actual Surprise\"]).reshape(-1,1))\n",
    "rescale[\"Revenue - Actual\"] = MinMaxScaler().fit_transform(np.array(rescale[\"Revenue - Actual\"]).reshape(-1,1))\n",
    "rescale[\"Enterprise Value\"] = MinMaxScaler().fit_transform(np.array(rescale[\"Enterprise Value\"]).reshape(-1,1))\n",
    "rescale[\"Market Capitalization\"] = MinMaxScaler().fit_transform(np.array(rescale[\"Market Capitalization\"]).reshape(-1,1))\n",
    "rescale[\"Enterprise Value To Sales (Daily Time Series Ratio)\"] = MinMaxScaler().fit_transform(np.array(rescale[\"Enterprise Value To Sales (Daily Time Series Ratio)\"]).reshape(-1,1))\n",
    "rescale[\"3 Month Total Return\"] = MinMaxScaler().fit_transform(np.array(rescale[\"3 Month Total Return\"]).reshape(-1,1))\n",
    "rescale[\"Volume\"] = MinMaxScaler().fit_transform(np.array(rescale[\"Volume\"]).reshape(-1,1))\n",
    "df_clean = rescale\n",
    "df_clean"
   ]
  },
  {
   "cell_type": "code",
   "execution_count": 6,
   "metadata": {},
   "outputs": [
    {
     "data": {
      "text/plain": "      Instrument       Date GICS Industry Group Name  \\\n0          AVY.N 2013-01-01                Materials   \n1          AVY.N 2013-04-01                Materials   \n2          AVY.N 2013-07-01                Materials   \n3          AVY.N 2013-10-01                Materials   \n4          AVY.N 2014-01-01                Materials   \n...          ...        ...                      ...   \n19335    POOL.OQ 2021-10-01                Retailing   \n19336    POOL.OQ 2022-01-01                Retailing   \n19337    POOL.OQ 2022-04-01                Retailing   \n19338    POOL.OQ 2022-07-01                Retailing   \n19339    POOL.OQ 2022-10-01                Retailing   \n\n       Earnings Per Share - Actual Surprise  Revenue - Actual  \\\n0                                    11.178          0.065123   \n1                                     2.482          0.064917   \n2                                     1.068          0.065247   \n3                                     8.095          0.064955   \n4                                     1.471          0.065443   \n...                                     ...               ...   \n19335                                17.194          0.064377   \n19336                                40.267          0.062055   \n19337                                34.342          0.064385   \n19338                                 1.503          0.068358   \n19339                                 4.196          0.065637   \n\n       Enterprise Value  Market Capitalization  \\\n0              0.027862               0.001166   \n1              0.028207               0.001471   \n2              0.028199               0.001453   \n3              0.028065               0.001459   \n4              0.028238               0.001667   \n...                 ...                    ...   \n19335          0.032245               0.006004   \n19336          0.034274               0.007826   \n19337          0.032488               0.005848   \n19338          0.031540               0.004842   \n19339          0.031045               0.004337   \n\n       Enterprise Value To Sales (Daily Time Series Ratio)  \\\n0                                               0.027195     \n1                                               0.027308     \n2                                               0.027321     \n3                                               0.027317     \n4                                               0.027338     \n...                                                  ...     \n19335                                           0.030598     \n19336                                           0.031566     \n19337                                           0.030290     \n19338                                           0.029495     \n19339                                           0.029064     \n\n       3 Month Total Return    Volume  loss firm status  \n0                  0.298034  0.001183                -1  \n1                  0.340793  0.000000                -1  \n2                  0.264198  0.000000                -1  \n3                  0.272179  0.001348                -1  \n4                  0.315017  0.000900                -1  \n...                     ...       ...               ...  \n19335              0.248134  0.000900                -1  \n19336              0.360861  0.000470                -1  \n19337              0.184744  0.001660                -1  \n19338              0.195817  0.001059                -1  \n19339              0.235367  0.001361                -1  \n\n[18569 rows x 11 columns]",
      "text/html": "<div>\n<style scoped>\n    .dataframe tbody tr th:only-of-type {\n        vertical-align: middle;\n    }\n\n    .dataframe tbody tr th {\n        vertical-align: top;\n    }\n\n    .dataframe thead th {\n        text-align: right;\n    }\n</style>\n<table border=\"1\" class=\"dataframe\">\n  <thead>\n    <tr style=\"text-align: right;\">\n      <th></th>\n      <th>Instrument</th>\n      <th>Date</th>\n      <th>GICS Industry Group Name</th>\n      <th>Earnings Per Share - Actual Surprise</th>\n      <th>Revenue - Actual</th>\n      <th>Enterprise Value</th>\n      <th>Market Capitalization</th>\n      <th>Enterprise Value To Sales (Daily Time Series Ratio)</th>\n      <th>3 Month Total Return</th>\n      <th>Volume</th>\n      <th>loss firm status</th>\n    </tr>\n  </thead>\n  <tbody>\n    <tr>\n      <th>0</th>\n      <td>AVY.N</td>\n      <td>2013-01-01</td>\n      <td>Materials</td>\n      <td>11.178</td>\n      <td>0.065123</td>\n      <td>0.027862</td>\n      <td>0.001166</td>\n      <td>0.027195</td>\n      <td>0.298034</td>\n      <td>0.001183</td>\n      <td>-1</td>\n    </tr>\n    <tr>\n      <th>1</th>\n      <td>AVY.N</td>\n      <td>2013-04-01</td>\n      <td>Materials</td>\n      <td>2.482</td>\n      <td>0.064917</td>\n      <td>0.028207</td>\n      <td>0.001471</td>\n      <td>0.027308</td>\n      <td>0.340793</td>\n      <td>0.000000</td>\n      <td>-1</td>\n    </tr>\n    <tr>\n      <th>2</th>\n      <td>AVY.N</td>\n      <td>2013-07-01</td>\n      <td>Materials</td>\n      <td>1.068</td>\n      <td>0.065247</td>\n      <td>0.028199</td>\n      <td>0.001453</td>\n      <td>0.027321</td>\n      <td>0.264198</td>\n      <td>0.000000</td>\n      <td>-1</td>\n    </tr>\n    <tr>\n      <th>3</th>\n      <td>AVY.N</td>\n      <td>2013-10-01</td>\n      <td>Materials</td>\n      <td>8.095</td>\n      <td>0.064955</td>\n      <td>0.028065</td>\n      <td>0.001459</td>\n      <td>0.027317</td>\n      <td>0.272179</td>\n      <td>0.001348</td>\n      <td>-1</td>\n    </tr>\n    <tr>\n      <th>4</th>\n      <td>AVY.N</td>\n      <td>2014-01-01</td>\n      <td>Materials</td>\n      <td>1.471</td>\n      <td>0.065443</td>\n      <td>0.028238</td>\n      <td>0.001667</td>\n      <td>0.027338</td>\n      <td>0.315017</td>\n      <td>0.000900</td>\n      <td>-1</td>\n    </tr>\n    <tr>\n      <th>...</th>\n      <td>...</td>\n      <td>...</td>\n      <td>...</td>\n      <td>...</td>\n      <td>...</td>\n      <td>...</td>\n      <td>...</td>\n      <td>...</td>\n      <td>...</td>\n      <td>...</td>\n      <td>...</td>\n    </tr>\n    <tr>\n      <th>19335</th>\n      <td>POOL.OQ</td>\n      <td>2021-10-01</td>\n      <td>Retailing</td>\n      <td>17.194</td>\n      <td>0.064377</td>\n      <td>0.032245</td>\n      <td>0.006004</td>\n      <td>0.030598</td>\n      <td>0.248134</td>\n      <td>0.000900</td>\n      <td>-1</td>\n    </tr>\n    <tr>\n      <th>19336</th>\n      <td>POOL.OQ</td>\n      <td>2022-01-01</td>\n      <td>Retailing</td>\n      <td>40.267</td>\n      <td>0.062055</td>\n      <td>0.034274</td>\n      <td>0.007826</td>\n      <td>0.031566</td>\n      <td>0.360861</td>\n      <td>0.000470</td>\n      <td>-1</td>\n    </tr>\n    <tr>\n      <th>19337</th>\n      <td>POOL.OQ</td>\n      <td>2022-04-01</td>\n      <td>Retailing</td>\n      <td>34.342</td>\n      <td>0.064385</td>\n      <td>0.032488</td>\n      <td>0.005848</td>\n      <td>0.030290</td>\n      <td>0.184744</td>\n      <td>0.001660</td>\n      <td>-1</td>\n    </tr>\n    <tr>\n      <th>19338</th>\n      <td>POOL.OQ</td>\n      <td>2022-07-01</td>\n      <td>Retailing</td>\n      <td>1.503</td>\n      <td>0.068358</td>\n      <td>0.031540</td>\n      <td>0.004842</td>\n      <td>0.029495</td>\n      <td>0.195817</td>\n      <td>0.001059</td>\n      <td>-1</td>\n    </tr>\n    <tr>\n      <th>19339</th>\n      <td>POOL.OQ</td>\n      <td>2022-10-01</td>\n      <td>Retailing</td>\n      <td>4.196</td>\n      <td>0.065637</td>\n      <td>0.031045</td>\n      <td>0.004337</td>\n      <td>0.029064</td>\n      <td>0.235367</td>\n      <td>0.001361</td>\n      <td>-1</td>\n    </tr>\n  </tbody>\n</table>\n<p>18569 rows × 11 columns</p>\n</div>"
     },
     "execution_count": 6,
     "metadata": {},
     "output_type": "execute_result"
    }
   ],
   "source": [
    "df_panel = df_clean.copy()\n",
    "df_panel"
   ]
  },
  {
   "attachments": {},
   "cell_type": "markdown",
   "metadata": {},
   "source": [
    "#### Fixed Effects"
   ]
  },
  {
   "attachments": {},
   "cell_type": "markdown",
   "metadata": {},
   "source": [
    "In a fixed effects panel regression, the individual-specific effects are modeled as fixed variables that do not vary across time. This means that the coefficients of the independent variables are estimated based on the within-entity variation in the data, which eliminates the effect of time-invariant unobserved heterogeneity.\n",
    "\n",
    "Fixed effects models are useful when there are time-invariant unobserved variables that may affect the dependent variable, but are not included in the model. By modeling the individual-specific effects as fixed variables, fixed effects models can control for this unobserved heterogeneity and estimate the coefficients of the independent variables based on the within-entity variation, which provides more efficient estimates of the coefficients.\n",
    "\n",
    "One limitation of fixed effects models is that they do not allow for testing the effect of time-invariant variables on the dependent variable. In addition, fixed effects models may suffer from the incidental parameter problem, which may lead to biased estimates of the coefficients of the independent variables in the presence of a large number of fixed effects."
   ]
  },
  {
   "cell_type": "code",
   "execution_count": 7,
   "outputs": [
    {
     "data": {
      "text/plain": "      Instrument       Date GICS Industry Group Name  \\\n0          AVY.N 2013-01-01                Materials   \n1          AVY.N 2013-04-01                Materials   \n2          AVY.N 2013-07-01                Materials   \n3          AVY.N 2013-10-01                Materials   \n4          AVY.N 2014-01-01                Materials   \n...          ...        ...                      ...   \n19335    POOL.OQ 2021-10-01                Retailing   \n19336    POOL.OQ 2022-01-01                Retailing   \n19337    POOL.OQ 2022-04-01                Retailing   \n19338    POOL.OQ 2022-07-01                Retailing   \n19339    POOL.OQ 2022-10-01                Retailing   \n\n       Earnings Per Share - Actual Surprise  Revenue - Actual  \\\n0                                    11.178          0.065123   \n1                                     2.482          0.064917   \n2                                     1.068          0.065247   \n3                                     8.095          0.064955   \n4                                     1.471          0.065443   \n...                                     ...               ...   \n19335                                17.194          0.064377   \n19336                                40.267          0.062055   \n19337                                34.342          0.064385   \n19338                                 1.503          0.068358   \n19339                                 4.196          0.065637   \n\n       Enterprise Value  Market Capitalization  \\\n0              0.027862               0.001166   \n1              0.028207               0.001471   \n2              0.028199               0.001453   \n3              0.028065               0.001459   \n4              0.028238               0.001667   \n...                 ...                    ...   \n19335          0.032245               0.006004   \n19336          0.034274               0.007826   \n19337          0.032488               0.005848   \n19338          0.031540               0.004842   \n19339          0.031045               0.004337   \n\n       Enterprise Value To Sales (Daily Time Series Ratio)  \\\n0                                               0.027195     \n1                                               0.027308     \n2                                               0.027321     \n3                                               0.027317     \n4                                               0.027338     \n...                                                  ...     \n19335                                           0.030598     \n19336                                           0.031566     \n19337                                           0.030290     \n19338                                           0.029495     \n19339                                           0.029064     \n\n       3 Month Total Return    Volume  loss firm status  \n0                  0.298034  0.001183                -1  \n1                  0.340793  0.000000                -1  \n2                  0.264198  0.000000                -1  \n3                  0.272179  0.001348                -1  \n4                  0.315017  0.000900                -1  \n...                     ...       ...               ...  \n19335              0.248134  0.000900                -1  \n19336              0.360861  0.000470                -1  \n19337              0.184744  0.001660                -1  \n19338              0.195817  0.001059                -1  \n19339              0.235367  0.001361                -1  \n\n[18569 rows x 11 columns]",
      "text/html": "<div>\n<style scoped>\n    .dataframe tbody tr th:only-of-type {\n        vertical-align: middle;\n    }\n\n    .dataframe tbody tr th {\n        vertical-align: top;\n    }\n\n    .dataframe thead th {\n        text-align: right;\n    }\n</style>\n<table border=\"1\" class=\"dataframe\">\n  <thead>\n    <tr style=\"text-align: right;\">\n      <th></th>\n      <th>Instrument</th>\n      <th>Date</th>\n      <th>GICS Industry Group Name</th>\n      <th>Earnings Per Share - Actual Surprise</th>\n      <th>Revenue - Actual</th>\n      <th>Enterprise Value</th>\n      <th>Market Capitalization</th>\n      <th>Enterprise Value To Sales (Daily Time Series Ratio)</th>\n      <th>3 Month Total Return</th>\n      <th>Volume</th>\n      <th>loss firm status</th>\n    </tr>\n  </thead>\n  <tbody>\n    <tr>\n      <th>0</th>\n      <td>AVY.N</td>\n      <td>2013-01-01</td>\n      <td>Materials</td>\n      <td>11.178</td>\n      <td>0.065123</td>\n      <td>0.027862</td>\n      <td>0.001166</td>\n      <td>0.027195</td>\n      <td>0.298034</td>\n      <td>0.001183</td>\n      <td>-1</td>\n    </tr>\n    <tr>\n      <th>1</th>\n      <td>AVY.N</td>\n      <td>2013-04-01</td>\n      <td>Materials</td>\n      <td>2.482</td>\n      <td>0.064917</td>\n      <td>0.028207</td>\n      <td>0.001471</td>\n      <td>0.027308</td>\n      <td>0.340793</td>\n      <td>0.000000</td>\n      <td>-1</td>\n    </tr>\n    <tr>\n      <th>2</th>\n      <td>AVY.N</td>\n      <td>2013-07-01</td>\n      <td>Materials</td>\n      <td>1.068</td>\n      <td>0.065247</td>\n      <td>0.028199</td>\n      <td>0.001453</td>\n      <td>0.027321</td>\n      <td>0.264198</td>\n      <td>0.000000</td>\n      <td>-1</td>\n    </tr>\n    <tr>\n      <th>3</th>\n      <td>AVY.N</td>\n      <td>2013-10-01</td>\n      <td>Materials</td>\n      <td>8.095</td>\n      <td>0.064955</td>\n      <td>0.028065</td>\n      <td>0.001459</td>\n      <td>0.027317</td>\n      <td>0.272179</td>\n      <td>0.001348</td>\n      <td>-1</td>\n    </tr>\n    <tr>\n      <th>4</th>\n      <td>AVY.N</td>\n      <td>2014-01-01</td>\n      <td>Materials</td>\n      <td>1.471</td>\n      <td>0.065443</td>\n      <td>0.028238</td>\n      <td>0.001667</td>\n      <td>0.027338</td>\n      <td>0.315017</td>\n      <td>0.000900</td>\n      <td>-1</td>\n    </tr>\n    <tr>\n      <th>...</th>\n      <td>...</td>\n      <td>...</td>\n      <td>...</td>\n      <td>...</td>\n      <td>...</td>\n      <td>...</td>\n      <td>...</td>\n      <td>...</td>\n      <td>...</td>\n      <td>...</td>\n      <td>...</td>\n    </tr>\n    <tr>\n      <th>19335</th>\n      <td>POOL.OQ</td>\n      <td>2021-10-01</td>\n      <td>Retailing</td>\n      <td>17.194</td>\n      <td>0.064377</td>\n      <td>0.032245</td>\n      <td>0.006004</td>\n      <td>0.030598</td>\n      <td>0.248134</td>\n      <td>0.000900</td>\n      <td>-1</td>\n    </tr>\n    <tr>\n      <th>19336</th>\n      <td>POOL.OQ</td>\n      <td>2022-01-01</td>\n      <td>Retailing</td>\n      <td>40.267</td>\n      <td>0.062055</td>\n      <td>0.034274</td>\n      <td>0.007826</td>\n      <td>0.031566</td>\n      <td>0.360861</td>\n      <td>0.000470</td>\n      <td>-1</td>\n    </tr>\n    <tr>\n      <th>19337</th>\n      <td>POOL.OQ</td>\n      <td>2022-04-01</td>\n      <td>Retailing</td>\n      <td>34.342</td>\n      <td>0.064385</td>\n      <td>0.032488</td>\n      <td>0.005848</td>\n      <td>0.030290</td>\n      <td>0.184744</td>\n      <td>0.001660</td>\n      <td>-1</td>\n    </tr>\n    <tr>\n      <th>19338</th>\n      <td>POOL.OQ</td>\n      <td>2022-07-01</td>\n      <td>Retailing</td>\n      <td>1.503</td>\n      <td>0.068358</td>\n      <td>0.031540</td>\n      <td>0.004842</td>\n      <td>0.029495</td>\n      <td>0.195817</td>\n      <td>0.001059</td>\n      <td>-1</td>\n    </tr>\n    <tr>\n      <th>19339</th>\n      <td>POOL.OQ</td>\n      <td>2022-10-01</td>\n      <td>Retailing</td>\n      <td>4.196</td>\n      <td>0.065637</td>\n      <td>0.031045</td>\n      <td>0.004337</td>\n      <td>0.029064</td>\n      <td>0.235367</td>\n      <td>0.001361</td>\n      <td>-1</td>\n    </tr>\n  </tbody>\n</table>\n<p>18569 rows × 11 columns</p>\n</div>"
     },
     "execution_count": 7,
     "metadata": {},
     "output_type": "execute_result"
    }
   ],
   "source": [
    "df_clean[\"Earnings Per Share - Actual Surprise\"] = df_clean[\"Earnings Per Share - Actual Surprise\"].abs()\n",
    "df_clean"
   ],
   "metadata": {
    "collapsed": false
   }
  },
  {
   "cell_type": "code",
   "execution_count": 8,
   "metadata": {},
   "outputs": [
    {
     "ename": "ValueError",
     "evalue": "Series can only be used with a 2-level MultiIndex",
     "output_type": "error",
     "traceback": [
      "\u001B[1;31m---------------------------------------------------------------------------\u001B[0m",
      "\u001B[1;31mValueError\u001B[0m                                Traceback (most recent call last)",
      "Cell \u001B[1;32mIn[8], line 5\u001B[0m\n\u001B[0;32m      2\u001B[0m X \u001B[38;5;241m=\u001B[39m df_clean[X_var_names]\n\u001B[0;32m      4\u001B[0m \u001B[38;5;66;03m# perform the fixed effects panel regression\u001B[39;00m\n\u001B[1;32m----> 5\u001B[0m fixed_effects_model \u001B[38;5;241m=\u001B[39m \u001B[43mPanelOLS\u001B[49m\u001B[43m(\u001B[49m\u001B[43my\u001B[49m\u001B[43m,\u001B[49m\u001B[43m \u001B[49m\u001B[43mX\u001B[49m\u001B[43m,\u001B[49m\u001B[43m \u001B[49m\u001B[43mentity_effects\u001B[49m\u001B[38;5;241;43m=\u001B[39;49m\u001B[38;5;28;43;01mTrue\u001B[39;49;00m\u001B[43m,\u001B[49m\u001B[43m \u001B[49m\u001B[43mtime_effects\u001B[49m\u001B[38;5;241;43m=\u001B[39;49m\u001B[38;5;28;43;01mTrue\u001B[39;49;00m\u001B[43m)\u001B[49m\n\u001B[0;32m      7\u001B[0m \u001B[38;5;66;03m# fit the model and print the summary statistics\u001B[39;00m\n\u001B[0;32m      8\u001B[0m fixed_effects_results \u001B[38;5;241m=\u001B[39m fixed_effects_model\u001B[38;5;241m.\u001B[39mfit()\n",
      "File \u001B[1;32m~\\mambaforge\\envs\\AnalystForecast\\Lib\\site-packages\\linearmodels\\panel\\model.py:1183\u001B[0m, in \u001B[0;36mPanelOLS.__init__\u001B[1;34m(self, dependent, exog, weights, entity_effects, time_effects, other_effects, singletons, drop_absorbed, check_rank)\u001B[0m\n\u001B[0;32m   1170\u001B[0m \u001B[38;5;28;01mdef\u001B[39;00m \u001B[38;5;21m__init__\u001B[39m(\n\u001B[0;32m   1171\u001B[0m     \u001B[38;5;28mself\u001B[39m,\n\u001B[0;32m   1172\u001B[0m     dependent: PanelDataLike,\n\u001B[1;32m   (...)\u001B[0m\n\u001B[0;32m   1181\u001B[0m     check_rank: \u001B[38;5;28mbool\u001B[39m \u001B[38;5;241m=\u001B[39m \u001B[38;5;28;01mTrue\u001B[39;00m,\n\u001B[0;32m   1182\u001B[0m ) \u001B[38;5;241m-\u001B[39m\u001B[38;5;241m>\u001B[39m \u001B[38;5;28;01mNone\u001B[39;00m:\n\u001B[1;32m-> 1183\u001B[0m     \u001B[38;5;28;43msuper\u001B[39;49m\u001B[43m(\u001B[49m\u001B[43m)\u001B[49m\u001B[38;5;241;43m.\u001B[39;49m\u001B[38;5;21;43m__init__\u001B[39;49m\u001B[43m(\u001B[49m\u001B[43mdependent\u001B[49m\u001B[43m,\u001B[49m\u001B[43m \u001B[49m\u001B[43mexog\u001B[49m\u001B[43m,\u001B[49m\u001B[43m \u001B[49m\u001B[43mweights\u001B[49m\u001B[38;5;241;43m=\u001B[39;49m\u001B[43mweights\u001B[49m\u001B[43m,\u001B[49m\u001B[43m \u001B[49m\u001B[43mcheck_rank\u001B[49m\u001B[38;5;241;43m=\u001B[39;49m\u001B[43mcheck_rank\u001B[49m\u001B[43m)\u001B[49m\n\u001B[0;32m   1185\u001B[0m     \u001B[38;5;28mself\u001B[39m\u001B[38;5;241m.\u001B[39m_entity_effects \u001B[38;5;241m=\u001B[39m entity_effects\n\u001B[0;32m   1186\u001B[0m     \u001B[38;5;28mself\u001B[39m\u001B[38;5;241m.\u001B[39m_time_effects \u001B[38;5;241m=\u001B[39m time_effects\n",
      "File \u001B[1;32m~\\mambaforge\\envs\\AnalystForecast\\Lib\\site-packages\\linearmodels\\panel\\model.py:289\u001B[0m, in \u001B[0;36m_PanelModelBase.__init__\u001B[1;34m(self, dependent, exog, weights, check_rank)\u001B[0m\n\u001B[0;32m    281\u001B[0m \u001B[38;5;28;01mdef\u001B[39;00m \u001B[38;5;21m__init__\u001B[39m(\n\u001B[0;32m    282\u001B[0m     \u001B[38;5;28mself\u001B[39m,\n\u001B[0;32m    283\u001B[0m     dependent: PanelDataLike,\n\u001B[1;32m   (...)\u001B[0m\n\u001B[0;32m    287\u001B[0m     check_rank: \u001B[38;5;28mbool\u001B[39m \u001B[38;5;241m=\u001B[39m \u001B[38;5;28;01mTrue\u001B[39;00m,\n\u001B[0;32m    288\u001B[0m ) \u001B[38;5;241m-\u001B[39m\u001B[38;5;241m>\u001B[39m \u001B[38;5;28;01mNone\u001B[39;00m:\n\u001B[1;32m--> 289\u001B[0m     \u001B[38;5;28mself\u001B[39m\u001B[38;5;241m.\u001B[39mdependent \u001B[38;5;241m=\u001B[39m \u001B[43mPanelData\u001B[49m\u001B[43m(\u001B[49m\u001B[43mdependent\u001B[49m\u001B[43m,\u001B[49m\u001B[43m \u001B[49m\u001B[38;5;124;43m\"\u001B[39;49m\u001B[38;5;124;43mDep\u001B[39;49m\u001B[38;5;124;43m\"\u001B[39;49m\u001B[43m)\u001B[49m\n\u001B[0;32m    290\u001B[0m     \u001B[38;5;28mself\u001B[39m\u001B[38;5;241m.\u001B[39mexog \u001B[38;5;241m=\u001B[39m PanelData(exog, \u001B[38;5;124m\"\u001B[39m\u001B[38;5;124mExog\u001B[39m\u001B[38;5;124m\"\u001B[39m)\n\u001B[0;32m    291\u001B[0m     \u001B[38;5;28mself\u001B[39m\u001B[38;5;241m.\u001B[39m_original_shape \u001B[38;5;241m=\u001B[39m \u001B[38;5;28mself\u001B[39m\u001B[38;5;241m.\u001B[39mdependent\u001B[38;5;241m.\u001B[39mshape\n",
      "File \u001B[1;32m~\\mambaforge\\envs\\AnalystForecast\\Lib\\site-packages\\linearmodels\\panel\\data.py:217\u001B[0m, in \u001B[0;36mPanelData.__init__\u001B[1;34m(self, x, var_name, convert_dummies, drop_first, copy)\u001B[0m\n\u001B[0;32m    215\u001B[0m     x \u001B[38;5;241m=\u001B[39m DataFrame(x)\n\u001B[0;32m    216\u001B[0m \u001B[38;5;28;01melif\u001B[39;00m \u001B[38;5;28misinstance\u001B[39m(x, Series):\n\u001B[1;32m--> 217\u001B[0m     \u001B[38;5;28;01mraise\u001B[39;00m \u001B[38;5;167;01mValueError\u001B[39;00m(\u001B[38;5;124m\"\u001B[39m\u001B[38;5;124mSeries can only be used with a 2-level MultiIndex\u001B[39m\u001B[38;5;124m\"\u001B[39m)\n\u001B[0;32m    219\u001B[0m \u001B[38;5;28;01mif\u001B[39;00m \u001B[38;5;28misinstance\u001B[39m(x, DataFrame):\n\u001B[0;32m    220\u001B[0m     \u001B[38;5;28;01mif\u001B[39;00m \u001B[38;5;28misinstance\u001B[39m(x\u001B[38;5;241m.\u001B[39mindex, MultiIndex):\n",
      "\u001B[1;31mValueError\u001B[0m: Series can only be used with a 2-level MultiIndex"
     ]
    }
   ],
   "source": [
    "y = df_clean.loc[:, \"Earnings Per Share - Actual Surprise\"]\n",
    "X = df_clean[X_var_names]\n",
    "\n",
    "# perform the fixed effects panel regression\n",
    "fixed_effects_model = PanelOLS(y, X, entity_effects=True, time_effects=True)\n",
    "\n",
    "# fit the model and print the summary statistics\n",
    "fixed_effects_results = fixed_effects_model.fit()\n",
    "fixed_effects_results.summary\n"
   ]
  },
  {
   "attachments": {},
   "cell_type": "markdown",
   "metadata": {},
   "source": [
    "By Industry: example tech industry"
   ]
  },
  {
   "cell_type": "code",
   "execution_count": null,
   "metadata": {},
   "outputs": [],
   "source": [
    "group = df_panel[df_panel['GICS Industry Group Name'] == 'Technology Hardware & Equipment']\n",
    "\n",
    "group['Instrument'] = group['Instrument'].astype('category')\n",
    "group['Date'] = pd.to_datetime(group['Date'])\n",
    "group.set_index(['Instrument', 'Date'], inplace=True)\n",
    "\n",
    "y = group.loc[:, \"Earnings Per Share - Actual Surprise\"]\n",
    "X = group[X_var_names]\n",
    "\n",
    "model = RandomEffects(y, X).fit()\n",
    "model\n"
   ]
  },
  {
   "attachments": {},
   "cell_type": "markdown",
   "metadata": {},
   "source": [
    "Example: Retailing industry:"
   ]
  },
  {
   "cell_type": "code",
   "execution_count": null,
   "metadata": {},
   "outputs": [],
   "source": [
    "group = df_panel[df_panel['GICS Industry Group Name'] == 'Retailing']\n",
    "\n",
    "group['Instrument'] = group['Instrument'].astype('category')\n",
    "group['Date'] = pd.to_datetime(group['Date'])\n",
    "group.set_index(['Instrument', 'Date'], inplace=True)\n",
    "\n",
    "y = group.loc[:, \"Earnings Per Share - Actual Surprise\"]\n",
    "X = group[X_var_names]\n",
    "\n",
    "model = RandomEffects(y, X).fit()\n",
    "model\n"
   ]
  }
 ],
 "metadata": {
  "kernelspec": {
   "display_name": "AnalystForecast",
   "language": "python",
   "name": "python3"
  },
  "language_info": {
   "codemirror_mode": {
    "name": "ipython",
    "version": 3
   },
   "file_extension": ".py",
   "mimetype": "text/x-python",
   "name": "python",
   "nbconvert_exporter": "python",
   "pygments_lexer": "ipython3",
   "version": "3.11.0"
  },
  "orig_nbformat": 4,
  "vscode": {
   "interpreter": {
    "hash": "264d128b47a19451ae7876f5ee246d3f7de9751940a5ebe47f15ec6626e5a91f"
   }
  }
 },
 "nbformat": 4,
 "nbformat_minor": 2
}
