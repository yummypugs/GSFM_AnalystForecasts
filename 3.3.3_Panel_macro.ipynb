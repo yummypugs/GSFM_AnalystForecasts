{
 "cells": [
  {
   "attachments": {},
   "cell_type": "markdown",
   "metadata": {},
   "source": [
    "# Panle Regression - Firm Characteristics"
   ]
  },
  {
   "attachments": {},
   "cell_type": "markdown",
   "metadata": {},
   "source": [
    "### Random Effects Panel Regression"
   ]
  },
  {
   "cell_type": "code",
   "execution_count": 8,
   "metadata": {},
   "outputs": [],
   "source": [
    "import pandas as pd\n",
    "import numpy as np\n",
    "import datetime as dt\n",
    "import sklearn\n",
    "import statsmodels.api as sm\n",
    "from sklearn.linear_model import LinearRegression\n",
    "from sklearn.preprocessing import MinMaxScaler\n",
    "from sklearn.preprocessing import StandardScaler\n",
    "from linearmodels.panel import PanelOLS\n",
    "from linearmodels.panel import RandomEffects\n"
   ]
  },
  {
   "attachments": {},
   "cell_type": "markdown",
   "metadata": {},
   "source": [
    "Data"
   ]
  },
  {
   "cell_type": "code",
   "execution_count": 9,
   "metadata": {},
   "outputs": [
    {
     "data": {
      "text/plain": "      Instrument       Date GICS Industry Group Name  \\\n0          AVY.N 2013-01-01                Materials   \n1          AVY.N 2013-01-04                Materials   \n2          AVY.N 2013-01-07                Materials   \n3          AVY.N 2013-01-10                Materials   \n4          AVY.N 2014-01-01                Materials   \n...          ...        ...                      ...   \n19196    POOL.OQ 2021-01-10                Retailing   \n19197    POOL.OQ 2022-01-01                Retailing   \n19198    POOL.OQ 2022-01-04                Retailing   \n19199    POOL.OQ 2022-01-07                Retailing   \n19200    POOL.OQ 2022-01-10                Retailing   \n\n       Earnings Per Share - Actual Surprise  \\\n0                                    11.178   \n1                                     2.482   \n2                                     1.068   \n3                                     8.095   \n4                                     1.471   \n...                                     ...   \n19196                                17.194   \n19197                                40.267   \n19198                                34.342   \n19199                                 1.503   \n19200                                 4.196   \n\n       Earnings Per Share - Actual Surprise AbsVals  \\\n0                                            11.178   \n1                                             2.482   \n2                                             1.068   \n3                                             8.095   \n4                                             1.471   \n...                                             ...   \n19196                                        17.194   \n19197                                        40.267   \n19198                                        34.342   \n19199                                         1.503   \n19200                                         4.196   \n\n       CBOE Crude Oil ETF Volatility Index  \\\n0                                22.538500   \n1                                23.468125   \n2                                24.099219   \n3                                19.740938   \n4                                19.563770   \n...                                    ...   \n19196                            43.036308   \n19197                            52.695806   \n19198                            50.457581   \n19199                            49.861562   \n19200                            47.000952   \n\n       90-Day AA Financial Commercial Paper Interest Rate  \\\n0                                               0.166000    \n1                                               0.143750    \n2                                               0.125625    \n3                                               0.125806    \n4                                               0.126230    \n...                                                  ...    \n19196                                           0.140755    \n19197                                           0.467234    \n19198                                           1.394118    \n19199                                           2.885882    \n19200                                           4.230000    \n\n       Inflation Risk Premium  \\\n0                    0.359537   \n1                    0.360572   \n2                    0.463789   \n3                    0.441854   \n4                    0.465460   \n...                       ...   \n19196                0.382645   \n19197                0.380946   \n19198                0.495588   \n19199                0.423045   \n19200                0.535177   \n\n       University of Michigan: Consumer Sentiment, Index 1966:Q1=100  \\\n0                                              76.666667               \n1                                              81.666667               \n2                                              81.566667               \n3                                              76.933333               \n4                                              80.933333               \n...                                                  ...               \n19196                                          69.900000               \n19197                                          63.133333               \n19198                                          57.866667               \n19199                                          56.100000               \n19200                                          58.800000               \n\n       Unemployment Rate  \n0               7.733333  \n1               7.533333  \n2               7.233333  \n3               6.933333  \n4               6.666667  \n...                  ...  \n19196           4.200000  \n19197           3.800000  \n19198           3.600000  \n19199           3.566667  \n19200           3.600000  \n\n[19201 rows x 10 columns]",
      "text/html": "<div>\n<style scoped>\n    .dataframe tbody tr th:only-of-type {\n        vertical-align: middle;\n    }\n\n    .dataframe tbody tr th {\n        vertical-align: top;\n    }\n\n    .dataframe thead th {\n        text-align: right;\n    }\n</style>\n<table border=\"1\" class=\"dataframe\">\n  <thead>\n    <tr style=\"text-align: right;\">\n      <th></th>\n      <th>Instrument</th>\n      <th>Date</th>\n      <th>GICS Industry Group Name</th>\n      <th>Earnings Per Share - Actual Surprise</th>\n      <th>Earnings Per Share - Actual Surprise AbsVals</th>\n      <th>CBOE Crude Oil ETF Volatility Index</th>\n      <th>90-Day AA Financial Commercial Paper Interest Rate</th>\n      <th>Inflation Risk Premium</th>\n      <th>University of Michigan: Consumer Sentiment, Index 1966:Q1=100</th>\n      <th>Unemployment Rate</th>\n    </tr>\n  </thead>\n  <tbody>\n    <tr>\n      <th>0</th>\n      <td>AVY.N</td>\n      <td>2013-01-01</td>\n      <td>Materials</td>\n      <td>11.178</td>\n      <td>11.178</td>\n      <td>22.538500</td>\n      <td>0.166000</td>\n      <td>0.359537</td>\n      <td>76.666667</td>\n      <td>7.733333</td>\n    </tr>\n    <tr>\n      <th>1</th>\n      <td>AVY.N</td>\n      <td>2013-01-04</td>\n      <td>Materials</td>\n      <td>2.482</td>\n      <td>2.482</td>\n      <td>23.468125</td>\n      <td>0.143750</td>\n      <td>0.360572</td>\n      <td>81.666667</td>\n      <td>7.533333</td>\n    </tr>\n    <tr>\n      <th>2</th>\n      <td>AVY.N</td>\n      <td>2013-01-07</td>\n      <td>Materials</td>\n      <td>1.068</td>\n      <td>1.068</td>\n      <td>24.099219</td>\n      <td>0.125625</td>\n      <td>0.463789</td>\n      <td>81.566667</td>\n      <td>7.233333</td>\n    </tr>\n    <tr>\n      <th>3</th>\n      <td>AVY.N</td>\n      <td>2013-01-10</td>\n      <td>Materials</td>\n      <td>8.095</td>\n      <td>8.095</td>\n      <td>19.740938</td>\n      <td>0.125806</td>\n      <td>0.441854</td>\n      <td>76.933333</td>\n      <td>6.933333</td>\n    </tr>\n    <tr>\n      <th>4</th>\n      <td>AVY.N</td>\n      <td>2014-01-01</td>\n      <td>Materials</td>\n      <td>1.471</td>\n      <td>1.471</td>\n      <td>19.563770</td>\n      <td>0.126230</td>\n      <td>0.465460</td>\n      <td>80.933333</td>\n      <td>6.666667</td>\n    </tr>\n    <tr>\n      <th>...</th>\n      <td>...</td>\n      <td>...</td>\n      <td>...</td>\n      <td>...</td>\n      <td>...</td>\n      <td>...</td>\n      <td>...</td>\n      <td>...</td>\n      <td>...</td>\n      <td>...</td>\n    </tr>\n    <tr>\n      <th>19196</th>\n      <td>POOL.OQ</td>\n      <td>2021-01-10</td>\n      <td>Retailing</td>\n      <td>17.194</td>\n      <td>17.194</td>\n      <td>43.036308</td>\n      <td>0.140755</td>\n      <td>0.382645</td>\n      <td>69.900000</td>\n      <td>4.200000</td>\n    </tr>\n    <tr>\n      <th>19197</th>\n      <td>POOL.OQ</td>\n      <td>2022-01-01</td>\n      <td>Retailing</td>\n      <td>40.267</td>\n      <td>40.267</td>\n      <td>52.695806</td>\n      <td>0.467234</td>\n      <td>0.380946</td>\n      <td>63.133333</td>\n      <td>3.800000</td>\n    </tr>\n    <tr>\n      <th>19198</th>\n      <td>POOL.OQ</td>\n      <td>2022-01-04</td>\n      <td>Retailing</td>\n      <td>34.342</td>\n      <td>34.342</td>\n      <td>50.457581</td>\n      <td>1.394118</td>\n      <td>0.495588</td>\n      <td>57.866667</td>\n      <td>3.600000</td>\n    </tr>\n    <tr>\n      <th>19199</th>\n      <td>POOL.OQ</td>\n      <td>2022-01-07</td>\n      <td>Retailing</td>\n      <td>1.503</td>\n      <td>1.503</td>\n      <td>49.861562</td>\n      <td>2.885882</td>\n      <td>0.423045</td>\n      <td>56.100000</td>\n      <td>3.566667</td>\n    </tr>\n    <tr>\n      <th>19200</th>\n      <td>POOL.OQ</td>\n      <td>2022-01-10</td>\n      <td>Retailing</td>\n      <td>4.196</td>\n      <td>4.196</td>\n      <td>47.000952</td>\n      <td>4.230000</td>\n      <td>0.535177</td>\n      <td>58.800000</td>\n      <td>3.600000</td>\n    </tr>\n  </tbody>\n</table>\n<p>19201 rows × 10 columns</p>\n</div>"
     },
     "execution_count": 9,
     "metadata": {},
     "output_type": "execute_result"
    }
   ],
   "source": [
    "df = pd.read_csv(\"Dataframes/macro_regression.csv\")\n",
    "df[\"Date\"] = pd.to_datetime(df[\"Date\"])\n",
    "df"
   ]
  },
  {
   "attachments": {},
   "cell_type": "markdown",
   "metadata": {},
   "source": [
    "Standardising"
   ]
  },
  {
   "cell_type": "code",
   "execution_count": 10,
   "metadata": {},
   "outputs": [
    {
     "data": {
      "text/plain": "      Instrument       Date GICS Industry Group Name  \\\n0          AVY.N 2013-01-01                Materials   \n1          AVY.N 2013-01-04                Materials   \n2          AVY.N 2013-01-07                Materials   \n3          AVY.N 2013-01-10                Materials   \n4          AVY.N 2014-01-01                Materials   \n...          ...        ...                      ...   \n19196    POOL.OQ 2021-01-10                Retailing   \n19197    POOL.OQ 2022-01-01                Retailing   \n19198    POOL.OQ 2022-01-04                Retailing   \n19199    POOL.OQ 2022-01-07                Retailing   \n19200    POOL.OQ 2022-01-10                Retailing   \n\n       Earnings Per Share - Actual Surprise  \\\n0                                    11.178   \n1                                     2.482   \n2                                     1.068   \n3                                     8.095   \n4                                     1.471   \n...                                     ...   \n19196                                17.194   \n19197                                40.267   \n19198                                34.342   \n19199                                 1.503   \n19200                                 4.196   \n\n       Earnings Per Share - Actual Surprise AbsVals  \\\n0                                            11.178   \n1                                             2.482   \n2                                             1.068   \n3                                             8.095   \n4                                             1.471   \n...                                             ...   \n19196                                        17.194   \n19197                                        40.267   \n19198                                        34.342   \n19199                                         1.503   \n19200                                         4.196   \n\n       CBOE Crude Oil ETF Volatility Index  \\\n0                                 0.058434   \n1                                 0.069092   \n2                                 0.076327   \n3                                 0.026361   \n4                                 0.024330   \n...                                    ...   \n19196                             0.293433   \n19197                             0.404175   \n19198                             0.378514   \n19199                             0.371681   \n19200                             0.338885   \n\n       90-Day AA Financial Commercial Paper Interest Rate  \\\n0                                               0.015981    \n1                                               0.010593    \n2                                               0.006205    \n3                                               0.006249    \n4                                               0.006351    \n...                                                  ...    \n19196                                           0.009868    \n19197                                           0.088919    \n19198                                           0.313346    \n19199                                           0.674548    \n19200                                           1.000000    \n\n       Inflation Risk Premium  \\\n0                    0.552998   \n1                    0.555632   \n2                    0.818318   \n3                    0.762495   \n4                    0.822572   \n...                       ...   \n19196                0.611807   \n19197                0.607483   \n19198                0.899246   \n19199                0.714626   \n19200                1.000000   \n\n       University of Michigan: Consumer Sentiment, Index 1966:Q1=100  \\\n0                                               0.480156               \n1                                               0.596887               \n2                                               0.594553               \n3                                               0.486381               \n4                                               0.579767               \n...                                                  ...               \n19196                                           0.322179               \n19197                                           0.164202               \n19198                                           0.041245               \n19199                                           0.000000               \n19200                                           0.063035               \n\n       Unemployment Rate  \n0               0.443262  \n1               0.421986  \n2               0.390071  \n3               0.358156  \n4               0.329787  \n...                  ...  \n19196           0.067376  \n19197           0.024823  \n19198           0.003546  \n19199           0.000000  \n19200           0.003546  \n\n[19201 rows x 10 columns]",
      "text/html": "<div>\n<style scoped>\n    .dataframe tbody tr th:only-of-type {\n        vertical-align: middle;\n    }\n\n    .dataframe tbody tr th {\n        vertical-align: top;\n    }\n\n    .dataframe thead th {\n        text-align: right;\n    }\n</style>\n<table border=\"1\" class=\"dataframe\">\n  <thead>\n    <tr style=\"text-align: right;\">\n      <th></th>\n      <th>Instrument</th>\n      <th>Date</th>\n      <th>GICS Industry Group Name</th>\n      <th>Earnings Per Share - Actual Surprise</th>\n      <th>Earnings Per Share - Actual Surprise AbsVals</th>\n      <th>CBOE Crude Oil ETF Volatility Index</th>\n      <th>90-Day AA Financial Commercial Paper Interest Rate</th>\n      <th>Inflation Risk Premium</th>\n      <th>University of Michigan: Consumer Sentiment, Index 1966:Q1=100</th>\n      <th>Unemployment Rate</th>\n    </tr>\n  </thead>\n  <tbody>\n    <tr>\n      <th>0</th>\n      <td>AVY.N</td>\n      <td>2013-01-01</td>\n      <td>Materials</td>\n      <td>11.178</td>\n      <td>11.178</td>\n      <td>0.058434</td>\n      <td>0.015981</td>\n      <td>0.552998</td>\n      <td>0.480156</td>\n      <td>0.443262</td>\n    </tr>\n    <tr>\n      <th>1</th>\n      <td>AVY.N</td>\n      <td>2013-01-04</td>\n      <td>Materials</td>\n      <td>2.482</td>\n      <td>2.482</td>\n      <td>0.069092</td>\n      <td>0.010593</td>\n      <td>0.555632</td>\n      <td>0.596887</td>\n      <td>0.421986</td>\n    </tr>\n    <tr>\n      <th>2</th>\n      <td>AVY.N</td>\n      <td>2013-01-07</td>\n      <td>Materials</td>\n      <td>1.068</td>\n      <td>1.068</td>\n      <td>0.076327</td>\n      <td>0.006205</td>\n      <td>0.818318</td>\n      <td>0.594553</td>\n      <td>0.390071</td>\n    </tr>\n    <tr>\n      <th>3</th>\n      <td>AVY.N</td>\n      <td>2013-01-10</td>\n      <td>Materials</td>\n      <td>8.095</td>\n      <td>8.095</td>\n      <td>0.026361</td>\n      <td>0.006249</td>\n      <td>0.762495</td>\n      <td>0.486381</td>\n      <td>0.358156</td>\n    </tr>\n    <tr>\n      <th>4</th>\n      <td>AVY.N</td>\n      <td>2014-01-01</td>\n      <td>Materials</td>\n      <td>1.471</td>\n      <td>1.471</td>\n      <td>0.024330</td>\n      <td>0.006351</td>\n      <td>0.822572</td>\n      <td>0.579767</td>\n      <td>0.329787</td>\n    </tr>\n    <tr>\n      <th>...</th>\n      <td>...</td>\n      <td>...</td>\n      <td>...</td>\n      <td>...</td>\n      <td>...</td>\n      <td>...</td>\n      <td>...</td>\n      <td>...</td>\n      <td>...</td>\n      <td>...</td>\n    </tr>\n    <tr>\n      <th>19196</th>\n      <td>POOL.OQ</td>\n      <td>2021-01-10</td>\n      <td>Retailing</td>\n      <td>17.194</td>\n      <td>17.194</td>\n      <td>0.293433</td>\n      <td>0.009868</td>\n      <td>0.611807</td>\n      <td>0.322179</td>\n      <td>0.067376</td>\n    </tr>\n    <tr>\n      <th>19197</th>\n      <td>POOL.OQ</td>\n      <td>2022-01-01</td>\n      <td>Retailing</td>\n      <td>40.267</td>\n      <td>40.267</td>\n      <td>0.404175</td>\n      <td>0.088919</td>\n      <td>0.607483</td>\n      <td>0.164202</td>\n      <td>0.024823</td>\n    </tr>\n    <tr>\n      <th>19198</th>\n      <td>POOL.OQ</td>\n      <td>2022-01-04</td>\n      <td>Retailing</td>\n      <td>34.342</td>\n      <td>34.342</td>\n      <td>0.378514</td>\n      <td>0.313346</td>\n      <td>0.899246</td>\n      <td>0.041245</td>\n      <td>0.003546</td>\n    </tr>\n    <tr>\n      <th>19199</th>\n      <td>POOL.OQ</td>\n      <td>2022-01-07</td>\n      <td>Retailing</td>\n      <td>1.503</td>\n      <td>1.503</td>\n      <td>0.371681</td>\n      <td>0.674548</td>\n      <td>0.714626</td>\n      <td>0.000000</td>\n      <td>0.000000</td>\n    </tr>\n    <tr>\n      <th>19200</th>\n      <td>POOL.OQ</td>\n      <td>2022-01-10</td>\n      <td>Retailing</td>\n      <td>4.196</td>\n      <td>4.196</td>\n      <td>0.338885</td>\n      <td>1.000000</td>\n      <td>1.000000</td>\n      <td>0.063035</td>\n      <td>0.003546</td>\n    </tr>\n  </tbody>\n</table>\n<p>19201 rows × 10 columns</p>\n</div>"
     },
     "execution_count": 10,
     "metadata": {},
     "output_type": "execute_result"
    }
   ],
   "source": [
    "rescale = df.copy()\n",
    "#rescale[\"Earnings Per Share - Actual Surprise\"] = MinMaxScaler().fit_transform(np.array(rescale[\"Earnings Per Share - Actual Surprise\"]).reshape(-1,1))\n",
    "rescale[\"CBOE Crude Oil ETF Volatility Index\"] = MinMaxScaler().fit_transform(np.array(rescale[\"CBOE Crude Oil ETF Volatility Index\"]).reshape(-1,1))\n",
    "rescale[\"90-Day AA Financial Commercial Paper Interest Rate\"] = MinMaxScaler().fit_transform(np.array(rescale[\"90-Day AA Financial Commercial Paper Interest Rate\"]).reshape(-1,1))\n",
    "rescale[\"Inflation Risk Premium\"] = MinMaxScaler().fit_transform(np.array(rescale[\"Inflation Risk Premium\"]).reshape(-1,1))\n",
    "rescale[\"University of Michigan: Consumer Sentiment, Index 1966:Q1=100\"] = MinMaxScaler().fit_transform(np.array(rescale[\"University of Michigan: Consumer Sentiment, Index 1966:Q1=100\"]).reshape(-1,1))\n",
    "rescale[\"Unemployment Rate\"] = MinMaxScaler().fit_transform(np.array(rescale[\"Unemployment Rate\"]).reshape(-1,1))\n",
    "df_clean = rescale\n",
    "df_clean"
   ]
  },
  {
   "cell_type": "code",
   "execution_count": 11,
   "metadata": {},
   "outputs": [],
   "source": [
    "df_panel = df_clean.copy()"
   ]
  },
  {
   "attachments": {},
   "cell_type": "markdown",
   "metadata": {},
   "source": [
    "#### Fixed Effects"
   ]
  },
  {
   "attachments": {},
   "cell_type": "markdown",
   "metadata": {},
   "source": [
    "In a fixed effects panel regression, the individual-specific effects are modeled as fixed variables that do not vary across time. This means that the coefficients of the independent variables are estimated based on the within-entity variation in the data, which eliminates the effect of time-invariant unobserved heterogeneity.\n",
    "\n",
    "Fixed effects models are useful when there are time-invariant unobserved variables that may affect the dependent variable, but are not included in the model. By modeling the individual-specific effects as fixed variables, fixed effects models can control for this unobserved heterogeneity and estimate the coefficients of the independent variables based on the within-entity variation, which provides more efficient estimates of the coefficients.\n",
    "\n",
    "One limitation of fixed effects models is that they do not allow for testing the effect of time-invariant variables on the dependent variable. In addition, fixed effects models may suffer from the incidental parameter problem, which may lead to biased estimates of the coefficients of the independent variables in the presence of a large number of fixed effects."
   ]
  },
  {
   "cell_type": "code",
   "execution_count": 12,
   "metadata": {
    "collapsed": false
   },
   "outputs": [],
   "source": [
    "df_clean['Instrument'] = df_clean['Instrument'].astype('category')\n",
    "df_clean['Date'] = pd.to_datetime(df_clean['Date'])\n",
    "\n",
    "# set the index to be the time variable and the cross-sectional variable\n",
    "df_clean.set_index(['Instrument', 'Date'], inplace=True)"
   ]
  },
  {
   "attachments": {},
   "cell_type": "markdown",
   "metadata": {},
   "source": [
    "Regression with absolute surprise values"
   ]
  },
  {
   "cell_type": "code",
   "execution_count": 13,
   "metadata": {},
   "outputs": [
    {
     "data": {
      "text/plain": "<class 'linearmodels.compat.statsmodels.Summary'>\n\"\"\"\n                                       PanelOLS Estimation Summary                                        \n==========================================================================================================\nDep. Variable:     Earnings Per Share - Actual Surprise AbsVals   R-squared:                     1.209e-07\nEstimator:                                             PanelOLS   R-squared (Between):          -8.624e+21\nNo. Observations:                                         19201   R-squared (Within):           -7.935e+20\nDate:                                          Sun, Mar 05 2023   R-squared (Overall):          -3.945e+21\nTime:                                                  20:56:03   Log-likelihood                -9.359e+04\nCov. Estimator:                                      Unadjusted                                           \n                                                                  F-statistic:                      0.0005\nEntities:                                                   502   P-value                           1.0000\nAvg Obs:                                                 38.249   Distribution:                 F(5,18655)\nMin Obs:                                                 4.0000                                           \nMax Obs:                                                 40.000   F-statistic (robust):             0.0005\n                                                                  P-value                           1.0000\nTime periods:                                                40   Distribution:                 F(5,18655)\nAvg Obs:                                                 480.02                                           \nMin Obs:                                                 451.00                                           \nMax Obs:                                                 499.00                                           \n                                                                                                          \n                                                       Parameter Estimates                                                       \n=================================================================================================================================\n                                                               Parameter  Std. Err.     T-stat    P-value    Lower CI    Upper CI\n---------------------------------------------------------------------------------------------------------------------------------\nCBOE Crude Oil ETF Volatility Index                           -3.193e+12  1.343e+14    -0.0238     0.9810  -2.664e+14     2.6e+14\n90-Day AA Financial Commercial Paper Interest Rate            -2.086e+12  7.654e+13    -0.0272     0.9783  -1.521e+14   1.479e+14\nInflation Risk Premium                                        -8.484e+11  9.367e+13    -0.0091     0.9928  -1.845e+14   1.828e+14\nUniversity of Michigan: Consumer Sentiment, Index 1966:Q1=100  9.172e+10  6.318e+13     0.0015     0.9988  -1.237e+14   1.239e+14\nUnemployment Rate                                             -3.879e+12  8.788e+13    -0.0441     0.9648  -1.761e+14   1.684e+14\n=================================================================================================================================\n\nF-test for Poolability: 11.320\nP-value: 0.0000\nDistribution: F(540,18655)\n\nIncluded effects: Entity, Time\n\"\"\"",
      "text/html": "<table class=\"simpletable\">\n<caption>PanelOLS Estimation Summary</caption>\n<tr>\n  <th>Dep. Variable:</th>    <td>Earnings Per Share - Actual Surprise AbsVals</td> <th>  R-squared:         </th>    <td>1.209e-07</td>\n</tr>\n<tr>\n  <th>Estimator:</th>                          <td>PanelOLS</td>                   <th>  R-squared (Between):</th>  <td>-8.624e+21</td>\n</tr>\n<tr>\n  <th>No. Observations:</th>                     <td>19201</td>                    <th>  R-squared (Within):</th>   <td>-7.935e+20</td>\n</tr>\n<tr>\n  <th>Date:</th>                           <td>Sun, Mar 05 2023</td>               <th>  R-squared (Overall):</th>  <td>-3.945e+21</td>\n</tr>\n<tr>\n  <th>Time:</th>                               <td>20:56:03</td>                   <th>  Log-likelihood     </th>   <td>-9.359e+04</td>\n</tr>\n<tr>\n  <th>Cov. Estimator:</th>                    <td>Unadjusted</td>                  <th>                     </th>        <td></td>     \n</tr>\n<tr>\n  <th></th>                                        <td></td>                       <th>  F-statistic:       </th>     <td>0.0005</td>  \n</tr>\n<tr>\n  <th>Entities:</th>                              <td>502</td>                     <th>  P-value            </th>     <td>1.0000</td>  \n</tr>\n<tr>\n  <th>Avg Obs:</th>                             <td>38.249</td>                    <th>  Distribution:      </th>   <td>F(5,18655)</td>\n</tr>\n<tr>\n  <th>Min Obs:</th>                             <td>4.0000</td>                    <th>                     </th>        <td></td>     \n</tr>\n<tr>\n  <th>Max Obs:</th>                             <td>40.000</td>                    <th>  F-statistic (robust):</th>   <td>0.0005</td>  \n</tr>\n<tr>\n  <th></th>                                        <td></td>                       <th>  P-value            </th>     <td>1.0000</td>  \n</tr>\n<tr>\n  <th>Time periods:</th>                          <td>40</td>                      <th>  Distribution:      </th>   <td>F(5,18655)</td>\n</tr>\n<tr>\n  <th>Avg Obs:</th>                             <td>480.02</td>                    <th>                     </th>        <td></td>     \n</tr>\n<tr>\n  <th>Min Obs:</th>                             <td>451.00</td>                    <th>                     </th>        <td></td>     \n</tr>\n<tr>\n  <th>Max Obs:</th>                             <td>499.00</td>                    <th>                     </th>        <td></td>     \n</tr>\n<tr>\n  <th></th>                                        <td></td>                       <th>                     </th>        <td></td>     \n</tr>\n</table>\n<table class=\"simpletable\">\n<caption>Parameter Estimates</caption>\n<tr>\n                                <td></td>                                 <th>Parameter</th> <th>Std. Err.</th> <th>T-stat</th>  <th>P-value</th>  <th>Lower CI</th>  <th>Upper CI</th> \n</tr>\n<tr>\n  <th>CBOE Crude Oil ETF Volatility Index</th>                           <td>-3.193e+12</td> <td>1.343e+14</td> <td>-0.0238</td> <td>0.9810</td>  <td>-2.664e+14</td> <td> 2.6e+14</td> \n</tr>\n<tr>\n  <th>90-Day AA Financial Commercial Paper Interest Rate</th>            <td>-2.086e+12</td> <td>7.654e+13</td> <td>-0.0272</td> <td>0.9783</td>  <td>-1.521e+14</td> <td>1.479e+14</td>\n</tr>\n<tr>\n  <th>Inflation Risk Premium</th>                                        <td>-8.484e+11</td> <td>9.367e+13</td> <td>-0.0091</td> <td>0.9928</td>  <td>-1.845e+14</td> <td>1.828e+14</td>\n</tr>\n<tr>\n  <th>University of Michigan: Consumer Sentiment, Index 1966:Q1=100</th>  <td>9.172e+10</td> <td>6.318e+13</td> <td>0.0015</td>  <td>0.9988</td>  <td>-1.237e+14</td> <td>1.239e+14</td>\n</tr>\n<tr>\n  <th>Unemployment Rate</th>                                             <td>-3.879e+12</td> <td>8.788e+13</td> <td>-0.0441</td> <td>0.9648</td>  <td>-1.761e+14</td> <td>1.684e+14</td>\n</tr>\n</table><br/><br/>F-test for Poolability: 11.320<br/>P-value: 0.0000<br/>Distribution: F(540,18655)<br/><br/>Included effects: Entity, Time"
     },
     "execution_count": 13,
     "metadata": {},
     "output_type": "execute_result"
    }
   ],
   "source": [
    "y = df_clean.loc[:, \"Earnings Per Share - Actual Surprise AbsVals\"]\n",
    "X = df_clean.loc[:, \"CBOE Crude Oil ETF Volatility Index\":]\n",
    "\n",
    "# perform the fixed effects panel regression\n",
    "fixed_effects_model = PanelOLS(y, X, entity_effects=True, time_effects=True, drop_absorbed=True)\n",
    "\n",
    "# fit the model and print the summary statistics\n",
    "fixed_effects_results = fixed_effects_model.fit()\n",
    "fixed_effects_results.summary"
   ]
  },
  {
   "attachments": {},
   "cell_type": "markdown",
   "metadata": {},
   "source": [
    "By Industry: example tech industry"
   ]
  },
  {
   "cell_type": "code",
   "execution_count": 14,
   "metadata": {},
   "outputs": [
    {
     "name": "stderr",
     "output_type": "stream",
     "text": [
      "C:\\Users\\alexa\\AppData\\Local\\Temp\\ipykernel_19760\\3399161272.py:3: SettingWithCopyWarning: \n",
      "A value is trying to be set on a copy of a slice from a DataFrame.\n",
      "Try using .loc[row_indexer,col_indexer] = value instead\n",
      "\n",
      "See the caveats in the documentation: https://pandas.pydata.org/pandas-docs/stable/user_guide/indexing.html#returning-a-view-versus-a-copy\n",
      "  group['Instrument'] = group['Instrument'].astype('category')\n",
      "C:\\Users\\alexa\\AppData\\Local\\Temp\\ipykernel_19760\\3399161272.py:4: SettingWithCopyWarning: \n",
      "A value is trying to be set on a copy of a slice from a DataFrame.\n",
      "Try using .loc[row_indexer,col_indexer] = value instead\n",
      "\n",
      "See the caveats in the documentation: https://pandas.pydata.org/pandas-docs/stable/user_guide/indexing.html#returning-a-view-versus-a-copy\n",
      "  group['Date'] = pd.to_datetime(group['Date'])\n"
     ]
    },
    {
     "data": {
      "text/plain": "                                       PanelOLS Estimation Summary                                        \n==========================================================================================================\nDep. Variable:     Earnings Per Share - Actual Surprise AbsVals   R-squared:                        0.0000\nEstimator:                                             PanelOLS   R-squared (Between):             -127.49\nNo. Observations:                                           731   R-squared (Within):              -156.68\nDate:                                          Sun, Mar 05 2023   R-squared (Overall):             -144.70\nTime:                                                  20:56:03   Log-likelihood                   -2781.8\nCov. Estimator:                                      Unadjusted                                           \n                                                                  F-statistic:                      0.0000\nEntities:                                                    19   P-value                           1.0000\nAvg Obs:                                                 38.474   Distribution:                   F(5,668)\nMin Obs:                                                 28.000                                           \nMax Obs:                                                 40.000   F-statistic (robust):          3.367e-30\n                                                                  P-value                           1.0000\nTime periods:                                                40   Distribution:                   F(5,668)\nAvg Obs:                                                 18.275                                           \nMin Obs:                                                 15.000                                           \nMax Obs:                                                 19.000                                           \n                                                                                                          \n                                                       Parameter Estimates                                                       \n=================================================================================================================================\n                                                               Parameter  Std. Err.     T-stat    P-value    Lower CI    Upper CI\n---------------------------------------------------------------------------------------------------------------------------------\nCBOE Crude Oil ETF Volatility Index                              -96.617   3.91e+16 -2.471e-15     1.0000  -7.677e+16   7.677e+16\n90-Day AA Financial Commercial Paper Interest Rate                640.54  2.051e+17  3.123e-15     1.0000  -4.028e+17   4.028e+17\nInflation Risk Premium                                           -23.342  1.682e+16 -1.388e-15     1.0000  -3.302e+16   3.302e+16\nUniversity of Michigan: Consumer Sentiment, Index 1966:Q1=100     15.800  1.023e+16  1.544e-15     1.0000   -2.01e+16    2.01e+16\nUnemployment Rate                                                 120.11  4.564e+16  2.632e-15     1.0000  -8.961e+16   8.961e+16\n=================================================================================================================================\n\nF-test for Poolability: 2.4716\nP-value: 0.0000\nDistribution: F(57,668)\n\nIncluded effects: Entity, Time\nPanelEffectsResults, id: 0x1efd541f210",
      "text/html": "<table class=\"simpletable\">\n<caption>PanelOLS Estimation Summary</caption>\n<tr>\n  <th>Dep. Variable:</th>    <td>Earnings Per Share - Actual Surprise AbsVals</td> <th>  R-squared:         </th>    <td>0.0000</td>  \n</tr>\n<tr>\n  <th>Estimator:</th>                          <td>PanelOLS</td>                   <th>  R-squared (Between):</th>   <td>-127.49</td> \n</tr>\n<tr>\n  <th>No. Observations:</th>                      <td>731</td>                     <th>  R-squared (Within):</th>    <td>-156.68</td> \n</tr>\n<tr>\n  <th>Date:</th>                           <td>Sun, Mar 05 2023</td>               <th>  R-squared (Overall):</th>   <td>-144.70</td> \n</tr>\n<tr>\n  <th>Time:</th>                               <td>20:56:03</td>                   <th>  Log-likelihood     </th>    <td>-2781.8</td> \n</tr>\n<tr>\n  <th>Cov. Estimator:</th>                    <td>Unadjusted</td>                  <th>                     </th>       <td></td>     \n</tr>\n<tr>\n  <th></th>                                        <td></td>                       <th>  F-statistic:       </th>    <td>0.0000</td>  \n</tr>\n<tr>\n  <th>Entities:</th>                              <td>19</td>                      <th>  P-value            </th>    <td>1.0000</td>  \n</tr>\n<tr>\n  <th>Avg Obs:</th>                             <td>38.474</td>                    <th>  Distribution:      </th>   <td>F(5,668)</td> \n</tr>\n<tr>\n  <th>Min Obs:</th>                             <td>28.000</td>                    <th>                     </th>       <td></td>     \n</tr>\n<tr>\n  <th>Max Obs:</th>                             <td>40.000</td>                    <th>  F-statistic (robust):</th> <td>3.367e-30</td>\n</tr>\n<tr>\n  <th></th>                                        <td></td>                       <th>  P-value            </th>    <td>1.0000</td>  \n</tr>\n<tr>\n  <th>Time periods:</th>                          <td>40</td>                      <th>  Distribution:      </th>   <td>F(5,668)</td> \n</tr>\n<tr>\n  <th>Avg Obs:</th>                             <td>18.275</td>                    <th>                     </th>       <td></td>     \n</tr>\n<tr>\n  <th>Min Obs:</th>                             <td>15.000</td>                    <th>                     </th>       <td></td>     \n</tr>\n<tr>\n  <th>Max Obs:</th>                             <td>19.000</td>                    <th>                     </th>       <td></td>     \n</tr>\n<tr>\n  <th></th>                                        <td></td>                       <th>                     </th>       <td></td>     \n</tr>\n</table>\n<table class=\"simpletable\">\n<caption>Parameter Estimates</caption>\n<tr>\n                                <td></td>                                <th>Parameter</th> <th>Std. Err.</th>   <th>T-stat</th>   <th>P-value</th>  <th>Lower CI</th>  <th>Upper CI</th> \n</tr>\n<tr>\n  <th>CBOE Crude Oil ETF Volatility Index</th>                            <td>-96.617</td>  <td>3.91e+16</td>  <td>-2.471e-15</td> <td>1.0000</td>  <td>-7.677e+16</td> <td>7.677e+16</td>\n</tr>\n<tr>\n  <th>90-Day AA Financial Commercial Paper Interest Rate</th>             <td>640.54</td>   <td>2.051e+17</td>  <td>3.123e-15</td> <td>1.0000</td>  <td>-4.028e+17</td> <td>4.028e+17</td>\n</tr>\n<tr>\n  <th>Inflation Risk Premium</th>                                         <td>-23.342</td>  <td>1.682e+16</td> <td>-1.388e-15</td> <td>1.0000</td>  <td>-3.302e+16</td> <td>3.302e+16</td>\n</tr>\n<tr>\n  <th>University of Michigan: Consumer Sentiment, Index 1966:Q1=100</th>  <td>15.800</td>   <td>1.023e+16</td>  <td>1.544e-15</td> <td>1.0000</td>   <td>-2.01e+16</td> <td>2.01e+16</td> \n</tr>\n<tr>\n  <th>Unemployment Rate</th>                                              <td>120.11</td>   <td>4.564e+16</td>  <td>2.632e-15</td> <td>1.0000</td>  <td>-8.961e+16</td> <td>8.961e+16</td>\n</tr>\n</table><br/><br/>F-test for Poolability: 2.4716<br/>P-value: 0.0000<br/>Distribution: F(57,668)<br/><br/>Included effects: Entity, Time<br/>id: 0x1efd541f210"
     },
     "execution_count": 14,
     "metadata": {},
     "output_type": "execute_result"
    }
   ],
   "source": [
    "group = df_panel[df_panel['GICS Industry Group Name'] == 'Technology Hardware & Equipment']\n",
    "\n",
    "group['Instrument'] = group['Instrument'].astype('category')\n",
    "group['Date'] = pd.to_datetime(group['Date'])\n",
    "group.set_index(['Instrument', 'Date'], inplace=True)\n",
    "\n",
    "y = group.loc[:, \"Earnings Per Share - Actual Surprise AbsVals\"]\n",
    "X = group.loc[:, \"CBOE Crude Oil ETF Volatility Index\":]\n",
    "\n",
    "model = PanelOLS(y, X, entity_effects=True, time_effects=True).fit()\n",
    "model"
   ]
  },
  {
   "cell_type": "markdown",
   "source": [
    "# Checking for COVID Years"
   ],
   "metadata": {
    "collapsed": false
   }
  },
  {
   "cell_type": "code",
   "execution_count": 15,
   "outputs": [
    {
     "data": {
      "text/plain": "      Instrument       Date GICS Industry Group Name  \\\n0          AVY.N 2013-01-01                Materials   \n1          AVY.N 2013-01-04                Materials   \n2          AVY.N 2013-01-07                Materials   \n3          AVY.N 2013-01-10                Materials   \n4          AVY.N 2014-01-01                Materials   \n...          ...        ...                      ...   \n19196    POOL.OQ 2021-01-10                Retailing   \n19197    POOL.OQ 2022-01-01                Retailing   \n19198    POOL.OQ 2022-01-04                Retailing   \n19199    POOL.OQ 2022-01-07                Retailing   \n19200    POOL.OQ 2022-01-10                Retailing   \n\n       Earnings Per Share - Actual Surprise  \\\n0                                    11.178   \n1                                     2.482   \n2                                     1.068   \n3                                     8.095   \n4                                     1.471   \n...                                     ...   \n19196                                17.194   \n19197                                40.267   \n19198                                34.342   \n19199                                 1.503   \n19200                                 4.196   \n\n       Earnings Per Share - Actual Surprise AbsVals  \\\n0                                            11.178   \n1                                             2.482   \n2                                             1.068   \n3                                             8.095   \n4                                             1.471   \n...                                             ...   \n19196                                        17.194   \n19197                                        40.267   \n19198                                        34.342   \n19199                                         1.503   \n19200                                         4.196   \n\n       CBOE Crude Oil ETF Volatility Index  \\\n0                                 0.058434   \n1                                 0.069092   \n2                                 0.076327   \n3                                 0.026361   \n4                                 0.024330   \n...                                    ...   \n19196                             0.293433   \n19197                             0.404175   \n19198                             0.378514   \n19199                             0.371681   \n19200                             0.338885   \n\n       90-Day AA Financial Commercial Paper Interest Rate  \\\n0                                               0.015981    \n1                                               0.010593    \n2                                               0.006205    \n3                                               0.006249    \n4                                               0.006351    \n...                                                  ...    \n19196                                           0.009868    \n19197                                           0.088919    \n19198                                           0.313346    \n19199                                           0.674548    \n19200                                           1.000000    \n\n       Inflation Risk Premium  \\\n0                    0.552998   \n1                    0.555632   \n2                    0.818318   \n3                    0.762495   \n4                    0.822572   \n...                       ...   \n19196                0.611807   \n19197                0.607483   \n19198                0.899246   \n19199                0.714626   \n19200                1.000000   \n\n       University of Michigan: Consumer Sentiment, Index 1966:Q1=100  \\\n0                                               0.480156               \n1                                               0.596887               \n2                                               0.594553               \n3                                               0.486381               \n4                                               0.579767               \n...                                                  ...               \n19196                                           0.322179               \n19197                                           0.164202               \n19198                                           0.041245               \n19199                                           0.000000               \n19200                                           0.063035               \n\n       Unemployment Rate  \n0               0.443262  \n1               0.421986  \n2               0.390071  \n3               0.358156  \n4               0.329787  \n...                  ...  \n19196           0.067376  \n19197           0.024823  \n19198           0.003546  \n19199           0.000000  \n19200           0.003546  \n\n[19201 rows x 10 columns]",
      "text/html": "<div>\n<style scoped>\n    .dataframe tbody tr th:only-of-type {\n        vertical-align: middle;\n    }\n\n    .dataframe tbody tr th {\n        vertical-align: top;\n    }\n\n    .dataframe thead th {\n        text-align: right;\n    }\n</style>\n<table border=\"1\" class=\"dataframe\">\n  <thead>\n    <tr style=\"text-align: right;\">\n      <th></th>\n      <th>Instrument</th>\n      <th>Date</th>\n      <th>GICS Industry Group Name</th>\n      <th>Earnings Per Share - Actual Surprise</th>\n      <th>Earnings Per Share - Actual Surprise AbsVals</th>\n      <th>CBOE Crude Oil ETF Volatility Index</th>\n      <th>90-Day AA Financial Commercial Paper Interest Rate</th>\n      <th>Inflation Risk Premium</th>\n      <th>University of Michigan: Consumer Sentiment, Index 1966:Q1=100</th>\n      <th>Unemployment Rate</th>\n    </tr>\n  </thead>\n  <tbody>\n    <tr>\n      <th>0</th>\n      <td>AVY.N</td>\n      <td>2013-01-01</td>\n      <td>Materials</td>\n      <td>11.178</td>\n      <td>11.178</td>\n      <td>0.058434</td>\n      <td>0.015981</td>\n      <td>0.552998</td>\n      <td>0.480156</td>\n      <td>0.443262</td>\n    </tr>\n    <tr>\n      <th>1</th>\n      <td>AVY.N</td>\n      <td>2013-01-04</td>\n      <td>Materials</td>\n      <td>2.482</td>\n      <td>2.482</td>\n      <td>0.069092</td>\n      <td>0.010593</td>\n      <td>0.555632</td>\n      <td>0.596887</td>\n      <td>0.421986</td>\n    </tr>\n    <tr>\n      <th>2</th>\n      <td>AVY.N</td>\n      <td>2013-01-07</td>\n      <td>Materials</td>\n      <td>1.068</td>\n      <td>1.068</td>\n      <td>0.076327</td>\n      <td>0.006205</td>\n      <td>0.818318</td>\n      <td>0.594553</td>\n      <td>0.390071</td>\n    </tr>\n    <tr>\n      <th>3</th>\n      <td>AVY.N</td>\n      <td>2013-01-10</td>\n      <td>Materials</td>\n      <td>8.095</td>\n      <td>8.095</td>\n      <td>0.026361</td>\n      <td>0.006249</td>\n      <td>0.762495</td>\n      <td>0.486381</td>\n      <td>0.358156</td>\n    </tr>\n    <tr>\n      <th>4</th>\n      <td>AVY.N</td>\n      <td>2014-01-01</td>\n      <td>Materials</td>\n      <td>1.471</td>\n      <td>1.471</td>\n      <td>0.024330</td>\n      <td>0.006351</td>\n      <td>0.822572</td>\n      <td>0.579767</td>\n      <td>0.329787</td>\n    </tr>\n    <tr>\n      <th>...</th>\n      <td>...</td>\n      <td>...</td>\n      <td>...</td>\n      <td>...</td>\n      <td>...</td>\n      <td>...</td>\n      <td>...</td>\n      <td>...</td>\n      <td>...</td>\n      <td>...</td>\n    </tr>\n    <tr>\n      <th>19196</th>\n      <td>POOL.OQ</td>\n      <td>2021-01-10</td>\n      <td>Retailing</td>\n      <td>17.194</td>\n      <td>17.194</td>\n      <td>0.293433</td>\n      <td>0.009868</td>\n      <td>0.611807</td>\n      <td>0.322179</td>\n      <td>0.067376</td>\n    </tr>\n    <tr>\n      <th>19197</th>\n      <td>POOL.OQ</td>\n      <td>2022-01-01</td>\n      <td>Retailing</td>\n      <td>40.267</td>\n      <td>40.267</td>\n      <td>0.404175</td>\n      <td>0.088919</td>\n      <td>0.607483</td>\n      <td>0.164202</td>\n      <td>0.024823</td>\n    </tr>\n    <tr>\n      <th>19198</th>\n      <td>POOL.OQ</td>\n      <td>2022-01-04</td>\n      <td>Retailing</td>\n      <td>34.342</td>\n      <td>34.342</td>\n      <td>0.378514</td>\n      <td>0.313346</td>\n      <td>0.899246</td>\n      <td>0.041245</td>\n      <td>0.003546</td>\n    </tr>\n    <tr>\n      <th>19199</th>\n      <td>POOL.OQ</td>\n      <td>2022-01-07</td>\n      <td>Retailing</td>\n      <td>1.503</td>\n      <td>1.503</td>\n      <td>0.371681</td>\n      <td>0.674548</td>\n      <td>0.714626</td>\n      <td>0.000000</td>\n      <td>0.000000</td>\n    </tr>\n    <tr>\n      <th>19200</th>\n      <td>POOL.OQ</td>\n      <td>2022-01-10</td>\n      <td>Retailing</td>\n      <td>4.196</td>\n      <td>4.196</td>\n      <td>0.338885</td>\n      <td>1.000000</td>\n      <td>1.000000</td>\n      <td>0.063035</td>\n      <td>0.003546</td>\n    </tr>\n  </tbody>\n</table>\n<p>19201 rows × 10 columns</p>\n</div>"
     },
     "execution_count": 15,
     "metadata": {},
     "output_type": "execute_result"
    }
   ],
   "source": [
    "df_clean = df_panel.copy()\n",
    "df_clean"
   ],
   "metadata": {
    "collapsed": false
   }
  },
  {
   "cell_type": "code",
   "execution_count": 16,
   "outputs": [],
   "source": [
    "covid_start = pd.to_datetime(\"2020-01-01\")\n",
    "\n",
    "df_covid = df_clean[df_clean[\"Date\"] >= covid_start]\n",
    "\n",
    "df_nocovid = df_clean[df_clean[\"Date\"] < covid_start]"
   ],
   "metadata": {
    "collapsed": false
   }
  },
  {
   "cell_type": "code",
   "execution_count": 17,
   "outputs": [
    {
     "name": "stderr",
     "output_type": "stream",
     "text": [
      "C:\\Users\\alexa\\AppData\\Local\\Temp\\ipykernel_19760\\2704597447.py:1: SettingWithCopyWarning: \n",
      "A value is trying to be set on a copy of a slice from a DataFrame.\n",
      "Try using .loc[row_indexer,col_indexer] = value instead\n",
      "\n",
      "See the caveats in the documentation: https://pandas.pydata.org/pandas-docs/stable/user_guide/indexing.html#returning-a-view-versus-a-copy\n",
      "  df_covid['Instrument'] = df_covid['Instrument'].astype('category')\n",
      "C:\\Users\\alexa\\AppData\\Local\\Temp\\ipykernel_19760\\2704597447.py:2: SettingWithCopyWarning: \n",
      "A value is trying to be set on a copy of a slice from a DataFrame.\n",
      "Try using .loc[row_indexer,col_indexer] = value instead\n",
      "\n",
      "See the caveats in the documentation: https://pandas.pydata.org/pandas-docs/stable/user_guide/indexing.html#returning-a-view-versus-a-copy\n",
      "  df_covid['Date'] = pd.to_datetime(df_covid['Date'])\n"
     ]
    }
   ],
   "source": [
    "df_covid['Instrument'] = df_covid['Instrument'].astype('category')\n",
    "df_covid['Date'] = pd.to_datetime(df_covid['Date'])\n",
    "\n",
    "# set the index to be the time variable and the cross-sectional variable\n",
    "df_covid.set_index(['Instrument', 'Date'], inplace=True)"
   ],
   "metadata": {
    "collapsed": false
   }
  },
  {
   "cell_type": "code",
   "execution_count": 18,
   "outputs": [
    {
     "name": "stderr",
     "output_type": "stream",
     "text": [
      "C:\\Users\\alexa\\AppData\\Local\\Temp\\ipykernel_19760\\876088522.py:1: SettingWithCopyWarning: \n",
      "A value is trying to be set on a copy of a slice from a DataFrame.\n",
      "Try using .loc[row_indexer,col_indexer] = value instead\n",
      "\n",
      "See the caveats in the documentation: https://pandas.pydata.org/pandas-docs/stable/user_guide/indexing.html#returning-a-view-versus-a-copy\n",
      "  df_nocovid['Instrument'] = df_nocovid['Instrument'].astype('category')\n",
      "C:\\Users\\alexa\\AppData\\Local\\Temp\\ipykernel_19760\\876088522.py:2: SettingWithCopyWarning: \n",
      "A value is trying to be set on a copy of a slice from a DataFrame.\n",
      "Try using .loc[row_indexer,col_indexer] = value instead\n",
      "\n",
      "See the caveats in the documentation: https://pandas.pydata.org/pandas-docs/stable/user_guide/indexing.html#returning-a-view-versus-a-copy\n",
      "  df_nocovid['Date'] = pd.to_datetime(df_nocovid['Date'])\n"
     ]
    }
   ],
   "source": [
    "df_nocovid['Instrument'] = df_nocovid['Instrument'].astype('category')\n",
    "df_nocovid['Date'] = pd.to_datetime(df_nocovid['Date'])\n",
    "\n",
    "# set the index to be the time variable and the cross-sectional variable\n",
    "df_nocovid.set_index(['Instrument', 'Date'], inplace=True)"
   ],
   "metadata": {
    "collapsed": false
   }
  },
  {
   "cell_type": "markdown",
   "source": [
    "# COVID"
   ],
   "metadata": {
    "collapsed": false
   }
  },
  {
   "cell_type": "code",
   "execution_count": 19,
   "outputs": [
    {
     "data": {
      "text/plain": "<class 'linearmodels.compat.statsmodels.Summary'>\n\"\"\"\n                                       PanelOLS Estimation Summary                                        \n==========================================================================================================\nDep. Variable:     Earnings Per Share - Actual Surprise AbsVals   R-squared:                     3.711e-06\nEstimator:                                             PanelOLS   R-squared (Between):          -4.663e+23\nNo. Observations:                                          5883   R-squared (Within):           -4.017e+23\nDate:                                          Sun, Mar 05 2023   R-squared (Overall):          -4.506e+23\nTime:                                                  20:57:03   Log-likelihood                -2.923e+04\nCov. Estimator:                                      Unadjusted                                           \n                                                                  F-statistic:                      0.0040\nEntities:                                                   501   P-value                           1.0000\nAvg Obs:                                                 11.743   Distribution:                  F(5,5366)\nMin Obs:                                                 4.0000                                           \nMax Obs:                                                 12.000   F-statistic (robust):             0.0040\n                                                                  P-value                           1.0000\nTime periods:                                                12   Distribution:                  F(5,5366)\nAvg Obs:                                                 490.25                                           \nMin Obs:                                                 461.00                                           \nMax Obs:                                                 499.00                                           \n                                                                                                          \n                                                       Parameter Estimates                                                       \n=================================================================================================================================\n                                                               Parameter  Std. Err.     T-stat    P-value    Lower CI    Upper CI\n---------------------------------------------------------------------------------------------------------------------------------\nCBOE Crude Oil ETF Volatility Index                           -1.003e+14  7.118e+14    -0.1409     0.8879  -1.496e+15   1.295e+15\n90-Day AA Financial Commercial Paper Interest Rate             9.317e+13  6.763e+14     0.1377     0.8904  -1.233e+15   1.419e+15\nInflation Risk Premium                                         6.127e+12  3.482e+14     0.0176     0.9860  -6.765e+14   6.887e+14\nUniversity of Michigan: Consumer Sentiment, Index 1966:Q1=100  5.146e+13  4.096e+14     0.1257     0.9000  -7.515e+14   8.544e+14\nUnemployment Rate                                              8.701e+13  6.228e+14     0.1397     0.8889  -1.134e+15   1.308e+15\n=================================================================================================================================\n\nF-test for Poolability: 5.0597\nP-value: 0.0000\nDistribution: F(511,5366)\n\nIncluded effects: Entity, Time\n\"\"\"",
      "text/html": "<table class=\"simpletable\">\n<caption>PanelOLS Estimation Summary</caption>\n<tr>\n  <th>Dep. Variable:</th>    <td>Earnings Per Share - Actual Surprise AbsVals</td> <th>  R-squared:         </th>    <td>3.711e-06</td>\n</tr>\n<tr>\n  <th>Estimator:</th>                          <td>PanelOLS</td>                   <th>  R-squared (Between):</th>  <td>-4.663e+23</td>\n</tr>\n<tr>\n  <th>No. Observations:</th>                     <td>5883</td>                     <th>  R-squared (Within):</th>   <td>-4.017e+23</td>\n</tr>\n<tr>\n  <th>Date:</th>                           <td>Sun, Mar 05 2023</td>               <th>  R-squared (Overall):</th>  <td>-4.506e+23</td>\n</tr>\n<tr>\n  <th>Time:</th>                               <td>20:57:03</td>                   <th>  Log-likelihood     </th>   <td>-2.923e+04</td>\n</tr>\n<tr>\n  <th>Cov. Estimator:</th>                    <td>Unadjusted</td>                  <th>                     </th>        <td></td>     \n</tr>\n<tr>\n  <th></th>                                        <td></td>                       <th>  F-statistic:       </th>     <td>0.0040</td>  \n</tr>\n<tr>\n  <th>Entities:</th>                              <td>501</td>                     <th>  P-value            </th>     <td>1.0000</td>  \n</tr>\n<tr>\n  <th>Avg Obs:</th>                             <td>11.743</td>                    <th>  Distribution:      </th>    <td>F(5,5366)</td>\n</tr>\n<tr>\n  <th>Min Obs:</th>                             <td>4.0000</td>                    <th>                     </th>        <td></td>     \n</tr>\n<tr>\n  <th>Max Obs:</th>                             <td>12.000</td>                    <th>  F-statistic (robust):</th>   <td>0.0040</td>  \n</tr>\n<tr>\n  <th></th>                                        <td></td>                       <th>  P-value            </th>     <td>1.0000</td>  \n</tr>\n<tr>\n  <th>Time periods:</th>                          <td>12</td>                      <th>  Distribution:      </th>    <td>F(5,5366)</td>\n</tr>\n<tr>\n  <th>Avg Obs:</th>                             <td>490.25</td>                    <th>                     </th>        <td></td>     \n</tr>\n<tr>\n  <th>Min Obs:</th>                             <td>461.00</td>                    <th>                     </th>        <td></td>     \n</tr>\n<tr>\n  <th>Max Obs:</th>                             <td>499.00</td>                    <th>                     </th>        <td></td>     \n</tr>\n<tr>\n  <th></th>                                        <td></td>                       <th>                     </th>        <td></td>     \n</tr>\n</table>\n<table class=\"simpletable\">\n<caption>Parameter Estimates</caption>\n<tr>\n                                <td></td>                                 <th>Parameter</th> <th>Std. Err.</th> <th>T-stat</th>  <th>P-value</th>  <th>Lower CI</th>  <th>Upper CI</th> \n</tr>\n<tr>\n  <th>CBOE Crude Oil ETF Volatility Index</th>                           <td>-1.003e+14</td> <td>7.118e+14</td> <td>-0.1409</td> <td>0.8879</td>  <td>-1.496e+15</td> <td>1.295e+15</td>\n</tr>\n<tr>\n  <th>90-Day AA Financial Commercial Paper Interest Rate</th>             <td>9.317e+13</td> <td>6.763e+14</td> <td>0.1377</td>  <td>0.8904</td>  <td>-1.233e+15</td> <td>1.419e+15</td>\n</tr>\n<tr>\n  <th>Inflation Risk Premium</th>                                         <td>6.127e+12</td> <td>3.482e+14</td> <td>0.0176</td>  <td>0.9860</td>  <td>-6.765e+14</td> <td>6.887e+14</td>\n</tr>\n<tr>\n  <th>University of Michigan: Consumer Sentiment, Index 1966:Q1=100</th>  <td>5.146e+13</td> <td>4.096e+14</td> <td>0.1257</td>  <td>0.9000</td>  <td>-7.515e+14</td> <td>8.544e+14</td>\n</tr>\n<tr>\n  <th>Unemployment Rate</th>                                              <td>8.701e+13</td> <td>6.228e+14</td> <td>0.1397</td>  <td>0.8889</td>  <td>-1.134e+15</td> <td>1.308e+15</td>\n</tr>\n</table><br/><br/>F-test for Poolability: 5.0597<br/>P-value: 0.0000<br/>Distribution: F(511,5366)<br/><br/>Included effects: Entity, Time"
     },
     "execution_count": 19,
     "metadata": {},
     "output_type": "execute_result"
    }
   ],
   "source": [
    "y = df_covid.loc[:, \"Earnings Per Share - Actual Surprise AbsVals\"]\n",
    "X = df_covid.loc[:, \"CBOE Crude Oil ETF Volatility Index\":]\n",
    "\n",
    "# perform the fixed effects panel regression\n",
    "fixed_effects_model = PanelOLS(y, X, entity_effects=True, time_effects=True)\n",
    "\n",
    "# fit the model and print the summary statistics\n",
    "fixed_effects_results = fixed_effects_model.fit()\n",
    "fixed_effects_results.summary\n"
   ],
   "metadata": {
    "collapsed": false
   }
  },
  {
   "cell_type": "code",
   "execution_count": 20,
   "outputs": [
    {
     "data": {
      "text/plain": "<class 'linearmodels.compat.statsmodels.Summary'>\n\"\"\"\n                                       PanelOLS Estimation Summary                                        \n==========================================================================================================\nDep. Variable:     Earnings Per Share - Actual Surprise AbsVals   R-squared:                      8.55e-08\nEstimator:                                             PanelOLS   R-squared (Between):          -8.871e+21\nNo. Observations:                                         13318   R-squared (Within):           -2.793e+20\nDate:                                          Sun, Mar 05 2023   R-squared (Overall):          -3.995e+21\nTime:                                                  20:57:11   Log-likelihood                -6.328e+04\nCov. Estimator:                                      Unadjusted                                           \n                                                                  F-statistic:                      0.0002\nEntities:                                                   498   P-value                           1.0000\nAvg Obs:                                                 26.743   Distribution:                 F(5,12788)\nMin Obs:                                                 1.0000                                           \nMax Obs:                                                 28.000   F-statistic (robust):             0.0002\n                                                                  P-value                           1.0000\nTime periods:                                                28   Distribution:                 F(5,12788)\nAvg Obs:                                                 475.64                                           \nMin Obs:                                                 451.00                                           \nMax Obs:                                                 498.00                                           \n                                                                                                          \n                                                       Parameter Estimates                                                       \n=================================================================================================================================\n                                                               Parameter  Std. Err.     T-stat    P-value    Lower CI    Upper CI\n---------------------------------------------------------------------------------------------------------------------------------\nCBOE Crude Oil ETF Volatility Index                            1.325e+12  1.398e+14     0.0095     0.9924  -2.727e+14   2.754e+14\n90-Day AA Financial Commercial Paper Interest Rate             2.864e+11  8.691e+13     0.0033     0.9974  -1.701e+14   1.706e+14\nInflation Risk Premium                                         2.201e+12  1.276e+14     0.0173     0.9862  -2.478e+14   2.522e+14\nUniversity of Michigan: Consumer Sentiment, Index 1966:Q1=100 -4.203e+12  1.449e+14    -0.0290     0.9769  -2.882e+14   2.798e+14\nUnemployment Rate                                             -3.099e+12    1.2e+14    -0.0258     0.9794  -2.383e+14   2.321e+14\n=================================================================================================================================\n\nF-test for Poolability: 9.8930\nP-value: 0.0000\nDistribution: F(524,12788)\n\nIncluded effects: Entity, Time\n\"\"\"",
      "text/html": "<table class=\"simpletable\">\n<caption>PanelOLS Estimation Summary</caption>\n<tr>\n  <th>Dep. Variable:</th>    <td>Earnings Per Share - Actual Surprise AbsVals</td> <th>  R-squared:         </th>    <td>8.55e-08</td> \n</tr>\n<tr>\n  <th>Estimator:</th>                          <td>PanelOLS</td>                   <th>  R-squared (Between):</th>  <td>-8.871e+21</td>\n</tr>\n<tr>\n  <th>No. Observations:</th>                     <td>13318</td>                    <th>  R-squared (Within):</th>   <td>-2.793e+20</td>\n</tr>\n<tr>\n  <th>Date:</th>                           <td>Sun, Mar 05 2023</td>               <th>  R-squared (Overall):</th>  <td>-3.995e+21</td>\n</tr>\n<tr>\n  <th>Time:</th>                               <td>20:57:11</td>                   <th>  Log-likelihood     </th>   <td>-6.328e+04</td>\n</tr>\n<tr>\n  <th>Cov. Estimator:</th>                    <td>Unadjusted</td>                  <th>                     </th>        <td></td>     \n</tr>\n<tr>\n  <th></th>                                        <td></td>                       <th>  F-statistic:       </th>     <td>0.0002</td>  \n</tr>\n<tr>\n  <th>Entities:</th>                              <td>498</td>                     <th>  P-value            </th>     <td>1.0000</td>  \n</tr>\n<tr>\n  <th>Avg Obs:</th>                             <td>26.743</td>                    <th>  Distribution:      </th>   <td>F(5,12788)</td>\n</tr>\n<tr>\n  <th>Min Obs:</th>                             <td>1.0000</td>                    <th>                     </th>        <td></td>     \n</tr>\n<tr>\n  <th>Max Obs:</th>                             <td>28.000</td>                    <th>  F-statistic (robust):</th>   <td>0.0002</td>  \n</tr>\n<tr>\n  <th></th>                                        <td></td>                       <th>  P-value            </th>     <td>1.0000</td>  \n</tr>\n<tr>\n  <th>Time periods:</th>                          <td>28</td>                      <th>  Distribution:      </th>   <td>F(5,12788)</td>\n</tr>\n<tr>\n  <th>Avg Obs:</th>                             <td>475.64</td>                    <th>                     </th>        <td></td>     \n</tr>\n<tr>\n  <th>Min Obs:</th>                             <td>451.00</td>                    <th>                     </th>        <td></td>     \n</tr>\n<tr>\n  <th>Max Obs:</th>                             <td>498.00</td>                    <th>                     </th>        <td></td>     \n</tr>\n<tr>\n  <th></th>                                        <td></td>                       <th>                     </th>        <td></td>     \n</tr>\n</table>\n<table class=\"simpletable\">\n<caption>Parameter Estimates</caption>\n<tr>\n                                <td></td>                                 <th>Parameter</th> <th>Std. Err.</th> <th>T-stat</th>  <th>P-value</th>  <th>Lower CI</th>  <th>Upper CI</th> \n</tr>\n<tr>\n  <th>CBOE Crude Oil ETF Volatility Index</th>                            <td>1.325e+12</td> <td>1.398e+14</td> <td>0.0095</td>  <td>0.9924</td>  <td>-2.727e+14</td> <td>2.754e+14</td>\n</tr>\n<tr>\n  <th>90-Day AA Financial Commercial Paper Interest Rate</th>             <td>2.864e+11</td> <td>8.691e+13</td> <td>0.0033</td>  <td>0.9974</td>  <td>-1.701e+14</td> <td>1.706e+14</td>\n</tr>\n<tr>\n  <th>Inflation Risk Premium</th>                                         <td>2.201e+12</td> <td>1.276e+14</td> <td>0.0173</td>  <td>0.9862</td>  <td>-2.478e+14</td> <td>2.522e+14</td>\n</tr>\n<tr>\n  <th>University of Michigan: Consumer Sentiment, Index 1966:Q1=100</th> <td>-4.203e+12</td> <td>1.449e+14</td> <td>-0.0290</td> <td>0.9769</td>  <td>-2.882e+14</td> <td>2.798e+14</td>\n</tr>\n<tr>\n  <th>Unemployment Rate</th>                                             <td>-3.099e+12</td> <td> 1.2e+14</td>  <td>-0.0258</td> <td>0.9794</td>  <td>-2.383e+14</td> <td>2.321e+14</td>\n</tr>\n</table><br/><br/>F-test for Poolability: 9.8930<br/>P-value: 0.0000<br/>Distribution: F(524,12788)<br/><br/>Included effects: Entity, Time"
     },
     "execution_count": 20,
     "metadata": {},
     "output_type": "execute_result"
    }
   ],
   "source": [
    "y = df_nocovid.loc[:, \"Earnings Per Share - Actual Surprise AbsVals\"]\n",
    "X = df_nocovid.loc[:, \"CBOE Crude Oil ETF Volatility Index\":]\n",
    "\n",
    "# perform the fixed effects panel regression\n",
    "fixed_effects_model = PanelOLS(y, X, entity_effects=True, time_effects=True)\n",
    "\n",
    "# fit the model and print the summary statistics\n",
    "fixed_effects_results = fixed_effects_model.fit()\n",
    "fixed_effects_results.summary\n"
   ],
   "metadata": {
    "collapsed": false
   }
  },
  {
   "cell_type": "code",
   "execution_count": null,
   "outputs": [],
   "source": [],
   "metadata": {
    "collapsed": false
   }
  },
  {
   "cell_type": "markdown",
   "source": [
    "### Based on these results we can conclude that macro factors are a bad indicator for prediction"
   ],
   "metadata": {
    "collapsed": false
   }
  },
  {
   "cell_type": "code",
   "execution_count": null,
   "outputs": [],
   "source": [],
   "metadata": {
    "collapsed": false
   }
  }
 ],
 "metadata": {
  "kernelspec": {
   "display_name": "AnalystForecast",
   "language": "python",
   "name": "python3"
  },
  "language_info": {
   "codemirror_mode": {
    "name": "ipython",
    "version": 3
   },
   "file_extension": ".py",
   "mimetype": "text/x-python",
   "name": "python",
   "nbconvert_exporter": "python",
   "pygments_lexer": "ipython3",
   "version": "3.11.0"
  },
  "orig_nbformat": 4,
  "vscode": {
   "interpreter": {
    "hash": "264d128b47a19451ae7876f5ee246d3f7de9751940a5ebe47f15ec6626e5a91f"
   }
  }
 },
 "nbformat": 4,
 "nbformat_minor": 2
}
