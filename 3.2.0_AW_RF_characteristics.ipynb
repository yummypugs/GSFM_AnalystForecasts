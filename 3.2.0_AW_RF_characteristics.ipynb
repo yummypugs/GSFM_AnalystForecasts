{
 "cells": [
  {
   "cell_type": "code",
   "execution_count": 13,
   "metadata": {},
   "outputs": [],
   "source": [
    "import pandas as pd\n",
    "import statsmodels.api as sm\n",
    "from sklearn.linear_model import LinearRegression\n",
    "from sklearn.preprocessing import MinMaxScaler\n",
    "from sklearn.preprocessing import StandardScaler\n",
    "\n",
    "import numpy as np\n",
    "\n",
    "from linearmodels.panel import PanelOLS\n",
    "import datetime as dt"
   ]
  },
  {
   "attachments": {},
   "cell_type": "markdown",
   "metadata": {},
   "source": [
    "# Characteristics Random Forest\n",
    "\n"
   ]
  },
  {
   "cell_type": "code",
   "execution_count": 14,
   "metadata": {},
   "outputs": [
    {
     "data": {
      "text/plain": "      Instrument        Date  Earnings Per Share - Actual Surprise  \\\n0        POOL.OQ  2022-10-01                                 4.196   \n1        POOL.OQ  2022-07-01                                 1.503   \n2        POOL.OQ  2022-04-01                                34.342   \n3        POOL.OQ  2022-01-01                                40.267   \n4        POOL.OQ  2021-10-01                                17.194   \n...          ...         ...                                   ...   \n19332      AVY.N  2014-01-01                                 1.471   \n19333      AVY.N  2013-10-01                                 8.095   \n19334      AVY.N  2013-07-01                                 1.068   \n19335      AVY.N  2013-04-01                                 2.482   \n19336      AVY.N  2013-01-01                                11.178   \n\n       Revenue - Actual  Enterprise Value  Market Capitalization  \\\n0          1.615339e+09      1.406160e+10           1.259813e+10   \n1          2.055818e+09      1.556187e+10           1.405795e+10   \n2          1.412650e+09      1.843682e+10           1.696712e+10   \n3          1.035557e+09      2.384882e+10           2.268979e+10   \n4          1.411448e+09      1.769954e+10           1.742020e+10   \n...                 ...               ...                    ...   \n19332      1.583900e+09      5.553068e+09           4.877168e+09   \n19333      1.504900e+09      5.029514e+09           4.273414e+09   \n19334      1.552300e+09      5.436229e+09           4.258229e+09   \n19335      1.498900e+09      5.459128e+09           4.309428e+09   \n19336      1.532200e+09      4.413001e+09           3.426001e+09   \n\n       Enterprise Value To Sales (Daily Time Series Ratio)  \\\n0                                               2.383926     \n1                                               2.749481     \n2                                               3.422880     \n3                                               4.504382     \n4                                               3.684400     \n...                                                  ...     \n19332                                           0.920659     \n19333                                           0.903176     \n19334                                           0.906078     \n19335                                           0.895787     \n19336                                           0.799347     \n\n       3 Month Total Return    Volume  loss firm status  \n0                 -9.164375  238539.0                -1  \n1                -21.661570  185584.0                -1  \n2                -25.160664  290897.0                -1  \n3                 30.489705   82349.0                -1  \n4                 -5.130322  157740.0                -1  \n...                     ...       ...               ...  \n19332             16.003852  157761.0                -1  \n19333              2.467620  236291.0                -1  \n19334             -0.054218       0.0                -1  \n19335             24.148726       0.0                -1  \n19336             10.637479  207295.0                -1  \n\n[19337 rows x 10 columns]",
      "text/html": "<div>\n<style scoped>\n    .dataframe tbody tr th:only-of-type {\n        vertical-align: middle;\n    }\n\n    .dataframe tbody tr th {\n        vertical-align: top;\n    }\n\n    .dataframe thead th {\n        text-align: right;\n    }\n</style>\n<table border=\"1\" class=\"dataframe\">\n  <thead>\n    <tr style=\"text-align: right;\">\n      <th></th>\n      <th>Instrument</th>\n      <th>Date</th>\n      <th>Earnings Per Share - Actual Surprise</th>\n      <th>Revenue - Actual</th>\n      <th>Enterprise Value</th>\n      <th>Market Capitalization</th>\n      <th>Enterprise Value To Sales (Daily Time Series Ratio)</th>\n      <th>3 Month Total Return</th>\n      <th>Volume</th>\n      <th>loss firm status</th>\n    </tr>\n  </thead>\n  <tbody>\n    <tr>\n      <th>0</th>\n      <td>POOL.OQ</td>\n      <td>2022-10-01</td>\n      <td>4.196</td>\n      <td>1.615339e+09</td>\n      <td>1.406160e+10</td>\n      <td>1.259813e+10</td>\n      <td>2.383926</td>\n      <td>-9.164375</td>\n      <td>238539.0</td>\n      <td>-1</td>\n    </tr>\n    <tr>\n      <th>1</th>\n      <td>POOL.OQ</td>\n      <td>2022-07-01</td>\n      <td>1.503</td>\n      <td>2.055818e+09</td>\n      <td>1.556187e+10</td>\n      <td>1.405795e+10</td>\n      <td>2.749481</td>\n      <td>-21.661570</td>\n      <td>185584.0</td>\n      <td>-1</td>\n    </tr>\n    <tr>\n      <th>2</th>\n      <td>POOL.OQ</td>\n      <td>2022-04-01</td>\n      <td>34.342</td>\n      <td>1.412650e+09</td>\n      <td>1.843682e+10</td>\n      <td>1.696712e+10</td>\n      <td>3.422880</td>\n      <td>-25.160664</td>\n      <td>290897.0</td>\n      <td>-1</td>\n    </tr>\n    <tr>\n      <th>3</th>\n      <td>POOL.OQ</td>\n      <td>2022-01-01</td>\n      <td>40.267</td>\n      <td>1.035557e+09</td>\n      <td>2.384882e+10</td>\n      <td>2.268979e+10</td>\n      <td>4.504382</td>\n      <td>30.489705</td>\n      <td>82349.0</td>\n      <td>-1</td>\n    </tr>\n    <tr>\n      <th>4</th>\n      <td>POOL.OQ</td>\n      <td>2021-10-01</td>\n      <td>17.194</td>\n      <td>1.411448e+09</td>\n      <td>1.769954e+10</td>\n      <td>1.742020e+10</td>\n      <td>3.684400</td>\n      <td>-5.130322</td>\n      <td>157740.0</td>\n      <td>-1</td>\n    </tr>\n    <tr>\n      <th>...</th>\n      <td>...</td>\n      <td>...</td>\n      <td>...</td>\n      <td>...</td>\n      <td>...</td>\n      <td>...</td>\n      <td>...</td>\n      <td>...</td>\n      <td>...</td>\n      <td>...</td>\n    </tr>\n    <tr>\n      <th>19332</th>\n      <td>AVY.N</td>\n      <td>2014-01-01</td>\n      <td>1.471</td>\n      <td>1.583900e+09</td>\n      <td>5.553068e+09</td>\n      <td>4.877168e+09</td>\n      <td>0.920659</td>\n      <td>16.003852</td>\n      <td>157761.0</td>\n      <td>-1</td>\n    </tr>\n    <tr>\n      <th>19333</th>\n      <td>AVY.N</td>\n      <td>2013-10-01</td>\n      <td>8.095</td>\n      <td>1.504900e+09</td>\n      <td>5.029514e+09</td>\n      <td>4.273414e+09</td>\n      <td>0.903176</td>\n      <td>2.467620</td>\n      <td>236291.0</td>\n      <td>-1</td>\n    </tr>\n    <tr>\n      <th>19334</th>\n      <td>AVY.N</td>\n      <td>2013-07-01</td>\n      <td>1.068</td>\n      <td>1.552300e+09</td>\n      <td>5.436229e+09</td>\n      <td>4.258229e+09</td>\n      <td>0.906078</td>\n      <td>-0.054218</td>\n      <td>0.0</td>\n      <td>-1</td>\n    </tr>\n    <tr>\n      <th>19335</th>\n      <td>AVY.N</td>\n      <td>2013-04-01</td>\n      <td>2.482</td>\n      <td>1.498900e+09</td>\n      <td>5.459128e+09</td>\n      <td>4.309428e+09</td>\n      <td>0.895787</td>\n      <td>24.148726</td>\n      <td>0.0</td>\n      <td>-1</td>\n    </tr>\n    <tr>\n      <th>19336</th>\n      <td>AVY.N</td>\n      <td>2013-01-01</td>\n      <td>11.178</td>\n      <td>1.532200e+09</td>\n      <td>4.413001e+09</td>\n      <td>3.426001e+09</td>\n      <td>0.799347</td>\n      <td>10.637479</td>\n      <td>207295.0</td>\n      <td>-1</td>\n    </tr>\n  </tbody>\n</table>\n<p>19337 rows × 10 columns</p>\n</div>"
     },
     "execution_count": 14,
     "metadata": {},
     "output_type": "execute_result"
    }
   ],
   "source": [
    "#decide which df to use\n",
    "df = pd.read_csv(\"Dataframes/characteristics.csv\")\n",
    "#df = df.loc[:, [\"Instrument\", \"Date\", \"Earnings Per Share - Actual Surprise\", \"Revenue - Actual\", \"Net Income after Tax\"]]\n",
    "\n",
    "df"
   ]
  },
  {
   "attachments": {},
   "cell_type": "markdown",
   "metadata": {},
   "source": [
    "#### OLS Regression"
   ]
  },
  {
   "cell_type": "code",
   "execution_count": 15,
   "outputs": [
    {
     "data": {
      "text/plain": "loss firm status\n-1    17281\n 1     1271\n 0       14\ndtype: int64"
     },
     "execution_count": 15,
     "metadata": {},
     "output_type": "execute_result"
    }
   ],
   "source": [
    "#identifying outliers and replacing them with NA\n",
    "summary_stats = df[\"Earnings Per Share - Actual Surprise\"].describe()\n",
    "Q1 = summary_stats.loc['25%']\n",
    "Q3 = summary_stats.loc['75%']\n",
    "IQR = Q3 - Q1\n",
    "threshold = 7 #1.5 is standard threshold but we still want to keep enough variation in the data so setting threshol higher here\n",
    "surprise_outliers_removed = df[\"Earnings Per Share - Actual Surprise\"].loc[~((df[\"Earnings Per Share - Actual Surprise\"] < (Q1 - threshold * IQR)) | (df[\"Earnings Per Share - Actual Surprise\"] > (Q3 + threshold * IQR)))]\n",
    "df_accuracy_new = df.copy()\n",
    "df_accuracy_new[\"Earnings Per Share - Actual Surprise\"] = surprise_outliers_removed\n",
    "df_accuracy_new = df_accuracy_new.dropna(subset=[\"Earnings Per Share - Actual Surprise\"])\n",
    "#df_accuracy_new[\"Recommendation - Mean (1-5)\"] = df_accuracy_new[\"Recommendation - Mean (1-5)\"].fillna(0)\n",
    "df_accuracy_new = df_accuracy_new.dropna()\n",
    "df_accuracy_new.value_counts(\"loss firm status\")\n"
   ],
   "metadata": {
    "collapsed": false
   }
  },
  {
   "cell_type": "code",
   "execution_count": 16,
   "outputs": [
    {
     "data": {
      "text/plain": "      Instrument        Date  Earnings Per Share - Actual Surprise  \\\n0        POOL.OQ  2022-10-01                                 4.196   \n1        POOL.OQ  2022-07-01                                 1.503   \n2        POOL.OQ  2022-04-01                                34.342   \n3        POOL.OQ  2022-01-01                                40.267   \n4        POOL.OQ  2021-10-01                                17.194   \n...          ...         ...                                   ...   \n19332      AVY.N  2014-01-01                                 1.471   \n19333      AVY.N  2013-10-01                                 8.095   \n19334      AVY.N  2013-07-01                                 1.068   \n19335      AVY.N  2013-04-01                                 2.482   \n19336      AVY.N  2013-01-01                                11.178   \n\n       Revenue - Actual  Enterprise Value  Market Capitalization  \\\n0          1.615339e+09      1.406160e+10           1.259813e+10   \n1          2.055818e+09      1.556187e+10           1.405795e+10   \n2          1.412650e+09      1.843682e+10           1.696712e+10   \n3          1.035557e+09      2.384882e+10           2.268979e+10   \n4          1.411448e+09      1.769954e+10           1.742020e+10   \n...                 ...               ...                    ...   \n19332      1.583900e+09      5.553068e+09           4.877168e+09   \n19333      1.504900e+09      5.029514e+09           4.273414e+09   \n19334      1.552300e+09      5.436229e+09           4.258229e+09   \n19335      1.498900e+09      5.459128e+09           4.309428e+09   \n19336      1.532200e+09      4.413001e+09           3.426001e+09   \n\n       Enterprise Value To Sales (Daily Time Series Ratio)  \\\n0                                               2.383926     \n1                                               2.749481     \n2                                               3.422880     \n3                                               4.504382     \n4                                               3.684400     \n...                                                  ...     \n19332                                           0.920659     \n19333                                           0.903176     \n19334                                           0.906078     \n19335                                           0.895787     \n19336                                           0.799347     \n\n       3 Month Total Return    Volume  loss firm status  \n0                 -9.164375  238539.0                -1  \n1                -21.661570  185584.0                -1  \n2                -25.160664  290897.0                -1  \n3                 30.489705   82349.0                -1  \n4                 -5.130322  157740.0                -1  \n...                     ...       ...               ...  \n19332             16.003852  157761.0                -1  \n19333              2.467620  236291.0                -1  \n19334             -0.054218       0.0                -1  \n19335             24.148726       0.0                -1  \n19336             10.637479  207295.0                -1  \n\n[18566 rows x 10 columns]",
      "text/html": "<div>\n<style scoped>\n    .dataframe tbody tr th:only-of-type {\n        vertical-align: middle;\n    }\n\n    .dataframe tbody tr th {\n        vertical-align: top;\n    }\n\n    .dataframe thead th {\n        text-align: right;\n    }\n</style>\n<table border=\"1\" class=\"dataframe\">\n  <thead>\n    <tr style=\"text-align: right;\">\n      <th></th>\n      <th>Instrument</th>\n      <th>Date</th>\n      <th>Earnings Per Share - Actual Surprise</th>\n      <th>Revenue - Actual</th>\n      <th>Enterprise Value</th>\n      <th>Market Capitalization</th>\n      <th>Enterprise Value To Sales (Daily Time Series Ratio)</th>\n      <th>3 Month Total Return</th>\n      <th>Volume</th>\n      <th>loss firm status</th>\n    </tr>\n  </thead>\n  <tbody>\n    <tr>\n      <th>0</th>\n      <td>POOL.OQ</td>\n      <td>2022-10-01</td>\n      <td>4.196</td>\n      <td>1.615339e+09</td>\n      <td>1.406160e+10</td>\n      <td>1.259813e+10</td>\n      <td>2.383926</td>\n      <td>-9.164375</td>\n      <td>238539.0</td>\n      <td>-1</td>\n    </tr>\n    <tr>\n      <th>1</th>\n      <td>POOL.OQ</td>\n      <td>2022-07-01</td>\n      <td>1.503</td>\n      <td>2.055818e+09</td>\n      <td>1.556187e+10</td>\n      <td>1.405795e+10</td>\n      <td>2.749481</td>\n      <td>-21.661570</td>\n      <td>185584.0</td>\n      <td>-1</td>\n    </tr>\n    <tr>\n      <th>2</th>\n      <td>POOL.OQ</td>\n      <td>2022-04-01</td>\n      <td>34.342</td>\n      <td>1.412650e+09</td>\n      <td>1.843682e+10</td>\n      <td>1.696712e+10</td>\n      <td>3.422880</td>\n      <td>-25.160664</td>\n      <td>290897.0</td>\n      <td>-1</td>\n    </tr>\n    <tr>\n      <th>3</th>\n      <td>POOL.OQ</td>\n      <td>2022-01-01</td>\n      <td>40.267</td>\n      <td>1.035557e+09</td>\n      <td>2.384882e+10</td>\n      <td>2.268979e+10</td>\n      <td>4.504382</td>\n      <td>30.489705</td>\n      <td>82349.0</td>\n      <td>-1</td>\n    </tr>\n    <tr>\n      <th>4</th>\n      <td>POOL.OQ</td>\n      <td>2021-10-01</td>\n      <td>17.194</td>\n      <td>1.411448e+09</td>\n      <td>1.769954e+10</td>\n      <td>1.742020e+10</td>\n      <td>3.684400</td>\n      <td>-5.130322</td>\n      <td>157740.0</td>\n      <td>-1</td>\n    </tr>\n    <tr>\n      <th>...</th>\n      <td>...</td>\n      <td>...</td>\n      <td>...</td>\n      <td>...</td>\n      <td>...</td>\n      <td>...</td>\n      <td>...</td>\n      <td>...</td>\n      <td>...</td>\n      <td>...</td>\n    </tr>\n    <tr>\n      <th>19332</th>\n      <td>AVY.N</td>\n      <td>2014-01-01</td>\n      <td>1.471</td>\n      <td>1.583900e+09</td>\n      <td>5.553068e+09</td>\n      <td>4.877168e+09</td>\n      <td>0.920659</td>\n      <td>16.003852</td>\n      <td>157761.0</td>\n      <td>-1</td>\n    </tr>\n    <tr>\n      <th>19333</th>\n      <td>AVY.N</td>\n      <td>2013-10-01</td>\n      <td>8.095</td>\n      <td>1.504900e+09</td>\n      <td>5.029514e+09</td>\n      <td>4.273414e+09</td>\n      <td>0.903176</td>\n      <td>2.467620</td>\n      <td>236291.0</td>\n      <td>-1</td>\n    </tr>\n    <tr>\n      <th>19334</th>\n      <td>AVY.N</td>\n      <td>2013-07-01</td>\n      <td>1.068</td>\n      <td>1.552300e+09</td>\n      <td>5.436229e+09</td>\n      <td>4.258229e+09</td>\n      <td>0.906078</td>\n      <td>-0.054218</td>\n      <td>0.0</td>\n      <td>-1</td>\n    </tr>\n    <tr>\n      <th>19335</th>\n      <td>AVY.N</td>\n      <td>2013-04-01</td>\n      <td>2.482</td>\n      <td>1.498900e+09</td>\n      <td>5.459128e+09</td>\n      <td>4.309428e+09</td>\n      <td>0.895787</td>\n      <td>24.148726</td>\n      <td>0.0</td>\n      <td>-1</td>\n    </tr>\n    <tr>\n      <th>19336</th>\n      <td>AVY.N</td>\n      <td>2013-01-01</td>\n      <td>11.178</td>\n      <td>1.532200e+09</td>\n      <td>4.413001e+09</td>\n      <td>3.426001e+09</td>\n      <td>0.799347</td>\n      <td>10.637479</td>\n      <td>207295.0</td>\n      <td>-1</td>\n    </tr>\n  </tbody>\n</table>\n<p>18566 rows × 10 columns</p>\n</div>"
     },
     "execution_count": 16,
     "metadata": {},
     "output_type": "execute_result"
    }
   ],
   "source": [
    "df_accuracy_new"
   ],
   "metadata": {
    "collapsed": false
   }
  },
  {
   "cell_type": "code",
   "execution_count": 17,
   "outputs": [
    {
     "data": {
      "text/plain": "      Instrument        Date  Earnings Per Share - Actual Surprise  \\\n0        POOL.OQ  2022-10-01                                 4.196   \n1        POOL.OQ  2022-07-01                                 1.503   \n2        POOL.OQ  2022-04-01                                34.342   \n3        POOL.OQ  2022-01-01                                40.267   \n4        POOL.OQ  2021-10-01                                17.194   \n...          ...         ...                                   ...   \n19332      AVY.N  2014-01-01                                 1.471   \n19333      AVY.N  2013-10-01                                 8.095   \n19334      AVY.N  2013-07-01                                 1.068   \n19335      AVY.N  2013-04-01                                 2.482   \n19336      AVY.N  2013-01-01                                11.178   \n\n       Revenue - Actual  Enterprise Value  Market Capitalization  \\\n0              0.065637          0.031045               0.004337   \n1              0.068358          0.031540               0.004842   \n2              0.064385          0.032488               0.005848   \n3              0.062055          0.034274               0.007826   \n4              0.064377          0.032245               0.006004   \n...                 ...               ...                    ...   \n19332          0.065443          0.028238               0.001667   \n19333          0.064955          0.028065               0.001459   \n19334          0.065247          0.028199               0.001453   \n19335          0.064917          0.028207               0.001471   \n19336          0.065123          0.027862               0.001166   \n\n       Enterprise Value To Sales (Daily Time Series Ratio)  \\\n0                                               0.029064     \n1                                               0.029495     \n2                                               0.030290     \n3                                               0.031566     \n4                                               0.030598     \n...                                                  ...     \n19332                                           0.027338     \n19333                                           0.027317     \n19334                                           0.027321     \n19335                                           0.027308     \n19336                                           0.027195     \n\n       3 Month Total Return    Volume  loss firm status  \n0                  0.235367  0.001361                -1  \n1                  0.195817  0.001059                -1  \n2                  0.184744  0.001660                -1  \n3                  0.360861  0.000470                -1  \n4                  0.248134  0.000900                -1  \n...                     ...       ...               ...  \n19332              0.315017  0.000900                -1  \n19333              0.272179  0.001348                -1  \n19334              0.264198  0.000000                -1  \n19335              0.340793  0.000000                -1  \n19336              0.298034  0.001183                -1  \n\n[18566 rows x 10 columns]",
      "text/html": "<div>\n<style scoped>\n    .dataframe tbody tr th:only-of-type {\n        vertical-align: middle;\n    }\n\n    .dataframe tbody tr th {\n        vertical-align: top;\n    }\n\n    .dataframe thead th {\n        text-align: right;\n    }\n</style>\n<table border=\"1\" class=\"dataframe\">\n  <thead>\n    <tr style=\"text-align: right;\">\n      <th></th>\n      <th>Instrument</th>\n      <th>Date</th>\n      <th>Earnings Per Share - Actual Surprise</th>\n      <th>Revenue - Actual</th>\n      <th>Enterprise Value</th>\n      <th>Market Capitalization</th>\n      <th>Enterprise Value To Sales (Daily Time Series Ratio)</th>\n      <th>3 Month Total Return</th>\n      <th>Volume</th>\n      <th>loss firm status</th>\n    </tr>\n  </thead>\n  <tbody>\n    <tr>\n      <th>0</th>\n      <td>POOL.OQ</td>\n      <td>2022-10-01</td>\n      <td>4.196</td>\n      <td>0.065637</td>\n      <td>0.031045</td>\n      <td>0.004337</td>\n      <td>0.029064</td>\n      <td>0.235367</td>\n      <td>0.001361</td>\n      <td>-1</td>\n    </tr>\n    <tr>\n      <th>1</th>\n      <td>POOL.OQ</td>\n      <td>2022-07-01</td>\n      <td>1.503</td>\n      <td>0.068358</td>\n      <td>0.031540</td>\n      <td>0.004842</td>\n      <td>0.029495</td>\n      <td>0.195817</td>\n      <td>0.001059</td>\n      <td>-1</td>\n    </tr>\n    <tr>\n      <th>2</th>\n      <td>POOL.OQ</td>\n      <td>2022-04-01</td>\n      <td>34.342</td>\n      <td>0.064385</td>\n      <td>0.032488</td>\n      <td>0.005848</td>\n      <td>0.030290</td>\n      <td>0.184744</td>\n      <td>0.001660</td>\n      <td>-1</td>\n    </tr>\n    <tr>\n      <th>3</th>\n      <td>POOL.OQ</td>\n      <td>2022-01-01</td>\n      <td>40.267</td>\n      <td>0.062055</td>\n      <td>0.034274</td>\n      <td>0.007826</td>\n      <td>0.031566</td>\n      <td>0.360861</td>\n      <td>0.000470</td>\n      <td>-1</td>\n    </tr>\n    <tr>\n      <th>4</th>\n      <td>POOL.OQ</td>\n      <td>2021-10-01</td>\n      <td>17.194</td>\n      <td>0.064377</td>\n      <td>0.032245</td>\n      <td>0.006004</td>\n      <td>0.030598</td>\n      <td>0.248134</td>\n      <td>0.000900</td>\n      <td>-1</td>\n    </tr>\n    <tr>\n      <th>...</th>\n      <td>...</td>\n      <td>...</td>\n      <td>...</td>\n      <td>...</td>\n      <td>...</td>\n      <td>...</td>\n      <td>...</td>\n      <td>...</td>\n      <td>...</td>\n      <td>...</td>\n    </tr>\n    <tr>\n      <th>19332</th>\n      <td>AVY.N</td>\n      <td>2014-01-01</td>\n      <td>1.471</td>\n      <td>0.065443</td>\n      <td>0.028238</td>\n      <td>0.001667</td>\n      <td>0.027338</td>\n      <td>0.315017</td>\n      <td>0.000900</td>\n      <td>-1</td>\n    </tr>\n    <tr>\n      <th>19333</th>\n      <td>AVY.N</td>\n      <td>2013-10-01</td>\n      <td>8.095</td>\n      <td>0.064955</td>\n      <td>0.028065</td>\n      <td>0.001459</td>\n      <td>0.027317</td>\n      <td>0.272179</td>\n      <td>0.001348</td>\n      <td>-1</td>\n    </tr>\n    <tr>\n      <th>19334</th>\n      <td>AVY.N</td>\n      <td>2013-07-01</td>\n      <td>1.068</td>\n      <td>0.065247</td>\n      <td>0.028199</td>\n      <td>0.001453</td>\n      <td>0.027321</td>\n      <td>0.264198</td>\n      <td>0.000000</td>\n      <td>-1</td>\n    </tr>\n    <tr>\n      <th>19335</th>\n      <td>AVY.N</td>\n      <td>2013-04-01</td>\n      <td>2.482</td>\n      <td>0.064917</td>\n      <td>0.028207</td>\n      <td>0.001471</td>\n      <td>0.027308</td>\n      <td>0.340793</td>\n      <td>0.000000</td>\n      <td>-1</td>\n    </tr>\n    <tr>\n      <th>19336</th>\n      <td>AVY.N</td>\n      <td>2013-01-01</td>\n      <td>11.178</td>\n      <td>0.065123</td>\n      <td>0.027862</td>\n      <td>0.001166</td>\n      <td>0.027195</td>\n      <td>0.298034</td>\n      <td>0.001183</td>\n      <td>-1</td>\n    </tr>\n  </tbody>\n</table>\n<p>18566 rows × 10 columns</p>\n</div>"
     },
     "execution_count": 17,
     "metadata": {},
     "output_type": "execute_result"
    }
   ],
   "source": [
    "rescale = df_accuracy_new\n",
    "#rescale[\"Earnings Per Share - Actual Surprise\"] = MinMaxScaler().fit_transform(np.array(rescale[\"Earnings Per Share - Actual Surprise\"]).reshape(-1,1))\n",
    "rescale[\"Revenue - Actual\"] = MinMaxScaler().fit_transform(np.array(rescale[\"Revenue - Actual\"]).reshape(-1,1))\n",
    "rescale[\"Enterprise Value\"] = MinMaxScaler().fit_transform(np.array(rescale[\"Enterprise Value\"]).reshape(-1,1))\n",
    "rescale[\"Market Capitalization\"] = MinMaxScaler().fit_transform(np.array(rescale[\"Market Capitalization\"]).reshape(-1,1))\n",
    "rescale[\"Enterprise Value To Sales (Daily Time Series Ratio)\"] = MinMaxScaler().fit_transform(np.array(rescale[\"Enterprise Value To Sales (Daily Time Series Ratio)\"]).reshape(-1,1))\n",
    "rescale[\"3 Month Total Return\"] = MinMaxScaler().fit_transform(np.array(rescale[\"3 Month Total Return\"]).reshape(-1,1))\n",
    "rescale[\"Volume\"] = MinMaxScaler().fit_transform(np.array(rescale[\"Volume\"]).reshape(-1,1))\n",
    "\n",
    "rescale"
   ],
   "metadata": {
    "collapsed": false
   }
  },
  {
   "cell_type": "code",
   "execution_count": null,
   "outputs": [],
   "source": [
    "X_var_names = [\"Revenue - Actual\",\"Enterprise Value\",\"Market Capitalization\",\"loss firm status\", \"Enterprise Value To Sales (Daily Time Series Ratio)\", \"3 Month Total Return\", \"Volume\"]\n",
    "y = rescale[\"Earnings Per Share - Actual Surprise\"]"
   ],
   "metadata": {
    "collapsed": false
   }
  }
 ],
 "metadata": {
  "kernelspec": {
   "display_name": "AnalystForecast",
   "language": "python",
   "name": "python3"
  },
  "language_info": {
   "name": "python",
   "version": "3.11.0"
  },
  "orig_nbformat": 4,
  "vscode": {
   "interpreter": {
    "hash": "264d128b47a19451ae7876f5ee246d3f7de9751940a5ebe47f15ec6626e5a91f"
   }
  }
 },
 "nbformat": 4,
 "nbformat_minor": 2
}
