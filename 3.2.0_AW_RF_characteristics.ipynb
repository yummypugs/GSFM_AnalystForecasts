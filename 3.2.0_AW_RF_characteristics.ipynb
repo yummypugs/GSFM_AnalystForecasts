{
 "cells": [
  {
   "cell_type": "code",
   "execution_count": 1,
   "metadata": {},
   "outputs": [],
   "source": [
    "import pandas as pd\n",
    "import statsmodels.api as sm\n",
    "from sklearn.linear_model import LinearRegression\n",
    "from sklearn.preprocessing import MinMaxScaler\n",
    "from sklearn.preprocessing import StandardScaler\n",
    "\n",
    "import numpy as np\n",
    "\n",
    "from linearmodels.panel import PanelOLS\n",
    "import datetime as dt"
   ]
  },
  {
   "attachments": {},
   "cell_type": "markdown",
   "metadata": {},
   "source": [
    "# Characteristics Random Forest\n",
    "\n"
   ]
  },
  {
   "cell_type": "code",
   "execution_count": 2,
   "metadata": {},
   "outputs": [
    {
     "data": {
      "text/plain": "      Instrument        Date  Earnings Per Share - Actual Surprise  \\\n0        POOL.OQ  2022-10-01                                 4.196   \n1        POOL.OQ  2022-07-01                                 1.503   \n2        POOL.OQ  2022-04-01                                34.342   \n3        POOL.OQ  2022-01-01                                40.267   \n4        POOL.OQ  2021-10-01                                17.194   \n...          ...         ...                                   ...   \n19332      AVY.N  2014-01-01                                 1.471   \n19333      AVY.N  2013-10-01                                 8.095   \n19334      AVY.N  2013-07-01                                 1.068   \n19335      AVY.N  2013-04-01                                 2.482   \n19336      AVY.N  2013-01-01                                11.178   \n\n       Revenue - Actual  Enterprise Value  Market Capitalization  \\\n0          1.615339e+09      1.406160e+10           1.259813e+10   \n1          2.055818e+09      1.556187e+10           1.405795e+10   \n2          1.412650e+09      1.843682e+10           1.696712e+10   \n3          1.035557e+09      2.384882e+10           2.268979e+10   \n4          1.411448e+09      1.769954e+10           1.742020e+10   \n...                 ...               ...                    ...   \n19332      1.583900e+09      5.553068e+09           4.877168e+09   \n19333      1.504900e+09      5.029514e+09           4.273414e+09   \n19334      1.552300e+09      5.436229e+09           4.258229e+09   \n19335      1.498900e+09      5.459128e+09           4.309428e+09   \n19336      1.532200e+09      4.413001e+09           3.426001e+09   \n\n       Enterprise Value To Sales (Daily Time Series Ratio)  \\\n0                                               2.383926     \n1                                               2.749481     \n2                                               3.422880     \n3                                               4.504382     \n4                                               3.684400     \n...                                                  ...     \n19332                                           0.920659     \n19333                                           0.903176     \n19334                                           0.906078     \n19335                                           0.895787     \n19336                                           0.799347     \n\n       3 Month Total Return    Volume  loss firm status  \n0                 -9.164375  238539.0                -1  \n1                -21.661570  185584.0                -1  \n2                -25.160664  290897.0                -1  \n3                 30.489705   82349.0                -1  \n4                 -5.130322  157740.0                -1  \n...                     ...       ...               ...  \n19332             16.003852  157761.0                -1  \n19333              2.467620  236291.0                -1  \n19334             -0.054218       0.0                -1  \n19335             24.148726       0.0                -1  \n19336             10.637479  207295.0                -1  \n\n[19337 rows x 10 columns]",
      "text/html": "<div>\n<style scoped>\n    .dataframe tbody tr th:only-of-type {\n        vertical-align: middle;\n    }\n\n    .dataframe tbody tr th {\n        vertical-align: top;\n    }\n\n    .dataframe thead th {\n        text-align: right;\n    }\n</style>\n<table border=\"1\" class=\"dataframe\">\n  <thead>\n    <tr style=\"text-align: right;\">\n      <th></th>\n      <th>Instrument</th>\n      <th>Date</th>\n      <th>Earnings Per Share - Actual Surprise</th>\n      <th>Revenue - Actual</th>\n      <th>Enterprise Value</th>\n      <th>Market Capitalization</th>\n      <th>Enterprise Value To Sales (Daily Time Series Ratio)</th>\n      <th>3 Month Total Return</th>\n      <th>Volume</th>\n      <th>loss firm status</th>\n    </tr>\n  </thead>\n  <tbody>\n    <tr>\n      <th>0</th>\n      <td>POOL.OQ</td>\n      <td>2022-10-01</td>\n      <td>4.196</td>\n      <td>1.615339e+09</td>\n      <td>1.406160e+10</td>\n      <td>1.259813e+10</td>\n      <td>2.383926</td>\n      <td>-9.164375</td>\n      <td>238539.0</td>\n      <td>-1</td>\n    </tr>\n    <tr>\n      <th>1</th>\n      <td>POOL.OQ</td>\n      <td>2022-07-01</td>\n      <td>1.503</td>\n      <td>2.055818e+09</td>\n      <td>1.556187e+10</td>\n      <td>1.405795e+10</td>\n      <td>2.749481</td>\n      <td>-21.661570</td>\n      <td>185584.0</td>\n      <td>-1</td>\n    </tr>\n    <tr>\n      <th>2</th>\n      <td>POOL.OQ</td>\n      <td>2022-04-01</td>\n      <td>34.342</td>\n      <td>1.412650e+09</td>\n      <td>1.843682e+10</td>\n      <td>1.696712e+10</td>\n      <td>3.422880</td>\n      <td>-25.160664</td>\n      <td>290897.0</td>\n      <td>-1</td>\n    </tr>\n    <tr>\n      <th>3</th>\n      <td>POOL.OQ</td>\n      <td>2022-01-01</td>\n      <td>40.267</td>\n      <td>1.035557e+09</td>\n      <td>2.384882e+10</td>\n      <td>2.268979e+10</td>\n      <td>4.504382</td>\n      <td>30.489705</td>\n      <td>82349.0</td>\n      <td>-1</td>\n    </tr>\n    <tr>\n      <th>4</th>\n      <td>POOL.OQ</td>\n      <td>2021-10-01</td>\n      <td>17.194</td>\n      <td>1.411448e+09</td>\n      <td>1.769954e+10</td>\n      <td>1.742020e+10</td>\n      <td>3.684400</td>\n      <td>-5.130322</td>\n      <td>157740.0</td>\n      <td>-1</td>\n    </tr>\n    <tr>\n      <th>...</th>\n      <td>...</td>\n      <td>...</td>\n      <td>...</td>\n      <td>...</td>\n      <td>...</td>\n      <td>...</td>\n      <td>...</td>\n      <td>...</td>\n      <td>...</td>\n      <td>...</td>\n    </tr>\n    <tr>\n      <th>19332</th>\n      <td>AVY.N</td>\n      <td>2014-01-01</td>\n      <td>1.471</td>\n      <td>1.583900e+09</td>\n      <td>5.553068e+09</td>\n      <td>4.877168e+09</td>\n      <td>0.920659</td>\n      <td>16.003852</td>\n      <td>157761.0</td>\n      <td>-1</td>\n    </tr>\n    <tr>\n      <th>19333</th>\n      <td>AVY.N</td>\n      <td>2013-10-01</td>\n      <td>8.095</td>\n      <td>1.504900e+09</td>\n      <td>5.029514e+09</td>\n      <td>4.273414e+09</td>\n      <td>0.903176</td>\n      <td>2.467620</td>\n      <td>236291.0</td>\n      <td>-1</td>\n    </tr>\n    <tr>\n      <th>19334</th>\n      <td>AVY.N</td>\n      <td>2013-07-01</td>\n      <td>1.068</td>\n      <td>1.552300e+09</td>\n      <td>5.436229e+09</td>\n      <td>4.258229e+09</td>\n      <td>0.906078</td>\n      <td>-0.054218</td>\n      <td>0.0</td>\n      <td>-1</td>\n    </tr>\n    <tr>\n      <th>19335</th>\n      <td>AVY.N</td>\n      <td>2013-04-01</td>\n      <td>2.482</td>\n      <td>1.498900e+09</td>\n      <td>5.459128e+09</td>\n      <td>4.309428e+09</td>\n      <td>0.895787</td>\n      <td>24.148726</td>\n      <td>0.0</td>\n      <td>-1</td>\n    </tr>\n    <tr>\n      <th>19336</th>\n      <td>AVY.N</td>\n      <td>2013-01-01</td>\n      <td>11.178</td>\n      <td>1.532200e+09</td>\n      <td>4.413001e+09</td>\n      <td>3.426001e+09</td>\n      <td>0.799347</td>\n      <td>10.637479</td>\n      <td>207295.0</td>\n      <td>-1</td>\n    </tr>\n  </tbody>\n</table>\n<p>19337 rows × 10 columns</p>\n</div>"
     },
     "execution_count": 2,
     "metadata": {},
     "output_type": "execute_result"
    }
   ],
   "source": [
    "#decide which df to use\n",
    "df = pd.read_csv(\"Dataframes/characteristics.csv\")\n",
    "#df = df.loc[:, [\"Instrument\", \"Date\", \"Earnings Per Share - Actual Surprise\", \"Revenue - Actual\", \"Net Income after Tax\"]]\n",
    "\n",
    "df"
   ]
  },
  {
   "attachments": {},
   "cell_type": "markdown",
   "metadata": {},
   "source": [
    "#### OLS Regression"
   ]
  },
  {
   "cell_type": "code",
   "execution_count": 3,
   "outputs": [
    {
     "data": {
      "text/plain": "loss firm status\n-1    17281\n 1     1271\n 0       14\ndtype: int64"
     },
     "execution_count": 3,
     "metadata": {},
     "output_type": "execute_result"
    }
   ],
   "source": [
    "#identifying outliers and replacing them with NA\n",
    "summary_stats = df[\"Earnings Per Share - Actual Surprise\"].describe()\n",
    "Q1 = summary_stats.loc['25%']\n",
    "Q3 = summary_stats.loc['75%']\n",
    "IQR = Q3 - Q1\n",
    "threshold = 7 #1.5 is standard threshold but we still want to keep enough variation in the data so setting threshol higher here\n",
    "surprise_outliers_removed = df[\"Earnings Per Share - Actual Surprise\"].loc[~((df[\"Earnings Per Share - Actual Surprise\"] < (Q1 - threshold * IQR)) | (df[\"Earnings Per Share - Actual Surprise\"] > (Q3 + threshold * IQR)))]\n",
    "df_accuracy_new = df.copy()\n",
    "df_accuracy_new[\"Earnings Per Share - Actual Surprise\"] = surprise_outliers_removed\n",
    "df_accuracy_new = df_accuracy_new.dropna(subset=[\"Earnings Per Share - Actual Surprise\"])\n",
    "#df_accuracy_new[\"Recommendation - Mean (1-5)\"] = df_accuracy_new[\"Recommendation - Mean (1-5)\"].fillna(0)\n",
    "df_accuracy_new = df_accuracy_new.dropna()\n",
    "df_accuracy_new.value_counts(\"loss firm status\")\n"
   ],
   "metadata": {
    "collapsed": false
   }
  },
  {
   "cell_type": "code",
   "execution_count": 4,
   "outputs": [
    {
     "data": {
      "text/plain": "      Instrument        Date  Earnings Per Share - Actual Surprise  \\\n0        POOL.OQ  2022-10-01                                 4.196   \n1        POOL.OQ  2022-07-01                                 1.503   \n2        POOL.OQ  2022-04-01                                34.342   \n3        POOL.OQ  2022-01-01                                40.267   \n4        POOL.OQ  2021-10-01                                17.194   \n...          ...         ...                                   ...   \n19332      AVY.N  2014-01-01                                 1.471   \n19333      AVY.N  2013-10-01                                 8.095   \n19334      AVY.N  2013-07-01                                 1.068   \n19335      AVY.N  2013-04-01                                 2.482   \n19336      AVY.N  2013-01-01                                11.178   \n\n       Revenue - Actual  Enterprise Value  Market Capitalization  \\\n0          1.615339e+09      1.406160e+10           1.259813e+10   \n1          2.055818e+09      1.556187e+10           1.405795e+10   \n2          1.412650e+09      1.843682e+10           1.696712e+10   \n3          1.035557e+09      2.384882e+10           2.268979e+10   \n4          1.411448e+09      1.769954e+10           1.742020e+10   \n...                 ...               ...                    ...   \n19332      1.583900e+09      5.553068e+09           4.877168e+09   \n19333      1.504900e+09      5.029514e+09           4.273414e+09   \n19334      1.552300e+09      5.436229e+09           4.258229e+09   \n19335      1.498900e+09      5.459128e+09           4.309428e+09   \n19336      1.532200e+09      4.413001e+09           3.426001e+09   \n\n       Enterprise Value To Sales (Daily Time Series Ratio)  \\\n0                                               2.383926     \n1                                               2.749481     \n2                                               3.422880     \n3                                               4.504382     \n4                                               3.684400     \n...                                                  ...     \n19332                                           0.920659     \n19333                                           0.903176     \n19334                                           0.906078     \n19335                                           0.895787     \n19336                                           0.799347     \n\n       3 Month Total Return    Volume  loss firm status  \n0                 -9.164375  238539.0                -1  \n1                -21.661570  185584.0                -1  \n2                -25.160664  290897.0                -1  \n3                 30.489705   82349.0                -1  \n4                 -5.130322  157740.0                -1  \n...                     ...       ...               ...  \n19332             16.003852  157761.0                -1  \n19333              2.467620  236291.0                -1  \n19334             -0.054218       0.0                -1  \n19335             24.148726       0.0                -1  \n19336             10.637479  207295.0                -1  \n\n[18566 rows x 10 columns]",
      "text/html": "<div>\n<style scoped>\n    .dataframe tbody tr th:only-of-type {\n        vertical-align: middle;\n    }\n\n    .dataframe tbody tr th {\n        vertical-align: top;\n    }\n\n    .dataframe thead th {\n        text-align: right;\n    }\n</style>\n<table border=\"1\" class=\"dataframe\">\n  <thead>\n    <tr style=\"text-align: right;\">\n      <th></th>\n      <th>Instrument</th>\n      <th>Date</th>\n      <th>Earnings Per Share - Actual Surprise</th>\n      <th>Revenue - Actual</th>\n      <th>Enterprise Value</th>\n      <th>Market Capitalization</th>\n      <th>Enterprise Value To Sales (Daily Time Series Ratio)</th>\n      <th>3 Month Total Return</th>\n      <th>Volume</th>\n      <th>loss firm status</th>\n    </tr>\n  </thead>\n  <tbody>\n    <tr>\n      <th>0</th>\n      <td>POOL.OQ</td>\n      <td>2022-10-01</td>\n      <td>4.196</td>\n      <td>1.615339e+09</td>\n      <td>1.406160e+10</td>\n      <td>1.259813e+10</td>\n      <td>2.383926</td>\n      <td>-9.164375</td>\n      <td>238539.0</td>\n      <td>-1</td>\n    </tr>\n    <tr>\n      <th>1</th>\n      <td>POOL.OQ</td>\n      <td>2022-07-01</td>\n      <td>1.503</td>\n      <td>2.055818e+09</td>\n      <td>1.556187e+10</td>\n      <td>1.405795e+10</td>\n      <td>2.749481</td>\n      <td>-21.661570</td>\n      <td>185584.0</td>\n      <td>-1</td>\n    </tr>\n    <tr>\n      <th>2</th>\n      <td>POOL.OQ</td>\n      <td>2022-04-01</td>\n      <td>34.342</td>\n      <td>1.412650e+09</td>\n      <td>1.843682e+10</td>\n      <td>1.696712e+10</td>\n      <td>3.422880</td>\n      <td>-25.160664</td>\n      <td>290897.0</td>\n      <td>-1</td>\n    </tr>\n    <tr>\n      <th>3</th>\n      <td>POOL.OQ</td>\n      <td>2022-01-01</td>\n      <td>40.267</td>\n      <td>1.035557e+09</td>\n      <td>2.384882e+10</td>\n      <td>2.268979e+10</td>\n      <td>4.504382</td>\n      <td>30.489705</td>\n      <td>82349.0</td>\n      <td>-1</td>\n    </tr>\n    <tr>\n      <th>4</th>\n      <td>POOL.OQ</td>\n      <td>2021-10-01</td>\n      <td>17.194</td>\n      <td>1.411448e+09</td>\n      <td>1.769954e+10</td>\n      <td>1.742020e+10</td>\n      <td>3.684400</td>\n      <td>-5.130322</td>\n      <td>157740.0</td>\n      <td>-1</td>\n    </tr>\n    <tr>\n      <th>...</th>\n      <td>...</td>\n      <td>...</td>\n      <td>...</td>\n      <td>...</td>\n      <td>...</td>\n      <td>...</td>\n      <td>...</td>\n      <td>...</td>\n      <td>...</td>\n      <td>...</td>\n    </tr>\n    <tr>\n      <th>19332</th>\n      <td>AVY.N</td>\n      <td>2014-01-01</td>\n      <td>1.471</td>\n      <td>1.583900e+09</td>\n      <td>5.553068e+09</td>\n      <td>4.877168e+09</td>\n      <td>0.920659</td>\n      <td>16.003852</td>\n      <td>157761.0</td>\n      <td>-1</td>\n    </tr>\n    <tr>\n      <th>19333</th>\n      <td>AVY.N</td>\n      <td>2013-10-01</td>\n      <td>8.095</td>\n      <td>1.504900e+09</td>\n      <td>5.029514e+09</td>\n      <td>4.273414e+09</td>\n      <td>0.903176</td>\n      <td>2.467620</td>\n      <td>236291.0</td>\n      <td>-1</td>\n    </tr>\n    <tr>\n      <th>19334</th>\n      <td>AVY.N</td>\n      <td>2013-07-01</td>\n      <td>1.068</td>\n      <td>1.552300e+09</td>\n      <td>5.436229e+09</td>\n      <td>4.258229e+09</td>\n      <td>0.906078</td>\n      <td>-0.054218</td>\n      <td>0.0</td>\n      <td>-1</td>\n    </tr>\n    <tr>\n      <th>19335</th>\n      <td>AVY.N</td>\n      <td>2013-04-01</td>\n      <td>2.482</td>\n      <td>1.498900e+09</td>\n      <td>5.459128e+09</td>\n      <td>4.309428e+09</td>\n      <td>0.895787</td>\n      <td>24.148726</td>\n      <td>0.0</td>\n      <td>-1</td>\n    </tr>\n    <tr>\n      <th>19336</th>\n      <td>AVY.N</td>\n      <td>2013-01-01</td>\n      <td>11.178</td>\n      <td>1.532200e+09</td>\n      <td>4.413001e+09</td>\n      <td>3.426001e+09</td>\n      <td>0.799347</td>\n      <td>10.637479</td>\n      <td>207295.0</td>\n      <td>-1</td>\n    </tr>\n  </tbody>\n</table>\n<p>18566 rows × 10 columns</p>\n</div>"
     },
     "execution_count": 4,
     "metadata": {},
     "output_type": "execute_result"
    }
   ],
   "source": [
    "df_accuracy_new"
   ],
   "metadata": {
    "collapsed": false
   }
  },
  {
   "cell_type": "code",
   "execution_count": 5,
   "outputs": [
    {
     "data": {
      "text/plain": "                       Earnings Per Share - Actual Surprise  Revenue - Actual  \\\nInstrument Date                                                                 \nPOOL.OQ    2022-10-01                                 4.196      1.615339e+09   \n           2022-07-01                                 1.503      2.055818e+09   \n           2022-04-01                                34.342      1.412650e+09   \n           2022-01-01                                40.267      1.035557e+09   \n           2021-10-01                                17.194      1.411448e+09   \n...                                                     ...               ...   \nAVY.N      2014-01-01                                 1.471      1.583900e+09   \n           2013-10-01                                 8.095      1.504900e+09   \n           2013-07-01                                 1.068      1.552300e+09   \n           2013-04-01                                 2.482      1.498900e+09   \n           2013-01-01                                11.178      1.532200e+09   \n\n                       Enterprise Value  Market Capitalization  \\\nInstrument Date                                                  \nPOOL.OQ    2022-10-01      1.406160e+10           1.259813e+10   \n           2022-07-01      1.556187e+10           1.405795e+10   \n           2022-04-01      1.843682e+10           1.696712e+10   \n           2022-01-01      2.384882e+10           2.268979e+10   \n           2021-10-01      1.769954e+10           1.742020e+10   \n...                                 ...                    ...   \nAVY.N      2014-01-01      5.553068e+09           4.877168e+09   \n           2013-10-01      5.029514e+09           4.273414e+09   \n           2013-07-01      5.436229e+09           4.258229e+09   \n           2013-04-01      5.459128e+09           4.309428e+09   \n           2013-01-01      4.413001e+09           3.426001e+09   \n\n                       Enterprise Value To Sales (Daily Time Series Ratio)  \\\nInstrument Date                                                              \nPOOL.OQ    2022-10-01                                           2.383926     \n           2022-07-01                                           2.749481     \n           2022-04-01                                           3.422880     \n           2022-01-01                                           4.504382     \n           2021-10-01                                           3.684400     \n...                                                                  ...     \nAVY.N      2014-01-01                                           0.920659     \n           2013-10-01                                           0.903176     \n           2013-07-01                                           0.906078     \n           2013-04-01                                           0.895787     \n           2013-01-01                                           0.799347     \n\n                       3 Month Total Return    Volume  loss firm status  \nInstrument Date                                                          \nPOOL.OQ    2022-10-01             -9.164375  238539.0                -1  \n           2022-07-01            -21.661570  185584.0                -1  \n           2022-04-01            -25.160664  290897.0                -1  \n           2022-01-01             30.489705   82349.0                -1  \n           2021-10-01             -5.130322  157740.0                -1  \n...                                     ...       ...               ...  \nAVY.N      2014-01-01             16.003852  157761.0                -1  \n           2013-10-01              2.467620  236291.0                -1  \n           2013-07-01             -0.054218       0.0                -1  \n           2013-04-01             24.148726       0.0                -1  \n           2013-01-01             10.637479  207295.0                -1  \n\n[18566 rows x 8 columns]",
      "text/html": "<div>\n<style scoped>\n    .dataframe tbody tr th:only-of-type {\n        vertical-align: middle;\n    }\n\n    .dataframe tbody tr th {\n        vertical-align: top;\n    }\n\n    .dataframe thead th {\n        text-align: right;\n    }\n</style>\n<table border=\"1\" class=\"dataframe\">\n  <thead>\n    <tr style=\"text-align: right;\">\n      <th></th>\n      <th></th>\n      <th>Earnings Per Share - Actual Surprise</th>\n      <th>Revenue - Actual</th>\n      <th>Enterprise Value</th>\n      <th>Market Capitalization</th>\n      <th>Enterprise Value To Sales (Daily Time Series Ratio)</th>\n      <th>3 Month Total Return</th>\n      <th>Volume</th>\n      <th>loss firm status</th>\n    </tr>\n    <tr>\n      <th>Instrument</th>\n      <th>Date</th>\n      <th></th>\n      <th></th>\n      <th></th>\n      <th></th>\n      <th></th>\n      <th></th>\n      <th></th>\n      <th></th>\n    </tr>\n  </thead>\n  <tbody>\n    <tr>\n      <th rowspan=\"5\" valign=\"top\">POOL.OQ</th>\n      <th>2022-10-01</th>\n      <td>4.196</td>\n      <td>1.615339e+09</td>\n      <td>1.406160e+10</td>\n      <td>1.259813e+10</td>\n      <td>2.383926</td>\n      <td>-9.164375</td>\n      <td>238539.0</td>\n      <td>-1</td>\n    </tr>\n    <tr>\n      <th>2022-07-01</th>\n      <td>1.503</td>\n      <td>2.055818e+09</td>\n      <td>1.556187e+10</td>\n      <td>1.405795e+10</td>\n      <td>2.749481</td>\n      <td>-21.661570</td>\n      <td>185584.0</td>\n      <td>-1</td>\n    </tr>\n    <tr>\n      <th>2022-04-01</th>\n      <td>34.342</td>\n      <td>1.412650e+09</td>\n      <td>1.843682e+10</td>\n      <td>1.696712e+10</td>\n      <td>3.422880</td>\n      <td>-25.160664</td>\n      <td>290897.0</td>\n      <td>-1</td>\n    </tr>\n    <tr>\n      <th>2022-01-01</th>\n      <td>40.267</td>\n      <td>1.035557e+09</td>\n      <td>2.384882e+10</td>\n      <td>2.268979e+10</td>\n      <td>4.504382</td>\n      <td>30.489705</td>\n      <td>82349.0</td>\n      <td>-1</td>\n    </tr>\n    <tr>\n      <th>2021-10-01</th>\n      <td>17.194</td>\n      <td>1.411448e+09</td>\n      <td>1.769954e+10</td>\n      <td>1.742020e+10</td>\n      <td>3.684400</td>\n      <td>-5.130322</td>\n      <td>157740.0</td>\n      <td>-1</td>\n    </tr>\n    <tr>\n      <th>...</th>\n      <th>...</th>\n      <td>...</td>\n      <td>...</td>\n      <td>...</td>\n      <td>...</td>\n      <td>...</td>\n      <td>...</td>\n      <td>...</td>\n      <td>...</td>\n    </tr>\n    <tr>\n      <th rowspan=\"5\" valign=\"top\">AVY.N</th>\n      <th>2014-01-01</th>\n      <td>1.471</td>\n      <td>1.583900e+09</td>\n      <td>5.553068e+09</td>\n      <td>4.877168e+09</td>\n      <td>0.920659</td>\n      <td>16.003852</td>\n      <td>157761.0</td>\n      <td>-1</td>\n    </tr>\n    <tr>\n      <th>2013-10-01</th>\n      <td>8.095</td>\n      <td>1.504900e+09</td>\n      <td>5.029514e+09</td>\n      <td>4.273414e+09</td>\n      <td>0.903176</td>\n      <td>2.467620</td>\n      <td>236291.0</td>\n      <td>-1</td>\n    </tr>\n    <tr>\n      <th>2013-07-01</th>\n      <td>1.068</td>\n      <td>1.552300e+09</td>\n      <td>5.436229e+09</td>\n      <td>4.258229e+09</td>\n      <td>0.906078</td>\n      <td>-0.054218</td>\n      <td>0.0</td>\n      <td>-1</td>\n    </tr>\n    <tr>\n      <th>2013-04-01</th>\n      <td>2.482</td>\n      <td>1.498900e+09</td>\n      <td>5.459128e+09</td>\n      <td>4.309428e+09</td>\n      <td>0.895787</td>\n      <td>24.148726</td>\n      <td>0.0</td>\n      <td>-1</td>\n    </tr>\n    <tr>\n      <th>2013-01-01</th>\n      <td>11.178</td>\n      <td>1.532200e+09</td>\n      <td>4.413001e+09</td>\n      <td>3.426001e+09</td>\n      <td>0.799347</td>\n      <td>10.637479</td>\n      <td>207295.0</td>\n      <td>-1</td>\n    </tr>\n  </tbody>\n</table>\n<p>18566 rows × 8 columns</p>\n</div>"
     },
     "execution_count": 5,
     "metadata": {},
     "output_type": "execute_result"
    }
   ],
   "source": [
    "df_accuracy_new.set_index([\"Instrument\", \"Date\"], inplace=True)\n",
    "df_accuracy_new"
   ],
   "metadata": {
    "collapsed": false
   }
  },
  {
   "cell_type": "code",
   "execution_count": 7,
   "outputs": [
    {
     "ename": "ValueError",
     "evalue": "continuous is not supported",
     "output_type": "error",
     "traceback": [
      "\u001B[1;31m---------------------------------------------------------------------------\u001B[0m",
      "\u001B[1;31mValueError\u001B[0m                                Traceback (most recent call last)",
      "Cell \u001B[1;32mIn[7], line 28\u001B[0m\n\u001B[0;32m     25\u001B[0m y_pred \u001B[38;5;241m=\u001B[39m rf\u001B[38;5;241m.\u001B[39mpredict(X_test)\n\u001B[0;32m     27\u001B[0m \u001B[38;5;66;03m# Evaluate accuracy\u001B[39;00m\n\u001B[1;32m---> 28\u001B[0m acc \u001B[38;5;241m=\u001B[39m \u001B[43maccuracy_score\u001B[49m\u001B[43m(\u001B[49m\u001B[43my_test\u001B[49m\u001B[43m,\u001B[49m\u001B[43m \u001B[49m\u001B[43my_pred\u001B[49m\u001B[43m)\u001B[49m\n\u001B[0;32m     29\u001B[0m \u001B[38;5;28mprint\u001B[39m(\u001B[38;5;124mf\u001B[39m\u001B[38;5;124m'\u001B[39m\u001B[38;5;124mAccuracy: \u001B[39m\u001B[38;5;132;01m{\u001B[39;00macc\u001B[38;5;132;01m}\u001B[39;00m\u001B[38;5;124m'\u001B[39m)\n",
      "File \u001B[1;32m~\\mambaforge\\envs\\AnalystForecast\\Lib\\site-packages\\sklearn\\utils\\_param_validation.py:192\u001B[0m, in \u001B[0;36mvalidate_params.<locals>.decorator.<locals>.wrapper\u001B[1;34m(*args, **kwargs)\u001B[0m\n\u001B[0;32m    187\u001B[0m validate_parameter_constraints(\n\u001B[0;32m    188\u001B[0m     parameter_constraints, params, caller_name\u001B[38;5;241m=\u001B[39mfunc\u001B[38;5;241m.\u001B[39m\u001B[38;5;18m__qualname__\u001B[39m\n\u001B[0;32m    189\u001B[0m )\n\u001B[0;32m    191\u001B[0m \u001B[38;5;28;01mtry\u001B[39;00m:\n\u001B[1;32m--> 192\u001B[0m     \u001B[38;5;28;01mreturn\u001B[39;00m \u001B[43mfunc\u001B[49m\u001B[43m(\u001B[49m\u001B[38;5;241;43m*\u001B[39;49m\u001B[43margs\u001B[49m\u001B[43m,\u001B[49m\u001B[43m \u001B[49m\u001B[38;5;241;43m*\u001B[39;49m\u001B[38;5;241;43m*\u001B[39;49m\u001B[43mkwargs\u001B[49m\u001B[43m)\u001B[49m\n\u001B[0;32m    193\u001B[0m \u001B[38;5;28;01mexcept\u001B[39;00m InvalidParameterError \u001B[38;5;28;01mas\u001B[39;00m e:\n\u001B[0;32m    194\u001B[0m     \u001B[38;5;66;03m# When the function is just a wrapper around an estimator, we allow\u001B[39;00m\n\u001B[0;32m    195\u001B[0m     \u001B[38;5;66;03m# the function to delegate validation to the estimator, but we replace\u001B[39;00m\n\u001B[0;32m    196\u001B[0m     \u001B[38;5;66;03m# the name of the estimator by the name of the function in the error\u001B[39;00m\n\u001B[0;32m    197\u001B[0m     \u001B[38;5;66;03m# message to avoid confusion.\u001B[39;00m\n\u001B[0;32m    198\u001B[0m     msg \u001B[38;5;241m=\u001B[39m re\u001B[38;5;241m.\u001B[39msub(\n\u001B[0;32m    199\u001B[0m         \u001B[38;5;124mr\u001B[39m\u001B[38;5;124m\"\u001B[39m\u001B[38;5;124mparameter of \u001B[39m\u001B[38;5;124m\\\u001B[39m\u001B[38;5;124mw+ must be\u001B[39m\u001B[38;5;124m\"\u001B[39m,\n\u001B[0;32m    200\u001B[0m         \u001B[38;5;124mf\u001B[39m\u001B[38;5;124m\"\u001B[39m\u001B[38;5;124mparameter of \u001B[39m\u001B[38;5;132;01m{\u001B[39;00mfunc\u001B[38;5;241m.\u001B[39m\u001B[38;5;18m__qualname__\u001B[39m\u001B[38;5;132;01m}\u001B[39;00m\u001B[38;5;124m must be\u001B[39m\u001B[38;5;124m\"\u001B[39m,\n\u001B[0;32m    201\u001B[0m         \u001B[38;5;28mstr\u001B[39m(e),\n\u001B[0;32m    202\u001B[0m     )\n",
      "File \u001B[1;32m~\\mambaforge\\envs\\AnalystForecast\\Lib\\site-packages\\sklearn\\metrics\\_classification.py:221\u001B[0m, in \u001B[0;36maccuracy_score\u001B[1;34m(y_true, y_pred, normalize, sample_weight)\u001B[0m\n\u001B[0;32m    155\u001B[0m \u001B[38;5;250m\u001B[39m\u001B[38;5;124;03m\"\"\"Accuracy classification score.\u001B[39;00m\n\u001B[0;32m    156\u001B[0m \n\u001B[0;32m    157\u001B[0m \u001B[38;5;124;03mIn multilabel classification, this function computes subset accuracy:\u001B[39;00m\n\u001B[1;32m   (...)\u001B[0m\n\u001B[0;32m    217\u001B[0m \u001B[38;5;124;03m0.5\u001B[39;00m\n\u001B[0;32m    218\u001B[0m \u001B[38;5;124;03m\"\"\"\u001B[39;00m\n\u001B[0;32m    220\u001B[0m \u001B[38;5;66;03m# Compute accuracy for each possible representation\u001B[39;00m\n\u001B[1;32m--> 221\u001B[0m y_type, y_true, y_pred \u001B[38;5;241m=\u001B[39m \u001B[43m_check_targets\u001B[49m\u001B[43m(\u001B[49m\u001B[43my_true\u001B[49m\u001B[43m,\u001B[49m\u001B[43m \u001B[49m\u001B[43my_pred\u001B[49m\u001B[43m)\u001B[49m\n\u001B[0;32m    222\u001B[0m check_consistent_length(y_true, y_pred, sample_weight)\n\u001B[0;32m    223\u001B[0m \u001B[38;5;28;01mif\u001B[39;00m y_type\u001B[38;5;241m.\u001B[39mstartswith(\u001B[38;5;124m\"\u001B[39m\u001B[38;5;124mmultilabel\u001B[39m\u001B[38;5;124m\"\u001B[39m):\n",
      "File \u001B[1;32m~\\mambaforge\\envs\\AnalystForecast\\Lib\\site-packages\\sklearn\\metrics\\_classification.py:106\u001B[0m, in \u001B[0;36m_check_targets\u001B[1;34m(y_true, y_pred)\u001B[0m\n\u001B[0;32m    104\u001B[0m \u001B[38;5;66;03m# No metrics support \"multiclass-multioutput\" format\u001B[39;00m\n\u001B[0;32m    105\u001B[0m \u001B[38;5;28;01mif\u001B[39;00m y_type \u001B[38;5;129;01mnot\u001B[39;00m \u001B[38;5;129;01min\u001B[39;00m [\u001B[38;5;124m\"\u001B[39m\u001B[38;5;124mbinary\u001B[39m\u001B[38;5;124m\"\u001B[39m, \u001B[38;5;124m\"\u001B[39m\u001B[38;5;124mmulticlass\u001B[39m\u001B[38;5;124m\"\u001B[39m, \u001B[38;5;124m\"\u001B[39m\u001B[38;5;124mmultilabel-indicator\u001B[39m\u001B[38;5;124m\"\u001B[39m]:\n\u001B[1;32m--> 106\u001B[0m     \u001B[38;5;28;01mraise\u001B[39;00m \u001B[38;5;167;01mValueError\u001B[39;00m(\u001B[38;5;124m\"\u001B[39m\u001B[38;5;132;01m{0}\u001B[39;00m\u001B[38;5;124m is not supported\u001B[39m\u001B[38;5;124m\"\u001B[39m\u001B[38;5;241m.\u001B[39mformat(y_type))\n\u001B[0;32m    108\u001B[0m \u001B[38;5;28;01mif\u001B[39;00m y_type \u001B[38;5;129;01min\u001B[39;00m [\u001B[38;5;124m\"\u001B[39m\u001B[38;5;124mbinary\u001B[39m\u001B[38;5;124m\"\u001B[39m, \u001B[38;5;124m\"\u001B[39m\u001B[38;5;124mmulticlass\u001B[39m\u001B[38;5;124m\"\u001B[39m]:\n\u001B[0;32m    109\u001B[0m     y_true \u001B[38;5;241m=\u001B[39m column_or_1d(y_true)\n",
      "\u001B[1;31mValueError\u001B[0m: continuous is not supported"
     ]
    }
   ],
   "source": [
    "# Import libraries\n",
    "from sklearn.ensemble import RandomForestRegressor\n",
    "from sklearn.datasets import make_classification\n",
    "from sklearn.model_selection import train_test_split\n",
    "from sklearn.metrics import accuracy_score\n",
    "\n",
    "\n",
    "# Load data\n",
    "\n",
    "X_var_names = [\"Revenue - Actual\", \"Enterprise Value\", \"Market Capitalization\", \"loss firm status\",\n",
    "               \"Enterprise Value To Sales (Daily Time Series Ratio)\", \"3 Month Total Return\", \"Volume\"]\n",
    "\n",
    "# Define features and target\n",
    "X = df_accuracy_new[X_var_names]\n",
    "y = df_accuracy_new[\"Earnings Per Share - Actual Surprise\"]\n",
    "\n",
    "# Split data into train and test sets\n",
    "X_train, X_test, y_train, y_test = train_test_split(X, y, test_size=0.3)\n",
    "\n",
    "# Create and fit random forest classifier\n",
    "rf = RandomForestRegressor(n_estimators=100)\n",
    "rf.fit(X_train, y_train)\n",
    "\n",
    "# Make predictions on test set\n",
    "y_pred = rf.predict(X_test)\n",
    "\n",
    "# Evaluate accuracy\n",
    "acc = accuracy_score(y_test, y_pred)\n",
    "print(f'Accuracy: {acc}')"
   ],
   "metadata": {
    "collapsed": false
   }
  },
  {
   "cell_type": "code",
   "execution_count": null,
   "outputs": [],
   "source": [],
   "metadata": {
    "collapsed": false
   }
  }
 ],
 "metadata": {
  "kernelspec": {
   "display_name": "AnalystForecast",
   "language": "python",
   "name": "python3"
  },
  "language_info": {
   "name": "python",
   "version": "3.11.0"
  },
  "orig_nbformat": 4,
  "vscode": {
   "interpreter": {
    "hash": "264d128b47a19451ae7876f5ee246d3f7de9751940a5ebe47f15ec6626e5a91f"
   }
  }
 },
 "nbformat": 4,
 "nbformat_minor": 2
}
