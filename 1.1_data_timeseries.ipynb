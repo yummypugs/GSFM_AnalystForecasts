{
 "cells": [
  {
   "cell_type": "code",
   "execution_count": 1,
   "metadata": {
    "collapsed": false
   },
   "outputs": [],
   "source": [
    "import pandas as pd\n",
    "import numpy as np\n",
    "import datetime\n",
    "import plotly.express as px"
   ]
  },
  {
   "cell_type": "markdown",
   "metadata": {
    "collapsed": false
   },
   "source": [
    "## Whole Dataframe"
   ]
  },
  {
   "cell_type": "code",
   "execution_count": 2,
   "metadata": {
    "collapsed": false
   },
   "outputs": [
    {
     "data": {
      "text/plain": "      Instrument        Date  Earnings Per Share - Actual  \\\n0          AVY.N  2013-01-01                         0.54   \n1          AVY.N  2013-04-01                         0.59   \n2          AVY.N  2013-07-01                         0.71   \n3          AVY.N  2013-10-01                         0.69   \n4          AVY.N  2014-01-01                         0.69   \n...          ...         ...                          ...   \n19230    POOL.OQ  2021-10-01                         4.51   \n19231    POOL.OQ  2022-01-01                         2.63   \n19232    POOL.OQ  2022-04-01                         4.23   \n19233    POOL.OQ  2022-07-01                         7.63   \n19234    POOL.OQ  2022-10-01                         4.78   \n\n       Earnings Per Share - Mean  Earnings Per Share - Actual Surprise  \\\n0                        0.48571                             11.177452   \n1                        0.57571                              2.482152   \n2                        0.70250                              1.067616   \n3                        0.63833                              8.094559   \n4                        0.68000                              1.470588   \n...                          ...                                   ...   \n19230                    3.84833                             17.193692   \n19231                    1.87500                             40.266667   \n19232                    3.14867                             34.342437   \n19233                    7.51700                              1.503259   \n19234                    4.58750                              4.196185   \n\n       Earnings Per Share - Actual Surprise AbsVals GICS Industry Group Name  \\\n0                                         11.177452                Materials   \n1                                          2.482152                Materials   \n2                                          1.067616                Materials   \n3                                          8.094559                Materials   \n4                                          1.470588                Materials   \n...                                             ...                      ...   \n19230                                     17.193692                Retailing   \n19231                                     40.266667                Retailing   \n19232                                     34.342437                Retailing   \n19233                                      1.503259                Retailing   \n19234                                      4.196185                Retailing   \n\n       Earnings Per Share – Coefficient of Variation  Market Capitalization  \\\n0                                           3.625620           3.426001e+09   \n1                                           2.046169           4.309428e+09   \n2                                           1.551601           4.258229e+09   \n3                                           2.775994           4.273414e+09   \n4                                           3.204412           4.877168e+09   \n...                                              ...                    ...   \n19230                                       2.836295           1.742020e+10   \n19231                                       3.269867           2.268979e+10   \n19232                                       6.630736           1.696712e+10   \n19233                                       3.625249           1.405795e+10   \n19234                                       3.843706           1.259813e+10   \n\n       Revenue - Actual  ...  Recommendation change  \\\n0          1.532200e+09  ...                0.00000   \n1          1.498900e+09  ...               -0.12500   \n2          1.552300e+09  ...                0.00000   \n3          1.504900e+09  ...               -0.25000   \n4          1.583900e+09  ...               -0.29167   \n...                 ...  ...                    ...   \n19230      1.411448e+09  ...                0.00000   \n19231      1.035557e+09  ...                0.00000   \n19232      1.412650e+09  ...               -0.30000   \n19233      2.055818e+09  ...                0.20000   \n19234      1.615339e+09  ...                0.07273   \n\n       Recommendation - Mean (1-5).1  Net Income after Tax  \\\n0                              3.000            33400000.0   \n1                              3.000            66800000.0   \n2                              2.875            70800000.0   \n3                              2.875            62000000.0   \n4                              2.625            42100000.0   \n...                              ...                   ...   \n19230                          2.300           184573000.0   \n19231                          2.300           107542000.0   \n19232                          2.300           179203000.0   \n19233                          2.000           307205000.0   \n19234                          2.200           189965000.0   \n\n       Price Target - Mean  Price Target - Standard Deviation  Price Close  \\\n0                 36.00000                            2.44949        34.92   \n1                 42.57143                            3.92272        43.07   \n2                 45.00000                            4.30946        42.76   \n3                 47.71429                            3.45230        43.52   \n4                 54.62500                            3.42555        50.19   \n...                    ...                                ...          ...   \n19230            545.28571                           50.48823       434.41   \n19231            571.00000                           41.33833       566.00   \n19232            519.88889                           37.49206       422.85   \n19233            435.37500                           57.57373       351.23   \n19234            360.11111                           24.95082       318.21   \n\n       Enterprise Value To Sales (Daily Time Series Ratio)  \\\n0                                               0.799347     \n1                                               0.895787     \n2                                               0.906078     \n3                                               0.903176     \n4                                               0.920659     \n...                                                  ...     \n19230                                           3.684400     \n19231                                           4.504382     \n19232                                           3.422880     \n19233                                           2.749481     \n19234                                           2.383926     \n\n       3 Month Total Return    Volume  loss firm status  \n0                 10.637479  207295.0                -1  \n1                 24.148726       0.0                -1  \n2                 -0.054218       0.0                -1  \n3                  2.467620  236291.0                -1  \n4                 16.003852  157761.0                -1  \n...                     ...       ...               ...  \n19230             -5.130322  157740.0                -1  \n19231             30.489705   82349.0                -1  \n19232            -25.160664  290897.0                -1  \n19233            -21.661570  185584.0                -1  \n19234             -9.164375  238539.0                -1  \n\n[19235 rows x 23 columns]",
      "text/html": "<div>\n<style scoped>\n    .dataframe tbody tr th:only-of-type {\n        vertical-align: middle;\n    }\n\n    .dataframe tbody tr th {\n        vertical-align: top;\n    }\n\n    .dataframe thead th {\n        text-align: right;\n    }\n</style>\n<table border=\"1\" class=\"dataframe\">\n  <thead>\n    <tr style=\"text-align: right;\">\n      <th></th>\n      <th>Instrument</th>\n      <th>Date</th>\n      <th>Earnings Per Share - Actual</th>\n      <th>Earnings Per Share - Mean</th>\n      <th>Earnings Per Share - Actual Surprise</th>\n      <th>Earnings Per Share - Actual Surprise AbsVals</th>\n      <th>GICS Industry Group Name</th>\n      <th>Earnings Per Share – Coefficient of Variation</th>\n      <th>Market Capitalization</th>\n      <th>Revenue - Actual</th>\n      <th>...</th>\n      <th>Recommendation change</th>\n      <th>Recommendation - Mean (1-5).1</th>\n      <th>Net Income after Tax</th>\n      <th>Price Target - Mean</th>\n      <th>Price Target - Standard Deviation</th>\n      <th>Price Close</th>\n      <th>Enterprise Value To Sales (Daily Time Series Ratio)</th>\n      <th>3 Month Total Return</th>\n      <th>Volume</th>\n      <th>loss firm status</th>\n    </tr>\n  </thead>\n  <tbody>\n    <tr>\n      <th>0</th>\n      <td>AVY.N</td>\n      <td>2013-01-01</td>\n      <td>0.54</td>\n      <td>0.48571</td>\n      <td>11.177452</td>\n      <td>11.177452</td>\n      <td>Materials</td>\n      <td>3.625620</td>\n      <td>3.426001e+09</td>\n      <td>1.532200e+09</td>\n      <td>...</td>\n      <td>0.00000</td>\n      <td>3.000</td>\n      <td>33400000.0</td>\n      <td>36.00000</td>\n      <td>2.44949</td>\n      <td>34.92</td>\n      <td>0.799347</td>\n      <td>10.637479</td>\n      <td>207295.0</td>\n      <td>-1</td>\n    </tr>\n    <tr>\n      <th>1</th>\n      <td>AVY.N</td>\n      <td>2013-04-01</td>\n      <td>0.59</td>\n      <td>0.57571</td>\n      <td>2.482152</td>\n      <td>2.482152</td>\n      <td>Materials</td>\n      <td>2.046169</td>\n      <td>4.309428e+09</td>\n      <td>1.498900e+09</td>\n      <td>...</td>\n      <td>-0.12500</td>\n      <td>3.000</td>\n      <td>66800000.0</td>\n      <td>42.57143</td>\n      <td>3.92272</td>\n      <td>43.07</td>\n      <td>0.895787</td>\n      <td>24.148726</td>\n      <td>0.0</td>\n      <td>-1</td>\n    </tr>\n    <tr>\n      <th>2</th>\n      <td>AVY.N</td>\n      <td>2013-07-01</td>\n      <td>0.71</td>\n      <td>0.70250</td>\n      <td>1.067616</td>\n      <td>1.067616</td>\n      <td>Materials</td>\n      <td>1.551601</td>\n      <td>4.258229e+09</td>\n      <td>1.552300e+09</td>\n      <td>...</td>\n      <td>0.00000</td>\n      <td>2.875</td>\n      <td>70800000.0</td>\n      <td>45.00000</td>\n      <td>4.30946</td>\n      <td>42.76</td>\n      <td>0.906078</td>\n      <td>-0.054218</td>\n      <td>0.0</td>\n      <td>-1</td>\n    </tr>\n    <tr>\n      <th>3</th>\n      <td>AVY.N</td>\n      <td>2013-10-01</td>\n      <td>0.69</td>\n      <td>0.63833</td>\n      <td>8.094559</td>\n      <td>8.094559</td>\n      <td>Materials</td>\n      <td>2.775994</td>\n      <td>4.273414e+09</td>\n      <td>1.504900e+09</td>\n      <td>...</td>\n      <td>-0.25000</td>\n      <td>2.875</td>\n      <td>62000000.0</td>\n      <td>47.71429</td>\n      <td>3.45230</td>\n      <td>43.52</td>\n      <td>0.903176</td>\n      <td>2.467620</td>\n      <td>236291.0</td>\n      <td>-1</td>\n    </tr>\n    <tr>\n      <th>4</th>\n      <td>AVY.N</td>\n      <td>2014-01-01</td>\n      <td>0.69</td>\n      <td>0.68000</td>\n      <td>1.470588</td>\n      <td>1.470588</td>\n      <td>Materials</td>\n      <td>3.204412</td>\n      <td>4.877168e+09</td>\n      <td>1.583900e+09</td>\n      <td>...</td>\n      <td>-0.29167</td>\n      <td>2.625</td>\n      <td>42100000.0</td>\n      <td>54.62500</td>\n      <td>3.42555</td>\n      <td>50.19</td>\n      <td>0.920659</td>\n      <td>16.003852</td>\n      <td>157761.0</td>\n      <td>-1</td>\n    </tr>\n    <tr>\n      <th>...</th>\n      <td>...</td>\n      <td>...</td>\n      <td>...</td>\n      <td>...</td>\n      <td>...</td>\n      <td>...</td>\n      <td>...</td>\n      <td>...</td>\n      <td>...</td>\n      <td>...</td>\n      <td>...</td>\n      <td>...</td>\n      <td>...</td>\n      <td>...</td>\n      <td>...</td>\n      <td>...</td>\n      <td>...</td>\n      <td>...</td>\n      <td>...</td>\n      <td>...</td>\n      <td>...</td>\n    </tr>\n    <tr>\n      <th>19230</th>\n      <td>POOL.OQ</td>\n      <td>2021-10-01</td>\n      <td>4.51</td>\n      <td>3.84833</td>\n      <td>17.193692</td>\n      <td>17.193692</td>\n      <td>Retailing</td>\n      <td>2.836295</td>\n      <td>1.742020e+10</td>\n      <td>1.411448e+09</td>\n      <td>...</td>\n      <td>0.00000</td>\n      <td>2.300</td>\n      <td>184573000.0</td>\n      <td>545.28571</td>\n      <td>50.48823</td>\n      <td>434.41</td>\n      <td>3.684400</td>\n      <td>-5.130322</td>\n      <td>157740.0</td>\n      <td>-1</td>\n    </tr>\n    <tr>\n      <th>19231</th>\n      <td>POOL.OQ</td>\n      <td>2022-01-01</td>\n      <td>2.63</td>\n      <td>1.87500</td>\n      <td>40.266667</td>\n      <td>40.266667</td>\n      <td>Retailing</td>\n      <td>3.269867</td>\n      <td>2.268979e+10</td>\n      <td>1.035557e+09</td>\n      <td>...</td>\n      <td>0.00000</td>\n      <td>2.300</td>\n      <td>107542000.0</td>\n      <td>571.00000</td>\n      <td>41.33833</td>\n      <td>566.00</td>\n      <td>4.504382</td>\n      <td>30.489705</td>\n      <td>82349.0</td>\n      <td>-1</td>\n    </tr>\n    <tr>\n      <th>19232</th>\n      <td>POOL.OQ</td>\n      <td>2022-04-01</td>\n      <td>4.23</td>\n      <td>3.14867</td>\n      <td>34.342437</td>\n      <td>34.342437</td>\n      <td>Retailing</td>\n      <td>6.630736</td>\n      <td>1.696712e+10</td>\n      <td>1.412650e+09</td>\n      <td>...</td>\n      <td>-0.30000</td>\n      <td>2.300</td>\n      <td>179203000.0</td>\n      <td>519.88889</td>\n      <td>37.49206</td>\n      <td>422.85</td>\n      <td>3.422880</td>\n      <td>-25.160664</td>\n      <td>290897.0</td>\n      <td>-1</td>\n    </tr>\n    <tr>\n      <th>19233</th>\n      <td>POOL.OQ</td>\n      <td>2022-07-01</td>\n      <td>7.63</td>\n      <td>7.51700</td>\n      <td>1.503259</td>\n      <td>1.503259</td>\n      <td>Retailing</td>\n      <td>3.625249</td>\n      <td>1.405795e+10</td>\n      <td>2.055818e+09</td>\n      <td>...</td>\n      <td>0.20000</td>\n      <td>2.000</td>\n      <td>307205000.0</td>\n      <td>435.37500</td>\n      <td>57.57373</td>\n      <td>351.23</td>\n      <td>2.749481</td>\n      <td>-21.661570</td>\n      <td>185584.0</td>\n      <td>-1</td>\n    </tr>\n    <tr>\n      <th>19234</th>\n      <td>POOL.OQ</td>\n      <td>2022-10-01</td>\n      <td>4.78</td>\n      <td>4.58750</td>\n      <td>4.196185</td>\n      <td>4.196185</td>\n      <td>Retailing</td>\n      <td>3.843706</td>\n      <td>1.259813e+10</td>\n      <td>1.615339e+09</td>\n      <td>...</td>\n      <td>0.07273</td>\n      <td>2.200</td>\n      <td>189965000.0</td>\n      <td>360.11111</td>\n      <td>24.95082</td>\n      <td>318.21</td>\n      <td>2.383926</td>\n      <td>-9.164375</td>\n      <td>238539.0</td>\n      <td>-1</td>\n    </tr>\n  </tbody>\n</table>\n<p>19235 rows × 23 columns</p>\n</div>"
     },
     "execution_count": 2,
     "metadata": {},
     "output_type": "execute_result"
    }
   ],
   "source": [
    "df = pd.read_csv(\"Dataframes/economic_story_clean.csv\")\n",
    "df\n",
    "#df.isna().sum()"
   ]
  },
  {
   "cell_type": "markdown",
   "metadata": {
    "collapsed": false
   },
   "source": [
    "# Creating subset dataframes for every factor"
   ]
  },
  {
   "cell_type": "markdown",
   "metadata": {
    "collapsed": false
   },
   "source": [
    "## Characteristics dataframe"
   ]
  },
  {
   "cell_type": "code",
   "execution_count": 3,
   "metadata": {
    "collapsed": false
   },
   "outputs": [
    {
     "data": {
      "text/plain": "      Instrument        Date GICS Industry Group Name  \\\n0          AVY.N  2013-01-01                Materials   \n1          AVY.N  2013-04-01                Materials   \n2          AVY.N  2013-07-01                Materials   \n3          AVY.N  2013-10-01                Materials   \n4          AVY.N  2014-01-01                Materials   \n...          ...         ...                      ...   \n19230    POOL.OQ  2021-10-01                Retailing   \n19231    POOL.OQ  2022-01-01                Retailing   \n19232    POOL.OQ  2022-04-01                Retailing   \n19233    POOL.OQ  2022-07-01                Retailing   \n19234    POOL.OQ  2022-10-01                Retailing   \n\n       Earnings Per Share - Actual Surprise  \\\n0                                 11.177452   \n1                                  2.482152   \n2                                  1.067616   \n3                                  8.094559   \n4                                  1.470588   \n...                                     ...   \n19230                             17.193692   \n19231                             40.266667   \n19232                             34.342437   \n19233                              1.503259   \n19234                              4.196185   \n\n       Earnings Per Share - Actual Surprise AbsVals  Revenue - Actual  \\\n0                                         11.177452      1.532200e+09   \n1                                          2.482152      1.498900e+09   \n2                                          1.067616      1.552300e+09   \n3                                          8.094559      1.504900e+09   \n4                                          1.470588      1.583900e+09   \n...                                             ...               ...   \n19230                                     17.193692      1.411448e+09   \n19231                                     40.266667      1.035557e+09   \n19232                                     34.342437      1.412650e+09   \n19233                                      1.503259      2.055818e+09   \n19234                                      4.196185      1.615339e+09   \n\n       Enterprise Value  Market Capitalization  \\\n0          4.413001e+09           3.426001e+09   \n1          5.459128e+09           4.309428e+09   \n2          5.436229e+09           4.258229e+09   \n3          5.029514e+09           4.273414e+09   \n4          5.553068e+09           4.877168e+09   \n...                 ...                    ...   \n19230      1.769954e+10           1.742020e+10   \n19231      2.384882e+10           2.268979e+10   \n19232      1.843682e+10           1.696712e+10   \n19233      1.556187e+10           1.405795e+10   \n19234      1.406160e+10           1.259813e+10   \n\n       Enterprise Value To Sales (Daily Time Series Ratio)  \\\n0                                               0.799347     \n1                                               0.895787     \n2                                               0.906078     \n3                                               0.903176     \n4                                               0.920659     \n...                                                  ...     \n19230                                           3.684400     \n19231                                           4.504382     \n19232                                           3.422880     \n19233                                           2.749481     \n19234                                           2.383926     \n\n       3 Month Total Return    Volume  loss firm status  \n0                 10.637479  207295.0                -1  \n1                 24.148726       0.0                -1  \n2                 -0.054218       0.0                -1  \n3                  2.467620  236291.0                -1  \n4                 16.003852  157761.0                -1  \n...                     ...       ...               ...  \n19230             -5.130322  157740.0                -1  \n19231             30.489705   82349.0                -1  \n19232            -25.160664  290897.0                -1  \n19233            -21.661570  185584.0                -1  \n19234             -9.164375  238539.0                -1  \n\n[19235 rows x 12 columns]",
      "text/html": "<div>\n<style scoped>\n    .dataframe tbody tr th:only-of-type {\n        vertical-align: middle;\n    }\n\n    .dataframe tbody tr th {\n        vertical-align: top;\n    }\n\n    .dataframe thead th {\n        text-align: right;\n    }\n</style>\n<table border=\"1\" class=\"dataframe\">\n  <thead>\n    <tr style=\"text-align: right;\">\n      <th></th>\n      <th>Instrument</th>\n      <th>Date</th>\n      <th>GICS Industry Group Name</th>\n      <th>Earnings Per Share - Actual Surprise</th>\n      <th>Earnings Per Share - Actual Surprise AbsVals</th>\n      <th>Revenue - Actual</th>\n      <th>Enterprise Value</th>\n      <th>Market Capitalization</th>\n      <th>Enterprise Value To Sales (Daily Time Series Ratio)</th>\n      <th>3 Month Total Return</th>\n      <th>Volume</th>\n      <th>loss firm status</th>\n    </tr>\n  </thead>\n  <tbody>\n    <tr>\n      <th>0</th>\n      <td>AVY.N</td>\n      <td>2013-01-01</td>\n      <td>Materials</td>\n      <td>11.177452</td>\n      <td>11.177452</td>\n      <td>1.532200e+09</td>\n      <td>4.413001e+09</td>\n      <td>3.426001e+09</td>\n      <td>0.799347</td>\n      <td>10.637479</td>\n      <td>207295.0</td>\n      <td>-1</td>\n    </tr>\n    <tr>\n      <th>1</th>\n      <td>AVY.N</td>\n      <td>2013-04-01</td>\n      <td>Materials</td>\n      <td>2.482152</td>\n      <td>2.482152</td>\n      <td>1.498900e+09</td>\n      <td>5.459128e+09</td>\n      <td>4.309428e+09</td>\n      <td>0.895787</td>\n      <td>24.148726</td>\n      <td>0.0</td>\n      <td>-1</td>\n    </tr>\n    <tr>\n      <th>2</th>\n      <td>AVY.N</td>\n      <td>2013-07-01</td>\n      <td>Materials</td>\n      <td>1.067616</td>\n      <td>1.067616</td>\n      <td>1.552300e+09</td>\n      <td>5.436229e+09</td>\n      <td>4.258229e+09</td>\n      <td>0.906078</td>\n      <td>-0.054218</td>\n      <td>0.0</td>\n      <td>-1</td>\n    </tr>\n    <tr>\n      <th>3</th>\n      <td>AVY.N</td>\n      <td>2013-10-01</td>\n      <td>Materials</td>\n      <td>8.094559</td>\n      <td>8.094559</td>\n      <td>1.504900e+09</td>\n      <td>5.029514e+09</td>\n      <td>4.273414e+09</td>\n      <td>0.903176</td>\n      <td>2.467620</td>\n      <td>236291.0</td>\n      <td>-1</td>\n    </tr>\n    <tr>\n      <th>4</th>\n      <td>AVY.N</td>\n      <td>2014-01-01</td>\n      <td>Materials</td>\n      <td>1.470588</td>\n      <td>1.470588</td>\n      <td>1.583900e+09</td>\n      <td>5.553068e+09</td>\n      <td>4.877168e+09</td>\n      <td>0.920659</td>\n      <td>16.003852</td>\n      <td>157761.0</td>\n      <td>-1</td>\n    </tr>\n    <tr>\n      <th>...</th>\n      <td>...</td>\n      <td>...</td>\n      <td>...</td>\n      <td>...</td>\n      <td>...</td>\n      <td>...</td>\n      <td>...</td>\n      <td>...</td>\n      <td>...</td>\n      <td>...</td>\n      <td>...</td>\n      <td>...</td>\n    </tr>\n    <tr>\n      <th>19230</th>\n      <td>POOL.OQ</td>\n      <td>2021-10-01</td>\n      <td>Retailing</td>\n      <td>17.193692</td>\n      <td>17.193692</td>\n      <td>1.411448e+09</td>\n      <td>1.769954e+10</td>\n      <td>1.742020e+10</td>\n      <td>3.684400</td>\n      <td>-5.130322</td>\n      <td>157740.0</td>\n      <td>-1</td>\n    </tr>\n    <tr>\n      <th>19231</th>\n      <td>POOL.OQ</td>\n      <td>2022-01-01</td>\n      <td>Retailing</td>\n      <td>40.266667</td>\n      <td>40.266667</td>\n      <td>1.035557e+09</td>\n      <td>2.384882e+10</td>\n      <td>2.268979e+10</td>\n      <td>4.504382</td>\n      <td>30.489705</td>\n      <td>82349.0</td>\n      <td>-1</td>\n    </tr>\n    <tr>\n      <th>19232</th>\n      <td>POOL.OQ</td>\n      <td>2022-04-01</td>\n      <td>Retailing</td>\n      <td>34.342437</td>\n      <td>34.342437</td>\n      <td>1.412650e+09</td>\n      <td>1.843682e+10</td>\n      <td>1.696712e+10</td>\n      <td>3.422880</td>\n      <td>-25.160664</td>\n      <td>290897.0</td>\n      <td>-1</td>\n    </tr>\n    <tr>\n      <th>19233</th>\n      <td>POOL.OQ</td>\n      <td>2022-07-01</td>\n      <td>Retailing</td>\n      <td>1.503259</td>\n      <td>1.503259</td>\n      <td>2.055818e+09</td>\n      <td>1.556187e+10</td>\n      <td>1.405795e+10</td>\n      <td>2.749481</td>\n      <td>-21.661570</td>\n      <td>185584.0</td>\n      <td>-1</td>\n    </tr>\n    <tr>\n      <th>19234</th>\n      <td>POOL.OQ</td>\n      <td>2022-10-01</td>\n      <td>Retailing</td>\n      <td>4.196185</td>\n      <td>4.196185</td>\n      <td>1.615339e+09</td>\n      <td>1.406160e+10</td>\n      <td>1.259813e+10</td>\n      <td>2.383926</td>\n      <td>-9.164375</td>\n      <td>238539.0</td>\n      <td>-1</td>\n    </tr>\n  </tbody>\n</table>\n<p>19235 rows × 12 columns</p>\n</div>"
     },
     "execution_count": 3,
     "metadata": {},
     "output_type": "execute_result"
    }
   ],
   "source": [
    "characteristics = df.loc[:, [\"Instrument\", \"Date\",\"GICS Industry Group Name\", \"Earnings Per Share - Actual Surprise\", \"Earnings Per Share - Actual Surprise AbsVals\", \"Revenue - Actual\", \"Enterprise Value\", \"Market Capitalization\", \"Enterprise Value To Sales (Daily Time Series Ratio)\", \"3 Month Total Return\", \"Volume\", \"loss firm status\"]]\n",
    "characteristics"
   ]
  },
  {
   "cell_type": "code",
   "execution_count": 4,
   "metadata": {
    "collapsed": false
   },
   "outputs": [],
   "source": [
    "characteristics.to_csv(\"Dataframes/characteristics.csv\", index=False)"
   ]
  },
  {
   "attachments": {},
   "cell_type": "markdown",
   "metadata": {
    "collapsed": false
   },
   "source": [
    "## Analyst characteristics dataframe"
   ]
  },
  {
   "cell_type": "code",
   "execution_count": 5,
   "metadata": {
    "collapsed": false
   },
   "outputs": [],
   "source": [
    "analysts = df.loc[:, [\"Instrument\", \"Date\",\"GICS Industry Group Name\", \"Earnings Per Share - Actual Surprise\", \"Earnings Per Share - Actual Surprise AbsVals\", \"Earnings Per Share – Coefficient of Variation\", \"Number of Analysts\", \"Recommendation - Mean (1-5)\", \"Recommendation change\", \"Recommendation - Mean (1-5).1\", \"Price Target - Mean\", \"Price Target - Standard Deviation\"]]\n",
    "#analysts"
   ]
  },
  {
   "cell_type": "code",
   "execution_count": 6,
   "metadata": {
    "collapsed": false
   },
   "outputs": [
    {
     "data": {
      "text/plain": "      Instrument        Date GICS Industry Group Name  \\\n0          AVY.N  2013-01-01                Materials   \n1          AVY.N  2013-04-01                Materials   \n2          AVY.N  2013-07-01                Materials   \n3          AVY.N  2013-10-01                Materials   \n4          AVY.N  2014-01-01                Materials   \n...          ...         ...                      ...   \n19230    POOL.OQ  2021-10-01                Retailing   \n19231    POOL.OQ  2022-01-01                Retailing   \n19232    POOL.OQ  2022-04-01                Retailing   \n19233    POOL.OQ  2022-07-01                Retailing   \n19234    POOL.OQ  2022-10-01                Retailing   \n\n       Earnings Per Share - Actual Surprise  \\\n0                                 11.177452   \n1                                  2.482152   \n2                                  1.067616   \n3                                  8.094559   \n4                                  1.470588   \n...                                     ...   \n19230                             17.193692   \n19231                             40.266667   \n19232                             34.342437   \n19233                              1.503259   \n19234                              4.196185   \n\n       Earnings Per Share - Actual Surprise AbsVals  \\\n0                                         11.177452   \n1                                          2.482152   \n2                                          1.067616   \n3                                          8.094559   \n4                                          1.470588   \n...                                             ...   \n19230                                     17.193692   \n19231                                     40.266667   \n19232                                     34.342437   \n19233                                      1.503259   \n19234                                      4.196185   \n\n       Earnings Per Share – Coefficient of Variation  Number of Analysts  \\\n0                                           3.625620                 7.0   \n1                                           2.046169                 7.0   \n2                                           1.551601                 8.0   \n3                                           2.775994                 7.0   \n4                                           3.204412                 8.0   \n...                                              ...                 ...   \n19230                                       2.836295                 8.0   \n19231                                       3.269867                 8.0   \n19232                                       6.630736                 9.0   \n19233                                       3.625249                 9.0   \n19234                                       3.843706                10.0   \n\n       Recommendation - Mean (1-5)  Recommendation change  \\\n0                          3.00000                0.00000   \n1                          2.87500               -0.12500   \n2                          2.87500                0.00000   \n3                          2.62500               -0.25000   \n4                          2.33333               -0.29167   \n...                            ...                    ...   \n19230                      2.30000                0.00000   \n19231                      2.30000                0.00000   \n19232                      2.00000               -0.30000   \n19233                      2.20000                0.20000   \n19234                      2.27273                0.07273   \n\n       Recommendation - Mean (1-5).1  Price Target - Mean  \\\n0                              3.000             36.00000   \n1                              3.000             42.57143   \n2                              2.875             45.00000   \n3                              2.875             47.71429   \n4                              2.625             54.62500   \n...                              ...                  ...   \n19230                          2.300            545.28571   \n19231                          2.300            571.00000   \n19232                          2.300            519.88889   \n19233                          2.000            435.37500   \n19234                          2.200            360.11111   \n\n       Price Target - Standard Deviation  \n0                                2.44949  \n1                                3.92272  \n2                                4.30946  \n3                                3.45230  \n4                                3.42555  \n...                                  ...  \n19230                           50.48823  \n19231                           41.33833  \n19232                           37.49206  \n19233                           57.57373  \n19234                           24.95082  \n\n[19235 rows x 12 columns]",
      "text/html": "<div>\n<style scoped>\n    .dataframe tbody tr th:only-of-type {\n        vertical-align: middle;\n    }\n\n    .dataframe tbody tr th {\n        vertical-align: top;\n    }\n\n    .dataframe thead th {\n        text-align: right;\n    }\n</style>\n<table border=\"1\" class=\"dataframe\">\n  <thead>\n    <tr style=\"text-align: right;\">\n      <th></th>\n      <th>Instrument</th>\n      <th>Date</th>\n      <th>GICS Industry Group Name</th>\n      <th>Earnings Per Share - Actual Surprise</th>\n      <th>Earnings Per Share - Actual Surprise AbsVals</th>\n      <th>Earnings Per Share – Coefficient of Variation</th>\n      <th>Number of Analysts</th>\n      <th>Recommendation - Mean (1-5)</th>\n      <th>Recommendation change</th>\n      <th>Recommendation - Mean (1-5).1</th>\n      <th>Price Target - Mean</th>\n      <th>Price Target - Standard Deviation</th>\n    </tr>\n  </thead>\n  <tbody>\n    <tr>\n      <th>0</th>\n      <td>AVY.N</td>\n      <td>2013-01-01</td>\n      <td>Materials</td>\n      <td>11.177452</td>\n      <td>11.177452</td>\n      <td>3.625620</td>\n      <td>7.0</td>\n      <td>3.00000</td>\n      <td>0.00000</td>\n      <td>3.000</td>\n      <td>36.00000</td>\n      <td>2.44949</td>\n    </tr>\n    <tr>\n      <th>1</th>\n      <td>AVY.N</td>\n      <td>2013-04-01</td>\n      <td>Materials</td>\n      <td>2.482152</td>\n      <td>2.482152</td>\n      <td>2.046169</td>\n      <td>7.0</td>\n      <td>2.87500</td>\n      <td>-0.12500</td>\n      <td>3.000</td>\n      <td>42.57143</td>\n      <td>3.92272</td>\n    </tr>\n    <tr>\n      <th>2</th>\n      <td>AVY.N</td>\n      <td>2013-07-01</td>\n      <td>Materials</td>\n      <td>1.067616</td>\n      <td>1.067616</td>\n      <td>1.551601</td>\n      <td>8.0</td>\n      <td>2.87500</td>\n      <td>0.00000</td>\n      <td>2.875</td>\n      <td>45.00000</td>\n      <td>4.30946</td>\n    </tr>\n    <tr>\n      <th>3</th>\n      <td>AVY.N</td>\n      <td>2013-10-01</td>\n      <td>Materials</td>\n      <td>8.094559</td>\n      <td>8.094559</td>\n      <td>2.775994</td>\n      <td>7.0</td>\n      <td>2.62500</td>\n      <td>-0.25000</td>\n      <td>2.875</td>\n      <td>47.71429</td>\n      <td>3.45230</td>\n    </tr>\n    <tr>\n      <th>4</th>\n      <td>AVY.N</td>\n      <td>2014-01-01</td>\n      <td>Materials</td>\n      <td>1.470588</td>\n      <td>1.470588</td>\n      <td>3.204412</td>\n      <td>8.0</td>\n      <td>2.33333</td>\n      <td>-0.29167</td>\n      <td>2.625</td>\n      <td>54.62500</td>\n      <td>3.42555</td>\n    </tr>\n    <tr>\n      <th>...</th>\n      <td>...</td>\n      <td>...</td>\n      <td>...</td>\n      <td>...</td>\n      <td>...</td>\n      <td>...</td>\n      <td>...</td>\n      <td>...</td>\n      <td>...</td>\n      <td>...</td>\n      <td>...</td>\n      <td>...</td>\n    </tr>\n    <tr>\n      <th>19230</th>\n      <td>POOL.OQ</td>\n      <td>2021-10-01</td>\n      <td>Retailing</td>\n      <td>17.193692</td>\n      <td>17.193692</td>\n      <td>2.836295</td>\n      <td>8.0</td>\n      <td>2.30000</td>\n      <td>0.00000</td>\n      <td>2.300</td>\n      <td>545.28571</td>\n      <td>50.48823</td>\n    </tr>\n    <tr>\n      <th>19231</th>\n      <td>POOL.OQ</td>\n      <td>2022-01-01</td>\n      <td>Retailing</td>\n      <td>40.266667</td>\n      <td>40.266667</td>\n      <td>3.269867</td>\n      <td>8.0</td>\n      <td>2.30000</td>\n      <td>0.00000</td>\n      <td>2.300</td>\n      <td>571.00000</td>\n      <td>41.33833</td>\n    </tr>\n    <tr>\n      <th>19232</th>\n      <td>POOL.OQ</td>\n      <td>2022-04-01</td>\n      <td>Retailing</td>\n      <td>34.342437</td>\n      <td>34.342437</td>\n      <td>6.630736</td>\n      <td>9.0</td>\n      <td>2.00000</td>\n      <td>-0.30000</td>\n      <td>2.300</td>\n      <td>519.88889</td>\n      <td>37.49206</td>\n    </tr>\n    <tr>\n      <th>19233</th>\n      <td>POOL.OQ</td>\n      <td>2022-07-01</td>\n      <td>Retailing</td>\n      <td>1.503259</td>\n      <td>1.503259</td>\n      <td>3.625249</td>\n      <td>9.0</td>\n      <td>2.20000</td>\n      <td>0.20000</td>\n      <td>2.000</td>\n      <td>435.37500</td>\n      <td>57.57373</td>\n    </tr>\n    <tr>\n      <th>19234</th>\n      <td>POOL.OQ</td>\n      <td>2022-10-01</td>\n      <td>Retailing</td>\n      <td>4.196185</td>\n      <td>4.196185</td>\n      <td>3.843706</td>\n      <td>10.0</td>\n      <td>2.27273</td>\n      <td>0.07273</td>\n      <td>2.200</td>\n      <td>360.11111</td>\n      <td>24.95082</td>\n    </tr>\n  </tbody>\n</table>\n<p>19235 rows × 12 columns</p>\n</div>"
     },
     "execution_count": 6,
     "metadata": {},
     "output_type": "execute_result"
    }
   ],
   "source": [
    "analysts"
   ]
  },
  {
   "cell_type": "code",
   "execution_count": 7,
   "metadata": {
    "collapsed": false
   },
   "outputs": [],
   "source": [
    "analysts.to_csv(\"Dataframes/analysts.csv\", index=False)"
   ]
  },
  {
   "attachments": {},
   "cell_type": "markdown",
   "metadata": {
    "collapsed": false
   },
   "source": [
    "## Macroeconomic factors dataframe\n",
    "\n",
    "Import the dataframe and show it atleast"
   ]
  },
  {
   "cell_type": "code",
   "execution_count": 8,
   "outputs": [
    {
     "data": {
      "text/plain": "      Instrument        Date GICS Industry Group Name  \\\n0          AVY.N  2013-01-01                Materials   \n1          AVY.N  2013-04-01                Materials   \n2          AVY.N  2013-07-01                Materials   \n3          AVY.N  2013-10-01                Materials   \n4          AVY.N  2014-01-01                Materials   \n...          ...         ...                      ...   \n19230    POOL.OQ  2021-10-01                Retailing   \n19231    POOL.OQ  2022-01-01                Retailing   \n19232    POOL.OQ  2022-04-01                Retailing   \n19233    POOL.OQ  2022-07-01                Retailing   \n19234    POOL.OQ  2022-10-01                Retailing   \n\n       Earnings Per Share - Actual Surprise  \\\n0                                 11.177452   \n1                                  2.482152   \n2                                  1.067616   \n3                                  8.094559   \n4                                  1.470588   \n...                                     ...   \n19230                             17.193692   \n19231                             40.266667   \n19232                             34.342437   \n19233                              1.503259   \n19234                              4.196185   \n\n       Earnings Per Share - Actual Surprise AbsVals  \n0                                         11.177452  \n1                                          2.482152  \n2                                          1.067616  \n3                                          8.094559  \n4                                          1.470588  \n...                                             ...  \n19230                                     17.193692  \n19231                                     40.266667  \n19232                                     34.342437  \n19233                                      1.503259  \n19234                                      4.196185  \n\n[19235 rows x 5 columns]",
      "text/html": "<div>\n<style scoped>\n    .dataframe tbody tr th:only-of-type {\n        vertical-align: middle;\n    }\n\n    .dataframe tbody tr th {\n        vertical-align: top;\n    }\n\n    .dataframe thead th {\n        text-align: right;\n    }\n</style>\n<table border=\"1\" class=\"dataframe\">\n  <thead>\n    <tr style=\"text-align: right;\">\n      <th></th>\n      <th>Instrument</th>\n      <th>Date</th>\n      <th>GICS Industry Group Name</th>\n      <th>Earnings Per Share - Actual Surprise</th>\n      <th>Earnings Per Share - Actual Surprise AbsVals</th>\n    </tr>\n  </thead>\n  <tbody>\n    <tr>\n      <th>0</th>\n      <td>AVY.N</td>\n      <td>2013-01-01</td>\n      <td>Materials</td>\n      <td>11.177452</td>\n      <td>11.177452</td>\n    </tr>\n    <tr>\n      <th>1</th>\n      <td>AVY.N</td>\n      <td>2013-04-01</td>\n      <td>Materials</td>\n      <td>2.482152</td>\n      <td>2.482152</td>\n    </tr>\n    <tr>\n      <th>2</th>\n      <td>AVY.N</td>\n      <td>2013-07-01</td>\n      <td>Materials</td>\n      <td>1.067616</td>\n      <td>1.067616</td>\n    </tr>\n    <tr>\n      <th>3</th>\n      <td>AVY.N</td>\n      <td>2013-10-01</td>\n      <td>Materials</td>\n      <td>8.094559</td>\n      <td>8.094559</td>\n    </tr>\n    <tr>\n      <th>4</th>\n      <td>AVY.N</td>\n      <td>2014-01-01</td>\n      <td>Materials</td>\n      <td>1.470588</td>\n      <td>1.470588</td>\n    </tr>\n    <tr>\n      <th>...</th>\n      <td>...</td>\n      <td>...</td>\n      <td>...</td>\n      <td>...</td>\n      <td>...</td>\n    </tr>\n    <tr>\n      <th>19230</th>\n      <td>POOL.OQ</td>\n      <td>2021-10-01</td>\n      <td>Retailing</td>\n      <td>17.193692</td>\n      <td>17.193692</td>\n    </tr>\n    <tr>\n      <th>19231</th>\n      <td>POOL.OQ</td>\n      <td>2022-01-01</td>\n      <td>Retailing</td>\n      <td>40.266667</td>\n      <td>40.266667</td>\n    </tr>\n    <tr>\n      <th>19232</th>\n      <td>POOL.OQ</td>\n      <td>2022-04-01</td>\n      <td>Retailing</td>\n      <td>34.342437</td>\n      <td>34.342437</td>\n    </tr>\n    <tr>\n      <th>19233</th>\n      <td>POOL.OQ</td>\n      <td>2022-07-01</td>\n      <td>Retailing</td>\n      <td>1.503259</td>\n      <td>1.503259</td>\n    </tr>\n    <tr>\n      <th>19234</th>\n      <td>POOL.OQ</td>\n      <td>2022-10-01</td>\n      <td>Retailing</td>\n      <td>4.196185</td>\n      <td>4.196185</td>\n    </tr>\n  </tbody>\n</table>\n<p>19235 rows × 5 columns</p>\n</div>"
     },
     "execution_count": 8,
     "metadata": {},
     "output_type": "execute_result"
    }
   ],
   "source": [
    "macro = df.loc[:, [\"Instrument\", \"Date\",\"GICS Industry Group Name\", \"Earnings Per Share - Actual Surprise\", \"Earnings Per Share - Actual Surprise AbsVals\"]]\n",
    "macro"
   ],
   "metadata": {
    "collapsed": false
   }
  },
  {
   "cell_type": "code",
   "execution_count": 9,
   "outputs": [],
   "source": [
    "macro.to_csv(\"Dataframes/macro_just_date.csv\", index=False)"
   ],
   "metadata": {
    "collapsed": false
   }
  }
 ],
 "metadata": {
  "kernelspec": {
   "display_name": "AnalystForecast",
   "language": "python",
   "name": "python3"
  },
  "language_info": {
   "codemirror_mode": {
    "name": "ipython",
    "version": 3
   },
   "file_extension": ".py",
   "mimetype": "text/x-python",
   "name": "python",
   "nbconvert_exporter": "python",
   "pygments_lexer": "ipython3",
   "version": "3.11.0"
  },
  "vscode": {
   "interpreter": {
    "hash": "264d128b47a19451ae7876f5ee246d3f7de9751940a5ebe47f15ec6626e5a91f"
   }
  }
 },
 "nbformat": 4,
 "nbformat_minor": 0
}
