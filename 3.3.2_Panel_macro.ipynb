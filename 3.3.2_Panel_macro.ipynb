{
 "cells": [
  {
   "attachments": {},
   "cell_type": "markdown",
   "metadata": {},
   "source": [
    "# Panle Regression - Firm Characteristics"
   ]
  },
  {
   "attachments": {},
   "cell_type": "markdown",
   "metadata": {},
   "source": [
    "### Random Effects Panel Regression"
   ]
  },
  {
   "cell_type": "code",
   "execution_count": 1,
   "metadata": {},
   "outputs": [],
   "source": [
    "import pandas as pd\n",
    "import numpy as np\n",
    "import datetime as dt\n",
    "import sklearn\n",
    "import statsmodels.api as sm\n",
    "from sklearn.linear_model import LinearRegression\n",
    "from sklearn.preprocessing import MinMaxScaler\n",
    "from sklearn.preprocessing import StandardScaler\n",
    "from linearmodels.panel import PanelOLS\n",
    "from linearmodels.panel import RandomEffects\n"
   ]
  },
  {
   "attachments": {},
   "cell_type": "markdown",
   "metadata": {},
   "source": [
    "Data"
   ]
  },
  {
   "cell_type": "code",
   "execution_count": 2,
   "metadata": {},
   "outputs": [
    {
     "data": {
      "text/html": [
       "<div>\n",
       "<style scoped>\n",
       "    .dataframe tbody tr th:only-of-type {\n",
       "        vertical-align: middle;\n",
       "    }\n",
       "\n",
       "    .dataframe tbody tr th {\n",
       "        vertical-align: top;\n",
       "    }\n",
       "\n",
       "    .dataframe thead th {\n",
       "        text-align: right;\n",
       "    }\n",
       "</style>\n",
       "<table border=\"1\" class=\"dataframe\">\n",
       "  <thead>\n",
       "    <tr style=\"text-align: right;\">\n",
       "      <th></th>\n",
       "      <th>Instrument</th>\n",
       "      <th>Date</th>\n",
       "      <th>GICS Industry Group Name</th>\n",
       "      <th>Earnings Per Share - Actual Surprise</th>\n",
       "      <th>WACC Inflation Adjusted Risk Free Rate, (%)</th>\n",
       "      <th>Unemployment rate</th>\n",
       "    </tr>\n",
       "  </thead>\n",
       "  <tbody>\n",
       "    <tr>\n",
       "      <th>0</th>\n",
       "      <td>AVY.N</td>\n",
       "      <td>2013-01-01</td>\n",
       "      <td>Materials</td>\n",
       "      <td>11.178</td>\n",
       "      <td>NaN</td>\n",
       "      <td>8.0</td>\n",
       "    </tr>\n",
       "    <tr>\n",
       "      <th>1</th>\n",
       "      <td>AVY.N</td>\n",
       "      <td>2013-04-01</td>\n",
       "      <td>Materials</td>\n",
       "      <td>2.482</td>\n",
       "      <td>NaN</td>\n",
       "      <td>7.6</td>\n",
       "    </tr>\n",
       "    <tr>\n",
       "      <th>2</th>\n",
       "      <td>AVY.N</td>\n",
       "      <td>2013-07-01</td>\n",
       "      <td>Materials</td>\n",
       "      <td>1.068</td>\n",
       "      <td>NaN</td>\n",
       "      <td>7.3</td>\n",
       "    </tr>\n",
       "    <tr>\n",
       "      <th>3</th>\n",
       "      <td>AVY.N</td>\n",
       "      <td>2013-10-01</td>\n",
       "      <td>Materials</td>\n",
       "      <td>8.095</td>\n",
       "      <td>NaN</td>\n",
       "      <td>7.2</td>\n",
       "    </tr>\n",
       "    <tr>\n",
       "      <th>4</th>\n",
       "      <td>AVY.N</td>\n",
       "      <td>2014-01-01</td>\n",
       "      <td>Materials</td>\n",
       "      <td>1.471</td>\n",
       "      <td>NaN</td>\n",
       "      <td>6.6</td>\n",
       "    </tr>\n",
       "    <tr>\n",
       "      <th>...</th>\n",
       "      <td>...</td>\n",
       "      <td>...</td>\n",
       "      <td>...</td>\n",
       "      <td>...</td>\n",
       "      <td>...</td>\n",
       "      <td>...</td>\n",
       "    </tr>\n",
       "    <tr>\n",
       "      <th>20115</th>\n",
       "      <td>POOL.OQ</td>\n",
       "      <td>2021-10-01</td>\n",
       "      <td>Retailing</td>\n",
       "      <td>17.194</td>\n",
       "      <td>1.527139</td>\n",
       "      <td>4.5</td>\n",
       "    </tr>\n",
       "    <tr>\n",
       "      <th>20116</th>\n",
       "      <td>POOL.OQ</td>\n",
       "      <td>2022-01-01</td>\n",
       "      <td>Retailing</td>\n",
       "      <td>40.267</td>\n",
       "      <td>1.515266</td>\n",
       "      <td>4.0</td>\n",
       "    </tr>\n",
       "    <tr>\n",
       "      <th>20117</th>\n",
       "      <td>POOL.OQ</td>\n",
       "      <td>2022-04-01</td>\n",
       "      <td>Retailing</td>\n",
       "      <td>34.342</td>\n",
       "      <td>2.325202</td>\n",
       "      <td>3.6</td>\n",
       "    </tr>\n",
       "    <tr>\n",
       "      <th>20118</th>\n",
       "      <td>POOL.OQ</td>\n",
       "      <td>2022-07-01</td>\n",
       "      <td>Retailing</td>\n",
       "      <td>1.503</td>\n",
       "      <td>3.092855</td>\n",
       "      <td>3.5</td>\n",
       "    </tr>\n",
       "    <tr>\n",
       "      <th>20119</th>\n",
       "      <td>POOL.OQ</td>\n",
       "      <td>2022-10-01</td>\n",
       "      <td>Retailing</td>\n",
       "      <td>4.196</td>\n",
       "      <td>3.747421</td>\n",
       "      <td>3.7</td>\n",
       "    </tr>\n",
       "  </tbody>\n",
       "</table>\n",
       "<p>20120 rows × 6 columns</p>\n",
       "</div>"
      ],
      "text/plain": [
       "      Instrument        Date GICS Industry Group Name  \\\n",
       "0          AVY.N  2013-01-01                Materials   \n",
       "1          AVY.N  2013-04-01                Materials   \n",
       "2          AVY.N  2013-07-01                Materials   \n",
       "3          AVY.N  2013-10-01                Materials   \n",
       "4          AVY.N  2014-01-01                Materials   \n",
       "...          ...         ...                      ...   \n",
       "20115    POOL.OQ  2021-10-01                Retailing   \n",
       "20116    POOL.OQ  2022-01-01                Retailing   \n",
       "20117    POOL.OQ  2022-04-01                Retailing   \n",
       "20118    POOL.OQ  2022-07-01                Retailing   \n",
       "20119    POOL.OQ  2022-10-01                Retailing   \n",
       "\n",
       "       Earnings Per Share - Actual Surprise  \\\n",
       "0                                    11.178   \n",
       "1                                     2.482   \n",
       "2                                     1.068   \n",
       "3                                     8.095   \n",
       "4                                     1.471   \n",
       "...                                     ...   \n",
       "20115                                17.194   \n",
       "20116                                40.267   \n",
       "20117                                34.342   \n",
       "20118                                 1.503   \n",
       "20119                                 4.196   \n",
       "\n",
       "       WACC Inflation Adjusted Risk Free Rate, (%)  Unemployment rate  \n",
       "0                                              NaN                8.0  \n",
       "1                                              NaN                7.6  \n",
       "2                                              NaN                7.3  \n",
       "3                                              NaN                7.2  \n",
       "4                                              NaN                6.6  \n",
       "...                                            ...                ...  \n",
       "20115                                     1.527139                4.5  \n",
       "20116                                     1.515266                4.0  \n",
       "20117                                     2.325202                3.6  \n",
       "20118                                     3.092855                3.5  \n",
       "20119                                     3.747421                3.7  \n",
       "\n",
       "[20120 rows x 6 columns]"
      ]
     },
     "execution_count": 2,
     "metadata": {},
     "output_type": "execute_result"
    }
   ],
   "source": [
    "df = pd.read_csv(\"Dataframes/macro.csv\")\n",
    "X_var_names = [\"WACC Inflation Adjusted Risk Free Rate, (%)\", \"Unemployment rate\"]\n",
    "df"
   ]
  },
  {
   "cell_type": "code",
   "execution_count": 3,
   "metadata": {},
   "outputs": [],
   "source": [
    "df[\"Date\"] = pd.to_datetime(df[\"Date\"])"
   ]
  },
  {
   "cell_type": "markdown",
   "metadata": {},
   "source": [
    "Remove outliers"
   ]
  },
  {
   "cell_type": "code",
   "execution_count": 4,
   "metadata": {},
   "outputs": [
    {
     "data": {
      "text/html": [
       "<div>\n",
       "<style scoped>\n",
       "    .dataframe tbody tr th:only-of-type {\n",
       "        vertical-align: middle;\n",
       "    }\n",
       "\n",
       "    .dataframe tbody tr th {\n",
       "        vertical-align: top;\n",
       "    }\n",
       "\n",
       "    .dataframe thead th {\n",
       "        text-align: right;\n",
       "    }\n",
       "</style>\n",
       "<table border=\"1\" class=\"dataframe\">\n",
       "  <thead>\n",
       "    <tr style=\"text-align: right;\">\n",
       "      <th></th>\n",
       "      <th>Instrument</th>\n",
       "      <th>Date</th>\n",
       "      <th>GICS Industry Group Name</th>\n",
       "      <th>Earnings Per Share - Actual Surprise</th>\n",
       "      <th>WACC Inflation Adjusted Risk Free Rate, (%)</th>\n",
       "      <th>Unemployment rate</th>\n",
       "    </tr>\n",
       "  </thead>\n",
       "  <tbody>\n",
       "    <tr>\n",
       "      <th>0</th>\n",
       "      <td>AVY.N</td>\n",
       "      <td>2013-01-01</td>\n",
       "      <td>Materials</td>\n",
       "      <td>11.178</td>\n",
       "      <td>NaN</td>\n",
       "      <td>8.0</td>\n",
       "    </tr>\n",
       "    <tr>\n",
       "      <th>1</th>\n",
       "      <td>AVY.N</td>\n",
       "      <td>2013-04-01</td>\n",
       "      <td>Materials</td>\n",
       "      <td>2.482</td>\n",
       "      <td>NaN</td>\n",
       "      <td>7.6</td>\n",
       "    </tr>\n",
       "    <tr>\n",
       "      <th>2</th>\n",
       "      <td>AVY.N</td>\n",
       "      <td>2013-07-01</td>\n",
       "      <td>Materials</td>\n",
       "      <td>1.068</td>\n",
       "      <td>NaN</td>\n",
       "      <td>7.3</td>\n",
       "    </tr>\n",
       "    <tr>\n",
       "      <th>3</th>\n",
       "      <td>AVY.N</td>\n",
       "      <td>2013-10-01</td>\n",
       "      <td>Materials</td>\n",
       "      <td>8.095</td>\n",
       "      <td>NaN</td>\n",
       "      <td>7.2</td>\n",
       "    </tr>\n",
       "    <tr>\n",
       "      <th>4</th>\n",
       "      <td>AVY.N</td>\n",
       "      <td>2014-01-01</td>\n",
       "      <td>Materials</td>\n",
       "      <td>1.471</td>\n",
       "      <td>NaN</td>\n",
       "      <td>6.6</td>\n",
       "    </tr>\n",
       "    <tr>\n",
       "      <th>...</th>\n",
       "      <td>...</td>\n",
       "      <td>...</td>\n",
       "      <td>...</td>\n",
       "      <td>...</td>\n",
       "      <td>...</td>\n",
       "      <td>...</td>\n",
       "    </tr>\n",
       "    <tr>\n",
       "      <th>20115</th>\n",
       "      <td>POOL.OQ</td>\n",
       "      <td>2021-10-01</td>\n",
       "      <td>Retailing</td>\n",
       "      <td>17.194</td>\n",
       "      <td>1.527139</td>\n",
       "      <td>4.5</td>\n",
       "    </tr>\n",
       "    <tr>\n",
       "      <th>20116</th>\n",
       "      <td>POOL.OQ</td>\n",
       "      <td>2022-01-01</td>\n",
       "      <td>Retailing</td>\n",
       "      <td>40.267</td>\n",
       "      <td>1.515266</td>\n",
       "      <td>4.0</td>\n",
       "    </tr>\n",
       "    <tr>\n",
       "      <th>20117</th>\n",
       "      <td>POOL.OQ</td>\n",
       "      <td>2022-04-01</td>\n",
       "      <td>Retailing</td>\n",
       "      <td>34.342</td>\n",
       "      <td>2.325202</td>\n",
       "      <td>3.6</td>\n",
       "    </tr>\n",
       "    <tr>\n",
       "      <th>20118</th>\n",
       "      <td>POOL.OQ</td>\n",
       "      <td>2022-07-01</td>\n",
       "      <td>Retailing</td>\n",
       "      <td>1.503</td>\n",
       "      <td>3.092855</td>\n",
       "      <td>3.5</td>\n",
       "    </tr>\n",
       "    <tr>\n",
       "      <th>20119</th>\n",
       "      <td>POOL.OQ</td>\n",
       "      <td>2022-10-01</td>\n",
       "      <td>Retailing</td>\n",
       "      <td>4.196</td>\n",
       "      <td>3.747421</td>\n",
       "      <td>3.7</td>\n",
       "    </tr>\n",
       "  </tbody>\n",
       "</table>\n",
       "<p>18655 rows × 6 columns</p>\n",
       "</div>"
      ],
      "text/plain": [
       "      Instrument       Date GICS Industry Group Name  \\\n",
       "0          AVY.N 2013-01-01                Materials   \n",
       "1          AVY.N 2013-04-01                Materials   \n",
       "2          AVY.N 2013-07-01                Materials   \n",
       "3          AVY.N 2013-10-01                Materials   \n",
       "4          AVY.N 2014-01-01                Materials   \n",
       "...          ...        ...                      ...   \n",
       "20115    POOL.OQ 2021-10-01                Retailing   \n",
       "20116    POOL.OQ 2022-01-01                Retailing   \n",
       "20117    POOL.OQ 2022-04-01                Retailing   \n",
       "20118    POOL.OQ 2022-07-01                Retailing   \n",
       "20119    POOL.OQ 2022-10-01                Retailing   \n",
       "\n",
       "       Earnings Per Share - Actual Surprise  \\\n",
       "0                                    11.178   \n",
       "1                                     2.482   \n",
       "2                                     1.068   \n",
       "3                                     8.095   \n",
       "4                                     1.471   \n",
       "...                                     ...   \n",
       "20115                                17.194   \n",
       "20116                                40.267   \n",
       "20117                                34.342   \n",
       "20118                                 1.503   \n",
       "20119                                 4.196   \n",
       "\n",
       "       WACC Inflation Adjusted Risk Free Rate, (%)  Unemployment rate  \n",
       "0                                              NaN                8.0  \n",
       "1                                              NaN                7.6  \n",
       "2                                              NaN                7.3  \n",
       "3                                              NaN                7.2  \n",
       "4                                              NaN                6.6  \n",
       "...                                            ...                ...  \n",
       "20115                                     1.527139                4.5  \n",
       "20116                                     1.515266                4.0  \n",
       "20117                                     2.325202                3.6  \n",
       "20118                                     3.092855                3.5  \n",
       "20119                                     3.747421                3.7  \n",
       "\n",
       "[18655 rows x 6 columns]"
      ]
     },
     "execution_count": 4,
     "metadata": {},
     "output_type": "execute_result"
    }
   ],
   "source": [
    "#removing outliers\n",
    "summary_stats = df[\"Earnings Per Share - Actual Surprise\"].describe()\n",
    "Q1 = summary_stats.loc['25%']\n",
    "Q3 = summary_stats.loc['75%']\n",
    "IQR = Q3 - Q1\n",
    "threshold = 7\n",
    "surprise_outliers_removed = df[\"Earnings Per Share - Actual Surprise\"].loc[~((df[\"Earnings Per Share - Actual Surprise\"] < (Q1 - threshold * IQR)) | (df[\"Earnings Per Share - Actual Surprise\"] > (Q3 + threshold * IQR)))]\n",
    "df_clean = df.copy()\n",
    "df_clean[\"Earnings Per Share - Actual Surprise\"] = surprise_outliers_removed\n",
    "df_clean = df_clean.dropna(subset=[\"Earnings Per Share - Actual Surprise\"])\n",
    "df_clean"
   ]
  },
  {
   "attachments": {},
   "cell_type": "markdown",
   "metadata": {},
   "source": [
    "Standardising"
   ]
  },
  {
   "attachments": {},
   "cell_type": "markdown",
   "metadata": {},
   "source": [
    "get wierd results when standardising"
   ]
  },
  {
   "cell_type": "code",
   "execution_count": 5,
   "metadata": {},
   "outputs": [
    {
     "data": {
      "text/plain": [
       "'\\nrescale = df_clean\\n#rescale[\"Earnings Per Share - Actual Surprise\"] = MinMaxScaler().fit_transform(np.array(rescale[\"Earnings Per Share - Actual Surprise\"]).reshape(-1,1))\\nrescale[\"WACC Inflation Adjusted Risk Free Rate, (%)\"] = MinMaxScaler().fit_transform(np.array(rescale[\"WACC Inflation Adjusted Risk Free Rate, (%)\"]).reshape(-1,1))\\nrescale[\"Unemployment rate\"] = MinMaxScaler().fit_transform(np.array(rescale[\"Unemployment rate\"]).reshape(-1,1))\\ndf_clean = rescale\\ndf_clean\\n'"
      ]
     },
     "execution_count": 5,
     "metadata": {},
     "output_type": "execute_result"
    }
   ],
   "source": [
    "'''\n",
    "rescale = df_clean\n",
    "#rescale[\"Earnings Per Share - Actual Surprise\"] = MinMaxScaler().fit_transform(np.array(rescale[\"Earnings Per Share - Actual Surprise\"]).reshape(-1,1))\n",
    "rescale[\"WACC Inflation Adjusted Risk Free Rate, (%)\"] = MinMaxScaler().fit_transform(np.array(rescale[\"WACC Inflation Adjusted Risk Free Rate, (%)\"]).reshape(-1,1))\n",
    "rescale[\"Unemployment rate\"] = MinMaxScaler().fit_transform(np.array(rescale[\"Unemployment rate\"]).reshape(-1,1))\n",
    "df_clean = rescale\n",
    "df_clean\n",
    "'''"
   ]
  },
  {
   "cell_type": "code",
   "execution_count": 6,
   "metadata": {},
   "outputs": [],
   "source": [
    "df_panel = df_clean.copy()"
   ]
  },
  {
   "attachments": {},
   "cell_type": "markdown",
   "metadata": {},
   "source": [
    "#### Random Effects"
   ]
  },
  {
   "cell_type": "code",
   "execution_count": 7,
   "metadata": {},
   "outputs": [
    {
     "name": "stdout",
     "output_type": "stream",
     "text": [
      "                                 RandomEffects Estimation Summary                                 \n",
      "==================================================================================================\n",
      "Dep. Variable:     Earnings Per Share - Actual Surprise   R-squared:                        0.0528\n",
      "Estimator:                                RandomEffects   R-squared (Between):              0.5745\n",
      "No. Observations:                                 12860   R-squared (Within):               0.0011\n",
      "Date:                                  Mon, Feb 27 2023   R-squared (Overall):              0.1601\n",
      "Time:                                          21:01:07   Log-likelihood                -5.446e+04\n",
      "Cov. Estimator:                              Unadjusted                                           \n",
      "                                                          F-statistic:                      358.44\n",
      "Entities:                                           502   P-value                           0.0000\n",
      "Avg Obs:                                         25.618   Distribution:                 F(2,12858)\n",
      "Min Obs:                                         0.0000                                           \n",
      "Max Obs:                                         28.000   F-statistic (robust):             358.44\n",
      "                                                          P-value                           0.0000\n",
      "Time periods:                                        29   Distribution:                 F(2,12858)\n",
      "Avg Obs:                                         443.45                                           \n",
      "Min Obs:                                         42.000                                           \n",
      "Max Obs:                                         485.00                                           \n",
      "                                                                                                  \n",
      "                                              Parameter Estimates                                              \n",
      "===============================================================================================================\n",
      "                                             Parameter  Std. Err.     T-stat    P-value    Lower CI    Upper CI\n",
      "---------------------------------------------------------------------------------------------------------------\n",
      "WACC Inflation Adjusted Risk Free Rate, (%)     0.5547     0.1226     4.5261     0.0000      0.3145      0.7950\n",
      "Unemployment rate                               1.0738     0.0461     23.274     0.0000      0.9834      1.1642\n",
      "===============================================================================================================\n"
     ]
    },
    {
     "name": "stderr",
     "output_type": "stream",
     "text": [
      "/Users/ginevrabramante/opt/anaconda3/envs/AnalystForecast/lib/python3.11/site-packages/linearmodels/panel/model.py:2574: MissingValueWarning: \n",
      "Inputs contain missing values. Dropping rows with missing observations.\n",
      "  super().__init__(dependent, exog, weights=weights, check_rank=check_rank)\n"
     ]
    }
   ],
   "source": [
    "# turn dataframe into right dimension for panel regression with multiindex\n",
    "df_clean['Instrument'] = df_clean['Instrument'].astype('category')\n",
    "df_clean['Date'] = pd.to_datetime(df_clean['Date'])\n",
    "\n",
    "# set the index to be the time variable and the cross-sectional variable\n",
    "df_clean.set_index(['Instrument', 'Date'], inplace=True)\n",
    "\n",
    "# define the dependent variable\n",
    "y = df_clean.loc[:, \"Earnings Per Share - Actual Surprise\"]\n",
    "X = df_clean[X_var_names]\n",
    "\n",
    "# perform the random effects panel regression\n",
    "random_effects_model = RandomEffects(y, X)\n",
    "\n",
    "# fit the model and print the summary statistics\n",
    "random_effects_results = random_effects_model.fit()\n",
    "print(random_effects_results.summary)\n"
   ]
  },
  {
   "attachments": {},
   "cell_type": "markdown",
   "metadata": {},
   "source": [
    "**R-squared (Within)**: This is the proportion of variation in the dependent variable (in your case, Earnings Per Share - Actual Surprise) that is explained by the independent variables (in our case, the variables in X) within each individual instrument (the 501 companies). In other words, this R-squared measures how well the independent variables explain the variation in the dependent variable (surprise) within each instrument. The R-squared (Within) is 0.5745, which means that the independent variables explain 57.45% of the variation in the dependent variable within each instrument.  \n",
    "\n",
    "**R-squared (Between)**: This is the proportion of variation in the dependent variable that is explained by the independent variables across the instruments. In other words, this R-squared measures how well the independent variables explain the variation in the dependent variable between different instruments. The R-squared (Between) is 0.0011 (0.1%), which means that the independent variables are not really able to explain the variation in the dependent variable across instruments.  \n",
    "\n",
    "**R-squared (Overall)**: This is the proportion of variation in the dependent variable that is explained by the independent variables overall, taking into account both the within-instrument and between-instrument variation. The R-squared (Overall) is 0.1601, which means that the independent variables explain 16.01% of the variation in the dependent variable overall."
   ]
  },
  {
   "attachments": {},
   "cell_type": "markdown",
   "metadata": {},
   "source": [
    "#### Fixed Effects"
   ]
  },
  {
   "cell_type": "code",
   "execution_count": 8,
   "metadata": {},
   "outputs": [
    {
     "name": "stderr",
     "output_type": "stream",
     "text": [
      "/Users/ginevrabramante/opt/anaconda3/envs/AnalystForecast/lib/python3.11/site-packages/linearmodels/panel/model.py:1183: MissingValueWarning: \n",
      "Inputs contain missing values. Dropping rows with missing observations.\n",
      "  super().__init__(dependent, exog, weights=weights, check_rank=check_rank)\n"
     ]
    },
    {
     "ename": "AbsorbingEffectError",
     "evalue": "\nThe model cannot be estimated. The included effects have fully absorbed\none or more of the variables. This occurs when one or more of the dependent\nvariable is perfectly explained using the effects included in the model.\n\nThe following variables or variable combinations have been fully absorbed\nor have become perfectly collinear after effects are removed:\n\n          Unemployment rate\n\nSet drop_absorbed=True to automatically drop absorbed variables.\n",
     "output_type": "error",
     "traceback": [
      "\u001b[0;31m---------------------------------------------------------------------------\u001b[0m",
      "\u001b[0;31mAbsorbingEffectError\u001b[0m                      Traceback (most recent call last)",
      "Cell \u001b[0;32mIn[8], line 8\u001b[0m\n\u001b[1;32m      5\u001b[0m fixed_effects_model \u001b[39m=\u001b[39m PanelOLS(y, X, entity_effects\u001b[39m=\u001b[39m\u001b[39mTrue\u001b[39;00m, time_effects\u001b[39m=\u001b[39m\u001b[39mTrue\u001b[39;00m)\n\u001b[1;32m      7\u001b[0m \u001b[39m# fit the model and print the summary statistics\u001b[39;00m\n\u001b[0;32m----> 8\u001b[0m fixed_effects_results \u001b[39m=\u001b[39m fixed_effects_model\u001b[39m.\u001b[39;49mfit()\n\u001b[1;32m      9\u001b[0m fixed_effects_results\u001b[39m.\u001b[39msummary\n",
      "File \u001b[0;32m~/opt/anaconda3/envs/AnalystForecast/lib/python3.11/site-packages/linearmodels/panel/model.py:1823\u001b[0m, in \u001b[0;36mPanelOLS.fit\u001b[0;34m(self, use_lsdv, use_lsmr, low_memory, cov_type, debiased, auto_df, count_effects, **cov_config)\u001b[0m\n\u001b[1;32m   1821\u001b[0m \u001b[39mif\u001b[39;00m \u001b[39mself\u001b[39m\u001b[39m.\u001b[39mentity_effects \u001b[39mor\u001b[39;00m \u001b[39mself\u001b[39m\u001b[39m.\u001b[39mtime_effects \u001b[39mor\u001b[39;00m \u001b[39mself\u001b[39m\u001b[39m.\u001b[39mother_effects:\n\u001b[1;32m   1822\u001b[0m     \u001b[39mif\u001b[39;00m \u001b[39mnot\u001b[39;00m \u001b[39mself\u001b[39m\u001b[39m.\u001b[39m_drop_absorbed:\n\u001b[0;32m-> 1823\u001b[0m         check_absorbed(x, [\u001b[39mstr\u001b[39;49m(var) \u001b[39mfor\u001b[39;49;00m var \u001b[39min\u001b[39;49;00m \u001b[39mself\u001b[39;49m\u001b[39m.\u001b[39;49mexog\u001b[39m.\u001b[39;49mvars])\n\u001b[1;32m   1824\u001b[0m     \u001b[39melse\u001b[39;00m:\n\u001b[1;32m   1825\u001b[0m         \u001b[39m# TODO: Need to special case the constant here when determining which to retain\u001b[39;00m\n\u001b[1;32m   1826\u001b[0m         \u001b[39m# since we always want to retain the constant if present\u001b[39;00m\n\u001b[1;32m   1827\u001b[0m         retain \u001b[39m=\u001b[39m not_absorbed(x, \u001b[39mself\u001b[39m\u001b[39m.\u001b[39m_constant, \u001b[39mself\u001b[39m\u001b[39m.\u001b[39m_constant_index)\n",
      "File \u001b[0;32m~/opt/anaconda3/envs/AnalystForecast/lib/python3.11/site-packages/linearmodels/panel/utility.py:446\u001b[0m, in \u001b[0;36mcheck_absorbed\u001b[0;34m(x, variables, x_orig)\u001b[0m\n\u001b[1;32m    444\u001b[0m     absorbed_variables \u001b[39m=\u001b[39m \u001b[39m\"\u001b[39m\u001b[39m\\n\u001b[39;00m\u001b[39m\"\u001b[39m\u001b[39m.\u001b[39mjoin(rows)\n\u001b[1;32m    445\u001b[0m     msg \u001b[39m=\u001b[39m absorbing_error_msg\u001b[39m.\u001b[39mformat(absorbed_variables\u001b[39m=\u001b[39mabsorbed_variables)\n\u001b[0;32m--> 446\u001b[0m     \u001b[39mraise\u001b[39;00m AbsorbingEffectError(msg)\n\u001b[1;32m    447\u001b[0m \u001b[39mif\u001b[39;00m x_orig \u001b[39mis\u001b[39;00m \u001b[39mNone\u001b[39;00m:\n\u001b[1;32m    448\u001b[0m     \u001b[39mreturn\u001b[39;00m\n",
      "\u001b[0;31mAbsorbingEffectError\u001b[0m: \nThe model cannot be estimated. The included effects have fully absorbed\none or more of the variables. This occurs when one or more of the dependent\nvariable is perfectly explained using the effects included in the model.\n\nThe following variables or variable combinations have been fully absorbed\nor have become perfectly collinear after effects are removed:\n\n          Unemployment rate\n\nSet drop_absorbed=True to automatically drop absorbed variables.\n"
     ]
    }
   ],
   "source": [
    "y = df_clean.loc[:, \"Earnings Per Share - Actual Surprise\"]\n",
    "X = df_clean[X_var_names]\n",
    "\n",
    "# perform the fixed effects panel regression\n",
    "fixed_effects_model = PanelOLS(y, X, entity_effects=True, time_effects=True)\n",
    "\n",
    "# fit the model and print the summary statistics\n",
    "fixed_effects_results = fixed_effects_model.fit()\n",
    "fixed_effects_results.summary\n"
   ]
  },
  {
   "attachments": {},
   "cell_type": "markdown",
   "metadata": {},
   "source": [
    "By Industry: example tech industry"
   ]
  },
  {
   "cell_type": "code",
   "execution_count": null,
   "metadata": {},
   "outputs": [],
   "source": [
    "df2 = df_panel[df_panel['GICS Industry Group Name'] == 'Technology Hardware & Equipment']\n",
    "groups = df2.groupby('Instrument')\n",
    "\n",
    "def panel_regression_random(group):\n",
    "    if len(group) < 2:\n",
    "        return None\n",
    "    \n",
    "    group['Instrument'] = group['Instrument'].astype('category')\n",
    "    group['Date'] = pd.to_datetime(group['Date'])\n",
    "    group.set_index(['Instrument', 'Date'], inplace=True)\n",
    "\n",
    "    y = group.loc[:, \"Earnings Per Share - Actual Surprise\"]\n",
    "    X = group[X_var_names]\n",
    "\n",
    "    model = RandomEffects(y, X).fit()\n",
    "    return model\n",
    "\n",
    "\n",
    "results_random = groups.apply(panel_regression_random)\n",
    "results_random = results_random.dropna()\n",
    "models_random = results_random.tolist()\n",
    "models_random"
   ]
  }
 ],
 "metadata": {
  "kernelspec": {
   "display_name": "AnalystForecast",
   "language": "python",
   "name": "python3"
  },
  "language_info": {
   "codemirror_mode": {
    "name": "ipython",
    "version": 3
   },
   "file_extension": ".py",
   "mimetype": "text/x-python",
   "name": "python",
   "nbconvert_exporter": "python",
   "pygments_lexer": "ipython3",
   "version": "3.11.0"
  },
  "orig_nbformat": 4,
  "vscode": {
   "interpreter": {
    "hash": "264d128b47a19451ae7876f5ee246d3f7de9751940a5ebe47f15ec6626e5a91f"
   }
  }
 },
 "nbformat": 4,
 "nbformat_minor": 2
}
