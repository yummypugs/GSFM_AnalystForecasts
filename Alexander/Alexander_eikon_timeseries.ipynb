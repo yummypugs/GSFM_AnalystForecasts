{
 "cells": [
  {
   "cell_type": "code",
   "execution_count": 1,
   "outputs": [],
   "source": [
    "import eikon as ek\n",
    "import pandas as pd\n",
    "import numpy as np\n",
    "import datetime\n",
    "ek.set_app_key(\"69de0ce7c5e2468e90a6058ce79f6558ebe3ee30\")"
   ],
   "metadata": {
    "collapsed": false
   }
  },
  {
   "cell_type": "markdown",
   "source": [
    "https://community.developers.refinitiv.com/questions/73493/get-eps-historical-data-for-stocks.html"
   ],
   "metadata": {
    "collapsed": false
   }
  },
  {
   "cell_type": "code",
   "execution_count": 2,
   "outputs": [],
   "source": [
    "economic_story = ['TR.RevenueActValue.date', 'TR.RevenueActValue', \"TR.F.EV\", 'TR.EPSActValue', \"TR.EPSMean\", \"TR.EpsSmartEst\", \"TR.EPSActSurprise\", \"TR.NumberOfAnalysts\", \"TR.RecMean\", \"TR.WACCInflationAdjRiskFreeRate\"]\n",
    "#[\"TR.TRBCEconomicSector\", \"TR.F.EV\", \"TR.EPSActValue\", \"TR.NumberOfAnalysts\", \"TR.NumOfRecommendations\", \"TR.EpsPreSurprisePct\", \"TR.EPSActSurprise\", \"TR.RecMean\", \"TR.TRESGManagementScore\"]"
   ],
   "metadata": {
    "collapsed": false
   }
  },
  {
   "cell_type": "markdown",
   "source": [
    "# Economic Story\n",
    "\n",
    "**TR.RevenueActValue.date** - prints the datetime\n",
    "\n",
    "## Part 1: Accuracy\n",
    "\n",
    "**TR.RevenueActValue** - The company's actual value normalized to reflect the I/B/E/S default currency and corporate actions (e.g. stock splits). Revenue (or Sales) is a corporation's net revenue, generally derived from core business activities. For non-financial companies, the calculation of net revenue (or net turnover) in most markets generally involves subtracting transportation and related operational costs from gross revenue/sales. Revenue recognition practices vary significantly from market to market, though generally the recording of revenue is based upon sales invoices issued (or anticipated for forecast purposes) during the accounting period.\n",
    "\n",
    "**TR.F.EV** - Enterprise Value is the Company's total economic value OR the theoretical takeover price, often used as an alternative to market capitalization. Enterprise Value represents Market Capitalization TR.F.MktCap + Debt including Preferred Equity & Minority Interest - Total [TR.F.DebtlnclPrefEqMinlntrTot] (-) Cash & Short Term Investments - Total [TR.F.CashSTlnvstTot]. Market Capitalization [TR.F.MktCap] is required. The data item is calculated for all periodicities. It is applicable to all industries.\n",
    "\n",
    "**TR.EPSActValue** - The company's actual value normalized to reflect the I/B/E/S default currency and corporate actions (e.g. stock splits). Earnings Per Share is defined as the EPS that the contributing analyst considers to be that with which to value a security. This figure may include or exclude certain items depending on the contributing analyst's specific model.\n",
    "\n",
    "**TR.EPSMean** - The statistical average of all broker estimates determined to be on the majority accounting basis. Earnings Per Share is defined as the EPS that the contributing analyst considers to be that with which to value a security. This figure may include or exclude certain items depending on the contributing analyst's specific model.\n",
    "\n",
    "--> this is a analyst forecast variable\n",
    "\n",
    "**TR.EpsSmartEst** - The SmartEstimate is an indicator of future earnings that improves upon the accuracy of the mean estimate by placing a higher weight on recent forecasts and on top-rated analysts. Earnings Per Share is defined as the EPS that the contributing analyst considers to be that with which to value a security. This figure may include or exclude certain items depending on the contributing analyst's specific model.\n",
    "\n",
    "--> this is also an analyst forecast variable\n",
    "\n",
    "**TR.EPSActSurprise** - The difference between the actual and the last mean of the period, expressed as a percentage. Earnings Per Share is defined as the EPS that the contributing analyst considers to be that with which to value a security. This figure may include or exclude certain items depending on the contributing analyst's specific model.\n",
    "\n",
    "--> forecast error between actual EPS and TR.EPSMean\n",
    "\n",
    "<img src=\"../Pictures/Screenshot 2023-02-15 185222.png\" width=500 height=300 />\n",
    "\n",
    "## Part 2: Factors\n",
    "\n",
    "### Analysts\n",
    "**TR.NumberOfAnalysts** - Number of sell-side analysts covering the security.\n",
    "\n",
    "**TR.RecMean** - Recommendation Numeric Mean based on the Standard Scale Of Strong Buy (1 ), Buy (2), Hold (3), Sell (4), and Strong Sell (5).\n",
    "\n",
    "### continue..\n",
    "\n",
    "**TR.WACCInflationAdjRiskFreeRate** -  Inflation adjusted risk free rate used is Of the primary index for the domicile country Of the company. Inflation adjusted risk free rate (Rf) is calculated from the US 10-year treasury yield plus the difference between in the 10-year forecasted inflation rate between the given country and the US.\n",
    "\n",
    "## Part 3: Regression\n",
    "\n",
    "### continue.."
   ],
   "metadata": {
    "collapsed": false
   }
  },
  {
   "cell_type": "code",
   "execution_count": 40,
   "outputs": [
    {
     "name": "stderr",
     "output_type": "stream",
     "text": [
      "C:\\Users\\alexa\\mambaforge\\envs\\AnalystForecast\\Lib\\site-packages\\pandas\\core\\dtypes\\cast.py:1134: RuntimeWarning: invalid value encountered in cast\n",
      "  if (arr.astype(int) == arr).all():\n",
      "C:\\Users\\alexa\\mambaforge\\envs\\AnalystForecast\\Lib\\site-packages\\pandas\\core\\dtypes\\cast.py:1153: RuntimeWarning: invalid value encountered in cast\n",
      "  if (arr.astype(int) == arr).all():\n"
     ]
    }
   ],
   "source": [
    "df, e = ek.get_data('0#.SPX',economic_story, parameters = {'SDate':'0','EDate':'-5','Period':'FQ0','Frq':'FQ'})\n",
    "df[\"Date\"] = pd.to_datetime(df[\"Date\"])"
   ],
   "metadata": {
    "collapsed": false
   }
  },
  {
   "cell_type": "code",
   "execution_count": 4,
   "outputs": [
    {
     "data": {
      "text/plain": "    None  TR.REVENUEACTVALUE.DATE  TR.REVENUEACTVALUE  TR.F.EV  \\\n0  ^GSPC                     <NA>                <NA>     <NA>   \n\n   TR.EPSACTVALUE  TR.EPSMEAN  TR.EPSSMARTEST  TR.EPSACTSURPRISE  \\\n0            <NA>        <NA>            <NA>               <NA>   \n\n   TR.NUMBEROFANALYSTS  TR.RECMEAN  TR.WACCINFLATIONADJRISKFREERATE  \n0                 <NA>        <NA>                             <NA>  ",
      "text/html": "<div>\n<style scoped>\n    .dataframe tbody tr th:only-of-type {\n        vertical-align: middle;\n    }\n\n    .dataframe tbody tr th {\n        vertical-align: top;\n    }\n\n    .dataframe thead th {\n        text-align: right;\n    }\n</style>\n<table border=\"1\" class=\"dataframe\">\n  <thead>\n    <tr style=\"text-align: right;\">\n      <th></th>\n      <th>None</th>\n      <th>TR.REVENUEACTVALUE.DATE</th>\n      <th>TR.REVENUEACTVALUE</th>\n      <th>TR.F.EV</th>\n      <th>TR.EPSACTVALUE</th>\n      <th>TR.EPSMEAN</th>\n      <th>TR.EPSSMARTEST</th>\n      <th>TR.EPSACTSURPRISE</th>\n      <th>TR.NUMBEROFANALYSTS</th>\n      <th>TR.RECMEAN</th>\n      <th>TR.WACCINFLATIONADJRISKFREERATE</th>\n    </tr>\n  </thead>\n  <tbody>\n    <tr>\n      <th>0</th>\n      <td>^GSPC</td>\n      <td>&lt;NA&gt;</td>\n      <td>&lt;NA&gt;</td>\n      <td>&lt;NA&gt;</td>\n      <td>&lt;NA&gt;</td>\n      <td>&lt;NA&gt;</td>\n      <td>&lt;NA&gt;</td>\n      <td>&lt;NA&gt;</td>\n      <td>&lt;NA&gt;</td>\n      <td>&lt;NA&gt;</td>\n      <td>&lt;NA&gt;</td>\n    </tr>\n  </tbody>\n</table>\n</div>"
     },
     "execution_count": 4,
     "metadata": {},
     "output_type": "execute_result"
    }
   ],
   "source": [
    "df"
   ],
   "metadata": {
    "collapsed": false
   }
  },
  {
   "cell_type": "code",
   "execution_count": 42,
   "outputs": [
    {
     "data": {
      "text/plain": "1.343424366478545"
     },
     "execution_count": 42,
     "metadata": {},
     "output_type": "execute_result"
    }
   ],
   "source": [
    "4.23/3.14867"
   ],
   "metadata": {
    "collapsed": false
   }
  },
  {
   "cell_type": "code",
   "execution_count": 43,
   "outputs": [
    {
     "data": {
      "text/plain": "Instrument                                                  string\nDate                                           datetime64[ns, UTC]\nRevenue - Actual                                           Float64\nEnterprise Value                                           Float64\nEarnings Per Share - Actual                                Float64\nEarnings Per Share - Mean                                  Float64\nEarnings Per Share - SmartEstimate®                        Float64\nEarnings Per Share - Actual Surprise                       Float64\nNumber of Analysts                                           Int64\nRecommendation - Mean (1-5)                                Float64\nWACC Inflation Adjusted Risk Free Rate, (%)                Float64\ndtype: object"
     },
     "execution_count": 43,
     "metadata": {},
     "output_type": "execute_result"
    }
   ],
   "source": [
    "df.dtypes"
   ],
   "metadata": {
    "collapsed": false
   }
  },
  {
   "cell_type": "code",
   "execution_count": 43,
   "outputs": [],
   "source": [],
   "metadata": {
    "collapsed": false
   }
  },
  {
   "cell_type": "code",
   "execution_count": 43,
   "outputs": [],
   "source": [],
   "metadata": {
    "collapsed": false
   }
  },
  {
   "cell_type": "code",
   "execution_count": 43,
   "outputs": [],
   "source": [],
   "metadata": {
    "collapsed": false
   }
  }
 ],
 "metadata": {
  "kernelspec": {
   "display_name": "Python 3",
   "language": "python",
   "name": "python3"
  },
  "language_info": {
   "codemirror_mode": {
    "name": "ipython",
    "version": 2
   },
   "file_extension": ".py",
   "mimetype": "text/x-python",
   "name": "python",
   "nbconvert_exporter": "python",
   "pygments_lexer": "ipython2",
   "version": "2.7.6"
  }
 },
 "nbformat": 4,
 "nbformat_minor": 0
}
