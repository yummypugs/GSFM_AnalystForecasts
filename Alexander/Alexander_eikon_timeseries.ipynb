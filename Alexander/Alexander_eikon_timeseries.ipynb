{
 "cells": [
  {
   "cell_type": "code",
   "execution_count": 38,
   "outputs": [],
   "source": [
    "import eikon as ek\n",
    "import pandas as pd\n",
    "import numpy as np\n",
    "import datetime\n",
    "ek.set_app_key(\"69de0ce7c5e2468e90a6058ce79f6558ebe3ee30\")"
   ],
   "metadata": {
    "collapsed": false
   }
  },
  {
   "cell_type": "markdown",
   "source": [
    "https://community.developers.refinitiv.com/questions/73493/get-eps-historical-data-for-stocks.html"
   ],
   "metadata": {
    "collapsed": false
   }
  },
  {
   "cell_type": "code",
   "execution_count": 39,
   "outputs": [],
   "source": [
    "economic_story = ['TR.RevenueActValue.date', 'TR.RevenueActValue', \"TR.F.EV\", 'TR.EPSActValue', \"TR.EPSMean\", \"TR.EpsSmartEst\", \"TR.EPSActSurprise\", \"TR.NumberOfAnalysts\", \"TR.RecMean\", \"TR.WACCInflationAdjRiskFreeRate\"]\n",
    "#[\"TR.TRBCEconomicSector\", \"TR.F.EV\", \"TR.EPSActValue\", \"TR.NumberOfAnalysts\", \"TR.NumOfRecommendations\", \"TR.EpsPreSurprisePct\", \"TR.EPSActSurprise\", \"TR.RecMean\", \"TR.TRESGManagementScore\"]"
   ],
   "metadata": {
    "collapsed": false
   }
  },
  {
   "cell_type": "markdown",
   "source": [
    "# Economic Story\n",
    "\n",
    "TR.RevenueActValue.date - prints the datetime\n",
    "\n",
    "## Part 1: Accuracy\n",
    "\n",
    "TR.RevenueActValue - The company's actual value normalized to reflect the I/B/E/S default currency and corporate actions (e.g. stock splits). Earnings Per Share is defined as the EPS that the contributing analyst considers to be that with which to value a security. This figure may include or exclude certain items depending on the contributing analyst's specific model.\n",
    "\n",
    "TR.F.EV - Enterprise Value is the Company's total economic value OR the theoretical takeover price, often used as an alternative to market capitalization. Enterprise Value represents Market Capitalization TR.F.MktCap + Debt including Preferred Equity & Minority Interest - Total [TR.F.DebtlnclPrefEqMinlntrTot] (-) Cash & Short Term Investments - Total [TR.F.CashSTlnvstTot]. Market Capitalization [TR.F.MktCap] is required. The data item is calculated for all periodicities. It is applicable to all industries.\n",
    "\n",
    "TR.EPSActValue - The company's actual value normalized to reflect the I/B/E/S default currency and corporate actions (e.g. stock splits). Earnings Per Share is defined as the EPS that the contributing analyst considers to be that with which to value a security. This figure may include or exclude certain items depending on the contributing analyst's specific model.\n",
    "\n",
    "TR.EPSMean - The statistical average Of all broker estimates determined to be on the majority accounting basis. Earnings Per Share is defined as the EPS that the contributing analyst considers to be that with which to value a security. This figure may include or exclude certain items depending on the contributing analyst's specific model.\n",
    "\n",
    "TR.EpsSmartEst - The SmartEstimate@ is an indicator of future earnings that improves upon the accuracy of the mean estimate by placing a higher weight on recent forecasts and on top-rated analysts. Earnings Per Share is defined as the EPS that the contributing analyst considers to be that with which to value a security. This figure may include or exclude certain items depending on the contributing analyst's specific model.\n",
    "\n",
    "TR.EPSActSurprise - The difference between the actual and the last mean of the period, expressed as a percentage. Earnings Per Share is defined as the EPS that the contributing analyst considers to be that with which to value a security. This figure may include or exclude certain items depending on the contributing analyst's specific model.\n",
    "\n",
    "<img src=\"Screenshot 2023-02-15 185222.png\" width=500 height=300 />\n",
    "\n",
    "## Part 2: Factors\n",
    "\n",
    "### Analysts\n",
    "TR.NumberOfAnalysts - Number of sell-side analysts covering the security.\n",
    "\n",
    "TR.RecMean - Recommendation Numeric Mean based on the Standard Scale Of Strong Buy (1 ), Buy (2), Hold (3), Sell (4), and Strong Sell (5).\n",
    "\n",
    "### continue..\n",
    "\n",
    "TR.WACCInflationAdjRiskFreeRate -  Inflation adjusted risk free rate used is Of the primary index for the domicile country Of the company. Inflation adjusted risk free rate (Rf) is calculated from the US 10-year treasury yield plus the difference between in the 10-year forecasted inflation rate between the given country and the US.\n",
    "\n",
    "## Part 3: Regression\n",
    "\n",
    "### continue.."
   ],
   "metadata": {
    "collapsed": false
   }
  },
  {
   "cell_type": "code",
   "execution_count": 40,
   "outputs": [
    {
     "name": "stderr",
     "output_type": "stream",
     "text": [
      "C:\\Users\\alexa\\mambaforge\\envs\\AnalystForecast\\Lib\\site-packages\\pandas\\core\\dtypes\\cast.py:1134: RuntimeWarning: invalid value encountered in cast\n",
      "  if (arr.astype(int) == arr).all():\n",
      "C:\\Users\\alexa\\mambaforge\\envs\\AnalystForecast\\Lib\\site-packages\\pandas\\core\\dtypes\\cast.py:1153: RuntimeWarning: invalid value encountered in cast\n",
      "  if (arr.astype(int) == arr).all():\n"
     ]
    }
   ],
   "source": [
    "df, e = ek.get_data('0#.SPX',economic_story, parameters = {'SDate':'0','EDate':'-5','Period':'FQ0','Frq':'FQ'})\n",
    "df[\"Date\"] = pd.to_datetime(df[\"Date\"])"
   ],
   "metadata": {
    "collapsed": false
   }
  },
  {
   "cell_type": "code",
   "execution_count": 41,
   "outputs": [
    {
     "data": {
      "text/plain": "     Instrument                      Date  Revenue - Actual  \\\n0       POOL.OQ 2022-10-20 07:00:00+00:00      1615339000.0   \n1       POOL.OQ 2022-07-21 07:00:00+00:00      2055818000.0   \n2       POOL.OQ 2022-04-21 07:00:00+00:00      1412650000.0   \n3       POOL.OQ 2022-02-17 07:00:00+00:00      1035557000.0   \n4       POOL.OQ 2021-10-21 07:00:00+00:00      1411448000.0   \n...         ...                       ...               ...   \n3013      AVY.N 2022-10-26 06:45:00+00:00      2317100000.0   \n3014      AVY.N 2022-07-27 06:45:00+00:00      2347000000.0   \n3015      AVY.N 2022-04-26 06:45:00+00:00      2349300000.0   \n3016      AVY.N 2022-02-02 06:45:00+00:00      2183200000.0   \n3017      AVY.N 2021-10-27 06:45:00+00:00      2071800000.0   \n\n        Enterprise Value  Earnings Per Share - Actual  \\\n0     14061600372.299999                         4.78   \n1     15561870705.290001                         7.63   \n2     18436823034.200001                         4.23   \n3          23848820586.0                         2.63   \n4         17699543822.66                         4.51   \n...                  ...                          ...   \n3013       16225017418.9                         2.46   \n3014      16504297189.84                         2.64   \n3015      17537077488.32                          2.4   \n3016  20873039410.310001                         2.13   \n3017  20368219272.799999                         2.14   \n\n      Earnings Per Share - Mean  Earnings Per Share - SmartEstimate®  \\\n0                          4.56                              4.55802   \n1                         7.517                              7.54885   \n2                       3.14867                              3.15428   \n3                         1.875                              1.88052   \n4                       3.84833                              3.86379   \n...                         ...                                  ...   \n3013                    2.46323                              2.46223   \n3014                    2.36485                              2.38256   \n3015                    2.17008                              2.16901   \n3016                    2.12375                              2.12724   \n3017                     2.0423                              2.05616   \n\n      Earnings Per Share - Actual Surprise  Number of Analysts  \\\n0                                    4.825                  10   \n1                                    1.503                   9   \n2                                   34.342                   9   \n3                                   40.267                   8   \n4                                   17.194                   8   \n...                                    ...                 ...   \n3013                                -0.131                  13   \n3014                                11.635                  13   \n3015                                10.595                  12   \n3016                                 0.294                  12   \n3017                                 4.784                  11   \n\n      Recommendation - Mean (1-5)  WACC Inflation Adjusted Risk Free Rate, (%)  \n0                         2.27273                                     3.831224  \n1                             2.2                                     3.747421  \n2                             2.0                                     3.092855  \n3                             2.3                                     2.325202  \n4                             2.3                                     1.515266  \n...                           ...                                          ...  \n3013                      2.14286                                     3.747421  \n3014                          2.0                                     3.092855  \n3015                      2.06667                                     2.325202  \n3016                      2.14286                                     1.515266  \n3017                      2.15385                                     1.527139  \n\n[3018 rows x 11 columns]",
      "text/html": "<div>\n<style scoped>\n    .dataframe tbody tr th:only-of-type {\n        vertical-align: middle;\n    }\n\n    .dataframe tbody tr th {\n        vertical-align: top;\n    }\n\n    .dataframe thead th {\n        text-align: right;\n    }\n</style>\n<table border=\"1\" class=\"dataframe\">\n  <thead>\n    <tr style=\"text-align: right;\">\n      <th></th>\n      <th>Instrument</th>\n      <th>Date</th>\n      <th>Revenue - Actual</th>\n      <th>Enterprise Value</th>\n      <th>Earnings Per Share - Actual</th>\n      <th>Earnings Per Share - Mean</th>\n      <th>Earnings Per Share - SmartEstimate®</th>\n      <th>Earnings Per Share - Actual Surprise</th>\n      <th>Number of Analysts</th>\n      <th>Recommendation - Mean (1-5)</th>\n      <th>WACC Inflation Adjusted Risk Free Rate, (%)</th>\n    </tr>\n  </thead>\n  <tbody>\n    <tr>\n      <th>0</th>\n      <td>POOL.OQ</td>\n      <td>2022-10-20 07:00:00+00:00</td>\n      <td>1615339000.0</td>\n      <td>14061600372.299999</td>\n      <td>4.78</td>\n      <td>4.56</td>\n      <td>4.55802</td>\n      <td>4.825</td>\n      <td>10</td>\n      <td>2.27273</td>\n      <td>3.831224</td>\n    </tr>\n    <tr>\n      <th>1</th>\n      <td>POOL.OQ</td>\n      <td>2022-07-21 07:00:00+00:00</td>\n      <td>2055818000.0</td>\n      <td>15561870705.290001</td>\n      <td>7.63</td>\n      <td>7.517</td>\n      <td>7.54885</td>\n      <td>1.503</td>\n      <td>9</td>\n      <td>2.2</td>\n      <td>3.747421</td>\n    </tr>\n    <tr>\n      <th>2</th>\n      <td>POOL.OQ</td>\n      <td>2022-04-21 07:00:00+00:00</td>\n      <td>1412650000.0</td>\n      <td>18436823034.200001</td>\n      <td>4.23</td>\n      <td>3.14867</td>\n      <td>3.15428</td>\n      <td>34.342</td>\n      <td>9</td>\n      <td>2.0</td>\n      <td>3.092855</td>\n    </tr>\n    <tr>\n      <th>3</th>\n      <td>POOL.OQ</td>\n      <td>2022-02-17 07:00:00+00:00</td>\n      <td>1035557000.0</td>\n      <td>23848820586.0</td>\n      <td>2.63</td>\n      <td>1.875</td>\n      <td>1.88052</td>\n      <td>40.267</td>\n      <td>8</td>\n      <td>2.3</td>\n      <td>2.325202</td>\n    </tr>\n    <tr>\n      <th>4</th>\n      <td>POOL.OQ</td>\n      <td>2021-10-21 07:00:00+00:00</td>\n      <td>1411448000.0</td>\n      <td>17699543822.66</td>\n      <td>4.51</td>\n      <td>3.84833</td>\n      <td>3.86379</td>\n      <td>17.194</td>\n      <td>8</td>\n      <td>2.3</td>\n      <td>1.515266</td>\n    </tr>\n    <tr>\n      <th>...</th>\n      <td>...</td>\n      <td>...</td>\n      <td>...</td>\n      <td>...</td>\n      <td>...</td>\n      <td>...</td>\n      <td>...</td>\n      <td>...</td>\n      <td>...</td>\n      <td>...</td>\n      <td>...</td>\n    </tr>\n    <tr>\n      <th>3013</th>\n      <td>AVY.N</td>\n      <td>2022-10-26 06:45:00+00:00</td>\n      <td>2317100000.0</td>\n      <td>16225017418.9</td>\n      <td>2.46</td>\n      <td>2.46323</td>\n      <td>2.46223</td>\n      <td>-0.131</td>\n      <td>13</td>\n      <td>2.14286</td>\n      <td>3.747421</td>\n    </tr>\n    <tr>\n      <th>3014</th>\n      <td>AVY.N</td>\n      <td>2022-07-27 06:45:00+00:00</td>\n      <td>2347000000.0</td>\n      <td>16504297189.84</td>\n      <td>2.64</td>\n      <td>2.36485</td>\n      <td>2.38256</td>\n      <td>11.635</td>\n      <td>13</td>\n      <td>2.0</td>\n      <td>3.092855</td>\n    </tr>\n    <tr>\n      <th>3015</th>\n      <td>AVY.N</td>\n      <td>2022-04-26 06:45:00+00:00</td>\n      <td>2349300000.0</td>\n      <td>17537077488.32</td>\n      <td>2.4</td>\n      <td>2.17008</td>\n      <td>2.16901</td>\n      <td>10.595</td>\n      <td>12</td>\n      <td>2.06667</td>\n      <td>2.325202</td>\n    </tr>\n    <tr>\n      <th>3016</th>\n      <td>AVY.N</td>\n      <td>2022-02-02 06:45:00+00:00</td>\n      <td>2183200000.0</td>\n      <td>20873039410.310001</td>\n      <td>2.13</td>\n      <td>2.12375</td>\n      <td>2.12724</td>\n      <td>0.294</td>\n      <td>12</td>\n      <td>2.14286</td>\n      <td>1.515266</td>\n    </tr>\n    <tr>\n      <th>3017</th>\n      <td>AVY.N</td>\n      <td>2021-10-27 06:45:00+00:00</td>\n      <td>2071800000.0</td>\n      <td>20368219272.799999</td>\n      <td>2.14</td>\n      <td>2.0423</td>\n      <td>2.05616</td>\n      <td>4.784</td>\n      <td>11</td>\n      <td>2.15385</td>\n      <td>1.527139</td>\n    </tr>\n  </tbody>\n</table>\n<p>3018 rows × 11 columns</p>\n</div>"
     },
     "execution_count": 41,
     "metadata": {},
     "output_type": "execute_result"
    }
   ],
   "source": [
    "df"
   ],
   "metadata": {
    "collapsed": false
   }
  },
  {
   "cell_type": "code",
   "execution_count": 42,
   "outputs": [
    {
     "data": {
      "text/plain": "1.343424366478545"
     },
     "execution_count": 42,
     "metadata": {},
     "output_type": "execute_result"
    }
   ],
   "source": [
    "4.23/3.14867"
   ],
   "metadata": {
    "collapsed": false
   }
  },
  {
   "cell_type": "code",
   "execution_count": 43,
   "outputs": [
    {
     "data": {
      "text/plain": "Instrument                                                  string\nDate                                           datetime64[ns, UTC]\nRevenue - Actual                                           Float64\nEnterprise Value                                           Float64\nEarnings Per Share - Actual                                Float64\nEarnings Per Share - Mean                                  Float64\nEarnings Per Share - SmartEstimate®                        Float64\nEarnings Per Share - Actual Surprise                       Float64\nNumber of Analysts                                           Int64\nRecommendation - Mean (1-5)                                Float64\nWACC Inflation Adjusted Risk Free Rate, (%)                Float64\ndtype: object"
     },
     "execution_count": 43,
     "metadata": {},
     "output_type": "execute_result"
    }
   ],
   "source": [
    "df.dtypes"
   ],
   "metadata": {
    "collapsed": false
   }
  },
  {
   "cell_type": "code",
   "execution_count": 43,
   "outputs": [],
   "source": [],
   "metadata": {
    "collapsed": false
   }
  },
  {
   "cell_type": "code",
   "execution_count": 43,
   "outputs": [],
   "source": [],
   "metadata": {
    "collapsed": false
   }
  },
  {
   "cell_type": "code",
   "execution_count": 43,
   "outputs": [],
   "source": [],
   "metadata": {
    "collapsed": false
   }
  }
 ],
 "metadata": {
  "kernelspec": {
   "display_name": "Python 3",
   "language": "python",
   "name": "python3"
  },
  "language_info": {
   "codemirror_mode": {
    "name": "ipython",
    "version": 2
   },
   "file_extension": ".py",
   "mimetype": "text/x-python",
   "name": "python",
   "nbconvert_exporter": "python",
   "pygments_lexer": "ipython2",
   "version": "2.7.6"
  }
 },
 "nbformat": 4,
 "nbformat_minor": 0
}
