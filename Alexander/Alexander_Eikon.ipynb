{
 "cells": [
  {
   "cell_type": "code",
   "execution_count": null,
   "outputs": [],
   "source": [
    "import eikon as ek\n",
    "import pandas as pd\n",
    "import numpy as np\n",
    "ek.set_app_key(\"69de0ce7c5e2468e90a6058ce79f6558ebe3ee30\")"
   ],
   "metadata": {
    "collapsed": false
   }
  },
  {
   "cell_type": "code",
   "execution_count": null,
   "outputs": [],
   "source": [
    "# df = ek.get_timeseries([\"MSFT.O\"],\n",
    "#                        start_date=\"2016-01-01\",\n",
    "#                        end_date=\"2019-01-10\")\n",
    "# df"
   ],
   "metadata": {
    "collapsed": false
   }
  },
  {
   "cell_type": "markdown",
   "source": [
    "https://developers.refinitiv.com/en/api-catalog/eikon/eikon-data-api/tutorials#fundamentals-api-rating-transition-matrix\n",
    "# Data Item Browser\n",
    "TR.CommonName\n",
    "TR.TRBCEconomicSector\n",
    "TR.F.EV enterprise value\n",
    "\n",
    "### Earnings\n",
    "\n",
    "EARNINGS - Latest reported earnings per share.\n",
    "\n",
    "TR.EPSActValue(Period=FY0) - The company's actual value normalized to reflect the I/B/E/S default currency and corporate actions (e.g. stock splits). Earnings Per Share is defined as the EPS that the contributing analyst considers to be that with which to value a security. This figure may include or exclude certain items depending on the contributing analyst's specific model.\n",
    "\n",
    "### Number of analysts\n",
    "\n",
    "TR.NumberOfAnalysts - Number of sell-side analysts covering the security.\n",
    "\n",
    "### Revising up or down\n",
    "\n",
    "TR.NumEstRevisingDown(Period=FY1) -\n",
    "TR.NumEstRevisingUp(Period=FY1) - A count of the number of analysts whose current estimate is higher than their estimate at a distinct point in the past. In the case of the number revising up in 30 days, for example, we compare the analyst's current estimate to his or her estimate 30 days prior to the data-through date. We do not count an analyst as revising up if, for example, her estimate 30 days ago was \\$1.00 and her current estimate is \\$1.00, even if she raised her estimate to \\$1.10 during the 30 day period and subsequently lowered it back to \\$1.00.\n",
    "\n",
    "TR.EPSAvgRevisionPct(Period=FY1) - The percent amount Of the average revision among those analysts who revised their estimates\n",
    "during the last 30 days.\n",
    "\n",
    "### EPS Surprise\n",
    "\n",
    "TR.EpsPreSurprisePct(Period=FY1) - The difference between the mean estimate and the SmartEstimate, expressed as a percentage. Earnings Per Share is defined as the EPS that the contributing analyst considers to be that with which to value a security. This figure may include or exclude certain items depending on the contributing analyst's specific model.\n",
    "\n",
    "TR.EPSActSurprise(Period=FY0) - The difference between the actual and the last mean of the period, expressed as a percentage. Earnings Per Share is defined as the EPS that the contributing analyst considers to be that with which to value a security. This figure may include or exclude certain items depending on the contributing analyst's specific model.\n",
    "\n",
    "TR.RecMean - Recommendation - Mean (1-5) - Recommendation Numeric Mean based on the Standard Scale Of Strong Buy (1 ), Buy (2), Hold (3), Sell (4), and Strong Sell (5).\n",
    "\n",
    "Management Score - TR.TRESGManagementScore - Management category score measures a company's commitment and effectiveness towards following best practice corporate governance principles.\n",
    "\n",
    "\n",
    "----- R.RevenueLIAccuracyScore(Period=FY1) - Revenue SmartEstimate Accuracy score - not good\n",
    "----- TR.EPSLIAccuracyScore(Period=FY1) - EPS SmartEstimate Accuracy score - not good\n"
   ],
   "metadata": {
    "collapsed": false
   }
  },
  {
   "cell_type": "code",
   "execution_count": null,
   "outputs": [],
   "source": [
    "economic_story = [\"TR.CommonName\", \"TR.TRBCEconomicSector\", \"TR.F.EV\", \"EARNINGS\", \"TR.EPSActValue\", \"TR.NumberOfAnalysts\", \"TR.NumOfRecommendations\", \"TR.EpsPreSurprisePct\", \"TR.EPSActSurprise\", \"TR.RecMean\", \"TR.TRESGManagementScore\"]"
   ],
   "metadata": {
    "collapsed": false
   }
  },
  {
   "cell_type": "markdown",
   "source": [
    "# Forecast Error\n",
    "1. Company Name\n",
    "2. Ticker\n",
    "3. Date\n",
    "4. earnings\n",
    "\n",
    "<img src=\"Screenshot 2023-02-15 185222.png\" width=500 height=300 />\n",
    "\n",
    "#"
   ],
   "metadata": {
    "collapsed": false
   }
  },
  {
   "cell_type": "code",
   "execution_count": 95,
   "outputs": [
    {
     "name": "stderr",
     "output_type": "stream",
     "text": [
      "C:\\Users\\alexa\\mambaforge\\envs\\AnalystForecast\\Lib\\site-packages\\pandas\\core\\dtypes\\cast.py:1134: RuntimeWarning: invalid value encountered in cast\n",
      "  if (arr.astype(int) == arr).all():\n",
      "C:\\Users\\alexa\\mambaforge\\envs\\AnalystForecast\\Lib\\site-packages\\pandas\\core\\dtypes\\cast.py:1153: RuntimeWarning: invalid value encountered in cast\n",
      "  if (arr.astype(int) == arr).all():\n"
     ]
    }
   ],
   "source": [
    "df2, e = ek.get_data('0#.SPX',['TR.RevenueActValue.date', 'TR.RevenueActValue', 'TR.EPSActValue', \"TR.EPSMean\", \"TR.EpsSmartEst\", \"TR.EPSActSurprise\", \"TR.NumberOfAnalysts\", \"TR.RecMean\"],parameters = {'SDate':'0','EDate':'-10','Period':'FQ0','Frq':'FQ'})\n"
   ],
   "metadata": {
    "collapsed": false
   }
  },
  {
   "cell_type": "code",
   "execution_count": 96,
   "outputs": [
    {
     "data": {
      "text/plain": "     Instrument                  Date  Revenue - Actual  \\\n0       POOL.OQ  2022-10-20T07:00:00Z      1615339000.0   \n1       POOL.OQ  2022-07-21T07:00:00Z      2055818000.0   \n2       POOL.OQ  2022-04-21T07:00:00Z      1412650000.0   \n3       POOL.OQ  2022-02-17T07:00:00Z      1035557000.0   \n4       POOL.OQ  2021-10-21T07:00:00Z      1411448000.0   \n...         ...                   ...               ...   \n5518      AVY.N  2021-07-28T06:45:00Z      2102000000.0   \n5519      AVY.N  2021-04-28T06:45:00Z      2051300000.0   \n5520      AVY.N  2021-02-03T06:45:00Z      1990900000.0   \n5521      AVY.N  2020-10-21T06:45:00Z      1729100000.0   \n5522      AVY.N  2020-07-27T06:46:00Z      1528500000.0   \n\n      Earnings Per Share - Actual  Earnings Per Share - Mean  \\\n0                            4.78                       4.56   \n1                            7.63                      7.517   \n2                            4.23                    3.14867   \n3                            2.63                      1.875   \n4                            4.51                    3.84833   \n...                           ...                        ...   \n5518                         2.25                    2.05744   \n5519                          2.4                     2.0288   \n5520                         2.27                    2.08642   \n5521                         1.91                    1.52673   \n5522                         1.27                    1.13433   \n\n      Earnings Per Share - SmartEstimate®  \\\n0                                 4.55802   \n1                                 7.54885   \n2                                 3.15428   \n3                                 1.88052   \n4                                 3.86379   \n...                                   ...   \n5518                               2.0713   \n5519                              2.04939   \n5520                              2.11371   \n5521                              1.55755   \n5522                              1.15893   \n\n      Earnings Per Share - Actual Surprise  Number of Analysts  \\\n0                                    4.825                  10   \n1                                    1.503                   9   \n2                                   34.342                   9   \n3                                   40.267                   8   \n4                                   17.194                   8   \n...                                    ...                 ...   \n5518                                 9.359                  11   \n5519                                18.297                  11   \n5520                                 8.799                  12   \n5521                                25.104                  12   \n5522                                 11.96                  12   \n\n      Recommendation - Mean (1-5)  \n0                         2.27273  \n1                             2.2  \n2                             2.0  \n3                             2.3  \n4                             2.3  \n...                           ...  \n5518                      2.15385  \n5519                      2.14286  \n5520                      2.21429  \n5521                      2.35714  \n5522                      2.42857  \n\n[5523 rows x 9 columns]",
      "text/html": "<div>\n<style scoped>\n    .dataframe tbody tr th:only-of-type {\n        vertical-align: middle;\n    }\n\n    .dataframe tbody tr th {\n        vertical-align: top;\n    }\n\n    .dataframe thead th {\n        text-align: right;\n    }\n</style>\n<table border=\"1\" class=\"dataframe\">\n  <thead>\n    <tr style=\"text-align: right;\">\n      <th></th>\n      <th>Instrument</th>\n      <th>Date</th>\n      <th>Revenue - Actual</th>\n      <th>Earnings Per Share - Actual</th>\n      <th>Earnings Per Share - Mean</th>\n      <th>Earnings Per Share - SmartEstimate®</th>\n      <th>Earnings Per Share - Actual Surprise</th>\n      <th>Number of Analysts</th>\n      <th>Recommendation - Mean (1-5)</th>\n    </tr>\n  </thead>\n  <tbody>\n    <tr>\n      <th>0</th>\n      <td>POOL.OQ</td>\n      <td>2022-10-20T07:00:00Z</td>\n      <td>1615339000.0</td>\n      <td>4.78</td>\n      <td>4.56</td>\n      <td>4.55802</td>\n      <td>4.825</td>\n      <td>10</td>\n      <td>2.27273</td>\n    </tr>\n    <tr>\n      <th>1</th>\n      <td>POOL.OQ</td>\n      <td>2022-07-21T07:00:00Z</td>\n      <td>2055818000.0</td>\n      <td>7.63</td>\n      <td>7.517</td>\n      <td>7.54885</td>\n      <td>1.503</td>\n      <td>9</td>\n      <td>2.2</td>\n    </tr>\n    <tr>\n      <th>2</th>\n      <td>POOL.OQ</td>\n      <td>2022-04-21T07:00:00Z</td>\n      <td>1412650000.0</td>\n      <td>4.23</td>\n      <td>3.14867</td>\n      <td>3.15428</td>\n      <td>34.342</td>\n      <td>9</td>\n      <td>2.0</td>\n    </tr>\n    <tr>\n      <th>3</th>\n      <td>POOL.OQ</td>\n      <td>2022-02-17T07:00:00Z</td>\n      <td>1035557000.0</td>\n      <td>2.63</td>\n      <td>1.875</td>\n      <td>1.88052</td>\n      <td>40.267</td>\n      <td>8</td>\n      <td>2.3</td>\n    </tr>\n    <tr>\n      <th>4</th>\n      <td>POOL.OQ</td>\n      <td>2021-10-21T07:00:00Z</td>\n      <td>1411448000.0</td>\n      <td>4.51</td>\n      <td>3.84833</td>\n      <td>3.86379</td>\n      <td>17.194</td>\n      <td>8</td>\n      <td>2.3</td>\n    </tr>\n    <tr>\n      <th>...</th>\n      <td>...</td>\n      <td>...</td>\n      <td>...</td>\n      <td>...</td>\n      <td>...</td>\n      <td>...</td>\n      <td>...</td>\n      <td>...</td>\n      <td>...</td>\n    </tr>\n    <tr>\n      <th>5518</th>\n      <td>AVY.N</td>\n      <td>2021-07-28T06:45:00Z</td>\n      <td>2102000000.0</td>\n      <td>2.25</td>\n      <td>2.05744</td>\n      <td>2.0713</td>\n      <td>9.359</td>\n      <td>11</td>\n      <td>2.15385</td>\n    </tr>\n    <tr>\n      <th>5519</th>\n      <td>AVY.N</td>\n      <td>2021-04-28T06:45:00Z</td>\n      <td>2051300000.0</td>\n      <td>2.4</td>\n      <td>2.0288</td>\n      <td>2.04939</td>\n      <td>18.297</td>\n      <td>11</td>\n      <td>2.14286</td>\n    </tr>\n    <tr>\n      <th>5520</th>\n      <td>AVY.N</td>\n      <td>2021-02-03T06:45:00Z</td>\n      <td>1990900000.0</td>\n      <td>2.27</td>\n      <td>2.08642</td>\n      <td>2.11371</td>\n      <td>8.799</td>\n      <td>12</td>\n      <td>2.21429</td>\n    </tr>\n    <tr>\n      <th>5521</th>\n      <td>AVY.N</td>\n      <td>2020-10-21T06:45:00Z</td>\n      <td>1729100000.0</td>\n      <td>1.91</td>\n      <td>1.52673</td>\n      <td>1.55755</td>\n      <td>25.104</td>\n      <td>12</td>\n      <td>2.35714</td>\n    </tr>\n    <tr>\n      <th>5522</th>\n      <td>AVY.N</td>\n      <td>2020-07-27T06:46:00Z</td>\n      <td>1528500000.0</td>\n      <td>1.27</td>\n      <td>1.13433</td>\n      <td>1.15893</td>\n      <td>11.96</td>\n      <td>12</td>\n      <td>2.42857</td>\n    </tr>\n  </tbody>\n</table>\n<p>5523 rows × 9 columns</p>\n</div>"
     },
     "execution_count": 96,
     "metadata": {},
     "output_type": "execute_result"
    }
   ],
   "source": [
    "df2"
   ],
   "metadata": {
    "collapsed": false
   }
  },
  {
   "cell_type": "code",
   "execution_count": 86,
   "outputs": [
    {
     "data": {
      "text/plain": "1.343424366478545"
     },
     "execution_count": 86,
     "metadata": {},
     "output_type": "execute_result"
    }
   ],
   "source": [
    "4.23/3.14867"
   ],
   "metadata": {
    "collapsed": false
   }
  },
  {
   "cell_type": "code",
   "execution_count": null,
   "outputs": [],
   "source": [],
   "metadata": {
    "collapsed": false
   }
  }
 ],
 "metadata": {
  "kernelspec": {
   "display_name": "Python 3",
   "language": "python",
   "name": "python3"
  },
  "language_info": {
   "codemirror_mode": {
    "name": "ipython",
    "version": 2
   },
   "file_extension": ".py",
   "mimetype": "text/x-python",
   "name": "python",
   "nbconvert_exporter": "python",
   "pygments_lexer": "ipython2",
   "version": "2.7.6"
  }
 },
 "nbformat": 4,
 "nbformat_minor": 0
}
