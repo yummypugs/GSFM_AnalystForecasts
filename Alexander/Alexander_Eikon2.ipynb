{
 "cells": [
  {
   "cell_type": "code",
   "execution_count": 12,
   "outputs": [],
   "source": [
    "import eikon as ek\n",
    "import pandas as pd\n",
    "import numpy as np\n",
    "import datetime\n",
    "ek.set_app_key(\"69de0ce7c5e2468e90a6058ce79f6558ebe3ee30\")"
   ],
   "metadata": {
    "collapsed": false
   }
  },
  {
   "cell_type": "markdown",
   "source": [
    "https://community.developers.refinitiv.com/questions/73493/get-eps-historical-data-for-stocks.html"
   ],
   "metadata": {
    "collapsed": false
   }
  },
  {
   "cell_type": "code",
   "execution_count": 28,
   "outputs": [],
   "source": [
    "economic_story = ['TR.RevenueActValue.date', 'TR.RevenueActValue', \"TR.F.EV\", 'TR.EPSActValue', \"TR.EPSMean\", \"TR.EpsSmartEst\", \"TR.EPSActSurprise\", \"TR.NumberOfAnalysts\", \"TR.RecMean\"]\n",
    "#[\"TR.TRBCEconomicSector\", \"TR.F.EV\", \"TR.EPSActValue\", \"TR.NumberOfAnalysts\", \"TR.NumOfRecommendations\", \"TR.EpsPreSurprisePct\", \"TR.EPSActSurprise\", \"TR.RecMean\", \"TR.TRESGManagementScore\"]"
   ],
   "metadata": {
    "collapsed": false
   }
  },
  {
   "cell_type": "markdown",
   "source": [
    "TR.RevenueActValue.date - prints the datetime\n",
    "\n",
    "TR.RevenueActValue - The company's actual value normalized to reflect the I/B/E/S default currency and corporate actions (e.g. stock splits). Earnings Per Share is defined as the EPS that the contributing analyst considers to be that with which to value a security. This figure may include or exclude certain items depending on the contributing analyst's specific model.\n",
    "\n",
    "TR.F.EV - Enterprise Value is the Company's total economic value OR the theoretical takeover price, often used as an alternative to market capitalization. Enterprise Value represents Market Capitalization TR.F.MktCap + Debt including Preferred Equity & Minority Interest - Total [TR.F.DebtlnclPrefEqMinlntrTot] (-) Cash & Short Term Investments - Total [TR.F.CashSTlnvstTot]. Market Capitalization [TR.F.MktCap] is required. The data item is calculated for all periodicities. It is applicable to all industries.\n",
    "\n",
    "TR.EPSActValue - The company's actual value normalized to reflect the I/B/E/S default currency and corporate actions (e.g. stock splits). Earnings Per Share is defined as the EPS that the contributing analyst considers to be that with which to value a security. This figure may include or exclude certain items depending on the contributing analyst's specific model.\n",
    "\n",
    "TR.EPSMean - The statistical average Of all broker estimates determined to be on the majority accounting basis. Earnings Per Share is defined as the EPS that the contributing analyst considers to be that with which to value a security. This figure may include or exclude certain items depending on the contributing analyst's specific model.\n",
    "\n",
    "TR.EpsSmartEst - The SmartEstimate@ is an indicator of future earnings that improves upon the accuracy of the mean estimate by placing a higher weight on recent forecasts and on top-rated analysts. Earnings Per Share is defined as the EPS that the contributing analyst considers to be that with which to value a security. This figure may include or exclude certain items depending on the contributing analyst's specific model.\n",
    "\n",
    "TR.EPSActSurprise - The difference between the actual and the last mean of the period, expressed as a percentage. Earnings Per Share is defined as the EPS that the contributing analyst considers to be that with which to value a security. This figure may include or exclude certain items depending on the contributing analyst's specific model.\n",
    "\n",
    "TR.NumberOfAnalysts - Number of sell-side analysts covering the security.\n",
    "\n",
    "TR.RecMean - Recommendation Numeric Mean based on the Standard Scale Of Strong Buy (1 ), Buy (2), Hold (3), Sell (4), and Strong Sell (5)."
   ],
   "metadata": {
    "collapsed": false
   }
  },
  {
   "cell_type": "markdown",
   "source": [
    "# Forecast Error\n",
    "1. Company Name\n",
    "2. Ticker\n",
    "3. Date\n",
    "4. earnings\n",
    "\n",
    "<img src=\"Screenshot 2023-02-15 185222.png\" width=500 height=300 />\n",
    "\n",
    "#"
   ],
   "metadata": {
    "collapsed": false
   }
  },
  {
   "cell_type": "code",
   "execution_count": 29,
   "outputs": [
    {
     "name": "stderr",
     "output_type": "stream",
     "text": [
      "C:\\Users\\alexa\\mambaforge\\envs\\AnalystForecast\\Lib\\site-packages\\pandas\\core\\dtypes\\cast.py:1134: RuntimeWarning: invalid value encountered in cast\n",
      "  if (arr.astype(int) == arr).all():\n",
      "C:\\Users\\alexa\\mambaforge\\envs\\AnalystForecast\\Lib\\site-packages\\pandas\\core\\dtypes\\cast.py:1153: RuntimeWarning: invalid value encountered in cast\n",
      "  if (arr.astype(int) == arr).all():\n"
     ]
    }
   ],
   "source": [
    "df, e = ek.get_data('0#.SPX',economic_story, parameters = {'SDate':'0','EDate':'-5','Period':'FQ0','Frq':'FQ'})"
   ],
   "metadata": {
    "collapsed": false
   }
  },
  {
   "cell_type": "code",
   "execution_count": 30,
   "outputs": [
    {
     "data": {
      "text/plain": "     Instrument                      Date  Revenue - Actual  \\\n0       POOL.OQ 2022-10-20 07:00:00+00:00      1615339000.0   \n1       POOL.OQ 2022-07-21 07:00:00+00:00      2055818000.0   \n2       POOL.OQ 2022-04-21 07:00:00+00:00      1412650000.0   \n3       POOL.OQ 2022-02-17 07:00:00+00:00      1035557000.0   \n4       POOL.OQ 2021-10-21 07:00:00+00:00      1411448000.0   \n...         ...                       ...               ...   \n3013      AVY.N 2022-10-26 06:45:00+00:00      2317100000.0   \n3014      AVY.N 2022-07-27 06:45:00+00:00      2347000000.0   \n3015      AVY.N 2022-04-26 06:45:00+00:00      2349300000.0   \n3016      AVY.N 2022-02-02 06:45:00+00:00      2183200000.0   \n3017      AVY.N 2021-10-27 06:45:00+00:00      2071800000.0   \n\n        Enterprise Value  Earnings Per Share - Actual  \\\n0     14061600372.299999                         4.78   \n1     15561870705.290001                         7.63   \n2     18436823034.200001                         4.23   \n3          23848820586.0                         2.63   \n4         17699543822.66                         4.51   \n...                  ...                          ...   \n3013       16225017418.9                         2.46   \n3014      16504297189.84                         2.64   \n3015      17537077488.32                          2.4   \n3016  20873039410.310001                         2.13   \n3017  20368219272.799999                         2.14   \n\n      Earnings Per Share - Mean  Earnings Per Share - SmartEstimate®  \\\n0                          4.56                              4.55802   \n1                         7.517                              7.54885   \n2                       3.14867                              3.15428   \n3                         1.875                              1.88052   \n4                       3.84833                              3.86379   \n...                         ...                                  ...   \n3013                    2.46323                              2.46223   \n3014                    2.36485                              2.38256   \n3015                    2.17008                              2.16901   \n3016                    2.12375                              2.12724   \n3017                     2.0423                              2.05616   \n\n      Earnings Per Share - Actual Surprise  Number of Analysts  \\\n0                                    4.825                  10   \n1                                    1.503                   9   \n2                                   34.342                   9   \n3                                   40.267                   8   \n4                                   17.194                   8   \n...                                    ...                 ...   \n3013                                -0.131                  13   \n3014                                11.635                  13   \n3015                                10.595                  12   \n3016                                 0.294                  12   \n3017                                 4.784                  11   \n\n      Recommendation - Mean (1-5)  \n0                         2.27273  \n1                             2.2  \n2                             2.0  \n3                             2.3  \n4                             2.3  \n...                           ...  \n3013                      2.14286  \n3014                          2.0  \n3015                      2.06667  \n3016                      2.14286  \n3017                      2.15385  \n\n[3018 rows x 10 columns]",
      "text/html": "<div>\n<style scoped>\n    .dataframe tbody tr th:only-of-type {\n        vertical-align: middle;\n    }\n\n    .dataframe tbody tr th {\n        vertical-align: top;\n    }\n\n    .dataframe thead th {\n        text-align: right;\n    }\n</style>\n<table border=\"1\" class=\"dataframe\">\n  <thead>\n    <tr style=\"text-align: right;\">\n      <th></th>\n      <th>Instrument</th>\n      <th>Date</th>\n      <th>Revenue - Actual</th>\n      <th>Enterprise Value</th>\n      <th>Earnings Per Share - Actual</th>\n      <th>Earnings Per Share - Mean</th>\n      <th>Earnings Per Share - SmartEstimate®</th>\n      <th>Earnings Per Share - Actual Surprise</th>\n      <th>Number of Analysts</th>\n      <th>Recommendation - Mean (1-5)</th>\n    </tr>\n  </thead>\n  <tbody>\n    <tr>\n      <th>0</th>\n      <td>POOL.OQ</td>\n      <td>2022-10-20 07:00:00+00:00</td>\n      <td>1615339000.0</td>\n      <td>14061600372.299999</td>\n      <td>4.78</td>\n      <td>4.56</td>\n      <td>4.55802</td>\n      <td>4.825</td>\n      <td>10</td>\n      <td>2.27273</td>\n    </tr>\n    <tr>\n      <th>1</th>\n      <td>POOL.OQ</td>\n      <td>2022-07-21 07:00:00+00:00</td>\n      <td>2055818000.0</td>\n      <td>15561870705.290001</td>\n      <td>7.63</td>\n      <td>7.517</td>\n      <td>7.54885</td>\n      <td>1.503</td>\n      <td>9</td>\n      <td>2.2</td>\n    </tr>\n    <tr>\n      <th>2</th>\n      <td>POOL.OQ</td>\n      <td>2022-04-21 07:00:00+00:00</td>\n      <td>1412650000.0</td>\n      <td>18436823034.200001</td>\n      <td>4.23</td>\n      <td>3.14867</td>\n      <td>3.15428</td>\n      <td>34.342</td>\n      <td>9</td>\n      <td>2.0</td>\n    </tr>\n    <tr>\n      <th>3</th>\n      <td>POOL.OQ</td>\n      <td>2022-02-17 07:00:00+00:00</td>\n      <td>1035557000.0</td>\n      <td>23848820586.0</td>\n      <td>2.63</td>\n      <td>1.875</td>\n      <td>1.88052</td>\n      <td>40.267</td>\n      <td>8</td>\n      <td>2.3</td>\n    </tr>\n    <tr>\n      <th>4</th>\n      <td>POOL.OQ</td>\n      <td>2021-10-21 07:00:00+00:00</td>\n      <td>1411448000.0</td>\n      <td>17699543822.66</td>\n      <td>4.51</td>\n      <td>3.84833</td>\n      <td>3.86379</td>\n      <td>17.194</td>\n      <td>8</td>\n      <td>2.3</td>\n    </tr>\n    <tr>\n      <th>...</th>\n      <td>...</td>\n      <td>...</td>\n      <td>...</td>\n      <td>...</td>\n      <td>...</td>\n      <td>...</td>\n      <td>...</td>\n      <td>...</td>\n      <td>...</td>\n      <td>...</td>\n    </tr>\n    <tr>\n      <th>3013</th>\n      <td>AVY.N</td>\n      <td>2022-10-26 06:45:00+00:00</td>\n      <td>2317100000.0</td>\n      <td>16225017418.9</td>\n      <td>2.46</td>\n      <td>2.46323</td>\n      <td>2.46223</td>\n      <td>-0.131</td>\n      <td>13</td>\n      <td>2.14286</td>\n    </tr>\n    <tr>\n      <th>3014</th>\n      <td>AVY.N</td>\n      <td>2022-07-27 06:45:00+00:00</td>\n      <td>2347000000.0</td>\n      <td>16504297189.84</td>\n      <td>2.64</td>\n      <td>2.36485</td>\n      <td>2.38256</td>\n      <td>11.635</td>\n      <td>13</td>\n      <td>2.0</td>\n    </tr>\n    <tr>\n      <th>3015</th>\n      <td>AVY.N</td>\n      <td>2022-04-26 06:45:00+00:00</td>\n      <td>2349300000.0</td>\n      <td>17537077488.32</td>\n      <td>2.4</td>\n      <td>2.17008</td>\n      <td>2.16901</td>\n      <td>10.595</td>\n      <td>12</td>\n      <td>2.06667</td>\n    </tr>\n    <tr>\n      <th>3016</th>\n      <td>AVY.N</td>\n      <td>2022-02-02 06:45:00+00:00</td>\n      <td>2183200000.0</td>\n      <td>20873039410.310001</td>\n      <td>2.13</td>\n      <td>2.12375</td>\n      <td>2.12724</td>\n      <td>0.294</td>\n      <td>12</td>\n      <td>2.14286</td>\n    </tr>\n    <tr>\n      <th>3017</th>\n      <td>AVY.N</td>\n      <td>2021-10-27 06:45:00+00:00</td>\n      <td>2071800000.0</td>\n      <td>20368219272.799999</td>\n      <td>2.14</td>\n      <td>2.0423</td>\n      <td>2.05616</td>\n      <td>4.784</td>\n      <td>11</td>\n      <td>2.15385</td>\n    </tr>\n  </tbody>\n</table>\n<p>3018 rows × 10 columns</p>\n</div>"
     },
     "execution_count": 30,
     "metadata": {},
     "output_type": "execute_result"
    }
   ],
   "source": [
    "df[\"Date\"] = pd.to_datetime(df[\"Date\"])\n",
    "df"
   ],
   "metadata": {
    "collapsed": false
   }
  },
  {
   "cell_type": "code",
   "execution_count": 86,
   "outputs": [
    {
     "data": {
      "text/plain": "1.343424366478545"
     },
     "execution_count": 86,
     "metadata": {},
     "output_type": "execute_result"
    }
   ],
   "source": [
    "4.23/3.14867"
   ],
   "metadata": {
    "collapsed": false
   }
  },
  {
   "cell_type": "code",
   "execution_count": 10,
   "outputs": [
    {
     "data": {
      "text/plain": "Instrument                               string\nDate                                     string\nRevenue - Actual                        Float64\nEnterprise Value                        Float64\nEarnings Per Share - Actual             Float64\nEarnings Per Share - Mean               Float64\nEarnings Per Share - SmartEstimate®     Float64\nEarnings Per Share - Actual Surprise    Float64\nNumber of Analysts                        Int64\nRecommendation - Number Of Total          Int64\nRecommendation - Mean (1-5)             Float64\ndtype: object"
     },
     "execution_count": 10,
     "metadata": {},
     "output_type": "execute_result"
    }
   ],
   "source": [
    "df.dtypes"
   ],
   "metadata": {
    "collapsed": false
   }
  },
  {
   "cell_type": "code",
   "execution_count": 14,
   "outputs": [
    {
     "data": {
      "text/plain": "     Instrument                      Date  Revenue - Actual  \\\n0       POOL.OQ 2022-10-20 07:00:00+00:00      1615339000.0   \n1       POOL.OQ 2022-07-21 07:00:00+00:00      2055818000.0   \n2       POOL.OQ 2022-04-21 07:00:00+00:00      1412650000.0   \n3       POOL.OQ 2022-02-17 07:00:00+00:00      1035557000.0   \n4       POOL.OQ 2021-10-21 07:00:00+00:00      1411448000.0   \n...         ...                       ...               ...   \n5528      AVY.N 2021-07-28 06:45:00+00:00      2102000000.0   \n5529      AVY.N 2021-04-28 06:45:00+00:00      2051300000.0   \n5530      AVY.N 2021-02-03 06:45:00+00:00      1990900000.0   \n5531      AVY.N 2020-10-21 06:45:00+00:00      1729100000.0   \n5532      AVY.N 2020-07-27 06:46:00+00:00      1528500000.0   \n\n        Enterprise Value  Earnings Per Share - Actual  \\\n0     14061600372.299999                         4.78   \n1     15561870705.290001                         7.63   \n2     18436823034.200001                         4.23   \n3          23848820586.0                         2.63   \n4         17699543822.66                         4.51   \n...                  ...                          ...   \n5528  19132322317.099998                         2.25   \n5529  17428269089.919998                          2.4   \n5530      14803422859.42                         2.27   \n5531       11816435091.5                         1.91   \n5532  11156836044.049999                         1.27   \n\n      Earnings Per Share - Mean  Earnings Per Share - SmartEstimate®  \\\n0                          4.56                              4.55802   \n1                         7.517                              7.54885   \n2                       3.14867                              3.15428   \n3                         1.875                              1.88052   \n4                       3.84833                              3.86379   \n...                         ...                                  ...   \n5528                    2.05744                               2.0713   \n5529                     2.0288                              2.04939   \n5530                    2.08642                              2.11371   \n5531                    1.52673                              1.55755   \n5532                    1.13433                              1.15893   \n\n      Earnings Per Share - Actual Surprise  Number of Analysts  \\\n0                                    4.825                  10   \n1                                    1.503                   9   \n2                                   34.342                   9   \n3                                   40.267                   8   \n4                                   17.194                   8   \n...                                    ...                 ...   \n5528                                 9.359                  11   \n5529                                18.297                  11   \n5530                                 8.799                  12   \n5531                                25.104                  12   \n5532                                 11.96                  12   \n\n      Recommendation - Number Of Total  Recommendation - Mean (1-5)  \n0                                   11                      2.27273  \n1                                   10                          2.2  \n2                                   11                          2.0  \n3                                   10                          2.3  \n4                                   10                          2.3  \n...                                ...                          ...  \n5528                                13                      2.15385  \n5529                                14                      2.14286  \n5530                                14                      2.21429  \n5531                                14                      2.35714  \n5532                                14                      2.42857  \n\n[5533 rows x 11 columns]",
      "text/html": "<div>\n<style scoped>\n    .dataframe tbody tr th:only-of-type {\n        vertical-align: middle;\n    }\n\n    .dataframe tbody tr th {\n        vertical-align: top;\n    }\n\n    .dataframe thead th {\n        text-align: right;\n    }\n</style>\n<table border=\"1\" class=\"dataframe\">\n  <thead>\n    <tr style=\"text-align: right;\">\n      <th></th>\n      <th>Instrument</th>\n      <th>Date</th>\n      <th>Revenue - Actual</th>\n      <th>Enterprise Value</th>\n      <th>Earnings Per Share - Actual</th>\n      <th>Earnings Per Share - Mean</th>\n      <th>Earnings Per Share - SmartEstimate®</th>\n      <th>Earnings Per Share - Actual Surprise</th>\n      <th>Number of Analysts</th>\n      <th>Recommendation - Number Of Total</th>\n      <th>Recommendation - Mean (1-5)</th>\n    </tr>\n  </thead>\n  <tbody>\n    <tr>\n      <th>0</th>\n      <td>POOL.OQ</td>\n      <td>2022-10-20 07:00:00+00:00</td>\n      <td>1615339000.0</td>\n      <td>14061600372.299999</td>\n      <td>4.78</td>\n      <td>4.56</td>\n      <td>4.55802</td>\n      <td>4.825</td>\n      <td>10</td>\n      <td>11</td>\n      <td>2.27273</td>\n    </tr>\n    <tr>\n      <th>1</th>\n      <td>POOL.OQ</td>\n      <td>2022-07-21 07:00:00+00:00</td>\n      <td>2055818000.0</td>\n      <td>15561870705.290001</td>\n      <td>7.63</td>\n      <td>7.517</td>\n      <td>7.54885</td>\n      <td>1.503</td>\n      <td>9</td>\n      <td>10</td>\n      <td>2.2</td>\n    </tr>\n    <tr>\n      <th>2</th>\n      <td>POOL.OQ</td>\n      <td>2022-04-21 07:00:00+00:00</td>\n      <td>1412650000.0</td>\n      <td>18436823034.200001</td>\n      <td>4.23</td>\n      <td>3.14867</td>\n      <td>3.15428</td>\n      <td>34.342</td>\n      <td>9</td>\n      <td>11</td>\n      <td>2.0</td>\n    </tr>\n    <tr>\n      <th>3</th>\n      <td>POOL.OQ</td>\n      <td>2022-02-17 07:00:00+00:00</td>\n      <td>1035557000.0</td>\n      <td>23848820586.0</td>\n      <td>2.63</td>\n      <td>1.875</td>\n      <td>1.88052</td>\n      <td>40.267</td>\n      <td>8</td>\n      <td>10</td>\n      <td>2.3</td>\n    </tr>\n    <tr>\n      <th>4</th>\n      <td>POOL.OQ</td>\n      <td>2021-10-21 07:00:00+00:00</td>\n      <td>1411448000.0</td>\n      <td>17699543822.66</td>\n      <td>4.51</td>\n      <td>3.84833</td>\n      <td>3.86379</td>\n      <td>17.194</td>\n      <td>8</td>\n      <td>10</td>\n      <td>2.3</td>\n    </tr>\n    <tr>\n      <th>...</th>\n      <td>...</td>\n      <td>...</td>\n      <td>...</td>\n      <td>...</td>\n      <td>...</td>\n      <td>...</td>\n      <td>...</td>\n      <td>...</td>\n      <td>...</td>\n      <td>...</td>\n      <td>...</td>\n    </tr>\n    <tr>\n      <th>5528</th>\n      <td>AVY.N</td>\n      <td>2021-07-28 06:45:00+00:00</td>\n      <td>2102000000.0</td>\n      <td>19132322317.099998</td>\n      <td>2.25</td>\n      <td>2.05744</td>\n      <td>2.0713</td>\n      <td>9.359</td>\n      <td>11</td>\n      <td>13</td>\n      <td>2.15385</td>\n    </tr>\n    <tr>\n      <th>5529</th>\n      <td>AVY.N</td>\n      <td>2021-04-28 06:45:00+00:00</td>\n      <td>2051300000.0</td>\n      <td>17428269089.919998</td>\n      <td>2.4</td>\n      <td>2.0288</td>\n      <td>2.04939</td>\n      <td>18.297</td>\n      <td>11</td>\n      <td>14</td>\n      <td>2.14286</td>\n    </tr>\n    <tr>\n      <th>5530</th>\n      <td>AVY.N</td>\n      <td>2021-02-03 06:45:00+00:00</td>\n      <td>1990900000.0</td>\n      <td>14803422859.42</td>\n      <td>2.27</td>\n      <td>2.08642</td>\n      <td>2.11371</td>\n      <td>8.799</td>\n      <td>12</td>\n      <td>14</td>\n      <td>2.21429</td>\n    </tr>\n    <tr>\n      <th>5531</th>\n      <td>AVY.N</td>\n      <td>2020-10-21 06:45:00+00:00</td>\n      <td>1729100000.0</td>\n      <td>11816435091.5</td>\n      <td>1.91</td>\n      <td>1.52673</td>\n      <td>1.55755</td>\n      <td>25.104</td>\n      <td>12</td>\n      <td>14</td>\n      <td>2.35714</td>\n    </tr>\n    <tr>\n      <th>5532</th>\n      <td>AVY.N</td>\n      <td>2020-07-27 06:46:00+00:00</td>\n      <td>1528500000.0</td>\n      <td>11156836044.049999</td>\n      <td>1.27</td>\n      <td>1.13433</td>\n      <td>1.15893</td>\n      <td>11.96</td>\n      <td>12</td>\n      <td>14</td>\n      <td>2.42857</td>\n    </tr>\n  </tbody>\n</table>\n<p>5533 rows × 11 columns</p>\n</div>"
     },
     "execution_count": 14,
     "metadata": {},
     "output_type": "execute_result"
    }
   ],
   "source": [],
   "metadata": {
    "collapsed": false
   }
  },
  {
   "cell_type": "code",
   "execution_count": 15,
   "outputs": [
    {
     "data": {
      "text/plain": "Instrument                                           string\nDate                                    datetime64[ns, UTC]\nRevenue - Actual                                    Float64\nEnterprise Value                                    Float64\nEarnings Per Share - Actual                         Float64\nEarnings Per Share - Mean                           Float64\nEarnings Per Share - SmartEstimate®                 Float64\nEarnings Per Share - Actual Surprise                Float64\nNumber of Analysts                                    Int64\nRecommendation - Number Of Total                      Int64\nRecommendation - Mean (1-5)                         Float64\ndtype: object"
     },
     "execution_count": 15,
     "metadata": {},
     "output_type": "execute_result"
    }
   ],
   "source": [],
   "metadata": {
    "collapsed": false
   }
  },
  {
   "cell_type": "code",
   "execution_count": null,
   "outputs": [],
   "source": [],
   "metadata": {
    "collapsed": false
   }
  }
 ],
 "metadata": {
  "kernelspec": {
   "display_name": "Python 3",
   "language": "python",
   "name": "python3"
  },
  "language_info": {
   "codemirror_mode": {
    "name": "ipython",
    "version": 2
   },
   "file_extension": ".py",
   "mimetype": "text/x-python",
   "name": "python",
   "nbconvert_exporter": "python",
   "pygments_lexer": "ipython2",
   "version": "2.7.6"
  }
 },
 "nbformat": 4,
 "nbformat_minor": 0
}
