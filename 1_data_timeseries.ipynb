{
 "cells": [
  {
   "cell_type": "code",
   "execution_count": 1,
   "metadata": {
    "collapsed": false
   },
   "outputs": [],
   "source": [
    "import pandas as pd\n",
    "import numpy as np\n",
    "import datetime\n",
    "import plotly.express as px"
   ]
  },
  {
   "cell_type": "markdown",
   "source": [
    "## Whole Dataframe"
   ],
   "metadata": {
    "collapsed": false
   }
  },
  {
   "cell_type": "code",
   "execution_count": 2,
   "metadata": {
    "collapsed": false
   },
   "outputs": [
    {
     "data": {
      "text/plain": "      Instrument        Date GICS Industry Group Name  \\\n0          AVY.N  2013-01-01                Materials   \n1          AVY.N  2013-04-01                Materials   \n2          AVY.N  2013-07-01                Materials   \n3          AVY.N  2013-10-01                Materials   \n4          AVY.N  2014-01-01                Materials   \n...          ...         ...                      ...   \n20115    POOL.OQ  2021-10-01                Retailing   \n20116    POOL.OQ  2022-01-01                Retailing   \n20117    POOL.OQ  2022-04-01                Retailing   \n20118    POOL.OQ  2022-07-01                Retailing   \n20119    POOL.OQ  2022-10-01                Retailing   \n\n       Earnings Per Share - Actual  Earnings Per Share - Mean  \\\n0                             0.54                    0.48571   \n1                             0.59                    0.57571   \n2                             0.71                    0.70250   \n3                             0.69                    0.63833   \n4                             0.69                    0.68000   \n...                            ...                        ...   \n20115                         4.51                    3.84833   \n20116                         2.63                    1.87500   \n20117                         4.23                    3.14867   \n20118                         7.63                    7.51700   \n20119                         4.78                    4.58750   \n\n       Earnings Per Share - Actual Surprise  \\\n0                                    11.178   \n1                                     2.482   \n2                                     1.068   \n3                                     8.095   \n4                                     1.471   \n...                                     ...   \n20115                                17.194   \n20116                                40.267   \n20117                                34.342   \n20118                                 1.503   \n20119                                 4.196   \n\n       Earnings Per Share – Coefficient of Variation  Market Capitalization  \\\n0                                           3.625620           3.426001e+09   \n1                                           2.046169           4.309428e+09   \n2                                           1.551601           4.258229e+09   \n3                                           2.775994           4.273414e+09   \n4                                           3.204412           4.877168e+09   \n...                                              ...                    ...   \n20115                                       2.836295           1.742020e+10   \n20116                                       3.269867           2.268979e+10   \n20117                                       6.630736           1.696712e+10   \n20118                                       3.625249           1.405795e+10   \n20119                                       3.843706           1.259813e+10   \n\n       Revenue - Actual  Enterprise Value  ...  \\\n0          1.532200e+09      4.413001e+09  ...   \n1          1.498900e+09      5.459128e+09  ...   \n2          1.552300e+09      5.436229e+09  ...   \n3          1.504900e+09      5.029514e+09  ...   \n4          1.583900e+09      5.553068e+09  ...   \n...                 ...               ...  ...   \n20115      1.411448e+09      1.769954e+10  ...   \n20116      1.035557e+09      2.384882e+10  ...   \n20117      1.412650e+09      1.843682e+10  ...   \n20118      2.055818e+09      1.556187e+10  ...   \n20119      1.615339e+09      1.406160e+10  ...   \n\n       WACC Inflation Adjusted Risk Free Rate, (%)  Net Income after Tax  \\\n0                                              NaN            33400000.0   \n1                                              NaN            66800000.0   \n2                                              NaN            70800000.0   \n3                                              NaN            62000000.0   \n4                                              NaN            42100000.0   \n...                                            ...                   ...   \n20115                                     1.527139           184573000.0   \n20116                                     1.515266           107542000.0   \n20117                                     2.325202           179203000.0   \n20118                                     3.092855           307205000.0   \n20119                                     3.747421           189965000.0   \n\n       Price Target - Mean  Price Target - Standard Deviation  Price Close  \\\n0                 36.00000                            2.44949        34.92   \n1                 42.57143                            3.92272        43.07   \n2                 45.00000                            4.30946        42.76   \n3                 47.71429                            3.45230        43.52   \n4                 54.62500                            3.42555        50.19   \n...                    ...                                ...          ...   \n20115            545.28571                           50.48823       434.41   \n20116            571.00000                           41.33833       566.00   \n20117            519.88889                           37.49206       422.85   \n20118            435.37500                           57.57373       351.23   \n20119            360.11111                           24.95082       318.21   \n\n       Enterprise Value To Sales (Daily Time Series Ratio)  \\\n0                                               0.799347     \n1                                               0.895787     \n2                                               0.906078     \n3                                               0.903176     \n4                                               0.920659     \n...                                                  ...     \n20115                                           3.684400     \n20116                                           4.504382     \n20117                                           3.422880     \n20118                                           2.749481     \n20119                                           2.383926     \n\n       3 Month Total Return    Volume  Unemployment rate_x  \\\n0                 10.637479  207295.0                  8.0   \n1                 24.148726       0.0                  7.6   \n2                 -0.054218       0.0                  7.3   \n3                  2.467620  236291.0                  7.2   \n4                 16.003852  157761.0                  6.6   \n...                     ...       ...                  ...   \n20115             -5.130322  157740.0                  4.5   \n20116             30.489705   82349.0                  4.0   \n20117            -25.160664  290897.0                  3.6   \n20118            -21.661570  185584.0                  3.5   \n20119             -9.164375  238539.0                  3.7   \n\n       Unemployment rate_y  \n0                      8.0  \n1                      7.6  \n2                      7.3  \n3                      7.2  \n4                      6.6  \n...                    ...  \n20115                  4.5  \n20116                  4.0  \n20117                  3.6  \n20118                  3.5  \n20119                  3.7  \n\n[20120 rows x 23 columns]",
      "text/html": "<div>\n<style scoped>\n    .dataframe tbody tr th:only-of-type {\n        vertical-align: middle;\n    }\n\n    .dataframe tbody tr th {\n        vertical-align: top;\n    }\n\n    .dataframe thead th {\n        text-align: right;\n    }\n</style>\n<table border=\"1\" class=\"dataframe\">\n  <thead>\n    <tr style=\"text-align: right;\">\n      <th></th>\n      <th>Instrument</th>\n      <th>Date</th>\n      <th>GICS Industry Group Name</th>\n      <th>Earnings Per Share - Actual</th>\n      <th>Earnings Per Share - Mean</th>\n      <th>Earnings Per Share - Actual Surprise</th>\n      <th>Earnings Per Share – Coefficient of Variation</th>\n      <th>Market Capitalization</th>\n      <th>Revenue - Actual</th>\n      <th>Enterprise Value</th>\n      <th>...</th>\n      <th>WACC Inflation Adjusted Risk Free Rate, (%)</th>\n      <th>Net Income after Tax</th>\n      <th>Price Target - Mean</th>\n      <th>Price Target - Standard Deviation</th>\n      <th>Price Close</th>\n      <th>Enterprise Value To Sales (Daily Time Series Ratio)</th>\n      <th>3 Month Total Return</th>\n      <th>Volume</th>\n      <th>Unemployment rate_x</th>\n      <th>Unemployment rate_y</th>\n    </tr>\n  </thead>\n  <tbody>\n    <tr>\n      <th>0</th>\n      <td>AVY.N</td>\n      <td>2013-01-01</td>\n      <td>Materials</td>\n      <td>0.54</td>\n      <td>0.48571</td>\n      <td>11.178</td>\n      <td>3.625620</td>\n      <td>3.426001e+09</td>\n      <td>1.532200e+09</td>\n      <td>4.413001e+09</td>\n      <td>...</td>\n      <td>NaN</td>\n      <td>33400000.0</td>\n      <td>36.00000</td>\n      <td>2.44949</td>\n      <td>34.92</td>\n      <td>0.799347</td>\n      <td>10.637479</td>\n      <td>207295.0</td>\n      <td>8.0</td>\n      <td>8.0</td>\n    </tr>\n    <tr>\n      <th>1</th>\n      <td>AVY.N</td>\n      <td>2013-04-01</td>\n      <td>Materials</td>\n      <td>0.59</td>\n      <td>0.57571</td>\n      <td>2.482</td>\n      <td>2.046169</td>\n      <td>4.309428e+09</td>\n      <td>1.498900e+09</td>\n      <td>5.459128e+09</td>\n      <td>...</td>\n      <td>NaN</td>\n      <td>66800000.0</td>\n      <td>42.57143</td>\n      <td>3.92272</td>\n      <td>43.07</td>\n      <td>0.895787</td>\n      <td>24.148726</td>\n      <td>0.0</td>\n      <td>7.6</td>\n      <td>7.6</td>\n    </tr>\n    <tr>\n      <th>2</th>\n      <td>AVY.N</td>\n      <td>2013-07-01</td>\n      <td>Materials</td>\n      <td>0.71</td>\n      <td>0.70250</td>\n      <td>1.068</td>\n      <td>1.551601</td>\n      <td>4.258229e+09</td>\n      <td>1.552300e+09</td>\n      <td>5.436229e+09</td>\n      <td>...</td>\n      <td>NaN</td>\n      <td>70800000.0</td>\n      <td>45.00000</td>\n      <td>4.30946</td>\n      <td>42.76</td>\n      <td>0.906078</td>\n      <td>-0.054218</td>\n      <td>0.0</td>\n      <td>7.3</td>\n      <td>7.3</td>\n    </tr>\n    <tr>\n      <th>3</th>\n      <td>AVY.N</td>\n      <td>2013-10-01</td>\n      <td>Materials</td>\n      <td>0.69</td>\n      <td>0.63833</td>\n      <td>8.095</td>\n      <td>2.775994</td>\n      <td>4.273414e+09</td>\n      <td>1.504900e+09</td>\n      <td>5.029514e+09</td>\n      <td>...</td>\n      <td>NaN</td>\n      <td>62000000.0</td>\n      <td>47.71429</td>\n      <td>3.45230</td>\n      <td>43.52</td>\n      <td>0.903176</td>\n      <td>2.467620</td>\n      <td>236291.0</td>\n      <td>7.2</td>\n      <td>7.2</td>\n    </tr>\n    <tr>\n      <th>4</th>\n      <td>AVY.N</td>\n      <td>2014-01-01</td>\n      <td>Materials</td>\n      <td>0.69</td>\n      <td>0.68000</td>\n      <td>1.471</td>\n      <td>3.204412</td>\n      <td>4.877168e+09</td>\n      <td>1.583900e+09</td>\n      <td>5.553068e+09</td>\n      <td>...</td>\n      <td>NaN</td>\n      <td>42100000.0</td>\n      <td>54.62500</td>\n      <td>3.42555</td>\n      <td>50.19</td>\n      <td>0.920659</td>\n      <td>16.003852</td>\n      <td>157761.0</td>\n      <td>6.6</td>\n      <td>6.6</td>\n    </tr>\n    <tr>\n      <th>...</th>\n      <td>...</td>\n      <td>...</td>\n      <td>...</td>\n      <td>...</td>\n      <td>...</td>\n      <td>...</td>\n      <td>...</td>\n      <td>...</td>\n      <td>...</td>\n      <td>...</td>\n      <td>...</td>\n      <td>...</td>\n      <td>...</td>\n      <td>...</td>\n      <td>...</td>\n      <td>...</td>\n      <td>...</td>\n      <td>...</td>\n      <td>...</td>\n      <td>...</td>\n      <td>...</td>\n    </tr>\n    <tr>\n      <th>20115</th>\n      <td>POOL.OQ</td>\n      <td>2021-10-01</td>\n      <td>Retailing</td>\n      <td>4.51</td>\n      <td>3.84833</td>\n      <td>17.194</td>\n      <td>2.836295</td>\n      <td>1.742020e+10</td>\n      <td>1.411448e+09</td>\n      <td>1.769954e+10</td>\n      <td>...</td>\n      <td>1.527139</td>\n      <td>184573000.0</td>\n      <td>545.28571</td>\n      <td>50.48823</td>\n      <td>434.41</td>\n      <td>3.684400</td>\n      <td>-5.130322</td>\n      <td>157740.0</td>\n      <td>4.5</td>\n      <td>4.5</td>\n    </tr>\n    <tr>\n      <th>20116</th>\n      <td>POOL.OQ</td>\n      <td>2022-01-01</td>\n      <td>Retailing</td>\n      <td>2.63</td>\n      <td>1.87500</td>\n      <td>40.267</td>\n      <td>3.269867</td>\n      <td>2.268979e+10</td>\n      <td>1.035557e+09</td>\n      <td>2.384882e+10</td>\n      <td>...</td>\n      <td>1.515266</td>\n      <td>107542000.0</td>\n      <td>571.00000</td>\n      <td>41.33833</td>\n      <td>566.00</td>\n      <td>4.504382</td>\n      <td>30.489705</td>\n      <td>82349.0</td>\n      <td>4.0</td>\n      <td>4.0</td>\n    </tr>\n    <tr>\n      <th>20117</th>\n      <td>POOL.OQ</td>\n      <td>2022-04-01</td>\n      <td>Retailing</td>\n      <td>4.23</td>\n      <td>3.14867</td>\n      <td>34.342</td>\n      <td>6.630736</td>\n      <td>1.696712e+10</td>\n      <td>1.412650e+09</td>\n      <td>1.843682e+10</td>\n      <td>...</td>\n      <td>2.325202</td>\n      <td>179203000.0</td>\n      <td>519.88889</td>\n      <td>37.49206</td>\n      <td>422.85</td>\n      <td>3.422880</td>\n      <td>-25.160664</td>\n      <td>290897.0</td>\n      <td>3.6</td>\n      <td>3.6</td>\n    </tr>\n    <tr>\n      <th>20118</th>\n      <td>POOL.OQ</td>\n      <td>2022-07-01</td>\n      <td>Retailing</td>\n      <td>7.63</td>\n      <td>7.51700</td>\n      <td>1.503</td>\n      <td>3.625249</td>\n      <td>1.405795e+10</td>\n      <td>2.055818e+09</td>\n      <td>1.556187e+10</td>\n      <td>...</td>\n      <td>3.092855</td>\n      <td>307205000.0</td>\n      <td>435.37500</td>\n      <td>57.57373</td>\n      <td>351.23</td>\n      <td>2.749481</td>\n      <td>-21.661570</td>\n      <td>185584.0</td>\n      <td>3.5</td>\n      <td>3.5</td>\n    </tr>\n    <tr>\n      <th>20119</th>\n      <td>POOL.OQ</td>\n      <td>2022-10-01</td>\n      <td>Retailing</td>\n      <td>4.78</td>\n      <td>4.58750</td>\n      <td>4.196</td>\n      <td>3.843706</td>\n      <td>1.259813e+10</td>\n      <td>1.615339e+09</td>\n      <td>1.406160e+10</td>\n      <td>...</td>\n      <td>3.747421</td>\n      <td>189965000.0</td>\n      <td>360.11111</td>\n      <td>24.95082</td>\n      <td>318.21</td>\n      <td>2.383926</td>\n      <td>-9.164375</td>\n      <td>238539.0</td>\n      <td>3.7</td>\n      <td>3.7</td>\n    </tr>\n  </tbody>\n</table>\n<p>20120 rows × 23 columns</p>\n</div>"
     },
     "execution_count": 2,
     "metadata": {},
     "output_type": "execute_result"
    }
   ],
   "source": [
    "df = pd.read_csv(\"Dataframes/economic_story_dataframe.csv\")\n",
    "df\n",
    "#df.isna().sum()"
   ]
  },
  {
   "cell_type": "markdown",
   "source": [
    "# Creating subset dataframes for every factor"
   ],
   "metadata": {
    "collapsed": false
   }
  },
  {
   "cell_type": "markdown",
   "source": [
    "## Characteristics dataframe"
   ],
   "metadata": {
    "collapsed": false
   }
  },
  {
   "cell_type": "code",
   "execution_count": 3,
   "metadata": {
    "collapsed": false
   },
   "outputs": [
    {
     "data": {
      "text/plain": "      Instrument        Date  Earnings Per Share - Actual Surprise  \\\n0          AVY.N  2013-01-01                                11.178   \n1          AVY.N  2013-04-01                                 2.482   \n2          AVY.N  2013-07-01                                 1.068   \n3          AVY.N  2013-10-01                                 8.095   \n4          AVY.N  2014-01-01                                 1.471   \n...          ...         ...                                   ...   \n20115    POOL.OQ  2021-10-01                                17.194   \n20116    POOL.OQ  2022-01-01                                40.267   \n20117    POOL.OQ  2022-04-01                                34.342   \n20118    POOL.OQ  2022-07-01                                 1.503   \n20119    POOL.OQ  2022-10-01                                 4.196   \n\n       Revenue - Actual  Net Income after Tax  Enterprise Value  \\\n0          1.532200e+09            33400000.0      4.413001e+09   \n1          1.498900e+09            66800000.0      5.459128e+09   \n2          1.552300e+09            70800000.0      5.436229e+09   \n3          1.504900e+09            62000000.0      5.029514e+09   \n4          1.583900e+09            42100000.0      5.553068e+09   \n...                 ...                   ...               ...   \n20115      1.411448e+09           184573000.0      1.769954e+10   \n20116      1.035557e+09           107542000.0      2.384882e+10   \n20117      1.412650e+09           179203000.0      1.843682e+10   \n20118      2.055818e+09           307205000.0      1.556187e+10   \n20119      1.615339e+09           189965000.0      1.406160e+10   \n\n       Market Capitalization  \\\n0               3.426001e+09   \n1               4.309428e+09   \n2               4.258229e+09   \n3               4.273414e+09   \n4               4.877168e+09   \n...                      ...   \n20115           1.742020e+10   \n20116           2.268979e+10   \n20117           1.696712e+10   \n20118           1.405795e+10   \n20119           1.259813e+10   \n\n       Enterprise Value To Sales (Daily Time Series Ratio)  \\\n0                                               0.799347     \n1                                               0.895787     \n2                                               0.906078     \n3                                               0.903176     \n4                                               0.920659     \n...                                                  ...     \n20115                                           3.684400     \n20116                                           4.504382     \n20117                                           3.422880     \n20118                                           2.749481     \n20119                                           2.383926     \n\n       3 Month Total Return    Volume  \n0                 10.637479  207295.0  \n1                 24.148726       0.0  \n2                 -0.054218       0.0  \n3                  2.467620  236291.0  \n4                 16.003852  157761.0  \n...                     ...       ...  \n20115             -5.130322  157740.0  \n20116             30.489705   82349.0  \n20117            -25.160664  290897.0  \n20118            -21.661570  185584.0  \n20119             -9.164375  238539.0  \n\n[20120 rows x 10 columns]",
      "text/html": "<div>\n<style scoped>\n    .dataframe tbody tr th:only-of-type {\n        vertical-align: middle;\n    }\n\n    .dataframe tbody tr th {\n        vertical-align: top;\n    }\n\n    .dataframe thead th {\n        text-align: right;\n    }\n</style>\n<table border=\"1\" class=\"dataframe\">\n  <thead>\n    <tr style=\"text-align: right;\">\n      <th></th>\n      <th>Instrument</th>\n      <th>Date</th>\n      <th>Earnings Per Share - Actual Surprise</th>\n      <th>Revenue - Actual</th>\n      <th>Net Income after Tax</th>\n      <th>Enterprise Value</th>\n      <th>Market Capitalization</th>\n      <th>Enterprise Value To Sales (Daily Time Series Ratio)</th>\n      <th>3 Month Total Return</th>\n      <th>Volume</th>\n    </tr>\n  </thead>\n  <tbody>\n    <tr>\n      <th>0</th>\n      <td>AVY.N</td>\n      <td>2013-01-01</td>\n      <td>11.178</td>\n      <td>1.532200e+09</td>\n      <td>33400000.0</td>\n      <td>4.413001e+09</td>\n      <td>3.426001e+09</td>\n      <td>0.799347</td>\n      <td>10.637479</td>\n      <td>207295.0</td>\n    </tr>\n    <tr>\n      <th>1</th>\n      <td>AVY.N</td>\n      <td>2013-04-01</td>\n      <td>2.482</td>\n      <td>1.498900e+09</td>\n      <td>66800000.0</td>\n      <td>5.459128e+09</td>\n      <td>4.309428e+09</td>\n      <td>0.895787</td>\n      <td>24.148726</td>\n      <td>0.0</td>\n    </tr>\n    <tr>\n      <th>2</th>\n      <td>AVY.N</td>\n      <td>2013-07-01</td>\n      <td>1.068</td>\n      <td>1.552300e+09</td>\n      <td>70800000.0</td>\n      <td>5.436229e+09</td>\n      <td>4.258229e+09</td>\n      <td>0.906078</td>\n      <td>-0.054218</td>\n      <td>0.0</td>\n    </tr>\n    <tr>\n      <th>3</th>\n      <td>AVY.N</td>\n      <td>2013-10-01</td>\n      <td>8.095</td>\n      <td>1.504900e+09</td>\n      <td>62000000.0</td>\n      <td>5.029514e+09</td>\n      <td>4.273414e+09</td>\n      <td>0.903176</td>\n      <td>2.467620</td>\n      <td>236291.0</td>\n    </tr>\n    <tr>\n      <th>4</th>\n      <td>AVY.N</td>\n      <td>2014-01-01</td>\n      <td>1.471</td>\n      <td>1.583900e+09</td>\n      <td>42100000.0</td>\n      <td>5.553068e+09</td>\n      <td>4.877168e+09</td>\n      <td>0.920659</td>\n      <td>16.003852</td>\n      <td>157761.0</td>\n    </tr>\n    <tr>\n      <th>...</th>\n      <td>...</td>\n      <td>...</td>\n      <td>...</td>\n      <td>...</td>\n      <td>...</td>\n      <td>...</td>\n      <td>...</td>\n      <td>...</td>\n      <td>...</td>\n      <td>...</td>\n    </tr>\n    <tr>\n      <th>20115</th>\n      <td>POOL.OQ</td>\n      <td>2021-10-01</td>\n      <td>17.194</td>\n      <td>1.411448e+09</td>\n      <td>184573000.0</td>\n      <td>1.769954e+10</td>\n      <td>1.742020e+10</td>\n      <td>3.684400</td>\n      <td>-5.130322</td>\n      <td>157740.0</td>\n    </tr>\n    <tr>\n      <th>20116</th>\n      <td>POOL.OQ</td>\n      <td>2022-01-01</td>\n      <td>40.267</td>\n      <td>1.035557e+09</td>\n      <td>107542000.0</td>\n      <td>2.384882e+10</td>\n      <td>2.268979e+10</td>\n      <td>4.504382</td>\n      <td>30.489705</td>\n      <td>82349.0</td>\n    </tr>\n    <tr>\n      <th>20117</th>\n      <td>POOL.OQ</td>\n      <td>2022-04-01</td>\n      <td>34.342</td>\n      <td>1.412650e+09</td>\n      <td>179203000.0</td>\n      <td>1.843682e+10</td>\n      <td>1.696712e+10</td>\n      <td>3.422880</td>\n      <td>-25.160664</td>\n      <td>290897.0</td>\n    </tr>\n    <tr>\n      <th>20118</th>\n      <td>POOL.OQ</td>\n      <td>2022-07-01</td>\n      <td>1.503</td>\n      <td>2.055818e+09</td>\n      <td>307205000.0</td>\n      <td>1.556187e+10</td>\n      <td>1.405795e+10</td>\n      <td>2.749481</td>\n      <td>-21.661570</td>\n      <td>185584.0</td>\n    </tr>\n    <tr>\n      <th>20119</th>\n      <td>POOL.OQ</td>\n      <td>2022-10-01</td>\n      <td>4.196</td>\n      <td>1.615339e+09</td>\n      <td>189965000.0</td>\n      <td>1.406160e+10</td>\n      <td>1.259813e+10</td>\n      <td>2.383926</td>\n      <td>-9.164375</td>\n      <td>238539.0</td>\n    </tr>\n  </tbody>\n</table>\n<p>20120 rows × 10 columns</p>\n</div>"
     },
     "execution_count": 3,
     "metadata": {},
     "output_type": "execute_result"
    }
   ],
   "source": [
    "characteristics = df.loc[:, [\"Instrument\", \"Date\", \"Earnings Per Share - Actual Surprise\", \"Revenue - Actual\", \"Net Income after Tax\", \"Enterprise Value\", \"Market Capitalization\", \"Enterprise Value To Sales (Daily Time Series Ratio)\", \"3 Month Total Return\", \"Volume\"]]\n",
    "characteristics"
   ]
  },
  {
   "cell_type": "code",
   "execution_count": 4,
   "outputs": [
    {
     "data": {
      "text/plain": "loss firm status\n 1    18072\n-1     1633\n 0      415\ndtype: int64"
     },
     "execution_count": 4,
     "metadata": {},
     "output_type": "execute_result"
    }
   ],
   "source": [
    "characteristics[\"Net Income after Tax\"] = characteristics[\"Net Income after Tax\"].fillna(1)\n",
    "characteristics[\"loss firm status\"] = [1 if x > 1 else -1 if x <= 0 else 0 for x in characteristics[\"Net Income after Tax\"]]\n",
    "characteristics = characteristics.drop(\"Net Income after Tax\", axis=1)\n",
    "characteristics.value_counts(\"loss firm status\")"
   ],
   "metadata": {
    "collapsed": false
   }
  },
  {
   "cell_type": "code",
   "execution_count": 5,
   "metadata": {
    "collapsed": false
   },
   "outputs": [
    {
     "data": {
      "text/plain": "loss firm status\n-1    17761\n 1     1564\n 0       14\ndtype: int64"
     },
     "execution_count": 5,
     "metadata": {},
     "output_type": "execute_result"
    }
   ],
   "source": [
    "characteristics = characteristics.dropna()\n",
    "characteristics[\"loss firm status\"] = [-1 if x > 0 else 1 if x <= -1 else 0 for x in characteristics[\"loss firm status\"]]\n",
    "characteristics.value_counts(\"loss firm status\")\n",
    "\n",
    "# loss firm status:\n",
    "# -1 = not a loss firm (is profitable)\n",
    "# 1 = loss firm (negative profit or profit is equal to 0!!)\n",
    "# 0 = value of NA, but we can change this to make NA values loss firm, or we drop them altogether"
   ]
  },
  {
   "cell_type": "code",
   "execution_count": 6,
   "outputs": [],
   "source": [
    "characteristics.to_csv(\"Dataframes/characteristics.csv\", index=False)"
   ],
   "metadata": {
    "collapsed": false
   }
  },
  {
   "cell_type": "markdown",
   "source": [
    "### Analysts dataframe"
   ],
   "metadata": {
    "collapsed": false
   }
  },
  {
   "cell_type": "code",
   "execution_count": 7,
   "outputs": [],
   "source": [
    "analysts = df.loc[:, [\"Instrument\", \"Date\", \"Earnings Per Share - Actual Surprise\", \"Earnings Per Share – Coefficient of Variation\", \"Number of Analysts\", \"Recommendation - Mean (1-5)\", \"Recommendation - Mean (1-5).1\", \"Price Target - Mean\", \"Price Target - Standard Deviation\"]]\n",
    "#analysts"
   ],
   "metadata": {
    "collapsed": false
   }
  },
  {
   "cell_type": "code",
   "execution_count": 8,
   "outputs": [
    {
     "data": {
      "text/plain": "      Instrument        Date  Earnings Per Share - Actual Surprise  \\\n0          AVY.N  2013-01-01                                11.178   \n1          AVY.N  2013-04-01                                 2.482   \n2          AVY.N  2013-07-01                                 1.068   \n3          AVY.N  2013-10-01                                 8.095   \n4          AVY.N  2014-01-01                                 1.471   \n...          ...         ...                                   ...   \n20115    POOL.OQ  2021-10-01                                17.194   \n20116    POOL.OQ  2022-01-01                                40.267   \n20117    POOL.OQ  2022-04-01                                34.342   \n20118    POOL.OQ  2022-07-01                                 1.503   \n20119    POOL.OQ  2022-10-01                                 4.196   \n\n       Earnings Per Share – Coefficient of Variation  Number of Analysts  \\\n0                                           3.625620                 7.0   \n1                                           2.046169                 7.0   \n2                                           1.551601                 8.0   \n3                                           2.775994                 7.0   \n4                                           3.204412                 8.0   \n...                                              ...                 ...   \n20115                                       2.836295                 8.0   \n20116                                       3.269867                 8.0   \n20117                                       6.630736                 9.0   \n20118                                       3.625249                 9.0   \n20119                                       3.843706                10.0   \n\n       Recommendation change  Recommendation - Mean (1-5)  \\\n0                    0.00000                      3.00000   \n1                   -0.12500                      2.87500   \n2                    0.00000                      2.87500   \n3                   -0.25000                      2.62500   \n4                   -0.29167                      2.33333   \n...                      ...                          ...   \n20115                0.00000                      2.30000   \n20116                0.00000                      2.30000   \n20117               -0.30000                      2.00000   \n20118                0.20000                      2.20000   \n20119                0.07273                      2.27273   \n\n       Price Target - Mean  Price Target - Standard Deviation  \n0                 36.00000                            2.44949  \n1                 42.57143                            3.92272  \n2                 45.00000                            4.30946  \n3                 47.71429                            3.45230  \n4                 54.62500                            3.42555  \n...                    ...                                ...  \n20115            545.28571                           50.48823  \n20116            571.00000                           41.33833  \n20117            519.88889                           37.49206  \n20118            435.37500                           57.57373  \n20119            360.11111                           24.95082  \n\n[20120 rows x 9 columns]",
      "text/html": "<div>\n<style scoped>\n    .dataframe tbody tr th:only-of-type {\n        vertical-align: middle;\n    }\n\n    .dataframe tbody tr th {\n        vertical-align: top;\n    }\n\n    .dataframe thead th {\n        text-align: right;\n    }\n</style>\n<table border=\"1\" class=\"dataframe\">\n  <thead>\n    <tr style=\"text-align: right;\">\n      <th></th>\n      <th>Instrument</th>\n      <th>Date</th>\n      <th>Earnings Per Share - Actual Surprise</th>\n      <th>Earnings Per Share – Coefficient of Variation</th>\n      <th>Number of Analysts</th>\n      <th>Recommendation change</th>\n      <th>Recommendation - Mean (1-5)</th>\n      <th>Price Target - Mean</th>\n      <th>Price Target - Standard Deviation</th>\n    </tr>\n  </thead>\n  <tbody>\n    <tr>\n      <th>0</th>\n      <td>AVY.N</td>\n      <td>2013-01-01</td>\n      <td>11.178</td>\n      <td>3.625620</td>\n      <td>7.0</td>\n      <td>0.00000</td>\n      <td>3.00000</td>\n      <td>36.00000</td>\n      <td>2.44949</td>\n    </tr>\n    <tr>\n      <th>1</th>\n      <td>AVY.N</td>\n      <td>2013-04-01</td>\n      <td>2.482</td>\n      <td>2.046169</td>\n      <td>7.0</td>\n      <td>-0.12500</td>\n      <td>2.87500</td>\n      <td>42.57143</td>\n      <td>3.92272</td>\n    </tr>\n    <tr>\n      <th>2</th>\n      <td>AVY.N</td>\n      <td>2013-07-01</td>\n      <td>1.068</td>\n      <td>1.551601</td>\n      <td>8.0</td>\n      <td>0.00000</td>\n      <td>2.87500</td>\n      <td>45.00000</td>\n      <td>4.30946</td>\n    </tr>\n    <tr>\n      <th>3</th>\n      <td>AVY.N</td>\n      <td>2013-10-01</td>\n      <td>8.095</td>\n      <td>2.775994</td>\n      <td>7.0</td>\n      <td>-0.25000</td>\n      <td>2.62500</td>\n      <td>47.71429</td>\n      <td>3.45230</td>\n    </tr>\n    <tr>\n      <th>4</th>\n      <td>AVY.N</td>\n      <td>2014-01-01</td>\n      <td>1.471</td>\n      <td>3.204412</td>\n      <td>8.0</td>\n      <td>-0.29167</td>\n      <td>2.33333</td>\n      <td>54.62500</td>\n      <td>3.42555</td>\n    </tr>\n    <tr>\n      <th>...</th>\n      <td>...</td>\n      <td>...</td>\n      <td>...</td>\n      <td>...</td>\n      <td>...</td>\n      <td>...</td>\n      <td>...</td>\n      <td>...</td>\n      <td>...</td>\n    </tr>\n    <tr>\n      <th>20115</th>\n      <td>POOL.OQ</td>\n      <td>2021-10-01</td>\n      <td>17.194</td>\n      <td>2.836295</td>\n      <td>8.0</td>\n      <td>0.00000</td>\n      <td>2.30000</td>\n      <td>545.28571</td>\n      <td>50.48823</td>\n    </tr>\n    <tr>\n      <th>20116</th>\n      <td>POOL.OQ</td>\n      <td>2022-01-01</td>\n      <td>40.267</td>\n      <td>3.269867</td>\n      <td>8.0</td>\n      <td>0.00000</td>\n      <td>2.30000</td>\n      <td>571.00000</td>\n      <td>41.33833</td>\n    </tr>\n    <tr>\n      <th>20117</th>\n      <td>POOL.OQ</td>\n      <td>2022-04-01</td>\n      <td>34.342</td>\n      <td>6.630736</td>\n      <td>9.0</td>\n      <td>-0.30000</td>\n      <td>2.00000</td>\n      <td>519.88889</td>\n      <td>37.49206</td>\n    </tr>\n    <tr>\n      <th>20118</th>\n      <td>POOL.OQ</td>\n      <td>2022-07-01</td>\n      <td>1.503</td>\n      <td>3.625249</td>\n      <td>9.0</td>\n      <td>0.20000</td>\n      <td>2.20000</td>\n      <td>435.37500</td>\n      <td>57.57373</td>\n    </tr>\n    <tr>\n      <th>20119</th>\n      <td>POOL.OQ</td>\n      <td>2022-10-01</td>\n      <td>4.196</td>\n      <td>3.843706</td>\n      <td>10.0</td>\n      <td>0.07273</td>\n      <td>2.27273</td>\n      <td>360.11111</td>\n      <td>24.95082</td>\n    </tr>\n  </tbody>\n</table>\n<p>20120 rows × 9 columns</p>\n</div>"
     },
     "execution_count": 8,
     "metadata": {},
     "output_type": "execute_result"
    }
   ],
   "source": [
    "analysts[\"Recommendation change\"] = analysts[\"Recommendation - Mean (1-5)\"] - analysts[\"Recommendation - Mean (1-5).1\"]\n",
    "analysts.insert(5, \"Recommendation change\", analysts.pop(\"Recommendation change\"))\n",
    "analysts = analysts.drop(\"Recommendation - Mean (1-5).1\", axis=1)\n",
    "analysts"
   ],
   "metadata": {
    "collapsed": false
   }
  },
  {
   "cell_type": "code",
   "execution_count": 9,
   "outputs": [],
   "source": [
    "analysts.to_csv(\"Dataframes/analysts.csv\", index=False)"
   ],
   "metadata": {
    "collapsed": false
   }
  },
  {
   "cell_type": "markdown",
   "source": [
    "### Macroeconomic factors dataframe"
   ],
   "metadata": {
    "collapsed": false
   }
  },
  {
   "cell_type": "code",
   "execution_count": 10,
   "outputs": [
    {
     "ename": "KeyError",
     "evalue": "\"['Unemployment rate'] not in index\"",
     "output_type": "error",
     "traceback": [
      "\u001B[1;31m---------------------------------------------------------------------------\u001B[0m",
      "\u001B[1;31mKeyError\u001B[0m                                  Traceback (most recent call last)",
      "Cell \u001B[1;32mIn[10], line 1\u001B[0m\n\u001B[1;32m----> 1\u001B[0m macro \u001B[38;5;241m=\u001B[39m \u001B[43mdf\u001B[49m\u001B[38;5;241;43m.\u001B[39;49m\u001B[43mloc\u001B[49m\u001B[43m[\u001B[49m\u001B[43m:\u001B[49m\u001B[43m,\u001B[49m\u001B[43m \u001B[49m\u001B[43m[\u001B[49m\u001B[38;5;124;43m\"\u001B[39;49m\u001B[38;5;124;43mInstrument\u001B[39;49m\u001B[38;5;124;43m\"\u001B[39;49m\u001B[43m,\u001B[49m\u001B[43m \u001B[49m\u001B[38;5;124;43m\"\u001B[39;49m\u001B[38;5;124;43mDate\u001B[39;49m\u001B[38;5;124;43m\"\u001B[39;49m\u001B[43m,\u001B[49m\u001B[43m \u001B[49m\u001B[38;5;124;43m\"\u001B[39;49m\u001B[38;5;124;43mEarnings Per Share - Actual Surprise\u001B[39;49m\u001B[38;5;124;43m\"\u001B[39;49m\u001B[43m,\u001B[49m\u001B[43m \u001B[49m\u001B[38;5;124;43m\"\u001B[39;49m\u001B[38;5;124;43mWACC Inflation Adjusted Risk Free Rate, (\u001B[39;49m\u001B[38;5;124;43m%\u001B[39;49m\u001B[38;5;124;43m)\u001B[39;49m\u001B[38;5;124;43m\"\u001B[39;49m\u001B[43m,\u001B[49m\u001B[43m \u001B[49m\u001B[38;5;124;43m\"\u001B[39;49m\u001B[38;5;124;43mUnemployment rate\u001B[39;49m\u001B[38;5;124;43m\"\u001B[39;49m\u001B[43m]\u001B[49m\u001B[43m]\u001B[49m\n\u001B[0;32m      2\u001B[0m macro\n",
      "File \u001B[1;32m~\\mambaforge\\envs\\AnalystForecast\\Lib\\site-packages\\pandas\\core\\indexing.py:1067\u001B[0m, in \u001B[0;36m_LocationIndexer.__getitem__\u001B[1;34m(self, key)\u001B[0m\n\u001B[0;32m   1065\u001B[0m     \u001B[38;5;28;01mif\u001B[39;00m \u001B[38;5;28mself\u001B[39m\u001B[38;5;241m.\u001B[39m_is_scalar_access(key):\n\u001B[0;32m   1066\u001B[0m         \u001B[38;5;28;01mreturn\u001B[39;00m \u001B[38;5;28mself\u001B[39m\u001B[38;5;241m.\u001B[39mobj\u001B[38;5;241m.\u001B[39m_get_value(\u001B[38;5;241m*\u001B[39mkey, takeable\u001B[38;5;241m=\u001B[39m\u001B[38;5;28mself\u001B[39m\u001B[38;5;241m.\u001B[39m_takeable)\n\u001B[1;32m-> 1067\u001B[0m     \u001B[38;5;28;01mreturn\u001B[39;00m \u001B[38;5;28;43mself\u001B[39;49m\u001B[38;5;241;43m.\u001B[39;49m\u001B[43m_getitem_tuple\u001B[49m\u001B[43m(\u001B[49m\u001B[43mkey\u001B[49m\u001B[43m)\u001B[49m\n\u001B[0;32m   1068\u001B[0m \u001B[38;5;28;01melse\u001B[39;00m:\n\u001B[0;32m   1069\u001B[0m     \u001B[38;5;66;03m# we by definition only have the 0th axis\u001B[39;00m\n\u001B[0;32m   1070\u001B[0m     axis \u001B[38;5;241m=\u001B[39m \u001B[38;5;28mself\u001B[39m\u001B[38;5;241m.\u001B[39maxis \u001B[38;5;129;01mor\u001B[39;00m \u001B[38;5;241m0\u001B[39m\n",
      "File \u001B[1;32m~\\mambaforge\\envs\\AnalystForecast\\Lib\\site-packages\\pandas\\core\\indexing.py:1256\u001B[0m, in \u001B[0;36m_LocIndexer._getitem_tuple\u001B[1;34m(self, tup)\u001B[0m\n\u001B[0;32m   1253\u001B[0m \u001B[38;5;28;01mif\u001B[39;00m \u001B[38;5;28mself\u001B[39m\u001B[38;5;241m.\u001B[39m_multi_take_opportunity(tup):\n\u001B[0;32m   1254\u001B[0m     \u001B[38;5;28;01mreturn\u001B[39;00m \u001B[38;5;28mself\u001B[39m\u001B[38;5;241m.\u001B[39m_multi_take(tup)\n\u001B[1;32m-> 1256\u001B[0m \u001B[38;5;28;01mreturn\u001B[39;00m \u001B[38;5;28;43mself\u001B[39;49m\u001B[38;5;241;43m.\u001B[39;49m\u001B[43m_getitem_tuple_same_dim\u001B[49m\u001B[43m(\u001B[49m\u001B[43mtup\u001B[49m\u001B[43m)\u001B[49m\n",
      "File \u001B[1;32m~\\mambaforge\\envs\\AnalystForecast\\Lib\\site-packages\\pandas\\core\\indexing.py:924\u001B[0m, in \u001B[0;36m_LocationIndexer._getitem_tuple_same_dim\u001B[1;34m(self, tup)\u001B[0m\n\u001B[0;32m    921\u001B[0m \u001B[38;5;28;01mif\u001B[39;00m com\u001B[38;5;241m.\u001B[39mis_null_slice(key):\n\u001B[0;32m    922\u001B[0m     \u001B[38;5;28;01mcontinue\u001B[39;00m\n\u001B[1;32m--> 924\u001B[0m retval \u001B[38;5;241m=\u001B[39m \u001B[38;5;28;43mgetattr\u001B[39;49m\u001B[43m(\u001B[49m\u001B[43mretval\u001B[49m\u001B[43m,\u001B[49m\u001B[43m \u001B[49m\u001B[38;5;28;43mself\u001B[39;49m\u001B[38;5;241;43m.\u001B[39;49m\u001B[43mname\u001B[49m\u001B[43m)\u001B[49m\u001B[38;5;241;43m.\u001B[39;49m\u001B[43m_getitem_axis\u001B[49m\u001B[43m(\u001B[49m\u001B[43mkey\u001B[49m\u001B[43m,\u001B[49m\u001B[43m \u001B[49m\u001B[43maxis\u001B[49m\u001B[38;5;241;43m=\u001B[39;49m\u001B[43mi\u001B[49m\u001B[43m)\u001B[49m\n\u001B[0;32m    925\u001B[0m \u001B[38;5;66;03m# We should never have retval.ndim < self.ndim, as that should\u001B[39;00m\n\u001B[0;32m    926\u001B[0m \u001B[38;5;66;03m#  be handled by the _getitem_lowerdim call above.\u001B[39;00m\n\u001B[0;32m    927\u001B[0m \u001B[38;5;28;01massert\u001B[39;00m retval\u001B[38;5;241m.\u001B[39mndim \u001B[38;5;241m==\u001B[39m \u001B[38;5;28mself\u001B[39m\u001B[38;5;241m.\u001B[39mndim\n",
      "File \u001B[1;32m~\\mambaforge\\envs\\AnalystForecast\\Lib\\site-packages\\pandas\\core\\indexing.py:1301\u001B[0m, in \u001B[0;36m_LocIndexer._getitem_axis\u001B[1;34m(self, key, axis)\u001B[0m\n\u001B[0;32m   1298\u001B[0m     \u001B[38;5;28;01mif\u001B[39;00m \u001B[38;5;28mhasattr\u001B[39m(key, \u001B[38;5;124m\"\u001B[39m\u001B[38;5;124mndim\u001B[39m\u001B[38;5;124m\"\u001B[39m) \u001B[38;5;129;01mand\u001B[39;00m key\u001B[38;5;241m.\u001B[39mndim \u001B[38;5;241m>\u001B[39m \u001B[38;5;241m1\u001B[39m:\n\u001B[0;32m   1299\u001B[0m         \u001B[38;5;28;01mraise\u001B[39;00m \u001B[38;5;167;01mValueError\u001B[39;00m(\u001B[38;5;124m\"\u001B[39m\u001B[38;5;124mCannot index with multidimensional key\u001B[39m\u001B[38;5;124m\"\u001B[39m)\n\u001B[1;32m-> 1301\u001B[0m     \u001B[38;5;28;01mreturn\u001B[39;00m \u001B[38;5;28;43mself\u001B[39;49m\u001B[38;5;241;43m.\u001B[39;49m\u001B[43m_getitem_iterable\u001B[49m\u001B[43m(\u001B[49m\u001B[43mkey\u001B[49m\u001B[43m,\u001B[49m\u001B[43m \u001B[49m\u001B[43maxis\u001B[49m\u001B[38;5;241;43m=\u001B[39;49m\u001B[43maxis\u001B[49m\u001B[43m)\u001B[49m\n\u001B[0;32m   1303\u001B[0m \u001B[38;5;66;03m# nested tuple slicing\u001B[39;00m\n\u001B[0;32m   1304\u001B[0m \u001B[38;5;28;01mif\u001B[39;00m is_nested_tuple(key, labels):\n",
      "File \u001B[1;32m~\\mambaforge\\envs\\AnalystForecast\\Lib\\site-packages\\pandas\\core\\indexing.py:1239\u001B[0m, in \u001B[0;36m_LocIndexer._getitem_iterable\u001B[1;34m(self, key, axis)\u001B[0m\n\u001B[0;32m   1236\u001B[0m \u001B[38;5;28mself\u001B[39m\u001B[38;5;241m.\u001B[39m_validate_key(key, axis)\n\u001B[0;32m   1238\u001B[0m \u001B[38;5;66;03m# A collection of keys\u001B[39;00m\n\u001B[1;32m-> 1239\u001B[0m keyarr, indexer \u001B[38;5;241m=\u001B[39m \u001B[38;5;28;43mself\u001B[39;49m\u001B[38;5;241;43m.\u001B[39;49m\u001B[43m_get_listlike_indexer\u001B[49m\u001B[43m(\u001B[49m\u001B[43mkey\u001B[49m\u001B[43m,\u001B[49m\u001B[43m \u001B[49m\u001B[43maxis\u001B[49m\u001B[43m)\u001B[49m\n\u001B[0;32m   1240\u001B[0m \u001B[38;5;28;01mreturn\u001B[39;00m \u001B[38;5;28mself\u001B[39m\u001B[38;5;241m.\u001B[39mobj\u001B[38;5;241m.\u001B[39m_reindex_with_indexers(\n\u001B[0;32m   1241\u001B[0m     {axis: [keyarr, indexer]}, copy\u001B[38;5;241m=\u001B[39m\u001B[38;5;28;01mTrue\u001B[39;00m, allow_dups\u001B[38;5;241m=\u001B[39m\u001B[38;5;28;01mTrue\u001B[39;00m\n\u001B[0;32m   1242\u001B[0m )\n",
      "File \u001B[1;32m~\\mambaforge\\envs\\AnalystForecast\\Lib\\site-packages\\pandas\\core\\indexing.py:1432\u001B[0m, in \u001B[0;36m_LocIndexer._get_listlike_indexer\u001B[1;34m(self, key, axis)\u001B[0m\n\u001B[0;32m   1429\u001B[0m ax \u001B[38;5;241m=\u001B[39m \u001B[38;5;28mself\u001B[39m\u001B[38;5;241m.\u001B[39mobj\u001B[38;5;241m.\u001B[39m_get_axis(axis)\n\u001B[0;32m   1430\u001B[0m axis_name \u001B[38;5;241m=\u001B[39m \u001B[38;5;28mself\u001B[39m\u001B[38;5;241m.\u001B[39mobj\u001B[38;5;241m.\u001B[39m_get_axis_name(axis)\n\u001B[1;32m-> 1432\u001B[0m keyarr, indexer \u001B[38;5;241m=\u001B[39m \u001B[43max\u001B[49m\u001B[38;5;241;43m.\u001B[39;49m\u001B[43m_get_indexer_strict\u001B[49m\u001B[43m(\u001B[49m\u001B[43mkey\u001B[49m\u001B[43m,\u001B[49m\u001B[43m \u001B[49m\u001B[43maxis_name\u001B[49m\u001B[43m)\u001B[49m\n\u001B[0;32m   1434\u001B[0m \u001B[38;5;28;01mreturn\u001B[39;00m keyarr, indexer\n",
      "File \u001B[1;32m~\\mambaforge\\envs\\AnalystForecast\\Lib\\site-packages\\pandas\\core\\indexes\\base.py:6070\u001B[0m, in \u001B[0;36mIndex._get_indexer_strict\u001B[1;34m(self, key, axis_name)\u001B[0m\n\u001B[0;32m   6067\u001B[0m \u001B[38;5;28;01melse\u001B[39;00m:\n\u001B[0;32m   6068\u001B[0m     keyarr, indexer, new_indexer \u001B[38;5;241m=\u001B[39m \u001B[38;5;28mself\u001B[39m\u001B[38;5;241m.\u001B[39m_reindex_non_unique(keyarr)\n\u001B[1;32m-> 6070\u001B[0m \u001B[38;5;28;43mself\u001B[39;49m\u001B[38;5;241;43m.\u001B[39;49m\u001B[43m_raise_if_missing\u001B[49m\u001B[43m(\u001B[49m\u001B[43mkeyarr\u001B[49m\u001B[43m,\u001B[49m\u001B[43m \u001B[49m\u001B[43mindexer\u001B[49m\u001B[43m,\u001B[49m\u001B[43m \u001B[49m\u001B[43maxis_name\u001B[49m\u001B[43m)\u001B[49m\n\u001B[0;32m   6072\u001B[0m keyarr \u001B[38;5;241m=\u001B[39m \u001B[38;5;28mself\u001B[39m\u001B[38;5;241m.\u001B[39mtake(indexer)\n\u001B[0;32m   6073\u001B[0m \u001B[38;5;28;01mif\u001B[39;00m \u001B[38;5;28misinstance\u001B[39m(key, Index):\n\u001B[0;32m   6074\u001B[0m     \u001B[38;5;66;03m# GH 42790 - Preserve name from an Index\u001B[39;00m\n",
      "File \u001B[1;32m~\\mambaforge\\envs\\AnalystForecast\\Lib\\site-packages\\pandas\\core\\indexes\\base.py:6133\u001B[0m, in \u001B[0;36mIndex._raise_if_missing\u001B[1;34m(self, key, indexer, axis_name)\u001B[0m\n\u001B[0;32m   6130\u001B[0m     \u001B[38;5;28;01mraise\u001B[39;00m \u001B[38;5;167;01mKeyError\u001B[39;00m(\u001B[38;5;124mf\u001B[39m\u001B[38;5;124m\"\u001B[39m\u001B[38;5;124mNone of [\u001B[39m\u001B[38;5;132;01m{\u001B[39;00mkey\u001B[38;5;132;01m}\u001B[39;00m\u001B[38;5;124m] are in the [\u001B[39m\u001B[38;5;132;01m{\u001B[39;00maxis_name\u001B[38;5;132;01m}\u001B[39;00m\u001B[38;5;124m]\u001B[39m\u001B[38;5;124m\"\u001B[39m)\n\u001B[0;32m   6132\u001B[0m not_found \u001B[38;5;241m=\u001B[39m \u001B[38;5;28mlist\u001B[39m(ensure_index(key)[missing_mask\u001B[38;5;241m.\u001B[39mnonzero()[\u001B[38;5;241m0\u001B[39m]]\u001B[38;5;241m.\u001B[39munique())\n\u001B[1;32m-> 6133\u001B[0m \u001B[38;5;28;01mraise\u001B[39;00m \u001B[38;5;167;01mKeyError\u001B[39;00m(\u001B[38;5;124mf\u001B[39m\u001B[38;5;124m\"\u001B[39m\u001B[38;5;132;01m{\u001B[39;00mnot_found\u001B[38;5;132;01m}\u001B[39;00m\u001B[38;5;124m not in index\u001B[39m\u001B[38;5;124m\"\u001B[39m)\n",
      "\u001B[1;31mKeyError\u001B[0m: \"['Unemployment rate'] not in index\""
     ]
    }
   ],
   "source": [
    "macro = df.loc[:, [\"Instrument\", \"Date\", \"Earnings Per Share - Actual Surprise\", \"WACC Inflation Adjusted Risk Free Rate, (%)\", \"Unemployment rate\"]]\n",
    "macro"
   ],
   "metadata": {
    "collapsed": false
   }
  },
  {
   "cell_type": "code",
   "execution_count": null,
   "outputs": [],
   "source": [
    "macro.to_csv(\"Dataframes/macro.csv\", index=False)"
   ],
   "metadata": {
    "collapsed": false
   }
  },
  {
   "cell_type": "code",
   "execution_count": null,
   "outputs": [],
   "source": [
    "# df['ESG Score'] = pd.Series()\n",
    "# df['Governance Pillar Score'] = pd.Series()\n",
    "# df['Independent Board Members'] = pd.Series()\n",
    "#\n",
    "# for i in range(len(df2)):\n",
    "#     for j in range(len(df)):\n",
    "#         if df.loc[j, \"Instrument\"] == df2.loc[i, \"Instrument\"] and df.loc[j, \"Date\"].year == df2.loc[i, \"Date\"].year:\n",
    "#             df.loc[j, \"ESG Score\"] = df2.loc[i, \"ESG Score\"]\n",
    "#             df.loc[j, \"Governance Pillar Score\"] = df2.loc[i, \"Governance Pillar Score\"]\n",
    "#             df.loc[j, \"Independent Board Members\"] = df2.loc[i, \"Independent Board Members\"]\n",
    "#\n",
    "# df\n",
    "\n",
    "#Comment: Takes too much time"
   ],
   "metadata": {
    "collapsed": false
   }
  },
  {
   "cell_type": "code",
   "execution_count": null,
   "outputs": [],
   "source": [],
   "metadata": {
    "collapsed": false
   }
  }
 ],
 "metadata": {
  "kernelspec": {
   "display_name": "AnalystForecast",
   "language": "python",
   "name": "python3"
  },
  "language_info": {
   "codemirror_mode": {
    "name": "ipython",
    "version": 2
   },
   "file_extension": ".py",
   "mimetype": "text/x-python",
   "name": "python",
   "nbconvert_exporter": "python",
   "pygments_lexer": "ipython2",
   "version": "3.11.0"
  },
  "vscode": {
   "interpreter": {
    "hash": "264d128b47a19451ae7876f5ee246d3f7de9751940a5ebe47f15ec6626e5a91f"
   }
  }
 },
 "nbformat": 4,
 "nbformat_minor": 0
}
