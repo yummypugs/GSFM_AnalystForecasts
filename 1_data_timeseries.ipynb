{
 "cells": [
  {
   "cell_type": "code",
   "execution_count": 1,
   "metadata": {
    "collapsed": false
   },
   "outputs": [],
   "source": [
    "import pandas as pd\n",
    "import numpy as np\n",
    "import datetime\n",
    "import plotly.express as px"
   ]
  },
  {
   "cell_type": "markdown",
   "source": [
    "## Whole Dataframe"
   ],
   "metadata": {
    "collapsed": false
   }
  },
  {
   "cell_type": "code",
   "execution_count": 5,
   "metadata": {
    "collapsed": false
   },
   "outputs": [
    {
     "data": {
      "text/plain": "     Instrument        Date  Earnings Per Share - Actual  \\\n0       POOL.OQ  2022-10-01                         4.78   \n1       POOL.OQ  2022-07-01                         7.63   \n2       POOL.OQ  2022-04-01                         4.23   \n3       POOL.OQ  2022-01-01                         2.63   \n4       POOL.OQ  2021-10-01                         4.51   \n...         ...         ...                          ...   \n2510      AVY.N  2022-10-01                         2.46   \n2511      AVY.N  2022-07-01                         2.64   \n2512      AVY.N  2022-04-01                         2.40   \n2513      AVY.N  2022-01-01                         2.13   \n2514      AVY.N  2021-10-01                         2.14   \n\n      Earnings Per Share - Mean  Earnings Per Share - Actual Surprise  \\\n0                       4.58750                                 4.196   \n1                       7.51700                                 1.503   \n2                       3.14867                                34.342   \n3                       1.87500                                40.267   \n4                       3.84833                                17.194   \n...                         ...                                   ...   \n2510                    2.46323                                -0.131   \n2511                    2.36485                                11.635   \n2512                    2.17008                                10.595   \n2513                    2.12375                                 0.294   \n2514                    2.04230                                 4.784   \n\n      Earnings Per Share – Coefficient of Variation  Market Capitalization  \\\n0                                          3.843706           1.259813e+10   \n1                                          3.625249           1.405795e+10   \n2                                          6.630736           1.696712e+10   \n3                                          3.269867           2.268979e+10   \n4                                          2.836295           1.742020e+10   \n...                                             ...                    ...   \n2510                                       2.002655           1.322042e+10   \n2511                                       2.604816           1.343710e+10   \n2512                                       3.888797           1.441548e+10   \n2513                                       1.875927           1.793104e+10   \n2514                                       3.935759           1.737642e+10   \n\n      Revenue - Actual  Enterprise Value  Number of Analysts  \\\n0         1.615339e+09      1.406160e+10                10.0   \n1         2.055818e+09      1.556187e+10                 9.0   \n2         1.412650e+09      1.843682e+10                 9.0   \n3         1.035557e+09      2.384882e+10                 8.0   \n4         1.411448e+09      1.769954e+10                 8.0   \n...                ...               ...                 ...   \n2510      2.317100e+09      1.622502e+10                13.0   \n2511      2.347000e+09      1.650430e+10                13.0   \n2512      2.349300e+09      1.753708e+10                12.0   \n2513      2.183200e+09      2.087304e+10                12.0   \n2514      2.071800e+09      2.036822e+10                11.0   \n\n      Recommendation - Mean (1-5)  Recommendation - Mean (1-5).1  \\\n0                         2.27273                        2.20000   \n1                         2.20000                        2.00000   \n2                         2.00000                        2.30000   \n3                         2.30000                        2.30000   \n4                         2.30000                        2.30000   \n...                           ...                            ...   \n2510                      2.14286                        2.00000   \n2511                      2.00000                        2.06667   \n2512                      2.06667                        2.14286   \n2513                      2.14286                        2.15385   \n2514                      2.15385                        2.15385   \n\n      WACC Inflation Adjusted Risk Free Rate, (%)  Net Income after Tax  \\\n0                                        3.747421           189965000.0   \n1                                        3.092855           307205000.0   \n2                                        2.325202           179203000.0   \n3                                        1.515266           107542000.0   \n4                                        1.527139           184573000.0   \n...                                           ...                   ...   \n2510                                     3.747421           221500000.0   \n2511                                     3.092855           214500000.0   \n2512                                     2.325202           198200000.0   \n2513                                     1.515266           183100000.0   \n2514                                     1.527139           165200000.0   \n\n      Price Target - Mean  Price Close  \\\n0               360.11111       318.21   \n1               435.37500       351.23   \n2               519.88889       422.85   \n3               571.00000       566.00   \n4               545.28571       434.41   \n...                   ...          ...   \n2510            201.63636       162.70   \n2511            210.72727       161.87   \n2512            219.00000       173.97   \n2513            240.45455       216.57   \n2514            235.70000       207.21   \n\n      Enterprise Value To Sales (Daily Time Series Ratio)  \n0                                              2.383926    \n1                                              2.749481    \n2                                              3.422880    \n3                                              4.504382    \n4                                              3.684400    \n...                                                 ...    \n2510                                           1.819581    \n2511                                           1.877800    \n2512                                           2.053846    \n2513                                           2.546597    \n2514                                           2.398382    \n\n[2515 rows x 17 columns]",
      "text/html": "<div>\n<style scoped>\n    .dataframe tbody tr th:only-of-type {\n        vertical-align: middle;\n    }\n\n    .dataframe tbody tr th {\n        vertical-align: top;\n    }\n\n    .dataframe thead th {\n        text-align: right;\n    }\n</style>\n<table border=\"1\" class=\"dataframe\">\n  <thead>\n    <tr style=\"text-align: right;\">\n      <th></th>\n      <th>Instrument</th>\n      <th>Date</th>\n      <th>Earnings Per Share - Actual</th>\n      <th>Earnings Per Share - Mean</th>\n      <th>Earnings Per Share - Actual Surprise</th>\n      <th>Earnings Per Share – Coefficient of Variation</th>\n      <th>Market Capitalization</th>\n      <th>Revenue - Actual</th>\n      <th>Enterprise Value</th>\n      <th>Number of Analysts</th>\n      <th>Recommendation - Mean (1-5)</th>\n      <th>Recommendation - Mean (1-5).1</th>\n      <th>WACC Inflation Adjusted Risk Free Rate, (%)</th>\n      <th>Net Income after Tax</th>\n      <th>Price Target - Mean</th>\n      <th>Price Close</th>\n      <th>Enterprise Value To Sales (Daily Time Series Ratio)</th>\n    </tr>\n  </thead>\n  <tbody>\n    <tr>\n      <th>0</th>\n      <td>POOL.OQ</td>\n      <td>2022-10-01</td>\n      <td>4.78</td>\n      <td>4.58750</td>\n      <td>4.196</td>\n      <td>3.843706</td>\n      <td>1.259813e+10</td>\n      <td>1.615339e+09</td>\n      <td>1.406160e+10</td>\n      <td>10.0</td>\n      <td>2.27273</td>\n      <td>2.20000</td>\n      <td>3.747421</td>\n      <td>189965000.0</td>\n      <td>360.11111</td>\n      <td>318.21</td>\n      <td>2.383926</td>\n    </tr>\n    <tr>\n      <th>1</th>\n      <td>POOL.OQ</td>\n      <td>2022-07-01</td>\n      <td>7.63</td>\n      <td>7.51700</td>\n      <td>1.503</td>\n      <td>3.625249</td>\n      <td>1.405795e+10</td>\n      <td>2.055818e+09</td>\n      <td>1.556187e+10</td>\n      <td>9.0</td>\n      <td>2.20000</td>\n      <td>2.00000</td>\n      <td>3.092855</td>\n      <td>307205000.0</td>\n      <td>435.37500</td>\n      <td>351.23</td>\n      <td>2.749481</td>\n    </tr>\n    <tr>\n      <th>2</th>\n      <td>POOL.OQ</td>\n      <td>2022-04-01</td>\n      <td>4.23</td>\n      <td>3.14867</td>\n      <td>34.342</td>\n      <td>6.630736</td>\n      <td>1.696712e+10</td>\n      <td>1.412650e+09</td>\n      <td>1.843682e+10</td>\n      <td>9.0</td>\n      <td>2.00000</td>\n      <td>2.30000</td>\n      <td>2.325202</td>\n      <td>179203000.0</td>\n      <td>519.88889</td>\n      <td>422.85</td>\n      <td>3.422880</td>\n    </tr>\n    <tr>\n      <th>3</th>\n      <td>POOL.OQ</td>\n      <td>2022-01-01</td>\n      <td>2.63</td>\n      <td>1.87500</td>\n      <td>40.267</td>\n      <td>3.269867</td>\n      <td>2.268979e+10</td>\n      <td>1.035557e+09</td>\n      <td>2.384882e+10</td>\n      <td>8.0</td>\n      <td>2.30000</td>\n      <td>2.30000</td>\n      <td>1.515266</td>\n      <td>107542000.0</td>\n      <td>571.00000</td>\n      <td>566.00</td>\n      <td>4.504382</td>\n    </tr>\n    <tr>\n      <th>4</th>\n      <td>POOL.OQ</td>\n      <td>2021-10-01</td>\n      <td>4.51</td>\n      <td>3.84833</td>\n      <td>17.194</td>\n      <td>2.836295</td>\n      <td>1.742020e+10</td>\n      <td>1.411448e+09</td>\n      <td>1.769954e+10</td>\n      <td>8.0</td>\n      <td>2.30000</td>\n      <td>2.30000</td>\n      <td>1.527139</td>\n      <td>184573000.0</td>\n      <td>545.28571</td>\n      <td>434.41</td>\n      <td>3.684400</td>\n    </tr>\n    <tr>\n      <th>...</th>\n      <td>...</td>\n      <td>...</td>\n      <td>...</td>\n      <td>...</td>\n      <td>...</td>\n      <td>...</td>\n      <td>...</td>\n      <td>...</td>\n      <td>...</td>\n      <td>...</td>\n      <td>...</td>\n      <td>...</td>\n      <td>...</td>\n      <td>...</td>\n      <td>...</td>\n      <td>...</td>\n      <td>...</td>\n    </tr>\n    <tr>\n      <th>2510</th>\n      <td>AVY.N</td>\n      <td>2022-10-01</td>\n      <td>2.46</td>\n      <td>2.46323</td>\n      <td>-0.131</td>\n      <td>2.002655</td>\n      <td>1.322042e+10</td>\n      <td>2.317100e+09</td>\n      <td>1.622502e+10</td>\n      <td>13.0</td>\n      <td>2.14286</td>\n      <td>2.00000</td>\n      <td>3.747421</td>\n      <td>221500000.0</td>\n      <td>201.63636</td>\n      <td>162.70</td>\n      <td>1.819581</td>\n    </tr>\n    <tr>\n      <th>2511</th>\n      <td>AVY.N</td>\n      <td>2022-07-01</td>\n      <td>2.64</td>\n      <td>2.36485</td>\n      <td>11.635</td>\n      <td>2.604816</td>\n      <td>1.343710e+10</td>\n      <td>2.347000e+09</td>\n      <td>1.650430e+10</td>\n      <td>13.0</td>\n      <td>2.00000</td>\n      <td>2.06667</td>\n      <td>3.092855</td>\n      <td>214500000.0</td>\n      <td>210.72727</td>\n      <td>161.87</td>\n      <td>1.877800</td>\n    </tr>\n    <tr>\n      <th>2512</th>\n      <td>AVY.N</td>\n      <td>2022-04-01</td>\n      <td>2.40</td>\n      <td>2.17008</td>\n      <td>10.595</td>\n      <td>3.888797</td>\n      <td>1.441548e+10</td>\n      <td>2.349300e+09</td>\n      <td>1.753708e+10</td>\n      <td>12.0</td>\n      <td>2.06667</td>\n      <td>2.14286</td>\n      <td>2.325202</td>\n      <td>198200000.0</td>\n      <td>219.00000</td>\n      <td>173.97</td>\n      <td>2.053846</td>\n    </tr>\n    <tr>\n      <th>2513</th>\n      <td>AVY.N</td>\n      <td>2022-01-01</td>\n      <td>2.13</td>\n      <td>2.12375</td>\n      <td>0.294</td>\n      <td>1.875927</td>\n      <td>1.793104e+10</td>\n      <td>2.183200e+09</td>\n      <td>2.087304e+10</td>\n      <td>12.0</td>\n      <td>2.14286</td>\n      <td>2.15385</td>\n      <td>1.515266</td>\n      <td>183100000.0</td>\n      <td>240.45455</td>\n      <td>216.57</td>\n      <td>2.546597</td>\n    </tr>\n    <tr>\n      <th>2514</th>\n      <td>AVY.N</td>\n      <td>2021-10-01</td>\n      <td>2.14</td>\n      <td>2.04230</td>\n      <td>4.784</td>\n      <td>3.935759</td>\n      <td>1.737642e+10</td>\n      <td>2.071800e+09</td>\n      <td>2.036822e+10</td>\n      <td>11.0</td>\n      <td>2.15385</td>\n      <td>2.15385</td>\n      <td>1.527139</td>\n      <td>165200000.0</td>\n      <td>235.70000</td>\n      <td>207.21</td>\n      <td>2.398382</td>\n    </tr>\n  </tbody>\n</table>\n<p>2515 rows × 17 columns</p>\n</div>"
     },
     "execution_count": 5,
     "metadata": {},
     "output_type": "execute_result"
    }
   ],
   "source": [
    "df = pd.read_csv(\"Dataframes/economic_story_dataframe.csv\")\n",
    "df\n",
    "#df.isna().sum()"
   ]
  },
  {
   "cell_type": "markdown",
   "source": [
    "# Creating subset dataframes for every factor"
   ],
   "metadata": {
    "collapsed": false
   }
  },
  {
   "cell_type": "markdown",
   "source": [
    "## Characteristics dataframe"
   ],
   "metadata": {
    "collapsed": false
   }
  },
  {
   "cell_type": "code",
   "execution_count": 7,
   "metadata": {
    "collapsed": false
   },
   "outputs": [
    {
     "data": {
      "text/plain": "     Instrument        Date  Earnings Per Share - Actual Surprise  \\\n0       POOL.OQ  2022-10-01                                 4.196   \n1       POOL.OQ  2022-07-01                                 1.503   \n2       POOL.OQ  2022-04-01                                34.342   \n3       POOL.OQ  2022-01-01                                40.267   \n4       POOL.OQ  2021-10-01                                17.194   \n...         ...         ...                                   ...   \n2510      AVY.N  2022-10-01                                -0.131   \n2511      AVY.N  2022-07-01                                11.635   \n2512      AVY.N  2022-04-01                                10.595   \n2513      AVY.N  2022-01-01                                 0.294   \n2514      AVY.N  2021-10-01                                 4.784   \n\n      Revenue - Actual  Net Income after Tax  Enterprise Value  \\\n0         1.615339e+09           189965000.0      1.406160e+10   \n1         2.055818e+09           307205000.0      1.556187e+10   \n2         1.412650e+09           179203000.0      1.843682e+10   \n3         1.035557e+09           107542000.0      2.384882e+10   \n4         1.411448e+09           184573000.0      1.769954e+10   \n...                ...                   ...               ...   \n2510      2.317100e+09           221500000.0      1.622502e+10   \n2511      2.347000e+09           214500000.0      1.650430e+10   \n2512      2.349300e+09           198200000.0      1.753708e+10   \n2513      2.183200e+09           183100000.0      2.087304e+10   \n2514      2.071800e+09           165200000.0      2.036822e+10   \n\n      Market Capitalization  \\\n0              1.259813e+10   \n1              1.405795e+10   \n2              1.696712e+10   \n3              2.268979e+10   \n4              1.742020e+10   \n...                     ...   \n2510           1.322042e+10   \n2511           1.343710e+10   \n2512           1.441548e+10   \n2513           1.793104e+10   \n2514           1.737642e+10   \n\n      Enterprise Value To Sales (Daily Time Series Ratio)  \n0                                              2.383926    \n1                                              2.749481    \n2                                              3.422880    \n3                                              4.504382    \n4                                              3.684400    \n...                                                 ...    \n2510                                           1.819581    \n2511                                           1.877800    \n2512                                           2.053846    \n2513                                           2.546597    \n2514                                           2.398382    \n\n[2515 rows x 8 columns]",
      "text/html": "<div>\n<style scoped>\n    .dataframe tbody tr th:only-of-type {\n        vertical-align: middle;\n    }\n\n    .dataframe tbody tr th {\n        vertical-align: top;\n    }\n\n    .dataframe thead th {\n        text-align: right;\n    }\n</style>\n<table border=\"1\" class=\"dataframe\">\n  <thead>\n    <tr style=\"text-align: right;\">\n      <th></th>\n      <th>Instrument</th>\n      <th>Date</th>\n      <th>Earnings Per Share - Actual Surprise</th>\n      <th>Revenue - Actual</th>\n      <th>Net Income after Tax</th>\n      <th>Enterprise Value</th>\n      <th>Market Capitalization</th>\n      <th>Enterprise Value To Sales (Daily Time Series Ratio)</th>\n    </tr>\n  </thead>\n  <tbody>\n    <tr>\n      <th>0</th>\n      <td>POOL.OQ</td>\n      <td>2022-10-01</td>\n      <td>4.196</td>\n      <td>1.615339e+09</td>\n      <td>189965000.0</td>\n      <td>1.406160e+10</td>\n      <td>1.259813e+10</td>\n      <td>2.383926</td>\n    </tr>\n    <tr>\n      <th>1</th>\n      <td>POOL.OQ</td>\n      <td>2022-07-01</td>\n      <td>1.503</td>\n      <td>2.055818e+09</td>\n      <td>307205000.0</td>\n      <td>1.556187e+10</td>\n      <td>1.405795e+10</td>\n      <td>2.749481</td>\n    </tr>\n    <tr>\n      <th>2</th>\n      <td>POOL.OQ</td>\n      <td>2022-04-01</td>\n      <td>34.342</td>\n      <td>1.412650e+09</td>\n      <td>179203000.0</td>\n      <td>1.843682e+10</td>\n      <td>1.696712e+10</td>\n      <td>3.422880</td>\n    </tr>\n    <tr>\n      <th>3</th>\n      <td>POOL.OQ</td>\n      <td>2022-01-01</td>\n      <td>40.267</td>\n      <td>1.035557e+09</td>\n      <td>107542000.0</td>\n      <td>2.384882e+10</td>\n      <td>2.268979e+10</td>\n      <td>4.504382</td>\n    </tr>\n    <tr>\n      <th>4</th>\n      <td>POOL.OQ</td>\n      <td>2021-10-01</td>\n      <td>17.194</td>\n      <td>1.411448e+09</td>\n      <td>184573000.0</td>\n      <td>1.769954e+10</td>\n      <td>1.742020e+10</td>\n      <td>3.684400</td>\n    </tr>\n    <tr>\n      <th>...</th>\n      <td>...</td>\n      <td>...</td>\n      <td>...</td>\n      <td>...</td>\n      <td>...</td>\n      <td>...</td>\n      <td>...</td>\n      <td>...</td>\n    </tr>\n    <tr>\n      <th>2510</th>\n      <td>AVY.N</td>\n      <td>2022-10-01</td>\n      <td>-0.131</td>\n      <td>2.317100e+09</td>\n      <td>221500000.0</td>\n      <td>1.622502e+10</td>\n      <td>1.322042e+10</td>\n      <td>1.819581</td>\n    </tr>\n    <tr>\n      <th>2511</th>\n      <td>AVY.N</td>\n      <td>2022-07-01</td>\n      <td>11.635</td>\n      <td>2.347000e+09</td>\n      <td>214500000.0</td>\n      <td>1.650430e+10</td>\n      <td>1.343710e+10</td>\n      <td>1.877800</td>\n    </tr>\n    <tr>\n      <th>2512</th>\n      <td>AVY.N</td>\n      <td>2022-04-01</td>\n      <td>10.595</td>\n      <td>2.349300e+09</td>\n      <td>198200000.0</td>\n      <td>1.753708e+10</td>\n      <td>1.441548e+10</td>\n      <td>2.053846</td>\n    </tr>\n    <tr>\n      <th>2513</th>\n      <td>AVY.N</td>\n      <td>2022-01-01</td>\n      <td>0.294</td>\n      <td>2.183200e+09</td>\n      <td>183100000.0</td>\n      <td>2.087304e+10</td>\n      <td>1.793104e+10</td>\n      <td>2.546597</td>\n    </tr>\n    <tr>\n      <th>2514</th>\n      <td>AVY.N</td>\n      <td>2021-10-01</td>\n      <td>4.784</td>\n      <td>2.071800e+09</td>\n      <td>165200000.0</td>\n      <td>2.036822e+10</td>\n      <td>1.737642e+10</td>\n      <td>2.398382</td>\n    </tr>\n  </tbody>\n</table>\n<p>2515 rows × 8 columns</p>\n</div>"
     },
     "execution_count": 7,
     "metadata": {},
     "output_type": "execute_result"
    }
   ],
   "source": [
    "characteristics = df.loc[:, [\"Instrument\", \"Date\", \"Earnings Per Share - Actual Surprise\", \"Revenue - Actual\", \"Net Income after Tax\", \"Enterprise Value\", \"Market Capitalization\", \"Enterprise Value To Sales (Daily Time Series Ratio)\"]]\n",
    "characteristics"
   ]
  },
  {
   "cell_type": "code",
   "execution_count": 8,
   "outputs": [
    {
     "data": {
      "text/plain": "loss firm status\n 1    2346\n-1     165\n 0       4\ndtype: int64"
     },
     "execution_count": 8,
     "metadata": {},
     "output_type": "execute_result"
    }
   ],
   "source": [
    "characteristics[\"Net Income after Tax\"] = characteristics[\"Net Income after Tax\"].fillna(1)\n",
    "characteristics[\"loss firm status\"] = [1 if x > 1 else -1 if x <= 0 else 0 for x in characteristics[\"Net Income after Tax\"]]\n",
    "characteristics = characteristics.drop(\"Net Income after Tax\", axis=1)\n",
    "characteristics.value_counts(\"loss firm status\")"
   ],
   "metadata": {
    "collapsed": false
   }
  },
  {
   "cell_type": "code",
   "execution_count": 9,
   "metadata": {
    "collapsed": false
   },
   "outputs": [
    {
     "data": {
      "text/plain": "loss firm status\n-1    2326\n 1     164\ndtype: int64"
     },
     "execution_count": 9,
     "metadata": {},
     "output_type": "execute_result"
    }
   ],
   "source": [
    "characteristics = characteristics.dropna()\n",
    "characteristics[\"loss firm status\"] = [-1 if x > 0 else 1 if x <= -1 else 0 for x in characteristics[\"loss firm status\"]]\n",
    "characteristics.value_counts(\"loss firm status\")\n",
    "\n",
    "# loss firm status:\n",
    "# -1 = not a loss firm (is profitable)\n",
    "# 1 = loss firm (negative profit or profit is equal to 0!!)\n",
    "# 0 = value of NA, but we can change this to make NA values loss firm, or we drop them altogether"
   ]
  },
  {
   "cell_type": "code",
   "execution_count": 10,
   "outputs": [],
   "source": [
    "characteristics.to_csv(\"Dataframes/characteristics.csv\", index=False)"
   ],
   "metadata": {
    "collapsed": false
   }
  },
  {
   "cell_type": "markdown",
   "source": [
    "### Analysts dataframe"
   ],
   "metadata": {
    "collapsed": false
   }
  },
  {
   "cell_type": "code",
   "execution_count": 11,
   "outputs": [],
   "source": [
    "analysts = df.loc[:, [\"Instrument\", \"Date\", \"Earnings Per Share - Actual Surprise\", \"Earnings Per Share – Coefficient of Variation\", \"Number of Analysts\", \"Recommendation - Mean (1-5)\", \"Recommendation - Mean (1-5).1\", \"Price Target - Mean\", \"Price Target - Mean\"]]\n",
    "#analysts"
   ],
   "metadata": {
    "collapsed": false
   }
  },
  {
   "cell_type": "code",
   "execution_count": 12,
   "outputs": [
    {
     "data": {
      "text/plain": "     Instrument        Date  Earnings Per Share - Actual Surprise  \\\n0       POOL.OQ  2022-10-01                                 4.196   \n1       POOL.OQ  2022-07-01                                 1.503   \n2       POOL.OQ  2022-04-01                                34.342   \n3       POOL.OQ  2022-01-01                                40.267   \n4       POOL.OQ  2021-10-01                                17.194   \n...         ...         ...                                   ...   \n2510      AVY.N  2022-10-01                                -0.131   \n2511      AVY.N  2022-07-01                                11.635   \n2512      AVY.N  2022-04-01                                10.595   \n2513      AVY.N  2022-01-01                                 0.294   \n2514      AVY.N  2021-10-01                                 4.784   \n\n      Earnings Per Share – Coefficient of Variation  Number of Analysts  \\\n0                                          3.843706                10.0   \n1                                          3.625249                 9.0   \n2                                          6.630736                 9.0   \n3                                          3.269867                 8.0   \n4                                          2.836295                 8.0   \n...                                             ...                 ...   \n2510                                       2.002655                13.0   \n2511                                       2.604816                13.0   \n2512                                       3.888797                12.0   \n2513                                       1.875927                12.0   \n2514                                       3.935759                11.0   \n\n      Recommendation change  Recommendation - Mean (1-5)  Price Target - Mean  \\\n0                   0.07273                      2.27273            360.11111   \n1                   0.20000                      2.20000            435.37500   \n2                  -0.30000                      2.00000            519.88889   \n3                   0.00000                      2.30000            571.00000   \n4                   0.00000                      2.30000            545.28571   \n...                     ...                          ...                  ...   \n2510                0.14286                      2.14286            201.63636   \n2511               -0.06667                      2.00000            210.72727   \n2512               -0.07619                      2.06667            219.00000   \n2513               -0.01099                      2.14286            240.45455   \n2514                0.00000                      2.15385            235.70000   \n\n      Price Target - Mean  \n0               360.11111  \n1               435.37500  \n2               519.88889  \n3               571.00000  \n4               545.28571  \n...                   ...  \n2510            201.63636  \n2511            210.72727  \n2512            219.00000  \n2513            240.45455  \n2514            235.70000  \n\n[2515 rows x 9 columns]",
      "text/html": "<div>\n<style scoped>\n    .dataframe tbody tr th:only-of-type {\n        vertical-align: middle;\n    }\n\n    .dataframe tbody tr th {\n        vertical-align: top;\n    }\n\n    .dataframe thead th {\n        text-align: right;\n    }\n</style>\n<table border=\"1\" class=\"dataframe\">\n  <thead>\n    <tr style=\"text-align: right;\">\n      <th></th>\n      <th>Instrument</th>\n      <th>Date</th>\n      <th>Earnings Per Share - Actual Surprise</th>\n      <th>Earnings Per Share – Coefficient of Variation</th>\n      <th>Number of Analysts</th>\n      <th>Recommendation change</th>\n      <th>Recommendation - Mean (1-5)</th>\n      <th>Price Target - Mean</th>\n      <th>Price Target - Mean</th>\n    </tr>\n  </thead>\n  <tbody>\n    <tr>\n      <th>0</th>\n      <td>POOL.OQ</td>\n      <td>2022-10-01</td>\n      <td>4.196</td>\n      <td>3.843706</td>\n      <td>10.0</td>\n      <td>0.07273</td>\n      <td>2.27273</td>\n      <td>360.11111</td>\n      <td>360.11111</td>\n    </tr>\n    <tr>\n      <th>1</th>\n      <td>POOL.OQ</td>\n      <td>2022-07-01</td>\n      <td>1.503</td>\n      <td>3.625249</td>\n      <td>9.0</td>\n      <td>0.20000</td>\n      <td>2.20000</td>\n      <td>435.37500</td>\n      <td>435.37500</td>\n    </tr>\n    <tr>\n      <th>2</th>\n      <td>POOL.OQ</td>\n      <td>2022-04-01</td>\n      <td>34.342</td>\n      <td>6.630736</td>\n      <td>9.0</td>\n      <td>-0.30000</td>\n      <td>2.00000</td>\n      <td>519.88889</td>\n      <td>519.88889</td>\n    </tr>\n    <tr>\n      <th>3</th>\n      <td>POOL.OQ</td>\n      <td>2022-01-01</td>\n      <td>40.267</td>\n      <td>3.269867</td>\n      <td>8.0</td>\n      <td>0.00000</td>\n      <td>2.30000</td>\n      <td>571.00000</td>\n      <td>571.00000</td>\n    </tr>\n    <tr>\n      <th>4</th>\n      <td>POOL.OQ</td>\n      <td>2021-10-01</td>\n      <td>17.194</td>\n      <td>2.836295</td>\n      <td>8.0</td>\n      <td>0.00000</td>\n      <td>2.30000</td>\n      <td>545.28571</td>\n      <td>545.28571</td>\n    </tr>\n    <tr>\n      <th>...</th>\n      <td>...</td>\n      <td>...</td>\n      <td>...</td>\n      <td>...</td>\n      <td>...</td>\n      <td>...</td>\n      <td>...</td>\n      <td>...</td>\n      <td>...</td>\n    </tr>\n    <tr>\n      <th>2510</th>\n      <td>AVY.N</td>\n      <td>2022-10-01</td>\n      <td>-0.131</td>\n      <td>2.002655</td>\n      <td>13.0</td>\n      <td>0.14286</td>\n      <td>2.14286</td>\n      <td>201.63636</td>\n      <td>201.63636</td>\n    </tr>\n    <tr>\n      <th>2511</th>\n      <td>AVY.N</td>\n      <td>2022-07-01</td>\n      <td>11.635</td>\n      <td>2.604816</td>\n      <td>13.0</td>\n      <td>-0.06667</td>\n      <td>2.00000</td>\n      <td>210.72727</td>\n      <td>210.72727</td>\n    </tr>\n    <tr>\n      <th>2512</th>\n      <td>AVY.N</td>\n      <td>2022-04-01</td>\n      <td>10.595</td>\n      <td>3.888797</td>\n      <td>12.0</td>\n      <td>-0.07619</td>\n      <td>2.06667</td>\n      <td>219.00000</td>\n      <td>219.00000</td>\n    </tr>\n    <tr>\n      <th>2513</th>\n      <td>AVY.N</td>\n      <td>2022-01-01</td>\n      <td>0.294</td>\n      <td>1.875927</td>\n      <td>12.0</td>\n      <td>-0.01099</td>\n      <td>2.14286</td>\n      <td>240.45455</td>\n      <td>240.45455</td>\n    </tr>\n    <tr>\n      <th>2514</th>\n      <td>AVY.N</td>\n      <td>2021-10-01</td>\n      <td>4.784</td>\n      <td>3.935759</td>\n      <td>11.0</td>\n      <td>0.00000</td>\n      <td>2.15385</td>\n      <td>235.70000</td>\n      <td>235.70000</td>\n    </tr>\n  </tbody>\n</table>\n<p>2515 rows × 9 columns</p>\n</div>"
     },
     "execution_count": 12,
     "metadata": {},
     "output_type": "execute_result"
    }
   ],
   "source": [
    "analysts[\"Recommendation change\"] = analysts[\"Recommendation - Mean (1-5)\"] - analysts[\"Recommendation - Mean (1-5).1\"]\n",
    "analysts.insert(5, \"Recommendation change\", analysts.pop(\"Recommendation change\"))\n",
    "analysts = analysts.drop(\"Recommendation - Mean (1-5).1\", axis=1)\n",
    "analysts"
   ],
   "metadata": {
    "collapsed": false
   }
  },
  {
   "cell_type": "code",
   "execution_count": 13,
   "outputs": [],
   "source": [
    "analysts.to_csv(\"Dataframes/analysts.csv\", index=False)"
   ],
   "metadata": {
    "collapsed": false
   }
  },
  {
   "cell_type": "markdown",
   "source": [
    "### Macroeconomic factors dataframe"
   ],
   "metadata": {
    "collapsed": false
   }
  },
  {
   "cell_type": "code",
   "execution_count": 19,
   "outputs": [
    {
     "data": {
      "text/plain": "     Instrument        Date  Earnings Per Share - Actual Surprise  \\\n0       POOL.OQ  2022-10-01                                 4.196   \n1       POOL.OQ  2022-07-01                                 1.503   \n2       POOL.OQ  2022-04-01                                34.342   \n3       POOL.OQ  2022-01-01                                40.267   \n4       POOL.OQ  2021-10-01                                17.194   \n...         ...         ...                                   ...   \n2510      AVY.N  2022-10-01                                -0.131   \n2511      AVY.N  2022-07-01                                11.635   \n2512      AVY.N  2022-04-01                                10.595   \n2513      AVY.N  2022-01-01                                 0.294   \n2514      AVY.N  2021-10-01                                 4.784   \n\n      WACC Inflation Adjusted Risk Free Rate, (%)  \n0                                        3.747421  \n1                                        3.092855  \n2                                        2.325202  \n3                                        1.515266  \n4                                        1.527139  \n...                                           ...  \n2510                                     3.747421  \n2511                                     3.092855  \n2512                                     2.325202  \n2513                                     1.515266  \n2514                                     1.527139  \n\n[2515 rows x 4 columns]",
      "text/html": "<div>\n<style scoped>\n    .dataframe tbody tr th:only-of-type {\n        vertical-align: middle;\n    }\n\n    .dataframe tbody tr th {\n        vertical-align: top;\n    }\n\n    .dataframe thead th {\n        text-align: right;\n    }\n</style>\n<table border=\"1\" class=\"dataframe\">\n  <thead>\n    <tr style=\"text-align: right;\">\n      <th></th>\n      <th>Instrument</th>\n      <th>Date</th>\n      <th>Earnings Per Share - Actual Surprise</th>\n      <th>WACC Inflation Adjusted Risk Free Rate, (%)</th>\n    </tr>\n  </thead>\n  <tbody>\n    <tr>\n      <th>0</th>\n      <td>POOL.OQ</td>\n      <td>2022-10-01</td>\n      <td>4.196</td>\n      <td>3.747421</td>\n    </tr>\n    <tr>\n      <th>1</th>\n      <td>POOL.OQ</td>\n      <td>2022-07-01</td>\n      <td>1.503</td>\n      <td>3.092855</td>\n    </tr>\n    <tr>\n      <th>2</th>\n      <td>POOL.OQ</td>\n      <td>2022-04-01</td>\n      <td>34.342</td>\n      <td>2.325202</td>\n    </tr>\n    <tr>\n      <th>3</th>\n      <td>POOL.OQ</td>\n      <td>2022-01-01</td>\n      <td>40.267</td>\n      <td>1.515266</td>\n    </tr>\n    <tr>\n      <th>4</th>\n      <td>POOL.OQ</td>\n      <td>2021-10-01</td>\n      <td>17.194</td>\n      <td>1.527139</td>\n    </tr>\n    <tr>\n      <th>...</th>\n      <td>...</td>\n      <td>...</td>\n      <td>...</td>\n      <td>...</td>\n    </tr>\n    <tr>\n      <th>2510</th>\n      <td>AVY.N</td>\n      <td>2022-10-01</td>\n      <td>-0.131</td>\n      <td>3.747421</td>\n    </tr>\n    <tr>\n      <th>2511</th>\n      <td>AVY.N</td>\n      <td>2022-07-01</td>\n      <td>11.635</td>\n      <td>3.092855</td>\n    </tr>\n    <tr>\n      <th>2512</th>\n      <td>AVY.N</td>\n      <td>2022-04-01</td>\n      <td>10.595</td>\n      <td>2.325202</td>\n    </tr>\n    <tr>\n      <th>2513</th>\n      <td>AVY.N</td>\n      <td>2022-01-01</td>\n      <td>0.294</td>\n      <td>1.515266</td>\n    </tr>\n    <tr>\n      <th>2514</th>\n      <td>AVY.N</td>\n      <td>2021-10-01</td>\n      <td>4.784</td>\n      <td>1.527139</td>\n    </tr>\n  </tbody>\n</table>\n<p>2515 rows × 4 columns</p>\n</div>"
     },
     "execution_count": 19,
     "metadata": {},
     "output_type": "execute_result"
    }
   ],
   "source": [
    "macro = df.loc[:, [\"Instrument\", \"Date\", \"Earnings Per Share - Actual Surprise\", \"WACC Inflation Adjusted Risk Free Rate, (%)\"]]\n",
    "macro"
   ],
   "metadata": {
    "collapsed": false
   }
  },
  {
   "cell_type": "code",
   "execution_count": 20,
   "outputs": [],
   "source": [
    "macro.to_csv(\"Dataframes/macro.csv\", index=False)"
   ],
   "metadata": {
    "collapsed": false
   }
  },
  {
   "cell_type": "code",
   "execution_count": 12,
   "outputs": [],
   "source": [
    "# df['ESG Score'] = pd.Series()\n",
    "# df['Governance Pillar Score'] = pd.Series()\n",
    "# df['Independent Board Members'] = pd.Series()\n",
    "#\n",
    "# for i in range(len(df2)):\n",
    "#     for j in range(len(df)):\n",
    "#         if df.loc[j, \"Instrument\"] == df2.loc[i, \"Instrument\"] and df.loc[j, \"Date\"].year == df2.loc[i, \"Date\"].year:\n",
    "#             df.loc[j, \"ESG Score\"] = df2.loc[i, \"ESG Score\"]\n",
    "#             df.loc[j, \"Governance Pillar Score\"] = df2.loc[i, \"Governance Pillar Score\"]\n",
    "#             df.loc[j, \"Independent Board Members\"] = df2.loc[i, \"Independent Board Members\"]\n",
    "#\n",
    "# df\n",
    "\n",
    "#Comment: Takes too much time"
   ],
   "metadata": {
    "collapsed": false
   }
  },
  {
   "cell_type": "code",
   "execution_count": 12,
   "outputs": [],
   "source": [],
   "metadata": {
    "collapsed": false
   }
  }
 ],
 "metadata": {
  "kernelspec": {
   "display_name": "AnalystForecast",
   "language": "python",
   "name": "python3"
  },
  "language_info": {
   "codemirror_mode": {
    "name": "ipython",
    "version": 2
   },
   "file_extension": ".py",
   "mimetype": "text/x-python",
   "name": "python",
   "nbconvert_exporter": "python",
   "pygments_lexer": "ipython2",
   "version": "3.11.0"
  },
  "vscode": {
   "interpreter": {
    "hash": "264d128b47a19451ae7876f5ee246d3f7de9751940a5ebe47f15ec6626e5a91f"
   }
  }
 },
 "nbformat": 4,
 "nbformat_minor": 0
}
