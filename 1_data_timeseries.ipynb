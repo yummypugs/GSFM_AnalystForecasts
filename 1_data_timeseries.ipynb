{
 "cells": [
  {
   "cell_type": "code",
   "execution_count": 16,
   "metadata": {
    "collapsed": false
   },
   "outputs": [],
   "source": [
    "import pandas as pd\n",
    "import numpy as np\n",
    "import datetime\n",
    "import plotly.express as px"
   ]
  },
  {
   "cell_type": "markdown",
   "source": [
    "## Whole Dataframe"
   ],
   "metadata": {
    "collapsed": false
   }
  },
  {
   "cell_type": "code",
   "execution_count": 17,
   "metadata": {
    "collapsed": false
   },
   "outputs": [
    {
     "data": {
      "text/plain": "      Instrument        Date  Earnings Per Share - Actual  \\\n0        POOL.OQ  2022-10-01                         4.78   \n1        POOL.OQ  2022-07-01                         7.63   \n2        POOL.OQ  2022-04-01                         4.23   \n3        POOL.OQ  2022-01-01                         2.63   \n4        POOL.OQ  2021-10-01                         4.51   \n...          ...         ...                          ...   \n20115      AVY.N  2014-01-01                         0.69   \n20116      AVY.N  2013-10-01                         0.69   \n20117      AVY.N  2013-07-01                         0.71   \n20118      AVY.N  2013-04-01                         0.59   \n20119      AVY.N  2013-01-01                         0.54   \n\n       Earnings Per Share - Mean  Earnings Per Share - Actual Surprise  \\\n0                        4.58750                                 4.196   \n1                        7.51700                                 1.503   \n2                        3.14867                                34.342   \n3                        1.87500                                40.267   \n4                        3.84833                                17.194   \n...                          ...                                   ...   \n20115                    0.68000                                 1.471   \n20116                    0.63833                                 8.095   \n20117                    0.70250                                 1.068   \n20118                    0.57571                                 2.482   \n20119                    0.48571                                11.178   \n\n       Earnings Per Share – Coefficient of Variation  Market Capitalization  \\\n0                                           3.843706           1.259813e+10   \n1                                           3.625249           1.405795e+10   \n2                                           6.630736           1.696712e+10   \n3                                           3.269867           2.268979e+10   \n4                                           2.836295           1.742020e+10   \n...                                              ...                    ...   \n20115                                       3.204412           4.877168e+09   \n20116                                       2.775994           4.273414e+09   \n20117                                       1.551601           4.258229e+09   \n20118                                       2.046169           4.309428e+09   \n20119                                       3.625620           3.426001e+09   \n\n       Revenue - Actual  Enterprise Value  Number of Analysts  ...  \\\n0          1.615339e+09      1.406160e+10                10.0  ...   \n1          2.055818e+09      1.556187e+10                 9.0  ...   \n2          1.412650e+09      1.843682e+10                 9.0  ...   \n3          1.035557e+09      2.384882e+10                 8.0  ...   \n4          1.411448e+09      1.769954e+10                 8.0  ...   \n...                 ...               ...                 ...  ...   \n20115      1.583900e+09      5.553068e+09                 8.0  ...   \n20116      1.504900e+09      5.029514e+09                 7.0  ...   \n20117      1.552300e+09      5.436229e+09                 8.0  ...   \n20118      1.498900e+09      5.459128e+09                 7.0  ...   \n20119      1.532200e+09      4.413001e+09                 7.0  ...   \n\n       Recommendation - Mean (1-5).1  \\\n0                              2.200   \n1                              2.000   \n2                              2.300   \n3                              2.300   \n4                              2.300   \n...                              ...   \n20115                          2.625   \n20116                          2.875   \n20117                          2.875   \n20118                          3.000   \n20119                          3.000   \n\n       WACC Inflation Adjusted Risk Free Rate, (%)  Net Income after Tax  \\\n0                                         3.747421           189965000.0   \n1                                         3.092855           307205000.0   \n2                                         2.325202           179203000.0   \n3                                         1.515266           107542000.0   \n4                                         1.527139           184573000.0   \n...                                            ...                   ...   \n20115                                          NaN            42100000.0   \n20116                                          NaN            62000000.0   \n20117                                          NaN            70800000.0   \n20118                                          NaN            66800000.0   \n20119                                          NaN            33400000.0   \n\n       Price Target - Mean  Price Target - Standard Deviation  Price Close  \\\n0                360.11111                           24.95082       318.21   \n1                435.37500                           57.57373       351.23   \n2                519.88889                           37.49206       422.85   \n3                571.00000                           41.33833       566.00   \n4                545.28571                           50.48823       434.41   \n...                    ...                                ...          ...   \n20115             54.62500                            3.42555        50.19   \n20116             47.71429                            3.45230        43.52   \n20117             45.00000                            4.30946        42.76   \n20118             42.57143                            3.92272        43.07   \n20119             36.00000                            2.44949        34.92   \n\n       Enterprise Value To Sales (Daily Time Series Ratio)  \\\n0                                               2.383926     \n1                                               2.749481     \n2                                               3.422880     \n3                                               4.504382     \n4                                               3.684400     \n...                                                  ...     \n20115                                           0.920659     \n20116                                           0.903176     \n20117                                           0.906078     \n20118                                           0.895787     \n20119                                           0.799347     \n\n       3 Month Total Return    Volume  Unemployment rate  \n0                 -9.164375  238539.0                3.7  \n1                -21.661570  185584.0                3.5  \n2                -25.160664  290897.0                3.6  \n3                 30.489705   82349.0                4.0  \n4                 -5.130322  157740.0                4.5  \n...                     ...       ...                ...  \n20115             16.003852  157761.0                6.6  \n20116              2.467620  236291.0                7.2  \n20117             -0.054218       0.0                7.3  \n20118             24.148726       0.0                7.6  \n20119             10.637479  207295.0                8.0  \n\n[20120 rows x 21 columns]",
      "text/html": "<div>\n<style scoped>\n    .dataframe tbody tr th:only-of-type {\n        vertical-align: middle;\n    }\n\n    .dataframe tbody tr th {\n        vertical-align: top;\n    }\n\n    .dataframe thead th {\n        text-align: right;\n    }\n</style>\n<table border=\"1\" class=\"dataframe\">\n  <thead>\n    <tr style=\"text-align: right;\">\n      <th></th>\n      <th>Instrument</th>\n      <th>Date</th>\n      <th>Earnings Per Share - Actual</th>\n      <th>Earnings Per Share - Mean</th>\n      <th>Earnings Per Share - Actual Surprise</th>\n      <th>Earnings Per Share – Coefficient of Variation</th>\n      <th>Market Capitalization</th>\n      <th>Revenue - Actual</th>\n      <th>Enterprise Value</th>\n      <th>Number of Analysts</th>\n      <th>...</th>\n      <th>Recommendation - Mean (1-5).1</th>\n      <th>WACC Inflation Adjusted Risk Free Rate, (%)</th>\n      <th>Net Income after Tax</th>\n      <th>Price Target - Mean</th>\n      <th>Price Target - Standard Deviation</th>\n      <th>Price Close</th>\n      <th>Enterprise Value To Sales (Daily Time Series Ratio)</th>\n      <th>3 Month Total Return</th>\n      <th>Volume</th>\n      <th>Unemployment rate</th>\n    </tr>\n  </thead>\n  <tbody>\n    <tr>\n      <th>0</th>\n      <td>POOL.OQ</td>\n      <td>2022-10-01</td>\n      <td>4.78</td>\n      <td>4.58750</td>\n      <td>4.196</td>\n      <td>3.843706</td>\n      <td>1.259813e+10</td>\n      <td>1.615339e+09</td>\n      <td>1.406160e+10</td>\n      <td>10.0</td>\n      <td>...</td>\n      <td>2.200</td>\n      <td>3.747421</td>\n      <td>189965000.0</td>\n      <td>360.11111</td>\n      <td>24.95082</td>\n      <td>318.21</td>\n      <td>2.383926</td>\n      <td>-9.164375</td>\n      <td>238539.0</td>\n      <td>3.7</td>\n    </tr>\n    <tr>\n      <th>1</th>\n      <td>POOL.OQ</td>\n      <td>2022-07-01</td>\n      <td>7.63</td>\n      <td>7.51700</td>\n      <td>1.503</td>\n      <td>3.625249</td>\n      <td>1.405795e+10</td>\n      <td>2.055818e+09</td>\n      <td>1.556187e+10</td>\n      <td>9.0</td>\n      <td>...</td>\n      <td>2.000</td>\n      <td>3.092855</td>\n      <td>307205000.0</td>\n      <td>435.37500</td>\n      <td>57.57373</td>\n      <td>351.23</td>\n      <td>2.749481</td>\n      <td>-21.661570</td>\n      <td>185584.0</td>\n      <td>3.5</td>\n    </tr>\n    <tr>\n      <th>2</th>\n      <td>POOL.OQ</td>\n      <td>2022-04-01</td>\n      <td>4.23</td>\n      <td>3.14867</td>\n      <td>34.342</td>\n      <td>6.630736</td>\n      <td>1.696712e+10</td>\n      <td>1.412650e+09</td>\n      <td>1.843682e+10</td>\n      <td>9.0</td>\n      <td>...</td>\n      <td>2.300</td>\n      <td>2.325202</td>\n      <td>179203000.0</td>\n      <td>519.88889</td>\n      <td>37.49206</td>\n      <td>422.85</td>\n      <td>3.422880</td>\n      <td>-25.160664</td>\n      <td>290897.0</td>\n      <td>3.6</td>\n    </tr>\n    <tr>\n      <th>3</th>\n      <td>POOL.OQ</td>\n      <td>2022-01-01</td>\n      <td>2.63</td>\n      <td>1.87500</td>\n      <td>40.267</td>\n      <td>3.269867</td>\n      <td>2.268979e+10</td>\n      <td>1.035557e+09</td>\n      <td>2.384882e+10</td>\n      <td>8.0</td>\n      <td>...</td>\n      <td>2.300</td>\n      <td>1.515266</td>\n      <td>107542000.0</td>\n      <td>571.00000</td>\n      <td>41.33833</td>\n      <td>566.00</td>\n      <td>4.504382</td>\n      <td>30.489705</td>\n      <td>82349.0</td>\n      <td>4.0</td>\n    </tr>\n    <tr>\n      <th>4</th>\n      <td>POOL.OQ</td>\n      <td>2021-10-01</td>\n      <td>4.51</td>\n      <td>3.84833</td>\n      <td>17.194</td>\n      <td>2.836295</td>\n      <td>1.742020e+10</td>\n      <td>1.411448e+09</td>\n      <td>1.769954e+10</td>\n      <td>8.0</td>\n      <td>...</td>\n      <td>2.300</td>\n      <td>1.527139</td>\n      <td>184573000.0</td>\n      <td>545.28571</td>\n      <td>50.48823</td>\n      <td>434.41</td>\n      <td>3.684400</td>\n      <td>-5.130322</td>\n      <td>157740.0</td>\n      <td>4.5</td>\n    </tr>\n    <tr>\n      <th>...</th>\n      <td>...</td>\n      <td>...</td>\n      <td>...</td>\n      <td>...</td>\n      <td>...</td>\n      <td>...</td>\n      <td>...</td>\n      <td>...</td>\n      <td>...</td>\n      <td>...</td>\n      <td>...</td>\n      <td>...</td>\n      <td>...</td>\n      <td>...</td>\n      <td>...</td>\n      <td>...</td>\n      <td>...</td>\n      <td>...</td>\n      <td>...</td>\n      <td>...</td>\n      <td>...</td>\n    </tr>\n    <tr>\n      <th>20115</th>\n      <td>AVY.N</td>\n      <td>2014-01-01</td>\n      <td>0.69</td>\n      <td>0.68000</td>\n      <td>1.471</td>\n      <td>3.204412</td>\n      <td>4.877168e+09</td>\n      <td>1.583900e+09</td>\n      <td>5.553068e+09</td>\n      <td>8.0</td>\n      <td>...</td>\n      <td>2.625</td>\n      <td>NaN</td>\n      <td>42100000.0</td>\n      <td>54.62500</td>\n      <td>3.42555</td>\n      <td>50.19</td>\n      <td>0.920659</td>\n      <td>16.003852</td>\n      <td>157761.0</td>\n      <td>6.6</td>\n    </tr>\n    <tr>\n      <th>20116</th>\n      <td>AVY.N</td>\n      <td>2013-10-01</td>\n      <td>0.69</td>\n      <td>0.63833</td>\n      <td>8.095</td>\n      <td>2.775994</td>\n      <td>4.273414e+09</td>\n      <td>1.504900e+09</td>\n      <td>5.029514e+09</td>\n      <td>7.0</td>\n      <td>...</td>\n      <td>2.875</td>\n      <td>NaN</td>\n      <td>62000000.0</td>\n      <td>47.71429</td>\n      <td>3.45230</td>\n      <td>43.52</td>\n      <td>0.903176</td>\n      <td>2.467620</td>\n      <td>236291.0</td>\n      <td>7.2</td>\n    </tr>\n    <tr>\n      <th>20117</th>\n      <td>AVY.N</td>\n      <td>2013-07-01</td>\n      <td>0.71</td>\n      <td>0.70250</td>\n      <td>1.068</td>\n      <td>1.551601</td>\n      <td>4.258229e+09</td>\n      <td>1.552300e+09</td>\n      <td>5.436229e+09</td>\n      <td>8.0</td>\n      <td>...</td>\n      <td>2.875</td>\n      <td>NaN</td>\n      <td>70800000.0</td>\n      <td>45.00000</td>\n      <td>4.30946</td>\n      <td>42.76</td>\n      <td>0.906078</td>\n      <td>-0.054218</td>\n      <td>0.0</td>\n      <td>7.3</td>\n    </tr>\n    <tr>\n      <th>20118</th>\n      <td>AVY.N</td>\n      <td>2013-04-01</td>\n      <td>0.59</td>\n      <td>0.57571</td>\n      <td>2.482</td>\n      <td>2.046169</td>\n      <td>4.309428e+09</td>\n      <td>1.498900e+09</td>\n      <td>5.459128e+09</td>\n      <td>7.0</td>\n      <td>...</td>\n      <td>3.000</td>\n      <td>NaN</td>\n      <td>66800000.0</td>\n      <td>42.57143</td>\n      <td>3.92272</td>\n      <td>43.07</td>\n      <td>0.895787</td>\n      <td>24.148726</td>\n      <td>0.0</td>\n      <td>7.6</td>\n    </tr>\n    <tr>\n      <th>20119</th>\n      <td>AVY.N</td>\n      <td>2013-01-01</td>\n      <td>0.54</td>\n      <td>0.48571</td>\n      <td>11.178</td>\n      <td>3.625620</td>\n      <td>3.426001e+09</td>\n      <td>1.532200e+09</td>\n      <td>4.413001e+09</td>\n      <td>7.0</td>\n      <td>...</td>\n      <td>3.000</td>\n      <td>NaN</td>\n      <td>33400000.0</td>\n      <td>36.00000</td>\n      <td>2.44949</td>\n      <td>34.92</td>\n      <td>0.799347</td>\n      <td>10.637479</td>\n      <td>207295.0</td>\n      <td>8.0</td>\n    </tr>\n  </tbody>\n</table>\n<p>20120 rows × 21 columns</p>\n</div>"
     },
     "execution_count": 17,
     "metadata": {},
     "output_type": "execute_result"
    }
   ],
   "source": [
    "df = pd.read_csv(\"Dataframes/economic_story_dataframe.csv\")\n",
    "df\n",
    "#df.isna().sum()"
   ]
  },
  {
   "cell_type": "markdown",
   "source": [
    "# Creating subset dataframes for every factor"
   ],
   "metadata": {
    "collapsed": false
   }
  },
  {
   "cell_type": "markdown",
   "source": [
    "## Characteristics dataframe"
   ],
   "metadata": {
    "collapsed": false
   }
  },
  {
   "cell_type": "code",
   "execution_count": 18,
   "metadata": {
    "collapsed": false
   },
   "outputs": [
    {
     "data": {
      "text/plain": "      Instrument        Date  Earnings Per Share - Actual Surprise  \\\n0        POOL.OQ  2022-10-01                                 4.196   \n1        POOL.OQ  2022-07-01                                 1.503   \n2        POOL.OQ  2022-04-01                                34.342   \n3        POOL.OQ  2022-01-01                                40.267   \n4        POOL.OQ  2021-10-01                                17.194   \n...          ...         ...                                   ...   \n20115      AVY.N  2014-01-01                                 1.471   \n20116      AVY.N  2013-10-01                                 8.095   \n20117      AVY.N  2013-07-01                                 1.068   \n20118      AVY.N  2013-04-01                                 2.482   \n20119      AVY.N  2013-01-01                                11.178   \n\n       Revenue - Actual  Net Income after Tax  Enterprise Value  \\\n0          1.615339e+09           189965000.0      1.406160e+10   \n1          2.055818e+09           307205000.0      1.556187e+10   \n2          1.412650e+09           179203000.0      1.843682e+10   \n3          1.035557e+09           107542000.0      2.384882e+10   \n4          1.411448e+09           184573000.0      1.769954e+10   \n...                 ...                   ...               ...   \n20115      1.583900e+09            42100000.0      5.553068e+09   \n20116      1.504900e+09            62000000.0      5.029514e+09   \n20117      1.552300e+09            70800000.0      5.436229e+09   \n20118      1.498900e+09            66800000.0      5.459128e+09   \n20119      1.532200e+09            33400000.0      4.413001e+09   \n\n       Market Capitalization  \\\n0               1.259813e+10   \n1               1.405795e+10   \n2               1.696712e+10   \n3               2.268979e+10   \n4               1.742020e+10   \n...                      ...   \n20115           4.877168e+09   \n20116           4.273414e+09   \n20117           4.258229e+09   \n20118           4.309428e+09   \n20119           3.426001e+09   \n\n       Enterprise Value To Sales (Daily Time Series Ratio)  \\\n0                                               2.383926     \n1                                               2.749481     \n2                                               3.422880     \n3                                               4.504382     \n4                                               3.684400     \n...                                                  ...     \n20115                                           0.920659     \n20116                                           0.903176     \n20117                                           0.906078     \n20118                                           0.895787     \n20119                                           0.799347     \n\n       3 Month Total Return    Volume  \n0                 -9.164375  238539.0  \n1                -21.661570  185584.0  \n2                -25.160664  290897.0  \n3                 30.489705   82349.0  \n4                 -5.130322  157740.0  \n...                     ...       ...  \n20115             16.003852  157761.0  \n20116              2.467620  236291.0  \n20117             -0.054218       0.0  \n20118             24.148726       0.0  \n20119             10.637479  207295.0  \n\n[20120 rows x 10 columns]",
      "text/html": "<div>\n<style scoped>\n    .dataframe tbody tr th:only-of-type {\n        vertical-align: middle;\n    }\n\n    .dataframe tbody tr th {\n        vertical-align: top;\n    }\n\n    .dataframe thead th {\n        text-align: right;\n    }\n</style>\n<table border=\"1\" class=\"dataframe\">\n  <thead>\n    <tr style=\"text-align: right;\">\n      <th></th>\n      <th>Instrument</th>\n      <th>Date</th>\n      <th>Earnings Per Share - Actual Surprise</th>\n      <th>Revenue - Actual</th>\n      <th>Net Income after Tax</th>\n      <th>Enterprise Value</th>\n      <th>Market Capitalization</th>\n      <th>Enterprise Value To Sales (Daily Time Series Ratio)</th>\n      <th>3 Month Total Return</th>\n      <th>Volume</th>\n    </tr>\n  </thead>\n  <tbody>\n    <tr>\n      <th>0</th>\n      <td>POOL.OQ</td>\n      <td>2022-10-01</td>\n      <td>4.196</td>\n      <td>1.615339e+09</td>\n      <td>189965000.0</td>\n      <td>1.406160e+10</td>\n      <td>1.259813e+10</td>\n      <td>2.383926</td>\n      <td>-9.164375</td>\n      <td>238539.0</td>\n    </tr>\n    <tr>\n      <th>1</th>\n      <td>POOL.OQ</td>\n      <td>2022-07-01</td>\n      <td>1.503</td>\n      <td>2.055818e+09</td>\n      <td>307205000.0</td>\n      <td>1.556187e+10</td>\n      <td>1.405795e+10</td>\n      <td>2.749481</td>\n      <td>-21.661570</td>\n      <td>185584.0</td>\n    </tr>\n    <tr>\n      <th>2</th>\n      <td>POOL.OQ</td>\n      <td>2022-04-01</td>\n      <td>34.342</td>\n      <td>1.412650e+09</td>\n      <td>179203000.0</td>\n      <td>1.843682e+10</td>\n      <td>1.696712e+10</td>\n      <td>3.422880</td>\n      <td>-25.160664</td>\n      <td>290897.0</td>\n    </tr>\n    <tr>\n      <th>3</th>\n      <td>POOL.OQ</td>\n      <td>2022-01-01</td>\n      <td>40.267</td>\n      <td>1.035557e+09</td>\n      <td>107542000.0</td>\n      <td>2.384882e+10</td>\n      <td>2.268979e+10</td>\n      <td>4.504382</td>\n      <td>30.489705</td>\n      <td>82349.0</td>\n    </tr>\n    <tr>\n      <th>4</th>\n      <td>POOL.OQ</td>\n      <td>2021-10-01</td>\n      <td>17.194</td>\n      <td>1.411448e+09</td>\n      <td>184573000.0</td>\n      <td>1.769954e+10</td>\n      <td>1.742020e+10</td>\n      <td>3.684400</td>\n      <td>-5.130322</td>\n      <td>157740.0</td>\n    </tr>\n    <tr>\n      <th>...</th>\n      <td>...</td>\n      <td>...</td>\n      <td>...</td>\n      <td>...</td>\n      <td>...</td>\n      <td>...</td>\n      <td>...</td>\n      <td>...</td>\n      <td>...</td>\n      <td>...</td>\n    </tr>\n    <tr>\n      <th>20115</th>\n      <td>AVY.N</td>\n      <td>2014-01-01</td>\n      <td>1.471</td>\n      <td>1.583900e+09</td>\n      <td>42100000.0</td>\n      <td>5.553068e+09</td>\n      <td>4.877168e+09</td>\n      <td>0.920659</td>\n      <td>16.003852</td>\n      <td>157761.0</td>\n    </tr>\n    <tr>\n      <th>20116</th>\n      <td>AVY.N</td>\n      <td>2013-10-01</td>\n      <td>8.095</td>\n      <td>1.504900e+09</td>\n      <td>62000000.0</td>\n      <td>5.029514e+09</td>\n      <td>4.273414e+09</td>\n      <td>0.903176</td>\n      <td>2.467620</td>\n      <td>236291.0</td>\n    </tr>\n    <tr>\n      <th>20117</th>\n      <td>AVY.N</td>\n      <td>2013-07-01</td>\n      <td>1.068</td>\n      <td>1.552300e+09</td>\n      <td>70800000.0</td>\n      <td>5.436229e+09</td>\n      <td>4.258229e+09</td>\n      <td>0.906078</td>\n      <td>-0.054218</td>\n      <td>0.0</td>\n    </tr>\n    <tr>\n      <th>20118</th>\n      <td>AVY.N</td>\n      <td>2013-04-01</td>\n      <td>2.482</td>\n      <td>1.498900e+09</td>\n      <td>66800000.0</td>\n      <td>5.459128e+09</td>\n      <td>4.309428e+09</td>\n      <td>0.895787</td>\n      <td>24.148726</td>\n      <td>0.0</td>\n    </tr>\n    <tr>\n      <th>20119</th>\n      <td>AVY.N</td>\n      <td>2013-01-01</td>\n      <td>11.178</td>\n      <td>1.532200e+09</td>\n      <td>33400000.0</td>\n      <td>4.413001e+09</td>\n      <td>3.426001e+09</td>\n      <td>0.799347</td>\n      <td>10.637479</td>\n      <td>207295.0</td>\n    </tr>\n  </tbody>\n</table>\n<p>20120 rows × 10 columns</p>\n</div>"
     },
     "execution_count": 18,
     "metadata": {},
     "output_type": "execute_result"
    }
   ],
   "source": [
    "characteristics = df.loc[:, [\"Instrument\", \"Date\", \"Earnings Per Share - Actual Surprise\", \"Revenue - Actual\", \"Net Income after Tax\", \"Enterprise Value\", \"Market Capitalization\", \"Enterprise Value To Sales (Daily Time Series Ratio)\", \"3 Month Total Return\", \"Volume\"]]\n",
    "characteristics"
   ]
  },
  {
   "cell_type": "code",
   "execution_count": 19,
   "outputs": [
    {
     "data": {
      "text/plain": "loss firm status\n 1    18070\n-1     1633\n 0      417\ndtype: int64"
     },
     "execution_count": 19,
     "metadata": {},
     "output_type": "execute_result"
    }
   ],
   "source": [
    "characteristics[\"Net Income after Tax\"] = characteristics[\"Net Income after Tax\"].fillna(1)\n",
    "characteristics[\"loss firm status\"] = [1 if x > 1 else -1 if x <= 0 else 0 for x in characteristics[\"Net Income after Tax\"]]\n",
    "characteristics = characteristics.drop(\"Net Income after Tax\", axis=1)\n",
    "characteristics.value_counts(\"loss firm status\")"
   ],
   "metadata": {
    "collapsed": false
   }
  },
  {
   "cell_type": "code",
   "execution_count": 20,
   "metadata": {
    "collapsed": false
   },
   "outputs": [
    {
     "data": {
      "text/plain": "loss firm status\n-1    17759\n 1     1564\n 0       14\ndtype: int64"
     },
     "execution_count": 20,
     "metadata": {},
     "output_type": "execute_result"
    }
   ],
   "source": [
    "characteristics = characteristics.dropna()\n",
    "characteristics[\"loss firm status\"] = [-1 if x > 0 else 1 if x <= -1 else 0 for x in characteristics[\"loss firm status\"]]\n",
    "characteristics.value_counts(\"loss firm status\")\n",
    "\n",
    "# loss firm status:\n",
    "# -1 = not a loss firm (is profitable)\n",
    "# 1 = loss firm (negative profit or profit is equal to 0!!)\n",
    "# 0 = value of NA, but we can change this to make NA values loss firm, or we drop them altogether"
   ]
  },
  {
   "cell_type": "code",
   "execution_count": 21,
   "outputs": [],
   "source": [
    "characteristics.to_csv(\"Dataframes/characteristics.csv\", index=False)"
   ],
   "metadata": {
    "collapsed": false
   }
  },
  {
   "cell_type": "markdown",
   "source": [
    "### Analysts dataframe"
   ],
   "metadata": {
    "collapsed": false
   }
  },
  {
   "cell_type": "code",
   "execution_count": 22,
   "outputs": [],
   "source": [
    "analysts = df.loc[:, [\"Instrument\", \"Date\", \"Earnings Per Share - Actual Surprise\", \"Earnings Per Share – Coefficient of Variation\", \"Number of Analysts\", \"Recommendation - Mean (1-5)\", \"Recommendation - Mean (1-5).1\", \"Price Target - Mean\", \"Price Target - Standard Deviation\"]]\n",
    "#analysts"
   ],
   "metadata": {
    "collapsed": false
   }
  },
  {
   "cell_type": "code",
   "execution_count": 23,
   "outputs": [
    {
     "data": {
      "text/plain": "      Instrument        Date  Earnings Per Share - Actual Surprise  \\\n0        POOL.OQ  2022-10-01                                 4.196   \n1        POOL.OQ  2022-07-01                                 1.503   \n2        POOL.OQ  2022-04-01                                34.342   \n3        POOL.OQ  2022-01-01                                40.267   \n4        POOL.OQ  2021-10-01                                17.194   \n...          ...         ...                                   ...   \n20115      AVY.N  2014-01-01                                 1.471   \n20116      AVY.N  2013-10-01                                 8.095   \n20117      AVY.N  2013-07-01                                 1.068   \n20118      AVY.N  2013-04-01                                 2.482   \n20119      AVY.N  2013-01-01                                11.178   \n\n       Earnings Per Share – Coefficient of Variation  Number of Analysts  \\\n0                                           3.843706                10.0   \n1                                           3.625249                 9.0   \n2                                           6.630736                 9.0   \n3                                           3.269867                 8.0   \n4                                           2.836295                 8.0   \n...                                              ...                 ...   \n20115                                       3.204412                 8.0   \n20116                                       2.775994                 7.0   \n20117                                       1.551601                 8.0   \n20118                                       2.046169                 7.0   \n20119                                       3.625620                 7.0   \n\n       Recommendation change  Recommendation - Mean (1-5)  \\\n0                    0.07273                      2.27273   \n1                    0.20000                      2.20000   \n2                   -0.30000                      2.00000   \n3                    0.00000                      2.30000   \n4                    0.00000                      2.30000   \n...                      ...                          ...   \n20115               -0.29167                      2.33333   \n20116               -0.25000                      2.62500   \n20117                0.00000                      2.87500   \n20118               -0.12500                      2.87500   \n20119                0.00000                      3.00000   \n\n       Price Target - Mean  Price Target - Standard Deviation  \n0                360.11111                           24.95082  \n1                435.37500                           57.57373  \n2                519.88889                           37.49206  \n3                571.00000                           41.33833  \n4                545.28571                           50.48823  \n...                    ...                                ...  \n20115             54.62500                            3.42555  \n20116             47.71429                            3.45230  \n20117             45.00000                            4.30946  \n20118             42.57143                            3.92272  \n20119             36.00000                            2.44949  \n\n[20120 rows x 9 columns]",
      "text/html": "<div>\n<style scoped>\n    .dataframe tbody tr th:only-of-type {\n        vertical-align: middle;\n    }\n\n    .dataframe tbody tr th {\n        vertical-align: top;\n    }\n\n    .dataframe thead th {\n        text-align: right;\n    }\n</style>\n<table border=\"1\" class=\"dataframe\">\n  <thead>\n    <tr style=\"text-align: right;\">\n      <th></th>\n      <th>Instrument</th>\n      <th>Date</th>\n      <th>Earnings Per Share - Actual Surprise</th>\n      <th>Earnings Per Share – Coefficient of Variation</th>\n      <th>Number of Analysts</th>\n      <th>Recommendation change</th>\n      <th>Recommendation - Mean (1-5)</th>\n      <th>Price Target - Mean</th>\n      <th>Price Target - Standard Deviation</th>\n    </tr>\n  </thead>\n  <tbody>\n    <tr>\n      <th>0</th>\n      <td>POOL.OQ</td>\n      <td>2022-10-01</td>\n      <td>4.196</td>\n      <td>3.843706</td>\n      <td>10.0</td>\n      <td>0.07273</td>\n      <td>2.27273</td>\n      <td>360.11111</td>\n      <td>24.95082</td>\n    </tr>\n    <tr>\n      <th>1</th>\n      <td>POOL.OQ</td>\n      <td>2022-07-01</td>\n      <td>1.503</td>\n      <td>3.625249</td>\n      <td>9.0</td>\n      <td>0.20000</td>\n      <td>2.20000</td>\n      <td>435.37500</td>\n      <td>57.57373</td>\n    </tr>\n    <tr>\n      <th>2</th>\n      <td>POOL.OQ</td>\n      <td>2022-04-01</td>\n      <td>34.342</td>\n      <td>6.630736</td>\n      <td>9.0</td>\n      <td>-0.30000</td>\n      <td>2.00000</td>\n      <td>519.88889</td>\n      <td>37.49206</td>\n    </tr>\n    <tr>\n      <th>3</th>\n      <td>POOL.OQ</td>\n      <td>2022-01-01</td>\n      <td>40.267</td>\n      <td>3.269867</td>\n      <td>8.0</td>\n      <td>0.00000</td>\n      <td>2.30000</td>\n      <td>571.00000</td>\n      <td>41.33833</td>\n    </tr>\n    <tr>\n      <th>4</th>\n      <td>POOL.OQ</td>\n      <td>2021-10-01</td>\n      <td>17.194</td>\n      <td>2.836295</td>\n      <td>8.0</td>\n      <td>0.00000</td>\n      <td>2.30000</td>\n      <td>545.28571</td>\n      <td>50.48823</td>\n    </tr>\n    <tr>\n      <th>...</th>\n      <td>...</td>\n      <td>...</td>\n      <td>...</td>\n      <td>...</td>\n      <td>...</td>\n      <td>...</td>\n      <td>...</td>\n      <td>...</td>\n      <td>...</td>\n    </tr>\n    <tr>\n      <th>20115</th>\n      <td>AVY.N</td>\n      <td>2014-01-01</td>\n      <td>1.471</td>\n      <td>3.204412</td>\n      <td>8.0</td>\n      <td>-0.29167</td>\n      <td>2.33333</td>\n      <td>54.62500</td>\n      <td>3.42555</td>\n    </tr>\n    <tr>\n      <th>20116</th>\n      <td>AVY.N</td>\n      <td>2013-10-01</td>\n      <td>8.095</td>\n      <td>2.775994</td>\n      <td>7.0</td>\n      <td>-0.25000</td>\n      <td>2.62500</td>\n      <td>47.71429</td>\n      <td>3.45230</td>\n    </tr>\n    <tr>\n      <th>20117</th>\n      <td>AVY.N</td>\n      <td>2013-07-01</td>\n      <td>1.068</td>\n      <td>1.551601</td>\n      <td>8.0</td>\n      <td>0.00000</td>\n      <td>2.87500</td>\n      <td>45.00000</td>\n      <td>4.30946</td>\n    </tr>\n    <tr>\n      <th>20118</th>\n      <td>AVY.N</td>\n      <td>2013-04-01</td>\n      <td>2.482</td>\n      <td>2.046169</td>\n      <td>7.0</td>\n      <td>-0.12500</td>\n      <td>2.87500</td>\n      <td>42.57143</td>\n      <td>3.92272</td>\n    </tr>\n    <tr>\n      <th>20119</th>\n      <td>AVY.N</td>\n      <td>2013-01-01</td>\n      <td>11.178</td>\n      <td>3.625620</td>\n      <td>7.0</td>\n      <td>0.00000</td>\n      <td>3.00000</td>\n      <td>36.00000</td>\n      <td>2.44949</td>\n    </tr>\n  </tbody>\n</table>\n<p>20120 rows × 9 columns</p>\n</div>"
     },
     "execution_count": 23,
     "metadata": {},
     "output_type": "execute_result"
    }
   ],
   "source": [
    "analysts[\"Recommendation change\"] = analysts[\"Recommendation - Mean (1-5)\"] - analysts[\"Recommendation - Mean (1-5).1\"]\n",
    "analysts.insert(5, \"Recommendation change\", analysts.pop(\"Recommendation change\"))\n",
    "analysts = analysts.drop(\"Recommendation - Mean (1-5).1\", axis=1)\n",
    "analysts"
   ],
   "metadata": {
    "collapsed": false
   }
  },
  {
   "cell_type": "code",
   "execution_count": 24,
   "outputs": [],
   "source": [
    "analysts.to_csv(\"Dataframes/analysts.csv\", index=False)"
   ],
   "metadata": {
    "collapsed": false
   }
  },
  {
   "cell_type": "markdown",
   "source": [
    "### Macroeconomic factors dataframe"
   ],
   "metadata": {
    "collapsed": false
   }
  },
  {
   "cell_type": "code",
   "execution_count": 25,
   "outputs": [
    {
     "data": {
      "text/plain": "      Instrument        Date  Earnings Per Share - Actual Surprise  \\\n0        POOL.OQ  2022-10-01                                 4.196   \n1        POOL.OQ  2022-07-01                                 1.503   \n2        POOL.OQ  2022-04-01                                34.342   \n3        POOL.OQ  2022-01-01                                40.267   \n4        POOL.OQ  2021-10-01                                17.194   \n...          ...         ...                                   ...   \n20115      AVY.N  2014-01-01                                 1.471   \n20116      AVY.N  2013-10-01                                 8.095   \n20117      AVY.N  2013-07-01                                 1.068   \n20118      AVY.N  2013-04-01                                 2.482   \n20119      AVY.N  2013-01-01                                11.178   \n\n       WACC Inflation Adjusted Risk Free Rate, (%)  Unemployment rate  \n0                                         3.747421                3.7  \n1                                         3.092855                3.5  \n2                                         2.325202                3.6  \n3                                         1.515266                4.0  \n4                                         1.527139                4.5  \n...                                            ...                ...  \n20115                                          NaN                6.6  \n20116                                          NaN                7.2  \n20117                                          NaN                7.3  \n20118                                          NaN                7.6  \n20119                                          NaN                8.0  \n\n[20120 rows x 5 columns]",
      "text/html": "<div>\n<style scoped>\n    .dataframe tbody tr th:only-of-type {\n        vertical-align: middle;\n    }\n\n    .dataframe tbody tr th {\n        vertical-align: top;\n    }\n\n    .dataframe thead th {\n        text-align: right;\n    }\n</style>\n<table border=\"1\" class=\"dataframe\">\n  <thead>\n    <tr style=\"text-align: right;\">\n      <th></th>\n      <th>Instrument</th>\n      <th>Date</th>\n      <th>Earnings Per Share - Actual Surprise</th>\n      <th>WACC Inflation Adjusted Risk Free Rate, (%)</th>\n      <th>Unemployment rate</th>\n    </tr>\n  </thead>\n  <tbody>\n    <tr>\n      <th>0</th>\n      <td>POOL.OQ</td>\n      <td>2022-10-01</td>\n      <td>4.196</td>\n      <td>3.747421</td>\n      <td>3.7</td>\n    </tr>\n    <tr>\n      <th>1</th>\n      <td>POOL.OQ</td>\n      <td>2022-07-01</td>\n      <td>1.503</td>\n      <td>3.092855</td>\n      <td>3.5</td>\n    </tr>\n    <tr>\n      <th>2</th>\n      <td>POOL.OQ</td>\n      <td>2022-04-01</td>\n      <td>34.342</td>\n      <td>2.325202</td>\n      <td>3.6</td>\n    </tr>\n    <tr>\n      <th>3</th>\n      <td>POOL.OQ</td>\n      <td>2022-01-01</td>\n      <td>40.267</td>\n      <td>1.515266</td>\n      <td>4.0</td>\n    </tr>\n    <tr>\n      <th>4</th>\n      <td>POOL.OQ</td>\n      <td>2021-10-01</td>\n      <td>17.194</td>\n      <td>1.527139</td>\n      <td>4.5</td>\n    </tr>\n    <tr>\n      <th>...</th>\n      <td>...</td>\n      <td>...</td>\n      <td>...</td>\n      <td>...</td>\n      <td>...</td>\n    </tr>\n    <tr>\n      <th>20115</th>\n      <td>AVY.N</td>\n      <td>2014-01-01</td>\n      <td>1.471</td>\n      <td>NaN</td>\n      <td>6.6</td>\n    </tr>\n    <tr>\n      <th>20116</th>\n      <td>AVY.N</td>\n      <td>2013-10-01</td>\n      <td>8.095</td>\n      <td>NaN</td>\n      <td>7.2</td>\n    </tr>\n    <tr>\n      <th>20117</th>\n      <td>AVY.N</td>\n      <td>2013-07-01</td>\n      <td>1.068</td>\n      <td>NaN</td>\n      <td>7.3</td>\n    </tr>\n    <tr>\n      <th>20118</th>\n      <td>AVY.N</td>\n      <td>2013-04-01</td>\n      <td>2.482</td>\n      <td>NaN</td>\n      <td>7.6</td>\n    </tr>\n    <tr>\n      <th>20119</th>\n      <td>AVY.N</td>\n      <td>2013-01-01</td>\n      <td>11.178</td>\n      <td>NaN</td>\n      <td>8.0</td>\n    </tr>\n  </tbody>\n</table>\n<p>20120 rows × 5 columns</p>\n</div>"
     },
     "execution_count": 25,
     "metadata": {},
     "output_type": "execute_result"
    }
   ],
   "source": [
    "macro = df.loc[:, [\"Instrument\", \"Date\", \"Earnings Per Share - Actual Surprise\", \"WACC Inflation Adjusted Risk Free Rate, (%)\", \"Unemployment rate\"]]\n",
    "macro"
   ],
   "metadata": {
    "collapsed": false
   }
  },
  {
   "cell_type": "code",
   "execution_count": 26,
   "outputs": [],
   "source": [
    "macro.to_csv(\"Dataframes/macro.csv\", index=False)"
   ],
   "metadata": {
    "collapsed": false
   }
  },
  {
   "cell_type": "code",
   "execution_count": 27,
   "outputs": [],
   "source": [
    "# df['ESG Score'] = pd.Series()\n",
    "# df['Governance Pillar Score'] = pd.Series()\n",
    "# df['Independent Board Members'] = pd.Series()\n",
    "#\n",
    "# for i in range(len(df2)):\n",
    "#     for j in range(len(df)):\n",
    "#         if df.loc[j, \"Instrument\"] == df2.loc[i, \"Instrument\"] and df.loc[j, \"Date\"].year == df2.loc[i, \"Date\"].year:\n",
    "#             df.loc[j, \"ESG Score\"] = df2.loc[i, \"ESG Score\"]\n",
    "#             df.loc[j, \"Governance Pillar Score\"] = df2.loc[i, \"Governance Pillar Score\"]\n",
    "#             df.loc[j, \"Independent Board Members\"] = df2.loc[i, \"Independent Board Members\"]\n",
    "#\n",
    "# df\n",
    "\n",
    "#Comment: Takes too much time"
   ],
   "metadata": {
    "collapsed": false
   }
  },
  {
   "cell_type": "code",
   "execution_count": 27,
   "outputs": [],
   "source": [],
   "metadata": {
    "collapsed": false
   }
  }
 ],
 "metadata": {
  "kernelspec": {
   "display_name": "AnalystForecast",
   "language": "python",
   "name": "python3"
  },
  "language_info": {
   "codemirror_mode": {
    "name": "ipython",
    "version": 2
   },
   "file_extension": ".py",
   "mimetype": "text/x-python",
   "name": "python",
   "nbconvert_exporter": "python",
   "pygments_lexer": "ipython2",
   "version": "3.11.0"
  },
  "vscode": {
   "interpreter": {
    "hash": "264d128b47a19451ae7876f5ee246d3f7de9751940a5ebe47f15ec6626e5a91f"
   }
  }
 },
 "nbformat": 4,
 "nbformat_minor": 0
}
