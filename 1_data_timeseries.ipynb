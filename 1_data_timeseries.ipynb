{
 "cells": [
  {
   "cell_type": "code",
   "execution_count": 1,
   "metadata": {
    "collapsed": false
   },
   "outputs": [],
   "source": [
    "import pandas as pd\n",
    "import numpy as np\n",
    "import datetime\n",
    "import plotly.express as px"
   ]
  },
  {
   "cell_type": "markdown",
   "source": [
    "## Whole Dataframe"
   ],
   "metadata": {
    "collapsed": false
   }
  },
  {
   "cell_type": "code",
   "execution_count": 2,
   "metadata": {
    "collapsed": false
   },
   "outputs": [
    {
     "data": {
      "text/plain": "      Instrument        Date  Earnings Per Share - Actual  \\\n0        POOL.OQ  2022-10-01                         4.78   \n1        POOL.OQ  2022-07-01                         7.63   \n2        POOL.OQ  2022-04-01                         4.23   \n3        POOL.OQ  2022-01-01                         2.63   \n4        POOL.OQ  2021-10-01                         4.51   \n...          ...         ...                          ...   \n20115      AVY.N  2014-01-01                         0.69   \n20116      AVY.N  2013-10-01                         0.69   \n20117      AVY.N  2013-07-01                         0.71   \n20118      AVY.N  2013-04-01                         0.59   \n20119      AVY.N  2013-01-01                         0.54   \n\n       Earnings Per Share - Mean  Earnings Per Share - Actual Surprise  \\\n0                        4.58750                                 4.196   \n1                        7.51700                                 1.503   \n2                        3.14867                                34.342   \n3                        1.87500                                40.267   \n4                        3.84833                                17.194   \n...                          ...                                   ...   \n20115                    0.68000                                 1.471   \n20116                    0.63833                                 8.095   \n20117                    0.70250                                 1.068   \n20118                    0.57571                                 2.482   \n20119                    0.48571                                11.178   \n\n       Revenue - Actual  Enterprise Value  Long Term Growth - Mean  \\\n0          1.615339e+09      1.406160e+10                      NaN   \n1          2.055818e+09      1.556187e+10                      NaN   \n2          1.412650e+09      1.843682e+10                      NaN   \n3          1.035557e+09      2.384882e+10                      NaN   \n4          1.411448e+09      1.769954e+10                      NaN   \n...                 ...               ...                      ...   \n20115      1.583900e+09      5.553068e+09                     7.00   \n20116      1.504900e+09      5.029514e+09                     7.00   \n20117      1.552300e+09      5.436229e+09                    14.35   \n20118      1.498900e+09      5.459128e+09                    14.35   \n20119      1.532200e+09      4.413001e+09                    10.40   \n\n       Number of Analysts  Recommendation - Mean (1-5)  \\\n0                    10.0                      2.27273   \n1                     9.0                      2.20000   \n2                     9.0                      2.00000   \n3                     8.0                      2.30000   \n4                     8.0                      2.30000   \n...                   ...                          ...   \n20115                 8.0                      2.33333   \n20116                 7.0                      2.62500   \n20117                 8.0                      2.87500   \n20118                 7.0                      2.87500   \n20119                 7.0                      3.00000   \n\n       Recommendation - Mean (1-5).1  \\\n0                              2.200   \n1                              2.000   \n2                              2.300   \n3                              2.300   \n4                              2.300   \n...                              ...   \n20115                          2.625   \n20116                          2.875   \n20117                          2.875   \n20118                          3.000   \n20119                          3.000   \n\n       WACC Inflation Adjusted Risk Free Rate, (%)  Net Income after Tax  \\\n0                                         3.747421           189965000.0   \n1                                         3.092855           307205000.0   \n2                                         2.325202           179203000.0   \n3                                         1.515266           107542000.0   \n4                                         1.527139           184573000.0   \n...                                            ...                   ...   \n20115                                          NaN            42100000.0   \n20116                                          NaN            62000000.0   \n20117                                          NaN            70800000.0   \n20118                                          NaN            66800000.0   \n20119                                          NaN            33400000.0   \n\n       Price Target - Mean  Price Close  \n0                360.11111       318.21  \n1                435.37500       351.23  \n2                519.88889       422.85  \n3                571.00000       566.00  \n4                545.28571       434.41  \n...                    ...          ...  \n20115             54.62500        50.19  \n20116             47.71429        43.52  \n20117             45.00000        42.76  \n20118             42.57143        43.07  \n20119             36.00000        34.92  \n\n[20120 rows x 15 columns]",
      "text/html": "<div>\n<style scoped>\n    .dataframe tbody tr th:only-of-type {\n        vertical-align: middle;\n    }\n\n    .dataframe tbody tr th {\n        vertical-align: top;\n    }\n\n    .dataframe thead th {\n        text-align: right;\n    }\n</style>\n<table border=\"1\" class=\"dataframe\">\n  <thead>\n    <tr style=\"text-align: right;\">\n      <th></th>\n      <th>Instrument</th>\n      <th>Date</th>\n      <th>Earnings Per Share - Actual</th>\n      <th>Earnings Per Share - Mean</th>\n      <th>Earnings Per Share - Actual Surprise</th>\n      <th>Revenue - Actual</th>\n      <th>Enterprise Value</th>\n      <th>Long Term Growth - Mean</th>\n      <th>Number of Analysts</th>\n      <th>Recommendation - Mean (1-5)</th>\n      <th>Recommendation - Mean (1-5).1</th>\n      <th>WACC Inflation Adjusted Risk Free Rate, (%)</th>\n      <th>Net Income after Tax</th>\n      <th>Price Target - Mean</th>\n      <th>Price Close</th>\n    </tr>\n  </thead>\n  <tbody>\n    <tr>\n      <th>0</th>\n      <td>POOL.OQ</td>\n      <td>2022-10-01</td>\n      <td>4.78</td>\n      <td>4.58750</td>\n      <td>4.196</td>\n      <td>1.615339e+09</td>\n      <td>1.406160e+10</td>\n      <td>NaN</td>\n      <td>10.0</td>\n      <td>2.27273</td>\n      <td>2.200</td>\n      <td>3.747421</td>\n      <td>189965000.0</td>\n      <td>360.11111</td>\n      <td>318.21</td>\n    </tr>\n    <tr>\n      <th>1</th>\n      <td>POOL.OQ</td>\n      <td>2022-07-01</td>\n      <td>7.63</td>\n      <td>7.51700</td>\n      <td>1.503</td>\n      <td>2.055818e+09</td>\n      <td>1.556187e+10</td>\n      <td>NaN</td>\n      <td>9.0</td>\n      <td>2.20000</td>\n      <td>2.000</td>\n      <td>3.092855</td>\n      <td>307205000.0</td>\n      <td>435.37500</td>\n      <td>351.23</td>\n    </tr>\n    <tr>\n      <th>2</th>\n      <td>POOL.OQ</td>\n      <td>2022-04-01</td>\n      <td>4.23</td>\n      <td>3.14867</td>\n      <td>34.342</td>\n      <td>1.412650e+09</td>\n      <td>1.843682e+10</td>\n      <td>NaN</td>\n      <td>9.0</td>\n      <td>2.00000</td>\n      <td>2.300</td>\n      <td>2.325202</td>\n      <td>179203000.0</td>\n      <td>519.88889</td>\n      <td>422.85</td>\n    </tr>\n    <tr>\n      <th>3</th>\n      <td>POOL.OQ</td>\n      <td>2022-01-01</td>\n      <td>2.63</td>\n      <td>1.87500</td>\n      <td>40.267</td>\n      <td>1.035557e+09</td>\n      <td>2.384882e+10</td>\n      <td>NaN</td>\n      <td>8.0</td>\n      <td>2.30000</td>\n      <td>2.300</td>\n      <td>1.515266</td>\n      <td>107542000.0</td>\n      <td>571.00000</td>\n      <td>566.00</td>\n    </tr>\n    <tr>\n      <th>4</th>\n      <td>POOL.OQ</td>\n      <td>2021-10-01</td>\n      <td>4.51</td>\n      <td>3.84833</td>\n      <td>17.194</td>\n      <td>1.411448e+09</td>\n      <td>1.769954e+10</td>\n      <td>NaN</td>\n      <td>8.0</td>\n      <td>2.30000</td>\n      <td>2.300</td>\n      <td>1.527139</td>\n      <td>184573000.0</td>\n      <td>545.28571</td>\n      <td>434.41</td>\n    </tr>\n    <tr>\n      <th>...</th>\n      <td>...</td>\n      <td>...</td>\n      <td>...</td>\n      <td>...</td>\n      <td>...</td>\n      <td>...</td>\n      <td>...</td>\n      <td>...</td>\n      <td>...</td>\n      <td>...</td>\n      <td>...</td>\n      <td>...</td>\n      <td>...</td>\n      <td>...</td>\n      <td>...</td>\n    </tr>\n    <tr>\n      <th>20115</th>\n      <td>AVY.N</td>\n      <td>2014-01-01</td>\n      <td>0.69</td>\n      <td>0.68000</td>\n      <td>1.471</td>\n      <td>1.583900e+09</td>\n      <td>5.553068e+09</td>\n      <td>7.00</td>\n      <td>8.0</td>\n      <td>2.33333</td>\n      <td>2.625</td>\n      <td>NaN</td>\n      <td>42100000.0</td>\n      <td>54.62500</td>\n      <td>50.19</td>\n    </tr>\n    <tr>\n      <th>20116</th>\n      <td>AVY.N</td>\n      <td>2013-10-01</td>\n      <td>0.69</td>\n      <td>0.63833</td>\n      <td>8.095</td>\n      <td>1.504900e+09</td>\n      <td>5.029514e+09</td>\n      <td>7.00</td>\n      <td>7.0</td>\n      <td>2.62500</td>\n      <td>2.875</td>\n      <td>NaN</td>\n      <td>62000000.0</td>\n      <td>47.71429</td>\n      <td>43.52</td>\n    </tr>\n    <tr>\n      <th>20117</th>\n      <td>AVY.N</td>\n      <td>2013-07-01</td>\n      <td>0.71</td>\n      <td>0.70250</td>\n      <td>1.068</td>\n      <td>1.552300e+09</td>\n      <td>5.436229e+09</td>\n      <td>14.35</td>\n      <td>8.0</td>\n      <td>2.87500</td>\n      <td>2.875</td>\n      <td>NaN</td>\n      <td>70800000.0</td>\n      <td>45.00000</td>\n      <td>42.76</td>\n    </tr>\n    <tr>\n      <th>20118</th>\n      <td>AVY.N</td>\n      <td>2013-04-01</td>\n      <td>0.59</td>\n      <td>0.57571</td>\n      <td>2.482</td>\n      <td>1.498900e+09</td>\n      <td>5.459128e+09</td>\n      <td>14.35</td>\n      <td>7.0</td>\n      <td>2.87500</td>\n      <td>3.000</td>\n      <td>NaN</td>\n      <td>66800000.0</td>\n      <td>42.57143</td>\n      <td>43.07</td>\n    </tr>\n    <tr>\n      <th>20119</th>\n      <td>AVY.N</td>\n      <td>2013-01-01</td>\n      <td>0.54</td>\n      <td>0.48571</td>\n      <td>11.178</td>\n      <td>1.532200e+09</td>\n      <td>4.413001e+09</td>\n      <td>10.40</td>\n      <td>7.0</td>\n      <td>3.00000</td>\n      <td>3.000</td>\n      <td>NaN</td>\n      <td>33400000.0</td>\n      <td>36.00000</td>\n      <td>34.92</td>\n    </tr>\n  </tbody>\n</table>\n<p>20120 rows × 15 columns</p>\n</div>"
     },
     "execution_count": 2,
     "metadata": {},
     "output_type": "execute_result"
    }
   ],
   "source": [
    "df = pd.read_csv(\"Dataframes/economic_story_dataframe.csv\")\n",
    "df"
   ]
  },
  {
   "cell_type": "markdown",
   "source": [
    "# Creating subset dataframes for every factor"
   ],
   "metadata": {
    "collapsed": false
   }
  },
  {
   "cell_type": "markdown",
   "source": [
    "## Characteristics dataframe"
   ],
   "metadata": {
    "collapsed": false
   }
  },
  {
   "cell_type": "code",
   "execution_count": 3,
   "metadata": {
    "collapsed": false
   },
   "outputs": [
    {
     "data": {
      "text/plain": "      Instrument        Date  Earnings Per Share - Actual Surprise  \\\n0        POOL.OQ  2022-10-01                                 4.196   \n1        POOL.OQ  2022-07-01                                 1.503   \n2        POOL.OQ  2022-04-01                                34.342   \n3        POOL.OQ  2022-01-01                                40.267   \n4        POOL.OQ  2021-10-01                                17.194   \n...          ...         ...                                   ...   \n20115      AVY.N  2014-01-01                                 1.471   \n20116      AVY.N  2013-10-01                                 8.095   \n20117      AVY.N  2013-07-01                                 1.068   \n20118      AVY.N  2013-04-01                                 2.482   \n20119      AVY.N  2013-01-01                                11.178   \n\n       Revenue - Actual  Net Income after Tax  \n0          1.615339e+09           189965000.0  \n1          2.055818e+09           307205000.0  \n2          1.412650e+09           179203000.0  \n3          1.035557e+09           107542000.0  \n4          1.411448e+09           184573000.0  \n...                 ...                   ...  \n20115      1.583900e+09            42100000.0  \n20116      1.504900e+09            62000000.0  \n20117      1.552300e+09            70800000.0  \n20118      1.498900e+09            66800000.0  \n20119      1.532200e+09            33400000.0  \n\n[20120 rows x 5 columns]",
      "text/html": "<div>\n<style scoped>\n    .dataframe tbody tr th:only-of-type {\n        vertical-align: middle;\n    }\n\n    .dataframe tbody tr th {\n        vertical-align: top;\n    }\n\n    .dataframe thead th {\n        text-align: right;\n    }\n</style>\n<table border=\"1\" class=\"dataframe\">\n  <thead>\n    <tr style=\"text-align: right;\">\n      <th></th>\n      <th>Instrument</th>\n      <th>Date</th>\n      <th>Earnings Per Share - Actual Surprise</th>\n      <th>Revenue - Actual</th>\n      <th>Net Income after Tax</th>\n    </tr>\n  </thead>\n  <tbody>\n    <tr>\n      <th>0</th>\n      <td>POOL.OQ</td>\n      <td>2022-10-01</td>\n      <td>4.196</td>\n      <td>1.615339e+09</td>\n      <td>189965000.0</td>\n    </tr>\n    <tr>\n      <th>1</th>\n      <td>POOL.OQ</td>\n      <td>2022-07-01</td>\n      <td>1.503</td>\n      <td>2.055818e+09</td>\n      <td>307205000.0</td>\n    </tr>\n    <tr>\n      <th>2</th>\n      <td>POOL.OQ</td>\n      <td>2022-04-01</td>\n      <td>34.342</td>\n      <td>1.412650e+09</td>\n      <td>179203000.0</td>\n    </tr>\n    <tr>\n      <th>3</th>\n      <td>POOL.OQ</td>\n      <td>2022-01-01</td>\n      <td>40.267</td>\n      <td>1.035557e+09</td>\n      <td>107542000.0</td>\n    </tr>\n    <tr>\n      <th>4</th>\n      <td>POOL.OQ</td>\n      <td>2021-10-01</td>\n      <td>17.194</td>\n      <td>1.411448e+09</td>\n      <td>184573000.0</td>\n    </tr>\n    <tr>\n      <th>...</th>\n      <td>...</td>\n      <td>...</td>\n      <td>...</td>\n      <td>...</td>\n      <td>...</td>\n    </tr>\n    <tr>\n      <th>20115</th>\n      <td>AVY.N</td>\n      <td>2014-01-01</td>\n      <td>1.471</td>\n      <td>1.583900e+09</td>\n      <td>42100000.0</td>\n    </tr>\n    <tr>\n      <th>20116</th>\n      <td>AVY.N</td>\n      <td>2013-10-01</td>\n      <td>8.095</td>\n      <td>1.504900e+09</td>\n      <td>62000000.0</td>\n    </tr>\n    <tr>\n      <th>20117</th>\n      <td>AVY.N</td>\n      <td>2013-07-01</td>\n      <td>1.068</td>\n      <td>1.552300e+09</td>\n      <td>70800000.0</td>\n    </tr>\n    <tr>\n      <th>20118</th>\n      <td>AVY.N</td>\n      <td>2013-04-01</td>\n      <td>2.482</td>\n      <td>1.498900e+09</td>\n      <td>66800000.0</td>\n    </tr>\n    <tr>\n      <th>20119</th>\n      <td>AVY.N</td>\n      <td>2013-01-01</td>\n      <td>11.178</td>\n      <td>1.532200e+09</td>\n      <td>33400000.0</td>\n    </tr>\n  </tbody>\n</table>\n<p>20120 rows × 5 columns</p>\n</div>"
     },
     "execution_count": 3,
     "metadata": {},
     "output_type": "execute_result"
    }
   ],
   "source": [
    "characteristics = df.loc[:, [\"Instrument\", \"Date\", \"Earnings Per Share - Actual Surprise\", \"Revenue - Actual\", \"Net Income after Tax\"]] #  \"Enterprise Value\",\n",
    "characteristics"
   ]
  },
  {
   "cell_type": "code",
   "execution_count": 4,
   "outputs": [],
   "source": [
    "characteristics[\"Net Income after Tax\"] = characteristics[\"Net Income after Tax\"].fillna(1)\n",
    "characteristics[\"loss firm status\"] = [1 if x > 1 else -1 if x <= 0 else 0 for x in characteristics[\"Net Income after Tax\"]]\n",
    "characteristics = characteristics.drop(\"Net Income after Tax\", axis=1)"
   ],
   "metadata": {
    "collapsed": false
   }
  },
  {
   "cell_type": "code",
   "execution_count": 5,
   "metadata": {
    "collapsed": false
   },
   "outputs": [
    {
     "data": {
      "text/plain": "      Instrument        Date  Earnings Per Share - Actual Surprise  \\\n0        POOL.OQ  2022-10-01                                 4.196   \n1        POOL.OQ  2022-07-01                                 1.503   \n2        POOL.OQ  2022-04-01                                34.342   \n3        POOL.OQ  2022-01-01                                40.267   \n4        POOL.OQ  2021-10-01                                17.194   \n...          ...         ...                                   ...   \n20115      AVY.N  2014-01-01                                 1.471   \n20116      AVY.N  2013-10-01                                 8.095   \n20117      AVY.N  2013-07-01                                 1.068   \n20118      AVY.N  2013-04-01                                 2.482   \n20119      AVY.N  2013-01-01                                11.178   \n\n       Revenue - Actual  loss firm status  \n0          1.615339e+09                -1  \n1          2.055818e+09                -1  \n2          1.412650e+09                -1  \n3          1.035557e+09                -1  \n4          1.411448e+09                -1  \n...                 ...               ...  \n20115      1.583900e+09                -1  \n20116      1.504900e+09                -1  \n20117      1.552300e+09                -1  \n20118      1.498900e+09                -1  \n20119      1.532200e+09                -1  \n\n[19393 rows x 5 columns]",
      "text/html": "<div>\n<style scoped>\n    .dataframe tbody tr th:only-of-type {\n        vertical-align: middle;\n    }\n\n    .dataframe tbody tr th {\n        vertical-align: top;\n    }\n\n    .dataframe thead th {\n        text-align: right;\n    }\n</style>\n<table border=\"1\" class=\"dataframe\">\n  <thead>\n    <tr style=\"text-align: right;\">\n      <th></th>\n      <th>Instrument</th>\n      <th>Date</th>\n      <th>Earnings Per Share - Actual Surprise</th>\n      <th>Revenue - Actual</th>\n      <th>loss firm status</th>\n    </tr>\n  </thead>\n  <tbody>\n    <tr>\n      <th>0</th>\n      <td>POOL.OQ</td>\n      <td>2022-10-01</td>\n      <td>4.196</td>\n      <td>1.615339e+09</td>\n      <td>-1</td>\n    </tr>\n    <tr>\n      <th>1</th>\n      <td>POOL.OQ</td>\n      <td>2022-07-01</td>\n      <td>1.503</td>\n      <td>2.055818e+09</td>\n      <td>-1</td>\n    </tr>\n    <tr>\n      <th>2</th>\n      <td>POOL.OQ</td>\n      <td>2022-04-01</td>\n      <td>34.342</td>\n      <td>1.412650e+09</td>\n      <td>-1</td>\n    </tr>\n    <tr>\n      <th>3</th>\n      <td>POOL.OQ</td>\n      <td>2022-01-01</td>\n      <td>40.267</td>\n      <td>1.035557e+09</td>\n      <td>-1</td>\n    </tr>\n    <tr>\n      <th>4</th>\n      <td>POOL.OQ</td>\n      <td>2021-10-01</td>\n      <td>17.194</td>\n      <td>1.411448e+09</td>\n      <td>-1</td>\n    </tr>\n    <tr>\n      <th>...</th>\n      <td>...</td>\n      <td>...</td>\n      <td>...</td>\n      <td>...</td>\n      <td>...</td>\n    </tr>\n    <tr>\n      <th>20115</th>\n      <td>AVY.N</td>\n      <td>2014-01-01</td>\n      <td>1.471</td>\n      <td>1.583900e+09</td>\n      <td>-1</td>\n    </tr>\n    <tr>\n      <th>20116</th>\n      <td>AVY.N</td>\n      <td>2013-10-01</td>\n      <td>8.095</td>\n      <td>1.504900e+09</td>\n      <td>-1</td>\n    </tr>\n    <tr>\n      <th>20117</th>\n      <td>AVY.N</td>\n      <td>2013-07-01</td>\n      <td>1.068</td>\n      <td>1.552300e+09</td>\n      <td>-1</td>\n    </tr>\n    <tr>\n      <th>20118</th>\n      <td>AVY.N</td>\n      <td>2013-04-01</td>\n      <td>2.482</td>\n      <td>1.498900e+09</td>\n      <td>-1</td>\n    </tr>\n    <tr>\n      <th>20119</th>\n      <td>AVY.N</td>\n      <td>2013-01-01</td>\n      <td>11.178</td>\n      <td>1.532200e+09</td>\n      <td>-1</td>\n    </tr>\n  </tbody>\n</table>\n<p>19393 rows × 5 columns</p>\n</div>"
     },
     "execution_count": 5,
     "metadata": {},
     "output_type": "execute_result"
    }
   ],
   "source": [
    "characteristics = characteristics.dropna()\n",
    "characteristics[\"loss firm status\"] = [-1 if x > 0 else 1 if x < -1 else 0 for x in characteristics[\"loss firm status\"]]\n",
    "characteristics\n",
    "\n",
    "# loss firm status:\n",
    "# -1 = not a loss firm (is profitable)\n",
    "# 1 = loss firm (negative profit or profit is equal to 0!!)\n",
    "# 0 = value of NA, but we can change this to make NA values loss firm, or we drop them altogether"
   ]
  },
  {
   "cell_type": "code",
   "execution_count": 6,
   "outputs": [],
   "source": [
    "characteristics.to_csv(\"Dataframes/characteristics.csv\", index=False)"
   ],
   "metadata": {
    "collapsed": false
   }
  },
  {
   "cell_type": "markdown",
   "source": [
    "### Analysts dataframe"
   ],
   "metadata": {
    "collapsed": false
   }
  },
  {
   "cell_type": "code",
   "execution_count": 7,
   "outputs": [],
   "source": [
    "analysts = df.loc[:, [\"Instrument\", \"Date\", \"Earnings Per Share - Actual Surprise\", \"Number of Analysts\", \"Recommendation - Mean (1-5)\", \"Recommendation - Mean (1-5).1\"]]\n",
    "#analysts"
   ],
   "metadata": {
    "collapsed": false
   }
  },
  {
   "cell_type": "code",
   "execution_count": 8,
   "outputs": [
    {
     "data": {
      "text/plain": "      Instrument        Date  Earnings Per Share - Actual Surprise  \\\n0        POOL.OQ  2022-10-01                                 4.196   \n1        POOL.OQ  2022-07-01                                 1.503   \n2        POOL.OQ  2022-04-01                                34.342   \n3        POOL.OQ  2022-01-01                                40.267   \n4        POOL.OQ  2021-10-01                                17.194   \n...          ...         ...                                   ...   \n20115      AVY.N  2014-01-01                                 1.471   \n20116      AVY.N  2013-10-01                                 8.095   \n20117      AVY.N  2013-07-01                                 1.068   \n20118      AVY.N  2013-04-01                                 2.482   \n20119      AVY.N  2013-01-01                                11.178   \n\n       Number of Analysts  Recommendation - Mean (1-5)  Recommendation change  \n0                    10.0                      2.27273                0.07273  \n1                     9.0                      2.20000                0.20000  \n2                     9.0                      2.00000               -0.30000  \n3                     8.0                      2.30000                0.00000  \n4                     8.0                      2.30000                0.00000  \n...                   ...                          ...                    ...  \n20115                 8.0                      2.33333               -0.29167  \n20116                 7.0                      2.62500               -0.25000  \n20117                 8.0                      2.87500                0.00000  \n20118                 7.0                      2.87500               -0.12500  \n20119                 7.0                      3.00000                0.00000  \n\n[20120 rows x 6 columns]",
      "text/html": "<div>\n<style scoped>\n    .dataframe tbody tr th:only-of-type {\n        vertical-align: middle;\n    }\n\n    .dataframe tbody tr th {\n        vertical-align: top;\n    }\n\n    .dataframe thead th {\n        text-align: right;\n    }\n</style>\n<table border=\"1\" class=\"dataframe\">\n  <thead>\n    <tr style=\"text-align: right;\">\n      <th></th>\n      <th>Instrument</th>\n      <th>Date</th>\n      <th>Earnings Per Share - Actual Surprise</th>\n      <th>Number of Analysts</th>\n      <th>Recommendation - Mean (1-5)</th>\n      <th>Recommendation change</th>\n    </tr>\n  </thead>\n  <tbody>\n    <tr>\n      <th>0</th>\n      <td>POOL.OQ</td>\n      <td>2022-10-01</td>\n      <td>4.196</td>\n      <td>10.0</td>\n      <td>2.27273</td>\n      <td>0.07273</td>\n    </tr>\n    <tr>\n      <th>1</th>\n      <td>POOL.OQ</td>\n      <td>2022-07-01</td>\n      <td>1.503</td>\n      <td>9.0</td>\n      <td>2.20000</td>\n      <td>0.20000</td>\n    </tr>\n    <tr>\n      <th>2</th>\n      <td>POOL.OQ</td>\n      <td>2022-04-01</td>\n      <td>34.342</td>\n      <td>9.0</td>\n      <td>2.00000</td>\n      <td>-0.30000</td>\n    </tr>\n    <tr>\n      <th>3</th>\n      <td>POOL.OQ</td>\n      <td>2022-01-01</td>\n      <td>40.267</td>\n      <td>8.0</td>\n      <td>2.30000</td>\n      <td>0.00000</td>\n    </tr>\n    <tr>\n      <th>4</th>\n      <td>POOL.OQ</td>\n      <td>2021-10-01</td>\n      <td>17.194</td>\n      <td>8.0</td>\n      <td>2.30000</td>\n      <td>0.00000</td>\n    </tr>\n    <tr>\n      <th>...</th>\n      <td>...</td>\n      <td>...</td>\n      <td>...</td>\n      <td>...</td>\n      <td>...</td>\n      <td>...</td>\n    </tr>\n    <tr>\n      <th>20115</th>\n      <td>AVY.N</td>\n      <td>2014-01-01</td>\n      <td>1.471</td>\n      <td>8.0</td>\n      <td>2.33333</td>\n      <td>-0.29167</td>\n    </tr>\n    <tr>\n      <th>20116</th>\n      <td>AVY.N</td>\n      <td>2013-10-01</td>\n      <td>8.095</td>\n      <td>7.0</td>\n      <td>2.62500</td>\n      <td>-0.25000</td>\n    </tr>\n    <tr>\n      <th>20117</th>\n      <td>AVY.N</td>\n      <td>2013-07-01</td>\n      <td>1.068</td>\n      <td>8.0</td>\n      <td>2.87500</td>\n      <td>0.00000</td>\n    </tr>\n    <tr>\n      <th>20118</th>\n      <td>AVY.N</td>\n      <td>2013-04-01</td>\n      <td>2.482</td>\n      <td>7.0</td>\n      <td>2.87500</td>\n      <td>-0.12500</td>\n    </tr>\n    <tr>\n      <th>20119</th>\n      <td>AVY.N</td>\n      <td>2013-01-01</td>\n      <td>11.178</td>\n      <td>7.0</td>\n      <td>3.00000</td>\n      <td>0.00000</td>\n    </tr>\n  </tbody>\n</table>\n<p>20120 rows × 6 columns</p>\n</div>"
     },
     "execution_count": 8,
     "metadata": {},
     "output_type": "execute_result"
    }
   ],
   "source": [
    "analysts[\"Recommendation change\"] = analysts[\"Recommendation - Mean (1-5)\"] - analysts[\"Recommendation - Mean (1-5).1\"]\n",
    "analysts.insert(5, \"Recommendation change\", analysts.pop(\"Recommendation change\"))\n",
    "analysts = analysts.drop(\"Recommendation - Mean (1-5).1\", axis=1)\n",
    "analysts"
   ],
   "metadata": {
    "collapsed": false
   }
  },
  {
   "cell_type": "code",
   "execution_count": 9,
   "outputs": [],
   "source": [
    "analysts.to_csv(\"Dataframes/analysts.csv\", index=False)"
   ],
   "metadata": {
    "collapsed": false
   }
  },
  {
   "cell_type": "markdown",
   "source": [
    "### Macroeconomic factors dataframe"
   ],
   "metadata": {
    "collapsed": false
   }
  },
  {
   "cell_type": "code",
   "execution_count": 10,
   "outputs": [
    {
     "data": {
      "text/plain": "      Instrument        Date  Earnings Per Share - Actual Surprise  \\\n0        POOL.OQ  2022-10-01                                 4.196   \n1        POOL.OQ  2022-07-01                                 1.503   \n2        POOL.OQ  2022-04-01                                34.342   \n3        POOL.OQ  2022-01-01                                40.267   \n4        POOL.OQ  2021-10-01                                17.194   \n...          ...         ...                                   ...   \n20115      AVY.N  2014-01-01                                 1.471   \n20116      AVY.N  2013-10-01                                 8.095   \n20117      AVY.N  2013-07-01                                 1.068   \n20118      AVY.N  2013-04-01                                 2.482   \n20119      AVY.N  2013-01-01                                11.178   \n\n       WACC Inflation Adjusted Risk Free Rate, (%)  \n0                                         3.747421  \n1                                         3.092855  \n2                                         2.325202  \n3                                         1.515266  \n4                                         1.527139  \n...                                            ...  \n20115                                          NaN  \n20116                                          NaN  \n20117                                          NaN  \n20118                                          NaN  \n20119                                          NaN  \n\n[20120 rows x 4 columns]",
      "text/html": "<div>\n<style scoped>\n    .dataframe tbody tr th:only-of-type {\n        vertical-align: middle;\n    }\n\n    .dataframe tbody tr th {\n        vertical-align: top;\n    }\n\n    .dataframe thead th {\n        text-align: right;\n    }\n</style>\n<table border=\"1\" class=\"dataframe\">\n  <thead>\n    <tr style=\"text-align: right;\">\n      <th></th>\n      <th>Instrument</th>\n      <th>Date</th>\n      <th>Earnings Per Share - Actual Surprise</th>\n      <th>WACC Inflation Adjusted Risk Free Rate, (%)</th>\n    </tr>\n  </thead>\n  <tbody>\n    <tr>\n      <th>0</th>\n      <td>POOL.OQ</td>\n      <td>2022-10-01</td>\n      <td>4.196</td>\n      <td>3.747421</td>\n    </tr>\n    <tr>\n      <th>1</th>\n      <td>POOL.OQ</td>\n      <td>2022-07-01</td>\n      <td>1.503</td>\n      <td>3.092855</td>\n    </tr>\n    <tr>\n      <th>2</th>\n      <td>POOL.OQ</td>\n      <td>2022-04-01</td>\n      <td>34.342</td>\n      <td>2.325202</td>\n    </tr>\n    <tr>\n      <th>3</th>\n      <td>POOL.OQ</td>\n      <td>2022-01-01</td>\n      <td>40.267</td>\n      <td>1.515266</td>\n    </tr>\n    <tr>\n      <th>4</th>\n      <td>POOL.OQ</td>\n      <td>2021-10-01</td>\n      <td>17.194</td>\n      <td>1.527139</td>\n    </tr>\n    <tr>\n      <th>...</th>\n      <td>...</td>\n      <td>...</td>\n      <td>...</td>\n      <td>...</td>\n    </tr>\n    <tr>\n      <th>20115</th>\n      <td>AVY.N</td>\n      <td>2014-01-01</td>\n      <td>1.471</td>\n      <td>NaN</td>\n    </tr>\n    <tr>\n      <th>20116</th>\n      <td>AVY.N</td>\n      <td>2013-10-01</td>\n      <td>8.095</td>\n      <td>NaN</td>\n    </tr>\n    <tr>\n      <th>20117</th>\n      <td>AVY.N</td>\n      <td>2013-07-01</td>\n      <td>1.068</td>\n      <td>NaN</td>\n    </tr>\n    <tr>\n      <th>20118</th>\n      <td>AVY.N</td>\n      <td>2013-04-01</td>\n      <td>2.482</td>\n      <td>NaN</td>\n    </tr>\n    <tr>\n      <th>20119</th>\n      <td>AVY.N</td>\n      <td>2013-01-01</td>\n      <td>11.178</td>\n      <td>NaN</td>\n    </tr>\n  </tbody>\n</table>\n<p>20120 rows × 4 columns</p>\n</div>"
     },
     "execution_count": 10,
     "metadata": {},
     "output_type": "execute_result"
    }
   ],
   "source": [
    "macro = df.loc[:, [\"Instrument\", \"Date\", \"Earnings Per Share - Actual Surprise\", \"WACC Inflation Adjusted Risk Free Rate, (%)\"]]\n",
    "macro"
   ],
   "metadata": {
    "collapsed": false
   }
  },
  {
   "cell_type": "code",
   "execution_count": 11,
   "outputs": [],
   "source": [
    "macro.to_csv(\"Dataframes/macro.csv\", index=False)"
   ],
   "metadata": {
    "collapsed": false
   }
  },
  {
   "cell_type": "code",
   "execution_count": 12,
   "outputs": [],
   "source": [
    "# df['ESG Score'] = pd.Series()\n",
    "# df['Governance Pillar Score'] = pd.Series()\n",
    "# df['Independent Board Members'] = pd.Series()\n",
    "#\n",
    "# for i in range(len(df2)):\n",
    "#     for j in range(len(df)):\n",
    "#         if df.loc[j, \"Instrument\"] == df2.loc[i, \"Instrument\"] and df.loc[j, \"Date\"].year == df2.loc[i, \"Date\"].year:\n",
    "#             df.loc[j, \"ESG Score\"] = df2.loc[i, \"ESG Score\"]\n",
    "#             df.loc[j, \"Governance Pillar Score\"] = df2.loc[i, \"Governance Pillar Score\"]\n",
    "#             df.loc[j, \"Independent Board Members\"] = df2.loc[i, \"Independent Board Members\"]\n",
    "#\n",
    "# df\n",
    "\n",
    "#Comment: Takes too much time"
   ],
   "metadata": {
    "collapsed": false
   }
  },
  {
   "cell_type": "code",
   "execution_count": 21,
   "outputs": [],
   "source": [],
   "metadata": {
    "collapsed": false
   }
  }
 ],
 "metadata": {
  "kernelspec": {
   "display_name": "AnalystForecast",
   "language": "python",
   "name": "python3"
  },
  "language_info": {
   "codemirror_mode": {
    "name": "ipython",
    "version": 2
   },
   "file_extension": ".py",
   "mimetype": "text/x-python",
   "name": "python",
   "nbconvert_exporter": "python",
   "pygments_lexer": "ipython2",
   "version": "3.11.0"
  },
  "vscode": {
   "interpreter": {
    "hash": "264d128b47a19451ae7876f5ee246d3f7de9751940a5ebe47f15ec6626e5a91f"
   }
  }
 },
 "nbformat": 4,
 "nbformat_minor": 0
}
