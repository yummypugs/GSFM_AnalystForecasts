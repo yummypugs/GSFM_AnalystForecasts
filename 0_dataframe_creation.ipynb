{
 "cells": [
  {
   "cell_type": "code",
   "execution_count": 11,
   "metadata": {
    "collapsed": false
   },
   "outputs": [],
   "source": [
    "import eikon as ek\n",
    "import pandas as pd\n",
    "import numpy as np\n",
    "import datetime\n",
    "import plotly.express as px\n",
    "\n",
    "\n",
    "#ek.set_app_key(\"320e7257c23945729695a106cedb2b9cb72d3207\") # Elena\n",
    "ek.set_app_key(\"69de0ce7c5e2468e90a6058ce79f6558ebe3ee30\") # Alexander\n",
    "#ek.set_app_key(\"8879958aee0d4e68894df7ee96fe7c192adc17fc\") # Mohandas\n",
    "#ek.set_app_key(\"f47c330480d74c598b7e8ebc2539424e91764dd8\") # Ginevra\n"
   ]
  },
  {
   "cell_type": "markdown",
   "metadata": {
    "collapsed": false
   },
   "source": [
    "https://community.developers.refinitiv.com/questions/73493/get-eps-historical-data-for-stocks.html"
   ]
  },
  {
   "cell_type": "markdown",
   "metadata": {
    "collapsed": false
   },
   "source": [
    "# Economic Story\n",
    "\n",
    "**TR.RevenueActValue.date** - prints the datetime\n",
    "\n",
    "## Part 1: Accuracy\n",
    "\n",
    "1. **TR.EPSActValue** - The company's actual value normalized to reflect the I/B/E/S default currency and corporate actions (e.g. stock splits). Earnings Per Share is defined as the EPS that the contributing analyst considers to be that with which to value a security. This figure may include or exclude certain items depending on the contributing analyst's specific model.\n",
    "\n",
    "2. **TR.EPSMean** - The statistical average of all broker estimates determined to be on the majority accounting basis. Earnings Per Share is defined as the EPS that the contributing analyst considers to be that with which to value a security. This figure may include or exclude certain items depending on the contributing analyst's specific model.\n",
    "\n",
    "--> this is a analyst forecast variable\n",
    "\n",
    "3. **TR.EPSActSurprise** - The difference between the actual and the last mean of the period, expressed as a percentage. Earnings Per Share is defined as the EPS that the contributing analyst considers to be that with which to value a security. This figure may include or exclude certain items depending on the contributing analyst's specific model.\n",
    "\n",
    "--> forecast error between actual EPS and TR.EPSMean\n",
    "\n",
    "<img src=\"./Pictures/Screenshot 2023-02-15 185222.png\" width=500 height=300 />\n",
    "\n",
    "## Part 2: Factors\n",
    "\n",
    "### Firm charateristics\n",
    "\n",
    "1. **TR.RevenueActValue** - The company's actual value normalized to reflect the I/B/E/S default currency and corporate actions (e.g. stock splits). Revenue (or Sales) is a corporation's net revenue, generally derived from core business activities. For non-financial companies, the calculation of net revenue (or net turnover) in most markets generally involves subtracting transportation and related operational costs from gross revenue/sales. Revenue recognition practices vary significantly from market to market, though generally the recording of revenue is based upon sales invoices issued (or anticipated for forecast purposes) during the accounting period.\n",
    "\n",
    "2. **TR.F.EV** - Enterprise Value is the Company's total economic value OR the theoretical takeover price, often used as an alternative to market capitalization. Enterprise Value represents Market Capitalization TR.F.MktCap + Debt including Preferred Equity & Minority Interest - Total [TR.F.DebtlnclPrefEqMinlntrTot] (-) Cash & Short Term Investments - Total [TR.F.CashSTlnvstTot]. Market Capitalization [TR.F.MktCap] is required. The data item is calculated for all periodicities. It is applicable to all industries.\n",
    "\n",
    "3. **TR.LTGMean** - Long Term Growth - Mean:  The statistical average of all broker estimates determined to be on the majority accounting basis. Long-term growth is an estimate of the compound average rate of EPS growth an analyst expects over a period of three to five ears.\n",
    "\n",
    "##### Loss Firm Status (0 or 1)\n",
    "\n",
    "4. **TR.F.NetIncAfterTax** Net Income after Tax [SIAT] represents the income/expense after all operating and non-operating income and expense, reserves, income taxes, but before equity in earnings, minority interest, extraordinary items, after-tax adjustments, discontinued operations and preferred dividends. Applicable to all Industries. Net Income after Tax [SIAT] includes: • Net Income after Tax [XIAT]\n",
    "\n",
    "### Analysts\n",
    "1. **TR.NumberOfAnalysts** - Number of sell-side analysts covering the security.\n",
    "\n",
    "2. **TR.RecMean** - Recommendation Numeric Mean based on the Standard Scale Of Strong Buy (1 ), Buy (2), Hold (3), Sell (4), and Strong Sell (5).\n",
    "\n",
    "3. change in recommendation\n",
    "\n",
    "### Macro characteristics\n",
    "\n",
    "1. **TR.WACCInflationAdjRiskFreeRate** -  Inflation adjusted risk free rate used is Of the primary index for the domicile country Of the company. Inflation adjusted risk free rate (Rf) is calculated from the US 10-year treasury yield plus the difference between in the 10-year forecasted inflation rate between the given country and the US.\n",
    "\n",
    "\n",
    "\n",
    "### Return Potential\n",
    "\n",
    "1. **TR.PriceTargetMean** The statistical average of all broker estimates determined to be on the majority accounting basis. Price target is the projected price level forecasted by the analyst within a specific time horizon.\n",
    "\n",
    "1. **TR.PriceClose** The latest available closing price. If there are no trades for the most recent completed tradable day, the most recent prior tradable day with trading activity is used, provided the last tradable day for the instrument is within 378 completed calendar days.\n",
    "\n",
    "### More difficult Factors (yearly):\n",
    "\n",
    "#### ESG\n",
    "\n",
    "1. **TR.TRESGScore** Refinitiv ESG Score is an overall company score based on the self-reported information in the environmental, social and corporate governance pillars.\n",
    "\n",
    "#### Proportion of independent Directors\n",
    "\n",
    "1. **TR.AnalyticIndepBoard** - Independent Board Members - Percentage of independent board members as reported by the company.\n",
    "\n",
    "2. **TR.GovernancePillarScore** - Governance Pillar Score - The corporate governance pillar measures a company's systems and processes, which ensure that its board members and executives act in the best interests of its long term shareholders. It reflects a company's capacity, through its use of best management practices, to direct and control its rights and responsibilities through the creation of incentives, as well as checks and balances in order to generate long term shareholder value.\n",
    "\n",
    "## Part 3: Regression\n",
    "\n",
    "### continue.."
   ]
  },
  {
   "cell_type": "code",
   "execution_count": 12,
   "metadata": {
    "collapsed": false
   },
   "outputs": [],
   "source": [
    "economic_story = ['TR.EPSactValue.date', 'TR.EPSActValue', \"TR.EPSMean\", \"TR.EPSActSurprise\", \"TR.EPSCoefficientOfVariation\", 'TR.RevenueActValue', \"TR.F.EV\",  \"TR.NumberOfAnalysts\", \"TR.RecMean\", \"TR.RecMean(SDate=-2,EDate=-6)\", \"TR.WACCInflationAdjRiskFreeRate\", \"TR.F.NetIncAfterTax\", \"TR.PriceTargetMean\", \"TR.PriceClose\"]\n",
    "#TR.GICSIndustryGroup"
   ]
  },
  {
   "cell_type": "markdown",
   "metadata": {
    "collapsed": false
   },
   "source": [
    "# Whole Dataframe"
   ]
  },
  {
   "cell_type": "markdown",
   "source": [
    "Remove outliers in this step for EPS actual surprise\n"
   ],
   "metadata": {
    "collapsed": false
   }
  },
  {
   "cell_type": "code",
   "execution_count": 13,
   "metadata": {
    "collapsed": false
   },
   "outputs": [
    {
     "ename": "KeyboardInterrupt",
     "evalue": "",
     "output_type": "error",
     "traceback": [
      "\u001B[1;31m---------------------------------------------------------------------------\u001B[0m",
      "\u001B[1;31mKeyboardInterrupt\u001B[0m                         Traceback (most recent call last)",
      "Cell \u001B[1;32mIn[13], line 1\u001B[0m\n\u001B[1;32m----> 1\u001B[0m df, e \u001B[38;5;241m=\u001B[39m \u001B[43mek\u001B[49m\u001B[38;5;241;43m.\u001B[39;49m\u001B[43mget_data\u001B[49m\u001B[43m(\u001B[49m\u001B[38;5;124;43m'\u001B[39;49m\u001B[38;5;124;43m0#.SPX\u001B[39;49m\u001B[38;5;124;43m'\u001B[39;49m\u001B[43m,\u001B[49m\u001B[43m \u001B[49m\u001B[43meconomic_story\u001B[49m\u001B[43m,\u001B[49m\u001B[43m \u001B[49m\u001B[43mparameters\u001B[49m\u001B[43m \u001B[49m\u001B[38;5;241;43m=\u001B[39;49m\u001B[43m \u001B[49m\u001B[43m{\u001B[49m\u001B[38;5;124;43m'\u001B[39;49m\u001B[38;5;124;43mSDate\u001B[39;49m\u001B[38;5;124;43m'\u001B[39;49m\u001B[43m:\u001B[49m\u001B[38;5;124;43m'\u001B[39;49m\u001B[38;5;124;43m-1\u001B[39;49m\u001B[38;5;124;43m'\u001B[39;49m\u001B[43m,\u001B[49m\u001B[38;5;124;43m'\u001B[39;49m\u001B[38;5;124;43mEDate\u001B[39;49m\u001B[38;5;124;43m'\u001B[39;49m\u001B[43m:\u001B[49m\u001B[38;5;124;43m'\u001B[39;49m\u001B[38;5;124;43m-5\u001B[39;49m\u001B[38;5;124;43m'\u001B[39;49m\u001B[43m,\u001B[49m\u001B[38;5;124;43m'\u001B[39;49m\u001B[38;5;124;43mPeriod\u001B[39;49m\u001B[38;5;124;43m'\u001B[39;49m\u001B[43m:\u001B[49m\u001B[38;5;124;43m'\u001B[39;49m\u001B[38;5;124;43mFQ0\u001B[39;49m\u001B[38;5;124;43m'\u001B[39;49m\u001B[43m,\u001B[49m\u001B[38;5;124;43m'\u001B[39;49m\u001B[38;5;124;43mFrq\u001B[39;49m\u001B[38;5;124;43m'\u001B[39;49m\u001B[43m:\u001B[49m\u001B[38;5;124;43m'\u001B[39;49m\u001B[38;5;124;43mFQ\u001B[39;49m\u001B[38;5;124;43m'\u001B[39;49m\u001B[43m}\u001B[49m\u001B[43m)\u001B[49m\n\u001B[0;32m      2\u001B[0m df[\u001B[38;5;124m\"\u001B[39m\u001B[38;5;124mDate\u001B[39m\u001B[38;5;124m\"\u001B[39m] \u001B[38;5;241m=\u001B[39m pd\u001B[38;5;241m.\u001B[39mto_datetime(df[\u001B[38;5;124m\"\u001B[39m\u001B[38;5;124mDate\u001B[39m\u001B[38;5;124m\"\u001B[39m])\u001B[38;5;241m.\u001B[39mdt\u001B[38;5;241m.\u001B[39mtz_localize(\u001B[38;5;28;01mNone\u001B[39;00m)\n",
      "File \u001B[1;32m~\\mambaforge\\envs\\AnalystForecast\\Lib\\site-packages\\eikon\\data_grid.py:190\u001B[0m, in \u001B[0;36mget_data\u001B[1;34m(instruments, fields, parameters, field_name, raw_output, debug)\u001B[0m\n\u001B[0;32m    187\u001B[0m \u001B[38;5;28;01mif\u001B[39;00m _endpoint \u001B[38;5;241m==\u001B[39m DataGridAsync_UDF_endpoint:\n\u001B[0;32m    188\u001B[0m     payload \u001B[38;5;241m=\u001B[39m {\u001B[38;5;124m'\u001B[39m\u001B[38;5;124mrequests\u001B[39m\u001B[38;5;124m'\u001B[39m: [payload]}\n\u001B[1;32m--> 190\u001B[0m result \u001B[38;5;241m=\u001B[39m \u001B[43meikon\u001B[49m\u001B[38;5;241;43m.\u001B[39;49m\u001B[43mjson_requests\u001B[49m\u001B[38;5;241;43m.\u001B[39;49m\u001B[43msend_json_request\u001B[49m\u001B[43m(\u001B[49m\u001B[43m_endpoint\u001B[49m\u001B[43m,\u001B[49m\u001B[43m \u001B[49m\u001B[43mpayload\u001B[49m\u001B[43m,\u001B[49m\u001B[43m \u001B[49m\u001B[43mdebug\u001B[49m\u001B[38;5;241;43m=\u001B[39;49m\u001B[43mdebug\u001B[49m\u001B[43m)\u001B[49m\n\u001B[0;32m    192\u001B[0m \u001B[38;5;28;01mif\u001B[39;00m result\u001B[38;5;241m.\u001B[39mget(\u001B[38;5;124m'\u001B[39m\u001B[38;5;124mresponses\u001B[39m\u001B[38;5;124m'\u001B[39m):\n\u001B[0;32m    193\u001B[0m     result \u001B[38;5;241m=\u001B[39m result[\u001B[38;5;124m'\u001B[39m\u001B[38;5;124mresponses\u001B[39m\u001B[38;5;124m'\u001B[39m][\u001B[38;5;241m0\u001B[39m]\n",
      "File \u001B[1;32m~\\mambaforge\\envs\\AnalystForecast\\Lib\\site-packages\\eikon\\json_requests.py:89\u001B[0m, in \u001B[0;36msend_json_request\u001B[1;34m(entity, payload, debug)\u001B[0m\n\u001B[0;32m     87\u001B[0m udf_request \u001B[38;5;241m=\u001B[39m {\u001B[38;5;124m'\u001B[39m\u001B[38;5;124mEntity\u001B[39m\u001B[38;5;124m'\u001B[39m: {\u001B[38;5;124m'\u001B[39m\u001B[38;5;124mE\u001B[39m\u001B[38;5;124m'\u001B[39m: entity, \u001B[38;5;124m'\u001B[39m\u001B[38;5;124mW\u001B[39m\u001B[38;5;124m'\u001B[39m: data} }\n\u001B[0;32m     88\u001B[0m logger\u001B[38;5;241m.\u001B[39mdebug(\u001B[38;5;124m'\u001B[39m\u001B[38;5;124mRequest:\u001B[39m\u001B[38;5;132;01m{}\u001B[39;00m\u001B[38;5;124m'\u001B[39m\u001B[38;5;241m.\u001B[39mformat(udf_request))\n\u001B[1;32m---> 89\u001B[0m response \u001B[38;5;241m=\u001B[39m \u001B[43mprofile\u001B[49m\u001B[38;5;241;43m.\u001B[39;49m\u001B[43msend_request\u001B[49m\u001B[43m(\u001B[49m\u001B[43mjson\u001B[49m\u001B[38;5;241;43m=\u001B[39;49m\u001B[43mudf_request\u001B[49m\u001B[43m)\u001B[49m\n\u001B[0;32m     90\u001B[0m \u001B[38;5;28;01mtry\u001B[39;00m:\n\u001B[0;32m     91\u001B[0m     logger\u001B[38;5;241m.\u001B[39mdebug(\u001B[38;5;124m'\u001B[39m\u001B[38;5;124mHTTP Response code: \u001B[39m\u001B[38;5;132;01m{}\u001B[39;00m\u001B[38;5;124m'\u001B[39m\u001B[38;5;241m.\u001B[39mformat(response\u001B[38;5;241m.\u001B[39mstatus_code))\n",
      "File \u001B[1;32m~\\mambaforge\\envs\\AnalystForecast\\Lib\\site-packages\\eikon\\Profile.py:348\u001B[0m, in \u001B[0;36mProfile.send_request\u001B[1;34m(self, json, timeout)\u001B[0m\n\u001B[0;32m    347\u001B[0m \u001B[38;5;28;01mdef\u001B[39;00m \u001B[38;5;21msend_request\u001B[39m(\u001B[38;5;28mself\u001B[39m, json, timeout\u001B[38;5;241m=\u001B[39m\u001B[38;5;28;01mNone\u001B[39;00m):\n\u001B[1;32m--> 348\u001B[0m     response \u001B[38;5;241m=\u001B[39m \u001B[38;5;28;43mself\u001B[39;49m\u001B[38;5;241;43m.\u001B[39;49m\u001B[43m_desktop_session\u001B[49m\u001B[38;5;241;43m.\u001B[39;49m\u001B[43mhttp_request\u001B[49m\u001B[43m(\u001B[49m\u001B[43murl\u001B[49m\u001B[38;5;241;43m=\u001B[39;49m\u001B[38;5;28;43mself\u001B[39;49m\u001B[38;5;241;43m.\u001B[39;49m\u001B[43mget_url\u001B[49m\u001B[43m(\u001B[49m\u001B[43m)\u001B[49m\u001B[43m,\u001B[49m\n\u001B[0;32m    349\u001B[0m \u001B[43m                                                  \u001B[49m\u001B[43mmethod\u001B[49m\u001B[38;5;241;43m=\u001B[39;49m\u001B[38;5;124;43m\"\u001B[39;49m\u001B[38;5;124;43mPOST\u001B[39;49m\u001B[38;5;124;43m\"\u001B[39;49m\u001B[43m,\u001B[49m\n\u001B[0;32m    350\u001B[0m \u001B[43m                                                  \u001B[49m\u001B[43mheaders\u001B[49m\u001B[38;5;241;43m=\u001B[39;49m\u001B[43m{\u001B[49m\u001B[38;5;124;43m'\u001B[39;49m\u001B[38;5;124;43mContent-Type\u001B[39;49m\u001B[38;5;124;43m'\u001B[39;49m\u001B[43m:\u001B[49m\u001B[43m \u001B[49m\u001B[38;5;124;43m'\u001B[39;49m\u001B[38;5;124;43mapplication/json\u001B[39;49m\u001B[38;5;124;43m'\u001B[39;49m\u001B[43m,\u001B[49m\n\u001B[0;32m    351\u001B[0m \u001B[43m                                                           \u001B[49m\u001B[38;5;124;43m'\u001B[39;49m\u001B[38;5;124;43mx-tr-applicationid\u001B[39;49m\u001B[38;5;124;43m'\u001B[39;49m\u001B[43m:\u001B[49m\u001B[43m \u001B[49m\u001B[38;5;28;43mself\u001B[39;49m\u001B[38;5;241;43m.\u001B[39;49m\u001B[43mget_app_key\u001B[49m\u001B[43m(\u001B[49m\u001B[43m)\u001B[49m\u001B[43m}\u001B[49m\u001B[43m,\u001B[49m\n\u001B[0;32m    352\u001B[0m \u001B[43m                                                  \u001B[49m\u001B[43mjson\u001B[49m\u001B[38;5;241;43m=\u001B[39;49m\u001B[43mjson\u001B[49m\u001B[43m,\u001B[49m\n\u001B[0;32m    353\u001B[0m \u001B[43m                                                  \u001B[49m\u001B[43mtimeout\u001B[49m\u001B[38;5;241;43m=\u001B[39;49m\u001B[43mtimeout\u001B[49m\u001B[43m)\u001B[49m\n\u001B[0;32m    354\u001B[0m     \u001B[38;5;28;01mreturn\u001B[39;00m response\n",
      "File \u001B[1;32m~\\mambaforge\\envs\\AnalystForecast\\Lib\\site-packages\\eikon\\streaming_session\\session.py:670\u001B[0m, in \u001B[0;36mSession.http_request\u001B[1;34m(self, url, method, headers, data, params, json, auth, loop, **kwargs)\u001B[0m\n\u001B[0;32m    668\u001B[0m \u001B[38;5;28;01mif\u001B[39;00m loop \u001B[38;5;129;01mis\u001B[39;00m \u001B[38;5;28;01mNone\u001B[39;00m:\n\u001B[0;32m    669\u001B[0m     loop \u001B[38;5;241m=\u001B[39m \u001B[38;5;28mself\u001B[39m\u001B[38;5;241m.\u001B[39m_loop\n\u001B[1;32m--> 670\u001B[0m response \u001B[38;5;241m=\u001B[39m \u001B[43mloop\u001B[49m\u001B[38;5;241;43m.\u001B[39;49m\u001B[43mrun_until_complete\u001B[49m\u001B[43m(\u001B[49m\u001B[38;5;28;43mself\u001B[39;49m\u001B[38;5;241;43m.\u001B[39;49m\u001B[43mhttp_request_async\u001B[49m\u001B[43m(\u001B[49m\u001B[43murl\u001B[49m\u001B[43m,\u001B[49m\u001B[43m \u001B[49m\u001B[43mmethod\u001B[49m\u001B[43m,\u001B[49m\u001B[43m \u001B[49m\u001B[43mheaders\u001B[49m\u001B[43m,\u001B[49m\u001B[43m \u001B[49m\u001B[43mdata\u001B[49m\u001B[43m,\u001B[49m\n\u001B[0;32m    671\u001B[0m \u001B[43m                                                           \u001B[49m\u001B[43mparams\u001B[49m\u001B[43m,\u001B[49m\u001B[43m \u001B[49m\u001B[43mjson\u001B[49m\u001B[43m,\u001B[49m\u001B[43m \u001B[49m\u001B[43mauth\u001B[49m\u001B[43m,\u001B[49m\u001B[43m \u001B[49m\u001B[38;5;241;43m*\u001B[39;49m\u001B[38;5;241;43m*\u001B[39;49m\u001B[43mkwargs\u001B[49m\u001B[43m)\u001B[49m\u001B[43m)\u001B[49m\n\u001B[0;32m    672\u001B[0m \u001B[38;5;28;01mreturn\u001B[39;00m response\n",
      "File \u001B[1;32m~\\mambaforge\\envs\\AnalystForecast\\Lib\\site-packages\\nest_asyncio.py:84\u001B[0m, in \u001B[0;36m_patch_loop.<locals>.run_until_complete\u001B[1;34m(self, future)\u001B[0m\n\u001B[0;32m     82\u001B[0m     f\u001B[38;5;241m.\u001B[39m_log_destroy_pending \u001B[38;5;241m=\u001B[39m \u001B[38;5;28;01mFalse\u001B[39;00m\n\u001B[0;32m     83\u001B[0m \u001B[38;5;28;01mwhile\u001B[39;00m \u001B[38;5;129;01mnot\u001B[39;00m f\u001B[38;5;241m.\u001B[39mdone():\n\u001B[1;32m---> 84\u001B[0m     \u001B[38;5;28;43mself\u001B[39;49m\u001B[38;5;241;43m.\u001B[39;49m\u001B[43m_run_once\u001B[49m\u001B[43m(\u001B[49m\u001B[43m)\u001B[49m\n\u001B[0;32m     85\u001B[0m     \u001B[38;5;28;01mif\u001B[39;00m \u001B[38;5;28mself\u001B[39m\u001B[38;5;241m.\u001B[39m_stopping:\n\u001B[0;32m     86\u001B[0m         \u001B[38;5;28;01mbreak\u001B[39;00m\n",
      "File \u001B[1;32m~\\mambaforge\\envs\\AnalystForecast\\Lib\\site-packages\\nest_asyncio.py:107\u001B[0m, in \u001B[0;36m_patch_loop.<locals>._run_once\u001B[1;34m(self)\u001B[0m\n\u001B[0;32m    100\u001B[0m     heappop(scheduled)\n\u001B[0;32m    102\u001B[0m timeout \u001B[38;5;241m=\u001B[39m (\n\u001B[0;32m    103\u001B[0m     \u001B[38;5;241m0\u001B[39m \u001B[38;5;28;01mif\u001B[39;00m ready \u001B[38;5;129;01mor\u001B[39;00m \u001B[38;5;28mself\u001B[39m\u001B[38;5;241m.\u001B[39m_stopping\n\u001B[0;32m    104\u001B[0m     \u001B[38;5;28;01melse\u001B[39;00m \u001B[38;5;28mmin\u001B[39m(\u001B[38;5;28mmax\u001B[39m(\n\u001B[0;32m    105\u001B[0m         scheduled[\u001B[38;5;241m0\u001B[39m]\u001B[38;5;241m.\u001B[39m_when \u001B[38;5;241m-\u001B[39m \u001B[38;5;28mself\u001B[39m\u001B[38;5;241m.\u001B[39mtime(), \u001B[38;5;241m0\u001B[39m), \u001B[38;5;241m86400\u001B[39m) \u001B[38;5;28;01mif\u001B[39;00m scheduled\n\u001B[0;32m    106\u001B[0m     \u001B[38;5;28;01melse\u001B[39;00m \u001B[38;5;28;01mNone\u001B[39;00m)\n\u001B[1;32m--> 107\u001B[0m event_list \u001B[38;5;241m=\u001B[39m \u001B[38;5;28;43mself\u001B[39;49m\u001B[38;5;241;43m.\u001B[39;49m\u001B[43m_selector\u001B[49m\u001B[38;5;241;43m.\u001B[39;49m\u001B[43mselect\u001B[49m\u001B[43m(\u001B[49m\u001B[43mtimeout\u001B[49m\u001B[43m)\u001B[49m\n\u001B[0;32m    108\u001B[0m \u001B[38;5;28mself\u001B[39m\u001B[38;5;241m.\u001B[39m_process_events(event_list)\n\u001B[0;32m    110\u001B[0m end_time \u001B[38;5;241m=\u001B[39m \u001B[38;5;28mself\u001B[39m\u001B[38;5;241m.\u001B[39mtime() \u001B[38;5;241m+\u001B[39m \u001B[38;5;28mself\u001B[39m\u001B[38;5;241m.\u001B[39m_clock_resolution\n",
      "File \u001B[1;32m~\\mambaforge\\envs\\AnalystForecast\\Lib\\selectors.py:323\u001B[0m, in \u001B[0;36mSelectSelector.select\u001B[1;34m(self, timeout)\u001B[0m\n\u001B[0;32m    321\u001B[0m ready \u001B[38;5;241m=\u001B[39m []\n\u001B[0;32m    322\u001B[0m \u001B[38;5;28;01mtry\u001B[39;00m:\n\u001B[1;32m--> 323\u001B[0m     r, w, _ \u001B[38;5;241m=\u001B[39m \u001B[38;5;28;43mself\u001B[39;49m\u001B[38;5;241;43m.\u001B[39;49m\u001B[43m_select\u001B[49m\u001B[43m(\u001B[49m\u001B[38;5;28;43mself\u001B[39;49m\u001B[38;5;241;43m.\u001B[39;49m\u001B[43m_readers\u001B[49m\u001B[43m,\u001B[49m\u001B[43m \u001B[49m\u001B[38;5;28;43mself\u001B[39;49m\u001B[38;5;241;43m.\u001B[39;49m\u001B[43m_writers\u001B[49m\u001B[43m,\u001B[49m\u001B[43m \u001B[49m\u001B[43m[\u001B[49m\u001B[43m]\u001B[49m\u001B[43m,\u001B[49m\u001B[43m \u001B[49m\u001B[43mtimeout\u001B[49m\u001B[43m)\u001B[49m\n\u001B[0;32m    324\u001B[0m \u001B[38;5;28;01mexcept\u001B[39;00m \u001B[38;5;167;01mInterruptedError\u001B[39;00m:\n\u001B[0;32m    325\u001B[0m     \u001B[38;5;28;01mreturn\u001B[39;00m ready\n",
      "File \u001B[1;32m~\\mambaforge\\envs\\AnalystForecast\\Lib\\selectors.py:314\u001B[0m, in \u001B[0;36mSelectSelector._select\u001B[1;34m(self, r, w, _, timeout)\u001B[0m\n\u001B[0;32m    313\u001B[0m \u001B[38;5;28;01mdef\u001B[39;00m \u001B[38;5;21m_select\u001B[39m(\u001B[38;5;28mself\u001B[39m, r, w, _, timeout\u001B[38;5;241m=\u001B[39m\u001B[38;5;28;01mNone\u001B[39;00m):\n\u001B[1;32m--> 314\u001B[0m     r, w, x \u001B[38;5;241m=\u001B[39m select\u001B[38;5;241m.\u001B[39mselect(r, w, w, timeout)\n\u001B[0;32m    315\u001B[0m     \u001B[38;5;28;01mreturn\u001B[39;00m r, w \u001B[38;5;241m+\u001B[39m x, []\n",
      "\u001B[1;31mKeyboardInterrupt\u001B[0m: "
     ]
    }
   ],
   "source": [
    "df, e = ek.get_data('0#.SPX', economic_story, parameters = {'SDate':'-1','EDate':'-5','Period':'FQ0','Frq':'FQ'})\n",
    "df[\"Date\"] = pd.to_datetime(df[\"Date\"]).dt.tz_localize(None)"
   ]
  },
  {
   "cell_type": "code",
   "execution_count": null,
   "metadata": {
    "collapsed": false
   },
   "outputs": [],
   "source": [
    "df"
   ]
  },
  {
   "cell_type": "code",
   "execution_count": null,
   "metadata": {},
   "outputs": [],
   "source": [
    "#DO NOT DELETE!\n",
    "df_for_accuracy_analysis = df.copy()\n",
    "df_for_accuracy_analysis.to_csv(\"Dataframes/accuracy_analysis_dataframe.csv\", index=False)"
   ]
  },
  {
   "cell_type": "code",
   "execution_count": null,
   "metadata": {
    "collapsed": false
   },
   "outputs": [],
   "source": [
    "df['New Date'] = pd.Series()\n",
    "\n",
    "for i in range(len(df)):\n",
    "    if df.loc[i, \"Date\"].month == 1:\n",
    "        df.loc[i, \"New Date\"] = df.loc[i, \"Date\"].replace(month=1, day=1)\n",
    "    elif df.loc[i, \"Date\"].month == 2:\n",
    "        df.loc[i, \"New Date\"] = df.loc[i, \"Date\"].replace(month=1, day=1)\n",
    "    elif df.loc[i, \"Date\"].month == 3:\n",
    "        df.loc[i, \"New Date\"] = df.loc[i, \"Date\"].replace(month=1, day=1)\n",
    "    elif df.loc[i, \"Date\"].month == 4:\n",
    "        df.loc[i, \"New Date\"] = df.loc[i, \"Date\"].replace(month=4, day=1)\n",
    "    elif df.loc[i, \"Date\"].month == 5:\n",
    "        df.loc[i, \"New Date\"] = df.loc[i, \"Date\"].replace(month=4, day=1)\n",
    "    elif df.loc[i, \"Date\"].month == 6:\n",
    "        df.loc[i, \"New Date\"] = df.loc[i, \"Date\"].replace(month=4, day=1)\n",
    "    elif df.loc[i, \"Date\"].month == 7:\n",
    "        df.loc[i, \"New Date\"] = df.loc[i, \"Date\"].replace(month=7, day=1)\n",
    "    elif df.loc[i, \"Date\"].month == 8:\n",
    "        df.loc[i, \"New Date\"] = df.loc[i, \"Date\"].replace(month=7, day=1)\n",
    "    elif df.loc[i, \"Date\"].month == 9:\n",
    "        df.loc[i, \"New Date\"] = df.loc[i, \"Date\"].replace(month=7, day=1)\n",
    "    elif df.loc[i, \"Date\"].month == 10:\n",
    "        df.loc[i, \"New Date\"] = df.loc[i, \"Date\"].replace(month=10, day=1)\n",
    "    elif df.loc[i, \"Date\"].month == 11:\n",
    "        df.loc[i, \"New Date\"] = df.loc[i, \"Date\"].replace(month=10, day=1)\n",
    "    elif df.loc[i, \"Date\"].month == 12:\n",
    "        df.loc[i, \"New Date\"] = df.loc[i, \"Date\"].replace(month=10, day=1)\n",
    "\n",
    "df.insert(2, \"New Date\", df.pop(\"New Date\"))\n",
    "df[\"New Date\"] = pd.to_datetime(df[\"New Date\"]).dt.date\n",
    "df"
   ]
  },
  {
   "cell_type": "code",
   "execution_count": null,
   "metadata": {
    "collapsed": false
   },
   "outputs": [],
   "source": [
    "df = df.drop(\"Date\", axis = 1)\n",
    "df.rename(columns={\"New Date\": \"Date\"}, inplace=True)\n",
    "df"
   ]
  },
  {
   "cell_type": "code",
   "execution_count": null,
   "metadata": {
    "collapsed": false
   },
   "outputs": [],
   "source": [
    "df.to_csv(\"Dataframes/economic_story_dataframe.csv\", index=False)"
   ]
  },
  {
   "cell_type": "code",
   "execution_count": null,
   "metadata": {
    "collapsed": false
   },
   "outputs": [],
   "source": [
    "yearly = [\"TR.TRESGScore.date\", \"TR.TRESGScore\", \"TR.GovernancePillarScore\", \"TR.AnalyticIndepBoard\"]"
   ]
  },
  {
   "cell_type": "code",
   "execution_count": null,
   "metadata": {
    "collapsed": false
   },
   "outputs": [],
   "source": [
    "#economic_story_yearly, e = ek.get_data('0#.SPX', yearly, parameters = {'SDate':'0','EDate':'-20','Period':'FY0','Frq':'FY'})"
   ]
  },
  {
   "cell_type": "code",
   "execution_count": null,
   "metadata": {
    "collapsed": false
   },
   "outputs": [],
   "source": [
    "#economic_story_yearly[\"Date\"] = pd.to_datetime(economic_story_yearly[\"Date\"]).dt.date\n",
    "#economic_story_yearly = economic_story_yearly.dropna()\n",
    "#economic_story_yearly"
   ]
  },
  {
   "cell_type": "code",
   "execution_count": null,
   "metadata": {
    "collapsed": false
   },
   "outputs": [],
   "source": [
    "#economic_story_yearly.to_csv(\"yearly_dataframe.csv\", index=False)"
   ]
  },
  {
   "cell_type": "code",
   "execution_count": null,
   "outputs": [],
   "source": [],
   "metadata": {
    "collapsed": false
   }
  }
 ],
 "metadata": {
  "kernelspec": {
   "display_name": "base",
   "language": "python",
   "name": "python3"
  },
  "language_info": {
   "codemirror_mode": {
    "name": "ipython",
    "version": 3
   },
   "file_extension": ".py",
   "mimetype": "text/x-python",
   "name": "python",
   "nbconvert_exporter": "python",
   "pygments_lexer": "ipython3",
   "version": "3.11.0"
  },
  "vscode": {
   "interpreter": {
    "hash": "59f3145cc67fcda0343c2852f1f97113a2e6e98841e887156424448e7071ad54"
   }
  }
 },
 "nbformat": 4,
 "nbformat_minor": 0
}
