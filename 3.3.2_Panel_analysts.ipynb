{
 "cells": [
  {
   "attachments": {},
   "cell_type": "markdown",
   "metadata": {},
   "source": [
    "# Panel Regression - Firm Characteristics"
   ]
  },
  {
   "attachments": {},
   "cell_type": "markdown",
   "metadata": {},
   "source": [
    "### Random Effects Panel Regression"
   ]
  },
  {
   "cell_type": "markdown",
   "source": [],
   "metadata": {
    "collapsed": false
   }
  },
  {
   "cell_type": "code",
   "execution_count": 1,
   "metadata": {},
   "outputs": [],
   "source": [
    "import pandas as pd\n",
    "import numpy as np\n",
    "import datetime as dt\n",
    "import sklearn\n",
    "import statsmodels.api as sm\n",
    "from sklearn.linear_model import LinearRegression\n",
    "from sklearn.preprocessing import MinMaxScaler\n",
    "from sklearn.preprocessing import StandardScaler\n",
    "from linearmodels.panel import PanelOLS\n",
    "from linearmodels.panel import RandomEffects"
   ]
  },
  {
   "attachments": {},
   "cell_type": "markdown",
   "metadata": {},
   "source": [
    "Data"
   ]
  },
  {
   "cell_type": "code",
   "execution_count": 2,
   "metadata": {},
   "outputs": [
    {
     "data": {
      "text/plain": "      Instrument       Date GICS Industry Group Name  \\\n0          AVY.N 2013-01-01                Materials   \n1          AVY.N 2013-04-01                Materials   \n2          AVY.N 2013-07-01                Materials   \n3          AVY.N 2013-10-01                Materials   \n4          AVY.N 2014-01-01                Materials   \n...          ...        ...                      ...   \n19196    POOL.OQ 2021-10-01                Retailing   \n19197    POOL.OQ 2022-01-01                Retailing   \n19198    POOL.OQ 2022-04-01                Retailing   \n19199    POOL.OQ 2022-07-01                Retailing   \n19200    POOL.OQ 2022-10-01                Retailing   \n\n       Earnings Per Share - Actual Surprise  \\\n0                                    11.178   \n1                                     2.482   \n2                                     1.068   \n3                                     8.095   \n4                                     1.471   \n...                                     ...   \n19196                                17.194   \n19197                                40.267   \n19198                                34.342   \n19199                                 1.503   \n19200                                 4.196   \n\n       Earnings Per Share - Actual Surprise AbsVals  \\\n0                                            11.178   \n1                                             2.482   \n2                                             1.068   \n3                                             8.095   \n4                                             1.471   \n...                                             ...   \n19196                                        17.194   \n19197                                        40.267   \n19198                                        34.342   \n19199                                         1.503   \n19200                                         4.196   \n\n       Earnings Per Share – Coefficient of Variation  Number of Analysts  \\\n0                                           3.625620                 7.0   \n1                                           2.046169                 7.0   \n2                                           1.551601                 8.0   \n3                                           2.775994                 7.0   \n4                                           3.204412                 8.0   \n...                                              ...                 ...   \n19196                                       2.836295                 8.0   \n19197                                       3.269867                 8.0   \n19198                                       6.630736                 9.0   \n19199                                       3.625249                 9.0   \n19200                                       3.843706                10.0   \n\n       Recommendation - Mean (1-5)  Recommendation change  \\\n0                          3.00000                0.00000   \n1                          2.87500               -0.12500   \n2                          2.87500                0.00000   \n3                          2.62500               -0.25000   \n4                          2.33333               -0.29167   \n...                            ...                    ...   \n19196                      2.30000                0.00000   \n19197                      2.30000                0.00000   \n19198                      2.00000               -0.30000   \n19199                      2.20000                0.20000   \n19200                      2.27273                0.07273   \n\n       Recommendation - Mean (1-5).1  Price Target - Standard Deviation  \n0                              3.000                            2.44949  \n1                              3.000                            3.92272  \n2                              2.875                            4.30946  \n3                              2.875                            3.45230  \n4                              2.625                            3.42555  \n...                              ...                                ...  \n19196                          2.300                           50.48823  \n19197                          2.300                           41.33833  \n19198                          2.300                           37.49206  \n19199                          2.000                           57.57373  \n19200                          2.200                           24.95082  \n\n[19201 rows x 11 columns]",
      "text/html": "<div>\n<style scoped>\n    .dataframe tbody tr th:only-of-type {\n        vertical-align: middle;\n    }\n\n    .dataframe tbody tr th {\n        vertical-align: top;\n    }\n\n    .dataframe thead th {\n        text-align: right;\n    }\n</style>\n<table border=\"1\" class=\"dataframe\">\n  <thead>\n    <tr style=\"text-align: right;\">\n      <th></th>\n      <th>Instrument</th>\n      <th>Date</th>\n      <th>GICS Industry Group Name</th>\n      <th>Earnings Per Share - Actual Surprise</th>\n      <th>Earnings Per Share - Actual Surprise AbsVals</th>\n      <th>Earnings Per Share – Coefficient of Variation</th>\n      <th>Number of Analysts</th>\n      <th>Recommendation - Mean (1-5)</th>\n      <th>Recommendation change</th>\n      <th>Recommendation - Mean (1-5).1</th>\n      <th>Price Target - Standard Deviation</th>\n    </tr>\n  </thead>\n  <tbody>\n    <tr>\n      <th>0</th>\n      <td>AVY.N</td>\n      <td>2013-01-01</td>\n      <td>Materials</td>\n      <td>11.178</td>\n      <td>11.178</td>\n      <td>3.625620</td>\n      <td>7.0</td>\n      <td>3.00000</td>\n      <td>0.00000</td>\n      <td>3.000</td>\n      <td>2.44949</td>\n    </tr>\n    <tr>\n      <th>1</th>\n      <td>AVY.N</td>\n      <td>2013-04-01</td>\n      <td>Materials</td>\n      <td>2.482</td>\n      <td>2.482</td>\n      <td>2.046169</td>\n      <td>7.0</td>\n      <td>2.87500</td>\n      <td>-0.12500</td>\n      <td>3.000</td>\n      <td>3.92272</td>\n    </tr>\n    <tr>\n      <th>2</th>\n      <td>AVY.N</td>\n      <td>2013-07-01</td>\n      <td>Materials</td>\n      <td>1.068</td>\n      <td>1.068</td>\n      <td>1.551601</td>\n      <td>8.0</td>\n      <td>2.87500</td>\n      <td>0.00000</td>\n      <td>2.875</td>\n      <td>4.30946</td>\n    </tr>\n    <tr>\n      <th>3</th>\n      <td>AVY.N</td>\n      <td>2013-10-01</td>\n      <td>Materials</td>\n      <td>8.095</td>\n      <td>8.095</td>\n      <td>2.775994</td>\n      <td>7.0</td>\n      <td>2.62500</td>\n      <td>-0.25000</td>\n      <td>2.875</td>\n      <td>3.45230</td>\n    </tr>\n    <tr>\n      <th>4</th>\n      <td>AVY.N</td>\n      <td>2014-01-01</td>\n      <td>Materials</td>\n      <td>1.471</td>\n      <td>1.471</td>\n      <td>3.204412</td>\n      <td>8.0</td>\n      <td>2.33333</td>\n      <td>-0.29167</td>\n      <td>2.625</td>\n      <td>3.42555</td>\n    </tr>\n    <tr>\n      <th>...</th>\n      <td>...</td>\n      <td>...</td>\n      <td>...</td>\n      <td>...</td>\n      <td>...</td>\n      <td>...</td>\n      <td>...</td>\n      <td>...</td>\n      <td>...</td>\n      <td>...</td>\n      <td>...</td>\n    </tr>\n    <tr>\n      <th>19196</th>\n      <td>POOL.OQ</td>\n      <td>2021-10-01</td>\n      <td>Retailing</td>\n      <td>17.194</td>\n      <td>17.194</td>\n      <td>2.836295</td>\n      <td>8.0</td>\n      <td>2.30000</td>\n      <td>0.00000</td>\n      <td>2.300</td>\n      <td>50.48823</td>\n    </tr>\n    <tr>\n      <th>19197</th>\n      <td>POOL.OQ</td>\n      <td>2022-01-01</td>\n      <td>Retailing</td>\n      <td>40.267</td>\n      <td>40.267</td>\n      <td>3.269867</td>\n      <td>8.0</td>\n      <td>2.30000</td>\n      <td>0.00000</td>\n      <td>2.300</td>\n      <td>41.33833</td>\n    </tr>\n    <tr>\n      <th>19198</th>\n      <td>POOL.OQ</td>\n      <td>2022-04-01</td>\n      <td>Retailing</td>\n      <td>34.342</td>\n      <td>34.342</td>\n      <td>6.630736</td>\n      <td>9.0</td>\n      <td>2.00000</td>\n      <td>-0.30000</td>\n      <td>2.300</td>\n      <td>37.49206</td>\n    </tr>\n    <tr>\n      <th>19199</th>\n      <td>POOL.OQ</td>\n      <td>2022-07-01</td>\n      <td>Retailing</td>\n      <td>1.503</td>\n      <td>1.503</td>\n      <td>3.625249</td>\n      <td>9.0</td>\n      <td>2.20000</td>\n      <td>0.20000</td>\n      <td>2.000</td>\n      <td>57.57373</td>\n    </tr>\n    <tr>\n      <th>19200</th>\n      <td>POOL.OQ</td>\n      <td>2022-10-01</td>\n      <td>Retailing</td>\n      <td>4.196</td>\n      <td>4.196</td>\n      <td>3.843706</td>\n      <td>10.0</td>\n      <td>2.27273</td>\n      <td>0.07273</td>\n      <td>2.200</td>\n      <td>24.95082</td>\n    </tr>\n  </tbody>\n</table>\n<p>19201 rows × 11 columns</p>\n</div>"
     },
     "execution_count": 2,
     "metadata": {},
     "output_type": "execute_result"
    }
   ],
   "source": [
    "df = pd.read_csv(\"Dataframes/analysts_regression.csv\")\n",
    "df[\"Date\"] = pd.to_datetime(df[\"Date\"])\n",
    "df"
   ]
  },
  {
   "attachments": {},
   "cell_type": "markdown",
   "metadata": {},
   "source": [
    "Standardising"
   ]
  },
  {
   "cell_type": "code",
   "execution_count": 3,
   "metadata": {},
   "outputs": [
    {
     "data": {
      "text/plain": "      Instrument       Date GICS Industry Group Name  \\\n0          AVY.N 2013-01-01                Materials   \n1          AVY.N 2013-04-01                Materials   \n2          AVY.N 2013-07-01                Materials   \n3          AVY.N 2013-10-01                Materials   \n4          AVY.N 2014-01-01                Materials   \n...          ...        ...                      ...   \n19196    POOL.OQ 2021-10-01                Retailing   \n19197    POOL.OQ 2022-01-01                Retailing   \n19198    POOL.OQ 2022-04-01                Retailing   \n19199    POOL.OQ 2022-07-01                Retailing   \n19200    POOL.OQ 2022-10-01                Retailing   \n\n       Earnings Per Share - Actual Surprise  \\\n0                                    11.178   \n1                                     2.482   \n2                                     1.068   \n3                                     8.095   \n4                                     1.471   \n...                                     ...   \n19196                                17.194   \n19197                                40.267   \n19198                                34.342   \n19199                                 1.503   \n19200                                 4.196   \n\n       Earnings Per Share - Actual Surprise AbsVals  \\\n0                                            11.178   \n1                                             2.482   \n2                                             1.068   \n3                                             8.095   \n4                                             1.471   \n...                                             ...   \n19196                                        17.194   \n19197                                        40.267   \n19198                                        34.342   \n19199                                         1.503   \n19200                                         4.196   \n\n       Earnings Per Share – Coefficient of Variation  Number of Analysts  \\\n0                                           0.385569            0.125000   \n1                                           0.384977            0.125000   \n2                                           0.384792            0.145833   \n3                                           0.385251            0.125000   \n4                                           0.385411            0.145833   \n...                                              ...                 ...   \n19196                                       0.385273            0.145833   \n19197                                       0.385436            0.145833   \n19198                                       0.386695            0.166667   \n19199                                       0.385569            0.166667   \n19200                                       0.385651            0.187500   \n\n       Recommendation - Mean (1-5)  Recommendation change  \\\n0                         0.742857               0.538462   \n1                         0.696428               0.480770   \n2                         0.696428               0.538462   \n3                         0.603571               0.423078   \n4                         0.495236               0.403846   \n...                            ...                    ...   \n19196                     0.482857               0.538462   \n19197                     0.482857               0.538462   \n19198                     0.371428               0.400001   \n19199                     0.445714               0.630770   \n19200                     0.472728               0.572030   \n\n       Recommendation - Mean (1-5).1  Price Target - Standard Deviation  \n0                           0.666667                           0.002079  \n1                           0.666667                           0.003330  \n2                           0.625000                           0.003658  \n3                           0.625000                           0.002930  \n4                           0.541667                           0.002908  \n...                              ...                                ...  \n19196                       0.433333                           0.042855  \n19197                       0.433333                           0.035088  \n19198                       0.433333                           0.031824  \n19199                       0.333333                           0.048869  \n19200                       0.400000                           0.021178  \n\n[19201 rows x 11 columns]",
      "text/html": "<div>\n<style scoped>\n    .dataframe tbody tr th:only-of-type {\n        vertical-align: middle;\n    }\n\n    .dataframe tbody tr th {\n        vertical-align: top;\n    }\n\n    .dataframe thead th {\n        text-align: right;\n    }\n</style>\n<table border=\"1\" class=\"dataframe\">\n  <thead>\n    <tr style=\"text-align: right;\">\n      <th></th>\n      <th>Instrument</th>\n      <th>Date</th>\n      <th>GICS Industry Group Name</th>\n      <th>Earnings Per Share - Actual Surprise</th>\n      <th>Earnings Per Share - Actual Surprise AbsVals</th>\n      <th>Earnings Per Share – Coefficient of Variation</th>\n      <th>Number of Analysts</th>\n      <th>Recommendation - Mean (1-5)</th>\n      <th>Recommendation change</th>\n      <th>Recommendation - Mean (1-5).1</th>\n      <th>Price Target - Standard Deviation</th>\n    </tr>\n  </thead>\n  <tbody>\n    <tr>\n      <th>0</th>\n      <td>AVY.N</td>\n      <td>2013-01-01</td>\n      <td>Materials</td>\n      <td>11.178</td>\n      <td>11.178</td>\n      <td>0.385569</td>\n      <td>0.125000</td>\n      <td>0.742857</td>\n      <td>0.538462</td>\n      <td>0.666667</td>\n      <td>0.002079</td>\n    </tr>\n    <tr>\n      <th>1</th>\n      <td>AVY.N</td>\n      <td>2013-04-01</td>\n      <td>Materials</td>\n      <td>2.482</td>\n      <td>2.482</td>\n      <td>0.384977</td>\n      <td>0.125000</td>\n      <td>0.696428</td>\n      <td>0.480770</td>\n      <td>0.666667</td>\n      <td>0.003330</td>\n    </tr>\n    <tr>\n      <th>2</th>\n      <td>AVY.N</td>\n      <td>2013-07-01</td>\n      <td>Materials</td>\n      <td>1.068</td>\n      <td>1.068</td>\n      <td>0.384792</td>\n      <td>0.145833</td>\n      <td>0.696428</td>\n      <td>0.538462</td>\n      <td>0.625000</td>\n      <td>0.003658</td>\n    </tr>\n    <tr>\n      <th>3</th>\n      <td>AVY.N</td>\n      <td>2013-10-01</td>\n      <td>Materials</td>\n      <td>8.095</td>\n      <td>8.095</td>\n      <td>0.385251</td>\n      <td>0.125000</td>\n      <td>0.603571</td>\n      <td>0.423078</td>\n      <td>0.625000</td>\n      <td>0.002930</td>\n    </tr>\n    <tr>\n      <th>4</th>\n      <td>AVY.N</td>\n      <td>2014-01-01</td>\n      <td>Materials</td>\n      <td>1.471</td>\n      <td>1.471</td>\n      <td>0.385411</td>\n      <td>0.145833</td>\n      <td>0.495236</td>\n      <td>0.403846</td>\n      <td>0.541667</td>\n      <td>0.002908</td>\n    </tr>\n    <tr>\n      <th>...</th>\n      <td>...</td>\n      <td>...</td>\n      <td>...</td>\n      <td>...</td>\n      <td>...</td>\n      <td>...</td>\n      <td>...</td>\n      <td>...</td>\n      <td>...</td>\n      <td>...</td>\n      <td>...</td>\n    </tr>\n    <tr>\n      <th>19196</th>\n      <td>POOL.OQ</td>\n      <td>2021-10-01</td>\n      <td>Retailing</td>\n      <td>17.194</td>\n      <td>17.194</td>\n      <td>0.385273</td>\n      <td>0.145833</td>\n      <td>0.482857</td>\n      <td>0.538462</td>\n      <td>0.433333</td>\n      <td>0.042855</td>\n    </tr>\n    <tr>\n      <th>19197</th>\n      <td>POOL.OQ</td>\n      <td>2022-01-01</td>\n      <td>Retailing</td>\n      <td>40.267</td>\n      <td>40.267</td>\n      <td>0.385436</td>\n      <td>0.145833</td>\n      <td>0.482857</td>\n      <td>0.538462</td>\n      <td>0.433333</td>\n      <td>0.035088</td>\n    </tr>\n    <tr>\n      <th>19198</th>\n      <td>POOL.OQ</td>\n      <td>2022-04-01</td>\n      <td>Retailing</td>\n      <td>34.342</td>\n      <td>34.342</td>\n      <td>0.386695</td>\n      <td>0.166667</td>\n      <td>0.371428</td>\n      <td>0.400001</td>\n      <td>0.433333</td>\n      <td>0.031824</td>\n    </tr>\n    <tr>\n      <th>19199</th>\n      <td>POOL.OQ</td>\n      <td>2022-07-01</td>\n      <td>Retailing</td>\n      <td>1.503</td>\n      <td>1.503</td>\n      <td>0.385569</td>\n      <td>0.166667</td>\n      <td>0.445714</td>\n      <td>0.630770</td>\n      <td>0.333333</td>\n      <td>0.048869</td>\n    </tr>\n    <tr>\n      <th>19200</th>\n      <td>POOL.OQ</td>\n      <td>2022-10-01</td>\n      <td>Retailing</td>\n      <td>4.196</td>\n      <td>4.196</td>\n      <td>0.385651</td>\n      <td>0.187500</td>\n      <td>0.472728</td>\n      <td>0.572030</td>\n      <td>0.400000</td>\n      <td>0.021178</td>\n    </tr>\n  </tbody>\n</table>\n<p>19201 rows × 11 columns</p>\n</div>"
     },
     "execution_count": 3,
     "metadata": {},
     "output_type": "execute_result"
    }
   ],
   "source": [
    "rescale = df.copy()\n",
    "#rescale[\"Earnings Per Share - Actual Surprise\"] = MinMaxScaler().fit_transform(np.array(rescale[\"Earnings Per Share - Actual Surprise\"]).reshape(-1,1))\n",
    "rescale[\"Earnings Per Share – Coefficient of Variation\"] = MinMaxScaler().fit_transform(np.array(rescale[\"Earnings Per Share – Coefficient of Variation\"]).reshape(-1,1))\n",
    "rescale[\"Number of Analysts\"] = MinMaxScaler().fit_transform(np.array(rescale[\"Number of Analysts\"]).reshape(-1,1))\n",
    "rescale[\"Recommendation - Mean (1-5)\"] = MinMaxScaler().fit_transform(np.array(rescale[\"Recommendation - Mean (1-5)\"]).reshape(-1,1))\n",
    "rescale[\"Recommendation change\"] = MinMaxScaler().fit_transform(np.array(rescale[\"Recommendation change\"]).reshape(-1,1))\n",
    "rescale[\"Recommendation - Mean (1-5).1\"] = MinMaxScaler().fit_transform(np.array(rescale[\"Recommendation - Mean (1-5).1\"]).reshape(-1,1))\n",
    "rescale[\"Price Target - Standard Deviation\"] = MinMaxScaler().fit_transform(np.array(rescale[\"Price Target - Standard Deviation\"]).reshape(-1,1))\n",
    "df_clean = rescale\n",
    "df_clean"
   ]
  },
  {
   "cell_type": "code",
   "execution_count": 4,
   "outputs": [
    {
     "data": {
      "text/plain": "      Instrument       Date GICS Industry Group Name  \\\n0          AVY.N 2013-01-01                Materials   \n1          AVY.N 2013-04-01                Materials   \n2          AVY.N 2013-07-01                Materials   \n3          AVY.N 2013-10-01                Materials   \n4          AVY.N 2014-01-01                Materials   \n...          ...        ...                      ...   \n19196    POOL.OQ 2021-10-01                Retailing   \n19197    POOL.OQ 2022-01-01                Retailing   \n19198    POOL.OQ 2022-04-01                Retailing   \n19199    POOL.OQ 2022-07-01                Retailing   \n19200    POOL.OQ 2022-10-01                Retailing   \n\n       Earnings Per Share - Actual Surprise  \\\n0                                    11.178   \n1                                     2.482   \n2                                     1.068   \n3                                     8.095   \n4                                     1.471   \n...                                     ...   \n19196                                17.194   \n19197                                40.267   \n19198                                34.342   \n19199                                 1.503   \n19200                                 4.196   \n\n       Earnings Per Share - Actual Surprise AbsVals  \\\n0                                            11.178   \n1                                             2.482   \n2                                             1.068   \n3                                             8.095   \n4                                             1.471   \n...                                             ...   \n19196                                        17.194   \n19197                                        40.267   \n19198                                        34.342   \n19199                                         1.503   \n19200                                         4.196   \n\n       Earnings Per Share – Coefficient of Variation  Number of Analysts  \\\n0                                           0.385569            0.125000   \n1                                           0.384977            0.125000   \n2                                           0.384792            0.145833   \n3                                           0.385251            0.125000   \n4                                           0.385411            0.145833   \n...                                              ...                 ...   \n19196                                       0.385273            0.145833   \n19197                                       0.385436            0.145833   \n19198                                       0.386695            0.166667   \n19199                                       0.385569            0.166667   \n19200                                       0.385651            0.187500   \n\n       Recommendation change  Price Target - Standard Deviation  \n0                   0.538462                           0.002079  \n1                   0.480770                           0.003330  \n2                   0.538462                           0.003658  \n3                   0.423078                           0.002930  \n4                   0.403846                           0.002908  \n...                      ...                                ...  \n19196               0.538462                           0.042855  \n19197               0.538462                           0.035088  \n19198               0.400001                           0.031824  \n19199               0.630770                           0.048869  \n19200               0.572030                           0.021178  \n\n[19201 rows x 9 columns]",
      "text/html": "<div>\n<style scoped>\n    .dataframe tbody tr th:only-of-type {\n        vertical-align: middle;\n    }\n\n    .dataframe tbody tr th {\n        vertical-align: top;\n    }\n\n    .dataframe thead th {\n        text-align: right;\n    }\n</style>\n<table border=\"1\" class=\"dataframe\">\n  <thead>\n    <tr style=\"text-align: right;\">\n      <th></th>\n      <th>Instrument</th>\n      <th>Date</th>\n      <th>GICS Industry Group Name</th>\n      <th>Earnings Per Share - Actual Surprise</th>\n      <th>Earnings Per Share - Actual Surprise AbsVals</th>\n      <th>Earnings Per Share – Coefficient of Variation</th>\n      <th>Number of Analysts</th>\n      <th>Recommendation change</th>\n      <th>Price Target - Standard Deviation</th>\n    </tr>\n  </thead>\n  <tbody>\n    <tr>\n      <th>0</th>\n      <td>AVY.N</td>\n      <td>2013-01-01</td>\n      <td>Materials</td>\n      <td>11.178</td>\n      <td>11.178</td>\n      <td>0.385569</td>\n      <td>0.125000</td>\n      <td>0.538462</td>\n      <td>0.002079</td>\n    </tr>\n    <tr>\n      <th>1</th>\n      <td>AVY.N</td>\n      <td>2013-04-01</td>\n      <td>Materials</td>\n      <td>2.482</td>\n      <td>2.482</td>\n      <td>0.384977</td>\n      <td>0.125000</td>\n      <td>0.480770</td>\n      <td>0.003330</td>\n    </tr>\n    <tr>\n      <th>2</th>\n      <td>AVY.N</td>\n      <td>2013-07-01</td>\n      <td>Materials</td>\n      <td>1.068</td>\n      <td>1.068</td>\n      <td>0.384792</td>\n      <td>0.145833</td>\n      <td>0.538462</td>\n      <td>0.003658</td>\n    </tr>\n    <tr>\n      <th>3</th>\n      <td>AVY.N</td>\n      <td>2013-10-01</td>\n      <td>Materials</td>\n      <td>8.095</td>\n      <td>8.095</td>\n      <td>0.385251</td>\n      <td>0.125000</td>\n      <td>0.423078</td>\n      <td>0.002930</td>\n    </tr>\n    <tr>\n      <th>4</th>\n      <td>AVY.N</td>\n      <td>2014-01-01</td>\n      <td>Materials</td>\n      <td>1.471</td>\n      <td>1.471</td>\n      <td>0.385411</td>\n      <td>0.145833</td>\n      <td>0.403846</td>\n      <td>0.002908</td>\n    </tr>\n    <tr>\n      <th>...</th>\n      <td>...</td>\n      <td>...</td>\n      <td>...</td>\n      <td>...</td>\n      <td>...</td>\n      <td>...</td>\n      <td>...</td>\n      <td>...</td>\n      <td>...</td>\n    </tr>\n    <tr>\n      <th>19196</th>\n      <td>POOL.OQ</td>\n      <td>2021-10-01</td>\n      <td>Retailing</td>\n      <td>17.194</td>\n      <td>17.194</td>\n      <td>0.385273</td>\n      <td>0.145833</td>\n      <td>0.538462</td>\n      <td>0.042855</td>\n    </tr>\n    <tr>\n      <th>19197</th>\n      <td>POOL.OQ</td>\n      <td>2022-01-01</td>\n      <td>Retailing</td>\n      <td>40.267</td>\n      <td>40.267</td>\n      <td>0.385436</td>\n      <td>0.145833</td>\n      <td>0.538462</td>\n      <td>0.035088</td>\n    </tr>\n    <tr>\n      <th>19198</th>\n      <td>POOL.OQ</td>\n      <td>2022-04-01</td>\n      <td>Retailing</td>\n      <td>34.342</td>\n      <td>34.342</td>\n      <td>0.386695</td>\n      <td>0.166667</td>\n      <td>0.400001</td>\n      <td>0.031824</td>\n    </tr>\n    <tr>\n      <th>19199</th>\n      <td>POOL.OQ</td>\n      <td>2022-07-01</td>\n      <td>Retailing</td>\n      <td>1.503</td>\n      <td>1.503</td>\n      <td>0.385569</td>\n      <td>0.166667</td>\n      <td>0.630770</td>\n      <td>0.048869</td>\n    </tr>\n    <tr>\n      <th>19200</th>\n      <td>POOL.OQ</td>\n      <td>2022-10-01</td>\n      <td>Retailing</td>\n      <td>4.196</td>\n      <td>4.196</td>\n      <td>0.385651</td>\n      <td>0.187500</td>\n      <td>0.572030</td>\n      <td>0.021178</td>\n    </tr>\n  </tbody>\n</table>\n<p>19201 rows × 9 columns</p>\n</div>"
     },
     "execution_count": 4,
     "metadata": {},
     "output_type": "execute_result"
    }
   ],
   "source": [
    "#df_clean = df_clean.drop([\"Recommendation - Mean (1-5)\",\"Recommendation - Mean (1-5).1\"], axis=1)\n",
    "#df_clean"
   ],
   "metadata": {
    "collapsed": false
   }
  },
  {
   "cell_type": "code",
   "execution_count": 5,
   "outputs": [],
   "source": [
    "df_panel = df_clean.copy()"
   ],
   "metadata": {
    "collapsed": false
   }
  },
  {
   "attachments": {},
   "cell_type": "markdown",
   "metadata": {},
   "source": [
    "#### Fixed Effects"
   ]
  },
  {
   "attachments": {},
   "cell_type": "markdown",
   "metadata": {},
   "source": [
    "In a fixed effects panel regression, the individual-specific effects are modeled as fixed variables that do not vary across time. This means that the coefficients of the independent variables are estimated based on the within-entity variation in the data, which eliminates the effect of time-invariant unobserved heterogeneity.\n",
    "\n",
    "Fixed effects models are useful when there are time-invariant unobserved variables that may affect the dependent variable, but are not included in the model. By modeling the individual-specific effects as fixed variables, fixed effects models can control for this unobserved heterogeneity and estimate the coefficients of the independent variables based on the within-entity variation, which provides more efficient estimates of the coefficients.\n",
    "\n",
    "One limitation of fixed effects models is that they do not allow for testing the effect of time-invariant variables on the dependent variable. In addition, fixed effects models may suffer from the incidental parameter problem, which may lead to biased estimates of the coefficients of the independent variables in the presence of a large number of fixed effects."
   ]
  },
  {
   "cell_type": "code",
   "execution_count": 6,
   "metadata": {},
   "outputs": [],
   "source": [
    "#reformatting indices of dataframe for panel regression\n",
    "df_clean['Instrument'] = df_clean['Instrument'].astype('category')\n",
    "df_clean['Date'] = pd.to_datetime(df_clean['Date'])\n",
    "\n",
    "# set the index to be the time variable and the cross-sectional variable\n",
    "df_clean.set_index(['Instrument', 'Date'], inplace=True)\n",
    "#df_clean"
   ]
  },
  {
   "attachments": {},
   "cell_type": "markdown",
   "metadata": {},
   "source": [
    "FE Panel Regression with **Absolute** Surprise Values"
   ]
  },
  {
   "cell_type": "code",
   "execution_count": 8,
   "metadata": {},
   "outputs": [
    {
     "name": "stderr",
     "output_type": "stream",
     "text": [
      "/opt/anaconda3/envs/AnalystForecast/lib/python3.11/site-packages/linearmodels/panel/model.py:1183: MissingValueWarning: \n",
      "Inputs contain missing values. Dropping rows with missing observations.\n",
      "  super().__init__(dependent, exog, weights=weights, check_rank=check_rank)\n"
     ]
    },
    {
     "data": {
      "text/plain": "<class 'linearmodels.compat.statsmodels.Summary'>\n\"\"\"\n                                       PanelOLS Estimation Summary                                        \n==========================================================================================================\nDep. Variable:     Earnings Per Share - Actual Surprise AbsVals   R-squared:                        0.0014\nEstimator:                                             PanelOLS   R-squared (Between):              0.2389\nNo. Observations:                                         18208   R-squared (Within):               0.0016\nDate:                                          Tue, Mar 07 2023   R-squared (Overall):              0.0944\nTime:                                                  00:04:23   Log-likelihood                -8.859e+04\nCov. Estimator:                                      Unadjusted                                           \n                                                                  F-statistic:                      6.1727\nEntities:                                                   502   P-value                           0.0001\nAvg Obs:                                                 36.271   Distribution:                 F(4,17664)\nMin Obs:                                                 0.0000                                           \nMax Obs:                                                 40.000   F-statistic (robust):             6.1727\n                                                                  P-value                           0.0001\nTime periods:                                                40   Distribution:                 F(4,17664)\nAvg Obs:                                                 455.20                                           \nMin Obs:                                                 444.00                                           \nMax Obs:                                                 461.00                                           \n                                                                                                          \n                                               Parameter Estimates                                               \n=================================================================================================================\n                                               Parameter  Std. Err.     T-stat    P-value    Lower CI    Upper CI\n-----------------------------------------------------------------------------------------------------------------\nEarnings Per Share – Coefficient of Variation     38.342     20.013     1.9159     0.0554     -0.8855      77.570\nNumber of Analysts                               -16.228     4.5421    -3.5729     0.0004     -25.131     -7.3254\nRecommendation change                            -6.8439     4.1289    -1.6575     0.0974     -14.937      1.2492\nPrice Target - Standard Deviation                -34.468     17.705    -1.9469     0.0516     -69.171      0.2345\n=================================================================================================================\n\nF-test for Poolability: 11.023\nP-value: 0.0000\nDistribution: F(539,17664)\n\nIncluded effects: Entity, Time\n\"\"\"",
      "text/html": "<table class=\"simpletable\">\n<caption>PanelOLS Estimation Summary</caption>\n<tr>\n  <th>Dep. Variable:</th>    <td>Earnings Per Share - Actual Surprise AbsVals</td> <th>  R-squared:         </th>     <td>0.0014</td>  \n</tr>\n<tr>\n  <th>Estimator:</th>                          <td>PanelOLS</td>                   <th>  R-squared (Between):</th>    <td>0.2389</td>  \n</tr>\n<tr>\n  <th>No. Observations:</th>                     <td>18208</td>                    <th>  R-squared (Within):</th>     <td>0.0016</td>  \n</tr>\n<tr>\n  <th>Date:</th>                           <td>Tue, Mar 07 2023</td>               <th>  R-squared (Overall):</th>    <td>0.0944</td>  \n</tr>\n<tr>\n  <th>Time:</th>                               <td>00:04:23</td>                   <th>  Log-likelihood     </th>   <td>-8.859e+04</td>\n</tr>\n<tr>\n  <th>Cov. Estimator:</th>                    <td>Unadjusted</td>                  <th>                     </th>        <td></td>     \n</tr>\n<tr>\n  <th></th>                                        <td></td>                       <th>  F-statistic:       </th>     <td>6.1727</td>  \n</tr>\n<tr>\n  <th>Entities:</th>                              <td>502</td>                     <th>  P-value            </th>     <td>0.0001</td>  \n</tr>\n<tr>\n  <th>Avg Obs:</th>                             <td>36.271</td>                    <th>  Distribution:      </th>   <td>F(4,17664)</td>\n</tr>\n<tr>\n  <th>Min Obs:</th>                             <td>0.0000</td>                    <th>                     </th>        <td></td>     \n</tr>\n<tr>\n  <th>Max Obs:</th>                             <td>40.000</td>                    <th>  F-statistic (robust):</th>   <td>6.1727</td>  \n</tr>\n<tr>\n  <th></th>                                        <td></td>                       <th>  P-value            </th>     <td>0.0001</td>  \n</tr>\n<tr>\n  <th>Time periods:</th>                          <td>40</td>                      <th>  Distribution:      </th>   <td>F(4,17664)</td>\n</tr>\n<tr>\n  <th>Avg Obs:</th>                             <td>455.20</td>                    <th>                     </th>        <td></td>     \n</tr>\n<tr>\n  <th>Min Obs:</th>                             <td>444.00</td>                    <th>                     </th>        <td></td>     \n</tr>\n<tr>\n  <th>Max Obs:</th>                             <td>461.00</td>                    <th>                     </th>        <td></td>     \n</tr>\n<tr>\n  <th></th>                                        <td></td>                       <th>                     </th>        <td></td>     \n</tr>\n</table>\n<table class=\"simpletable\">\n<caption>Parameter Estimates</caption>\n<tr>\n                        <td></td>                        <th>Parameter</th> <th>Std. Err.</th> <th>T-stat</th>  <th>P-value</th> <th>Lower CI</th> <th>Upper CI</th>\n</tr>\n<tr>\n  <th>Earnings Per Share – Coefficient of Variation</th>  <td>38.342</td>    <td>20.013</td>   <td>1.9159</td>  <td>0.0554</td>   <td>-0.8855</td>  <td>77.570</td> \n</tr>\n<tr>\n  <th>Number of Analysts</th>                             <td>-16.228</td>   <td>4.5421</td>   <td>-3.5729</td> <td>0.0004</td>   <td>-25.131</td>  <td>-7.3254</td>\n</tr>\n<tr>\n  <th>Recommendation change</th>                          <td>-6.8439</td>   <td>4.1289</td>   <td>-1.6575</td> <td>0.0974</td>   <td>-14.937</td>  <td>1.2492</td> \n</tr>\n<tr>\n  <th>Price Target - Standard Deviation</th>              <td>-34.468</td>   <td>17.705</td>   <td>-1.9469</td> <td>0.0516</td>   <td>-69.171</td>  <td>0.2345</td> \n</tr>\n</table><br/><br/>F-test for Poolability: 11.023<br/>P-value: 0.0000<br/>Distribution: F(539,17664)<br/><br/>Included effects: Entity, Time"
     },
     "execution_count": 8,
     "metadata": {},
     "output_type": "execute_result"
    }
   ],
   "source": [
    "y = df_clean.loc[:, \"Earnings Per Share - Actual Surprise AbsVals\"]\n",
    "X = df_clean.loc[:, \"Earnings Per Share – Coefficient of Variation\":]\n",
    "\n",
    "# perform the fixed effects panel regression\n",
    "fixed_effects_model = PanelOLS(y, X, entity_effects=True, time_effects=True)\n",
    "\n",
    "# fit the model and print the summary statistics\n",
    "fixed_effects_results = fixed_effects_model.fit()\n",
    "fixed_effects_results.summary"
   ]
  },
  {
   "attachments": {},
   "cell_type": "markdown",
   "metadata": {},
   "source": [
    "By Industry: example tech industry"
   ]
  },
  {
   "cell_type": "code",
   "execution_count": 9,
   "metadata": {},
   "outputs": [
    {
     "name": "stderr",
     "output_type": "stream",
     "text": [
      "/var/folders/g8/1tyvls5x41bd_dx0zhcy5ggc0000gn/T/ipykernel_5038/1151135892.py:3: SettingWithCopyWarning: \n",
      "A value is trying to be set on a copy of a slice from a DataFrame.\n",
      "Try using .loc[row_indexer,col_indexer] = value instead\n",
      "\n",
      "See the caveats in the documentation: https://pandas.pydata.org/pandas-docs/stable/user_guide/indexing.html#returning-a-view-versus-a-copy\n",
      "  group['Instrument'] = group['Instrument'].astype('category')\n",
      "/var/folders/g8/1tyvls5x41bd_dx0zhcy5ggc0000gn/T/ipykernel_5038/1151135892.py:4: SettingWithCopyWarning: \n",
      "A value is trying to be set on a copy of a slice from a DataFrame.\n",
      "Try using .loc[row_indexer,col_indexer] = value instead\n",
      "\n",
      "See the caveats in the documentation: https://pandas.pydata.org/pandas-docs/stable/user_guide/indexing.html#returning-a-view-versus-a-copy\n",
      "  group['Date'] = pd.to_datetime(group['Date'])\n",
      "/opt/anaconda3/envs/AnalystForecast/lib/python3.11/site-packages/linearmodels/panel/model.py:1183: MissingValueWarning: \n",
      "Inputs contain missing values. Dropping rows with missing observations.\n",
      "  super().__init__(dependent, exog, weights=weights, check_rank=check_rank)\n"
     ]
    },
    {
     "data": {
      "text/plain": "                                       PanelOLS Estimation Summary                                        \n==========================================================================================================\nDep. Variable:     Earnings Per Share - Actual Surprise AbsVals   R-squared:                        0.1941\nEstimator:                                             PanelOLS   R-squared (Between):          -2.125e+04\nNo. Observations:                                           603   R-squared (Within):               0.2097\nDate:                                          Tue, Mar 07 2023   R-squared (Overall):          -1.051e+04\nTime:                                                  00:04:24   Log-likelihood                   -2132.2\nCov. Estimator:                                      Unadjusted                                           \n                                                                  F-statistic:                      32.567\nEntities:                                                    19   P-value                           0.0000\nAvg Obs:                                                 31.737   Distribution:                   F(4,541)\nMin Obs:                                                 1.0000                                           \nMax Obs:                                                 40.000   F-statistic (robust):             32.567\n                                                                  P-value                           0.0000\nTime periods:                                                40   Distribution:                   F(4,541)\nAvg Obs:                                                 15.075                                           \nMin Obs:                                                 15.000                                           \nMax Obs:                                                 17.000                                           \n                                                                                                          \n                                               Parameter Estimates                                               \n=================================================================================================================\n                                               Parameter  Std. Err.     T-stat    P-value    Lower CI    Upper CI\n-----------------------------------------------------------------------------------------------------------------\nEarnings Per Share – Coefficient of Variation     3721.0     327.75     11.353     0.0000      3077.2      4364.8\nNumber of Analysts                                4.3042     4.9202     0.8748     0.3821     -5.3608      13.969\nRecommendation change                            -3.8471     6.4659    -0.5950     0.5521     -16.548      8.8542\nPrice Target - Standard Deviation                 9.9472     67.685     0.1470     0.8832     -123.01      142.90\n=================================================================================================================\n\nF-test for Poolability: 2.3965\nP-value: 0.0000\nDistribution: F(57,541)\n\nIncluded effects: Entity, Time\nPanelEffectsResults, id: 0x16c7716d0",
      "text/html": "<table class=\"simpletable\">\n<caption>PanelOLS Estimation Summary</caption>\n<tr>\n  <th>Dep. Variable:</th>    <td>Earnings Per Share - Actual Surprise AbsVals</td> <th>  R-squared:         </th>     <td>0.1941</td>  \n</tr>\n<tr>\n  <th>Estimator:</th>                          <td>PanelOLS</td>                   <th>  R-squared (Between):</th>  <td>-2.125e+04</td>\n</tr>\n<tr>\n  <th>No. Observations:</th>                      <td>603</td>                     <th>  R-squared (Within):</th>     <td>0.2097</td>  \n</tr>\n<tr>\n  <th>Date:</th>                           <td>Tue, Mar 07 2023</td>               <th>  R-squared (Overall):</th>  <td>-1.051e+04</td>\n</tr>\n<tr>\n  <th>Time:</th>                               <td>00:04:24</td>                   <th>  Log-likelihood     </th>     <td>-2132.2</td> \n</tr>\n<tr>\n  <th>Cov. Estimator:</th>                    <td>Unadjusted</td>                  <th>                     </th>        <td></td>     \n</tr>\n<tr>\n  <th></th>                                        <td></td>                       <th>  F-statistic:       </th>     <td>32.567</td>  \n</tr>\n<tr>\n  <th>Entities:</th>                              <td>19</td>                      <th>  P-value            </th>     <td>0.0000</td>  \n</tr>\n<tr>\n  <th>Avg Obs:</th>                             <td>31.737</td>                    <th>  Distribution:      </th>    <td>F(4,541)</td> \n</tr>\n<tr>\n  <th>Min Obs:</th>                             <td>1.0000</td>                    <th>                     </th>        <td></td>     \n</tr>\n<tr>\n  <th>Max Obs:</th>                             <td>40.000</td>                    <th>  F-statistic (robust):</th>   <td>32.567</td>  \n</tr>\n<tr>\n  <th></th>                                        <td></td>                       <th>  P-value            </th>     <td>0.0000</td>  \n</tr>\n<tr>\n  <th>Time periods:</th>                          <td>40</td>                      <th>  Distribution:      </th>    <td>F(4,541)</td> \n</tr>\n<tr>\n  <th>Avg Obs:</th>                             <td>15.075</td>                    <th>                     </th>        <td></td>     \n</tr>\n<tr>\n  <th>Min Obs:</th>                             <td>15.000</td>                    <th>                     </th>        <td></td>     \n</tr>\n<tr>\n  <th>Max Obs:</th>                             <td>17.000</td>                    <th>                     </th>        <td></td>     \n</tr>\n<tr>\n  <th></th>                                        <td></td>                       <th>                     </th>        <td></td>     \n</tr>\n</table>\n<table class=\"simpletable\">\n<caption>Parameter Estimates</caption>\n<tr>\n                        <td></td>                        <th>Parameter</th> <th>Std. Err.</th> <th>T-stat</th>  <th>P-value</th> <th>Lower CI</th> <th>Upper CI</th>\n</tr>\n<tr>\n  <th>Earnings Per Share – Coefficient of Variation</th>  <td>3721.0</td>    <td>327.75</td>   <td>11.353</td>  <td>0.0000</td>   <td>3077.2</td>   <td>4364.8</td> \n</tr>\n<tr>\n  <th>Number of Analysts</th>                             <td>4.3042</td>    <td>4.9202</td>   <td>0.8748</td>  <td>0.3821</td>   <td>-5.3608</td>  <td>13.969</td> \n</tr>\n<tr>\n  <th>Recommendation change</th>                          <td>-3.8471</td>   <td>6.4659</td>   <td>-0.5950</td> <td>0.5521</td>   <td>-16.548</td>  <td>8.8542</td> \n</tr>\n<tr>\n  <th>Price Target - Standard Deviation</th>              <td>9.9472</td>    <td>67.685</td>   <td>0.1470</td>  <td>0.8832</td>   <td>-123.01</td>  <td>142.90</td> \n</tr>\n</table><br/><br/>F-test for Poolability: 2.3965<br/>P-value: 0.0000<br/>Distribution: F(57,541)<br/><br/>Included effects: Entity, Time<br/>id: 0x16c7716d0"
     },
     "execution_count": 9,
     "metadata": {},
     "output_type": "execute_result"
    }
   ],
   "source": [
    "group = df_panel[df_panel['GICS Industry Group Name'] == 'Technology Hardware & Equipment']\n",
    "\n",
    "group['Instrument'] = group['Instrument'].astype('category')\n",
    "group['Date'] = pd.to_datetime(group['Date'])\n",
    "group.set_index(['Instrument', 'Date'], inplace=True)\n",
    "\n",
    "y = group.loc[:, \"Earnings Per Share - Actual Surprise AbsVals\"]\n",
    "X = group.loc[:, \"Earnings Per Share – Coefficient of Variation\":]\n",
    "\n",
    "model = PanelOLS(y, X, entity_effects=True, time_effects=True).fit()\n",
    "model"
   ]
  },
  {
   "cell_type": "markdown",
   "source": [
    "# COVID Tests"
   ],
   "metadata": {
    "collapsed": false
   }
  },
  {
   "cell_type": "code",
   "execution_count": 10,
   "outputs": [
    {
     "data": {
      "text/plain": "      Instrument       Date GICS Industry Group Name  \\\n0          AVY.N 2013-01-01                Materials   \n1          AVY.N 2013-04-01                Materials   \n2          AVY.N 2013-07-01                Materials   \n3          AVY.N 2013-10-01                Materials   \n4          AVY.N 2014-01-01                Materials   \n...          ...        ...                      ...   \n19196    POOL.OQ 2021-10-01                Retailing   \n19197    POOL.OQ 2022-01-01                Retailing   \n19198    POOL.OQ 2022-04-01                Retailing   \n19199    POOL.OQ 2022-07-01                Retailing   \n19200    POOL.OQ 2022-10-01                Retailing   \n\n       Earnings Per Share - Actual Surprise  \\\n0                                    11.178   \n1                                     2.482   \n2                                     1.068   \n3                                     8.095   \n4                                     1.471   \n...                                     ...   \n19196                                17.194   \n19197                                40.267   \n19198                                34.342   \n19199                                 1.503   \n19200                                 4.196   \n\n       Earnings Per Share - Actual Surprise AbsVals  \\\n0                                            11.178   \n1                                             2.482   \n2                                             1.068   \n3                                             8.095   \n4                                             1.471   \n...                                             ...   \n19196                                        17.194   \n19197                                        40.267   \n19198                                        34.342   \n19199                                         1.503   \n19200                                         4.196   \n\n       Earnings Per Share – Coefficient of Variation  Number of Analysts  \\\n0                                           0.385569            0.125000   \n1                                           0.384977            0.125000   \n2                                           0.384792            0.145833   \n3                                           0.385251            0.125000   \n4                                           0.385411            0.145833   \n...                                              ...                 ...   \n19196                                       0.385273            0.145833   \n19197                                       0.385436            0.145833   \n19198                                       0.386695            0.166667   \n19199                                       0.385569            0.166667   \n19200                                       0.385651            0.187500   \n\n       Recommendation change  Price Target - Standard Deviation  \n0                   0.538462                           0.002079  \n1                   0.480770                           0.003330  \n2                   0.538462                           0.003658  \n3                   0.423078                           0.002930  \n4                   0.403846                           0.002908  \n...                      ...                                ...  \n19196               0.538462                           0.042855  \n19197               0.538462                           0.035088  \n19198               0.400001                           0.031824  \n19199               0.630770                           0.048869  \n19200               0.572030                           0.021178  \n\n[19201 rows x 9 columns]",
      "text/html": "<div>\n<style scoped>\n    .dataframe tbody tr th:only-of-type {\n        vertical-align: middle;\n    }\n\n    .dataframe tbody tr th {\n        vertical-align: top;\n    }\n\n    .dataframe thead th {\n        text-align: right;\n    }\n</style>\n<table border=\"1\" class=\"dataframe\">\n  <thead>\n    <tr style=\"text-align: right;\">\n      <th></th>\n      <th>Instrument</th>\n      <th>Date</th>\n      <th>GICS Industry Group Name</th>\n      <th>Earnings Per Share - Actual Surprise</th>\n      <th>Earnings Per Share - Actual Surprise AbsVals</th>\n      <th>Earnings Per Share – Coefficient of Variation</th>\n      <th>Number of Analysts</th>\n      <th>Recommendation change</th>\n      <th>Price Target - Standard Deviation</th>\n    </tr>\n  </thead>\n  <tbody>\n    <tr>\n      <th>0</th>\n      <td>AVY.N</td>\n      <td>2013-01-01</td>\n      <td>Materials</td>\n      <td>11.178</td>\n      <td>11.178</td>\n      <td>0.385569</td>\n      <td>0.125000</td>\n      <td>0.538462</td>\n      <td>0.002079</td>\n    </tr>\n    <tr>\n      <th>1</th>\n      <td>AVY.N</td>\n      <td>2013-04-01</td>\n      <td>Materials</td>\n      <td>2.482</td>\n      <td>2.482</td>\n      <td>0.384977</td>\n      <td>0.125000</td>\n      <td>0.480770</td>\n      <td>0.003330</td>\n    </tr>\n    <tr>\n      <th>2</th>\n      <td>AVY.N</td>\n      <td>2013-07-01</td>\n      <td>Materials</td>\n      <td>1.068</td>\n      <td>1.068</td>\n      <td>0.384792</td>\n      <td>0.145833</td>\n      <td>0.538462</td>\n      <td>0.003658</td>\n    </tr>\n    <tr>\n      <th>3</th>\n      <td>AVY.N</td>\n      <td>2013-10-01</td>\n      <td>Materials</td>\n      <td>8.095</td>\n      <td>8.095</td>\n      <td>0.385251</td>\n      <td>0.125000</td>\n      <td>0.423078</td>\n      <td>0.002930</td>\n    </tr>\n    <tr>\n      <th>4</th>\n      <td>AVY.N</td>\n      <td>2014-01-01</td>\n      <td>Materials</td>\n      <td>1.471</td>\n      <td>1.471</td>\n      <td>0.385411</td>\n      <td>0.145833</td>\n      <td>0.403846</td>\n      <td>0.002908</td>\n    </tr>\n    <tr>\n      <th>...</th>\n      <td>...</td>\n      <td>...</td>\n      <td>...</td>\n      <td>...</td>\n      <td>...</td>\n      <td>...</td>\n      <td>...</td>\n      <td>...</td>\n      <td>...</td>\n    </tr>\n    <tr>\n      <th>19196</th>\n      <td>POOL.OQ</td>\n      <td>2021-10-01</td>\n      <td>Retailing</td>\n      <td>17.194</td>\n      <td>17.194</td>\n      <td>0.385273</td>\n      <td>0.145833</td>\n      <td>0.538462</td>\n      <td>0.042855</td>\n    </tr>\n    <tr>\n      <th>19197</th>\n      <td>POOL.OQ</td>\n      <td>2022-01-01</td>\n      <td>Retailing</td>\n      <td>40.267</td>\n      <td>40.267</td>\n      <td>0.385436</td>\n      <td>0.145833</td>\n      <td>0.538462</td>\n      <td>0.035088</td>\n    </tr>\n    <tr>\n      <th>19198</th>\n      <td>POOL.OQ</td>\n      <td>2022-04-01</td>\n      <td>Retailing</td>\n      <td>34.342</td>\n      <td>34.342</td>\n      <td>0.386695</td>\n      <td>0.166667</td>\n      <td>0.400001</td>\n      <td>0.031824</td>\n    </tr>\n    <tr>\n      <th>19199</th>\n      <td>POOL.OQ</td>\n      <td>2022-07-01</td>\n      <td>Retailing</td>\n      <td>1.503</td>\n      <td>1.503</td>\n      <td>0.385569</td>\n      <td>0.166667</td>\n      <td>0.630770</td>\n      <td>0.048869</td>\n    </tr>\n    <tr>\n      <th>19200</th>\n      <td>POOL.OQ</td>\n      <td>2022-10-01</td>\n      <td>Retailing</td>\n      <td>4.196</td>\n      <td>4.196</td>\n      <td>0.385651</td>\n      <td>0.187500</td>\n      <td>0.572030</td>\n      <td>0.021178</td>\n    </tr>\n  </tbody>\n</table>\n<p>19201 rows × 9 columns</p>\n</div>"
     },
     "execution_count": 10,
     "metadata": {},
     "output_type": "execute_result"
    }
   ],
   "source": [
    "df_clean = df_panel.copy()\n",
    "df_clean"
   ],
   "metadata": {
    "collapsed": false
   }
  },
  {
   "cell_type": "code",
   "execution_count": 11,
   "outputs": [],
   "source": [
    "covid_start = pd.to_datetime(\"2020-01-01\")\n",
    "\n",
    "df_covid = df_clean[df_clean[\"Date\"] >= covid_start]\n",
    "\n",
    "df_nocovid = df_clean[df_clean[\"Date\"] < covid_start]"
   ],
   "metadata": {
    "collapsed": false
   }
  },
  {
   "cell_type": "code",
   "execution_count": 12,
   "outputs": [
    {
     "name": "stderr",
     "output_type": "stream",
     "text": [
      "/var/folders/g8/1tyvls5x41bd_dx0zhcy5ggc0000gn/T/ipykernel_5038/1346379244.py:1: SettingWithCopyWarning: \n",
      "A value is trying to be set on a copy of a slice from a DataFrame.\n",
      "Try using .loc[row_indexer,col_indexer] = value instead\n",
      "\n",
      "See the caveats in the documentation: https://pandas.pydata.org/pandas-docs/stable/user_guide/indexing.html#returning-a-view-versus-a-copy\n",
      "  df_covid['Instrument'] = df_covid['Instrument'].astype('category')\n",
      "/var/folders/g8/1tyvls5x41bd_dx0zhcy5ggc0000gn/T/ipykernel_5038/1346379244.py:2: SettingWithCopyWarning: \n",
      "A value is trying to be set on a copy of a slice from a DataFrame.\n",
      "Try using .loc[row_indexer,col_indexer] = value instead\n",
      "\n",
      "See the caveats in the documentation: https://pandas.pydata.org/pandas-docs/stable/user_guide/indexing.html#returning-a-view-versus-a-copy\n",
      "  df_covid['Date'] = pd.to_datetime(df_covid['Date'])\n"
     ]
    }
   ],
   "source": [
    "df_covid['Instrument'] = df_covid['Instrument'].astype('category')\n",
    "df_covid['Date'] = pd.to_datetime(df_covid['Date'])\n",
    "\n",
    "# set the index to be the time variable and the cross-sectional variable\n",
    "df_covid.set_index(['Instrument', 'Date'], inplace=True)"
   ],
   "metadata": {
    "collapsed": false
   }
  },
  {
   "cell_type": "code",
   "execution_count": 13,
   "outputs": [
    {
     "name": "stderr",
     "output_type": "stream",
     "text": [
      "/var/folders/g8/1tyvls5x41bd_dx0zhcy5ggc0000gn/T/ipykernel_5038/876088522.py:1: SettingWithCopyWarning: \n",
      "A value is trying to be set on a copy of a slice from a DataFrame.\n",
      "Try using .loc[row_indexer,col_indexer] = value instead\n",
      "\n",
      "See the caveats in the documentation: https://pandas.pydata.org/pandas-docs/stable/user_guide/indexing.html#returning-a-view-versus-a-copy\n",
      "  df_nocovid['Instrument'] = df_nocovid['Instrument'].astype('category')\n",
      "/var/folders/g8/1tyvls5x41bd_dx0zhcy5ggc0000gn/T/ipykernel_5038/876088522.py:2: SettingWithCopyWarning: \n",
      "A value is trying to be set on a copy of a slice from a DataFrame.\n",
      "Try using .loc[row_indexer,col_indexer] = value instead\n",
      "\n",
      "See the caveats in the documentation: https://pandas.pydata.org/pandas-docs/stable/user_guide/indexing.html#returning-a-view-versus-a-copy\n",
      "  df_nocovid['Date'] = pd.to_datetime(df_nocovid['Date'])\n"
     ]
    }
   ],
   "source": [
    "df_nocovid['Instrument'] = df_nocovid['Instrument'].astype('category')\n",
    "df_nocovid['Date'] = pd.to_datetime(df_nocovid['Date'])\n",
    "\n",
    "# set the index to be the time variable and the cross-sectional variable\n",
    "df_nocovid.set_index(['Instrument', 'Date'], inplace=True)"
   ],
   "metadata": {
    "collapsed": false
   }
  },
  {
   "cell_type": "markdown",
   "source": [
    "## COVID"
   ],
   "metadata": {
    "collapsed": false
   }
  },
  {
   "cell_type": "code",
   "execution_count": 14,
   "outputs": [
    {
     "name": "stderr",
     "output_type": "stream",
     "text": [
      "/opt/anaconda3/envs/AnalystForecast/lib/python3.11/site-packages/linearmodels/panel/model.py:1183: MissingValueWarning: \n",
      "Inputs contain missing values. Dropping rows with missing observations.\n",
      "  super().__init__(dependent, exog, weights=weights, check_rank=check_rank)\n"
     ]
    },
    {
     "data": {
      "text/plain": "<class 'linearmodels.compat.statsmodels.Summary'>\n\"\"\"\n                                       PanelOLS Estimation Summary                                        \n==========================================================================================================\nDep. Variable:     Earnings Per Share - Actual Surprise AbsVals   R-squared:                        0.0012\nEstimator:                                             PanelOLS   R-squared (Between):              0.3733\nNo. Observations:                                          5450   R-squared (Within):               0.0003\nDate:                                          Tue, Mar 07 2023   R-squared (Overall):              0.1809\nTime:                                                  00:04:35   Log-likelihood                -2.704e+04\nCov. Estimator:                                      Unadjusted                                           \n                                                                  F-statistic:                      1.4736\nEntities:                                                   501   P-value                           0.2074\nAvg Obs:                                                 10.878   Distribution:                  F(4,4935)\nMin Obs:                                                 0.0000                                           \nMax Obs:                                                 12.000   F-statistic (robust):             1.4736\n                                                                  P-value                           0.2074\nTime periods:                                                12   Distribution:                  F(4,4935)\nAvg Obs:                                                 454.17                                           \nMin Obs:                                                 444.00                                           \nMax Obs:                                                 461.00                                           \n                                                                                                          \n                                               Parameter Estimates                                               \n=================================================================================================================\n                                               Parameter  Std. Err.     T-stat    P-value    Lower CI    Upper CI\n-----------------------------------------------------------------------------------------------------------------\nEarnings Per Share – Coefficient of Variation     54.949     33.709     1.6301     0.1031     -11.135      121.03\nNumber of Analysts                               -22.808     17.428    -1.3087     0.1907     -56.975      11.359\nRecommendation change                            -1.6580     9.0486    -0.1832     0.8546     -19.397      16.081\nPrice Target - Standard Deviation                 48.137     38.458     1.2517     0.2108     -27.258      123.53\n=================================================================================================================\n\nF-test for Poolability: 5.0749\nP-value: 0.0000\nDistribution: F(510,4935)\n\nIncluded effects: Entity, Time\n\"\"\"",
      "text/html": "<table class=\"simpletable\">\n<caption>PanelOLS Estimation Summary</caption>\n<tr>\n  <th>Dep. Variable:</th>    <td>Earnings Per Share - Actual Surprise AbsVals</td> <th>  R-squared:         </th>     <td>0.0012</td>  \n</tr>\n<tr>\n  <th>Estimator:</th>                          <td>PanelOLS</td>                   <th>  R-squared (Between):</th>    <td>0.3733</td>  \n</tr>\n<tr>\n  <th>No. Observations:</th>                     <td>5450</td>                     <th>  R-squared (Within):</th>     <td>0.0003</td>  \n</tr>\n<tr>\n  <th>Date:</th>                           <td>Tue, Mar 07 2023</td>               <th>  R-squared (Overall):</th>    <td>0.1809</td>  \n</tr>\n<tr>\n  <th>Time:</th>                               <td>00:04:35</td>                   <th>  Log-likelihood     </th>   <td>-2.704e+04</td>\n</tr>\n<tr>\n  <th>Cov. Estimator:</th>                    <td>Unadjusted</td>                  <th>                     </th>        <td></td>     \n</tr>\n<tr>\n  <th></th>                                        <td></td>                       <th>  F-statistic:       </th>     <td>1.4736</td>  \n</tr>\n<tr>\n  <th>Entities:</th>                              <td>501</td>                     <th>  P-value            </th>     <td>0.2074</td>  \n</tr>\n<tr>\n  <th>Avg Obs:</th>                             <td>10.878</td>                    <th>  Distribution:      </th>    <td>F(4,4935)</td>\n</tr>\n<tr>\n  <th>Min Obs:</th>                             <td>0.0000</td>                    <th>                     </th>        <td></td>     \n</tr>\n<tr>\n  <th>Max Obs:</th>                             <td>12.000</td>                    <th>  F-statistic (robust):</th>   <td>1.4736</td>  \n</tr>\n<tr>\n  <th></th>                                        <td></td>                       <th>  P-value            </th>     <td>0.2074</td>  \n</tr>\n<tr>\n  <th>Time periods:</th>                          <td>12</td>                      <th>  Distribution:      </th>    <td>F(4,4935)</td>\n</tr>\n<tr>\n  <th>Avg Obs:</th>                             <td>454.17</td>                    <th>                     </th>        <td></td>     \n</tr>\n<tr>\n  <th>Min Obs:</th>                             <td>444.00</td>                    <th>                     </th>        <td></td>     \n</tr>\n<tr>\n  <th>Max Obs:</th>                             <td>461.00</td>                    <th>                     </th>        <td></td>     \n</tr>\n<tr>\n  <th></th>                                        <td></td>                       <th>                     </th>        <td></td>     \n</tr>\n</table>\n<table class=\"simpletable\">\n<caption>Parameter Estimates</caption>\n<tr>\n                        <td></td>                        <th>Parameter</th> <th>Std. Err.</th> <th>T-stat</th>  <th>P-value</th> <th>Lower CI</th> <th>Upper CI</th>\n</tr>\n<tr>\n  <th>Earnings Per Share – Coefficient of Variation</th>  <td>54.949</td>    <td>33.709</td>   <td>1.6301</td>  <td>0.1031</td>   <td>-11.135</td>  <td>121.03</td> \n</tr>\n<tr>\n  <th>Number of Analysts</th>                             <td>-22.808</td>   <td>17.428</td>   <td>-1.3087</td> <td>0.1907</td>   <td>-56.975</td>  <td>11.359</td> \n</tr>\n<tr>\n  <th>Recommendation change</th>                          <td>-1.6580</td>   <td>9.0486</td>   <td>-0.1832</td> <td>0.8546</td>   <td>-19.397</td>  <td>16.081</td> \n</tr>\n<tr>\n  <th>Price Target - Standard Deviation</th>              <td>48.137</td>    <td>38.458</td>   <td>1.2517</td>  <td>0.2108</td>   <td>-27.258</td>  <td>123.53</td> \n</tr>\n</table><br/><br/>F-test for Poolability: 5.0749<br/>P-value: 0.0000<br/>Distribution: F(510,4935)<br/><br/>Included effects: Entity, Time"
     },
     "execution_count": 14,
     "metadata": {},
     "output_type": "execute_result"
    }
   ],
   "source": [
    "y = df_covid.loc[:, \"Earnings Per Share - Actual Surprise AbsVals\"]\n",
    "X = df_covid.loc[:, \"Earnings Per Share – Coefficient of Variation\":]\n",
    "\n",
    "# perform the fixed effects panel regression\n",
    "fixed_effects_model = PanelOLS(y, X, entity_effects=True, time_effects=True)\n",
    "\n",
    "# fit the model and print the summary statistics\n",
    "fixed_effects_results = fixed_effects_model.fit()\n",
    "fixed_effects_results.summary\n"
   ],
   "metadata": {
    "collapsed": false
   }
  },
  {
   "cell_type": "code",
   "execution_count": 15,
   "outputs": [
    {
     "name": "stderr",
     "output_type": "stream",
     "text": [
      "/opt/anaconda3/envs/AnalystForecast/lib/python3.11/site-packages/linearmodels/panel/model.py:1183: MissingValueWarning: \n",
      "Inputs contain missing values. Dropping rows with missing observations.\n",
      "  super().__init__(dependent, exog, weights=weights, check_rank=check_rank)\n"
     ]
    },
    {
     "data": {
      "text/plain": "<class 'linearmodels.compat.statsmodels.Summary'>\n\"\"\"\n                                       PanelOLS Estimation Summary                                        \n==========================================================================================================\nDep. Variable:     Earnings Per Share - Actual Surprise AbsVals   R-squared:                        0.0003\nEstimator:                                             PanelOLS   R-squared (Between):             -0.5730\nNo. Observations:                                         12758   R-squared (Within):               0.0003\nDate:                                          Tue, Mar 07 2023   R-squared (Overall):             -0.2346\nTime:                                                  00:04:52   Log-likelihood                -6.056e+04\nCov. Estimator:                                      Unadjusted                                           \n                                                                  F-statistic:                      0.7871\nEntities:                                                   498   P-value                           0.5333\nAvg Obs:                                                 25.618   Distribution:                 F(4,12267)\nMin Obs:                                                 0.0000                                           \nMax Obs:                                                 28.000   F-statistic (robust):             0.7871\n                                                                  P-value                           0.5333\nTime periods:                                                28   Distribution:                 F(4,12267)\nAvg Obs:                                                 455.64                                           \nMin Obs:                                                 447.00                                           \nMax Obs:                                                 461.00                                           \n                                                                                                          \n                                               Parameter Estimates                                               \n=================================================================================================================\n                                               Parameter  Std. Err.     T-stat    P-value    Lower CI    Upper CI\n-----------------------------------------------------------------------------------------------------------------\nEarnings Per Share – Coefficient of Variation    -9.9617     25.300    -0.3937     0.6938     -59.553      39.630\nNumber of Analysts                               -1.5567     5.6078    -0.2776     0.7813     -12.549      9.4355\nRecommendation change                            -7.0043     4.3790    -1.5995     0.1097     -15.588      1.5791\nPrice Target - Standard Deviation                -19.549     41.911    -0.4664     0.6409     -101.70      62.604\n=================================================================================================================\n\nF-test for Poolability: 9.9422\nP-value: 0.0000\nDistribution: F(486,12267)\n\nIncluded effects: Entity, Time\n\"\"\"",
      "text/html": "<table class=\"simpletable\">\n<caption>PanelOLS Estimation Summary</caption>\n<tr>\n  <th>Dep. Variable:</th>    <td>Earnings Per Share - Actual Surprise AbsVals</td> <th>  R-squared:         </th>     <td>0.0003</td>  \n</tr>\n<tr>\n  <th>Estimator:</th>                          <td>PanelOLS</td>                   <th>  R-squared (Between):</th>    <td>-0.5730</td> \n</tr>\n<tr>\n  <th>No. Observations:</th>                     <td>12758</td>                    <th>  R-squared (Within):</th>     <td>0.0003</td>  \n</tr>\n<tr>\n  <th>Date:</th>                           <td>Tue, Mar 07 2023</td>               <th>  R-squared (Overall):</th>    <td>-0.2346</td> \n</tr>\n<tr>\n  <th>Time:</th>                               <td>00:04:52</td>                   <th>  Log-likelihood     </th>   <td>-6.056e+04</td>\n</tr>\n<tr>\n  <th>Cov. Estimator:</th>                    <td>Unadjusted</td>                  <th>                     </th>        <td></td>     \n</tr>\n<tr>\n  <th></th>                                        <td></td>                       <th>  F-statistic:       </th>     <td>0.7871</td>  \n</tr>\n<tr>\n  <th>Entities:</th>                              <td>498</td>                     <th>  P-value            </th>     <td>0.5333</td>  \n</tr>\n<tr>\n  <th>Avg Obs:</th>                             <td>25.618</td>                    <th>  Distribution:      </th>   <td>F(4,12267)</td>\n</tr>\n<tr>\n  <th>Min Obs:</th>                             <td>0.0000</td>                    <th>                     </th>        <td></td>     \n</tr>\n<tr>\n  <th>Max Obs:</th>                             <td>28.000</td>                    <th>  F-statistic (robust):</th>   <td>0.7871</td>  \n</tr>\n<tr>\n  <th></th>                                        <td></td>                       <th>  P-value            </th>     <td>0.5333</td>  \n</tr>\n<tr>\n  <th>Time periods:</th>                          <td>28</td>                      <th>  Distribution:      </th>   <td>F(4,12267)</td>\n</tr>\n<tr>\n  <th>Avg Obs:</th>                             <td>455.64</td>                    <th>                     </th>        <td></td>     \n</tr>\n<tr>\n  <th>Min Obs:</th>                             <td>447.00</td>                    <th>                     </th>        <td></td>     \n</tr>\n<tr>\n  <th>Max Obs:</th>                             <td>461.00</td>                    <th>                     </th>        <td></td>     \n</tr>\n<tr>\n  <th></th>                                        <td></td>                       <th>                     </th>        <td></td>     \n</tr>\n</table>\n<table class=\"simpletable\">\n<caption>Parameter Estimates</caption>\n<tr>\n                        <td></td>                        <th>Parameter</th> <th>Std. Err.</th> <th>T-stat</th>  <th>P-value</th> <th>Lower CI</th> <th>Upper CI</th>\n</tr>\n<tr>\n  <th>Earnings Per Share – Coefficient of Variation</th>  <td>-9.9617</td>   <td>25.300</td>   <td>-0.3937</td> <td>0.6938</td>   <td>-59.553</td>  <td>39.630</td> \n</tr>\n<tr>\n  <th>Number of Analysts</th>                             <td>-1.5567</td>   <td>5.6078</td>   <td>-0.2776</td> <td>0.7813</td>   <td>-12.549</td>  <td>9.4355</td> \n</tr>\n<tr>\n  <th>Recommendation change</th>                          <td>-7.0043</td>   <td>4.3790</td>   <td>-1.5995</td> <td>0.1097</td>   <td>-15.588</td>  <td>1.5791</td> \n</tr>\n<tr>\n  <th>Price Target - Standard Deviation</th>              <td>-19.549</td>   <td>41.911</td>   <td>-0.4664</td> <td>0.6409</td>   <td>-101.70</td>  <td>62.604</td> \n</tr>\n</table><br/><br/>F-test for Poolability: 9.9422<br/>P-value: 0.0000<br/>Distribution: F(486,12267)<br/><br/>Included effects: Entity, Time"
     },
     "execution_count": 15,
     "metadata": {},
     "output_type": "execute_result"
    }
   ],
   "source": [
    "y = df_nocovid.loc[:, \"Earnings Per Share - Actual Surprise AbsVals\"]\n",
    "X = df_nocovid.loc[:, \"Earnings Per Share – Coefficient of Variation\":]\n",
    "\n",
    "# perform the fixed effects panel regression\n",
    "fixed_effects_model = PanelOLS(y, X, entity_effects=True, time_effects=True)\n",
    "\n",
    "# fit the model and print the summary statistics\n",
    "fixed_effects_results = fixed_effects_model.fit()\n",
    "fixed_effects_results.summary\n"
   ],
   "metadata": {
    "collapsed": false
   }
  },
  {
   "cell_type": "code",
   "execution_count": 15,
   "outputs": [],
   "source": [],
   "metadata": {
    "collapsed": false
   }
  },
  {
   "cell_type": "markdown",
   "source": [
    "### Based on these results we can conclude that Analyst factors are a bad indicator for prediction"
   ],
   "metadata": {
    "collapsed": false
   }
  },
  {
   "cell_type": "code",
   "execution_count": null,
   "outputs": [],
   "source": [],
   "metadata": {
    "collapsed": false
   }
  }
 ],
 "metadata": {
  "kernelspec": {
   "display_name": "AnalystForecast",
   "language": "python",
   "name": "python3"
  },
  "language_info": {
   "codemirror_mode": {
    "name": "ipython",
    "version": 3
   },
   "file_extension": ".py",
   "mimetype": "text/x-python",
   "name": "python",
   "nbconvert_exporter": "python",
   "pygments_lexer": "ipython3",
   "version": "3.11.0"
  },
  "orig_nbformat": 4,
  "vscode": {
   "interpreter": {
    "hash": "264d128b47a19451ae7876f5ee246d3f7de9751940a5ebe47f15ec6626e5a91f"
   }
  }
 },
 "nbformat": 4,
 "nbformat_minor": 2
}
