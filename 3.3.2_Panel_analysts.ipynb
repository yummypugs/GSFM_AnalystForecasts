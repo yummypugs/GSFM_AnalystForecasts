{
 "cells": [
  {
   "attachments": {},
   "cell_type": "markdown",
   "metadata": {},
   "source": [
    "# Panle Regression - Firm Characteristics"
   ]
  },
  {
   "attachments": {},
   "cell_type": "markdown",
   "metadata": {},
   "source": [
    "### Random Effects Panel Regression"
   ]
  },
  {
   "cell_type": "code",
   "execution_count": 12,
   "metadata": {},
   "outputs": [],
   "source": [
    "import pandas as pd\n",
    "import numpy as np\n",
    "import datetime as dt\n",
    "import sklearn\n",
    "import statsmodels.api as sm\n",
    "from sklearn.linear_model import LinearRegression\n",
    "from sklearn.preprocessing import MinMaxScaler\n",
    "from sklearn.preprocessing import StandardScaler\n",
    "from linearmodels.panel import PanelOLS\n",
    "from linearmodels.panel import RandomEffects"
   ]
  },
  {
   "attachments": {},
   "cell_type": "markdown",
   "metadata": {},
   "source": [
    "Data"
   ]
  },
  {
   "cell_type": "code",
   "execution_count": 13,
   "metadata": {},
   "outputs": [
    {
     "data": {
      "text/plain": "      Instrument       Date GICS Industry Group Name  \\\n0          AVY.N 2013-01-01                Materials   \n1          AVY.N 2013-04-01                Materials   \n2          AVY.N 2013-07-01                Materials   \n3          AVY.N 2013-10-01                Materials   \n4          AVY.N 2014-01-01                Materials   \n...          ...        ...                      ...   \n19196    POOL.OQ 2021-10-01                Retailing   \n19197    POOL.OQ 2022-01-01                Retailing   \n19198    POOL.OQ 2022-04-01                Retailing   \n19199    POOL.OQ 2022-07-01                Retailing   \n19200    POOL.OQ 2022-10-01                Retailing   \n\n       Earnings Per Share - Actual Surprise  \\\n0                                    11.178   \n1                                     2.482   \n2                                     1.068   \n3                                     8.095   \n4                                     1.471   \n...                                     ...   \n19196                                17.194   \n19197                                40.267   \n19198                                34.342   \n19199                                 1.503   \n19200                                 4.196   \n\n       Earnings Per Share - Actual Surprise AbsVals  \\\n0                                            11.178   \n1                                             2.482   \n2                                             1.068   \n3                                             8.095   \n4                                             1.471   \n...                                             ...   \n19196                                        17.194   \n19197                                        40.267   \n19198                                        34.342   \n19199                                         1.503   \n19200                                         4.196   \n\n       Earnings Per Share – Coefficient of Variation  Number of Analysts  \\\n0                                           3.625620                 7.0   \n1                                           2.046169                 7.0   \n2                                           1.551601                 8.0   \n3                                           2.775994                 7.0   \n4                                           3.204412                 8.0   \n...                                              ...                 ...   \n19196                                       2.836295                 8.0   \n19197                                       3.269867                 8.0   \n19198                                       6.630736                 9.0   \n19199                                       3.625249                 9.0   \n19200                                       3.843706                10.0   \n\n       Recommendation - Mean (1-5)  Recommendation change  \\\n0                          3.00000                0.00000   \n1                          2.87500               -0.12500   \n2                          2.87500                0.00000   \n3                          2.62500               -0.25000   \n4                          2.33333               -0.29167   \n...                            ...                    ...   \n19196                      2.30000                0.00000   \n19197                      2.30000                0.00000   \n19198                      2.00000               -0.30000   \n19199                      2.20000                0.20000   \n19200                      2.27273                0.07273   \n\n       Recommendation - Mean (1-5).1  Price Target - Standard Deviation  \n0                              3.000                            2.44949  \n1                              3.000                            3.92272  \n2                              2.875                            4.30946  \n3                              2.875                            3.45230  \n4                              2.625                            3.42555  \n...                              ...                                ...  \n19196                          2.300                           50.48823  \n19197                          2.300                           41.33833  \n19198                          2.300                           37.49206  \n19199                          2.000                           57.57373  \n19200                          2.200                           24.95082  \n\n[19201 rows x 11 columns]",
      "text/html": "<div>\n<style scoped>\n    .dataframe tbody tr th:only-of-type {\n        vertical-align: middle;\n    }\n\n    .dataframe tbody tr th {\n        vertical-align: top;\n    }\n\n    .dataframe thead th {\n        text-align: right;\n    }\n</style>\n<table border=\"1\" class=\"dataframe\">\n  <thead>\n    <tr style=\"text-align: right;\">\n      <th></th>\n      <th>Instrument</th>\n      <th>Date</th>\n      <th>GICS Industry Group Name</th>\n      <th>Earnings Per Share - Actual Surprise</th>\n      <th>Earnings Per Share - Actual Surprise AbsVals</th>\n      <th>Earnings Per Share – Coefficient of Variation</th>\n      <th>Number of Analysts</th>\n      <th>Recommendation - Mean (1-5)</th>\n      <th>Recommendation change</th>\n      <th>Recommendation - Mean (1-5).1</th>\n      <th>Price Target - Standard Deviation</th>\n    </tr>\n  </thead>\n  <tbody>\n    <tr>\n      <th>0</th>\n      <td>AVY.N</td>\n      <td>2013-01-01</td>\n      <td>Materials</td>\n      <td>11.178</td>\n      <td>11.178</td>\n      <td>3.625620</td>\n      <td>7.0</td>\n      <td>3.00000</td>\n      <td>0.00000</td>\n      <td>3.000</td>\n      <td>2.44949</td>\n    </tr>\n    <tr>\n      <th>1</th>\n      <td>AVY.N</td>\n      <td>2013-04-01</td>\n      <td>Materials</td>\n      <td>2.482</td>\n      <td>2.482</td>\n      <td>2.046169</td>\n      <td>7.0</td>\n      <td>2.87500</td>\n      <td>-0.12500</td>\n      <td>3.000</td>\n      <td>3.92272</td>\n    </tr>\n    <tr>\n      <th>2</th>\n      <td>AVY.N</td>\n      <td>2013-07-01</td>\n      <td>Materials</td>\n      <td>1.068</td>\n      <td>1.068</td>\n      <td>1.551601</td>\n      <td>8.0</td>\n      <td>2.87500</td>\n      <td>0.00000</td>\n      <td>2.875</td>\n      <td>4.30946</td>\n    </tr>\n    <tr>\n      <th>3</th>\n      <td>AVY.N</td>\n      <td>2013-10-01</td>\n      <td>Materials</td>\n      <td>8.095</td>\n      <td>8.095</td>\n      <td>2.775994</td>\n      <td>7.0</td>\n      <td>2.62500</td>\n      <td>-0.25000</td>\n      <td>2.875</td>\n      <td>3.45230</td>\n    </tr>\n    <tr>\n      <th>4</th>\n      <td>AVY.N</td>\n      <td>2014-01-01</td>\n      <td>Materials</td>\n      <td>1.471</td>\n      <td>1.471</td>\n      <td>3.204412</td>\n      <td>8.0</td>\n      <td>2.33333</td>\n      <td>-0.29167</td>\n      <td>2.625</td>\n      <td>3.42555</td>\n    </tr>\n    <tr>\n      <th>...</th>\n      <td>...</td>\n      <td>...</td>\n      <td>...</td>\n      <td>...</td>\n      <td>...</td>\n      <td>...</td>\n      <td>...</td>\n      <td>...</td>\n      <td>...</td>\n      <td>...</td>\n      <td>...</td>\n    </tr>\n    <tr>\n      <th>19196</th>\n      <td>POOL.OQ</td>\n      <td>2021-10-01</td>\n      <td>Retailing</td>\n      <td>17.194</td>\n      <td>17.194</td>\n      <td>2.836295</td>\n      <td>8.0</td>\n      <td>2.30000</td>\n      <td>0.00000</td>\n      <td>2.300</td>\n      <td>50.48823</td>\n    </tr>\n    <tr>\n      <th>19197</th>\n      <td>POOL.OQ</td>\n      <td>2022-01-01</td>\n      <td>Retailing</td>\n      <td>40.267</td>\n      <td>40.267</td>\n      <td>3.269867</td>\n      <td>8.0</td>\n      <td>2.30000</td>\n      <td>0.00000</td>\n      <td>2.300</td>\n      <td>41.33833</td>\n    </tr>\n    <tr>\n      <th>19198</th>\n      <td>POOL.OQ</td>\n      <td>2022-04-01</td>\n      <td>Retailing</td>\n      <td>34.342</td>\n      <td>34.342</td>\n      <td>6.630736</td>\n      <td>9.0</td>\n      <td>2.00000</td>\n      <td>-0.30000</td>\n      <td>2.300</td>\n      <td>37.49206</td>\n    </tr>\n    <tr>\n      <th>19199</th>\n      <td>POOL.OQ</td>\n      <td>2022-07-01</td>\n      <td>Retailing</td>\n      <td>1.503</td>\n      <td>1.503</td>\n      <td>3.625249</td>\n      <td>9.0</td>\n      <td>2.20000</td>\n      <td>0.20000</td>\n      <td>2.000</td>\n      <td>57.57373</td>\n    </tr>\n    <tr>\n      <th>19200</th>\n      <td>POOL.OQ</td>\n      <td>2022-10-01</td>\n      <td>Retailing</td>\n      <td>4.196</td>\n      <td>4.196</td>\n      <td>3.843706</td>\n      <td>10.0</td>\n      <td>2.27273</td>\n      <td>0.07273</td>\n      <td>2.200</td>\n      <td>24.95082</td>\n    </tr>\n  </tbody>\n</table>\n<p>19201 rows × 11 columns</p>\n</div>"
     },
     "execution_count": 13,
     "metadata": {},
     "output_type": "execute_result"
    }
   ],
   "source": [
    "df = pd.read_csv(\"Dataframes/analysts_regression.csv\")\n",
    "df[\"Date\"] = pd.to_datetime(df[\"Date\"])\n",
    "df"
   ]
  },
  {
   "attachments": {},
   "cell_type": "markdown",
   "metadata": {},
   "source": [
    "Standardising"
   ]
  },
  {
   "cell_type": "code",
   "execution_count": 14,
   "metadata": {},
   "outputs": [
    {
     "data": {
      "text/plain": "      Instrument       Date GICS Industry Group Name  \\\n0          AVY.N 2013-01-01                Materials   \n1          AVY.N 2013-04-01                Materials   \n2          AVY.N 2013-07-01                Materials   \n3          AVY.N 2013-10-01                Materials   \n4          AVY.N 2014-01-01                Materials   \n...          ...        ...                      ...   \n19196    POOL.OQ 2021-10-01                Retailing   \n19197    POOL.OQ 2022-01-01                Retailing   \n19198    POOL.OQ 2022-04-01                Retailing   \n19199    POOL.OQ 2022-07-01                Retailing   \n19200    POOL.OQ 2022-10-01                Retailing   \n\n       Earnings Per Share - Actual Surprise  \\\n0                                    11.178   \n1                                     2.482   \n2                                     1.068   \n3                                     8.095   \n4                                     1.471   \n...                                     ...   \n19196                                17.194   \n19197                                40.267   \n19198                                34.342   \n19199                                 1.503   \n19200                                 4.196   \n\n       Earnings Per Share - Actual Surprise AbsVals  \\\n0                                            11.178   \n1                                             2.482   \n2                                             1.068   \n3                                             8.095   \n4                                             1.471   \n...                                             ...   \n19196                                        17.194   \n19197                                        40.267   \n19198                                        34.342   \n19199                                         1.503   \n19200                                         4.196   \n\n       Earnings Per Share – Coefficient of Variation  Number of Analysts  \\\n0                                           0.385569            0.125000   \n1                                           0.384977            0.125000   \n2                                           0.384792            0.145833   \n3                                           0.385251            0.125000   \n4                                           0.385411            0.145833   \n...                                              ...                 ...   \n19196                                       0.385273            0.145833   \n19197                                       0.385436            0.145833   \n19198                                       0.386695            0.166667   \n19199                                       0.385569            0.166667   \n19200                                       0.385651            0.187500   \n\n       Recommendation - Mean (1-5)  Recommendation change  \\\n0                         0.742857               0.538462   \n1                         0.696428               0.480770   \n2                         0.696428               0.538462   \n3                         0.603571               0.423078   \n4                         0.495236               0.403846   \n...                            ...                    ...   \n19196                     0.482857               0.538462   \n19197                     0.482857               0.538462   \n19198                     0.371428               0.400001   \n19199                     0.445714               0.630770   \n19200                     0.472728               0.572030   \n\n       Recommendation - Mean (1-5).1  Price Target - Standard Deviation  \n0                           0.666667                           0.002079  \n1                           0.666667                           0.003330  \n2                           0.625000                           0.003658  \n3                           0.625000                           0.002930  \n4                           0.541667                           0.002908  \n...                              ...                                ...  \n19196                       0.433333                           0.042855  \n19197                       0.433333                           0.035088  \n19198                       0.433333                           0.031824  \n19199                       0.333333                           0.048869  \n19200                       0.400000                           0.021178  \n\n[19201 rows x 11 columns]",
      "text/html": "<div>\n<style scoped>\n    .dataframe tbody tr th:only-of-type {\n        vertical-align: middle;\n    }\n\n    .dataframe tbody tr th {\n        vertical-align: top;\n    }\n\n    .dataframe thead th {\n        text-align: right;\n    }\n</style>\n<table border=\"1\" class=\"dataframe\">\n  <thead>\n    <tr style=\"text-align: right;\">\n      <th></th>\n      <th>Instrument</th>\n      <th>Date</th>\n      <th>GICS Industry Group Name</th>\n      <th>Earnings Per Share - Actual Surprise</th>\n      <th>Earnings Per Share - Actual Surprise AbsVals</th>\n      <th>Earnings Per Share – Coefficient of Variation</th>\n      <th>Number of Analysts</th>\n      <th>Recommendation - Mean (1-5)</th>\n      <th>Recommendation change</th>\n      <th>Recommendation - Mean (1-5).1</th>\n      <th>Price Target - Standard Deviation</th>\n    </tr>\n  </thead>\n  <tbody>\n    <tr>\n      <th>0</th>\n      <td>AVY.N</td>\n      <td>2013-01-01</td>\n      <td>Materials</td>\n      <td>11.178</td>\n      <td>11.178</td>\n      <td>0.385569</td>\n      <td>0.125000</td>\n      <td>0.742857</td>\n      <td>0.538462</td>\n      <td>0.666667</td>\n      <td>0.002079</td>\n    </tr>\n    <tr>\n      <th>1</th>\n      <td>AVY.N</td>\n      <td>2013-04-01</td>\n      <td>Materials</td>\n      <td>2.482</td>\n      <td>2.482</td>\n      <td>0.384977</td>\n      <td>0.125000</td>\n      <td>0.696428</td>\n      <td>0.480770</td>\n      <td>0.666667</td>\n      <td>0.003330</td>\n    </tr>\n    <tr>\n      <th>2</th>\n      <td>AVY.N</td>\n      <td>2013-07-01</td>\n      <td>Materials</td>\n      <td>1.068</td>\n      <td>1.068</td>\n      <td>0.384792</td>\n      <td>0.145833</td>\n      <td>0.696428</td>\n      <td>0.538462</td>\n      <td>0.625000</td>\n      <td>0.003658</td>\n    </tr>\n    <tr>\n      <th>3</th>\n      <td>AVY.N</td>\n      <td>2013-10-01</td>\n      <td>Materials</td>\n      <td>8.095</td>\n      <td>8.095</td>\n      <td>0.385251</td>\n      <td>0.125000</td>\n      <td>0.603571</td>\n      <td>0.423078</td>\n      <td>0.625000</td>\n      <td>0.002930</td>\n    </tr>\n    <tr>\n      <th>4</th>\n      <td>AVY.N</td>\n      <td>2014-01-01</td>\n      <td>Materials</td>\n      <td>1.471</td>\n      <td>1.471</td>\n      <td>0.385411</td>\n      <td>0.145833</td>\n      <td>0.495236</td>\n      <td>0.403846</td>\n      <td>0.541667</td>\n      <td>0.002908</td>\n    </tr>\n    <tr>\n      <th>...</th>\n      <td>...</td>\n      <td>...</td>\n      <td>...</td>\n      <td>...</td>\n      <td>...</td>\n      <td>...</td>\n      <td>...</td>\n      <td>...</td>\n      <td>...</td>\n      <td>...</td>\n      <td>...</td>\n    </tr>\n    <tr>\n      <th>19196</th>\n      <td>POOL.OQ</td>\n      <td>2021-10-01</td>\n      <td>Retailing</td>\n      <td>17.194</td>\n      <td>17.194</td>\n      <td>0.385273</td>\n      <td>0.145833</td>\n      <td>0.482857</td>\n      <td>0.538462</td>\n      <td>0.433333</td>\n      <td>0.042855</td>\n    </tr>\n    <tr>\n      <th>19197</th>\n      <td>POOL.OQ</td>\n      <td>2022-01-01</td>\n      <td>Retailing</td>\n      <td>40.267</td>\n      <td>40.267</td>\n      <td>0.385436</td>\n      <td>0.145833</td>\n      <td>0.482857</td>\n      <td>0.538462</td>\n      <td>0.433333</td>\n      <td>0.035088</td>\n    </tr>\n    <tr>\n      <th>19198</th>\n      <td>POOL.OQ</td>\n      <td>2022-04-01</td>\n      <td>Retailing</td>\n      <td>34.342</td>\n      <td>34.342</td>\n      <td>0.386695</td>\n      <td>0.166667</td>\n      <td>0.371428</td>\n      <td>0.400001</td>\n      <td>0.433333</td>\n      <td>0.031824</td>\n    </tr>\n    <tr>\n      <th>19199</th>\n      <td>POOL.OQ</td>\n      <td>2022-07-01</td>\n      <td>Retailing</td>\n      <td>1.503</td>\n      <td>1.503</td>\n      <td>0.385569</td>\n      <td>0.166667</td>\n      <td>0.445714</td>\n      <td>0.630770</td>\n      <td>0.333333</td>\n      <td>0.048869</td>\n    </tr>\n    <tr>\n      <th>19200</th>\n      <td>POOL.OQ</td>\n      <td>2022-10-01</td>\n      <td>Retailing</td>\n      <td>4.196</td>\n      <td>4.196</td>\n      <td>0.385651</td>\n      <td>0.187500</td>\n      <td>0.472728</td>\n      <td>0.572030</td>\n      <td>0.400000</td>\n      <td>0.021178</td>\n    </tr>\n  </tbody>\n</table>\n<p>19201 rows × 11 columns</p>\n</div>"
     },
     "execution_count": 14,
     "metadata": {},
     "output_type": "execute_result"
    }
   ],
   "source": [
    "rescale = df.copy()\n",
    "#rescale[\"Earnings Per Share - Actual Surprise\"] = MinMaxScaler().fit_transform(np.array(rescale[\"Earnings Per Share - Actual Surprise\"]).reshape(-1,1))\n",
    "rescale[\"Earnings Per Share – Coefficient of Variation\"] = MinMaxScaler().fit_transform(np.array(rescale[\"Earnings Per Share – Coefficient of Variation\"]).reshape(-1,1))\n",
    "rescale[\"Number of Analysts\"] = MinMaxScaler().fit_transform(np.array(rescale[\"Number of Analysts\"]).reshape(-1,1))\n",
    "rescale[\"Recommendation - Mean (1-5)\"] = MinMaxScaler().fit_transform(np.array(rescale[\"Recommendation - Mean (1-5)\"]).reshape(-1,1))\n",
    "rescale[\"Recommendation change\"] = MinMaxScaler().fit_transform(np.array(rescale[\"Recommendation change\"]).reshape(-1,1))\n",
    "rescale[\"Recommendation - Mean (1-5).1\"] = MinMaxScaler().fit_transform(np.array(rescale[\"Recommendation - Mean (1-5).1\"]).reshape(-1,1))\n",
    "rescale[\"Price Target - Standard Deviation\"] = MinMaxScaler().fit_transform(np.array(rescale[\"Price Target - Standard Deviation\"]).reshape(-1,1))\n",
    "df_clean = rescale\n",
    "df_clean"
   ]
  },
  {
   "cell_type": "code",
   "execution_count": 15,
   "metadata": {},
   "outputs": [],
   "source": [
    "df_panel = df_clean.copy()"
   ]
  },
  {
   "attachments": {},
   "cell_type": "markdown",
   "metadata": {},
   "source": [
    "#### Fixed Effects"
   ]
  },
  {
   "attachments": {},
   "cell_type": "markdown",
   "metadata": {},
   "source": [
    "In a fixed effects panel regression, the individual-specific effects are modeled as fixed variables that do not vary across time. This means that the coefficients of the independent variables are estimated based on the within-entity variation in the data, which eliminates the effect of time-invariant unobserved heterogeneity.\n",
    "\n",
    "Fixed effects models are useful when there are time-invariant unobserved variables that may affect the dependent variable, but are not included in the model. By modeling the individual-specific effects as fixed variables, fixed effects models can control for this unobserved heterogeneity and estimate the coefficients of the independent variables based on the within-entity variation, which provides more efficient estimates of the coefficients.\n",
    "\n",
    "One limitation of fixed effects models is that they do not allow for testing the effect of time-invariant variables on the dependent variable. In addition, fixed effects models may suffer from the incidental parameter problem, which may lead to biased estimates of the coefficients of the independent variables in the presence of a large number of fixed effects."
   ]
  },
  {
   "cell_type": "code",
   "execution_count": 16,
   "metadata": {},
   "outputs": [],
   "source": [
    "#reformatting indices of dataframe for panel regression\n",
    "df_clean['Instrument'] = df_clean['Instrument'].astype('category')\n",
    "df_clean['Date'] = pd.to_datetime(df_clean['Date'])\n",
    "\n",
    "# set the index to be the time variable and the cross-sectional variable\n",
    "df_clean.set_index(['Instrument', 'Date'], inplace=True)\n",
    "#df_clean"
   ]
  },
  {
   "attachments": {},
   "cell_type": "markdown",
   "metadata": {},
   "source": [
    "FE Panel Regression with **Absolute** Surprise Values"
   ]
  },
  {
   "cell_type": "code",
   "execution_count": 17,
   "metadata": {},
   "outputs": [
    {
     "name": "stderr",
     "output_type": "stream",
     "text": [
      "C:\\Users\\alexa\\mambaforge\\envs\\AnalystForecast\\Lib\\site-packages\\linearmodels\\panel\\model.py:1183: MissingValueWarning: \n",
      "Inputs contain missing values. Dropping rows with missing observations.\n",
      "  super().__init__(dependent, exog, weights=weights, check_rank=check_rank)\n"
     ]
    },
    {
     "data": {
      "text/plain": "<class 'linearmodels.compat.statsmodels.Summary'>\n\"\"\"\n                                       PanelOLS Estimation Summary                                        \n==========================================================================================================\nDep. Variable:     Earnings Per Share - Actual Surprise AbsVals   R-squared:                        0.0023\nEstimator:                                             PanelOLS   R-squared (Between):              0.0114\nNo. Observations:                                         18208   R-squared (Within):               0.0024\nDate:                                          Sun, Mar 05 2023   R-squared (Overall):              0.0032\nTime:                                                  20:53:40   Log-likelihood                -8.858e+04\nCov. Estimator:                                      Unadjusted                                           \n                                                                  F-statistic:                      8.0485\nEntities:                                                   502   P-value                           0.0000\nAvg Obs:                                                 36.271   Distribution:                 F(5,17663)\nMin Obs:                                                 0.0000                                           \nMax Obs:                                                 40.000   F-statistic (robust):             7.3448\n                                                                  P-value                           0.0000\nTime periods:                                                40   Distribution:                 F(5,17663)\nAvg Obs:                                                 455.20                                           \nMin Obs:                                                 444.00                                           \nMax Obs:                                                 461.00                                           \n                                                                                                          \n                                               Parameter Estimates                                               \n=================================================================================================================\n                                               Parameter  Std. Err.     T-stat    P-value    Lower CI    Upper CI\n-----------------------------------------------------------------------------------------------------------------\nEarnings Per Share – Coefficient of Variation     38.550     20.005     1.9270     0.0540     -0.6621      77.761\nNumber of Analysts                               -15.495     4.5441    -3.4100     0.0007     -24.402     -6.5887\nRecommendation - Mean (1-5)                      -7.7134     19.420    -0.3972     0.6912     -45.779      30.352\nRecommendation change                             3.7190     14.892     0.2497     0.8028     -25.470      32.908\nRecommendation - Mean (1-5).1                     20.510     21.119     0.9712     0.3315     -20.886      61.907\nPrice Target - Standard Deviation                -34.186     17.697    -1.9317     0.0534     -68.874      0.5032\n=================================================================================================================\n\nF-test for Poolability: 11.052\nP-value: 0.0000\nDistribution: F(539,17663)\n\nIncluded effects: Entity, Time\n\"\"\"",
      "text/html": "<table class=\"simpletable\">\n<caption>PanelOLS Estimation Summary</caption>\n<tr>\n  <th>Dep. Variable:</th>    <td>Earnings Per Share - Actual Surprise AbsVals</td> <th>  R-squared:         </th>     <td>0.0023</td>  \n</tr>\n<tr>\n  <th>Estimator:</th>                          <td>PanelOLS</td>                   <th>  R-squared (Between):</th>    <td>0.0114</td>  \n</tr>\n<tr>\n  <th>No. Observations:</th>                     <td>18208</td>                    <th>  R-squared (Within):</th>     <td>0.0024</td>  \n</tr>\n<tr>\n  <th>Date:</th>                           <td>Sun, Mar 05 2023</td>               <th>  R-squared (Overall):</th>    <td>0.0032</td>  \n</tr>\n<tr>\n  <th>Time:</th>                               <td>20:53:40</td>                   <th>  Log-likelihood     </th>   <td>-8.858e+04</td>\n</tr>\n<tr>\n  <th>Cov. Estimator:</th>                    <td>Unadjusted</td>                  <th>                     </th>        <td></td>     \n</tr>\n<tr>\n  <th></th>                                        <td></td>                       <th>  F-statistic:       </th>     <td>8.0485</td>  \n</tr>\n<tr>\n  <th>Entities:</th>                              <td>502</td>                     <th>  P-value            </th>     <td>0.0000</td>  \n</tr>\n<tr>\n  <th>Avg Obs:</th>                             <td>36.271</td>                    <th>  Distribution:      </th>   <td>F(5,17663)</td>\n</tr>\n<tr>\n  <th>Min Obs:</th>                             <td>0.0000</td>                    <th>                     </th>        <td></td>     \n</tr>\n<tr>\n  <th>Max Obs:</th>                             <td>40.000</td>                    <th>  F-statistic (robust):</th>   <td>7.3448</td>  \n</tr>\n<tr>\n  <th></th>                                        <td></td>                       <th>  P-value            </th>     <td>0.0000</td>  \n</tr>\n<tr>\n  <th>Time periods:</th>                          <td>40</td>                      <th>  Distribution:      </th>   <td>F(5,17663)</td>\n</tr>\n<tr>\n  <th>Avg Obs:</th>                             <td>455.20</td>                    <th>                     </th>        <td></td>     \n</tr>\n<tr>\n  <th>Min Obs:</th>                             <td>444.00</td>                    <th>                     </th>        <td></td>     \n</tr>\n<tr>\n  <th>Max Obs:</th>                             <td>461.00</td>                    <th>                     </th>        <td></td>     \n</tr>\n<tr>\n  <th></th>                                        <td></td>                       <th>                     </th>        <td></td>     \n</tr>\n</table>\n<table class=\"simpletable\">\n<caption>Parameter Estimates</caption>\n<tr>\n                        <td></td>                        <th>Parameter</th> <th>Std. Err.</th> <th>T-stat</th>  <th>P-value</th> <th>Lower CI</th> <th>Upper CI</th>\n</tr>\n<tr>\n  <th>Earnings Per Share – Coefficient of Variation</th>  <td>38.550</td>    <td>20.005</td>   <td>1.9270</td>  <td>0.0540</td>   <td>-0.6621</td>  <td>77.761</td> \n</tr>\n<tr>\n  <th>Number of Analysts</th>                             <td>-15.495</td>   <td>4.5441</td>   <td>-3.4100</td> <td>0.0007</td>   <td>-24.402</td>  <td>-6.5887</td>\n</tr>\n<tr>\n  <th>Recommendation - Mean (1-5)</th>                    <td>-7.7134</td>   <td>19.420</td>   <td>-0.3972</td> <td>0.6912</td>   <td>-45.779</td>  <td>30.352</td> \n</tr>\n<tr>\n  <th>Recommendation change</th>                          <td>3.7190</td>    <td>14.892</td>   <td>0.2497</td>  <td>0.8028</td>   <td>-25.470</td>  <td>32.908</td> \n</tr>\n<tr>\n  <th>Recommendation - Mean (1-5).1</th>                  <td>20.510</td>    <td>21.119</td>   <td>0.9712</td>  <td>0.3315</td>   <td>-20.886</td>  <td>61.907</td> \n</tr>\n<tr>\n  <th>Price Target - Standard Deviation</th>              <td>-34.186</td>   <td>17.697</td>   <td>-1.9317</td> <td>0.0534</td>   <td>-68.874</td>  <td>0.5032</td> \n</tr>\n</table><br/><br/>F-test for Poolability: 11.052<br/>P-value: 0.0000<br/>Distribution: F(539,17663)<br/><br/>Included effects: Entity, Time"
     },
     "execution_count": 17,
     "metadata": {},
     "output_type": "execute_result"
    }
   ],
   "source": [
    "y = df_clean.loc[:, \"Earnings Per Share - Actual Surprise AbsVals\"]\n",
    "X = df_clean.loc[:, \"Earnings Per Share – Coefficient of Variation\":]\n",
    "\n",
    "# perform the fixed effects panel regression\n",
    "fixed_effects_model = PanelOLS(y, X, entity_effects=True, time_effects=True)\n",
    "\n",
    "# fit the model and print the summary statistics\n",
    "fixed_effects_results = fixed_effects_model.fit()\n",
    "fixed_effects_results.summary"
   ]
  },
  {
   "attachments": {},
   "cell_type": "markdown",
   "metadata": {},
   "source": [
    "By Industry: example tech industry"
   ]
  },
  {
   "cell_type": "code",
   "execution_count": 18,
   "metadata": {},
   "outputs": [
    {
     "name": "stderr",
     "output_type": "stream",
     "text": [
      "C:\\Users\\alexa\\AppData\\Local\\Temp\\ipykernel_8088\\1151135892.py:3: SettingWithCopyWarning: \n",
      "A value is trying to be set on a copy of a slice from a DataFrame.\n",
      "Try using .loc[row_indexer,col_indexer] = value instead\n",
      "\n",
      "See the caveats in the documentation: https://pandas.pydata.org/pandas-docs/stable/user_guide/indexing.html#returning-a-view-versus-a-copy\n",
      "  group['Instrument'] = group['Instrument'].astype('category')\n",
      "C:\\Users\\alexa\\AppData\\Local\\Temp\\ipykernel_8088\\1151135892.py:4: SettingWithCopyWarning: \n",
      "A value is trying to be set on a copy of a slice from a DataFrame.\n",
      "Try using .loc[row_indexer,col_indexer] = value instead\n",
      "\n",
      "See the caveats in the documentation: https://pandas.pydata.org/pandas-docs/stable/user_guide/indexing.html#returning-a-view-versus-a-copy\n",
      "  group['Date'] = pd.to_datetime(group['Date'])\n",
      "C:\\Users\\alexa\\mambaforge\\envs\\AnalystForecast\\Lib\\site-packages\\linearmodels\\panel\\model.py:1183: MissingValueWarning: \n",
      "Inputs contain missing values. Dropping rows with missing observations.\n",
      "  super().__init__(dependent, exog, weights=weights, check_rank=check_rank)\n"
     ]
    },
    {
     "data": {
      "text/plain": "                                       PanelOLS Estimation Summary                                        \n==========================================================================================================\nDep. Variable:     Earnings Per Share - Actual Surprise AbsVals   R-squared:                        0.2022\nEstimator:                                             PanelOLS   R-squared (Between):             -0.3072\nNo. Observations:                                           603   R-squared (Within):               0.2098\nDate:                                          Sun, Mar 05 2023   R-squared (Overall):              0.1601\nTime:                                                  20:53:40   Log-likelihood                   -2129.1\nCov. Estimator:                                      Unadjusted                                           \n                                                                  F-statistic:                      27.375\nEntities:                                                    19   P-value                           0.0000\nAvg Obs:                                                 31.737   Distribution:                   F(5,540)\nMin Obs:                                                 1.0000                                           \nMax Obs:                                                 40.000   F-statistic (robust):             27.045\n                                                                  P-value                           0.0000\nTime periods:                                                40   Distribution:                   F(5,540)\nAvg Obs:                                                 15.075                                           \nMin Obs:                                                 15.000                                           \nMax Obs:                                                 17.000                                           \n                                                                                                          \n                                               Parameter Estimates                                               \n=================================================================================================================\n                                               Parameter  Std. Err.     T-stat    P-value    Lower CI    Upper CI\n-----------------------------------------------------------------------------------------------------------------\nEarnings Per Share – Coefficient of Variation     3551.8     334.25     10.626     0.0000      2895.2      4208.3\nNumber of Analysts                                6.7025     5.0050     1.3392     0.1811     -3.1292      16.534\nRecommendation - Mean (1-5)                       3157.3     295.12     10.698     0.0000      2577.6      3737.0\nRecommendation change                            -2540.2     238.29    -10.660     0.0000     -3008.3     -2072.1\nRecommendation - Mean (1-5).1                    -3506.7     329.80    -10.633     0.0000     -4154.5     -2858.8\nPrice Target - Standard Deviation                 25.736     67.738     0.3799     0.7041     -107.33      158.80\n=================================================================================================================\n\nF-test for Poolability: 2.4211\nP-value: 0.0000\nDistribution: F(57,540)\n\nIncluded effects: Entity, Time\nPanelEffectsResults, id: 0x29699abaa90",
      "text/html": "<table class=\"simpletable\">\n<caption>PanelOLS Estimation Summary</caption>\n<tr>\n  <th>Dep. Variable:</th>    <td>Earnings Per Share - Actual Surprise AbsVals</td> <th>  R-squared:         </th>    <td>0.2022</td> \n</tr>\n<tr>\n  <th>Estimator:</th>                          <td>PanelOLS</td>                   <th>  R-squared (Between):</th>   <td>-0.3072</td>\n</tr>\n<tr>\n  <th>No. Observations:</th>                      <td>603</td>                     <th>  R-squared (Within):</th>    <td>0.2098</td> \n</tr>\n<tr>\n  <th>Date:</th>                           <td>Sun, Mar 05 2023</td>               <th>  R-squared (Overall):</th>   <td>0.1601</td> \n</tr>\n<tr>\n  <th>Time:</th>                               <td>20:53:40</td>                   <th>  Log-likelihood     </th>    <td>-2129.1</td>\n</tr>\n<tr>\n  <th>Cov. Estimator:</th>                    <td>Unadjusted</td>                  <th>                     </th>       <td></td>    \n</tr>\n<tr>\n  <th></th>                                        <td></td>                       <th>  F-statistic:       </th>    <td>27.375</td> \n</tr>\n<tr>\n  <th>Entities:</th>                              <td>19</td>                      <th>  P-value            </th>    <td>0.0000</td> \n</tr>\n<tr>\n  <th>Avg Obs:</th>                             <td>31.737</td>                    <th>  Distribution:      </th>   <td>F(5,540)</td>\n</tr>\n<tr>\n  <th>Min Obs:</th>                             <td>1.0000</td>                    <th>                     </th>       <td></td>    \n</tr>\n<tr>\n  <th>Max Obs:</th>                             <td>40.000</td>                    <th>  F-statistic (robust):</th>  <td>27.045</td> \n</tr>\n<tr>\n  <th></th>                                        <td></td>                       <th>  P-value            </th>    <td>0.0000</td> \n</tr>\n<tr>\n  <th>Time periods:</th>                          <td>40</td>                      <th>  Distribution:      </th>   <td>F(5,540)</td>\n</tr>\n<tr>\n  <th>Avg Obs:</th>                             <td>15.075</td>                    <th>                     </th>       <td></td>    \n</tr>\n<tr>\n  <th>Min Obs:</th>                             <td>15.000</td>                    <th>                     </th>       <td></td>    \n</tr>\n<tr>\n  <th>Max Obs:</th>                             <td>17.000</td>                    <th>                     </th>       <td></td>    \n</tr>\n<tr>\n  <th></th>                                        <td></td>                       <th>                     </th>       <td></td>    \n</tr>\n</table>\n<table class=\"simpletable\">\n<caption>Parameter Estimates</caption>\n<tr>\n                        <td></td>                        <th>Parameter</th> <th>Std. Err.</th> <th>T-stat</th>  <th>P-value</th> <th>Lower CI</th> <th>Upper CI</th>\n</tr>\n<tr>\n  <th>Earnings Per Share – Coefficient of Variation</th>  <td>3551.8</td>    <td>334.25</td>   <td>10.626</td>  <td>0.0000</td>   <td>2895.2</td>   <td>4208.3</td> \n</tr>\n<tr>\n  <th>Number of Analysts</th>                             <td>6.7025</td>    <td>5.0050</td>   <td>1.3392</td>  <td>0.1811</td>   <td>-3.1292</td>  <td>16.534</td> \n</tr>\n<tr>\n  <th>Recommendation - Mean (1-5)</th>                    <td>3157.3</td>    <td>295.12</td>   <td>10.698</td>  <td>0.0000</td>   <td>2577.6</td>   <td>3737.0</td> \n</tr>\n<tr>\n  <th>Recommendation change</th>                          <td>-2540.2</td>   <td>238.29</td>   <td>-10.660</td> <td>0.0000</td>   <td>-3008.3</td>  <td>-2072.1</td>\n</tr>\n<tr>\n  <th>Recommendation - Mean (1-5).1</th>                  <td>-3506.7</td>   <td>329.80</td>   <td>-10.633</td> <td>0.0000</td>   <td>-4154.5</td>  <td>-2858.8</td>\n</tr>\n<tr>\n  <th>Price Target - Standard Deviation</th>              <td>25.736</td>    <td>67.738</td>   <td>0.3799</td>  <td>0.7041</td>   <td>-107.33</td>  <td>158.80</td> \n</tr>\n</table><br/><br/>F-test for Poolability: 2.4211<br/>P-value: 0.0000<br/>Distribution: F(57,540)<br/><br/>Included effects: Entity, Time<br/>id: 0x29699abaa90"
     },
     "execution_count": 18,
     "metadata": {},
     "output_type": "execute_result"
    }
   ],
   "source": [
    "group = df_panel[df_panel['GICS Industry Group Name'] == 'Technology Hardware & Equipment']\n",
    "\n",
    "group['Instrument'] = group['Instrument'].astype('category')\n",
    "group['Date'] = pd.to_datetime(group['Date'])\n",
    "group.set_index(['Instrument', 'Date'], inplace=True)\n",
    "\n",
    "y = group.loc[:, \"Earnings Per Share - Actual Surprise AbsVals\"]\n",
    "X = group.loc[:, \"Earnings Per Share – Coefficient of Variation\":]\n",
    "\n",
    "model = PanelOLS(y, X, entity_effects=True, time_effects=True).fit()\n",
    "model"
   ]
  },
  {
   "cell_type": "code",
   "execution_count": 18,
   "outputs": [],
   "source": [],
   "metadata": {
    "collapsed": false
   }
  },
  {
   "cell_type": "markdown",
   "source": [
    "# COVID Tests"
   ],
   "metadata": {
    "collapsed": false
   }
  },
  {
   "cell_type": "code",
   "execution_count": 25,
   "outputs": [
    {
     "data": {
      "text/plain": "      Instrument       Date GICS Industry Group Name  \\\n0          AVY.N 2013-01-01                Materials   \n1          AVY.N 2013-04-01                Materials   \n2          AVY.N 2013-07-01                Materials   \n3          AVY.N 2013-10-01                Materials   \n4          AVY.N 2014-01-01                Materials   \n...          ...        ...                      ...   \n19196    POOL.OQ 2021-10-01                Retailing   \n19197    POOL.OQ 2022-01-01                Retailing   \n19198    POOL.OQ 2022-04-01                Retailing   \n19199    POOL.OQ 2022-07-01                Retailing   \n19200    POOL.OQ 2022-10-01                Retailing   \n\n       Earnings Per Share - Actual Surprise  \\\n0                                    11.178   \n1                                     2.482   \n2                                     1.068   \n3                                     8.095   \n4                                     1.471   \n...                                     ...   \n19196                                17.194   \n19197                                40.267   \n19198                                34.342   \n19199                                 1.503   \n19200                                 4.196   \n\n       Earnings Per Share - Actual Surprise AbsVals  \\\n0                                            11.178   \n1                                             2.482   \n2                                             1.068   \n3                                             8.095   \n4                                             1.471   \n...                                             ...   \n19196                                        17.194   \n19197                                        40.267   \n19198                                        34.342   \n19199                                         1.503   \n19200                                         4.196   \n\n       Earnings Per Share – Coefficient of Variation  Number of Analysts  \\\n0                                           0.385569            0.125000   \n1                                           0.384977            0.125000   \n2                                           0.384792            0.145833   \n3                                           0.385251            0.125000   \n4                                           0.385411            0.145833   \n...                                              ...                 ...   \n19196                                       0.385273            0.145833   \n19197                                       0.385436            0.145833   \n19198                                       0.386695            0.166667   \n19199                                       0.385569            0.166667   \n19200                                       0.385651            0.187500   \n\n       Recommendation - Mean (1-5)  Recommendation change  \\\n0                         0.742857               0.538462   \n1                         0.696428               0.480770   \n2                         0.696428               0.538462   \n3                         0.603571               0.423078   \n4                         0.495236               0.403846   \n...                            ...                    ...   \n19196                     0.482857               0.538462   \n19197                     0.482857               0.538462   \n19198                     0.371428               0.400001   \n19199                     0.445714               0.630770   \n19200                     0.472728               0.572030   \n\n       Recommendation - Mean (1-5).1  Price Target - Standard Deviation  \n0                           0.666667                           0.002079  \n1                           0.666667                           0.003330  \n2                           0.625000                           0.003658  \n3                           0.625000                           0.002930  \n4                           0.541667                           0.002908  \n...                              ...                                ...  \n19196                       0.433333                           0.042855  \n19197                       0.433333                           0.035088  \n19198                       0.433333                           0.031824  \n19199                       0.333333                           0.048869  \n19200                       0.400000                           0.021178  \n\n[19201 rows x 11 columns]",
      "text/html": "<div>\n<style scoped>\n    .dataframe tbody tr th:only-of-type {\n        vertical-align: middle;\n    }\n\n    .dataframe tbody tr th {\n        vertical-align: top;\n    }\n\n    .dataframe thead th {\n        text-align: right;\n    }\n</style>\n<table border=\"1\" class=\"dataframe\">\n  <thead>\n    <tr style=\"text-align: right;\">\n      <th></th>\n      <th>Instrument</th>\n      <th>Date</th>\n      <th>GICS Industry Group Name</th>\n      <th>Earnings Per Share - Actual Surprise</th>\n      <th>Earnings Per Share - Actual Surprise AbsVals</th>\n      <th>Earnings Per Share – Coefficient of Variation</th>\n      <th>Number of Analysts</th>\n      <th>Recommendation - Mean (1-5)</th>\n      <th>Recommendation change</th>\n      <th>Recommendation - Mean (1-5).1</th>\n      <th>Price Target - Standard Deviation</th>\n    </tr>\n  </thead>\n  <tbody>\n    <tr>\n      <th>0</th>\n      <td>AVY.N</td>\n      <td>2013-01-01</td>\n      <td>Materials</td>\n      <td>11.178</td>\n      <td>11.178</td>\n      <td>0.385569</td>\n      <td>0.125000</td>\n      <td>0.742857</td>\n      <td>0.538462</td>\n      <td>0.666667</td>\n      <td>0.002079</td>\n    </tr>\n    <tr>\n      <th>1</th>\n      <td>AVY.N</td>\n      <td>2013-04-01</td>\n      <td>Materials</td>\n      <td>2.482</td>\n      <td>2.482</td>\n      <td>0.384977</td>\n      <td>0.125000</td>\n      <td>0.696428</td>\n      <td>0.480770</td>\n      <td>0.666667</td>\n      <td>0.003330</td>\n    </tr>\n    <tr>\n      <th>2</th>\n      <td>AVY.N</td>\n      <td>2013-07-01</td>\n      <td>Materials</td>\n      <td>1.068</td>\n      <td>1.068</td>\n      <td>0.384792</td>\n      <td>0.145833</td>\n      <td>0.696428</td>\n      <td>0.538462</td>\n      <td>0.625000</td>\n      <td>0.003658</td>\n    </tr>\n    <tr>\n      <th>3</th>\n      <td>AVY.N</td>\n      <td>2013-10-01</td>\n      <td>Materials</td>\n      <td>8.095</td>\n      <td>8.095</td>\n      <td>0.385251</td>\n      <td>0.125000</td>\n      <td>0.603571</td>\n      <td>0.423078</td>\n      <td>0.625000</td>\n      <td>0.002930</td>\n    </tr>\n    <tr>\n      <th>4</th>\n      <td>AVY.N</td>\n      <td>2014-01-01</td>\n      <td>Materials</td>\n      <td>1.471</td>\n      <td>1.471</td>\n      <td>0.385411</td>\n      <td>0.145833</td>\n      <td>0.495236</td>\n      <td>0.403846</td>\n      <td>0.541667</td>\n      <td>0.002908</td>\n    </tr>\n    <tr>\n      <th>...</th>\n      <td>...</td>\n      <td>...</td>\n      <td>...</td>\n      <td>...</td>\n      <td>...</td>\n      <td>...</td>\n      <td>...</td>\n      <td>...</td>\n      <td>...</td>\n      <td>...</td>\n      <td>...</td>\n    </tr>\n    <tr>\n      <th>19196</th>\n      <td>POOL.OQ</td>\n      <td>2021-10-01</td>\n      <td>Retailing</td>\n      <td>17.194</td>\n      <td>17.194</td>\n      <td>0.385273</td>\n      <td>0.145833</td>\n      <td>0.482857</td>\n      <td>0.538462</td>\n      <td>0.433333</td>\n      <td>0.042855</td>\n    </tr>\n    <tr>\n      <th>19197</th>\n      <td>POOL.OQ</td>\n      <td>2022-01-01</td>\n      <td>Retailing</td>\n      <td>40.267</td>\n      <td>40.267</td>\n      <td>0.385436</td>\n      <td>0.145833</td>\n      <td>0.482857</td>\n      <td>0.538462</td>\n      <td>0.433333</td>\n      <td>0.035088</td>\n    </tr>\n    <tr>\n      <th>19198</th>\n      <td>POOL.OQ</td>\n      <td>2022-04-01</td>\n      <td>Retailing</td>\n      <td>34.342</td>\n      <td>34.342</td>\n      <td>0.386695</td>\n      <td>0.166667</td>\n      <td>0.371428</td>\n      <td>0.400001</td>\n      <td>0.433333</td>\n      <td>0.031824</td>\n    </tr>\n    <tr>\n      <th>19199</th>\n      <td>POOL.OQ</td>\n      <td>2022-07-01</td>\n      <td>Retailing</td>\n      <td>1.503</td>\n      <td>1.503</td>\n      <td>0.385569</td>\n      <td>0.166667</td>\n      <td>0.445714</td>\n      <td>0.630770</td>\n      <td>0.333333</td>\n      <td>0.048869</td>\n    </tr>\n    <tr>\n      <th>19200</th>\n      <td>POOL.OQ</td>\n      <td>2022-10-01</td>\n      <td>Retailing</td>\n      <td>4.196</td>\n      <td>4.196</td>\n      <td>0.385651</td>\n      <td>0.187500</td>\n      <td>0.472728</td>\n      <td>0.572030</td>\n      <td>0.400000</td>\n      <td>0.021178</td>\n    </tr>\n  </tbody>\n</table>\n<p>19201 rows × 11 columns</p>\n</div>"
     },
     "execution_count": 25,
     "metadata": {},
     "output_type": "execute_result"
    }
   ],
   "source": [
    "df_clean = df_panel.copy()\n",
    "df_clean"
   ],
   "metadata": {
    "collapsed": false
   }
  },
  {
   "cell_type": "code",
   "execution_count": 21,
   "outputs": [],
   "source": [
    "covid_start = pd.to_datetime(\"2020-01-01\")\n",
    "\n",
    "df_covid = df_clean[df_clean[\"Date\"] >= covid_start]\n",
    "\n",
    "df_nocovid = df_clean[df_clean[\"Date\"] < covid_start]"
   ],
   "metadata": {
    "collapsed": false
   }
  },
  {
   "cell_type": "code",
   "execution_count": 22,
   "outputs": [
    {
     "name": "stderr",
     "output_type": "stream",
     "text": [
      "C:\\Users\\alexa\\AppData\\Local\\Temp\\ipykernel_8088\\2704597447.py:1: SettingWithCopyWarning: \n",
      "A value is trying to be set on a copy of a slice from a DataFrame.\n",
      "Try using .loc[row_indexer,col_indexer] = value instead\n",
      "\n",
      "See the caveats in the documentation: https://pandas.pydata.org/pandas-docs/stable/user_guide/indexing.html#returning-a-view-versus-a-copy\n",
      "  df_covid['Instrument'] = df_covid['Instrument'].astype('category')\n",
      "C:\\Users\\alexa\\AppData\\Local\\Temp\\ipykernel_8088\\2704597447.py:2: SettingWithCopyWarning: \n",
      "A value is trying to be set on a copy of a slice from a DataFrame.\n",
      "Try using .loc[row_indexer,col_indexer] = value instead\n",
      "\n",
      "See the caveats in the documentation: https://pandas.pydata.org/pandas-docs/stable/user_guide/indexing.html#returning-a-view-versus-a-copy\n",
      "  df_covid['Date'] = pd.to_datetime(df_covid['Date'])\n"
     ]
    }
   ],
   "source": [
    "df_covid['Instrument'] = df_covid['Instrument'].astype('category')\n",
    "df_covid['Date'] = pd.to_datetime(df_covid['Date'])\n",
    "\n",
    "# set the index to be the time variable and the cross-sectional variable\n",
    "df_covid.set_index(['Instrument', 'Date'], inplace=True)"
   ],
   "metadata": {
    "collapsed": false
   }
  },
  {
   "cell_type": "code",
   "execution_count": 23,
   "outputs": [
    {
     "name": "stderr",
     "output_type": "stream",
     "text": [
      "C:\\Users\\alexa\\AppData\\Local\\Temp\\ipykernel_8088\\876088522.py:1: SettingWithCopyWarning: \n",
      "A value is trying to be set on a copy of a slice from a DataFrame.\n",
      "Try using .loc[row_indexer,col_indexer] = value instead\n",
      "\n",
      "See the caveats in the documentation: https://pandas.pydata.org/pandas-docs/stable/user_guide/indexing.html#returning-a-view-versus-a-copy\n",
      "  df_nocovid['Instrument'] = df_nocovid['Instrument'].astype('category')\n",
      "C:\\Users\\alexa\\AppData\\Local\\Temp\\ipykernel_8088\\876088522.py:2: SettingWithCopyWarning: \n",
      "A value is trying to be set on a copy of a slice from a DataFrame.\n",
      "Try using .loc[row_indexer,col_indexer] = value instead\n",
      "\n",
      "See the caveats in the documentation: https://pandas.pydata.org/pandas-docs/stable/user_guide/indexing.html#returning-a-view-versus-a-copy\n",
      "  df_nocovid['Date'] = pd.to_datetime(df_nocovid['Date'])\n"
     ]
    }
   ],
   "source": [
    "df_nocovid['Instrument'] = df_nocovid['Instrument'].astype('category')\n",
    "df_nocovid['Date'] = pd.to_datetime(df_nocovid['Date'])\n",
    "\n",
    "# set the index to be the time variable and the cross-sectional variable\n",
    "df_nocovid.set_index(['Instrument', 'Date'], inplace=True)"
   ],
   "metadata": {
    "collapsed": false
   }
  },
  {
   "cell_type": "markdown",
   "source": [
    "## COVID"
   ],
   "metadata": {
    "collapsed": false
   }
  },
  {
   "cell_type": "code",
   "execution_count": 26,
   "outputs": [
    {
     "name": "stderr",
     "output_type": "stream",
     "text": [
      "C:\\Users\\alexa\\mambaforge\\envs\\AnalystForecast\\Lib\\site-packages\\linearmodels\\panel\\model.py:1183: MissingValueWarning: \n",
      "Inputs contain missing values. Dropping rows with missing observations.\n",
      "  super().__init__(dependent, exog, weights=weights, check_rank=check_rank)\n"
     ]
    },
    {
     "data": {
      "text/plain": "<class 'linearmodels.compat.statsmodels.Summary'>\n\"\"\"\n                                       PanelOLS Estimation Summary                                        \n==========================================================================================================\nDep. Variable:     Earnings Per Share - Actual Surprise AbsVals   R-squared:                        0.0017\nEstimator:                                             PanelOLS   R-squared (Between):              0.0127\nNo. Observations:                                          5450   R-squared (Within):               0.0013\nDate:                                          Sun, Mar 05 2023   R-squared (Overall):              0.0024\nTime:                                                  20:55:19   Log-likelihood                -2.704e+04\nCov. Estimator:                                      Unadjusted                                           \n                                                                  F-statistic:                      1.6678\nEntities:                                                   501   P-value                           0.1387\nAvg Obs:                                                 10.878   Distribution:                  F(5,4934)\nMin Obs:                                                 0.0000                                           \nMax Obs:                                                 12.000   F-statistic (robust):             1.1238\n                                                                  P-value                           0.3452\nTime periods:                                                12   Distribution:                  F(5,4934)\nAvg Obs:                                                 454.17                                           \nMin Obs:                                                 444.00                                           \nMax Obs:                                                 461.00                                           \n                                                                                                          \n                                               Parameter Estimates                                               \n=================================================================================================================\n                                               Parameter  Std. Err.     T-stat    P-value    Lower CI    Upper CI\n-----------------------------------------------------------------------------------------------------------------\nEarnings Per Share – Coefficient of Variation     54.370     33.706     1.6131     0.1068     -11.708      120.45\nNumber of Analysts                               -23.119     17.427    -1.3266     0.1847     -57.283      11.045\nRecommendation - Mean (1-5)                       2.7418     37.843     0.0725     0.9422     -71.447      76.930\nRecommendation change                             2.2779     27.696     0.0822     0.9345     -52.018      56.573\nRecommendation - Mean (1-5).1                     12.233     39.534     0.3094     0.7570     -65.270      89.736\nPrice Target - Standard Deviation                 46.260     38.471     1.2025     0.2292     -29.161      121.68\n=================================================================================================================\n\nF-test for Poolability: 5.0717\nP-value: 0.0000\nDistribution: F(510,4934)\n\nIncluded effects: Entity, Time\n\"\"\"",
      "text/html": "<table class=\"simpletable\">\n<caption>PanelOLS Estimation Summary</caption>\n<tr>\n  <th>Dep. Variable:</th>    <td>Earnings Per Share - Actual Surprise AbsVals</td> <th>  R-squared:         </th>     <td>0.0017</td>  \n</tr>\n<tr>\n  <th>Estimator:</th>                          <td>PanelOLS</td>                   <th>  R-squared (Between):</th>    <td>0.0127</td>  \n</tr>\n<tr>\n  <th>No. Observations:</th>                     <td>5450</td>                     <th>  R-squared (Within):</th>     <td>0.0013</td>  \n</tr>\n<tr>\n  <th>Date:</th>                           <td>Sun, Mar 05 2023</td>               <th>  R-squared (Overall):</th>    <td>0.0024</td>  \n</tr>\n<tr>\n  <th>Time:</th>                               <td>20:55:19</td>                   <th>  Log-likelihood     </th>   <td>-2.704e+04</td>\n</tr>\n<tr>\n  <th>Cov. Estimator:</th>                    <td>Unadjusted</td>                  <th>                     </th>        <td></td>     \n</tr>\n<tr>\n  <th></th>                                        <td></td>                       <th>  F-statistic:       </th>     <td>1.6678</td>  \n</tr>\n<tr>\n  <th>Entities:</th>                              <td>501</td>                     <th>  P-value            </th>     <td>0.1387</td>  \n</tr>\n<tr>\n  <th>Avg Obs:</th>                             <td>10.878</td>                    <th>  Distribution:      </th>    <td>F(5,4934)</td>\n</tr>\n<tr>\n  <th>Min Obs:</th>                             <td>0.0000</td>                    <th>                     </th>        <td></td>     \n</tr>\n<tr>\n  <th>Max Obs:</th>                             <td>12.000</td>                    <th>  F-statistic (robust):</th>   <td>1.1238</td>  \n</tr>\n<tr>\n  <th></th>                                        <td></td>                       <th>  P-value            </th>     <td>0.3452</td>  \n</tr>\n<tr>\n  <th>Time periods:</th>                          <td>12</td>                      <th>  Distribution:      </th>    <td>F(5,4934)</td>\n</tr>\n<tr>\n  <th>Avg Obs:</th>                             <td>454.17</td>                    <th>                     </th>        <td></td>     \n</tr>\n<tr>\n  <th>Min Obs:</th>                             <td>444.00</td>                    <th>                     </th>        <td></td>     \n</tr>\n<tr>\n  <th>Max Obs:</th>                             <td>461.00</td>                    <th>                     </th>        <td></td>     \n</tr>\n<tr>\n  <th></th>                                        <td></td>                       <th>                     </th>        <td></td>     \n</tr>\n</table>\n<table class=\"simpletable\">\n<caption>Parameter Estimates</caption>\n<tr>\n                        <td></td>                        <th>Parameter</th> <th>Std. Err.</th> <th>T-stat</th>  <th>P-value</th> <th>Lower CI</th> <th>Upper CI</th>\n</tr>\n<tr>\n  <th>Earnings Per Share – Coefficient of Variation</th>  <td>54.370</td>    <td>33.706</td>   <td>1.6131</td>  <td>0.1068</td>   <td>-11.708</td>  <td>120.45</td> \n</tr>\n<tr>\n  <th>Number of Analysts</th>                             <td>-23.119</td>   <td>17.427</td>   <td>-1.3266</td> <td>0.1847</td>   <td>-57.283</td>  <td>11.045</td> \n</tr>\n<tr>\n  <th>Recommendation - Mean (1-5)</th>                    <td>2.7418</td>    <td>37.843</td>   <td>0.0725</td>  <td>0.9422</td>   <td>-71.447</td>  <td>76.930</td> \n</tr>\n<tr>\n  <th>Recommendation change</th>                          <td>2.2779</td>    <td>27.696</td>   <td>0.0822</td>  <td>0.9345</td>   <td>-52.018</td>  <td>56.573</td> \n</tr>\n<tr>\n  <th>Recommendation - Mean (1-5).1</th>                  <td>12.233</td>    <td>39.534</td>   <td>0.3094</td>  <td>0.7570</td>   <td>-65.270</td>  <td>89.736</td> \n</tr>\n<tr>\n  <th>Price Target - Standard Deviation</th>              <td>46.260</td>    <td>38.471</td>   <td>1.2025</td>  <td>0.2292</td>   <td>-29.161</td>  <td>121.68</td> \n</tr>\n</table><br/><br/>F-test for Poolability: 5.0717<br/>P-value: 0.0000<br/>Distribution: F(510,4934)<br/><br/>Included effects: Entity, Time"
     },
     "execution_count": 26,
     "metadata": {},
     "output_type": "execute_result"
    }
   ],
   "source": [
    "y = df_covid.loc[:, \"Earnings Per Share - Actual Surprise AbsVals\"]\n",
    "X = df_covid.loc[:, \"Earnings Per Share – Coefficient of Variation\":]\n",
    "\n",
    "# perform the fixed effects panel regression\n",
    "fixed_effects_model = PanelOLS(y, X, entity_effects=True, time_effects=True)\n",
    "\n",
    "# fit the model and print the summary statistics\n",
    "fixed_effects_results = fixed_effects_model.fit()\n",
    "fixed_effects_results.summary\n"
   ],
   "metadata": {
    "collapsed": false
   }
  },
  {
   "cell_type": "code",
   "execution_count": 27,
   "outputs": [
    {
     "name": "stderr",
     "output_type": "stream",
     "text": [
      "C:\\Users\\alexa\\mambaforge\\envs\\AnalystForecast\\Lib\\site-packages\\linearmodels\\panel\\model.py:1183: MissingValueWarning: \n",
      "Inputs contain missing values. Dropping rows with missing observations.\n",
      "  super().__init__(dependent, exog, weights=weights, check_rank=check_rank)\n"
     ]
    },
    {
     "data": {
      "text/plain": "<class 'linearmodels.compat.statsmodels.Summary'>\n\"\"\"\n                                       PanelOLS Estimation Summary                                        \n==========================================================================================================\nDep. Variable:     Earnings Per Share - Actual Surprise AbsVals   R-squared:                        0.0017\nEstimator:                                             PanelOLS   R-squared (Between):             -0.0134\nNo. Observations:                                         12758   R-squared (Within):               0.0018\nDate:                                          Sun, Mar 05 2023   R-squared (Overall):             -0.0026\nTime:                                                  20:55:34   Log-likelihood                -6.055e+04\nCov. Estimator:                                      Unadjusted                                           \n                                                                  F-statistic:                      4.0907\nEntities:                                                   498   P-value                           0.0010\nAvg Obs:                                                 25.618   Distribution:                 F(5,12266)\nMin Obs:                                                 0.0000                                           \nMax Obs:                                                 28.000   F-statistic (robust):             4.7537\n                                                                  P-value                           0.0002\nTime periods:                                                28   Distribution:                 F(5,12266)\nAvg Obs:                                                 455.64                                           \nMin Obs:                                                 447.00                                           \nMax Obs:                                                 461.00                                           \n                                                                                                          \n                                               Parameter Estimates                                               \n=================================================================================================================\n                                               Parameter  Std. Err.     T-stat    P-value    Lower CI    Upper CI\n-----------------------------------------------------------------------------------------------------------------\nEarnings Per Share – Coefficient of Variation    -11.749     25.287    -0.4646     0.6422     -61.314      37.817\nNumber of Analysts                               -0.7158     5.6077    -0.1276     0.8984     -11.708      10.276\nRecommendation - Mean (1-5)                      -30.996     24.025    -1.2902     0.1970     -78.088      16.096\nRecommendation change                             23.180     18.727     1.2378     0.2158     -13.528      59.888\nRecommendation - Mean (1-5).1                     49.272     26.264     1.8760     0.0607     -2.2107      100.75\nPrice Target - Standard Deviation                -16.766     41.889    -0.4003     0.6890     -98.874      65.342\n=================================================================================================================\n\nF-test for Poolability: 9.9894\nP-value: 0.0000\nDistribution: F(486,12266)\n\nIncluded effects: Entity, Time\n\"\"\"",
      "text/html": "<table class=\"simpletable\">\n<caption>PanelOLS Estimation Summary</caption>\n<tr>\n  <th>Dep. Variable:</th>    <td>Earnings Per Share - Actual Surprise AbsVals</td> <th>  R-squared:         </th>     <td>0.0017</td>  \n</tr>\n<tr>\n  <th>Estimator:</th>                          <td>PanelOLS</td>                   <th>  R-squared (Between):</th>    <td>-0.0134</td> \n</tr>\n<tr>\n  <th>No. Observations:</th>                     <td>12758</td>                    <th>  R-squared (Within):</th>     <td>0.0018</td>  \n</tr>\n<tr>\n  <th>Date:</th>                           <td>Sun, Mar 05 2023</td>               <th>  R-squared (Overall):</th>    <td>-0.0026</td> \n</tr>\n<tr>\n  <th>Time:</th>                               <td>20:55:34</td>                   <th>  Log-likelihood     </th>   <td>-6.055e+04</td>\n</tr>\n<tr>\n  <th>Cov. Estimator:</th>                    <td>Unadjusted</td>                  <th>                     </th>        <td></td>     \n</tr>\n<tr>\n  <th></th>                                        <td></td>                       <th>  F-statistic:       </th>     <td>4.0907</td>  \n</tr>\n<tr>\n  <th>Entities:</th>                              <td>498</td>                     <th>  P-value            </th>     <td>0.0010</td>  \n</tr>\n<tr>\n  <th>Avg Obs:</th>                             <td>25.618</td>                    <th>  Distribution:      </th>   <td>F(5,12266)</td>\n</tr>\n<tr>\n  <th>Min Obs:</th>                             <td>0.0000</td>                    <th>                     </th>        <td></td>     \n</tr>\n<tr>\n  <th>Max Obs:</th>                             <td>28.000</td>                    <th>  F-statistic (robust):</th>   <td>4.7537</td>  \n</tr>\n<tr>\n  <th></th>                                        <td></td>                       <th>  P-value            </th>     <td>0.0002</td>  \n</tr>\n<tr>\n  <th>Time periods:</th>                          <td>28</td>                      <th>  Distribution:      </th>   <td>F(5,12266)</td>\n</tr>\n<tr>\n  <th>Avg Obs:</th>                             <td>455.64</td>                    <th>                     </th>        <td></td>     \n</tr>\n<tr>\n  <th>Min Obs:</th>                             <td>447.00</td>                    <th>                     </th>        <td></td>     \n</tr>\n<tr>\n  <th>Max Obs:</th>                             <td>461.00</td>                    <th>                     </th>        <td></td>     \n</tr>\n<tr>\n  <th></th>                                        <td></td>                       <th>                     </th>        <td></td>     \n</tr>\n</table>\n<table class=\"simpletable\">\n<caption>Parameter Estimates</caption>\n<tr>\n                        <td></td>                        <th>Parameter</th> <th>Std. Err.</th> <th>T-stat</th>  <th>P-value</th> <th>Lower CI</th> <th>Upper CI</th>\n</tr>\n<tr>\n  <th>Earnings Per Share – Coefficient of Variation</th>  <td>-11.749</td>   <td>25.287</td>   <td>-0.4646</td> <td>0.6422</td>   <td>-61.314</td>  <td>37.817</td> \n</tr>\n<tr>\n  <th>Number of Analysts</th>                             <td>-0.7158</td>   <td>5.6077</td>   <td>-0.1276</td> <td>0.8984</td>   <td>-11.708</td>  <td>10.276</td> \n</tr>\n<tr>\n  <th>Recommendation - Mean (1-5)</th>                    <td>-30.996</td>   <td>24.025</td>   <td>-1.2902</td> <td>0.1970</td>   <td>-78.088</td>  <td>16.096</td> \n</tr>\n<tr>\n  <th>Recommendation change</th>                          <td>23.180</td>    <td>18.727</td>   <td>1.2378</td>  <td>0.2158</td>   <td>-13.528</td>  <td>59.888</td> \n</tr>\n<tr>\n  <th>Recommendation - Mean (1-5).1</th>                  <td>49.272</td>    <td>26.264</td>   <td>1.8760</td>  <td>0.0607</td>   <td>-2.2107</td>  <td>100.75</td> \n</tr>\n<tr>\n  <th>Price Target - Standard Deviation</th>              <td>-16.766</td>   <td>41.889</td>   <td>-0.4003</td> <td>0.6890</td>   <td>-98.874</td>  <td>65.342</td> \n</tr>\n</table><br/><br/>F-test for Poolability: 9.9894<br/>P-value: 0.0000<br/>Distribution: F(486,12266)<br/><br/>Included effects: Entity, Time"
     },
     "execution_count": 27,
     "metadata": {},
     "output_type": "execute_result"
    }
   ],
   "source": [
    "y = df_nocovid.loc[:, \"Earnings Per Share - Actual Surprise AbsVals\"]\n",
    "X = df_nocovid.loc[:, \"Earnings Per Share – Coefficient of Variation\":]\n",
    "\n",
    "# perform the fixed effects panel regression\n",
    "fixed_effects_model = PanelOLS(y, X, entity_effects=True, time_effects=True)\n",
    "\n",
    "# fit the model and print the summary statistics\n",
    "fixed_effects_results = fixed_effects_model.fit()\n",
    "fixed_effects_results.summary\n"
   ],
   "metadata": {
    "collapsed": false
   }
  },
  {
   "cell_type": "code",
   "execution_count": null,
   "outputs": [],
   "source": [],
   "metadata": {
    "collapsed": false
   }
  },
  {
   "cell_type": "markdown",
   "source": [
    "### Based on these results we can conclude that Analyst factors are a bad indicator for prediction"
   ],
   "metadata": {
    "collapsed": false
   }
  },
  {
   "cell_type": "code",
   "execution_count": null,
   "outputs": [],
   "source": [],
   "metadata": {
    "collapsed": false
   }
  }
 ],
 "metadata": {
  "kernelspec": {
   "display_name": "AnalystForecast",
   "language": "python",
   "name": "python3"
  },
  "language_info": {
   "codemirror_mode": {
    "name": "ipython",
    "version": 3
   },
   "file_extension": ".py",
   "mimetype": "text/x-python",
   "name": "python",
   "nbconvert_exporter": "python",
   "pygments_lexer": "ipython3",
   "version": "3.11.0"
  },
  "orig_nbformat": 4,
  "vscode": {
   "interpreter": {
    "hash": "264d128b47a19451ae7876f5ee246d3f7de9751940a5ebe47f15ec6626e5a91f"
   }
  }
 },
 "nbformat": 4,
 "nbformat_minor": 2
}
